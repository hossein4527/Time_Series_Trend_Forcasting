{
 "cells": [
  {
   "cell_type": "code",
   "execution_count": 1,
   "id": "09795e4c-9703-4ee4-b2c0-ba0a9a9ab0e1",
   "metadata": {},
   "outputs": [],
   "source": [
    "import pandas as pd\n",
    "import matplotlib.pyplot as plt"
   ]
  },
  {
   "cell_type": "code",
   "execution_count": 2,
   "id": "fc7de44e-6f58-45fe-8de0-ef23bdfb65d2",
   "metadata": {},
   "outputs": [],
   "source": [
    "from ned import VG_Modules_Model1, VG_Modules_Model2"
   ]
  },
  {
   "cell_type": "code",
   "execution_count": 3,
   "id": "74d54f6e-cc0d-495f-90f7-41595bfd8d3d",
   "metadata": {},
   "outputs": [],
   "source": [
    "tehran_index = pd.read_excel('../Data/Tehran_Indexes_Price_NoRegime.xlsx').set_index('date')"
   ]
  },
  {
   "cell_type": "code",
   "execution_count": 4,
   "id": "dab60d75-59c6-4b98-b6a3-55acac5b477b",
   "metadata": {},
   "outputs": [],
   "source": [
    "tehran_df_reg = pd.read_excel('../Data/Tehran_Indexes_NormedReturned_Regimed.xlsx').set_index('date')"
   ]
  },
  {
   "cell_type": "code",
   "execution_count": 5,
   "id": "85072730-a535-4e0c-8eae-78bf22511f4b",
   "metadata": {},
   "outputs": [],
   "source": [
    "# tehran_df = pd.read_excel('../Data/Tehran_Indexes_NormedReturned_Regimed.xlsx').set_index('date')"
   ]
  },
  {
   "cell_type": "code",
   "execution_count": 6,
   "id": "fde41873-277e-4f13-b29d-8b3c3ec711a0",
   "metadata": {},
   "outputs": [],
   "source": [
    "# tehran_index = pd.read_excel('../Data/Tehran_Indexes_Price_NoRegime.xlsx').set_index('date')"
   ]
  },
  {
   "cell_type": "code",
   "execution_count": 12,
   "id": "4e270192-9727-4019-925c-feffa9c16750",
   "metadata": {},
   "outputs": [],
   "source": [
    "snp500_index = pd.read_excel('../Data/S&P500_Index.xlsx').set_index('Date')['Close*'].values"
   ]
  },
  {
   "cell_type": "code",
   "execution_count": 13,
   "id": "6d8ed27a-0bbf-4e56-a154-675307f9163f",
   "metadata": {},
   "outputs": [],
   "source": [
    "snp500_df = pd.read_excel('../Data/S&P500_Index_regimed.xlsx').set_index('Date')"
   ]
  },
  {
   "cell_type": "code",
   "execution_count": 14,
   "id": "03bfd326-a19d-44e2-9550-128ab9a6e326",
   "metadata": {},
   "outputs": [],
   "source": [
    "ts_price_selected = snp500_index[-500:]\n",
    "ts_df_selected = snp500_df[-500:]"
   ]
  },
  {
   "cell_type": "markdown",
   "id": "e0ae2021-9142-4a37-aaa1-286257df120e",
   "metadata": {
    "jp-MarkdownHeadingCollapsed": true,
    "tags": []
   },
   "source": [
    "# Forcasting Model One"
   ]
  },
  {
   "cell_type": "markdown",
   "id": "52785833-4f8a-4de5-bfec-c48601eb6e1e",
   "metadata": {
    "tags": []
   },
   "source": [
    "## Usual Model One"
   ]
  },
  {
   "cell_type": "code",
   "execution_count": 15,
   "id": "3eaa99e8-1a9c-4120-870e-02ab26be75b7",
   "metadata": {},
   "outputs": [
    {
     "name": "stderr",
     "output_type": "stream",
     "text": [
      "/Users/hossein4527/MEGA/MEGAsync/Commit/Neda_PhD/neda_sep2023/Time_Series_Trend_Forcasting/Codes/ned.py:22: FutureWarning: adjacency_matrix will return a scipy.sparse array instead of a matrix in Networkx 3.0.\n",
      "  adj_matrix = np.array(adjacency_matrix(G).todense())\n"
     ]
    },
    {
     "data": {
      "text/plain": [
       "0.03451873542876556"
      ]
     },
     "execution_count": 15,
     "metadata": {},
     "output_type": "execute_result"
    }
   ],
   "source": [
    "VG1 = VG_Modules_Model1()\n",
    "tehran_tedpix_price_forcasted_model1 = VG1.ts_forcast_model1(ts_price_selected)\n",
    "errors_model1 = VG1.error_bars(ts_price_selected, tehran_tedpix_price_forcasted_model1)\n",
    "errors_model1[1]"
   ]
  },
  {
   "cell_type": "markdown",
   "id": "07215aff-616c-45b8-b662-6a5c397d500a",
   "metadata": {},
   "source": [
    "## Based on 3 Regimed"
   ]
  },
  {
   "cell_type": "code",
   "execution_count": 16,
   "id": "7866b98e-85a5-447f-8240-975615eff79a",
   "metadata": {},
   "outputs": [
    {
     "name": "stderr",
     "output_type": "stream",
     "text": [
      "/Users/hossein4527/MEGA/MEGAsync/Commit/Neda_PhD/neda_sep2023/Time_Series_Trend_Forcasting/Codes/ned.py:54: FutureWarning: adjacency_matrix will return a scipy.sparse array instead of a matrix in Networkx 3.0.\n",
      "  adj_matrix = np.array(adjacency_matrix(G).todense())\n"
     ]
    },
    {
     "data": {
      "text/plain": [
       "0.03306959689048757"
      ]
     },
     "execution_count": 16,
     "metadata": {},
     "output_type": "execute_result"
    }
   ],
   "source": [
    "tehran_tedpix_price_forcasted_model1_3Regimed = VG1.ts_forcast_3Regimed_model1(ts_price_selected, ts_df_selected)\n",
    "errors_model1_3Regimed = VG1.error_bars(ts_price_selected, tehran_tedpix_price_forcasted_model1_3Regimed)\n",
    "errors_model1_3Regimed[1]"
   ]
  },
  {
   "cell_type": "markdown",
   "id": "d63cbc22-00a0-4e39-82d8-0783bc316458",
   "metadata": {
    "jp-MarkdownHeadingCollapsed": true,
    "tags": []
   },
   "source": [
    "# Forcasting Model Two"
   ]
  },
  {
   "cell_type": "code",
   "execution_count": 21,
   "id": "016c566e-753c-47b8-b347-525a1be90270",
   "metadata": {},
   "outputs": [
    {
     "data": {
      "text/plain": [
       "0.03417300021495113"
      ]
     },
     "execution_count": 21,
     "metadata": {},
     "output_type": "execute_result"
    }
   ],
   "source": [
    "VG2 = VG_Modules_Model2()\n",
    "tehran_tedpix_price_forcasted_model2 = VG2.ts_forcast_model2_weighted(ts_price_selected)\n",
    "errors_model2 = VG2.error_bars(ts_price_selected, tehran_tedpix_price_forcasted_model2)\n",
    "errors_model2[1]"
   ]
  },
  {
   "cell_type": "markdown",
   "id": "57f40652-2ac0-425f-a4f4-3dd18883e958",
   "metadata": {},
   "source": [
    "## Based on 3 Regimed"
   ]
  },
  {
   "cell_type": "code",
   "execution_count": 22,
   "id": "5661005a-9138-4b34-9500-568fd0b7f339",
   "metadata": {},
   "outputs": [
    {
     "data": {
      "text/plain": [
       "0.03306959689048757"
      ]
     },
     "execution_count": 22,
     "metadata": {},
     "output_type": "execute_result"
    }
   ],
   "source": [
    "tehran_tedpix_price_forcasted_model2 = VG2.ts_forcast_3Regimed_model2_weighted(ts_price_selected, ts_df_selected)\n",
    "errors_model2 = VG2.error_bars(ts_price_selected, tehran_tedpix_price_forcasted_model2)\n",
    "errors_model2[1]"
   ]
  },
  {
   "cell_type": "code",
   "execution_count": 23,
   "id": "86f9d64c-b342-4b99-bf7d-e145edca7985",
   "metadata": {},
   "outputs": [
    {
     "ename": "TypeError",
     "evalue": "unsupported operand type(s) for -: 'str' and 'str'",
     "output_type": "error",
     "traceback": [
      "\u001b[0;31m---------------------------------------------------------------------------\u001b[0m",
      "\u001b[0;31mTypeError\u001b[0m                                 Traceback (most recent call last)",
      "Cell \u001b[0;32mIn [23], line 1\u001b[0m\n\u001b[0;32m----> 1\u001b[0m tehran_tedpix_price_forcasted_model2 \u001b[38;5;241m=\u001b[39m \u001b[43mVG2\u001b[49m\u001b[38;5;241;43m.\u001b[39;49m\u001b[43mts_forcast_3Regimed_weighted_compact\u001b[49m\u001b[43m(\u001b[49m\u001b[43mts_price_selected\u001b[49m\u001b[43m,\u001b[49m\u001b[43m \u001b[49m\u001b[43mts_df_selected\u001b[49m\u001b[43m)\u001b[49m\n\u001b[1;32m      2\u001b[0m errors_model2 \u001b[38;5;241m=\u001b[39m VG2\u001b[38;5;241m.\u001b[39merror_bars(ts_price_selected, tehran_tedpix_price_forcasted_model2)\n\u001b[1;32m      3\u001b[0m errors_model2[\u001b[38;5;241m1\u001b[39m]\n",
      "File \u001b[0;32m~/MEGA/MEGAsync/Commit/Neda_PhD/neda_sep2023/Time_Series_Trend_Forcasting/Codes/ned.py:317\u001b[0m, in \u001b[0;36mVG_Modules_Model2.ts_forcast_3Regimed_weighted_compact\u001b[0;34m(self, df, time_serie)\u001b[0m\n\u001b[1;32m    316\u001b[0m \u001b[38;5;28;01mdef\u001b[39;00m \u001b[38;5;21mts_forcast_3Regimed_weighted_compact\u001b[39m(\u001b[38;5;28mself\u001b[39m, df , time_serie):\n\u001b[0;32m--> 317\u001b[0m     s_srw \u001b[38;5;241m=\u001b[39m \u001b[38;5;28;43mself\u001b[39;49m\u001b[38;5;241;43m.\u001b[39;49m\u001b[43mmost_similarity_matrix\u001b[49m\u001b[43m(\u001b[49m\u001b[43mtime_serie\u001b[49m\u001b[43m,\u001b[49m\u001b[43m \u001b[49m\u001b[43mT\u001b[49m\u001b[38;5;241;43m=\u001b[39;49m\u001b[38;5;241;43m20\u001b[39;49m\u001b[43m,\u001b[49m\u001b[43mtp\u001b[49m\u001b[38;5;241;43m=\u001b[39;49m\u001b[38;5;241;43m50\u001b[39;49m\u001b[43m)\u001b[49m\n\u001b[1;32m    318\u001b[0m     sum_s \u001b[38;5;241m=\u001b[39m s_srw\u001b[38;5;241m.\u001b[39msum(axis\u001b[38;5;241m=\u001b[39m\u001b[38;5;241m1\u001b[39m)\n\u001b[1;32m    319\u001b[0m     sum_s[sum_s \u001b[38;5;241m==\u001b[39m \u001b[38;5;241m0\u001b[39m] \u001b[38;5;241m=\u001b[39m np\u001b[38;5;241m.\u001b[39minf\n",
      "File \u001b[0;32m~/MEGA/MEGAsync/Commit/Neda_PhD/neda_sep2023/Time_Series_Trend_Forcasting/Codes/ned.py:269\u001b[0m, in \u001b[0;36mVG_Modules_Model2.most_similarity_matrix\u001b[0;34m(self, time_series, T, tp)\u001b[0m\n\u001b[1;32m    268\u001b[0m \u001b[38;5;28;01mdef\u001b[39;00m \u001b[38;5;21mmost_similarity_matrix\u001b[39m(\u001b[38;5;28mself\u001b[39m,time_series, T\u001b[38;5;241m=\u001b[39m\u001b[38;5;241m20\u001b[39m, tp\u001b[38;5;241m=\u001b[39m\u001b[38;5;241m50\u001b[39m):\n\u001b[0;32m--> 269\u001b[0m     G \u001b[38;5;241m=\u001b[39m \u001b[43mvisibility_graph\u001b[49m\u001b[43m(\u001b[49m\u001b[43mtime_series\u001b[49m\u001b[43m)\u001b[49m\n\u001b[1;32m    270\u001b[0m     adj_matrix \u001b[38;5;241m=\u001b[39m np\u001b[38;5;241m.\u001b[39marray(adjacency_matrix(G)\u001b[38;5;241m.\u001b[39mtodense())\n\u001b[1;32m    271\u001b[0m     E \u001b[38;5;241m=\u001b[39m G\u001b[38;5;241m.\u001b[39mnumber_of_edges()\n",
      "File \u001b[0;32m/Library/Frameworks/Python.framework/Versions/3.11/lib/python3.11/site-packages/visibility_graph/__init__.py:35\u001b[0m, in \u001b[0;36mvisibility_graph\u001b[0;34m(series)\u001b[0m\n\u001b[1;32m     31\u001b[0m \u001b[38;5;28;01mfor\u001b[39;00m tc, yc \u001b[38;5;129;01min\u001b[39;00m tseries[ta:tb]:\n\u001b[1;32m     32\u001b[0m     \u001b[38;5;66;03m# other points, not a or b\u001b[39;00m\n\u001b[1;32m     33\u001b[0m     \u001b[38;5;28;01mif\u001b[39;00m tc \u001b[38;5;241m!=\u001b[39m ta \u001b[38;5;129;01mand\u001b[39;00m tc \u001b[38;5;241m!=\u001b[39m tb:\n\u001b[1;32m     34\u001b[0m         \u001b[38;5;66;03m# does c obstruct?\u001b[39;00m\n\u001b[0;32m---> 35\u001b[0m         \u001b[38;5;28;01mif\u001b[39;00m yc \u001b[38;5;241m>\u001b[39m yb \u001b[38;5;241m+\u001b[39m (\u001b[43mya\u001b[49m\u001b[43m \u001b[49m\u001b[38;5;241;43m-\u001b[39;49m\u001b[43m \u001b[49m\u001b[43myb\u001b[49m) \u001b[38;5;241m*\u001b[39m ( (tb \u001b[38;5;241m-\u001b[39m tc) \u001b[38;5;241m/\u001b[39m (tb \u001b[38;5;241m-\u001b[39m ta) ):\n\u001b[1;32m     36\u001b[0m             connect \u001b[38;5;241m=\u001b[39m \u001b[38;5;28;01mFalse\u001b[39;00m\n\u001b[1;32m     38\u001b[0m \u001b[38;5;28;01mif\u001b[39;00m connect:\n",
      "\u001b[0;31mTypeError\u001b[0m: unsupported operand type(s) for -: 'str' and 'str'"
     ]
    }
   ],
   "source": [
    "tehran_tedpix_price_forcasted_model2 = VG2.ts_forcast_3Regimed_weighted_compact(ts_price_selected, ts_df_selected)\n",
    "errors_model2 = VG2.error_bars(ts_price_selected, tehran_tedpix_price_forcasted_model2)\n",
    "errors_model2[1]"
   ]
  },
  {
   "cell_type": "code",
   "execution_count": null,
   "id": "72f82cbf-b858-427a-9d90-387bbc8b10ac",
   "metadata": {},
   "outputs": [],
   "source": []
  },
  {
   "cell_type": "code",
   "execution_count": 20,
   "id": "7b784c9a-820d-4c52-86d7-4506d3a4dffb",
   "metadata": {},
   "outputs": [
    {
     "ename": "NameError",
     "evalue": "name 'ts_forcast_3Regimed_weighted_compact' is not defined",
     "output_type": "error",
     "traceback": [
      "\u001b[0;31m---------------------------------------------------------------------------\u001b[0m",
      "\u001b[0;31mNameError\u001b[0m                                 Traceback (most recent call last)",
      "Cell \u001b[0;32mIn [20], line 1\u001b[0m\n\u001b[0;32m----> 1\u001b[0m \u001b[43mts_forcast_3Regimed_weighted_compact\u001b[49m\n",
      "\u001b[0;31mNameError\u001b[0m: name 'ts_forcast_3Regimed_weighted_compact' is not defined"
     ]
    }
   ],
   "source": [
    "ts_forcast_3Regimed_weighted_compact"
   ]
  },
  {
   "cell_type": "markdown",
   "id": "69d45840-f1f0-4387-b776-633c8a920a23",
   "metadata": {},
   "source": [
    "# Forcasting Model Three"
   ]
  },
  {
   "cell_type": "code",
   "execution_count": 24,
   "id": "761639ae-4cb5-4252-86bd-f83484c42d66",
   "metadata": {},
   "outputs": [],
   "source": [
    "import pandas as pd\n",
    "import matplotlib.pyplot as plt\n",
    "import networkx as nx\n",
    "import numpy as np\n",
    "from networkx.linalg.graphmatrix import adjacency_matrix\n",
    "import math\n",
    "from visibility_graph import visibility_graph"
   ]
  },
  {
   "cell_type": "code",
   "execution_count": 25,
   "id": "1f81fd04-6ade-4dab-b9f0-5011fb0d05e4",
   "metadata": {},
   "outputs": [],
   "source": [
    "def ts_forcast(df , time_serie):\n",
    "    G = visibility_graph(time_series)\n",
    "    adj_matrix = np.array(adjacency_matrix(G).todense())\n",
    "    E = G.number_of_edges()\n",
    "    k = adj_matrix.sum(1)\n",
    "    P = adj_matrix/k\n",
    "    n = k.shape[0]\n",
    "    s_srw = np.zeros((n,n))\n",
    "    pi = np.diag(np.ones(n))\n",
    "    for t in range(T):\n",
    "        pi = P@pi\n",
    "        s_srw += (k*pi+k.T*pi.T)/(2*E)\n",
    "    if tp != 0:\n",
    "        triup = np.triu(s_srw,k=-tp)\n",
    "        triup[triup != 0] = 1\n",
    "        s_srw = np.tril(s_srw,k=-1) * triup\n",
    "        \n",
    "    sum_s = s_srw.sum(axis=1)\n",
    "    sum_s[sum_s == 0] = np.inf\n",
    "    ws_m = (s_srw.T/sum_s).T\n",
    "    ws = np.zeros((ws_m.shape[0], tp))\n",
    "\n",
    "    srw = s_srw\n",
    "    indx = []\n",
    "    rg_3 = []\n",
    "    ms_reg = []\n",
    "    total_y_indexs = []\n",
    "    total_y_srws = []\n",
    "    tp = 50\n",
    "    for k in range(len(srw)):\n",
    "        total_y_indexs.append([])\n",
    "        total_y_srws.append([])\n",
    "        indx.append([])\n",
    "        # indx[-1].append(0)\n",
    "        rg_3.append([])\n",
    "        rg_3[-1].append(df.iloc[k]['3_regime_index'])\n",
    "        for i in range(tp):\n",
    "            indx[-1].append(np.where(srw[k] == np.sort(srw[k])[::-1][:tp][i])[0][0])\n",
    "            rg_3[-1].append(df.iloc[indx[-1][-1]]['3_regime_index'])\n",
    "\n",
    "        if rg_3[k][0] != 2:\n",
    "            same_reg = np.where(rg_3[k]==rg_3[k][0])[0]\n",
    "            turn_points = np.where(np.array(rg_3[k])==2)[0]\n",
    "            num_same_regime = len(same_reg)\n",
    "            num_turn_ponits = len(turn_points)\n",
    "            indx_same = np.array(indx[k])[list(same_reg[1:]-1)]\n",
    "            indx_2 = np.array(indx[k])[list(turn_points-1)]\n",
    "            total_y_indexs[-1].append(np.concatenate((indx_same,indx_2), axis=0))\n",
    "            srw[k][indx_2] *= num_turn_ponits\n",
    "            srw[k][indx_same] *= num_same_regime\n",
    "            ssr = srw[k][total_y_indexs[-1]]\n",
    "\n",
    "\n",
    "            total_y_srws[-1].append(ssr[0]/sum(ssr[0]))\n",
    "\n",
    "        if rg_3[k][0] == 2:\n",
    "            same_reg = np.where(rg_3[k]==rg_3[k][0])[0]\n",
    "            other_points = np.where(np.array(rg_3[k])!=2)[0]\n",
    "            num_same_regime = len(same_reg)\n",
    "            num_turn_ponits = len(other_points)\n",
    "            indx_same = np.array(indx[k])[list(same_reg[1:]-1)]\n",
    "            indx_2 = np.array(indx[k])[list(other_points-1)]\n",
    "            total_y_indexs[-1].append(np.concatenate((indx_same,indx_2), axis=0))\n",
    "\n",
    "            srw[k][indx_2] *= num_turn_ponits\n",
    "            srw[k][indx_same] *= num_same_regime \n",
    "\n",
    "            ssr = srw[k][total_y_indexs[-1]]\n",
    "            # ssr_0 , ssr_1 = np.unique(ssr[0], return_index=True)\n",
    "            # ssr = ssr_0[np.argsort(ssr_1)]\n",
    "            # ssr = ssr[ssr!=0]\n",
    "            # total_y_indexs = total_y_indexs[np.argsort(ssr_1)]\n",
    "\n",
    "            total_y_srws[-1].append(ssr[0]/sum(ssr[0]))\n",
    "\n",
    "\n",
    "    start_point = 31\n",
    "    forcast_ts = np.zeros_like(time_serie)\n",
    "    forcast_ts[:start_point] = time_serie[:start_point]\n",
    "    for i in range(start_point-1,time_serie.shape[0]-1):\n",
    "        y = time_serie[i]+(time_serie[i]-time_serie[total_y_indexs[i][0]])/(i-total_y_indexs[i][0])\n",
    "        forcast_ts[i+1]=(total_y_srws[i]*y).sum()\n",
    "\n",
    "    return forcast_ts"
   ]
  },
  {
   "cell_type": "code",
   "execution_count": 26,
   "id": "cd305e2a-ddcf-46ec-92b1-ce5edc647804",
   "metadata": {},
   "outputs": [],
   "source": [
    "time_series = tehran_index[tehran_index.columns[0]][-500:]\n",
    "T = 30\n",
    "tp = 30"
   ]
  },
  {
   "cell_type": "code",
   "execution_count": 73,
   "id": "c3276ae9-d81e-4403-80e9-75338f0e5ba4",
   "metadata": {
    "tags": []
   },
   "outputs": [
    {
     "name": "stderr",
     "output_type": "stream",
     "text": [
      "/var/folders/mj/xw3m0dws3yq8j2md9n8j3g940000gn/T/ipykernel_835/2362704917.py:2: FutureWarning: adjacency_matrix will return a scipy.sparse array instead of a matrix in Networkx 3.0.\n",
      "  adj_matrix = np.array(adjacency_matrix(G).todense())\n"
     ]
    }
   ],
   "source": [
    "G = visibility_graph(ts_price_selected)\n",
    "adj_matrix = np.array(adjacency_matrix(G).todense())\n",
    "E = G.number_of_edges()\n",
    "k = adj_matrix.sum(1)\n",
    "P = adj_matrix/k\n",
    "n = k.shape[0]\n",
    "s_srw = np.zeros((n,n))\n",
    "pi = np.diag(np.ones(n))\n",
    "for t in range(T):\n",
    "    pi = P@pi\n",
    "    s_srw += (k*pi+k.T*pi.T)/(2*E)\n",
    "if tp != 0:\n",
    "    triup = np.triu(s_srw,k=-tp)\n",
    "    triup[triup != 0] = 1\n",
    "    s_srw = np.tril(s_srw,k=-1) * triup\n",
    "\n",
    "sum_s = s_srw.sum(axis = 1)\n",
    "sum_s[sum_s == 0] = np.inf\n",
    "ws_m = (s_srw.T/sum_s).T\n",
    "ws = np.zeros((ws_m.shape[0], tp))"
   ]
  },
  {
   "cell_type": "code",
   "execution_count": 77,
   "id": "9a965f6a-3c2e-4b55-a6ae-0de633768933",
   "metadata": {},
   "outputs": [
    {
     "data": {
      "text/plain": [
       "array([[0., 0., 0., ..., 0., 0., 0.],\n",
       "       [0., 0., 0., ..., 0., 0., 0.],\n",
       "       [0., 0., 0., ..., 0., 0., 0.],\n",
       "       ...,\n",
       "       [0., 0., 0., ..., 0., 0., 0.],\n",
       "       [0., 0., 0., ..., 0., 0., 0.],\n",
       "       [0., 0., 0., ..., 0., 0., 0.]])"
      ]
     },
     "execution_count": 77,
     "metadata": {},
     "output_type": "execute_result"
    }
   ],
   "source": [
    "ws"
   ]
  },
  {
   "cell_type": "code",
   "execution_count": 28,
   "id": "73dc018a-4b63-42fa-9142-99bf57d5694c",
   "metadata": {},
   "outputs": [],
   "source": [
    "df = tehran_df_reg"
   ]
  },
  {
   "cell_type": "code",
   "execution_count": 29,
   "id": "340200ab-9e96-4547-b281-41c9d1256ea3",
   "metadata": {},
   "outputs": [],
   "source": [
    "for k in range(len(srw)):\n",
    "    total_y_indexs.append([])\n",
    "    total_y_srws.append([])\n",
    "    indx.append([])\n",
    "    # indx[-1].append(0)\n",
    "    rg_3.append([])\n",
    "    rg_3[-1].append(df.iloc[k]['Ox_3'])\n",
    "    for i in range(tp):\n",
    "        indx[-1].append(np.where(srw[k] == np.sort(srw[k])[::-1][:tp][i])[0][0])\n",
    "        rg_3[-1].append(df.iloc[indx[-1][-1]]['Ox_3'])\n",
    "        \n",
    "    if rg_3[k][0] != 2:\n",
    "        same_reg = np.where(rg_3[k]==rg_3[k][0])[0]\n",
    "        turn_points = np.where(np.array(rg_3[k])==2)[0]\n",
    "        num_same_regime = len(same_reg)\n",
    "        num_turn_ponits = len(turn_points)\n",
    "        indx_same = np.array(indx[k])[list(same_reg[1:]-1)]\n",
    "        indx_2 = np.array(indx[k])[list(turn_points-1)]\n",
    "        total_y_indexs[-1].append(np.concatenate((indx_same,indx_2), axis=0))\n",
    "        srw[k][indx_2] *= num_turn_ponits\n",
    "        srw[k][indx_same] *= num_same_regime\n",
    "        ssr = srw[k][total_y_indexs[-1]]\n",
    "\n",
    "\n",
    "        total_y_srws[-1].append(ssr[0]/sum(ssr[0]))"
   ]
  },
  {
   "cell_type": "code",
   "execution_count": 67,
   "id": "3e29dac2-e07e-4b26-afeb-1b952dbb23c3",
   "metadata": {},
   "outputs": [
    {
     "data": {
      "text/plain": [
       "<matplotlib.image.AxesImage at 0x28c1ee4d0>"
      ]
     },
     "execution_count": 67,
     "metadata": {},
     "output_type": "execute_result"
    },
    {
     "data": {
      "image/png": "[encoded data removed]",
      "text/plain": [
       "<Figure size 640x480 with 1 Axes>"
      ]
     },
     "metadata": {},
     "output_type": "display_data"
    }
   ],
   "source": [
    "plt.imshow(adj_matrix)"
   ]
  },
  {
   "cell_type": "code",
   "execution_count": 64,
   "id": "f8d4acea-5806-4377-9f12-179fa2f130cc",
   "metadata": {},
   "outputs": [
    {
     "data": {
      "text/plain": [
       "[<matplotlib.lines.Line2D at 0x28aa98b90>]"
      ]
     },
     "execution_count": 64,
     "metadata": {},
     "output_type": "execute_result"
    },
    {
     "data": {
      "image/png": "[encoded data removed]",
      "text/plain": [
       "<Figure size 640x480 with 1 Axes>"
      ]
     },
     "metadata": {},
     "output_type": "display_data"
    }
   ],
   "source": [
    "plt.plot(adj_matrix[416])"
   ]
  },
  {
   "cell_type": "code",
   "execution_count": 68,
   "id": "6ad724f5-be17-4d88-9326-548f4e6280a1",
   "metadata": {},
   "outputs": [
    {
     "data": {
      "text/plain": [
       "3073"
      ]
     },
     "execution_count": 68,
     "metadata": {},
     "output_type": "execute_result"
    }
   ],
   "source": [
    "E"
   ]
  },
  {
   "cell_type": "code",
   "execution_count": 69,
   "id": "546e94bd-fde9-4ae6-90a8-c3581c45b4e1",
   "metadata": {},
   "outputs": [
    {
     "data": {
      "text/plain": [
       "array([ 3,  2,  6,  3,  3,  4, 44,  3,  3, 44, 41, 33, 34, 39,  6,  6,  5,\n",
       "        8,  3,  3, 11,  3,  6, 52,  2, 29, 26, 26,  3, 32,  2,  4,  4,  2,\n",
       "       37,  3,  3, 35,  2, 35,  2, 22, 27, 21, 21,  5,  7,  5,  8, 24,  4,\n",
       "        3,  4, 21,  2, 21,  7,  3,  6,  5,  6,  4,  8,  2, 23,  8,  3,  4,\n",
       "        9, 14,  8, 11,  9,  4,  6,  7, 12, 12,  7,  2,  4, 17,  7,  5, 11,\n",
       "        6,  5,  4,  7,  8,  7,  4, 15, 41,  3,  3, 25,  5,  5,  7,  4,  4,\n",
       "       29, 15, 37, 40,  8,  7,  5,  6,  6,  7, 20, 26, 35,  6,  6,  7,  3,\n",
       "        9,  3,  4, 21, 28, 23, 26,  3, 25, 71, 43,  3,  4,  3, 27, 23,  4,\n",
       "        4,  5,  3, 13,  7,  9,  9,  2, 10,  6, 11, 24, 22,  5,  4,  4, 22,\n",
       "        9, 17, 25, 15, 17,  2,  4,  4,  6, 23,  6,  6,  5,  6,  5, 21, 12,\n",
       "        7,  2, 10,  2,  5,  4,  8,  6, 16, 30, 12, 16,  3,  6,  5,  4,  7,\n",
       "        2,  9, 23, 12, 17, 13,  2, 14,  2, 17,  6, 10,  5,  4,  4,  9,  6,\n",
       "       26,  7, 12, 11,  9, 12,  3,  3, 14, 17, 21, 33, 31,  4, 27, 30, 12,\n",
       "       40, 41, 38,  2, 10, 11, 11,  5,  3,  7,  4,  7, 12,  3,  3, 11,  4,\n",
       "        3,  4, 19, 15, 35, 54,  5,  4,  4,  5, 34,  4,  3,  5,  3, 40, 20,\n",
       "       32,  2, 35,  3,  6,  7,  3,  3,  6,  5, 23,  2, 29, 20, 20, 16,  2,\n",
       "       21, 26, 20,  2,  3,  6,  2, 27, 24, 17,  3, 34,  8,  7,  5,  5,  6,\n",
       "        6, 30,  2, 14, 15, 27, 25,  3,  3, 19, 14, 24,  8,  3, 19, 10, 21,\n",
       "        2,  4,  2, 14, 21, 10,  6, 11,  2,  6,  6,  5,  8,  8, 18,  2, 22,\n",
       "        6, 13,  5,  3, 14,  7,  9,  3,  4,  8,  5,  8,  4, 14, 28,  2, 27,\n",
       "        3,  3, 38,  4,  3,  7,  4,  3,  5, 45, 43,  3,  3, 22, 17,  3,  4,\n",
       "       16,  2, 23,  2, 18, 13, 20,  2,  9,  7,  5,  2,  6, 10,  2, 13,  5,\n",
       "        4,  3, 10, 15,  9, 25, 17, 12,  6,  6,  5,  7, 10,  3,  3,  8, 25,\n",
       "       14, 17,  9,  3, 11,  6,  4,  4,  6, 14,  5, 16,  6,  6,  2,  7,  2,\n",
       "        9,  6, 46,  2, 49, 43, 49, 46, 65, 58, 67,  9,  4,  8,  2,  8,  3,\n",
       "        8,  4,  6, 34, 73,  8,  3, 22, 14, 13, 12,  5,  4,  8,  7, 17,  7,\n",
       "        6,  5,  5, 15,  3,  3, 14,  5,  9,  8, 13, 14,  8, 46,  7,  7,  7,\n",
       "        7,  6,  7, 30,  6,  4,  4,  5, 34,  2, 50,  6,  5,  4,  5, 28, 43,\n",
       "       51, 10, 12, 10,  2, 11, 10,  3,  3, 12,  5,  9,  8, 12, 10, 11, 10,\n",
       "        2,  6,  7,  2,  3,  2,  1])"
      ]
     },
     "execution_count": 69,
     "metadata": {},
     "output_type": "execute_result"
    }
   ],
   "source": [
    "k"
   ]
  },
  {
   "cell_type": "code",
   "execution_count": 71,
   "id": "d1b6e37e-3cae-4de3-a670-9a2cba4b2ea9",
   "metadata": {},
   "outputs": [
    {
     "data": {
      "text/plain": [
       "array([[0.        , 0.5       , 0.16666667, ..., 0.        , 0.        ,\n",
       "        0.        ],\n",
       "       [0.33333333, 0.        , 0.16666667, ..., 0.        , 0.        ,\n",
       "        0.        ],\n",
       "       [0.33333333, 0.5       , 0.        , ..., 0.        , 0.        ,\n",
       "        0.        ],\n",
       "       ...,\n",
       "       [0.        , 0.        , 0.        , ..., 0.        , 0.5       ,\n",
       "        0.        ],\n",
       "       [0.        , 0.        , 0.        , ..., 0.33333333, 0.        ,\n",
       "        1.        ],\n",
       "       [0.        , 0.        , 0.        , ..., 0.        , 0.5       ,\n",
       "        0.        ]])"
      ]
     },
     "execution_count": 71,
     "metadata": {},
     "output_type": "execute_result"
    }
   ],
   "source": [
    "P"
   ]
  },
  {
   "cell_type": "code",
   "execution_count": 72,
   "id": "38d2dffa-d6f2-4ae1-8e17-fc400a3f41c4",
   "metadata": {},
   "outputs": [
    {
     "data": {
      "text/plain": [
       "array([[0, 1, 1, ..., 0, 0, 0],\n",
       "       [1, 0, 1, ..., 0, 0, 0],\n",
       "       [1, 1, 0, ..., 0, 0, 0],\n",
       "       ...,\n",
       "       [0, 0, 0, ..., 0, 1, 0],\n",
       "       [0, 0, 0, ..., 1, 0, 1],\n",
       "       [0, 0, 0, ..., 0, 1, 0]])"
      ]
     },
     "execution_count": 72,
     "metadata": {},
     "output_type": "execute_result"
    }
   ],
   "source": [
    "adj_matrix"
   ]
  },
  {
   "cell_type": "code",
   "execution_count": null,
   "id": "5f321aaa-696c-47ec-b509-2400583b5452",
   "metadata": {},
   "outputs": [],
   "source": []
  }
 ],
 "metadata": {
  "kernelspec": {
   "display_name": "Python 3 (ipykernel)",
   "language": "python",
   "name": "python3"
  },
  "language_info": {
   "codemirror_mode": {
    "name": "ipython",
    "version": 3
   },
   "file_extension": ".py",
   "mimetype": "text/x-python",
   "name": "python",
   "nbconvert_exporter": "python",
   "pygments_lexer": "ipython3",
   "version": "3.11.0"
  }
 },
 "nbformat": 4,
 "nbformat_minor": 5
}
