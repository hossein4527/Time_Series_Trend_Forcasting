{
 "cells": [
  {
   "cell_type": "code",
   "execution_count": 8,
   "id": "09795e4c-9703-4ee4-b2c0-ba0a9a9ab0e1",
   "metadata": {},
   "outputs": [],
   "source": [
    "import pandas as pd\n",
    "import matplotlib.pyplot as plt"
   ]
  },
  {
   "cell_type": "code",
   "execution_count": 9,
   "id": "fc7de44e-6f58-45fe-8de0-ef23bdfb65d2",
   "metadata": {},
   "outputs": [],
   "source": [
    "from ned import VG_Modules_Model1, VG_Modules_Model2"
   ]
  },
  {
   "cell_type": "code",
   "execution_count": 10,
   "id": "85072730-a535-4e0c-8eae-78bf22511f4b",
   "metadata": {},
   "outputs": [],
   "source": [
    "tehran_df = pd.read_excel('../Data/Tehran_Indexes_NormedReturned_Regimed.xlsx').set_index('date')"
   ]
  },
  {
   "cell_type": "code",
   "execution_count": 11,
   "id": "fde41873-277e-4f13-b29d-8b3c3ec711a0",
   "metadata": {},
   "outputs": [],
   "source": [
    "tehran_index = pd.read_excel('../Data/Tehran_Indexes_Price_NoRegime.xlsx').set_index('date')"
   ]
  },
  {
   "cell_type": "code",
   "execution_count": 12,
   "id": "4e270192-9727-4019-925c-feffa9c16750",
   "metadata": {},
   "outputs": [],
   "source": [
    "snp500_index = pd.read_excel('../Data/S&P500_Index.xlsx').set_index('Date')['Close*'].values"
   ]
  },
  {
   "cell_type": "code",
   "execution_count": 13,
   "id": "6d8ed27a-0bbf-4e56-a154-675307f9163f",
   "metadata": {},
   "outputs": [],
   "source": [
    "snp500_df = pd.read_excel('../Data/S&P500_Index_regimed.xlsx').set_index('Date')"
   ]
  },
  {
   "cell_type": "code",
   "execution_count": 14,
   "id": "03bfd326-a19d-44e2-9550-128ab9a6e326",
   "metadata": {},
   "outputs": [],
   "source": [
    "ts_price_selected = snp500_index[-500:]\n",
    "ts_df_selected = snp500_df[-500:]"
   ]
  },
  {
   "cell_type": "markdown",
   "id": "e0ae2021-9142-4a37-aaa1-286257df120e",
   "metadata": {
    "tags": []
   },
   "source": [
    "# Forcasting Model One"
   ]
  },
  {
   "cell_type": "markdown",
   "id": "52785833-4f8a-4de5-bfec-c48601eb6e1e",
   "metadata": {
    "tags": []
   },
   "source": [
    "## Usual Model One"
   ]
  },
  {
   "cell_type": "code",
   "execution_count": 15,
   "id": "3eaa99e8-1a9c-4120-870e-02ab26be75b7",
   "metadata": {},
   "outputs": [
    {
     "name": "stderr",
     "output_type": "stream",
     "text": [
      "/Users/hossein4527/MEGA/MEGAsync/Commit/Neda_PhD/neda_sep2023/Time_Series_Trend_Forcasting/Codes/ned.py:20: FutureWarning: adjacency_matrix will return a scipy.sparse array instead of a matrix in Networkx 3.0.\n",
      "  adj_matrix = np.array(adjacency_matrix(G).todense())\n"
     ]
    },
    {
     "data": {
      "text/plain": [
       "0.03451873542876556"
      ]
     },
     "execution_count": 15,
     "metadata": {},
     "output_type": "execute_result"
    }
   ],
   "source": [
    "VG1 = VG_Modules_Model1()\n",
    "tehran_tedpix_price_forcasted_model1 = VG1.ts_forcast_model1(ts_price_selected)\n",
    "errors_model1 = VG1.error_bars(ts_price_selected, tehran_tedpix_price_forcasted_model1)\n",
    "errors_model1[1]"
   ]
  },
  {
   "cell_type": "markdown",
   "id": "07215aff-616c-45b8-b662-6a5c397d500a",
   "metadata": {},
   "source": [
    "## Based on 3 Regimed"
   ]
  },
  {
   "cell_type": "code",
   "execution_count": 16,
   "id": "7866b98e-85a5-447f-8240-975615eff79a",
   "metadata": {},
   "outputs": [
    {
     "name": "stderr",
     "output_type": "stream",
     "text": [
      "/Users/hossein4527/MEGA/MEGAsync/Commit/Neda_PhD/neda_sep2023/Time_Series_Trend_Forcasting/Codes/ned.py:52: FutureWarning: adjacency_matrix will return a scipy.sparse array instead of a matrix in Networkx 3.0.\n",
      "  adj_matrix = np.array(adjacency_matrix(G).todense())\n"
     ]
    },
    {
     "data": {
      "text/plain": [
       "0.03306959689048757"
      ]
     },
     "execution_count": 16,
     "metadata": {},
     "output_type": "execute_result"
    }
   ],
   "source": [
    "tehran_tedpix_price_forcasted_model1_3Regimed = VG1.ts_forcast_3Regimed_model1(ts_price_selected, ts_df_selected)\n",
    "errors_model1_3Regimed = VG1.error_bars(ts_price_selected, tehran_tedpix_price_forcasted_model1_3Regimed)\n",
    "errors_model1_3Regimed[1]"
   ]
  },
  {
   "cell_type": "markdown",
   "id": "d63cbc22-00a0-4e39-82d8-0783bc316458",
   "metadata": {
    "tags": []
   },
   "source": [
    "# Forcasting Model Two"
   ]
  },
  {
   "cell_type": "code",
   "execution_count": 17,
   "id": "016c566e-753c-47b8-b347-525a1be90270",
   "metadata": {},
   "outputs": [
    {
     "name": "stderr",
     "output_type": "stream",
     "text": [
      "/Users/hossein4527/MEGA/MEGAsync/Commit/Neda_PhD/neda_sep2023/Time_Series_Trend_Forcasting/Codes/ned.py:183: FutureWarning: adjacency_matrix will return a scipy.sparse array instead of a matrix in Networkx 3.0.\n",
      "  adj_matrix = np.array(adjacency_matrix(G).todense())\n"
     ]
    },
    {
     "data": {
      "text/plain": [
       "0.03417300021495113"
      ]
     },
     "execution_count": 17,
     "metadata": {},
     "output_type": "execute_result"
    }
   ],
   "source": [
    "VG2 = VG_Modules_Model2()\n",
    "tehran_tedpix_price_forcasted_model2 = VG2.ts_forcast_model2_weighted(ts_price_selected)\n",
    "errors_model2 = VG2.error_bars(ts_price_selected, tehran_tedpix_price_forcasted_model2)\n",
    "errors_model2[1]"
   ]
  },
  {
   "cell_type": "markdown",
   "id": "57f40652-2ac0-425f-a4f4-3dd18883e958",
   "metadata": {},
   "source": [
    "## Based on 3 Regimed"
   ]
  },
  {
   "cell_type": "code",
   "execution_count": 18,
   "id": "5661005a-9138-4b34-9500-568fd0b7f339",
   "metadata": {},
   "outputs": [
    {
     "name": "stderr",
     "output_type": "stream",
     "text": [
      "/Users/hossein4527/MEGA/MEGAsync/Commit/Neda_PhD/neda_sep2023/Time_Series_Trend_Forcasting/Codes/ned.py:268: FutureWarning: adjacency_matrix will return a scipy.sparse array instead of a matrix in Networkx 3.0.\n",
      "  adj_matrix = np.array(adjacency_matrix(G).todense())\n"
     ]
    },
    {
     "data": {
      "text/plain": [
       "0.03306959689048757"
      ]
     },
     "execution_count": 18,
     "metadata": {},
     "output_type": "execute_result"
    }
   ],
   "source": [
    "tehran_tedpix_price_forcasted_model2 = VG2.ts_forcast_3Regimed_model2_weighted(ts_price_selected, ts_df_selected)\n",
    "errors_model2 = VG2.error_bars(ts_price_selected, tehran_tedpix_price_forcasted_model2)\n",
    "errors_model2[1]"
   ]
  },
  {
   "cell_type": "code",
   "execution_count": 19,
   "id": "86f9d64c-b342-4b99-bf7d-e145edca7985",
   "metadata": {},
   "outputs": [
    {
     "ename": "TypeError",
     "evalue": "unsupported operand type(s) for -: 'str' and 'str'",
     "output_type": "error",
     "traceback": [
      "\u001b[0;31m---------------------------------------------------------------------------\u001b[0m",
      "\u001b[0;31mTypeError\u001b[0m                                 Traceback (most recent call last)",
      "Cell \u001b[0;32mIn [19], line 1\u001b[0m\n\u001b[0;32m----> 1\u001b[0m tehran_tedpix_price_forcasted_model2 \u001b[38;5;241m=\u001b[39m \u001b[43mVG2\u001b[49m\u001b[38;5;241;43m.\u001b[39;49m\u001b[43mts_forcast_3Regimed_weighted_compact\u001b[49m\u001b[43m(\u001b[49m\u001b[43mts_price_selected\u001b[49m\u001b[43m,\u001b[49m\u001b[43m \u001b[49m\u001b[43mts_df_selected\u001b[49m\u001b[43m)\u001b[49m\n\u001b[1;32m      2\u001b[0m errors_model2 \u001b[38;5;241m=\u001b[39m VG2\u001b[38;5;241m.\u001b[39merror_bars(ts_price_selected, tehran_tedpix_price_forcasted_model2)\n\u001b[1;32m      3\u001b[0m errors_model2[\u001b[38;5;241m1\u001b[39m]\n",
      "File \u001b[0;32m~/MEGA/MEGAsync/Commit/Neda_PhD/neda_sep2023/Time_Series_Trend_Forcasting/Codes/ned.py:315\u001b[0m, in \u001b[0;36mVG_Modules_Model2.ts_forcast_3Regimed_weighted_compact\u001b[0;34m(self, df, time_serie)\u001b[0m\n\u001b[1;32m    314\u001b[0m \u001b[38;5;28;01mdef\u001b[39;00m \u001b[38;5;21mts_forcast_3Regimed_weighted_compact\u001b[39m(\u001b[38;5;28mself\u001b[39m, df , time_serie):\n\u001b[0;32m--> 315\u001b[0m     s_srw \u001b[38;5;241m=\u001b[39m \u001b[38;5;28;43mself\u001b[39;49m\u001b[38;5;241;43m.\u001b[39;49m\u001b[43mmost_similarity_matrix\u001b[49m\u001b[43m(\u001b[49m\u001b[43mtime_serie\u001b[49m\u001b[43m,\u001b[49m\u001b[43m \u001b[49m\u001b[43mT\u001b[49m\u001b[38;5;241;43m=\u001b[39;49m\u001b[38;5;241;43m20\u001b[39;49m\u001b[43m,\u001b[49m\u001b[43mtp\u001b[49m\u001b[38;5;241;43m=\u001b[39;49m\u001b[38;5;241;43m50\u001b[39;49m\u001b[43m)\u001b[49m\n\u001b[1;32m    316\u001b[0m     sum_s \u001b[38;5;241m=\u001b[39m s_srw\u001b[38;5;241m.\u001b[39msum(axis\u001b[38;5;241m=\u001b[39m\u001b[38;5;241m1\u001b[39m)\n\u001b[1;32m    317\u001b[0m     sum_s[sum_s \u001b[38;5;241m==\u001b[39m \u001b[38;5;241m0\u001b[39m] \u001b[38;5;241m=\u001b[39m np\u001b[38;5;241m.\u001b[39minf\n",
      "File \u001b[0;32m~/MEGA/MEGAsync/Commit/Neda_PhD/neda_sep2023/Time_Series_Trend_Forcasting/Codes/ned.py:267\u001b[0m, in \u001b[0;36mVG_Modules_Model2.most_similarity_matrix\u001b[0;34m(self, time_series, T, tp)\u001b[0m\n\u001b[1;32m    266\u001b[0m \u001b[38;5;28;01mdef\u001b[39;00m \u001b[38;5;21mmost_similarity_matrix\u001b[39m(\u001b[38;5;28mself\u001b[39m,time_series, T\u001b[38;5;241m=\u001b[39m\u001b[38;5;241m20\u001b[39m, tp\u001b[38;5;241m=\u001b[39m\u001b[38;5;241m50\u001b[39m):\n\u001b[0;32m--> 267\u001b[0m     G \u001b[38;5;241m=\u001b[39m \u001b[43mvisibility_graph\u001b[49m\u001b[43m(\u001b[49m\u001b[43mtime_series\u001b[49m\u001b[43m)\u001b[49m\n\u001b[1;32m    268\u001b[0m     adj_matrix \u001b[38;5;241m=\u001b[39m np\u001b[38;5;241m.\u001b[39marray(adjacency_matrix(G)\u001b[38;5;241m.\u001b[39mtodense())\n\u001b[1;32m    269\u001b[0m     E \u001b[38;5;241m=\u001b[39m G\u001b[38;5;241m.\u001b[39mnumber_of_edges()\n",
      "File \u001b[0;32m/Library/Frameworks/Python.framework/Versions/3.11/lib/python3.11/site-packages/visibility_graph/__init__.py:35\u001b[0m, in \u001b[0;36mvisibility_graph\u001b[0;34m(series)\u001b[0m\n\u001b[1;32m     31\u001b[0m \u001b[38;5;28;01mfor\u001b[39;00m tc, yc \u001b[38;5;129;01min\u001b[39;00m tseries[ta:tb]:\n\u001b[1;32m     32\u001b[0m     \u001b[38;5;66;03m# other points, not a or b\u001b[39;00m\n\u001b[1;32m     33\u001b[0m     \u001b[38;5;28;01mif\u001b[39;00m tc \u001b[38;5;241m!=\u001b[39m ta \u001b[38;5;129;01mand\u001b[39;00m tc \u001b[38;5;241m!=\u001b[39m tb:\n\u001b[1;32m     34\u001b[0m         \u001b[38;5;66;03m# does c obstruct?\u001b[39;00m\n\u001b[0;32m---> 35\u001b[0m         \u001b[38;5;28;01mif\u001b[39;00m yc \u001b[38;5;241m>\u001b[39m yb \u001b[38;5;241m+\u001b[39m (\u001b[43mya\u001b[49m\u001b[43m \u001b[49m\u001b[38;5;241;43m-\u001b[39;49m\u001b[43m \u001b[49m\u001b[43myb\u001b[49m) \u001b[38;5;241m*\u001b[39m ( (tb \u001b[38;5;241m-\u001b[39m tc) \u001b[38;5;241m/\u001b[39m (tb \u001b[38;5;241m-\u001b[39m ta) ):\n\u001b[1;32m     36\u001b[0m             connect \u001b[38;5;241m=\u001b[39m \u001b[38;5;28;01mFalse\u001b[39;00m\n\u001b[1;32m     38\u001b[0m \u001b[38;5;28;01mif\u001b[39;00m connect:\n",
      "\u001b[0;31mTypeError\u001b[0m: unsupported operand type(s) for -: 'str' and 'str'"
     ]
    }
   ],
   "source": [
    "tehran_tedpix_price_forcasted_model2 = VG2.ts_forcast_3Regimed_weighted_compact(ts_price_selected, ts_df_selected)\n",
    "errors_model2 = VG2.error_bars(ts_price_selected, tehran_tedpix_price_forcasted_model2)\n",
    "errors_model2[1]"
   ]
  },
  {
   "cell_type": "code",
   "execution_count": null,
   "id": "72f82cbf-b858-427a-9d90-387bbc8b10ac",
   "metadata": {},
   "outputs": [],
   "source": []
  },
  {
   "cell_type": "code",
   "execution_count": null,
   "id": "7b784c9a-820d-4c52-86d7-4506d3a4dffb",
   "metadata": {},
   "outputs": [],
   "source": [
    "ts_forcast_3Regimed_weighted_compact"
   ]
  }
 ],
 "metadata": {
  "kernelspec": {
   "display_name": "Python 3 (ipykernel)",
   "language": "python",
   "name": "python3"
  },
  "language_info": {
   "codemirror_mode": {
    "name": "ipython",
    "version": 3
   },
   "file_extension": ".py",
   "mimetype": "text/x-python",
   "name": "python",
   "nbconvert_exporter": "python",
   "pygments_lexer": "ipython3",
   "version": "3.11.0"
  }
 },
 "nbformat": 4,
 "nbformat_minor": 5
}
