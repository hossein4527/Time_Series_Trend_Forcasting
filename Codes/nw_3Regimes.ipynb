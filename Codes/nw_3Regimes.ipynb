{
 "cells": [
  {
   "cell_type": "code",
   "execution_count": 92,
   "id": "9df9b137-c106-48b0-bec0-f8310cf49fe6",
   "metadata": {},
   "outputs": [],
   "source": [
    "from ned import Net_moduls\n",
    "import networkx as nx\n",
    "import numpy as np"
   ]
  },
  {
   "cell_type": "code",
   "execution_count": 93,
   "id": "dcc17b6b-11f5-4b32-bd9f-32f409077154",
   "metadata": {},
   "outputs": [],
   "source": [
    "from nxviz.plots import CircosPlot"
   ]
  },
  {
   "cell_type": "code",
   "execution_count": 94,
   "id": "ed51ca32-ac02-4621-9b8a-5caa6cb697cd",
   "metadata": {},
   "outputs": [],
   "source": [
    "import pandas as pd\n",
    "import matplotlib.pyplot as plt"
   ]
  },
  {
   "cell_type": "markdown",
   "id": "c102abae-74b4-4a85-946d-b9faecf3cc47",
   "metadata": {},
   "source": [
    "# Data"
   ]
  },
  {
   "cell_type": "markdown",
   "id": "ca7ffdbb-ed51-4350-b647-1044f302e428",
   "metadata": {},
   "source": [
    "## Tehran Index DF and Tehran DF Normed Return 90 Far - 00 Far"
   ]
  },
  {
   "cell_type": "code",
   "execution_count": 95,
   "id": "c8b144ad-a231-44a7-8864-d8743eeb278b",
   "metadata": {},
   "outputs": [],
   "source": [
    "tehran_index = pd.read_excel('../Data/Tehran_Indexes_Price_NoRegime.xlsx').set_index('date')"
   ]
  },
  {
   "cell_type": "code",
   "execution_count": 96,
   "id": "9f426c61-1e01-43d5-99e3-6d5457b71a6e",
   "metadata": {},
   "outputs": [],
   "source": [
    "tehran_df_reg = pd.read_excel('../Data/Tehran_Indexes_NormedReturned_Regimed.xlsx').set_index('date')"
   ]
  },
  {
   "cell_type": "code",
   "execution_count": 97,
   "id": "bad0a593-807b-4c5b-b9c9-ade80cfbffc5",
   "metadata": {},
   "outputs": [],
   "source": [
    "tehran_index_99 = pd.read_excel('../Data/Tehran_Indexes_NormedReturned_Regimed_newox.xlsx').set_index('date')"
   ]
  },
  {
   "cell_type": "markdown",
   "id": "4c78b44b-f17c-4773-9a8a-7540bd95385c",
   "metadata": {},
   "source": [
    "## Tehran DF Normed Return 90 Far - 98 Dey"
   ]
  },
  {
   "cell_type": "code",
   "execution_count": 98,
   "id": "3b865b37-ed9f-4d8f-990d-09f673b7f91e",
   "metadata": {},
   "outputs": [],
   "source": [
    "tehran_df = pd.read_excel('../Data/Tehran_Indexes_NormedReturned_Regimed.xlsx').set_index('date')\n",
    "tehran_df = tehran_df[tehran_df.columns[:-12]].iloc[:-300]"
   ]
  },
  {
   "cell_type": "markdown",
   "id": "da4f9608-498a-4956-8752-7013a814f5a0",
   "metadata": {},
   "source": [
    "## Tehran DF Normed Return 90 Far - 00 Far"
   ]
  },
  {
   "cell_type": "code",
   "execution_count": 99,
   "id": "9a3632e3-6d14-4477-b9da-f8e9a9e924b6",
   "metadata": {},
   "outputs": [],
   "source": [
    "tehran_df_completeDates = pd.read_excel('../Data/Tehran_Indexes_NormedReturned_Regimed.xlsx').set_index('date')\n",
    "tehran_df_completeDates = tehran_df_completeDates[tehran_df_completeDates.columns[:-12]]"
   ]
  },
  {
   "cell_type": "markdown",
   "id": "a4125284-a73a-410c-b20f-0dfc8117b2ca",
   "metadata": {},
   "source": [
    "## Tehran Ox 2 Regimed DF Normed Return 90 Far - 00 Far "
   ]
  },
  {
   "cell_type": "code",
   "execution_count": 100,
   "id": "a93b83b1-4d28-4289-8aa1-5e071f811f5e",
   "metadata": {},
   "outputs": [],
   "source": [
    "tehran_df_TwoReg_Ox_1 = tehran_df_reg[tehran_df_reg['Ox_2']==0]\n",
    "tehran_df_TwoReg_Ox_2 = tehran_df_reg[tehran_df_reg['Ox_2']==1]\n",
    "tehran_df_TwoReg_Ox_1 = tehran_df_TwoReg_Ox_1[tehran_df_TwoReg_Ox_1.columns[:-12]]\n",
    "tehran_df_TwoReg_Ox_2 = tehran_df_TwoReg_Ox_2[tehran_df_TwoReg_Ox_2.columns[:-12]]"
   ]
  },
  {
   "cell_type": "markdown",
   "id": "41e8199a-1ba2-4725-a670-7fec70aaa67b",
   "metadata": {},
   "source": [
    "## Tehran Ox 2 Regimed DF Normed Return 90 Far - 98 Dey "
   ]
  },
  {
   "cell_type": "code",
   "execution_count": 101,
   "id": "4e389eaf-b70b-4589-8fa6-bd3d04eba1bd",
   "metadata": {},
   "outputs": [
    {
     "name": "stderr",
     "output_type": "stream",
     "text": [
      "/var/folders/mj/xw3m0dws3yq8j2md9n8j3g940000gn/T/ipykernel_1788/2195039282.py:1: UserWarning: Boolean Series key will be reindexed to match DataFrame index.\n",
      "  tehran_df_TwoReg_Ox_1_98 = tehran_df[tehran_df_reg['Ox_2']==0]\n",
      "/var/folders/mj/xw3m0dws3yq8j2md9n8j3g940000gn/T/ipykernel_1788/2195039282.py:2: UserWarning: Boolean Series key will be reindexed to match DataFrame index.\n",
      "  tehran_df_TwoReg_Ox_2_98 = tehran_df[tehran_df_reg['Ox_2']==1]\n"
     ]
    }
   ],
   "source": [
    "tehran_df_TwoReg_Ox_1_98 = tehran_df[tehran_df_reg['Ox_2']==0]\n",
    "tehran_df_TwoReg_Ox_2_98 = tehran_df[tehran_df_reg['Ox_2']==1]"
   ]
  },
  {
   "cell_type": "markdown",
   "id": "46905361-c6f4-419a-b2dd-048ec99f9e13",
   "metadata": {},
   "source": [
    "## Tehran Ox 2 Regimed DF Normed Return 90 Far - 00 Far / Same Length"
   ]
  },
  {
   "cell_type": "code",
   "execution_count": 102,
   "id": "b0fa1dd0-9268-40cf-9d30-2d260d2c1c93",
   "metadata": {},
   "outputs": [],
   "source": [
    "max_length_TwoReg_Ox_2 = min(len(tehran_df_TwoReg_Ox_1), len(tehran_df_TwoReg_Ox_2))\n",
    "tehran_df_TwoReg_Ox_1_same_length = tehran_df_TwoReg_Ox_1[-max_length_TwoReg_Ox_2:]\n",
    "tehran_df_TwoReg_Ox_2_same_length = tehran_df_TwoReg_Ox_2[-max_length_TwoReg_Ox_2:]"
   ]
  },
  {
   "cell_type": "markdown",
   "id": "6d4aac30-c4b3-411d-9260-2e9edec1c236",
   "metadata": {},
   "source": [
    "## Tehran Ox 2 Regimed DF Normed Return 90 Far - 98 Dey / Same Length"
   ]
  },
  {
   "cell_type": "code",
   "execution_count": 103,
   "id": "ff44046a-fb23-4b05-9845-fe7d3693e24a",
   "metadata": {},
   "outputs": [],
   "source": [
    "max_length_TwoReg_Ox_2_98 = min(len(tehran_df_TwoReg_Ox_1_98), len(tehran_df_TwoReg_Ox_2_98))\n",
    "tehran_df_TwoReg_Ox_1_same_length_98 = tehran_df_TwoReg_Ox_1_98[-max_length_TwoReg_Ox_2_98:]\n",
    "tehran_df_TwoReg_Ox_2_same_length_98 = tehran_df_TwoReg_Ox_2_98[-max_length_TwoReg_Ox_2_98:]"
   ]
  },
  {
   "cell_type": "markdown",
   "id": "658b3bac-91f1-4cb0-a7bd-e70f2777d851",
   "metadata": {},
   "source": [
    "## Tehran Ox 2 1399 Regimed DF Normed Return 99 - 1400  "
   ]
  },
  {
   "cell_type": "code",
   "execution_count": 104,
   "id": "2ef8189e-3292-47e4-800f-cbb5950c6de1",
   "metadata": {},
   "outputs": [],
   "source": [
    "tehran_df_TwoReg_Ox_99_1 = tehran_df_reg[tehran_index_99['ox-2-1year']==0]\n",
    "tehran_df_TwoReg_Ox_99_2 = tehran_df_reg[tehran_index_99['ox-2-1year']==1]\n",
    "tehran_df_TwoReg_Ox_99_1 = tehran_df_TwoReg_Ox_99_1[tehran_df_TwoReg_Ox_99_1.columns[:-12]]\n",
    "tehran_df_TwoReg_Ox_99_2 = tehran_df_TwoReg_Ox_99_2[tehran_df_TwoReg_Ox_99_2.columns[:-12]]"
   ]
  },
  {
   "cell_type": "code",
   "execution_count": 105,
   "id": "f0e80c2d-16c2-4119-bd5b-b315e1ad46e3",
   "metadata": {},
   "outputs": [],
   "source": [
    "max_length_TwoReg_Ox_99_2 = min(len(tehran_df_TwoReg_Ox_99_1), len(tehran_df_TwoReg_Ox_99_2))\n",
    "tehran_df_TwoReg_Ox_99_1_same_length = tehran_df_TwoReg_Ox_99_1[-max_length_TwoReg_Ox_99_2:]\n",
    "tehran_df_TwoReg_Ox_99_2_same_length = tehran_df_TwoReg_Ox_99_2[-max_length_TwoReg_Ox_99_2:]"
   ]
  },
  {
   "cell_type": "markdown",
   "id": "7df0709c-3e78-44cd-a38d-722220eee805",
   "metadata": {},
   "source": [
    "## Tehran Ox 3 Regimed DF Normed Return 90 Far - 00 Dey "
   ]
  },
  {
   "cell_type": "code",
   "execution_count": 106,
   "id": "82f572c4-540b-4430-afb5-6454984c2ea3",
   "metadata": {},
   "outputs": [],
   "source": [
    "tehran_df_ThreeReg_Ox_1 = tehran_df_reg[tehran_df_reg['Ox_3']==0]\n",
    "tehran_df_ThreeReg_Ox_2 = tehran_df_reg[tehran_df_reg['Ox_3']==1]\n",
    "tehran_df_ThreeReg_Ox_3 = tehran_df_reg[tehran_df_reg['Ox_3']==2]\n",
    "\n",
    "max_length_ThreeReg_Ox_90_00 = min(len(tehran_df_ThreeReg_Ox_1), len(tehran_df_ThreeReg_Ox_2),len(tehran_df_ThreeReg_Ox_3))\n",
    "tehran_df_ThreeReg_Ox_1_same_length = tehran_df_ThreeReg_Ox_1[-max_length_ThreeReg_Ox_90_00:]\n",
    "tehran_df_ThreeReg_Ox_2_same_length = tehran_df_ThreeReg_Ox_2[-max_length_ThreeReg_Ox_90_00:]\n",
    "tehran_df_ThreeReg_Ox_3_same_length = tehran_df_ThreeReg_Ox_3[-max_length_ThreeReg_Ox_90_00:]\n",
    "\n",
    "tehran_df_ThreeReg_Ox_1_same_length = tehran_df_ThreeReg_Ox_1_same_length[tehran_df_ThreeReg_Ox_1_same_length.columns[:-12]]\n",
    "tehran_df_ThreeReg_Ox_2_same_length = tehran_df_ThreeReg_Ox_2_same_length[tehran_df_ThreeReg_Ox_2_same_length.columns[:-12]]\n",
    "tehran_df_ThreeReg_Ox_3_same_length = tehran_df_ThreeReg_Ox_3_same_length[tehran_df_ThreeReg_Ox_3_same_length.columns[:-12]]"
   ]
  },
  {
   "cell_type": "markdown",
   "id": "bbb0403b-0b0b-4e95-98a8-af32b6d85453",
   "metadata": {},
   "source": [
    "## Tehran Ox 3 Regimed DF Normed Return 90 Far - 98 Dey "
   ]
  },
  {
   "cell_type": "code",
   "execution_count": 107,
   "id": "0e7f3322-0d00-4876-846a-f3e749653ccf",
   "metadata": {},
   "outputs": [
    {
     "name": "stderr",
     "output_type": "stream",
     "text": [
      "/var/folders/mj/xw3m0dws3yq8j2md9n8j3g940000gn/T/ipykernel_1788/3966413187.py:1: UserWarning: Boolean Series key will be reindexed to match DataFrame index.\n",
      "  tehran_df_ThreeReg_Ox_1_98 = tehran_df[tehran_df_reg['Ox_3']==0]\n",
      "/var/folders/mj/xw3m0dws3yq8j2md9n8j3g940000gn/T/ipykernel_1788/3966413187.py:2: UserWarning: Boolean Series key will be reindexed to match DataFrame index.\n",
      "  tehran_df_ThreeReg_Ox_2_98 = tehran_df[tehran_df_reg['Ox_3']==1]\n",
      "/var/folders/mj/xw3m0dws3yq8j2md9n8j3g940000gn/T/ipykernel_1788/3966413187.py:3: UserWarning: Boolean Series key will be reindexed to match DataFrame index.\n",
      "  tehran_df_ThreeReg_Ox_3_98 = tehran_df[tehran_df_reg['Ox_3']==2]\n"
     ]
    }
   ],
   "source": [
    "tehran_df_ThreeReg_Ox_1_98 = tehran_df[tehran_df_reg['Ox_3']==0]\n",
    "tehran_df_ThreeReg_Ox_2_98 = tehran_df[tehran_df_reg['Ox_3']==1]\n",
    "tehran_df_ThreeReg_Ox_3_98 = tehran_df[tehran_df_reg['Ox_3']==2]"
   ]
  },
  {
   "cell_type": "markdown",
   "id": "e4b8d394-34b1-41a5-8e6a-d8d3b8b814f2",
   "metadata": {},
   "source": [
    "## Tehran Ox 3 Regimed DF Normed Return 90 Far - 98 Dey / Same Length"
   ]
  },
  {
   "cell_type": "code",
   "execution_count": 108,
   "id": "e81ab10f-0c2b-413f-a267-b785d6b3960b",
   "metadata": {},
   "outputs": [],
   "source": [
    "max_length_ThreeReg_Ox_90_98 = min(len(tehran_df_ThreeReg_Ox_1_98), len(tehran_df_ThreeReg_Ox_2_98),len(tehran_df_ThreeReg_Ox_3_98))\n",
    "tehran_df_ThreeReg_Ox_1_same_length_98 = tehran_df_ThreeReg_Ox_1_98[-max_length_ThreeReg_Ox_90_98:]\n",
    "tehran_df_ThreeReg_Ox_2_same_length_98 = tehran_df_ThreeReg_Ox_2_98[-max_length_ThreeReg_Ox_90_98:]\n",
    "tehran_df_ThreeReg_Ox_3_same_length_98 = tehran_df_ThreeReg_Ox_3_98[-max_length_ThreeReg_Ox_90_98:]"
   ]
  },
  {
   "cell_type": "markdown",
   "id": "98e949cc-0b71-427e-9976-6708b4611365",
   "metadata": {},
   "source": [
    "## Tehran pn 3 Regimed DF Normed Return 90 Far - 98 Dey "
   ]
  },
  {
   "cell_type": "code",
   "execution_count": 109,
   "id": "61502455-13cb-41db-8adf-ce788523bb33",
   "metadata": {},
   "outputs": [
    {
     "name": "stderr",
     "output_type": "stream",
     "text": [
      "/var/folders/mj/xw3m0dws3yq8j2md9n8j3g940000gn/T/ipykernel_1788/1219616497.py:1: UserWarning: Boolean Series key will be reindexed to match DataFrame index.\n",
      "  tehran_df_ThreeReg_pn_1_98 = tehran_df[tehran_df_reg['3_PN']==1]\n",
      "/var/folders/mj/xw3m0dws3yq8j2md9n8j3g940000gn/T/ipykernel_1788/1219616497.py:2: UserWarning: Boolean Series key will be reindexed to match DataFrame index.\n",
      "  tehran_df_ThreeReg_pn_2_98 = tehran_df[tehran_df_reg['3_PN']==2]\n",
      "/var/folders/mj/xw3m0dws3yq8j2md9n8j3g940000gn/T/ipykernel_1788/1219616497.py:3: UserWarning: Boolean Series key will be reindexed to match DataFrame index.\n",
      "  tehran_df_ThreeReg_pn_3_98 = tehran_df[tehran_df_reg['3_PN']==3]\n"
     ]
    }
   ],
   "source": [
    "tehran_df_ThreeReg_pn_1_98 = tehran_df[tehran_df_reg['3_PN']==1]\n",
    "tehran_df_ThreeReg_pn_2_98 = tehran_df[tehran_df_reg['3_PN']==2]\n",
    "tehran_df_ThreeReg_pn_3_98 = tehran_df[tehran_df_reg['3_PN']==3]"
   ]
  },
  {
   "cell_type": "markdown",
   "id": "2b92e63d-e8f5-4b35-a53a-297f910bd295",
   "metadata": {},
   "source": [
    "## Tehran pn 3 Regimed DF Normed Return 90 Far - 98 Dey / Same Length"
   ]
  },
  {
   "cell_type": "code",
   "execution_count": 110,
   "id": "12f13d9e-94fc-4c06-8a59-20f377b295b9",
   "metadata": {},
   "outputs": [],
   "source": [
    "max_length_ThreeReg_pn_90_98 = min(len(tehran_df_ThreeReg_pn_1_98), len(tehran_df_ThreeReg_pn_2_98),len(tehran_df_ThreeReg_pn_3_98))\n",
    "tehran_df_ThreeReg_pn_1_same_length_98 = tehran_df_ThreeReg_pn_1_98[-max_length_ThreeReg_pn_90_98:]\n",
    "tehran_df_ThreeReg_pn_2_same_length_98 = tehran_df_ThreeReg_pn_2_98[-max_length_ThreeReg_pn_90_98:]\n",
    "tehran_df_ThreeReg_pn_3_same_length_98 = tehran_df_ThreeReg_pn_3_98[-max_length_ThreeReg_pn_90_98:]"
   ]
  },
  {
   "cell_type": "markdown",
   "id": "42a8538f-89ab-46f9-a2eb-d6c4721cff87",
   "metadata": {},
   "source": [
    "## Tehran pn 6 Regimed DF Normed Return 90 Far - 98 Dey "
   ]
  },
  {
   "cell_type": "code",
   "execution_count": 111,
   "id": "08979266-c190-4ca1-86b2-e007f8d158b0",
   "metadata": {},
   "outputs": [
    {
     "name": "stderr",
     "output_type": "stream",
     "text": [
      "/var/folders/mj/xw3m0dws3yq8j2md9n8j3g940000gn/T/ipykernel_1788/3479540249.py:1: UserWarning: Boolean Series key will be reindexed to match DataFrame index.\n",
      "  tehran_df_SixReg_pn_1_98 = tehran_df[tehran_df_reg['3_PN']==1]\n",
      "/var/folders/mj/xw3m0dws3yq8j2md9n8j3g940000gn/T/ipykernel_1788/3479540249.py:2: UserWarning: Boolean Series key will be reindexed to match DataFrame index.\n",
      "  tehran_df_SixReg_pn_2_98 = tehran_df[tehran_df_reg['3_PN']==2]\n",
      "/var/folders/mj/xw3m0dws3yq8j2md9n8j3g940000gn/T/ipykernel_1788/3479540249.py:3: UserWarning: Boolean Series key will be reindexed to match DataFrame index.\n",
      "  tehran_df_SixReg_pn_3_98 = tehran_df[tehran_df_reg['3_PN']==3]\n",
      "/var/folders/mj/xw3m0dws3yq8j2md9n8j3g940000gn/T/ipykernel_1788/3479540249.py:4: UserWarning: Boolean Series key will be reindexed to match DataFrame index.\n",
      "  tehran_df_SixReg_pn_4_98 = tehran_df[tehran_df_reg['3_PN']==4]\n",
      "/var/folders/mj/xw3m0dws3yq8j2md9n8j3g940000gn/T/ipykernel_1788/3479540249.py:5: UserWarning: Boolean Series key will be reindexed to match DataFrame index.\n",
      "  tehran_df_SixReg_pn_5_98 = tehran_df[tehran_df_reg['3_PN']==5]\n",
      "/var/folders/mj/xw3m0dws3yq8j2md9n8j3g940000gn/T/ipykernel_1788/3479540249.py:6: UserWarning: Boolean Series key will be reindexed to match DataFrame index.\n",
      "  tehran_df_SixReg_pn_6_98 = tehran_df[tehran_df_reg['3_PN']==6]\n"
     ]
    }
   ],
   "source": [
    "tehran_df_SixReg_pn_1_98 = tehran_df[tehran_df_reg['3_PN']==1]\n",
    "tehran_df_SixReg_pn_2_98 = tehran_df[tehran_df_reg['3_PN']==2]\n",
    "tehran_df_SixReg_pn_3_98 = tehran_df[tehran_df_reg['3_PN']==3]\n",
    "tehran_df_SixReg_pn_4_98 = tehran_df[tehran_df_reg['3_PN']==4]\n",
    "tehran_df_SixReg_pn_5_98 = tehran_df[tehran_df_reg['3_PN']==5]\n",
    "tehran_df_SixReg_pn_6_98 = tehran_df[tehran_df_reg['3_PN']==6]"
   ]
  },
  {
   "cell_type": "markdown",
   "id": "8af4810a-ca8a-4060-942e-8a3b57cfb7d9",
   "metadata": {},
   "source": [
    "## Tehran pn 6 Regimed DF Normed Return 90 Far - 98 Dey / Same Length"
   ]
  },
  {
   "cell_type": "code",
   "execution_count": 112,
   "id": "0f253122-afe8-485d-bf5d-944120b3dec4",
   "metadata": {},
   "outputs": [],
   "source": [
    "max_length_SixReg_pn_90_98 = min(len(tehran_df_SixReg_pn_1_98), len(tehran_df_SixReg_pn_2_98),len(tehran_df_SixReg_pn_3_98),\\\n",
    "                                  len(tehran_df_SixReg_pn_4_98), len(tehran_df_SixReg_pn_5_98),len(tehran_df_SixReg_pn_6_98))\n",
    "tehran_df_SixReg_pn_1_same_length_98 = tehran_df_SixReg_pn_1_98[-max_length_SixReg_pn_90_98:]\n",
    "tehran_df_SixReg_pn_2_same_length_98 = tehran_df_SixReg_pn_2_98[-max_length_SixReg_pn_90_98:]\n",
    "tehran_df_SixReg_pn_3_same_length_98 = tehran_df_SixReg_pn_3_98[-max_length_SixReg_pn_90_98:]\n",
    "tehran_df_SixReg_pn_4_same_length_98 = tehran_df_SixReg_pn_4_98[-max_length_SixReg_pn_90_98:]\n",
    "tehran_df_SixReg_pn_5_same_length_98 = tehran_df_SixReg_pn_5_98[-max_length_SixReg_pn_90_98:]\n",
    "tehran_df_SixReg_pn_6_same_length_98 = tehran_df_SixReg_pn_6_98[-max_length_SixReg_pn_90_98:]"
   ]
  },
  {
   "cell_type": "code",
   "execution_count": null,
   "id": "c3df4080-5d6f-43d6-8913-939f86c4a118",
   "metadata": {},
   "outputs": [],
   "source": []
  },
  {
   "cell_type": "markdown",
   "id": "1f09a6ba-4d78-423c-afa4-4ab6c0f428c1",
   "metadata": {},
   "source": [
    "# 20) Tehran 3 Regime Pearson (Based on Median Threshold) Period of 90 Far - 98 Dey"
   ]
  },
  {
   "cell_type": "code",
   "execution_count": 113,
   "id": "305bef0a-d187-498e-8b02-f0827018e31c",
   "metadata": {},
   "outputs": [],
   "source": [
    "nm = Net_moduls()"
   ]
  },
  {
   "cell_type": "code",
   "execution_count": 114,
   "id": "46689707-3c50-4490-9bd2-c376b2812e43",
   "metadata": {},
   "outputs": [],
   "source": [
    "thr20_1 = nm.find_median_pearson_threshold(tehran_df_ThreeReg_Ox_1_same_length_98)\n",
    "thr20_2 = nm.find_median_pearson_threshold(tehran_df_ThreeReg_Ox_2_same_length_98)\n",
    "thr20_3 = nm.find_median_pearson_threshold(tehran_df_ThreeReg_Ox_3_same_length_98)\n",
    "\n",
    "thr20 = min(thr20_1, thr20_2, thr20_3)"
   ]
  },
  {
   "cell_type": "code",
   "execution_count": 115,
   "id": "96076c45-aba5-47c4-8f13-f3c9b3217f48",
   "metadata": {},
   "outputs": [],
   "source": [
    "nm = Net_moduls()\n",
    "pearson_network_ThreeReg_Ox_1_98 = nm.construct_network(tehran_df_ThreeReg_Ox_1_same_length_98, method='pearson', threshold=thr20)"
   ]
  },
  {
   "cell_type": "code",
   "execution_count": 116,
   "id": "2f9e15df-e593-4a2a-84ee-919172274b93",
   "metadata": {},
   "outputs": [
    {
     "data": {
      "text/html": [
       "<div>\n",
       "<style scoped>\n",
       "    .dataframe tbody tr th:only-of-type {\n",
       "        vertical-align: middle;\n",
       "    }\n",
       "\n",
       "    .dataframe tbody tr th {\n",
       "        vertical-align: top;\n",
       "    }\n",
       "\n",
       "    .dataframe thead th {\n",
       "        text-align: right;\n",
       "    }\n",
       "</style>\n",
       "<table border=\"1\" class=\"dataframe\">\n",
       "  <thead>\n",
       "    <tr style=\"text-align: right;\">\n",
       "      <th></th>\n",
       "      <th>radius</th>\n",
       "      <th>diameter</th>\n",
       "      <th>densities</th>\n",
       "      <th>number_of_edges</th>\n",
       "      <th>average_clustering</th>\n",
       "      <th>avg_degree_centrality</th>\n",
       "      <th>avg_betweenness_centrality</th>\n",
       "      <th>avg_closeness_centrality</th>\n",
       "      <th>average_shortest_path_length</th>\n",
       "    </tr>\n",
       "  </thead>\n",
       "  <tbody>\n",
       "    <tr>\n",
       "      <th>0</th>\n",
       "      <td>2</td>\n",
       "      <td>4</td>\n",
       "      <td>0.50404</td>\n",
       "      <td>499</td>\n",
       "      <td>0.725729</td>\n",
       "      <td>0.50404</td>\n",
       "      <td>0.014964</td>\n",
       "      <td>0.637631</td>\n",
       "      <td>1.643434</td>\n",
       "    </tr>\n",
       "  </tbody>\n",
       "</table>\n",
       "</div>"
      ],
      "text/plain": [
       "   radius  diameter  densities  number_of_edges  average_clustering  \\\n",
       "0       2         4    0.50404              499            0.725729   \n",
       "\n",
       "   avg_degree_centrality  avg_betweenness_centrality  \\\n",
       "0                0.50404                    0.014964   \n",
       "\n",
       "   avg_closeness_centrality  average_shortest_path_length  \n",
       "0                  0.637631                      1.643434  "
      ]
     },
     "execution_count": 116,
     "metadata": {},
     "output_type": "execute_result"
    }
   ],
   "source": [
    "nm.get_network_features(pearson_network_ThreeReg_Ox_1_98)"
   ]
  },
  {
   "cell_type": "code",
   "execution_count": 117,
   "id": "b5cd96f1-c113-4321-9e21-a2507dfc8055",
   "metadata": {},
   "outputs": [
    {
     "data": {
      "text/plain": [
       "array({'CoalMining': 1, 'FaravardehayeNafti': 1, 'Brent Oil': 4, 'Euro': 4, 'M2': 4, 'M1': 5, 'GDP': 6, 'DastgahayeBargi': 6, 'HOUSE': 6, 'USD': 7, 'Coin': 7, 'Gold': 7, 'CPI': 10, 'Agriculture': 18, 'Mansojat': 19, 'EntesharVaChap': 24, 'VasayelErtebati': 24, 'Wood': 26, 'Shimiyaee': 26, 'FelezateAsasi': 27, 'ChandReshteSanati': 28, 'EstekrajeNaft': 29, 'Rayaneh': 29, 'FaniVaMohandesi': 29, 'index': 30, 'SayerMadan': 30, 'GhandVaShekar': 30, 'KanehayeGeyreFelezi': 30, 'Bank': 30, 'Mali': 30, 'MahsolateFelezi': 31, 'paper': 31, 'Lastic': 31, 'MahsolateFelezi.1': 31, 'MashinAlat': 31, 'khodrosazi': 31, 'GazaeeBejozGhand': 31, 'KashiVaSeramik': 31, 'Siman': 31, 'SarmayeGozari': 31, 'Amlakva': 31, 'Daroee': 32, 'SayerMali': 32, 'Bimeh': 32, 'HamlVaNaghl': 34},\n",
       "      dtype=object)"
      ]
     },
     "execution_count": 117,
     "metadata": {},
     "output_type": "execute_result"
    }
   ],
   "source": [
    "b20_1 = dict(nx.degree(pearson_network_ThreeReg_Ox_1_98))\n",
    "b20_1 = np.array(dict(sorted(b20_1.items(), key=lambda item: item[1])))\n",
    "b20_1"
   ]
  },
  {
   "cell_type": "code",
   "execution_count": 118,
   "id": "98283666-0d12-4c9e-84cf-25e7c671ef26",
   "metadata": {},
   "outputs": [],
   "source": [
    "pearson_network_ThreeReg_Ox_2_98 = nm.construct_network(tehran_df_ThreeReg_Ox_2_same_length_98, method='pearson', threshold=thr20)"
   ]
  },
  {
   "cell_type": "code",
   "execution_count": 119,
   "id": "729310dc-2559-4b76-a21d-7c3a17341275",
   "metadata": {},
   "outputs": [
    {
     "data": {
      "text/html": [
       "<div>\n",
       "<style scoped>\n",
       "    .dataframe tbody tr th:only-of-type {\n",
       "        vertical-align: middle;\n",
       "    }\n",
       "\n",
       "    .dataframe tbody tr th {\n",
       "        vertical-align: top;\n",
       "    }\n",
       "\n",
       "    .dataframe thead th {\n",
       "        text-align: right;\n",
       "    }\n",
       "</style>\n",
       "<table border=\"1\" class=\"dataframe\">\n",
       "  <thead>\n",
       "    <tr style=\"text-align: right;\">\n",
       "      <th></th>\n",
       "      <th>radius</th>\n",
       "      <th>diameter</th>\n",
       "      <th>densities</th>\n",
       "      <th>number_of_edges</th>\n",
       "      <th>average_clustering</th>\n",
       "      <th>avg_degree_centrality</th>\n",
       "      <th>avg_betweenness_centrality</th>\n",
       "      <th>avg_closeness_centrality</th>\n",
       "      <th>average_shortest_path_length</th>\n",
       "    </tr>\n",
       "  </thead>\n",
       "  <tbody>\n",
       "    <tr>\n",
       "      <th>0</th>\n",
       "      <td>2</td>\n",
       "      <td>3</td>\n",
       "      <td>0.541414</td>\n",
       "      <td>536</td>\n",
       "      <td>0.745603</td>\n",
       "      <td>0.541414</td>\n",
       "      <td>0.011816</td>\n",
       "      <td>0.686803</td>\n",
       "      <td>1.508081</td>\n",
       "    </tr>\n",
       "  </tbody>\n",
       "</table>\n",
       "</div>"
      ],
      "text/plain": [
       "   radius  diameter  densities  number_of_edges  average_clustering  \\\n",
       "0       2         3   0.541414              536            0.745603   \n",
       "\n",
       "   avg_degree_centrality  avg_betweenness_centrality  \\\n",
       "0               0.541414                    0.011816   \n",
       "\n",
       "   avg_closeness_centrality  average_shortest_path_length  \n",
       "0                  0.686803                      1.508081  "
      ]
     },
     "execution_count": 119,
     "metadata": {},
     "output_type": "execute_result"
    }
   ],
   "source": [
    "nm.get_network_features(pearson_network_ThreeReg_Ox_2_98)"
   ]
  },
  {
   "cell_type": "code",
   "execution_count": 120,
   "id": "f555a113-fe73-4bfc-9377-85527d5475a9",
   "metadata": {},
   "outputs": [
    {
     "data": {
      "text/plain": [
       "array({'Brent Oil': 3, 'USD': 4, 'Coin': 5, 'Euro': 5, 'GDP': 5, 'CoalMining': 5, 'Mansojat': 7, 'HamlVaNaghl': 7, 'CPI': 7, 'HOUSE': 7, 'M2': 9, 'M1': 10, 'AbzaralatePezeshki': 22, 'EntesharVaChap': 23, 'VasayelErtebati': 24, 'paper': 26, 'GhandVaShekar': 27, 'FaravardehayeNafti': 28, 'FelezateAsasi': 28, 'ChandReshteSanati': 29, 'FaniVaMohandesi': 29, 'SayerMadan': 30, 'Rayaneh': 30, 'index': 31, 'Agriculture': 31, 'EstekrajeNaft': 31, 'MahsolateFelezi': 31, 'Lastic': 31, 'MahsolateFelezi.1': 31, 'Shimiyaee': 31, 'KashiVaSeramik': 31, 'Bank': 31, 'DastgahayeBargi': 32, 'khodrosazi': 32, 'Daroee': 32, 'KanehayeGeyreFelezi': 32, 'SarmayeGozari': 32, 'Amlakva': 32, 'Mali': 32, 'Wood': 33, 'MashinAlat': 33, 'Siman': 33, 'SayerMali': 33, 'Bimeh': 33, 'GazaeeBejozGhand': 34},\n",
       "      dtype=object)"
      ]
     },
     "execution_count": 120,
     "metadata": {},
     "output_type": "execute_result"
    }
   ],
   "source": [
    "b20_2 = dict(nx.degree(pearson_network_ThreeReg_Ox_2_98))\n",
    "b20_2 = np.array(dict(sorted(b20_2.items(), key=lambda item: item[1])))\n",
    "b20_2"
   ]
  },
  {
   "cell_type": "code",
   "execution_count": 121,
   "id": "43b24981-ed8c-464e-8ce8-5145bb97c5db",
   "metadata": {},
   "outputs": [],
   "source": [
    "pearson_network_ThreeReg_Ox_3_98 = nm.construct_network(tehran_df_ThreeReg_Ox_3_same_length_98, method='pearson', threshold=thr20)"
   ]
  },
  {
   "cell_type": "code",
   "execution_count": 122,
   "id": "29bc0dd4-6f5f-457f-ab5d-2b6c8a37c344",
   "metadata": {},
   "outputs": [
    {
     "data": {
      "text/html": [
       "<div>\n",
       "<style scoped>\n",
       "    .dataframe tbody tr th:only-of-type {\n",
       "        vertical-align: middle;\n",
       "    }\n",
       "\n",
       "    .dataframe tbody tr th {\n",
       "        vertical-align: top;\n",
       "    }\n",
       "\n",
       "    .dataframe thead th {\n",
       "        text-align: right;\n",
       "    }\n",
       "</style>\n",
       "<table border=\"1\" class=\"dataframe\">\n",
       "  <thead>\n",
       "    <tr style=\"text-align: right;\">\n",
       "      <th></th>\n",
       "      <th>radius</th>\n",
       "      <th>diameter</th>\n",
       "      <th>densities</th>\n",
       "      <th>number_of_edges</th>\n",
       "      <th>average_clustering</th>\n",
       "      <th>avg_degree_centrality</th>\n",
       "      <th>avg_betweenness_centrality</th>\n",
       "      <th>avg_closeness_centrality</th>\n",
       "      <th>average_shortest_path_length</th>\n",
       "    </tr>\n",
       "  </thead>\n",
       "  <tbody>\n",
       "    <tr>\n",
       "      <th>0</th>\n",
       "      <td>2</td>\n",
       "      <td>4</td>\n",
       "      <td>0.529469</td>\n",
       "      <td>548</td>\n",
       "      <td>0.801732</td>\n",
       "      <td>0.529469</td>\n",
       "      <td>0.012253</td>\n",
       "      <td>0.680637</td>\n",
       "      <td>1.53913</td>\n",
       "    </tr>\n",
       "  </tbody>\n",
       "</table>\n",
       "</div>"
      ],
      "text/plain": [
       "   radius  diameter  densities  number_of_edges  average_clustering  \\\n",
       "0       2         4   0.529469              548            0.801732   \n",
       "\n",
       "   avg_degree_centrality  avg_betweenness_centrality  \\\n",
       "0               0.529469                    0.012253   \n",
       "\n",
       "   avg_closeness_centrality  average_shortest_path_length  \n",
       "0                  0.680637                       1.53913  "
      ]
     },
     "execution_count": 122,
     "metadata": {},
     "output_type": "execute_result"
    }
   ],
   "source": [
    "nm.get_network_features(pearson_network_ThreeReg_Ox_3_98)"
   ]
  },
  {
   "cell_type": "code",
   "execution_count": 123,
   "id": "38e892b7-058a-418a-adf3-c7e0a7ca9a57",
   "metadata": {},
   "outputs": [
    {
     "data": {
      "text/plain": [
       "array({'FaravardehayeNafti': 2, 'DastgahayeBargi': 2, 'M2': 3, 'HOUSE': 3, 'AbzaralatePezeshki': 4, 'Gold': 4, 'USD': 5, 'M1': 5, 'Brent Oil': 6, 'Euro': 6, 'Coin': 7, 'GDP': 7, 'CPI': 9, 'Mansojat': 22, 'CoalMining': 23, 'Wood': 26, 'EstekrajeNaft': 28, 'SayerMadan': 28, 'EntesharVaChap': 29, 'ChandReshteSanati': 29, 'Shimiyaee': 29, 'FelezateAsasi': 30, 'Bank': 30, 'index': 31, 'Rayaneh': 31, 'FaniVaMohandesi': 31, 'paper': 32, 'KashiVaSeramik': 32, 'SarmayeGozari': 32, 'Mali': 32, 'MashinAlat': 33, 'khodrosazi': 33, 'GhandVaShekar': 33, 'GazaeeBejozGhand': 33, 'Daroee': 33, 'Bimeh': 33, 'Amlakva': 33, 'MahsolateFelezi': 34, 'Lastic': 34, 'MahsolateFelezi.1': 34, 'VasayelErtebati': 34, 'Siman': 34, 'KanehayeGeyreFelezi': 34, 'SayerMali': 34, 'HamlVaNaghl': 34, 'Agriculture': 35},\n",
       "      dtype=object)"
      ]
     },
     "execution_count": 123,
     "metadata": {},
     "output_type": "execute_result"
    }
   ],
   "source": [
    "b20_3 = dict(nx.degree(pearson_network_ThreeReg_Ox_3_98))\n",
    "b20_3 = np.array(dict(sorted(b20_3.items(), key=lambda item: item[1])))\n",
    "b20_3"
   ]
  },
  {
   "cell_type": "markdown",
   "id": "11d99955-dd43-4c4e-8249-7e3afccbfbad",
   "metadata": {},
   "source": [
    "# 21) Tehran 3 Regime Pearson (Based on Median Threshold) Period of 90 Far - 00 Far"
   ]
  },
  {
   "cell_type": "code",
   "execution_count": 124,
   "id": "ca181ae3-76f1-4287-ba2e-fc82284f554e",
   "metadata": {},
   "outputs": [],
   "source": [
    "nm = Net_moduls()"
   ]
  },
  {
   "cell_type": "code",
   "execution_count": 125,
   "id": "0c6c98c3-7f8f-4827-b09a-475b36fd5cb2",
   "metadata": {},
   "outputs": [],
   "source": [
    "thr21_1 = nm.find_median_pearson_threshold(tehran_df_ThreeReg_Ox_1_same_length)\n",
    "thr21_2 = nm.find_median_pearson_threshold(tehran_df_ThreeReg_Ox_2_same_length)\n",
    "thr21_3 = nm.find_median_pearson_threshold(tehran_df_ThreeReg_Ox_3_same_length)\n",
    "\n",
    "thr21 = min(thr21_1, thr21_2, thr21_3)"
   ]
  },
  {
   "cell_type": "code",
   "execution_count": 126,
   "id": "929718e8-ac96-4d8b-81ff-03b8e7b289c8",
   "metadata": {},
   "outputs": [],
   "source": [
    "nm = Net_moduls()\n",
    "pearson_network_ThreeReg_Ox_1 = nm.construct_network(tehran_df_ThreeReg_Ox_1_same_length, method='pearson', threshold=thr21)"
   ]
  },
  {
   "cell_type": "code",
   "execution_count": 127,
   "id": "fe6454c3-032b-43c5-9c95-2ea054c8277c",
   "metadata": {},
   "outputs": [
    {
     "data": {
      "text/html": [
       "<div>\n",
       "<style scoped>\n",
       "    .dataframe tbody tr th:only-of-type {\n",
       "        vertical-align: middle;\n",
       "    }\n",
       "\n",
       "    .dataframe tbody tr th {\n",
       "        vertical-align: top;\n",
       "    }\n",
       "\n",
       "    .dataframe thead th {\n",
       "        text-align: right;\n",
       "    }\n",
       "</style>\n",
       "<table border=\"1\" class=\"dataframe\">\n",
       "  <thead>\n",
       "    <tr style=\"text-align: right;\">\n",
       "      <th></th>\n",
       "      <th>radius</th>\n",
       "      <th>diameter</th>\n",
       "      <th>densities</th>\n",
       "      <th>number_of_edges</th>\n",
       "      <th>average_clustering</th>\n",
       "      <th>avg_degree_centrality</th>\n",
       "      <th>avg_betweenness_centrality</th>\n",
       "      <th>avg_closeness_centrality</th>\n",
       "      <th>average_shortest_path_length</th>\n",
       "    </tr>\n",
       "  </thead>\n",
       "  <tbody>\n",
       "    <tr>\n",
       "      <th>0</th>\n",
       "      <td>2</td>\n",
       "      <td>3</td>\n",
       "      <td>0.539112</td>\n",
       "      <td>510</td>\n",
       "      <td>0.747306</td>\n",
       "      <td>0.539112</td>\n",
       "      <td>0.01193</td>\n",
       "      <td>0.687496</td>\n",
       "      <td>1.501057</td>\n",
       "    </tr>\n",
       "  </tbody>\n",
       "</table>\n",
       "</div>"
      ],
      "text/plain": [
       "   radius  diameter  densities  number_of_edges  average_clustering  \\\n",
       "0       2         3   0.539112              510            0.747306   \n",
       "\n",
       "   avg_degree_centrality  avg_betweenness_centrality  \\\n",
       "0               0.539112                     0.01193   \n",
       "\n",
       "   avg_closeness_centrality  average_shortest_path_length  \n",
       "0                  0.687496                      1.501057  "
      ]
     },
     "execution_count": 127,
     "metadata": {},
     "output_type": "execute_result"
    }
   ],
   "source": [
    "nm.get_network_features(pearson_network_ThreeReg_Ox_1)"
   ]
  },
  {
   "cell_type": "code",
   "execution_count": 128,
   "id": "d6db6d61-1df3-4c66-8cb5-e55abbc45bbd",
   "metadata": {},
   "outputs": [
    {
     "data": {
      "text/plain": [
       "array({'CoalMining': 2, 'CPI': 4, 'DastgahayeBargi': 5, 'M1': 5, 'Coin': 6, 'GDP': 6, 'Brent Oil': 7, 'HOUSE': 7, 'USD': 8, 'Gold': 8, 'Euro': 9, 'M2': 12, 'VasayelErtebati': 17, 'Mansojat': 19, 'EntesharVaChap': 26, 'EstekrajeNaft': 28, 'SayerMadan': 28, 'Shimiyaee': 28, 'Agriculture': 29, 'Wood': 29, 'khodrosazi': 29, 'ChandReshteSanati': 29, 'FaniVaMohandesi': 29, 'Mali': 29, 'index': 30, 'Lastic': 30, 'FelezateAsasi': 30, 'GhandVaShekar': 30, 'KanehayeGeyreFelezi': 30, 'paper': 31, 'MashinAlat': 31, 'GazaeeBejozGhand': 31, 'Daroee': 31, 'Siman': 31, 'SarmayeGozari': 31, 'Bank': 31, 'SayerMali': 31, 'HamlVaNaghl': 31, 'Bimeh': 31, 'Amlakva': 31, 'Rayaneh': 31, 'MahsolateFelezi': 33, 'MahsolateFelezi.1': 33, 'KashiVaSeramik': 33},\n",
       "      dtype=object)"
      ]
     },
     "execution_count": 128,
     "metadata": {},
     "output_type": "execute_result"
    }
   ],
   "source": [
    "b21_1 = dict(nx.degree(pearson_network_ThreeReg_Ox_1))\n",
    "b21_1 = np.array(dict(sorted(b21_1.items(), key=lambda item: item[1])))\n",
    "b21_1"
   ]
  },
  {
   "cell_type": "code",
   "execution_count": 129,
   "id": "fcccae1c-6e2c-42cd-b6a7-853a87ed2ca6",
   "metadata": {},
   "outputs": [],
   "source": [
    "pearson_network_ThreeReg_Ox_2 = nm.construct_network(tehran_df_ThreeReg_Ox_2_same_length, method='pearson', threshold=thr21)"
   ]
  },
  {
   "cell_type": "code",
   "execution_count": 130,
   "id": "86effaea-3825-476c-9c80-3d96b3455582",
   "metadata": {},
   "outputs": [
    {
     "data": {
      "text/html": [
       "<div>\n",
       "<style scoped>\n",
       "    .dataframe tbody tr th:only-of-type {\n",
       "        vertical-align: middle;\n",
       "    }\n",
       "\n",
       "    .dataframe tbody tr th {\n",
       "        vertical-align: top;\n",
       "    }\n",
       "\n",
       "    .dataframe thead th {\n",
       "        text-align: right;\n",
       "    }\n",
       "</style>\n",
       "<table border=\"1\" class=\"dataframe\">\n",
       "  <thead>\n",
       "    <tr style=\"text-align: right;\">\n",
       "      <th></th>\n",
       "      <th>radius</th>\n",
       "      <th>diameter</th>\n",
       "      <th>densities</th>\n",
       "      <th>number_of_edges</th>\n",
       "      <th>average_clustering</th>\n",
       "      <th>avg_degree_centrality</th>\n",
       "      <th>avg_betweenness_centrality</th>\n",
       "      <th>avg_closeness_centrality</th>\n",
       "      <th>average_shortest_path_length</th>\n",
       "    </tr>\n",
       "  </thead>\n",
       "  <tbody>\n",
       "    <tr>\n",
       "      <th>0</th>\n",
       "      <td>2</td>\n",
       "      <td>3</td>\n",
       "      <td>0.574879</td>\n",
       "      <td>595</td>\n",
       "      <td>0.800997</td>\n",
       "      <td>0.574879</td>\n",
       "      <td>0.010321</td>\n",
       "      <td>0.713154</td>\n",
       "      <td>1.454106</td>\n",
       "    </tr>\n",
       "  </tbody>\n",
       "</table>\n",
       "</div>"
      ],
      "text/plain": [
       "   radius  diameter  densities  number_of_edges  average_clustering  \\\n",
       "0       2         3   0.574879              595            0.800997   \n",
       "\n",
       "   avg_degree_centrality  avg_betweenness_centrality  \\\n",
       "0               0.574879                    0.010321   \n",
       "\n",
       "   avg_closeness_centrality  average_shortest_path_length  \n",
       "0                  0.713154                      1.454106  "
      ]
     },
     "execution_count": 130,
     "metadata": {},
     "output_type": "execute_result"
    }
   ],
   "source": [
    "nm.get_network_features(pearson_network_ThreeReg_Ox_2)"
   ]
  },
  {
   "cell_type": "code",
   "execution_count": 131,
   "id": "85462b02-3acc-44c2-9403-643d254a9698",
   "metadata": {},
   "outputs": [
    {
     "data": {
      "text/plain": [
       "array({'Gold': 2, 'Brent Oil': 3, 'GDP': 5, 'Coin': 6, 'HOUSE': 6, 'Euro': 8, 'Mansojat': 8, 'CoalMining': 8, 'CPI': 10, 'USD': 13, 'HamlVaNaghl': 13, 'M1': 14, 'M2': 15, 'AbzaralatePezeshki': 21, 'EntesharVaChap': 23, 'ChandReshteSanati': 30, 'EstekrajeNaft': 31, 'MahsolateFelezi': 32, 'SayerMadan': 32, 'paper': 32, 'MahsolateFelezi.1': 32, 'VasayelErtebati': 32, 'Rayaneh': 32, 'FaniVaMohandesi': 32, 'Agriculture': 33, 'khodrosazi': 33, 'KashiVaSeramik': 33, 'Siman': 33, 'KanehayeGeyreFelezi': 33, 'SarmayeGozari': 33, 'SayerMali': 33, 'Amlakva': 33, 'Wood': 34, 'Lastic': 34, 'DastgahayeBargi': 34, 'GhandVaShekar': 34, 'Shimiyaee': 34, 'Bimeh': 34, 'Mali': 34, 'FaravardehayeNafti': 35, 'FelezateAsasi': 35, 'MashinAlat': 35, 'GazaeeBejozGhand': 35, 'Daroee': 35, 'Bank': 36, 'index': 37},\n",
       "      dtype=object)"
      ]
     },
     "execution_count": 131,
     "metadata": {},
     "output_type": "execute_result"
    }
   ],
   "source": [
    "b21_2 = dict(nx.degree(pearson_network_ThreeReg_Ox_2))\n",
    "b21_2 = np.array(dict(sorted(b21_2.items(), key=lambda item: item[1])))\n",
    "b21_2"
   ]
  },
  {
   "cell_type": "code",
   "execution_count": 132,
   "id": "4d13b684-95df-4dd0-96df-21d544ae84d0",
   "metadata": {},
   "outputs": [],
   "source": [
    "pearson_network_ThreeReg_Ox_3 = nm.construct_network(tehran_df_ThreeReg_Ox_3_same_length, method='pearson', threshold=thr21)"
   ]
  },
  {
   "cell_type": "code",
   "execution_count": 133,
   "id": "a1fc2ea4-51bd-4834-b3d0-83787f58fed0",
   "metadata": {},
   "outputs": [
    {
     "data": {
      "text/html": [
       "<div>\n",
       "<style scoped>\n",
       "    .dataframe tbody tr th:only-of-type {\n",
       "        vertical-align: middle;\n",
       "    }\n",
       "\n",
       "    .dataframe tbody tr th {\n",
       "        vertical-align: top;\n",
       "    }\n",
       "\n",
       "    .dataframe thead th {\n",
       "        text-align: right;\n",
       "    }\n",
       "</style>\n",
       "<table border=\"1\" class=\"dataframe\">\n",
       "  <thead>\n",
       "    <tr style=\"text-align: right;\">\n",
       "      <th></th>\n",
       "      <th>radius</th>\n",
       "      <th>diameter</th>\n",
       "      <th>densities</th>\n",
       "      <th>number_of_edges</th>\n",
       "      <th>average_clustering</th>\n",
       "      <th>avg_degree_centrality</th>\n",
       "      <th>avg_betweenness_centrality</th>\n",
       "      <th>avg_closeness_centrality</th>\n",
       "      <th>average_shortest_path_length</th>\n",
       "    </tr>\n",
       "  </thead>\n",
       "  <tbody>\n",
       "    <tr>\n",
       "      <th>0</th>\n",
       "      <td>2</td>\n",
       "      <td>3</td>\n",
       "      <td>0.573913</td>\n",
       "      <td>594</td>\n",
       "      <td>0.798711</td>\n",
       "      <td>0.573913</td>\n",
       "      <td>0.010255</td>\n",
       "      <td>0.713998</td>\n",
       "      <td>1.451208</td>\n",
       "    </tr>\n",
       "  </tbody>\n",
       "</table>\n",
       "</div>"
      ],
      "text/plain": [
       "   radius  diameter  densities  number_of_edges  average_clustering  \\\n",
       "0       2         3   0.573913              594            0.798711   \n",
       "\n",
       "   avg_degree_centrality  avg_betweenness_centrality  \\\n",
       "0               0.573913                    0.010255   \n",
       "\n",
       "   avg_closeness_centrality  average_shortest_path_length  \n",
       "0                  0.713998                      1.451208  "
      ]
     },
     "execution_count": 133,
     "metadata": {},
     "output_type": "execute_result"
    }
   ],
   "source": [
    "nm.get_network_features(pearson_network_ThreeReg_Ox_3)"
   ]
  },
  {
   "cell_type": "code",
   "execution_count": 134,
   "id": "f18f31f3-df4c-4287-b441-b807ec51f1fa",
   "metadata": {},
   "outputs": [
    {
     "data": {
      "text/plain": [
       "array({'AbzaralatePezeshki': 2, 'FaravardehayeNafti': 2, 'Mali': 4, 'Brent Oil': 5, 'DastgahayeBargi': 5, 'Coin': 8, 'GDP': 9, 'M1': 10, 'CPI': 11, 'Gold': 12, 'CoalMining': 14, 'Euro': 18, 'HOUSE': 18, 'USD': 19, 'M2': 24, 'Mansojat': 26, 'Wood': 28, 'Bank': 28, 'EntesharVaChap': 29, 'EstekrajeNaft': 30, 'Agriculture': 31, 'SayerMadan': 31, 'paper': 31, 'VasayelErtebati': 31, 'FaniVaMohandesi': 31, 'Bimeh': 32, 'MashinAlat': 33, 'khodrosazi': 33, 'GhandVaShekar': 33, 'HamlVaNaghl': 33, 'Lastic': 34, 'Amlakva': 34, 'Rayaneh': 34, 'index': 35, 'MahsolateFelezi': 35, 'MahsolateFelezi.1': 35, 'Shimiyaee': 35, 'KashiVaSeramik': 35, 'KanehayeGeyreFelezi': 35, 'SarmayeGozari': 35, 'SayerMali': 35, 'FelezateAsasi': 36, 'ChandReshteSanati': 37, 'GazaeeBejozGhand': 37, 'Siman': 37, 'Daroee': 38},\n",
       "      dtype=object)"
      ]
     },
     "execution_count": 134,
     "metadata": {},
     "output_type": "execute_result"
    }
   ],
   "source": [
    "b21_3 = dict(nx.degree(pearson_network_ThreeReg_Ox_3))\n",
    "b21_3 = np.array(dict(sorted(b21_3.items(), key=lambda item: item[1])))\n",
    "b21_3"
   ]
  },
  {
   "cell_type": "markdown",
   "id": "b05030f8-b42d-4d1f-8645-47d5b0edb233",
   "metadata": {},
   "source": [
    "# 22) Tehran 3 Regime Pearson (Based on Median Threshold) Period of 90 Far - 98 Dey/ Last 100 Records"
   ]
  },
  {
   "cell_type": "code",
   "execution_count": 135,
   "id": "e790947c-68a2-46c8-a8db-1fc217d7f8d5",
   "metadata": {},
   "outputs": [],
   "source": [
    "thr22_1 = nm.find_median_pearson_threshold(tehran_df_ThreeReg_Ox_1_same_length_98[-100:])\n",
    "thr22_2 = nm.find_median_pearson_threshold(tehran_df_ThreeReg_Ox_2_same_length_98[-100:])\n",
    "thr22_3 = nm.find_median_pearson_threshold(tehran_df_ThreeReg_Ox_3_same_length_98[-100:])\n",
    "\n",
    "thr22 = min(thr22_1, thr22_2, thr22_3)"
   ]
  },
  {
   "cell_type": "code",
   "execution_count": 136,
   "id": "c69fadc7-1297-4639-a8a5-16099a655ec5",
   "metadata": {},
   "outputs": [],
   "source": [
    "pearson_network_ThreeReg_Ox_1_98_last100 = nm.construct_network(tehran_df_ThreeReg_Ox_1_same_length_98[-100:], method='pearson', threshold=thr22)"
   ]
  },
  {
   "cell_type": "code",
   "execution_count": 137,
   "id": "633f0858-7676-498c-8693-ef777c524487",
   "metadata": {},
   "outputs": [
    {
     "data": {
      "text/html": [
       "<div>\n",
       "<style scoped>\n",
       "    .dataframe tbody tr th:only-of-type {\n",
       "        vertical-align: middle;\n",
       "    }\n",
       "\n",
       "    .dataframe tbody tr th {\n",
       "        vertical-align: top;\n",
       "    }\n",
       "\n",
       "    .dataframe thead th {\n",
       "        text-align: right;\n",
       "    }\n",
       "</style>\n",
       "<table border=\"1\" class=\"dataframe\">\n",
       "  <thead>\n",
       "    <tr style=\"text-align: right;\">\n",
       "      <th></th>\n",
       "      <th>radius</th>\n",
       "      <th>diameter</th>\n",
       "      <th>densities</th>\n",
       "      <th>number_of_edges</th>\n",
       "      <th>average_clustering</th>\n",
       "      <th>avg_degree_centrality</th>\n",
       "      <th>avg_betweenness_centrality</th>\n",
       "      <th>avg_closeness_centrality</th>\n",
       "      <th>average_shortest_path_length</th>\n",
       "    </tr>\n",
       "  </thead>\n",
       "  <tbody>\n",
       "    <tr>\n",
       "      <th>0</th>\n",
       "      <td>2</td>\n",
       "      <td>4</td>\n",
       "      <td>0.526263</td>\n",
       "      <td>521</td>\n",
       "      <td>0.774176</td>\n",
       "      <td>0.526263</td>\n",
       "      <td>0.013014</td>\n",
       "      <td>0.673639</td>\n",
       "      <td>1.559596</td>\n",
       "    </tr>\n",
       "  </tbody>\n",
       "</table>\n",
       "</div>"
      ],
      "text/plain": [
       "   radius  diameter  densities  number_of_edges  average_clustering  \\\n",
       "0       2         4   0.526263              521            0.774176   \n",
       "\n",
       "   avg_degree_centrality  avg_betweenness_centrality  \\\n",
       "0               0.526263                    0.013014   \n",
       "\n",
       "   avg_closeness_centrality  average_shortest_path_length  \n",
       "0                  0.673639                      1.559596  "
      ]
     },
     "execution_count": 137,
     "metadata": {},
     "output_type": "execute_result"
    }
   ],
   "source": [
    "nm.get_network_features(pearson_network_ThreeReg_Ox_1_98_last100)"
   ]
  },
  {
   "cell_type": "code",
   "execution_count": 138,
   "id": "9a254550-f065-48ca-acb4-812dd613d994",
   "metadata": {},
   "outputs": [
    {
     "data": {
      "text/plain": [
       "array({'FaravardehayeNafti': 1, 'Coin': 2, 'M2': 3, 'Brent Oil': 4, 'GDP': 4, 'CoalMining': 4, 'DastgahayeBargi': 5, 'Euro': 6, 'M1': 6, 'Gold': 6, 'CPI': 7, 'USD': 8, 'HOUSE': 9, 'Mansojat': 24, 'EntesharVaChap': 26, 'Wood': 27, 'VasayelErtebati': 27, 'ChandReshteSanati': 27, 'Agriculture': 28, 'FelezateAsasi': 28, 'paper': 29, 'Shimiyaee': 29, 'index': 30, 'Siman': 30, 'Bank': 30, 'Rayaneh': 30, 'Mali': 30, 'khodrosazi': 31, 'GazaeeBejozGhand': 31, 'KanehayeGeyreFelezi': 31, 'SarmayeGozari': 31, 'SayerMali': 31, 'Amlakva': 31, 'EstekrajeNaft': 32, 'GhandVaShekar': 32, 'Daroee': 32, 'Bimeh': 32, 'MashinAlat': 33, 'KashiVaSeramik': 33, 'HamlVaNaghl': 33, 'FaniVaMohandesi': 33, 'MahsolateFelezi': 34, 'SayerMadan': 34, 'Lastic': 34, 'MahsolateFelezi.1': 34},\n",
       "      dtype=object)"
      ]
     },
     "execution_count": 138,
     "metadata": {},
     "output_type": "execute_result"
    }
   ],
   "source": [
    "b22_1 = dict(nx.degree(pearson_network_ThreeReg_Ox_1_98_last100))\n",
    "b22_1 = np.array(dict(sorted(b22_1.items(), key=lambda item: item[1])))\n",
    "b22_1"
   ]
  },
  {
   "cell_type": "code",
   "execution_count": 139,
   "id": "31263623-f303-499c-9c38-b03c620f0ccb",
   "metadata": {},
   "outputs": [],
   "source": [
    "pearson_network_ThreeReg_Ox_2_98_last100 = nm.construct_network(tehran_df_ThreeReg_Ox_2_same_length_98[-100:], method='pearson', threshold=thr22)"
   ]
  },
  {
   "cell_type": "code",
   "execution_count": 140,
   "id": "01f032cb-b351-4d35-b7bc-e61cab22d80c",
   "metadata": {},
   "outputs": [
    {
     "data": {
      "text/html": [
       "<div>\n",
       "<style scoped>\n",
       "    .dataframe tbody tr th:only-of-type {\n",
       "        vertical-align: middle;\n",
       "    }\n",
       "\n",
       "    .dataframe tbody tr th {\n",
       "        vertical-align: top;\n",
       "    }\n",
       "\n",
       "    .dataframe thead th {\n",
       "        text-align: right;\n",
       "    }\n",
       "</style>\n",
       "<table border=\"1\" class=\"dataframe\">\n",
       "  <thead>\n",
       "    <tr style=\"text-align: right;\">\n",
       "      <th></th>\n",
       "      <th>radius</th>\n",
       "      <th>diameter</th>\n",
       "      <th>densities</th>\n",
       "      <th>number_of_edges</th>\n",
       "      <th>average_clustering</th>\n",
       "      <th>avg_degree_centrality</th>\n",
       "      <th>avg_betweenness_centrality</th>\n",
       "      <th>avg_closeness_centrality</th>\n",
       "      <th>average_shortest_path_length</th>\n",
       "    </tr>\n",
       "  </thead>\n",
       "  <tbody>\n",
       "    <tr>\n",
       "      <th>0</th>\n",
       "      <td>2</td>\n",
       "      <td>3</td>\n",
       "      <td>0.561616</td>\n",
       "      <td>556</td>\n",
       "      <td>0.755907</td>\n",
       "      <td>0.561616</td>\n",
       "      <td>0.01097</td>\n",
       "      <td>0.70374</td>\n",
       "      <td>1.471717</td>\n",
       "    </tr>\n",
       "  </tbody>\n",
       "</table>\n",
       "</div>"
      ],
      "text/plain": [
       "   radius  diameter  densities  number_of_edges  average_clustering  \\\n",
       "0       2         3   0.561616              556            0.755907   \n",
       "\n",
       "   avg_degree_centrality  avg_betweenness_centrality  \\\n",
       "0               0.561616                     0.01097   \n",
       "\n",
       "   avg_closeness_centrality  average_shortest_path_length  \n",
       "0                   0.70374                      1.471717  "
      ]
     },
     "execution_count": 140,
     "metadata": {},
     "output_type": "execute_result"
    }
   ],
   "source": [
    "nm.get_network_features(pearson_network_ThreeReg_Ox_2_98_last100)"
   ]
  },
  {
   "cell_type": "code",
   "execution_count": 141,
   "id": "50beb2ba-340b-4d14-b388-f8aa9b8894ec",
   "metadata": {},
   "outputs": [
    {
     "data": {
      "text/plain": [
       "array({'CoalMining': 2, 'Coin': 3, 'Brent Oil': 5, 'HOUSE': 5, 'Euro': 6, 'GDP': 6, 'Mansojat': 8, 'M1': 8, 'AbzaralatePezeshki': 10, 'CPI': 10, 'M2': 11, 'USD': 13, 'paper': 20, 'EntesharVaChap': 21, 'Wood': 26, 'FaravardehayeNafti': 29, 'Daroee': 30, 'FaniVaMohandesi': 30, 'Agriculture': 31, 'SayerMadan': 31, 'VasayelErtebati': 31, 'GhandVaShekar': 31, 'ChandReshteSanati': 31, 'Bank': 31, 'SayerMali': 31, 'index': 32, 'EstekrajeNaft': 32, 'MahsolateFelezi': 32, 'FelezateAsasi': 32, 'MahsolateFelezi.1': 32, 'GazaeeBejozGhand': 32, 'KanehayeGeyreFelezi': 32, 'Bimeh': 32, 'Amlakva': 32, 'Rayaneh': 32, 'Mali': 32, 'Lastic': 33, 'DastgahayeBargi': 33, 'khodrosazi': 33, 'Shimiyaee': 33, 'KashiVaSeramik': 33, 'HamlVaNaghl': 33, 'MashinAlat': 34, 'Siman': 34, 'SarmayeGozari': 34},\n",
       "      dtype=object)"
      ]
     },
     "execution_count": 141,
     "metadata": {},
     "output_type": "execute_result"
    }
   ],
   "source": [
    "b22_2 = dict(nx.degree(pearson_network_ThreeReg_Ox_2_98_last100))\n",
    "b22_2 = np.array(dict(sorted(b22_2.items(), key=lambda item: item[1])))\n",
    "b22_2"
   ]
  },
  {
   "cell_type": "code",
   "execution_count": 142,
   "id": "1b45b4bb-a4ee-43b3-afa5-1ec5e9bc8264",
   "metadata": {},
   "outputs": [],
   "source": [
    "pearson_network_ThreeReg_Ox_3_98_last100 = nm.construct_network(tehran_df_ThreeReg_Ox_3_same_length_98[-100:], method='pearson', threshold=thr22)"
   ]
  },
  {
   "cell_type": "code",
   "execution_count": 143,
   "id": "7a942557-b077-41b7-a075-b2b255270b76",
   "metadata": {},
   "outputs": [
    {
     "data": {
      "text/html": [
       "<div>\n",
       "<style scoped>\n",
       "    .dataframe tbody tr th:only-of-type {\n",
       "        vertical-align: middle;\n",
       "    }\n",
       "\n",
       "    .dataframe tbody tr th {\n",
       "        vertical-align: top;\n",
       "    }\n",
       "\n",
       "    .dataframe thead th {\n",
       "        text-align: right;\n",
       "    }\n",
       "</style>\n",
       "<table border=\"1\" class=\"dataframe\">\n",
       "  <thead>\n",
       "    <tr style=\"text-align: right;\">\n",
       "      <th></th>\n",
       "      <th>radius</th>\n",
       "      <th>diameter</th>\n",
       "      <th>densities</th>\n",
       "      <th>number_of_edges</th>\n",
       "      <th>average_clustering</th>\n",
       "      <th>avg_degree_centrality</th>\n",
       "      <th>avg_betweenness_centrality</th>\n",
       "      <th>avg_closeness_centrality</th>\n",
       "      <th>average_shortest_path_length</th>\n",
       "    </tr>\n",
       "  </thead>\n",
       "  <tbody>\n",
       "    <tr>\n",
       "      <th>0</th>\n",
       "      <td>2</td>\n",
       "      <td>3</td>\n",
       "      <td>0.525253</td>\n",
       "      <td>520</td>\n",
       "      <td>0.770113</td>\n",
       "      <td>0.525253</td>\n",
       "      <td>0.012051</td>\n",
       "      <td>0.682895</td>\n",
       "      <td>1.518182</td>\n",
       "    </tr>\n",
       "  </tbody>\n",
       "</table>\n",
       "</div>"
      ],
      "text/plain": [
       "   radius  diameter  densities  number_of_edges  average_clustering  \\\n",
       "0       2         3   0.525253              520            0.770113   \n",
       "\n",
       "   avg_degree_centrality  avg_betweenness_centrality  \\\n",
       "0               0.525253                    0.012051   \n",
       "\n",
       "   avg_closeness_centrality  average_shortest_path_length  \n",
       "0                  0.682895                      1.518182  "
      ]
     },
     "execution_count": 143,
     "metadata": {},
     "output_type": "execute_result"
    }
   ],
   "source": [
    "nm.get_network_features(pearson_network_ThreeReg_Ox_3_98_last100)"
   ]
  },
  {
   "cell_type": "code",
   "execution_count": 144,
   "id": "85550757-0f41-4d4b-b488-ff1f84cb3213",
   "metadata": {},
   "outputs": [
    {
     "data": {
      "text/plain": [
       "array({'DastgahayeBargi': 2, 'USD': 3, 'FaravardehayeNafti': 3, 'Brent Oil': 5, 'Coin': 5, 'CPI': 6, 'HOUSE': 6, 'M2': 6, 'Gold': 8, 'M1': 8, 'Euro': 10, 'CoalMining': 14, 'SayerMadan': 15, 'Mansojat': 20, 'GDP': 23, 'EntesharVaChap': 23, 'Bank': 24, 'Wood': 26, 'VasayelErtebati': 27, 'Shimiyaee': 27, 'Agriculture': 28, 'FaniVaMohandesi': 28, 'khodrosazi': 29, 'Rayaneh': 29, 'EstekrajeNaft': 30, 'paper': 30, 'MashinAlat': 30, 'ChandReshteSanati': 30, 'KashiVaSeramik': 30, 'Amlakva': 30, 'MahsolateFelezi': 31, 'FelezateAsasi': 31, 'MahsolateFelezi.1': 31, 'GhandVaShekar': 31, 'Daroee': 31, 'HamlVaNaghl': 31, 'Mali': 31, 'KanehayeGeyreFelezi': 32, 'Lastic': 33, 'Siman': 33, 'SarmayeGozari': 33, 'index': 34, 'GazaeeBejozGhand': 34, 'Bimeh': 34, 'SayerMali': 35},\n",
       "      dtype=object)"
      ]
     },
     "execution_count": 144,
     "metadata": {},
     "output_type": "execute_result"
    }
   ],
   "source": [
    "b22_3 = dict(nx.degree(pearson_network_ThreeReg_Ox_3_98_last100))\n",
    "b22_3 = np.array(dict(sorted(b22_3.items(), key=lambda item: item[1])))\n",
    "b22_3"
   ]
  },
  {
   "cell_type": "markdown",
   "id": "a02ecf54-48bc-4b00-9fb1-eb60a04acc06",
   "metadata": {},
   "source": [
    "# 23) Tehran 3 Regime Pearson (Based on Median Threshold) Period of 90 Far - 98 Dey/ 50 windows of 100 Records"
   ]
  },
  {
   "cell_type": "code",
   "execution_count": 145,
   "id": "cbd2e661-21a1-45b8-a52b-019cbe23826c",
   "metadata": {
    "tags": []
   },
   "outputs": [
    {
     "name": "stdout",
     "output_type": "stream",
     "text": [
      "Number of columns data in our DataFrame is = 46\n",
      "fixed_thr= 0.16156381767335176\n"
     ]
    }
   ],
   "source": [
    "nm = Net_moduls()\n",
    "pearson_network_ThreeReg_Ox_1_98_averged = nm.get_network_features_averaged_median(tehran_df, regimes_column = tehran_df_reg['Ox_3'],method='pearson',edges_threshold=200, target_window=100, target_length=50)"
   ]
  },
  {
   "cell_type": "code",
   "execution_count": 146,
   "id": "96a1b19a-0d2e-4962-afc3-9fca7c40adb8",
   "metadata": {},
   "outputs": [
    {
     "data": {
      "text/html": [
       "<div>\n",
       "<style scoped>\n",
       "    .dataframe tbody tr th:only-of-type {\n",
       "        vertical-align: middle;\n",
       "    }\n",
       "\n",
       "    .dataframe tbody tr th {\n",
       "        vertical-align: top;\n",
       "    }\n",
       "\n",
       "    .dataframe thead th {\n",
       "        text-align: right;\n",
       "    }\n",
       "</style>\n",
       "<table border=\"1\" class=\"dataframe\">\n",
       "  <thead>\n",
       "    <tr style=\"text-align: right;\">\n",
       "      <th></th>\n",
       "      <th>radius</th>\n",
       "      <th>diameter</th>\n",
       "      <th>densities</th>\n",
       "      <th>number_of_edges</th>\n",
       "      <th>average_clustering</th>\n",
       "      <th>avg_degree_centrality</th>\n",
       "      <th>avg_betweenness_centrality</th>\n",
       "      <th>avg_closeness_centrality</th>\n",
       "      <th>average_shortest_path_length</th>\n",
       "    </tr>\n",
       "  </thead>\n",
       "  <tbody>\n",
       "    <tr>\n",
       "      <th>Means</th>\n",
       "      <td>2.000000</td>\n",
       "      <td>3.800000</td>\n",
       "      <td>0.499475</td>\n",
       "      <td>494.480000</td>\n",
       "      <td>0.745939</td>\n",
       "      <td>0.499475</td>\n",
       "      <td>0.013510</td>\n",
       "      <td>0.660148</td>\n",
       "      <td>1.580909</td>\n",
       "    </tr>\n",
       "    <tr>\n",
       "      <th>STDs</th>\n",
       "      <td>0.000000</td>\n",
       "      <td>0.404061</td>\n",
       "      <td>0.017391</td>\n",
       "      <td>17.216793</td>\n",
       "      <td>0.026547</td>\n",
       "      <td>0.017391</td>\n",
       "      <td>0.000958</td>\n",
       "      <td>0.014789</td>\n",
       "      <td>0.041212</td>\n",
       "    </tr>\n",
       "    <tr>\n",
       "      <th>Means</th>\n",
       "      <td>2.000000</td>\n",
       "      <td>3.340000</td>\n",
       "      <td>0.510726</td>\n",
       "      <td>510.340000</td>\n",
       "      <td>0.721118</td>\n",
       "      <td>0.510726</td>\n",
       "      <td>0.012356</td>\n",
       "      <td>0.673266</td>\n",
       "      <td>1.534206</td>\n",
       "    </tr>\n",
       "    <tr>\n",
       "      <th>STDs</th>\n",
       "      <td>0.000000</td>\n",
       "      <td>0.478518</td>\n",
       "      <td>0.028736</td>\n",
       "      <td>23.878613</td>\n",
       "      <td>0.024061</td>\n",
       "      <td>0.028736</td>\n",
       "      <td>0.000845</td>\n",
       "      <td>0.016667</td>\n",
       "      <td>0.039912</td>\n",
       "    </tr>\n",
       "    <tr>\n",
       "      <th>Means</th>\n",
       "      <td>2.120000</td>\n",
       "      <td>3.700000</td>\n",
       "      <td>0.574061</td>\n",
       "      <td>568.320000</td>\n",
       "      <td>0.805541</td>\n",
       "      <td>0.574061</td>\n",
       "      <td>0.011685</td>\n",
       "      <td>0.696485</td>\n",
       "      <td>1.502444</td>\n",
       "    </tr>\n",
       "    <tr>\n",
       "      <th>STDs</th>\n",
       "      <td>0.328261</td>\n",
       "      <td>0.505076</td>\n",
       "      <td>0.056284</td>\n",
       "      <td>55.721040</td>\n",
       "      <td>0.028098</td>\n",
       "      <td>0.056284</td>\n",
       "      <td>0.001682</td>\n",
       "      <td>0.032595</td>\n",
       "      <td>0.072308</td>\n",
       "    </tr>\n",
       "  </tbody>\n",
       "</table>\n",
       "</div>"
      ],
      "text/plain": [
       "         radius  diameter  densities  number_of_edges  average_clustering  \\\n",
       "Means  2.000000  3.800000   0.499475       494.480000            0.745939   \n",
       "STDs   0.000000  0.404061   0.017391        17.216793            0.026547   \n",
       "Means  2.000000  3.340000   0.510726       510.340000            0.721118   \n",
       "STDs   0.000000  0.478518   0.028736        23.878613            0.024061   \n",
       "Means  2.120000  3.700000   0.574061       568.320000            0.805541   \n",
       "STDs   0.328261  0.505076   0.056284        55.721040            0.028098   \n",
       "\n",
       "       avg_degree_centrality  avg_betweenness_centrality  \\\n",
       "Means               0.499475                    0.013510   \n",
       "STDs                0.017391                    0.000958   \n",
       "Means               0.510726                    0.012356   \n",
       "STDs                0.028736                    0.000845   \n",
       "Means               0.574061                    0.011685   \n",
       "STDs                0.056284                    0.001682   \n",
       "\n",
       "       avg_closeness_centrality  average_shortest_path_length  \n",
       "Means                  0.660148                      1.580909  \n",
       "STDs                   0.014789                      0.041212  \n",
       "Means                  0.673266                      1.534206  \n",
       "STDs                   0.016667                      0.039912  \n",
       "Means                  0.696485                      1.502444  \n",
       "STDs                   0.032595                      0.072308  "
      ]
     },
     "execution_count": 146,
     "metadata": {},
     "output_type": "execute_result"
    }
   ],
   "source": [
    "pearson_network_ThreeReg_Ox_1_98_averged"
   ]
  },
  {
   "cell_type": "markdown",
   "id": "ca4044a7-b65c-4b82-961d-2df80629ea44",
   "metadata": {},
   "source": [
    "# 24) Tehran 3 Regime Pearson (Based on Median Threshold) Period of 90 Far - 00 Far/ 50 windows of 100 Records"
   ]
  },
  {
   "cell_type": "code",
   "execution_count": 147,
   "id": "5b27b703-df04-45b5-87ff-bd2bbbd9dd80",
   "metadata": {
    "tags": []
   },
   "outputs": [
    {
     "name": "stdout",
     "output_type": "stream",
     "text": [
      "Number of columns data in our DataFrame is = 46\n",
      "fixed_thr= 0.14238230664928758\n"
     ]
    }
   ],
   "source": [
    "nm = Net_moduls()\n",
    "pearson_network_ThreeReg_Ox_90_00_averged = nm.get_network_features_averaged_median(tehran_df_completeDates, regimes_column= tehran_df_reg['Ox_3'],method='pearson',edges_threshold=200, target_window=100, target_length=50)"
   ]
  },
  {
   "cell_type": "code",
   "execution_count": 148,
   "id": "c23bef64-f35c-43f7-a4a8-938b953eeb3f",
   "metadata": {},
   "outputs": [
    {
     "data": {
      "text/html": [
       "<div>\n",
       "<style scoped>\n",
       "    .dataframe tbody tr th:only-of-type {\n",
       "        vertical-align: middle;\n",
       "    }\n",
       "\n",
       "    .dataframe tbody tr th {\n",
       "        vertical-align: top;\n",
       "    }\n",
       "\n",
       "    .dataframe thead th {\n",
       "        text-align: right;\n",
       "    }\n",
       "</style>\n",
       "<table border=\"1\" class=\"dataframe\">\n",
       "  <thead>\n",
       "    <tr style=\"text-align: right;\">\n",
       "      <th></th>\n",
       "      <th>radius</th>\n",
       "      <th>diameter</th>\n",
       "      <th>densities</th>\n",
       "      <th>number_of_edges</th>\n",
       "      <th>average_clustering</th>\n",
       "      <th>avg_degree_centrality</th>\n",
       "      <th>avg_betweenness_centrality</th>\n",
       "      <th>avg_closeness_centrality</th>\n",
       "      <th>average_shortest_path_length</th>\n",
       "    </tr>\n",
       "  </thead>\n",
       "  <tbody>\n",
       "    <tr>\n",
       "      <th>Means</th>\n",
       "      <td>2.220000</td>\n",
       "      <td>3.760000</td>\n",
       "      <td>0.535308</td>\n",
       "      <td>512.500000</td>\n",
       "      <td>0.753555</td>\n",
       "      <td>0.535308</td>\n",
       "      <td>0.012854</td>\n",
       "      <td>0.676694</td>\n",
       "      <td>1.543159</td>\n",
       "    </tr>\n",
       "    <tr>\n",
       "      <th>STDs</th>\n",
       "      <td>0.418452</td>\n",
       "      <td>0.555492</td>\n",
       "      <td>0.007867</td>\n",
       "      <td>12.710674</td>\n",
       "      <td>0.016420</td>\n",
       "      <td>0.007867</td>\n",
       "      <td>0.000929</td>\n",
       "      <td>0.013489</td>\n",
       "      <td>0.039094</td>\n",
       "    </tr>\n",
       "    <tr>\n",
       "      <th>Means</th>\n",
       "      <td>2.000000</td>\n",
       "      <td>3.120000</td>\n",
       "      <td>0.574632</td>\n",
       "      <td>584.140000</td>\n",
       "      <td>0.775583</td>\n",
       "      <td>0.574632</td>\n",
       "      <td>0.010404</td>\n",
       "      <td>0.711711</td>\n",
       "      <td>1.453808</td>\n",
       "    </tr>\n",
       "    <tr>\n",
       "      <th>STDs</th>\n",
       "      <td>0.000000</td>\n",
       "      <td>0.328261</td>\n",
       "      <td>0.021160</td>\n",
       "      <td>17.871434</td>\n",
       "      <td>0.032341</td>\n",
       "      <td>0.021160</td>\n",
       "      <td>0.000510</td>\n",
       "      <td>0.012367</td>\n",
       "      <td>0.026166</td>\n",
       "    </tr>\n",
       "    <tr>\n",
       "      <th>Means</th>\n",
       "      <td>2.000000</td>\n",
       "      <td>3.020000</td>\n",
       "      <td>0.581330</td>\n",
       "      <td>594.640000</td>\n",
       "      <td>0.763147</td>\n",
       "      <td>0.581330</td>\n",
       "      <td>0.010107</td>\n",
       "      <td>0.714810</td>\n",
       "      <td>1.442160</td>\n",
       "    </tr>\n",
       "    <tr>\n",
       "      <th>STDs</th>\n",
       "      <td>0.000000</td>\n",
       "      <td>0.141421</td>\n",
       "      <td>0.026074</td>\n",
       "      <td>23.614904</td>\n",
       "      <td>0.033141</td>\n",
       "      <td>0.026074</td>\n",
       "      <td>0.000700</td>\n",
       "      <td>0.016099</td>\n",
       "      <td>0.032050</td>\n",
       "    </tr>\n",
       "  </tbody>\n",
       "</table>\n",
       "</div>"
      ],
      "text/plain": [
       "         radius  diameter  densities  number_of_edges  average_clustering  \\\n",
       "Means  2.220000  3.760000   0.535308       512.500000            0.753555   \n",
       "STDs   0.418452  0.555492   0.007867        12.710674            0.016420   \n",
       "Means  2.000000  3.120000   0.574632       584.140000            0.775583   \n",
       "STDs   0.000000  0.328261   0.021160        17.871434            0.032341   \n",
       "Means  2.000000  3.020000   0.581330       594.640000            0.763147   \n",
       "STDs   0.000000  0.141421   0.026074        23.614904            0.033141   \n",
       "\n",
       "       avg_degree_centrality  avg_betweenness_centrality  \\\n",
       "Means               0.535308                    0.012854   \n",
       "STDs                0.007867                    0.000929   \n",
       "Means               0.574632                    0.010404   \n",
       "STDs                0.021160                    0.000510   \n",
       "Means               0.581330                    0.010107   \n",
       "STDs                0.026074                    0.000700   \n",
       "\n",
       "       avg_closeness_centrality  average_shortest_path_length  \n",
       "Means                  0.676694                      1.543159  \n",
       "STDs                   0.013489                      0.039094  \n",
       "Means                  0.711711                      1.453808  \n",
       "STDs                   0.012367                      0.026166  \n",
       "Means                  0.714810                      1.442160  \n",
       "STDs                   0.016099                      0.032050  "
      ]
     },
     "execution_count": 148,
     "metadata": {},
     "output_type": "execute_result"
    }
   ],
   "source": [
    "pearson_network_ThreeReg_Ox_90_00_averged"
   ]
  },
  {
   "cell_type": "markdown",
   "id": "e60ea73a-74e9-4f7a-bae2-cca2c8d23a6d",
   "metadata": {},
   "source": [
    "# 25) Tehran 3 Regime Entropy (Based on Median Threshold) Period of 90 Far - 98 Dey"
   ]
  },
  {
   "cell_type": "code",
   "execution_count": 149,
   "id": "e492877e-54cb-48b4-b950-881c4b41f9e6",
   "metadata": {},
   "outputs": [],
   "source": [
    "nm = Net_moduls()"
   ]
  },
  {
   "cell_type": "code",
   "execution_count": 150,
   "id": "9d275cb4-7e72-4ca5-8c0a-d597346c0630",
   "metadata": {},
   "outputs": [],
   "source": [
    "thr25_1 = nm.find_median_entropy_threshold(tehran_df_ThreeReg_Ox_1_same_length_98)\n",
    "thr25_2 = nm.find_median_entropy_threshold(tehran_df_ThreeReg_Ox_2_same_length_98)\n",
    "thr25_3 = nm.find_median_entropy_threshold(tehran_df_ThreeReg_Ox_3_same_length_98)\n",
    "\n",
    "thr25 = min(thr25_1, thr25_2, thr25_3)"
   ]
  },
  {
   "cell_type": "code",
   "execution_count": 151,
   "id": "46ceab3a-58a0-425a-9bf6-95b4d5fcff9b",
   "metadata": {},
   "outputs": [],
   "source": [
    "entropy_network_ThreeReg_Ox_1_98 = nm.construct_network(tehran_df_ThreeReg_Ox_1_same_length_98, method='entropy', threshold=thr25)"
   ]
  },
  {
   "cell_type": "code",
   "execution_count": 152,
   "id": "941fa491-904f-4764-b2ba-8e3d356fbf06",
   "metadata": {},
   "outputs": [
    {
     "data": {
      "text/html": [
       "<div>\n",
       "<style scoped>\n",
       "    .dataframe tbody tr th:only-of-type {\n",
       "        vertical-align: middle;\n",
       "    }\n",
       "\n",
       "    .dataframe tbody tr th {\n",
       "        vertical-align: top;\n",
       "    }\n",
       "\n",
       "    .dataframe thead th {\n",
       "        text-align: right;\n",
       "    }\n",
       "</style>\n",
       "<table border=\"1\" class=\"dataframe\">\n",
       "  <thead>\n",
       "    <tr style=\"text-align: right;\">\n",
       "      <th></th>\n",
       "      <th>radius</th>\n",
       "      <th>diameter</th>\n",
       "      <th>densities</th>\n",
       "      <th>number_of_edges</th>\n",
       "      <th>average_clustering</th>\n",
       "      <th>avg_degree_centrality</th>\n",
       "      <th>avg_betweenness_centrality</th>\n",
       "      <th>avg_closeness_centrality</th>\n",
       "      <th>average_shortest_path_length</th>\n",
       "    </tr>\n",
       "  </thead>\n",
       "  <tbody>\n",
       "    <tr>\n",
       "      <th>0</th>\n",
       "      <td>2</td>\n",
       "      <td>2</td>\n",
       "      <td>0.756566</td>\n",
       "      <td>749</td>\n",
       "      <td>0.79962</td>\n",
       "      <td>0.756566</td>\n",
       "      <td>0.005661</td>\n",
       "      <td>0.813117</td>\n",
       "      <td>1.243434</td>\n",
       "    </tr>\n",
       "  </tbody>\n",
       "</table>\n",
       "</div>"
      ],
      "text/plain": [
       "   radius  diameter  densities  number_of_edges  average_clustering  \\\n",
       "0       2         2   0.756566              749             0.79962   \n",
       "\n",
       "   avg_degree_centrality  avg_betweenness_centrality  \\\n",
       "0               0.756566                    0.005661   \n",
       "\n",
       "   avg_closeness_centrality  average_shortest_path_length  \n",
       "0                  0.813117                      1.243434  "
      ]
     },
     "execution_count": 152,
     "metadata": {},
     "output_type": "execute_result"
    }
   ],
   "source": [
    "nm.get_network_features(entropy_network_ThreeReg_Ox_1_98)"
   ]
  },
  {
   "cell_type": "code",
   "execution_count": 153,
   "id": "d51a3266-6eb5-4059-b7dc-4d70bab35277",
   "metadata": {},
   "outputs": [
    {
     "data": {
      "text/plain": [
       "array({'Euro': 12, 'M2': 18, 'Coin': 20, 'HOUSE': 23, 'USD': 23, 'Brent Oil': 25, 'FaniVaMohandesi': 28, 'Wood': 29, 'EntesharVaChap': 30, 'Gold': 31, 'Bank': 31, 'CPI': 32, 'MahsolateFelezi': 32, 'MahsolateFelezi.1': 32, 'FelezateAsasi': 32, 'khodrosazi': 33, 'Rayaneh': 34, 'Lastic': 34, 'Amlakva': 34, 'Mali': 34, 'GDP': 35, 'CoalMining': 35, 'FaravardehayeNafti': 35, 'ChandReshteSanati': 35, 'index': 36, 'M1': 36, 'Daroee': 36, 'SayerMali': 36, 'GazaeeBejozGhand': 36, 'Shimiyaee': 36, 'VasayelErtebati': 36, 'Siman': 36, 'SayerMadan': 37, 'paper': 37, 'MashinAlat': 37, 'EstekrajeNaft': 37, 'DastgahayeBargi': 38, 'KanehayeGeyreFelezi': 38, 'Bimeh': 39, 'KashiVaSeramik': 39, 'Agriculture': 40, 'HamlVaNaghl': 40, 'GhandVaShekar': 40, 'SarmayeGozari': 40, 'Mansojat': 41},\n",
       "      dtype=object)"
      ]
     },
     "execution_count": 153,
     "metadata": {},
     "output_type": "execute_result"
    }
   ],
   "source": [
    "b25_1 = dict(nx.degree(entropy_network_ThreeReg_Ox_1_98))\n",
    "b25_1 = np.array(dict(sorted(b25_1.items(), key=lambda item: item[1])))\n",
    "b25_1"
   ]
  },
  {
   "cell_type": "code",
   "execution_count": 154,
   "id": "cbf0e964-26c0-4d37-bb65-911c0aae14bf",
   "metadata": {},
   "outputs": [],
   "source": [
    "entropy_network_ThreeReg_Ox_2_98 = nm.construct_network(tehran_df_ThreeReg_Ox_2_same_length_98, method='entropy', threshold=thr25)"
   ]
  },
  {
   "cell_type": "code",
   "execution_count": 155,
   "id": "70f7a9c6-46e1-40f6-8422-77df708e7fe9",
   "metadata": {},
   "outputs": [
    {
     "data": {
      "text/html": [
       "<div>\n",
       "<style scoped>\n",
       "    .dataframe tbody tr th:only-of-type {\n",
       "        vertical-align: middle;\n",
       "    }\n",
       "\n",
       "    .dataframe tbody tr th {\n",
       "        vertical-align: top;\n",
       "    }\n",
       "\n",
       "    .dataframe thead th {\n",
       "        text-align: right;\n",
       "    }\n",
       "</style>\n",
       "<table border=\"1\" class=\"dataframe\">\n",
       "  <thead>\n",
       "    <tr style=\"text-align: right;\">\n",
       "      <th></th>\n",
       "      <th>radius</th>\n",
       "      <th>diameter</th>\n",
       "      <th>densities</th>\n",
       "      <th>number_of_edges</th>\n",
       "      <th>average_clustering</th>\n",
       "      <th>avg_degree_centrality</th>\n",
       "      <th>avg_betweenness_centrality</th>\n",
       "      <th>avg_closeness_centrality</th>\n",
       "      <th>average_shortest_path_length</th>\n",
       "    </tr>\n",
       "  </thead>\n",
       "  <tbody>\n",
       "    <tr>\n",
       "      <th>0</th>\n",
       "      <td>2</td>\n",
       "      <td>2</td>\n",
       "      <td>0.772947</td>\n",
       "      <td>800</td>\n",
       "      <td>0.813222</td>\n",
       "      <td>0.772947</td>\n",
       "      <td>0.00516</td>\n",
       "      <td>0.823456</td>\n",
       "      <td>1.227053</td>\n",
       "    </tr>\n",
       "  </tbody>\n",
       "</table>\n",
       "</div>"
      ],
      "text/plain": [
       "   radius  diameter  densities  number_of_edges  average_clustering  \\\n",
       "0       2         2   0.772947              800            0.813222   \n",
       "\n",
       "   avg_degree_centrality  avg_betweenness_centrality  \\\n",
       "0               0.772947                     0.00516   \n",
       "\n",
       "   avg_closeness_centrality  average_shortest_path_length  \n",
       "0                  0.823456                      1.227053  "
      ]
     },
     "execution_count": 155,
     "metadata": {},
     "output_type": "execute_result"
    }
   ],
   "source": [
    "nm.get_network_features(entropy_network_ThreeReg_Ox_2_98)"
   ]
  },
  {
   "cell_type": "code",
   "execution_count": 156,
   "id": "2682eb07-d17f-4ce9-afa3-870666fae433",
   "metadata": {},
   "outputs": [
    {
     "data": {
      "text/plain": [
       "array({'Gold': 13, 'Brent Oil': 24, 'M2': 25, 'M1': 26, 'GDP': 26, 'Coin': 29, 'SarmayeGozari': 29, 'GazaeeBejozGhand': 30, 'CPI': 31, 'Euro': 32, 'AbzaralatePezeshki': 32, 'khodrosazi': 32, 'KanehayeGeyreFelezi': 32, 'MashinAlat': 32, 'HOUSE': 33, 'Agriculture': 33, 'EntesharVaChap': 33, 'GhandVaShekar': 33, 'Bank': 34, 'FaniVaMohandesi': 34, 'KashiVaSeramik': 34, 'USD': 35, 'Wood': 35, 'Daroee': 35, 'SayerMali': 35, 'VasayelErtebati': 36, 'Rayaneh': 37, 'MahsolateFelezi': 37, 'MahsolateFelezi.1': 37, 'ChandReshteSanati': 38, 'Mali': 38, 'Siman': 38, 'EstekrajeNaft': 39, 'FelezateAsasi': 39, 'HamlVaNaghl': 39, 'paper': 40, 'DastgahayeBargi': 40, 'Bimeh': 40, 'Shimiyaee': 41, 'Lastic': 41, 'index': 42, 'CoalMining': 42, 'FaravardehayeNafti': 42, 'Amlakva': 42, 'SayerMadan': 42, 'Mansojat': 43},\n",
       "      dtype=object)"
      ]
     },
     "execution_count": 156,
     "metadata": {},
     "output_type": "execute_result"
    }
   ],
   "source": [
    "b25_2 = dict(nx.degree(entropy_network_ThreeReg_Ox_2_98))\n",
    "b25_2 = np.array(dict(sorted(b25_2.items(), key=lambda item: item[1])))\n",
    "b25_2"
   ]
  },
  {
   "cell_type": "code",
   "execution_count": 157,
   "id": "079f5fcb-d714-44b4-ae69-688ddb80f166",
   "metadata": {},
   "outputs": [],
   "source": [
    "entropy_network_ThreeReg_Ox_3_98 = nm.construct_network(tehran_df_ThreeReg_Ox_3_same_length_98, method='entropy', threshold=thr25)"
   ]
  },
  {
   "cell_type": "code",
   "execution_count": 158,
   "id": "7581ee17-516f-42cc-bb03-3fd155d46f39",
   "metadata": {},
   "outputs": [
    {
     "data": {
      "text/html": [
       "<div>\n",
       "<style scoped>\n",
       "    .dataframe tbody tr th:only-of-type {\n",
       "        vertical-align: middle;\n",
       "    }\n",
       "\n",
       "    .dataframe tbody tr th {\n",
       "        vertical-align: top;\n",
       "    }\n",
       "\n",
       "    .dataframe thead th {\n",
       "        text-align: right;\n",
       "    }\n",
       "</style>\n",
       "<table border=\"1\" class=\"dataframe\">\n",
       "  <thead>\n",
       "    <tr style=\"text-align: right;\">\n",
       "      <th></th>\n",
       "      <th>radius</th>\n",
       "      <th>diameter</th>\n",
       "      <th>densities</th>\n",
       "      <th>number_of_edges</th>\n",
       "      <th>average_clustering</th>\n",
       "      <th>avg_degree_centrality</th>\n",
       "      <th>avg_betweenness_centrality</th>\n",
       "      <th>avg_closeness_centrality</th>\n",
       "      <th>average_shortest_path_length</th>\n",
       "    </tr>\n",
       "  </thead>\n",
       "  <tbody>\n",
       "    <tr>\n",
       "      <th>0</th>\n",
       "      <td>2</td>\n",
       "      <td>3</td>\n",
       "      <td>0.691787</td>\n",
       "      <td>716</td>\n",
       "      <td>0.775903</td>\n",
       "      <td>0.691787</td>\n",
       "      <td>0.007071</td>\n",
       "      <td>0.774168</td>\n",
       "      <td>1.311111</td>\n",
       "    </tr>\n",
       "  </tbody>\n",
       "</table>\n",
       "</div>"
      ],
      "text/plain": [
       "   radius  diameter  densities  number_of_edges  average_clustering  \\\n",
       "0       2         3   0.691787              716            0.775903   \n",
       "\n",
       "   avg_degree_centrality  avg_betweenness_centrality  \\\n",
       "0               0.691787                    0.007071   \n",
       "\n",
       "   avg_closeness_centrality  average_shortest_path_length  \n",
       "0                  0.774168                      1.311111  "
      ]
     },
     "execution_count": 158,
     "metadata": {},
     "output_type": "execute_result"
    }
   ],
   "source": [
    "nm.get_network_features(entropy_network_ThreeReg_Ox_3_98)"
   ]
  },
  {
   "cell_type": "code",
   "execution_count": 159,
   "id": "0b8b0014-381f-4200-8a17-989e14462395",
   "metadata": {},
   "outputs": [
    {
     "data": {
      "text/plain": [
       "array({'AbzaralatePezeshki': 2, 'Brent Oil': 14, 'Mansojat': 15, 'M2': 17, 'HOUSE': 19, 'Amlakva': 21, 'GhandVaShekar': 25, 'KashiVaSeramik': 25, 'FelezateAsasi': 27, 'M1': 27, 'Wood': 29, 'EstekrajeNaft': 30, 'GDP': 30, 'Siman': 30, 'index': 31, 'HamlVaNaghl': 31, 'CPI': 31, 'Gold': 31, 'Mali': 32, 'MahsolateFelezi': 32, 'MahsolateFelezi.1': 32, 'ChandReshteSanati': 32, 'EntesharVaChap': 32, 'SayerMadan': 33, 'Daroee': 33, 'Lastic': 34, 'Bimeh': 34, 'Bank': 34, 'Agriculture': 35, 'FaravardehayeNafti': 35, 'Shimiyaee': 35, 'GazaeeBejozGhand': 35, 'Rayaneh': 36, 'MashinAlat': 36, 'paper': 36, 'SarmayeGozari': 36, 'KanehayeGeyreFelezi': 37, 'Euro': 38, 'USD': 38, 'DastgahayeBargi': 38, 'SayerMali': 38, 'khodrosazi': 38, 'Coin': 39, 'VasayelErtebati': 39, 'CoalMining': 40, 'FaniVaMohandesi': 40},\n",
       "      dtype=object)"
      ]
     },
     "execution_count": 159,
     "metadata": {},
     "output_type": "execute_result"
    }
   ],
   "source": [
    "b25_3 = dict(nx.degree(entropy_network_ThreeReg_Ox_3_98))\n",
    "b25_3 = np.array(dict(sorted(b25_3.items(), key=lambda item: item[1])))\n",
    "b25_3"
   ]
  },
  {
   "cell_type": "markdown",
   "id": "c8933bda-597e-44bb-9353-04859c9aca1a",
   "metadata": {},
   "source": [
    "# 26) Tehran 3 Regime Entropy (Based on Median Threshold) Period of 90 Far - 00 Far"
   ]
  },
  {
   "cell_type": "code",
   "execution_count": 160,
   "id": "b61d3fbb-cda6-4b07-a427-6ec62654651c",
   "metadata": {},
   "outputs": [],
   "source": [
    "nm = Net_moduls()"
   ]
  },
  {
   "cell_type": "code",
   "execution_count": 165,
   "id": "b557e6d7-94a2-4f3d-a5eb-de2a3d426459",
   "metadata": {},
   "outputs": [],
   "source": [
    "thr26_1 = nm.find_median_entropy_threshold(tehran_df_ThreeReg_Ox_1_same_length)\n",
    "thr26_2 = nm.find_median_entropy_threshold(tehran_df_ThreeReg_Ox_2_same_length)\n",
    "thr26_3 = nm.find_median_entropy_threshold(tehran_df_ThreeReg_Ox_3_same_length)\n",
    "\n",
    "thr26 = min(thr26_1, thr26_2, thr26_3)"
   ]
  },
  {
   "cell_type": "code",
   "execution_count": 166,
   "id": "54b2e782-05b8-414c-b675-21f0c8d2f877",
   "metadata": {},
   "outputs": [],
   "source": [
    "entropy_network_ThreeReg_Ox_1 = nm.construct_network(tehran_df_ThreeReg_Ox_1_same_length, method='entropy', threshold=thr26)"
   ]
  },
  {
   "cell_type": "code",
   "execution_count": 167,
   "id": "371bfeb2-89bc-4418-84be-fa965dda1846",
   "metadata": {},
   "outputs": [
    {
     "data": {
      "text/html": [
       "<div>\n",
       "<style scoped>\n",
       "    .dataframe tbody tr th:only-of-type {\n",
       "        vertical-align: middle;\n",
       "    }\n",
       "\n",
       "    .dataframe tbody tr th {\n",
       "        vertical-align: top;\n",
       "    }\n",
       "\n",
       "    .dataframe thead th {\n",
       "        text-align: right;\n",
       "    }\n",
       "</style>\n",
       "<table border=\"1\" class=\"dataframe\">\n",
       "  <thead>\n",
       "    <tr style=\"text-align: right;\">\n",
       "      <th></th>\n",
       "      <th>radius</th>\n",
       "      <th>diameter</th>\n",
       "      <th>densities</th>\n",
       "      <th>number_of_edges</th>\n",
       "      <th>average_clustering</th>\n",
       "      <th>avg_degree_centrality</th>\n",
       "      <th>avg_betweenness_centrality</th>\n",
       "      <th>avg_closeness_centrality</th>\n",
       "      <th>average_shortest_path_length</th>\n",
       "    </tr>\n",
       "  </thead>\n",
       "  <tbody>\n",
       "    <tr>\n",
       "      <th>0</th>\n",
       "      <td>2</td>\n",
       "      <td>2</td>\n",
       "      <td>0.793939</td>\n",
       "      <td>786</td>\n",
       "      <td>0.82877</td>\n",
       "      <td>0.793939</td>\n",
       "      <td>0.004792</td>\n",
       "      <td>0.837438</td>\n",
       "      <td>1.206061</td>\n",
       "    </tr>\n",
       "  </tbody>\n",
       "</table>\n",
       "</div>"
      ],
      "text/plain": [
       "   radius  diameter  densities  number_of_edges  average_clustering  \\\n",
       "0       2         2   0.793939              786             0.82877   \n",
       "\n",
       "   avg_degree_centrality  avg_betweenness_centrality  \\\n",
       "0               0.793939                    0.004792   \n",
       "\n",
       "   avg_closeness_centrality  average_shortest_path_length  \n",
       "0                  0.837438                      1.206061  "
      ]
     },
     "execution_count": 167,
     "metadata": {},
     "output_type": "execute_result"
    }
   ],
   "source": [
    "nm.get_network_features(entropy_network_ThreeReg_Ox_1)"
   ]
  },
  {
   "cell_type": "code",
   "execution_count": 169,
   "id": "d0c4abcb-d6e3-44c1-aed5-418b202c65be",
   "metadata": {},
   "outputs": [
    {
     "data": {
      "text/plain": [
       "array({'Euro': 15, 'Coin': 17, 'Gold': 25, 'USD': 26, 'HOUSE': 26, 'Brent Oil': 27, 'M2': 29, 'M1': 31, 'EntesharVaChap': 32, 'CoalMining': 33, 'GDP': 33, 'Wood': 34, 'index': 35, 'CPI': 35, 'SayerMali': 35, 'Bank': 35, 'paper': 36, 'Lastic': 36, 'Mali': 36, 'SayerMadan': 36, 'EstekrajeNaft': 37, 'MahsolateFelezi': 37, 'Mansojat': 37, 'MahsolateFelezi.1': 37, 'MashinAlat': 37, 'VasayelErtebati': 37, 'khodrosazi': 37, 'Amlakva': 37, 'ChandReshteSanati': 37, 'FaniVaMohandesi': 37, 'DastgahayeBargi': 37, 'GhandVaShekar': 38, 'GazaeeBejozGhand': 38, 'SarmayeGozari': 38, 'Bimeh': 38, 'Agriculture': 39, 'FaravardehayeNafti': 39, 'Shimiyaee': 39, 'Daroee': 40, 'HamlVaNaghl': 40, 'Rayaneh': 40, 'FelezateAsasi': 40, 'KanehayeGeyreFelezi': 41, 'Siman': 41, 'KashiVaSeramik': 42},\n",
       "      dtype=object)"
      ]
     },
     "execution_count": 169,
     "metadata": {},
     "output_type": "execute_result"
    }
   ],
   "source": [
    "b26_1 = dict(nx.degree(entropy_network_ThreeReg_Ox_1))\n",
    "b26_1 = np.array(dict(sorted(b26_1.items(), key=lambda item: item[1])))\n",
    "b26_1"
   ]
  },
  {
   "cell_type": "code",
   "execution_count": 170,
   "id": "338c4530-e237-4d03-afa0-d084e487763d",
   "metadata": {},
   "outputs": [],
   "source": [
    "entropy_network_ThreeReg_Ox_2 = nm.construct_network(tehran_df_ThreeReg_Ox_2_same_length, method='entropy', threshold=thr26)"
   ]
  },
  {
   "cell_type": "code",
   "execution_count": 171,
   "id": "141f60fd-ff37-4ef5-b09b-359861b657a8",
   "metadata": {},
   "outputs": [
    {
     "data": {
      "text/html": [
       "<div>\n",
       "<style scoped>\n",
       "    .dataframe tbody tr th:only-of-type {\n",
       "        vertical-align: middle;\n",
       "    }\n",
       "\n",
       "    .dataframe tbody tr th {\n",
       "        vertical-align: top;\n",
       "    }\n",
       "\n",
       "    .dataframe thead th {\n",
       "        text-align: right;\n",
       "    }\n",
       "</style>\n",
       "<table border=\"1\" class=\"dataframe\">\n",
       "  <thead>\n",
       "    <tr style=\"text-align: right;\">\n",
       "      <th></th>\n",
       "      <th>radius</th>\n",
       "      <th>diameter</th>\n",
       "      <th>densities</th>\n",
       "      <th>number_of_edges</th>\n",
       "      <th>average_clustering</th>\n",
       "      <th>avg_degree_centrality</th>\n",
       "      <th>avg_betweenness_centrality</th>\n",
       "      <th>avg_closeness_centrality</th>\n",
       "      <th>average_shortest_path_length</th>\n",
       "    </tr>\n",
       "  </thead>\n",
       "  <tbody>\n",
       "    <tr>\n",
       "      <th>0</th>\n",
       "      <td>2</td>\n",
       "      <td>2</td>\n",
       "      <td>0.814493</td>\n",
       "      <td>843</td>\n",
       "      <td>0.859435</td>\n",
       "      <td>0.814493</td>\n",
       "      <td>0.004216</td>\n",
       "      <td>0.853426</td>\n",
       "      <td>1.185507</td>\n",
       "    </tr>\n",
       "  </tbody>\n",
       "</table>\n",
       "</div>"
      ],
      "text/plain": [
       "   radius  diameter  densities  number_of_edges  average_clustering  \\\n",
       "0       2         2   0.814493              843            0.859435   \n",
       "\n",
       "   avg_degree_centrality  avg_betweenness_centrality  \\\n",
       "0               0.814493                    0.004216   \n",
       "\n",
       "   avg_closeness_centrality  average_shortest_path_length  \n",
       "0                  0.853426                      1.185507  "
      ]
     },
     "execution_count": 171,
     "metadata": {},
     "output_type": "execute_result"
    }
   ],
   "source": [
    "nm.get_network_features(entropy_network_ThreeReg_Ox_2)"
   ]
  },
  {
   "cell_type": "code",
   "execution_count": 172,
   "id": "0832b2dc-e0d3-4962-a8f9-eb9cdd680a18",
   "metadata": {},
   "outputs": [
    {
     "data": {
      "text/plain": [
       "array({'Gold': 12, 'Brent Oil': 23, 'M1': 24, 'AbzaralatePezeshki': 26, 'GDP': 26, 'CPI': 28, 'M2': 30, 'HOUSE': 31, 'Agriculture': 35, 'EstekrajeNaft': 35, 'EntesharVaChap': 35, 'GhandVaShekar': 35, 'SarmayeGozari': 36, 'FaniVaMohandesi': 36, 'GazaeeBejozGhand': 37, 'HamlVaNaghl': 37, 'MahsolateFelezi': 37, 'MahsolateFelezi.1': 37, 'Siman': 37, 'KanehayeGeyreFelezi': 37, 'VasayelErtebati': 37, 'USD': 38, 'FaravardehayeNafti': 38, 'Euro': 39, 'SayerMadan': 39, 'DastgahayeBargi': 39, 'SayerMali': 39, 'khodrosazi': 39, 'Amlakva': 39, 'index': 40, 'Coin': 40, 'Wood': 40, 'MashinAlat': 40, 'KashiVaSeramik': 40, 'Bank': 40, 'Shimiyaee': 41, 'Bimeh': 41, 'Mali': 41, 'CoalMining': 42, 'FelezateAsasi': 42, 'Mansojat': 43, 'paper': 43, 'Lastic': 43, 'Daroee': 43, 'Rayaneh': 43, 'ChandReshteSanati': 43},\n",
       "      dtype=object)"
      ]
     },
     "execution_count": 172,
     "metadata": {},
     "output_type": "execute_result"
    }
   ],
   "source": [
    "b26_2 = dict(nx.degree(entropy_network_ThreeReg_Ox_2))\n",
    "b26_2 = np.array(dict(sorted(b26_2.items(), key=lambda item: item[1])))\n",
    "b26_2"
   ]
  },
  {
   "cell_type": "code",
   "execution_count": 173,
   "id": "e040b93b-60e7-463d-b14d-2ad4516e59a0",
   "metadata": {},
   "outputs": [],
   "source": [
    "entropy_network_ThreeReg_Ox_3 = nm.construct_network(tehran_df_ThreeReg_Ox_3_same_length, method='entropy', threshold=thr26)"
   ]
  },
  {
   "cell_type": "code",
   "execution_count": 174,
   "id": "7a3fb4e0-52af-4eb9-87c4-6515384cd1e7",
   "metadata": {},
   "outputs": [
    {
     "data": {
      "text/html": [
       "<div>\n",
       "<style scoped>\n",
       "    .dataframe tbody tr th:only-of-type {\n",
       "        vertical-align: middle;\n",
       "    }\n",
       "\n",
       "    .dataframe tbody tr th {\n",
       "        vertical-align: top;\n",
       "    }\n",
       "\n",
       "    .dataframe thead th {\n",
       "        text-align: right;\n",
       "    }\n",
       "</style>\n",
       "<table border=\"1\" class=\"dataframe\">\n",
       "  <thead>\n",
       "    <tr style=\"text-align: right;\">\n",
       "      <th></th>\n",
       "      <th>radius</th>\n",
       "      <th>diameter</th>\n",
       "      <th>densities</th>\n",
       "      <th>number_of_edges</th>\n",
       "      <th>average_clustering</th>\n",
       "      <th>avg_degree_centrality</th>\n",
       "      <th>avg_betweenness_centrality</th>\n",
       "      <th>avg_closeness_centrality</th>\n",
       "      <th>average_shortest_path_length</th>\n",
       "    </tr>\n",
       "  </thead>\n",
       "  <tbody>\n",
       "    <tr>\n",
       "      <th>0</th>\n",
       "      <td>2</td>\n",
       "      <td>3</td>\n",
       "      <td>0.719807</td>\n",
       "      <td>745</td>\n",
       "      <td>0.75934</td>\n",
       "      <td>0.719807</td>\n",
       "      <td>0.006719</td>\n",
       "      <td>0.783707</td>\n",
       "      <td>1.295652</td>\n",
       "    </tr>\n",
       "  </tbody>\n",
       "</table>\n",
       "</div>"
      ],
      "text/plain": [
       "   radius  diameter  densities  number_of_edges  average_clustering  \\\n",
       "0       2         3   0.719807              745             0.75934   \n",
       "\n",
       "   avg_degree_centrality  avg_betweenness_centrality  \\\n",
       "0               0.719807                    0.006719   \n",
       "\n",
       "   avg_closeness_centrality  average_shortest_path_length  \n",
       "0                  0.783707                      1.295652  "
      ]
     },
     "execution_count": 174,
     "metadata": {},
     "output_type": "execute_result"
    }
   ],
   "source": [
    "nm.get_network_features(entropy_network_ThreeReg_Ox_3)"
   ]
  },
  {
   "cell_type": "code",
   "execution_count": 175,
   "id": "5e9d0abe-d4a2-4b92-a25e-ea9d3dee75f3",
   "metadata": {},
   "outputs": [
    {
     "data": {
      "text/plain": [
       "array({'AbzaralatePezeshki': 1, 'CPI': 23, 'Wood': 23, 'Mansojat': 24, 'paper': 24, 'Euro': 25, 'HOUSE': 25, 'GhandVaShekar': 26, 'GDP': 28, 'VasayelErtebati': 29, 'KashiVaSeramik': 29, 'USD': 30, 'index': 31, 'Siman': 31, 'M1': 32, 'SayerMadan': 32, 'khodrosazi': 32, 'Agriculture': 32, 'Shimiyaee': 32, 'CoalMining': 33, 'Amlakva': 33, 'Gold': 34, 'Daroee': 34, 'KanehayeGeyreFelezi': 34, 'Bimeh': 34, 'FaravardehayeNafti': 35, 'Bank': 35, 'SayerMali': 35, 'M2': 35, 'ChandReshteSanati': 35, 'MahsolateFelezi': 36, 'MahsolateFelezi.1': 36, 'SarmayeGozari': 36, 'HamlVaNaghl': 36, 'FelezateAsasi': 36, 'DastgahayeBargi': 36, 'Coin': 37, 'EstekrajeNaft': 37, 'MashinAlat': 37, 'EntesharVaChap': 38, 'GazaeeBejozGhand': 38, 'Mali': 38, 'Lastic': 40, 'Brent Oil': 40, 'FaniVaMohandesi': 41, 'Rayaneh': 42},\n",
       "      dtype=object)"
      ]
     },
     "execution_count": 175,
     "metadata": {},
     "output_type": "execute_result"
    }
   ],
   "source": [
    "b26_3 = dict(nx.degree(entropy_network_ThreeReg_Ox_3))\n",
    "b26_3 = np.array(dict(sorted(b26_3.items(), key=lambda item: item[1])))\n",
    "b26_3"
   ]
  },
  {
   "cell_type": "markdown",
   "id": "e1debb80-e348-473a-8932-feebb8b233d1",
   "metadata": {},
   "source": [
    "# 27) Tehran 3 Regime Entropy (Based on Median Threshold) Period of 90 Far - 98 Dey/ Last 100 Records"
   ]
  },
  {
   "cell_type": "code",
   "execution_count": 176,
   "id": "4a84cda5-ba4c-43de-8c7f-6386348bb559",
   "metadata": {},
   "outputs": [],
   "source": [
    "thr27_1 = nm.find_median_entropy_threshold(tehran_df_ThreeReg_Ox_1_same_length_98[-100:])\n",
    "thr27_2 = nm.find_median_entropy_threshold(tehran_df_ThreeReg_Ox_2_same_length_98[-100:])\n",
    "thr27_3 = nm.find_median_entropy_threshold(tehran_df_ThreeReg_Ox_3_same_length_98[-100:])\n",
    "\n",
    "thr27 = min(thr27_1, thr27_2, thr27_3)"
   ]
  },
  {
   "cell_type": "code",
   "execution_count": 177,
   "id": "901dec30-b704-41ff-a602-632492ca39ae",
   "metadata": {},
   "outputs": [],
   "source": [
    "entropy_network_ThreeReg_Ox_1_98_last100 = nm.construct_network(tehran_df_ThreeReg_Ox_1_same_length_98[-100:], method='entropy', threshold=thr27)"
   ]
  },
  {
   "cell_type": "code",
   "execution_count": 178,
   "id": "04908956-a3c3-4c2c-915d-7a0d35342283",
   "metadata": {},
   "outputs": [
    {
     "data": {
      "text/html": [
       "<div>\n",
       "<style scoped>\n",
       "    .dataframe tbody tr th:only-of-type {\n",
       "        vertical-align: middle;\n",
       "    }\n",
       "\n",
       "    .dataframe tbody tr th {\n",
       "        vertical-align: top;\n",
       "    }\n",
       "\n",
       "    .dataframe thead th {\n",
       "        text-align: right;\n",
       "    }\n",
       "</style>\n",
       "<table border=\"1\" class=\"dataframe\">\n",
       "  <thead>\n",
       "    <tr style=\"text-align: right;\">\n",
       "      <th></th>\n",
       "      <th>radius</th>\n",
       "      <th>diameter</th>\n",
       "      <th>densities</th>\n",
       "      <th>number_of_edges</th>\n",
       "      <th>average_clustering</th>\n",
       "      <th>avg_degree_centrality</th>\n",
       "      <th>avg_betweenness_centrality</th>\n",
       "      <th>avg_closeness_centrality</th>\n",
       "      <th>average_shortest_path_length</th>\n",
       "    </tr>\n",
       "  </thead>\n",
       "  <tbody>\n",
       "    <tr>\n",
       "      <th>0</th>\n",
       "      <td>2</td>\n",
       "      <td>2</td>\n",
       "      <td>0.791919</td>\n",
       "      <td>784</td>\n",
       "      <td>0.823703</td>\n",
       "      <td>0.791919</td>\n",
       "      <td>0.004839</td>\n",
       "      <td>0.835524</td>\n",
       "      <td>1.208081</td>\n",
       "    </tr>\n",
       "  </tbody>\n",
       "</table>\n",
       "</div>"
      ],
      "text/plain": [
       "   radius  diameter  densities  number_of_edges  average_clustering  \\\n",
       "0       2         2   0.791919              784            0.823703   \n",
       "\n",
       "   avg_degree_centrality  avg_betweenness_centrality  \\\n",
       "0               0.791919                    0.004839   \n",
       "\n",
       "   avg_closeness_centrality  average_shortest_path_length  \n",
       "0                  0.835524                      1.208081  "
      ]
     },
     "execution_count": 178,
     "metadata": {},
     "output_type": "execute_result"
    }
   ],
   "source": [
    "nm.get_network_features(entropy_network_ThreeReg_Ox_1_98_last100)"
   ]
  },
  {
   "cell_type": "code",
   "execution_count": 179,
   "id": "383ef64d-fd11-4a65-bb47-3c525f5ed662",
   "metadata": {},
   "outputs": [
    {
     "data": {
      "text/plain": [
       "array({'Brent Oil': 15, 'USD': 17, 'CoalMining': 26, 'HOUSE': 28, 'Euro': 28, 'FaniVaMohandesi': 29, 'GDP': 30, 'Daroee': 31, 'CPI': 32, 'Rayaneh': 32, 'Coin': 32, 'M2': 33, 'Bank': 33, 'M1': 34, 'HamlVaNaghl': 34, 'GazaeeBejozGhand': 35, 'Siman': 35, 'Bimeh': 35, 'FaravardehayeNafti': 35, 'ChandReshteSanati': 35, 'Gold': 36, 'MahsolateFelezi': 36, 'MahsolateFelezi.1': 36, 'Wood': 37, 'Lastic': 37, 'GhandVaShekar': 37, 'KashiVaSeramik': 37, 'SarmayeGozari': 37, 'Amlakva': 37, 'Mali': 37, 'EstekrajeNaft': 38, 'SayerMadan': 38, 'EntesharVaChap': 38, 'FelezateAsasi': 38, 'KanehayeGeyreFelezi': 38, 'Shimiyaee': 39, 'DastgahayeBargi': 39, 'VasayelErtebati': 39, 'index': 40, 'Mansojat': 40, 'Agriculture': 41, 'paper': 41, 'MashinAlat': 41, 'khodrosazi': 41, 'SayerMali': 41},\n",
       "      dtype=object)"
      ]
     },
     "execution_count": 179,
     "metadata": {},
     "output_type": "execute_result"
    }
   ],
   "source": [
    "b27_1 = dict(nx.degree(entropy_network_ThreeReg_Ox_1_98_last100))\n",
    "b27_1 = np.array(dict(sorted(b27_1.items(), key=lambda item: item[1])))\n",
    "b27_1"
   ]
  },
  {
   "cell_type": "code",
   "execution_count": 180,
   "id": "00ba66db-792c-4354-8a1c-755d135c5b48",
   "metadata": {},
   "outputs": [],
   "source": [
    "entropy_network_ThreeReg_Ox_2_98_last100 = nm.construct_network(tehran_df_ThreeReg_Ox_2_same_length_98[-100:], method='entropy', threshold=thr27)"
   ]
  },
  {
   "cell_type": "code",
   "execution_count": 181,
   "id": "cd03b3f7-02b7-43be-8bd9-51e08a3b0105",
   "metadata": {},
   "outputs": [
    {
     "data": {
      "text/html": [
       "<div>\n",
       "<style scoped>\n",
       "    .dataframe tbody tr th:only-of-type {\n",
       "        vertical-align: middle;\n",
       "    }\n",
       "\n",
       "    .dataframe tbody tr th {\n",
       "        vertical-align: top;\n",
       "    }\n",
       "\n",
       "    .dataframe thead th {\n",
       "        text-align: right;\n",
       "    }\n",
       "</style>\n",
       "<table border=\"1\" class=\"dataframe\">\n",
       "  <thead>\n",
       "    <tr style=\"text-align: right;\">\n",
       "      <th></th>\n",
       "      <th>radius</th>\n",
       "      <th>diameter</th>\n",
       "      <th>densities</th>\n",
       "      <th>number_of_edges</th>\n",
       "      <th>average_clustering</th>\n",
       "      <th>avg_degree_centrality</th>\n",
       "      <th>avg_betweenness_centrality</th>\n",
       "      <th>avg_closeness_centrality</th>\n",
       "      <th>average_shortest_path_length</th>\n",
       "    </tr>\n",
       "  </thead>\n",
       "  <tbody>\n",
       "    <tr>\n",
       "      <th>0</th>\n",
       "      <td>2</td>\n",
       "      <td>2</td>\n",
       "      <td>0.814493</td>\n",
       "      <td>843</td>\n",
       "      <td>0.842169</td>\n",
       "      <td>0.814493</td>\n",
       "      <td>0.004216</td>\n",
       "      <td>0.851136</td>\n",
       "      <td>1.185507</td>\n",
       "    </tr>\n",
       "  </tbody>\n",
       "</table>\n",
       "</div>"
      ],
      "text/plain": [
       "   radius  diameter  densities  number_of_edges  average_clustering  \\\n",
       "0       2         2   0.814493              843            0.842169   \n",
       "\n",
       "   avg_degree_centrality  avg_betweenness_centrality  \\\n",
       "0               0.814493                    0.004216   \n",
       "\n",
       "   avg_closeness_centrality  average_shortest_path_length  \n",
       "0                  0.851136                      1.185507  "
      ]
     },
     "execution_count": 181,
     "metadata": {},
     "output_type": "execute_result"
    }
   ],
   "source": [
    "nm.get_network_features(entropy_network_ThreeReg_Ox_2_98_last100)"
   ]
  },
  {
   "cell_type": "code",
   "execution_count": 182,
   "id": "60ef51c8-44b8-4c41-b934-c781d1eaf0fe",
   "metadata": {},
   "outputs": [
    {
     "data": {
      "text/plain": [
       "array({'AbzaralatePezeshki': 19, 'Gold': 25, 'GDP': 25, 'Coin': 28, 'Agriculture': 28, 'M1': 29, 'DastgahayeBargi': 31, 'khodrosazi': 31, 'paper': 34, 'Daroee': 34, 'Brent Oil': 34, 'SayerMali': 34, 'MahsolateFelezi': 35, 'MahsolateFelezi.1': 35, 'GhandVaShekar': 35, 'M2': 35, 'EstekrajeNaft': 36, 'EntesharVaChap': 37, 'Bank': 37, 'FelezateAsasi': 37, 'VasayelErtebati': 38, 'Siman': 38, 'FaniVaMohandesi': 38, 'HOUSE': 38, 'Euro': 39, 'MashinAlat': 39, 'SarmayeGozari': 39, 'Rayaneh': 39, 'Mali': 39, 'KanehayeGeyreFelezi': 39, 'USD': 40, 'Amlakva': 40, 'FaravardehayeNafti': 40, 'CPI': 40, 'CoalMining': 41, 'Wood': 41, 'Lastic': 41, 'ChandReshteSanati': 41, 'GazaeeBejozGhand': 41, 'Bimeh': 41, 'SayerMadan': 42, 'Shimiyaee': 42, 'KashiVaSeramik': 42, 'HamlVaNaghl': 42, 'index': 43, 'Mansojat': 44},\n",
       "      dtype=object)"
      ]
     },
     "execution_count": 182,
     "metadata": {},
     "output_type": "execute_result"
    }
   ],
   "source": [
    "b27_2 = dict(nx.degree(entropy_network_ThreeReg_Ox_2_98_last100))\n",
    "b27_2 = np.array(dict(sorted(b27_2.items(), key=lambda item: item[1])))\n",
    "b27_2"
   ]
  },
  {
   "cell_type": "code",
   "execution_count": 183,
   "id": "30ed373f-4e33-4b8e-8d09-5f23129430ce",
   "metadata": {},
   "outputs": [],
   "source": [
    "entropy_network_ThreeReg_Ox_3_98_last100 = nm.construct_network(tehran_df_ThreeReg_Ox_3_same_length_98[-100:], method='entropy', threshold=thr27)"
   ]
  },
  {
   "cell_type": "code",
   "execution_count": 184,
   "id": "aaa320ad-e67c-4fc8-91da-e2c56f2fde15",
   "metadata": {},
   "outputs": [
    {
     "data": {
      "text/html": [
       "<div>\n",
       "<style scoped>\n",
       "    .dataframe tbody tr th:only-of-type {\n",
       "        vertical-align: middle;\n",
       "    }\n",
       "\n",
       "    .dataframe tbody tr th {\n",
       "        vertical-align: top;\n",
       "    }\n",
       "\n",
       "    .dataframe thead th {\n",
       "        text-align: right;\n",
       "    }\n",
       "</style>\n",
       "<table border=\"1\" class=\"dataframe\">\n",
       "  <thead>\n",
       "    <tr style=\"text-align: right;\">\n",
       "      <th></th>\n",
       "      <th>radius</th>\n",
       "      <th>diameter</th>\n",
       "      <th>densities</th>\n",
       "      <th>number_of_edges</th>\n",
       "      <th>average_clustering</th>\n",
       "      <th>avg_degree_centrality</th>\n",
       "      <th>avg_betweenness_centrality</th>\n",
       "      <th>avg_closeness_centrality</th>\n",
       "      <th>average_shortest_path_length</th>\n",
       "    </tr>\n",
       "  </thead>\n",
       "  <tbody>\n",
       "    <tr>\n",
       "      <th>0</th>\n",
       "      <td>2</td>\n",
       "      <td>2</td>\n",
       "      <td>0.715152</td>\n",
       "      <td>708</td>\n",
       "      <td>0.751922</td>\n",
       "      <td>0.715152</td>\n",
       "      <td>0.006624</td>\n",
       "      <td>0.784871</td>\n",
       "      <td>1.284848</td>\n",
       "    </tr>\n",
       "  </tbody>\n",
       "</table>\n",
       "</div>"
      ],
      "text/plain": [
       "   radius  diameter  densities  number_of_edges  average_clustering  \\\n",
       "0       2         2   0.715152              708            0.751922   \n",
       "\n",
       "   avg_degree_centrality  avg_betweenness_centrality  \\\n",
       "0               0.715152                    0.006624   \n",
       "\n",
       "   avg_closeness_centrality  average_shortest_path_length  \n",
       "0                  0.784871                      1.284848  "
      ]
     },
     "execution_count": 184,
     "metadata": {},
     "output_type": "execute_result"
    }
   ],
   "source": [
    "nm.get_network_features(entropy_network_ThreeReg_Ox_3_98_last100)"
   ]
  },
  {
   "cell_type": "code",
   "execution_count": 185,
   "id": "c3284f8c-23c0-44d3-9cc3-addefba19ed6",
   "metadata": {},
   "outputs": [
    {
     "data": {
      "text/plain": [
       "array({'SayerMadan': 18, 'VasayelErtebati': 20, 'CPI': 23, 'Euro': 24, 'M2': 24, 'Siman': 25, 'GazaeeBejozGhand': 26, 'USD': 27, 'HOUSE': 27, 'Coin': 28, 'Mansojat': 28, 'SayerMali': 28, 'FaniVaMohandesi': 28, 'Amlakva': 29, 'Brent Oil': 30, 'Gold': 30, 'KashiVaSeramik': 30, 'M1': 31, 'HamlVaNaghl': 31, 'MahsolateFelezi': 31, 'MahsolateFelezi.1': 31, 'FelezateAsasi': 31, 'Wood': 32, 'Lastic': 32, 'SarmayeGozari': 32, 'ChandReshteSanati': 32, 'EntesharVaChap': 32, 'MashinAlat': 33, 'Mali': 33, 'CoalMining': 34, 'GhandVaShekar': 34, 'Agriculture': 35, 'EstekrajeNaft': 35, 'KanehayeGeyreFelezi': 35, 'Bank': 35, 'FaravardehayeNafti': 36, 'Daroee': 36, 'Bimeh': 36, 'GDP': 37, 'khodrosazi': 38, 'Rayaneh': 38, 'index': 40, 'paper': 40, 'DastgahayeBargi': 40, 'Shimiyaee': 41},\n",
       "      dtype=object)"
      ]
     },
     "execution_count": 185,
     "metadata": {},
     "output_type": "execute_result"
    }
   ],
   "source": [
    "b27_3 = dict(nx.degree(entropy_network_ThreeReg_Ox_3_98_last100))\n",
    "b27_3 = np.array(dict(sorted(b27_3.items(), key=lambda item: item[1])))\n",
    "b27_3"
   ]
  },
  {
   "cell_type": "markdown",
   "id": "d4eef866-bb4f-4442-b3c8-43419cddfeb6",
   "metadata": {},
   "source": [
    "# 28) Tehran 3 Regime Entropy (Based on Median Threshold) Period of 90 Far - 98 Dey/ 50 windows of 100 Records"
   ]
  },
  {
   "cell_type": "code",
   "execution_count": 186,
   "id": "19e12954-7e9f-4c1a-9530-81f5acd6c2f2",
   "metadata": {
    "tags": []
   },
   "outputs": [
    {
     "name": "stdout",
     "output_type": "stream",
     "text": [
      "Number of columns data in our DataFrame is = 46\n",
      "fixed_thr= 0.028178518288224944\n"
     ]
    }
   ],
   "source": [
    "nm = Net_moduls()\n",
    "entropy_network_ThreeReg_Ox_1_98_averged = nm.get_network_features_averaged_median(tehran_df, regimes_column = tehran_df_reg['Ox_3'],method='entropy',edges_threshold=200, target_window=100, target_length=50)"
   ]
  },
  {
   "cell_type": "code",
   "execution_count": 187,
   "id": "a0025483-596a-4157-9ad2-fa660abc7863",
   "metadata": {},
   "outputs": [
    {
     "data": {
      "text/html": [
       "<div>\n",
       "<style scoped>\n",
       "    .dataframe tbody tr th:only-of-type {\n",
       "        vertical-align: middle;\n",
       "    }\n",
       "\n",
       "    .dataframe tbody tr th {\n",
       "        vertical-align: top;\n",
       "    }\n",
       "\n",
       "    .dataframe thead th {\n",
       "        text-align: right;\n",
       "    }\n",
       "</style>\n",
       "<table border=\"1\" class=\"dataframe\">\n",
       "  <thead>\n",
       "    <tr style=\"text-align: right;\">\n",
       "      <th></th>\n",
       "      <th>radius</th>\n",
       "      <th>diameter</th>\n",
       "      <th>densities</th>\n",
       "      <th>number_of_edges</th>\n",
       "      <th>average_clustering</th>\n",
       "      <th>avg_degree_centrality</th>\n",
       "      <th>avg_betweenness_centrality</th>\n",
       "      <th>avg_closeness_centrality</th>\n",
       "      <th>average_shortest_path_length</th>\n",
       "    </tr>\n",
       "  </thead>\n",
       "  <tbody>\n",
       "    <tr>\n",
       "      <th>Means</th>\n",
       "      <td>1.960000</td>\n",
       "      <td>2.040000</td>\n",
       "      <td>0.743596</td>\n",
       "      <td>736.160000</td>\n",
       "      <td>0.798099</td>\n",
       "      <td>0.743596</td>\n",
       "      <td>0.005964</td>\n",
       "      <td>0.806684</td>\n",
       "      <td>1.256444</td>\n",
       "    </tr>\n",
       "    <tr>\n",
       "      <th>STDs</th>\n",
       "      <td>0.197949</td>\n",
       "      <td>0.197949</td>\n",
       "      <td>0.041306</td>\n",
       "      <td>40.893271</td>\n",
       "      <td>0.041097</td>\n",
       "      <td>0.041306</td>\n",
       "      <td>0.000961</td>\n",
       "      <td>0.027112</td>\n",
       "      <td>0.041344</td>\n",
       "    </tr>\n",
       "    <tr>\n",
       "      <th>Means</th>\n",
       "      <td>2.000000</td>\n",
       "      <td>2.000000</td>\n",
       "      <td>0.710628</td>\n",
       "      <td>735.500000</td>\n",
       "      <td>0.749259</td>\n",
       "      <td>0.710628</td>\n",
       "      <td>0.006577</td>\n",
       "      <td>0.783997</td>\n",
       "      <td>1.289372</td>\n",
       "    </tr>\n",
       "    <tr>\n",
       "      <th>STDs</th>\n",
       "      <td>0.000000</td>\n",
       "      <td>0.000000</td>\n",
       "      <td>0.042322</td>\n",
       "      <td>43.803480</td>\n",
       "      <td>0.048852</td>\n",
       "      <td>0.042322</td>\n",
       "      <td>0.000962</td>\n",
       "      <td>0.026766</td>\n",
       "      <td>0.042322</td>\n",
       "    </tr>\n",
       "    <tr>\n",
       "      <th>Means</th>\n",
       "      <td>2.000000</td>\n",
       "      <td>2.000000</td>\n",
       "      <td>0.680768</td>\n",
       "      <td>673.960000</td>\n",
       "      <td>0.742753</td>\n",
       "      <td>0.680768</td>\n",
       "      <td>0.007424</td>\n",
       "      <td>0.769112</td>\n",
       "      <td>1.319232</td>\n",
       "    </tr>\n",
       "    <tr>\n",
       "      <th>STDs</th>\n",
       "      <td>0.000000</td>\n",
       "      <td>0.000000</td>\n",
       "      <td>0.061275</td>\n",
       "      <td>60.662654</td>\n",
       "      <td>0.069054</td>\n",
       "      <td>0.061275</td>\n",
       "      <td>0.001425</td>\n",
       "      <td>0.037452</td>\n",
       "      <td>0.061275</td>\n",
       "    </tr>\n",
       "  </tbody>\n",
       "</table>\n",
       "</div>"
      ],
      "text/plain": [
       "         radius  diameter  densities  number_of_edges  average_clustering  \\\n",
       "Means  1.960000  2.040000   0.743596       736.160000            0.798099   \n",
       "STDs   0.197949  0.197949   0.041306        40.893271            0.041097   \n",
       "Means  2.000000  2.000000   0.710628       735.500000            0.749259   \n",
       "STDs   0.000000  0.000000   0.042322        43.803480            0.048852   \n",
       "Means  2.000000  2.000000   0.680768       673.960000            0.742753   \n",
       "STDs   0.000000  0.000000   0.061275        60.662654            0.069054   \n",
       "\n",
       "       avg_degree_centrality  avg_betweenness_centrality  \\\n",
       "Means               0.743596                    0.005964   \n",
       "STDs                0.041306                    0.000961   \n",
       "Means               0.710628                    0.006577   \n",
       "STDs                0.042322                    0.000962   \n",
       "Means               0.680768                    0.007424   \n",
       "STDs                0.061275                    0.001425   \n",
       "\n",
       "       avg_closeness_centrality  average_shortest_path_length  \n",
       "Means                  0.806684                      1.256444  \n",
       "STDs                   0.027112                      0.041344  \n",
       "Means                  0.783997                      1.289372  \n",
       "STDs                   0.026766                      0.042322  \n",
       "Means                  0.769112                      1.319232  \n",
       "STDs                   0.037452                      0.061275  "
      ]
     },
     "execution_count": 187,
     "metadata": {},
     "output_type": "execute_result"
    }
   ],
   "source": [
    "entropy_network_ThreeReg_Ox_1_98_averged"
   ]
  },
  {
   "cell_type": "markdown",
   "id": "19a19299-225e-407c-91ef-84bd9943f675",
   "metadata": {},
   "source": [
    "# 29) Tehran 3 Regime Entropy (Based on Median Threshold) Period of 90 Far - 00 Far/ 50 windows of 100 Records"
   ]
  },
  {
   "cell_type": "code",
   "execution_count": 188,
   "id": "bd9b9f2e-a0f4-44aa-bac5-ce2e6e30e63c",
   "metadata": {
    "tags": []
   },
   "outputs": [
    {
     "name": "stdout",
     "output_type": "stream",
     "text": [
      "Number of columns data in our DataFrame is = 46\n",
      "fixed_thr= 0.026031319631992574\n"
     ]
    }
   ],
   "source": [
    "nm = Net_moduls()\n",
    "entropy_network_ThreeReg_Ox_90_00_averged = nm.get_network_features_averaged_median(tehran_df_completeDates, regimes_column= tehran_df_reg['Ox_3'],method='entropy',edges_threshold=200, target_window=100, target_length=50)"
   ]
  },
  {
   "cell_type": "code",
   "execution_count": 189,
   "id": "6de8e197-5150-46db-ae20-27d4c510c147",
   "metadata": {},
   "outputs": [
    {
     "data": {
      "text/html": [
       "<div>\n",
       "<style scoped>\n",
       "    .dataframe tbody tr th:only-of-type {\n",
       "        vertical-align: middle;\n",
       "    }\n",
       "\n",
       "    .dataframe tbody tr th {\n",
       "        vertical-align: top;\n",
       "    }\n",
       "\n",
       "    .dataframe thead th {\n",
       "        text-align: right;\n",
       "    }\n",
       "</style>\n",
       "<table border=\"1\" class=\"dataframe\">\n",
       "  <thead>\n",
       "    <tr style=\"text-align: right;\">\n",
       "      <th></th>\n",
       "      <th>radius</th>\n",
       "      <th>diameter</th>\n",
       "      <th>densities</th>\n",
       "      <th>number_of_edges</th>\n",
       "      <th>average_clustering</th>\n",
       "      <th>avg_degree_centrality</th>\n",
       "      <th>avg_betweenness_centrality</th>\n",
       "      <th>avg_closeness_centrality</th>\n",
       "      <th>average_shortest_path_length</th>\n",
       "    </tr>\n",
       "  </thead>\n",
       "  <tbody>\n",
       "    <tr>\n",
       "      <th>Means</th>\n",
       "      <td>2.000000</td>\n",
       "      <td>2.000000</td>\n",
       "      <td>0.735737</td>\n",
       "      <td>728.380000</td>\n",
       "      <td>0.770567</td>\n",
       "      <td>0.735737</td>\n",
       "      <td>0.006146</td>\n",
       "      <td>0.798113</td>\n",
       "      <td>1.264263</td>\n",
       "    </tr>\n",
       "    <tr>\n",
       "      <th>STDs</th>\n",
       "      <td>0.000000</td>\n",
       "      <td>0.000000</td>\n",
       "      <td>0.021493</td>\n",
       "      <td>21.278417</td>\n",
       "      <td>0.017358</td>\n",
       "      <td>0.021493</td>\n",
       "      <td>0.000500</td>\n",
       "      <td>0.013257</td>\n",
       "      <td>0.021493</td>\n",
       "    </tr>\n",
       "    <tr>\n",
       "      <th>Means</th>\n",
       "      <td>1.980000</td>\n",
       "      <td>2.160000</td>\n",
       "      <td>0.755051</td>\n",
       "      <td>778.900000</td>\n",
       "      <td>0.802405</td>\n",
       "      <td>0.755051</td>\n",
       "      <td>0.005611</td>\n",
       "      <td>0.812344</td>\n",
       "      <td>1.246340</td>\n",
       "    </tr>\n",
       "    <tr>\n",
       "      <th>STDs</th>\n",
       "      <td>0.141421</td>\n",
       "      <td>0.370328</td>\n",
       "      <td>0.032241</td>\n",
       "      <td>37.455961</td>\n",
       "      <td>0.024551</td>\n",
       "      <td>0.032241</td>\n",
       "      <td>0.000806</td>\n",
       "      <td>0.021077</td>\n",
       "      <td>0.034828</td>\n",
       "    </tr>\n",
       "    <tr>\n",
       "      <th>Means</th>\n",
       "      <td>2.000000</td>\n",
       "      <td>2.440000</td>\n",
       "      <td>0.650029</td>\n",
       "      <td>666.600000</td>\n",
       "      <td>0.703724</td>\n",
       "      <td>0.650029</td>\n",
       "      <td>0.007998</td>\n",
       "      <td>0.747820</td>\n",
       "      <td>1.350435</td>\n",
       "    </tr>\n",
       "    <tr>\n",
       "      <th>STDs</th>\n",
       "      <td>0.000000</td>\n",
       "      <td>0.501427</td>\n",
       "      <td>0.032417</td>\n",
       "      <td>28.277055</td>\n",
       "      <td>0.025844</td>\n",
       "      <td>0.032417</td>\n",
       "      <td>0.000702</td>\n",
       "      <td>0.017321</td>\n",
       "      <td>0.032480</td>\n",
       "    </tr>\n",
       "  </tbody>\n",
       "</table>\n",
       "</div>"
      ],
      "text/plain": [
       "         radius  diameter  densities  number_of_edges  average_clustering  \\\n",
       "Means  2.000000  2.000000   0.735737       728.380000            0.770567   \n",
       "STDs   0.000000  0.000000   0.021493        21.278417            0.017358   \n",
       "Means  1.980000  2.160000   0.755051       778.900000            0.802405   \n",
       "STDs   0.141421  0.370328   0.032241        37.455961            0.024551   \n",
       "Means  2.000000  2.440000   0.650029       666.600000            0.703724   \n",
       "STDs   0.000000  0.501427   0.032417        28.277055            0.025844   \n",
       "\n",
       "       avg_degree_centrality  avg_betweenness_centrality  \\\n",
       "Means               0.735737                    0.006146   \n",
       "STDs                0.021493                    0.000500   \n",
       "Means               0.755051                    0.005611   \n",
       "STDs                0.032241                    0.000806   \n",
       "Means               0.650029                    0.007998   \n",
       "STDs                0.032417                    0.000702   \n",
       "\n",
       "       avg_closeness_centrality  average_shortest_path_length  \n",
       "Means                  0.798113                      1.264263  \n",
       "STDs                   0.013257                      0.021493  \n",
       "Means                  0.812344                      1.246340  \n",
       "STDs                   0.021077                      0.034828  \n",
       "Means                  0.747820                      1.350435  \n",
       "STDs                   0.017321                      0.032480  "
      ]
     },
     "execution_count": 189,
     "metadata": {},
     "output_type": "execute_result"
    }
   ],
   "source": [
    "entropy_network_ThreeReg_Ox_90_00_averged"
   ]
  },
  {
   "cell_type": "code",
   "execution_count": null,
   "id": "f4fdb84a-cfbc-439e-a071-46a5ebcb82bc",
   "metadata": {},
   "outputs": [],
   "source": []
  },
  {
   "cell_type": "markdown",
   "id": "26e2e9f6-861b-402e-909e-687f95e72c69",
   "metadata": {},
   "source": [
    "# 30) Tehran 3 Regime Crossed (Based on Median Threshold) Period of 90 Far - 98 Dey"
   ]
  },
  {
   "cell_type": "code",
   "execution_count": 190,
   "id": "66fb171c-6e59-43f0-9c8a-7ee1b75f12a5",
   "metadata": {},
   "outputs": [],
   "source": [
    "nm = Net_moduls()"
   ]
  },
  {
   "cell_type": "code",
   "execution_count": 191,
   "id": "739b037b-3ab8-4d3d-a028-98e743c9cda6",
   "metadata": {},
   "outputs": [],
   "source": [
    "thr30_1 = nm.find_median_crossed_threshold(tehran_df_ThreeReg_Ox_1_same_length_98)\n",
    "thr30_2 = nm.find_median_crossed_threshold(tehran_df_ThreeReg_Ox_2_same_length_98)\n",
    "thr30_3 = nm.find_median_crossed_threshold(tehran_df_ThreeReg_Ox_3_same_length_98)\n",
    "\n",
    "thr30 = min(thr30_1, thr30_2, thr30_3)"
   ]
  },
  {
   "cell_type": "code",
   "execution_count": 192,
   "id": "0fd97e33-67f8-4677-89eb-42ad00f4bd72",
   "metadata": {},
   "outputs": [],
   "source": [
    "crossed_network_ThreeReg_Ox_1_98 = nm.construct_network(tehran_df_ThreeReg_Ox_1_same_length_98, method='crossed', threshold=thr30)"
   ]
  },
  {
   "cell_type": "code",
   "execution_count": 193,
   "id": "35bbc927-ea32-4016-8c7a-ff99b324ca31",
   "metadata": {},
   "outputs": [
    {
     "data": {
      "text/html": [
       "<div>\n",
       "<style scoped>\n",
       "    .dataframe tbody tr th:only-of-type {\n",
       "        vertical-align: middle;\n",
       "    }\n",
       "\n",
       "    .dataframe tbody tr th {\n",
       "        vertical-align: top;\n",
       "    }\n",
       "\n",
       "    .dataframe thead th {\n",
       "        text-align: right;\n",
       "    }\n",
       "</style>\n",
       "<table border=\"1\" class=\"dataframe\">\n",
       "  <thead>\n",
       "    <tr style=\"text-align: right;\">\n",
       "      <th></th>\n",
       "      <th>radius</th>\n",
       "      <th>diameter</th>\n",
       "      <th>densities</th>\n",
       "      <th>number_of_edges</th>\n",
       "      <th>average_clustering</th>\n",
       "      <th>avg_degree_centrality</th>\n",
       "      <th>avg_betweenness_centrality</th>\n",
       "      <th>avg_closeness_centrality</th>\n",
       "      <th>average_shortest_path_length</th>\n",
       "    </tr>\n",
       "  </thead>\n",
       "  <tbody>\n",
       "    <tr>\n",
       "      <th>0</th>\n",
       "      <td>2</td>\n",
       "      <td>3</td>\n",
       "      <td>0.344928</td>\n",
       "      <td>357</td>\n",
       "      <td>0.398382</td>\n",
       "      <td>0.344928</td>\n",
       "      <td>0.015086</td>\n",
       "      <td>0.606256</td>\n",
       "      <td>1.663768</td>\n",
       "    </tr>\n",
       "  </tbody>\n",
       "</table>\n",
       "</div>"
      ],
      "text/plain": [
       "   radius  diameter  densities  number_of_edges  average_clustering  \\\n",
       "0       2         3   0.344928              357            0.398382   \n",
       "\n",
       "   avg_degree_centrality  avg_betweenness_centrality  \\\n",
       "0               0.344928                    0.015086   \n",
       "\n",
       "   avg_closeness_centrality  average_shortest_path_length  \n",
       "0                  0.606256                      1.663768  "
      ]
     },
     "execution_count": 193,
     "metadata": {},
     "output_type": "execute_result"
    }
   ],
   "source": [
    "nm.get_network_features(crossed_network_ThreeReg_Ox_1_98)"
   ]
  },
  {
   "cell_type": "code",
   "execution_count": 194,
   "id": "95ae40af-fe01-4976-9538-8e16c739b77f",
   "metadata": {},
   "outputs": [
    {
     "data": {
      "text/plain": [
       "array({'Lastic': 4, 'Mali': 5, 'Daroee': 7, 'Bimeh': 7, 'MashinAlat': 8, 'SarmayeGozari': 8, 'Bank': 8, 'KanehayeGeyreFelezi': 8, 'khodrosazi': 8, 'KashiVaSeramik': 8, 'Rayaneh': 10, 'FaniVaMohandesi': 10, 'Siman': 11, 'Amlakva': 11, 'DastgahayeBargi': 11, 'index': 12, 'MahsolateFelezi': 13, 'MahsolateFelezi.1': 13, 'GazaeeBejozGhand': 13, 'EntesharVaChap': 14, 'SayerMali': 14, 'ChandReshteSanati': 14, 'HOUSE': 15, 'HamlVaNaghl': 15, 'AbzaralatePezeshki': 17, 'FelezateAsasi': 17, 'Shimiyaee': 17, 'SayerMadan': 18, 'paper': 18, 'Agriculture': 18, 'FaravardehayeNafti': 18, 'GhandVaShekar': 18, 'Brent Oil': 20, 'EstekrajeNaft': 20, 'M1': 20, 'CPI': 21, 'CoalMining': 21, 'Wood': 21, 'M2': 23, 'Coin': 23, 'USD': 23, 'Mansojat': 25, 'VasayelErtebati': 25, 'GDP': 26, 'Euro': 28, 'Gold': 30},\n",
       "      dtype=object)"
      ]
     },
     "execution_count": 194,
     "metadata": {},
     "output_type": "execute_result"
    }
   ],
   "source": [
    "b30_1 = dict(nx.degree(crossed_network_ThreeReg_Ox_1_98))\n",
    "b30_1 = np.array(dict(sorted(b30_1.items(), key=lambda item: item[1])))\n",
    "b30_1"
   ]
  },
  {
   "cell_type": "code",
   "execution_count": 195,
   "id": "9ce9281e-d7f0-42b0-8be2-5b44e902eeae",
   "metadata": {},
   "outputs": [],
   "source": [
    "crossed_network_ThreeReg_Ox_2_98 = nm.construct_network(tehran_df_ThreeReg_Ox_2_same_length_98, method='crossed', threshold=thr30)"
   ]
  },
  {
   "cell_type": "code",
   "execution_count": 196,
   "id": "55d1021d-9519-4d79-b774-21ec0c0a22da",
   "metadata": {},
   "outputs": [
    {
     "data": {
      "text/html": [
       "<div>\n",
       "<style scoped>\n",
       "    .dataframe tbody tr th:only-of-type {\n",
       "        vertical-align: middle;\n",
       "    }\n",
       "\n",
       "    .dataframe tbody tr th {\n",
       "        vertical-align: top;\n",
       "    }\n",
       "\n",
       "    .dataframe thead th {\n",
       "        text-align: right;\n",
       "    }\n",
       "</style>\n",
       "<table border=\"1\" class=\"dataframe\">\n",
       "  <thead>\n",
       "    <tr style=\"text-align: right;\">\n",
       "      <th></th>\n",
       "      <th>radius</th>\n",
       "      <th>diameter</th>\n",
       "      <th>densities</th>\n",
       "      <th>number_of_edges</th>\n",
       "      <th>average_clustering</th>\n",
       "      <th>avg_degree_centrality</th>\n",
       "      <th>avg_betweenness_centrality</th>\n",
       "      <th>avg_closeness_centrality</th>\n",
       "      <th>average_shortest_path_length</th>\n",
       "    </tr>\n",
       "  </thead>\n",
       "  <tbody>\n",
       "    <tr>\n",
       "      <th>0</th>\n",
       "      <td>2</td>\n",
       "      <td>2</td>\n",
       "      <td>0.38744</td>\n",
       "      <td>401</td>\n",
       "      <td>0.460336</td>\n",
       "      <td>0.38744</td>\n",
       "      <td>0.013922</td>\n",
       "      <td>0.626314</td>\n",
       "      <td>1.61256</td>\n",
       "    </tr>\n",
       "  </tbody>\n",
       "</table>\n",
       "</div>"
      ],
      "text/plain": [
       "   radius  diameter  densities  number_of_edges  average_clustering  \\\n",
       "0       2         2    0.38744              401            0.460336   \n",
       "\n",
       "   avg_degree_centrality  avg_betweenness_centrality  \\\n",
       "0                0.38744                    0.013922   \n",
       "\n",
       "   avg_closeness_centrality  average_shortest_path_length  \n",
       "0                  0.626314                       1.61256  "
      ]
     },
     "execution_count": 196,
     "metadata": {},
     "output_type": "execute_result"
    }
   ],
   "source": [
    "nm.get_network_features(crossed_network_ThreeReg_Ox_2_98)"
   ]
  },
  {
   "cell_type": "code",
   "execution_count": 197,
   "id": "477273f1-8012-439f-8c8b-0032e76e76ea",
   "metadata": {},
   "outputs": [
    {
     "data": {
      "text/plain": [
       "array({'Amlakva': 8, 'khodrosazi': 9, 'KanehayeGeyreFelezi': 9, 'Lastic': 9, 'DastgahayeBargi': 10, 'SarmayeGozari': 10, 'ChandReshteSanati': 10, 'EstekrajeNaft': 10, 'Bimeh': 11, 'FaniVaMohandesi': 11, 'MahsolateFelezi': 12, 'MahsolateFelezi.1': 12, 'Siman': 12, 'index': 13, 'FaravardehayeNafti': 13, 'Daroee': 13, 'KashiVaSeramik': 13, 'Rayaneh': 13, 'Mali': 13, 'GazaeeBejozGhand': 14, 'Bank': 14, 'HOUSE': 15, 'MashinAlat': 15, 'SayerMali': 15, 'FelezateAsasi': 15, 'GhandVaShekar': 17, 'Mansojat': 17, 'Shimiyaee': 17, 'M2': 18, 'VasayelErtebati': 18, 'Agriculture': 19, 'HamlVaNaghl': 21, 'M1': 22, 'AbzaralatePezeshki': 23, 'EntesharVaChap': 24, 'Euro': 25, 'CoalMining': 25, 'Gold': 25, 'CPI': 27, 'GDP': 27, 'SayerMadan': 27, 'Coin': 29, 'Wood': 29, 'USD': 30, 'Brent Oil': 31, 'paper': 32},\n",
       "      dtype=object)"
      ]
     },
     "execution_count": 197,
     "metadata": {},
     "output_type": "execute_result"
    }
   ],
   "source": [
    "b30_2 = dict(nx.degree(crossed_network_ThreeReg_Ox_2_98))\n",
    "b30_2 = np.array(dict(sorted(b30_2.items(), key=lambda item: item[1])))\n",
    "b30_2"
   ]
  },
  {
   "cell_type": "code",
   "execution_count": 198,
   "id": "b8103132-6a47-41c6-b281-2316bdf81f40",
   "metadata": {},
   "outputs": [],
   "source": [
    "crossed_network_ThreeReg_Ox_3_98 = nm.construct_network(tehran_df_ThreeReg_Ox_3_same_length_98, method='crossed', threshold=thr30)"
   ]
  },
  {
   "cell_type": "code",
   "execution_count": 199,
   "id": "7ed0b827-3de2-4fb8-93fa-903adacd4371",
   "metadata": {},
   "outputs": [
    {
     "data": {
      "text/html": [
       "<div>\n",
       "<style scoped>\n",
       "    .dataframe tbody tr th:only-of-type {\n",
       "        vertical-align: middle;\n",
       "    }\n",
       "\n",
       "    .dataframe tbody tr th {\n",
       "        vertical-align: top;\n",
       "    }\n",
       "\n",
       "    .dataframe thead th {\n",
       "        text-align: right;\n",
       "    }\n",
       "</style>\n",
       "<table border=\"1\" class=\"dataframe\">\n",
       "  <thead>\n",
       "    <tr style=\"text-align: right;\">\n",
       "      <th></th>\n",
       "      <th>radius</th>\n",
       "      <th>diameter</th>\n",
       "      <th>densities</th>\n",
       "      <th>number_of_edges</th>\n",
       "      <th>average_clustering</th>\n",
       "      <th>avg_degree_centrality</th>\n",
       "      <th>avg_betweenness_centrality</th>\n",
       "      <th>avg_closeness_centrality</th>\n",
       "      <th>average_shortest_path_length</th>\n",
       "    </tr>\n",
       "  </thead>\n",
       "  <tbody>\n",
       "    <tr>\n",
       "      <th>0</th>\n",
       "      <td>2</td>\n",
       "      <td>3</td>\n",
       "      <td>0.321739</td>\n",
       "      <td>333</td>\n",
       "      <td>0.374024</td>\n",
       "      <td>0.321739</td>\n",
       "      <td>0.015437</td>\n",
       "      <td>0.599941</td>\n",
       "      <td>1.679227</td>\n",
       "    </tr>\n",
       "  </tbody>\n",
       "</table>\n",
       "</div>"
      ],
      "text/plain": [
       "   radius  diameter  densities  number_of_edges  average_clustering  \\\n",
       "0       2         3   0.321739              333            0.374024   \n",
       "\n",
       "   avg_degree_centrality  avg_betweenness_centrality  \\\n",
       "0               0.321739                    0.015437   \n",
       "\n",
       "   avg_closeness_centrality  average_shortest_path_length  \n",
       "0                  0.599941                      1.679227  "
      ]
     },
     "execution_count": 199,
     "metadata": {},
     "output_type": "execute_result"
    }
   ],
   "source": [
    "nm.get_network_features(crossed_network_ThreeReg_Ox_3_98)"
   ]
  },
  {
   "cell_type": "code",
   "execution_count": 200,
   "id": "b9c52f92-891d-4c48-b3a8-4a8bc9ab4666",
   "metadata": {},
   "outputs": [
    {
     "data": {
      "text/plain": [
       "array({'index': 6, 'KanehayeGeyreFelezi': 6, 'MashinAlat': 6, 'SayerMali': 6, 'SarmayeGozari': 8, 'Mali': 8, 'EntesharVaChap': 9, 'Lastic': 9, 'KashiVaSeramik': 9, 'MahsolateFelezi': 9, 'MahsolateFelezi.1': 9, 'GazaeeBejozGhand': 9, 'khodrosazi': 10, 'Bimeh': 10, 'Siman': 10, 'Rayaneh': 10, 'EstekrajeNaft': 11, 'paper': 12, 'HamlVaNaghl': 12, 'Amlakva': 12, 'AbzaralatePezeshki': 12, 'GDP': 13, 'VasayelErtebati': 13, 'Shimiyaee': 13, 'Agriculture': 14, 'ChandReshteSanati': 14, 'Daroee': 14, 'CoalMining': 15, 'FelezateAsasi': 15, 'GhandVaShekar': 15, 'FaniVaMohandesi': 15, 'Bank': 16, 'FaravardehayeNafti': 16, 'Wood': 17, 'DastgahayeBargi': 19, 'Gold': 21, 'HOUSE': 21, 'SayerMadan': 21, 'Mansojat': 22, 'M2': 22, 'USD': 24, 'CPI': 24, 'Euro': 25, 'Coin': 27, 'Brent Oil': 28, 'M1': 29},\n",
       "      dtype=object)"
      ]
     },
     "execution_count": 200,
     "metadata": {},
     "output_type": "execute_result"
    }
   ],
   "source": [
    "b30_3 = dict(nx.degree(crossed_network_ThreeReg_Ox_3_98))\n",
    "b30_3 = np.array(dict(sorted(b30_3.items(), key=lambda item: item[1])))\n",
    "b30_3"
   ]
  },
  {
   "cell_type": "markdown",
   "id": "7f3b8520-3c23-4ba1-919d-87d7955b8286",
   "metadata": {},
   "source": [
    "# 31) Tehran 3 Regime Crossed (Based on Median Threshold) Period of 90 Far - 00 Far"
   ]
  },
  {
   "cell_type": "code",
   "execution_count": 201,
   "id": "e95cfae7-83fa-42da-8a01-018b0427ffc3",
   "metadata": {},
   "outputs": [],
   "source": [
    "nm = Net_moduls()"
   ]
  },
  {
   "cell_type": "code",
   "execution_count": null,
   "id": "085d1886-09fd-448b-a28a-2d46cef5b325",
   "metadata": {},
   "outputs": [],
   "source": [
    "thr31_1 = nm.find_median_crossed_threshold(tehran_df_ThreeReg_Ox_1_same_length)\n",
    "thr31_2 = nm.find_median_crossed_threshold(tehran_df_ThreeReg_Ox_2_same_length)\n",
    "thr31_3 = nm.find_median_crossed_threshold(tehran_df_ThreeReg_Ox_3_same_length)\n",
    "\n",
    "thr31 = min(thr31_1, thr31_2, thr31_3)"
   ]
  },
  {
   "cell_type": "code",
   "execution_count": null,
   "id": "4ac9f5cf-d894-4866-a45c-1f574f955e6d",
   "metadata": {},
   "outputs": [],
   "source": [
    "crossed_network_ThreeReg_Ox_1 = nm.construct_network(tehran_df_ThreeReg_Ox_1_same_length, method='crossed', threshold=thr31)"
   ]
  },
  {
   "cell_type": "code",
   "execution_count": null,
   "id": "ba2f5af6-afe2-4bab-bd1d-2f507c4edb6a",
   "metadata": {},
   "outputs": [],
   "source": [
    "nm.get_network_features(crossed_network_ThreeReg_Ox_1)"
   ]
  },
  {
   "cell_type": "code",
   "execution_count": null,
   "id": "d09d0bf8-ff32-4479-8a6d-6b4c80f731d6",
   "metadata": {},
   "outputs": [],
   "source": [
    "b31_1 = dict(nx.degree(crossed_network_ThreeReg_Ox_1))\n",
    "b31_1 = np.array(dict(sorted(b31_1.items(), key=lambda item: item[1])))\n",
    "b31_1"
   ]
  },
  {
   "cell_type": "code",
   "execution_count": null,
   "id": "6a86d8df-7ed3-4377-8c27-7184db40a6ee",
   "metadata": {},
   "outputs": [],
   "source": [
    "crossed_network_ThreeReg_Ox_2 = nm.construct_network(tehran_df_ThreeReg_Ox_2_same_length, method='crossed', threshold=thr31)"
   ]
  },
  {
   "cell_type": "code",
   "execution_count": null,
   "id": "7bfbd5a7-1132-4ca4-9eae-11be227314b4",
   "metadata": {},
   "outputs": [],
   "source": [
    "nm.get_network_features(crossed_network_ThreeReg_Ox_2)"
   ]
  },
  {
   "cell_type": "code",
   "execution_count": null,
   "id": "2071d248-6d1d-442b-be0e-f6a6052bf787",
   "metadata": {},
   "outputs": [],
   "source": [
    "b31_2 = dict(nx.degree(crossed_network_ThreeReg_Ox_2))\n",
    "b31_2 = np.array(dict(sorted(b31_2.items(), key=lambda item: item[1])))\n",
    "b31_2"
   ]
  },
  {
   "cell_type": "code",
   "execution_count": null,
   "id": "3d21f30f-221d-480e-806c-e258b43a10bf",
   "metadata": {},
   "outputs": [],
   "source": [
    "crossed_network_ThreeReg_Ox_3 = nm.construct_network(tehran_df_ThreeReg_Ox_3_same_length, method='crossed', threshold=thr31)"
   ]
  },
  {
   "cell_type": "code",
   "execution_count": null,
   "id": "e3f2af4e-a216-4e73-a505-3863a7e5d92a",
   "metadata": {},
   "outputs": [],
   "source": [
    "nm.get_network_features(crossed_network_ThreeReg_Ox_3)"
   ]
  },
  {
   "cell_type": "code",
   "execution_count": null,
   "id": "460b19a8-3c93-49e4-8fa9-8cb6c8abd51c",
   "metadata": {},
   "outputs": [],
   "source": [
    "b31_3 = dict(nx.degree(crossed_network_ThreeReg_Ox_3))\n",
    "b31_3 = np.array(dict(sorted(b31_3.items(), key=lambda item: item[1])))\n",
    "b31_3"
   ]
  },
  {
   "cell_type": "markdown",
   "id": "fb6ad1f8-c1df-45d7-9829-49e9f884c931",
   "metadata": {},
   "source": [
    "# 32) Tehran 3 Regime Crossed (Based on Median Threshold) Period of 90 Far - 98 Dey/ Last 100 Records"
   ]
  },
  {
   "cell_type": "code",
   "execution_count": null,
   "id": "f5ec8c4a-ed47-4869-9656-613c09349e9c",
   "metadata": {},
   "outputs": [],
   "source": [
    "thr32_1 = nm.find_median_crossed_100_threshold(tehran_df_ThreeReg_Ox_1_same_length_98[-100:])\n",
    "thr32_2 = nm.find_median_crossed_100_threshold(tehran_df_ThreeReg_Ox_2_same_length_98[-100:])\n",
    "thr32_3 = nm.find_median_crossed_100_threshold(tehran_df_ThreeReg_Ox_3_same_length_98[-100:])\n",
    "\n",
    "thr32 = min(thr32_1, thr32_2, thr32_3)"
   ]
  },
  {
   "cell_type": "code",
   "execution_count": null,
   "id": "b5bd0fc9-4827-446e-b77b-be929d070d91",
   "metadata": {},
   "outputs": [],
   "source": [
    "crossed_network_ThreeReg_Ox_1_98_last100 = nm.construct_network(tehran_df_ThreeReg_Ox_1_same_length_98[-100:], method='crossed_100', threshold=thr32)"
   ]
  },
  {
   "cell_type": "code",
   "execution_count": null,
   "id": "f12aa232-72a6-43b8-b85d-776f4afd3b07",
   "metadata": {},
   "outputs": [],
   "source": [
    "nm.get_network_features(crossed_network_ThreeReg_Ox_1_98_last100)"
   ]
  },
  {
   "cell_type": "code",
   "execution_count": null,
   "id": "ab4c9f72-d81d-4bfc-98a6-ab665fd62ae3",
   "metadata": {},
   "outputs": [],
   "source": [
    "b32_1 = dict(nx.degree(crossed_network_ThreeReg_Ox_1_98_last100))\n",
    "b32_1 = np.array(dict(sorted(b32_1.items(), key=lambda item: item[1])))\n",
    "b32_1"
   ]
  },
  {
   "cell_type": "code",
   "execution_count": null,
   "id": "0a96cad2-3dd7-40d3-aa3b-13e2b63e54b2",
   "metadata": {},
   "outputs": [],
   "source": [
    "crossed_network_ThreeReg_Ox_2_98_last100 = nm.construct_network(tehran_df_ThreeReg_Ox_2_same_length_98[-100:], method='crossed_100', threshold=thr32)"
   ]
  },
  {
   "cell_type": "code",
   "execution_count": null,
   "id": "9b7baa8b-d1bd-4d7f-a198-da6c46fe5fd8",
   "metadata": {},
   "outputs": [],
   "source": [
    "nm.get_network_features(crossed_network_ThreeReg_Ox_2_98_last100)"
   ]
  },
  {
   "cell_type": "code",
   "execution_count": null,
   "id": "387af827-01c3-4a9c-ad12-48f5ea214b41",
   "metadata": {},
   "outputs": [],
   "source": [
    "b32_2 = dict(nx.degree(crossed_network_ThreeReg_Ox_2_98_last100))\n",
    "b32_2 = np.array(dict(sorted(b32_2.items(), key=lambda item: item[1])))\n",
    "b32_2"
   ]
  },
  {
   "cell_type": "code",
   "execution_count": 118,
   "id": "4d69fdb2-2378-44d9-b37a-08aeecc7127b",
   "metadata": {},
   "outputs": [],
   "source": [
    "crossed_network_ThreeReg_Ox_3_98_last100 = nm.construct_network(tehran_df_ThreeReg_Ox_3_same_length_98[-100:], method='crossed_100', threshold=thr32)"
   ]
  },
  {
   "cell_type": "code",
   "execution_count": 119,
   "id": "a4bc1fa9-4b25-408e-9b56-cf4f1652f166",
   "metadata": {},
   "outputs": [
    {
     "data": {
      "text/html": [
       "<div>\n",
       "<style scoped>\n",
       "    .dataframe tbody tr th:only-of-type {\n",
       "        vertical-align: middle;\n",
       "    }\n",
       "\n",
       "    .dataframe tbody tr th {\n",
       "        vertical-align: top;\n",
       "    }\n",
       "\n",
       "    .dataframe thead th {\n",
       "        text-align: right;\n",
       "    }\n",
       "</style>\n",
       "<table border=\"1\" class=\"dataframe\">\n",
       "  <thead>\n",
       "    <tr style=\"text-align: right;\">\n",
       "      <th></th>\n",
       "      <th>radius</th>\n",
       "      <th>diameter</th>\n",
       "      <th>densities</th>\n",
       "      <th>number_of_edges</th>\n",
       "      <th>average_clustering</th>\n",
       "      <th>avg_degree_centrality</th>\n",
       "      <th>avg_betweenness_centrality</th>\n",
       "      <th>avg_closeness_centrality</th>\n",
       "      <th>average_shortest_path_length</th>\n",
       "    </tr>\n",
       "  </thead>\n",
       "  <tbody>\n",
       "    <tr>\n",
       "      <th>0</th>\n",
       "      <td>2</td>\n",
       "      <td>3</td>\n",
       "      <td>0.348792</td>\n",
       "      <td>361</td>\n",
       "      <td>0.443474</td>\n",
       "      <td>0.348792</td>\n",
       "      <td>0.014822</td>\n",
       "      <td>0.611291</td>\n",
       "      <td>1.652174</td>\n",
       "    </tr>\n",
       "  </tbody>\n",
       "</table>\n",
       "</div>"
      ],
      "text/plain": [
       "   radius  diameter  densities  number_of_edges  average_clustering  \\\n",
       "0       2         3   0.348792              361            0.443474   \n",
       "\n",
       "   avg_degree_centrality  avg_betweenness_centrality  \\\n",
       "0               0.348792                    0.014822   \n",
       "\n",
       "   avg_closeness_centrality  average_shortest_path_length  \n",
       "0                  0.611291                      1.652174  "
      ]
     },
     "execution_count": 119,
     "metadata": {},
     "output_type": "execute_result"
    }
   ],
   "source": [
    "nm.get_network_features(crossed_network_ThreeReg_Ox_3_98_last100)"
   ]
  },
  {
   "cell_type": "markdown",
   "id": "3d731243-2b73-472b-bf1a-50fe7d1725a6",
   "metadata": {},
   "source": [
    "# 33) Tehran 3 Regime Crossed (Based on Median Threshold) Period of 90 Far - 98 Dey/ 50 windows of 100 Records"
   ]
  },
  {
   "cell_type": "code",
   "execution_count": 120,
   "id": "f154b2bb-e99f-4ede-a1dc-b4ffe662fd60",
   "metadata": {
    "tags": []
   },
   "outputs": [
    {
     "name": "stdout",
     "output_type": "stream",
     "text": [
      "Number of columns data in our DataFrame is = 46\n",
      "fixed_thr= 0.64\n"
     ]
    }
   ],
   "source": [
    "nm = Net_moduls()\n",
    "crossed_network_ThreeReg_Ox_1_98_averged = nm.get_network_features_averaged_median(tehran_df, regimes_column = tehran_df_reg['Ox_3'],method='crossed_100',edges_threshold=200, target_window=100, target_length=50)"
   ]
  },
  {
   "cell_type": "code",
   "execution_count": 121,
   "id": "c2e0e335-f476-4893-ac8e-390357b287cf",
   "metadata": {},
   "outputs": [
    {
     "data": {
      "text/html": [
       "<div>\n",
       "<style scoped>\n",
       "    .dataframe tbody tr th:only-of-type {\n",
       "        vertical-align: middle;\n",
       "    }\n",
       "\n",
       "    .dataframe tbody tr th {\n",
       "        vertical-align: top;\n",
       "    }\n",
       "\n",
       "    .dataframe thead th {\n",
       "        text-align: right;\n",
       "    }\n",
       "</style>\n",
       "<table border=\"1\" class=\"dataframe\">\n",
       "  <thead>\n",
       "    <tr style=\"text-align: right;\">\n",
       "      <th></th>\n",
       "      <th>radius</th>\n",
       "      <th>diameter</th>\n",
       "      <th>densities</th>\n",
       "      <th>number_of_edges</th>\n",
       "      <th>average_clustering</th>\n",
       "      <th>avg_degree_centrality</th>\n",
       "      <th>avg_betweenness_centrality</th>\n",
       "      <th>avg_closeness_centrality</th>\n",
       "      <th>average_shortest_path_length</th>\n",
       "    </tr>\n",
       "  </thead>\n",
       "  <tbody>\n",
       "    <tr>\n",
       "      <th>Means</th>\n",
       "      <td>2.000000</td>\n",
       "      <td>2.960000</td>\n",
       "      <td>0.322667</td>\n",
       "      <td>333.960000</td>\n",
       "      <td>0.358228</td>\n",
       "      <td>0.322667</td>\n",
       "      <td>0.015545</td>\n",
       "      <td>0.599095</td>\n",
       "      <td>1.683961</td>\n",
       "    </tr>\n",
       "    <tr>\n",
       "      <th>STDs</th>\n",
       "      <td>0.000000</td>\n",
       "      <td>0.197949</td>\n",
       "      <td>0.020442</td>\n",
       "      <td>21.157292</td>\n",
       "      <td>0.031253</td>\n",
       "      <td>0.020442</td>\n",
       "      <td>0.000532</td>\n",
       "      <td>0.008376</td>\n",
       "      <td>0.023411</td>\n",
       "    </tr>\n",
       "    <tr>\n",
       "      <th>Means</th>\n",
       "      <td>2.000000</td>\n",
       "      <td>3.000000</td>\n",
       "      <td>0.265681</td>\n",
       "      <td>274.980000</td>\n",
       "      <td>0.345588</td>\n",
       "      <td>0.265681</td>\n",
       "      <td>0.017336</td>\n",
       "      <td>0.572276</td>\n",
       "      <td>1.762802</td>\n",
       "    </tr>\n",
       "    <tr>\n",
       "      <th>STDs</th>\n",
       "      <td>0.000000</td>\n",
       "      <td>0.000000</td>\n",
       "      <td>0.021888</td>\n",
       "      <td>22.653999</td>\n",
       "      <td>0.045590</td>\n",
       "      <td>0.021888</td>\n",
       "      <td>0.000756</td>\n",
       "      <td>0.010868</td>\n",
       "      <td>0.033274</td>\n",
       "    </tr>\n",
       "    <tr>\n",
       "      <th>Means</th>\n",
       "      <td>2.100000</td>\n",
       "      <td>3.280000</td>\n",
       "      <td>0.225237</td>\n",
       "      <td>233.120000</td>\n",
       "      <td>0.292370</td>\n",
       "      <td>0.225237</td>\n",
       "      <td>0.018903</td>\n",
       "      <td>0.552310</td>\n",
       "      <td>1.831710</td>\n",
       "    </tr>\n",
       "    <tr>\n",
       "      <th>STDs</th>\n",
       "      <td>0.303046</td>\n",
       "      <td>0.496518</td>\n",
       "      <td>0.039876</td>\n",
       "      <td>41.271446</td>\n",
       "      <td>0.072208</td>\n",
       "      <td>0.039876</td>\n",
       "      <td>0.001731</td>\n",
       "      <td>0.021187</td>\n",
       "      <td>0.076180</td>\n",
       "    </tr>\n",
       "  </tbody>\n",
       "</table>\n",
       "</div>"
      ],
      "text/plain": [
       "         radius  diameter  densities  number_of_edges  average_clustering  \\\n",
       "Means  2.000000  2.960000   0.322667       333.960000            0.358228   \n",
       "STDs   0.000000  0.197949   0.020442        21.157292            0.031253   \n",
       "Means  2.000000  3.000000   0.265681       274.980000            0.345588   \n",
       "STDs   0.000000  0.000000   0.021888        22.653999            0.045590   \n",
       "Means  2.100000  3.280000   0.225237       233.120000            0.292370   \n",
       "STDs   0.303046  0.496518   0.039876        41.271446            0.072208   \n",
       "\n",
       "       avg_degree_centrality  avg_betweenness_centrality  \\\n",
       "Means               0.322667                    0.015545   \n",
       "STDs                0.020442                    0.000532   \n",
       "Means               0.265681                    0.017336   \n",
       "STDs                0.021888                    0.000756   \n",
       "Means               0.225237                    0.018903   \n",
       "STDs                0.039876                    0.001731   \n",
       "\n",
       "       avg_closeness_centrality  average_shortest_path_length  \n",
       "Means                  0.599095                      1.683961  \n",
       "STDs                   0.008376                      0.023411  \n",
       "Means                  0.572276                      1.762802  \n",
       "STDs                   0.010868                      0.033274  \n",
       "Means                  0.552310                      1.831710  \n",
       "STDs                   0.021187                      0.076180  "
      ]
     },
     "execution_count": 121,
     "metadata": {},
     "output_type": "execute_result"
    }
   ],
   "source": [
    "crossed_network_ThreeReg_Ox_1_98_averged"
   ]
  },
  {
   "cell_type": "markdown",
   "id": "470c7509-087d-4524-b151-450c957adca4",
   "metadata": {},
   "source": [
    "# 34) Tehran 3 Regime Crossed (Based on Median Threshold) Period of 90 Far - 00 Far/ 50 windows of 100 Records"
   ]
  },
  {
   "cell_type": "code",
   "execution_count": 43,
   "id": "937dc553-b0d9-4ba9-b4ba-8c67c4a4d3bd",
   "metadata": {
    "collapsed": true,
    "jupyter": {
     "outputs_hidden": true
    },
    "tags": []
   },
   "outputs": [
    {
     "name": "stdout",
     "output_type": "stream",
     "text": [
      "Number of columns data in our DataFrame is = 49\n"
     ]
    },
    {
     "name": "stderr",
     "output_type": "stream",
     "text": [
      "/Users/hossein4527/MEGA/MEGAsync/Commit/Neda_PhD/neda_sep2023/Time_Series_Trend_Forcasting/Codes/ned.py:416: FutureWarning: The default value of numeric_only in DataFrame.corr is deprecated. In a future version, it will default to False. Select only valid columns or specify the value of numeric_only to silence this warning.\n",
      "  df_corr = df.corr(method ='pearson')\n",
      "/Users/hossein4527/MEGA/MEGAsync/Commit/Neda_PhD/neda_sep2023/Time_Series_Trend_Forcasting/Codes/ned.py:502: FutureWarning: The default value of numeric_only in DataFrame.corr is deprecated. In a future version, it will default to False. Select only valid columns or specify the value of numeric_only to silence this warning.\n",
      "  df_corr = df.corr(method ='pearson')\n",
      "/Users/hossein4527/MEGA/MEGAsync/Commit/Neda_PhD/neda_sep2023/Time_Series_Trend_Forcasting/Codes/ned.py:502: FutureWarning: The default value of numeric_only in DataFrame.corr is deprecated. In a future version, it will default to False. Select only valid columns or specify the value of numeric_only to silence this warning.\n",
      "  df_corr = df.corr(method ='pearson')\n",
      "/Users/hossein4527/MEGA/MEGAsync/Commit/Neda_PhD/neda_sep2023/Time_Series_Trend_Forcasting/Codes/ned.py:502: FutureWarning: The default value of numeric_only in DataFrame.corr is deprecated. In a future version, it will default to False. Select only valid columns or specify the value of numeric_only to silence this warning.\n",
      "  df_corr = df.corr(method ='pearson')\n",
      "/Users/hossein4527/MEGA/MEGAsync/Commit/Neda_PhD/neda_sep2023/Time_Series_Trend_Forcasting/Codes/ned.py:502: FutureWarning: The default value of numeric_only in DataFrame.corr is deprecated. In a future version, it will default to False. Select only valid columns or specify the value of numeric_only to silence this warning.\n",
      "  df_corr = df.corr(method ='pearson')\n",
      "/Users/hossein4527/MEGA/MEGAsync/Commit/Neda_PhD/neda_sep2023/Time_Series_Trend_Forcasting/Codes/ned.py:502: FutureWarning: The default value of numeric_only in DataFrame.corr is deprecated. In a future version, it will default to False. Select only valid columns or specify the value of numeric_only to silence this warning.\n",
      "  df_corr = df.corr(method ='pearson')\n",
      "/Users/hossein4527/MEGA/MEGAsync/Commit/Neda_PhD/neda_sep2023/Time_Series_Trend_Forcasting/Codes/ned.py:502: FutureWarning: The default value of numeric_only in DataFrame.corr is deprecated. In a future version, it will default to False. Select only valid columns or specify the value of numeric_only to silence this warning.\n",
      "  df_corr = df.corr(method ='pearson')\n",
      "/Users/hossein4527/MEGA/MEGAsync/Commit/Neda_PhD/neda_sep2023/Time_Series_Trend_Forcasting/Codes/ned.py:502: FutureWarning: The default value of numeric_only in DataFrame.corr is deprecated. In a future version, it will default to False. Select only valid columns or specify the value of numeric_only to silence this warning.\n",
      "  df_corr = df.corr(method ='pearson')\n",
      "/Users/hossein4527/MEGA/MEGAsync/Commit/Neda_PhD/neda_sep2023/Time_Series_Trend_Forcasting/Codes/ned.py:502: FutureWarning: The default value of numeric_only in DataFrame.corr is deprecated. In a future version, it will default to False. Select only valid columns or specify the value of numeric_only to silence this warning.\n",
      "  df_corr = df.corr(method ='pearson')\n",
      "/Users/hossein4527/MEGA/MEGAsync/Commit/Neda_PhD/neda_sep2023/Time_Series_Trend_Forcasting/Codes/ned.py:502: FutureWarning: The default value of numeric_only in DataFrame.corr is deprecated. In a future version, it will default to False. Select only valid columns or specify the value of numeric_only to silence this warning.\n",
      "  df_corr = df.corr(method ='pearson')\n",
      "/Users/hossein4527/MEGA/MEGAsync/Commit/Neda_PhD/neda_sep2023/Time_Series_Trend_Forcasting/Codes/ned.py:502: FutureWarning: The default value of numeric_only in DataFrame.corr is deprecated. In a future version, it will default to False. Select only valid columns or specify the value of numeric_only to silence this warning.\n",
      "  df_corr = df.corr(method ='pearson')\n",
      "/Users/hossein4527/MEGA/MEGAsync/Commit/Neda_PhD/neda_sep2023/Time_Series_Trend_Forcasting/Codes/ned.py:502: FutureWarning: The default value of numeric_only in DataFrame.corr is deprecated. In a future version, it will default to False. Select only valid columns or specify the value of numeric_only to silence this warning.\n",
      "  df_corr = df.corr(method ='pearson')\n",
      "/Users/hossein4527/MEGA/MEGAsync/Commit/Neda_PhD/neda_sep2023/Time_Series_Trend_Forcasting/Codes/ned.py:502: FutureWarning: The default value of numeric_only in DataFrame.corr is deprecated. In a future version, it will default to False. Select only valid columns or specify the value of numeric_only to silence this warning.\n",
      "  df_corr = df.corr(method ='pearson')\n",
      "/Users/hossein4527/MEGA/MEGAsync/Commit/Neda_PhD/neda_sep2023/Time_Series_Trend_Forcasting/Codes/ned.py:502: FutureWarning: The default value of numeric_only in DataFrame.corr is deprecated. In a future version, it will default to False. Select only valid columns or specify the value of numeric_only to silence this warning.\n",
      "  df_corr = df.corr(method ='pearson')\n",
      "/Users/hossein4527/MEGA/MEGAsync/Commit/Neda_PhD/neda_sep2023/Time_Series_Trend_Forcasting/Codes/ned.py:502: FutureWarning: The default value of numeric_only in DataFrame.corr is deprecated. In a future version, it will default to False. Select only valid columns or specify the value of numeric_only to silence this warning.\n",
      "  df_corr = df.corr(method ='pearson')\n",
      "/Users/hossein4527/MEGA/MEGAsync/Commit/Neda_PhD/neda_sep2023/Time_Series_Trend_Forcasting/Codes/ned.py:502: FutureWarning: The default value of numeric_only in DataFrame.corr is deprecated. In a future version, it will default to False. Select only valid columns or specify the value of numeric_only to silence this warning.\n",
      "  df_corr = df.corr(method ='pearson')\n",
      "/Users/hossein4527/MEGA/MEGAsync/Commit/Neda_PhD/neda_sep2023/Time_Series_Trend_Forcasting/Codes/ned.py:502: FutureWarning: The default value of numeric_only in DataFrame.corr is deprecated. In a future version, it will default to False. Select only valid columns or specify the value of numeric_only to silence this warning.\n",
      "  df_corr = df.corr(method ='pearson')\n",
      "/Users/hossein4527/MEGA/MEGAsync/Commit/Neda_PhD/neda_sep2023/Time_Series_Trend_Forcasting/Codes/ned.py:502: FutureWarning: The default value of numeric_only in DataFrame.corr is deprecated. In a future version, it will default to False. Select only valid columns or specify the value of numeric_only to silence this warning.\n",
      "  df_corr = df.corr(method ='pearson')\n",
      "/Users/hossein4527/MEGA/MEGAsync/Commit/Neda_PhD/neda_sep2023/Time_Series_Trend_Forcasting/Codes/ned.py:502: FutureWarning: The default value of numeric_only in DataFrame.corr is deprecated. In a future version, it will default to False. Select only valid columns or specify the value of numeric_only to silence this warning.\n",
      "  df_corr = df.corr(method ='pearson')\n",
      "/Users/hossein4527/MEGA/MEGAsync/Commit/Neda_PhD/neda_sep2023/Time_Series_Trend_Forcasting/Codes/ned.py:502: FutureWarning: The default value of numeric_only in DataFrame.corr is deprecated. In a future version, it will default to False. Select only valid columns or specify the value of numeric_only to silence this warning.\n",
      "  df_corr = df.corr(method ='pearson')\n",
      "/Users/hossein4527/MEGA/MEGAsync/Commit/Neda_PhD/neda_sep2023/Time_Series_Trend_Forcasting/Codes/ned.py:502: FutureWarning: The default value of numeric_only in DataFrame.corr is deprecated. In a future version, it will default to False. Select only valid columns or specify the value of numeric_only to silence this warning.\n",
      "  df_corr = df.corr(method ='pearson')\n",
      "/Users/hossein4527/MEGA/MEGAsync/Commit/Neda_PhD/neda_sep2023/Time_Series_Trend_Forcasting/Codes/ned.py:502: FutureWarning: The default value of numeric_only in DataFrame.corr is deprecated. In a future version, it will default to False. Select only valid columns or specify the value of numeric_only to silence this warning.\n",
      "  df_corr = df.corr(method ='pearson')\n",
      "/Users/hossein4527/MEGA/MEGAsync/Commit/Neda_PhD/neda_sep2023/Time_Series_Trend_Forcasting/Codes/ned.py:502: FutureWarning: The default value of numeric_only in DataFrame.corr is deprecated. In a future version, it will default to False. Select only valid columns or specify the value of numeric_only to silence this warning.\n",
      "  df_corr = df.corr(method ='pearson')\n",
      "/Users/hossein4527/MEGA/MEGAsync/Commit/Neda_PhD/neda_sep2023/Time_Series_Trend_Forcasting/Codes/ned.py:502: FutureWarning: The default value of numeric_only in DataFrame.corr is deprecated. In a future version, it will default to False. Select only valid columns or specify the value of numeric_only to silence this warning.\n",
      "  df_corr = df.corr(method ='pearson')\n",
      "/Users/hossein4527/MEGA/MEGAsync/Commit/Neda_PhD/neda_sep2023/Time_Series_Trend_Forcasting/Codes/ned.py:502: FutureWarning: The default value of numeric_only in DataFrame.corr is deprecated. In a future version, it will default to False. Select only valid columns or specify the value of numeric_only to silence this warning.\n",
      "  df_corr = df.corr(method ='pearson')\n",
      "/Users/hossein4527/MEGA/MEGAsync/Commit/Neda_PhD/neda_sep2023/Time_Series_Trend_Forcasting/Codes/ned.py:502: FutureWarning: The default value of numeric_only in DataFrame.corr is deprecated. In a future version, it will default to False. Select only valid columns or specify the value of numeric_only to silence this warning.\n",
      "  df_corr = df.corr(method ='pearson')\n",
      "/Users/hossein4527/MEGA/MEGAsync/Commit/Neda_PhD/neda_sep2023/Time_Series_Trend_Forcasting/Codes/ned.py:502: FutureWarning: The default value of numeric_only in DataFrame.corr is deprecated. In a future version, it will default to False. Select only valid columns or specify the value of numeric_only to silence this warning.\n",
      "  df_corr = df.corr(method ='pearson')\n",
      "/Users/hossein4527/MEGA/MEGAsync/Commit/Neda_PhD/neda_sep2023/Time_Series_Trend_Forcasting/Codes/ned.py:502: FutureWarning: The default value of numeric_only in DataFrame.corr is deprecated. In a future version, it will default to False. Select only valid columns or specify the value of numeric_only to silence this warning.\n",
      "  df_corr = df.corr(method ='pearson')\n",
      "/Users/hossein4527/MEGA/MEGAsync/Commit/Neda_PhD/neda_sep2023/Time_Series_Trend_Forcasting/Codes/ned.py:502: FutureWarning: The default value of numeric_only in DataFrame.corr is deprecated. In a future version, it will default to False. Select only valid columns or specify the value of numeric_only to silence this warning.\n",
      "  df_corr = df.corr(method ='pearson')\n",
      "/Users/hossein4527/MEGA/MEGAsync/Commit/Neda_PhD/neda_sep2023/Time_Series_Trend_Forcasting/Codes/ned.py:502: FutureWarning: The default value of numeric_only in DataFrame.corr is deprecated. In a future version, it will default to False. Select only valid columns or specify the value of numeric_only to silence this warning.\n",
      "  df_corr = df.corr(method ='pearson')\n",
      "/Users/hossein4527/MEGA/MEGAsync/Commit/Neda_PhD/neda_sep2023/Time_Series_Trend_Forcasting/Codes/ned.py:502: FutureWarning: The default value of numeric_only in DataFrame.corr is deprecated. In a future version, it will default to False. Select only valid columns or specify the value of numeric_only to silence this warning.\n",
      "  df_corr = df.corr(method ='pearson')\n",
      "/Users/hossein4527/MEGA/MEGAsync/Commit/Neda_PhD/neda_sep2023/Time_Series_Trend_Forcasting/Codes/ned.py:502: FutureWarning: The default value of numeric_only in DataFrame.corr is deprecated. In a future version, it will default to False. Select only valid columns or specify the value of numeric_only to silence this warning.\n",
      "  df_corr = df.corr(method ='pearson')\n",
      "/Users/hossein4527/MEGA/MEGAsync/Commit/Neda_PhD/neda_sep2023/Time_Series_Trend_Forcasting/Codes/ned.py:502: FutureWarning: The default value of numeric_only in DataFrame.corr is deprecated. In a future version, it will default to False. Select only valid columns or specify the value of numeric_only to silence this warning.\n",
      "  df_corr = df.corr(method ='pearson')\n",
      "/Users/hossein4527/MEGA/MEGAsync/Commit/Neda_PhD/neda_sep2023/Time_Series_Trend_Forcasting/Codes/ned.py:502: FutureWarning: The default value of numeric_only in DataFrame.corr is deprecated. In a future version, it will default to False. Select only valid columns or specify the value of numeric_only to silence this warning.\n",
      "  df_corr = df.corr(method ='pearson')\n",
      "/Users/hossein4527/MEGA/MEGAsync/Commit/Neda_PhD/neda_sep2023/Time_Series_Trend_Forcasting/Codes/ned.py:502: FutureWarning: The default value of numeric_only in DataFrame.corr is deprecated. In a future version, it will default to False. Select only valid columns or specify the value of numeric_only to silence this warning.\n",
      "  df_corr = df.corr(method ='pearson')\n",
      "/Users/hossein4527/MEGA/MEGAsync/Commit/Neda_PhD/neda_sep2023/Time_Series_Trend_Forcasting/Codes/ned.py:502: FutureWarning: The default value of numeric_only in DataFrame.corr is deprecated. In a future version, it will default to False. Select only valid columns or specify the value of numeric_only to silence this warning.\n",
      "  df_corr = df.corr(method ='pearson')\n",
      "/Users/hossein4527/MEGA/MEGAsync/Commit/Neda_PhD/neda_sep2023/Time_Series_Trend_Forcasting/Codes/ned.py:502: FutureWarning: The default value of numeric_only in DataFrame.corr is deprecated. In a future version, it will default to False. Select only valid columns or specify the value of numeric_only to silence this warning.\n",
      "  df_corr = df.corr(method ='pearson')\n",
      "/Users/hossein4527/MEGA/MEGAsync/Commit/Neda_PhD/neda_sep2023/Time_Series_Trend_Forcasting/Codes/ned.py:502: FutureWarning: The default value of numeric_only in DataFrame.corr is deprecated. In a future version, it will default to False. Select only valid columns or specify the value of numeric_only to silence this warning.\n",
      "  df_corr = df.corr(method ='pearson')\n",
      "/Users/hossein4527/MEGA/MEGAsync/Commit/Neda_PhD/neda_sep2023/Time_Series_Trend_Forcasting/Codes/ned.py:502: FutureWarning: The default value of numeric_only in DataFrame.corr is deprecated. In a future version, it will default to False. Select only valid columns or specify the value of numeric_only to silence this warning.\n",
      "  df_corr = df.corr(method ='pearson')\n",
      "/Users/hossein4527/MEGA/MEGAsync/Commit/Neda_PhD/neda_sep2023/Time_Series_Trend_Forcasting/Codes/ned.py:502: FutureWarning: The default value of numeric_only in DataFrame.corr is deprecated. In a future version, it will default to False. Select only valid columns or specify the value of numeric_only to silence this warning.\n",
      "  df_corr = df.corr(method ='pearson')\n",
      "/Users/hossein4527/MEGA/MEGAsync/Commit/Neda_PhD/neda_sep2023/Time_Series_Trend_Forcasting/Codes/ned.py:502: FutureWarning: The default value of numeric_only in DataFrame.corr is deprecated. In a future version, it will default to False. Select only valid columns or specify the value of numeric_only to silence this warning.\n",
      "  df_corr = df.corr(method ='pearson')\n",
      "/Users/hossein4527/MEGA/MEGAsync/Commit/Neda_PhD/neda_sep2023/Time_Series_Trend_Forcasting/Codes/ned.py:502: FutureWarning: The default value of numeric_only in DataFrame.corr is deprecated. In a future version, it will default to False. Select only valid columns or specify the value of numeric_only to silence this warning.\n",
      "  df_corr = df.corr(method ='pearson')\n",
      "/Users/hossein4527/MEGA/MEGAsync/Commit/Neda_PhD/neda_sep2023/Time_Series_Trend_Forcasting/Codes/ned.py:502: FutureWarning: The default value of numeric_only in DataFrame.corr is deprecated. In a future version, it will default to False. Select only valid columns or specify the value of numeric_only to silence this warning.\n",
      "  df_corr = df.corr(method ='pearson')\n",
      "/Users/hossein4527/MEGA/MEGAsync/Commit/Neda_PhD/neda_sep2023/Time_Series_Trend_Forcasting/Codes/ned.py:502: FutureWarning: The default value of numeric_only in DataFrame.corr is deprecated. In a future version, it will default to False. Select only valid columns or specify the value of numeric_only to silence this warning.\n",
      "  df_corr = df.corr(method ='pearson')\n",
      "/Users/hossein4527/MEGA/MEGAsync/Commit/Neda_PhD/neda_sep2023/Time_Series_Trend_Forcasting/Codes/ned.py:502: FutureWarning: The default value of numeric_only in DataFrame.corr is deprecated. In a future version, it will default to False. Select only valid columns or specify the value of numeric_only to silence this warning.\n",
      "  df_corr = df.corr(method ='pearson')\n",
      "/Users/hossein4527/MEGA/MEGAsync/Commit/Neda_PhD/neda_sep2023/Time_Series_Trend_Forcasting/Codes/ned.py:502: FutureWarning: The default value of numeric_only in DataFrame.corr is deprecated. In a future version, it will default to False. Select only valid columns or specify the value of numeric_only to silence this warning.\n",
      "  df_corr = df.corr(method ='pearson')\n",
      "/Users/hossein4527/MEGA/MEGAsync/Commit/Neda_PhD/neda_sep2023/Time_Series_Trend_Forcasting/Codes/ned.py:502: FutureWarning: The default value of numeric_only in DataFrame.corr is deprecated. In a future version, it will default to False. Select only valid columns or specify the value of numeric_only to silence this warning.\n",
      "  df_corr = df.corr(method ='pearson')\n",
      "/Users/hossein4527/MEGA/MEGAsync/Commit/Neda_PhD/neda_sep2023/Time_Series_Trend_Forcasting/Codes/ned.py:502: FutureWarning: The default value of numeric_only in DataFrame.corr is deprecated. In a future version, it will default to False. Select only valid columns or specify the value of numeric_only to silence this warning.\n",
      "  df_corr = df.corr(method ='pearson')\n",
      "/Users/hossein4527/MEGA/MEGAsync/Commit/Neda_PhD/neda_sep2023/Time_Series_Trend_Forcasting/Codes/ned.py:502: FutureWarning: The default value of numeric_only in DataFrame.corr is deprecated. In a future version, it will default to False. Select only valid columns or specify the value of numeric_only to silence this warning.\n",
      "  df_corr = df.corr(method ='pearson')\n",
      "/Users/hossein4527/MEGA/MEGAsync/Commit/Neda_PhD/neda_sep2023/Time_Series_Trend_Forcasting/Codes/ned.py:502: FutureWarning: The default value of numeric_only in DataFrame.corr is deprecated. In a future version, it will default to False. Select only valid columns or specify the value of numeric_only to silence this warning.\n",
      "  df_corr = df.corr(method ='pearson')\n",
      "/Users/hossein4527/MEGA/MEGAsync/Commit/Neda_PhD/neda_sep2023/Time_Series_Trend_Forcasting/Codes/ned.py:502: FutureWarning: The default value of numeric_only in DataFrame.corr is deprecated. In a future version, it will default to False. Select only valid columns or specify the value of numeric_only to silence this warning.\n",
      "  df_corr = df.corr(method ='pearson')\n",
      "/Users/hossein4527/MEGA/MEGAsync/Commit/Neda_PhD/neda_sep2023/Time_Series_Trend_Forcasting/Codes/ned.py:502: FutureWarning: The default value of numeric_only in DataFrame.corr is deprecated. In a future version, it will default to False. Select only valid columns or specify the value of numeric_only to silence this warning.\n",
      "  df_corr = df.corr(method ='pearson')\n",
      "/Users/hossein4527/MEGA/MEGAsync/Commit/Neda_PhD/neda_sep2023/Time_Series_Trend_Forcasting/Codes/ned.py:502: FutureWarning: The default value of numeric_only in DataFrame.corr is deprecated. In a future version, it will default to False. Select only valid columns or specify the value of numeric_only to silence this warning.\n",
      "  df_corr = df.corr(method ='pearson')\n",
      "/Users/hossein4527/MEGA/MEGAsync/Commit/Neda_PhD/neda_sep2023/Time_Series_Trend_Forcasting/Codes/ned.py:502: FutureWarning: The default value of numeric_only in DataFrame.corr is deprecated. In a future version, it will default to False. Select only valid columns or specify the value of numeric_only to silence this warning.\n",
      "  df_corr = df.corr(method ='pearson')\n",
      "/Users/hossein4527/MEGA/MEGAsync/Commit/Neda_PhD/neda_sep2023/Time_Series_Trend_Forcasting/Codes/ned.py:502: FutureWarning: The default value of numeric_only in DataFrame.corr is deprecated. In a future version, it will default to False. Select only valid columns or specify the value of numeric_only to silence this warning.\n",
      "  df_corr = df.corr(method ='pearson')\n",
      "/Users/hossein4527/MEGA/MEGAsync/Commit/Neda_PhD/neda_sep2023/Time_Series_Trend_Forcasting/Codes/ned.py:502: FutureWarning: The default value of numeric_only in DataFrame.corr is deprecated. In a future version, it will default to False. Select only valid columns or specify the value of numeric_only to silence this warning.\n",
      "  df_corr = df.corr(method ='pearson')\n",
      "/Users/hossein4527/MEGA/MEGAsync/Commit/Neda_PhD/neda_sep2023/Time_Series_Trend_Forcasting/Codes/ned.py:502: FutureWarning: The default value of numeric_only in DataFrame.corr is deprecated. In a future version, it will default to False. Select only valid columns or specify the value of numeric_only to silence this warning.\n",
      "  df_corr = df.corr(method ='pearson')\n",
      "/Users/hossein4527/MEGA/MEGAsync/Commit/Neda_PhD/neda_sep2023/Time_Series_Trend_Forcasting/Codes/ned.py:502: FutureWarning: The default value of numeric_only in DataFrame.corr is deprecated. In a future version, it will default to False. Select only valid columns or specify the value of numeric_only to silence this warning.\n",
      "  df_corr = df.corr(method ='pearson')\n",
      "/Users/hossein4527/MEGA/MEGAsync/Commit/Neda_PhD/neda_sep2023/Time_Series_Trend_Forcasting/Codes/ned.py:502: FutureWarning: The default value of numeric_only in DataFrame.corr is deprecated. In a future version, it will default to False. Select only valid columns or specify the value of numeric_only to silence this warning.\n",
      "  df_corr = df.corr(method ='pearson')\n",
      "/Users/hossein4527/MEGA/MEGAsync/Commit/Neda_PhD/neda_sep2023/Time_Series_Trend_Forcasting/Codes/ned.py:502: FutureWarning: The default value of numeric_only in DataFrame.corr is deprecated. In a future version, it will default to False. Select only valid columns or specify the value of numeric_only to silence this warning.\n",
      "  df_corr = df.corr(method ='pearson')\n",
      "/Users/hossein4527/MEGA/MEGAsync/Commit/Neda_PhD/neda_sep2023/Time_Series_Trend_Forcasting/Codes/ned.py:502: FutureWarning: The default value of numeric_only in DataFrame.corr is deprecated. In a future version, it will default to False. Select only valid columns or specify the value of numeric_only to silence this warning.\n",
      "  df_corr = df.corr(method ='pearson')\n",
      "/Users/hossein4527/MEGA/MEGAsync/Commit/Neda_PhD/neda_sep2023/Time_Series_Trend_Forcasting/Codes/ned.py:502: FutureWarning: The default value of numeric_only in DataFrame.corr is deprecated. In a future version, it will default to False. Select only valid columns or specify the value of numeric_only to silence this warning.\n",
      "  df_corr = df.corr(method ='pearson')\n",
      "/Users/hossein4527/MEGA/MEGAsync/Commit/Neda_PhD/neda_sep2023/Time_Series_Trend_Forcasting/Codes/ned.py:502: FutureWarning: The default value of numeric_only in DataFrame.corr is deprecated. In a future version, it will default to False. Select only valid columns or specify the value of numeric_only to silence this warning.\n",
      "  df_corr = df.corr(method ='pearson')\n",
      "/Users/hossein4527/MEGA/MEGAsync/Commit/Neda_PhD/neda_sep2023/Time_Series_Trend_Forcasting/Codes/ned.py:502: FutureWarning: The default value of numeric_only in DataFrame.corr is deprecated. In a future version, it will default to False. Select only valid columns or specify the value of numeric_only to silence this warning.\n",
      "  df_corr = df.corr(method ='pearson')\n",
      "/Users/hossein4527/MEGA/MEGAsync/Commit/Neda_PhD/neda_sep2023/Time_Series_Trend_Forcasting/Codes/ned.py:502: FutureWarning: The default value of numeric_only in DataFrame.corr is deprecated. In a future version, it will default to False. Select only valid columns or specify the value of numeric_only to silence this warning.\n",
      "  df_corr = df.corr(method ='pearson')\n",
      "/Users/hossein4527/MEGA/MEGAsync/Commit/Neda_PhD/neda_sep2023/Time_Series_Trend_Forcasting/Codes/ned.py:502: FutureWarning: The default value of numeric_only in DataFrame.corr is deprecated. In a future version, it will default to False. Select only valid columns or specify the value of numeric_only to silence this warning.\n",
      "  df_corr = df.corr(method ='pearson')\n",
      "/Users/hossein4527/MEGA/MEGAsync/Commit/Neda_PhD/neda_sep2023/Time_Series_Trend_Forcasting/Codes/ned.py:502: FutureWarning: The default value of numeric_only in DataFrame.corr is deprecated. In a future version, it will default to False. Select only valid columns or specify the value of numeric_only to silence this warning.\n",
      "  df_corr = df.corr(method ='pearson')\n",
      "/Users/hossein4527/MEGA/MEGAsync/Commit/Neda_PhD/neda_sep2023/Time_Series_Trend_Forcasting/Codes/ned.py:502: FutureWarning: The default value of numeric_only in DataFrame.corr is deprecated. In a future version, it will default to False. Select only valid columns or specify the value of numeric_only to silence this warning.\n",
      "  df_corr = df.corr(method ='pearson')\n",
      "/Users/hossein4527/MEGA/MEGAsync/Commit/Neda_PhD/neda_sep2023/Time_Series_Trend_Forcasting/Codes/ned.py:502: FutureWarning: The default value of numeric_only in DataFrame.corr is deprecated. In a future version, it will default to False. Select only valid columns or specify the value of numeric_only to silence this warning.\n",
      "  df_corr = df.corr(method ='pearson')\n",
      "/Users/hossein4527/MEGA/MEGAsync/Commit/Neda_PhD/neda_sep2023/Time_Series_Trend_Forcasting/Codes/ned.py:502: FutureWarning: The default value of numeric_only in DataFrame.corr is deprecated. In a future version, it will default to False. Select only valid columns or specify the value of numeric_only to silence this warning.\n",
      "  df_corr = df.corr(method ='pearson')\n",
      "/Users/hossein4527/MEGA/MEGAsync/Commit/Neda_PhD/neda_sep2023/Time_Series_Trend_Forcasting/Codes/ned.py:502: FutureWarning: The default value of numeric_only in DataFrame.corr is deprecated. In a future version, it will default to False. Select only valid columns or specify the value of numeric_only to silence this warning.\n",
      "  df_corr = df.corr(method ='pearson')\n",
      "/Users/hossein4527/MEGA/MEGAsync/Commit/Neda_PhD/neda_sep2023/Time_Series_Trend_Forcasting/Codes/ned.py:502: FutureWarning: The default value of numeric_only in DataFrame.corr is deprecated. In a future version, it will default to False. Select only valid columns or specify the value of numeric_only to silence this warning.\n",
      "  df_corr = df.corr(method ='pearson')\n",
      "/Users/hossein4527/MEGA/MEGAsync/Commit/Neda_PhD/neda_sep2023/Time_Series_Trend_Forcasting/Codes/ned.py:502: FutureWarning: The default value of numeric_only in DataFrame.corr is deprecated. In a future version, it will default to False. Select only valid columns or specify the value of numeric_only to silence this warning.\n",
      "  df_corr = df.corr(method ='pearson')\n",
      "/Users/hossein4527/MEGA/MEGAsync/Commit/Neda_PhD/neda_sep2023/Time_Series_Trend_Forcasting/Codes/ned.py:502: FutureWarning: The default value of numeric_only in DataFrame.corr is deprecated. In a future version, it will default to False. Select only valid columns or specify the value of numeric_only to silence this warning.\n",
      "  df_corr = df.corr(method ='pearson')\n",
      "/Users/hossein4527/MEGA/MEGAsync/Commit/Neda_PhD/neda_sep2023/Time_Series_Trend_Forcasting/Codes/ned.py:502: FutureWarning: The default value of numeric_only in DataFrame.corr is deprecated. In a future version, it will default to False. Select only valid columns or specify the value of numeric_only to silence this warning.\n",
      "  df_corr = df.corr(method ='pearson')\n",
      "/Users/hossein4527/MEGA/MEGAsync/Commit/Neda_PhD/neda_sep2023/Time_Series_Trend_Forcasting/Codes/ned.py:502: FutureWarning: The default value of numeric_only in DataFrame.corr is deprecated. In a future version, it will default to False. Select only valid columns or specify the value of numeric_only to silence this warning.\n",
      "  df_corr = df.corr(method ='pearson')\n",
      "/Users/hossein4527/MEGA/MEGAsync/Commit/Neda_PhD/neda_sep2023/Time_Series_Trend_Forcasting/Codes/ned.py:502: FutureWarning: The default value of numeric_only in DataFrame.corr is deprecated. In a future version, it will default to False. Select only valid columns or specify the value of numeric_only to silence this warning.\n",
      "  df_corr = df.corr(method ='pearson')\n",
      "/Users/hossein4527/MEGA/MEGAsync/Commit/Neda_PhD/neda_sep2023/Time_Series_Trend_Forcasting/Codes/ned.py:502: FutureWarning: The default value of numeric_only in DataFrame.corr is deprecated. In a future version, it will default to False. Select only valid columns or specify the value of numeric_only to silence this warning.\n",
      "  df_corr = df.corr(method ='pearson')\n",
      "/Users/hossein4527/MEGA/MEGAsync/Commit/Neda_PhD/neda_sep2023/Time_Series_Trend_Forcasting/Codes/ned.py:502: FutureWarning: The default value of numeric_only in DataFrame.corr is deprecated. In a future version, it will default to False. Select only valid columns or specify the value of numeric_only to silence this warning.\n",
      "  df_corr = df.corr(method ='pearson')\n",
      "/Users/hossein4527/MEGA/MEGAsync/Commit/Neda_PhD/neda_sep2023/Time_Series_Trend_Forcasting/Codes/ned.py:502: FutureWarning: The default value of numeric_only in DataFrame.corr is deprecated. In a future version, it will default to False. Select only valid columns or specify the value of numeric_only to silence this warning.\n",
      "  df_corr = df.corr(method ='pearson')\n",
      "/Users/hossein4527/MEGA/MEGAsync/Commit/Neda_PhD/neda_sep2023/Time_Series_Trend_Forcasting/Codes/ned.py:502: FutureWarning: The default value of numeric_only in DataFrame.corr is deprecated. In a future version, it will default to False. Select only valid columns or specify the value of numeric_only to silence this warning.\n",
      "  df_corr = df.corr(method ='pearson')\n",
      "/Users/hossein4527/MEGA/MEGAsync/Commit/Neda_PhD/neda_sep2023/Time_Series_Trend_Forcasting/Codes/ned.py:502: FutureWarning: The default value of numeric_only in DataFrame.corr is deprecated. In a future version, it will default to False. Select only valid columns or specify the value of numeric_only to silence this warning.\n",
      "  df_corr = df.corr(method ='pearson')\n",
      "/Users/hossein4527/MEGA/MEGAsync/Commit/Neda_PhD/neda_sep2023/Time_Series_Trend_Forcasting/Codes/ned.py:502: FutureWarning: The default value of numeric_only in DataFrame.corr is deprecated. In a future version, it will default to False. Select only valid columns or specify the value of numeric_only to silence this warning.\n",
      "  df_corr = df.corr(method ='pearson')\n",
      "/Users/hossein4527/MEGA/MEGAsync/Commit/Neda_PhD/neda_sep2023/Time_Series_Trend_Forcasting/Codes/ned.py:502: FutureWarning: The default value of numeric_only in DataFrame.corr is deprecated. In a future version, it will default to False. Select only valid columns or specify the value of numeric_only to silence this warning.\n",
      "  df_corr = df.corr(method ='pearson')\n",
      "/Users/hossein4527/MEGA/MEGAsync/Commit/Neda_PhD/neda_sep2023/Time_Series_Trend_Forcasting/Codes/ned.py:502: FutureWarning: The default value of numeric_only in DataFrame.corr is deprecated. In a future version, it will default to False. Select only valid columns or specify the value of numeric_only to silence this warning.\n",
      "  df_corr = df.corr(method ='pearson')\n",
      "/Users/hossein4527/MEGA/MEGAsync/Commit/Neda_PhD/neda_sep2023/Time_Series_Trend_Forcasting/Codes/ned.py:502: FutureWarning: The default value of numeric_only in DataFrame.corr is deprecated. In a future version, it will default to False. Select only valid columns or specify the value of numeric_only to silence this warning.\n",
      "  df_corr = df.corr(method ='pearson')\n",
      "/Users/hossein4527/MEGA/MEGAsync/Commit/Neda_PhD/neda_sep2023/Time_Series_Trend_Forcasting/Codes/ned.py:502: FutureWarning: The default value of numeric_only in DataFrame.corr is deprecated. In a future version, it will default to False. Select only valid columns or specify the value of numeric_only to silence this warning.\n",
      "  df_corr = df.corr(method ='pearson')\n",
      "/Users/hossein4527/MEGA/MEGAsync/Commit/Neda_PhD/neda_sep2023/Time_Series_Trend_Forcasting/Codes/ned.py:502: FutureWarning: The default value of numeric_only in DataFrame.corr is deprecated. In a future version, it will default to False. Select only valid columns or specify the value of numeric_only to silence this warning.\n",
      "  df_corr = df.corr(method ='pearson')\n",
      "/Users/hossein4527/MEGA/MEGAsync/Commit/Neda_PhD/neda_sep2023/Time_Series_Trend_Forcasting/Codes/ned.py:502: FutureWarning: The default value of numeric_only in DataFrame.corr is deprecated. In a future version, it will default to False. Select only valid columns or specify the value of numeric_only to silence this warning.\n",
      "  df_corr = df.corr(method ='pearson')\n",
      "/Users/hossein4527/MEGA/MEGAsync/Commit/Neda_PhD/neda_sep2023/Time_Series_Trend_Forcasting/Codes/ned.py:502: FutureWarning: The default value of numeric_only in DataFrame.corr is deprecated. In a future version, it will default to False. Select only valid columns or specify the value of numeric_only to silence this warning.\n",
      "  df_corr = df.corr(method ='pearson')\n",
      "/Users/hossein4527/MEGA/MEGAsync/Commit/Neda_PhD/neda_sep2023/Time_Series_Trend_Forcasting/Codes/ned.py:502: FutureWarning: The default value of numeric_only in DataFrame.corr is deprecated. In a future version, it will default to False. Select only valid columns or specify the value of numeric_only to silence this warning.\n",
      "  df_corr = df.corr(method ='pearson')\n",
      "/Users/hossein4527/MEGA/MEGAsync/Commit/Neda_PhD/neda_sep2023/Time_Series_Trend_Forcasting/Codes/ned.py:502: FutureWarning: The default value of numeric_only in DataFrame.corr is deprecated. In a future version, it will default to False. Select only valid columns or specify the value of numeric_only to silence this warning.\n",
      "  df_corr = df.corr(method ='pearson')\n",
      "/Users/hossein4527/MEGA/MEGAsync/Commit/Neda_PhD/neda_sep2023/Time_Series_Trend_Forcasting/Codes/ned.py:502: FutureWarning: The default value of numeric_only in DataFrame.corr is deprecated. In a future version, it will default to False. Select only valid columns or specify the value of numeric_only to silence this warning.\n",
      "  df_corr = df.corr(method ='pearson')\n",
      "/Users/hossein4527/MEGA/MEGAsync/Commit/Neda_PhD/neda_sep2023/Time_Series_Trend_Forcasting/Codes/ned.py:502: FutureWarning: The default value of numeric_only in DataFrame.corr is deprecated. In a future version, it will default to False. Select only valid columns or specify the value of numeric_only to silence this warning.\n",
      "  df_corr = df.corr(method ='pearson')\n",
      "/Users/hossein4527/MEGA/MEGAsync/Commit/Neda_PhD/neda_sep2023/Time_Series_Trend_Forcasting/Codes/ned.py:502: FutureWarning: The default value of numeric_only in DataFrame.corr is deprecated. In a future version, it will default to False. Select only valid columns or specify the value of numeric_only to silence this warning.\n",
      "  df_corr = df.corr(method ='pearson')\n",
      "/Users/hossein4527/MEGA/MEGAsync/Commit/Neda_PhD/neda_sep2023/Time_Series_Trend_Forcasting/Codes/ned.py:502: FutureWarning: The default value of numeric_only in DataFrame.corr is deprecated. In a future version, it will default to False. Select only valid columns or specify the value of numeric_only to silence this warning.\n",
      "  df_corr = df.corr(method ='pearson')\n",
      "/Users/hossein4527/MEGA/MEGAsync/Commit/Neda_PhD/neda_sep2023/Time_Series_Trend_Forcasting/Codes/ned.py:502: FutureWarning: The default value of numeric_only in DataFrame.corr is deprecated. In a future version, it will default to False. Select only valid columns or specify the value of numeric_only to silence this warning.\n",
      "  df_corr = df.corr(method ='pearson')\n",
      "/Users/hossein4527/MEGA/MEGAsync/Commit/Neda_PhD/neda_sep2023/Time_Series_Trend_Forcasting/Codes/ned.py:502: FutureWarning: The default value of numeric_only in DataFrame.corr is deprecated. In a future version, it will default to False. Select only valid columns or specify the value of numeric_only to silence this warning.\n",
      "  df_corr = df.corr(method ='pearson')\n",
      "/Users/hossein4527/MEGA/MEGAsync/Commit/Neda_PhD/neda_sep2023/Time_Series_Trend_Forcasting/Codes/ned.py:502: FutureWarning: The default value of numeric_only in DataFrame.corr is deprecated. In a future version, it will default to False. Select only valid columns or specify the value of numeric_only to silence this warning.\n",
      "  df_corr = df.corr(method ='pearson')\n",
      "/Users/hossein4527/MEGA/MEGAsync/Commit/Neda_PhD/neda_sep2023/Time_Series_Trend_Forcasting/Codes/ned.py:502: FutureWarning: The default value of numeric_only in DataFrame.corr is deprecated. In a future version, it will default to False. Select only valid columns or specify the value of numeric_only to silence this warning.\n",
      "  df_corr = df.corr(method ='pearson')\n",
      "/Users/hossein4527/MEGA/MEGAsync/Commit/Neda_PhD/neda_sep2023/Time_Series_Trend_Forcasting/Codes/ned.py:502: FutureWarning: The default value of numeric_only in DataFrame.corr is deprecated. In a future version, it will default to False. Select only valid columns or specify the value of numeric_only to silence this warning.\n",
      "  df_corr = df.corr(method ='pearson')\n",
      "/Users/hossein4527/MEGA/MEGAsync/Commit/Neda_PhD/neda_sep2023/Time_Series_Trend_Forcasting/Codes/ned.py:502: FutureWarning: The default value of numeric_only in DataFrame.corr is deprecated. In a future version, it will default to False. Select only valid columns or specify the value of numeric_only to silence this warning.\n",
      "  df_corr = df.corr(method ='pearson')\n",
      "/Users/hossein4527/MEGA/MEGAsync/Commit/Neda_PhD/neda_sep2023/Time_Series_Trend_Forcasting/Codes/ned.py:502: FutureWarning: The default value of numeric_only in DataFrame.corr is deprecated. In a future version, it will default to False. Select only valid columns or specify the value of numeric_only to silence this warning.\n",
      "  df_corr = df.corr(method ='pearson')\n",
      "/Users/hossein4527/MEGA/MEGAsync/Commit/Neda_PhD/neda_sep2023/Time_Series_Trend_Forcasting/Codes/ned.py:502: FutureWarning: The default value of numeric_only in DataFrame.corr is deprecated. In a future version, it will default to False. Select only valid columns or specify the value of numeric_only to silence this warning.\n",
      "  df_corr = df.corr(method ='pearson')\n",
      "/Users/hossein4527/MEGA/MEGAsync/Commit/Neda_PhD/neda_sep2023/Time_Series_Trend_Forcasting/Codes/ned.py:502: FutureWarning: The default value of numeric_only in DataFrame.corr is deprecated. In a future version, it will default to False. Select only valid columns or specify the value of numeric_only to silence this warning.\n",
      "  df_corr = df.corr(method ='pearson')\n",
      "/Users/hossein4527/MEGA/MEGAsync/Commit/Neda_PhD/neda_sep2023/Time_Series_Trend_Forcasting/Codes/ned.py:502: FutureWarning: The default value of numeric_only in DataFrame.corr is deprecated. In a future version, it will default to False. Select only valid columns or specify the value of numeric_only to silence this warning.\n",
      "  df_corr = df.corr(method ='pearson')\n",
      "/Users/hossein4527/MEGA/MEGAsync/Commit/Neda_PhD/neda_sep2023/Time_Series_Trend_Forcasting/Codes/ned.py:502: FutureWarning: The default value of numeric_only in DataFrame.corr is deprecated. In a future version, it will default to False. Select only valid columns or specify the value of numeric_only to silence this warning.\n",
      "  df_corr = df.corr(method ='pearson')\n",
      "/Users/hossein4527/MEGA/MEGAsync/Commit/Neda_PhD/neda_sep2023/Time_Series_Trend_Forcasting/Codes/ned.py:502: FutureWarning: The default value of numeric_only in DataFrame.corr is deprecated. In a future version, it will default to False. Select only valid columns or specify the value of numeric_only to silence this warning.\n",
      "  df_corr = df.corr(method ='pearson')\n",
      "/Users/hossein4527/MEGA/MEGAsync/Commit/Neda_PhD/neda_sep2023/Time_Series_Trend_Forcasting/Codes/ned.py:502: FutureWarning: The default value of numeric_only in DataFrame.corr is deprecated. In a future version, it will default to False. Select only valid columns or specify the value of numeric_only to silence this warning.\n",
      "  df_corr = df.corr(method ='pearson')\n",
      "/Users/hossein4527/MEGA/MEGAsync/Commit/Neda_PhD/neda_sep2023/Time_Series_Trend_Forcasting/Codes/ned.py:502: FutureWarning: The default value of numeric_only in DataFrame.corr is deprecated. In a future version, it will default to False. Select only valid columns or specify the value of numeric_only to silence this warning.\n",
      "  df_corr = df.corr(method ='pearson')\n",
      "/Users/hossein4527/MEGA/MEGAsync/Commit/Neda_PhD/neda_sep2023/Time_Series_Trend_Forcasting/Codes/ned.py:502: FutureWarning: The default value of numeric_only in DataFrame.corr is deprecated. In a future version, it will default to False. Select only valid columns or specify the value of numeric_only to silence this warning.\n",
      "  df_corr = df.corr(method ='pearson')\n",
      "/Users/hossein4527/MEGA/MEGAsync/Commit/Neda_PhD/neda_sep2023/Time_Series_Trend_Forcasting/Codes/ned.py:502: FutureWarning: The default value of numeric_only in DataFrame.corr is deprecated. In a future version, it will default to False. Select only valid columns or specify the value of numeric_only to silence this warning.\n",
      "  df_corr = df.corr(method ='pearson')\n",
      "/Users/hossein4527/MEGA/MEGAsync/Commit/Neda_PhD/neda_sep2023/Time_Series_Trend_Forcasting/Codes/ned.py:502: FutureWarning: The default value of numeric_only in DataFrame.corr is deprecated. In a future version, it will default to False. Select only valid columns or specify the value of numeric_only to silence this warning.\n",
      "  df_corr = df.corr(method ='pearson')\n",
      "/Users/hossein4527/MEGA/MEGAsync/Commit/Neda_PhD/neda_sep2023/Time_Series_Trend_Forcasting/Codes/ned.py:502: FutureWarning: The default value of numeric_only in DataFrame.corr is deprecated. In a future version, it will default to False. Select only valid columns or specify the value of numeric_only to silence this warning.\n",
      "  df_corr = df.corr(method ='pearson')\n",
      "/Users/hossein4527/MEGA/MEGAsync/Commit/Neda_PhD/neda_sep2023/Time_Series_Trend_Forcasting/Codes/ned.py:502: FutureWarning: The default value of numeric_only in DataFrame.corr is deprecated. In a future version, it will default to False. Select only valid columns or specify the value of numeric_only to silence this warning.\n",
      "  df_corr = df.corr(method ='pearson')\n",
      "/Users/hossein4527/MEGA/MEGAsync/Commit/Neda_PhD/neda_sep2023/Time_Series_Trend_Forcasting/Codes/ned.py:502: FutureWarning: The default value of numeric_only in DataFrame.corr is deprecated. In a future version, it will default to False. Select only valid columns or specify the value of numeric_only to silence this warning.\n",
      "  df_corr = df.corr(method ='pearson')\n",
      "/Users/hossein4527/MEGA/MEGAsync/Commit/Neda_PhD/neda_sep2023/Time_Series_Trend_Forcasting/Codes/ned.py:502: FutureWarning: The default value of numeric_only in DataFrame.corr is deprecated. In a future version, it will default to False. Select only valid columns or specify the value of numeric_only to silence this warning.\n",
      "  df_corr = df.corr(method ='pearson')\n",
      "/Users/hossein4527/MEGA/MEGAsync/Commit/Neda_PhD/neda_sep2023/Time_Series_Trend_Forcasting/Codes/ned.py:502: FutureWarning: The default value of numeric_only in DataFrame.corr is deprecated. In a future version, it will default to False. Select only valid columns or specify the value of numeric_only to silence this warning.\n",
      "  df_corr = df.corr(method ='pearson')\n",
      "/Users/hossein4527/MEGA/MEGAsync/Commit/Neda_PhD/neda_sep2023/Time_Series_Trend_Forcasting/Codes/ned.py:502: FutureWarning: The default value of numeric_only in DataFrame.corr is deprecated. In a future version, it will default to False. Select only valid columns or specify the value of numeric_only to silence this warning.\n",
      "  df_corr = df.corr(method ='pearson')\n",
      "/Users/hossein4527/MEGA/MEGAsync/Commit/Neda_PhD/neda_sep2023/Time_Series_Trend_Forcasting/Codes/ned.py:502: FutureWarning: The default value of numeric_only in DataFrame.corr is deprecated. In a future version, it will default to False. Select only valid columns or specify the value of numeric_only to silence this warning.\n",
      "  df_corr = df.corr(method ='pearson')\n",
      "/Users/hossein4527/MEGA/MEGAsync/Commit/Neda_PhD/neda_sep2023/Time_Series_Trend_Forcasting/Codes/ned.py:502: FutureWarning: The default value of numeric_only in DataFrame.corr is deprecated. In a future version, it will default to False. Select only valid columns or specify the value of numeric_only to silence this warning.\n",
      "  df_corr = df.corr(method ='pearson')\n",
      "/Users/hossein4527/MEGA/MEGAsync/Commit/Neda_PhD/neda_sep2023/Time_Series_Trend_Forcasting/Codes/ned.py:502: FutureWarning: The default value of numeric_only in DataFrame.corr is deprecated. In a future version, it will default to False. Select only valid columns or specify the value of numeric_only to silence this warning.\n",
      "  df_corr = df.corr(method ='pearson')\n",
      "/Users/hossein4527/MEGA/MEGAsync/Commit/Neda_PhD/neda_sep2023/Time_Series_Trend_Forcasting/Codes/ned.py:502: FutureWarning: The default value of numeric_only in DataFrame.corr is deprecated. In a future version, it will default to False. Select only valid columns or specify the value of numeric_only to silence this warning.\n",
      "  df_corr = df.corr(method ='pearson')\n",
      "/Users/hossein4527/MEGA/MEGAsync/Commit/Neda_PhD/neda_sep2023/Time_Series_Trend_Forcasting/Codes/ned.py:502: FutureWarning: The default value of numeric_only in DataFrame.corr is deprecated. In a future version, it will default to False. Select only valid columns or specify the value of numeric_only to silence this warning.\n",
      "  df_corr = df.corr(method ='pearson')\n",
      "/Users/hossein4527/MEGA/MEGAsync/Commit/Neda_PhD/neda_sep2023/Time_Series_Trend_Forcasting/Codes/ned.py:502: FutureWarning: The default value of numeric_only in DataFrame.corr is deprecated. In a future version, it will default to False. Select only valid columns or specify the value of numeric_only to silence this warning.\n",
      "  df_corr = df.corr(method ='pearson')\n",
      "/Users/hossein4527/MEGA/MEGAsync/Commit/Neda_PhD/neda_sep2023/Time_Series_Trend_Forcasting/Codes/ned.py:502: FutureWarning: The default value of numeric_only in DataFrame.corr is deprecated. In a future version, it will default to False. Select only valid columns or specify the value of numeric_only to silence this warning.\n",
      "  df_corr = df.corr(method ='pearson')\n",
      "/Users/hossein4527/MEGA/MEGAsync/Commit/Neda_PhD/neda_sep2023/Time_Series_Trend_Forcasting/Codes/ned.py:502: FutureWarning: The default value of numeric_only in DataFrame.corr is deprecated. In a future version, it will default to False. Select only valid columns or specify the value of numeric_only to silence this warning.\n",
      "  df_corr = df.corr(method ='pearson')\n",
      "/Users/hossein4527/MEGA/MEGAsync/Commit/Neda_PhD/neda_sep2023/Time_Series_Trend_Forcasting/Codes/ned.py:502: FutureWarning: The default value of numeric_only in DataFrame.corr is deprecated. In a future version, it will default to False. Select only valid columns or specify the value of numeric_only to silence this warning.\n",
      "  df_corr = df.corr(method ='pearson')\n",
      "/Users/hossein4527/MEGA/MEGAsync/Commit/Neda_PhD/neda_sep2023/Time_Series_Trend_Forcasting/Codes/ned.py:502: FutureWarning: The default value of numeric_only in DataFrame.corr is deprecated. In a future version, it will default to False. Select only valid columns or specify the value of numeric_only to silence this warning.\n",
      "  df_corr = df.corr(method ='pearson')\n",
      "/Users/hossein4527/MEGA/MEGAsync/Commit/Neda_PhD/neda_sep2023/Time_Series_Trend_Forcasting/Codes/ned.py:502: FutureWarning: The default value of numeric_only in DataFrame.corr is deprecated. In a future version, it will default to False. Select only valid columns or specify the value of numeric_only to silence this warning.\n",
      "  df_corr = df.corr(method ='pearson')\n",
      "/Users/hossein4527/MEGA/MEGAsync/Commit/Neda_PhD/neda_sep2023/Time_Series_Trend_Forcasting/Codes/ned.py:502: FutureWarning: The default value of numeric_only in DataFrame.corr is deprecated. In a future version, it will default to False. Select only valid columns or specify the value of numeric_only to silence this warning.\n",
      "  df_corr = df.corr(method ='pearson')\n",
      "/Users/hossein4527/MEGA/MEGAsync/Commit/Neda_PhD/neda_sep2023/Time_Series_Trend_Forcasting/Codes/ned.py:502: FutureWarning: The default value of numeric_only in DataFrame.corr is deprecated. In a future version, it will default to False. Select only valid columns or specify the value of numeric_only to silence this warning.\n",
      "  df_corr = df.corr(method ='pearson')\n",
      "/Users/hossein4527/MEGA/MEGAsync/Commit/Neda_PhD/neda_sep2023/Time_Series_Trend_Forcasting/Codes/ned.py:502: FutureWarning: The default value of numeric_only in DataFrame.corr is deprecated. In a future version, it will default to False. Select only valid columns or specify the value of numeric_only to silence this warning.\n",
      "  df_corr = df.corr(method ='pearson')\n",
      "/Users/hossein4527/MEGA/MEGAsync/Commit/Neda_PhD/neda_sep2023/Time_Series_Trend_Forcasting/Codes/ned.py:502: FutureWarning: The default value of numeric_only in DataFrame.corr is deprecated. In a future version, it will default to False. Select only valid columns or specify the value of numeric_only to silence this warning.\n",
      "  df_corr = df.corr(method ='pearson')\n",
      "/Users/hossein4527/MEGA/MEGAsync/Commit/Neda_PhD/neda_sep2023/Time_Series_Trend_Forcasting/Codes/ned.py:502: FutureWarning: The default value of numeric_only in DataFrame.corr is deprecated. In a future version, it will default to False. Select only valid columns or specify the value of numeric_only to silence this warning.\n",
      "  df_corr = df.corr(method ='pearson')\n",
      "/Users/hossein4527/MEGA/MEGAsync/Commit/Neda_PhD/neda_sep2023/Time_Series_Trend_Forcasting/Codes/ned.py:502: FutureWarning: The default value of numeric_only in DataFrame.corr is deprecated. In a future version, it will default to False. Select only valid columns or specify the value of numeric_only to silence this warning.\n",
      "  df_corr = df.corr(method ='pearson')\n",
      "/Users/hossein4527/MEGA/MEGAsync/Commit/Neda_PhD/neda_sep2023/Time_Series_Trend_Forcasting/Codes/ned.py:502: FutureWarning: The default value of numeric_only in DataFrame.corr is deprecated. In a future version, it will default to False. Select only valid columns or specify the value of numeric_only to silence this warning.\n",
      "  df_corr = df.corr(method ='pearson')\n",
      "/Users/hossein4527/MEGA/MEGAsync/Commit/Neda_PhD/neda_sep2023/Time_Series_Trend_Forcasting/Codes/ned.py:502: FutureWarning: The default value of numeric_only in DataFrame.corr is deprecated. In a future version, it will default to False. Select only valid columns or specify the value of numeric_only to silence this warning.\n",
      "  df_corr = df.corr(method ='pearson')\n",
      "/Users/hossein4527/MEGA/MEGAsync/Commit/Neda_PhD/neda_sep2023/Time_Series_Trend_Forcasting/Codes/ned.py:502: FutureWarning: The default value of numeric_only in DataFrame.corr is deprecated. In a future version, it will default to False. Select only valid columns or specify the value of numeric_only to silence this warning.\n",
      "  df_corr = df.corr(method ='pearson')\n",
      "/Users/hossein4527/MEGA/MEGAsync/Commit/Neda_PhD/neda_sep2023/Time_Series_Trend_Forcasting/Codes/ned.py:502: FutureWarning: The default value of numeric_only in DataFrame.corr is deprecated. In a future version, it will default to False. Select only valid columns or specify the value of numeric_only to silence this warning.\n",
      "  df_corr = df.corr(method ='pearson')\n",
      "/Users/hossein4527/MEGA/MEGAsync/Commit/Neda_PhD/neda_sep2023/Time_Series_Trend_Forcasting/Codes/ned.py:502: FutureWarning: The default value of numeric_only in DataFrame.corr is deprecated. In a future version, it will default to False. Select only valid columns or specify the value of numeric_only to silence this warning.\n",
      "  df_corr = df.corr(method ='pearson')\n",
      "/Users/hossein4527/MEGA/MEGAsync/Commit/Neda_PhD/neda_sep2023/Time_Series_Trend_Forcasting/Codes/ned.py:502: FutureWarning: The default value of numeric_only in DataFrame.corr is deprecated. In a future version, it will default to False. Select only valid columns or specify the value of numeric_only to silence this warning.\n",
      "  df_corr = df.corr(method ='pearson')\n",
      "/Users/hossein4527/MEGA/MEGAsync/Commit/Neda_PhD/neda_sep2023/Time_Series_Trend_Forcasting/Codes/ned.py:502: FutureWarning: The default value of numeric_only in DataFrame.corr is deprecated. In a future version, it will default to False. Select only valid columns or specify the value of numeric_only to silence this warning.\n",
      "  df_corr = df.corr(method ='pearson')\n",
      "/Users/hossein4527/MEGA/MEGAsync/Commit/Neda_PhD/neda_sep2023/Time_Series_Trend_Forcasting/Codes/ned.py:502: FutureWarning: The default value of numeric_only in DataFrame.corr is deprecated. In a future version, it will default to False. Select only valid columns or specify the value of numeric_only to silence this warning.\n",
      "  df_corr = df.corr(method ='pearson')\n",
      "/Users/hossein4527/MEGA/MEGAsync/Commit/Neda_PhD/neda_sep2023/Time_Series_Trend_Forcasting/Codes/ned.py:502: FutureWarning: The default value of numeric_only in DataFrame.corr is deprecated. In a future version, it will default to False. Select only valid columns or specify the value of numeric_only to silence this warning.\n",
      "  df_corr = df.corr(method ='pearson')\n"
     ]
    },
    {
     "name": "stdout",
     "output_type": "stream",
     "text": [
      "fixed_thr= 0.12410079927876998\n"
     ]
    },
    {
     "name": "stderr",
     "output_type": "stream",
     "text": [
      "/Users/hossein4527/MEGA/MEGAsync/Commit/Neda_PhD/neda_sep2023/Time_Series_Trend_Forcasting/Codes/ned.py:502: FutureWarning: The default value of numeric_only in DataFrame.corr is deprecated. In a future version, it will default to False. Select only valid columns or specify the value of numeric_only to silence this warning.\n",
      "  df_corr = df.corr(method ='pearson')\n",
      "/Users/hossein4527/MEGA/MEGAsync/Commit/Neda_PhD/neda_sep2023/Time_Series_Trend_Forcasting/Codes/ned.py:502: FutureWarning: The default value of numeric_only in DataFrame.corr is deprecated. In a future version, it will default to False. Select only valid columns or specify the value of numeric_only to silence this warning.\n",
      "  df_corr = df.corr(method ='pearson')\n",
      "/Users/hossein4527/MEGA/MEGAsync/Commit/Neda_PhD/neda_sep2023/Time_Series_Trend_Forcasting/Codes/ned.py:502: FutureWarning: The default value of numeric_only in DataFrame.corr is deprecated. In a future version, it will default to False. Select only valid columns or specify the value of numeric_only to silence this warning.\n",
      "  df_corr = df.corr(method ='pearson')\n"
     ]
    }
   ],
   "source": [
    "nm = Net_moduls()\n",
    "crossed_network_ThreeReg_Ox_90_00_averged = nm.get_network_features_averaged_median(tehran_df_completeDates, regimes_column= tehran_df_reg['Ox_3'],method='crossed_100',edges_threshold=200, target_window=100, target_length=50)"
   ]
  },
  {
   "cell_type": "code",
   "execution_count": 44,
   "id": "eb6888e2-1bc8-438e-82fa-1311e3dba92f",
   "metadata": {},
   "outputs": [
    {
     "data": {
      "text/html": [
       "<div>\n",
       "<style scoped>\n",
       "    .dataframe tbody tr th:only-of-type {\n",
       "        vertical-align: middle;\n",
       "    }\n",
       "\n",
       "    .dataframe tbody tr th {\n",
       "        vertical-align: top;\n",
       "    }\n",
       "\n",
       "    .dataframe thead th {\n",
       "        text-align: right;\n",
       "    }\n",
       "</style>\n",
       "<table border=\"1\" class=\"dataframe\">\n",
       "  <thead>\n",
       "    <tr style=\"text-align: right;\">\n",
       "      <th></th>\n",
       "      <th>radius</th>\n",
       "      <th>diameter</th>\n",
       "      <th>densities</th>\n",
       "      <th>number_of_edges</th>\n",
       "      <th>average_clustering</th>\n",
       "      <th>avg_degree_centrality</th>\n",
       "      <th>avg_betweenness_centrality</th>\n",
       "      <th>avg_closeness_centrality</th>\n",
       "      <th>average_shortest_path_length</th>\n",
       "    </tr>\n",
       "  </thead>\n",
       "  <tbody>\n",
       "    <tr>\n",
       "      <th>Means</th>\n",
       "      <td>2.0</td>\n",
       "      <td>3.080000</td>\n",
       "      <td>0.543104</td>\n",
       "      <td>569.540000</td>\n",
       "      <td>0.745649</td>\n",
       "      <td>0.543104</td>\n",
       "      <td>0.010878</td>\n",
       "      <td>0.696060</td>\n",
       "      <td>1.481882</td>\n",
       "    </tr>\n",
       "    <tr>\n",
       "      <th>STDs</th>\n",
       "      <td>0.0</td>\n",
       "      <td>0.274048</td>\n",
       "      <td>0.006961</td>\n",
       "      <td>10.351397</td>\n",
       "      <td>0.012907</td>\n",
       "      <td>0.006961</td>\n",
       "      <td>0.000293</td>\n",
       "      <td>0.005361</td>\n",
       "      <td>0.014192</td>\n",
       "    </tr>\n",
       "    <tr>\n",
       "      <th>Means</th>\n",
       "      <td>2.0</td>\n",
       "      <td>3.060000</td>\n",
       "      <td>0.604953</td>\n",
       "      <td>675.360000</td>\n",
       "      <td>0.765825</td>\n",
       "      <td>0.604953</td>\n",
       "      <td>0.008916</td>\n",
       "      <td>0.729517</td>\n",
       "      <td>1.408094</td>\n",
       "    </tr>\n",
       "    <tr>\n",
       "      <th>STDs</th>\n",
       "      <td>0.0</td>\n",
       "      <td>0.239898</td>\n",
       "      <td>0.024202</td>\n",
       "      <td>24.540479</td>\n",
       "      <td>0.033694</td>\n",
       "      <td>0.024202</td>\n",
       "      <td>0.000514</td>\n",
       "      <td>0.013913</td>\n",
       "      <td>0.025492</td>\n",
       "    </tr>\n",
       "    <tr>\n",
       "      <th>Means</th>\n",
       "      <td>2.0</td>\n",
       "      <td>3.000000</td>\n",
       "      <td>0.614218</td>\n",
       "      <td>658.840000</td>\n",
       "      <td>0.762808</td>\n",
       "      <td>0.614218</td>\n",
       "      <td>0.008812</td>\n",
       "      <td>0.735284</td>\n",
       "      <td>1.394954</td>\n",
       "    </tr>\n",
       "    <tr>\n",
       "      <th>STDs</th>\n",
       "      <td>0.0</td>\n",
       "      <td>0.000000</td>\n",
       "      <td>0.024013</td>\n",
       "      <td>27.122067</td>\n",
       "      <td>0.029300</td>\n",
       "      <td>0.024013</td>\n",
       "      <td>0.000524</td>\n",
       "      <td>0.013368</td>\n",
       "      <td>0.023700</td>\n",
       "    </tr>\n",
       "  </tbody>\n",
       "</table>\n",
       "</div>"
      ],
      "text/plain": [
       "       radius  diameter  densities  number_of_edges  average_clustering  \\\n",
       "Means     2.0  3.080000   0.543104       569.540000            0.745649   \n",
       "STDs      0.0  0.274048   0.006961        10.351397            0.012907   \n",
       "Means     2.0  3.060000   0.604953       675.360000            0.765825   \n",
       "STDs      0.0  0.239898   0.024202        24.540479            0.033694   \n",
       "Means     2.0  3.000000   0.614218       658.840000            0.762808   \n",
       "STDs      0.0  0.000000   0.024013        27.122067            0.029300   \n",
       "\n",
       "       avg_degree_centrality  avg_betweenness_centrality  \\\n",
       "Means               0.543104                    0.010878   \n",
       "STDs                0.006961                    0.000293   \n",
       "Means               0.604953                    0.008916   \n",
       "STDs                0.024202                    0.000514   \n",
       "Means               0.614218                    0.008812   \n",
       "STDs                0.024013                    0.000524   \n",
       "\n",
       "       avg_closeness_centrality  average_shortest_path_length  \n",
       "Means                  0.696060                      1.481882  \n",
       "STDs                   0.005361                      0.014192  \n",
       "Means                  0.729517                      1.408094  \n",
       "STDs                   0.013913                      0.025492  \n",
       "Means                  0.735284                      1.394954  \n",
       "STDs                   0.013368                      0.023700  "
      ]
     },
     "execution_count": 44,
     "metadata": {},
     "output_type": "execute_result"
    }
   ],
   "source": [
    "crossed_network_ThreeReg_Ox_90_00_averged"
   ]
  },
  {
   "cell_type": "code",
   "execution_count": null,
   "id": "ea22a342-696c-43b2-a37f-439eb6b491f9",
   "metadata": {},
   "outputs": [],
   "source": []
  },
  {
   "cell_type": "code",
   "execution_count": null,
   "id": "45c8e108-2009-4dff-be8a-7367cacffd45",
   "metadata": {},
   "outputs": [],
   "source": []
  }
 ],
 "metadata": {
  "kernelspec": {
   "display_name": "Python 3 (ipykernel)",
   "language": "python",
   "name": "python3"
  },
  "language_info": {
   "codemirror_mode": {
    "name": "ipython",
    "version": 3
   },
   "file_extension": ".py",
   "mimetype": "text/x-python",
   "name": "python",
   "nbconvert_exporter": "python",
   "pygments_lexer": "ipython3",
   "version": "3.11.0"
  }
 },
 "nbformat": 4,
 "nbformat_minor": 5
}
