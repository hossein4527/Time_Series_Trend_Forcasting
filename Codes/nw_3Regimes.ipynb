{
 "cells": [
  {
   "cell_type": "code",
   "execution_count": 1,
   "id": "9df9b137-c106-48b0-bec0-f8310cf49fe6",
   "metadata": {},
   "outputs": [],
   "source": [
    "from ned import Net_moduls\n",
    "import networkx as nx\n",
    "import numpy as np"
   ]
  },
  {
   "cell_type": "code",
   "execution_count": 2,
   "id": "dcc17b6b-11f5-4b32-bd9f-32f409077154",
   "metadata": {},
   "outputs": [],
   "source": [
    "from nxviz.plots import CircosPlot"
   ]
  },
  {
   "cell_type": "code",
   "execution_count": 3,
   "id": "ed51ca32-ac02-4621-9b8a-5caa6cb697cd",
   "metadata": {},
   "outputs": [],
   "source": [
    "import pandas as pd\n",
    "import matplotlib.pyplot as plt"
   ]
  },
  {
   "cell_type": "markdown",
   "id": "c102abae-74b4-4a85-946d-b9faecf3cc47",
   "metadata": {},
   "source": [
    "# Data"
   ]
  },
  {
   "cell_type": "markdown",
   "id": "ca7ffdbb-ed51-4350-b647-1044f302e428",
   "metadata": {},
   "source": [
    "## Tehran Index DF and Tehran DF Normed Return 90 Far - 00 Far"
   ]
  },
  {
   "cell_type": "code",
   "execution_count": 4,
   "id": "c8b144ad-a231-44a7-8864-d8743eeb278b",
   "metadata": {},
   "outputs": [],
   "source": [
    "tehran_index = pd.read_excel('../Data/Tehran_Indexes_Price_NoRegime.xlsx').set_index('date')"
   ]
  },
  {
   "cell_type": "code",
   "execution_count": 5,
   "id": "9f426c61-1e01-43d5-99e3-6d5457b71a6e",
   "metadata": {},
   "outputs": [],
   "source": [
    "tehran_df_reg = pd.read_excel('../Data/Tehran_Indexes_NormedReturned_Regimed.xlsx').set_index('date')"
   ]
  },
  {
   "cell_type": "code",
   "execution_count": 6,
   "id": "bad0a593-807b-4c5b-b9c9-ade80cfbffc5",
   "metadata": {},
   "outputs": [],
   "source": [
    "tehran_index_99 = pd.read_excel('../Data/Tehran_Indexes_NormedReturned_Regimed_newox.xlsx').set_index('date')"
   ]
  },
  {
   "cell_type": "markdown",
   "id": "4c78b44b-f17c-4773-9a8a-7540bd95385c",
   "metadata": {},
   "source": [
    "## Tehran DF Normed Return 90 Far - 98 Dey"
   ]
  },
  {
   "cell_type": "code",
   "execution_count": 7,
   "id": "3b865b37-ed9f-4d8f-990d-09f673b7f91e",
   "metadata": {},
   "outputs": [],
   "source": [
    "tehran_df = pd.read_excel('../Data/Tehran_Indexes_NormedReturned_Regimed.xlsx').set_index('date')\n",
    "tehran_df = tehran_df[tehran_df.columns[:-12]].iloc[:-300]"
   ]
  },
  {
   "cell_type": "markdown",
   "id": "da4f9608-498a-4956-8752-7013a814f5a0",
   "metadata": {},
   "source": [
    "## Tehran DF Normed Return 90 Far - 00 Far"
   ]
  },
  {
   "cell_type": "code",
   "execution_count": 8,
   "id": "9a3632e3-6d14-4477-b9da-f8e9a9e924b6",
   "metadata": {},
   "outputs": [],
   "source": [
    "tehran_df_completeDates = pd.read_excel('../Data/Tehran_Indexes_NormedReturned_Regimed.xlsx').set_index('date')\n",
    "tehran_df_completeDates = tehran_df_completeDates[tehran_df_completeDates.columns[:-12]]"
   ]
  },
  {
   "cell_type": "markdown",
   "id": "a4125284-a73a-410c-b20f-0dfc8117b2ca",
   "metadata": {},
   "source": [
    "## Tehran Ox 2 Regimed DF Normed Return 90 Far - 00 Far "
   ]
  },
  {
   "cell_type": "code",
   "execution_count": 9,
   "id": "a93b83b1-4d28-4289-8aa1-5e071f811f5e",
   "metadata": {},
   "outputs": [],
   "source": [
    "tehran_df_TwoReg_Ox_1 = tehran_df_reg[tehran_df_reg['Ox_2']==0]\n",
    "tehran_df_TwoReg_Ox_2 = tehran_df_reg[tehran_df_reg['Ox_2']==1]\n",
    "tehran_df_TwoReg_Ox_1 = tehran_df_TwoReg_Ox_1[tehran_df_TwoReg_Ox_1.columns[:-12]]\n",
    "tehran_df_TwoReg_Ox_2 = tehran_df_TwoReg_Ox_2[tehran_df_TwoReg_Ox_2.columns[:-12]]"
   ]
  },
  {
   "cell_type": "markdown",
   "id": "41e8199a-1ba2-4725-a670-7fec70aaa67b",
   "metadata": {},
   "source": [
    "## Tehran Ox 2 Regimed DF Normed Return 90 Far - 98 Dey "
   ]
  },
  {
   "cell_type": "code",
   "execution_count": 11,
   "id": "4e389eaf-b70b-4589-8fa6-bd3d04eba1bd",
   "metadata": {},
   "outputs": [],
   "source": [
    "tehran_df_TwoReg_Ox_1_98 = tehran_df[tehran_df_reg.iloc[:-300]['Ox_2']==0]\n",
    "tehran_df_TwoReg_Ox_2_98 = tehran_df[tehran_df_reg.iloc[:-300]['Ox_2']==1]"
   ]
  },
  {
   "cell_type": "markdown",
   "id": "46905361-c6f4-419a-b2dd-048ec99f9e13",
   "metadata": {},
   "source": [
    "## Tehran Ox 2 Regimed DF Normed Return 90 Far - 00 Far / Same Length"
   ]
  },
  {
   "cell_type": "code",
   "execution_count": 12,
   "id": "b0fa1dd0-9268-40cf-9d30-2d260d2c1c93",
   "metadata": {},
   "outputs": [],
   "source": [
    "max_length_TwoReg_Ox_2 = min(len(tehran_df_TwoReg_Ox_1), len(tehran_df_TwoReg_Ox_2))\n",
    "tehran_df_TwoReg_Ox_1_same_length = tehran_df_TwoReg_Ox_1[-max_length_TwoReg_Ox_2:]\n",
    "tehran_df_TwoReg_Ox_2_same_length = tehran_df_TwoReg_Ox_2[-max_length_TwoReg_Ox_2:]"
   ]
  },
  {
   "cell_type": "markdown",
   "id": "6d4aac30-c4b3-411d-9260-2e9edec1c236",
   "metadata": {},
   "source": [
    "## Tehran Ox 2 Regimed DF Normed Return 90 Far - 98 Dey / Same Length"
   ]
  },
  {
   "cell_type": "code",
   "execution_count": 13,
   "id": "ff44046a-fb23-4b05-9845-fe7d3693e24a",
   "metadata": {},
   "outputs": [],
   "source": [
    "max_length_TwoReg_Ox_2_98 = min(len(tehran_df_TwoReg_Ox_1_98), len(tehran_df_TwoReg_Ox_2_98))\n",
    "tehran_df_TwoReg_Ox_1_same_length_98 = tehran_df_TwoReg_Ox_1_98[-max_length_TwoReg_Ox_2_98:]\n",
    "tehran_df_TwoReg_Ox_2_same_length_98 = tehran_df_TwoReg_Ox_2_98[-max_length_TwoReg_Ox_2_98:]"
   ]
  },
  {
   "cell_type": "markdown",
   "id": "658b3bac-91f1-4cb0-a7bd-e70f2777d851",
   "metadata": {},
   "source": [
    "## Tehran Ox 2 1399 Regimed DF Normed Return 99 - 1400  "
   ]
  },
  {
   "cell_type": "code",
   "execution_count": 14,
   "id": "2ef8189e-3292-47e4-800f-cbb5950c6de1",
   "metadata": {},
   "outputs": [],
   "source": [
    "tehran_df_TwoReg_Ox_99_1 = tehran_df_reg[tehran_index_99['ox-2-1year']==0]\n",
    "tehran_df_TwoReg_Ox_99_2 = tehran_df_reg[tehran_index_99['ox-2-1year']==1]\n",
    "tehran_df_TwoReg_Ox_99_1 = tehran_df_TwoReg_Ox_99_1[tehran_df_TwoReg_Ox_99_1.columns[:-12]]\n",
    "tehran_df_TwoReg_Ox_99_2 = tehran_df_TwoReg_Ox_99_2[tehran_df_TwoReg_Ox_99_2.columns[:-12]]"
   ]
  },
  {
   "cell_type": "code",
   "execution_count": 15,
   "id": "f0e80c2d-16c2-4119-bd5b-b315e1ad46e3",
   "metadata": {},
   "outputs": [],
   "source": [
    "max_length_TwoReg_Ox_99_2 = min(len(tehran_df_TwoReg_Ox_99_1), len(tehran_df_TwoReg_Ox_99_2))\n",
    "tehran_df_TwoReg_Ox_99_1_same_length = tehran_df_TwoReg_Ox_99_1[-max_length_TwoReg_Ox_99_2:]\n",
    "tehran_df_TwoReg_Ox_99_2_same_length = tehran_df_TwoReg_Ox_99_2[-max_length_TwoReg_Ox_99_2:]"
   ]
  },
  {
   "cell_type": "markdown",
   "id": "7df0709c-3e78-44cd-a38d-722220eee805",
   "metadata": {},
   "source": [
    "## Tehran Ox 3 Regimed DF Normed Return 90 Far - 00 Dey "
   ]
  },
  {
   "cell_type": "code",
   "execution_count": 16,
   "id": "82f572c4-540b-4430-afb5-6454984c2ea3",
   "metadata": {},
   "outputs": [],
   "source": [
    "tehran_df_ThreeReg_Ox_1 = tehran_df_reg[tehran_df_reg['Ox_3']==0]\n",
    "tehran_df_ThreeReg_Ox_2 = tehran_df_reg[tehran_df_reg['Ox_3']==1]\n",
    "tehran_df_ThreeReg_Ox_3 = tehran_df_reg[tehran_df_reg['Ox_3']==2]\n",
    "\n",
    "max_length_ThreeReg_Ox_90_00 = min(len(tehran_df_ThreeReg_Ox_1), len(tehran_df_ThreeReg_Ox_2),len(tehran_df_ThreeReg_Ox_3))\n",
    "tehran_df_ThreeReg_Ox_1_same_length = tehran_df_ThreeReg_Ox_1[-max_length_ThreeReg_Ox_90_00:]\n",
    "tehran_df_ThreeReg_Ox_2_same_length = tehran_df_ThreeReg_Ox_2[-max_length_ThreeReg_Ox_90_00:]\n",
    "tehran_df_ThreeReg_Ox_3_same_length = tehran_df_ThreeReg_Ox_3[-max_length_ThreeReg_Ox_90_00:]\n",
    "\n",
    "tehran_df_ThreeReg_Ox_1_same_length = tehran_df_ThreeReg_Ox_1_same_length[tehran_df_ThreeReg_Ox_1_same_length.columns[:-12]]\n",
    "tehran_df_ThreeReg_Ox_2_same_length = tehran_df_ThreeReg_Ox_2_same_length[tehran_df_ThreeReg_Ox_2_same_length.columns[:-12]]\n",
    "tehran_df_ThreeReg_Ox_3_same_length = tehran_df_ThreeReg_Ox_3_same_length[tehran_df_ThreeReg_Ox_3_same_length.columns[:-12]]"
   ]
  },
  {
   "cell_type": "markdown",
   "id": "bbb0403b-0b0b-4e95-98a8-af32b6d85453",
   "metadata": {},
   "source": [
    "## Tehran Ox 3 Regimed DF Normed Return 90 Far - 98 Dey "
   ]
  },
  {
   "cell_type": "code",
   "execution_count": 18,
   "id": "0e7f3322-0d00-4876-846a-f3e749653ccf",
   "metadata": {},
   "outputs": [],
   "source": [
    "tehran_df_ThreeReg_Ox_1_98 = tehran_df[tehran_df_reg.iloc[:-300]['Ox_3']==0]\n",
    "tehran_df_ThreeReg_Ox_2_98 = tehran_df[tehran_df_reg.iloc[:-300]['Ox_3']==1]\n",
    "tehran_df_ThreeReg_Ox_3_98 = tehran_df[tehran_df_reg.iloc[:-300]['Ox_3']==2]"
   ]
  },
  {
   "cell_type": "markdown",
   "id": "e4b8d394-34b1-41a5-8e6a-d8d3b8b814f2",
   "metadata": {},
   "source": [
    "## Tehran Ox 3 Regimed DF Normed Return 90 Far - 98 Dey / Same Length"
   ]
  },
  {
   "cell_type": "code",
   "execution_count": 19,
   "id": "e81ab10f-0c2b-413f-a267-b785d6b3960b",
   "metadata": {},
   "outputs": [],
   "source": [
    "max_length_ThreeReg_Ox_90_98 = min(len(tehran_df_ThreeReg_Ox_1_98), len(tehran_df_ThreeReg_Ox_2_98),len(tehran_df_ThreeReg_Ox_3_98))\n",
    "tehran_df_ThreeReg_Ox_1_same_length_98 = tehran_df_ThreeReg_Ox_1_98[-max_length_ThreeReg_Ox_90_98:]\n",
    "tehran_df_ThreeReg_Ox_2_same_length_98 = tehran_df_ThreeReg_Ox_2_98[-max_length_ThreeReg_Ox_90_98:]\n",
    "tehran_df_ThreeReg_Ox_3_same_length_98 = tehran_df_ThreeReg_Ox_3_98[-max_length_ThreeReg_Ox_90_98:]"
   ]
  },
  {
   "cell_type": "markdown",
   "id": "1f09a6ba-4d78-423c-afa4-4ab6c0f428c1",
   "metadata": {},
   "source": [
    "# 20) Tehran 3 Regime Pearson (Based on Median Threshold) Period of 90 Far - 98 Dey"
   ]
  },
  {
   "cell_type": "code",
   "execution_count": 20,
   "id": "305bef0a-d187-498e-8b02-f0827018e31c",
   "metadata": {},
   "outputs": [],
   "source": [
    "nm = Net_moduls()"
   ]
  },
  {
   "cell_type": "code",
   "execution_count": 21,
   "id": "46689707-3c50-4490-9bd2-c376b2812e43",
   "metadata": {},
   "outputs": [],
   "source": [
    "thr20_1 = nm.find_median_pearson_threshold(tehran_df_ThreeReg_Ox_1_same_length_98)\n",
    "thr20_2 = nm.find_median_pearson_threshold(tehran_df_ThreeReg_Ox_2_same_length_98)\n",
    "thr20_3 = nm.find_median_pearson_threshold(tehran_df_ThreeReg_Ox_3_same_length_98)\n",
    "\n",
    "thr20 = min(thr20_1, thr20_2, thr20_3)"
   ]
  },
  {
   "cell_type": "code",
   "execution_count": 22,
   "id": "96076c45-aba5-47c4-8f13-f3c9b3217f48",
   "metadata": {},
   "outputs": [],
   "source": [
    "nm = Net_moduls()\n",
    "pearson_network_ThreeReg_Ox_1_98 = nm.construct_network(tehran_df_ThreeReg_Ox_1_same_length_98, method='pearson', threshold=thr20)"
   ]
  },
  {
   "cell_type": "code",
   "execution_count": 23,
   "id": "2f9e15df-e593-4a2a-84ee-919172274b93",
   "metadata": {},
   "outputs": [
    {
     "data": {
      "text/html": [
       "<div>\n",
       "<style scoped>\n",
       "    .dataframe tbody tr th:only-of-type {\n",
       "        vertical-align: middle;\n",
       "    }\n",
       "\n",
       "    .dataframe tbody tr th {\n",
       "        vertical-align: top;\n",
       "    }\n",
       "\n",
       "    .dataframe thead th {\n",
       "        text-align: right;\n",
       "    }\n",
       "</style>\n",
       "<table border=\"1\" class=\"dataframe\">\n",
       "  <thead>\n",
       "    <tr style=\"text-align: right;\">\n",
       "      <th></th>\n",
       "      <th>radius</th>\n",
       "      <th>diameter</th>\n",
       "      <th>densities</th>\n",
       "      <th>number_of_edges</th>\n",
       "      <th>average_clustering</th>\n",
       "      <th>avg_degree_centrality</th>\n",
       "      <th>avg_betweenness_centrality</th>\n",
       "      <th>avg_closeness_centrality</th>\n",
       "      <th>average_shortest_path_length</th>\n",
       "    </tr>\n",
       "  </thead>\n",
       "  <tbody>\n",
       "    <tr>\n",
       "      <th>0</th>\n",
       "      <td>2</td>\n",
       "      <td>4</td>\n",
       "      <td>0.529293</td>\n",
       "      <td>524</td>\n",
       "      <td>0.713501</td>\n",
       "      <td>0.529293</td>\n",
       "      <td>0.011792</td>\n",
       "      <td>0.684796</td>\n",
       "      <td>1.507071</td>\n",
       "    </tr>\n",
       "  </tbody>\n",
       "</table>\n",
       "</div>"
      ],
      "text/plain": [
       "   radius  diameter  densities  number_of_edges  average_clustering  \\\n",
       "0       2         4   0.529293              524            0.713501   \n",
       "\n",
       "   avg_degree_centrality  avg_betweenness_centrality  \\\n",
       "0               0.529293                    0.011792   \n",
       "\n",
       "   avg_closeness_centrality  average_shortest_path_length  \n",
       "0                  0.684796                      1.507071  "
      ]
     },
     "execution_count": 23,
     "metadata": {},
     "output_type": "execute_result"
    }
   ],
   "source": [
    "nm.get_network_features(pearson_network_ThreeReg_Ox_1_98)"
   ]
  },
  {
   "cell_type": "code",
   "execution_count": 24,
   "id": "b5cd96f1-c113-4321-9e21-a2507dfc8055",
   "metadata": {},
   "outputs": [
    {
     "data": {
      "text/plain": [
       "array({'FaravardehayeNafti': 1, 'CoalMining': 2, 'Euro': 6, 'GDP': 6, 'M2': 7, 'USD': 8, 'Coin': 8, 'Brent Oil': 9, 'Gold': 9, 'HOUSE': 10, 'DastgahayeBargi': 10, 'CPI': 13, 'M1': 16, 'Shimiyaee': 21, 'Agriculture': 22, 'VasayelErtebati': 24, 'Wood': 25, 'SayerMadan': 26, 'EntesharVaChap': 26, 'FelezateAsasi': 26, 'FaniVaMohandesi': 26, 'KanehayeFelezi': 26, 'GhandVaShekar': 28, 'khodrosazi': 29, 'EstekrajeNaft': 30, 'Mansojat': 30, 'ChandReshteSanati': 30, 'KashiVaSeramik': 30, 'Siman': 30, 'Bank': 30, 'MahsolateFelezi': 31, 'KanehayeGeyreFelezi': 31, 'SayerMali': 31, 'Rayaneh': 31, 'Mali': 31, 'index': 32, 'Lastic': 32, 'MashinAlat': 32, 'GazaeeBejozGhand': 32, 'SarmayeGozari': 32, 'Bimeh': 32, 'paper': 33, 'Daroee': 33, 'Amlakva': 35, 'HamlVaNaghl': 36},\n",
       "      dtype=object)"
      ]
     },
     "execution_count": 24,
     "metadata": {},
     "output_type": "execute_result"
    }
   ],
   "source": [
    "b20_1 = dict(nx.degree(pearson_network_ThreeReg_Ox_1_98))\n",
    "b20_1 = np.array(dict(sorted(b20_1.items(), key=lambda item: item[1])))\n",
    "b20_1"
   ]
  },
  {
   "cell_type": "code",
   "execution_count": 25,
   "id": "51eb8886-ba59-4c47-a3ab-12e103cbe504",
   "metadata": {},
   "outputs": [],
   "source": [
    "nm.get_network_features(pearson_network_ThreeReg_Ox_1_98).to_csv('Excels/20_1.csv')"
   ]
  },
  {
   "cell_type": "code",
   "execution_count": 29,
   "id": "98283666-0d12-4c9e-84cf-25e7c671ef26",
   "metadata": {},
   "outputs": [],
   "source": [
    "pearson_network_ThreeReg_Ox_2_98 = nm.construct_network(tehran_df_ThreeReg_Ox_2_same_length_98, method='pearson', threshold=thr20)"
   ]
  },
  {
   "cell_type": "code",
   "execution_count": 30,
   "id": "729310dc-2559-4b76-a21d-7c3a17341275",
   "metadata": {},
   "outputs": [
    {
     "data": {
      "text/html": [
       "<div>\n",
       "<style scoped>\n",
       "    .dataframe tbody tr th:only-of-type {\n",
       "        vertical-align: middle;\n",
       "    }\n",
       "\n",
       "    .dataframe tbody tr th {\n",
       "        vertical-align: top;\n",
       "    }\n",
       "\n",
       "    .dataframe thead th {\n",
       "        text-align: right;\n",
       "    }\n",
       "</style>\n",
       "<table border=\"1\" class=\"dataframe\">\n",
       "  <thead>\n",
       "    <tr style=\"text-align: right;\">\n",
       "      <th></th>\n",
       "      <th>radius</th>\n",
       "      <th>diameter</th>\n",
       "      <th>densities</th>\n",
       "      <th>number_of_edges</th>\n",
       "      <th>average_clustering</th>\n",
       "      <th>avg_degree_centrality</th>\n",
       "      <th>avg_betweenness_centrality</th>\n",
       "      <th>avg_closeness_centrality</th>\n",
       "      <th>average_shortest_path_length</th>\n",
       "    </tr>\n",
       "  </thead>\n",
       "  <tbody>\n",
       "    <tr>\n",
       "      <th>0</th>\n",
       "      <td>2</td>\n",
       "      <td>3</td>\n",
       "      <td>0.547826</td>\n",
       "      <td>567</td>\n",
       "      <td>0.72541</td>\n",
       "      <td>0.547826</td>\n",
       "      <td>0.010694</td>\n",
       "      <td>0.699872</td>\n",
       "      <td>1.470531</td>\n",
       "    </tr>\n",
       "  </tbody>\n",
       "</table>\n",
       "</div>"
      ],
      "text/plain": [
       "   radius  diameter  densities  number_of_edges  average_clustering  \\\n",
       "0       2         3   0.547826              567             0.72541   \n",
       "\n",
       "   avg_degree_centrality  avg_betweenness_centrality  \\\n",
       "0               0.547826                    0.010694   \n",
       "\n",
       "   avg_closeness_centrality  average_shortest_path_length  \n",
       "0                  0.699872                      1.470531  "
      ]
     },
     "execution_count": 30,
     "metadata": {},
     "output_type": "execute_result"
    }
   ],
   "source": [
    "nm.get_network_features(pearson_network_ThreeReg_Ox_2_98)"
   ]
  },
  {
   "cell_type": "code",
   "execution_count": 31,
   "id": "f555a113-fe73-4bfc-9377-85527d5475a9",
   "metadata": {},
   "outputs": [
    {
     "data": {
      "text/plain": [
       "array({'Gold': 1, 'Mansojat': 5, 'M1': 5, 'Euro': 6, 'GDP': 6, 'M2': 6, 'CoalMining': 8, 'Brent Oil': 9, 'HOUSE': 11, 'HamlVaNaghl': 11, 'Coin': 12, 'CPI': 12, 'USD': 16, 'EntesharVaChap': 25, 'VasayelErtebati': 25, 'AbzaralatePezeshki': 25, 'Agriculture': 26, 'paper': 28, 'FelezateAsasi': 28, 'Bank': 28, 'FaravardehayeNafti': 30, 'ChandReshteSanati': 30, 'Wood': 31, 'Lastic': 31, 'DastgahayeBargi': 31, 'Daroee': 31, 'Shimiyaee': 31, 'KashiVaSeramik': 31, 'FaniVaMohandesi': 31, 'Mali': 31, 'KanehayeFelezi': 31, 'MahsolateFelezi': 32, 'Rayaneh': 32, 'index': 33, 'MashinAlat': 33, 'KanehayeGeyreFelezi': 33, 'SarmayeGozari': 33, 'Amlakva': 33, 'EstekrajeNaft': 34, 'SayerMadan': 34, 'khodrosazi': 34, 'GhandVaShekar': 34, 'GazaeeBejozGhand': 34, 'Siman': 34, 'SayerMali': 34, 'Bimeh': 35},\n",
       "      dtype=object)"
      ]
     },
     "execution_count": 31,
     "metadata": {},
     "output_type": "execute_result"
    }
   ],
   "source": [
    "b20_2 = dict(nx.degree(pearson_network_ThreeReg_Ox_2_98))\n",
    "b20_2 = np.array(dict(sorted(b20_2.items(), key=lambda item: item[1])))\n",
    "b20_2"
   ]
  },
  {
   "cell_type": "code",
   "execution_count": 32,
   "id": "411fd554-09c5-445f-ae30-725102467690",
   "metadata": {},
   "outputs": [],
   "source": [
    "nm.get_network_features(pearson_network_ThreeReg_Ox_2_98).to_csv('Excels/20_2.csv')"
   ]
  },
  {
   "cell_type": "code",
   "execution_count": 33,
   "id": "43b24981-ed8c-464e-8ce8-5145bb97c5db",
   "metadata": {},
   "outputs": [],
   "source": [
    "pearson_network_ThreeReg_Ox_3_98 = nm.construct_network(tehran_df_ThreeReg_Ox_3_same_length_98, method='pearson', threshold=thr20)"
   ]
  },
  {
   "cell_type": "code",
   "execution_count": 34,
   "id": "29bc0dd4-6f5f-457f-ab5d-2b6c8a37c344",
   "metadata": {},
   "outputs": [
    {
     "data": {
      "text/html": [
       "<div>\n",
       "<style scoped>\n",
       "    .dataframe tbody tr th:only-of-type {\n",
       "        vertical-align: middle;\n",
       "    }\n",
       "\n",
       "    .dataframe tbody tr th {\n",
       "        vertical-align: top;\n",
       "    }\n",
       "\n",
       "    .dataframe thead th {\n",
       "        text-align: right;\n",
       "    }\n",
       "</style>\n",
       "<table border=\"1\" class=\"dataframe\">\n",
       "  <thead>\n",
       "    <tr style=\"text-align: right;\">\n",
       "      <th></th>\n",
       "      <th>radius</th>\n",
       "      <th>diameter</th>\n",
       "      <th>densities</th>\n",
       "      <th>number_of_edges</th>\n",
       "      <th>average_clustering</th>\n",
       "      <th>avg_degree_centrality</th>\n",
       "      <th>avg_betweenness_centrality</th>\n",
       "      <th>avg_closeness_centrality</th>\n",
       "      <th>average_shortest_path_length</th>\n",
       "    </tr>\n",
       "  </thead>\n",
       "  <tbody>\n",
       "    <tr>\n",
       "      <th>0</th>\n",
       "      <td>2</td>\n",
       "      <td>4</td>\n",
       "      <td>0.541063</td>\n",
       "      <td>560</td>\n",
       "      <td>0.788739</td>\n",
       "      <td>0.541063</td>\n",
       "      <td>0.011726</td>\n",
       "      <td>0.687703</td>\n",
       "      <td>1.515942</td>\n",
       "    </tr>\n",
       "  </tbody>\n",
       "</table>\n",
       "</div>"
      ],
      "text/plain": [
       "   radius  diameter  densities  number_of_edges  average_clustering  \\\n",
       "0       2         4   0.541063              560            0.788739   \n",
       "\n",
       "   avg_degree_centrality  avg_betweenness_centrality  \\\n",
       "0               0.541063                    0.011726   \n",
       "\n",
       "   avg_closeness_centrality  average_shortest_path_length  \n",
       "0                  0.687703                      1.515942  "
      ]
     },
     "execution_count": 34,
     "metadata": {},
     "output_type": "execute_result"
    }
   ],
   "source": [
    "nm.get_network_features(pearson_network_ThreeReg_Ox_3_98)"
   ]
  },
  {
   "cell_type": "code",
   "execution_count": 35,
   "id": "38e892b7-058a-418a-adf3-c7e0a7ca9a57",
   "metadata": {},
   "outputs": [
    {
     "data": {
      "text/plain": [
       "array({'DastgahayeBargi': 2, 'M2': 3, 'FaravardehayeNafti': 3, 'M1': 4, 'USD': 5, 'Gold': 5, 'HOUSE': 6, 'AbzaralatePezeshki': 6, 'Coin': 7, 'Brent Oil': 8, 'Euro': 11, 'CPI': 12, 'GDP': 18, 'Mansojat': 20, 'CoalMining': 22, 'KanehayeFelezi': 22, 'Wood': 26, 'EstekrajeNaft': 29, 'EntesharVaChap': 29, 'FelezateAsasi': 29, 'khodrosazi': 29, 'Shimiyaee': 29, 'SayerMadan': 30, 'ChandReshteSanati': 30, 'Bank': 30, 'Rayaneh': 31, 'index': 32, 'Daroee': 32, 'KashiVaSeramik': 32, 'Amlakva': 32, 'paper': 33, 'MashinAlat': 33, 'GhandVaShekar': 33, 'SarmayeGozari': 33, 'Bimeh': 33, 'Mali': 33, 'Agriculture': 34, 'Siman': 34, 'KanehayeGeyreFelezi': 34, 'SayerMali': 34, 'MahsolateFelezi': 35, 'Lastic': 35, 'VasayelErtebati': 35, 'HamlVaNaghl': 35, 'FaniVaMohandesi': 35, 'GazaeeBejozGhand': 37},\n",
       "      dtype=object)"
      ]
     },
     "execution_count": 35,
     "metadata": {},
     "output_type": "execute_result"
    }
   ],
   "source": [
    "b20_3 = dict(nx.degree(pearson_network_ThreeReg_Ox_3_98))\n",
    "b20_3 = np.array(dict(sorted(b20_3.items(), key=lambda item: item[1])))\n",
    "b20_3"
   ]
  },
  {
   "cell_type": "code",
   "execution_count": 36,
   "id": "df5959fa-b148-4a40-bb73-a638790b81ac",
   "metadata": {},
   "outputs": [],
   "source": [
    "nm.get_network_features(pearson_network_ThreeReg_Ox_3_98).to_csv('Excels/20_3.csv')"
   ]
  },
  {
   "cell_type": "markdown",
   "id": "11d99955-dd43-4c4e-8249-7e3afccbfbad",
   "metadata": {},
   "source": [
    "# 21) Tehran 3 Regime Pearson (Based on Median Threshold) Period of 90 Far - 00 Far"
   ]
  },
  {
   "cell_type": "code",
   "execution_count": 37,
   "id": "ca181ae3-76f1-4287-ba2e-fc82284f554e",
   "metadata": {},
   "outputs": [],
   "source": [
    "nm = Net_moduls()"
   ]
  },
  {
   "cell_type": "code",
   "execution_count": 38,
   "id": "0c6c98c3-7f8f-4827-b09a-475b36fd5cb2",
   "metadata": {},
   "outputs": [],
   "source": [
    "thr21_1 = nm.find_median_pearson_threshold(tehran_df_ThreeReg_Ox_1_same_length)\n",
    "thr21_2 = nm.find_median_pearson_threshold(tehran_df_ThreeReg_Ox_2_same_length)\n",
    "thr21_3 = nm.find_median_pearson_threshold(tehran_df_ThreeReg_Ox_3_same_length)\n",
    "\n",
    "thr21 = min(thr21_1, thr21_2, thr21_3)"
   ]
  },
  {
   "cell_type": "code",
   "execution_count": 39,
   "id": "929718e8-ac96-4d8b-81ff-03b8e7b289c8",
   "metadata": {},
   "outputs": [],
   "source": [
    "nm = Net_moduls()\n",
    "pearson_network_ThreeReg_Ox_1 = nm.construct_network(tehran_df_ThreeReg_Ox_1_same_length, method='pearson', threshold=thr21)"
   ]
  },
  {
   "cell_type": "code",
   "execution_count": 40,
   "id": "fe6454c3-032b-43c5-9c95-2ea054c8277c",
   "metadata": {},
   "outputs": [
    {
     "data": {
      "text/html": [
       "<div>\n",
       "<style scoped>\n",
       "    .dataframe tbody tr th:only-of-type {\n",
       "        vertical-align: middle;\n",
       "    }\n",
       "\n",
       "    .dataframe tbody tr th {\n",
       "        vertical-align: top;\n",
       "    }\n",
       "\n",
       "    .dataframe thead th {\n",
       "        text-align: right;\n",
       "    }\n",
       "</style>\n",
       "<table border=\"1\" class=\"dataframe\">\n",
       "  <thead>\n",
       "    <tr style=\"text-align: right;\">\n",
       "      <th></th>\n",
       "      <th>radius</th>\n",
       "      <th>diameter</th>\n",
       "      <th>densities</th>\n",
       "      <th>number_of_edges</th>\n",
       "      <th>average_clustering</th>\n",
       "      <th>avg_degree_centrality</th>\n",
       "      <th>avg_betweenness_centrality</th>\n",
       "      <th>avg_closeness_centrality</th>\n",
       "      <th>average_shortest_path_length</th>\n",
       "    </tr>\n",
       "  </thead>\n",
       "  <tbody>\n",
       "    <tr>\n",
       "      <th>0</th>\n",
       "      <td>2</td>\n",
       "      <td>3</td>\n",
       "      <td>0.573996</td>\n",
       "      <td>543</td>\n",
       "      <td>0.74327</td>\n",
       "      <td>0.573996</td>\n",
       "      <td>0.010218</td>\n",
       "      <td>0.71529</td>\n",
       "      <td>1.429175</td>\n",
       "    </tr>\n",
       "  </tbody>\n",
       "</table>\n",
       "</div>"
      ],
      "text/plain": [
       "   radius  diameter  densities  number_of_edges  average_clustering  \\\n",
       "0       2         3   0.573996              543             0.74327   \n",
       "\n",
       "   avg_degree_centrality  avg_betweenness_centrality  \\\n",
       "0               0.573996                    0.010218   \n",
       "\n",
       "   avg_closeness_centrality  average_shortest_path_length  \n",
       "0                   0.71529                      1.429175  "
      ]
     },
     "execution_count": 40,
     "metadata": {},
     "output_type": "execute_result"
    }
   ],
   "source": [
    "nm.get_network_features(pearson_network_ThreeReg_Ox_1)"
   ]
  },
  {
   "cell_type": "code",
   "execution_count": 41,
   "id": "d6db6d61-1df3-4c66-8cb5-e55abbc45bbd",
   "metadata": {},
   "outputs": [
    {
     "data": {
      "text/plain": [
       "array({'GDP': 6, 'Brent Oil': 8, 'Euro': 8, 'CoalMining': 8, 'HOUSE': 10, 'CPI': 10, 'USD': 11, 'DastgahayeBargi': 11, 'Coin': 11, 'M2': 12, 'Gold': 13, 'M1': 17, 'FelezateAsasi': 19, 'Shimiyaee': 19, 'KanehayeFelezi': 22, 'VasayelErtebati': 25, 'EntesharVaChap': 28, 'Wood': 29, 'KashiVaSeramik': 29, 'Agriculture': 30, 'khodrosazi': 30, 'Rayaneh': 30, 'FaniVaMohandesi': 30, 'Mali': 30, 'Mansojat': 30, 'index': 31, 'GhandVaShekar': 31, 'ChandReshteSanati': 31, 'KanehayeGeyreFelezi': 31, 'Bank': 31, 'SayerMali': 31, 'EstekrajeNaft': 32, 'Lastic': 32, 'MashinAlat': 32, 'GazaeeBejozGhand': 32, 'Daroee': 32, 'Siman': 32, 'SarmayeGozari': 32, 'Bimeh': 32, 'MahsolateFelezi': 33, 'SayerMadan': 33, 'paper': 33, 'HamlVaNaghl': 34, 'Amlakva': 35},\n",
       "      dtype=object)"
      ]
     },
     "execution_count": 41,
     "metadata": {},
     "output_type": "execute_result"
    }
   ],
   "source": [
    "b21_1 = dict(nx.degree(pearson_network_ThreeReg_Ox_1))\n",
    "b21_1 = np.array(dict(sorted(b21_1.items(), key=lambda item: item[1])))\n",
    "b21_1"
   ]
  },
  {
   "cell_type": "code",
   "execution_count": 42,
   "id": "76974c48-25e3-4f49-bb1a-de7ce29eb3b0",
   "metadata": {},
   "outputs": [],
   "source": [
    "nm.get_network_features(pearson_network_ThreeReg_Ox_1).to_csv('Excels/21_1.csv')"
   ]
  },
  {
   "cell_type": "code",
   "execution_count": 43,
   "id": "fcccae1c-6e2c-42cd-b6a7-853a87ed2ca6",
   "metadata": {},
   "outputs": [],
   "source": [
    "pearson_network_ThreeReg_Ox_2 = nm.construct_network(tehran_df_ThreeReg_Ox_2_same_length, method='pearson', threshold=thr21)"
   ]
  },
  {
   "cell_type": "code",
   "execution_count": 44,
   "id": "86effaea-3825-476c-9c80-3d96b3455582",
   "metadata": {},
   "outputs": [
    {
     "data": {
      "text/html": [
       "<div>\n",
       "<style scoped>\n",
       "    .dataframe tbody tr th:only-of-type {\n",
       "        vertical-align: middle;\n",
       "    }\n",
       "\n",
       "    .dataframe tbody tr th {\n",
       "        vertical-align: top;\n",
       "    }\n",
       "\n",
       "    .dataframe thead th {\n",
       "        text-align: right;\n",
       "    }\n",
       "</style>\n",
       "<table border=\"1\" class=\"dataframe\">\n",
       "  <thead>\n",
       "    <tr style=\"text-align: right;\">\n",
       "      <th></th>\n",
       "      <th>radius</th>\n",
       "      <th>diameter</th>\n",
       "      <th>densities</th>\n",
       "      <th>number_of_edges</th>\n",
       "      <th>average_clustering</th>\n",
       "      <th>avg_degree_centrality</th>\n",
       "      <th>avg_betweenness_centrality</th>\n",
       "      <th>avg_closeness_centrality</th>\n",
       "      <th>average_shortest_path_length</th>\n",
       "    </tr>\n",
       "  </thead>\n",
       "  <tbody>\n",
       "    <tr>\n",
       "      <th>0</th>\n",
       "      <td>2</td>\n",
       "      <td>3</td>\n",
       "      <td>0.641546</td>\n",
       "      <td>664</td>\n",
       "      <td>0.789876</td>\n",
       "      <td>0.641546</td>\n",
       "      <td>0.008213</td>\n",
       "      <td>0.75274</td>\n",
       "      <td>1.361353</td>\n",
       "    </tr>\n",
       "  </tbody>\n",
       "</table>\n",
       "</div>"
      ],
      "text/plain": [
       "   radius  diameter  densities  number_of_edges  average_clustering  \\\n",
       "0       2         3   0.641546              664            0.789876   \n",
       "\n",
       "   avg_degree_centrality  avg_betweenness_centrality  \\\n",
       "0               0.641546                    0.008213   \n",
       "\n",
       "   avg_closeness_centrality  average_shortest_path_length  \n",
       "0                   0.75274                      1.361353  "
      ]
     },
     "execution_count": 44,
     "metadata": {},
     "output_type": "execute_result"
    }
   ],
   "source": [
    "nm.get_network_features(pearson_network_ThreeReg_Ox_2)"
   ]
  },
  {
   "cell_type": "code",
   "execution_count": 45,
   "id": "85462b02-3acc-44c2-9403-643d254a9698",
   "metadata": {},
   "outputs": [
    {
     "data": {
      "text/plain": [
       "array({'Brent Oil': 8, 'Euro': 10, 'Mansojat': 10, 'M1': 10, 'Gold': 10, 'GDP': 11, 'Coin': 12, 'HOUSE': 12, 'CoalMining': 14, 'CPI': 19, 'M2': 19, 'HamlVaNaghl': 19, 'AbzaralatePezeshki': 24, 'USD': 27, 'EntesharVaChap': 27, 'Agriculture': 33, 'VasayelErtebati': 33, 'MahsolateFelezi': 34, 'SayerMadan': 34, 'FaravardehayeNafti': 34, 'Lastic': 34, 'KashiVaSeramik': 34, 'SarmayeGozari': 34, 'FaniVaMohandesi': 34, 'EstekrajeNaft': 35, 'paper': 35, 'MashinAlat': 35, 'GhandVaShekar': 35, 'ChandReshteSanati': 35, 'Daroee': 35, 'KanehayeGeyreFelezi': 35, 'Bimeh': 35, 'Amlakva': 35, 'Rayaneh': 35, 'Wood': 36, 'khodrosazi': 36, 'SayerMali': 36, 'KanehayeFelezi': 36, 'index': 37, 'FelezateAsasi': 37, 'DastgahayeBargi': 37, 'Shimiyaee': 37, 'Siman': 37, 'Mali': 37, 'GazaeeBejozGhand': 38, 'Bank': 38},\n",
       "      dtype=object)"
      ]
     },
     "execution_count": 45,
     "metadata": {},
     "output_type": "execute_result"
    }
   ],
   "source": [
    "b21_2 = dict(nx.degree(pearson_network_ThreeReg_Ox_2))\n",
    "b21_2 = np.array(dict(sorted(b21_2.items(), key=lambda item: item[1])))\n",
    "b21_2"
   ]
  },
  {
   "cell_type": "code",
   "execution_count": 46,
   "id": "7699dbfc-a0ec-4589-9a51-50588a39eebd",
   "metadata": {},
   "outputs": [],
   "source": [
    "nm.get_network_features(pearson_network_ThreeReg_Ox_2).to_csv('Excels/21_2.csv')"
   ]
  },
  {
   "cell_type": "code",
   "execution_count": 47,
   "id": "4d13b684-95df-4dd0-96df-21d544ae84d0",
   "metadata": {},
   "outputs": [],
   "source": [
    "pearson_network_ThreeReg_Ox_3 = nm.construct_network(tehran_df_ThreeReg_Ox_3_same_length, method='pearson', threshold=thr21)"
   ]
  },
  {
   "cell_type": "code",
   "execution_count": 48,
   "id": "a1fc2ea4-51bd-4834-b3d0-83787f58fed0",
   "metadata": {},
   "outputs": [
    {
     "data": {
      "text/html": [
       "<div>\n",
       "<style scoped>\n",
       "    .dataframe tbody tr th:only-of-type {\n",
       "        vertical-align: middle;\n",
       "    }\n",
       "\n",
       "    .dataframe tbody tr th {\n",
       "        vertical-align: top;\n",
       "    }\n",
       "\n",
       "    .dataframe thead th {\n",
       "        text-align: right;\n",
       "    }\n",
       "</style>\n",
       "<table border=\"1\" class=\"dataframe\">\n",
       "  <thead>\n",
       "    <tr style=\"text-align: right;\">\n",
       "      <th></th>\n",
       "      <th>radius</th>\n",
       "      <th>diameter</th>\n",
       "      <th>densities</th>\n",
       "      <th>number_of_edges</th>\n",
       "      <th>average_clustering</th>\n",
       "      <th>avg_degree_centrality</th>\n",
       "      <th>avg_betweenness_centrality</th>\n",
       "      <th>avg_closeness_centrality</th>\n",
       "      <th>average_shortest_path_length</th>\n",
       "    </tr>\n",
       "  </thead>\n",
       "  <tbody>\n",
       "    <tr>\n",
       "      <th>0</th>\n",
       "      <td>2</td>\n",
       "      <td>3</td>\n",
       "      <td>0.629952</td>\n",
       "      <td>652</td>\n",
       "      <td>0.809106</td>\n",
       "      <td>0.629952</td>\n",
       "      <td>0.008696</td>\n",
       "      <td>0.745223</td>\n",
       "      <td>1.382609</td>\n",
       "    </tr>\n",
       "  </tbody>\n",
       "</table>\n",
       "</div>"
      ],
      "text/plain": [
       "   radius  diameter  densities  number_of_edges  average_clustering  \\\n",
       "0       2         3   0.629952              652            0.809106   \n",
       "\n",
       "   avg_degree_centrality  avg_betweenness_centrality  \\\n",
       "0               0.629952                    0.008696   \n",
       "\n",
       "   avg_closeness_centrality  average_shortest_path_length  \n",
       "0                  0.745223                      1.382609  "
      ]
     },
     "execution_count": 48,
     "metadata": {},
     "output_type": "execute_result"
    }
   ],
   "source": [
    "nm.get_network_features(pearson_network_ThreeReg_Ox_3)"
   ]
  },
  {
   "cell_type": "code",
   "execution_count": 49,
   "id": "f18f31f3-df4c-4287-b441-b807ec51f1fa",
   "metadata": {},
   "outputs": [
    {
     "data": {
      "text/plain": [
       "array({'AbzaralatePezeshki': 3, 'FaravardehayeNafti': 4, 'DastgahayeBargi': 5, 'Mali': 6, 'Brent Oil': 9, 'M1': 12, 'Coin': 14, 'GDP': 14, 'CPI': 15, 'CoalMining': 19, 'Gold': 21, 'HOUSE': 23, 'Euro': 25, 'Mansojat': 25, 'USD': 27, 'M2': 29, 'Wood': 30, 'VasayelErtebati': 31, 'Bank': 31, 'EstekrajeNaft': 32, 'SayerMadan': 32, 'paper': 33, 'EntesharVaChap': 33, 'HamlVaNaghl': 33, 'Lastic': 34, 'MashinAlat': 34, 'FaniVaMohandesi': 34, 'MahsolateFelezi': 35, 'KashiVaSeramik': 35, 'SayerMali': 35, 'Bimeh': 35, 'Amlakva': 35, 'Rayaneh': 35, 'KanehayeFelezi': 35, 'khodrosazi': 36, 'SarmayeGozari': 36, 'Agriculture': 37, 'FelezateAsasi': 37, 'GhandVaShekar': 37, 'Siman': 37, 'index': 38, 'GazaeeBejozGhand': 38, 'Shimiyaee': 38, 'KanehayeGeyreFelezi': 38, 'Daroee': 39, 'ChandReshteSanati': 40},\n",
       "      dtype=object)"
      ]
     },
     "execution_count": 49,
     "metadata": {},
     "output_type": "execute_result"
    }
   ],
   "source": [
    "b21_3 = dict(nx.degree(pearson_network_ThreeReg_Ox_3))\n",
    "b21_3 = np.array(dict(sorted(b21_3.items(), key=lambda item: item[1])))\n",
    "b21_3"
   ]
  },
  {
   "cell_type": "code",
   "execution_count": 50,
   "id": "fa798467-da33-4095-b22a-c28d243511ee",
   "metadata": {},
   "outputs": [],
   "source": [
    "nm.get_network_features(pearson_network_ThreeReg_Ox_3).to_csv('Excels/21_3.csv')"
   ]
  },
  {
   "cell_type": "markdown",
   "id": "b05030f8-b42d-4d1f-8645-47d5b0edb233",
   "metadata": {},
   "source": [
    "# 22) Tehran 3 Regime Pearson (Based on Median Threshold) Period of 90 Far - 98 Dey/ Last 100 Records"
   ]
  },
  {
   "cell_type": "code",
   "execution_count": 51,
   "id": "e790947c-68a2-46c8-a8db-1fc217d7f8d5",
   "metadata": {},
   "outputs": [],
   "source": [
    "thr22_1 = nm.find_median_pearson_threshold(tehran_df_ThreeReg_Ox_1_same_length_98[-100:])\n",
    "thr22_2 = nm.find_median_pearson_threshold(tehran_df_ThreeReg_Ox_2_same_length_98[-100:])\n",
    "thr22_3 = nm.find_median_pearson_threshold(tehran_df_ThreeReg_Ox_3_same_length_98[-100:])\n",
    "\n",
    "thr22 = min(thr22_1, thr22_2, thr22_3)"
   ]
  },
  {
   "cell_type": "code",
   "execution_count": 52,
   "id": "c69fadc7-1297-4639-a8a5-16099a655ec5",
   "metadata": {},
   "outputs": [],
   "source": [
    "pearson_network_ThreeReg_Ox_1_98_last100 = nm.construct_network(tehran_df_ThreeReg_Ox_1_same_length_98[-100:], method='pearson', threshold=thr22)"
   ]
  },
  {
   "cell_type": "code",
   "execution_count": 53,
   "id": "633f0858-7676-498c-8693-ef777c524487",
   "metadata": {},
   "outputs": [
    {
     "data": {
      "text/html": [
       "<div>\n",
       "<style scoped>\n",
       "    .dataframe tbody tr th:only-of-type {\n",
       "        vertical-align: middle;\n",
       "    }\n",
       "\n",
       "    .dataframe tbody tr th {\n",
       "        vertical-align: top;\n",
       "    }\n",
       "\n",
       "    .dataframe thead th {\n",
       "        text-align: right;\n",
       "    }\n",
       "</style>\n",
       "<table border=\"1\" class=\"dataframe\">\n",
       "  <thead>\n",
       "    <tr style=\"text-align: right;\">\n",
       "      <th></th>\n",
       "      <th>radius</th>\n",
       "      <th>diameter</th>\n",
       "      <th>densities</th>\n",
       "      <th>number_of_edges</th>\n",
       "      <th>average_clustering</th>\n",
       "      <th>avg_degree_centrality</th>\n",
       "      <th>avg_betweenness_centrality</th>\n",
       "      <th>avg_closeness_centrality</th>\n",
       "      <th>average_shortest_path_length</th>\n",
       "    </tr>\n",
       "  </thead>\n",
       "  <tbody>\n",
       "    <tr>\n",
       "      <th>0</th>\n",
       "      <td>2</td>\n",
       "      <td>3</td>\n",
       "      <td>0.559596</td>\n",
       "      <td>554</td>\n",
       "      <td>0.710515</td>\n",
       "      <td>0.559596</td>\n",
       "      <td>0.010782</td>\n",
       "      <td>0.701225</td>\n",
       "      <td>1.463636</td>\n",
       "    </tr>\n",
       "  </tbody>\n",
       "</table>\n",
       "</div>"
      ],
      "text/plain": [
       "   radius  diameter  densities  number_of_edges  average_clustering  \\\n",
       "0       2         3   0.559596              554            0.710515   \n",
       "\n",
       "   avg_degree_centrality  avg_betweenness_centrality  \\\n",
       "0               0.559596                    0.010782   \n",
       "\n",
       "   avg_closeness_centrality  average_shortest_path_length  \n",
       "0                  0.701225                      1.463636  "
      ]
     },
     "execution_count": 53,
     "metadata": {},
     "output_type": "execute_result"
    }
   ],
   "source": [
    "nm.get_network_features(pearson_network_ThreeReg_Ox_1_98_last100)"
   ]
  },
  {
   "cell_type": "code",
   "execution_count": 54,
   "id": "9a254550-f065-48ca-acb4-812dd613d994",
   "metadata": {},
   "outputs": [
    {
     "data": {
      "text/plain": [
       "array({'FaravardehayeNafti': 1, 'Euro': 7, 'GDP': 8, 'CPI': 8, 'USD': 9, 'Coin': 9, 'M2': 12, 'Brent Oil': 12, 'DastgahayeBargi': 13, 'Gold': 13, 'CoalMining': 15, 'HOUSE': 15, 'M1': 21, 'EntesharVaChap': 22, 'Shimiyaee': 23, 'FelezateAsasi': 24, 'VasayelErtebati': 25, 'SayerMadan': 27, 'Wood': 27, 'GhandVaShekar': 27, 'ChandReshteSanati': 27, 'Mansojat': 28, 'Agriculture': 29, 'FaniVaMohandesi': 29, 'SarmayeGozari': 30, 'Rayaneh': 30, 'EstekrajeNaft': 31, 'MahsolateFelezi': 31, 'paper': 31, 'khodrosazi': 31, 'Siman': 31, 'KanehayeGeyreFelezi': 31, 'Bank': 31, 'SayerMali': 31, 'KanehayeFelezi': 31, 'Lastic': 32, 'Bimeh': 32, 'index': 33, 'Daroee': 33, 'Mali': 33, 'MashinAlat': 34, 'GazaeeBejozGhand': 35, 'HamlVaNaghl': 35, 'Amlakva': 35, 'KashiVaSeramik': 36},\n",
       "      dtype=object)"
      ]
     },
     "execution_count": 54,
     "metadata": {},
     "output_type": "execute_result"
    }
   ],
   "source": [
    "b22_1 = dict(nx.degree(pearson_network_ThreeReg_Ox_1_98_last100))\n",
    "b22_1 = np.array(dict(sorted(b22_1.items(), key=lambda item: item[1])))\n",
    "b22_1"
   ]
  },
  {
   "cell_type": "code",
   "execution_count": 55,
   "id": "b96b95ab-ac53-4ae7-8a46-fa7a41c0b6e9",
   "metadata": {},
   "outputs": [],
   "source": [
    "nm.get_network_features(pearson_network_ThreeReg_Ox_1_98_last100).to_csv('Excels/22_1.csv')"
   ]
  },
  {
   "cell_type": "code",
   "execution_count": 56,
   "id": "31263623-f303-499c-9c38-b03c620f0ccb",
   "metadata": {},
   "outputs": [],
   "source": [
    "pearson_network_ThreeReg_Ox_2_98_last100 = nm.construct_network(tehran_df_ThreeReg_Ox_2_same_length_98[-100:], method='pearson', threshold=thr22)"
   ]
  },
  {
   "cell_type": "code",
   "execution_count": 57,
   "id": "01f032cb-b351-4d35-b7bc-e61cab22d80c",
   "metadata": {},
   "outputs": [
    {
     "data": {
      "text/html": [
       "<div>\n",
       "<style scoped>\n",
       "    .dataframe tbody tr th:only-of-type {\n",
       "        vertical-align: middle;\n",
       "    }\n",
       "\n",
       "    .dataframe tbody tr th {\n",
       "        vertical-align: top;\n",
       "    }\n",
       "\n",
       "    .dataframe thead th {\n",
       "        text-align: right;\n",
       "    }\n",
       "</style>\n",
       "<table border=\"1\" class=\"dataframe\">\n",
       "  <thead>\n",
       "    <tr style=\"text-align: right;\">\n",
       "      <th></th>\n",
       "      <th>radius</th>\n",
       "      <th>diameter</th>\n",
       "      <th>densities</th>\n",
       "      <th>number_of_edges</th>\n",
       "      <th>average_clustering</th>\n",
       "      <th>avg_degree_centrality</th>\n",
       "      <th>avg_betweenness_centrality</th>\n",
       "      <th>avg_closeness_centrality</th>\n",
       "      <th>average_shortest_path_length</th>\n",
       "    </tr>\n",
       "  </thead>\n",
       "  <tbody>\n",
       "    <tr>\n",
       "      <th>0</th>\n",
       "      <td>2</td>\n",
       "      <td>3</td>\n",
       "      <td>0.578744</td>\n",
       "      <td>599</td>\n",
       "      <td>0.751623</td>\n",
       "      <td>0.578744</td>\n",
       "      <td>0.009838</td>\n",
       "      <td>0.717645</td>\n",
       "      <td>1.43285</td>\n",
       "    </tr>\n",
       "  </tbody>\n",
       "</table>\n",
       "</div>"
      ],
      "text/plain": [
       "   radius  diameter  densities  number_of_edges  average_clustering  \\\n",
       "0       2         3   0.578744              599            0.751623   \n",
       "\n",
       "   avg_degree_centrality  avg_betweenness_centrality  \\\n",
       "0               0.578744                    0.009838   \n",
       "\n",
       "   avg_closeness_centrality  average_shortest_path_length  \n",
       "0                  0.717645                       1.43285  "
      ]
     },
     "execution_count": 57,
     "metadata": {},
     "output_type": "execute_result"
    }
   ],
   "source": [
    "nm.get_network_features(pearson_network_ThreeReg_Ox_2_98_last100)"
   ]
  },
  {
   "cell_type": "code",
   "execution_count": 58,
   "id": "50beb2ba-340b-4d14-b388-f8aa9b8894ec",
   "metadata": {},
   "outputs": [
    {
     "data": {
      "text/plain": [
       "array({'Gold': 3, 'Coin': 7, 'Euro': 7, 'Mansojat': 7, 'HOUSE': 9, 'CoalMining': 10, 'M1': 10, 'AbzaralatePezeshki': 11, 'M2': 11, 'Brent Oil': 12, 'CPI': 12, 'GDP': 12, 'USD': 19, 'paper': 22, 'EntesharVaChap': 24, 'Bank': 27, 'Agriculture': 28, 'Daroee': 30, 'Mali': 30, 'KashiVaSeramik': 31, 'Rayaneh': 31, 'Wood': 32, 'ChandReshteSanati': 32, 'Shimiyaee': 32, 'FaniVaMohandesi': 32, 'index': 33, 'FaravardehayeNafti': 33, 'VasayelErtebati': 33, 'KanehayeGeyreFelezi': 33, 'SarmayeGozari': 33, 'HamlVaNaghl': 33, 'Bimeh': 33, 'Amlakva': 33, 'EstekrajeNaft': 34, 'MahsolateFelezi': 34, 'SayerMadan': 34, 'Lastic': 34, 'DastgahayeBargi': 34, 'GazaeeBejozGhand': 34, 'FelezateAsasi': 35, 'MashinAlat': 35, 'SayerMali': 35, 'KanehayeFelezi': 35, 'GhandVaShekar': 36, 'Siman': 36, 'khodrosazi': 37},\n",
       "      dtype=object)"
      ]
     },
     "execution_count": 58,
     "metadata": {},
     "output_type": "execute_result"
    }
   ],
   "source": [
    "b22_2 = dict(nx.degree(pearson_network_ThreeReg_Ox_2_98_last100))\n",
    "b22_2 = np.array(dict(sorted(b22_2.items(), key=lambda item: item[1])))\n",
    "b22_2"
   ]
  },
  {
   "cell_type": "code",
   "execution_count": 60,
   "id": "ac89c94b-5b24-4304-a8cf-bc3da1091b51",
   "metadata": {},
   "outputs": [],
   "source": [
    "nm.get_network_features(pearson_network_ThreeReg_Ox_2_98_last100).to_csv('Excels/22_2.csv')"
   ]
  },
  {
   "cell_type": "code",
   "execution_count": 61,
   "id": "1b45b4bb-a4ee-43b3-afa5-1ec5e9bc8264",
   "metadata": {},
   "outputs": [],
   "source": [
    "pearson_network_ThreeReg_Ox_3_98_last100 = nm.construct_network(tehran_df_ThreeReg_Ox_3_same_length_98[-100:], method='pearson', threshold=thr22)"
   ]
  },
  {
   "cell_type": "code",
   "execution_count": 62,
   "id": "7a942557-b077-41b7-a075-b2b255270b76",
   "metadata": {},
   "outputs": [
    {
     "data": {
      "text/html": [
       "<div>\n",
       "<style scoped>\n",
       "    .dataframe tbody tr th:only-of-type {\n",
       "        vertical-align: middle;\n",
       "    }\n",
       "\n",
       "    .dataframe tbody tr th {\n",
       "        vertical-align: top;\n",
       "    }\n",
       "\n",
       "    .dataframe thead th {\n",
       "        text-align: right;\n",
       "    }\n",
       "</style>\n",
       "<table border=\"1\" class=\"dataframe\">\n",
       "  <thead>\n",
       "    <tr style=\"text-align: right;\">\n",
       "      <th></th>\n",
       "      <th>radius</th>\n",
       "      <th>diameter</th>\n",
       "      <th>densities</th>\n",
       "      <th>number_of_edges</th>\n",
       "      <th>average_clustering</th>\n",
       "      <th>avg_degree_centrality</th>\n",
       "      <th>avg_betweenness_centrality</th>\n",
       "      <th>avg_closeness_centrality</th>\n",
       "      <th>average_shortest_path_length</th>\n",
       "    </tr>\n",
       "  </thead>\n",
       "  <tbody>\n",
       "    <tr>\n",
       "      <th>0</th>\n",
       "      <td>2</td>\n",
       "      <td>3</td>\n",
       "      <td>0.580808</td>\n",
       "      <td>575</td>\n",
       "      <td>0.784077</td>\n",
       "      <td>0.580808</td>\n",
       "      <td>0.010101</td>\n",
       "      <td>0.717698</td>\n",
       "      <td>1.434343</td>\n",
       "    </tr>\n",
       "  </tbody>\n",
       "</table>\n",
       "</div>"
      ],
      "text/plain": [
       "   radius  diameter  densities  number_of_edges  average_clustering  \\\n",
       "0       2         3   0.580808              575            0.784077   \n",
       "\n",
       "   avg_degree_centrality  avg_betweenness_centrality  \\\n",
       "0               0.580808                    0.010101   \n",
       "\n",
       "   avg_closeness_centrality  average_shortest_path_length  \n",
       "0                  0.717698                      1.434343  "
      ]
     },
     "execution_count": 62,
     "metadata": {},
     "output_type": "execute_result"
    }
   ],
   "source": [
    "nm.get_network_features(pearson_network_ThreeReg_Ox_3_98_last100)"
   ]
  },
  {
   "cell_type": "code",
   "execution_count": 63,
   "id": "85550757-0f41-4d4b-b488-ff1f84cb3213",
   "metadata": {},
   "outputs": [
    {
     "data": {
      "text/plain": [
       "array({'FaravardehayeNafti': 3, 'DastgahayeBargi': 3, 'Brent Oil': 7, 'M2': 7, 'CPI': 8, 'Coin': 8, 'USD': 9, 'HOUSE': 9, 'Gold': 12, 'M1': 13, 'Euro': 14, 'CoalMining': 21, 'SayerMadan': 23, 'EntesharVaChap': 24, 'Mansojat': 26, 'Bank': 26, 'GDP': 28, 'VasayelErtebati': 28, 'Agriculture': 29, 'EstekrajeNaft': 30, 'khodrosazi': 30, 'Rayaneh': 30, 'paper': 31, 'ChandReshteSanati': 31, 'Shimiyaee': 31, 'Amlakva': 31, 'FaniVaMohandesi': 31, 'Wood': 32, 'Daroee': 32, 'HamlVaNaghl': 32, 'Mali': 32, 'KanehayeFelezi': 32, 'MahsolateFelezi': 33, 'FelezateAsasi': 33, 'KashiVaSeramik': 33, 'KanehayeGeyreFelezi': 33, 'MashinAlat': 34, 'GhandVaShekar': 34, 'Siman': 34, 'Lastic': 35, 'GazaeeBejozGhand': 35, 'SarmayeGozari': 35, 'index': 36, 'SayerMali': 36, 'Bimeh': 36},\n",
       "      dtype=object)"
      ]
     },
     "execution_count": 63,
     "metadata": {},
     "output_type": "execute_result"
    }
   ],
   "source": [
    "b22_3 = dict(nx.degree(pearson_network_ThreeReg_Ox_3_98_last100))\n",
    "b22_3 = np.array(dict(sorted(b22_3.items(), key=lambda item: item[1])))\n",
    "b22_3"
   ]
  },
  {
   "cell_type": "code",
   "execution_count": 64,
   "id": "3d27a4ad-1e0a-47ae-b893-3a6dc4807f4c",
   "metadata": {},
   "outputs": [],
   "source": [
    "nm.get_network_features(pearson_network_ThreeReg_Ox_3_98_last100).to_csv('Excels/22_3.csv')"
   ]
  },
  {
   "cell_type": "markdown",
   "id": "a02ecf54-48bc-4b00-9fb1-eb60a04acc06",
   "metadata": {},
   "source": [
    "# 23) Tehran 3 Regime Pearson (Based on Median Threshold) Period of 90 Far - 98 Dey/ 50 windows of 100 Records"
   ]
  },
  {
   "cell_type": "code",
   "execution_count": 66,
   "id": "cbd2e661-21a1-45b8-a52b-019cbe23826c",
   "metadata": {
    "tags": []
   },
   "outputs": [
    {
     "name": "stdout",
     "output_type": "stream",
     "text": [
      "Number of columns data in our DataFrame is = 46\n",
      "fixed_thr= 0.12308746817888185\n"
     ]
    }
   ],
   "source": [
    "nm = Net_moduls()\n",
    "pearson_network_ThreeReg_Ox_1_98_averged = nm.get_network_features_averaged_median(tehran_df, regimes_column = tehran_df_reg.iloc[:-300]['Ox_3'],method='pearson',edges_threshold=200, target_window=100, target_length=50)"
   ]
  },
  {
   "cell_type": "code",
   "execution_count": 68,
   "id": "96a1b19a-0d2e-4962-afc3-9fca7c40adb8",
   "metadata": {},
   "outputs": [
    {
     "data": {
      "text/html": [
       "<div>\n",
       "<style scoped>\n",
       "    .dataframe tbody tr th:only-of-type {\n",
       "        vertical-align: middle;\n",
       "    }\n",
       "\n",
       "    .dataframe tbody tr th {\n",
       "        vertical-align: top;\n",
       "    }\n",
       "\n",
       "    .dataframe thead th {\n",
       "        text-align: right;\n",
       "    }\n",
       "</style>\n",
       "<table border=\"1\" class=\"dataframe\">\n",
       "  <thead>\n",
       "    <tr style=\"text-align: right;\">\n",
       "      <th></th>\n",
       "      <th>radius</th>\n",
       "      <th>diameter</th>\n",
       "      <th>densities</th>\n",
       "      <th>number_of_edges</th>\n",
       "      <th>average_clustering</th>\n",
       "      <th>avg_degree_centrality</th>\n",
       "      <th>avg_betweenness_centrality</th>\n",
       "      <th>avg_closeness_centrality</th>\n",
       "      <th>average_shortest_path_length</th>\n",
       "    </tr>\n",
       "  </thead>\n",
       "  <tbody>\n",
       "    <tr>\n",
       "      <th>Means</th>\n",
       "      <td>2.0</td>\n",
       "      <td>3.020000</td>\n",
       "      <td>0.557859</td>\n",
       "      <td>552.280000</td>\n",
       "      <td>0.700219</td>\n",
       "      <td>0.557859</td>\n",
       "      <td>0.010654</td>\n",
       "      <td>0.701942</td>\n",
       "      <td>1.458141</td>\n",
       "    </tr>\n",
       "    <tr>\n",
       "      <th>STDs</th>\n",
       "      <td>0.0</td>\n",
       "      <td>0.141421</td>\n",
       "      <td>0.024371</td>\n",
       "      <td>24.127248</td>\n",
       "      <td>0.020379</td>\n",
       "      <td>0.024371</td>\n",
       "      <td>0.000790</td>\n",
       "      <td>0.014884</td>\n",
       "      <td>0.033958</td>\n",
       "    </tr>\n",
       "    <tr>\n",
       "      <th>Means</th>\n",
       "      <td>2.0</td>\n",
       "      <td>3.000000</td>\n",
       "      <td>0.576599</td>\n",
       "      <td>596.780000</td>\n",
       "      <td>0.737695</td>\n",
       "      <td>0.576599</td>\n",
       "      <td>0.009835</td>\n",
       "      <td>0.715050</td>\n",
       "      <td>1.432754</td>\n",
       "    </tr>\n",
       "    <tr>\n",
       "      <th>STDs</th>\n",
       "      <td>0.0</td>\n",
       "      <td>0.000000</td>\n",
       "      <td>0.018296</td>\n",
       "      <td>18.936295</td>\n",
       "      <td>0.017805</td>\n",
       "      <td>0.018296</td>\n",
       "      <td>0.000448</td>\n",
       "      <td>0.010393</td>\n",
       "      <td>0.019702</td>\n",
       "    </tr>\n",
       "    <tr>\n",
       "      <th>Means</th>\n",
       "      <td>2.0</td>\n",
       "      <td>2.900000</td>\n",
       "      <td>0.640444</td>\n",
       "      <td>634.040000</td>\n",
       "      <td>0.811652</td>\n",
       "      <td>0.640444</td>\n",
       "      <td>0.008623</td>\n",
       "      <td>0.751289</td>\n",
       "      <td>1.370788</td>\n",
       "    </tr>\n",
       "    <tr>\n",
       "      <th>STDs</th>\n",
       "      <td>0.0</td>\n",
       "      <td>0.364216</td>\n",
       "      <td>0.050551</td>\n",
       "      <td>50.045677</td>\n",
       "      <td>0.025876</td>\n",
       "      <td>0.050551</td>\n",
       "      <td>0.001256</td>\n",
       "      <td>0.028309</td>\n",
       "      <td>0.053997</td>\n",
       "    </tr>\n",
       "  </tbody>\n",
       "</table>\n",
       "</div>"
      ],
      "text/plain": [
       "       radius  diameter  densities  number_of_edges  average_clustering  \\\n",
       "Means     2.0  3.020000   0.557859       552.280000            0.700219   \n",
       "STDs      0.0  0.141421   0.024371        24.127248            0.020379   \n",
       "Means     2.0  3.000000   0.576599       596.780000            0.737695   \n",
       "STDs      0.0  0.000000   0.018296        18.936295            0.017805   \n",
       "Means     2.0  2.900000   0.640444       634.040000            0.811652   \n",
       "STDs      0.0  0.364216   0.050551        50.045677            0.025876   \n",
       "\n",
       "       avg_degree_centrality  avg_betweenness_centrality  \\\n",
       "Means               0.557859                    0.010654   \n",
       "STDs                0.024371                    0.000790   \n",
       "Means               0.576599                    0.009835   \n",
       "STDs                0.018296                    0.000448   \n",
       "Means               0.640444                    0.008623   \n",
       "STDs                0.050551                    0.001256   \n",
       "\n",
       "       avg_closeness_centrality  average_shortest_path_length  \n",
       "Means                  0.701942                      1.458141  \n",
       "STDs                   0.014884                      0.033958  \n",
       "Means                  0.715050                      1.432754  \n",
       "STDs                   0.010393                      0.019702  \n",
       "Means                  0.751289                      1.370788  \n",
       "STDs                   0.028309                      0.053997  "
      ]
     },
     "execution_count": 68,
     "metadata": {},
     "output_type": "execute_result"
    }
   ],
   "source": [
    "pearson_network_ThreeReg_Ox_1_98_averged"
   ]
  },
  {
   "cell_type": "code",
   "execution_count": 72,
   "id": "ae8e7a39-726c-4b08-aa96-8fdec60452a7",
   "metadata": {},
   "outputs": [],
   "source": [
    "pearson_network_ThreeReg_Ox_1_98_averged.to_csv('Excels/23.csv')"
   ]
  },
  {
   "cell_type": "markdown",
   "id": "ca4044a7-b65c-4b82-961d-2df80629ea44",
   "metadata": {},
   "source": [
    "# 24) Tehran 3 Regime Pearson (Based on Median Threshold) Period of 90 Far - 00 Far/ 50 windows of 100 Records"
   ]
  },
  {
   "cell_type": "code",
   "execution_count": 70,
   "id": "5b27b703-df04-45b5-87ff-bd2bbbd9dd80",
   "metadata": {
    "tags": []
   },
   "outputs": [
    {
     "name": "stdout",
     "output_type": "stream",
     "text": [
      "Number of columns data in our DataFrame is = 46\n",
      "fixed_thr= 0.11082580645788448\n"
     ]
    }
   ],
   "source": [
    "nm = Net_moduls()\n",
    "pearson_network_ThreeReg_Ox_90_00_averged = nm.get_network_features_averaged_median(tehran_df_completeDates, regimes_column= tehran_df_reg['Ox_3'],method='pearson',edges_threshold=200, target_window=100, target_length=50)"
   ]
  },
  {
   "cell_type": "code",
   "execution_count": 71,
   "id": "c23bef64-f35c-43f7-a4a8-938b953eeb3f",
   "metadata": {},
   "outputs": [
    {
     "data": {
      "text/html": [
       "<div>\n",
       "<style scoped>\n",
       "    .dataframe tbody tr th:only-of-type {\n",
       "        vertical-align: middle;\n",
       "    }\n",
       "\n",
       "    .dataframe tbody tr th {\n",
       "        vertical-align: top;\n",
       "    }\n",
       "\n",
       "    .dataframe thead th {\n",
       "        text-align: right;\n",
       "    }\n",
       "</style>\n",
       "<table border=\"1\" class=\"dataframe\">\n",
       "  <thead>\n",
       "    <tr style=\"text-align: right;\">\n",
       "      <th></th>\n",
       "      <th>radius</th>\n",
       "      <th>diameter</th>\n",
       "      <th>densities</th>\n",
       "      <th>number_of_edges</th>\n",
       "      <th>average_clustering</th>\n",
       "      <th>avg_degree_centrality</th>\n",
       "      <th>avg_betweenness_centrality</th>\n",
       "      <th>avg_closeness_centrality</th>\n",
       "      <th>average_shortest_path_length</th>\n",
       "    </tr>\n",
       "  </thead>\n",
       "  <tbody>\n",
       "    <tr>\n",
       "      <th>Means</th>\n",
       "      <td>2.0</td>\n",
       "      <td>3.0</td>\n",
       "      <td>0.568222</td>\n",
       "      <td>562.540000</td>\n",
       "      <td>0.733211</td>\n",
       "      <td>0.568222</td>\n",
       "      <td>0.010364</td>\n",
       "      <td>0.709731</td>\n",
       "      <td>1.445657</td>\n",
       "    </tr>\n",
       "    <tr>\n",
       "      <th>STDs</th>\n",
       "      <td>0.0</td>\n",
       "      <td>0.0</td>\n",
       "      <td>0.017543</td>\n",
       "      <td>17.367822</td>\n",
       "      <td>0.010317</td>\n",
       "      <td>0.017543</td>\n",
       "      <td>0.000473</td>\n",
       "      <td>0.009015</td>\n",
       "      <td>0.020355</td>\n",
       "    </tr>\n",
       "    <tr>\n",
       "      <th>Means</th>\n",
       "      <td>2.0</td>\n",
       "      <td>3.0</td>\n",
       "      <td>0.618998</td>\n",
       "      <td>638.940000</td>\n",
       "      <td>0.772042</td>\n",
       "      <td>0.618998</td>\n",
       "      <td>0.008813</td>\n",
       "      <td>0.739637</td>\n",
       "      <td>1.387246</td>\n",
       "    </tr>\n",
       "    <tr>\n",
       "      <th>STDs</th>\n",
       "      <td>0.0</td>\n",
       "      <td>0.0</td>\n",
       "      <td>0.009348</td>\n",
       "      <td>8.469417</td>\n",
       "      <td>0.020382</td>\n",
       "      <td>0.009348</td>\n",
       "      <td>0.000241</td>\n",
       "      <td>0.005415</td>\n",
       "      <td>0.011209</td>\n",
       "    </tr>\n",
       "    <tr>\n",
       "      <th>Means</th>\n",
       "      <td>2.0</td>\n",
       "      <td>3.0</td>\n",
       "      <td>0.663748</td>\n",
       "      <td>681.000000</td>\n",
       "      <td>0.780063</td>\n",
       "      <td>0.663748</td>\n",
       "      <td>0.007744</td>\n",
       "      <td>0.763368</td>\n",
       "      <td>1.339159</td>\n",
       "    </tr>\n",
       "    <tr>\n",
       "      <th>STDs</th>\n",
       "      <td>0.0</td>\n",
       "      <td>0.0</td>\n",
       "      <td>0.022461</td>\n",
       "      <td>26.048620</td>\n",
       "      <td>0.031513</td>\n",
       "      <td>0.022461</td>\n",
       "      <td>0.000510</td>\n",
       "      <td>0.013407</td>\n",
       "      <td>0.022249</td>\n",
       "    </tr>\n",
       "  </tbody>\n",
       "</table>\n",
       "</div>"
      ],
      "text/plain": [
       "       radius  diameter  densities  number_of_edges  average_clustering  \\\n",
       "Means     2.0       3.0   0.568222       562.540000            0.733211   \n",
       "STDs      0.0       0.0   0.017543        17.367822            0.010317   \n",
       "Means     2.0       3.0   0.618998       638.940000            0.772042   \n",
       "STDs      0.0       0.0   0.009348         8.469417            0.020382   \n",
       "Means     2.0       3.0   0.663748       681.000000            0.780063   \n",
       "STDs      0.0       0.0   0.022461        26.048620            0.031513   \n",
       "\n",
       "       avg_degree_centrality  avg_betweenness_centrality  \\\n",
       "Means               0.568222                    0.010364   \n",
       "STDs                0.017543                    0.000473   \n",
       "Means               0.618998                    0.008813   \n",
       "STDs                0.009348                    0.000241   \n",
       "Means               0.663748                    0.007744   \n",
       "STDs                0.022461                    0.000510   \n",
       "\n",
       "       avg_closeness_centrality  average_shortest_path_length  \n",
       "Means                  0.709731                      1.445657  \n",
       "STDs                   0.009015                      0.020355  \n",
       "Means                  0.739637                      1.387246  \n",
       "STDs                   0.005415                      0.011209  \n",
       "Means                  0.763368                      1.339159  \n",
       "STDs                   0.013407                      0.022249  "
      ]
     },
     "execution_count": 71,
     "metadata": {},
     "output_type": "execute_result"
    }
   ],
   "source": [
    "pearson_network_ThreeReg_Ox_90_00_averged"
   ]
  },
  {
   "cell_type": "code",
   "execution_count": 73,
   "id": "a6f0184a-bfbb-4ab0-8e71-ecda8c763189",
   "metadata": {},
   "outputs": [],
   "source": [
    "pearson_network_ThreeReg_Ox_90_00_averged.to_csv('Excels/24.csv')"
   ]
  },
  {
   "cell_type": "markdown",
   "id": "e60ea73a-74e9-4f7a-bae2-cca2c8d23a6d",
   "metadata": {},
   "source": [
    "# 25) Tehran 3 Regime Entropy (Based on Median Threshold) Period of 90 Far - 98 Dey"
   ]
  },
  {
   "cell_type": "code",
   "execution_count": 74,
   "id": "e492877e-54cb-48b4-b950-881c4b41f9e6",
   "metadata": {},
   "outputs": [],
   "source": [
    "nm = Net_moduls()"
   ]
  },
  {
   "cell_type": "code",
   "execution_count": 75,
   "id": "9d275cb4-7e72-4ca5-8c0a-d597346c0630",
   "metadata": {},
   "outputs": [],
   "source": [
    "thr25_1 = nm.find_median_entropy_threshold(tehran_df_ThreeReg_Ox_1_same_length_98)\n",
    "thr25_2 = nm.find_median_entropy_threshold(tehran_df_ThreeReg_Ox_2_same_length_98)\n",
    "thr25_3 = nm.find_median_entropy_threshold(tehran_df_ThreeReg_Ox_3_same_length_98)\n",
    "\n",
    "thr25 = min(thr25_1, thr25_2, thr25_3)"
   ]
  },
  {
   "cell_type": "code",
   "execution_count": 76,
   "id": "46ceab3a-58a0-425a-9bf6-95b4d5fcff9b",
   "metadata": {},
   "outputs": [],
   "source": [
    "entropy_network_ThreeReg_Ox_1_98 = nm.construct_network(tehran_df_ThreeReg_Ox_1_same_length_98, method='entropy', threshold=thr25)"
   ]
  },
  {
   "cell_type": "code",
   "execution_count": 77,
   "id": "941fa491-904f-4764-b2ba-8e3d356fbf06",
   "metadata": {},
   "outputs": [
    {
     "data": {
      "text/html": [
       "<div>\n",
       "<style scoped>\n",
       "    .dataframe tbody tr th:only-of-type {\n",
       "        vertical-align: middle;\n",
       "    }\n",
       "\n",
       "    .dataframe tbody tr th {\n",
       "        vertical-align: top;\n",
       "    }\n",
       "\n",
       "    .dataframe thead th {\n",
       "        text-align: right;\n",
       "    }\n",
       "</style>\n",
       "<table border=\"1\" class=\"dataframe\">\n",
       "  <thead>\n",
       "    <tr style=\"text-align: right;\">\n",
       "      <th></th>\n",
       "      <th>radius</th>\n",
       "      <th>diameter</th>\n",
       "      <th>densities</th>\n",
       "      <th>number_of_edges</th>\n",
       "      <th>average_clustering</th>\n",
       "      <th>avg_degree_centrality</th>\n",
       "      <th>avg_betweenness_centrality</th>\n",
       "      <th>avg_closeness_centrality</th>\n",
       "      <th>average_shortest_path_length</th>\n",
       "    </tr>\n",
       "  </thead>\n",
       "  <tbody>\n",
       "    <tr>\n",
       "      <th>0</th>\n",
       "      <td>2</td>\n",
       "      <td>2</td>\n",
       "      <td>0.743434</td>\n",
       "      <td>736</td>\n",
       "      <td>0.798539</td>\n",
       "      <td>0.743434</td>\n",
       "      <td>0.005967</td>\n",
       "      <td>0.805696</td>\n",
       "      <td>1.256566</td>\n",
       "    </tr>\n",
       "  </tbody>\n",
       "</table>\n",
       "</div>"
      ],
      "text/plain": [
       "   radius  diameter  densities  number_of_edges  average_clustering  \\\n",
       "0       2         2   0.743434              736            0.798539   \n",
       "\n",
       "   avg_degree_centrality  avg_betweenness_centrality  \\\n",
       "0               0.743434                    0.005967   \n",
       "\n",
       "   avg_closeness_centrality  average_shortest_path_length  \n",
       "0                  0.805696                      1.256566  "
      ]
     },
     "execution_count": 77,
     "metadata": {},
     "output_type": "execute_result"
    }
   ],
   "source": [
    "nm.get_network_features(entropy_network_ThreeReg_Ox_1_98)"
   ]
  },
  {
   "cell_type": "code",
   "execution_count": 78,
   "id": "d51a3266-6eb5-4059-b7dc-4d70bab35277",
   "metadata": {},
   "outputs": [
    {
     "data": {
      "text/plain": [
       "array({'Coin': 13, 'Euro': 16, 'M2': 17, 'USD': 20, 'Wood': 24, 'CPI': 26, 'paper': 27, 'Brent Oil': 27, 'Gold': 27, 'HOUSE': 29, 'EntesharVaChap': 30, 'M1': 31, 'FaniVaMohandesi': 31, 'GDP': 32, 'CoalMining': 32, 'Shimiyaee': 32, 'EstekrajeNaft': 33, 'MahsolateFelezi': 33, 'Mali': 33, 'Agriculture': 33, 'SayerMali': 33, 'Lastic': 34, 'DastgahayeBargi': 34, 'SarmayeGozari': 34, 'FaravardehayeNafti': 34, 'Bank': 35, 'ChandReshteSanati': 36, 'KanehayeFelezi': 36, 'SayerMadan': 36, 'khodrosazi': 36, 'index': 37, 'KashiVaSeramik': 37, 'Rayaneh': 37, 'FelezateAsasi': 38, 'MashinAlat': 38, 'GhandVaShekar': 38, 'GazaeeBejozGhand': 38, 'KanehayeGeyreFelezi': 38, 'Mansojat': 39, 'Daroee': 39, 'Siman': 39, 'HamlVaNaghl': 39, 'Amlakva': 39, 'VasayelErtebati': 40, 'Bimeh': 42},\n",
       "      dtype=object)"
      ]
     },
     "execution_count": 78,
     "metadata": {},
     "output_type": "execute_result"
    }
   ],
   "source": [
    "b25_1 = dict(nx.degree(entropy_network_ThreeReg_Ox_1_98))\n",
    "b25_1 = np.array(dict(sorted(b25_1.items(), key=lambda item: item[1])))\n",
    "b25_1"
   ]
  },
  {
   "cell_type": "code",
   "execution_count": 79,
   "id": "8bf8112c-8b10-44a9-9471-50ea50ee59f7",
   "metadata": {},
   "outputs": [],
   "source": [
    "nm.get_network_features(entropy_network_ThreeReg_Ox_1_98).to_csv('Excels/25_1.csv')"
   ]
  },
  {
   "cell_type": "code",
   "execution_count": 80,
   "id": "cbf0e964-26c0-4d37-bb65-911c0aae14bf",
   "metadata": {},
   "outputs": [],
   "source": [
    "entropy_network_ThreeReg_Ox_2_98 = nm.construct_network(tehran_df_ThreeReg_Ox_2_same_length_98, method='entropy', threshold=thr25)"
   ]
  },
  {
   "cell_type": "code",
   "execution_count": 81,
   "id": "70f7a9c6-46e1-40f6-8422-77df708e7fe9",
   "metadata": {},
   "outputs": [
    {
     "data": {
      "text/html": [
       "<div>\n",
       "<style scoped>\n",
       "    .dataframe tbody tr th:only-of-type {\n",
       "        vertical-align: middle;\n",
       "    }\n",
       "\n",
       "    .dataframe tbody tr th {\n",
       "        vertical-align: top;\n",
       "    }\n",
       "\n",
       "    .dataframe thead th {\n",
       "        text-align: right;\n",
       "    }\n",
       "</style>\n",
       "<table border=\"1\" class=\"dataframe\">\n",
       "  <thead>\n",
       "    <tr style=\"text-align: right;\">\n",
       "      <th></th>\n",
       "      <th>radius</th>\n",
       "      <th>diameter</th>\n",
       "      <th>densities</th>\n",
       "      <th>number_of_edges</th>\n",
       "      <th>average_clustering</th>\n",
       "      <th>avg_degree_centrality</th>\n",
       "      <th>avg_betweenness_centrality</th>\n",
       "      <th>avg_closeness_centrality</th>\n",
       "      <th>average_shortest_path_length</th>\n",
       "    </tr>\n",
       "  </thead>\n",
       "  <tbody>\n",
       "    <tr>\n",
       "      <th>0</th>\n",
       "      <td>2</td>\n",
       "      <td>2</td>\n",
       "      <td>0.78744</td>\n",
       "      <td>815</td>\n",
       "      <td>0.817031</td>\n",
       "      <td>0.78744</td>\n",
       "      <td>0.004831</td>\n",
       "      <td>0.831286</td>\n",
       "      <td>1.21256</td>\n",
       "    </tr>\n",
       "  </tbody>\n",
       "</table>\n",
       "</div>"
      ],
      "text/plain": [
       "   radius  diameter  densities  number_of_edges  average_clustering  \\\n",
       "0       2         2    0.78744              815            0.817031   \n",
       "\n",
       "   avg_degree_centrality  avg_betweenness_centrality  \\\n",
       "0                0.78744                    0.004831   \n",
       "\n",
       "   avg_closeness_centrality  average_shortest_path_length  \n",
       "0                  0.831286                       1.21256  "
      ]
     },
     "execution_count": 81,
     "metadata": {},
     "output_type": "execute_result"
    }
   ],
   "source": [
    "nm.get_network_features(entropy_network_ThreeReg_Ox_2_98)"
   ]
  },
  {
   "cell_type": "code",
   "execution_count": 82,
   "id": "2682eb07-d17f-4ce9-afa3-870666fae433",
   "metadata": {},
   "outputs": [
    {
     "data": {
      "text/plain": [
       "array({'Gold': 14, 'AbzaralatePezeshki': 24, 'Brent Oil': 28, 'M2': 28, 'Coin': 29, 'CPI': 30, 'GDP': 31, 'Euro': 33, 'FaniVaMohandesi': 33, 'GazaeeBejozGhand': 33, 'GhandVaShekar': 33, 'KanehayeGeyreFelezi': 33, 'SarmayeGozari': 34, 'DastgahayeBargi': 35, 'Daroee': 35, 'Amlakva': 35, 'Rayaneh': 35, 'M1': 35, 'SayerMadan': 35, 'Agriculture': 35, 'FelezateAsasi': 36, 'MashinAlat': 36, 'Shimiyaee': 36, 'Bank': 36, 'Mali': 36, 'KashiVaSeramik': 36, 'USD': 37, 'EstekrajeNaft': 37, 'EntesharVaChap': 37, 'khodrosazi': 37, 'SayerMali': 37, 'HamlVaNaghl': 37, 'HOUSE': 38, 'Bimeh': 38, 'Siman': 38, 'Wood': 39, 'MahsolateFelezi': 39, 'VasayelErtebati': 39, 'ChandReshteSanati': 40, 'KanehayeFelezi': 40, 'FaravardehayeNafti': 41, 'Lastic': 41, 'Mansojat': 42, 'paper': 42, 'CoalMining': 43, 'index': 44},\n",
       "      dtype=object)"
      ]
     },
     "execution_count": 82,
     "metadata": {},
     "output_type": "execute_result"
    }
   ],
   "source": [
    "b25_2 = dict(nx.degree(entropy_network_ThreeReg_Ox_2_98))\n",
    "b25_2 = np.array(dict(sorted(b25_2.items(), key=lambda item: item[1])))\n",
    "b25_2"
   ]
  },
  {
   "cell_type": "code",
   "execution_count": 83,
   "id": "a41160df-0ea6-4e28-9061-13e69443b192",
   "metadata": {},
   "outputs": [],
   "source": [
    "nm.get_network_features(entropy_network_ThreeReg_Ox_2_98).to_csv('Excels/25_2.csv')"
   ]
  },
  {
   "cell_type": "code",
   "execution_count": 84,
   "id": "079f5fcb-d714-44b4-ae69-688ddb80f166",
   "metadata": {},
   "outputs": [],
   "source": [
    "entropy_network_ThreeReg_Ox_3_98 = nm.construct_network(tehran_df_ThreeReg_Ox_3_same_length_98, method='entropy', threshold=thr25)"
   ]
  },
  {
   "cell_type": "code",
   "execution_count": 85,
   "id": "7581ee17-516f-42cc-bb03-3fd155d46f39",
   "metadata": {},
   "outputs": [
    {
     "data": {
      "text/html": [
       "<div>\n",
       "<style scoped>\n",
       "    .dataframe tbody tr th:only-of-type {\n",
       "        vertical-align: middle;\n",
       "    }\n",
       "\n",
       "    .dataframe tbody tr th {\n",
       "        vertical-align: top;\n",
       "    }\n",
       "\n",
       "    .dataframe thead th {\n",
       "        text-align: right;\n",
       "    }\n",
       "</style>\n",
       "<table border=\"1\" class=\"dataframe\">\n",
       "  <thead>\n",
       "    <tr style=\"text-align: right;\">\n",
       "      <th></th>\n",
       "      <th>radius</th>\n",
       "      <th>diameter</th>\n",
       "      <th>densities</th>\n",
       "      <th>number_of_edges</th>\n",
       "      <th>average_clustering</th>\n",
       "      <th>avg_degree_centrality</th>\n",
       "      <th>avg_betweenness_centrality</th>\n",
       "      <th>avg_closeness_centrality</th>\n",
       "      <th>average_shortest_path_length</th>\n",
       "    </tr>\n",
       "  </thead>\n",
       "  <tbody>\n",
       "    <tr>\n",
       "      <th>0</th>\n",
       "      <td>2</td>\n",
       "      <td>3</td>\n",
       "      <td>0.70628</td>\n",
       "      <td>731</td>\n",
       "      <td>0.7825</td>\n",
       "      <td>0.70628</td>\n",
       "      <td>0.006719</td>\n",
       "      <td>0.78306</td>\n",
       "      <td>1.295652</td>\n",
       "    </tr>\n",
       "  </tbody>\n",
       "</table>\n",
       "</div>"
      ],
      "text/plain": [
       "   radius  diameter  densities  number_of_edges  average_clustering  \\\n",
       "0       2         3    0.70628              731              0.7825   \n",
       "\n",
       "   avg_degree_centrality  avg_betweenness_centrality  \\\n",
       "0                0.70628                    0.006719   \n",
       "\n",
       "   avg_closeness_centrality  average_shortest_path_length  \n",
       "0                   0.78306                      1.295652  "
      ]
     },
     "execution_count": 85,
     "metadata": {},
     "output_type": "execute_result"
    }
   ],
   "source": [
    "nm.get_network_features(entropy_network_ThreeReg_Ox_3_98)"
   ]
  },
  {
   "cell_type": "code",
   "execution_count": 86,
   "id": "0b8b0014-381f-4200-8a17-989e14462395",
   "metadata": {},
   "outputs": [
    {
     "data": {
      "text/plain": [
       "array({'AbzaralatePezeshki': 2, 'Brent Oil': 17, 'M2': 17, 'Mansojat': 18, 'HOUSE': 20, 'M1': 22, 'Amlakva': 23, 'Wood': 27, 'KanehayeFelezi': 27, 'GhandVaShekar': 28, 'FelezateAsasi': 28, 'Gold': 29, 'Bank': 30, 'HamlVaNaghl': 31, 'Bimeh': 31, 'KashiVaSeramik': 32, 'Mali': 32, 'Siman': 32, 'EstekrajeNaft': 33, 'CPI': 33, 'index': 34, 'SayerMadan': 34, 'Lastic': 34, 'MahsolateFelezi': 34, 'GDP': 35, 'ChandReshteSanati': 35, 'GazaeeBejozGhand': 35, 'Daroee': 35, 'SarmayeGozari': 35, 'EntesharVaChap': 35, 'MashinAlat': 36, 'Coin': 37, 'Agriculture': 37, 'DastgahayeBargi': 37, 'VasayelErtebati': 37, 'Shimiyaee': 37, 'Rayaneh': 37, 'Euro': 38, 'USD': 38, 'FaravardehayeNafti': 38, 'KanehayeGeyreFelezi': 38, 'FaniVaMohandesi': 38, 'paper': 38, 'CoalMining': 39, 'khodrosazi': 39, 'SayerMali': 40},\n",
       "      dtype=object)"
      ]
     },
     "execution_count": 86,
     "metadata": {},
     "output_type": "execute_result"
    }
   ],
   "source": [
    "b25_3 = dict(nx.degree(entropy_network_ThreeReg_Ox_3_98))\n",
    "b25_3 = np.array(dict(sorted(b25_3.items(), key=lambda item: item[1])))\n",
    "b25_3"
   ]
  },
  {
   "cell_type": "code",
   "execution_count": 87,
   "id": "3270b5e3-4764-4499-a7a3-4141d10f2228",
   "metadata": {},
   "outputs": [],
   "source": [
    "nm.get_network_features(entropy_network_ThreeReg_Ox_3_98).to_csv('Excels/25_3.csv')"
   ]
  },
  {
   "cell_type": "markdown",
   "id": "c8933bda-597e-44bb-9353-04859c9aca1a",
   "metadata": {},
   "source": [
    "# 26) Tehran 3 Regime Entropy (Based on Median Threshold) Period of 90 Far - 00 Far"
   ]
  },
  {
   "cell_type": "code",
   "execution_count": 88,
   "id": "b61d3fbb-cda6-4b07-a427-6ec62654651c",
   "metadata": {},
   "outputs": [],
   "source": [
    "nm = Net_moduls()"
   ]
  },
  {
   "cell_type": "code",
   "execution_count": 89,
   "id": "b557e6d7-94a2-4f3d-a5eb-de2a3d426459",
   "metadata": {},
   "outputs": [],
   "source": [
    "thr26_1 = nm.find_median_entropy_threshold(tehran_df_ThreeReg_Ox_1_same_length)\n",
    "thr26_2 = nm.find_median_entropy_threshold(tehran_df_ThreeReg_Ox_2_same_length)\n",
    "thr26_3 = nm.find_median_entropy_threshold(tehran_df_ThreeReg_Ox_3_same_length)\n",
    "\n",
    "thr26 = min(thr26_1, thr26_2, thr26_3)"
   ]
  },
  {
   "cell_type": "code",
   "execution_count": 90,
   "id": "54b2e782-05b8-414c-b675-21f0c8d2f877",
   "metadata": {},
   "outputs": [],
   "source": [
    "entropy_network_ThreeReg_Ox_1 = nm.construct_network(tehran_df_ThreeReg_Ox_1_same_length, method='entropy', threshold=thr26)"
   ]
  },
  {
   "cell_type": "code",
   "execution_count": 91,
   "id": "371bfeb2-89bc-4418-84be-fa965dda1846",
   "metadata": {},
   "outputs": [
    {
     "data": {
      "text/html": [
       "<div>\n",
       "<style scoped>\n",
       "    .dataframe tbody tr th:only-of-type {\n",
       "        vertical-align: middle;\n",
       "    }\n",
       "\n",
       "    .dataframe tbody tr th {\n",
       "        vertical-align: top;\n",
       "    }\n",
       "\n",
       "    .dataframe thead th {\n",
       "        text-align: right;\n",
       "    }\n",
       "</style>\n",
       "<table border=\"1\" class=\"dataframe\">\n",
       "  <thead>\n",
       "    <tr style=\"text-align: right;\">\n",
       "      <th></th>\n",
       "      <th>radius</th>\n",
       "      <th>diameter</th>\n",
       "      <th>densities</th>\n",
       "      <th>number_of_edges</th>\n",
       "      <th>average_clustering</th>\n",
       "      <th>avg_degree_centrality</th>\n",
       "      <th>avg_betweenness_centrality</th>\n",
       "      <th>avg_closeness_centrality</th>\n",
       "      <th>average_shortest_path_length</th>\n",
       "    </tr>\n",
       "  </thead>\n",
       "  <tbody>\n",
       "    <tr>\n",
       "      <th>0</th>\n",
       "      <td>2</td>\n",
       "      <td>2</td>\n",
       "      <td>0.782828</td>\n",
       "      <td>775</td>\n",
       "      <td>0.83839</td>\n",
       "      <td>0.782828</td>\n",
       "      <td>0.005051</td>\n",
       "      <td>0.832915</td>\n",
       "      <td>1.217172</td>\n",
       "    </tr>\n",
       "  </tbody>\n",
       "</table>\n",
       "</div>"
      ],
      "text/plain": [
       "   radius  diameter  densities  number_of_edges  average_clustering  \\\n",
       "0       2         2   0.782828              775             0.83839   \n",
       "\n",
       "   avg_degree_centrality  avg_betweenness_centrality  \\\n",
       "0               0.782828                    0.005051   \n",
       "\n",
       "   avg_closeness_centrality  average_shortest_path_length  \n",
       "0                  0.832915                      1.217172  "
      ]
     },
     "execution_count": 91,
     "metadata": {},
     "output_type": "execute_result"
    }
   ],
   "source": [
    "nm.get_network_features(entropy_network_ThreeReg_Ox_1)"
   ]
  },
  {
   "cell_type": "code",
   "execution_count": 92,
   "id": "d0c4abcb-d6e3-44c1-aed5-418b202c65be",
   "metadata": {},
   "outputs": [
    {
     "data": {
      "text/plain": [
       "array({'Euro': 16, 'USD': 20, 'M2': 20, 'Coin': 22, 'Brent Oil': 23, 'M1': 23, 'CPI': 25, 'Gold': 27, 'GDP': 27, 'HOUSE': 30, 'Wood': 30, 'Lastic': 33, 'Siman': 34, 'SayerMali': 34, 'paper': 34, 'EntesharVaChap': 34, 'FaravardehayeNafti': 36, 'CoalMining': 37, 'EstekrajeNaft': 37, 'Mansojat': 37, 'MashinAlat': 37, 'ChandReshteSanati': 37, 'GazaeeBejozGhand': 37, 'KanehayeGeyreFelezi': 37, 'KanehayeFelezi': 37, 'khodrosazi': 37, 'DastgahayeBargi': 37, 'Mali': 37, 'SayerMadan': 38, 'VasayelErtebati': 38, 'Bank': 38, 'FaniVaMohandesi': 38, 'Agriculture': 38, 'Amlakva': 38, 'MahsolateFelezi': 40, 'FelezateAsasi': 40, 'Daroee': 40, 'Shimiyaee': 40, 'KashiVaSeramik': 40, 'Bimeh': 40, 'GhandVaShekar': 41, 'Rayaneh': 41, 'SarmayeGozari': 41, 'index': 42, 'HamlVaNaghl': 42},\n",
       "      dtype=object)"
      ]
     },
     "execution_count": 92,
     "metadata": {},
     "output_type": "execute_result"
    }
   ],
   "source": [
    "b26_1 = dict(nx.degree(entropy_network_ThreeReg_Ox_1))\n",
    "b26_1 = np.array(dict(sorted(b26_1.items(), key=lambda item: item[1])))\n",
    "b26_1"
   ]
  },
  {
   "cell_type": "code",
   "execution_count": 93,
   "id": "1971525c-dcff-46df-92c5-ec44ce420965",
   "metadata": {},
   "outputs": [],
   "source": [
    "nm.get_network_features(entropy_network_ThreeReg_Ox_1).to_csv('Excels/26_1.csv')"
   ]
  },
  {
   "cell_type": "code",
   "execution_count": 94,
   "id": "338c4530-e237-4d03-afa0-d084e487763d",
   "metadata": {},
   "outputs": [],
   "source": [
    "entropy_network_ThreeReg_Ox_2 = nm.construct_network(tehran_df_ThreeReg_Ox_2_same_length, method='entropy', threshold=thr26)"
   ]
  },
  {
   "cell_type": "code",
   "execution_count": 95,
   "id": "141f60fd-ff37-4ef5-b09b-359861b657a8",
   "metadata": {},
   "outputs": [
    {
     "data": {
      "text/html": [
       "<div>\n",
       "<style scoped>\n",
       "    .dataframe tbody tr th:only-of-type {\n",
       "        vertical-align: middle;\n",
       "    }\n",
       "\n",
       "    .dataframe tbody tr th {\n",
       "        vertical-align: top;\n",
       "    }\n",
       "\n",
       "    .dataframe thead th {\n",
       "        text-align: right;\n",
       "    }\n",
       "</style>\n",
       "<table border=\"1\" class=\"dataframe\">\n",
       "  <thead>\n",
       "    <tr style=\"text-align: right;\">\n",
       "      <th></th>\n",
       "      <th>radius</th>\n",
       "      <th>diameter</th>\n",
       "      <th>densities</th>\n",
       "      <th>number_of_edges</th>\n",
       "      <th>average_clustering</th>\n",
       "      <th>avg_degree_centrality</th>\n",
       "      <th>avg_betweenness_centrality</th>\n",
       "      <th>avg_closeness_centrality</th>\n",
       "      <th>average_shortest_path_length</th>\n",
       "    </tr>\n",
       "  </thead>\n",
       "  <tbody>\n",
       "    <tr>\n",
       "      <th>0</th>\n",
       "      <td>2</td>\n",
       "      <td>2</td>\n",
       "      <td>0.809662</td>\n",
       "      <td>838</td>\n",
       "      <td>0.84018</td>\n",
       "      <td>0.809662</td>\n",
       "      <td>0.004326</td>\n",
       "      <td>0.847376</td>\n",
       "      <td>1.190338</td>\n",
       "    </tr>\n",
       "  </tbody>\n",
       "</table>\n",
       "</div>"
      ],
      "text/plain": [
       "   radius  diameter  densities  number_of_edges  average_clustering  \\\n",
       "0       2         2   0.809662              838             0.84018   \n",
       "\n",
       "   avg_degree_centrality  avg_betweenness_centrality  \\\n",
       "0               0.809662                    0.004326   \n",
       "\n",
       "   avg_closeness_centrality  average_shortest_path_length  \n",
       "0                  0.847376                      1.190338  "
      ]
     },
     "execution_count": 95,
     "metadata": {},
     "output_type": "execute_result"
    }
   ],
   "source": [
    "nm.get_network_features(entropy_network_ThreeReg_Ox_2)"
   ]
  },
  {
   "cell_type": "code",
   "execution_count": 96,
   "id": "0832b2dc-e0d3-4962-a8f9-eb9cdd680a18",
   "metadata": {},
   "outputs": [
    {
     "data": {
      "text/plain": [
       "array({'Gold': 12, 'AbzaralatePezeshki': 26, 'Brent Oil': 27, 'Euro': 30, 'CPI': 30, 'M1': 31, 'GDP': 32, 'Coin': 33, 'Bank': 33, 'GhandVaShekar': 34, 'Daroee': 34, 'SarmayeGozari': 35, 'FaniVaMohandesi': 35, 'Agriculture': 35, 'USD': 36, 'FelezateAsasi': 36, 'DastgahayeBargi': 36, 'GazaeeBejozGhand': 36, 'Siman': 36, 'MahsolateFelezi': 37, 'MashinAlat': 37, 'Rayaneh': 37, 'M2': 38, 'EstekrajeNaft': 38, 'EntesharVaChap': 38, 'KashiVaSeramik': 38, 'KanehayeGeyreFelezi': 38, 'Bimeh': 38, 'Mali': 38, 'khodrosazi': 39, 'ChandReshteSanati': 39, 'Amlakva': 39, 'VasayelErtebati': 39, 'SayerMali': 39, 'SayerMadan': 40, 'Wood': 40, 'Lastic': 40, 'HOUSE': 40, 'Mansojat': 41, 'HamlVaNaghl': 41, 'index': 42, 'paper': 42, 'FaravardehayeNafti': 42, 'KanehayeFelezi': 42, 'Shimiyaee': 43, 'CoalMining': 44},\n",
       "      dtype=object)"
      ]
     },
     "execution_count": 96,
     "metadata": {},
     "output_type": "execute_result"
    }
   ],
   "source": [
    "b26_2 = dict(nx.degree(entropy_network_ThreeReg_Ox_2))\n",
    "b26_2 = np.array(dict(sorted(b26_2.items(), key=lambda item: item[1])))\n",
    "b26_2"
   ]
  },
  {
   "cell_type": "code",
   "execution_count": 97,
   "id": "d9526094-2dbe-4432-9be5-76d4d697975d",
   "metadata": {},
   "outputs": [],
   "source": [
    "nm.get_network_features(entropy_network_ThreeReg_Ox_2).to_csv('Excels/26_2.csv')"
   ]
  },
  {
   "cell_type": "code",
   "execution_count": 98,
   "id": "e040b93b-60e7-463d-b14d-2ad4516e59a0",
   "metadata": {},
   "outputs": [],
   "source": [
    "entropy_network_ThreeReg_Ox_3 = nm.construct_network(tehran_df_ThreeReg_Ox_3_same_length, method='entropy', threshold=thr26)"
   ]
  },
  {
   "cell_type": "code",
   "execution_count": 99,
   "id": "7a3fb4e0-52af-4eb9-87c4-6515384cd1e7",
   "metadata": {},
   "outputs": [
    {
     "data": {
      "text/html": [
       "<div>\n",
       "<style scoped>\n",
       "    .dataframe tbody tr th:only-of-type {\n",
       "        vertical-align: middle;\n",
       "    }\n",
       "\n",
       "    .dataframe tbody tr th {\n",
       "        vertical-align: top;\n",
       "    }\n",
       "\n",
       "    .dataframe thead th {\n",
       "        text-align: right;\n",
       "    }\n",
       "</style>\n",
       "<table border=\"1\" class=\"dataframe\">\n",
       "  <thead>\n",
       "    <tr style=\"text-align: right;\">\n",
       "      <th></th>\n",
       "      <th>radius</th>\n",
       "      <th>diameter</th>\n",
       "      <th>densities</th>\n",
       "      <th>number_of_edges</th>\n",
       "      <th>average_clustering</th>\n",
       "      <th>avg_degree_centrality</th>\n",
       "      <th>avg_betweenness_centrality</th>\n",
       "      <th>avg_closeness_centrality</th>\n",
       "      <th>average_shortest_path_length</th>\n",
       "    </tr>\n",
       "  </thead>\n",
       "  <tbody>\n",
       "    <tr>\n",
       "      <th>0</th>\n",
       "      <td>2</td>\n",
       "      <td>3</td>\n",
       "      <td>0.713043</td>\n",
       "      <td>738</td>\n",
       "      <td>0.756456</td>\n",
       "      <td>0.713043</td>\n",
       "      <td>0.006961</td>\n",
       "      <td>0.779041</td>\n",
       "      <td>1.30628</td>\n",
       "    </tr>\n",
       "  </tbody>\n",
       "</table>\n",
       "</div>"
      ],
      "text/plain": [
       "   radius  diameter  densities  number_of_edges  average_clustering  \\\n",
       "0       2         3   0.713043              738            0.756456   \n",
       "\n",
       "   avg_degree_centrality  avg_betweenness_centrality  \\\n",
       "0               0.713043                    0.006961   \n",
       "\n",
       "   avg_closeness_centrality  average_shortest_path_length  \n",
       "0                  0.779041                       1.30628  "
      ]
     },
     "execution_count": 99,
     "metadata": {},
     "output_type": "execute_result"
    }
   ],
   "source": [
    "nm.get_network_features(entropy_network_ThreeReg_Ox_3)"
   ]
  },
  {
   "cell_type": "code",
   "execution_count": 100,
   "id": "5e9d0abe-d4a2-4b92-a25e-ea9d3dee75f3",
   "metadata": {},
   "outputs": [
    {
     "data": {
      "text/plain": [
       "array({'AbzaralatePezeshki': 1, 'Mansojat': 20, 'CPI': 24, 'Euro': 24, 'VasayelErtebati': 25, 'Wood': 25, 'USD': 25, 'HOUSE': 25, 'GhandVaShekar': 26, 'paper': 27, 'GDP': 28, 'M1': 29, 'SayerMadan': 29, 'Shimiyaee': 29, 'khodrosazi': 30, 'Agriculture': 30, 'Amlakva': 31, 'SayerMali': 32, 'ChandReshteSanati': 32, 'FaravardehayeNafti': 33, 'Siman': 33, 'Bimeh': 33, 'CoalMining': 34, 'M2': 34, 'Gold': 35, 'KashiVaSeramik': 35, 'Bank': 35, 'KanehayeFelezi': 35, 'Daroee': 35, 'KanehayeGeyreFelezi': 35, 'HamlVaNaghl': 35, 'index': 36, 'Coin': 36, 'GazaeeBejozGhand': 36, 'MahsolateFelezi': 36, 'MashinAlat': 36, 'DastgahayeBargi': 36, 'EstekrajeNaft': 37, 'Mali': 37, 'SarmayeGozari': 38, 'EntesharVaChap': 40, 'FelezateAsasi': 40, 'Brent Oil': 40, 'Lastic': 41, 'FaniVaMohandesi': 41, 'Rayaneh': 42},\n",
       "      dtype=object)"
      ]
     },
     "execution_count": 100,
     "metadata": {},
     "output_type": "execute_result"
    }
   ],
   "source": [
    "b26_3 = dict(nx.degree(entropy_network_ThreeReg_Ox_3))\n",
    "b26_3 = np.array(dict(sorted(b26_3.items(), key=lambda item: item[1])))\n",
    "b26_3"
   ]
  },
  {
   "cell_type": "code",
   "execution_count": 101,
   "id": "64bdc3f7-8182-4f0c-9911-6d8ab2ac97f3",
   "metadata": {},
   "outputs": [],
   "source": [
    "nm.get_network_features(entropy_network_ThreeReg_Ox_3).to_csv('Excels/26_3.csv')"
   ]
  },
  {
   "cell_type": "markdown",
   "id": "e1debb80-e348-473a-8932-feebb8b233d1",
   "metadata": {},
   "source": [
    "# 27) Tehran 3 Regime Entropy (Based on Median Threshold) Period of 90 Far - 98 Dey/ Last 100 Records"
   ]
  },
  {
   "cell_type": "code",
   "execution_count": 102,
   "id": "4a84cda5-ba4c-43de-8c7f-6386348bb559",
   "metadata": {},
   "outputs": [],
   "source": [
    "thr27_1 = nm.find_median_entropy_threshold(tehran_df_ThreeReg_Ox_1_same_length_98[-100:])\n",
    "thr27_2 = nm.find_median_entropy_threshold(tehran_df_ThreeReg_Ox_2_same_length_98[-100:])\n",
    "thr27_3 = nm.find_median_entropy_threshold(tehran_df_ThreeReg_Ox_3_same_length_98[-100:])\n",
    "\n",
    "thr27 = min(thr27_1, thr27_2, thr27_3)"
   ]
  },
  {
   "cell_type": "code",
   "execution_count": 103,
   "id": "901dec30-b704-41ff-a602-632492ca39ae",
   "metadata": {},
   "outputs": [],
   "source": [
    "entropy_network_ThreeReg_Ox_1_98_last100 = nm.construct_network(tehran_df_ThreeReg_Ox_1_same_length_98[-100:], method='entropy', threshold=thr27)"
   ]
  },
  {
   "cell_type": "code",
   "execution_count": 104,
   "id": "04908956-a3c3-4c2c-915d-7a0d35342283",
   "metadata": {},
   "outputs": [
    {
     "data": {
      "text/html": [
       "<div>\n",
       "<style scoped>\n",
       "    .dataframe tbody tr th:only-of-type {\n",
       "        vertical-align: middle;\n",
       "    }\n",
       "\n",
       "    .dataframe tbody tr th {\n",
       "        vertical-align: top;\n",
       "    }\n",
       "\n",
       "    .dataframe thead th {\n",
       "        text-align: right;\n",
       "    }\n",
       "</style>\n",
       "<table border=\"1\" class=\"dataframe\">\n",
       "  <thead>\n",
       "    <tr style=\"text-align: right;\">\n",
       "      <th></th>\n",
       "      <th>radius</th>\n",
       "      <th>diameter</th>\n",
       "      <th>densities</th>\n",
       "      <th>number_of_edges</th>\n",
       "      <th>average_clustering</th>\n",
       "      <th>avg_degree_centrality</th>\n",
       "      <th>avg_betweenness_centrality</th>\n",
       "      <th>avg_closeness_centrality</th>\n",
       "      <th>average_shortest_path_length</th>\n",
       "    </tr>\n",
       "  </thead>\n",
       "  <tbody>\n",
       "    <tr>\n",
       "      <th>0</th>\n",
       "      <td>2</td>\n",
       "      <td>2</td>\n",
       "      <td>0.769697</td>\n",
       "      <td>762</td>\n",
       "      <td>0.809589</td>\n",
       "      <td>0.769697</td>\n",
       "      <td>0.005356</td>\n",
       "      <td>0.821469</td>\n",
       "      <td>1.230303</td>\n",
       "    </tr>\n",
       "  </tbody>\n",
       "</table>\n",
       "</div>"
      ],
      "text/plain": [
       "   radius  diameter  densities  number_of_edges  average_clustering  \\\n",
       "0       2         2   0.769697              762            0.809589   \n",
       "\n",
       "   avg_degree_centrality  avg_betweenness_centrality  \\\n",
       "0               0.769697                    0.005356   \n",
       "\n",
       "   avg_closeness_centrality  average_shortest_path_length  \n",
       "0                  0.821469                      1.230303  "
      ]
     },
     "execution_count": 104,
     "metadata": {},
     "output_type": "execute_result"
    }
   ],
   "source": [
    "nm.get_network_features(entropy_network_ThreeReg_Ox_1_98_last100)"
   ]
  },
  {
   "cell_type": "code",
   "execution_count": 105,
   "id": "383ef64d-fd11-4a65-bb47-3c525f5ed662",
   "metadata": {},
   "outputs": [
    {
     "data": {
      "text/plain": [
       "array({'Brent Oil': 18, 'Coin': 21, 'paper': 23, 'Euro': 23, 'USD': 26, 'M2': 27, 'CPI': 28, 'SayerMadan': 28, 'FaravardehayeNafti': 28, 'Siman': 29, 'Wood': 30, 'HOUSE': 30, 'CoalMining': 30, 'GhandVaShekar': 32, 'FaniVaMohandesi': 32, 'HamlVaNaghl': 33, 'Mali': 33, 'Bank': 34, 'GDP': 34, 'Amlakva': 34, 'Gold': 35, 'GazaeeBejozGhand': 35, 'SarmayeGozari': 35, 'M1': 36, 'EstekrajeNaft': 36, 'MahsolateFelezi': 36, 'KashiVaSeramik': 36, 'DastgahayeBargi': 37, 'Bimeh': 37, 'Rayaneh': 37, 'Daroee': 37, 'EntesharVaChap': 38, 'Shimiyaee': 38, 'KanehayeGeyreFelezi': 38, 'KanehayeFelezi': 38, 'Mansojat': 39, 'FelezateAsasi': 39, 'VasayelErtebati': 39, 'SayerMali': 39, 'Agriculture': 40, 'Lastic': 40, 'ChandReshteSanati': 40, 'khodrosazi': 41, 'index': 42, 'MashinAlat': 43},\n",
       "      dtype=object)"
      ]
     },
     "execution_count": 105,
     "metadata": {},
     "output_type": "execute_result"
    }
   ],
   "source": [
    "b27_1 = dict(nx.degree(entropy_network_ThreeReg_Ox_1_98_last100))\n",
    "b27_1 = np.array(dict(sorted(b27_1.items(), key=lambda item: item[1])))\n",
    "b27_1"
   ]
  },
  {
   "cell_type": "code",
   "execution_count": 106,
   "id": "bda2c008-2f98-4e56-bdf0-9e8f1ac99951",
   "metadata": {},
   "outputs": [],
   "source": [
    "nm.get_network_features(entropy_network_ThreeReg_Ox_1_98_last100).to_csv('Excels/27_1.csv')"
   ]
  },
  {
   "cell_type": "code",
   "execution_count": 107,
   "id": "00ba66db-792c-4354-8a1c-755d135c5b48",
   "metadata": {},
   "outputs": [],
   "source": [
    "entropy_network_ThreeReg_Ox_2_98_last100 = nm.construct_network(tehran_df_ThreeReg_Ox_2_same_length_98[-100:], method='entropy', threshold=thr27)"
   ]
  },
  {
   "cell_type": "code",
   "execution_count": 108,
   "id": "cd03b3f7-02b7-43be-8bd9-51e08a3b0105",
   "metadata": {},
   "outputs": [
    {
     "data": {
      "text/html": [
       "<div>\n",
       "<style scoped>\n",
       "    .dataframe tbody tr th:only-of-type {\n",
       "        vertical-align: middle;\n",
       "    }\n",
       "\n",
       "    .dataframe tbody tr th {\n",
       "        vertical-align: top;\n",
       "    }\n",
       "\n",
       "    .dataframe thead th {\n",
       "        text-align: right;\n",
       "    }\n",
       "</style>\n",
       "<table border=\"1\" class=\"dataframe\">\n",
       "  <thead>\n",
       "    <tr style=\"text-align: right;\">\n",
       "      <th></th>\n",
       "      <th>radius</th>\n",
       "      <th>diameter</th>\n",
       "      <th>densities</th>\n",
       "      <th>number_of_edges</th>\n",
       "      <th>average_clustering</th>\n",
       "      <th>avg_degree_centrality</th>\n",
       "      <th>avg_betweenness_centrality</th>\n",
       "      <th>avg_closeness_centrality</th>\n",
       "      <th>average_shortest_path_length</th>\n",
       "    </tr>\n",
       "  </thead>\n",
       "  <tbody>\n",
       "    <tr>\n",
       "      <th>0</th>\n",
       "      <td>2</td>\n",
       "      <td>2</td>\n",
       "      <td>0.771981</td>\n",
       "      <td>799</td>\n",
       "      <td>0.809082</td>\n",
       "      <td>0.771981</td>\n",
       "      <td>0.005182</td>\n",
       "      <td>0.822301</td>\n",
       "      <td>1.228019</td>\n",
       "    </tr>\n",
       "  </tbody>\n",
       "</table>\n",
       "</div>"
      ],
      "text/plain": [
       "   radius  diameter  densities  number_of_edges  average_clustering  \\\n",
       "0       2         2   0.771981              799            0.809082   \n",
       "\n",
       "   avg_degree_centrality  avg_betweenness_centrality  \\\n",
       "0               0.771981                    0.005182   \n",
       "\n",
       "   avg_closeness_centrality  average_shortest_path_length  \n",
       "0                  0.822301                      1.228019  "
      ]
     },
     "execution_count": 108,
     "metadata": {},
     "output_type": "execute_result"
    }
   ],
   "source": [
    "nm.get_network_features(entropy_network_ThreeReg_Ox_2_98_last100)"
   ]
  },
  {
   "cell_type": "code",
   "execution_count": 109,
   "id": "60ef51c8-44b8-4c41-b934-c781d1eaf0fe",
   "metadata": {},
   "outputs": [
    {
     "data": {
      "text/plain": [
       "array({'AbzaralatePezeshki': 15, 'Gold': 19, 'EntesharVaChap': 25, 'Coin': 26, 'GDP': 27, 'Agriculture': 29, 'Brent Oil': 29, 'USD': 29, 'Euro': 30, 'FelezateAsasi': 31, 'EstekrajeNaft': 31, 'Siman': 32, 'Mali': 32, 'Daroee': 33, 'FaniVaMohandesi': 33, 'SayerMadan': 35, 'DastgahayeBargi': 35, 'GhandVaShekar': 35, 'KashiVaSeramik': 35, 'index': 36, 'MahsolateFelezi': 36, 'Wood': 36, 'KanehayeGeyreFelezi': 36, 'Bank': 36, 'HOUSE': 36, 'M1': 36, 'Lastic': 37, 'GazaeeBejozGhand': 37, 'paper': 37, 'khodrosazi': 37, 'Shimiyaee': 38, 'Bimeh': 38, 'Amlakva': 38, 'Rayaneh': 38, 'FaravardehayeNafti': 38, 'Mansojat': 39, 'KanehayeFelezi': 39, 'VasayelErtebati': 40, 'ChandReshteSanati': 40, 'HamlVaNaghl': 40, 'CPI': 40, 'CoalMining': 41, 'SarmayeGozari': 41, 'MashinAlat': 42, 'M2': 42, 'SayerMali': 43},\n",
       "      dtype=object)"
      ]
     },
     "execution_count": 109,
     "metadata": {},
     "output_type": "execute_result"
    }
   ],
   "source": [
    "b27_2 = dict(nx.degree(entropy_network_ThreeReg_Ox_2_98_last100))\n",
    "b27_2 = np.array(dict(sorted(b27_2.items(), key=lambda item: item[1])))\n",
    "b27_2"
   ]
  },
  {
   "cell_type": "code",
   "execution_count": 110,
   "id": "0b393735-b84c-49e9-8410-7daeb7dea906",
   "metadata": {},
   "outputs": [],
   "source": [
    "nm.get_network_features(entropy_network_ThreeReg_Ox_2_98_last100).to_csv('Excels/27_2.csv')"
   ]
  },
  {
   "cell_type": "code",
   "execution_count": 111,
   "id": "30ed373f-4e33-4b8e-8d09-5f23129430ce",
   "metadata": {},
   "outputs": [],
   "source": [
    "entropy_network_ThreeReg_Ox_3_98_last100 = nm.construct_network(tehran_df_ThreeReg_Ox_3_same_length_98[-100:], method='entropy', threshold=thr27)"
   ]
  },
  {
   "cell_type": "code",
   "execution_count": 112,
   "id": "aaa320ad-e67c-4fc8-91da-e2c56f2fde15",
   "metadata": {},
   "outputs": [
    {
     "data": {
      "text/html": [
       "<div>\n",
       "<style scoped>\n",
       "    .dataframe tbody tr th:only-of-type {\n",
       "        vertical-align: middle;\n",
       "    }\n",
       "\n",
       "    .dataframe tbody tr th {\n",
       "        vertical-align: top;\n",
       "    }\n",
       "\n",
       "    .dataframe thead th {\n",
       "        text-align: right;\n",
       "    }\n",
       "</style>\n",
       "<table border=\"1\" class=\"dataframe\">\n",
       "  <thead>\n",
       "    <tr style=\"text-align: right;\">\n",
       "      <th></th>\n",
       "      <th>radius</th>\n",
       "      <th>diameter</th>\n",
       "      <th>densities</th>\n",
       "      <th>number_of_edges</th>\n",
       "      <th>average_clustering</th>\n",
       "      <th>avg_degree_centrality</th>\n",
       "      <th>avg_betweenness_centrality</th>\n",
       "      <th>avg_closeness_centrality</th>\n",
       "      <th>average_shortest_path_length</th>\n",
       "    </tr>\n",
       "  </thead>\n",
       "  <tbody>\n",
       "    <tr>\n",
       "      <th>0</th>\n",
       "      <td>2</td>\n",
       "      <td>2</td>\n",
       "      <td>0.731313</td>\n",
       "      <td>724</td>\n",
       "      <td>0.764355</td>\n",
       "      <td>0.731313</td>\n",
       "      <td>0.006249</td>\n",
       "      <td>0.794306</td>\n",
       "      <td>1.268687</td>\n",
       "    </tr>\n",
       "  </tbody>\n",
       "</table>\n",
       "</div>"
      ],
      "text/plain": [
       "   radius  diameter  densities  number_of_edges  average_clustering  \\\n",
       "0       2         2   0.731313              724            0.764355   \n",
       "\n",
       "   avg_degree_centrality  avg_betweenness_centrality  \\\n",
       "0               0.731313                    0.006249   \n",
       "\n",
       "   avg_closeness_centrality  average_shortest_path_length  \n",
       "0                  0.794306                      1.268687  "
      ]
     },
     "execution_count": 112,
     "metadata": {},
     "output_type": "execute_result"
    }
   ],
   "source": [
    "nm.get_network_features(entropy_network_ThreeReg_Ox_3_98_last100)"
   ]
  },
  {
   "cell_type": "code",
   "execution_count": 113,
   "id": "c3284f8c-23c0-44d3-9cc3-addefba19ed6",
   "metadata": {},
   "outputs": [
    {
     "data": {
      "text/plain": [
       "array({'SayerMadan': 16, 'VasayelErtebati': 21, 'Euro': 24, 'CPI': 24, 'FaniVaMohandesi': 25, 'USD': 27, 'HOUSE': 27, 'Coin': 28, 'M2': 29, 'Mali': 29, 'KanehayeFelezi': 29, 'FelezateAsasi': 29, 'Brent Oil': 30, 'Lastic': 30, 'ChandReshteSanati': 31, 'M1': 32, 'CoalMining': 32, 'Mansojat': 32, 'Wood': 32, 'Siman': 32, 'SayerMali': 32, 'MahsolateFelezi': 32, 'Gold': 33, 'Bank': 33, 'Amlakva': 33, 'KashiVaSeramik': 33, 'MashinAlat': 34, 'khodrosazi': 34, 'GazaeeBejozGhand': 34, 'SarmayeGozari': 34, 'GDP': 35, 'HamlVaNaghl': 35, 'EntesharVaChap': 35, 'Agriculture': 36, 'EstekrajeNaft': 36, 'FaravardehayeNafti': 36, 'GhandVaShekar': 36, 'Bimeh': 36, 'Daroee': 37, 'KanehayeGeyreFelezi': 37, 'Rayaneh': 38, 'paper': 39, 'DastgahayeBargi': 39, 'index': 41, 'Shimiyaee': 41},\n",
       "      dtype=object)"
      ]
     },
     "execution_count": 113,
     "metadata": {},
     "output_type": "execute_result"
    }
   ],
   "source": [
    "b27_3 = dict(nx.degree(entropy_network_ThreeReg_Ox_3_98_last100))\n",
    "b27_3 = np.array(dict(sorted(b27_3.items(), key=lambda item: item[1])))\n",
    "b27_3"
   ]
  },
  {
   "cell_type": "code",
   "execution_count": 114,
   "id": "8fe05f12-284a-4d91-b4a1-ee6b627a4375",
   "metadata": {},
   "outputs": [],
   "source": [
    "nm.get_network_features(entropy_network_ThreeReg_Ox_3_98_last100).to_csv('Excels/27_3.csv')"
   ]
  },
  {
   "cell_type": "markdown",
   "id": "d4eef866-bb4f-4442-b3c8-43419cddfeb6",
   "metadata": {},
   "source": [
    "# 28) Tehran 3 Regime Entropy (Based on Median Threshold) Period of 90 Far - 98 Dey/ 50 windows of 100 Records"
   ]
  },
  {
   "cell_type": "code",
   "execution_count": 116,
   "id": "19e12954-7e9f-4c1a-9530-81f5acd6c2f2",
   "metadata": {
    "tags": []
   },
   "outputs": [
    {
     "name": "stdout",
     "output_type": "stream",
     "text": [
      "Number of columns data in our DataFrame is = 46\n",
      "fixed_thr= 0.027756715573018103\n"
     ]
    }
   ],
   "source": [
    "nm = Net_moduls()\n",
    "entropy_network_ThreeReg_Ox_1_98_averged = nm.get_network_features_averaged_median(tehran_df, regimes_column = tehran_df_reg.iloc[:-300]['Ox_3'],method='entropy',edges_threshold=200, target_window=100, target_length=50)"
   ]
  },
  {
   "cell_type": "code",
   "execution_count": 117,
   "id": "a0025483-596a-4157-9ad2-fa660abc7863",
   "metadata": {},
   "outputs": [
    {
     "data": {
      "text/html": [
       "<div>\n",
       "<style scoped>\n",
       "    .dataframe tbody tr th:only-of-type {\n",
       "        vertical-align: middle;\n",
       "    }\n",
       "\n",
       "    .dataframe tbody tr th {\n",
       "        vertical-align: top;\n",
       "    }\n",
       "\n",
       "    .dataframe thead th {\n",
       "        text-align: right;\n",
       "    }\n",
       "</style>\n",
       "<table border=\"1\" class=\"dataframe\">\n",
       "  <thead>\n",
       "    <tr style=\"text-align: right;\">\n",
       "      <th></th>\n",
       "      <th>radius</th>\n",
       "      <th>diameter</th>\n",
       "      <th>densities</th>\n",
       "      <th>number_of_edges</th>\n",
       "      <th>average_clustering</th>\n",
       "      <th>avg_degree_centrality</th>\n",
       "      <th>avg_betweenness_centrality</th>\n",
       "      <th>avg_closeness_centrality</th>\n",
       "      <th>average_shortest_path_length</th>\n",
       "    </tr>\n",
       "  </thead>\n",
       "  <tbody>\n",
       "    <tr>\n",
       "      <th>Means</th>\n",
       "      <td>2.000000</td>\n",
       "      <td>2.0</td>\n",
       "      <td>0.748000</td>\n",
       "      <td>740.520000</td>\n",
       "      <td>0.800468</td>\n",
       "      <td>0.748000</td>\n",
       "      <td>0.005860</td>\n",
       "      <td>0.809566</td>\n",
       "      <td>1.252000</td>\n",
       "    </tr>\n",
       "    <tr>\n",
       "      <th>STDs</th>\n",
       "      <td>0.000000</td>\n",
       "      <td>0.0</td>\n",
       "      <td>0.041552</td>\n",
       "      <td>41.136031</td>\n",
       "      <td>0.038077</td>\n",
       "      <td>0.041552</td>\n",
       "      <td>0.000966</td>\n",
       "      <td>0.026854</td>\n",
       "      <td>0.041552</td>\n",
       "    </tr>\n",
       "    <tr>\n",
       "      <th>Means</th>\n",
       "      <td>1.980000</td>\n",
       "      <td>2.0</td>\n",
       "      <td>0.758609</td>\n",
       "      <td>785.160000</td>\n",
       "      <td>0.796824</td>\n",
       "      <td>0.758609</td>\n",
       "      <td>0.005486</td>\n",
       "      <td>0.813401</td>\n",
       "      <td>1.241391</td>\n",
       "    </tr>\n",
       "    <tr>\n",
       "      <th>STDs</th>\n",
       "      <td>0.141421</td>\n",
       "      <td>0.0</td>\n",
       "      <td>0.022276</td>\n",
       "      <td>23.055709</td>\n",
       "      <td>0.016848</td>\n",
       "      <td>0.022276</td>\n",
       "      <td>0.000506</td>\n",
       "      <td>0.013794</td>\n",
       "      <td>0.022276</td>\n",
       "    </tr>\n",
       "    <tr>\n",
       "      <th>Means</th>\n",
       "      <td>2.000000</td>\n",
       "      <td>2.0</td>\n",
       "      <td>0.723636</td>\n",
       "      <td>716.400000</td>\n",
       "      <td>0.775443</td>\n",
       "      <td>0.723636</td>\n",
       "      <td>0.006427</td>\n",
       "      <td>0.793760</td>\n",
       "      <td>1.276364</td>\n",
       "    </tr>\n",
       "    <tr>\n",
       "      <th>STDs</th>\n",
       "      <td>0.000000</td>\n",
       "      <td>0.0</td>\n",
       "      <td>0.053393</td>\n",
       "      <td>52.858687</td>\n",
       "      <td>0.061203</td>\n",
       "      <td>0.053393</td>\n",
       "      <td>0.001242</td>\n",
       "      <td>0.034664</td>\n",
       "      <td>0.053393</td>\n",
       "    </tr>\n",
       "  </tbody>\n",
       "</table>\n",
       "</div>"
      ],
      "text/plain": [
       "         radius  diameter  densities  number_of_edges  average_clustering  \\\n",
       "Means  2.000000       2.0   0.748000       740.520000            0.800468   \n",
       "STDs   0.000000       0.0   0.041552        41.136031            0.038077   \n",
       "Means  1.980000       2.0   0.758609       785.160000            0.796824   \n",
       "STDs   0.141421       0.0   0.022276        23.055709            0.016848   \n",
       "Means  2.000000       2.0   0.723636       716.400000            0.775443   \n",
       "STDs   0.000000       0.0   0.053393        52.858687            0.061203   \n",
       "\n",
       "       avg_degree_centrality  avg_betweenness_centrality  \\\n",
       "Means               0.748000                    0.005860   \n",
       "STDs                0.041552                    0.000966   \n",
       "Means               0.758609                    0.005486   \n",
       "STDs                0.022276                    0.000506   \n",
       "Means               0.723636                    0.006427   \n",
       "STDs                0.053393                    0.001242   \n",
       "\n",
       "       avg_closeness_centrality  average_shortest_path_length  \n",
       "Means                  0.809566                      1.252000  \n",
       "STDs                   0.026854                      0.041552  \n",
       "Means                  0.813401                      1.241391  \n",
       "STDs                   0.013794                      0.022276  \n",
       "Means                  0.793760                      1.276364  \n",
       "STDs                   0.034664                      0.053393  "
      ]
     },
     "execution_count": 117,
     "metadata": {},
     "output_type": "execute_result"
    }
   ],
   "source": [
    "entropy_network_ThreeReg_Ox_1_98_averged"
   ]
  },
  {
   "cell_type": "code",
   "execution_count": 118,
   "id": "e8b2a61c-1f31-4a09-9627-553e3b3abc04",
   "metadata": {},
   "outputs": [],
   "source": [
    "entropy_network_ThreeReg_Ox_1_98_averged.to_csv('Excels/28.csv')"
   ]
  },
  {
   "cell_type": "markdown",
   "id": "19a19299-225e-407c-91ef-84bd9943f675",
   "metadata": {},
   "source": [
    "# 29) Tehran 3 Regime Entropy (Based on Median Threshold) Period of 90 Far - 00 Far/ 50 windows of 100 Records"
   ]
  },
  {
   "cell_type": "code",
   "execution_count": 119,
   "id": "bd9b9f2e-a0f4-44aa-bac5-ce2e6e30e63c",
   "metadata": {
    "tags": []
   },
   "outputs": [
    {
     "name": "stdout",
     "output_type": "stream",
     "text": [
      "Number of columns data in our DataFrame is = 46\n",
      "fixed_thr= 0.027209020302000887\n"
     ]
    }
   ],
   "source": [
    "nm = Net_moduls()\n",
    "entropy_network_ThreeReg_Ox_90_00_averged = nm.get_network_features_averaged_median(tehran_df_completeDates, regimes_column= tehran_df_reg['Ox_3'],method='entropy',edges_threshold=200, target_window=100, target_length=50)"
   ]
  },
  {
   "cell_type": "code",
   "execution_count": 120,
   "id": "6de8e197-5150-46db-ae20-27d4c510c147",
   "metadata": {},
   "outputs": [
    {
     "data": {
      "text/html": [
       "<div>\n",
       "<style scoped>\n",
       "    .dataframe tbody tr th:only-of-type {\n",
       "        vertical-align: middle;\n",
       "    }\n",
       "\n",
       "    .dataframe tbody tr th {\n",
       "        vertical-align: top;\n",
       "    }\n",
       "\n",
       "    .dataframe thead th {\n",
       "        text-align: right;\n",
       "    }\n",
       "</style>\n",
       "<table border=\"1\" class=\"dataframe\">\n",
       "  <thead>\n",
       "    <tr style=\"text-align: right;\">\n",
       "      <th></th>\n",
       "      <th>radius</th>\n",
       "      <th>diameter</th>\n",
       "      <th>densities</th>\n",
       "      <th>number_of_edges</th>\n",
       "      <th>average_clustering</th>\n",
       "      <th>avg_degree_centrality</th>\n",
       "      <th>avg_betweenness_centrality</th>\n",
       "      <th>avg_closeness_centrality</th>\n",
       "      <th>average_shortest_path_length</th>\n",
       "    </tr>\n",
       "  </thead>\n",
       "  <tbody>\n",
       "    <tr>\n",
       "      <th>Means</th>\n",
       "      <td>2.0</td>\n",
       "      <td>2.000000</td>\n",
       "      <td>0.726788</td>\n",
       "      <td>719.520000</td>\n",
       "      <td>0.778213</td>\n",
       "      <td>0.726788</td>\n",
       "      <td>0.006354</td>\n",
       "      <td>0.794787</td>\n",
       "      <td>1.273212</td>\n",
       "    </tr>\n",
       "    <tr>\n",
       "      <th>STDs</th>\n",
       "      <td>0.0</td>\n",
       "      <td>0.000000</td>\n",
       "      <td>0.025449</td>\n",
       "      <td>25.194136</td>\n",
       "      <td>0.026602</td>\n",
       "      <td>0.025449</td>\n",
       "      <td>0.000592</td>\n",
       "      <td>0.016170</td>\n",
       "      <td>0.025449</td>\n",
       "    </tr>\n",
       "    <tr>\n",
       "      <th>Means</th>\n",
       "      <td>2.0</td>\n",
       "      <td>2.240000</td>\n",
       "      <td>0.721116</td>\n",
       "      <td>744.500000</td>\n",
       "      <td>0.774778</td>\n",
       "      <td>0.721116</td>\n",
       "      <td>0.006365</td>\n",
       "      <td>0.790576</td>\n",
       "      <td>1.279618</td>\n",
       "    </tr>\n",
       "    <tr>\n",
       "      <th>STDs</th>\n",
       "      <td>0.0</td>\n",
       "      <td>0.431419</td>\n",
       "      <td>0.038896</td>\n",
       "      <td>42.523583</td>\n",
       "      <td>0.030263</td>\n",
       "      <td>0.038896</td>\n",
       "      <td>0.000918</td>\n",
       "      <td>0.024399</td>\n",
       "      <td>0.039996</td>\n",
       "    </tr>\n",
       "    <tr>\n",
       "      <th>Means</th>\n",
       "      <td>2.0</td>\n",
       "      <td>2.140000</td>\n",
       "      <td>0.626660</td>\n",
       "      <td>642.160000</td>\n",
       "      <td>0.691249</td>\n",
       "      <td>0.626660</td>\n",
       "      <td>0.008531</td>\n",
       "      <td>0.734902</td>\n",
       "      <td>1.373592</td>\n",
       "    </tr>\n",
       "    <tr>\n",
       "      <th>STDs</th>\n",
       "      <td>0.0</td>\n",
       "      <td>0.350510</td>\n",
       "      <td>0.021437</td>\n",
       "      <td>18.012875</td>\n",
       "      <td>0.017034</td>\n",
       "      <td>0.021437</td>\n",
       "      <td>0.000452</td>\n",
       "      <td>0.011466</td>\n",
       "      <td>0.021620</td>\n",
       "    </tr>\n",
       "  </tbody>\n",
       "</table>\n",
       "</div>"
      ],
      "text/plain": [
       "       radius  diameter  densities  number_of_edges  average_clustering  \\\n",
       "Means     2.0  2.000000   0.726788       719.520000            0.778213   \n",
       "STDs      0.0  0.000000   0.025449        25.194136            0.026602   \n",
       "Means     2.0  2.240000   0.721116       744.500000            0.774778   \n",
       "STDs      0.0  0.431419   0.038896        42.523583            0.030263   \n",
       "Means     2.0  2.140000   0.626660       642.160000            0.691249   \n",
       "STDs      0.0  0.350510   0.021437        18.012875            0.017034   \n",
       "\n",
       "       avg_degree_centrality  avg_betweenness_centrality  \\\n",
       "Means               0.726788                    0.006354   \n",
       "STDs                0.025449                    0.000592   \n",
       "Means               0.721116                    0.006365   \n",
       "STDs                0.038896                    0.000918   \n",
       "Means               0.626660                    0.008531   \n",
       "STDs                0.021437                    0.000452   \n",
       "\n",
       "       avg_closeness_centrality  average_shortest_path_length  \n",
       "Means                  0.794787                      1.273212  \n",
       "STDs                   0.016170                      0.025449  \n",
       "Means                  0.790576                      1.279618  \n",
       "STDs                   0.024399                      0.039996  \n",
       "Means                  0.734902                      1.373592  \n",
       "STDs                   0.011466                      0.021620  "
      ]
     },
     "execution_count": 120,
     "metadata": {},
     "output_type": "execute_result"
    }
   ],
   "source": [
    "entropy_network_ThreeReg_Ox_90_00_averged"
   ]
  },
  {
   "cell_type": "code",
   "execution_count": 121,
   "id": "f4fdb84a-cfbc-439e-a071-46a5ebcb82bc",
   "metadata": {},
   "outputs": [],
   "source": [
    "entropy_network_ThreeReg_Ox_90_00_averged.to_csv('Excels/29.csv')"
   ]
  },
  {
   "cell_type": "markdown",
   "id": "26e2e9f6-861b-402e-909e-687f95e72c69",
   "metadata": {},
   "source": [
    "# 30) Tehran 3 Regime Crossed (Based on Median Threshold) Period of 90 Far - 98 Dey"
   ]
  },
  {
   "cell_type": "code",
   "execution_count": 122,
   "id": "66fb171c-6e59-43f0-9c8a-7ee1b75f12a5",
   "metadata": {},
   "outputs": [],
   "source": [
    "nm = Net_moduls()"
   ]
  },
  {
   "cell_type": "code",
   "execution_count": 123,
   "id": "739b037b-3ab8-4d3d-a028-98e743c9cda6",
   "metadata": {},
   "outputs": [],
   "source": [
    "thr30_1 = nm.find_median_crossed_threshold(tehran_df_ThreeReg_Ox_1_same_length_98)\n",
    "thr30_2 = nm.find_median_crossed_threshold(tehran_df_ThreeReg_Ox_2_same_length_98)\n",
    "thr30_3 = nm.find_median_crossed_threshold(tehran_df_ThreeReg_Ox_3_same_length_98)\n",
    "\n",
    "thr30 = min(thr30_1, thr30_2, thr30_3)"
   ]
  },
  {
   "cell_type": "code",
   "execution_count": 124,
   "id": "0fd97e33-67f8-4677-89eb-42ad00f4bd72",
   "metadata": {},
   "outputs": [],
   "source": [
    "crossed_network_ThreeReg_Ox_1_98 = nm.construct_network(tehran_df_ThreeReg_Ox_1_same_length_98, method='crossed', threshold=thr30)"
   ]
  },
  {
   "cell_type": "code",
   "execution_count": 125,
   "id": "35bbc927-ea32-4016-8c7a-ff99b324ca31",
   "metadata": {},
   "outputs": [
    {
     "data": {
      "text/html": [
       "<div>\n",
       "<style scoped>\n",
       "    .dataframe tbody tr th:only-of-type {\n",
       "        vertical-align: middle;\n",
       "    }\n",
       "\n",
       "    .dataframe tbody tr th {\n",
       "        vertical-align: top;\n",
       "    }\n",
       "\n",
       "    .dataframe thead th {\n",
       "        text-align: right;\n",
       "    }\n",
       "</style>\n",
       "<table border=\"1\" class=\"dataframe\">\n",
       "  <thead>\n",
       "    <tr style=\"text-align: right;\">\n",
       "      <th></th>\n",
       "      <th>radius</th>\n",
       "      <th>diameter</th>\n",
       "      <th>densities</th>\n",
       "      <th>number_of_edges</th>\n",
       "      <th>average_clustering</th>\n",
       "      <th>avg_degree_centrality</th>\n",
       "      <th>avg_betweenness_centrality</th>\n",
       "      <th>avg_closeness_centrality</th>\n",
       "      <th>average_shortest_path_length</th>\n",
       "    </tr>\n",
       "  </thead>\n",
       "  <tbody>\n",
       "    <tr>\n",
       "      <th>0</th>\n",
       "      <td>1</td>\n",
       "      <td>2</td>\n",
       "      <td>0.388406</td>\n",
       "      <td>402</td>\n",
       "      <td>0.506886</td>\n",
       "      <td>0.388406</td>\n",
       "      <td>0.0139</td>\n",
       "      <td>0.628167</td>\n",
       "      <td>1.611594</td>\n",
       "    </tr>\n",
       "  </tbody>\n",
       "</table>\n",
       "</div>"
      ],
      "text/plain": [
       "   radius  diameter  densities  number_of_edges  average_clustering  \\\n",
       "0       1         2   0.388406              402            0.506886   \n",
       "\n",
       "   avg_degree_centrality  avg_betweenness_centrality  \\\n",
       "0               0.388406                      0.0139   \n",
       "\n",
       "   avg_closeness_centrality  average_shortest_path_length  \n",
       "0                  0.628167                      1.611594  "
      ]
     },
     "execution_count": 125,
     "metadata": {},
     "output_type": "execute_result"
    }
   ],
   "source": [
    "nm.get_network_features(crossed_network_ThreeReg_Ox_1_98)"
   ]
  },
  {
   "cell_type": "code",
   "execution_count": 126,
   "id": "95ae40af-fe01-4976-9538-8e16c739b77f",
   "metadata": {},
   "outputs": [
    {
     "data": {
      "text/plain": [
       "array({'MashinAlat': 8, 'Mali': 8, 'Lastic': 8, 'Agriculture': 9, 'khodrosazi': 9, 'GazaeeBejozGhand': 9, 'Bank': 9, 'SarmayeGozari': 10, 'Rayaneh': 10, 'Daroee': 10, 'Bimeh': 11, 'index': 12, 'KanehayeGeyreFelezi': 12, 'HamlVaNaghl': 13, 'MahsolateFelezi': 14, 'FaniVaMohandesi': 14, 'paper': 15, 'GhandVaShekar': 15, 'SayerMali': 15, 'KashiVaSeramik': 16, 'HOUSE': 16, 'FaravardehayeNafti': 16, 'Wood': 17, 'M2': 17, 'FelezateAsasi': 18, 'Siman': 18, 'Amlakva': 18, 'DastgahayeBargi': 18, 'KanehayeFelezi': 18, 'EstekrajeNaft': 19, 'Mansojat': 19, 'M1': 19, 'CPI': 20, 'ChandReshteSanati': 21, 'EntesharVaChap': 21, 'Brent Oil': 22, 'Shimiyaee': 22, 'SayerMadan': 23, 'CoalMining': 24, 'VasayelErtebati': 24, 'Coin': 26, 'GDP': 26, 'Euro': 28, 'Gold': 30, 'USD': 32, 'AbzaralatePezeshki': 45},\n",
       "      dtype=object)"
      ]
     },
     "execution_count": 126,
     "metadata": {},
     "output_type": "execute_result"
    }
   ],
   "source": [
    "b30_1 = dict(nx.degree(crossed_network_ThreeReg_Ox_1_98))\n",
    "b30_1 = np.array(dict(sorted(b30_1.items(), key=lambda item: item[1])))\n",
    "b30_1"
   ]
  },
  {
   "cell_type": "code",
   "execution_count": 127,
   "id": "ba1b69f7-b73d-46ac-8bc5-a82990ad49d4",
   "metadata": {},
   "outputs": [],
   "source": [
    "nm.get_network_features(crossed_network_ThreeReg_Ox_1_98).to_csv('Excels/30_1.csv')"
   ]
  },
  {
   "cell_type": "code",
   "execution_count": 128,
   "id": "9ce9281e-d7f0-42b0-8be2-5b44e902eeae",
   "metadata": {},
   "outputs": [],
   "source": [
    "crossed_network_ThreeReg_Ox_2_98 = nm.construct_network(tehran_df_ThreeReg_Ox_2_same_length_98, method='crossed', threshold=thr30)"
   ]
  },
  {
   "cell_type": "code",
   "execution_count": 129,
   "id": "55d1021d-9519-4d79-b774-21ec0c0a22da",
   "metadata": {},
   "outputs": [
    {
     "data": {
      "text/html": [
       "<div>\n",
       "<style scoped>\n",
       "    .dataframe tbody tr th:only-of-type {\n",
       "        vertical-align: middle;\n",
       "    }\n",
       "\n",
       "    .dataframe tbody tr th {\n",
       "        vertical-align: top;\n",
       "    }\n",
       "\n",
       "    .dataframe thead th {\n",
       "        text-align: right;\n",
       "    }\n",
       "</style>\n",
       "<table border=\"1\" class=\"dataframe\">\n",
       "  <thead>\n",
       "    <tr style=\"text-align: right;\">\n",
       "      <th></th>\n",
       "      <th>radius</th>\n",
       "      <th>diameter</th>\n",
       "      <th>densities</th>\n",
       "      <th>number_of_edges</th>\n",
       "      <th>average_clustering</th>\n",
       "      <th>avg_degree_centrality</th>\n",
       "      <th>avg_betweenness_centrality</th>\n",
       "      <th>avg_closeness_centrality</th>\n",
       "      <th>average_shortest_path_length</th>\n",
       "    </tr>\n",
       "  </thead>\n",
       "  <tbody>\n",
       "    <tr>\n",
       "      <th>0</th>\n",
       "      <td>2</td>\n",
       "      <td>3</td>\n",
       "      <td>0.348792</td>\n",
       "      <td>361</td>\n",
       "      <td>0.411885</td>\n",
       "      <td>0.348792</td>\n",
       "      <td>0.014954</td>\n",
       "      <td>0.609003</td>\n",
       "      <td>1.657971</td>\n",
       "    </tr>\n",
       "  </tbody>\n",
       "</table>\n",
       "</div>"
      ],
      "text/plain": [
       "   radius  diameter  densities  number_of_edges  average_clustering  \\\n",
       "0       2         3   0.348792              361            0.411885   \n",
       "\n",
       "   avg_degree_centrality  avg_betweenness_centrality  \\\n",
       "0               0.348792                    0.014954   \n",
       "\n",
       "   avg_closeness_centrality  average_shortest_path_length  \n",
       "0                  0.609003                      1.657971  "
      ]
     },
     "execution_count": 129,
     "metadata": {},
     "output_type": "execute_result"
    }
   ],
   "source": [
    "nm.get_network_features(crossed_network_ThreeReg_Ox_2_98)"
   ]
  },
  {
   "cell_type": "code",
   "execution_count": 130,
   "id": "477273f1-8012-439f-8c8b-0032e76e76ea",
   "metadata": {},
   "outputs": [
    {
     "data": {
      "text/plain": [
       "array({'Lastic': 5, 'index': 6, 'KanehayeFelezi': 6, 'FaravardehayeNafti': 7, 'ChandReshteSanati': 8, 'EntesharVaChap': 9, 'Amlakva': 9, 'KanehayeGeyreFelezi': 10, 'Siman': 10, 'Rayaneh': 10, 'FelezateAsasi': 10, 'GhandVaShekar': 11, 'Bimeh': 11, 'GDP': 12, 'DastgahayeBargi': 12, 'GazaeeBejozGhand': 12, 'KashiVaSeramik': 12, 'SayerMali': 12, 'Mali': 12, 'FaniVaMohandesi': 12, 'khodrosazi': 12, 'MashinAlat': 13, 'Shimiyaee': 13, 'SarmayeGozari': 14, 'VasayelErtebati': 15, 'Bank': 15, 'MahsolateFelezi': 16, 'Agriculture': 17, 'Daroee': 17, 'EstekrajeNaft': 17, 'M2': 18, 'Euro': 18, 'CPI': 19, 'Gold': 19, 'AbzaralatePezeshki': 19, 'Brent Oil': 22, 'M1': 22, 'HOUSE': 23, 'HamlVaNaghl': 23, 'Mansojat': 24, 'Coin': 26, 'USD': 27, 'Wood': 28, 'CoalMining': 29, 'paper': 30, 'SayerMadan': 30},\n",
       "      dtype=object)"
      ]
     },
     "execution_count": 130,
     "metadata": {},
     "output_type": "execute_result"
    }
   ],
   "source": [
    "b30_2 = dict(nx.degree(crossed_network_ThreeReg_Ox_2_98))\n",
    "b30_2 = np.array(dict(sorted(b30_2.items(), key=lambda item: item[1])))\n",
    "b30_2"
   ]
  },
  {
   "cell_type": "code",
   "execution_count": 131,
   "id": "fb8d2137-c239-4bab-bb1a-ef0cd813b2c5",
   "metadata": {},
   "outputs": [],
   "source": [
    "nm.get_network_features(crossed_network_ThreeReg_Ox_2_98).to_csv('Excels/30_2.csv')"
   ]
  },
  {
   "cell_type": "code",
   "execution_count": 132,
   "id": "b8103132-6a47-41c6-b281-2316bdf81f40",
   "metadata": {},
   "outputs": [],
   "source": [
    "crossed_network_ThreeReg_Ox_3_98 = nm.construct_network(tehran_df_ThreeReg_Ox_3_same_length_98, method='crossed', threshold=thr30)"
   ]
  },
  {
   "cell_type": "code",
   "execution_count": 133,
   "id": "7ed0b827-3de2-4fb8-93fa-903adacd4371",
   "metadata": {},
   "outputs": [
    {
     "data": {
      "text/html": [
       "<div>\n",
       "<style scoped>\n",
       "    .dataframe tbody tr th:only-of-type {\n",
       "        vertical-align: middle;\n",
       "    }\n",
       "\n",
       "    .dataframe tbody tr th {\n",
       "        vertical-align: top;\n",
       "    }\n",
       "\n",
       "    .dataframe thead th {\n",
       "        text-align: right;\n",
       "    }\n",
       "</style>\n",
       "<table border=\"1\" class=\"dataframe\">\n",
       "  <thead>\n",
       "    <tr style=\"text-align: right;\">\n",
       "      <th></th>\n",
       "      <th>radius</th>\n",
       "      <th>diameter</th>\n",
       "      <th>densities</th>\n",
       "      <th>number_of_edges</th>\n",
       "      <th>average_clustering</th>\n",
       "      <th>avg_degree_centrality</th>\n",
       "      <th>avg_betweenness_centrality</th>\n",
       "      <th>avg_closeness_centrality</th>\n",
       "      <th>average_shortest_path_length</th>\n",
       "    </tr>\n",
       "  </thead>\n",
       "  <tbody>\n",
       "    <tr>\n",
       "      <th>0</th>\n",
       "      <td>1</td>\n",
       "      <td>2</td>\n",
       "      <td>0.33913</td>\n",
       "      <td>351</td>\n",
       "      <td>0.435568</td>\n",
       "      <td>0.33913</td>\n",
       "      <td>0.01502</td>\n",
       "      <td>0.608972</td>\n",
       "      <td>1.66087</td>\n",
       "    </tr>\n",
       "  </tbody>\n",
       "</table>\n",
       "</div>"
      ],
      "text/plain": [
       "   radius  diameter  densities  number_of_edges  average_clustering  \\\n",
       "0       1         2    0.33913              351            0.435568   \n",
       "\n",
       "   avg_degree_centrality  avg_betweenness_centrality  \\\n",
       "0                0.33913                     0.01502   \n",
       "\n",
       "   avg_closeness_centrality  average_shortest_path_length  \n",
       "0                  0.608972                       1.66087  "
      ]
     },
     "execution_count": 133,
     "metadata": {},
     "output_type": "execute_result"
    }
   ],
   "source": [
    "nm.get_network_features(crossed_network_ThreeReg_Ox_3_98)"
   ]
  },
  {
   "cell_type": "code",
   "execution_count": 134,
   "id": "b9c52f92-891d-4c48-b3a8-4a8bc9ab4666",
   "metadata": {},
   "outputs": [
    {
     "data": {
      "text/plain": [
       "array({'SayerMali': 7, 'KanehayeGeyreFelezi': 8, 'SarmayeGozari': 8, 'MashinAlat': 8, 'HamlVaNaghl': 8, 'khodrosazi': 8, 'index': 9, 'GDP': 9, 'GazaeeBejozGhand': 9, 'Siman': 9, 'Mali': 9, 'ChandReshteSanati': 10, 'Lastic': 10, 'KashiVaSeramik': 11, 'MahsolateFelezi': 11, 'VasayelErtebati': 11, 'paper': 12, 'Daroee': 12, 'Rayaneh': 12, 'Amlakva': 12, 'M2': 14, 'Agriculture': 14, 'CoalMining': 14, 'EstekrajeNaft': 14, 'GhandVaShekar': 14, 'Bank': 14, 'Bimeh': 14, 'HOUSE': 14, 'EntesharVaChap': 15, 'Wood': 15, 'Mansojat': 17, 'Shimiyaee': 17, 'CPI': 18, 'FaravardehayeNafti': 18, 'FaniVaMohandesi': 20, 'Brent Oil': 21, 'M1': 21, 'DastgahayeBargi': 21, 'SayerMadan': 22, 'Gold': 23, 'FelezateAsasi': 23, 'Euro': 24, 'USD': 24, 'Coin': 24, 'KanehayeFelezi': 29, 'AbzaralatePezeshki': 45},\n",
       "      dtype=object)"
      ]
     },
     "execution_count": 134,
     "metadata": {},
     "output_type": "execute_result"
    }
   ],
   "source": [
    "b30_3 = dict(nx.degree(crossed_network_ThreeReg_Ox_3_98))\n",
    "b30_3 = np.array(dict(sorted(b30_3.items(), key=lambda item: item[1])))\n",
    "b30_3"
   ]
  },
  {
   "cell_type": "code",
   "execution_count": 135,
   "id": "b3fef0c6-7574-4bdc-8ba8-d3fcc781a3d7",
   "metadata": {},
   "outputs": [],
   "source": [
    "nm.get_network_features(crossed_network_ThreeReg_Ox_3_98).to_csv('Excels/30_3.csv')"
   ]
  },
  {
   "cell_type": "markdown",
   "id": "7f3b8520-3c23-4ba1-919d-87d7955b8286",
   "metadata": {},
   "source": [
    "# 31) Tehran 3 Regime Crossed (Based on Median Threshold) Period of 90 Far - 00 Far"
   ]
  },
  {
   "cell_type": "code",
   "execution_count": 136,
   "id": "e95cfae7-83fa-42da-8a01-018b0427ffc3",
   "metadata": {},
   "outputs": [],
   "source": [
    "nm = Net_moduls()"
   ]
  },
  {
   "cell_type": "code",
   "execution_count": 137,
   "id": "085d1886-09fd-448b-a28a-2d46cef5b325",
   "metadata": {},
   "outputs": [],
   "source": [
    "thr31_1 = nm.find_median_crossed_threshold(tehran_df_ThreeReg_Ox_1_same_length)\n",
    "thr31_2 = nm.find_median_crossed_threshold(tehran_df_ThreeReg_Ox_2_same_length)\n",
    "thr31_3 = nm.find_median_crossed_threshold(tehran_df_ThreeReg_Ox_3_same_length)\n",
    "\n",
    "thr31 = min(thr31_1, thr31_2, thr31_3)"
   ]
  },
  {
   "cell_type": "code",
   "execution_count": 138,
   "id": "4ac9f5cf-d894-4866-a45c-1f574f955e6d",
   "metadata": {},
   "outputs": [],
   "source": [
    "crossed_network_ThreeReg_Ox_1 = nm.construct_network(tehran_df_ThreeReg_Ox_1_same_length, method='crossed', threshold=thr31)"
   ]
  },
  {
   "cell_type": "code",
   "execution_count": 139,
   "id": "ba2f5af6-afe2-4bab-bd1d-2f507c4edb6a",
   "metadata": {},
   "outputs": [
    {
     "data": {
      "text/html": [
       "<div>\n",
       "<style scoped>\n",
       "    .dataframe tbody tr th:only-of-type {\n",
       "        vertical-align: middle;\n",
       "    }\n",
       "\n",
       "    .dataframe tbody tr th {\n",
       "        vertical-align: top;\n",
       "    }\n",
       "\n",
       "    .dataframe thead th {\n",
       "        text-align: right;\n",
       "    }\n",
       "</style>\n",
       "<table border=\"1\" class=\"dataframe\">\n",
       "  <thead>\n",
       "    <tr style=\"text-align: right;\">\n",
       "      <th></th>\n",
       "      <th>radius</th>\n",
       "      <th>diameter</th>\n",
       "      <th>densities</th>\n",
       "      <th>number_of_edges</th>\n",
       "      <th>average_clustering</th>\n",
       "      <th>avg_degree_centrality</th>\n",
       "      <th>avg_betweenness_centrality</th>\n",
       "      <th>avg_closeness_centrality</th>\n",
       "      <th>average_shortest_path_length</th>\n",
       "    </tr>\n",
       "  </thead>\n",
       "  <tbody>\n",
       "    <tr>\n",
       "      <th>0</th>\n",
       "      <td>1</td>\n",
       "      <td>2</td>\n",
       "      <td>0.436715</td>\n",
       "      <td>452</td>\n",
       "      <td>0.515646</td>\n",
       "      <td>0.436715</td>\n",
       "      <td>0.012802</td>\n",
       "      <td>0.648715</td>\n",
       "      <td>1.563285</td>\n",
       "    </tr>\n",
       "  </tbody>\n",
       "</table>\n",
       "</div>"
      ],
      "text/plain": [
       "   radius  diameter  densities  number_of_edges  average_clustering  \\\n",
       "0       1         2   0.436715              452            0.515646   \n",
       "\n",
       "   avg_degree_centrality  avg_betweenness_centrality  \\\n",
       "0               0.436715                    0.012802   \n",
       "\n",
       "   avg_closeness_centrality  average_shortest_path_length  \n",
       "0                  0.648715                      1.563285  "
      ]
     },
     "execution_count": 139,
     "metadata": {},
     "output_type": "execute_result"
    }
   ],
   "source": [
    "nm.get_network_features(crossed_network_ThreeReg_Ox_1)"
   ]
  },
  {
   "cell_type": "code",
   "execution_count": 140,
   "id": "d09d0bf8-ff32-4479-8a6d-6b4c80f731d6",
   "metadata": {},
   "outputs": [
    {
     "data": {
      "text/plain": [
       "array({'MashinAlat': 9, 'index': 10, 'Daroee': 10, 'Bank': 10, 'MahsolateFelezi': 11, 'KanehayeGeyreFelezi': 11, 'khodrosazi': 12, 'SarmayeGozari': 13, 'Bimeh': 13, 'Mali': 13, 'KashiVaSeramik': 13, 'Lastic': 14, 'Siman': 14, 'paper': 15, 'GazaeeBejozGhand': 15, 'Shimiyaee': 15, 'Agriculture': 16, 'SayerMali': 16, 'FaniVaMohandesi': 16, 'Wood': 17, 'HamlVaNaghl': 17, 'GhandVaShekar': 17, 'Amlakva': 18, 'FaravardehayeNafti': 18, 'M2': 19, 'EstekrajeNaft': 19, 'Rayaneh': 19, 'SayerMadan': 20, 'M1': 20, 'Mansojat': 20, 'ChandReshteSanati': 21, 'DastgahayeBargi': 21, 'Gold': 22, 'Coin': 25, 'FelezateAsasi': 25, 'KanehayeFelezi': 26, 'VasayelErtebati': 27, 'Euro': 28, 'HOUSE': 28, 'EntesharVaChap': 28, 'CoalMining': 28, 'CPI': 29, 'Brent Oil': 33, 'GDP': 33, 'USD': 35, 'AbzaralatePezeshki': 45},\n",
       "      dtype=object)"
      ]
     },
     "execution_count": 140,
     "metadata": {},
     "output_type": "execute_result"
    }
   ],
   "source": [
    "b31_1 = dict(nx.degree(crossed_network_ThreeReg_Ox_1))\n",
    "b31_1 = np.array(dict(sorted(b31_1.items(), key=lambda item: item[1])))\n",
    "b31_1"
   ]
  },
  {
   "cell_type": "code",
   "execution_count": 141,
   "id": "f36b2f0e-2a30-41c9-bd0f-338797a602b9",
   "metadata": {},
   "outputs": [],
   "source": [
    "nm.get_network_features(crossed_network_ThreeReg_Ox_1).to_csv('Excels/31_1.csv')"
   ]
  },
  {
   "cell_type": "code",
   "execution_count": 142,
   "id": "6a86d8df-7ed3-4377-8c27-7184db40a6ee",
   "metadata": {},
   "outputs": [],
   "source": [
    "crossed_network_ThreeReg_Ox_2 = nm.construct_network(tehran_df_ThreeReg_Ox_2_same_length, method='crossed', threshold=thr31)"
   ]
  },
  {
   "cell_type": "code",
   "execution_count": 143,
   "id": "7bfbd5a7-1132-4ca4-9eae-11be227314b4",
   "metadata": {},
   "outputs": [
    {
     "data": {
      "text/html": [
       "<div>\n",
       "<style scoped>\n",
       "    .dataframe tbody tr th:only-of-type {\n",
       "        vertical-align: middle;\n",
       "    }\n",
       "\n",
       "    .dataframe tbody tr th {\n",
       "        vertical-align: top;\n",
       "    }\n",
       "\n",
       "    .dataframe thead th {\n",
       "        text-align: right;\n",
       "    }\n",
       "</style>\n",
       "<table border=\"1\" class=\"dataframe\">\n",
       "  <thead>\n",
       "    <tr style=\"text-align: right;\">\n",
       "      <th></th>\n",
       "      <th>radius</th>\n",
       "      <th>diameter</th>\n",
       "      <th>densities</th>\n",
       "      <th>number_of_edges</th>\n",
       "      <th>average_clustering</th>\n",
       "      <th>avg_degree_centrality</th>\n",
       "      <th>avg_betweenness_centrality</th>\n",
       "      <th>avg_closeness_centrality</th>\n",
       "      <th>average_shortest_path_length</th>\n",
       "    </tr>\n",
       "  </thead>\n",
       "  <tbody>\n",
       "    <tr>\n",
       "      <th>0</th>\n",
       "      <td>2</td>\n",
       "      <td>3</td>\n",
       "      <td>0.362319</td>\n",
       "      <td>375</td>\n",
       "      <td>0.423229</td>\n",
       "      <td>0.362319</td>\n",
       "      <td>0.014603</td>\n",
       "      <td>0.616821</td>\n",
       "      <td>1.642512</td>\n",
       "    </tr>\n",
       "  </tbody>\n",
       "</table>\n",
       "</div>"
      ],
      "text/plain": [
       "   radius  diameter  densities  number_of_edges  average_clustering  \\\n",
       "0       2         3   0.362319              375            0.423229   \n",
       "\n",
       "   avg_degree_centrality  avg_betweenness_centrality  \\\n",
       "0               0.362319                    0.014603   \n",
       "\n",
       "   avg_closeness_centrality  average_shortest_path_length  \n",
       "0                  0.616821                      1.642512  "
      ]
     },
     "execution_count": 143,
     "metadata": {},
     "output_type": "execute_result"
    }
   ],
   "source": [
    "nm.get_network_features(crossed_network_ThreeReg_Ox_2)"
   ]
  },
  {
   "cell_type": "code",
   "execution_count": 144,
   "id": "2071d248-6d1d-442b-be0e-f6a6052bf787",
   "metadata": {},
   "outputs": [
    {
     "data": {
      "text/plain": [
       "array({'KashiVaSeramik': 7, 'KanehayeFelezi': 7, 'Lastic': 8, 'ChandReshteSanati': 8, 'KanehayeGeyreFelezi': 8, 'SayerMali': 8, 'EntesharVaChap': 8, 'index': 9, 'Bimeh': 9, 'DastgahayeBargi': 10, 'GazaeeBejozGhand': 10, 'SarmayeGozari': 10, 'Siman': 10, 'MashinAlat': 11, 'Amlakva': 11, 'khodrosazi': 12, 'Daroee': 12, 'Rayaneh': 12, 'FaravardehayeNafti': 13, 'FelezateAsasi': 13, 'Shimiyaee': 13, 'Bank': 13, 'Coin': 14, 'USD': 14, 'EstekrajeNaft': 14, 'Euro': 15, 'MahsolateFelezi': 16, 'VasayelErtebati': 16, 'GhandVaShekar': 16, 'FaniVaMohandesi': 16, 'Mali': 16, 'Agriculture': 18, 'Gold': 19, 'Mansojat': 19, 'GDP': 21, 'HamlVaNaghl': 23, 'Wood': 24, 'CPI': 25, 'M1': 25, 'M2': 28, 'CoalMining': 28, 'AbzaralatePezeshki': 30, 'HOUSE': 31, 'paper': 32, 'Brent Oil': 34, 'SayerMadan': 34},\n",
       "      dtype=object)"
      ]
     },
     "execution_count": 144,
     "metadata": {},
     "output_type": "execute_result"
    }
   ],
   "source": [
    "b31_2 = dict(nx.degree(crossed_network_ThreeReg_Ox_2))\n",
    "b31_2 = np.array(dict(sorted(b31_2.items(), key=lambda item: item[1])))\n",
    "b31_2"
   ]
  },
  {
   "cell_type": "code",
   "execution_count": 146,
   "id": "d69e38a8-d744-403c-ae9e-d5c501ed8abc",
   "metadata": {},
   "outputs": [],
   "source": [
    "nm.get_network_features(crossed_network_ThreeReg_Ox_2).to_csv('Excels/31_2.csv')"
   ]
  },
  {
   "cell_type": "code",
   "execution_count": 147,
   "id": "3d21f30f-221d-480e-806c-e258b43a10bf",
   "metadata": {},
   "outputs": [],
   "source": [
    "crossed_network_ThreeReg_Ox_3 = nm.construct_network(tehran_df_ThreeReg_Ox_3_same_length, method='crossed', threshold=thr31)"
   ]
  },
  {
   "cell_type": "code",
   "execution_count": 148,
   "id": "e3f2af4e-a216-4e73-a505-3863a7e5d92a",
   "metadata": {},
   "outputs": [
    {
     "data": {
      "text/html": [
       "<div>\n",
       "<style scoped>\n",
       "    .dataframe tbody tr th:only-of-type {\n",
       "        vertical-align: middle;\n",
       "    }\n",
       "\n",
       "    .dataframe tbody tr th {\n",
       "        vertical-align: top;\n",
       "    }\n",
       "\n",
       "    .dataframe thead th {\n",
       "        text-align: right;\n",
       "    }\n",
       "</style>\n",
       "<table border=\"1\" class=\"dataframe\">\n",
       "  <thead>\n",
       "    <tr style=\"text-align: right;\">\n",
       "      <th></th>\n",
       "      <th>radius</th>\n",
       "      <th>diameter</th>\n",
       "      <th>densities</th>\n",
       "      <th>number_of_edges</th>\n",
       "      <th>average_clustering</th>\n",
       "      <th>avg_degree_centrality</th>\n",
       "      <th>avg_betweenness_centrality</th>\n",
       "      <th>avg_closeness_centrality</th>\n",
       "      <th>average_shortest_path_length</th>\n",
       "    </tr>\n",
       "  </thead>\n",
       "  <tbody>\n",
       "    <tr>\n",
       "      <th>0</th>\n",
       "      <td>1</td>\n",
       "      <td>2</td>\n",
       "      <td>0.305314</td>\n",
       "      <td>316</td>\n",
       "      <td>0.546673</td>\n",
       "      <td>0.305314</td>\n",
       "      <td>0.015788</td>\n",
       "      <td>0.60095</td>\n",
       "      <td>1.694686</td>\n",
       "    </tr>\n",
       "  </tbody>\n",
       "</table>\n",
       "</div>"
      ],
      "text/plain": [
       "   radius  diameter  densities  number_of_edges  average_clustering  \\\n",
       "0       1         2   0.305314              316            0.546673   \n",
       "\n",
       "   avg_degree_centrality  avg_betweenness_centrality  \\\n",
       "0               0.305314                    0.015788   \n",
       "\n",
       "   avg_closeness_centrality  average_shortest_path_length  \n",
       "0                   0.60095                      1.694686  "
      ]
     },
     "execution_count": 148,
     "metadata": {},
     "output_type": "execute_result"
    }
   ],
   "source": [
    "nm.get_network_features(crossed_network_ThreeReg_Ox_3)"
   ]
  },
  {
   "cell_type": "code",
   "execution_count": 149,
   "id": "460b19a8-3c93-49e4-8fa9-8cb6c8abd51c",
   "metadata": {},
   "outputs": [
    {
     "data": {
      "text/plain": [
       "array({'Daroee': 4, 'Rayaneh': 6, 'Amlakva': 6, 'ChandReshteSanati': 7, 'KanehayeGeyreFelezi': 7, 'SayerMali': 7, 'index': 8, 'Agriculture': 8, 'paper': 8, 'FelezateAsasi': 8, 'MashinAlat': 8, 'GhandVaShekar': 8, 'GazaeeBejozGhand': 8, 'KanehayeFelezi': 8, 'VasayelErtebati': 9, 'khodrosazi': 9, 'Shimiyaee': 9, 'Siman': 9, 'SarmayeGozari': 9, 'HamlVaNaghl': 9, 'EstekrajeNaft': 10, 'MahsolateFelezi': 10, 'Lastic': 10, 'FaniVaMohandesi': 10, 'KashiVaSeramik': 10, 'Wood': 11, 'Bank': 11, 'Bimeh': 11, 'Mali': 11, 'GDP': 12, 'CoalMining': 12, 'SayerMadan': 12, 'EntesharVaChap': 12, 'M1': 13, 'Euro': 16, 'USD': 20, 'DastgahayeBargi': 20, 'HOUSE': 21, 'Coin': 22, 'Gold': 23, 'FaravardehayeNafti': 25, 'CPI': 26, 'Mansojat': 33, 'M2': 35, 'Brent Oil': 36, 'AbzaralatePezeshki': 45},\n",
       "      dtype=object)"
      ]
     },
     "execution_count": 149,
     "metadata": {},
     "output_type": "execute_result"
    }
   ],
   "source": [
    "b31_3 = dict(nx.degree(crossed_network_ThreeReg_Ox_3))\n",
    "b31_3 = np.array(dict(sorted(b31_3.items(), key=lambda item: item[1])))\n",
    "b31_3"
   ]
  },
  {
   "cell_type": "code",
   "execution_count": 150,
   "id": "dfec9e7b-2ccc-4c7a-9135-2243c6c1aa68",
   "metadata": {},
   "outputs": [],
   "source": [
    "nm.get_network_features(crossed_network_ThreeReg_Ox_3).to_csv('Excels/31_3.csv')"
   ]
  },
  {
   "cell_type": "markdown",
   "id": "fb6ad1f8-c1df-45d7-9829-49e9f884c931",
   "metadata": {},
   "source": [
    "# 32) Tehran 3 Regime Crossed (Based on Median Threshold) Period of 90 Far - 98 Dey/ Last 100 Records"
   ]
  },
  {
   "cell_type": "code",
   "execution_count": 151,
   "id": "f5ec8c4a-ed47-4869-9656-613c09349e9c",
   "metadata": {},
   "outputs": [],
   "source": [
    "thr32_1 = nm.find_median_crossed_100_threshold(tehran_df_ThreeReg_Ox_1_same_length_98[-100:])\n",
    "thr32_2 = nm.find_median_crossed_100_threshold(tehran_df_ThreeReg_Ox_2_same_length_98[-100:])\n",
    "thr32_3 = nm.find_median_crossed_100_threshold(tehran_df_ThreeReg_Ox_3_same_length_98[-100:])\n",
    "\n",
    "thr32 = min(thr32_1, thr32_2, thr32_3)"
   ]
  },
  {
   "cell_type": "code",
   "execution_count": 152,
   "id": "b5bd0fc9-4827-446e-b77b-be929d070d91",
   "metadata": {},
   "outputs": [],
   "source": [
    "crossed_network_ThreeReg_Ox_1_98_last100 = nm.construct_network(tehran_df_ThreeReg_Ox_1_same_length_98[-100:], method='crossed_100', threshold=thr32)"
   ]
  },
  {
   "cell_type": "code",
   "execution_count": 153,
   "id": "f12aa232-72a6-43b8-b85d-776f4afd3b07",
   "metadata": {},
   "outputs": [
    {
     "data": {
      "text/html": [
       "<div>\n",
       "<style scoped>\n",
       "    .dataframe tbody tr th:only-of-type {\n",
       "        vertical-align: middle;\n",
       "    }\n",
       "\n",
       "    .dataframe tbody tr th {\n",
       "        vertical-align: top;\n",
       "    }\n",
       "\n",
       "    .dataframe thead th {\n",
       "        text-align: right;\n",
       "    }\n",
       "</style>\n",
       "<table border=\"1\" class=\"dataframe\">\n",
       "  <thead>\n",
       "    <tr style=\"text-align: right;\">\n",
       "      <th></th>\n",
       "      <th>radius</th>\n",
       "      <th>diameter</th>\n",
       "      <th>densities</th>\n",
       "      <th>number_of_edges</th>\n",
       "      <th>average_clustering</th>\n",
       "      <th>avg_degree_centrality</th>\n",
       "      <th>avg_betweenness_centrality</th>\n",
       "      <th>avg_closeness_centrality</th>\n",
       "      <th>average_shortest_path_length</th>\n",
       "    </tr>\n",
       "  </thead>\n",
       "  <tbody>\n",
       "    <tr>\n",
       "      <th>0</th>\n",
       "      <td>1</td>\n",
       "      <td>2</td>\n",
       "      <td>0.375845</td>\n",
       "      <td>389</td>\n",
       "      <td>0.444242</td>\n",
       "      <td>0.375845</td>\n",
       "      <td>0.014185</td>\n",
       "      <td>0.622627</td>\n",
       "      <td>1.624155</td>\n",
       "    </tr>\n",
       "  </tbody>\n",
       "</table>\n",
       "</div>"
      ],
      "text/plain": [
       "   radius  diameter  densities  number_of_edges  average_clustering  \\\n",
       "0       1         2   0.375845              389            0.444242   \n",
       "\n",
       "   avg_degree_centrality  avg_betweenness_centrality  \\\n",
       "0               0.375845                    0.014185   \n",
       "\n",
       "   avg_closeness_centrality  average_shortest_path_length  \n",
       "0                  0.622627                      1.624155  "
      ]
     },
     "execution_count": 153,
     "metadata": {},
     "output_type": "execute_result"
    }
   ],
   "source": [
    "nm.get_network_features(crossed_network_ThreeReg_Ox_1_98_last100)"
   ]
  },
  {
   "cell_type": "code",
   "execution_count": 154,
   "id": "ab4c9f72-d81d-4bfc-98a6-ab665fd62ae3",
   "metadata": {},
   "outputs": [
    {
     "data": {
      "text/plain": [
       "array({'KanehayeGeyreFelezi': 7, 'Daroee': 7, 'GazaeeBejozGhand': 8, 'Rayaneh': 11, 'EstekrajeNaft': 11, 'MashinAlat': 11, 'KashiVaSeramik': 11, 'Bank': 11, 'Mali': 11, 'HamlVaNaghl': 12, 'SayerMali': 12, 'SarmayeGozari': 13, 'Gold': 13, 'khodrosazi': 13, 'Agriculture': 14, 'MahsolateFelezi': 14, 'Siman': 14, 'Bimeh': 14, 'FaniVaMohandesi': 14, 'index': 15, 'EntesharVaChap': 15, 'FaravardehayeNafti': 15, 'GhandVaShekar': 15, 'Amlakva': 15, 'Lastic': 15, 'DastgahayeBargi': 16, 'ChandReshteSanati': 16, 'CoalMining': 17, 'KanehayeFelezi': 17, 'FelezateAsasi': 17, 'M1': 18, 'paper': 18, 'Brent Oil': 19, 'Wood': 19, 'M2': 20, 'Mansojat': 20, 'VasayelErtebati': 20, 'Shimiyaee': 21, 'CPI': 22, 'SayerMadan': 23, 'HOUSE': 24, 'Euro': 26, 'Coin': 27, 'GDP': 30, 'USD': 32, 'AbzaralatePezeshki': 45},\n",
       "      dtype=object)"
      ]
     },
     "execution_count": 154,
     "metadata": {},
     "output_type": "execute_result"
    }
   ],
   "source": [
    "b32_1 = dict(nx.degree(crossed_network_ThreeReg_Ox_1_98_last100))\n",
    "b32_1 = np.array(dict(sorted(b32_1.items(), key=lambda item: item[1])))\n",
    "b32_1"
   ]
  },
  {
   "cell_type": "code",
   "execution_count": 155,
   "id": "e245eff4-6f69-4884-a721-6241a78a6857",
   "metadata": {},
   "outputs": [],
   "source": [
    "nm.get_network_features(crossed_network_ThreeReg_Ox_1_98_last100).to_csv('Excels/32_1.csv')"
   ]
  },
  {
   "cell_type": "code",
   "execution_count": 156,
   "id": "0a96cad2-3dd7-40d3-aa3b-13e2b63e54b2",
   "metadata": {},
   "outputs": [],
   "source": [
    "crossed_network_ThreeReg_Ox_2_98_last100 = nm.construct_network(tehran_df_ThreeReg_Ox_2_same_length_98[-100:], method='crossed_100', threshold=thr32)"
   ]
  },
  {
   "cell_type": "code",
   "execution_count": 157,
   "id": "9b7baa8b-d1bd-4d7f-a198-da6c46fe5fd8",
   "metadata": {},
   "outputs": [
    {
     "data": {
      "text/html": [
       "<div>\n",
       "<style scoped>\n",
       "    .dataframe tbody tr th:only-of-type {\n",
       "        vertical-align: middle;\n",
       "    }\n",
       "\n",
       "    .dataframe tbody tr th {\n",
       "        vertical-align: top;\n",
       "    }\n",
       "\n",
       "    .dataframe thead th {\n",
       "        text-align: right;\n",
       "    }\n",
       "</style>\n",
       "<table border=\"1\" class=\"dataframe\">\n",
       "  <thead>\n",
       "    <tr style=\"text-align: right;\">\n",
       "      <th></th>\n",
       "      <th>radius</th>\n",
       "      <th>diameter</th>\n",
       "      <th>densities</th>\n",
       "      <th>number_of_edges</th>\n",
       "      <th>average_clustering</th>\n",
       "      <th>avg_degree_centrality</th>\n",
       "      <th>avg_betweenness_centrality</th>\n",
       "      <th>avg_closeness_centrality</th>\n",
       "      <th>average_shortest_path_length</th>\n",
       "    </tr>\n",
       "  </thead>\n",
       "  <tbody>\n",
       "    <tr>\n",
       "      <th>0</th>\n",
       "      <td>2</td>\n",
       "      <td>3</td>\n",
       "      <td>0.305314</td>\n",
       "      <td>316</td>\n",
       "      <td>0.350055</td>\n",
       "      <td>0.305314</td>\n",
       "      <td>0.015854</td>\n",
       "      <td>0.593917</td>\n",
       "      <td>1.697585</td>\n",
       "    </tr>\n",
       "  </tbody>\n",
       "</table>\n",
       "</div>"
      ],
      "text/plain": [
       "   radius  diameter  densities  number_of_edges  average_clustering  \\\n",
       "0       2         3   0.305314              316            0.350055   \n",
       "\n",
       "   avg_degree_centrality  avg_betweenness_centrality  \\\n",
       "0               0.305314                    0.015854   \n",
       "\n",
       "   avg_closeness_centrality  average_shortest_path_length  \n",
       "0                  0.593917                      1.697585  "
      ]
     },
     "execution_count": 157,
     "metadata": {},
     "output_type": "execute_result"
    }
   ],
   "source": [
    "nm.get_network_features(crossed_network_ThreeReg_Ox_2_98_last100)"
   ]
  },
  {
   "cell_type": "code",
   "execution_count": 158,
   "id": "387af827-01c3-4a9c-ad12-48f5ea214b41",
   "metadata": {},
   "outputs": [
    {
     "data": {
      "text/plain": [
       "array({'SarmayeGozari': 4, 'FaniVaMohandesi': 5, 'Lastic': 6, 'khodrosazi': 6, 'SayerMadan': 7, 'Amlakva': 7, 'Mali': 7, 'HamlVaNaghl': 7, 'index': 8, 'EstekrajeNaft': 8, 'KanehayeGeyreFelezi': 9, 'SayerMali': 9, 'Shimiyaee': 9, 'MashinAlat': 10, 'VasayelErtebati': 10, 'Bimeh': 10, 'Bank': 10, 'MahsolateFelezi': 11, 'EntesharVaChap': 11, 'DastgahayeBargi': 11, 'ChandReshteSanati': 11, 'GazaeeBejozGhand': 11, 'GhandVaShekar': 11, 'KashiVaSeramik': 12, 'Rayaneh': 12, 'Agriculture': 13, 'Siman': 13, 'KanehayeFelezi': 13, 'Wood': 14, 'paper': 14, 'Euro': 15, 'Daroee': 16, 'CoalMining': 16, 'FaravardehayeNafti': 18, 'FelezateAsasi': 19, 'Coin': 19, 'AbzaralatePezeshki': 19, 'USD': 19, 'M1': 21, 'Gold': 22, 'CPI': 24, 'HOUSE': 24, 'Brent Oil': 25, 'M2': 27, 'Mansojat': 27, 'GDP': 32},\n",
       "      dtype=object)"
      ]
     },
     "execution_count": 158,
     "metadata": {},
     "output_type": "execute_result"
    }
   ],
   "source": [
    "b32_2 = dict(nx.degree(crossed_network_ThreeReg_Ox_2_98_last100))\n",
    "b32_2 = np.array(dict(sorted(b32_2.items(), key=lambda item: item[1])))\n",
    "b32_2"
   ]
  },
  {
   "cell_type": "code",
   "execution_count": 159,
   "id": "7f0c3936-e958-4404-ad37-4ca76dc02928",
   "metadata": {},
   "outputs": [],
   "source": [
    "nm.get_network_features(crossed_network_ThreeReg_Ox_2_98_last100).to_csv('Excels/32_2.csv')"
   ]
  },
  {
   "cell_type": "code",
   "execution_count": 160,
   "id": "4d69fdb2-2378-44d9-b37a-08aeecc7127b",
   "metadata": {},
   "outputs": [],
   "source": [
    "crossed_network_ThreeReg_Ox_3_98_last100 = nm.construct_network(tehran_df_ThreeReg_Ox_3_same_length_98[-100:], method='crossed_100', threshold=thr32)"
   ]
  },
  {
   "cell_type": "code",
   "execution_count": 161,
   "id": "a4bc1fa9-4b25-408e-9b56-cf4f1652f166",
   "metadata": {},
   "outputs": [
    {
     "data": {
      "text/html": [
       "<div>\n",
       "<style scoped>\n",
       "    .dataframe tbody tr th:only-of-type {\n",
       "        vertical-align: middle;\n",
       "    }\n",
       "\n",
       "    .dataframe tbody tr th {\n",
       "        vertical-align: top;\n",
       "    }\n",
       "\n",
       "    .dataframe thead th {\n",
       "        text-align: right;\n",
       "    }\n",
       "</style>\n",
       "<table border=\"1\" class=\"dataframe\">\n",
       "  <thead>\n",
       "    <tr style=\"text-align: right;\">\n",
       "      <th></th>\n",
       "      <th>radius</th>\n",
       "      <th>diameter</th>\n",
       "      <th>densities</th>\n",
       "      <th>number_of_edges</th>\n",
       "      <th>average_clustering</th>\n",
       "      <th>avg_degree_centrality</th>\n",
       "      <th>avg_betweenness_centrality</th>\n",
       "      <th>avg_closeness_centrality</th>\n",
       "      <th>average_shortest_path_length</th>\n",
       "    </tr>\n",
       "  </thead>\n",
       "  <tbody>\n",
       "    <tr>\n",
       "      <th>0</th>\n",
       "      <td>1</td>\n",
       "      <td>2</td>\n",
       "      <td>0.30628</td>\n",
       "      <td>317</td>\n",
       "      <td>0.467079</td>\n",
       "      <td>0.30628</td>\n",
       "      <td>0.015766</td>\n",
       "      <td>0.597408</td>\n",
       "      <td>1.69372</td>\n",
       "    </tr>\n",
       "  </tbody>\n",
       "</table>\n",
       "</div>"
      ],
      "text/plain": [
       "   radius  diameter  densities  number_of_edges  average_clustering  \\\n",
       "0       1         2    0.30628              317            0.467079   \n",
       "\n",
       "   avg_degree_centrality  avg_betweenness_centrality  \\\n",
       "0                0.30628                    0.015766   \n",
       "\n",
       "   avg_closeness_centrality  average_shortest_path_length  \n",
       "0                  0.597408                       1.69372  "
      ]
     },
     "execution_count": 161,
     "metadata": {},
     "output_type": "execute_result"
    }
   ],
   "source": [
    "nm.get_network_features(crossed_network_ThreeReg_Ox_3_98_last100)"
   ]
  },
  {
   "cell_type": "code",
   "execution_count": 162,
   "id": "ce7854f6-fb7f-405a-b0dc-271373f51afe",
   "metadata": {},
   "outputs": [
    {
     "data": {
      "text/plain": [
       "array({'Bimeh': 4, 'GazaeeBejozGhand': 6, 'MashinAlat': 6, 'HamlVaNaghl': 6, 'MahsolateFelezi': 6, 'Lastic': 7, 'Daroee': 7, 'SarmayeGozari': 7, 'SayerMali': 7, 'ChandReshteSanati': 7, 'Siman': 7, 'index': 8, 'KanehayeGeyreFelezi': 8, 'Mali': 9, 'paper': 9, 'GhandVaShekar': 10, 'Amlakva': 10, 'M1': 10, 'KashiVaSeramik': 10, 'FaniVaMohandesi': 12, 'Shimiyaee': 12, 'FelezateAsasi': 13, 'Bank': 13, 'Rayaneh': 13, 'CoalMining': 13, 'HOUSE': 14, 'Euro': 15, 'khodrosazi': 15, 'FaravardehayeNafti': 15, 'DastgahayeBargi': 15, 'KanehayeFelezi': 16, 'VasayelErtebati': 17, 'USD': 17, 'Coin': 17, 'Mansojat': 17, 'GDP': 18, 'CPI': 18, 'Agriculture': 19, 'SayerMadan': 19, 'EstekrajeNaft': 20, 'M2': 21, 'Brent Oil': 22, 'Wood': 22, 'Gold': 23, 'EntesharVaChap': 29, 'AbzaralatePezeshki': 45},\n",
       "      dtype=object)"
      ]
     },
     "execution_count": 162,
     "metadata": {},
     "output_type": "execute_result"
    }
   ],
   "source": [
    "b32_3 = dict(nx.degree(crossed_network_ThreeReg_Ox_3_98_last100))\n",
    "b32_3 = np.array(dict(sorted(b32_3.items(), key=lambda item: item[1])))\n",
    "b32_3"
   ]
  },
  {
   "cell_type": "code",
   "execution_count": 163,
   "id": "26136234-7122-40bd-8a11-c1d5d0df40b7",
   "metadata": {},
   "outputs": [],
   "source": [
    "nm.get_network_features(crossed_network_ThreeReg_Ox_3_98_last100).to_csv('Excels/32_3.csv')"
   ]
  },
  {
   "cell_type": "markdown",
   "id": "3d731243-2b73-472b-bf1a-50fe7d1725a6",
   "metadata": {},
   "source": [
    "# 33) Tehran 3 Regime Crossed (Based on Median Threshold) Period of 90 Far - 98 Dey/ 50 windows of 100 Records"
   ]
  },
  {
   "cell_type": "code",
   "execution_count": 164,
   "id": "f154b2bb-e99f-4ede-a1dc-b4ffe662fd60",
   "metadata": {
    "tags": []
   },
   "outputs": [
    {
     "name": "stdout",
     "output_type": "stream",
     "text": [
      "Number of columns data in our DataFrame is = 46\n",
      "fixed_thr= 0.68\n"
     ]
    }
   ],
   "source": [
    "nm = Net_moduls()\n",
    "crossed_network_ThreeReg_Ox_1_98_averged = nm.get_network_features_averaged_median(tehran_df, regimes_column = tehran_df_reg.iloc[:-300]['Ox_3'],method='crossed_100',edges_threshold=200, target_window=100, target_length=50)"
   ]
  },
  {
   "cell_type": "code",
   "execution_count": 165,
   "id": "c2e0e335-f476-4893-ac8e-390357b287cf",
   "metadata": {},
   "outputs": [
    {
     "data": {
      "text/html": [
       "<div>\n",
       "<style scoped>\n",
       "    .dataframe tbody tr th:only-of-type {\n",
       "        vertical-align: middle;\n",
       "    }\n",
       "\n",
       "    .dataframe tbody tr th {\n",
       "        vertical-align: top;\n",
       "    }\n",
       "\n",
       "    .dataframe thead th {\n",
       "        text-align: right;\n",
       "    }\n",
       "</style>\n",
       "<table border=\"1\" class=\"dataframe\">\n",
       "  <thead>\n",
       "    <tr style=\"text-align: right;\">\n",
       "      <th></th>\n",
       "      <th>radius</th>\n",
       "      <th>diameter</th>\n",
       "      <th>densities</th>\n",
       "      <th>number_of_edges</th>\n",
       "      <th>average_clustering</th>\n",
       "      <th>avg_degree_centrality</th>\n",
       "      <th>avg_betweenness_centrality</th>\n",
       "      <th>avg_closeness_centrality</th>\n",
       "      <th>average_shortest_path_length</th>\n",
       "    </tr>\n",
       "  </thead>\n",
       "  <tbody>\n",
       "    <tr>\n",
       "      <th>Means</th>\n",
       "      <td>1.0</td>\n",
       "      <td>2.000000</td>\n",
       "      <td>0.325739</td>\n",
       "      <td>337.140000</td>\n",
       "      <td>0.411771</td>\n",
       "      <td>0.325739</td>\n",
       "      <td>0.015324</td>\n",
       "      <td>0.604065</td>\n",
       "      <td>1.674261</td>\n",
       "    </tr>\n",
       "    <tr>\n",
       "      <th>STDs</th>\n",
       "      <td>0.0</td>\n",
       "      <td>0.000000</td>\n",
       "      <td>0.013056</td>\n",
       "      <td>13.513425</td>\n",
       "      <td>0.033601</td>\n",
       "      <td>0.013056</td>\n",
       "      <td>0.000297</td>\n",
       "      <td>0.004730</td>\n",
       "      <td>0.013056</td>\n",
       "    </tr>\n",
       "    <tr>\n",
       "      <th>Means</th>\n",
       "      <td>2.0</td>\n",
       "      <td>3.200000</td>\n",
       "      <td>0.260992</td>\n",
       "      <td>269.680000</td>\n",
       "      <td>0.311487</td>\n",
       "      <td>0.260992</td>\n",
       "      <td>0.017453</td>\n",
       "      <td>0.570266</td>\n",
       "      <td>1.767181</td>\n",
       "    </tr>\n",
       "    <tr>\n",
       "      <th>STDs</th>\n",
       "      <td>0.0</td>\n",
       "      <td>0.404061</td>\n",
       "      <td>0.012410</td>\n",
       "      <td>13.492916</td>\n",
       "      <td>0.030638</td>\n",
       "      <td>0.012410</td>\n",
       "      <td>0.000697</td>\n",
       "      <td>0.009049</td>\n",
       "      <td>0.029434</td>\n",
       "    </tr>\n",
       "    <tr>\n",
       "      <th>Means</th>\n",
       "      <td>1.0</td>\n",
       "      <td>2.000000</td>\n",
       "      <td>0.236522</td>\n",
       "      <td>244.800000</td>\n",
       "      <td>0.452135</td>\n",
       "      <td>0.236522</td>\n",
       "      <td>0.017352</td>\n",
       "      <td>0.574979</td>\n",
       "      <td>1.763478</td>\n",
       "    </tr>\n",
       "    <tr>\n",
       "      <th>STDs</th>\n",
       "      <td>0.0</td>\n",
       "      <td>0.000000</td>\n",
       "      <td>0.038449</td>\n",
       "      <td>39.794882</td>\n",
       "      <td>0.015989</td>\n",
       "      <td>0.038449</td>\n",
       "      <td>0.000874</td>\n",
       "      <td>0.011991</td>\n",
       "      <td>0.038449</td>\n",
       "    </tr>\n",
       "  </tbody>\n",
       "</table>\n",
       "</div>"
      ],
      "text/plain": [
       "       radius  diameter  densities  number_of_edges  average_clustering  \\\n",
       "Means     1.0  2.000000   0.325739       337.140000            0.411771   \n",
       "STDs      0.0  0.000000   0.013056        13.513425            0.033601   \n",
       "Means     2.0  3.200000   0.260992       269.680000            0.311487   \n",
       "STDs      0.0  0.404061   0.012410        13.492916            0.030638   \n",
       "Means     1.0  2.000000   0.236522       244.800000            0.452135   \n",
       "STDs      0.0  0.000000   0.038449        39.794882            0.015989   \n",
       "\n",
       "       avg_degree_centrality  avg_betweenness_centrality  \\\n",
       "Means               0.325739                    0.015324   \n",
       "STDs                0.013056                    0.000297   \n",
       "Means               0.260992                    0.017453   \n",
       "STDs                0.012410                    0.000697   \n",
       "Means               0.236522                    0.017352   \n",
       "STDs                0.038449                    0.000874   \n",
       "\n",
       "       avg_closeness_centrality  average_shortest_path_length  \n",
       "Means                  0.604065                      1.674261  \n",
       "STDs                   0.004730                      0.013056  \n",
       "Means                  0.570266                      1.767181  \n",
       "STDs                   0.009049                      0.029434  \n",
       "Means                  0.574979                      1.763478  \n",
       "STDs                   0.011991                      0.038449  "
      ]
     },
     "execution_count": 165,
     "metadata": {},
     "output_type": "execute_result"
    }
   ],
   "source": [
    "crossed_network_ThreeReg_Ox_1_98_averged"
   ]
  },
  {
   "cell_type": "code",
   "execution_count": 166,
   "id": "d0cc4853-1b1a-45f1-a7e0-3cafe8bbdaf8",
   "metadata": {},
   "outputs": [],
   "source": [
    "crossed_network_ThreeReg_Ox_1_98_averged.to_csv('Excels/33.csv')"
   ]
  },
  {
   "cell_type": "markdown",
   "id": "470c7509-087d-4524-b151-450c957adca4",
   "metadata": {},
   "source": [
    "# 34) Tehran 3 Regime Crossed (Based on Median Threshold) Period of 90 Far - 00 Far/ 50 windows of 100 Records"
   ]
  },
  {
   "cell_type": "code",
   "execution_count": 167,
   "id": "937dc553-b0d9-4ba9-b4ba-8c67c4a4d3bd",
   "metadata": {
    "tags": []
   },
   "outputs": [
    {
     "name": "stdout",
     "output_type": "stream",
     "text": [
      "Number of columns data in our DataFrame is = 46\n",
      "fixed_thr= 0.68\n"
     ]
    }
   ],
   "source": [
    "nm = Net_moduls()\n",
    "crossed_network_ThreeReg_Ox_90_00_averged = nm.get_network_features_averaged_median(tehran_df_completeDates, regimes_column= tehran_df_reg['Ox_3'],method='crossed_100',edges_threshold=200, target_window=100, target_length=50)"
   ]
  },
  {
   "cell_type": "code",
   "execution_count": 168,
   "id": "eb6888e2-1bc8-438e-82fa-1311e3dba92f",
   "metadata": {},
   "outputs": [
    {
     "data": {
      "text/html": [
       "<div>\n",
       "<style scoped>\n",
       "    .dataframe tbody tr th:only-of-type {\n",
       "        vertical-align: middle;\n",
       "    }\n",
       "\n",
       "    .dataframe tbody tr th {\n",
       "        vertical-align: top;\n",
       "    }\n",
       "\n",
       "    .dataframe thead th {\n",
       "        text-align: right;\n",
       "    }\n",
       "</style>\n",
       "<table border=\"1\" class=\"dataframe\">\n",
       "  <thead>\n",
       "    <tr style=\"text-align: right;\">\n",
       "      <th></th>\n",
       "      <th>radius</th>\n",
       "      <th>diameter</th>\n",
       "      <th>densities</th>\n",
       "      <th>number_of_edges</th>\n",
       "      <th>average_clustering</th>\n",
       "      <th>avg_degree_centrality</th>\n",
       "      <th>avg_betweenness_centrality</th>\n",
       "      <th>avg_closeness_centrality</th>\n",
       "      <th>average_shortest_path_length</th>\n",
       "    </tr>\n",
       "  </thead>\n",
       "  <tbody>\n",
       "    <tr>\n",
       "      <th>Means</th>\n",
       "      <td>1.000000</td>\n",
       "      <td>2.000000</td>\n",
       "      <td>0.293449</td>\n",
       "      <td>303.720000</td>\n",
       "      <td>0.425989</td>\n",
       "      <td>0.293449</td>\n",
       "      <td>0.016058</td>\n",
       "      <td>0.593070</td>\n",
       "      <td>1.706551</td>\n",
       "    </tr>\n",
       "    <tr>\n",
       "      <th>STDs</th>\n",
       "      <td>0.000000</td>\n",
       "      <td>0.000000</td>\n",
       "      <td>0.011619</td>\n",
       "      <td>12.025551</td>\n",
       "      <td>0.019909</td>\n",
       "      <td>0.011619</td>\n",
       "      <td>0.000264</td>\n",
       "      <td>0.003860</td>\n",
       "      <td>0.011619</td>\n",
       "    </tr>\n",
       "    <tr>\n",
       "      <th>Means</th>\n",
       "      <td>1.540000</td>\n",
       "      <td>2.540000</td>\n",
       "      <td>0.264058</td>\n",
       "      <td>273.300000</td>\n",
       "      <td>0.370126</td>\n",
       "      <td>0.264058</td>\n",
       "      <td>0.016967</td>\n",
       "      <td>0.578321</td>\n",
       "      <td>1.746531</td>\n",
       "    </tr>\n",
       "    <tr>\n",
       "      <th>STDs</th>\n",
       "      <td>0.503457</td>\n",
       "      <td>0.503457</td>\n",
       "      <td>0.009682</td>\n",
       "      <td>10.020897</td>\n",
       "      <td>0.059860</td>\n",
       "      <td>0.009682</td>\n",
       "      <td>0.000408</td>\n",
       "      <td>0.007116</td>\n",
       "      <td>0.017939</td>\n",
       "    </tr>\n",
       "    <tr>\n",
       "      <th>Means</th>\n",
       "      <td>1.400000</td>\n",
       "      <td>2.400000</td>\n",
       "      <td>0.295749</td>\n",
       "      <td>306.100000</td>\n",
       "      <td>0.423688</td>\n",
       "      <td>0.295749</td>\n",
       "      <td>0.016092</td>\n",
       "      <td>0.593772</td>\n",
       "      <td>1.708058</td>\n",
       "    </tr>\n",
       "    <tr>\n",
       "      <th>STDs</th>\n",
       "      <td>0.494872</td>\n",
       "      <td>0.494872</td>\n",
       "      <td>0.019107</td>\n",
       "      <td>19.775526</td>\n",
       "      <td>0.073663</td>\n",
       "      <td>0.019107</td>\n",
       "      <td>0.000453</td>\n",
       "      <td>0.007912</td>\n",
       "      <td>0.019914</td>\n",
       "    </tr>\n",
       "  </tbody>\n",
       "</table>\n",
       "</div>"
      ],
      "text/plain": [
       "         radius  diameter  densities  number_of_edges  average_clustering  \\\n",
       "Means  1.000000  2.000000   0.293449       303.720000            0.425989   \n",
       "STDs   0.000000  0.000000   0.011619        12.025551            0.019909   \n",
       "Means  1.540000  2.540000   0.264058       273.300000            0.370126   \n",
       "STDs   0.503457  0.503457   0.009682        10.020897            0.059860   \n",
       "Means  1.400000  2.400000   0.295749       306.100000            0.423688   \n",
       "STDs   0.494872  0.494872   0.019107        19.775526            0.073663   \n",
       "\n",
       "       avg_degree_centrality  avg_betweenness_centrality  \\\n",
       "Means               0.293449                    0.016058   \n",
       "STDs                0.011619                    0.000264   \n",
       "Means               0.264058                    0.016967   \n",
       "STDs                0.009682                    0.000408   \n",
       "Means               0.295749                    0.016092   \n",
       "STDs                0.019107                    0.000453   \n",
       "\n",
       "       avg_closeness_centrality  average_shortest_path_length  \n",
       "Means                  0.593070                      1.706551  \n",
       "STDs                   0.003860                      0.011619  \n",
       "Means                  0.578321                      1.746531  \n",
       "STDs                   0.007116                      0.017939  \n",
       "Means                  0.593772                      1.708058  \n",
       "STDs                   0.007912                      0.019914  "
      ]
     },
     "execution_count": 168,
     "metadata": {},
     "output_type": "execute_result"
    }
   ],
   "source": [
    "crossed_network_ThreeReg_Ox_90_00_averged"
   ]
  },
  {
   "cell_type": "code",
   "execution_count": 169,
   "id": "ea22a342-696c-43b2-a37f-439eb6b491f9",
   "metadata": {},
   "outputs": [],
   "source": [
    "crossed_network_ThreeReg_Ox_90_00_averged.to_csv('Excels/34.csv')"
   ]
  },
  {
   "cell_type": "code",
   "execution_count": null,
   "id": "45c8e108-2009-4dff-be8a-7367cacffd45",
   "metadata": {},
   "outputs": [],
   "source": []
  }
 ],
 "metadata": {
  "kernelspec": {
   "display_name": "Python 3 (ipykernel)",
   "language": "python",
   "name": "python3"
  },
  "language_info": {
   "codemirror_mode": {
    "name": "ipython",
    "version": 3
   },
   "file_extension": ".py",
   "mimetype": "text/x-python",
   "name": "python",
   "nbconvert_exporter": "python",
   "pygments_lexer": "ipython3",
   "version": "3.11.0"
  }
 },
 "nbformat": 4,
 "nbformat_minor": 5
}
