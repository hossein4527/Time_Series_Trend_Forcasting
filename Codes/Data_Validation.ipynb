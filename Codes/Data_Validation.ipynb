{
 "cells": [
  {
   "cell_type": "code",
   "execution_count": 1,
   "id": "a2bc2f07-9a98-4538-a421-613b8fa45667",
   "metadata": {},
   "outputs": [],
   "source": [
    "import pandas as pd"
   ]
  },
  {
   "cell_type": "markdown",
   "id": "393cfcc2-c602-4e85-932e-3790f2358f7f",
   "metadata": {},
   "source": [
    "# Tehran Normed Returned DF"
   ]
  },
  {
   "cell_type": "code",
   "execution_count": 11,
   "id": "841a6beb-5163-4f19-b472-fc7fee0487a9",
   "metadata": {},
   "outputs": [],
   "source": [
    "tehran_df = pd.read_excel('/Users/hossein4527/MEGA/MEGAsync/Commit/Neda_PhD/TEDPIX_Version_Sep21/Data/Tehran_Indexes_NormedReturned_Regimed.xlsx').set_index('date')"
   ]
  },
  {
   "cell_type": "markdown",
   "id": "ecc87249-e14d-4b0d-b865-d8b79128cbdc",
   "metadata": {},
   "source": [
    "# Tehran TEDPIX Price DF"
   ]
  },
  {
   "cell_type": "code",
   "execution_count": 12,
   "id": "2f4d7657-cdee-4899-b725-a10835ec8043",
   "metadata": {},
   "outputs": [],
   "source": [
    "tehran_index = pd.read_excel('/Users/hossein4527/MEGA/MEGAsync/Commit/Neda_PhD/TEDPIX_Trend_Analysis/Data/refined/refined_data/complete_network_bothRegiming.xlsx').set_index('date')['index'].values"
   ]
  },
  {
   "cell_type": "markdown",
   "id": "7df64540-763f-4aff-a36d-db543ed06b80",
   "metadata": {},
   "source": [
    "# S&P500 Index DF"
   ]
  },
  {
   "cell_type": "code",
   "execution_count": 13,
   "id": "61d196c5-b84d-4b7d-9d3e-9b3923702440",
   "metadata": {},
   "outputs": [],
   "source": [
    "snp500_index = pd.read_excel('/Users/hossein4527/MEGA/MEGAsync/Commit/Neda_PhD/TEDPIX_Version_Sep21/Data/S&P500_Index.xlsx').set_index('Date')"
   ]
  },
  {
   "cell_type": "code",
   "execution_count": 15,
   "id": "87cf72c1-303a-46f0-8003-1c36dd9be74c",
   "metadata": {},
   "outputs": [],
   "source": []
  },
  {
   "cell_type": "code",
   "execution_count": null,
   "id": "5c0102f6-668b-4622-af8b-b1af89413ae9",
   "metadata": {},
   "outputs": [],
   "source": []
  }
 ],
 "metadata": {
  "kernelspec": {
   "display_name": "Python 3 (ipykernel)",
   "language": "python",
   "name": "python3"
  },
  "language_info": {
   "codemirror_mode": {
    "name": "ipython",
    "version": 3
   },
   "file_extension": ".py",
   "mimetype": "text/x-python",
   "name": "python",
   "nbconvert_exporter": "python",
   "pygments_lexer": "ipython3",
   "version": "3.11.0"
  }
 },
 "nbformat": 4,
 "nbformat_minor": 5
}
