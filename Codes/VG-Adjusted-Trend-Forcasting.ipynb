{
 "cells": [
  {
   "cell_type": "code",
   "execution_count": 11,
   "id": "5751e102-f375-43f4-9c32-f65725ef428c",
   "metadata": {},
   "outputs": [],
   "source": [
    "def most_similarity_matrix(time_series, T=20, tp=50):\n",
    "    G = visibility_graph(time_series)\n",
    "    adj_matrix = np.array(adjacency_matrix(G).todense())\n",
    "    E = G.number_of_edges()\n",
    "    k = adj_matrix.sum(1)\n",
    "    P = adj_matrix/k\n",
    "    n = k.shape[0]\n",
    "    s_srw = np.zeros((n,n))\n",
    "    pi = np.diag(np.ones(n))\n",
    "    for t in range(T):\n",
    "        pi = P@pi\n",
    "        s_srw += (k*pi+k.T*pi.T)/(2*E)\n",
    "    if tp != 0:\n",
    "        triup = np.triu(s_srw,k=-tp)\n",
    "        triup[triup != 0] = 1\n",
    "        s_srw = np.tril(s_srw,k=-1) * triup\n",
    "    return s_srw\n",
    "\n",
    "def ts_forcast_3Regimed_weighted_compact(df , time_serie):\n",
    "    s_srw = most_similarity_matrix(time_serie, T=20,tp=50)\n",
    "    sum_s = s_srw.sum(axis=1)\n",
    "    sum_s[sum_s == 0] = np.inf\n",
    "    ws_m = (s_srw.T/sum_s).T\n",
    "    ws = np.zeros((ws_m.shape[0], tp))\n",
    "\n",
    "    srw = s_srw\n",
    "    indx = []\n",
    "    rg_3 = []\n",
    "    ms_reg = []\n",
    "    total_y_indexs = []\n",
    "    total_y_srws = []\n",
    "    tp = 50\n",
    "    for k in range(len(srw)):\n",
    "        total_y_indexs.append([])\n",
    "        total_y_srws.append([])\n",
    "        indx.append([])\n",
    "        # indx[-1].append(0)\n",
    "        rg_3.append([])\n",
    "        rg_3[-1].append(df.iloc[k]['3pn'])\n",
    "        for i in range(tp):\n",
    "            indx[-1].append(np.where(srw[k] == np.sort(srw[k])[::-1][:tp][i])[0][0])\n",
    "            rg_3[-1].append(df.iloc[indx[-1][-1]]['3pn'])\n",
    "\n",
    "        if rg_3[k][0] != 2:\n",
    "            same_reg = np.where(rg_3[k]==rg_3[k][0])[0]\n",
    "            turn_points = np.where(np.array(rg_3[k])==2)[0]\n",
    "            num_same_regime = len(same_reg)\n",
    "            num_turn_ponits = len(turn_points)\n",
    "            indx_same = np.array(indx[k])[list(same_reg[1:]-1)]\n",
    "            indx_2 = np.array(indx[k])[list(turn_points-1)]\n",
    "            total_y_indexs[-1].append(np.concatenate((indx_same,indx_2), axis=0))\n",
    "            srw[k][indx_2] *= num_turn_ponits\n",
    "            srw[k][indx_same] *= num_same_regime\n",
    "            ssr = srw[k][total_y_indexs[-1]]\n",
    "\n",
    "\n",
    "            total_y_srws[-1].append(ssr[0]/sum(ssr[0]))\n",
    "\n",
    "        if rg_3[k][0] == 2:\n",
    "            same_reg = np.where(rg_3[k]==rg_3[k][0])[0]\n",
    "            other_points = np.where(np.array(rg_3[k])!=2)[0]\n",
    "            num_same_regime = len(same_reg)\n",
    "            num_turn_ponits = len(other_points)\n",
    "            indx_same = np.array(indx[k])[list(same_reg[1:]-1)]\n",
    "            indx_2 = np.array(indx[k])[list(other_points-1)]\n",
    "            total_y_indexs[-1].append(np.concatenate((indx_same,indx_2), axis=0))\n",
    "\n",
    "            srw[k][indx_2] *= num_turn_ponits\n",
    "            srw[k][indx_same] *= num_same_regime \n",
    "\n",
    "            ssr = srw[k][total_y_indexs[-1]]\n",
    "            # ssr_0 , ssr_1 = np.unique(ssr[0], return_index=True)\n",
    "            # ssr = ssr_0[np.argsort(ssr_1)]\n",
    "            # ssr = ssr[ssr!=0]\n",
    "            # total_y_indexs = total_y_indexs[np.argsort(ssr_1)]\n",
    "\n",
    "            total_y_srws[-1].append(ssr[0]/sum(ssr[0]))\n",
    "\n",
    "\n",
    "    start_point = 31\n",
    "    forcast_ts = np.zeros_like(time_serie)\n",
    "    forcast_ts[:start_point] = time_serie[:start_point]\n",
    "    for i in range(start_point-1,time_serie.shape[0]-1):\n",
    "        y = time_serie[i]+(time_serie[i]-time_serie[total_y_indexs[i][0]])/(i-total_y_indexs[i][0])\n",
    "        forcast_ts[i+1]=(total_y_srws[i]*y).sum()\n",
    "\n",
    "    return forcast_ts"
   ]
  },
  {
   "cell_type": "code",
   "execution_count": 229,
   "id": "34fd3a10-248e-4159-acb3-e796ae45c3e7",
   "metadata": {},
   "outputs": [],
   "source": [
    "def error_bars( selected_data, forcast_ts):\n",
    "    RMSE = math.sqrt(np.square(np.subtract(selected_data,forcast_ts)).mean())\n",
    "    NRMSE = RMSE/(max(selected_data)-min(selected_data))\n",
    "    MAPE=np.mean(np.abs((selected_data - forcast_ts)/selected_data))*100\n",
    "    MAP=np.mean(np.abs((selected_data - forcast_ts)))\n",
    "    return {'RMSE':RMSE, 'NRMSE':NRMSE, 'MAPE':MAPE, 'MAP':MAP}"
   ]
  },
  {
   "cell_type": "code",
   "execution_count": 230,
   "id": "c5708fcd-6f8f-4df8-b530-5c521060fddb",
   "metadata": {},
   "outputs": [],
   "source": [
    "import networkx as nx\n",
    "import numpy as np\n",
    "import pandas as pd\n",
    "import matplotlib.pyplot as plt\n",
    "from visibility_graph import visibility_graph\n",
    "from networkx.linalg.graphmatrix import adjacency_matrix\n",
    "import math\n",
    "from ned import VG_Modules_Model2 as vg"
   ]
  },
  {
   "cell_type": "code",
   "execution_count": 231,
   "id": "4610e877-eeaa-4e21-b705-1a5c16d0461d",
   "metadata": {},
   "outputs": [],
   "source": [
    "tehran_index = pd.read_excel('../Data/Tehran_Indexes_Price_NoRegime.xlsx').set_index('date')"
   ]
  },
  {
   "cell_type": "code",
   "execution_count": 232,
   "id": "d72d1680-1075-4014-9386-af3694757eb0",
   "metadata": {},
   "outputs": [],
   "source": [
    "tehran_df = pd.read_excel('../Data/Tehran_Indexes_NormedReturned_Regimed.xlsx').set_index('date')"
   ]
  },
  {
   "cell_type": "code",
   "execution_count": 233,
   "id": "c0de72a6-6318-41d6-a478-d8004309f81c",
   "metadata": {},
   "outputs": [],
   "source": [
    "tehran_data_to_predict = tehran_index['index'].values"
   ]
  },
  {
   "cell_type": "code",
   "execution_count": 16,
   "id": "ae88cfad-0fa4-44dc-8823-29a78f8858c2",
   "metadata": {},
   "outputs": [],
   "source": [
    "tehran_index['3pn'] = np.append(1, tehran_df['3_PN'].values)"
   ]
  },
  {
   "cell_type": "code",
   "execution_count": 234,
   "id": "78a90b49-0ee1-4aec-a4da-17bc42aba9b7",
   "metadata": {},
   "outputs": [],
   "source": [
    "time_serie = tehran_data_to_predict[-300:]"
   ]
  },
  {
   "cell_type": "code",
   "execution_count": 235,
   "id": "fa2ad1c2-c31e-481f-a523-44fb3d4ae5fe",
   "metadata": {},
   "outputs": [
    {
     "name": "stderr",
     "output_type": "stream",
     "text": [
      "/var/folders/mj/xw3m0dws3yq8j2md9n8j3g940000gn/T/ipykernel_1143/421981716.py:3: FutureWarning: adjacency_matrix will return a scipy.sparse array instead of a matrix in Networkx 3.0.\n",
      "  adj_matrix = np.array(adjacency_matrix(G).todense())\n"
     ]
    }
   ],
   "source": [
    "tp=300\n",
    "s_srw = most_similarity_matrix(time_serie, T=20,tp=300)\n",
    "sum_s = s_srw.sum(axis=1)\n",
    "sum_s[sum_s == 0] = np.inf\n",
    "ws_m = (s_srw.T/sum_s).T\n",
    "ws = np.zeros((ws_m.shape[0], tp))"
   ]
  },
  {
   "cell_type": "code",
   "execution_count": 238,
   "id": "2d2d28c8-8600-4805-99fa-7697ceaef3f8",
   "metadata": {
    "tags": []
   },
   "outputs": [],
   "source": [
    "df = tehran_index[-300:]\n",
    "srw = s_srw.copy()\n",
    "indx = []\n",
    "rg_3 = []\n",
    "tp = 200\n",
    "\n",
    "for k in range(len(srw)):\n",
    "    indx.append([])\n",
    "    indx[-1].append(k)\n",
    "    rg_3.append([])\n",
    "    rg_3[-1].append(df.iloc[k]['pn4'])\n",
    "    for i in range(tp):\n",
    "        indx[-1].append(np.where(srw[k] == np.sort(srw[k])[::-1][:tp][i])[0][0])\n",
    "        rg_3[-1].append(df.iloc[indx[-1][-1]]['pn4'])\n",
    "\n",
    "\n",
    "rg_3_new = []\n",
    "for i in range(len(rg_3)):\n",
    "    rg_3_new.append(rg_3[i][:i+1])\n",
    "    \n",
    "indx_new = []\n",
    "for i in range(len(indx)):\n",
    "    indx_new.append(indx[i][:i+1])\n",
    "\n",
    "index_new_above_thr = []\n",
    "reg_3_new_above_thr = []\n",
    "for i in range(1,len(indx_new)):\n",
    "    index_new_above_thr.append(np.array(indx_new[i])[ws_m[i][indx_new[i]] >= 0.01])\n",
    "    reg_3_new_above_thr.append(np.array(rg_3_new[i])[ws_m[i][indx_new[i]] >= 0.01])"
   ]
  },
  {
   "cell_type": "code",
   "execution_count": 288,
   "id": "efe6ed1c-5337-40ab-b724-b96fc2b2ac30",
   "metadata": {},
   "outputs": [],
   "source": [
    "chosen_weightes_above_thr = [0,]\n",
    "for k in range(1, time_serie.shape[0]):\n",
    "    \n",
    "    chosen_reg = rg_3_new[k][0]\n",
    "\n",
    "    if df['today'].iloc[k] == '+':\n",
    "        chosen_weights = srw[k][index_new_above_thr[k-1]]/sum(srw[k][index_new_above_thr[k-1]])\n",
    "        chosen_regimes = reg_3_new_above_thr[k-1]\n",
    "        chosen_weights[chosen_regimes == 1] *= 1\n",
    "        chosen_weights[chosen_regimes == 2] *= 1\n",
    "        chosen_weights[chosen_regimes == 3] *= 2\n",
    "        chosen_weights[chosen_regimes == 4] *= 0\n",
    "        \n",
    "    elif df['today'].iloc[k] == '-':\n",
    "        chosen_weights = srw[k][index_new_above_thr[k-1]]/sum(srw[k][index_new_above_thr[k-1]])\n",
    "        chosen_regimes = reg_3_new_above_thr[k-1]\n",
    "        chosen_weights[chosen_regimes == 1] *= 0\n",
    "        chosen_weights[chosen_regimes == 2] *= 2\n",
    "        chosen_weights[chosen_regimes == 3] *= 1\n",
    "        chosen_weights[chosen_regimes == 4] *= 1\n",
    "      \n",
    "    chosen_weightes_above_thr.append(chosen_weights/sum(chosen_weights))"
   ]
  },
  {
   "cell_type": "code",
   "execution_count": 289,
   "id": "09848fb7-d616-46e8-b11e-b66333bc7f45",
   "metadata": {},
   "outputs": [
    {
     "data": {
      "text/plain": [
       "{'RMSE': 25226.937214127425,\n",
       " 'NRMSE': 0.014547904988125223,\n",
       " 'MAPE': 1.494845317896985,\n",
       " 'MAP': 18684.078517501242}"
      ]
     },
     "execution_count": 289,
     "metadata": {},
     "output_type": "execute_result"
    }
   ],
   "source": [
    "start_point = 31\n",
    "forcast_ts = np.zeros_like(time_serie)\n",
    "forcast_ts[:start_point] = time_serie[:start_point]\n",
    "for i in range(start_point-1,time_serie.shape[0]-1):\n",
    "    y = time_serie[i]+(time_serie[i]-time_serie[index_new_above_thr[i-1]])/(i-index_new_above_thr[i-1])\n",
    "    forcast_ts[i+1]=(chosen_weightes_above_thr[i]*y).sum()\n",
    "err = error_bars(time_serie, forcast_ts)\n",
    "err"
   ]
  },
  {
   "cell_type": "code",
   "execution_count": 257,
   "id": "bbc2d9d6-beb3-46e0-a30a-b3d564322929",
   "metadata": {},
   "outputs": [
    {
     "name": "stderr",
     "output_type": "stream",
     "text": [
      "/Users/hossein4527/MEGA/MEGAsync/Commit/Neda_PhD/neda_sep2023/Time_Series_Trend_Forcasting/Codes/ned.py:184: FutureWarning: adjacency_matrix will return a scipy.sparse array instead of a matrix in Networkx 3.0.\n",
      "  adj_matrix = np.array(adjacency_matrix(G).todense())\n"
     ]
    },
    {
     "data": {
      "text/plain": [
       "{'RMSE': 25535.20304052492,\n",
       " 'NRMSE': 0.014725676150571578,\n",
       " 'MAPE': 1.50008733754958,\n",
       " 'MAP': 18918.78273909618}"
      ]
     },
     "execution_count": 257,
     "metadata": {},
     "output_type": "execute_result"
    }
   ],
   "source": [
    "vg2 = vg()\n",
    "model_2_forcast_ts = vg2.ts_forcast_model2_weighted(time_serie, tp=30)\n",
    "err2 = error_bars(time_serie, model_2_forcast_ts)\n",
    "err2"
   ]
  },
  {
   "cell_type": "code",
   "execution_count": 326,
   "id": "fdc325c7-f0a2-4ba5-a7ea-3fe0c85a1b0f",
   "metadata": {},
   "outputs": [
    {
     "data": {
      "text/plain": [
       "'1.2072190141126775 % Better Performace'"
      ]
     },
     "execution_count": 326,
     "metadata": {},
     "output_type": "execute_result"
    }
   ],
   "source": [
    "str(((err2['RMSE'] - err['RMSE'])/err2['RMSE'])*100)+' %'+' Better Performace at RMSE'"
   ]
  },
  {
   "cell_type": "code",
   "execution_count": 332,
   "id": "40dc60b6-82e1-4521-8b7a-35e0bfb6b986",
   "metadata": {},
   "outputs": [
    {
     "data": {
      "text/plain": [
       "'1.2072190141126726 % Better Performace at NRMSE'"
      ]
     },
     "execution_count": 332,
     "metadata": {},
     "output_type": "execute_result"
    }
   ],
   "source": [
    "str(((err2['NRMSE'] - err['NRMSE'])/err2['NRMSE'])*100)+' %'+' Better Performace at NRMSE'"
   ]
  },
  {
   "cell_type": "code",
   "execution_count": 330,
   "id": "68cfb3f5-f39f-432d-92a1-261996764312",
   "metadata": {},
   "outputs": [
    {
     "data": {
      "text/plain": [
       "'0.3494476302398506 % Better Performace at MAPE'"
      ]
     },
     "execution_count": 330,
     "metadata": {},
     "output_type": "execute_result"
    }
   ],
   "source": [
    "str(((err2['MAPE'] - err['MAPE'])/err2['MAPE'])*100)+' %'+' Better Performace at MAPE'"
   ]
  },
  {
   "cell_type": "code",
   "execution_count": 333,
   "id": "bd0e6eea-a79f-4961-a0a6-0c5589c34fc4",
   "metadata": {},
   "outputs": [
    {
     "data": {
      "text/plain": [
       "'1.24058838685173 % Better Performace at MAP'"
      ]
     },
     "execution_count": 333,
     "metadata": {},
     "output_type": "execute_result"
    }
   ],
   "source": [
    "str(((err2['MAP'] - err['MAP'])/err2['MAP'])*100)+' %'+' Better Performace at MAP'"
   ]
  },
  {
   "cell_type": "code",
   "execution_count": 318,
   "id": "1338225b-53c7-4fbb-b296-913084501c21",
   "metadata": {},
   "outputs": [
    {
     "data": {
      "image/png": "[encoded data removed]",
      "text/plain": [
       "<Figure size 640x480 with 1 Axes>"
      ]
     },
     "metadata": {},
     "output_type": "display_data"
    }
   ],
   "source": [
    "plt.plot([list(err2.values())[0], list(err2.values())[3]], 'o')\n",
    "plt.plot([list(err.values())[0], list(err.values())[3]], 'o')\n",
    "\n",
    "plt.xticks([0,1], [list(err.keys())[0], list(err.keys())[3]])\n",
    "plt.grid()"
   ]
  },
  {
   "cell_type": "code",
   "execution_count": 321,
   "id": "c9670bc5-9300-4df3-9951-157dd561e81b",
   "metadata": {},
   "outputs": [
    {
     "data": {
      "image/png": "[encoded data removed]",
      "text/plain": [
       "<Figure size 640x480 with 1 Axes>"
      ]
     },
     "metadata": {},
     "output_type": "display_data"
    }
   ],
   "source": [
    "plt.plot([list(err2.values())[1], list(err2.values())[2]], 'o')\n",
    "plt.plot([list(err.values())[1], list(err.values())[2]], 'o')\n",
    "\n",
    "plt.xticks([0,1], [list(err.keys())[1], list(err.keys())[2]])\n",
    "plt.grid()"
   ]
  },
  {
   "cell_type": "code",
   "execution_count": 244,
   "id": "df8187af-719b-4cc3-8189-664cedd3599c",
   "metadata": {},
   "outputs": [
    {
     "data": {
      "text/plain": [
       "[<matplotlib.lines.Line2D at 0x2870d0b50>]"
      ]
     },
     "execution_count": 244,
     "metadata": {},
     "output_type": "execute_result"
    },
    {
     "data": {
      "image/png": "[encoded data removed]",
      "text/plain": [
       "<Figure size 640x480 with 1 Axes>"
      ]
     },
     "metadata": {},
     "output_type": "display_data"
    }
   ],
   "source": [
    "plt.plot(forcast_ts)\n",
    "plt.plot(time_serie)"
   ]
  },
  {
   "cell_type": "code",
   "execution_count": null,
   "id": "a0c335f3-ecd8-4dbd-834f-3b71a4d4caee",
   "metadata": {},
   "outputs": [],
   "source": [
    "plt.plot()"
   ]
  },
  {
   "cell_type": "code",
   "execution_count": 223,
   "id": "06448ce8-fd75-4304-9226-8c425a68270f",
   "metadata": {},
   "outputs": [],
   "source": [
    "a = 50"
   ]
  },
  {
   "cell_type": "code",
   "execution_count": 224,
   "id": "00ab52d7-be5f-4935-8764-dccc7ffd2558",
   "metadata": {},
   "outputs": [
    {
     "data": {
      "text/plain": [
       "array([523419.65344737, 509522.63033333, 505178.4475    , 519995.60944444,\n",
       "       505316.243     , 523376.08068085, 523428.88193182, 523771.80503571,\n",
       "       523393.55354348, 523354.53558   , 523413.60297778, 523471.5035    ,\n",
       "       523454.837225  , 519346.873875  , 523377.47857143, 521751.22372727,\n",
       "       523379.1066875 , 513749.73525   , 523890.04488889, 524126.00480556,\n",
       "       523969.31086486, 524079.64934615, 524318.90852174, 524108.76736842,\n",
       "       523970.21058065, 524400.90216   , 524035.1620625 , 524373.84270833,\n",
       "       523508.75165854, 524462.57122727, 523978.50663333, 524272.23616667,\n",
       "       524197.52482353, 524447.45268571, 523539.4064186 , 524570.15419048,\n",
       "       523470.21030769, 523509.77333333])"
      ]
     },
     "execution_count": 224,
     "metadata": {},
     "output_type": "execute_result"
    }
   ],
   "source": [
    "time_serie[a]+(time_serie[a]-time_serie[index_new_above_thr[a-1]])/(a-index_new_above_thr[a-1])"
   ]
  },
  {
   "cell_type": "code",
   "execution_count": 225,
   "id": "ae4baa05-fce6-46ad-94e1-a929d6a0cc46",
   "metadata": {},
   "outputs": [
    {
     "data": {
      "text/plain": [
       "519847.329"
      ]
     },
     "execution_count": 225,
     "metadata": {},
     "output_type": "execute_result"
    }
   ],
   "source": [
    "time_serie[a]"
   ]
  },
  {
   "cell_type": "code",
   "execution_count": 226,
   "id": "093191d6-522f-4583-a0e2-08cc29e69d86",
   "metadata": {},
   "outputs": [
    {
     "data": {
      "text/plain": [
       "520211.767"
      ]
     },
     "execution_count": 226,
     "metadata": {},
     "output_type": "execute_result"
    }
   ],
   "source": [
    "time_serie[a+1]"
   ]
  },
  {
   "cell_type": "code",
   "execution_count": 227,
   "id": "bb360860-7070-4cef-99b9-f96b9fb6f5c4",
   "metadata": {},
   "outputs": [
    {
     "data": {
      "text/plain": [
       "518920.80224082223"
      ]
     },
     "execution_count": 227,
     "metadata": {},
     "output_type": "execute_result"
    }
   ],
   "source": [
    "forcast_ts[a+1]"
   ]
  },
  {
   "cell_type": "code",
   "execution_count": 228,
   "id": "0951cd04-40ea-4313-b71e-e3232ff21900",
   "metadata": {},
   "outputs": [
    {
     "data": {
      "text/plain": [
       "518847.18590249727"
      ]
     },
     "execution_count": 228,
     "metadata": {},
     "output_type": "execute_result"
    }
   ],
   "source": [
    "model_2_forcast_ts[a+1]"
   ]
  },
  {
   "cell_type": "code",
   "execution_count": 216,
   "id": "720cc53f-bf33-4cbe-89b3-a600492c6f3a",
   "metadata": {},
   "outputs": [
    {
     "data": {
      "text/plain": [
       "29"
      ]
     },
     "execution_count": 216,
     "metadata": {},
     "output_type": "execute_result"
    }
   ],
   "source": [
    "index_new_above_thr[30-1][-8]"
   ]
  },
  {
   "cell_type": "code",
   "execution_count": 217,
   "id": "dfa4865b-5446-4056-beba-6adb243bde95",
   "metadata": {},
   "outputs": [
    {
     "data": {
      "text/plain": [
       "index                        420668.0\n",
       "Brent Oil                       58.41\n",
       "Coin                       50120000.0\n",
       "Euro                         149000.0\n",
       "USD                          134070.0\n",
       "CPI                        195.979186\n",
       "HOUSE                   141426.598717\n",
       "M1                      3232758.05417\n",
       "M2                     23567569.35139\n",
       "GDP                    5848086.426923\n",
       "Gold                           1576.8\n",
       "Agriculture                  112906.0\n",
       "CoalMining                    12979.9\n",
       "EstekrajeNaft                  2385.1\n",
       "MahsolateFelezi              131644.0\n",
       "SayerMadan                   126805.0\n",
       "Mansojat                       6488.6\n",
       "Wood                         526248.0\n",
       "paper                        113262.0\n",
       "EntesharVaChap              1473900.0\n",
       "FaravardehayeNafti          1482230.0\n",
       "Lastic                       109531.0\n",
       "FelezateAsasi                266552.0\n",
       "MashinAlat                   139417.0\n",
       "DastgahayeBargi             2851410.0\n",
       "VasayelErtebati               15384.6\n",
       "AbzaralatePezeshki           10244.34\n",
       "khodrosazi                    67930.1\n",
       "GhandVaShekar                 72866.6\n",
       "ChandReshteSanati             39246.7\n",
       "GazaeeBejozGhand              24996.3\n",
       "Daroee                        55926.1\n",
       "Shimiyaee                     24983.3\n",
       "KashiVaSeramik                19244.5\n",
       "Siman                          4738.7\n",
       "KanehayeGeyreFelezi           21607.7\n",
       "SarmayeGozari                 10126.1\n",
       "Bank                           1942.1\n",
       "SayerMali                      8237.8\n",
       "HamlVaNaghl                   12490.5\n",
       "Bimeh                         25792.2\n",
       "Amlakva                        3222.9\n",
       "Rayaneh                       32706.7\n",
       "FaniVaMohandesi                3576.8\n",
       "Mali                         507966.0\n",
       "KanehayeFelezi                94561.6\n",
       "PN                                  1\n",
       "today                               +\n",
       "3pn                                 1\n",
       "Name: 2020-01-27 00:00:00, dtype: object"
      ]
     },
     "execution_count": 217,
     "metadata": {},
     "output_type": "execute_result"
    }
   ],
   "source": [
    "df.iloc[29]"
   ]
  },
  {
   "cell_type": "code",
   "execution_count": null,
   "id": "7b86a23f-facc-481c-b269-b81d3a59d4f3",
   "metadata": {},
   "outputs": [],
   "source": []
  },
  {
   "cell_type": "code",
   "execution_count": null,
   "id": "ca3af672-f2d3-4fe8-87eb-02d7a2537d52",
   "metadata": {},
   "outputs": [],
   "source": []
  },
  {
   "cell_type": "code",
   "execution_count": null,
   "id": "09957d44-87c1-4d74-825e-2006e3c7a9b2",
   "metadata": {},
   "outputs": [],
   "source": []
  },
  {
   "cell_type": "code",
   "execution_count": null,
   "id": "144ad3b2-4742-4af7-a39a-ef3d26131470",
   "metadata": {},
   "outputs": [],
   "source": []
  },
  {
   "cell_type": "code",
   "execution_count": 238,
   "id": "e697fc61-2730-4994-b39e-076ef7e6ab6c",
   "metadata": {},
   "outputs": [],
   "source": [
    "rg_3_new = []\n",
    "for i in range(len(rg_3)):\n",
    "    rg_3_new.append(rg_3[i][:i+1])"
   ]
  },
  {
   "cell_type": "code",
   "execution_count": 33,
   "id": "5ae911cf-9c1c-4ff5-9314-969f9e1e8693",
   "metadata": {},
   "outputs": [],
   "source": [
    "num_of_3s = []\n",
    "num_of_2s = []\n",
    "num_of_1s = []\n",
    "for i in range(300):\n",
    "    num_of_1s.append(len(np.where(np.array(rg_3_new[i])==1)[0]))\n",
    "    num_of_2s.append(len(np.where(np.array(rg_3_new[i])==2)[0]))\n",
    "    num_of_3s.append(len(np.where(np.array(rg_3_new[i])==3)[0]))\n"
   ]
  },
  {
   "cell_type": "code",
   "execution_count": 34,
   "id": "40574463-7987-434f-b060-5d04e83c52c3",
   "metadata": {},
   "outputs": [
    {
     "data": {
      "image/png": "[encoded data removed]",
      "text/plain": [
       "<Figure size 640x480 with 1 Axes>"
      ]
     },
     "metadata": {},
     "output_type": "display_data"
    }
   ],
   "source": [
    "plt.plot(num_of_1s, '.-', label='reg1')\n",
    "plt.plot(num_of_2s, '.-', label='reg2')\n",
    "plt.plot(num_of_3s, '.-', label='reg3')\n",
    "plt.legend()\n",
    "plt.grid()"
   ]
  },
  {
   "cell_type": "code",
   "execution_count": null,
   "id": "d0b9cfcc-452f-43a6-8f55-f0a67fb1463a",
   "metadata": {},
   "outputs": [],
   "source": [
    "    \n",
    "same_reg_with_reg_1 = []\n",
    "num_same_reg_with_reg_1 = []\n",
    "indx_same_reg_with_reg_1 = []\n",
    "\n",
    "same_reg_with_reg_2 = []\n",
    "num_same_reg_with_reg_2 = []\n",
    "indx_same_reg_with_reg_2 = []\n",
    "\n",
    "same_reg_with_reg_3 = []\n",
    "num_same_reg_with_reg_3 = []\n",
    "indx_same_reg_with_reg_3 = []\n",
    "\n",
    "for k in range(len(srw)):\n",
    "    if rg_3_new[k][0] == 1:\n",
    "        same_reg_with_reg_1.append(np.where(rg_3_new[k]==rg_3_new[k][0])[0])\n",
    "        num_same_reg_with_reg_1.append(len(same_reg_with_reg_1[-1]))\n",
    "        indx_same_reg_with_reg_1.append(np.array(indx_new[k])[list(same_reg_with_reg_1[-1])])\n",
    "        \n",
    "    elif rg_3_new[k][0] == 2:\n",
    "        same_reg_with_reg_2.append(np.where(rg_3_new[k]==rg_3_new[k][0])[0])\n",
    "        num_same_reg_with_reg_2.append(len(same_reg_with_reg_2[-1]))\n",
    "        indx_same_reg_with_reg_2.append(np.array(indx_new[k])[list(same_reg_with_reg_2[-1])])  \n",
    "        \n",
    "    elif rg_3_new[k][0] == 3:\n",
    "        same_reg_with_reg_3.append(np.where(rg_3_new[k]==rg_3_new[k][0])[0])\n",
    "        num_same_reg_with_reg_3.append(len(same_reg_with_reg_3[-1]))\n",
    "        indx_same_reg_with_reg_3.append(np.array(indx_new[k])[list(same_reg_with_reg_3[-1])]) \n",
    "        \n",
    "#         num_turn_ponits = len(turn_points)\n",
    "#         turn_points = np.where(np.array(rg_3[k])==2)[0]\n",
    "#         indx_2 = np.array(indx[k])[list(turn_points-1)]\n",
    "#         total_y_indexs[-1].append(np.concatenate((indx_same,indx_2), axis=0))\n",
    "#         srw[k][indx_2] *= num_turn_ponits\n",
    "#         srw[k][indx_same] *= num_same_regime\n",
    "#         ssr = srw[k][total_y_indexs[-1]]\n",
    "\n",
    "\n",
    "#         total_y_srws[-1].append(ssr[0]/sum(ssr[0]))"
   ]
  }
 ],
 "metadata": {
  "kernelspec": {
   "display_name": "Python 3 (ipykernel)",
   "language": "python",
   "name": "python3"
  },
  "language_info": {
   "codemirror_mode": {
    "name": "ipython",
    "version": 3
   },
   "file_extension": ".py",
   "mimetype": "text/x-python",
   "name": "python",
   "nbconvert_exporter": "python",
   "pygments_lexer": "ipython3",
   "version": "3.11.0"
  }
 },
 "nbformat": 4,
 "nbformat_minor": 5
}
