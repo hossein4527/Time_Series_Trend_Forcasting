{
 "cells": [
  {
   "cell_type": "code",
   "execution_count": 1,
   "id": "9df9b137-c106-48b0-bec0-f8310cf49fe6",
   "metadata": {},
   "outputs": [],
   "source": [
    "from ned import Net_moduls\n",
    "import networkx as nx\n",
    "import numpy as np"
   ]
  },
  {
   "cell_type": "code",
   "execution_count": 2,
   "id": "dcc17b6b-11f5-4b32-bd9f-32f409077154",
   "metadata": {},
   "outputs": [],
   "source": [
    "from nxviz.plots import CircosPlot"
   ]
  },
  {
   "cell_type": "code",
   "execution_count": 3,
   "id": "ed51ca32-ac02-4621-9b8a-5caa6cb697cd",
   "metadata": {},
   "outputs": [],
   "source": [
    "import pandas as pd\n",
    "import matplotlib.pyplot as plt"
   ]
  },
  {
   "cell_type": "markdown",
   "id": "c102abae-74b4-4a85-946d-b9faecf3cc47",
   "metadata": {},
   "source": [
    "# Data"
   ]
  },
  {
   "cell_type": "markdown",
   "id": "ca7ffdbb-ed51-4350-b647-1044f302e428",
   "metadata": {},
   "source": [
    "## Tehran Index DF and Tehran DF Normed Return 90 Far - 00 Far"
   ]
  },
  {
   "cell_type": "code",
   "execution_count": 4,
   "id": "c8b144ad-a231-44a7-8864-d8743eeb278b",
   "metadata": {},
   "outputs": [],
   "source": [
    "tehran_index = pd.read_excel('../Data/Tehran_Indexes_Price_NoRegime.xlsx').set_index('date')"
   ]
  },
  {
   "cell_type": "code",
   "execution_count": 5,
   "id": "9f426c61-1e01-43d5-99e3-6d5457b71a6e",
   "metadata": {},
   "outputs": [],
   "source": [
    "tehran_df_reg = pd.read_excel('../Data/Tehran_Indexes_NormedReturned_Regimed.xlsx').set_index('date')"
   ]
  },
  {
   "cell_type": "code",
   "execution_count": 6,
   "id": "bad0a593-807b-4c5b-b9c9-ade80cfbffc5",
   "metadata": {},
   "outputs": [],
   "source": [
    "tehran_index_99 = pd.read_excel('../Data/Tehran_Indexes_NormedReturned_Regimed_newox.xlsx').set_index('date')"
   ]
  },
  {
   "cell_type": "markdown",
   "id": "4c78b44b-f17c-4773-9a8a-7540bd95385c",
   "metadata": {},
   "source": [
    "## Tehran DF Normed Return 90 Far - 98 Dey"
   ]
  },
  {
   "cell_type": "code",
   "execution_count": 7,
   "id": "3b865b37-ed9f-4d8f-990d-09f673b7f91e",
   "metadata": {},
   "outputs": [],
   "source": [
    "tehran_df = pd.read_excel('../Data/Tehran_Indexes_NormedReturned_Regimed.xlsx').set_index('date')\n",
    "tehran_df = tehran_df[tehran_df.columns[:-12]].iloc[:-300]"
   ]
  },
  {
   "cell_type": "markdown",
   "id": "da4f9608-498a-4956-8752-7013a814f5a0",
   "metadata": {},
   "source": [
    "## Tehran DF Normed Return 90 Far - 00 Far"
   ]
  },
  {
   "cell_type": "code",
   "execution_count": 8,
   "id": "9a3632e3-6d14-4477-b9da-f8e9a9e924b6",
   "metadata": {},
   "outputs": [],
   "source": [
    "tehran_df_completeDates = pd.read_excel('../Data/Tehran_Indexes_NormedReturned_Regimed.xlsx').set_index('date')\n",
    "tehran_df_completeDates = tehran_df_completeDates[tehran_df_completeDates.columns[:-12]]"
   ]
  },
  {
   "cell_type": "markdown",
   "id": "42a8538f-89ab-46f9-a2eb-d6c4721cff87",
   "metadata": {},
   "source": [
    "## Tehran pn 6 Regimed DF Normed Return 90 Far - 98 Dey "
   ]
  },
  {
   "cell_type": "code",
   "execution_count": 48,
   "id": "08979266-c190-4ca1-86b2-e007f8d158b0",
   "metadata": {},
   "outputs": [],
   "source": [
    "tehran_df_SixReg_pn_1_98 = tehran_df[tehran_df_reg.iloc[:-300]['6_(2pn)']==1]\n",
    "tehran_df_SixReg_pn_2_98 = tehran_df[tehran_df_reg.iloc[:-300]['6_(2pn)']==2]\n",
    "tehran_df_SixReg_pn_3_98 = tehran_df[tehran_df_reg.iloc[:-300]['6_(2pn)']==3]\n",
    "tehran_df_SixReg_pn_4_98 = tehran_df[tehran_df_reg.iloc[:-300]['6_(2pn)']==4]\n",
    "tehran_df_SixReg_pn_5_98 = tehran_df[tehran_df_reg.iloc[:-300]['6_(2pn)']==5]\n",
    "tehran_df_SixReg_pn_6_98 = tehran_df[tehran_df_reg.iloc[:-300]['6_(2pn)']==6]"
   ]
  },
  {
   "cell_type": "markdown",
   "id": "8af4810a-ca8a-4060-942e-8a3b57cfb7d9",
   "metadata": {},
   "source": [
    "## Tehran pn 6 Regimed DF Normed Return 90 Far - 98 Dey / Same Length"
   ]
  },
  {
   "cell_type": "code",
   "execution_count": 49,
   "id": "0f253122-afe8-485d-bf5d-944120b3dec4",
   "metadata": {},
   "outputs": [],
   "source": [
    "max_length_SixReg_pn_90_98 = min(len(tehran_df_SixReg_pn_1_98), len(tehran_df_SixReg_pn_2_98),len(tehran_df_SixReg_pn_3_98),\\\n",
    "                                  len(tehran_df_SixReg_pn_4_98), len(tehran_df_SixReg_pn_5_98),len(tehran_df_SixReg_pn_6_98))\n",
    "tehran_df_SixReg_pn_1_same_length_98 = tehran_df_SixReg_pn_1_98[-max_length_SixReg_pn_90_98:]\n",
    "tehran_df_SixReg_pn_2_same_length_98 = tehran_df_SixReg_pn_2_98[-max_length_SixReg_pn_90_98:]\n",
    "tehran_df_SixReg_pn_3_same_length_98 = tehran_df_SixReg_pn_3_98[-max_length_SixReg_pn_90_98:]\n",
    "tehran_df_SixReg_pn_4_same_length_98 = tehran_df_SixReg_pn_4_98[-max_length_SixReg_pn_90_98:]\n",
    "tehran_df_SixReg_pn_5_same_length_98 = tehran_df_SixReg_pn_5_98[-max_length_SixReg_pn_90_98:]\n",
    "tehran_df_SixReg_pn_6_same_length_98 = tehran_df_SixReg_pn_6_98[-max_length_SixReg_pn_90_98:]"
   ]
  },
  {
   "cell_type": "markdown",
   "id": "e5577749-1d9e-4aa0-bf1d-cca1f1d9cbce",
   "metadata": {},
   "source": [
    "## Tehran pn 6 Regimed DF Normed Return 90 Far - 00 Dey "
   ]
  },
  {
   "cell_type": "code",
   "execution_count": 52,
   "id": "802dea30-b3b0-4981-8710-7a225eea882e",
   "metadata": {},
   "outputs": [],
   "source": [
    "tehran_df_SixReg_pn_1 = tehran_df_completeDates[tehran_df_reg['6_(2pn)']==1]\n",
    "tehran_df_SixReg_pn_2 = tehran_df_completeDates[tehran_df_reg['6_(2pn)']==2]\n",
    "tehran_df_SixReg_pn_3 = tehran_df_completeDates[tehran_df_reg['6_(2pn)']==3]\n",
    "tehran_df_SixReg_pn_4 = tehran_df_completeDates[tehran_df_reg['6_(2pn)']==4]\n",
    "tehran_df_SixReg_pn_5 = tehran_df_completeDates[tehran_df_reg['6_(2pn)']==5]\n",
    "tehran_df_SixReg_pn_6 = tehran_df_completeDates[tehran_df_reg['6_(2pn)']==6]"
   ]
  },
  {
   "cell_type": "markdown",
   "id": "329aff07-5ec0-43b3-b6e9-dd16477545b7",
   "metadata": {},
   "source": [
    "## Tehran pn 6 Regimed DF Normed Return 90 Far - 98 Dey / Same Length"
   ]
  },
  {
   "cell_type": "code",
   "execution_count": 53,
   "id": "f03e4dae-3dda-4e03-9546-18b1cdd4771f",
   "metadata": {},
   "outputs": [],
   "source": [
    "max_length_SixReg_pn_90 = min(len(tehran_df_SixReg_pn_1), len(tehran_df_SixReg_pn_2),len(tehran_df_SixReg_pn_3),\\\n",
    "                                  len(tehran_df_SixReg_pn_4), len(tehran_df_SixReg_pn_5),len(tehran_df_SixReg_pn_6))\n",
    "tehran_df_SixReg_pn_1_same_length = tehran_df_SixReg_pn_1[-max_length_SixReg_pn_90:]\n",
    "tehran_df_SixReg_pn_2_same_length = tehran_df_SixReg_pn_2[-max_length_SixReg_pn_90:]\n",
    "tehran_df_SixReg_pn_3_same_length = tehran_df_SixReg_pn_3[-max_length_SixReg_pn_90:]\n",
    "tehran_df_SixReg_pn_4_same_length = tehran_df_SixReg_pn_4[-max_length_SixReg_pn_90:]\n",
    "tehran_df_SixReg_pn_5_same_length = tehran_df_SixReg_pn_5[-max_length_SixReg_pn_90:]\n",
    "tehran_df_SixReg_pn_6_same_length = tehran_df_SixReg_pn_6[-max_length_SixReg_pn_90:]"
   ]
  },
  {
   "cell_type": "markdown",
   "id": "2aa1ac5f-a174-4358-b3a4-aa08b239f0d1",
   "metadata": {},
   "source": [
    "# 50) Tehran 6 pn Regime Pearson (Based on Median Threshold) Period of 90 Far - 98 Dey"
   ]
  },
  {
   "cell_type": "code",
   "execution_count": 54,
   "id": "e907161a-74ec-4358-8daa-3ad58f1ba77d",
   "metadata": {},
   "outputs": [],
   "source": [
    "nm = Net_moduls()"
   ]
  },
  {
   "cell_type": "code",
   "execution_count": 55,
   "id": "c82b8f1c-ba7b-475d-b4b7-df4a2108666e",
   "metadata": {},
   "outputs": [],
   "source": [
    "thr50_1 = nm.find_median_pearson_threshold(tehran_df_SixReg_pn_1_same_length_98)\n",
    "thr50_2 = nm.find_median_pearson_threshold(tehran_df_SixReg_pn_2_same_length_98)\n",
    "thr50_3 = nm.find_median_pearson_threshold(tehran_df_SixReg_pn_3_same_length_98)\n",
    "thr50_4 = nm.find_median_pearson_threshold(tehran_df_SixReg_pn_4_same_length_98)\n",
    "thr50_5 = nm.find_median_pearson_threshold(tehran_df_SixReg_pn_5_same_length_98)\n",
    "thr50_6 = nm.find_median_pearson_threshold(tehran_df_SixReg_pn_6_same_length_98)\n",
    "\n",
    "thr50 = min(thr50_1, thr50_2, thr50_3, thr50_4, thr50_5, thr50_6)"
   ]
  },
  {
   "cell_type": "code",
   "execution_count": 56,
   "id": "1e905513-0669-4e34-b5ae-85eba4404a54",
   "metadata": {},
   "outputs": [],
   "source": [
    "nm = Net_moduls()\n",
    "pearson_network_SixReg_pn_1_98 = nm.construct_network(tehran_df_SixReg_pn_1_same_length_98, method='pearson', threshold=thr50)"
   ]
  },
  {
   "cell_type": "code",
   "execution_count": 57,
   "id": "6feba547-98b8-4207-9386-bf5ef50daca0",
   "metadata": {},
   "outputs": [
    {
     "data": {
      "text/html": [
       "<div>\n",
       "<style scoped>\n",
       "    .dataframe tbody tr th:only-of-type {\n",
       "        vertical-align: middle;\n",
       "    }\n",
       "\n",
       "    .dataframe tbody tr th {\n",
       "        vertical-align: top;\n",
       "    }\n",
       "\n",
       "    .dataframe thead th {\n",
       "        text-align: right;\n",
       "    }\n",
       "</style>\n",
       "<table border=\"1\" class=\"dataframe\">\n",
       "  <thead>\n",
       "    <tr style=\"text-align: right;\">\n",
       "      <th></th>\n",
       "      <th>radius</th>\n",
       "      <th>diameter</th>\n",
       "      <th>densities</th>\n",
       "      <th>number_of_edges</th>\n",
       "      <th>average_clustering</th>\n",
       "      <th>avg_degree_centrality</th>\n",
       "      <th>avg_betweenness_centrality</th>\n",
       "      <th>avg_closeness_centrality</th>\n",
       "      <th>average_shortest_path_length</th>\n",
       "    </tr>\n",
       "  </thead>\n",
       "  <tbody>\n",
       "    <tr>\n",
       "      <th>0</th>\n",
       "      <td>1</td>\n",
       "      <td>2</td>\n",
       "      <td>0.89596</td>\n",
       "      <td>887</td>\n",
       "      <td>0.914074</td>\n",
       "      <td>0.89596</td>\n",
       "      <td>0.00242</td>\n",
       "      <td>0.911855</td>\n",
       "      <td>1.10404</td>\n",
       "    </tr>\n",
       "  </tbody>\n",
       "</table>\n",
       "</div>"
      ],
      "text/plain": [
       "   radius  diameter  densities  number_of_edges  average_clustering  \\\n",
       "0       1         2    0.89596              887            0.914074   \n",
       "\n",
       "   avg_degree_centrality  avg_betweenness_centrality  \\\n",
       "0                0.89596                     0.00242   \n",
       "\n",
       "   avg_closeness_centrality  average_shortest_path_length  \n",
       "0                  0.911855                       1.10404  "
      ]
     },
     "execution_count": 57,
     "metadata": {},
     "output_type": "execute_result"
    }
   ],
   "source": [
    "nm.get_network_features(pearson_network_SixReg_pn_1_98)"
   ]
  },
  {
   "cell_type": "code",
   "execution_count": 154,
   "id": "5e4e88d0-9382-4413-99e7-c9a51d4b26de",
   "metadata": {},
   "outputs": [],
   "source": [
    "nm.get_network_features(pearson_network_SixReg_pn_1_98).to_csv('Excels/50_1.csv')"
   ]
  },
  {
   "cell_type": "code",
   "execution_count": 58,
   "id": "b35c357f-5fca-4821-aa6c-05b4bd38864e",
   "metadata": {},
   "outputs": [],
   "source": [
    "pearson_network_SixReg_pn_2_98 = nm.construct_network(tehran_df_SixReg_pn_2_same_length_98, method='pearson', threshold=thr50)"
   ]
  },
  {
   "cell_type": "code",
   "execution_count": 59,
   "id": "dbad4fef-428a-43a3-8fad-ab2c0f52f1e3",
   "metadata": {},
   "outputs": [
    {
     "data": {
      "text/html": [
       "<div>\n",
       "<style scoped>\n",
       "    .dataframe tbody tr th:only-of-type {\n",
       "        vertical-align: middle;\n",
       "    }\n",
       "\n",
       "    .dataframe tbody tr th {\n",
       "        vertical-align: top;\n",
       "    }\n",
       "\n",
       "    .dataframe thead th {\n",
       "        text-align: right;\n",
       "    }\n",
       "</style>\n",
       "<table border=\"1\" class=\"dataframe\">\n",
       "  <thead>\n",
       "    <tr style=\"text-align: right;\">\n",
       "      <th></th>\n",
       "      <th>radius</th>\n",
       "      <th>diameter</th>\n",
       "      <th>densities</th>\n",
       "      <th>number_of_edges</th>\n",
       "      <th>average_clustering</th>\n",
       "      <th>avg_degree_centrality</th>\n",
       "      <th>avg_betweenness_centrality</th>\n",
       "      <th>avg_closeness_centrality</th>\n",
       "      <th>average_shortest_path_length</th>\n",
       "    </tr>\n",
       "  </thead>\n",
       "  <tbody>\n",
       "    <tr>\n",
       "      <th>0</th>\n",
       "      <td>2</td>\n",
       "      <td>2</td>\n",
       "      <td>0.858937</td>\n",
       "      <td>889</td>\n",
       "      <td>0.876815</td>\n",
       "      <td>0.858937</td>\n",
       "      <td>0.003206</td>\n",
       "      <td>0.882469</td>\n",
       "      <td>1.141063</td>\n",
       "    </tr>\n",
       "  </tbody>\n",
       "</table>\n",
       "</div>"
      ],
      "text/plain": [
       "   radius  diameter  densities  number_of_edges  average_clustering  \\\n",
       "0       2         2   0.858937              889            0.876815   \n",
       "\n",
       "   avg_degree_centrality  avg_betweenness_centrality  \\\n",
       "0               0.858937                    0.003206   \n",
       "\n",
       "   avg_closeness_centrality  average_shortest_path_length  \n",
       "0                  0.882469                      1.141063  "
      ]
     },
     "execution_count": 59,
     "metadata": {},
     "output_type": "execute_result"
    }
   ],
   "source": [
    "nm.get_network_features(pearson_network_SixReg_pn_2_98)"
   ]
  },
  {
   "cell_type": "code",
   "execution_count": 155,
   "id": "623b1194-5dd9-4d52-8106-9ddd4475c0c4",
   "metadata": {},
   "outputs": [],
   "source": [
    "nm.get_network_features(pearson_network_SixReg_pn_2_98).to_csv('Excels/50_2.csv')"
   ]
  },
  {
   "cell_type": "code",
   "execution_count": 60,
   "id": "ef3df977-8edf-4614-8fa6-1afa5617ea2c",
   "metadata": {},
   "outputs": [],
   "source": [
    "pearson_network_SixReg_pn_3_98 = nm.construct_network(tehran_df_SixReg_pn_3_same_length_98, method='pearson', threshold=thr50)"
   ]
  },
  {
   "cell_type": "code",
   "execution_count": 61,
   "id": "2b95d772-256d-43db-be4a-a4001c0c4637",
   "metadata": {},
   "outputs": [
    {
     "data": {
      "text/html": [
       "<div>\n",
       "<style scoped>\n",
       "    .dataframe tbody tr th:only-of-type {\n",
       "        vertical-align: middle;\n",
       "    }\n",
       "\n",
       "    .dataframe tbody tr th {\n",
       "        vertical-align: top;\n",
       "    }\n",
       "\n",
       "    .dataframe thead th {\n",
       "        text-align: right;\n",
       "    }\n",
       "</style>\n",
       "<table border=\"1\" class=\"dataframe\">\n",
       "  <thead>\n",
       "    <tr style=\"text-align: right;\">\n",
       "      <th></th>\n",
       "      <th>radius</th>\n",
       "      <th>diameter</th>\n",
       "      <th>densities</th>\n",
       "      <th>number_of_edges</th>\n",
       "      <th>average_clustering</th>\n",
       "      <th>avg_degree_centrality</th>\n",
       "      <th>avg_betweenness_centrality</th>\n",
       "      <th>avg_closeness_centrality</th>\n",
       "      <th>average_shortest_path_length</th>\n",
       "    </tr>\n",
       "  </thead>\n",
       "  <tbody>\n",
       "    <tr>\n",
       "      <th>0</th>\n",
       "      <td>2</td>\n",
       "      <td>2</td>\n",
       "      <td>0.887879</td>\n",
       "      <td>879</td>\n",
       "      <td>0.899168</td>\n",
       "      <td>0.887879</td>\n",
       "      <td>0.002607</td>\n",
       "      <td>0.903526</td>\n",
       "      <td>1.112121</td>\n",
       "    </tr>\n",
       "  </tbody>\n",
       "</table>\n",
       "</div>"
      ],
      "text/plain": [
       "   radius  diameter  densities  number_of_edges  average_clustering  \\\n",
       "0       2         2   0.887879              879            0.899168   \n",
       "\n",
       "   avg_degree_centrality  avg_betweenness_centrality  \\\n",
       "0               0.887879                    0.002607   \n",
       "\n",
       "   avg_closeness_centrality  average_shortest_path_length  \n",
       "0                  0.903526                      1.112121  "
      ]
     },
     "execution_count": 61,
     "metadata": {},
     "output_type": "execute_result"
    }
   ],
   "source": [
    "nm.get_network_features(pearson_network_SixReg_pn_3_98)"
   ]
  },
  {
   "cell_type": "code",
   "execution_count": 156,
   "id": "b1c894af-2f22-40de-86d9-c009a183f2f5",
   "metadata": {},
   "outputs": [],
   "source": [
    "nm.get_network_features(pearson_network_SixReg_pn_3_98).to_csv('Excels/50_3.csv')"
   ]
  },
  {
   "cell_type": "code",
   "execution_count": 62,
   "id": "901ce9ef-3b27-4c69-ad91-3be5b234611c",
   "metadata": {},
   "outputs": [],
   "source": [
    "pearson_network_SixReg_pn_4_98 = nm.construct_network(tehran_df_SixReg_pn_4_same_length_98, method='pearson', threshold=thr50)"
   ]
  },
  {
   "cell_type": "code",
   "execution_count": 63,
   "id": "ed5c0c92-2c10-42e9-afee-71bbff7573b6",
   "metadata": {},
   "outputs": [
    {
     "data": {
      "text/html": [
       "<div>\n",
       "<style scoped>\n",
       "    .dataframe tbody tr th:only-of-type {\n",
       "        vertical-align: middle;\n",
       "    }\n",
       "\n",
       "    .dataframe tbody tr th {\n",
       "        vertical-align: top;\n",
       "    }\n",
       "\n",
       "    .dataframe thead th {\n",
       "        text-align: right;\n",
       "    }\n",
       "</style>\n",
       "<table border=\"1\" class=\"dataframe\">\n",
       "  <thead>\n",
       "    <tr style=\"text-align: right;\">\n",
       "      <th></th>\n",
       "      <th>radius</th>\n",
       "      <th>diameter</th>\n",
       "      <th>densities</th>\n",
       "      <th>number_of_edges</th>\n",
       "      <th>average_clustering</th>\n",
       "      <th>avg_degree_centrality</th>\n",
       "      <th>avg_betweenness_centrality</th>\n",
       "      <th>avg_closeness_centrality</th>\n",
       "      <th>average_shortest_path_length</th>\n",
       "    </tr>\n",
       "  </thead>\n",
       "  <tbody>\n",
       "    <tr>\n",
       "      <th>0</th>\n",
       "      <td>2</td>\n",
       "      <td>2</td>\n",
       "      <td>0.824242</td>\n",
       "      <td>816</td>\n",
       "      <td>0.8386</td>\n",
       "      <td>0.824242</td>\n",
       "      <td>0.004087</td>\n",
       "      <td>0.855012</td>\n",
       "      <td>1.175758</td>\n",
       "    </tr>\n",
       "  </tbody>\n",
       "</table>\n",
       "</div>"
      ],
      "text/plain": [
       "   radius  diameter  densities  number_of_edges  average_clustering  \\\n",
       "0       2         2   0.824242              816              0.8386   \n",
       "\n",
       "   avg_degree_centrality  avg_betweenness_centrality  \\\n",
       "0               0.824242                    0.004087   \n",
       "\n",
       "   avg_closeness_centrality  average_shortest_path_length  \n",
       "0                  0.855012                      1.175758  "
      ]
     },
     "execution_count": 63,
     "metadata": {},
     "output_type": "execute_result"
    }
   ],
   "source": [
    "nm.get_network_features(pearson_network_SixReg_pn_4_98)"
   ]
  },
  {
   "cell_type": "code",
   "execution_count": 157,
   "id": "cce287e1-755e-4cc5-99dd-2d60b379d92b",
   "metadata": {},
   "outputs": [],
   "source": [
    "nm.get_network_features(pearson_network_SixReg_pn_4_98).to_csv('Excels/50_4.csv')"
   ]
  },
  {
   "cell_type": "code",
   "execution_count": 64,
   "id": "578ca38a-09f8-45dc-b49b-c030be5a13f1",
   "metadata": {},
   "outputs": [],
   "source": [
    "pearson_network_SixReg_pn_5_98 = nm.construct_network(tehran_df_SixReg_pn_5_same_length_98, method='pearson', threshold=thr50)"
   ]
  },
  {
   "cell_type": "code",
   "execution_count": 65,
   "id": "daeede19-8d6d-483f-b112-9c869b726b49",
   "metadata": {},
   "outputs": [
    {
     "data": {
      "text/html": [
       "<div>\n",
       "<style scoped>\n",
       "    .dataframe tbody tr th:only-of-type {\n",
       "        vertical-align: middle;\n",
       "    }\n",
       "\n",
       "    .dataframe tbody tr th {\n",
       "        vertical-align: top;\n",
       "    }\n",
       "\n",
       "    .dataframe thead th {\n",
       "        text-align: right;\n",
       "    }\n",
       "</style>\n",
       "<table border=\"1\" class=\"dataframe\">\n",
       "  <thead>\n",
       "    <tr style=\"text-align: right;\">\n",
       "      <th></th>\n",
       "      <th>radius</th>\n",
       "      <th>diameter</th>\n",
       "      <th>densities</th>\n",
       "      <th>number_of_edges</th>\n",
       "      <th>average_clustering</th>\n",
       "      <th>avg_degree_centrality</th>\n",
       "      <th>avg_betweenness_centrality</th>\n",
       "      <th>avg_closeness_centrality</th>\n",
       "      <th>average_shortest_path_length</th>\n",
       "    </tr>\n",
       "  </thead>\n",
       "  <tbody>\n",
       "    <tr>\n",
       "      <th>0</th>\n",
       "      <td>2</td>\n",
       "      <td>2</td>\n",
       "      <td>0.817391</td>\n",
       "      <td>846</td>\n",
       "      <td>0.828733</td>\n",
       "      <td>0.817391</td>\n",
       "      <td>0.00415</td>\n",
       "      <td>0.850099</td>\n",
       "      <td>1.182609</td>\n",
       "    </tr>\n",
       "  </tbody>\n",
       "</table>\n",
       "</div>"
      ],
      "text/plain": [
       "   radius  diameter  densities  number_of_edges  average_clustering  \\\n",
       "0       2         2   0.817391              846            0.828733   \n",
       "\n",
       "   avg_degree_centrality  avg_betweenness_centrality  \\\n",
       "0               0.817391                     0.00415   \n",
       "\n",
       "   avg_closeness_centrality  average_shortest_path_length  \n",
       "0                  0.850099                      1.182609  "
      ]
     },
     "execution_count": 65,
     "metadata": {},
     "output_type": "execute_result"
    }
   ],
   "source": [
    "nm.get_network_features(pearson_network_SixReg_pn_5_98)"
   ]
  },
  {
   "cell_type": "code",
   "execution_count": 158,
   "id": "43a42a31-9a41-42fb-9c33-bd49cbb28b0c",
   "metadata": {},
   "outputs": [],
   "source": [
    "nm.get_network_features(pearson_network_SixReg_pn_5_98).to_csv('Excels/50_5.csv')"
   ]
  },
  {
   "cell_type": "code",
   "execution_count": 66,
   "id": "44ff3148-c072-441b-b5e5-47fa13676295",
   "metadata": {},
   "outputs": [],
   "source": [
    "pearson_network_SixReg_pn_6_98 = nm.construct_network(tehran_df_SixReg_pn_6_same_length_98, method='pearson', threshold=thr50)"
   ]
  },
  {
   "cell_type": "code",
   "execution_count": 67,
   "id": "ce1a46e9-baa1-4d5d-b097-f57dfe1534dd",
   "metadata": {},
   "outputs": [
    {
     "data": {
      "text/html": [
       "<div>\n",
       "<style scoped>\n",
       "    .dataframe tbody tr th:only-of-type {\n",
       "        vertical-align: middle;\n",
       "    }\n",
       "\n",
       "    .dataframe tbody tr th {\n",
       "        vertical-align: top;\n",
       "    }\n",
       "\n",
       "    .dataframe thead th {\n",
       "        text-align: right;\n",
       "    }\n",
       "</style>\n",
       "<table border=\"1\" class=\"dataframe\">\n",
       "  <thead>\n",
       "    <tr style=\"text-align: right;\">\n",
       "      <th></th>\n",
       "      <th>radius</th>\n",
       "      <th>diameter</th>\n",
       "      <th>densities</th>\n",
       "      <th>number_of_edges</th>\n",
       "      <th>average_clustering</th>\n",
       "      <th>avg_degree_centrality</th>\n",
       "      <th>avg_betweenness_centrality</th>\n",
       "      <th>avg_closeness_centrality</th>\n",
       "      <th>average_shortest_path_length</th>\n",
       "    </tr>\n",
       "  </thead>\n",
       "  <tbody>\n",
       "    <tr>\n",
       "      <th>0</th>\n",
       "      <td>2</td>\n",
       "      <td>2</td>\n",
       "      <td>0.80202</td>\n",
       "      <td>794</td>\n",
       "      <td>0.80994</td>\n",
       "      <td>0.80202</td>\n",
       "      <td>0.004604</td>\n",
       "      <td>0.838082</td>\n",
       "      <td>1.19798</td>\n",
       "    </tr>\n",
       "  </tbody>\n",
       "</table>\n",
       "</div>"
      ],
      "text/plain": [
       "   radius  diameter  densities  number_of_edges  average_clustering  \\\n",
       "0       2         2    0.80202              794             0.80994   \n",
       "\n",
       "   avg_degree_centrality  avg_betweenness_centrality  \\\n",
       "0                0.80202                    0.004604   \n",
       "\n",
       "   avg_closeness_centrality  average_shortest_path_length  \n",
       "0                  0.838082                       1.19798  "
      ]
     },
     "execution_count": 67,
     "metadata": {},
     "output_type": "execute_result"
    }
   ],
   "source": [
    "nm.get_network_features(pearson_network_SixReg_pn_6_98)"
   ]
  },
  {
   "cell_type": "code",
   "execution_count": 159,
   "id": "088a885b-2463-4d8f-98e9-85fd5a9878ab",
   "metadata": {},
   "outputs": [],
   "source": [
    "nm.get_network_features(pearson_network_SixReg_pn_6_98).to_csv('Excels/50_6.csv')"
   ]
  },
  {
   "cell_type": "markdown",
   "id": "f2f5903f-381c-4634-8d5b-ec26d75fa01a",
   "metadata": {},
   "source": [
    "# 51) Tehran 6 pn Regime Pearson (Based on Median Threshold) Period of 90 Far - 00 Far"
   ]
  },
  {
   "cell_type": "code",
   "execution_count": 54,
   "id": "b6f439c0-d59d-44db-972d-91f11ba5edd4",
   "metadata": {},
   "outputs": [],
   "source": [
    "nm = Net_moduls()"
   ]
  },
  {
   "cell_type": "code",
   "execution_count": 69,
   "id": "9429ab21-8089-47bc-99ca-590e1101f353",
   "metadata": {},
   "outputs": [],
   "source": [
    "thr51_1 = nm.find_median_pearson_threshold(tehran_df_SixReg_pn_1_same_length)\n",
    "thr51_2 = nm.find_median_pearson_threshold(tehran_df_SixReg_pn_2_same_length)\n",
    "thr51_3 = nm.find_median_pearson_threshold(tehran_df_SixReg_pn_3_same_length)\n",
    "thr51_4 = nm.find_median_pearson_threshold(tehran_df_SixReg_pn_4_same_length)\n",
    "thr51_5 = nm.find_median_pearson_threshold(tehran_df_SixReg_pn_5_same_length)\n",
    "thr51_6 = nm.find_median_pearson_threshold(tehran_df_SixReg_pn_6_same_length)\n",
    "\n",
    "thr51 = min(thr51_1, thr51_2, thr51_3, thr51_4, thr51_5, thr51_6)"
   ]
  },
  {
   "cell_type": "code",
   "execution_count": 70,
   "id": "51e0634b-f079-4879-9e30-2f9002b15470",
   "metadata": {},
   "outputs": [],
   "source": [
    "nm = Net_moduls()\n",
    "pearson_network_SixReg_pn_1 = nm.construct_network(tehran_df_SixReg_pn_1_same_length, method='pearson', threshold=thr51)"
   ]
  },
  {
   "cell_type": "code",
   "execution_count": 71,
   "id": "24abe3a9-f650-450e-b02c-e791353011e0",
   "metadata": {},
   "outputs": [
    {
     "data": {
      "text/html": [
       "<div>\n",
       "<style scoped>\n",
       "    .dataframe tbody tr th:only-of-type {\n",
       "        vertical-align: middle;\n",
       "    }\n",
       "\n",
       "    .dataframe tbody tr th {\n",
       "        vertical-align: top;\n",
       "    }\n",
       "\n",
       "    .dataframe thead th {\n",
       "        text-align: right;\n",
       "    }\n",
       "</style>\n",
       "<table border=\"1\" class=\"dataframe\">\n",
       "  <thead>\n",
       "    <tr style=\"text-align: right;\">\n",
       "      <th></th>\n",
       "      <th>radius</th>\n",
       "      <th>diameter</th>\n",
       "      <th>densities</th>\n",
       "      <th>number_of_edges</th>\n",
       "      <th>average_clustering</th>\n",
       "      <th>avg_degree_centrality</th>\n",
       "      <th>avg_betweenness_centrality</th>\n",
       "      <th>avg_closeness_centrality</th>\n",
       "      <th>average_shortest_path_length</th>\n",
       "    </tr>\n",
       "  </thead>\n",
       "  <tbody>\n",
       "    <tr>\n",
       "      <th>0</th>\n",
       "      <td>1</td>\n",
       "      <td>2</td>\n",
       "      <td>0.927273</td>\n",
       "      <td>918</td>\n",
       "      <td>0.935266</td>\n",
       "      <td>0.927273</td>\n",
       "      <td>0.001691</td>\n",
       "      <td>0.935827</td>\n",
       "      <td>1.072727</td>\n",
       "    </tr>\n",
       "  </tbody>\n",
       "</table>\n",
       "</div>"
      ],
      "text/plain": [
       "   radius  diameter  densities  number_of_edges  average_clustering  \\\n",
       "0       1         2   0.927273              918            0.935266   \n",
       "\n",
       "   avg_degree_centrality  avg_betweenness_centrality  \\\n",
       "0               0.927273                    0.001691   \n",
       "\n",
       "   avg_closeness_centrality  average_shortest_path_length  \n",
       "0                  0.935827                      1.072727  "
      ]
     },
     "execution_count": 71,
     "metadata": {},
     "output_type": "execute_result"
    }
   ],
   "source": [
    "nm.get_network_features(pearson_network_SixReg_pn_1)"
   ]
  },
  {
   "cell_type": "code",
   "execution_count": 160,
   "id": "9c06135a-1f23-406a-ac9f-eb12b9085183",
   "metadata": {},
   "outputs": [],
   "source": [
    "nm.get_network_features(pearson_network_SixReg_pn_1).to_csv('Excels/51_1.csv')"
   ]
  },
  {
   "cell_type": "code",
   "execution_count": 72,
   "id": "7a21a83b-9fb3-4f78-a042-25df9f9774fb",
   "metadata": {},
   "outputs": [],
   "source": [
    "pearson_network_SixReg_pn_2 = nm.construct_network(tehran_df_SixReg_pn_2_same_length, method='pearson', threshold=thr51)"
   ]
  },
  {
   "cell_type": "code",
   "execution_count": 73,
   "id": "02d33b40-42bc-4efa-8502-2e45eb93cc60",
   "metadata": {},
   "outputs": [
    {
     "data": {
      "text/html": [
       "<div>\n",
       "<style scoped>\n",
       "    .dataframe tbody tr th:only-of-type {\n",
       "        vertical-align: middle;\n",
       "    }\n",
       "\n",
       "    .dataframe tbody tr th {\n",
       "        vertical-align: top;\n",
       "    }\n",
       "\n",
       "    .dataframe thead th {\n",
       "        text-align: right;\n",
       "    }\n",
       "</style>\n",
       "<table border=\"1\" class=\"dataframe\">\n",
       "  <thead>\n",
       "    <tr style=\"text-align: right;\">\n",
       "      <th></th>\n",
       "      <th>radius</th>\n",
       "      <th>diameter</th>\n",
       "      <th>densities</th>\n",
       "      <th>number_of_edges</th>\n",
       "      <th>average_clustering</th>\n",
       "      <th>avg_degree_centrality</th>\n",
       "      <th>avg_betweenness_centrality</th>\n",
       "      <th>avg_closeness_centrality</th>\n",
       "      <th>average_shortest_path_length</th>\n",
       "    </tr>\n",
       "  </thead>\n",
       "  <tbody>\n",
       "    <tr>\n",
       "      <th>0</th>\n",
       "      <td>2</td>\n",
       "      <td>2</td>\n",
       "      <td>0.844444</td>\n",
       "      <td>874</td>\n",
       "      <td>0.863836</td>\n",
       "      <td>0.844444</td>\n",
       "      <td>0.003535</td>\n",
       "      <td>0.871757</td>\n",
       "      <td>1.155556</td>\n",
       "    </tr>\n",
       "  </tbody>\n",
       "</table>\n",
       "</div>"
      ],
      "text/plain": [
       "   radius  diameter  densities  number_of_edges  average_clustering  \\\n",
       "0       2         2   0.844444              874            0.863836   \n",
       "\n",
       "   avg_degree_centrality  avg_betweenness_centrality  \\\n",
       "0               0.844444                    0.003535   \n",
       "\n",
       "   avg_closeness_centrality  average_shortest_path_length  \n",
       "0                  0.871757                      1.155556  "
      ]
     },
     "execution_count": 73,
     "metadata": {},
     "output_type": "execute_result"
    }
   ],
   "source": [
    "nm.get_network_features(pearson_network_SixReg_pn_2)"
   ]
  },
  {
   "cell_type": "code",
   "execution_count": 161,
   "id": "faf61128-6a72-4fe7-8543-588968d4e74d",
   "metadata": {},
   "outputs": [],
   "source": [
    "nm.get_network_features(pearson_network_SixReg_pn_2).to_csv('Excels/51_2.csv')"
   ]
  },
  {
   "cell_type": "code",
   "execution_count": 74,
   "id": "fb85675d-4834-4643-bee4-b3c87cf4d830",
   "metadata": {},
   "outputs": [],
   "source": [
    "pearson_network_SixReg_pn_3 = nm.construct_network(tehran_df_SixReg_pn_3_same_length, method='pearson', threshold=thr51)"
   ]
  },
  {
   "cell_type": "code",
   "execution_count": 75,
   "id": "746aed2c-079d-42d0-8fd3-975dffbd0b2c",
   "metadata": {},
   "outputs": [
    {
     "data": {
      "text/html": [
       "<div>\n",
       "<style scoped>\n",
       "    .dataframe tbody tr th:only-of-type {\n",
       "        vertical-align: middle;\n",
       "    }\n",
       "\n",
       "    .dataframe tbody tr th {\n",
       "        vertical-align: top;\n",
       "    }\n",
       "\n",
       "    .dataframe thead th {\n",
       "        text-align: right;\n",
       "    }\n",
       "</style>\n",
       "<table border=\"1\" class=\"dataframe\">\n",
       "  <thead>\n",
       "    <tr style=\"text-align: right;\">\n",
       "      <th></th>\n",
       "      <th>radius</th>\n",
       "      <th>diameter</th>\n",
       "      <th>densities</th>\n",
       "      <th>number_of_edges</th>\n",
       "      <th>average_clustering</th>\n",
       "      <th>avg_degree_centrality</th>\n",
       "      <th>avg_betweenness_centrality</th>\n",
       "      <th>avg_closeness_centrality</th>\n",
       "      <th>average_shortest_path_length</th>\n",
       "    </tr>\n",
       "  </thead>\n",
       "  <tbody>\n",
       "    <tr>\n",
       "      <th>0</th>\n",
       "      <td>2</td>\n",
       "      <td>2</td>\n",
       "      <td>0.868687</td>\n",
       "      <td>860</td>\n",
       "      <td>0.879956</td>\n",
       "      <td>0.868687</td>\n",
       "      <td>0.003054</td>\n",
       "      <td>0.888437</td>\n",
       "      <td>1.131313</td>\n",
       "    </tr>\n",
       "  </tbody>\n",
       "</table>\n",
       "</div>"
      ],
      "text/plain": [
       "   radius  diameter  densities  number_of_edges  average_clustering  \\\n",
       "0       2         2   0.868687              860            0.879956   \n",
       "\n",
       "   avg_degree_centrality  avg_betweenness_centrality  \\\n",
       "0               0.868687                    0.003054   \n",
       "\n",
       "   avg_closeness_centrality  average_shortest_path_length  \n",
       "0                  0.888437                      1.131313  "
      ]
     },
     "execution_count": 75,
     "metadata": {},
     "output_type": "execute_result"
    }
   ],
   "source": [
    "nm.get_network_features(pearson_network_SixReg_pn_3)"
   ]
  },
  {
   "cell_type": "code",
   "execution_count": 162,
   "id": "69bb0b89-bf28-4230-8324-04274625b18d",
   "metadata": {},
   "outputs": [],
   "source": [
    "nm.get_network_features(pearson_network_SixReg_pn_3).to_csv('Excels/51_3.csv')"
   ]
  },
  {
   "cell_type": "code",
   "execution_count": 76,
   "id": "f8a8f45c-7559-461b-b30f-825bc05ae4a8",
   "metadata": {},
   "outputs": [],
   "source": [
    "pearson_network_SixReg_pn_4 = nm.construct_network(tehran_df_SixReg_pn_4_same_length, method='pearson', threshold=thr51)"
   ]
  },
  {
   "cell_type": "code",
   "execution_count": 77,
   "id": "f6c0bdaf-c6fa-4128-bb7a-9f4490bed96b",
   "metadata": {},
   "outputs": [
    {
     "data": {
      "text/html": [
       "<div>\n",
       "<style scoped>\n",
       "    .dataframe tbody tr th:only-of-type {\n",
       "        vertical-align: middle;\n",
       "    }\n",
       "\n",
       "    .dataframe tbody tr th {\n",
       "        vertical-align: top;\n",
       "    }\n",
       "\n",
       "    .dataframe thead th {\n",
       "        text-align: right;\n",
       "    }\n",
       "</style>\n",
       "<table border=\"1\" class=\"dataframe\">\n",
       "  <thead>\n",
       "    <tr style=\"text-align: right;\">\n",
       "      <th></th>\n",
       "      <th>radius</th>\n",
       "      <th>diameter</th>\n",
       "      <th>densities</th>\n",
       "      <th>number_of_edges</th>\n",
       "      <th>average_clustering</th>\n",
       "      <th>avg_degree_centrality</th>\n",
       "      <th>avg_betweenness_centrality</th>\n",
       "      <th>avg_closeness_centrality</th>\n",
       "      <th>average_shortest_path_length</th>\n",
       "    </tr>\n",
       "  </thead>\n",
       "  <tbody>\n",
       "    <tr>\n",
       "      <th>0</th>\n",
       "      <td>2</td>\n",
       "      <td>2</td>\n",
       "      <td>0.783838</td>\n",
       "      <td>776</td>\n",
       "      <td>0.798881</td>\n",
       "      <td>0.783838</td>\n",
       "      <td>0.005027</td>\n",
       "      <td>0.826784</td>\n",
       "      <td>1.216162</td>\n",
       "    </tr>\n",
       "  </tbody>\n",
       "</table>\n",
       "</div>"
      ],
      "text/plain": [
       "   radius  diameter  densities  number_of_edges  average_clustering  \\\n",
       "0       2         2   0.783838              776            0.798881   \n",
       "\n",
       "   avg_degree_centrality  avg_betweenness_centrality  \\\n",
       "0               0.783838                    0.005027   \n",
       "\n",
       "   avg_closeness_centrality  average_shortest_path_length  \n",
       "0                  0.826784                      1.216162  "
      ]
     },
     "execution_count": 77,
     "metadata": {},
     "output_type": "execute_result"
    }
   ],
   "source": [
    "nm.get_network_features(pearson_network_SixReg_pn_4)"
   ]
  },
  {
   "cell_type": "code",
   "execution_count": 163,
   "id": "43102b36-bfb3-4ad8-9231-ddb2017f73d4",
   "metadata": {},
   "outputs": [],
   "source": [
    "nm.get_network_features(pearson_network_SixReg_pn_4).to_csv('Excels/51_4.csv')"
   ]
  },
  {
   "cell_type": "code",
   "execution_count": 78,
   "id": "907564a7-1e6d-41f2-958b-1116123105f5",
   "metadata": {},
   "outputs": [],
   "source": [
    "pearson_network_SixReg_pn_5 = nm.construct_network(tehran_df_SixReg_pn_5_same_length, method='pearson', threshold=thr51)"
   ]
  },
  {
   "cell_type": "code",
   "execution_count": 79,
   "id": "183c68c7-663f-4b6f-981f-f5cb40ce9e5a",
   "metadata": {},
   "outputs": [
    {
     "data": {
      "text/html": [
       "<div>\n",
       "<style scoped>\n",
       "    .dataframe tbody tr th:only-of-type {\n",
       "        vertical-align: middle;\n",
       "    }\n",
       "\n",
       "    .dataframe tbody tr th {\n",
       "        vertical-align: top;\n",
       "    }\n",
       "\n",
       "    .dataframe thead th {\n",
       "        text-align: right;\n",
       "    }\n",
       "</style>\n",
       "<table border=\"1\" class=\"dataframe\">\n",
       "  <thead>\n",
       "    <tr style=\"text-align: right;\">\n",
       "      <th></th>\n",
       "      <th>radius</th>\n",
       "      <th>diameter</th>\n",
       "      <th>densities</th>\n",
       "      <th>number_of_edges</th>\n",
       "      <th>average_clustering</th>\n",
       "      <th>avg_degree_centrality</th>\n",
       "      <th>avg_betweenness_centrality</th>\n",
       "      <th>avg_closeness_centrality</th>\n",
       "      <th>average_shortest_path_length</th>\n",
       "    </tr>\n",
       "  </thead>\n",
       "  <tbody>\n",
       "    <tr>\n",
       "      <th>0</th>\n",
       "      <td>2</td>\n",
       "      <td>2</td>\n",
       "      <td>0.802899</td>\n",
       "      <td>831</td>\n",
       "      <td>0.814386</td>\n",
       "      <td>0.802899</td>\n",
       "      <td>0.00448</td>\n",
       "      <td>0.839731</td>\n",
       "      <td>1.197101</td>\n",
       "    </tr>\n",
       "  </tbody>\n",
       "</table>\n",
       "</div>"
      ],
      "text/plain": [
       "   radius  diameter  densities  number_of_edges  average_clustering  \\\n",
       "0       2         2   0.802899              831            0.814386   \n",
       "\n",
       "   avg_degree_centrality  avg_betweenness_centrality  \\\n",
       "0               0.802899                     0.00448   \n",
       "\n",
       "   avg_closeness_centrality  average_shortest_path_length  \n",
       "0                  0.839731                      1.197101  "
      ]
     },
     "execution_count": 79,
     "metadata": {},
     "output_type": "execute_result"
    }
   ],
   "source": [
    "nm.get_network_features(pearson_network_SixReg_pn_5)"
   ]
  },
  {
   "cell_type": "code",
   "execution_count": 164,
   "id": "dd9ad713-6eb6-4637-b1b1-4a213b944543",
   "metadata": {},
   "outputs": [],
   "source": [
    "nm.get_network_features(pearson_network_SixReg_pn_5).to_csv('Excels/51_5.csv')"
   ]
  },
  {
   "cell_type": "code",
   "execution_count": 80,
   "id": "69d23f1b-f156-4ebb-a4eb-f69e55ba6b28",
   "metadata": {},
   "outputs": [],
   "source": [
    "pearson_network_SixReg_pn_6 = nm.construct_network(tehran_df_SixReg_pn_6_same_length, method='pearson', threshold=thr51)"
   ]
  },
  {
   "cell_type": "code",
   "execution_count": 81,
   "id": "3d8687ed-fad9-4b8b-b513-b08e17e96e93",
   "metadata": {},
   "outputs": [
    {
     "data": {
      "text/html": [
       "<div>\n",
       "<style scoped>\n",
       "    .dataframe tbody tr th:only-of-type {\n",
       "        vertical-align: middle;\n",
       "    }\n",
       "\n",
       "    .dataframe tbody tr th {\n",
       "        vertical-align: top;\n",
       "    }\n",
       "\n",
       "    .dataframe thead th {\n",
       "        text-align: right;\n",
       "    }\n",
       "</style>\n",
       "<table border=\"1\" class=\"dataframe\">\n",
       "  <thead>\n",
       "    <tr style=\"text-align: right;\">\n",
       "      <th></th>\n",
       "      <th>radius</th>\n",
       "      <th>diameter</th>\n",
       "      <th>densities</th>\n",
       "      <th>number_of_edges</th>\n",
       "      <th>average_clustering</th>\n",
       "      <th>avg_degree_centrality</th>\n",
       "      <th>avg_betweenness_centrality</th>\n",
       "      <th>avg_closeness_centrality</th>\n",
       "      <th>average_shortest_path_length</th>\n",
       "    </tr>\n",
       "  </thead>\n",
       "  <tbody>\n",
       "    <tr>\n",
       "      <th>0</th>\n",
       "      <td>2</td>\n",
       "      <td>2</td>\n",
       "      <td>0.771717</td>\n",
       "      <td>764</td>\n",
       "      <td>0.774801</td>\n",
       "      <td>0.771717</td>\n",
       "      <td>0.005309</td>\n",
       "      <td>0.816513</td>\n",
       "      <td>1.228283</td>\n",
       "    </tr>\n",
       "  </tbody>\n",
       "</table>\n",
       "</div>"
      ],
      "text/plain": [
       "   radius  diameter  densities  number_of_edges  average_clustering  \\\n",
       "0       2         2   0.771717              764            0.774801   \n",
       "\n",
       "   avg_degree_centrality  avg_betweenness_centrality  \\\n",
       "0               0.771717                    0.005309   \n",
       "\n",
       "   avg_closeness_centrality  average_shortest_path_length  \n",
       "0                  0.816513                      1.228283  "
      ]
     },
     "execution_count": 81,
     "metadata": {},
     "output_type": "execute_result"
    }
   ],
   "source": [
    "nm.get_network_features(pearson_network_SixReg_pn_6)"
   ]
  },
  {
   "cell_type": "code",
   "execution_count": 165,
   "id": "b82734a7-b519-4b6e-b083-8d403dea6b9e",
   "metadata": {},
   "outputs": [],
   "source": [
    "nm.get_network_features(pearson_network_SixReg_pn_6).to_csv('Excels/51_6.csv')"
   ]
  },
  {
   "cell_type": "markdown",
   "id": "89143da8-1a25-48b7-a878-d43721311c9a",
   "metadata": {},
   "source": [
    "# 52) Tehran 6 pn Regime Pearson (Based on Median Threshold) Period of 90 Far - 98 Dey/ Last 100 Records"
   ]
  },
  {
   "cell_type": "code",
   "execution_count": 82,
   "id": "8a848c31-375c-4369-8194-772ebf8964d7",
   "metadata": {},
   "outputs": [],
   "source": [
    "# thr52_1 = nm.find_median_pearson_threshold(tehran_df_SixReg_pn_1_same_length_98[-100:])\n",
    "# thr52_2 = nm.find_median_pearson_threshold(tehran_df_SixReg_pn_2_same_length_98[-100:])\n",
    "# thr52_3 = nm.find_median_pearson_threshold(tehran_df_SixReg_pn_3_same_length_98[-100:])\n",
    "# thr52_4 = nm.find_median_pearson_threshold(tehran_df_SixReg_pn_4_same_length_98[-100:])\n",
    "# thr52_5 = nm.find_median_pearson_threshold(tehran_df_SixReg_pn_5_same_length_98[-100:])\n",
    "# thr52_6 = nm.find_median_pearson_threshold(tehran_df_SixReg_pn_6_same_length_98[-100:])\n",
    "\n",
    "# thr52 = min(thr52_1, thr52_2, thr52_3, thr52_4, thr52_5, thr52_6)"
   ]
  },
  {
   "cell_type": "code",
   "execution_count": 83,
   "id": "6f2268a7-c495-42e1-a15b-0d0bae23343e",
   "metadata": {},
   "outputs": [],
   "source": [
    "# pearson_network_SixReg_pn_1_98_last100 = nm.construct_network(tehran_df_SixReg_pn_1_same_length_98[-100:], method='pearson', threshold=thr52)"
   ]
  },
  {
   "cell_type": "code",
   "execution_count": 84,
   "id": "5b9a1da5-c98b-4dd5-89b9-3fc4ff640bef",
   "metadata": {},
   "outputs": [],
   "source": [
    "# nm.get_network_features(pearson_network_SixReg_pn_1_98_last100)"
   ]
  },
  {
   "cell_type": "code",
   "execution_count": 85,
   "id": "6541e8ac-9166-4ffa-adea-22f18dea88c6",
   "metadata": {},
   "outputs": [],
   "source": [
    "# pearson_network_SixReg_pn_2_98_last100 = nm.construct_network(tehran_df_SixReg_pn_2_same_length_98[-100:], method='pearson', threshold=thr52)"
   ]
  },
  {
   "cell_type": "code",
   "execution_count": 86,
   "id": "596725dc-4f41-4db3-a5ee-0727d36191d9",
   "metadata": {},
   "outputs": [],
   "source": [
    "# nm.get_network_features(pearson_network_SixReg_pn_2_98_last100)"
   ]
  },
  {
   "cell_type": "code",
   "execution_count": 86,
   "id": "b4b804ab-6f06-4df8-96ff-5bdec9a72447",
   "metadata": {},
   "outputs": [],
   "source": [
    "# pearson_network_SixReg_pn_3_98_last100 = nm.construct_network(tehran_df_SixReg_pn_3_same_length_98[-100:], method='pearson', threshold=thr52)"
   ]
  },
  {
   "cell_type": "code",
   "execution_count": 87,
   "id": "32293cec-1c3a-4747-8cf1-e4ad2bda1c88",
   "metadata": {},
   "outputs": [],
   "source": [
    "# nm.get_network_features(pearson_network_SixReg_pn_3_98_last100)"
   ]
  },
  {
   "cell_type": "code",
   "execution_count": 88,
   "id": "9467672f-9b28-4451-b6f2-6eee052599ac",
   "metadata": {},
   "outputs": [],
   "source": [
    "# pearson_network_SixReg_pn_4_98_last100 = nm.construct_network(tehran_df_SixReg_pn_4_same_length_98[-100:], method='pearson', threshold=thr52)"
   ]
  },
  {
   "cell_type": "code",
   "execution_count": 89,
   "id": "68c5ba23-0bbb-4585-88a4-d02b840443d1",
   "metadata": {},
   "outputs": [],
   "source": [
    "# nm.get_network_features(pearson_network_SixReg_pn_4_98_last100)"
   ]
  },
  {
   "cell_type": "code",
   "execution_count": 90,
   "id": "428c106f-e352-4d9f-b2ba-f59758951db2",
   "metadata": {},
   "outputs": [],
   "source": [
    "# pearson_network_SixReg_pn_5_98_last100 = nm.construct_network(tehran_df_SixReg_pn_5_same_length_98[-100:], method='pearson', threshold=thr52)"
   ]
  },
  {
   "cell_type": "code",
   "execution_count": 91,
   "id": "77d18dda-f276-4fed-b094-8c5139e32e3f",
   "metadata": {},
   "outputs": [],
   "source": [
    "# nm.get_network_features(pearson_network_SixReg_pn_5_98_last100)"
   ]
  },
  {
   "cell_type": "code",
   "execution_count": 90,
   "id": "6ef7b2db-d12f-49dc-95d7-ca63bde9e8a7",
   "metadata": {},
   "outputs": [],
   "source": [
    "# pearson_network_SixReg_pn_6_98_last100 = nm.construct_network(tehran_df_SixReg_pn_6_same_length_98[-100:], method='pearson', threshold=thr52)"
   ]
  },
  {
   "cell_type": "code",
   "execution_count": 92,
   "id": "825f7bfe-8cab-412d-b2a5-7badebea2d9e",
   "metadata": {},
   "outputs": [],
   "source": [
    "# nm.get_network_features(pearson_network_SixReg_pn_6_98_last100)"
   ]
  },
  {
   "cell_type": "markdown",
   "id": "2a61af4d-765c-4f80-b4ea-30b250f8eb2d",
   "metadata": {},
   "source": [
    "# 53) Tehran 6 pn Regime Pearson (Based on Median Threshold) Period of 90 Far - 98 Dey/ 50 windows of 100 Records"
   ]
  },
  {
   "cell_type": "code",
   "execution_count": 93,
   "id": "e933692e-9b4f-4b16-b6e1-50d5c0624763",
   "metadata": {
    "tags": []
   },
   "outputs": [],
   "source": [
    "# nm = Net_moduls()\n",
    "# pearson_network_SixReg_pn_1_98_averged = nm.get_network_features_averaged_median(tehran_df, regimes_column = tehran_df_reg['6_(2pn)'], method='pearson', edges_threshold=200, target_window=100, target_length=50)"
   ]
  },
  {
   "cell_type": "code",
   "execution_count": 94,
   "id": "aad9c3e3-48ed-49c8-8b3e-26d4117ca0ea",
   "metadata": {},
   "outputs": [],
   "source": [
    "# pearson_network_SixReg_pn_1_98_averged"
   ]
  },
  {
   "cell_type": "markdown",
   "id": "d351f46e-988f-482c-a3d9-72688e59d1ee",
   "metadata": {},
   "source": [
    "# 54) Tehran 6 pn Regime Pearson (Based on Median Threshold) Period of 90 Far - 00 Far/ 50 windows of 100 Records"
   ]
  },
  {
   "cell_type": "code",
   "execution_count": 95,
   "id": "afad5139-bcc9-4598-80c6-aa99a765b2b9",
   "metadata": {
    "tags": []
   },
   "outputs": [],
   "source": [
    "# nm = Net_moduls()\n",
    "# pearson_network_SixReg_pn_90_00_averged = nm.get_network_features_averaged_median(tehran_df_completeDates, regimes_column= tehran_df_reg['6_(2pn)'],method='pearson',edges_threshold=200, target_window=100, target_length=50)"
   ]
  },
  {
   "cell_type": "code",
   "execution_count": 96,
   "id": "15122a2a-0de1-4289-b0cc-f222b742c1a6",
   "metadata": {},
   "outputs": [],
   "source": [
    "# pearson_network_SixReg_pn_90_00_averged"
   ]
  },
  {
   "cell_type": "markdown",
   "id": "1ece985d-309a-4fc9-96f4-fb03650b2c04",
   "metadata": {},
   "source": [
    "# 55) Tehran 6 pn Regime Entropy (Based on Median Threshold) Period of 90 Far - 98 Dey"
   ]
  },
  {
   "cell_type": "code",
   "execution_count": 97,
   "id": "d82b868d-2f08-4b4d-801c-104894086245",
   "metadata": {},
   "outputs": [],
   "source": [
    "nm = Net_moduls()"
   ]
  },
  {
   "cell_type": "code",
   "execution_count": 98,
   "id": "f2b4e416-aac6-48df-9cda-a51f50f1dd3f",
   "metadata": {},
   "outputs": [],
   "source": [
    "thr55_1 = nm.find_median_entropy_threshold(tehran_df_SixReg_pn_1_same_length_98)\n",
    "thr55_2 = nm.find_median_entropy_threshold(tehran_df_SixReg_pn_2_same_length_98)\n",
    "thr55_3 = nm.find_median_entropy_threshold(tehran_df_SixReg_pn_3_same_length_98)\n",
    "thr55_4 = nm.find_median_entropy_threshold(tehran_df_SixReg_pn_4_same_length_98)\n",
    "thr55_5 = nm.find_median_entropy_threshold(tehran_df_SixReg_pn_5_same_length_98)\n",
    "thr55_6 = nm.find_median_entropy_threshold(tehran_df_SixReg_pn_6_same_length_98)\n",
    "\n",
    "thr55 = min(thr55_1, thr55_2, thr55_3, thr55_4, thr55_5, thr55_6)"
   ]
  },
  {
   "cell_type": "code",
   "execution_count": 99,
   "id": "1a2f8dfc-6665-4b6e-8e45-eb7339cc9ef5",
   "metadata": {},
   "outputs": [],
   "source": [
    "entropy_network_SixReg_pn_1_98 = nm.construct_network(tehran_df_SixReg_pn_1_same_length_98, method='entropy', threshold=thr55)"
   ]
  },
  {
   "cell_type": "code",
   "execution_count": 100,
   "id": "56147efc-780c-47d4-a134-924a799ccac4",
   "metadata": {},
   "outputs": [
    {
     "data": {
      "text/html": [
       "<div>\n",
       "<style scoped>\n",
       "    .dataframe tbody tr th:only-of-type {\n",
       "        vertical-align: middle;\n",
       "    }\n",
       "\n",
       "    .dataframe tbody tr th {\n",
       "        vertical-align: top;\n",
       "    }\n",
       "\n",
       "    .dataframe thead th {\n",
       "        text-align: right;\n",
       "    }\n",
       "</style>\n",
       "<table border=\"1\" class=\"dataframe\">\n",
       "  <thead>\n",
       "    <tr style=\"text-align: right;\">\n",
       "      <th></th>\n",
       "      <th>radius</th>\n",
       "      <th>diameter</th>\n",
       "      <th>densities</th>\n",
       "      <th>number_of_edges</th>\n",
       "      <th>average_clustering</th>\n",
       "      <th>avg_degree_centrality</th>\n",
       "      <th>avg_betweenness_centrality</th>\n",
       "      <th>avg_closeness_centrality</th>\n",
       "      <th>average_shortest_path_length</th>\n",
       "    </tr>\n",
       "  </thead>\n",
       "  <tbody>\n",
       "    <tr>\n",
       "      <th>0</th>\n",
       "      <td>2</td>\n",
       "      <td>2</td>\n",
       "      <td>0.582828</td>\n",
       "      <td>577</td>\n",
       "      <td>0.672076</td>\n",
       "      <td>0.582828</td>\n",
       "      <td>0.009702</td>\n",
       "      <td>0.716057</td>\n",
       "      <td>1.417172</td>\n",
       "    </tr>\n",
       "  </tbody>\n",
       "</table>\n",
       "</div>"
      ],
      "text/plain": [
       "   radius  diameter  densities  number_of_edges  average_clustering  \\\n",
       "0       2         2   0.582828              577            0.672076   \n",
       "\n",
       "   avg_degree_centrality  avg_betweenness_centrality  \\\n",
       "0               0.582828                    0.009702   \n",
       "\n",
       "   avg_closeness_centrality  average_shortest_path_length  \n",
       "0                  0.716057                      1.417172  "
      ]
     },
     "execution_count": 100,
     "metadata": {},
     "output_type": "execute_result"
    }
   ],
   "source": [
    "nm.get_network_features(entropy_network_SixReg_pn_1_98)"
   ]
  },
  {
   "cell_type": "code",
   "execution_count": 166,
   "id": "359a2e81-ffca-4faa-aab0-59b806bffb31",
   "metadata": {},
   "outputs": [],
   "source": [
    "nm.get_network_features(entropy_network_SixReg_pn_1_98).to_csv('Excels/55_1.csv')"
   ]
  },
  {
   "cell_type": "code",
   "execution_count": 101,
   "id": "2f118b2a-313b-402e-be12-63375a917ce7",
   "metadata": {},
   "outputs": [],
   "source": [
    "entropy_network_SixReg_pn_2_98 = nm.construct_network(tehran_df_SixReg_pn_2_same_length_98, method='entropy', threshold=thr55)"
   ]
  },
  {
   "cell_type": "code",
   "execution_count": 102,
   "id": "76da0143-9748-4674-a91a-f3d93985361e",
   "metadata": {},
   "outputs": [
    {
     "data": {
      "text/html": [
       "<div>\n",
       "<style scoped>\n",
       "    .dataframe tbody tr th:only-of-type {\n",
       "        vertical-align: middle;\n",
       "    }\n",
       "\n",
       "    .dataframe tbody tr th {\n",
       "        vertical-align: top;\n",
       "    }\n",
       "\n",
       "    .dataframe thead th {\n",
       "        text-align: right;\n",
       "    }\n",
       "</style>\n",
       "<table border=\"1\" class=\"dataframe\">\n",
       "  <thead>\n",
       "    <tr style=\"text-align: right;\">\n",
       "      <th></th>\n",
       "      <th>radius</th>\n",
       "      <th>diameter</th>\n",
       "      <th>densities</th>\n",
       "      <th>number_of_edges</th>\n",
       "      <th>average_clustering</th>\n",
       "      <th>avg_degree_centrality</th>\n",
       "      <th>avg_betweenness_centrality</th>\n",
       "      <th>avg_closeness_centrality</th>\n",
       "      <th>average_shortest_path_length</th>\n",
       "    </tr>\n",
       "  </thead>\n",
       "  <tbody>\n",
       "    <tr>\n",
       "      <th>0</th>\n",
       "      <td>2</td>\n",
       "      <td>2</td>\n",
       "      <td>0.564251</td>\n",
       "      <td>584</td>\n",
       "      <td>0.600688</td>\n",
       "      <td>0.564251</td>\n",
       "      <td>0.009903</td>\n",
       "      <td>0.702342</td>\n",
       "      <td>1.435749</td>\n",
       "    </tr>\n",
       "  </tbody>\n",
       "</table>\n",
       "</div>"
      ],
      "text/plain": [
       "   radius  diameter  densities  number_of_edges  average_clustering  \\\n",
       "0       2         2   0.564251              584            0.600688   \n",
       "\n",
       "   avg_degree_centrality  avg_betweenness_centrality  \\\n",
       "0               0.564251                    0.009903   \n",
       "\n",
       "   avg_closeness_centrality  average_shortest_path_length  \n",
       "0                  0.702342                      1.435749  "
      ]
     },
     "execution_count": 102,
     "metadata": {},
     "output_type": "execute_result"
    }
   ],
   "source": [
    "nm.get_network_features(entropy_network_SixReg_pn_2_98)"
   ]
  },
  {
   "cell_type": "code",
   "execution_count": 167,
   "id": "b6039f04-763c-4e81-8555-ccc839893884",
   "metadata": {},
   "outputs": [],
   "source": [
    "nm.get_network_features(entropy_network_SixReg_pn_2_98).to_csv('Excels/55_2.csv')"
   ]
  },
  {
   "cell_type": "code",
   "execution_count": 103,
   "id": "b58bfd54-1ad6-4898-91b1-3c759ede8c25",
   "metadata": {},
   "outputs": [],
   "source": [
    "entropy_network_SixReg_pn_3_98 = nm.construct_network(tehran_df_SixReg_pn_3_same_length_98, method='entropy', threshold=thr55)"
   ]
  },
  {
   "cell_type": "code",
   "execution_count": 104,
   "id": "80f58a0e-510c-4c29-a2af-bfbf849895f7",
   "metadata": {},
   "outputs": [
    {
     "data": {
      "text/html": [
       "<div>\n",
       "<style scoped>\n",
       "    .dataframe tbody tr th:only-of-type {\n",
       "        vertical-align: middle;\n",
       "    }\n",
       "\n",
       "    .dataframe tbody tr th {\n",
       "        vertical-align: top;\n",
       "    }\n",
       "\n",
       "    .dataframe thead th {\n",
       "        text-align: right;\n",
       "    }\n",
       "</style>\n",
       "<table border=\"1\" class=\"dataframe\">\n",
       "  <thead>\n",
       "    <tr style=\"text-align: right;\">\n",
       "      <th></th>\n",
       "      <th>radius</th>\n",
       "      <th>diameter</th>\n",
       "      <th>densities</th>\n",
       "      <th>number_of_edges</th>\n",
       "      <th>average_clustering</th>\n",
       "      <th>avg_degree_centrality</th>\n",
       "      <th>avg_betweenness_centrality</th>\n",
       "      <th>avg_closeness_centrality</th>\n",
       "      <th>average_shortest_path_length</th>\n",
       "    </tr>\n",
       "  </thead>\n",
       "  <tbody>\n",
       "    <tr>\n",
       "      <th>0</th>\n",
       "      <td>2</td>\n",
       "      <td>2</td>\n",
       "      <td>0.523232</td>\n",
       "      <td>518</td>\n",
       "      <td>0.589787</td>\n",
       "      <td>0.523232</td>\n",
       "      <td>0.011088</td>\n",
       "      <td>0.685916</td>\n",
       "      <td>1.476768</td>\n",
       "    </tr>\n",
       "  </tbody>\n",
       "</table>\n",
       "</div>"
      ],
      "text/plain": [
       "   radius  diameter  densities  number_of_edges  average_clustering  \\\n",
       "0       2         2   0.523232              518            0.589787   \n",
       "\n",
       "   avg_degree_centrality  avg_betweenness_centrality  \\\n",
       "0               0.523232                    0.011088   \n",
       "\n",
       "   avg_closeness_centrality  average_shortest_path_length  \n",
       "0                  0.685916                      1.476768  "
      ]
     },
     "execution_count": 104,
     "metadata": {},
     "output_type": "execute_result"
    }
   ],
   "source": [
    "nm.get_network_features(entropy_network_SixReg_pn_3_98)"
   ]
  },
  {
   "cell_type": "code",
   "execution_count": 168,
   "id": "cd5a7dd6-9b8b-4dd6-b620-34200a1bb8a6",
   "metadata": {},
   "outputs": [],
   "source": [
    "nm.get_network_features(entropy_network_SixReg_pn_3_98).to_csv('Excels/55_3.csv')"
   ]
  },
  {
   "cell_type": "code",
   "execution_count": 105,
   "id": "4f19d795-522c-4a28-8a77-91b37da97cc8",
   "metadata": {},
   "outputs": [],
   "source": [
    "entropy_network_SixReg_pn_4_98 = nm.construct_network(tehran_df_SixReg_pn_4_same_length_98, method='entropy', threshold=thr55)"
   ]
  },
  {
   "cell_type": "code",
   "execution_count": 106,
   "id": "3fa7da26-756f-40f5-8671-093ff650fa4f",
   "metadata": {},
   "outputs": [
    {
     "data": {
      "text/html": [
       "<div>\n",
       "<style scoped>\n",
       "    .dataframe tbody tr th:only-of-type {\n",
       "        vertical-align: middle;\n",
       "    }\n",
       "\n",
       "    .dataframe tbody tr th {\n",
       "        vertical-align: top;\n",
       "    }\n",
       "\n",
       "    .dataframe thead th {\n",
       "        text-align: right;\n",
       "    }\n",
       "</style>\n",
       "<table border=\"1\" class=\"dataframe\">\n",
       "  <thead>\n",
       "    <tr style=\"text-align: right;\">\n",
       "      <th></th>\n",
       "      <th>radius</th>\n",
       "      <th>diameter</th>\n",
       "      <th>densities</th>\n",
       "      <th>number_of_edges</th>\n",
       "      <th>average_clustering</th>\n",
       "      <th>avg_degree_centrality</th>\n",
       "      <th>avg_betweenness_centrality</th>\n",
       "      <th>avg_closeness_centrality</th>\n",
       "      <th>average_shortest_path_length</th>\n",
       "    </tr>\n",
       "  </thead>\n",
       "  <tbody>\n",
       "    <tr>\n",
       "      <th>0</th>\n",
       "      <td>2</td>\n",
       "      <td>2</td>\n",
       "      <td>0.510101</td>\n",
       "      <td>505</td>\n",
       "      <td>0.560795</td>\n",
       "      <td>0.510101</td>\n",
       "      <td>0.011393</td>\n",
       "      <td>0.675673</td>\n",
       "      <td>1.489899</td>\n",
       "    </tr>\n",
       "  </tbody>\n",
       "</table>\n",
       "</div>"
      ],
      "text/plain": [
       "   radius  diameter  densities  number_of_edges  average_clustering  \\\n",
       "0       2         2   0.510101              505            0.560795   \n",
       "\n",
       "   avg_degree_centrality  avg_betweenness_centrality  \\\n",
       "0               0.510101                    0.011393   \n",
       "\n",
       "   avg_closeness_centrality  average_shortest_path_length  \n",
       "0                  0.675673                      1.489899  "
      ]
     },
     "execution_count": 106,
     "metadata": {},
     "output_type": "execute_result"
    }
   ],
   "source": [
    "nm.get_network_features(entropy_network_SixReg_pn_4_98)"
   ]
  },
  {
   "cell_type": "code",
   "execution_count": 169,
   "id": "469c6e28-4919-46fe-a628-678eeb18ceff",
   "metadata": {},
   "outputs": [],
   "source": [
    "nm.get_network_features(entropy_network_SixReg_pn_4_98).to_csv('Excels/55_4.csv')"
   ]
  },
  {
   "cell_type": "code",
   "execution_count": 107,
   "id": "bd1f9085-5bb9-4147-8c86-292a1c1ed0b1",
   "metadata": {},
   "outputs": [],
   "source": [
    "entropy_network_SixReg_pn_5_98 = nm.construct_network(tehran_df_SixReg_pn_5_same_length_98, method='entropy', threshold=thr55)"
   ]
  },
  {
   "cell_type": "code",
   "execution_count": 108,
   "id": "dc1d1c56-2be9-4896-bd7f-f0ec868ab838",
   "metadata": {},
   "outputs": [
    {
     "data": {
      "text/html": [
       "<div>\n",
       "<style scoped>\n",
       "    .dataframe tbody tr th:only-of-type {\n",
       "        vertical-align: middle;\n",
       "    }\n",
       "\n",
       "    .dataframe tbody tr th {\n",
       "        vertical-align: top;\n",
       "    }\n",
       "\n",
       "    .dataframe thead th {\n",
       "        text-align: right;\n",
       "    }\n",
       "</style>\n",
       "<table border=\"1\" class=\"dataframe\">\n",
       "  <thead>\n",
       "    <tr style=\"text-align: right;\">\n",
       "      <th></th>\n",
       "      <th>radius</th>\n",
       "      <th>diameter</th>\n",
       "      <th>densities</th>\n",
       "      <th>number_of_edges</th>\n",
       "      <th>average_clustering</th>\n",
       "      <th>avg_degree_centrality</th>\n",
       "      <th>avg_betweenness_centrality</th>\n",
       "      <th>avg_closeness_centrality</th>\n",
       "      <th>average_shortest_path_length</th>\n",
       "    </tr>\n",
       "  </thead>\n",
       "  <tbody>\n",
       "    <tr>\n",
       "      <th>0</th>\n",
       "      <td>2</td>\n",
       "      <td>2</td>\n",
       "      <td>0.513043</td>\n",
       "      <td>531</td>\n",
       "      <td>0.572123</td>\n",
       "      <td>0.513043</td>\n",
       "      <td>0.011067</td>\n",
       "      <td>0.676748</td>\n",
       "      <td>1.486957</td>\n",
       "    </tr>\n",
       "  </tbody>\n",
       "</table>\n",
       "</div>"
      ],
      "text/plain": [
       "   radius  diameter  densities  number_of_edges  average_clustering  \\\n",
       "0       2         2   0.513043              531            0.572123   \n",
       "\n",
       "   avg_degree_centrality  avg_betweenness_centrality  \\\n",
       "0               0.513043                    0.011067   \n",
       "\n",
       "   avg_closeness_centrality  average_shortest_path_length  \n",
       "0                  0.676748                      1.486957  "
      ]
     },
     "execution_count": 108,
     "metadata": {},
     "output_type": "execute_result"
    }
   ],
   "source": [
    "nm.get_network_features(entropy_network_SixReg_pn_5_98)"
   ]
  },
  {
   "cell_type": "code",
   "execution_count": 170,
   "id": "168abe6f-64c7-445b-b64d-31f85d62b22c",
   "metadata": {},
   "outputs": [],
   "source": [
    "nm.get_network_features(entropy_network_SixReg_pn_5_98).to_csv('Excels/55_5.csv')"
   ]
  },
  {
   "cell_type": "code",
   "execution_count": 109,
   "id": "c251ed86-373b-430f-a233-c9ae28e94b50",
   "metadata": {},
   "outputs": [],
   "source": [
    "entropy_network_SixReg_pn_6_98 = nm.construct_network(tehran_df_SixReg_pn_6_same_length_98, method='entropy', threshold=thr55)"
   ]
  },
  {
   "cell_type": "code",
   "execution_count": 110,
   "id": "2278f0d5-d1ee-41e1-ac4e-10881ead6a64",
   "metadata": {},
   "outputs": [
    {
     "data": {
      "text/html": [
       "<div>\n",
       "<style scoped>\n",
       "    .dataframe tbody tr th:only-of-type {\n",
       "        vertical-align: middle;\n",
       "    }\n",
       "\n",
       "    .dataframe tbody tr th {\n",
       "        vertical-align: top;\n",
       "    }\n",
       "\n",
       "    .dataframe thead th {\n",
       "        text-align: right;\n",
       "    }\n",
       "</style>\n",
       "<table border=\"1\" class=\"dataframe\">\n",
       "  <thead>\n",
       "    <tr style=\"text-align: right;\">\n",
       "      <th></th>\n",
       "      <th>radius</th>\n",
       "      <th>diameter</th>\n",
       "      <th>densities</th>\n",
       "      <th>number_of_edges</th>\n",
       "      <th>average_clustering</th>\n",
       "      <th>avg_degree_centrality</th>\n",
       "      <th>avg_betweenness_centrality</th>\n",
       "      <th>avg_closeness_centrality</th>\n",
       "      <th>average_shortest_path_length</th>\n",
       "    </tr>\n",
       "  </thead>\n",
       "  <tbody>\n",
       "    <tr>\n",
       "      <th>0</th>\n",
       "      <td>2</td>\n",
       "      <td>2</td>\n",
       "      <td>0.5</td>\n",
       "      <td>495</td>\n",
       "      <td>0.49201</td>\n",
       "      <td>0.5</td>\n",
       "      <td>0.011628</td>\n",
       "      <td>0.669852</td>\n",
       "      <td>1.5</td>\n",
       "    </tr>\n",
       "  </tbody>\n",
       "</table>\n",
       "</div>"
      ],
      "text/plain": [
       "   radius  diameter  densities  number_of_edges  average_clustering  \\\n",
       "0       2         2        0.5              495             0.49201   \n",
       "\n",
       "   avg_degree_centrality  avg_betweenness_centrality  \\\n",
       "0                    0.5                    0.011628   \n",
       "\n",
       "   avg_closeness_centrality  average_shortest_path_length  \n",
       "0                  0.669852                           1.5  "
      ]
     },
     "execution_count": 110,
     "metadata": {},
     "output_type": "execute_result"
    }
   ],
   "source": [
    "nm.get_network_features(entropy_network_SixReg_pn_6_98)"
   ]
  },
  {
   "cell_type": "code",
   "execution_count": 171,
   "id": "3278b1f4-95ec-4408-b3a5-52f1b669b07f",
   "metadata": {},
   "outputs": [],
   "source": [
    "nm.get_network_features(entropy_network_SixReg_pn_6_98).to_csv('Excels/55_6.csv')"
   ]
  },
  {
   "cell_type": "markdown",
   "id": "62c5a941-e537-4082-9135-1fdcad6463c8",
   "metadata": {},
   "source": [
    "# 56) Tehran 6 pn Regime Entropy (Based on Median Threshold) Period of 90 Far - 00 Far"
   ]
  },
  {
   "cell_type": "code",
   "execution_count": 97,
   "id": "ad26ed63-3dcd-4993-969a-49911f21f32f",
   "metadata": {},
   "outputs": [],
   "source": [
    "nm = Net_moduls()"
   ]
  },
  {
   "cell_type": "code",
   "execution_count": 111,
   "id": "69b9398d-dc48-4775-b3dd-f601cb32692f",
   "metadata": {},
   "outputs": [],
   "source": [
    "thr56_1 = nm.find_median_entropy_threshold(tehran_df_SixReg_pn_1_same_length)\n",
    "thr56_2 = nm.find_median_entropy_threshold(tehran_df_SixReg_pn_2_same_length)\n",
    "thr56_3 = nm.find_median_entropy_threshold(tehran_df_SixReg_pn_3_same_length)\n",
    "thr56_4 = nm.find_median_entropy_threshold(tehran_df_SixReg_pn_4_same_length)\n",
    "thr56_5 = nm.find_median_entropy_threshold(tehran_df_SixReg_pn_5_same_length)\n",
    "thr56_6 = nm.find_median_entropy_threshold(tehran_df_SixReg_pn_6_same_length)\n",
    "\n",
    "thr56 = min(thr56_1, thr56_2, thr56_3, thr56_4, thr56_5, thr56_6)"
   ]
  },
  {
   "cell_type": "code",
   "execution_count": 112,
   "id": "d7eef404-fcd4-435c-b6bd-91c30790adce",
   "metadata": {},
   "outputs": [],
   "source": [
    "entropy_network_SixReg_pn_1 = nm.construct_network(tehran_df_SixReg_pn_1_same_length, method='entropy', threshold=thr56)"
   ]
  },
  {
   "cell_type": "code",
   "execution_count": 113,
   "id": "a8ad2259-1e15-4b86-81bf-722e028096bb",
   "metadata": {},
   "outputs": [
    {
     "data": {
      "text/html": [
       "<div>\n",
       "<style scoped>\n",
       "    .dataframe tbody tr th:only-of-type {\n",
       "        vertical-align: middle;\n",
       "    }\n",
       "\n",
       "    .dataframe tbody tr th {\n",
       "        vertical-align: top;\n",
       "    }\n",
       "\n",
       "    .dataframe thead th {\n",
       "        text-align: right;\n",
       "    }\n",
       "</style>\n",
       "<table border=\"1\" class=\"dataframe\">\n",
       "  <thead>\n",
       "    <tr style=\"text-align: right;\">\n",
       "      <th></th>\n",
       "      <th>radius</th>\n",
       "      <th>diameter</th>\n",
       "      <th>densities</th>\n",
       "      <th>number_of_edges</th>\n",
       "      <th>average_clustering</th>\n",
       "      <th>avg_degree_centrality</th>\n",
       "      <th>avg_betweenness_centrality</th>\n",
       "      <th>avg_closeness_centrality</th>\n",
       "      <th>average_shortest_path_length</th>\n",
       "    </tr>\n",
       "  </thead>\n",
       "  <tbody>\n",
       "    <tr>\n",
       "      <th>0</th>\n",
       "      <td>2</td>\n",
       "      <td>2</td>\n",
       "      <td>0.564646</td>\n",
       "      <td>559</td>\n",
       "      <td>0.643039</td>\n",
       "      <td>0.564646</td>\n",
       "      <td>0.010125</td>\n",
       "      <td>0.708741</td>\n",
       "      <td>1.435354</td>\n",
       "    </tr>\n",
       "  </tbody>\n",
       "</table>\n",
       "</div>"
      ],
      "text/plain": [
       "   radius  diameter  densities  number_of_edges  average_clustering  \\\n",
       "0       2         2   0.564646              559            0.643039   \n",
       "\n",
       "   avg_degree_centrality  avg_betweenness_centrality  \\\n",
       "0               0.564646                    0.010125   \n",
       "\n",
       "   avg_closeness_centrality  average_shortest_path_length  \n",
       "0                  0.708741                      1.435354  "
      ]
     },
     "execution_count": 113,
     "metadata": {},
     "output_type": "execute_result"
    }
   ],
   "source": [
    "nm.get_network_features(entropy_network_SixReg_pn_1)"
   ]
  },
  {
   "cell_type": "code",
   "execution_count": 172,
   "id": "6a2fe6ff-b776-4737-9955-b908e8e5ff3b",
   "metadata": {},
   "outputs": [],
   "source": [
    "nm.get_network_features(entropy_network_SixReg_pn_1).to_csv('Excels/56_1.csv')"
   ]
  },
  {
   "cell_type": "code",
   "execution_count": 114,
   "id": "b9f06be0-386f-42e7-ba1b-f6a9836c0e53",
   "metadata": {},
   "outputs": [],
   "source": [
    "entropy_network_SixReg_pn_2 = nm.construct_network(tehran_df_SixReg_pn_2_same_length, method='entropy', threshold=thr56)"
   ]
  },
  {
   "cell_type": "code",
   "execution_count": 115,
   "id": "6dddfe35-cd26-4a2c-b0d0-fb44c3fb53ff",
   "metadata": {},
   "outputs": [
    {
     "data": {
      "text/html": [
       "<div>\n",
       "<style scoped>\n",
       "    .dataframe tbody tr th:only-of-type {\n",
       "        vertical-align: middle;\n",
       "    }\n",
       "\n",
       "    .dataframe tbody tr th {\n",
       "        vertical-align: top;\n",
       "    }\n",
       "\n",
       "    .dataframe thead th {\n",
       "        text-align: right;\n",
       "    }\n",
       "</style>\n",
       "<table border=\"1\" class=\"dataframe\">\n",
       "  <thead>\n",
       "    <tr style=\"text-align: right;\">\n",
       "      <th></th>\n",
       "      <th>radius</th>\n",
       "      <th>diameter</th>\n",
       "      <th>densities</th>\n",
       "      <th>number_of_edges</th>\n",
       "      <th>average_clustering</th>\n",
       "      <th>avg_degree_centrality</th>\n",
       "      <th>avg_betweenness_centrality</th>\n",
       "      <th>avg_closeness_centrality</th>\n",
       "      <th>average_shortest_path_length</th>\n",
       "    </tr>\n",
       "  </thead>\n",
       "  <tbody>\n",
       "    <tr>\n",
       "      <th>0</th>\n",
       "      <td>2</td>\n",
       "      <td>2</td>\n",
       "      <td>0.745894</td>\n",
       "      <td>772</td>\n",
       "      <td>0.744549</td>\n",
       "      <td>0.745894</td>\n",
       "      <td>0.005775</td>\n",
       "      <td>0.801852</td>\n",
       "      <td>1.254106</td>\n",
       "    </tr>\n",
       "  </tbody>\n",
       "</table>\n",
       "</div>"
      ],
      "text/plain": [
       "   radius  diameter  densities  number_of_edges  average_clustering  \\\n",
       "0       2         2   0.745894              772            0.744549   \n",
       "\n",
       "   avg_degree_centrality  avg_betweenness_centrality  \\\n",
       "0               0.745894                    0.005775   \n",
       "\n",
       "   avg_closeness_centrality  average_shortest_path_length  \n",
       "0                  0.801852                      1.254106  "
      ]
     },
     "execution_count": 115,
     "metadata": {},
     "output_type": "execute_result"
    }
   ],
   "source": [
    "nm.get_network_features(entropy_network_SixReg_pn_2)"
   ]
  },
  {
   "cell_type": "code",
   "execution_count": 173,
   "id": "13f19737-8247-4220-95a2-8004bbbe4880",
   "metadata": {},
   "outputs": [],
   "source": [
    "nm.get_network_features(entropy_network_SixReg_pn_2).to_csv('Excels/56_2.csv')"
   ]
  },
  {
   "cell_type": "code",
   "execution_count": 116,
   "id": "4622734a-6d97-468f-a400-14717f27e252",
   "metadata": {},
   "outputs": [],
   "source": [
    "entropy_network_SixReg_pn_3 = nm.construct_network(tehran_df_SixReg_pn_3_same_length, method='entropy', threshold=thr56)"
   ]
  },
  {
   "cell_type": "code",
   "execution_count": 117,
   "id": "453bf8e2-c0b5-4d2c-a43e-52ec465d7717",
   "metadata": {},
   "outputs": [
    {
     "data": {
      "text/html": [
       "<div>\n",
       "<style scoped>\n",
       "    .dataframe tbody tr th:only-of-type {\n",
       "        vertical-align: middle;\n",
       "    }\n",
       "\n",
       "    .dataframe tbody tr th {\n",
       "        vertical-align: top;\n",
       "    }\n",
       "\n",
       "    .dataframe thead th {\n",
       "        text-align: right;\n",
       "    }\n",
       "</style>\n",
       "<table border=\"1\" class=\"dataframe\">\n",
       "  <thead>\n",
       "    <tr style=\"text-align: right;\">\n",
       "      <th></th>\n",
       "      <th>radius</th>\n",
       "      <th>diameter</th>\n",
       "      <th>densities</th>\n",
       "      <th>number_of_edges</th>\n",
       "      <th>average_clustering</th>\n",
       "      <th>avg_degree_centrality</th>\n",
       "      <th>avg_betweenness_centrality</th>\n",
       "      <th>avg_closeness_centrality</th>\n",
       "      <th>average_shortest_path_length</th>\n",
       "    </tr>\n",
       "  </thead>\n",
       "  <tbody>\n",
       "    <tr>\n",
       "      <th>0</th>\n",
       "      <td>1</td>\n",
       "      <td>2</td>\n",
       "      <td>0.684848</td>\n",
       "      <td>678</td>\n",
       "      <td>0.724117</td>\n",
       "      <td>0.684848</td>\n",
       "      <td>0.007329</td>\n",
       "      <td>0.772825</td>\n",
       "      <td>1.315152</td>\n",
       "    </tr>\n",
       "  </tbody>\n",
       "</table>\n",
       "</div>"
      ],
      "text/plain": [
       "   radius  diameter  densities  number_of_edges  average_clustering  \\\n",
       "0       1         2   0.684848              678            0.724117   \n",
       "\n",
       "   avg_degree_centrality  avg_betweenness_centrality  \\\n",
       "0               0.684848                    0.007329   \n",
       "\n",
       "   avg_closeness_centrality  average_shortest_path_length  \n",
       "0                  0.772825                      1.315152  "
      ]
     },
     "execution_count": 117,
     "metadata": {},
     "output_type": "execute_result"
    }
   ],
   "source": [
    "nm.get_network_features(entropy_network_SixReg_pn_3)"
   ]
  },
  {
   "cell_type": "code",
   "execution_count": 174,
   "id": "f0451adc-8f9b-4529-979a-4265f980518d",
   "metadata": {},
   "outputs": [],
   "source": [
    "nm.get_network_features(entropy_network_SixReg_pn_3).to_csv('Excels/56_3.csv')"
   ]
  },
  {
   "cell_type": "code",
   "execution_count": 118,
   "id": "ba63f135-5d0a-46fb-b421-fb5edc40f295",
   "metadata": {},
   "outputs": [],
   "source": [
    "entropy_network_SixReg_pn_4 = nm.construct_network(tehran_df_SixReg_pn_4_same_length, method='entropy', threshold=thr56)"
   ]
  },
  {
   "cell_type": "code",
   "execution_count": 119,
   "id": "944b71e9-1ad8-4fca-bbc5-50e20fcd2281",
   "metadata": {},
   "outputs": [
    {
     "data": {
      "text/html": [
       "<div>\n",
       "<style scoped>\n",
       "    .dataframe tbody tr th:only-of-type {\n",
       "        vertical-align: middle;\n",
       "    }\n",
       "\n",
       "    .dataframe tbody tr th {\n",
       "        vertical-align: top;\n",
       "    }\n",
       "\n",
       "    .dataframe thead th {\n",
       "        text-align: right;\n",
       "    }\n",
       "</style>\n",
       "<table border=\"1\" class=\"dataframe\">\n",
       "  <thead>\n",
       "    <tr style=\"text-align: right;\">\n",
       "      <th></th>\n",
       "      <th>radius</th>\n",
       "      <th>diameter</th>\n",
       "      <th>densities</th>\n",
       "      <th>number_of_edges</th>\n",
       "      <th>average_clustering</th>\n",
       "      <th>avg_degree_centrality</th>\n",
       "      <th>avg_betweenness_centrality</th>\n",
       "      <th>avg_closeness_centrality</th>\n",
       "      <th>average_shortest_path_length</th>\n",
       "    </tr>\n",
       "  </thead>\n",
       "  <tbody>\n",
       "    <tr>\n",
       "      <th>0</th>\n",
       "      <td>2</td>\n",
       "      <td>2</td>\n",
       "      <td>0.729293</td>\n",
       "      <td>722</td>\n",
       "      <td>0.75745</td>\n",
       "      <td>0.729293</td>\n",
       "      <td>0.006296</td>\n",
       "      <td>0.793754</td>\n",
       "      <td>1.270707</td>\n",
       "    </tr>\n",
       "  </tbody>\n",
       "</table>\n",
       "</div>"
      ],
      "text/plain": [
       "   radius  diameter  densities  number_of_edges  average_clustering  \\\n",
       "0       2         2   0.729293              722             0.75745   \n",
       "\n",
       "   avg_degree_centrality  avg_betweenness_centrality  \\\n",
       "0               0.729293                    0.006296   \n",
       "\n",
       "   avg_closeness_centrality  average_shortest_path_length  \n",
       "0                  0.793754                      1.270707  "
      ]
     },
     "execution_count": 119,
     "metadata": {},
     "output_type": "execute_result"
    }
   ],
   "source": [
    "nm.get_network_features(entropy_network_SixReg_pn_4)"
   ]
  },
  {
   "cell_type": "code",
   "execution_count": 175,
   "id": "1d333119-f9c8-498e-a5b2-e915a963d27b",
   "metadata": {},
   "outputs": [],
   "source": [
    "nm.get_network_features(entropy_network_SixReg_pn_4).to_csv('Excels/56_4.csv')"
   ]
  },
  {
   "cell_type": "code",
   "execution_count": 120,
   "id": "1fd813f7-b213-42fc-afdd-68bd4e5295fe",
   "metadata": {},
   "outputs": [],
   "source": [
    "entropy_network_SixReg_pn_5 = nm.construct_network(tehran_df_SixReg_pn_5_same_length, method='entropy', threshold=thr56)"
   ]
  },
  {
   "cell_type": "code",
   "execution_count": 121,
   "id": "82da6a32-5871-47ce-a8ea-6bc138275628",
   "metadata": {},
   "outputs": [
    {
     "data": {
      "text/html": [
       "<div>\n",
       "<style scoped>\n",
       "    .dataframe tbody tr th:only-of-type {\n",
       "        vertical-align: middle;\n",
       "    }\n",
       "\n",
       "    .dataframe tbody tr th {\n",
       "        vertical-align: top;\n",
       "    }\n",
       "\n",
       "    .dataframe thead th {\n",
       "        text-align: right;\n",
       "    }\n",
       "</style>\n",
       "<table border=\"1\" class=\"dataframe\">\n",
       "  <thead>\n",
       "    <tr style=\"text-align: right;\">\n",
       "      <th></th>\n",
       "      <th>radius</th>\n",
       "      <th>diameter</th>\n",
       "      <th>densities</th>\n",
       "      <th>number_of_edges</th>\n",
       "      <th>average_clustering</th>\n",
       "      <th>avg_degree_centrality</th>\n",
       "      <th>avg_betweenness_centrality</th>\n",
       "      <th>avg_closeness_centrality</th>\n",
       "      <th>average_shortest_path_length</th>\n",
       "    </tr>\n",
       "  </thead>\n",
       "  <tbody>\n",
       "    <tr>\n",
       "      <th>0</th>\n",
       "      <td>2</td>\n",
       "      <td>2</td>\n",
       "      <td>0.757488</td>\n",
       "      <td>784</td>\n",
       "      <td>0.762902</td>\n",
       "      <td>0.757488</td>\n",
       "      <td>0.005512</td>\n",
       "      <td>0.809299</td>\n",
       "      <td>1.242512</td>\n",
       "    </tr>\n",
       "  </tbody>\n",
       "</table>\n",
       "</div>"
      ],
      "text/plain": [
       "   radius  diameter  densities  number_of_edges  average_clustering  \\\n",
       "0       2         2   0.757488              784            0.762902   \n",
       "\n",
       "   avg_degree_centrality  avg_betweenness_centrality  \\\n",
       "0               0.757488                    0.005512   \n",
       "\n",
       "   avg_closeness_centrality  average_shortest_path_length  \n",
       "0                  0.809299                      1.242512  "
      ]
     },
     "execution_count": 121,
     "metadata": {},
     "output_type": "execute_result"
    }
   ],
   "source": [
    "nm.get_network_features(entropy_network_SixReg_pn_5)"
   ]
  },
  {
   "cell_type": "code",
   "execution_count": 176,
   "id": "5f5c94ac-bccf-4464-8c20-6ff5e11232d6",
   "metadata": {},
   "outputs": [],
   "source": [
    "nm.get_network_features(entropy_network_SixReg_pn_5).to_csv('Excels/56_5.csv')"
   ]
  },
  {
   "cell_type": "code",
   "execution_count": 122,
   "id": "96cda90f-151a-4ce8-9625-52390f4a2d5e",
   "metadata": {},
   "outputs": [],
   "source": [
    "entropy_network_SixReg_pn_6 = nm.construct_network(tehran_df_SixReg_pn_6_same_length, method='entropy', threshold=thr56)"
   ]
  },
  {
   "cell_type": "code",
   "execution_count": 123,
   "id": "a1e447cc-12a8-4bf7-9179-5ffb83fecf9f",
   "metadata": {},
   "outputs": [
    {
     "data": {
      "text/html": [
       "<div>\n",
       "<style scoped>\n",
       "    .dataframe tbody tr th:only-of-type {\n",
       "        vertical-align: middle;\n",
       "    }\n",
       "\n",
       "    .dataframe tbody tr th {\n",
       "        vertical-align: top;\n",
       "    }\n",
       "\n",
       "    .dataframe thead th {\n",
       "        text-align: right;\n",
       "    }\n",
       "</style>\n",
       "<table border=\"1\" class=\"dataframe\">\n",
       "  <thead>\n",
       "    <tr style=\"text-align: right;\">\n",
       "      <th></th>\n",
       "      <th>radius</th>\n",
       "      <th>diameter</th>\n",
       "      <th>densities</th>\n",
       "      <th>number_of_edges</th>\n",
       "      <th>average_clustering</th>\n",
       "      <th>avg_degree_centrality</th>\n",
       "      <th>avg_betweenness_centrality</th>\n",
       "      <th>avg_closeness_centrality</th>\n",
       "      <th>average_shortest_path_length</th>\n",
       "    </tr>\n",
       "  </thead>\n",
       "  <tbody>\n",
       "    <tr>\n",
       "      <th>0</th>\n",
       "      <td>2</td>\n",
       "      <td>2</td>\n",
       "      <td>0.731313</td>\n",
       "      <td>724</td>\n",
       "      <td>0.749183</td>\n",
       "      <td>0.731313</td>\n",
       "      <td>0.006249</td>\n",
       "      <td>0.795537</td>\n",
       "      <td>1.268687</td>\n",
       "    </tr>\n",
       "  </tbody>\n",
       "</table>\n",
       "</div>"
      ],
      "text/plain": [
       "   radius  diameter  densities  number_of_edges  average_clustering  \\\n",
       "0       2         2   0.731313              724            0.749183   \n",
       "\n",
       "   avg_degree_centrality  avg_betweenness_centrality  \\\n",
       "0               0.731313                    0.006249   \n",
       "\n",
       "   avg_closeness_centrality  average_shortest_path_length  \n",
       "0                  0.795537                      1.268687  "
      ]
     },
     "execution_count": 123,
     "metadata": {},
     "output_type": "execute_result"
    }
   ],
   "source": [
    "nm.get_network_features(entropy_network_SixReg_pn_6)"
   ]
  },
  {
   "cell_type": "code",
   "execution_count": 177,
   "id": "0fbbe395-e500-4dce-ae72-428a7522401f",
   "metadata": {},
   "outputs": [],
   "source": [
    "nm.get_network_features(entropy_network_SixReg_pn_6).to_csv('Excels/56_6.csv')"
   ]
  },
  {
   "cell_type": "markdown",
   "id": "06d7e86a-908c-4912-b441-32c2bbb85047",
   "metadata": {},
   "source": [
    "# 57) Tehran 6 pn Regime Entropy (Based on Median Threshold) Period of 90 Far - 98 Dey/ Last 100 Records"
   ]
  },
  {
   "cell_type": "code",
   "execution_count": 124,
   "id": "095a35ff-2af5-4eff-ad8b-0ea396a95163",
   "metadata": {},
   "outputs": [],
   "source": [
    "# thr57_1 = nm.find_median_entropy_threshold(tehran_df_SixReg_pn_1_same_length_98[-100:])\n",
    "# thr57_2 = nm.find_median_entropy_threshold(tehran_df_SixReg_pn_2_same_length_98[-100:])\n",
    "# thr57_3 = nm.find_median_entropy_threshold(tehran_df_SixReg_pn_3_same_length_98[-100:])\n",
    "# thr57_4 = nm.find_median_entropy_threshold(tehran_df_SixReg_pn_4_same_length_98[-100:])\n",
    "# thr57_5 = nm.find_median_entropy_threshold(tehran_df_SixReg_pn_5_same_length_98[-100:])\n",
    "# thr57_6 = nm.find_median_entropy_threshold(tehran_df_SixReg_pn_6_same_length_98[-100:])\n",
    "\n",
    "# thr57 = min(thr57_1, thr57_2, thr57_3, thr57_4, thr57_5, thr57_6)"
   ]
  },
  {
   "cell_type": "code",
   "execution_count": 125,
   "id": "465e8213-5998-47ad-86d5-ae3bf005aedb",
   "metadata": {},
   "outputs": [],
   "source": [
    "# entropy_network_SixReg_pn_1_98_last100 = nm.construct_network(tehran_df_SixReg_pn_1_same_length_98[-100:], method='entropy', threshold=thr57)"
   ]
  },
  {
   "cell_type": "code",
   "execution_count": 126,
   "id": "23ae3c07-a1f7-4a01-a643-b8b4e20d8914",
   "metadata": {},
   "outputs": [],
   "source": [
    "# nm.get_network_features(entropy_network_SixReg_pn_1_98_last100)"
   ]
  },
  {
   "cell_type": "code",
   "execution_count": 127,
   "id": "e0226bfd-32d9-438f-ad41-7fe6bdc8da23",
   "metadata": {},
   "outputs": [],
   "source": [
    "# entropy_network_SixReg_pn_2_98_last100 = nm.construct_network(tehran_df_SixReg_pn_2_same_length_98[-100:], method='entropy', threshold=thr57)"
   ]
  },
  {
   "cell_type": "code",
   "execution_count": 128,
   "id": "bb85df4a-0485-4655-abe1-fecbaf45778f",
   "metadata": {},
   "outputs": [],
   "source": [
    "# nm.get_network_features(entropy_network_SixReg_pn_2_98_last100)"
   ]
  },
  {
   "cell_type": "code",
   "execution_count": 129,
   "id": "1ee38712-5732-495b-a745-41dee8bcec1b",
   "metadata": {},
   "outputs": [],
   "source": [
    "# entropy_network_SixReg_pn_3_98_last100 = nm.construct_network(tehran_df_SixReg_pn_3_same_length_98[-100:], method='entropy', threshold=thr57)"
   ]
  },
  {
   "cell_type": "code",
   "execution_count": 130,
   "id": "b31d1efc-fea9-4728-ad2d-8699fa53840a",
   "metadata": {},
   "outputs": [],
   "source": [
    "# nm.get_network_features(entropy_network_SixReg_pn_3_98_last100)"
   ]
  },
  {
   "cell_type": "code",
   "execution_count": 131,
   "id": "a24cc747-7c27-4cd0-bd37-9bf8b22275f5",
   "metadata": {},
   "outputs": [],
   "source": [
    "# entropy_network_SixReg_pn_4_98_last100 = nm.construct_network(tehran_df_SixReg_pn_4_same_length_98[-100:], method='entropy', threshold=thr57)"
   ]
  },
  {
   "cell_type": "code",
   "execution_count": 132,
   "id": "fdfc0e3d-8075-452f-b388-525174a4737e",
   "metadata": {},
   "outputs": [],
   "source": [
    "# nm.get_network_features(entropy_network_SixReg_pn_4_98_last100)"
   ]
  },
  {
   "cell_type": "code",
   "execution_count": 133,
   "id": "e4f44cc8-0f9d-492f-a49a-7f82b4095675",
   "metadata": {},
   "outputs": [],
   "source": [
    "# entropy_network_SixReg_pn_5_98_last100 = nm.construct_network(tehran_df_SixReg_pn_5_same_length_98[-100:], method='entropy', threshold=thr57)"
   ]
  },
  {
   "cell_type": "code",
   "execution_count": 134,
   "id": "bafae525-71ba-4365-a925-89b220c9b473",
   "metadata": {},
   "outputs": [],
   "source": [
    "# nm.get_network_features(entropy_network_SixReg_pn_5_98_last100)"
   ]
  },
  {
   "cell_type": "code",
   "execution_count": 135,
   "id": "94f14e11-8ee1-4294-b075-b6756167726d",
   "metadata": {},
   "outputs": [],
   "source": [
    "# entropy_network_SixReg_pn_6_98_last100 = nm.construct_network(tehran_df_SixReg_pn_6_same_length_98[-100:], method='entropy', threshold=thr57)"
   ]
  },
  {
   "cell_type": "code",
   "execution_count": 136,
   "id": "3d78b223-e790-45d4-a818-2196a7e9b636",
   "metadata": {},
   "outputs": [],
   "source": [
    "# nm.get_network_features(entropy_network_SixReg_pn_6_98_last100)"
   ]
  },
  {
   "cell_type": "markdown",
   "id": "8fe54e42-1013-4343-9286-62cc69a91bd9",
   "metadata": {},
   "source": [
    "# 58) Tehran 6 pn Regime Entropy (Based on Median Threshold) Period of 90 Far - 98 Dey/ 50 windows of 100 Records"
   ]
  },
  {
   "cell_type": "code",
   "execution_count": 137,
   "id": "e06dccbd-5c97-4319-a03e-4560d0a48233",
   "metadata": {
    "tags": []
   },
   "outputs": [],
   "source": [
    "# nm = Net_moduls()\n",
    "# entropy_network_SixReg_pn_1_98_averged = nm.get_network_features_averaged_median(tehran_df, regimes_column = tehran_df_reg['6_(2pn)'],method='entropy',edges_threshold=200, target_window=50, target_length=10)"
   ]
  },
  {
   "cell_type": "code",
   "execution_count": 138,
   "id": "c73da03e-3f9f-4466-8791-9930e76a1896",
   "metadata": {},
   "outputs": [],
   "source": [
    "# entropy_network_SixReg_pn_1_98_averged"
   ]
  },
  {
   "cell_type": "markdown",
   "id": "1aa3ddeb-7fce-4f58-8249-7c89cc413a95",
   "metadata": {},
   "source": [
    "# 59) Tehran 6 pn Regime Entropy (Based on Median Threshold) Period of 90 Far - 00 Far/ 50 windows of 100 Records"
   ]
  },
  {
   "cell_type": "code",
   "execution_count": 139,
   "id": "4351f3d9-8cf5-45e8-be27-118b0616c2a5",
   "metadata": {
    "tags": []
   },
   "outputs": [],
   "source": [
    "# nm = Net_moduls()\n",
    "# entropy_network_SixReg_pn_90_00_averged = nm.get_network_features_averaged_median(tehran_df_completeDates, regimes_column= tehran_df_reg['6_(2pn)'],method='entropy',edges_threshold=200, target_window=100, target_length=50)"
   ]
  },
  {
   "cell_type": "code",
   "execution_count": 140,
   "id": "5725d03e-d312-4ba8-869c-77c37091a3b0",
   "metadata": {},
   "outputs": [],
   "source": [
    "# entropy_network_SixReg_pn_90_00_averged"
   ]
  },
  {
   "cell_type": "markdown",
   "id": "110ed307-c1e4-4818-95de-ea04418fdb64",
   "metadata": {},
   "source": [
    "# 60) Tehran 6 pn Regime Crossed (Based on Median Threshold) Period of 90 Far - 98 Dey"
   ]
  },
  {
   "cell_type": "code",
   "execution_count": 178,
   "id": "5f8f37db-b405-438a-b621-8acc6cb0b21c",
   "metadata": {},
   "outputs": [],
   "source": [
    "nm = Net_moduls()"
   ]
  },
  {
   "cell_type": "code",
   "execution_count": 180,
   "id": "bc3059e1-ef4d-4913-a6cc-3404d1091143",
   "metadata": {},
   "outputs": [],
   "source": [
    "thr60_1 = nm.find_median_crossed_100_threshold(tehran_df_SixReg_pn_1_same_length_98)\n",
    "thr60_2 = nm.find_median_crossed_100_threshold(tehran_df_SixReg_pn_2_same_length_98)\n",
    "thr60_3 = nm.find_median_crossed_100_threshold(tehran_df_SixReg_pn_3_same_length_98)\n",
    "thr60_1 = nm.find_median_crossed_100_threshold(tehran_df_SixReg_pn_1_same_length_98)\n",
    "thr60_2 = nm.find_median_crossed_100_threshold(tehran_df_SixReg_pn_2_same_length_98)\n",
    "thr60_3 = nm.find_median_crossed_100_threshold(tehran_df_SixReg_pn_3_same_length_98)\n",
    "\n",
    "thr60 = min(thr60_1, thr60_2, thr60_3)"
   ]
  },
  {
   "cell_type": "code",
   "execution_count": 181,
   "id": "86c9ff04-cc1e-4bc9-bf27-30a2a71615b3",
   "metadata": {},
   "outputs": [],
   "source": [
    "crossed_network_SixReg_pn_1_98 = nm.construct_network(tehran_df_SixReg_pn_1_same_length_98, method='crossed_100_', threshold=thr60)"
   ]
  },
  {
   "cell_type": "code",
   "execution_count": 182,
   "id": "ff9be29a-4735-42bf-af34-e23eec0e1978",
   "metadata": {},
   "outputs": [
    {
     "data": {
      "text/html": [
       "<div>\n",
       "<style scoped>\n",
       "    .dataframe tbody tr th:only-of-type {\n",
       "        vertical-align: middle;\n",
       "    }\n",
       "\n",
       "    .dataframe tbody tr th {\n",
       "        vertical-align: top;\n",
       "    }\n",
       "\n",
       "    .dataframe thead th {\n",
       "        text-align: right;\n",
       "    }\n",
       "</style>\n",
       "<table border=\"1\" class=\"dataframe\">\n",
       "  <thead>\n",
       "    <tr style=\"text-align: right;\">\n",
       "      <th></th>\n",
       "      <th>radius</th>\n",
       "      <th>diameter</th>\n",
       "      <th>densities</th>\n",
       "      <th>number_of_edges</th>\n",
       "      <th>average_clustering</th>\n",
       "      <th>avg_degree_centrality</th>\n",
       "      <th>avg_betweenness_centrality</th>\n",
       "      <th>avg_closeness_centrality</th>\n",
       "      <th>average_shortest_path_length</th>\n",
       "    </tr>\n",
       "  </thead>\n",
       "  <tbody>\n",
       "    <tr>\n",
       "      <th>0</th>\n",
       "      <td>2</td>\n",
       "      <td>2</td>\n",
       "      <td>0.707071</td>\n",
       "      <td>700</td>\n",
       "      <td>0.760022</td>\n",
       "      <td>0.707071</td>\n",
       "      <td>0.006812</td>\n",
       "      <td>0.782462</td>\n",
       "      <td>1.292929</td>\n",
       "    </tr>\n",
       "  </tbody>\n",
       "</table>\n",
       "</div>"
      ],
      "text/plain": [
       "   radius  diameter  densities  number_of_edges  average_clustering  \\\n",
       "0       2         2   0.707071              700            0.760022   \n",
       "\n",
       "   avg_degree_centrality  avg_betweenness_centrality  \\\n",
       "0               0.707071                    0.006812   \n",
       "\n",
       "   avg_closeness_centrality  average_shortest_path_length  \n",
       "0                  0.782462                      1.292929  "
      ]
     },
     "execution_count": 182,
     "metadata": {},
     "output_type": "execute_result"
    }
   ],
   "source": [
    "nm.get_network_features(crossed_network_SixReg_pn_1_98)"
   ]
  },
  {
   "cell_type": "code",
   "execution_count": 183,
   "id": "758eb895-0402-4a24-a1b4-6d1673f0e03e",
   "metadata": {},
   "outputs": [],
   "source": [
    "nm.get_network_features(crossed_network_SixReg_pn_1_98).to_csv('Excels/60_1.csv')"
   ]
  },
  {
   "cell_type": "code",
   "execution_count": 184,
   "id": "62dbfed3-5274-4d11-b02b-f3467841c277",
   "metadata": {},
   "outputs": [],
   "source": [
    "crossed_network_SixReg_pn_2_98 = nm.construct_network(tehran_df_SixReg_pn_2_same_length_98, method='crossed_100_', threshold=thr60)"
   ]
  },
  {
   "cell_type": "code",
   "execution_count": 185,
   "id": "4837d7a9-9ede-4a5f-a5cb-e413db7ca327",
   "metadata": {},
   "outputs": [
    {
     "data": {
      "text/html": [
       "<div>\n",
       "<style scoped>\n",
       "    .dataframe tbody tr th:only-of-type {\n",
       "        vertical-align: middle;\n",
       "    }\n",
       "\n",
       "    .dataframe tbody tr th {\n",
       "        vertical-align: top;\n",
       "    }\n",
       "\n",
       "    .dataframe thead th {\n",
       "        text-align: right;\n",
       "    }\n",
       "</style>\n",
       "<table border=\"1\" class=\"dataframe\">\n",
       "  <thead>\n",
       "    <tr style=\"text-align: right;\">\n",
       "      <th></th>\n",
       "      <th>radius</th>\n",
       "      <th>diameter</th>\n",
       "      <th>densities</th>\n",
       "      <th>number_of_edges</th>\n",
       "      <th>average_clustering</th>\n",
       "      <th>avg_degree_centrality</th>\n",
       "      <th>avg_betweenness_centrality</th>\n",
       "      <th>avg_closeness_centrality</th>\n",
       "      <th>average_shortest_path_length</th>\n",
       "    </tr>\n",
       "  </thead>\n",
       "  <tbody>\n",
       "    <tr>\n",
       "      <th>0</th>\n",
       "      <td>2</td>\n",
       "      <td>2</td>\n",
       "      <td>0.560386</td>\n",
       "      <td>580</td>\n",
       "      <td>0.602718</td>\n",
       "      <td>0.560386</td>\n",
       "      <td>0.009991</td>\n",
       "      <td>0.69909</td>\n",
       "      <td>1.439614</td>\n",
       "    </tr>\n",
       "  </tbody>\n",
       "</table>\n",
       "</div>"
      ],
      "text/plain": [
       "   radius  diameter  densities  number_of_edges  average_clustering  \\\n",
       "0       2         2   0.560386              580            0.602718   \n",
       "\n",
       "   avg_degree_centrality  avg_betweenness_centrality  \\\n",
       "0               0.560386                    0.009991   \n",
       "\n",
       "   avg_closeness_centrality  average_shortest_path_length  \n",
       "0                   0.69909                      1.439614  "
      ]
     },
     "execution_count": 185,
     "metadata": {},
     "output_type": "execute_result"
    }
   ],
   "source": [
    "nm.get_network_features(crossed_network_SixReg_pn_2_98)"
   ]
  },
  {
   "cell_type": "code",
   "execution_count": 186,
   "id": "6da9e966-5120-46e9-b0f3-e490d0531ecb",
   "metadata": {},
   "outputs": [],
   "source": [
    "nm.get_network_features(crossed_network_SixReg_pn_2_98).to_csv('Excels/60_2.csv')"
   ]
  },
  {
   "cell_type": "code",
   "execution_count": 187,
   "id": "064344c3-5883-4b64-a7cf-bac738343ee0",
   "metadata": {},
   "outputs": [],
   "source": [
    "crossed_network_SixReg_pn_3_98 = nm.construct_network(tehran_df_SixReg_pn_3_same_length_98, method='crossed_100_', threshold=thr60)"
   ]
  },
  {
   "cell_type": "code",
   "execution_count": 188,
   "id": "bee8c852-a6ed-47ce-a5a9-3a41caec50ef",
   "metadata": {},
   "outputs": [
    {
     "data": {
      "text/html": [
       "<div>\n",
       "<style scoped>\n",
       "    .dataframe tbody tr th:only-of-type {\n",
       "        vertical-align: middle;\n",
       "    }\n",
       "\n",
       "    .dataframe tbody tr th {\n",
       "        vertical-align: top;\n",
       "    }\n",
       "\n",
       "    .dataframe thead th {\n",
       "        text-align: right;\n",
       "    }\n",
       "</style>\n",
       "<table border=\"1\" class=\"dataframe\">\n",
       "  <thead>\n",
       "    <tr style=\"text-align: right;\">\n",
       "      <th></th>\n",
       "      <th>radius</th>\n",
       "      <th>diameter</th>\n",
       "      <th>densities</th>\n",
       "      <th>number_of_edges</th>\n",
       "      <th>average_clustering</th>\n",
       "      <th>avg_degree_centrality</th>\n",
       "      <th>avg_betweenness_centrality</th>\n",
       "      <th>avg_closeness_centrality</th>\n",
       "      <th>average_shortest_path_length</th>\n",
       "    </tr>\n",
       "  </thead>\n",
       "  <tbody>\n",
       "    <tr>\n",
       "      <th>0</th>\n",
       "      <td>2</td>\n",
       "      <td>2</td>\n",
       "      <td>0.515152</td>\n",
       "      <td>510</td>\n",
       "      <td>0.623267</td>\n",
       "      <td>0.515152</td>\n",
       "      <td>0.011276</td>\n",
       "      <td>0.67908</td>\n",
       "      <td>1.484848</td>\n",
       "    </tr>\n",
       "  </tbody>\n",
       "</table>\n",
       "</div>"
      ],
      "text/plain": [
       "   radius  diameter  densities  number_of_edges  average_clustering  \\\n",
       "0       2         2   0.515152              510            0.623267   \n",
       "\n",
       "   avg_degree_centrality  avg_betweenness_centrality  \\\n",
       "0               0.515152                    0.011276   \n",
       "\n",
       "   avg_closeness_centrality  average_shortest_path_length  \n",
       "0                   0.67908                      1.484848  "
      ]
     },
     "execution_count": 188,
     "metadata": {},
     "output_type": "execute_result"
    }
   ],
   "source": [
    "nm.get_network_features(crossed_network_SixReg_pn_3_98)"
   ]
  },
  {
   "cell_type": "code",
   "execution_count": 189,
   "id": "b6c4ef86-a16d-4650-97cf-cfd90b6d0366",
   "metadata": {},
   "outputs": [],
   "source": [
    "nm.get_network_features(crossed_network_SixReg_pn_3_98).to_csv('Excels/60_3.csv')"
   ]
  },
  {
   "cell_type": "code",
   "execution_count": null,
   "id": "51ef2003-a45c-49ae-8442-7629e85b2a86",
   "metadata": {},
   "outputs": [],
   "source": []
  },
  {
   "cell_type": "code",
   "execution_count": 190,
   "id": "c9b5343a-f7c6-43c9-ac51-e78d44aded43",
   "metadata": {},
   "outputs": [],
   "source": [
    "crossed_network_SixReg_pn_4_98 = nm.construct_network(tehran_df_SixReg_pn_4_same_length_98, method='crossed_100_', threshold=thr60)"
   ]
  },
  {
   "cell_type": "code",
   "execution_count": 191,
   "id": "cd9d3123-a9e0-4e95-ab5b-b552ba96e3f3",
   "metadata": {},
   "outputs": [
    {
     "data": {
      "text/html": [
       "<div>\n",
       "<style scoped>\n",
       "    .dataframe tbody tr th:only-of-type {\n",
       "        vertical-align: middle;\n",
       "    }\n",
       "\n",
       "    .dataframe tbody tr th {\n",
       "        vertical-align: top;\n",
       "    }\n",
       "\n",
       "    .dataframe thead th {\n",
       "        text-align: right;\n",
       "    }\n",
       "</style>\n",
       "<table border=\"1\" class=\"dataframe\">\n",
       "  <thead>\n",
       "    <tr style=\"text-align: right;\">\n",
       "      <th></th>\n",
       "      <th>radius</th>\n",
       "      <th>diameter</th>\n",
       "      <th>densities</th>\n",
       "      <th>number_of_edges</th>\n",
       "      <th>average_clustering</th>\n",
       "      <th>avg_degree_centrality</th>\n",
       "      <th>avg_betweenness_centrality</th>\n",
       "      <th>avg_closeness_centrality</th>\n",
       "      <th>average_shortest_path_length</th>\n",
       "    </tr>\n",
       "  </thead>\n",
       "  <tbody>\n",
       "    <tr>\n",
       "      <th>0</th>\n",
       "      <td>2</td>\n",
       "      <td>2</td>\n",
       "      <td>0.613131</td>\n",
       "      <td>607</td>\n",
       "      <td>0.644818</td>\n",
       "      <td>0.613131</td>\n",
       "      <td>0.008997</td>\n",
       "      <td>0.724343</td>\n",
       "      <td>1.386869</td>\n",
       "    </tr>\n",
       "  </tbody>\n",
       "</table>\n",
       "</div>"
      ],
      "text/plain": [
       "   radius  diameter  densities  number_of_edges  average_clustering  \\\n",
       "0       2         2   0.613131              607            0.644818   \n",
       "\n",
       "   avg_degree_centrality  avg_betweenness_centrality  \\\n",
       "0               0.613131                    0.008997   \n",
       "\n",
       "   avg_closeness_centrality  average_shortest_path_length  \n",
       "0                  0.724343                      1.386869  "
      ]
     },
     "execution_count": 191,
     "metadata": {},
     "output_type": "execute_result"
    }
   ],
   "source": [
    "nm.get_network_features(crossed_network_SixReg_pn_4_98)"
   ]
  },
  {
   "cell_type": "code",
   "execution_count": 192,
   "id": "e51801ae-737b-4fab-84dc-6fecc23098dd",
   "metadata": {},
   "outputs": [],
   "source": [
    "nm.get_network_features(crossed_network_SixReg_pn_4_98).to_csv('Excels/60_4.csv')"
   ]
  },
  {
   "cell_type": "code",
   "execution_count": 193,
   "id": "9a86f4bc-abce-42d0-be00-5b294d344765",
   "metadata": {},
   "outputs": [],
   "source": [
    "crossed_network_SixReg_pn_5_98 = nm.construct_network(tehran_df_SixReg_pn_5_same_length_98, method='crossed_100_', threshold=thr60)"
   ]
  },
  {
   "cell_type": "code",
   "execution_count": 194,
   "id": "afad51e2-a70c-4cf6-867d-afdf3bf9eb98",
   "metadata": {},
   "outputs": [
    {
     "data": {
      "text/html": [
       "<div>\n",
       "<style scoped>\n",
       "    .dataframe tbody tr th:only-of-type {\n",
       "        vertical-align: middle;\n",
       "    }\n",
       "\n",
       "    .dataframe tbody tr th {\n",
       "        vertical-align: top;\n",
       "    }\n",
       "\n",
       "    .dataframe thead th {\n",
       "        text-align: right;\n",
       "    }\n",
       "</style>\n",
       "<table border=\"1\" class=\"dataframe\">\n",
       "  <thead>\n",
       "    <tr style=\"text-align: right;\">\n",
       "      <th></th>\n",
       "      <th>radius</th>\n",
       "      <th>diameter</th>\n",
       "      <th>densities</th>\n",
       "      <th>number_of_edges</th>\n",
       "      <th>average_clustering</th>\n",
       "      <th>avg_degree_centrality</th>\n",
       "      <th>avg_betweenness_centrality</th>\n",
       "      <th>avg_closeness_centrality</th>\n",
       "      <th>average_shortest_path_length</th>\n",
       "    </tr>\n",
       "  </thead>\n",
       "  <tbody>\n",
       "    <tr>\n",
       "      <th>0</th>\n",
       "      <td>2</td>\n",
       "      <td>2</td>\n",
       "      <td>0.544928</td>\n",
       "      <td>564</td>\n",
       "      <td>0.567559</td>\n",
       "      <td>0.544928</td>\n",
       "      <td>0.010343</td>\n",
       "      <td>0.690791</td>\n",
       "      <td>1.455072</td>\n",
       "    </tr>\n",
       "  </tbody>\n",
       "</table>\n",
       "</div>"
      ],
      "text/plain": [
       "   radius  diameter  densities  number_of_edges  average_clustering  \\\n",
       "0       2         2   0.544928              564            0.567559   \n",
       "\n",
       "   avg_degree_centrality  avg_betweenness_centrality  \\\n",
       "0               0.544928                    0.010343   \n",
       "\n",
       "   avg_closeness_centrality  average_shortest_path_length  \n",
       "0                  0.690791                      1.455072  "
      ]
     },
     "execution_count": 194,
     "metadata": {},
     "output_type": "execute_result"
    }
   ],
   "source": [
    "nm.get_network_features(crossed_network_SixReg_pn_5_98)"
   ]
  },
  {
   "cell_type": "code",
   "execution_count": 195,
   "id": "700c23b2-f5b0-4afb-b02f-b217b3bf03aa",
   "metadata": {},
   "outputs": [],
   "source": [
    "nm.get_network_features(crossed_network_SixReg_pn_5_98).to_csv('Excels/60_5.csv')"
   ]
  },
  {
   "cell_type": "code",
   "execution_count": 196,
   "id": "2f7733a3-8d6b-4809-ada6-13f68d4bb3e7",
   "metadata": {},
   "outputs": [],
   "source": [
    "crossed_network_SixReg_pn_6_98 = nm.construct_network(tehran_df_SixReg_pn_6_same_length_98, method='crossed_100_', threshold=thr60)"
   ]
  },
  {
   "cell_type": "code",
   "execution_count": 197,
   "id": "b44e2154-a80f-4637-ab1b-80e185cf3f75",
   "metadata": {},
   "outputs": [
    {
     "data": {
      "text/html": [
       "<div>\n",
       "<style scoped>\n",
       "    .dataframe tbody tr th:only-of-type {\n",
       "        vertical-align: middle;\n",
       "    }\n",
       "\n",
       "    .dataframe tbody tr th {\n",
       "        vertical-align: top;\n",
       "    }\n",
       "\n",
       "    .dataframe thead th {\n",
       "        text-align: right;\n",
       "    }\n",
       "</style>\n",
       "<table border=\"1\" class=\"dataframe\">\n",
       "  <thead>\n",
       "    <tr style=\"text-align: right;\">\n",
       "      <th></th>\n",
       "      <th>radius</th>\n",
       "      <th>diameter</th>\n",
       "      <th>densities</th>\n",
       "      <th>number_of_edges</th>\n",
       "      <th>average_clustering</th>\n",
       "      <th>avg_degree_centrality</th>\n",
       "      <th>avg_betweenness_centrality</th>\n",
       "      <th>avg_closeness_centrality</th>\n",
       "      <th>average_shortest_path_length</th>\n",
       "    </tr>\n",
       "  </thead>\n",
       "  <tbody>\n",
       "    <tr>\n",
       "      <th>0</th>\n",
       "      <td>2</td>\n",
       "      <td>2</td>\n",
       "      <td>0.591919</td>\n",
       "      <td>586</td>\n",
       "      <td>0.611954</td>\n",
       "      <td>0.591919</td>\n",
       "      <td>0.00949</td>\n",
       "      <td>0.713693</td>\n",
       "      <td>1.408081</td>\n",
       "    </tr>\n",
       "  </tbody>\n",
       "</table>\n",
       "</div>"
      ],
      "text/plain": [
       "   radius  diameter  densities  number_of_edges  average_clustering  \\\n",
       "0       2         2   0.591919              586            0.611954   \n",
       "\n",
       "   avg_degree_centrality  avg_betweenness_centrality  \\\n",
       "0               0.591919                     0.00949   \n",
       "\n",
       "   avg_closeness_centrality  average_shortest_path_length  \n",
       "0                  0.713693                      1.408081  "
      ]
     },
     "execution_count": 197,
     "metadata": {},
     "output_type": "execute_result"
    }
   ],
   "source": [
    "nm.get_network_features(crossed_network_SixReg_pn_6_98)"
   ]
  },
  {
   "cell_type": "code",
   "execution_count": 198,
   "id": "391accf4-25c4-4b5b-b4f8-6d8fee07a404",
   "metadata": {},
   "outputs": [],
   "source": [
    "nm.get_network_features(crossed_network_SixReg_pn_6_98).to_csv('Excels/60_6.csv')"
   ]
  },
  {
   "cell_type": "markdown",
   "id": "936869d9-b027-4601-a791-47ea357470b1",
   "metadata": {},
   "source": [
    "# 61) Tehran 6 pn Regime Crossed (Based on Median Threshold) Period of 90 Far - 00 Far"
   ]
  },
  {
   "cell_type": "code",
   "execution_count": null,
   "id": "6ff93f12-e1da-4a02-ba5e-a609746addf1",
   "metadata": {},
   "outputs": [],
   "source": []
  },
  {
   "cell_type": "code",
   "execution_count": 199,
   "id": "77730c57-b2ea-4dbe-8e75-f0e40c5fcd2b",
   "metadata": {},
   "outputs": [],
   "source": [
    "nm = Net_moduls()"
   ]
  },
  {
   "cell_type": "code",
   "execution_count": 200,
   "id": "ac52714f-da43-4a77-af1e-834cb7e17614",
   "metadata": {},
   "outputs": [],
   "source": [
    "thr61_1 = nm.find_median_crossed_100_threshold(tehran_df_SixReg_pn_1_same_length)\n",
    "thr61_2 = nm.find_median_crossed_100_threshold(tehran_df_SixReg_pn_2_same_length)\n",
    "thr61_3 = nm.find_median_crossed_100_threshold(tehran_df_SixReg_pn_3_same_length)\n",
    "thr61_1 = nm.find_median_crossed_100_threshold(tehran_df_SixReg_pn_1_same_length)\n",
    "thr61_2 = nm.find_median_crossed_100_threshold(tehran_df_SixReg_pn_2_same_length)\n",
    "thr61_3 = nm.find_median_crossed_100_threshold(tehran_df_SixReg_pn_3_same_length)\n",
    "\n",
    "thr61 = min(thr61_1, thr61_2, thr61_3)"
   ]
  },
  {
   "cell_type": "code",
   "execution_count": 201,
   "id": "efb6c714-a077-4e90-91b6-db2811bbde19",
   "metadata": {},
   "outputs": [],
   "source": [
    "crossed_network_SixReg_pn_1 = nm.construct_network(tehran_df_SixReg_pn_1_same_length, method='crossed_100_', threshold=thr61)"
   ]
  },
  {
   "cell_type": "code",
   "execution_count": 202,
   "id": "21ee641e-9036-4512-bffe-44d7993b1a4b",
   "metadata": {},
   "outputs": [
    {
     "data": {
      "text/html": [
       "<div>\n",
       "<style scoped>\n",
       "    .dataframe tbody tr th:only-of-type {\n",
       "        vertical-align: middle;\n",
       "    }\n",
       "\n",
       "    .dataframe tbody tr th {\n",
       "        vertical-align: top;\n",
       "    }\n",
       "\n",
       "    .dataframe thead th {\n",
       "        text-align: right;\n",
       "    }\n",
       "</style>\n",
       "<table border=\"1\" class=\"dataframe\">\n",
       "  <thead>\n",
       "    <tr style=\"text-align: right;\">\n",
       "      <th></th>\n",
       "      <th>radius</th>\n",
       "      <th>diameter</th>\n",
       "      <th>densities</th>\n",
       "      <th>number_of_edges</th>\n",
       "      <th>average_clustering</th>\n",
       "      <th>avg_degree_centrality</th>\n",
       "      <th>avg_betweenness_centrality</th>\n",
       "      <th>avg_closeness_centrality</th>\n",
       "      <th>average_shortest_path_length</th>\n",
       "    </tr>\n",
       "  </thead>\n",
       "  <tbody>\n",
       "    <tr>\n",
       "      <th>0</th>\n",
       "      <td>2</td>\n",
       "      <td>2</td>\n",
       "      <td>0.709091</td>\n",
       "      <td>702</td>\n",
       "      <td>0.797948</td>\n",
       "      <td>0.709091</td>\n",
       "      <td>0.006765</td>\n",
       "      <td>0.787683</td>\n",
       "      <td>1.290909</td>\n",
       "    </tr>\n",
       "  </tbody>\n",
       "</table>\n",
       "</div>"
      ],
      "text/plain": [
       "   radius  diameter  densities  number_of_edges  average_clustering  \\\n",
       "0       2         2   0.709091              702            0.797948   \n",
       "\n",
       "   avg_degree_centrality  avg_betweenness_centrality  \\\n",
       "0               0.709091                    0.006765   \n",
       "\n",
       "   avg_closeness_centrality  average_shortest_path_length  \n",
       "0                  0.787683                      1.290909  "
      ]
     },
     "execution_count": 202,
     "metadata": {},
     "output_type": "execute_result"
    }
   ],
   "source": [
    "nm.get_network_features(crossed_network_SixReg_pn_1)"
   ]
  },
  {
   "cell_type": "code",
   "execution_count": 203,
   "id": "a773bed6-81c4-4583-9e05-f500882400ac",
   "metadata": {},
   "outputs": [],
   "source": [
    "nm.get_network_features(crossed_network_SixReg_pn_1).to_csv('Excels/61_1.csv')"
   ]
  },
  {
   "cell_type": "code",
   "execution_count": 204,
   "id": "c8820924-712d-4ca0-bd8a-d83ac32f3321",
   "metadata": {},
   "outputs": [],
   "source": [
    "crossed_network_SixReg_pn_2 = nm.construct_network(tehran_df_SixReg_pn_2_same_length, method='crossed_100_', threshold=thr61)"
   ]
  },
  {
   "cell_type": "code",
   "execution_count": 205,
   "id": "eb3881b7-6f68-4453-b0be-d9102e6ca6ac",
   "metadata": {},
   "outputs": [
    {
     "data": {
      "text/html": [
       "<div>\n",
       "<style scoped>\n",
       "    .dataframe tbody tr th:only-of-type {\n",
       "        vertical-align: middle;\n",
       "    }\n",
       "\n",
       "    .dataframe tbody tr th {\n",
       "        vertical-align: top;\n",
       "    }\n",
       "\n",
       "    .dataframe thead th {\n",
       "        text-align: right;\n",
       "    }\n",
       "</style>\n",
       "<table border=\"1\" class=\"dataframe\">\n",
       "  <thead>\n",
       "    <tr style=\"text-align: right;\">\n",
       "      <th></th>\n",
       "      <th>radius</th>\n",
       "      <th>diameter</th>\n",
       "      <th>densities</th>\n",
       "      <th>number_of_edges</th>\n",
       "      <th>average_clustering</th>\n",
       "      <th>avg_degree_centrality</th>\n",
       "      <th>avg_betweenness_centrality</th>\n",
       "      <th>avg_closeness_centrality</th>\n",
       "      <th>average_shortest_path_length</th>\n",
       "    </tr>\n",
       "  </thead>\n",
       "  <tbody>\n",
       "    <tr>\n",
       "      <th>0</th>\n",
       "      <td>2</td>\n",
       "      <td>3</td>\n",
       "      <td>0.483092</td>\n",
       "      <td>500</td>\n",
       "      <td>0.560644</td>\n",
       "      <td>0.483092</td>\n",
       "      <td>0.01177</td>\n",
       "      <td>0.66402</td>\n",
       "      <td>1.517874</td>\n",
       "    </tr>\n",
       "  </tbody>\n",
       "</table>\n",
       "</div>"
      ],
      "text/plain": [
       "   radius  diameter  densities  number_of_edges  average_clustering  \\\n",
       "0       2         3   0.483092              500            0.560644   \n",
       "\n",
       "   avg_degree_centrality  avg_betweenness_centrality  \\\n",
       "0               0.483092                     0.01177   \n",
       "\n",
       "   avg_closeness_centrality  average_shortest_path_length  \n",
       "0                   0.66402                      1.517874  "
      ]
     },
     "execution_count": 205,
     "metadata": {},
     "output_type": "execute_result"
    }
   ],
   "source": [
    "nm.get_network_features(crossed_network_SixReg_pn_2)"
   ]
  },
  {
   "cell_type": "code",
   "execution_count": 206,
   "id": "6d43ea97-0634-460e-83ee-808a9414b5f1",
   "metadata": {},
   "outputs": [],
   "source": [
    "nm.get_network_features(crossed_network_SixReg_pn_2).to_csv('Excels/61_2.csv')"
   ]
  },
  {
   "cell_type": "code",
   "execution_count": 207,
   "id": "4c330bae-7b4f-4ef8-8596-c38c38de3c56",
   "metadata": {},
   "outputs": [],
   "source": [
    "crossed_network_SixReg_pn_3 = nm.construct_network(tehran_df_SixReg_pn_3_same_length, method='crossed_100_', threshold=thr61)"
   ]
  },
  {
   "cell_type": "code",
   "execution_count": 208,
   "id": "389eaa80-15e5-4740-9029-8a84913901d2",
   "metadata": {},
   "outputs": [
    {
     "data": {
      "text/html": [
       "<div>\n",
       "<style scoped>\n",
       "    .dataframe tbody tr th:only-of-type {\n",
       "        vertical-align: middle;\n",
       "    }\n",
       "\n",
       "    .dataframe tbody tr th {\n",
       "        vertical-align: top;\n",
       "    }\n",
       "\n",
       "    .dataframe thead th {\n",
       "        text-align: right;\n",
       "    }\n",
       "</style>\n",
       "<table border=\"1\" class=\"dataframe\">\n",
       "  <thead>\n",
       "    <tr style=\"text-align: right;\">\n",
       "      <th></th>\n",
       "      <th>radius</th>\n",
       "      <th>diameter</th>\n",
       "      <th>densities</th>\n",
       "      <th>number_of_edges</th>\n",
       "      <th>average_clustering</th>\n",
       "      <th>avg_degree_centrality</th>\n",
       "      <th>avg_betweenness_centrality</th>\n",
       "      <th>avg_closeness_centrality</th>\n",
       "      <th>average_shortest_path_length</th>\n",
       "    </tr>\n",
       "  </thead>\n",
       "  <tbody>\n",
       "    <tr>\n",
       "      <th>0</th>\n",
       "      <td>2</td>\n",
       "      <td>3</td>\n",
       "      <td>0.591919</td>\n",
       "      <td>586</td>\n",
       "      <td>0.690754</td>\n",
       "      <td>0.591919</td>\n",
       "      <td>0.009608</td>\n",
       "      <td>0.719112</td>\n",
       "      <td>1.413131</td>\n",
       "    </tr>\n",
       "  </tbody>\n",
       "</table>\n",
       "</div>"
      ],
      "text/plain": [
       "   radius  diameter  densities  number_of_edges  average_clustering  \\\n",
       "0       2         3   0.591919              586            0.690754   \n",
       "\n",
       "   avg_degree_centrality  avg_betweenness_centrality  \\\n",
       "0               0.591919                    0.009608   \n",
       "\n",
       "   avg_closeness_centrality  average_shortest_path_length  \n",
       "0                  0.719112                      1.413131  "
      ]
     },
     "execution_count": 208,
     "metadata": {},
     "output_type": "execute_result"
    }
   ],
   "source": [
    "nm.get_network_features(crossed_network_SixReg_pn_3)"
   ]
  },
  {
   "cell_type": "code",
   "execution_count": 209,
   "id": "ec033900-c994-475a-8ca9-b9eb97c446e2",
   "metadata": {},
   "outputs": [],
   "source": [
    "nm.get_network_features(crossed_network_SixReg_pn_3).to_csv('Excels/61_3.csv')"
   ]
  },
  {
   "cell_type": "code",
   "execution_count": null,
   "id": "f8a357e0-f2db-4f7d-97cb-d46de893bb68",
   "metadata": {},
   "outputs": [],
   "source": []
  },
  {
   "cell_type": "code",
   "execution_count": 210,
   "id": "1a795374-256b-4aeb-9bf1-b85e4cc4791c",
   "metadata": {},
   "outputs": [],
   "source": [
    "crossed_network_SixReg_pn_4 = nm.construct_network(tehran_df_SixReg_pn_4_same_length, method='crossed_100_', threshold=thr61)"
   ]
  },
  {
   "cell_type": "code",
   "execution_count": 211,
   "id": "6bc27cf8-26a3-4ce9-b440-e44a3c259d0d",
   "metadata": {},
   "outputs": [
    {
     "data": {
      "text/html": [
       "<div>\n",
       "<style scoped>\n",
       "    .dataframe tbody tr th:only-of-type {\n",
       "        vertical-align: middle;\n",
       "    }\n",
       "\n",
       "    .dataframe tbody tr th {\n",
       "        vertical-align: top;\n",
       "    }\n",
       "\n",
       "    .dataframe thead th {\n",
       "        text-align: right;\n",
       "    }\n",
       "</style>\n",
       "<table border=\"1\" class=\"dataframe\">\n",
       "  <thead>\n",
       "    <tr style=\"text-align: right;\">\n",
       "      <th></th>\n",
       "      <th>radius</th>\n",
       "      <th>diameter</th>\n",
       "      <th>densities</th>\n",
       "      <th>number_of_edges</th>\n",
       "      <th>average_clustering</th>\n",
       "      <th>avg_degree_centrality</th>\n",
       "      <th>avg_betweenness_centrality</th>\n",
       "      <th>avg_closeness_centrality</th>\n",
       "      <th>average_shortest_path_length</th>\n",
       "    </tr>\n",
       "  </thead>\n",
       "  <tbody>\n",
       "    <tr>\n",
       "      <th>0</th>\n",
       "      <td>2</td>\n",
       "      <td>3</td>\n",
       "      <td>0.449495</td>\n",
       "      <td>445</td>\n",
       "      <td>0.544415</td>\n",
       "      <td>0.449495</td>\n",
       "      <td>0.012826</td>\n",
       "      <td>0.647027</td>\n",
       "      <td>1.551515</td>\n",
       "    </tr>\n",
       "  </tbody>\n",
       "</table>\n",
       "</div>"
      ],
      "text/plain": [
       "   radius  diameter  densities  number_of_edges  average_clustering  \\\n",
       "0       2         3   0.449495              445            0.544415   \n",
       "\n",
       "   avg_degree_centrality  avg_betweenness_centrality  \\\n",
       "0               0.449495                    0.012826   \n",
       "\n",
       "   avg_closeness_centrality  average_shortest_path_length  \n",
       "0                  0.647027                      1.551515  "
      ]
     },
     "execution_count": 211,
     "metadata": {},
     "output_type": "execute_result"
    }
   ],
   "source": [
    "nm.get_network_features(crossed_network_SixReg_pn_4)"
   ]
  },
  {
   "cell_type": "code",
   "execution_count": 212,
   "id": "bb169339-b09f-4c6a-bfd3-846940130400",
   "metadata": {},
   "outputs": [],
   "source": [
    "nm.get_network_features(crossed_network_SixReg_pn_4).to_csv('Excels/61_4.csv')"
   ]
  },
  {
   "cell_type": "code",
   "execution_count": 213,
   "id": "1928cda6-28c2-4884-bcad-a6318253a48a",
   "metadata": {},
   "outputs": [],
   "source": [
    "crossed_network_SixReg_pn_5 = nm.construct_network(tehran_df_SixReg_pn_5_same_length, method='crossed_100_', threshold=thr61)"
   ]
  },
  {
   "cell_type": "code",
   "execution_count": 214,
   "id": "7a5b599f-6cf6-405c-a062-b84de463b215",
   "metadata": {},
   "outputs": [
    {
     "data": {
      "text/html": [
       "<div>\n",
       "<style scoped>\n",
       "    .dataframe tbody tr th:only-of-type {\n",
       "        vertical-align: middle;\n",
       "    }\n",
       "\n",
       "    .dataframe tbody tr th {\n",
       "        vertical-align: top;\n",
       "    }\n",
       "\n",
       "    .dataframe thead th {\n",
       "        text-align: right;\n",
       "    }\n",
       "</style>\n",
       "<table border=\"1\" class=\"dataframe\">\n",
       "  <thead>\n",
       "    <tr style=\"text-align: right;\">\n",
       "      <th></th>\n",
       "      <th>radius</th>\n",
       "      <th>diameter</th>\n",
       "      <th>densities</th>\n",
       "      <th>number_of_edges</th>\n",
       "      <th>average_clustering</th>\n",
       "      <th>avg_degree_centrality</th>\n",
       "      <th>avg_betweenness_centrality</th>\n",
       "      <th>avg_closeness_centrality</th>\n",
       "      <th>average_shortest_path_length</th>\n",
       "    </tr>\n",
       "  </thead>\n",
       "  <tbody>\n",
       "    <tr>\n",
       "      <th>0</th>\n",
       "      <td>2</td>\n",
       "      <td>2</td>\n",
       "      <td>0.445411</td>\n",
       "      <td>461</td>\n",
       "      <td>0.49872</td>\n",
       "      <td>0.445411</td>\n",
       "      <td>0.012604</td>\n",
       "      <td>0.646771</td>\n",
       "      <td>1.554589</td>\n",
       "    </tr>\n",
       "  </tbody>\n",
       "</table>\n",
       "</div>"
      ],
      "text/plain": [
       "   radius  diameter  densities  number_of_edges  average_clustering  \\\n",
       "0       2         2   0.445411              461             0.49872   \n",
       "\n",
       "   avg_degree_centrality  avg_betweenness_centrality  \\\n",
       "0               0.445411                    0.012604   \n",
       "\n",
       "   avg_closeness_centrality  average_shortest_path_length  \n",
       "0                  0.646771                      1.554589  "
      ]
     },
     "execution_count": 214,
     "metadata": {},
     "output_type": "execute_result"
    }
   ],
   "source": [
    "nm.get_network_features(crossed_network_SixReg_pn_5)"
   ]
  },
  {
   "cell_type": "code",
   "execution_count": 215,
   "id": "459a7f16-e9ce-4306-a83c-93b1bdb03254",
   "metadata": {},
   "outputs": [],
   "source": [
    "nm.get_network_features(crossed_network_SixReg_pn_5).to_csv('Excels/61_5.csv')"
   ]
  },
  {
   "cell_type": "code",
   "execution_count": 216,
   "id": "f7aea83f-b7cd-4826-a647-c001a72b7f1a",
   "metadata": {},
   "outputs": [],
   "source": [
    "crossed_network_SixReg_pn_6 = nm.construct_network(tehran_df_SixReg_pn_6_same_length, method='crossed_100_', threshold=thr61)"
   ]
  },
  {
   "cell_type": "code",
   "execution_count": 217,
   "id": "a1232796-fc8b-46c0-b8d3-a9e3a2237802",
   "metadata": {},
   "outputs": [
    {
     "data": {
      "text/html": [
       "<div>\n",
       "<style scoped>\n",
       "    .dataframe tbody tr th:only-of-type {\n",
       "        vertical-align: middle;\n",
       "    }\n",
       "\n",
       "    .dataframe tbody tr th {\n",
       "        vertical-align: top;\n",
       "    }\n",
       "\n",
       "    .dataframe thead th {\n",
       "        text-align: right;\n",
       "    }\n",
       "</style>\n",
       "<table border=\"1\" class=\"dataframe\">\n",
       "  <thead>\n",
       "    <tr style=\"text-align: right;\">\n",
       "      <th></th>\n",
       "      <th>radius</th>\n",
       "      <th>diameter</th>\n",
       "      <th>densities</th>\n",
       "      <th>number_of_edges</th>\n",
       "      <th>average_clustering</th>\n",
       "      <th>avg_degree_centrality</th>\n",
       "      <th>avg_betweenness_centrality</th>\n",
       "      <th>avg_closeness_centrality</th>\n",
       "      <th>average_shortest_path_length</th>\n",
       "    </tr>\n",
       "  </thead>\n",
       "  <tbody>\n",
       "    <tr>\n",
       "      <th>0</th>\n",
       "      <td>2</td>\n",
       "      <td>2</td>\n",
       "      <td>0.523232</td>\n",
       "      <td>518</td>\n",
       "      <td>0.567144</td>\n",
       "      <td>0.523232</td>\n",
       "      <td>0.011088</td>\n",
       "      <td>0.680261</td>\n",
       "      <td>1.476768</td>\n",
       "    </tr>\n",
       "  </tbody>\n",
       "</table>\n",
       "</div>"
      ],
      "text/plain": [
       "   radius  diameter  densities  number_of_edges  average_clustering  \\\n",
       "0       2         2   0.523232              518            0.567144   \n",
       "\n",
       "   avg_degree_centrality  avg_betweenness_centrality  \\\n",
       "0               0.523232                    0.011088   \n",
       "\n",
       "   avg_closeness_centrality  average_shortest_path_length  \n",
       "0                  0.680261                      1.476768  "
      ]
     },
     "execution_count": 217,
     "metadata": {},
     "output_type": "execute_result"
    }
   ],
   "source": [
    "nm.get_network_features(crossed_network_SixReg_pn_6)"
   ]
  },
  {
   "cell_type": "code",
   "execution_count": 218,
   "id": "8051aba8-7998-4284-9567-d5fb3cbcb5b4",
   "metadata": {},
   "outputs": [],
   "source": [
    "nm.get_network_features(crossed_network_SixReg_pn_6).to_csv('Excels/61_6.csv')"
   ]
  },
  {
   "cell_type": "code",
   "execution_count": null,
   "id": "6b746596-5bb3-4cf3-9412-19e938cc1dae",
   "metadata": {},
   "outputs": [],
   "source": []
  },
  {
   "cell_type": "markdown",
   "id": "1b67d1a7-07aa-4e45-8006-2188bc5f4e36",
   "metadata": {},
   "source": [
    "# 62) Tehran 6 pn Regime Crossed (Based on Median Threshold) Period of 90 Far - 98 Dey/ Last 100 Records"
   ]
  },
  {
   "cell_type": "code",
   "execution_count": 220,
   "id": "097fba94-ba18-4231-8926-a4d9f1673a47",
   "metadata": {},
   "outputs": [],
   "source": [
    "# thr47_1 = nm.find_median_crossed_100_threshold(tehran_df_SixReg_pn_1_same_length_98[-100:])\n",
    "# thr47_2 = nm.find_median_crossed_100_threshold(tehran_df_SixReg_pn_2_same_length_98[-100:])\n",
    "# thr47_3 = nm.find_median_crossed_100_threshold(tehran_df_SixReg_pn_3_same_length_98[-100:])\n",
    "\n",
    "# thr47 = min(thr47_1, thr47_2, thr47_3)"
   ]
  },
  {
   "cell_type": "code",
   "execution_count": 221,
   "id": "fcf1ae81-bdd6-458e-ab3d-388e453192b1",
   "metadata": {},
   "outputs": [],
   "source": [
    "# crossed_network_SixReg_pn_1_98_last100 = nm.construct_network(tehran_df_SixReg_pn_1_same_length_98[-100:], method='crossed_100', threshold=thr47)"
   ]
  },
  {
   "cell_type": "code",
   "execution_count": 222,
   "id": "88dcefb6-7de7-4b61-829f-39bf74904f8d",
   "metadata": {},
   "outputs": [],
   "source": [
    "# nm.get_network_features(crossed_network_SixReg_pn_1_98_last100)"
   ]
  },
  {
   "cell_type": "code",
   "execution_count": 223,
   "id": "b7f7da3c-20d8-4e8a-9316-5a6a35e5aef1",
   "metadata": {},
   "outputs": [],
   "source": [
    "# crossed_network_SixReg_pn_2_98_last100 = nm.construct_network(tehran_df_SixReg_pn_2_same_length_98[-100:], method='crossed_100', threshold=thr47)"
   ]
  },
  {
   "cell_type": "code",
   "execution_count": 224,
   "id": "4214231c-89b0-4c6b-a091-586cc20bdba9",
   "metadata": {},
   "outputs": [],
   "source": [
    "# nm.get_network_features(crossed_network_SixReg_pn_2_98_last100)"
   ]
  },
  {
   "cell_type": "code",
   "execution_count": 225,
   "id": "2ee16d18-abdf-4d29-be14-b9512df0109d",
   "metadata": {},
   "outputs": [],
   "source": [
    "# crossed_network_SixReg_pn_3_98_last100 = nm.construct_network(tehran_df_SixReg_pn_3_same_length_98[-100:], method='crossed_100', threshold=thr47)"
   ]
  },
  {
   "cell_type": "code",
   "execution_count": 226,
   "id": "d68ba48d-98ce-408b-a817-1bf6ea087adc",
   "metadata": {},
   "outputs": [],
   "source": [
    "# nm.get_network_features(crossed_network_SixReg_pn_3_98_last100)"
   ]
  },
  {
   "cell_type": "markdown",
   "id": "cd6aa146-4562-45c8-abb2-481748333dd8",
   "metadata": {},
   "source": [
    "# 63) Tehran 6 pn Regime Crossed (Based on Median Threshold) Period of 90 Far - 98 Dey/ 50 windows of 100 Records"
   ]
  },
  {
   "cell_type": "code",
   "execution_count": 227,
   "id": "fc7b73d3-4fbb-446b-a6f0-e96cfd70d363",
   "metadata": {
    "tags": []
   },
   "outputs": [],
   "source": [
    "# nm = Net_moduls()\n",
    "# crossed_network_SixReg_pn_1_98_averged = nm.get_network_features_averaged_median(tehran_df, regimes_column = tehran_df_reg['6_(2pn)'],method='crossed_100',edges_threshold=200, target_window=100, target_length=20)"
   ]
  },
  {
   "cell_type": "code",
   "execution_count": 228,
   "id": "367ba06d-d865-4078-8e6e-6368fcca1ad4",
   "metadata": {},
   "outputs": [],
   "source": [
    "# crossed_network_SixReg_pn_1_98_averged"
   ]
  },
  {
   "cell_type": "markdown",
   "id": "0dc89c85-54e4-4089-87ca-25020b03ea0a",
   "metadata": {},
   "source": [
    "# 64) Tehran 6 pn Regime Crossed (Based on Median Threshold) Period of 90 Far - 00 Far/ 50 windows of 100 Records"
   ]
  },
  {
   "cell_type": "code",
   "execution_count": 229,
   "id": "85cebd48-a0d5-4b89-9372-19c449f5f921",
   "metadata": {
    "tags": []
   },
   "outputs": [],
   "source": [
    "# nm = Net_moduls()\n",
    "# crossed_network_SixReg_pn_90_00_averged = nm.get_network_features_averaged_median(tehran_df_completeDates, regimes_column= tehran_df_reg['6_(2pn)'],method='crossed_100',edges_threshold=200, target_window=100, target_length=50)"
   ]
  },
  {
   "cell_type": "code",
   "execution_count": 230,
   "id": "67b82501-eb16-4081-93db-dd693744085e",
   "metadata": {},
   "outputs": [],
   "source": [
    "# crossed_network_SixReg_pn_90_00_averged"
   ]
  },
  {
   "cell_type": "code",
   "execution_count": null,
   "id": "094cc03d-f727-438b-99a3-62bbf0045ad4",
   "metadata": {},
   "outputs": [],
   "source": []
  }
 ],
 "metadata": {
  "kernelspec": {
   "display_name": "Python 3 (ipykernel)",
   "language": "python",
   "name": "python3"
  },
  "language_info": {
   "codemirror_mode": {
    "name": "ipython",
    "version": 3
   },
   "file_extension": ".py",
   "mimetype": "text/x-python",
   "name": "python",
   "nbconvert_exporter": "python",
   "pygments_lexer": "ipython3",
   "version": "3.11.0"
  }
 },
 "nbformat": 4,
 "nbformat_minor": 5
}
