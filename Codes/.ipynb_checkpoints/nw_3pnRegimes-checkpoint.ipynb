{
 "cells": [
  {
   "cell_type": "code",
   "execution_count": 1,
   "id": "9df9b137-c106-48b0-bec0-f8310cf49fe6",
   "metadata": {},
   "outputs": [],
   "source": [
    "from ned import Net_moduls\n",
    "import networkx as nx\n",
    "import numpy as np"
   ]
  },
  {
   "cell_type": "code",
   "execution_count": 2,
   "id": "dcc17b6b-11f5-4b32-bd9f-32f409077154",
   "metadata": {},
   "outputs": [],
   "source": [
    "from nxviz.plots import CircosPlot"
   ]
  },
  {
   "cell_type": "code",
   "execution_count": 3,
   "id": "ed51ca32-ac02-4621-9b8a-5caa6cb697cd",
   "metadata": {},
   "outputs": [],
   "source": [
    "import pandas as pd\n",
    "import matplotlib.pyplot as plt"
   ]
  },
  {
   "cell_type": "markdown",
   "id": "c102abae-74b4-4a85-946d-b9faecf3cc47",
   "metadata": {},
   "source": [
    "# Data"
   ]
  },
  {
   "cell_type": "markdown",
   "id": "ca7ffdbb-ed51-4350-b647-1044f302e428",
   "metadata": {},
   "source": [
    "## Tehran Index DF and Tehran DF Normed Return 90 Far - 00 Far"
   ]
  },
  {
   "cell_type": "code",
   "execution_count": 4,
   "id": "c8b144ad-a231-44a7-8864-d8743eeb278b",
   "metadata": {},
   "outputs": [],
   "source": [
    "tehran_index = pd.read_excel('../Data/Tehran_Indexes_Price_NoRegime.xlsx').set_index('date')"
   ]
  },
  {
   "cell_type": "code",
   "execution_count": 5,
   "id": "9f426c61-1e01-43d5-99e3-6d5457b71a6e",
   "metadata": {},
   "outputs": [],
   "source": [
    "tehran_df_reg = pd.read_excel('../Data/Tehran_Indexes_NormedReturned_Regimed.xlsx').set_index('date')"
   ]
  },
  {
   "cell_type": "code",
   "execution_count": 6,
   "id": "bad0a593-807b-4c5b-b9c9-ade80cfbffc5",
   "metadata": {},
   "outputs": [],
   "source": [
    "tehran_index_99 = pd.read_excel('../Data/Tehran_Indexes_NormedReturned_Regimed_newox.xlsx').set_index('date')"
   ]
  },
  {
   "cell_type": "markdown",
   "id": "4c78b44b-f17c-4773-9a8a-7540bd95385c",
   "metadata": {},
   "source": [
    "## Tehran DF Normed Return 90 Far - 98 Dey"
   ]
  },
  {
   "cell_type": "code",
   "execution_count": 7,
   "id": "3b865b37-ed9f-4d8f-990d-09f673b7f91e",
   "metadata": {},
   "outputs": [],
   "source": [
    "tehran_df = pd.read_excel('../Data/Tehran_Indexes_NormedReturned_Regimed.xlsx').set_index('date')\n",
    "tehran_df = tehran_df[tehran_df.columns[:-12]].iloc[:-300]"
   ]
  },
  {
   "cell_type": "markdown",
   "id": "da4f9608-498a-4956-8752-7013a814f5a0",
   "metadata": {},
   "source": [
    "## Tehran DF Normed Return 90 Far - 00 Far"
   ]
  },
  {
   "cell_type": "code",
   "execution_count": 8,
   "id": "9a3632e3-6d14-4477-b9da-f8e9a9e924b6",
   "metadata": {},
   "outputs": [],
   "source": [
    "tehran_df_completeDates = pd.read_excel('../Data/Tehran_Indexes_NormedReturned_Regimed.xlsx').set_index('date')\n",
    "tehran_df_completeDates = tehran_df_completeDates[tehran_df_completeDates.columns[:-12]]"
   ]
  },
  {
   "cell_type": "markdown",
   "id": "98e949cc-0b71-427e-9976-6708b4611365",
   "metadata": {},
   "source": [
    "## Tehran pn 3 Regimed DF Normed Return 90 Far - 98 Dey "
   ]
  },
  {
   "cell_type": "code",
   "execution_count": 9,
   "id": "61502455-13cb-41db-8adf-ce788523bb33",
   "metadata": {},
   "outputs": [],
   "source": [
    "tehran_df_ThreeReg_pn_1_98 = tehran_df[tehran_df_reg.iloc[:-300]['3_PN']==1]\n",
    "tehran_df_ThreeReg_pn_2_98 = tehran_df[tehran_df_reg.iloc[:-300]['3_PN']==2]\n",
    "tehran_df_ThreeReg_pn_3_98 = tehran_df[tehran_df_reg.iloc[:-300]['3_PN']==3]"
   ]
  },
  {
   "cell_type": "markdown",
   "id": "2b92e63d-e8f5-4b35-a53a-297f910bd295",
   "metadata": {},
   "source": [
    "## Tehran pn 3 Regimed DF Normed Return 90 Far - 98 Dey / Same Length"
   ]
  },
  {
   "cell_type": "code",
   "execution_count": 10,
   "id": "12f13d9e-94fc-4c06-8a59-20f377b295b9",
   "metadata": {},
   "outputs": [],
   "source": [
    "max_length_ThreeReg_pn_90_98 = min(len(tehran_df_ThreeReg_pn_1_98), len(tehran_df_ThreeReg_pn_2_98),len(tehran_df_ThreeReg_pn_3_98))\n",
    "tehran_df_ThreeReg_pn_1_same_length_98 = tehran_df_ThreeReg_pn_1_98[-max_length_ThreeReg_pn_90_98:]\n",
    "tehran_df_ThreeReg_pn_2_same_length_98 = tehran_df_ThreeReg_pn_2_98[-max_length_ThreeReg_pn_90_98:]\n",
    "tehran_df_ThreeReg_pn_3_same_length_98 = tehran_df_ThreeReg_pn_3_98[-max_length_ThreeReg_pn_90_98:]"
   ]
  },
  {
   "cell_type": "markdown",
   "id": "4fc062f2-51aa-4281-a43c-6d8816dda5f4",
   "metadata": {},
   "source": [
    "## Tehran pn 3 Regimed DF Normed Return 90 Far - 1400 Dey "
   ]
  },
  {
   "cell_type": "code",
   "execution_count": 11,
   "id": "6c8a793a-0e6e-4cf3-98db-8f98542a668b",
   "metadata": {},
   "outputs": [],
   "source": [
    "tehran_df_ThreeReg_pn_1 = tehran_df_completeDates[tehran_df_reg['3_PN']==1]\n",
    "tehran_df_ThreeReg_pn_2 = tehran_df_completeDates[tehran_df_reg['3_PN']==2]\n",
    "tehran_df_ThreeReg_pn_3 = tehran_df_completeDates[tehran_df_reg['3_PN']==3]"
   ]
  },
  {
   "cell_type": "code",
   "execution_count": 12,
   "id": "5b12da39-b04d-423c-a549-3fbff21f6923",
   "metadata": {},
   "outputs": [],
   "source": [
    "max_length_ThreeReg_pn_90_00 = min(len(tehran_df_ThreeReg_pn_1), len(tehran_df_ThreeReg_pn_2),len(tehran_df_ThreeReg_pn_3))\n",
    "tehran_df_ThreeReg_pn_1_same_length = tehran_df_ThreeReg_pn_1[-max_length_ThreeReg_pn_90_00:]\n",
    "tehran_df_ThreeReg_pn_2_same_length = tehran_df_ThreeReg_pn_2[-max_length_ThreeReg_pn_90_00:]\n",
    "tehran_df_ThreeReg_pn_3_same_length = tehran_df_ThreeReg_pn_3[-max_length_ThreeReg_pn_90_00:]"
   ]
  },
  {
   "cell_type": "markdown",
   "id": "f7c51cc5-f605-4102-94ab-b6898693374e",
   "metadata": {},
   "source": [
    "# 35) Tehran 3 pn Regime Pearson (Based on Median Threshold) Period of 90 Far - 98 Dey"
   ]
  },
  {
   "cell_type": "code",
   "execution_count": 13,
   "id": "a560614e-f96e-4269-a910-d0af76efdf8c",
   "metadata": {},
   "outputs": [],
   "source": [
    "nm = Net_moduls()"
   ]
  },
  {
   "cell_type": "code",
   "execution_count": 14,
   "id": "8ebc87dc-9c3b-486d-9da3-e03c1a5cc87d",
   "metadata": {},
   "outputs": [],
   "source": [
    "thr35_1 = nm.find_median_pearson_threshold(tehran_df_ThreeReg_pn_1_same_length_98)\n",
    "thr35_2 = nm.find_median_pearson_threshold(tehran_df_ThreeReg_pn_2_same_length_98)\n",
    "thr35_3 = nm.find_median_pearson_threshold(tehran_df_ThreeReg_pn_3_same_length_98)\n",
    "\n",
    "thr35 = min(thr35_1, thr35_2, thr35_3)"
   ]
  },
  {
   "cell_type": "code",
   "execution_count": 15,
   "id": "8da96d94-6f4a-4eb3-b5e8-5f08b80b9eef",
   "metadata": {},
   "outputs": [],
   "source": [
    "nm = Net_moduls()\n",
    "pearson_network_ThreeReg_pn_1_98 = nm.construct_network(tehran_df_ThreeReg_pn_1_same_length_98, method='pearson', threshold=thr35)"
   ]
  },
  {
   "cell_type": "code",
   "execution_count": 16,
   "id": "62e2eaec-d34c-412b-8ed5-fa3fe75636a4",
   "metadata": {},
   "outputs": [
    {
     "data": {
      "text/html": [
       "<div>\n",
       "<style scoped>\n",
       "    .dataframe tbody tr th:only-of-type {\n",
       "        vertical-align: middle;\n",
       "    }\n",
       "\n",
       "    .dataframe tbody tr th {\n",
       "        vertical-align: top;\n",
       "    }\n",
       "\n",
       "    .dataframe thead th {\n",
       "        text-align: right;\n",
       "    }\n",
       "</style>\n",
       "<table border=\"1\" class=\"dataframe\">\n",
       "  <thead>\n",
       "    <tr style=\"text-align: right;\">\n",
       "      <th></th>\n",
       "      <th>radius</th>\n",
       "      <th>diameter</th>\n",
       "      <th>densities</th>\n",
       "      <th>number_of_edges</th>\n",
       "      <th>average_clustering</th>\n",
       "      <th>avg_degree_centrality</th>\n",
       "      <th>avg_betweenness_centrality</th>\n",
       "      <th>avg_closeness_centrality</th>\n",
       "      <th>average_shortest_path_length</th>\n",
       "    </tr>\n",
       "  </thead>\n",
       "  <tbody>\n",
       "    <tr>\n",
       "      <th>0</th>\n",
       "      <td>2</td>\n",
       "      <td>3</td>\n",
       "      <td>0.574747</td>\n",
       "      <td>569</td>\n",
       "      <td>0.776996</td>\n",
       "      <td>0.574747</td>\n",
       "      <td>0.010477</td>\n",
       "      <td>0.715001</td>\n",
       "      <td>1.450505</td>\n",
       "    </tr>\n",
       "  </tbody>\n",
       "</table>\n",
       "</div>"
      ],
      "text/plain": [
       "   radius  diameter  densities  number_of_edges  average_clustering  \\\n",
       "0       2         3   0.574747              569            0.776996   \n",
       "\n",
       "   avg_degree_centrality  avg_betweenness_centrality  \\\n",
       "0               0.574747                    0.010477   \n",
       "\n",
       "   avg_closeness_centrality  average_shortest_path_length  \n",
       "0                  0.715001                      1.450505  "
      ]
     },
     "execution_count": 16,
     "metadata": {},
     "output_type": "execute_result"
    }
   ],
   "source": [
    "nm.get_network_features(pearson_network_ThreeReg_pn_1_98)"
   ]
  },
  {
   "cell_type": "code",
   "execution_count": 36,
   "id": "589813c3-6d66-4953-8160-2b975c88fb7d",
   "metadata": {},
   "outputs": [
    {
     "data": {
      "text/plain": [
       "array({'FaravardehayeNafti': 2, 'DastgahayeBargi': 2, 'Gold': 4, 'GDP': 5, 'Euro': 6, 'HOUSE': 6, 'Coin': 7, 'M2': 8, 'Mansojat': 9, 'Brent Oil': 10, 'CPI': 13, 'USD': 16, 'M1': 18, 'CoalMining': 21, 'EntesharVaChap': 29, 'paper': 30, 'HamlVaNaghl': 31, 'Bimeh': 31, 'Agriculture': 32, 'MahsolateFelezi': 32, 'Wood': 32, 'FelezateAsasi': 32, 'MashinAlat': 32, 'ChandReshteSanati': 32, 'Daroee': 32, 'SarmayeGozari': 32, 'Rayaneh': 32, 'index': 33, 'EstekrajeNaft': 33, 'Lastic': 33, 'VasayelErtebati': 33, 'khodrosazi': 33, 'GhandVaShekar': 33, 'GazaeeBejozGhand': 33, 'Shimiyaee': 33, 'KashiVaSeramik': 33, 'KanehayeGeyreFelezi': 33, 'Bank': 33, 'Amlakva': 33, 'FaniVaMohandesi': 33, 'Mali': 33, 'KanehayeFelezi': 33, 'SayerMali': 35, 'SayerMadan': 36, 'Siman': 36},\n",
       "      dtype=object)"
      ]
     },
     "execution_count": 36,
     "metadata": {},
     "output_type": "execute_result"
    }
   ],
   "source": [
    "b35_1 = dict(nx.degree(pearson_network_ThreeReg_pn_1_98))\n",
    "b35_1 = np.array(dict(sorted(b35_1.items(), key=lambda item: item[1])))\n",
    "b35_1"
   ]
  },
  {
   "cell_type": "code",
   "execution_count": 37,
   "id": "7768c6cc-6238-4a32-98da-f92fe4dc4948",
   "metadata": {},
   "outputs": [],
   "source": [
    "nm.get_network_features(pearson_network_ThreeReg_pn_1_98).to_csv('Excels/35_1.csv')"
   ]
  },
  {
   "cell_type": "code",
   "execution_count": 38,
   "id": "17283fb0-c810-4497-a633-68a5507e7207",
   "metadata": {},
   "outputs": [],
   "source": [
    "pearson_network_ThreeReg_pn_2_98 = nm.construct_network(tehran_df_ThreeReg_pn_2_same_length_98, method='pearson', threshold=thr35)"
   ]
  },
  {
   "cell_type": "code",
   "execution_count": 39,
   "id": "4626a5fa-09d7-43b9-8229-35607528d4a7",
   "metadata": {},
   "outputs": [
    {
     "data": {
      "text/html": [
       "<div>\n",
       "<style scoped>\n",
       "    .dataframe tbody tr th:only-of-type {\n",
       "        vertical-align: middle;\n",
       "    }\n",
       "\n",
       "    .dataframe tbody tr th {\n",
       "        vertical-align: top;\n",
       "    }\n",
       "\n",
       "    .dataframe thead th {\n",
       "        text-align: right;\n",
       "    }\n",
       "</style>\n",
       "<table border=\"1\" class=\"dataframe\">\n",
       "  <thead>\n",
       "    <tr style=\"text-align: right;\">\n",
       "      <th></th>\n",
       "      <th>radius</th>\n",
       "      <th>diameter</th>\n",
       "      <th>densities</th>\n",
       "      <th>number_of_edges</th>\n",
       "      <th>average_clustering</th>\n",
       "      <th>avg_degree_centrality</th>\n",
       "      <th>avg_betweenness_centrality</th>\n",
       "      <th>avg_closeness_centrality</th>\n",
       "      <th>average_shortest_path_length</th>\n",
       "    </tr>\n",
       "  </thead>\n",
       "  <tbody>\n",
       "    <tr>\n",
       "      <th>0</th>\n",
       "      <td>2</td>\n",
       "      <td>3</td>\n",
       "      <td>0.518841</td>\n",
       "      <td>537</td>\n",
       "      <td>0.734913</td>\n",
       "      <td>0.518841</td>\n",
       "      <td>0.011572</td>\n",
       "      <td>0.680959</td>\n",
       "      <td>1.509179</td>\n",
       "    </tr>\n",
       "  </tbody>\n",
       "</table>\n",
       "</div>"
      ],
      "text/plain": [
       "   radius  diameter  densities  number_of_edges  average_clustering  \\\n",
       "0       2         3   0.518841              537            0.734913   \n",
       "\n",
       "   avg_degree_centrality  avg_betweenness_centrality  \\\n",
       "0               0.518841                    0.011572   \n",
       "\n",
       "   avg_closeness_centrality  average_shortest_path_length  \n",
       "0                  0.680959                      1.509179  "
      ]
     },
     "execution_count": 39,
     "metadata": {},
     "output_type": "execute_result"
    }
   ],
   "source": [
    "nm.get_network_features(pearson_network_ThreeReg_pn_2_98)"
   ]
  },
  {
   "cell_type": "code",
   "execution_count": 40,
   "id": "11475fe4-0287-4d15-9acf-3f1578381359",
   "metadata": {},
   "outputs": [
    {
     "data": {
      "text/plain": [
       "array({'M2': 6, 'GDP': 6, 'Gold': 6, 'Euro': 7, 'Coin': 7, 'CPI': 7, 'Brent Oil': 9, 'USD': 9, 'Mansojat': 10, 'Agriculture': 13, 'HOUSE': 13, 'M1': 14, 'paper': 17, 'Lastic': 17, 'GhandVaShekar': 20, 'KashiVaSeramik': 20, 'CoalMining': 21, 'SayerMadan': 21, 'VasayelErtebati': 22, 'HamlVaNaghl': 23, 'EntesharVaChap': 24, 'AbzaralatePezeshki': 24, 'Rayaneh': 25, 'Shimiyaee': 26, 'KanehayeFelezi': 26, 'Wood': 27, 'FelezateAsasi': 28, 'ChandReshteSanati': 29, 'MahsolateFelezi': 30, 'Siman': 30, 'FaniVaMohandesi': 30, 'SayerMali': 31, 'MashinAlat': 32, 'DastgahayeBargi': 32, 'FaravardehayeNafti': 33, 'KanehayeGeyreFelezi': 33, 'Bimeh': 33, 'GazaeeBejozGhand': 34, 'Daroee': 34, 'Bank': 34, 'Mali': 34, 'index': 35, 'EstekrajeNaft': 35, 'khodrosazi': 35, 'SarmayeGozari': 35, 'Amlakva': 37},\n",
       "      dtype=object)"
      ]
     },
     "execution_count": 40,
     "metadata": {},
     "output_type": "execute_result"
    }
   ],
   "source": [
    "b35_2 = dict(nx.degree(pearson_network_ThreeReg_pn_2_98))\n",
    "b35_2 = np.array(dict(sorted(b35_2.items(), key=lambda item: item[1])))\n",
    "b35_2"
   ]
  },
  {
   "cell_type": "code",
   "execution_count": 41,
   "id": "916b19fd-75a2-4534-90bd-01c6ff878c4c",
   "metadata": {},
   "outputs": [],
   "source": [
    "nm.get_network_features(pearson_network_ThreeReg_pn_2_98).to_csv('Excels/35_2.csv')"
   ]
  },
  {
   "cell_type": "code",
   "execution_count": 42,
   "id": "d0be9990-3123-4454-b6af-a2837ac25168",
   "metadata": {},
   "outputs": [],
   "source": [
    "pearson_network_ThreeReg_pn_3_98 = nm.construct_network(tehran_df_ThreeReg_pn_3_same_length_98, method='pearson', threshold=thr35)"
   ]
  },
  {
   "cell_type": "code",
   "execution_count": 43,
   "id": "4ae84df5-ada7-4faa-8bce-1cc0fa863c4e",
   "metadata": {},
   "outputs": [
    {
     "data": {
      "text/html": [
       "<div>\n",
       "<style scoped>\n",
       "    .dataframe tbody tr th:only-of-type {\n",
       "        vertical-align: middle;\n",
       "    }\n",
       "\n",
       "    .dataframe tbody tr th {\n",
       "        vertical-align: top;\n",
       "    }\n",
       "\n",
       "    .dataframe thead th {\n",
       "        text-align: right;\n",
       "    }\n",
       "</style>\n",
       "<table border=\"1\" class=\"dataframe\">\n",
       "  <thead>\n",
       "    <tr style=\"text-align: right;\">\n",
       "      <th></th>\n",
       "      <th>radius</th>\n",
       "      <th>diameter</th>\n",
       "      <th>densities</th>\n",
       "      <th>number_of_edges</th>\n",
       "      <th>average_clustering</th>\n",
       "      <th>avg_degree_centrality</th>\n",
       "      <th>avg_betweenness_centrality</th>\n",
       "      <th>avg_closeness_centrality</th>\n",
       "      <th>average_shortest_path_length</th>\n",
       "    </tr>\n",
       "  </thead>\n",
       "  <tbody>\n",
       "    <tr>\n",
       "      <th>0</th>\n",
       "      <td>2</td>\n",
       "      <td>3</td>\n",
       "      <td>0.532323</td>\n",
       "      <td>527</td>\n",
       "      <td>0.771703</td>\n",
       "      <td>0.532323</td>\n",
       "      <td>0.011299</td>\n",
       "      <td>0.693736</td>\n",
       "      <td>1.485859</td>\n",
       "    </tr>\n",
       "  </tbody>\n",
       "</table>\n",
       "</div>"
      ],
      "text/plain": [
       "   radius  diameter  densities  number_of_edges  average_clustering  \\\n",
       "0       2         3   0.532323              527            0.771703   \n",
       "\n",
       "   avg_degree_centrality  avg_betweenness_centrality  \\\n",
       "0               0.532323                    0.011299   \n",
       "\n",
       "   avg_closeness_centrality  average_shortest_path_length  \n",
       "0                  0.693736                      1.485859  "
      ]
     },
     "execution_count": 43,
     "metadata": {},
     "output_type": "execute_result"
    }
   ],
   "source": [
    "nm.get_network_features(pearson_network_ThreeReg_pn_3_98)"
   ]
  },
  {
   "cell_type": "code",
   "execution_count": 44,
   "id": "7a757d22-3d3f-47b0-b957-0c2370487438",
   "metadata": {},
   "outputs": [
    {
     "data": {
      "text/plain": [
       "array({'CoalMining': 2, 'USD': 4, 'Coin': 5, 'Gold': 5, 'CPI': 6, 'DastgahayeBargi': 6, 'M1': 6, 'Euro': 7, 'M2': 7, 'Brent Oil': 8, 'HOUSE': 8, 'GDP': 14, 'Mansojat': 20, 'FaravardehayeNafti': 21, 'SayerMadan': 23, 'EntesharVaChap': 24, 'FelezateAsasi': 24, 'VasayelErtebati': 25, 'Shimiyaee': 25, 'GhandVaShekar': 26, 'KanehayeFelezi': 27, 'Wood': 28, 'ChandReshteSanati': 28, 'Bank': 28, 'Agriculture': 29, 'KashiVaSeramik': 29, 'Rayaneh': 29, 'FaniVaMohandesi': 29, 'index': 31, 'paper': 32, 'GazaeeBejozGhand': 32, 'Daroee': 32, 'SayerMali': 32, 'Amlakva': 32, 'Mali': 32, 'EstekrajeNaft': 33, 'MahsolateFelezi': 33, 'khodrosazi': 33, 'KanehayeGeyreFelezi': 33, 'SarmayeGozari': 33, 'MashinAlat': 34, 'Siman': 34, 'HamlVaNaghl': 34, 'Bimeh': 35, 'Lastic': 36},\n",
       "      dtype=object)"
      ]
     },
     "execution_count": 44,
     "metadata": {},
     "output_type": "execute_result"
    }
   ],
   "source": [
    "b35_3 = dict(nx.degree(pearson_network_ThreeReg_pn_3_98))\n",
    "b35_3 = np.array(dict(sorted(b35_3.items(), key=lambda item: item[1])))\n",
    "b35_3"
   ]
  },
  {
   "cell_type": "code",
   "execution_count": 45,
   "id": "cb67beb3-2471-4973-acf6-7c18f2064426",
   "metadata": {},
   "outputs": [],
   "source": [
    "nm.get_network_features(pearson_network_ThreeReg_pn_3_98).to_csv('Excels/35_3.csv')"
   ]
  },
  {
   "cell_type": "markdown",
   "id": "ecdfea81-3e98-4b35-8468-ece797418b63",
   "metadata": {},
   "source": [
    "# 36) Tehran 3 pn Regime Pearson (Based on Median Threshold) Period of 90 Far - 00 Far"
   ]
  },
  {
   "cell_type": "code",
   "execution_count": 46,
   "id": "be345d68-fea5-4bd0-8d0f-fa5a0b3c2a75",
   "metadata": {},
   "outputs": [],
   "source": [
    "thr36_1 = nm.find_median_pearson_threshold(tehran_df_ThreeReg_pn_1_same_length)\n",
    "thr36_2 = nm.find_median_pearson_threshold(tehran_df_ThreeReg_pn_2_same_length)\n",
    "thr36_3 = nm.find_median_pearson_threshold(tehran_df_ThreeReg_pn_3_same_length)\n",
    "\n",
    "thr36 = min(thr36_1, thr36_2, thr36_3)"
   ]
  },
  {
   "cell_type": "code",
   "execution_count": 47,
   "id": "a4fe7d74-f005-4898-8d14-8916f00a8f7c",
   "metadata": {},
   "outputs": [],
   "source": [
    "nm = Net_moduls()\n",
    "pearson_network_ThreeReg_pn_1 = nm.construct_network(tehran_df_ThreeReg_pn_1_same_length, method='pearson', threshold=thr36)"
   ]
  },
  {
   "cell_type": "code",
   "execution_count": 48,
   "id": "93c2a244-b7af-4bb6-9702-e28148ded281",
   "metadata": {},
   "outputs": [
    {
     "data": {
      "text/html": [
       "<div>\n",
       "<style scoped>\n",
       "    .dataframe tbody tr th:only-of-type {\n",
       "        vertical-align: middle;\n",
       "    }\n",
       "\n",
       "    .dataframe tbody tr th {\n",
       "        vertical-align: top;\n",
       "    }\n",
       "\n",
       "    .dataframe thead th {\n",
       "        text-align: right;\n",
       "    }\n",
       "</style>\n",
       "<table border=\"1\" class=\"dataframe\">\n",
       "  <thead>\n",
       "    <tr style=\"text-align: right;\">\n",
       "      <th></th>\n",
       "      <th>radius</th>\n",
       "      <th>diameter</th>\n",
       "      <th>densities</th>\n",
       "      <th>number_of_edges</th>\n",
       "      <th>average_clustering</th>\n",
       "      <th>avg_degree_centrality</th>\n",
       "      <th>avg_betweenness_centrality</th>\n",
       "      <th>avg_closeness_centrality</th>\n",
       "      <th>average_shortest_path_length</th>\n",
       "    </tr>\n",
       "  </thead>\n",
       "  <tbody>\n",
       "    <tr>\n",
       "      <th>0</th>\n",
       "      <td>2</td>\n",
       "      <td>3</td>\n",
       "      <td>0.561353</td>\n",
       "      <td>581</td>\n",
       "      <td>0.755718</td>\n",
       "      <td>0.561353</td>\n",
       "      <td>0.010189</td>\n",
       "      <td>0.710202</td>\n",
       "      <td>1.448309</td>\n",
       "    </tr>\n",
       "  </tbody>\n",
       "</table>\n",
       "</div>"
      ],
      "text/plain": [
       "   radius  diameter  densities  number_of_edges  average_clustering  \\\n",
       "0       2         3   0.561353              581            0.755718   \n",
       "\n",
       "   avg_degree_centrality  avg_betweenness_centrality  \\\n",
       "0               0.561353                    0.010189   \n",
       "\n",
       "   avg_closeness_centrality  average_shortest_path_length  \n",
       "0                  0.710202                      1.448309  "
      ]
     },
     "execution_count": 48,
     "metadata": {},
     "output_type": "execute_result"
    }
   ],
   "source": [
    "nm.get_network_features(pearson_network_ThreeReg_pn_1)"
   ]
  },
  {
   "cell_type": "code",
   "execution_count": 49,
   "id": "f7b9c93a-6ad4-46ef-9ff3-874848e5bb2b",
   "metadata": {},
   "outputs": [
    {
     "data": {
      "text/plain": [
       "array({'AbzaralatePezeshki': 3, 'Mansojat': 4, 'Gold': 7, 'HOUSE': 7, 'Brent Oil': 8, 'EntesharVaChap': 9, 'VasayelErtebati': 9, 'M1': 10, 'CPI': 10, 'M2': 11, 'GDP': 11, 'Wood': 13, 'Coin': 14, 'SayerMadan': 19, 'USD': 22, 'CoalMining': 23, 'Euro': 29, 'paper': 29, 'khodrosazi': 29, 'EstekrajeNaft': 30, 'MahsolateFelezi': 31, 'Lastic': 31, 'SarmayeGozari': 31, 'Agriculture': 32, 'Daroee': 32, 'Siman': 32, 'Bank': 32, 'Amlakva': 32, 'FaniVaMohandesi': 32, 'Mali': 32, 'DastgahayeBargi': 33, 'KashiVaSeramik': 33, 'SayerMali': 33, 'HamlVaNaghl': 33, 'Bimeh': 33, 'Rayaneh': 33, 'FaravardehayeNafti': 34, 'MashinAlat': 34, 'GazaeeBejozGhand': 34, 'index': 35, 'FelezateAsasi': 35, 'GhandVaShekar': 35, 'ChandReshteSanati': 35, 'KanehayeGeyreFelezi': 35, 'Shimiyaee': 36, 'KanehayeFelezi': 37},\n",
       "      dtype=object)"
      ]
     },
     "execution_count": 49,
     "metadata": {},
     "output_type": "execute_result"
    }
   ],
   "source": [
    "b36_1 = dict(nx.degree(pearson_network_ThreeReg_pn_1))\n",
    "b36_1 = np.array(dict(sorted(b36_1.items(), key=lambda item: item[1])))\n",
    "b36_1"
   ]
  },
  {
   "cell_type": "code",
   "execution_count": 50,
   "id": "46895847-59ea-4556-9d06-04a97d3a4120",
   "metadata": {},
   "outputs": [],
   "source": [
    "nm.get_network_features(pearson_network_ThreeReg_pn_1).to_csv('Excels/36_1.csv')"
   ]
  },
  {
   "cell_type": "code",
   "execution_count": 51,
   "id": "f661abb6-6e7a-466d-b1a9-fa28eae00c58",
   "metadata": {},
   "outputs": [],
   "source": [
    "pearson_network_ThreeReg_pn_2 = nm.construct_network(tehran_df_ThreeReg_pn_2_same_length, method='pearson', threshold=thr36)"
   ]
  },
  {
   "cell_type": "code",
   "execution_count": 52,
   "id": "686e0f1a-1eb1-44a6-a625-08f22c02869d",
   "metadata": {},
   "outputs": [
    {
     "data": {
      "text/html": [
       "<div>\n",
       "<style scoped>\n",
       "    .dataframe tbody tr th:only-of-type {\n",
       "        vertical-align: middle;\n",
       "    }\n",
       "\n",
       "    .dataframe tbody tr th {\n",
       "        vertical-align: top;\n",
       "    }\n",
       "\n",
       "    .dataframe thead th {\n",
       "        text-align: right;\n",
       "    }\n",
       "</style>\n",
       "<table border=\"1\" class=\"dataframe\">\n",
       "  <thead>\n",
       "    <tr style=\"text-align: right;\">\n",
       "      <th></th>\n",
       "      <th>radius</th>\n",
       "      <th>diameter</th>\n",
       "      <th>densities</th>\n",
       "      <th>number_of_edges</th>\n",
       "      <th>average_clustering</th>\n",
       "      <th>avg_degree_centrality</th>\n",
       "      <th>avg_betweenness_centrality</th>\n",
       "      <th>avg_closeness_centrality</th>\n",
       "      <th>average_shortest_path_length</th>\n",
       "    </tr>\n",
       "  </thead>\n",
       "  <tbody>\n",
       "    <tr>\n",
       "      <th>0</th>\n",
       "      <td>2</td>\n",
       "      <td>3</td>\n",
       "      <td>0.516908</td>\n",
       "      <td>535</td>\n",
       "      <td>0.733942</td>\n",
       "      <td>0.516908</td>\n",
       "      <td>0.011682</td>\n",
       "      <td>0.679406</td>\n",
       "      <td>1.51401</td>\n",
       "    </tr>\n",
       "  </tbody>\n",
       "</table>\n",
       "</div>"
      ],
      "text/plain": [
       "   radius  diameter  densities  number_of_edges  average_clustering  \\\n",
       "0       2         3   0.516908              535            0.733942   \n",
       "\n",
       "   avg_degree_centrality  avg_betweenness_centrality  \\\n",
       "0               0.516908                    0.011682   \n",
       "\n",
       "   avg_closeness_centrality  average_shortest_path_length  \n",
       "0                  0.679406                       1.51401  "
      ]
     },
     "execution_count": 52,
     "metadata": {},
     "output_type": "execute_result"
    }
   ],
   "source": [
    "nm.get_network_features(pearson_network_ThreeReg_pn_2)"
   ]
  },
  {
   "cell_type": "code",
   "execution_count": 53,
   "id": "d1bf67e6-c15b-44a2-a981-46c317d82b5f",
   "metadata": {},
   "outputs": [
    {
     "data": {
      "text/plain": [
       "array({'Euro': 6, 'Coin': 6, 'M2': 6, 'GDP': 6, 'Gold': 6, 'CPI': 7, 'Brent Oil': 9, 'USD': 9, 'Mansojat': 12, 'M1': 13, 'HOUSE': 13, 'Agriculture': 14, 'CoalMining': 17, 'paper': 17, 'GhandVaShekar': 18, 'SayerMadan': 19, 'Lastic': 19, 'KashiVaSeramik': 19, 'EntesharVaChap': 22, 'AbzaralatePezeshki': 23, 'VasayelErtebati': 24, 'HamlVaNaghl': 25, 'Rayaneh': 25, 'Shimiyaee': 26, 'KanehayeFelezi': 26, 'FelezateAsasi': 28, 'Wood': 29, 'ChandReshteSanati': 29, 'MahsolateFelezi': 30, 'FaniVaMohandesi': 30, 'MashinAlat': 31, 'SayerMali': 31, 'DastgahayeBargi': 32, 'Siman': 32, 'FaravardehayeNafti': 33, 'khodrosazi': 33, 'Daroee': 33, 'Bimeh': 33, 'EstekrajeNaft': 34, 'GazaeeBejozGhand': 34, 'KanehayeGeyreFelezi': 34, 'Bank': 34, 'SarmayeGozari': 35, 'Mali': 35, 'index': 36, 'Amlakva': 37},\n",
       "      dtype=object)"
      ]
     },
     "execution_count": 53,
     "metadata": {},
     "output_type": "execute_result"
    }
   ],
   "source": [
    "b36_2 = dict(nx.degree(pearson_network_ThreeReg_pn_2))\n",
    "b36_2 = np.array(dict(sorted(b36_2.items(), key=lambda item: item[1])))\n",
    "b36_2"
   ]
  },
  {
   "cell_type": "code",
   "execution_count": 54,
   "id": "704f8f35-9835-4d5e-b7d0-4320787ae620",
   "metadata": {},
   "outputs": [],
   "source": [
    "nm.get_network_features(pearson_network_ThreeReg_pn_2).to_csv('Excels/36_2.csv')"
   ]
  },
  {
   "cell_type": "code",
   "execution_count": 55,
   "id": "e2365d69-59b6-46c1-8ed9-d3da1b6f0272",
   "metadata": {},
   "outputs": [],
   "source": [
    "pearson_network_ThreeReg_pn_3 = nm.construct_network(tehran_df_ThreeReg_pn_3_same_length, method='pearson', threshold=thr36)"
   ]
  },
  {
   "cell_type": "code",
   "execution_count": 56,
   "id": "e554e2af-74c4-4a3c-a12f-45743eba2660",
   "metadata": {},
   "outputs": [
    {
     "data": {
      "text/html": [
       "<div>\n",
       "<style scoped>\n",
       "    .dataframe tbody tr th:only-of-type {\n",
       "        vertical-align: middle;\n",
       "    }\n",
       "\n",
       "    .dataframe tbody tr th {\n",
       "        vertical-align: top;\n",
       "    }\n",
       "\n",
       "    .dataframe thead th {\n",
       "        text-align: right;\n",
       "    }\n",
       "</style>\n",
       "<table border=\"1\" class=\"dataframe\">\n",
       "  <thead>\n",
       "    <tr style=\"text-align: right;\">\n",
       "      <th></th>\n",
       "      <th>radius</th>\n",
       "      <th>diameter</th>\n",
       "      <th>densities</th>\n",
       "      <th>number_of_edges</th>\n",
       "      <th>average_clustering</th>\n",
       "      <th>avg_degree_centrality</th>\n",
       "      <th>avg_betweenness_centrality</th>\n",
       "      <th>avg_closeness_centrality</th>\n",
       "      <th>average_shortest_path_length</th>\n",
       "    </tr>\n",
       "  </thead>\n",
       "  <tbody>\n",
       "    <tr>\n",
       "      <th>0</th>\n",
       "      <td>2</td>\n",
       "      <td>4</td>\n",
       "      <td>0.531313</td>\n",
       "      <td>526</td>\n",
       "      <td>0.777263</td>\n",
       "      <td>0.531313</td>\n",
       "      <td>0.012192</td>\n",
       "      <td>0.680968</td>\n",
       "      <td>1.524242</td>\n",
       "    </tr>\n",
       "  </tbody>\n",
       "</table>\n",
       "</div>"
      ],
      "text/plain": [
       "   radius  diameter  densities  number_of_edges  average_clustering  \\\n",
       "0       2         4   0.531313              526            0.777263   \n",
       "\n",
       "   avg_degree_centrality  avg_betweenness_centrality  \\\n",
       "0               0.531313                    0.012192   \n",
       "\n",
       "   avg_closeness_centrality  average_shortest_path_length  \n",
       "0                  0.680968                      1.524242  "
      ]
     },
     "execution_count": 56,
     "metadata": {},
     "output_type": "execute_result"
    }
   ],
   "source": [
    "nm.get_network_features(pearson_network_ThreeReg_pn_3)"
   ]
  },
  {
   "cell_type": "code",
   "execution_count": 57,
   "id": "fcc8dc76-7fde-4776-a5ec-844e1be29c2f",
   "metadata": {},
   "outputs": [
    {
     "data": {
      "text/plain": [
       "array({'CoalMining': 3, 'M1': 3, 'Coin': 4, 'USD': 5, 'Gold': 5, 'DastgahayeBargi': 6, 'CPI': 7, 'HOUSE': 7, 'M2': 8, 'Euro': 8, 'Brent Oil': 9, 'GDP': 13, 'Mansojat': 14, 'FelezateAsasi': 22, 'FaravardehayeNafti': 24, 'KanehayeFelezi': 25, 'SayerMadan': 26, 'EntesharVaChap': 26, 'GhandVaShekar': 26, 'Wood': 27, 'Shimiyaee': 27, 'VasayelErtebati': 28, 'KashiVaSeramik': 28, 'Rayaneh': 28, 'FaniVaMohandesi': 28, 'EstekrajeNaft': 29, 'paper': 30, 'Daroee': 30, 'index': 31, 'ChandReshteSanati': 31, 'Agriculture': 32, 'MahsolateFelezi': 32, 'GazaeeBejozGhand': 32, 'Bank': 32, 'Amlakva': 32, 'Mali': 32, 'Siman': 33, 'KanehayeGeyreFelezi': 33, 'SayerMali': 33, 'HamlVaNaghl': 33, 'Bimeh': 33, 'MashinAlat': 34, 'khodrosazi': 34, 'SarmayeGozari': 34, 'Lastic': 35},\n",
       "      dtype=object)"
      ]
     },
     "execution_count": 57,
     "metadata": {},
     "output_type": "execute_result"
    }
   ],
   "source": [
    "b36_3 = dict(nx.degree(pearson_network_ThreeReg_pn_3))\n",
    "b36_3 = np.array(dict(sorted(b36_3.items(), key=lambda item: item[1])))\n",
    "b36_3"
   ]
  },
  {
   "cell_type": "code",
   "execution_count": 58,
   "id": "3cbdcf69-8bb3-41f6-8565-52e97eddf2c7",
   "metadata": {},
   "outputs": [],
   "source": [
    "nm.get_network_features(pearson_network_ThreeReg_pn_3).to_csv('Excels/36_3.csv')"
   ]
  },
  {
   "cell_type": "markdown",
   "id": "90549e4c-ce3a-45ba-bcf7-e4433265e32e",
   "metadata": {},
   "source": [
    "# 37) Tehran 3 pn Regime Pearson (Based on Median Threshold) Period of 90 Far - 00 Dey/ Last 100 Records"
   ]
  },
  {
   "cell_type": "code",
   "execution_count": 59,
   "id": "f2ad43ba-2403-4652-911c-eaac51d75239",
   "metadata": {},
   "outputs": [],
   "source": [
    "thr37_1 = nm.find_median_pearson_threshold(tehran_df_ThreeReg_pn_1_same_length[-100:])\n",
    "thr37_2 = nm.find_median_pearson_threshold(tehran_df_ThreeReg_pn_2_same_length[-100:])\n",
    "thr37_3 = nm.find_median_pearson_threshold(tehran_df_ThreeReg_pn_3_same_length[-100:])\n",
    "\n",
    "thr37 = min(thr37_1, thr37_2, thr37_3)"
   ]
  },
  {
   "cell_type": "code",
   "execution_count": 60,
   "id": "f7d6c509-8734-4ccb-9fc9-de9c87614def",
   "metadata": {},
   "outputs": [],
   "source": [
    "pearson_network_ThreeReg_pn_1_last100 = nm.construct_network(tehran_df_ThreeReg_pn_1_same_length[-100:], method='pearson', threshold=thr37)"
   ]
  },
  {
   "cell_type": "code",
   "execution_count": 61,
   "id": "bc9d91fa-9f50-4b92-a18a-b8e28194d89d",
   "metadata": {},
   "outputs": [
    {
     "data": {
      "text/html": [
       "<div>\n",
       "<style scoped>\n",
       "    .dataframe tbody tr th:only-of-type {\n",
       "        vertical-align: middle;\n",
       "    }\n",
       "\n",
       "    .dataframe tbody tr th {\n",
       "        vertical-align: top;\n",
       "    }\n",
       "\n",
       "    .dataframe thead th {\n",
       "        text-align: right;\n",
       "    }\n",
       "</style>\n",
       "<table border=\"1\" class=\"dataframe\">\n",
       "  <thead>\n",
       "    <tr style=\"text-align: right;\">\n",
       "      <th></th>\n",
       "      <th>radius</th>\n",
       "      <th>diameter</th>\n",
       "      <th>densities</th>\n",
       "      <th>number_of_edges</th>\n",
       "      <th>average_clustering</th>\n",
       "      <th>avg_degree_centrality</th>\n",
       "      <th>avg_betweenness_centrality</th>\n",
       "      <th>avg_closeness_centrality</th>\n",
       "      <th>average_shortest_path_length</th>\n",
       "    </tr>\n",
       "  </thead>\n",
       "  <tbody>\n",
       "    <tr>\n",
       "      <th>0</th>\n",
       "      <td>2</td>\n",
       "      <td>3</td>\n",
       "      <td>0.552657</td>\n",
       "      <td>572</td>\n",
       "      <td>0.772019</td>\n",
       "      <td>0.552657</td>\n",
       "      <td>0.010496</td>\n",
       "      <td>0.703903</td>\n",
       "      <td>1.461836</td>\n",
       "    </tr>\n",
       "  </tbody>\n",
       "</table>\n",
       "</div>"
      ],
      "text/plain": [
       "   radius  diameter  densities  number_of_edges  average_clustering  \\\n",
       "0       2         3   0.552657              572            0.772019   \n",
       "\n",
       "   avg_degree_centrality  avg_betweenness_centrality  \\\n",
       "0               0.552657                    0.010496   \n",
       "\n",
       "   avg_closeness_centrality  average_shortest_path_length  \n",
       "0                  0.703903                      1.461836  "
      ]
     },
     "execution_count": 61,
     "metadata": {},
     "output_type": "execute_result"
    }
   ],
   "source": [
    "nm.get_network_features(pearson_network_ThreeReg_pn_1_last100)"
   ]
  },
  {
   "cell_type": "code",
   "execution_count": 62,
   "id": "76b450ad-5201-463c-8e3f-f58e51ddaf5d",
   "metadata": {},
   "outputs": [
    {
     "data": {
      "text/plain": [
       "array({'Mansojat': 3, 'AbzaralatePezeshki': 3, 'Brent Oil': 5, 'HOUSE': 6, 'EntesharVaChap': 8, 'Gold': 8, 'M2': 9, 'CPI': 10, 'SayerMadan': 10, 'Wood': 11, 'VasayelErtebati': 12, 'M1': 13, 'GDP': 14, 'CoalMining': 19, 'Coin': 21, 'USD': 21, 'Euro': 28, 'paper': 29, 'EstekrajeNaft': 30, 'MahsolateFelezi': 30, 'khodrosazi': 30, 'SarmayeGozari': 30, 'SayerMali': 30, 'Bimeh': 30, 'Rayaneh': 30, 'Agriculture': 31, 'FaravardehayeNafti': 32, 'DastgahayeBargi': 32, 'KashiVaSeramik': 32, 'Bank': 32, 'FaniVaMohandesi': 32, 'Mali': 32, 'Lastic': 33, 'FelezateAsasi': 33, 'Daroee': 33, 'Amlakva': 33, 'MashinAlat': 34, 'GazaeeBejozGhand': 34, 'Siman': 34, 'KanehayeGeyreFelezi': 34, 'HamlVaNaghl': 34, 'index': 35, 'GhandVaShekar': 35, 'Shimiyaee': 36, 'KanehayeFelezi': 36, 'ChandReshteSanati': 37},\n",
       "      dtype=object)"
      ]
     },
     "execution_count": 62,
     "metadata": {},
     "output_type": "execute_result"
    }
   ],
   "source": [
    "b37_1 = dict(nx.degree(pearson_network_ThreeReg_pn_1_last100))\n",
    "b37_1 = np.array(dict(sorted(b37_1.items(), key=lambda item: item[1])))\n",
    "b37_1"
   ]
  },
  {
   "cell_type": "code",
   "execution_count": 63,
   "id": "10c6e3fe-605d-43e4-ae22-b0add41f149e",
   "metadata": {},
   "outputs": [],
   "source": [
    "nm.get_network_features(pearson_network_ThreeReg_pn_1_last100).to_csv('Excels/37_1.csv')"
   ]
  },
  {
   "cell_type": "code",
   "execution_count": 64,
   "id": "ada00b89-dbc1-4e7b-8018-9011088070bb",
   "metadata": {},
   "outputs": [],
   "source": [
    "pearson_network_ThreeReg_pn_2_last100 = nm.construct_network(tehran_df_ThreeReg_pn_2_same_length[-100:], method='pearson', threshold=thr37)"
   ]
  },
  {
   "cell_type": "code",
   "execution_count": 65,
   "id": "0246a011-ba11-49b5-b0ff-bc8a8eda07d8",
   "metadata": {},
   "outputs": [
    {
     "data": {
      "text/html": [
       "<div>\n",
       "<style scoped>\n",
       "    .dataframe tbody tr th:only-of-type {\n",
       "        vertical-align: middle;\n",
       "    }\n",
       "\n",
       "    .dataframe tbody tr th {\n",
       "        vertical-align: top;\n",
       "    }\n",
       "\n",
       "    .dataframe thead th {\n",
       "        text-align: right;\n",
       "    }\n",
       "</style>\n",
       "<table border=\"1\" class=\"dataframe\">\n",
       "  <thead>\n",
       "    <tr style=\"text-align: right;\">\n",
       "      <th></th>\n",
       "      <th>radius</th>\n",
       "      <th>diameter</th>\n",
       "      <th>densities</th>\n",
       "      <th>number_of_edges</th>\n",
       "      <th>average_clustering</th>\n",
       "      <th>avg_degree_centrality</th>\n",
       "      <th>avg_betweenness_centrality</th>\n",
       "      <th>avg_closeness_centrality</th>\n",
       "      <th>average_shortest_path_length</th>\n",
       "    </tr>\n",
       "  </thead>\n",
       "  <tbody>\n",
       "    <tr>\n",
       "      <th>0</th>\n",
       "      <td>2</td>\n",
       "      <td>3</td>\n",
       "      <td>0.519807</td>\n",
       "      <td>538</td>\n",
       "      <td>0.695082</td>\n",
       "      <td>0.519807</td>\n",
       "      <td>0.011616</td>\n",
       "      <td>0.679333</td>\n",
       "      <td>1.511111</td>\n",
       "    </tr>\n",
       "  </tbody>\n",
       "</table>\n",
       "</div>"
      ],
      "text/plain": [
       "   radius  diameter  densities  number_of_edges  average_clustering  \\\n",
       "0       2         3   0.519807              538            0.695082   \n",
       "\n",
       "   avg_degree_centrality  avg_betweenness_centrality  \\\n",
       "0               0.519807                    0.011616   \n",
       "\n",
       "   avg_closeness_centrality  average_shortest_path_length  \n",
       "0                  0.679333                      1.511111  "
      ]
     },
     "execution_count": 65,
     "metadata": {},
     "output_type": "execute_result"
    }
   ],
   "source": [
    "nm.get_network_features(pearson_network_ThreeReg_pn_2_last100)"
   ]
  },
  {
   "cell_type": "code",
   "execution_count": 66,
   "id": "dda4d642-8bb1-4341-ae7f-66758bb87a21",
   "metadata": {},
   "outputs": [
    {
     "data": {
      "text/plain": [
       "array({'Coin': 3, 'USD': 4, 'Euro': 4, 'Brent Oil': 6, 'GDP': 6, 'Gold': 10, 'M1': 11, 'M2': 11, 'HOUSE': 13, 'CPI': 14, 'Lastic': 15, 'Mansojat': 16, 'CoalMining': 17, 'GhandVaShekar': 17, 'paper': 18, 'KashiVaSeramik': 20, 'Agriculture': 21, 'SayerMadan': 21, 'EntesharVaChap': 22, 'VasayelErtebati': 24, 'KanehayeFelezi': 24, 'HamlVaNaghl': 25, 'FelezateAsasi': 27, 'AbzaralatePezeshki': 28, 'Shimiyaee': 28, 'Rayaneh': 28, 'MahsolateFelezi': 29, 'Wood': 29, 'FaniVaMohandesi': 29, 'ChandReshteSanati': 31, 'Daroee': 31, 'Siman': 31, 'Bank': 31, 'EstekrajeNaft': 32, 'MashinAlat': 32, 'DastgahayeBargi': 32, 'GazaeeBejozGhand': 32, 'KanehayeGeyreFelezi': 32, 'SayerMali': 32, 'FaravardehayeNafti': 33, 'Mali': 33, 'khodrosazi': 34, 'SarmayeGozari': 34, 'Amlakva': 34, 'Bimeh': 35, 'index': 37},\n",
       "      dtype=object)"
      ]
     },
     "execution_count": 66,
     "metadata": {},
     "output_type": "execute_result"
    }
   ],
   "source": [
    "b37_2 = dict(nx.degree(pearson_network_ThreeReg_pn_2_last100))\n",
    "b37_2 = np.array(dict(sorted(b37_2.items(), key=lambda item: item[1])))\n",
    "b37_2"
   ]
  },
  {
   "cell_type": "code",
   "execution_count": 67,
   "id": "a3760791-b8fa-4530-b203-35513e859f99",
   "metadata": {},
   "outputs": [],
   "source": [
    "nm.get_network_features(pearson_network_ThreeReg_pn_2_last100).to_csv('Excels/37_2.csv')"
   ]
  },
  {
   "cell_type": "code",
   "execution_count": 68,
   "id": "26ffa1f9-982e-4983-8667-4e8e300b4809",
   "metadata": {},
   "outputs": [],
   "source": [
    "pearson_network_ThreeReg_pn_3_last100 = nm.construct_network(tehran_df_ThreeReg_pn_3_same_length[-100:], method='pearson', threshold=thr37)"
   ]
  },
  {
   "cell_type": "code",
   "execution_count": 69,
   "id": "2e5f6a0c-3226-42a4-8547-f2313a9e499c",
   "metadata": {},
   "outputs": [
    {
     "data": {
      "text/html": [
       "<div>\n",
       "<style scoped>\n",
       "    .dataframe tbody tr th:only-of-type {\n",
       "        vertical-align: middle;\n",
       "    }\n",
       "\n",
       "    .dataframe tbody tr th {\n",
       "        vertical-align: top;\n",
       "    }\n",
       "\n",
       "    .dataframe thead th {\n",
       "        text-align: right;\n",
       "    }\n",
       "</style>\n",
       "<table border=\"1\" class=\"dataframe\">\n",
       "  <thead>\n",
       "    <tr style=\"text-align: right;\">\n",
       "      <th></th>\n",
       "      <th>radius</th>\n",
       "      <th>diameter</th>\n",
       "      <th>densities</th>\n",
       "      <th>number_of_edges</th>\n",
       "      <th>average_clustering</th>\n",
       "      <th>avg_degree_centrality</th>\n",
       "      <th>avg_betweenness_centrality</th>\n",
       "      <th>avg_closeness_centrality</th>\n",
       "      <th>average_shortest_path_length</th>\n",
       "    </tr>\n",
       "  </thead>\n",
       "  <tbody>\n",
       "    <tr>\n",
       "      <th>0</th>\n",
       "      <td>2</td>\n",
       "      <td>3</td>\n",
       "      <td>0.542424</td>\n",
       "      <td>537</td>\n",
       "      <td>0.738667</td>\n",
       "      <td>0.542424</td>\n",
       "      <td>0.010994</td>\n",
       "      <td>0.69749</td>\n",
       "      <td>1.472727</td>\n",
       "    </tr>\n",
       "  </tbody>\n",
       "</table>\n",
       "</div>"
      ],
      "text/plain": [
       "   radius  diameter  densities  number_of_edges  average_clustering  \\\n",
       "0       2         3   0.542424              537            0.738667   \n",
       "\n",
       "   avg_degree_centrality  avg_betweenness_centrality  \\\n",
       "0               0.542424                    0.010994   \n",
       "\n",
       "   avg_closeness_centrality  average_shortest_path_length  \n",
       "0                   0.69749                      1.472727  "
      ]
     },
     "execution_count": 69,
     "metadata": {},
     "output_type": "execute_result"
    }
   ],
   "source": [
    "nm.get_network_features(pearson_network_ThreeReg_pn_3_last100)"
   ]
  },
  {
   "cell_type": "code",
   "execution_count": 70,
   "id": "2958c5af-48ce-4453-a789-ae1da014c4be",
   "metadata": {},
   "outputs": [
    {
     "data": {
      "text/plain": [
       "array({'CoalMining': 4, 'Coin': 6, 'Euro': 6, 'USD': 6, 'Gold': 7, 'HOUSE': 7, 'Brent Oil': 8, 'DastgahayeBargi': 8, 'CPI': 10, 'M2': 13, 'M1': 14, 'GDP': 14, 'Mansojat': 14, 'FaravardehayeNafti': 19, 'KanehayeFelezi': 23, 'SayerMadan': 25, 'FelezateAsasi': 25, 'Daroee': 26, 'VasayelErtebati': 27, 'Shimiyaee': 27, 'Wood': 28, 'EntesharVaChap': 28, 'GhandVaShekar': 28, 'FaniVaMohandesi': 28, 'KashiVaSeramik': 29, 'Rayaneh': 29, 'Agriculture': 30, 'SayerMali': 30, 'Amlakva': 30, 'EstekrajeNaft': 31, 'Mali': 31, 'MahsolateFelezi': 32, 'MashinAlat': 32, 'KanehayeGeyreFelezi': 32, 'Bank': 32, 'Bimeh': 32, 'index': 33, 'paper': 33, 'ChandReshteSanati': 33, 'GazaeeBejozGhand': 33, 'HamlVaNaghl': 33, 'khodrosazi': 34, 'Siman': 34, 'Lastic': 35, 'SarmayeGozari': 35},\n",
       "      dtype=object)"
      ]
     },
     "execution_count": 70,
     "metadata": {},
     "output_type": "execute_result"
    }
   ],
   "source": [
    "b37_3 = dict(nx.degree(pearson_network_ThreeReg_pn_3_last100))\n",
    "b37_3 = np.array(dict(sorted(b37_3.items(), key=lambda item: item[1])))\n",
    "b37_3"
   ]
  },
  {
   "cell_type": "code",
   "execution_count": 71,
   "id": "1c94d6cf-6849-4f3f-b36d-6db357bd73e5",
   "metadata": {},
   "outputs": [],
   "source": [
    "nm.get_network_features(pearson_network_ThreeReg_pn_3_last100).to_csv('Excels/37_3.csv')"
   ]
  },
  {
   "cell_type": "markdown",
   "id": "7c0f101d-1921-4801-9488-c7a8928c2782",
   "metadata": {},
   "source": [
    "# 38) Tehran 3 pn Regime Pearson (Based on Median Threshold) Period of 90 Far - 98 Dey/ 50 windows of 100 Records"
   ]
  },
  {
   "cell_type": "code",
   "execution_count": 72,
   "id": "4cbe01d1-34a8-4738-a5bc-7b6c26b9eb35",
   "metadata": {
    "tags": []
   },
   "outputs": [
    {
     "name": "stdout",
     "output_type": "stream",
     "text": [
      "Number of columns data in our DataFrame is = 46\n",
      "fixed_thr= 0.19484956494722774\n"
     ]
    }
   ],
   "source": [
    "nm = Net_moduls()\n",
    "pearson_network_ThreeReg_pn_1_98_averged = nm.get_network_features_averaged_median(tehran_df, regimes_column = tehran_df_reg.iloc[:-300]['3_PN'],method='pearson',edges_threshold=200, target_window=100, target_length=20)"
   ]
  },
  {
   "cell_type": "code",
   "execution_count": 73,
   "id": "f9e49bd4-7ddb-4687-ad44-25d1d10a6c8f",
   "metadata": {},
   "outputs": [
    {
     "data": {
      "text/html": [
       "<div>\n",
       "<style scoped>\n",
       "    .dataframe tbody tr th:only-of-type {\n",
       "        vertical-align: middle;\n",
       "    }\n",
       "\n",
       "    .dataframe tbody tr th {\n",
       "        vertical-align: top;\n",
       "    }\n",
       "\n",
       "    .dataframe thead th {\n",
       "        text-align: right;\n",
       "    }\n",
       "</style>\n",
       "<table border=\"1\" class=\"dataframe\">\n",
       "  <thead>\n",
       "    <tr style=\"text-align: right;\">\n",
       "      <th></th>\n",
       "      <th>radius</th>\n",
       "      <th>diameter</th>\n",
       "      <th>densities</th>\n",
       "      <th>number_of_edges</th>\n",
       "      <th>average_clustering</th>\n",
       "      <th>avg_degree_centrality</th>\n",
       "      <th>avg_betweenness_centrality</th>\n",
       "      <th>avg_closeness_centrality</th>\n",
       "      <th>average_shortest_path_length</th>\n",
       "    </tr>\n",
       "  </thead>\n",
       "  <tbody>\n",
       "    <tr>\n",
       "      <th>Means</th>\n",
       "      <td>2.833333</td>\n",
       "      <td>4.833333</td>\n",
       "      <td>0.500164</td>\n",
       "      <td>478.150000</td>\n",
       "      <td>0.787116</td>\n",
       "      <td>0.500164</td>\n",
       "      <td>0.016159</td>\n",
       "      <td>0.603872</td>\n",
       "      <td>1.735718</td>\n",
       "    </tr>\n",
       "    <tr>\n",
       "      <th>STDs</th>\n",
       "      <td>0.389249</td>\n",
       "      <td>0.577350</td>\n",
       "      <td>0.022936</td>\n",
       "      <td>11.444488</td>\n",
       "      <td>0.024222</td>\n",
       "      <td>0.022936</td>\n",
       "      <td>0.002127</td>\n",
       "      <td>0.026418</td>\n",
       "      <td>0.074404</td>\n",
       "    </tr>\n",
       "    <tr>\n",
       "      <th>Means</th>\n",
       "      <td>2.700000</td>\n",
       "      <td>4.500000</td>\n",
       "      <td>0.370483</td>\n",
       "      <td>383.450000</td>\n",
       "      <td>0.653947</td>\n",
       "      <td>0.370483</td>\n",
       "      <td>0.018897</td>\n",
       "      <td>0.570519</td>\n",
       "      <td>1.831449</td>\n",
       "    </tr>\n",
       "    <tr>\n",
       "      <th>STDs</th>\n",
       "      <td>0.470162</td>\n",
       "      <td>0.512989</td>\n",
       "      <td>0.014751</td>\n",
       "      <td>15.267699</td>\n",
       "      <td>0.018640</td>\n",
       "      <td>0.014751</td>\n",
       "      <td>0.001033</td>\n",
       "      <td>0.012920</td>\n",
       "      <td>0.045460</td>\n",
       "    </tr>\n",
       "    <tr>\n",
       "      <th>Means</th>\n",
       "      <td>2.850000</td>\n",
       "      <td>4.750000</td>\n",
       "      <td>0.481240</td>\n",
       "      <td>452.900000</td>\n",
       "      <td>0.766045</td>\n",
       "      <td>0.481240</td>\n",
       "      <td>0.016761</td>\n",
       "      <td>0.621282</td>\n",
       "      <td>1.702647</td>\n",
       "    </tr>\n",
       "    <tr>\n",
       "      <th>STDs</th>\n",
       "      <td>0.366348</td>\n",
       "      <td>0.444262</td>\n",
       "      <td>0.017287</td>\n",
       "      <td>9.135817</td>\n",
       "      <td>0.011475</td>\n",
       "      <td>0.017287</td>\n",
       "      <td>0.001207</td>\n",
       "      <td>0.017126</td>\n",
       "      <td>0.056255</td>\n",
       "    </tr>\n",
       "  </tbody>\n",
       "</table>\n",
       "</div>"
      ],
      "text/plain": [
       "         radius  diameter  densities  number_of_edges  average_clustering  \\\n",
       "Means  2.833333  4.833333   0.500164       478.150000            0.787116   \n",
       "STDs   0.389249  0.577350   0.022936        11.444488            0.024222   \n",
       "Means  2.700000  4.500000   0.370483       383.450000            0.653947   \n",
       "STDs   0.470162  0.512989   0.014751        15.267699            0.018640   \n",
       "Means  2.850000  4.750000   0.481240       452.900000            0.766045   \n",
       "STDs   0.366348  0.444262   0.017287         9.135817            0.011475   \n",
       "\n",
       "       avg_degree_centrality  avg_betweenness_centrality  \\\n",
       "Means               0.500164                    0.016159   \n",
       "STDs                0.022936                    0.002127   \n",
       "Means               0.370483                    0.018897   \n",
       "STDs                0.014751                    0.001033   \n",
       "Means               0.481240                    0.016761   \n",
       "STDs                0.017287                    0.001207   \n",
       "\n",
       "       avg_closeness_centrality  average_shortest_path_length  \n",
       "Means                  0.603872                      1.735718  \n",
       "STDs                   0.026418                      0.074404  \n",
       "Means                  0.570519                      1.831449  \n",
       "STDs                   0.012920                      0.045460  \n",
       "Means                  0.621282                      1.702647  \n",
       "STDs                   0.017126                      0.056255  "
      ]
     },
     "execution_count": 73,
     "metadata": {},
     "output_type": "execute_result"
    }
   ],
   "source": [
    "pearson_network_ThreeReg_pn_1_98_averged"
   ]
  },
  {
   "cell_type": "code",
   "execution_count": 74,
   "id": "500d9f99-dac9-4a0b-8ca1-31b10ea46ffd",
   "metadata": {},
   "outputs": [],
   "source": [
    "pearson_network_ThreeReg_pn_1_98_averged.to_csv('Excels/38.csv')"
   ]
  },
  {
   "cell_type": "markdown",
   "id": "ae1a2070-3cb7-4a8b-967c-a31428d58c7f",
   "metadata": {},
   "source": [
    "# 39) Tehran 3 pn Regime Pearson (Based on Median Threshold) Period of 90 Far - 00 Far/ 50 windows of 100 Records"
   ]
  },
  {
   "cell_type": "code",
   "execution_count": 75,
   "id": "03e25898-3343-4e11-acb1-4cf77d97c582",
   "metadata": {
    "tags": []
   },
   "outputs": [
    {
     "name": "stdout",
     "output_type": "stream",
     "text": [
      "Number of columns data in our DataFrame is = 46\n",
      "fixed_thr= 0.1768597045579156\n"
     ]
    }
   ],
   "source": [
    "nm = Net_moduls()\n",
    "pearson_network_ThreeReg_pn_90_00_averged = nm.get_network_features_averaged_median(tehran_df_completeDates, regimes_column= tehran_df_reg['3_PN'],method='pearson',edges_threshold=200, target_window=100, target_length=50)"
   ]
  },
  {
   "cell_type": "code",
   "execution_count": 76,
   "id": "c3b829e3-a3ab-4caf-a098-5baab244e8f4",
   "metadata": {},
   "outputs": [
    {
     "data": {
      "text/html": [
       "<div>\n",
       "<style scoped>\n",
       "    .dataframe tbody tr th:only-of-type {\n",
       "        vertical-align: middle;\n",
       "    }\n",
       "\n",
       "    .dataframe tbody tr th {\n",
       "        vertical-align: top;\n",
       "    }\n",
       "\n",
       "    .dataframe thead th {\n",
       "        text-align: right;\n",
       "    }\n",
       "</style>\n",
       "<table border=\"1\" class=\"dataframe\">\n",
       "  <thead>\n",
       "    <tr style=\"text-align: right;\">\n",
       "      <th></th>\n",
       "      <th>radius</th>\n",
       "      <th>diameter</th>\n",
       "      <th>densities</th>\n",
       "      <th>number_of_edges</th>\n",
       "      <th>average_clustering</th>\n",
       "      <th>avg_degree_centrality</th>\n",
       "      <th>avg_betweenness_centrality</th>\n",
       "      <th>avg_closeness_centrality</th>\n",
       "      <th>average_shortest_path_length</th>\n",
       "    </tr>\n",
       "  </thead>\n",
       "  <tbody>\n",
       "    <tr>\n",
       "      <th>Means</th>\n",
       "      <td>2.000000</td>\n",
       "      <td>3.480000</td>\n",
       "      <td>0.488097</td>\n",
       "      <td>505.180000</td>\n",
       "      <td>0.725765</td>\n",
       "      <td>0.488097</td>\n",
       "      <td>0.013022</td>\n",
       "      <td>0.660025</td>\n",
       "      <td>1.572947</td>\n",
       "    </tr>\n",
       "    <tr>\n",
       "      <th>STDs</th>\n",
       "      <td>0.000000</td>\n",
       "      <td>0.504672</td>\n",
       "      <td>0.011900</td>\n",
       "      <td>12.316722</td>\n",
       "      <td>0.019367</td>\n",
       "      <td>0.011900</td>\n",
       "      <td>0.000423</td>\n",
       "      <td>0.006752</td>\n",
       "      <td>0.018607</td>\n",
       "    </tr>\n",
       "    <tr>\n",
       "      <th>Means</th>\n",
       "      <td>2.000000</td>\n",
       "      <td>3.640000</td>\n",
       "      <td>0.403865</td>\n",
       "      <td>418.000000</td>\n",
       "      <td>0.647601</td>\n",
       "      <td>0.403865</td>\n",
       "      <td>0.015569</td>\n",
       "      <td>0.612092</td>\n",
       "      <td>1.685043</td>\n",
       "    </tr>\n",
       "    <tr>\n",
       "      <th>STDs</th>\n",
       "      <td>0.000000</td>\n",
       "      <td>0.484873</td>\n",
       "      <td>0.023014</td>\n",
       "      <td>23.819902</td>\n",
       "      <td>0.031043</td>\n",
       "      <td>0.023014</td>\n",
       "      <td>0.000840</td>\n",
       "      <td>0.012104</td>\n",
       "      <td>0.036947</td>\n",
       "    </tr>\n",
       "    <tr>\n",
       "      <th>Means</th>\n",
       "      <td>2.320000</td>\n",
       "      <td>4.120000</td>\n",
       "      <td>0.481798</td>\n",
       "      <td>476.980000</td>\n",
       "      <td>0.745395</td>\n",
       "      <td>0.481798</td>\n",
       "      <td>0.014646</td>\n",
       "      <td>0.641454</td>\n",
       "      <td>1.629758</td>\n",
       "    </tr>\n",
       "    <tr>\n",
       "      <th>STDs</th>\n",
       "      <td>0.471212</td>\n",
       "      <td>0.558423</td>\n",
       "      <td>0.012064</td>\n",
       "      <td>11.942874</td>\n",
       "      <td>0.022941</td>\n",
       "      <td>0.012064</td>\n",
       "      <td>0.000898</td>\n",
       "      <td>0.012028</td>\n",
       "      <td>0.038600</td>\n",
       "    </tr>\n",
       "  </tbody>\n",
       "</table>\n",
       "</div>"
      ],
      "text/plain": [
       "         radius  diameter  densities  number_of_edges  average_clustering  \\\n",
       "Means  2.000000  3.480000   0.488097       505.180000            0.725765   \n",
       "STDs   0.000000  0.504672   0.011900        12.316722            0.019367   \n",
       "Means  2.000000  3.640000   0.403865       418.000000            0.647601   \n",
       "STDs   0.000000  0.484873   0.023014        23.819902            0.031043   \n",
       "Means  2.320000  4.120000   0.481798       476.980000            0.745395   \n",
       "STDs   0.471212  0.558423   0.012064        11.942874            0.022941   \n",
       "\n",
       "       avg_degree_centrality  avg_betweenness_centrality  \\\n",
       "Means               0.488097                    0.013022   \n",
       "STDs                0.011900                    0.000423   \n",
       "Means               0.403865                    0.015569   \n",
       "STDs                0.023014                    0.000840   \n",
       "Means               0.481798                    0.014646   \n",
       "STDs                0.012064                    0.000898   \n",
       "\n",
       "       avg_closeness_centrality  average_shortest_path_length  \n",
       "Means                  0.660025                      1.572947  \n",
       "STDs                   0.006752                      0.018607  \n",
       "Means                  0.612092                      1.685043  \n",
       "STDs                   0.012104                      0.036947  \n",
       "Means                  0.641454                      1.629758  \n",
       "STDs                   0.012028                      0.038600  "
      ]
     },
     "execution_count": 76,
     "metadata": {},
     "output_type": "execute_result"
    }
   ],
   "source": [
    "pearson_network_ThreeReg_pn_90_00_averged"
   ]
  },
  {
   "cell_type": "code",
   "execution_count": 77,
   "id": "466ea72b-0acd-4343-a0fc-57ab9862cbb0",
   "metadata": {},
   "outputs": [],
   "source": [
    "pearson_network_ThreeReg_pn_90_00_averged.to_csv('Excels/39.csv')"
   ]
  },
  {
   "cell_type": "markdown",
   "id": "380e7825-54c8-4ba6-8328-fec788f3a367",
   "metadata": {},
   "source": [
    "# 40) Tehran 3 pn Regime Entropy (Based on Median Threshold) Period of 90 Far - 98 Dey"
   ]
  },
  {
   "cell_type": "code",
   "execution_count": 78,
   "id": "b02bca46-8b82-402b-ac32-a0933161e55c",
   "metadata": {},
   "outputs": [],
   "source": [
    "nm = Net_moduls()"
   ]
  },
  {
   "cell_type": "code",
   "execution_count": 79,
   "id": "9b2bc65f-f836-4a38-a9a2-102a978b8ef6",
   "metadata": {},
   "outputs": [],
   "source": [
    "thr40_1 = nm.find_median_entropy_threshold(tehran_df_ThreeReg_pn_1_same_length_98)\n",
    "thr40_2 = nm.find_median_entropy_threshold(tehran_df_ThreeReg_pn_2_same_length_98)\n",
    "thr40_3 = nm.find_median_entropy_threshold(tehran_df_ThreeReg_pn_3_same_length_98)\n",
    "\n",
    "thr40 = min(thr40_1, thr40_2, thr40_3)"
   ]
  },
  {
   "cell_type": "code",
   "execution_count": 80,
   "id": "7ec8f83a-1960-431b-9f8e-52e3c44a7c26",
   "metadata": {},
   "outputs": [],
   "source": [
    "entropy_network_ThreeReg_pn_1_98 = nm.construct_network(tehran_df_ThreeReg_pn_1_same_length_98, method='entropy', threshold=thr40)"
   ]
  },
  {
   "cell_type": "code",
   "execution_count": 81,
   "id": "3242a1d2-b106-4f70-8d3f-754dfa1cdb37",
   "metadata": {},
   "outputs": [
    {
     "data": {
      "text/html": [
       "<div>\n",
       "<style scoped>\n",
       "    .dataframe tbody tr th:only-of-type {\n",
       "        vertical-align: middle;\n",
       "    }\n",
       "\n",
       "    .dataframe tbody tr th {\n",
       "        vertical-align: top;\n",
       "    }\n",
       "\n",
       "    .dataframe thead th {\n",
       "        text-align: right;\n",
       "    }\n",
       "</style>\n",
       "<table border=\"1\" class=\"dataframe\">\n",
       "  <thead>\n",
       "    <tr style=\"text-align: right;\">\n",
       "      <th></th>\n",
       "      <th>radius</th>\n",
       "      <th>diameter</th>\n",
       "      <th>densities</th>\n",
       "      <th>number_of_edges</th>\n",
       "      <th>average_clustering</th>\n",
       "      <th>avg_degree_centrality</th>\n",
       "      <th>avg_betweenness_centrality</th>\n",
       "      <th>avg_closeness_centrality</th>\n",
       "      <th>average_shortest_path_length</th>\n",
       "    </tr>\n",
       "  </thead>\n",
       "  <tbody>\n",
       "    <tr>\n",
       "      <th>0</th>\n",
       "      <td>2</td>\n",
       "      <td>2</td>\n",
       "      <td>0.80101</td>\n",
       "      <td>793</td>\n",
       "      <td>0.835786</td>\n",
       "      <td>0.80101</td>\n",
       "      <td>0.004628</td>\n",
       "      <td>0.8418</td>\n",
       "      <td>1.19899</td>\n",
       "    </tr>\n",
       "  </tbody>\n",
       "</table>\n",
       "</div>"
      ],
      "text/plain": [
       "   radius  diameter  densities  number_of_edges  average_clustering  \\\n",
       "0       2         2    0.80101              793            0.835786   \n",
       "\n",
       "   avg_degree_centrality  avg_betweenness_centrality  \\\n",
       "0                0.80101                    0.004628   \n",
       "\n",
       "   avg_closeness_centrality  average_shortest_path_length  \n",
       "0                    0.8418                       1.19899  "
      ]
     },
     "execution_count": 81,
     "metadata": {},
     "output_type": "execute_result"
    }
   ],
   "source": [
    "nm.get_network_features(entropy_network_ThreeReg_pn_1_98)"
   ]
  },
  {
   "cell_type": "code",
   "execution_count": 82,
   "id": "e71cc75b-a55e-40a7-ba1c-e6a66b6d079f",
   "metadata": {},
   "outputs": [
    {
     "data": {
      "text/plain": [
       "array({'CPI': 17, 'Brent Oil': 19, 'Coin': 25, 'Euro': 25, 'M2': 29, 'HOUSE': 30, 'USD': 31, 'SarmayeGozari': 31, 'M1': 32, 'EstekrajeNaft': 32, 'Gold': 32, 'GDP': 34, 'Amlakva': 34, 'Rayaneh': 34, 'FaniVaMohandesi': 34, 'SayerMali': 35, 'HamlVaNaghl': 35, 'Bank': 36, 'KashiVaSeramik': 36, 'FelezateAsasi': 36, 'SayerMadan': 37, 'Mansojat': 37, 'FaravardehayeNafti': 37, 'khodrosazi': 37, 'Mali': 37, 'GazaeeBejozGhand': 37, 'Agriculture': 38, 'MahsolateFelezi': 38, 'MashinAlat': 38, 'GhandVaShekar': 38, 'ChandReshteSanati': 38, 'Daroee': 38, 'Siman': 38, 'Lastic': 38, 'paper': 39, 'Bimeh': 39, 'VasayelErtebati': 39, 'index': 40, 'Wood': 40, 'Shimiyaee': 40, 'KanehayeGeyreFelezi': 40, 'CoalMining': 41, 'EntesharVaChap': 41, 'KanehayeFelezi': 41, 'DastgahayeBargi': 43},\n",
       "      dtype=object)"
      ]
     },
     "execution_count": 82,
     "metadata": {},
     "output_type": "execute_result"
    }
   ],
   "source": [
    "b40_1 = dict(nx.degree(entropy_network_ThreeReg_pn_1_98))\n",
    "b40_1 = np.array(dict(sorted(b40_1.items(), key=lambda item: item[1])))\n",
    "b40_1"
   ]
  },
  {
   "cell_type": "code",
   "execution_count": 83,
   "id": "cea3a959-9d04-4da7-b362-48018d3a8ba9",
   "metadata": {},
   "outputs": [],
   "source": [
    "nm.get_network_features(entropy_network_ThreeReg_pn_1_98).to_csv('Excels/40_1.csv')"
   ]
  },
  {
   "cell_type": "code",
   "execution_count": 84,
   "id": "83fb02f0-c929-4df7-8859-dbd1a875bc15",
   "metadata": {},
   "outputs": [],
   "source": [
    "entropy_network_ThreeReg_pn_2_98 = nm.construct_network(tehran_df_ThreeReg_pn_2_same_length_98, method='entropy', threshold=thr40)"
   ]
  },
  {
   "cell_type": "code",
   "execution_count": 85,
   "id": "c97f6e19-5ea1-4a5c-b9d3-a6af6bfc8cb0",
   "metadata": {},
   "outputs": [
    {
     "data": {
      "text/html": [
       "<div>\n",
       "<style scoped>\n",
       "    .dataframe tbody tr th:only-of-type {\n",
       "        vertical-align: middle;\n",
       "    }\n",
       "\n",
       "    .dataframe tbody tr th {\n",
       "        vertical-align: top;\n",
       "    }\n",
       "\n",
       "    .dataframe thead th {\n",
       "        text-align: right;\n",
       "    }\n",
       "</style>\n",
       "<table border=\"1\" class=\"dataframe\">\n",
       "  <thead>\n",
       "    <tr style=\"text-align: right;\">\n",
       "      <th></th>\n",
       "      <th>radius</th>\n",
       "      <th>diameter</th>\n",
       "      <th>densities</th>\n",
       "      <th>number_of_edges</th>\n",
       "      <th>average_clustering</th>\n",
       "      <th>avg_degree_centrality</th>\n",
       "      <th>avg_betweenness_centrality</th>\n",
       "      <th>avg_closeness_centrality</th>\n",
       "      <th>average_shortest_path_length</th>\n",
       "    </tr>\n",
       "  </thead>\n",
       "  <tbody>\n",
       "    <tr>\n",
       "      <th>0</th>\n",
       "      <td>2</td>\n",
       "      <td>2</td>\n",
       "      <td>0.819324</td>\n",
       "      <td>848</td>\n",
       "      <td>0.831551</td>\n",
       "      <td>0.819324</td>\n",
       "      <td>0.004106</td>\n",
       "      <td>0.851166</td>\n",
       "      <td>1.180676</td>\n",
       "    </tr>\n",
       "  </tbody>\n",
       "</table>\n",
       "</div>"
      ],
      "text/plain": [
       "   radius  diameter  densities  number_of_edges  average_clustering  \\\n",
       "0       2         2   0.819324              848            0.831551   \n",
       "\n",
       "   avg_degree_centrality  avg_betweenness_centrality  \\\n",
       "0               0.819324                    0.004106   \n",
       "\n",
       "   avg_closeness_centrality  average_shortest_path_length  \n",
       "0                  0.851166                      1.180676  "
      ]
     },
     "execution_count": 85,
     "metadata": {},
     "output_type": "execute_result"
    }
   ],
   "source": [
    "nm.get_network_features(entropy_network_ThreeReg_pn_2_98)"
   ]
  },
  {
   "cell_type": "code",
   "execution_count": 86,
   "id": "1aed2145-c754-47ab-8f4c-933aa27b4e1a",
   "metadata": {},
   "outputs": [
    {
     "data": {
      "text/plain": [
       "array({'USD': 28, 'Gold': 31, 'Euro': 32, 'SayerMadan': 32, 'GhandVaShekar': 32, 'GazaeeBejozGhand': 33, 'Shimiyaee': 33, 'KashiVaSeramik': 33, 'FaniVaMohandesi': 33, 'index': 34, 'AbzaralatePezeshki': 34, 'MahsolateFelezi': 34, 'Coin': 34, 'ChandReshteSanati': 34, 'KanehayeFelezi': 35, 'CoalMining': 35, 'HamlVaNaghl': 35, 'Daroee': 35, 'Brent Oil': 36, 'HOUSE': 36, 'MashinAlat': 36, 'Mali': 36, 'M1': 37, 'paper': 37, 'SarmayeGozari': 37, 'GDP': 38, 'Wood': 38, 'VasayelErtebati': 38, 'Bank': 38, 'Rayaneh': 38, 'Bimeh': 38, 'FelezateAsasi': 38, 'CPI': 39, 'M2': 39, 'Amlakva': 39, 'Agriculture': 39, 'Lastic': 40, 'EntesharVaChap': 41, 'DastgahayeBargi': 41, 'khodrosazi': 41, 'KanehayeGeyreFelezi': 42, 'EstekrajeNaft': 43, 'FaravardehayeNafti': 43, 'SayerMali': 43, 'Mansojat': 44, 'Siman': 44},\n",
       "      dtype=object)"
      ]
     },
     "execution_count": 86,
     "metadata": {},
     "output_type": "execute_result"
    }
   ],
   "source": [
    "b40_2 = dict(nx.degree(entropy_network_ThreeReg_pn_2_98))\n",
    "b40_2 = np.array(dict(sorted(b40_2.items(), key=lambda item: item[1])))\n",
    "b40_2"
   ]
  },
  {
   "cell_type": "code",
   "execution_count": 87,
   "id": "b7600bb5-920f-434e-a5aa-39d209d10070",
   "metadata": {},
   "outputs": [],
   "source": [
    "nm.get_network_features(entropy_network_ThreeReg_pn_2_98).to_csv('Excels/40_2.csv')"
   ]
  },
  {
   "cell_type": "code",
   "execution_count": 88,
   "id": "244cecc9-4770-433b-9276-63ad178a041c",
   "metadata": {},
   "outputs": [],
   "source": [
    "entropy_network_ThreeReg_pn_3_98 = nm.construct_network(tehran_df_ThreeReg_pn_3_same_length_98, method='entropy', threshold=thr40)"
   ]
  },
  {
   "cell_type": "code",
   "execution_count": 89,
   "id": "35cb8c64-2a2e-4ee5-89da-f847c562841b",
   "metadata": {},
   "outputs": [
    {
     "data": {
      "text/html": [
       "<div>\n",
       "<style scoped>\n",
       "    .dataframe tbody tr th:only-of-type {\n",
       "        vertical-align: middle;\n",
       "    }\n",
       "\n",
       "    .dataframe tbody tr th {\n",
       "        vertical-align: top;\n",
       "    }\n",
       "\n",
       "    .dataframe thead th {\n",
       "        text-align: right;\n",
       "    }\n",
       "</style>\n",
       "<table border=\"1\" class=\"dataframe\">\n",
       "  <thead>\n",
       "    <tr style=\"text-align: right;\">\n",
       "      <th></th>\n",
       "      <th>radius</th>\n",
       "      <th>diameter</th>\n",
       "      <th>densities</th>\n",
       "      <th>number_of_edges</th>\n",
       "      <th>average_clustering</th>\n",
       "      <th>avg_degree_centrality</th>\n",
       "      <th>avg_betweenness_centrality</th>\n",
       "      <th>avg_closeness_centrality</th>\n",
       "      <th>average_shortest_path_length</th>\n",
       "    </tr>\n",
       "  </thead>\n",
       "  <tbody>\n",
       "    <tr>\n",
       "      <th>0</th>\n",
       "      <td>2</td>\n",
       "      <td>2</td>\n",
       "      <td>0.718182</td>\n",
       "      <td>711</td>\n",
       "      <td>0.733405</td>\n",
       "      <td>0.718182</td>\n",
       "      <td>0.006554</td>\n",
       "      <td>0.784853</td>\n",
       "      <td>1.281818</td>\n",
       "    </tr>\n",
       "  </tbody>\n",
       "</table>\n",
       "</div>"
      ],
      "text/plain": [
       "   radius  diameter  densities  number_of_edges  average_clustering  \\\n",
       "0       2         2   0.718182              711            0.733405   \n",
       "\n",
       "   avg_degree_centrality  avg_betweenness_centrality  \\\n",
       "0               0.718182                    0.006554   \n",
       "\n",
       "   avg_closeness_centrality  average_shortest_path_length  \n",
       "0                  0.784853                      1.281818  "
      ]
     },
     "execution_count": 89,
     "metadata": {},
     "output_type": "execute_result"
    }
   ],
   "source": [
    "nm.get_network_features(entropy_network_ThreeReg_pn_3_98)"
   ]
  },
  {
   "cell_type": "code",
   "execution_count": 90,
   "id": "1217138c-ecb1-4a98-8800-eb04d0d3df9a",
   "metadata": {},
   "outputs": [
    {
     "data": {
      "text/plain": [
       "array({'Siman': 22, 'Mali': 23, 'FelezateAsasi': 24, 'KanehayeFelezi': 24, 'FaniVaMohandesi': 26, 'index': 27, 'USD': 27, 'ChandReshteSanati': 27, 'Bank': 27, 'SayerMali': 28, 'GhandVaShekar': 28, 'paper': 29, 'khodrosazi': 29, 'SayerMadan': 30, 'Lastic': 30, 'Rayaneh': 30, 'HamlVaNaghl': 31, 'Gold': 31, 'CPI': 32, 'M2': 32, 'FaravardehayeNafti': 32, 'MahsolateFelezi': 32, 'MashinAlat': 32, 'Daroee': 32, 'Euro': 33, 'HOUSE': 33, 'EstekrajeNaft': 33, 'Brent Oil': 33, 'Amlakva': 33, 'CoalMining': 33, 'DastgahayeBargi': 33, 'M1': 34, 'Mansojat': 34, 'KashiVaSeramik': 34, 'Shimiyaee': 34, 'GazaeeBejozGhand': 34, 'GDP': 34, 'Wood': 35, 'Agriculture': 36, 'VasayelErtebati': 36, 'EntesharVaChap': 37, 'Bimeh': 37, 'Coin': 37, 'KanehayeGeyreFelezi': 42, 'SarmayeGozari': 42},\n",
       "      dtype=object)"
      ]
     },
     "execution_count": 90,
     "metadata": {},
     "output_type": "execute_result"
    }
   ],
   "source": [
    "b40_3 = dict(nx.degree(entropy_network_ThreeReg_pn_3_98))\n",
    "b40_3 = np.array(dict(sorted(b40_3.items(), key=lambda item: item[1])))\n",
    "b40_3"
   ]
  },
  {
   "cell_type": "code",
   "execution_count": 91,
   "id": "3c094932-a901-44e4-9ff7-26b8c95ca577",
   "metadata": {},
   "outputs": [],
   "source": [
    "nm.get_network_features(entropy_network_ThreeReg_pn_3_98).to_csv('Excels/40_3.csv')"
   ]
  },
  {
   "cell_type": "markdown",
   "id": "b54ea26c-a906-48e4-967d-5e7e4376d1c7",
   "metadata": {},
   "source": [
    "# 41) Tehran 3 pn Regime Entropy (Based on Median Threshold) Period of 90 Far - 00 Far"
   ]
  },
  {
   "cell_type": "code",
   "execution_count": 92,
   "id": "2af4a49c-1347-4e4d-a0be-545e0abf4ecb",
   "metadata": {},
   "outputs": [],
   "source": [
    "nm = Net_moduls()"
   ]
  },
  {
   "cell_type": "code",
   "execution_count": 93,
   "id": "67bebae6-742a-4537-87d6-2aeb7c030e00",
   "metadata": {},
   "outputs": [],
   "source": [
    "thr41_1 = nm.find_median_entropy_threshold(tehran_df_ThreeReg_pn_1_same_length)\n",
    "thr41_2 = nm.find_median_entropy_threshold(tehran_df_ThreeReg_pn_2_same_length)\n",
    "thr41_3 = nm.find_median_entropy_threshold(tehran_df_ThreeReg_pn_3_same_length)\n",
    "\n",
    "thr41 = min(thr41_1, thr41_2, thr41_3)"
   ]
  },
  {
   "cell_type": "code",
   "execution_count": 94,
   "id": "9372cc1b-5a07-4a19-89c6-9238f6d5d943",
   "metadata": {},
   "outputs": [],
   "source": [
    "entropy_network_ThreeReg_pn_1 = nm.construct_network(tehran_df_ThreeReg_pn_1_same_length, method='entropy', threshold=thr41)"
   ]
  },
  {
   "cell_type": "code",
   "execution_count": 95,
   "id": "170bbf08-c837-4628-b50f-926aee23925e",
   "metadata": {},
   "outputs": [
    {
     "data": {
      "text/html": [
       "<div>\n",
       "<style scoped>\n",
       "    .dataframe tbody tr th:only-of-type {\n",
       "        vertical-align: middle;\n",
       "    }\n",
       "\n",
       "    .dataframe tbody tr th {\n",
       "        vertical-align: top;\n",
       "    }\n",
       "\n",
       "    .dataframe thead th {\n",
       "        text-align: right;\n",
       "    }\n",
       "</style>\n",
       "<table border=\"1\" class=\"dataframe\">\n",
       "  <thead>\n",
       "    <tr style=\"text-align: right;\">\n",
       "      <th></th>\n",
       "      <th>radius</th>\n",
       "      <th>diameter</th>\n",
       "      <th>densities</th>\n",
       "      <th>number_of_edges</th>\n",
       "      <th>average_clustering</th>\n",
       "      <th>avg_degree_centrality</th>\n",
       "      <th>avg_betweenness_centrality</th>\n",
       "      <th>avg_closeness_centrality</th>\n",
       "      <th>average_shortest_path_length</th>\n",
       "    </tr>\n",
       "  </thead>\n",
       "  <tbody>\n",
       "    <tr>\n",
       "      <th>0</th>\n",
       "      <td>2</td>\n",
       "      <td>2</td>\n",
       "      <td>0.697585</td>\n",
       "      <td>722</td>\n",
       "      <td>0.733266</td>\n",
       "      <td>0.697585</td>\n",
       "      <td>0.006873</td>\n",
       "      <td>0.77295</td>\n",
       "      <td>1.302415</td>\n",
       "    </tr>\n",
       "  </tbody>\n",
       "</table>\n",
       "</div>"
      ],
      "text/plain": [
       "   radius  diameter  densities  number_of_edges  average_clustering  \\\n",
       "0       2         2   0.697585              722            0.733266   \n",
       "\n",
       "   avg_degree_centrality  avg_betweenness_centrality  \\\n",
       "0               0.697585                    0.006873   \n",
       "\n",
       "   avg_closeness_centrality  average_shortest_path_length  \n",
       "0                   0.77295                      1.302415  "
      ]
     },
     "execution_count": 95,
     "metadata": {},
     "output_type": "execute_result"
    }
   ],
   "source": [
    "nm.get_network_features(entropy_network_ThreeReg_pn_1)"
   ]
  },
  {
   "cell_type": "code",
   "execution_count": 96,
   "id": "3aeaf4b3-a872-4419-a5b7-50fb522a7d62",
   "metadata": {},
   "outputs": [
    {
     "data": {
      "text/plain": [
       "array({'AbzaralatePezeshki': 13, 'Coin': 21, 'Brent Oil': 23, 'GDP': 24, 'Mali': 25, 'USD': 27, 'EstekrajeNaft': 27, 'Daroee': 27, 'KanehayeGeyreFelezi': 27, 'Euro': 28, 'EntesharVaChap': 28, 'HamlVaNaghl': 28, 'FaravardehayeNafti': 29, 'Rayaneh': 30, 'MashinAlat': 30, 'Mansojat': 30, 'M1': 31, 'SarmayeGozari': 31, 'Bimeh': 31, 'HOUSE': 32, 'SayerMadan': 32, 'GazaeeBejozGhand': 32, 'khodrosazi': 32, 'Amlakva': 32, 'KashiVaSeramik': 32, 'CPI': 33, 'M2': 33, 'paper': 33, 'SayerMali': 33, 'index': 34, 'Lastic': 34, 'Wood': 34, 'Shimiyaee': 34, 'Gold': 35, 'DastgahayeBargi': 35, 'FelezateAsasi': 35, 'MahsolateFelezi': 35, 'Agriculture': 36, 'GhandVaShekar': 36, 'ChandReshteSanati': 36, 'FaniVaMohandesi': 36, 'Siman': 37, 'KanehayeFelezi': 37, 'Bank': 37, 'CoalMining': 39, 'VasayelErtebati': 40},\n",
       "      dtype=object)"
      ]
     },
     "execution_count": 96,
     "metadata": {},
     "output_type": "execute_result"
    }
   ],
   "source": [
    "b41_1 = dict(nx.degree(entropy_network_ThreeReg_pn_1))\n",
    "b41_1 = np.array(dict(sorted(b41_1.items(), key=lambda item: item[1])))\n",
    "b41_1"
   ]
  },
  {
   "cell_type": "code",
   "execution_count": 97,
   "id": "84cd08b1-08a7-4c9c-aa67-12bb849d1e15",
   "metadata": {},
   "outputs": [],
   "source": [
    "nm.get_network_features(entropy_network_ThreeReg_pn_1).to_csv('Excels/41_1.csv')"
   ]
  },
  {
   "cell_type": "code",
   "execution_count": 98,
   "id": "c759386a-ae12-4fa6-8102-59faaef871eb",
   "metadata": {},
   "outputs": [],
   "source": [
    "entropy_network_ThreeReg_pn_2 = nm.construct_network(tehran_df_ThreeReg_pn_2_same_length, method='entropy', threshold=thr41)"
   ]
  },
  {
   "cell_type": "code",
   "execution_count": 99,
   "id": "e8722cf2-74ba-4cd9-a6ab-5d72b3c6ece1",
   "metadata": {},
   "outputs": [
    {
     "data": {
      "text/html": [
       "<div>\n",
       "<style scoped>\n",
       "    .dataframe tbody tr th:only-of-type {\n",
       "        vertical-align: middle;\n",
       "    }\n",
       "\n",
       "    .dataframe tbody tr th {\n",
       "        vertical-align: top;\n",
       "    }\n",
       "\n",
       "    .dataframe thead th {\n",
       "        text-align: right;\n",
       "    }\n",
       "</style>\n",
       "<table border=\"1\" class=\"dataframe\">\n",
       "  <thead>\n",
       "    <tr style=\"text-align: right;\">\n",
       "      <th></th>\n",
       "      <th>radius</th>\n",
       "      <th>diameter</th>\n",
       "      <th>densities</th>\n",
       "      <th>number_of_edges</th>\n",
       "      <th>average_clustering</th>\n",
       "      <th>avg_degree_centrality</th>\n",
       "      <th>avg_betweenness_centrality</th>\n",
       "      <th>avg_closeness_centrality</th>\n",
       "      <th>average_shortest_path_length</th>\n",
       "    </tr>\n",
       "  </thead>\n",
       "  <tbody>\n",
       "    <tr>\n",
       "      <th>0</th>\n",
       "      <td>2</td>\n",
       "      <td>2</td>\n",
       "      <td>0.836715</td>\n",
       "      <td>866</td>\n",
       "      <td>0.848166</td>\n",
       "      <td>0.836715</td>\n",
       "      <td>0.003711</td>\n",
       "      <td>0.86379</td>\n",
       "      <td>1.163285</td>\n",
       "    </tr>\n",
       "  </tbody>\n",
       "</table>\n",
       "</div>"
      ],
      "text/plain": [
       "   radius  diameter  densities  number_of_edges  average_clustering  \\\n",
       "0       2         2   0.836715              866            0.848166   \n",
       "\n",
       "   avg_degree_centrality  avg_betweenness_centrality  \\\n",
       "0               0.836715                    0.003711   \n",
       "\n",
       "   avg_closeness_centrality  average_shortest_path_length  \n",
       "0                   0.86379                      1.163285  "
      ]
     },
     "execution_count": 99,
     "metadata": {},
     "output_type": "execute_result"
    }
   ],
   "source": [
    "nm.get_network_features(entropy_network_ThreeReg_pn_2)"
   ]
  },
  {
   "cell_type": "code",
   "execution_count": 100,
   "id": "982a1a6e-f843-4499-a721-ca921a80815a",
   "metadata": {},
   "outputs": [
    {
     "data": {
      "text/plain": [
       "array({'Euro': 28, 'Gold': 31, 'SayerMadan': 32, 'USD': 32, 'GazaeeBejozGhand': 33, 'KashiVaSeramik': 33, 'ChandReshteSanati': 33, 'Shimiyaee': 34, 'CoalMining': 34, 'index': 35, 'FaniVaMohandesi': 35, 'Coin': 35, 'Brent Oil': 36, 'MashinAlat': 36, 'AbzaralatePezeshki': 36, 'HamlVaNaghl': 36, 'Mali': 36, 'HOUSE': 37, 'paper': 37, 'KanehayeFelezi': 37, 'GhandVaShekar': 37, 'SarmayeGozari': 37, 'CPI': 38, 'M1': 38, 'Lastic': 38, 'MahsolateFelezi': 38, 'Bimeh': 38, 'M2': 39, 'Wood': 39, 'Rayaneh': 39, 'FelezateAsasi': 39, 'GDP': 40, 'Daroee': 40, 'Amlakva': 40, 'DastgahayeBargi': 41, 'VasayelErtebati': 41, 'khodrosazi': 41, 'Bank': 41, 'Agriculture': 41, 'EstekrajeNaft': 42, 'EntesharVaChap': 42, 'FaravardehayeNafti': 43, 'KanehayeGeyreFelezi': 43, 'SayerMali': 43, 'Mansojat': 44, 'Siman': 44},\n",
       "      dtype=object)"
      ]
     },
     "execution_count": 100,
     "metadata": {},
     "output_type": "execute_result"
    }
   ],
   "source": [
    "b41_2 = dict(nx.degree(entropy_network_ThreeReg_pn_2))\n",
    "b41_2 = np.array(dict(sorted(b41_2.items(), key=lambda item: item[1])))\n",
    "b41_2"
   ]
  },
  {
   "cell_type": "code",
   "execution_count": 101,
   "id": "dbd36500-d527-4c3e-a0dd-0843d0e22e23",
   "metadata": {},
   "outputs": [],
   "source": [
    "nm.get_network_features(entropy_network_ThreeReg_pn_2).to_csv('Excels/41_2.csv')"
   ]
  },
  {
   "cell_type": "code",
   "execution_count": 102,
   "id": "55b9d003-2da8-4efc-9163-38ec02817c5c",
   "metadata": {},
   "outputs": [],
   "source": [
    "entropy_network_ThreeReg_pn_3 = nm.construct_network(tehran_df_ThreeReg_pn_3_same_length, method='entropy', threshold=thr41)"
   ]
  },
  {
   "cell_type": "code",
   "execution_count": 103,
   "id": "ce43c30c-fc82-4991-845c-8eee982f3700",
   "metadata": {},
   "outputs": [
    {
     "data": {
      "text/html": [
       "<div>\n",
       "<style scoped>\n",
       "    .dataframe tbody tr th:only-of-type {\n",
       "        vertical-align: middle;\n",
       "    }\n",
       "\n",
       "    .dataframe tbody tr th {\n",
       "        vertical-align: top;\n",
       "    }\n",
       "\n",
       "    .dataframe thead th {\n",
       "        text-align: right;\n",
       "    }\n",
       "</style>\n",
       "<table border=\"1\" class=\"dataframe\">\n",
       "  <thead>\n",
       "    <tr style=\"text-align: right;\">\n",
       "      <th></th>\n",
       "      <th>radius</th>\n",
       "      <th>diameter</th>\n",
       "      <th>densities</th>\n",
       "      <th>number_of_edges</th>\n",
       "      <th>average_clustering</th>\n",
       "      <th>avg_degree_centrality</th>\n",
       "      <th>avg_betweenness_centrality</th>\n",
       "      <th>avg_closeness_centrality</th>\n",
       "      <th>average_shortest_path_length</th>\n",
       "    </tr>\n",
       "  </thead>\n",
       "  <tbody>\n",
       "    <tr>\n",
       "      <th>0</th>\n",
       "      <td>2</td>\n",
       "      <td>2</td>\n",
       "      <td>0.735354</td>\n",
       "      <td>728</td>\n",
       "      <td>0.760216</td>\n",
       "      <td>0.735354</td>\n",
       "      <td>0.006155</td>\n",
       "      <td>0.796477</td>\n",
       "      <td>1.264646</td>\n",
       "    </tr>\n",
       "  </tbody>\n",
       "</table>\n",
       "</div>"
      ],
      "text/plain": [
       "   radius  diameter  densities  number_of_edges  average_clustering  \\\n",
       "0       2         2   0.735354              728            0.760216   \n",
       "\n",
       "   avg_degree_centrality  avg_betweenness_centrality  \\\n",
       "0               0.735354                    0.006155   \n",
       "\n",
       "   avg_closeness_centrality  average_shortest_path_length  \n",
       "0                  0.796477                      1.264646  "
      ]
     },
     "execution_count": 103,
     "metadata": {},
     "output_type": "execute_result"
    }
   ],
   "source": [
    "nm.get_network_features(entropy_network_ThreeReg_pn_3)"
   ]
  },
  {
   "cell_type": "code",
   "execution_count": 104,
   "id": "db303e50-62ac-40e7-9ab4-51f29b699a1b",
   "metadata": {},
   "outputs": [
    {
     "data": {
      "text/plain": [
       "array({'Siman': 23, 'FelezateAsasi': 24, 'KanehayeFelezi': 24, 'M1': 25, 'index': 27, 'GhandVaShekar': 27, 'FaniVaMohandesi': 27, 'Brent Oil': 28, 'Gold': 28, 'MashinAlat': 28, 'Shimiyaee': 28, 'M2': 29, 'SayerMadan': 29, 'Mansojat': 29, 'ChandReshteSanati': 30, 'CPI': 30, 'HOUSE': 31, 'SayerMali': 31, 'GDP': 31, 'FaravardehayeNafti': 32, 'Lastic': 32, 'DastgahayeBargi': 32, 'EstekrajeNaft': 33, 'GazaeeBejozGhand': 33, 'Euro': 34, 'Bank': 34, 'Mali': 34, 'Rayaneh': 34, 'USD': 34, 'Daroee': 34, 'HamlVaNaghl': 34, 'Amlakva': 35, 'CoalMining': 36, 'Wood': 36, 'khodrosazi': 36, 'Bimeh': 36, 'MahsolateFelezi': 36, 'paper': 37, 'EntesharVaChap': 37, 'Agriculture': 37, 'VasayelErtebati': 38, 'KashiVaSeramik': 38, 'Coin': 39, 'KanehayeGeyreFelezi': 43, 'SarmayeGozari': 43},\n",
       "      dtype=object)"
      ]
     },
     "execution_count": 104,
     "metadata": {},
     "output_type": "execute_result"
    }
   ],
   "source": [
    "b41_3 = dict(nx.degree(entropy_network_ThreeReg_pn_3))\n",
    "b41_3 = np.array(dict(sorted(b41_3.items(), key=lambda item: item[1])))\n",
    "b41_3"
   ]
  },
  {
   "cell_type": "code",
   "execution_count": 105,
   "id": "4fb1cd08-a6c7-4991-aba2-ef17b9d93911",
   "metadata": {},
   "outputs": [],
   "source": [
    "nm.get_network_features(entropy_network_ThreeReg_pn_3).to_csv('Excels/41_3.csv')"
   ]
  },
  {
   "cell_type": "markdown",
   "id": "7ef29857-a616-4f0b-a1c4-bf40725d13cd",
   "metadata": {},
   "source": [
    "# 42) Tehran 3 pn Regime Entropy (Based on Median Threshold) Period of 90 Far - 98 Dey/ Last 100 Records"
   ]
  },
  {
   "cell_type": "code",
   "execution_count": 106,
   "id": "be499f85-72c1-418a-ab78-1865beb0b3a0",
   "metadata": {},
   "outputs": [],
   "source": [
    "thr42_1 = nm.find_median_entropy_threshold(tehran_df_ThreeReg_pn_1_same_length_98[-100:])\n",
    "thr42_2 = nm.find_median_entropy_threshold(tehran_df_ThreeReg_pn_2_same_length_98[-100:])\n",
    "thr42_3 = nm.find_median_entropy_threshold(tehran_df_ThreeReg_pn_3_same_length_98[-100:])\n",
    "\n",
    "thr42 = min(thr42_1, thr42_2, thr42_3)"
   ]
  },
  {
   "cell_type": "code",
   "execution_count": 107,
   "id": "d1423b9b-eff9-4285-ae57-6d99523af709",
   "metadata": {},
   "outputs": [],
   "source": [
    "entropy_network_ThreeReg_pn_1_98_last100 = nm.construct_network(tehran_df_ThreeReg_pn_1_same_length_98[-100:], method='entropy', threshold=thr42)"
   ]
  },
  {
   "cell_type": "code",
   "execution_count": 108,
   "id": "9ce83d8a-2e3e-40da-9542-512e7526bf55",
   "metadata": {},
   "outputs": [
    {
     "data": {
      "text/html": [
       "<div>\n",
       "<style scoped>\n",
       "    .dataframe tbody tr th:only-of-type {\n",
       "        vertical-align: middle;\n",
       "    }\n",
       "\n",
       "    .dataframe tbody tr th {\n",
       "        vertical-align: top;\n",
       "    }\n",
       "\n",
       "    .dataframe thead th {\n",
       "        text-align: right;\n",
       "    }\n",
       "</style>\n",
       "<table border=\"1\" class=\"dataframe\">\n",
       "  <thead>\n",
       "    <tr style=\"text-align: right;\">\n",
       "      <th></th>\n",
       "      <th>radius</th>\n",
       "      <th>diameter</th>\n",
       "      <th>densities</th>\n",
       "      <th>number_of_edges</th>\n",
       "      <th>average_clustering</th>\n",
       "      <th>avg_degree_centrality</th>\n",
       "      <th>avg_betweenness_centrality</th>\n",
       "      <th>avg_closeness_centrality</th>\n",
       "      <th>average_shortest_path_length</th>\n",
       "    </tr>\n",
       "  </thead>\n",
       "  <tbody>\n",
       "    <tr>\n",
       "      <th>0</th>\n",
       "      <td>1</td>\n",
       "      <td>2</td>\n",
       "      <td>0.821212</td>\n",
       "      <td>813</td>\n",
       "      <td>0.86642</td>\n",
       "      <td>0.821212</td>\n",
       "      <td>0.004158</td>\n",
       "      <td>0.858219</td>\n",
       "      <td>1.178788</td>\n",
       "    </tr>\n",
       "  </tbody>\n",
       "</table>\n",
       "</div>"
      ],
      "text/plain": [
       "   radius  diameter  densities  number_of_edges  average_clustering  \\\n",
       "0       1         2   0.821212              813             0.86642   \n",
       "\n",
       "   avg_degree_centrality  avg_betweenness_centrality  \\\n",
       "0               0.821212                    0.004158   \n",
       "\n",
       "   avg_closeness_centrality  average_shortest_path_length  \n",
       "0                  0.858219                      1.178788  "
      ]
     },
     "execution_count": 108,
     "metadata": {},
     "output_type": "execute_result"
    }
   ],
   "source": [
    "nm.get_network_features(entropy_network_ThreeReg_pn_1_98_last100)"
   ]
  },
  {
   "cell_type": "code",
   "execution_count": 109,
   "id": "0e2da0c2-5473-446f-8230-3f7874350656",
   "metadata": {},
   "outputs": [
    {
     "data": {
      "text/plain": [
       "array({'CPI': 14, 'Brent Oil': 19, 'USD': 26, 'Coin': 26, 'Gold': 27, 'HOUSE': 28, 'M1': 30, 'M2': 33, 'Rayaneh': 33, 'Euro': 34, 'SarmayeGozari': 34, 'VasayelErtebati': 34, 'khodrosazi': 35, 'SayerMali': 35, 'index': 36, 'ChandReshteSanati': 36, 'Lastic': 37, 'Bank': 37, 'HamlVaNaghl': 37, 'Mali': 37, 'GDP': 37, 'Daroee': 38, 'FelezateAsasi': 38, 'GazaeeBejozGhand': 38, 'KanehayeGeyreFelezi': 38, 'EstekrajeNaft': 39, 'Wood': 39, 'GhandVaShekar': 39, 'Shimiyaee': 39, 'KashiVaSeramik': 39, 'Bimeh': 39, 'Agriculture': 40, 'paper': 40, 'EntesharVaChap': 40, 'FaravardehayeNafti': 40, 'MashinAlat': 40, 'Amlakva': 40, 'KanehayeFelezi': 40, 'MahsolateFelezi': 41, 'DastgahayeBargi': 41, 'Mansojat': 42, 'Siman': 42, 'FaniVaMohandesi': 42, 'CoalMining': 43, 'SayerMadan': 44},\n",
       "      dtype=object)"
      ]
     },
     "execution_count": 109,
     "metadata": {},
     "output_type": "execute_result"
    }
   ],
   "source": [
    "b42_1 = dict(nx.degree(entropy_network_ThreeReg_pn_1_98_last100))\n",
    "b42_1 = np.array(dict(sorted(b42_1.items(), key=lambda item: item[1])))\n",
    "b42_1"
   ]
  },
  {
   "cell_type": "code",
   "execution_count": 110,
   "id": "2fb97329-1775-4d5b-b1c0-631bb3f91da5",
   "metadata": {},
   "outputs": [],
   "source": [
    "nm.get_network_features(entropy_network_ThreeReg_pn_1_98_last100).to_csv('Excels/42_1.csv')"
   ]
  },
  {
   "cell_type": "code",
   "execution_count": 111,
   "id": "0cde9a37-208d-455e-9835-6ec0e74bacd1",
   "metadata": {},
   "outputs": [],
   "source": [
    "entropy_network_ThreeReg_pn_2_98_last100 = nm.construct_network(tehran_df_ThreeReg_pn_2_same_length_98[-100:], method='entropy', threshold=thr42)"
   ]
  },
  {
   "cell_type": "code",
   "execution_count": 112,
   "id": "c24cef2a-944f-4500-a7e4-fd02667235ab",
   "metadata": {},
   "outputs": [
    {
     "data": {
      "text/html": [
       "<div>\n",
       "<style scoped>\n",
       "    .dataframe tbody tr th:only-of-type {\n",
       "        vertical-align: middle;\n",
       "    }\n",
       "\n",
       "    .dataframe tbody tr th {\n",
       "        vertical-align: top;\n",
       "    }\n",
       "\n",
       "    .dataframe thead th {\n",
       "        text-align: right;\n",
       "    }\n",
       "</style>\n",
       "<table border=\"1\" class=\"dataframe\">\n",
       "  <thead>\n",
       "    <tr style=\"text-align: right;\">\n",
       "      <th></th>\n",
       "      <th>radius</th>\n",
       "      <th>diameter</th>\n",
       "      <th>densities</th>\n",
       "      <th>number_of_edges</th>\n",
       "      <th>average_clustering</th>\n",
       "      <th>avg_degree_centrality</th>\n",
       "      <th>avg_betweenness_centrality</th>\n",
       "      <th>avg_closeness_centrality</th>\n",
       "      <th>average_shortest_path_length</th>\n",
       "    </tr>\n",
       "  </thead>\n",
       "  <tbody>\n",
       "    <tr>\n",
       "      <th>0</th>\n",
       "      <td>1</td>\n",
       "      <td>2</td>\n",
       "      <td>0.838647</td>\n",
       "      <td>868</td>\n",
       "      <td>0.850495</td>\n",
       "      <td>0.838647</td>\n",
       "      <td>0.003667</td>\n",
       "      <td>0.865274</td>\n",
       "      <td>1.161353</td>\n",
       "    </tr>\n",
       "  </tbody>\n",
       "</table>\n",
       "</div>"
      ],
      "text/plain": [
       "   radius  diameter  densities  number_of_edges  average_clustering  \\\n",
       "0       1         2   0.838647              868            0.850495   \n",
       "\n",
       "   avg_degree_centrality  avg_betweenness_centrality  \\\n",
       "0               0.838647                    0.003667   \n",
       "\n",
       "   avg_closeness_centrality  average_shortest_path_length  \n",
       "0                  0.865274                      1.161353  "
      ]
     },
     "execution_count": 112,
     "metadata": {},
     "output_type": "execute_result"
    }
   ],
   "source": [
    "nm.get_network_features(entropy_network_ThreeReg_pn_2_98_last100)"
   ]
  },
  {
   "cell_type": "code",
   "execution_count": 113,
   "id": "71f8fc9e-254c-4e13-bc1d-e02c13475224",
   "metadata": {},
   "outputs": [
    {
     "data": {
      "text/plain": [
       "array({'KashiVaSeramik': 27, 'Coin': 28, 'AbzaralatePezeshki': 31, 'Brent Oil': 32, 'SayerMadan': 32, 'Gold': 34, 'CoalMining': 34, 'FaniVaMohandesi': 35, 'Euro': 35, 'USD': 35, 'EntesharVaChap': 36, 'MashinAlat': 36, 'GazaeeBejozGhand': 36, 'HOUSE': 37, 'M1': 37, 'Wood': 37, 'paper': 37, 'ChandReshteSanati': 37, 'MahsolateFelezi': 37, 'index': 38, 'VasayelErtebati': 38, 'Rayaneh': 38, 'M2': 38, 'Mali': 38, 'Lastic': 38, 'SarmayeGozari': 39, 'SayerMali': 39, 'KanehayeFelezi': 39, 'HamlVaNaghl': 39, 'Bimeh': 39, 'Amlakva': 39, 'GhandVaShekar': 39, 'GDP': 40, 'Mansojat': 40, 'Shimiyaee': 40, 'Bank': 40, 'FelezateAsasi': 40, 'CPI': 41, 'EstekrajeNaft': 41, 'Daroee': 41, 'DastgahayeBargi': 42, 'khodrosazi': 42, 'FaravardehayeNafti': 43, 'Siman': 43, 'KanehayeGeyreFelezi': 44, 'Agriculture': 45},\n",
       "      dtype=object)"
      ]
     },
     "execution_count": 113,
     "metadata": {},
     "output_type": "execute_result"
    }
   ],
   "source": [
    "b42_2 = dict(nx.degree(entropy_network_ThreeReg_pn_2_98_last100))\n",
    "b42_2 = np.array(dict(sorted(b42_2.items(), key=lambda item: item[1])))\n",
    "b42_2"
   ]
  },
  {
   "cell_type": "code",
   "execution_count": 114,
   "id": "b8bd01ae-ce5f-4880-b5bc-d792d7b66df2",
   "metadata": {},
   "outputs": [],
   "source": [
    "nm.get_network_features(entropy_network_ThreeReg_pn_2_98_last100).to_csv('Excels/42_2.csv')"
   ]
  },
  {
   "cell_type": "code",
   "execution_count": 115,
   "id": "fd2e6684-6988-4baa-8d66-26d94227f28a",
   "metadata": {},
   "outputs": [],
   "source": [
    "entropy_network_ThreeReg_pn_3_98_last100 = nm.construct_network(tehran_df_ThreeReg_pn_3_same_length_98[-100:], method='entropy', threshold=thr42)"
   ]
  },
  {
   "cell_type": "code",
   "execution_count": 116,
   "id": "0dc12e22-3c02-46cd-8ac6-26964b2b1150",
   "metadata": {},
   "outputs": [
    {
     "data": {
      "text/html": [
       "<div>\n",
       "<style scoped>\n",
       "    .dataframe tbody tr th:only-of-type {\n",
       "        vertical-align: middle;\n",
       "    }\n",
       "\n",
       "    .dataframe tbody tr th {\n",
       "        vertical-align: top;\n",
       "    }\n",
       "\n",
       "    .dataframe thead th {\n",
       "        text-align: right;\n",
       "    }\n",
       "</style>\n",
       "<table border=\"1\" class=\"dataframe\">\n",
       "  <thead>\n",
       "    <tr style=\"text-align: right;\">\n",
       "      <th></th>\n",
       "      <th>radius</th>\n",
       "      <th>diameter</th>\n",
       "      <th>densities</th>\n",
       "      <th>number_of_edges</th>\n",
       "      <th>average_clustering</th>\n",
       "      <th>avg_degree_centrality</th>\n",
       "      <th>avg_betweenness_centrality</th>\n",
       "      <th>avg_closeness_centrality</th>\n",
       "      <th>average_shortest_path_length</th>\n",
       "    </tr>\n",
       "  </thead>\n",
       "  <tbody>\n",
       "    <tr>\n",
       "      <th>0</th>\n",
       "      <td>2</td>\n",
       "      <td>2</td>\n",
       "      <td>0.721212</td>\n",
       "      <td>714</td>\n",
       "      <td>0.756577</td>\n",
       "      <td>0.721212</td>\n",
       "      <td>0.006483</td>\n",
       "      <td>0.788213</td>\n",
       "      <td>1.278788</td>\n",
       "    </tr>\n",
       "  </tbody>\n",
       "</table>\n",
       "</div>"
      ],
      "text/plain": [
       "   radius  diameter  densities  number_of_edges  average_clustering  \\\n",
       "0       2         2   0.721212              714            0.756577   \n",
       "\n",
       "   avg_degree_centrality  avg_betweenness_centrality  \\\n",
       "0               0.721212                    0.006483   \n",
       "\n",
       "   avg_closeness_centrality  average_shortest_path_length  \n",
       "0                  0.788213                      1.278788  "
      ]
     },
     "execution_count": 116,
     "metadata": {},
     "output_type": "execute_result"
    }
   ],
   "source": [
    "nm.get_network_features(entropy_network_ThreeReg_pn_3_98_last100)"
   ]
  },
  {
   "cell_type": "code",
   "execution_count": 117,
   "id": "38eae3e2-2e9b-47cc-aa78-f0a040a11d2e",
   "metadata": {},
   "outputs": [
    {
     "data": {
      "text/plain": [
       "array({'KanehayeFelezi': 17, 'M2': 19, 'FelezateAsasi': 22, 'M1': 26, 'Shimiyaee': 27, 'ChandReshteSanati': 28, 'GhandVaShekar': 28, 'Daroee': 28, 'Siman': 28, 'paper': 28, 'USD': 29, 'Rayaneh': 29, 'FaniVaMohandesi': 29, 'index': 30, 'Lastic': 30, 'MashinAlat': 30, 'Gold': 30, 'GDP': 30, 'Brent Oil': 31, 'CPI': 31, 'MahsolateFelezi': 31, 'EntesharVaChap': 31, 'GazaeeBejozGhand': 31, 'Mansojat': 32, 'DastgahayeBargi': 32, 'SayerMali': 32, 'SayerMadan': 33, 'VasayelErtebati': 33, 'HOUSE': 33, 'CoalMining': 33, 'Wood': 34, 'FaravardehayeNafti': 34, 'Bank': 35, 'Mali': 35, 'EstekrajeNaft': 35, 'HamlVaNaghl': 36, 'Agriculture': 36, 'KashiVaSeramik': 37, 'KanehayeGeyreFelezi': 38, 'Amlakva': 38, 'khodrosazi': 39, 'Coin': 39, 'Euro': 40, 'Bimeh': 40, 'SarmayeGozari': 41},\n",
       "      dtype=object)"
      ]
     },
     "execution_count": 117,
     "metadata": {},
     "output_type": "execute_result"
    }
   ],
   "source": [
    "b42_3 = dict(nx.degree(entropy_network_ThreeReg_pn_3_98_last100))\n",
    "b42_3 = np.array(dict(sorted(b42_3.items(), key=lambda item: item[1])))\n",
    "b42_3"
   ]
  },
  {
   "cell_type": "code",
   "execution_count": 118,
   "id": "0d34d206-8380-4e61-abfa-f773c9228356",
   "metadata": {},
   "outputs": [],
   "source": [
    "nm.get_network_features(entropy_network_ThreeReg_pn_3_98_last100).to_csv('Excels/42_3.csv')"
   ]
  },
  {
   "cell_type": "markdown",
   "id": "c16fab71-5c6f-4989-84d2-d2cceccd01a2",
   "metadata": {},
   "source": [
    "# 43) Tehran 3 pn Regime Entropy (Based on Median Threshold) Period of 90 Far - 98 Dey/ 50 windows of 100 Records"
   ]
  },
  {
   "cell_type": "code",
   "execution_count": 74,
   "id": "af9a8b04-a3e5-4dee-90f7-9001742b1918",
   "metadata": {
    "tags": []
   },
   "outputs": [
    {
     "name": "stdout",
     "output_type": "stream",
     "text": [
      "Number of columns data in our DataFrame is = 46\n",
      "fixed_thr= 0.02\n"
     ]
    }
   ],
   "source": [
    "nm = Net_moduls()\n",
    "entropy_network_ThreeReg_pn_1_98_averged = nm.get_network_features_averaged_median(tehran_df, regimes_column = tehran_df_reg.iloc[:-300]['3_PN'] ,method='entropy' ,edges_threshold = 200, target_window = 100, target_length = 20, p_threshold=0.020)\n",
    "\n"
   ]
  },
  {
   "cell_type": "code",
   "execution_count": 75,
   "id": "26308667-3f2d-4a90-acf6-437b0cf7b153",
   "metadata": {},
   "outputs": [
    {
     "data": {
      "text/html": [
       "<div>\n",
       "<style scoped>\n",
       "    .dataframe tbody tr th:only-of-type {\n",
       "        vertical-align: middle;\n",
       "    }\n",
       "\n",
       "    .dataframe tbody tr th {\n",
       "        vertical-align: top;\n",
       "    }\n",
       "\n",
       "    .dataframe thead th {\n",
       "        text-align: right;\n",
       "    }\n",
       "</style>\n",
       "<table border=\"1\" class=\"dataframe\">\n",
       "  <thead>\n",
       "    <tr style=\"text-align: right;\">\n",
       "      <th></th>\n",
       "      <th>radius</th>\n",
       "      <th>diameter</th>\n",
       "      <th>densities</th>\n",
       "      <th>number_of_edges</th>\n",
       "      <th>average_clustering</th>\n",
       "      <th>avg_degree_centrality</th>\n",
       "      <th>avg_betweenness_centrality</th>\n",
       "      <th>avg_closeness_centrality</th>\n",
       "      <th>average_shortest_path_length</th>\n",
       "    </tr>\n",
       "  </thead>\n",
       "  <tbody>\n",
       "    <tr>\n",
       "      <th>Means</th>\n",
       "      <td>1.100000</td>\n",
       "      <td>2.0</td>\n",
       "      <td>0.874192</td>\n",
       "      <td>865.450000</td>\n",
       "      <td>0.884792</td>\n",
       "      <td>0.874192</td>\n",
       "      <td>0.002926</td>\n",
       "      <td>0.892609</td>\n",
       "      <td>1.125808</td>\n",
       "    </tr>\n",
       "    <tr>\n",
       "      <th>STDs</th>\n",
       "      <td>0.307794</td>\n",
       "      <td>0.0</td>\n",
       "      <td>0.010955</td>\n",
       "      <td>10.845688</td>\n",
       "      <td>0.009125</td>\n",
       "      <td>0.010955</td>\n",
       "      <td>0.000255</td>\n",
       "      <td>0.008122</td>\n",
       "      <td>0.010955</td>\n",
       "    </tr>\n",
       "    <tr>\n",
       "      <th>Means</th>\n",
       "      <td>1.100000</td>\n",
       "      <td>2.0</td>\n",
       "      <td>0.900870</td>\n",
       "      <td>932.400000</td>\n",
       "      <td>0.905647</td>\n",
       "      <td>0.900870</td>\n",
       "      <td>0.002253</td>\n",
       "      <td>0.912473</td>\n",
       "      <td>1.099130</td>\n",
       "    </tr>\n",
       "    <tr>\n",
       "      <th>STDs</th>\n",
       "      <td>0.307794</td>\n",
       "      <td>0.0</td>\n",
       "      <td>0.006082</td>\n",
       "      <td>6.294526</td>\n",
       "      <td>0.005168</td>\n",
       "      <td>0.006082</td>\n",
       "      <td>0.000138</td>\n",
       "      <td>0.004770</td>\n",
       "      <td>0.006082</td>\n",
       "    </tr>\n",
       "    <tr>\n",
       "      <th>Means</th>\n",
       "      <td>1.150000</td>\n",
       "      <td>2.0</td>\n",
       "      <td>0.820000</td>\n",
       "      <td>811.800000</td>\n",
       "      <td>0.839501</td>\n",
       "      <td>0.820000</td>\n",
       "      <td>0.004186</td>\n",
       "      <td>0.853691</td>\n",
       "      <td>1.180000</td>\n",
       "    </tr>\n",
       "    <tr>\n",
       "      <th>STDs</th>\n",
       "      <td>0.366348</td>\n",
       "      <td>0.0</td>\n",
       "      <td>0.011682</td>\n",
       "      <td>11.564920</td>\n",
       "      <td>0.008797</td>\n",
       "      <td>0.011682</td>\n",
       "      <td>0.000272</td>\n",
       "      <td>0.007723</td>\n",
       "      <td>0.011682</td>\n",
       "    </tr>\n",
       "  </tbody>\n",
       "</table>\n",
       "</div>"
      ],
      "text/plain": [
       "         radius  diameter  densities  number_of_edges  average_clustering  \\\n",
       "Means  1.100000       2.0   0.874192       865.450000            0.884792   \n",
       "STDs   0.307794       0.0   0.010955        10.845688            0.009125   \n",
       "Means  1.100000       2.0   0.900870       932.400000            0.905647   \n",
       "STDs   0.307794       0.0   0.006082         6.294526            0.005168   \n",
       "Means  1.150000       2.0   0.820000       811.800000            0.839501   \n",
       "STDs   0.366348       0.0   0.011682        11.564920            0.008797   \n",
       "\n",
       "       avg_degree_centrality  avg_betweenness_centrality  \\\n",
       "Means               0.874192                    0.002926   \n",
       "STDs                0.010955                    0.000255   \n",
       "Means               0.900870                    0.002253   \n",
       "STDs                0.006082                    0.000138   \n",
       "Means               0.820000                    0.004186   \n",
       "STDs                0.011682                    0.000272   \n",
       "\n",
       "       avg_closeness_centrality  average_shortest_path_length  \n",
       "Means                  0.892609                      1.125808  \n",
       "STDs                   0.008122                      0.010955  \n",
       "Means                  0.912473                      1.099130  \n",
       "STDs                   0.004770                      0.006082  \n",
       "Means                  0.853691                      1.180000  \n",
       "STDs                   0.007723                      0.011682  "
      ]
     },
     "execution_count": 75,
     "metadata": {},
     "output_type": "execute_result"
    }
   ],
   "source": [
    "entropy_network_ThreeReg_pn_1_98_averged"
   ]
  },
  {
   "cell_type": "code",
   "execution_count": 57,
   "id": "d67061cf-2dd9-4dd0-b8f5-6b2594ee5738",
   "metadata": {},
   "outputs": [
    {
     "data": {
      "text/plain": [
       "769.6328509176072"
      ]
     },
     "execution_count": 57,
     "metadata": {},
     "output_type": "execute_result"
    }
   ],
   "source": [
    "entropy_network_ThreeReg_pn_1_98_averged['number_of_edges'].iloc[0]+3*entropy_network_ThreeReg_pn_1_98_averged['number_of_edges'].iloc[1]"
   ]
  },
  {
   "cell_type": "code",
   "execution_count": 26,
   "id": "707a7595-935f-4760-95c1-531e9e9f0cdd",
   "metadata": {},
   "outputs": [],
   "source": [
    "entropy_network_ThreeReg_pn_1_98_averged.to_csv('Excels/43.csv')"
   ]
  },
  {
   "cell_type": "markdown",
   "id": "4d1e48d3-494d-41e4-866f-913ad40cf5a4",
   "metadata": {},
   "source": [
    "# 44) Tehran 3 pn Regime Entropy (Based on Median Threshold) Period of 90 Far - 00 Far/ 50 windows of 100 Records"
   ]
  },
  {
   "cell_type": "code",
   "execution_count": 106,
   "id": "e0ffedbd-3d15-4f87-aa07-e962a38db2c3",
   "metadata": {
    "tags": []
   },
   "outputs": [
    {
     "name": "stdout",
     "output_type": "stream",
     "text": [
      "Number of columns data in our DataFrame is = 46\n",
      "fixed_thr= 0.025\n"
     ]
    }
   ],
   "source": [
    "nm = Net_moduls()\n",
    "entropy_network_ThreeReg_pn_90_00_averged = nm.get_network_features_averaged_median(tehran_df_completeDates, regimes_column= tehran_df_reg['3_PN'],method='entropy',edges_threshold=200, target_window=100, target_length=15, p_threshold=0.025)"
   ]
  },
  {
   "cell_type": "code",
   "execution_count": 107,
   "id": "c75c384d-a0c9-4446-9da9-032f0c547e91",
   "metadata": {},
   "outputs": [
    {
     "data": {
      "text/html": [
       "<div>\n",
       "<style scoped>\n",
       "    .dataframe tbody tr th:only-of-type {\n",
       "        vertical-align: middle;\n",
       "    }\n",
       "\n",
       "    .dataframe tbody tr th {\n",
       "        vertical-align: top;\n",
       "    }\n",
       "\n",
       "    .dataframe thead th {\n",
       "        text-align: right;\n",
       "    }\n",
       "</style>\n",
       "<table border=\"1\" class=\"dataframe\">\n",
       "  <thead>\n",
       "    <tr style=\"text-align: right;\">\n",
       "      <th></th>\n",
       "      <th>radius</th>\n",
       "      <th>diameter</th>\n",
       "      <th>densities</th>\n",
       "      <th>number_of_edges</th>\n",
       "      <th>average_clustering</th>\n",
       "      <th>avg_degree_centrality</th>\n",
       "      <th>avg_betweenness_centrality</th>\n",
       "      <th>avg_closeness_centrality</th>\n",
       "      <th>average_shortest_path_length</th>\n",
       "    </tr>\n",
       "  </thead>\n",
       "  <tbody>\n",
       "    <tr>\n",
       "      <th>Means</th>\n",
       "      <td>2.0</td>\n",
       "      <td>2.0</td>\n",
       "      <td>0.630081</td>\n",
       "      <td>652.133333</td>\n",
       "      <td>0.683769</td>\n",
       "      <td>0.630081</td>\n",
       "      <td>0.008407</td>\n",
       "      <td>0.735880</td>\n",
       "      <td>1.369919</td>\n",
       "    </tr>\n",
       "    <tr>\n",
       "      <th>STDs</th>\n",
       "      <td>0.0</td>\n",
       "      <td>0.0</td>\n",
       "      <td>0.011570</td>\n",
       "      <td>11.975372</td>\n",
       "      <td>0.011685</td>\n",
       "      <td>0.011570</td>\n",
       "      <td>0.000263</td>\n",
       "      <td>0.006218</td>\n",
       "      <td>0.011570</td>\n",
       "    </tr>\n",
       "    <tr>\n",
       "      <th>Means</th>\n",
       "      <td>2.0</td>\n",
       "      <td>2.0</td>\n",
       "      <td>0.761804</td>\n",
       "      <td>788.466667</td>\n",
       "      <td>0.783989</td>\n",
       "      <td>0.761804</td>\n",
       "      <td>0.005414</td>\n",
       "      <td>0.812916</td>\n",
       "      <td>1.238196</td>\n",
       "    </tr>\n",
       "    <tr>\n",
       "      <th>STDs</th>\n",
       "      <td>0.0</td>\n",
       "      <td>0.0</td>\n",
       "      <td>0.007831</td>\n",
       "      <td>8.105260</td>\n",
       "      <td>0.007161</td>\n",
       "      <td>0.007831</td>\n",
       "      <td>0.000178</td>\n",
       "      <td>0.004990</td>\n",
       "      <td>0.007831</td>\n",
       "    </tr>\n",
       "    <tr>\n",
       "      <th>Means</th>\n",
       "      <td>2.0</td>\n",
       "      <td>2.0</td>\n",
       "      <td>0.718586</td>\n",
       "      <td>711.400000</td>\n",
       "      <td>0.740949</td>\n",
       "      <td>0.718586</td>\n",
       "      <td>0.006545</td>\n",
       "      <td>0.785547</td>\n",
       "      <td>1.281414</td>\n",
       "    </tr>\n",
       "    <tr>\n",
       "      <th>STDs</th>\n",
       "      <td>0.0</td>\n",
       "      <td>0.0</td>\n",
       "      <td>0.005274</td>\n",
       "      <td>5.220837</td>\n",
       "      <td>0.005902</td>\n",
       "      <td>0.005274</td>\n",
       "      <td>0.000123</td>\n",
       "      <td>0.003160</td>\n",
       "      <td>0.005274</td>\n",
       "    </tr>\n",
       "  </tbody>\n",
       "</table>\n",
       "</div>"
      ],
      "text/plain": [
       "       radius  diameter  densities  number_of_edges  average_clustering  \\\n",
       "Means     2.0       2.0   0.630081       652.133333            0.683769   \n",
       "STDs      0.0       0.0   0.011570        11.975372            0.011685   \n",
       "Means     2.0       2.0   0.761804       788.466667            0.783989   \n",
       "STDs      0.0       0.0   0.007831         8.105260            0.007161   \n",
       "Means     2.0       2.0   0.718586       711.400000            0.740949   \n",
       "STDs      0.0       0.0   0.005274         5.220837            0.005902   \n",
       "\n",
       "       avg_degree_centrality  avg_betweenness_centrality  \\\n",
       "Means               0.630081                    0.008407   \n",
       "STDs                0.011570                    0.000263   \n",
       "Means               0.761804                    0.005414   \n",
       "STDs                0.007831                    0.000178   \n",
       "Means               0.718586                    0.006545   \n",
       "STDs                0.005274                    0.000123   \n",
       "\n",
       "       avg_closeness_centrality  average_shortest_path_length  \n",
       "Means                  0.735880                      1.369919  \n",
       "STDs                   0.006218                      0.011570  \n",
       "Means                  0.812916                      1.238196  \n",
       "STDs                   0.004990                      0.007831  \n",
       "Means                  0.785547                      1.281414  \n",
       "STDs                   0.003160                      0.005274  "
      ]
     },
     "execution_count": 107,
     "metadata": {},
     "output_type": "execute_result"
    }
   ],
   "source": [
    "entropy_network_ThreeReg_pn_90_00_averged"
   ]
  },
  {
   "cell_type": "code",
   "execution_count": 124,
   "id": "9076ade2-15e2-4f77-a9af-6b94ff383189",
   "metadata": {},
   "outputs": [],
   "source": [
    "entropy_network_ThreeReg_pn_90_00_averged.to_csv('Excels/44.csv')"
   ]
  },
  {
   "cell_type": "markdown",
   "id": "3e65970a-bd63-4a5d-a02c-09500d2b1f6f",
   "metadata": {},
   "source": [
    "# 45) Tehran 3 pn Regime Crossed (Based on Median Threshold) Period of 90 Far - 98 Dey"
   ]
  },
  {
   "cell_type": "code",
   "execution_count": 125,
   "id": "474e6562-58cf-4455-85ab-d75284de699f",
   "metadata": {},
   "outputs": [],
   "source": [
    "nm = Net_moduls()"
   ]
  },
  {
   "cell_type": "code",
   "execution_count": 126,
   "id": "80b2fbe3-1971-4d58-9a99-099acb373037",
   "metadata": {},
   "outputs": [],
   "source": [
    "thr45_1 = nm.find_median_crossed_100_threshold(tehran_df_ThreeReg_pn_1_same_length_98)\n",
    "thr45_2 = nm.find_median_crossed_100_threshold(tehran_df_ThreeReg_pn_2_same_length_98)\n",
    "thr45_3 = nm.find_median_crossed_100_threshold(tehran_df_ThreeReg_pn_3_same_length_98)\n",
    "\n",
    "thr45 = min(thr45_1, thr45_2, thr45_3)"
   ]
  },
  {
   "cell_type": "code",
   "execution_count": 127,
   "id": "a8bec3a0-70f1-4290-a09c-754f194edac4",
   "metadata": {},
   "outputs": [],
   "source": [
    "crossed_network_ThreeReg_pn_1_98 = nm.construct_network(tehran_df_ThreeReg_pn_1_same_length_98, method='crossed_100', threshold=thr45)"
   ]
  },
  {
   "cell_type": "code",
   "execution_count": 128,
   "id": "4c45c774-d084-480f-b2c6-e16d7fb45d76",
   "metadata": {},
   "outputs": [
    {
     "data": {
      "text/html": [
       "<div>\n",
       "<style scoped>\n",
       "    .dataframe tbody tr th:only-of-type {\n",
       "        vertical-align: middle;\n",
       "    }\n",
       "\n",
       "    .dataframe tbody tr th {\n",
       "        vertical-align: top;\n",
       "    }\n",
       "\n",
       "    .dataframe thead th {\n",
       "        text-align: right;\n",
       "    }\n",
       "</style>\n",
       "<table border=\"1\" class=\"dataframe\">\n",
       "  <thead>\n",
       "    <tr style=\"text-align: right;\">\n",
       "      <th></th>\n",
       "      <th>radius</th>\n",
       "      <th>diameter</th>\n",
       "      <th>densities</th>\n",
       "      <th>number_of_edges</th>\n",
       "      <th>average_clustering</th>\n",
       "      <th>avg_degree_centrality</th>\n",
       "      <th>avg_betweenness_centrality</th>\n",
       "      <th>avg_closeness_centrality</th>\n",
       "      <th>average_shortest_path_length</th>\n",
       "    </tr>\n",
       "  </thead>\n",
       "  <tbody>\n",
       "    <tr>\n",
       "      <th>0</th>\n",
       "      <td>1</td>\n",
       "      <td>2</td>\n",
       "      <td>0.295652</td>\n",
       "      <td>306</td>\n",
       "      <td>0.563941</td>\n",
       "      <td>0.295652</td>\n",
       "      <td>0.016008</td>\n",
       "      <td>0.599386</td>\n",
       "      <td>1.704348</td>\n",
       "    </tr>\n",
       "  </tbody>\n",
       "</table>\n",
       "</div>"
      ],
      "text/plain": [
       "   radius  diameter  densities  number_of_edges  average_clustering  \\\n",
       "0       1         2   0.295652              306            0.563941   \n",
       "\n",
       "   avg_degree_centrality  avg_betweenness_centrality  \\\n",
       "0               0.295652                    0.016008   \n",
       "\n",
       "   avg_closeness_centrality  average_shortest_path_length  \n",
       "0                  0.599386                      1.704348  "
      ]
     },
     "execution_count": 128,
     "metadata": {},
     "output_type": "execute_result"
    }
   ],
   "source": [
    "nm.get_network_features(crossed_network_ThreeReg_pn_1_98)"
   ]
  },
  {
   "cell_type": "code",
   "execution_count": 129,
   "id": "c078b297-eccd-4c30-a1c3-85a826118f93",
   "metadata": {},
   "outputs": [
    {
     "data": {
      "text/plain": [
       "array({'FaniVaMohandesi': 5, 'khodrosazi': 5, 'GhandVaShekar': 6, 'Daroee': 6, 'Siman': 6, 'Lastic': 6, 'ChandReshteSanati': 6, 'index': 7, 'KanehayeFelezi': 7, 'SayerMadan': 7, 'FelezateAsasi': 7, 'Bimeh': 7, 'SayerMali': 7, 'SarmayeGozari': 7, 'CoalMining': 7, 'EstekrajeNaft': 7, 'Shimiyaee': 7, 'Wood': 8, 'KanehayeGeyreFelezi': 8, 'Bank': 8, 'Mali': 8, 'MahsolateFelezi': 8, 'EntesharVaChap': 9, 'Agriculture': 9, 'Amlakva': 10, 'Rayaneh': 10, 'VasayelErtebati': 10, 'GazaeeBejozGhand': 10, 'KashiVaSeramik': 10, 'HamlVaNaghl': 11, 'MashinAlat': 11, 'paper': 12, 'Brent Oil': 16, 'DastgahayeBargi': 16, 'USD': 16, 'FaravardehayeNafti': 17, 'Mansojat': 18, 'CPI': 21, 'HOUSE': 22, 'Coin': 22, 'Euro': 27, 'M1': 34, 'M2': 35, 'Gold': 35, 'GDP': 36, 'AbzaralatePezeshki': 45},\n",
       "      dtype=object)"
      ]
     },
     "execution_count": 129,
     "metadata": {},
     "output_type": "execute_result"
    }
   ],
   "source": [
    "b45_1 = dict(nx.degree(crossed_network_ThreeReg_pn_1_98))\n",
    "b45_1 = np.array(dict(sorted(b45_1.items(), key=lambda item: item[1])))\n",
    "b45_1"
   ]
  },
  {
   "cell_type": "code",
   "execution_count": 130,
   "id": "17980945-a3a4-4587-9987-def87d480392",
   "metadata": {},
   "outputs": [],
   "source": [
    "nm.get_network_features(crossed_network_ThreeReg_pn_1_98).to_csv('Excels/45_1.csv')"
   ]
  },
  {
   "cell_type": "code",
   "execution_count": 131,
   "id": "258ed4b1-c03f-44f0-9196-5f49fb788db9",
   "metadata": {},
   "outputs": [],
   "source": [
    "crossed_network_ThreeReg_pn_2_98 = nm.construct_network(tehran_df_ThreeReg_pn_2_same_length_98, method='crossed_100', threshold=thr45)"
   ]
  },
  {
   "cell_type": "code",
   "execution_count": 132,
   "id": "302009cd-e9db-4ce2-ac99-2bcc06d2d36c",
   "metadata": {},
   "outputs": [
    {
     "data": {
      "text/html": [
       "<div>\n",
       "<style scoped>\n",
       "    .dataframe tbody tr th:only-of-type {\n",
       "        vertical-align: middle;\n",
       "    }\n",
       "\n",
       "    .dataframe tbody tr th {\n",
       "        vertical-align: top;\n",
       "    }\n",
       "\n",
       "    .dataframe thead th {\n",
       "        text-align: right;\n",
       "    }\n",
       "</style>\n",
       "<table border=\"1\" class=\"dataframe\">\n",
       "  <thead>\n",
       "    <tr style=\"text-align: right;\">\n",
       "      <th></th>\n",
       "      <th>radius</th>\n",
       "      <th>diameter</th>\n",
       "      <th>densities</th>\n",
       "      <th>number_of_edges</th>\n",
       "      <th>average_clustering</th>\n",
       "      <th>avg_degree_centrality</th>\n",
       "      <th>avg_betweenness_centrality</th>\n",
       "      <th>avg_closeness_centrality</th>\n",
       "      <th>average_shortest_path_length</th>\n",
       "    </tr>\n",
       "  </thead>\n",
       "  <tbody>\n",
       "    <tr>\n",
       "      <th>0</th>\n",
       "      <td>2</td>\n",
       "      <td>3</td>\n",
       "      <td>0.316908</td>\n",
       "      <td>328</td>\n",
       "      <td>0.338876</td>\n",
       "      <td>0.316908</td>\n",
       "      <td>0.015613</td>\n",
       "      <td>0.596266</td>\n",
       "      <td>1.686957</td>\n",
       "    </tr>\n",
       "  </tbody>\n",
       "</table>\n",
       "</div>"
      ],
      "text/plain": [
       "   radius  diameter  densities  number_of_edges  average_clustering  \\\n",
       "0       2         3   0.316908              328            0.338876   \n",
       "\n",
       "   avg_degree_centrality  avg_betweenness_centrality  \\\n",
       "0               0.316908                    0.015613   \n",
       "\n",
       "   avg_closeness_centrality  average_shortest_path_length  \n",
       "0                  0.596266                      1.686957  "
      ]
     },
     "execution_count": 132,
     "metadata": {},
     "output_type": "execute_result"
    }
   ],
   "source": [
    "nm.get_network_features(crossed_network_ThreeReg_pn_2_98)"
   ]
  },
  {
   "cell_type": "code",
   "execution_count": 133,
   "id": "8fcff59d-1ffc-4baa-9247-07480b8cee4d",
   "metadata": {},
   "outputs": [
    {
     "data": {
      "text/plain": [
       "array({'index': 5, 'SayerMali': 6, 'khodrosazi': 7, 'Bank': 8, 'Mali': 8, 'GazaeeBejozGhand': 8, 'SarmayeGozari': 9, 'FaniVaMohandesi': 9, 'FelezateAsasi': 9, 'EstekrajeNaft': 10, 'MahsolateFelezi': 10, 'Wood': 10, 'Bimeh': 11, 'DastgahayeBargi': 11, 'KanehayeGeyreFelezi': 11, 'Mansojat': 12, 'HOUSE': 12, 'Brent Oil': 13, 'MashinAlat': 13, 'ChandReshteSanati': 13, 'Daroee': 13, 'Siman': 13, 'EntesharVaChap': 13, 'FaravardehayeNafti': 13, 'Gold': 14, 'Amlakva': 14, 'HamlVaNaghl': 14, 'KanehayeFelezi': 14, 'Shimiyaee': 15, 'Euro': 15, 'Agriculture': 15, 'KashiVaSeramik': 16, 'VasayelErtebati': 17, 'CoalMining': 17, 'GhandVaShekar': 18, 'Rayaneh': 18, 'paper': 19, 'USD': 20, 'Coin': 20, 'M2': 20, 'GDP': 20, 'AbzaralatePezeshki': 21, 'M1': 22, 'SayerMadan': 22, 'CPI': 25, 'Lastic': 33},\n",
       "      dtype=object)"
      ]
     },
     "execution_count": 133,
     "metadata": {},
     "output_type": "execute_result"
    }
   ],
   "source": [
    "b45_2 = dict(nx.degree(crossed_network_ThreeReg_pn_2_98))\n",
    "b45_2 = np.array(dict(sorted(b45_2.items(), key=lambda item: item[1])))\n",
    "b45_2"
   ]
  },
  {
   "cell_type": "code",
   "execution_count": 134,
   "id": "1b7166fe-d9d7-44dd-b6c2-14ac4b63b64d",
   "metadata": {},
   "outputs": [],
   "source": [
    "nm.get_network_features(crossed_network_ThreeReg_pn_2_98).to_csv('Excels/45_2.csv')"
   ]
  },
  {
   "cell_type": "code",
   "execution_count": 135,
   "id": "6dc783ff-903c-4c6a-9c62-4aecca6111e6",
   "metadata": {},
   "outputs": [],
   "source": [
    "crossed_network_ThreeReg_pn_3_98 = nm.construct_network(tehran_df_ThreeReg_pn_3_same_length_98, method='crossed_100', threshold=thr45)"
   ]
  },
  {
   "cell_type": "code",
   "execution_count": 136,
   "id": "0c20c629-094f-4461-bd2f-6343e961125e",
   "metadata": {},
   "outputs": [
    {
     "data": {
      "text/html": [
       "<div>\n",
       "<style scoped>\n",
       "    .dataframe tbody tr th:only-of-type {\n",
       "        vertical-align: middle;\n",
       "    }\n",
       "\n",
       "    .dataframe tbody tr th {\n",
       "        vertical-align: top;\n",
       "    }\n",
       "\n",
       "    .dataframe thead th {\n",
       "        text-align: right;\n",
       "    }\n",
       "</style>\n",
       "<table border=\"1\" class=\"dataframe\">\n",
       "  <thead>\n",
       "    <tr style=\"text-align: right;\">\n",
       "      <th></th>\n",
       "      <th>radius</th>\n",
       "      <th>diameter</th>\n",
       "      <th>densities</th>\n",
       "      <th>number_of_edges</th>\n",
       "      <th>average_clustering</th>\n",
       "      <th>avg_degree_centrality</th>\n",
       "      <th>avg_betweenness_centrality</th>\n",
       "      <th>avg_closeness_centrality</th>\n",
       "      <th>average_shortest_path_length</th>\n",
       "    </tr>\n",
       "  </thead>\n",
       "  <tbody>\n",
       "    <tr>\n",
       "      <th>0</th>\n",
       "      <td>1</td>\n",
       "      <td>2</td>\n",
       "      <td>0.338164</td>\n",
       "      <td>350</td>\n",
       "      <td>0.491995</td>\n",
       "      <td>0.338164</td>\n",
       "      <td>0.015042</td>\n",
       "      <td>0.611064</td>\n",
       "      <td>1.661836</td>\n",
       "    </tr>\n",
       "  </tbody>\n",
       "</table>\n",
       "</div>"
      ],
      "text/plain": [
       "   radius  diameter  densities  number_of_edges  average_clustering  \\\n",
       "0       1         2   0.338164              350            0.491995   \n",
       "\n",
       "   avg_degree_centrality  avg_betweenness_centrality  \\\n",
       "0               0.338164                    0.015042   \n",
       "\n",
       "   avg_closeness_centrality  average_shortest_path_length  \n",
       "0                  0.611064                      1.661836  "
      ]
     },
     "execution_count": 136,
     "metadata": {},
     "output_type": "execute_result"
    }
   ],
   "source": [
    "nm.get_network_features(crossed_network_ThreeReg_pn_3_98)"
   ]
  },
  {
   "cell_type": "code",
   "execution_count": 137,
   "id": "da0ea5ae-943e-47f4-a8bd-bc9eecb116f6",
   "metadata": {},
   "outputs": [
    {
     "data": {
      "text/plain": [
       "array({'MahsolateFelezi': 6, 'Lastic': 6, 'GazaeeBejozGhand': 7, 'Amlakva': 7, 'SarmayeGozari': 7, 'index': 8, 'MashinAlat': 8, 'KanehayeGeyreFelezi': 9, 'Mali': 9, 'khodrosazi': 9, 'Shimiyaee': 9, 'KashiVaSeramik': 9, 'Daroee': 10, 'Siman': 10, 'KanehayeFelezi': 11, 'Agriculture': 11, 'CoalMining': 11, 'FelezateAsasi': 12, 'DastgahayeBargi': 12, 'Bank': 12, 'Bimeh': 12, 'Rayaneh': 12, 'Wood': 12, 'FaravardehayeNafti': 12, 'EntesharVaChap': 13, 'SayerMali': 13, 'HamlVaNaghl': 13, 'ChandReshteSanati': 14, 'FaniVaMohandesi': 14, 'GDP': 15, 'Mansojat': 16, 'VasayelErtebati': 16, 'EstekrajeNaft': 17, 'paper': 17, 'GhandVaShekar': 18, 'CPI': 19, 'Gold': 19, 'Euro': 23, 'Coin': 23, 'SayerMadan': 24, 'HOUSE': 26, 'Brent Oil': 27, 'USD': 31, 'M1': 33, 'M2': 33, 'AbzaralatePezeshki': 45},\n",
       "      dtype=object)"
      ]
     },
     "execution_count": 137,
     "metadata": {},
     "output_type": "execute_result"
    }
   ],
   "source": [
    "b45_3 = dict(nx.degree(crossed_network_ThreeReg_pn_3_98))\n",
    "b45_3 = np.array(dict(sorted(b45_3.items(), key=lambda item: item[1])))\n",
    "b45_3"
   ]
  },
  {
   "cell_type": "code",
   "execution_count": 138,
   "id": "bf173027-2b3d-4f21-9cbf-d59f65320555",
   "metadata": {},
   "outputs": [],
   "source": [
    "nm.get_network_features(crossed_network_ThreeReg_pn_3_98).to_csv('Excels/45_3.csv')"
   ]
  },
  {
   "cell_type": "markdown",
   "id": "338ea4d4-e438-434b-aa14-35226670453a",
   "metadata": {},
   "source": [
    "# 46) Tehran 3 pn Regime Crossed (Based on Median Threshold) Period of 90 Far - 00 Far"
   ]
  },
  {
   "cell_type": "code",
   "execution_count": 125,
   "id": "7d607077-4b09-47ac-a95c-f6bab37dd96f",
   "metadata": {},
   "outputs": [],
   "source": [
    "nm = Net_moduls()"
   ]
  },
  {
   "cell_type": "code",
   "execution_count": 126,
   "id": "1fd8fa4f-f656-4015-bf74-66ff5387da68",
   "metadata": {},
   "outputs": [],
   "source": [
    "thr45_1 = nm.find_median_crossed_100_threshold(tehran_df_ThreeReg_pn_1_same_length_98)\n",
    "thr45_2 = nm.find_median_crossed_100_threshold(tehran_df_ThreeReg_pn_2_same_length_98)\n",
    "thr45_3 = nm.find_median_crossed_100_threshold(tehran_df_ThreeReg_pn_3_same_length_98)\n",
    "\n",
    "thr45 = min(thr45_1, thr45_2, thr45_3)"
   ]
  },
  {
   "cell_type": "code",
   "execution_count": 127,
   "id": "baddcc8a-a3ac-42bb-87ba-31a5907d735f",
   "metadata": {},
   "outputs": [],
   "source": [
    "crossed_network_ThreeReg_pn_1_98 = nm.construct_network(tehran_df_ThreeReg_pn_1_same_length_98, method='crossed_100', threshold=thr45)"
   ]
  },
  {
   "cell_type": "code",
   "execution_count": 128,
   "id": "117da2a1-38ea-4250-b886-acd3c05f70ec",
   "metadata": {},
   "outputs": [
    {
     "data": {
      "text/html": [
       "<div>\n",
       "<style scoped>\n",
       "    .dataframe tbody tr th:only-of-type {\n",
       "        vertical-align: middle;\n",
       "    }\n",
       "\n",
       "    .dataframe tbody tr th {\n",
       "        vertical-align: top;\n",
       "    }\n",
       "\n",
       "    .dataframe thead th {\n",
       "        text-align: right;\n",
       "    }\n",
       "</style>\n",
       "<table border=\"1\" class=\"dataframe\">\n",
       "  <thead>\n",
       "    <tr style=\"text-align: right;\">\n",
       "      <th></th>\n",
       "      <th>radius</th>\n",
       "      <th>diameter</th>\n",
       "      <th>densities</th>\n",
       "      <th>number_of_edges</th>\n",
       "      <th>average_clustering</th>\n",
       "      <th>avg_degree_centrality</th>\n",
       "      <th>avg_betweenness_centrality</th>\n",
       "      <th>avg_closeness_centrality</th>\n",
       "      <th>average_shortest_path_length</th>\n",
       "    </tr>\n",
       "  </thead>\n",
       "  <tbody>\n",
       "    <tr>\n",
       "      <th>0</th>\n",
       "      <td>1</td>\n",
       "      <td>2</td>\n",
       "      <td>0.295652</td>\n",
       "      <td>306</td>\n",
       "      <td>0.563941</td>\n",
       "      <td>0.295652</td>\n",
       "      <td>0.016008</td>\n",
       "      <td>0.599386</td>\n",
       "      <td>1.704348</td>\n",
       "    </tr>\n",
       "  </tbody>\n",
       "</table>\n",
       "</div>"
      ],
      "text/plain": [
       "   radius  diameter  densities  number_of_edges  average_clustering  \\\n",
       "0       1         2   0.295652              306            0.563941   \n",
       "\n",
       "   avg_degree_centrality  avg_betweenness_centrality  \\\n",
       "0               0.295652                    0.016008   \n",
       "\n",
       "   avg_closeness_centrality  average_shortest_path_length  \n",
       "0                  0.599386                      1.704348  "
      ]
     },
     "execution_count": 128,
     "metadata": {},
     "output_type": "execute_result"
    }
   ],
   "source": [
    "nm.get_network_features(crossed_network_ThreeReg_pn_1_98)"
   ]
  },
  {
   "cell_type": "code",
   "execution_count": 129,
   "id": "a5b69257-0532-47b1-b01e-07db236608c1",
   "metadata": {},
   "outputs": [
    {
     "data": {
      "text/plain": [
       "array({'FaniVaMohandesi': 5, 'khodrosazi': 5, 'GhandVaShekar': 6, 'Daroee': 6, 'Siman': 6, 'Lastic': 6, 'ChandReshteSanati': 6, 'index': 7, 'KanehayeFelezi': 7, 'SayerMadan': 7, 'FelezateAsasi': 7, 'Bimeh': 7, 'SayerMali': 7, 'SarmayeGozari': 7, 'CoalMining': 7, 'EstekrajeNaft': 7, 'Shimiyaee': 7, 'Wood': 8, 'KanehayeGeyreFelezi': 8, 'Bank': 8, 'Mali': 8, 'MahsolateFelezi': 8, 'EntesharVaChap': 9, 'Agriculture': 9, 'Amlakva': 10, 'Rayaneh': 10, 'VasayelErtebati': 10, 'GazaeeBejozGhand': 10, 'KashiVaSeramik': 10, 'HamlVaNaghl': 11, 'MashinAlat': 11, 'paper': 12, 'Brent Oil': 16, 'DastgahayeBargi': 16, 'USD': 16, 'FaravardehayeNafti': 17, 'Mansojat': 18, 'CPI': 21, 'HOUSE': 22, 'Coin': 22, 'Euro': 27, 'M1': 34, 'M2': 35, 'Gold': 35, 'GDP': 36, 'AbzaralatePezeshki': 45},\n",
       "      dtype=object)"
      ]
     },
     "execution_count": 129,
     "metadata": {},
     "output_type": "execute_result"
    }
   ],
   "source": [
    "b45_1 = dict(nx.degree(crossed_network_ThreeReg_pn_1_98))\n",
    "b45_1 = np.array(dict(sorted(b45_1.items(), key=lambda item: item[1])))\n",
    "b45_1"
   ]
  },
  {
   "cell_type": "code",
   "execution_count": 130,
   "id": "12f2eafb-910e-4ee4-b22b-a444ca4ca590",
   "metadata": {},
   "outputs": [],
   "source": [
    "nm.get_network_features(crossed_network_ThreeReg_pn_1_98).to_csv('Excels/45_1.csv')"
   ]
  },
  {
   "cell_type": "code",
   "execution_count": 131,
   "id": "5c17149a-6115-49a6-94af-f7e8e57861d6",
   "metadata": {},
   "outputs": [],
   "source": [
    "crossed_network_ThreeReg_pn_2_98 = nm.construct_network(tehran_df_ThreeReg_pn_2_same_length_98, method='crossed_100', threshold=thr45)"
   ]
  },
  {
   "cell_type": "code",
   "execution_count": 132,
   "id": "2ed21690-797a-49c0-ae73-2703dd0ce21c",
   "metadata": {},
   "outputs": [
    {
     "data": {
      "text/html": [
       "<div>\n",
       "<style scoped>\n",
       "    .dataframe tbody tr th:only-of-type {\n",
       "        vertical-align: middle;\n",
       "    }\n",
       "\n",
       "    .dataframe tbody tr th {\n",
       "        vertical-align: top;\n",
       "    }\n",
       "\n",
       "    .dataframe thead th {\n",
       "        text-align: right;\n",
       "    }\n",
       "</style>\n",
       "<table border=\"1\" class=\"dataframe\">\n",
       "  <thead>\n",
       "    <tr style=\"text-align: right;\">\n",
       "      <th></th>\n",
       "      <th>radius</th>\n",
       "      <th>diameter</th>\n",
       "      <th>densities</th>\n",
       "      <th>number_of_edges</th>\n",
       "      <th>average_clustering</th>\n",
       "      <th>avg_degree_centrality</th>\n",
       "      <th>avg_betweenness_centrality</th>\n",
       "      <th>avg_closeness_centrality</th>\n",
       "      <th>average_shortest_path_length</th>\n",
       "    </tr>\n",
       "  </thead>\n",
       "  <tbody>\n",
       "    <tr>\n",
       "      <th>0</th>\n",
       "      <td>2</td>\n",
       "      <td>3</td>\n",
       "      <td>0.316908</td>\n",
       "      <td>328</td>\n",
       "      <td>0.338876</td>\n",
       "      <td>0.316908</td>\n",
       "      <td>0.015613</td>\n",
       "      <td>0.596266</td>\n",
       "      <td>1.686957</td>\n",
       "    </tr>\n",
       "  </tbody>\n",
       "</table>\n",
       "</div>"
      ],
      "text/plain": [
       "   radius  diameter  densities  number_of_edges  average_clustering  \\\n",
       "0       2         3   0.316908              328            0.338876   \n",
       "\n",
       "   avg_degree_centrality  avg_betweenness_centrality  \\\n",
       "0               0.316908                    0.015613   \n",
       "\n",
       "   avg_closeness_centrality  average_shortest_path_length  \n",
       "0                  0.596266                      1.686957  "
      ]
     },
     "execution_count": 132,
     "metadata": {},
     "output_type": "execute_result"
    }
   ],
   "source": [
    "nm.get_network_features(crossed_network_ThreeReg_pn_2_98)"
   ]
  },
  {
   "cell_type": "code",
   "execution_count": 133,
   "id": "8ebb6ee3-3b70-4fdd-ae71-daa8dc440b6b",
   "metadata": {},
   "outputs": [
    {
     "data": {
      "text/plain": [
       "array({'index': 5, 'SayerMali': 6, 'khodrosazi': 7, 'Bank': 8, 'Mali': 8, 'GazaeeBejozGhand': 8, 'SarmayeGozari': 9, 'FaniVaMohandesi': 9, 'FelezateAsasi': 9, 'EstekrajeNaft': 10, 'MahsolateFelezi': 10, 'Wood': 10, 'Bimeh': 11, 'DastgahayeBargi': 11, 'KanehayeGeyreFelezi': 11, 'Mansojat': 12, 'HOUSE': 12, 'Brent Oil': 13, 'MashinAlat': 13, 'ChandReshteSanati': 13, 'Daroee': 13, 'Siman': 13, 'EntesharVaChap': 13, 'FaravardehayeNafti': 13, 'Gold': 14, 'Amlakva': 14, 'HamlVaNaghl': 14, 'KanehayeFelezi': 14, 'Shimiyaee': 15, 'Euro': 15, 'Agriculture': 15, 'KashiVaSeramik': 16, 'VasayelErtebati': 17, 'CoalMining': 17, 'GhandVaShekar': 18, 'Rayaneh': 18, 'paper': 19, 'USD': 20, 'Coin': 20, 'M2': 20, 'GDP': 20, 'AbzaralatePezeshki': 21, 'M1': 22, 'SayerMadan': 22, 'CPI': 25, 'Lastic': 33},\n",
       "      dtype=object)"
      ]
     },
     "execution_count": 133,
     "metadata": {},
     "output_type": "execute_result"
    }
   ],
   "source": [
    "b45_2 = dict(nx.degree(crossed_network_ThreeReg_pn_2_98))\n",
    "b45_2 = np.array(dict(sorted(b45_2.items(), key=lambda item: item[1])))\n",
    "b45_2"
   ]
  },
  {
   "cell_type": "code",
   "execution_count": 134,
   "id": "d5cbf2f1-f4da-40a6-a175-803b059adf1c",
   "metadata": {},
   "outputs": [],
   "source": [
    "nm.get_network_features(crossed_network_ThreeReg_pn_2_98).to_csv('Excels/45_2.csv')"
   ]
  },
  {
   "cell_type": "code",
   "execution_count": 135,
   "id": "ee8edfd8-2db7-4dc6-8592-308f391c676a",
   "metadata": {},
   "outputs": [],
   "source": [
    "crossed_network_ThreeReg_pn_3_98 = nm.construct_network(tehran_df_ThreeReg_pn_3_same_length_98, method='crossed_100', threshold=thr45)"
   ]
  },
  {
   "cell_type": "code",
   "execution_count": 136,
   "id": "f19051ca-4f3d-467f-b19d-c1d15068c2a6",
   "metadata": {},
   "outputs": [
    {
     "data": {
      "text/html": [
       "<div>\n",
       "<style scoped>\n",
       "    .dataframe tbody tr th:only-of-type {\n",
       "        vertical-align: middle;\n",
       "    }\n",
       "\n",
       "    .dataframe tbody tr th {\n",
       "        vertical-align: top;\n",
       "    }\n",
       "\n",
       "    .dataframe thead th {\n",
       "        text-align: right;\n",
       "    }\n",
       "</style>\n",
       "<table border=\"1\" class=\"dataframe\">\n",
       "  <thead>\n",
       "    <tr style=\"text-align: right;\">\n",
       "      <th></th>\n",
       "      <th>radius</th>\n",
       "      <th>diameter</th>\n",
       "      <th>densities</th>\n",
       "      <th>number_of_edges</th>\n",
       "      <th>average_clustering</th>\n",
       "      <th>avg_degree_centrality</th>\n",
       "      <th>avg_betweenness_centrality</th>\n",
       "      <th>avg_closeness_centrality</th>\n",
       "      <th>average_shortest_path_length</th>\n",
       "    </tr>\n",
       "  </thead>\n",
       "  <tbody>\n",
       "    <tr>\n",
       "      <th>0</th>\n",
       "      <td>1</td>\n",
       "      <td>2</td>\n",
       "      <td>0.338164</td>\n",
       "      <td>350</td>\n",
       "      <td>0.491995</td>\n",
       "      <td>0.338164</td>\n",
       "      <td>0.015042</td>\n",
       "      <td>0.611064</td>\n",
       "      <td>1.661836</td>\n",
       "    </tr>\n",
       "  </tbody>\n",
       "</table>\n",
       "</div>"
      ],
      "text/plain": [
       "   radius  diameter  densities  number_of_edges  average_clustering  \\\n",
       "0       1         2   0.338164              350            0.491995   \n",
       "\n",
       "   avg_degree_centrality  avg_betweenness_centrality  \\\n",
       "0               0.338164                    0.015042   \n",
       "\n",
       "   avg_closeness_centrality  average_shortest_path_length  \n",
       "0                  0.611064                      1.661836  "
      ]
     },
     "execution_count": 136,
     "metadata": {},
     "output_type": "execute_result"
    }
   ],
   "source": [
    "nm.get_network_features(crossed_network_ThreeReg_pn_3_98)"
   ]
  },
  {
   "cell_type": "code",
   "execution_count": 137,
   "id": "88dc7f04-4703-4494-a161-9c4ab681f105",
   "metadata": {},
   "outputs": [
    {
     "data": {
      "text/plain": [
       "array({'MahsolateFelezi': 6, 'Lastic': 6, 'GazaeeBejozGhand': 7, 'Amlakva': 7, 'SarmayeGozari': 7, 'index': 8, 'MashinAlat': 8, 'KanehayeGeyreFelezi': 9, 'Mali': 9, 'khodrosazi': 9, 'Shimiyaee': 9, 'KashiVaSeramik': 9, 'Daroee': 10, 'Siman': 10, 'KanehayeFelezi': 11, 'Agriculture': 11, 'CoalMining': 11, 'FelezateAsasi': 12, 'DastgahayeBargi': 12, 'Bank': 12, 'Bimeh': 12, 'Rayaneh': 12, 'Wood': 12, 'FaravardehayeNafti': 12, 'EntesharVaChap': 13, 'SayerMali': 13, 'HamlVaNaghl': 13, 'ChandReshteSanati': 14, 'FaniVaMohandesi': 14, 'GDP': 15, 'Mansojat': 16, 'VasayelErtebati': 16, 'EstekrajeNaft': 17, 'paper': 17, 'GhandVaShekar': 18, 'CPI': 19, 'Gold': 19, 'Euro': 23, 'Coin': 23, 'SayerMadan': 24, 'HOUSE': 26, 'Brent Oil': 27, 'USD': 31, 'M1': 33, 'M2': 33, 'AbzaralatePezeshki': 45},\n",
       "      dtype=object)"
      ]
     },
     "execution_count": 137,
     "metadata": {},
     "output_type": "execute_result"
    }
   ],
   "source": [
    "b45_3 = dict(nx.degree(crossed_network_ThreeReg_pn_3_98))\n",
    "b45_3 = np.array(dict(sorted(b45_3.items(), key=lambda item: item[1])))\n",
    "b45_3"
   ]
  },
  {
   "cell_type": "code",
   "execution_count": 138,
   "id": "69bab4fa-db87-4e91-b8da-2bb455121aae",
   "metadata": {},
   "outputs": [],
   "source": [
    "nm.get_network_features(crossed_network_ThreeReg_pn_3_98).to_csv('Excels/45_3.csv')"
   ]
  },
  {
   "cell_type": "code",
   "execution_count": 27,
   "id": "e30a71b9-6829-4847-8399-0573059c9b64",
   "metadata": {},
   "outputs": [],
   "source": [
    "# thr21_1 = nm.find_median_pearson_threshold(tehran_df_ThreeReg_pn_1_same_length_98)\n",
    "# thr21_2 = nm.find_median_pearson_threshold(tehran_df_ThreeReg_pn_2_same_length_98)\n",
    "# thr21_3 = nm.find_median_pearson_threshold(tehran_df_ThreeReg_pn_3_same_length_98)\n",
    "\n",
    "# thr21 = min(thr8_1, thr8_2)"
   ]
  },
  {
   "cell_type": "code",
   "execution_count": 28,
   "id": "8c4cc8f7-4e1c-40a8-89be-300d54d2761e",
   "metadata": {},
   "outputs": [],
   "source": [
    "# nm = Net_moduls()\n",
    "# pearson_network_TwoReg_pn_1 = nm.construct_network(tehran_df_TwoReg_pn_1_same_length, method='pearson', threshold=thr8)"
   ]
  },
  {
   "cell_type": "code",
   "execution_count": 29,
   "id": "48653b41-d264-45ed-ab61-8cead1fff7d4",
   "metadata": {},
   "outputs": [],
   "source": [
    "# nm.get_network_features(pearson_network_TwoReg_pn_1)"
   ]
  },
  {
   "cell_type": "code",
   "execution_count": 30,
   "id": "cc800838-0058-43e8-b036-b5d1306f0ee3",
   "metadata": {},
   "outputs": [],
   "source": [
    "# circos = nm.plot_circos_network(pearson_network_TwoReg_pn_1)\n",
    "# circos.draw()"
   ]
  },
  {
   "cell_type": "code",
   "execution_count": 31,
   "id": "549bb763-edcd-4112-875e-ab6d7c83b19c",
   "metadata": {},
   "outputs": [],
   "source": [
    "# pearson_network_TwoReg_pn_2 = nm.construct_network(tehran_df_TwoReg_pn_2_same_length, method='pearson', threshold=thr8)"
   ]
  },
  {
   "cell_type": "code",
   "execution_count": 32,
   "id": "36ae4c11-2a3e-449d-9173-e054dcbef46c",
   "metadata": {},
   "outputs": [],
   "source": [
    "# nm.get_network_features(pearson_network_TwoReg_pn_2)"
   ]
  },
  {
   "cell_type": "code",
   "execution_count": 33,
   "id": "0acfd59d-802b-47ac-b4b3-391df810e0ef",
   "metadata": {},
   "outputs": [],
   "source": [
    "# circos = nm.plot_circos_network(pearson_network_TwoReg_pn_2)\n",
    "# circos.draw()"
   ]
  },
  {
   "cell_type": "markdown",
   "id": "3e773341-75d2-4d32-a0a2-1528de96a2d1",
   "metadata": {},
   "source": [
    "# 47) Tehran 3 pn Regime Crossed (Based on Median Threshold) Period of 90 Far - 98 Dey/ Last 100 Records"
   ]
  },
  {
   "cell_type": "code",
   "execution_count": 108,
   "id": "0d9574b8-df91-4f45-837e-1a9e213c5340",
   "metadata": {},
   "outputs": [],
   "source": [
    "thr47_1 = nm.find_median_crossed_100_threshold(tehran_df_ThreeReg_pn_1_same_length_98[-100:])\n",
    "thr47_2 = nm.find_median_crossed_100_threshold(tehran_df_ThreeReg_pn_2_same_length_98[-100:])\n",
    "thr47_3 = nm.find_median_crossed_100_threshold(tehran_df_ThreeReg_pn_3_same_length_98[-100:])\n",
    "\n",
    "thr47 = min(thr47_1, thr47_2, thr47_3)"
   ]
  },
  {
   "cell_type": "code",
   "execution_count": 109,
   "id": "8ab5ec55-0ef5-48f0-b55a-c2b4f89c497f",
   "metadata": {},
   "outputs": [],
   "source": [
    "crossed_network_ThreeReg_pn_1_98_last100 = nm.construct_network(tehran_df_ThreeReg_pn_1_same_length_98[-100:], method='crossed_100', threshold=thr47)"
   ]
  },
  {
   "cell_type": "code",
   "execution_count": 110,
   "id": "726a2015-b5f4-4084-8d1f-02c62b153911",
   "metadata": {},
   "outputs": [
    {
     "data": {
      "text/html": [
       "<div>\n",
       "<style scoped>\n",
       "    .dataframe tbody tr th:only-of-type {\n",
       "        vertical-align: middle;\n",
       "    }\n",
       "\n",
       "    .dataframe tbody tr th {\n",
       "        vertical-align: top;\n",
       "    }\n",
       "\n",
       "    .dataframe thead th {\n",
       "        text-align: right;\n",
       "    }\n",
       "</style>\n",
       "<table border=\"1\" class=\"dataframe\">\n",
       "  <thead>\n",
       "    <tr style=\"text-align: right;\">\n",
       "      <th></th>\n",
       "      <th>radius</th>\n",
       "      <th>diameter</th>\n",
       "      <th>densities</th>\n",
       "      <th>number_of_edges</th>\n",
       "      <th>average_clustering</th>\n",
       "      <th>avg_degree_centrality</th>\n",
       "      <th>avg_betweenness_centrality</th>\n",
       "      <th>avg_closeness_centrality</th>\n",
       "      <th>average_shortest_path_length</th>\n",
       "    </tr>\n",
       "  </thead>\n",
       "  <tbody>\n",
       "    <tr>\n",
       "      <th>0</th>\n",
       "      <td>1</td>\n",
       "      <td>2</td>\n",
       "      <td>0.258937</td>\n",
       "      <td>268</td>\n",
       "      <td>0.537706</td>\n",
       "      <td>0.258937</td>\n",
       "      <td>0.016842</td>\n",
       "      <td>0.584486</td>\n",
       "      <td>1.741063</td>\n",
       "    </tr>\n",
       "  </tbody>\n",
       "</table>\n",
       "</div>"
      ],
      "text/plain": [
       "   radius  diameter  densities  number_of_edges  average_clustering  \\\n",
       "0       1         2   0.258937              268            0.537706   \n",
       "\n",
       "   avg_degree_centrality  avg_betweenness_centrality  \\\n",
       "0               0.258937                    0.016842   \n",
       "\n",
       "   avg_closeness_centrality  average_shortest_path_length  \n",
       "0                  0.584486                      1.741063  "
      ]
     },
     "execution_count": 110,
     "metadata": {},
     "output_type": "execute_result"
    }
   ],
   "source": [
    "nm.get_network_features(crossed_network_ThreeReg_pn_1_98_last100)"
   ]
  },
  {
   "cell_type": "code",
   "execution_count": 111,
   "id": "daf0c319-dfec-4688-a398-13913e79e8d3",
   "metadata": {},
   "outputs": [
    {
     "data": {
      "text/plain": [
       "array({'GazaeeBejozGhand': 4, 'index': 5, 'KanehayeGeyreFelezi': 5, 'Mali': 5, 'SayerMadan': 5, 'khodrosazi': 6, 'KashiVaSeramik': 6, 'Siman': 6, 'SarmayeGozari': 6, 'Bank': 6, 'MahsolateFelezi': 6, 'Lastic': 6, 'CoalMining': 7, 'MashinAlat': 7, 'Daroee': 7, 'SayerMali': 7, 'Bimeh': 7, 'FaniVaMohandesi': 7, 'Agriculture': 7, 'EstekrajeNaft': 7, 'FelezateAsasi': 7, 'HamlVaNaghl': 7, 'VasayelErtebati': 8, 'KanehayeFelezi': 8, 'GhandVaShekar': 8, 'Shimiyaee': 8, 'Amlakva': 8, 'Rayaneh': 9, 'ChandReshteSanati': 10, 'HOUSE': 11, 'Brent Oil': 12, 'FaravardehayeNafti': 12, 'DastgahayeBargi': 12, 'M2': 13, 'Wood': 13, 'M1': 15, 'paper': 16, 'Gold': 17, 'EntesharVaChap': 18, 'Mansojat': 19, 'CPI': 20, 'GDP': 21, 'Coin': 24, 'USD': 36, 'Euro': 37, 'AbzaralatePezeshki': 45},\n",
       "      dtype=object)"
      ]
     },
     "execution_count": 111,
     "metadata": {},
     "output_type": "execute_result"
    }
   ],
   "source": [
    "b47_1 = dict(nx.degree(crossed_network_ThreeReg_pn_1_98_last100))\n",
    "b47_1 = np.array(dict(sorted(b47_1.items(), key=lambda item: item[1])))\n",
    "b47_1"
   ]
  },
  {
   "cell_type": "code",
   "execution_count": 112,
   "id": "381a4dc0-1436-4608-9dda-000b2a8af917",
   "metadata": {},
   "outputs": [],
   "source": [
    "crossed_network_ThreeReg_pn_2_98_last100 = nm.construct_network(tehran_df_ThreeReg_pn_2_same_length_98[-100:], method='crossed_100', threshold=thr47)"
   ]
  },
  {
   "cell_type": "code",
   "execution_count": 113,
   "id": "9e7694b7-4ec8-4c12-ab7c-81d586b55729",
   "metadata": {},
   "outputs": [
    {
     "data": {
      "text/html": [
       "<div>\n",
       "<style scoped>\n",
       "    .dataframe tbody tr th:only-of-type {\n",
       "        vertical-align: middle;\n",
       "    }\n",
       "\n",
       "    .dataframe tbody tr th {\n",
       "        vertical-align: top;\n",
       "    }\n",
       "\n",
       "    .dataframe thead th {\n",
       "        text-align: right;\n",
       "    }\n",
       "</style>\n",
       "<table border=\"1\" class=\"dataframe\">\n",
       "  <thead>\n",
       "    <tr style=\"text-align: right;\">\n",
       "      <th></th>\n",
       "      <th>radius</th>\n",
       "      <th>diameter</th>\n",
       "      <th>densities</th>\n",
       "      <th>number_of_edges</th>\n",
       "      <th>average_clustering</th>\n",
       "      <th>avg_degree_centrality</th>\n",
       "      <th>avg_betweenness_centrality</th>\n",
       "      <th>avg_closeness_centrality</th>\n",
       "      <th>average_shortest_path_length</th>\n",
       "    </tr>\n",
       "  </thead>\n",
       "  <tbody>\n",
       "    <tr>\n",
       "      <th>0</th>\n",
       "      <td>2</td>\n",
       "      <td>3</td>\n",
       "      <td>0.33913</td>\n",
       "      <td>351</td>\n",
       "      <td>0.370932</td>\n",
       "      <td>0.33913</td>\n",
       "      <td>0.015042</td>\n",
       "      <td>0.604908</td>\n",
       "      <td>1.661836</td>\n",
       "    </tr>\n",
       "  </tbody>\n",
       "</table>\n",
       "</div>"
      ],
      "text/plain": [
       "   radius  diameter  densities  number_of_edges  average_clustering  \\\n",
       "0       2         3    0.33913              351            0.370932   \n",
       "\n",
       "   avg_degree_centrality  avg_betweenness_centrality  \\\n",
       "0                0.33913                    0.015042   \n",
       "\n",
       "   avg_closeness_centrality  average_shortest_path_length  \n",
       "0                  0.604908                      1.661836  "
      ]
     },
     "execution_count": 113,
     "metadata": {},
     "output_type": "execute_result"
    }
   ],
   "source": [
    "nm.get_network_features(crossed_network_ThreeReg_pn_2_98_last100)"
   ]
  },
  {
   "cell_type": "code",
   "execution_count": 114,
   "id": "f0cdbc03-10d9-4901-8627-33208d1841b2",
   "metadata": {},
   "outputs": [
    {
     "data": {
      "text/plain": [
       "array({'index': 7, 'MashinAlat': 7, 'Bank': 7, 'Mali': 8, 'khodrosazi': 8, 'DastgahayeBargi': 9, 'SayerMali': 9, 'SarmayeGozari': 10, 'Amlakva': 10, 'Wood': 10, 'Gold': 11, 'CoalMining': 12, 'HOUSE': 12, 'FelezateAsasi': 13, 'Daroee': 13, 'Bimeh': 13, 'MahsolateFelezi': 13, 'FaravardehayeNafti': 14, 'ChandReshteSanati': 14, 'Siman': 14, 'HamlVaNaghl': 14, 'KanehayeGeyreFelezi': 14, 'EstekrajeNaft': 15, 'Shimiyaee': 15, 'KanehayeFelezi': 15, 'GazaeeBejozGhand': 15, 'Agriculture': 15, 'Coin': 16, 'FaniVaMohandesi': 16, 'Mansojat': 17, 'SayerMadan': 18, 'paper': 18, 'EntesharVaChap': 18, 'Euro': 18, 'Rayaneh': 19, 'VasayelErtebati': 19, 'KashiVaSeramik': 19, 'Brent Oil': 20, 'M2': 20, 'USD': 20, 'CPI': 20, 'AbzaralatePezeshki': 22, 'GDP': 23, 'M1': 26, 'GhandVaShekar': 26, 'Lastic': 30},\n",
       "      dtype=object)"
      ]
     },
     "execution_count": 114,
     "metadata": {},
     "output_type": "execute_result"
    }
   ],
   "source": [
    "b47_2 = dict(nx.degree(crossed_network_ThreeReg_pn_2_98_last100))\n",
    "b47_2 = np.array(dict(sorted(b47_2.items(), key=lambda item: item[1])))\n",
    "b47_2"
   ]
  },
  {
   "cell_type": "code",
   "execution_count": 115,
   "id": "409e0dc3-ad1e-43b8-afa6-5989e1d3f499",
   "metadata": {},
   "outputs": [],
   "source": [
    "crossed_network_ThreeReg_pn_3_98_last100 = nm.construct_network(tehran_df_ThreeReg_pn_3_same_length_98[-100:], method='crossed_100', threshold=thr47)"
   ]
  },
  {
   "cell_type": "code",
   "execution_count": 116,
   "id": "f46d1dc2-a1b7-4fa1-b88d-fc0975317837",
   "metadata": {},
   "outputs": [
    {
     "data": {
      "text/html": [
       "<div>\n",
       "<style scoped>\n",
       "    .dataframe tbody tr th:only-of-type {\n",
       "        vertical-align: middle;\n",
       "    }\n",
       "\n",
       "    .dataframe tbody tr th {\n",
       "        vertical-align: top;\n",
       "    }\n",
       "\n",
       "    .dataframe thead th {\n",
       "        text-align: right;\n",
       "    }\n",
       "</style>\n",
       "<table border=\"1\" class=\"dataframe\">\n",
       "  <thead>\n",
       "    <tr style=\"text-align: right;\">\n",
       "      <th></th>\n",
       "      <th>radius</th>\n",
       "      <th>diameter</th>\n",
       "      <th>densities</th>\n",
       "      <th>number_of_edges</th>\n",
       "      <th>average_clustering</th>\n",
       "      <th>avg_degree_centrality</th>\n",
       "      <th>avg_betweenness_centrality</th>\n",
       "      <th>avg_closeness_centrality</th>\n",
       "      <th>average_shortest_path_length</th>\n",
       "    </tr>\n",
       "  </thead>\n",
       "  <tbody>\n",
       "    <tr>\n",
       "      <th>0</th>\n",
       "      <td>1</td>\n",
       "      <td>2</td>\n",
       "      <td>0.325604</td>\n",
       "      <td>337</td>\n",
       "      <td>0.499875</td>\n",
       "      <td>0.325604</td>\n",
       "      <td>0.015327</td>\n",
       "      <td>0.607324</td>\n",
       "      <td>1.674396</td>\n",
       "    </tr>\n",
       "  </tbody>\n",
       "</table>\n",
       "</div>"
      ],
      "text/plain": [
       "   radius  diameter  densities  number_of_edges  average_clustering  \\\n",
       "0       1         2   0.325604              337            0.499875   \n",
       "\n",
       "   avg_degree_centrality  avg_betweenness_centrality  \\\n",
       "0               0.325604                    0.015327   \n",
       "\n",
       "   avg_closeness_centrality  average_shortest_path_length  \n",
       "0                  0.607324                      1.674396  "
      ]
     },
     "execution_count": 116,
     "metadata": {},
     "output_type": "execute_result"
    }
   ],
   "source": [
    "nm.get_network_features(crossed_network_ThreeReg_pn_3_98_last100)"
   ]
  },
  {
   "cell_type": "code",
   "execution_count": 117,
   "id": "533a01a9-793e-463b-9745-76ca5bcd384d",
   "metadata": {},
   "outputs": [
    {
     "data": {
      "text/plain": [
       "array({'KanehayeGeyreFelezi': 7, 'MashinAlat': 7, 'SarmayeGozari': 7, 'MahsolateFelezi': 8, 'Lastic': 8, 'Daroee': 8, 'Siman': 8, 'Amlakva': 8, 'Mali': 8, 'khodrosazi': 8, 'index': 9, 'CPI': 9, 'SayerMali': 9, 'HamlVaNaghl': 9, 'KanehayeFelezi': 9, 'GazaeeBejozGhand': 9, 'KashiVaSeramik': 10, 'Bimeh': 10, 'Wood': 10, 'DastgahayeBargi': 11, 'Shimiyaee': 11, 'Bank': 11, 'Rayaneh': 11, 'FaniVaMohandesi': 12, 'Gold': 12, 'Agriculture': 12, 'GDP': 12, 'CoalMining': 14, 'ChandReshteSanati': 14, 'paper': 15, 'EntesharVaChap': 15, 'GhandVaShekar': 15, 'Mansojat': 15, 'FelezateAsasi': 15, 'FaravardehayeNafti': 16, 'EstekrajeNaft': 16, 'VasayelErtebati': 18, 'HOUSE': 18, 'SayerMadan': 22, 'Coin': 25, 'Brent Oil': 28, 'USD': 31, 'M2': 32, 'Euro': 33, 'M1': 34, 'AbzaralatePezeshki': 45},\n",
       "      dtype=object)"
      ]
     },
     "execution_count": 117,
     "metadata": {},
     "output_type": "execute_result"
    }
   ],
   "source": [
    "b47_3 = dict(nx.degree(crossed_network_ThreeReg_pn_3_98_last100))\n",
    "b47_3 = np.array(dict(sorted(b47_3.items(), key=lambda item: item[1])))\n",
    "b47_3"
   ]
  },
  {
   "cell_type": "markdown",
   "id": "2299759c-4c5f-4906-aba0-4760d366a142",
   "metadata": {},
   "source": [
    "# 48) Tehran 3 pn Regime Crossed (Based on Median Threshold) Period of 90 Far - 98 Dey/ 50 windows of 100 Records"
   ]
  },
  {
   "cell_type": "code",
   "execution_count": 212,
   "id": "a6756a26-601f-4dc9-a8fa-f32eeb34ee6c",
   "metadata": {
    "tags": []
   },
   "outputs": [
    {
     "name": "stdout",
     "output_type": "stream",
     "text": [
      "Number of columns data in our DataFrame is = 46\n",
      "fixed_thr= 0.6\n"
     ]
    }
   ],
   "source": [
    "nm = Net_moduls()\n",
    "crossed_network_ThreeReg_pn_1_98_averged = nm.get_network_features_averaged_median(tehran_df, regimes_column = tehran_df_reg['3_PN'],method='crossed_100',edges_threshold=200, target_window=100, target_length=50)"
   ]
  },
  {
   "cell_type": "code",
   "execution_count": 213,
   "id": "cf8228ac-629d-46e2-ae08-937beb416ef6",
   "metadata": {},
   "outputs": [
    {
     "data": {
      "text/html": [
       "<div>\n",
       "<style scoped>\n",
       "    .dataframe tbody tr th:only-of-type {\n",
       "        vertical-align: middle;\n",
       "    }\n",
       "\n",
       "    .dataframe tbody tr th {\n",
       "        vertical-align: top;\n",
       "    }\n",
       "\n",
       "    .dataframe thead th {\n",
       "        text-align: right;\n",
       "    }\n",
       "</style>\n",
       "<table border=\"1\" class=\"dataframe\">\n",
       "  <thead>\n",
       "    <tr style=\"text-align: right;\">\n",
       "      <th></th>\n",
       "      <th>radius</th>\n",
       "      <th>diameter</th>\n",
       "      <th>densities</th>\n",
       "      <th>number_of_edges</th>\n",
       "      <th>average_clustering</th>\n",
       "      <th>avg_degree_centrality</th>\n",
       "      <th>avg_betweenness_centrality</th>\n",
       "      <th>avg_closeness_centrality</th>\n",
       "      <th>average_shortest_path_length</th>\n",
       "    </tr>\n",
       "  </thead>\n",
       "  <tbody>\n",
       "    <tr>\n",
       "      <th>Means</th>\n",
       "      <td>2.0</td>\n",
       "      <td>3.200000</td>\n",
       "      <td>0.230185</td>\n",
       "      <td>237.880000</td>\n",
       "      <td>0.448069</td>\n",
       "      <td>0.230185</td>\n",
       "      <td>0.018895</td>\n",
       "      <td>0.554541</td>\n",
       "      <td>1.830568</td>\n",
       "    </tr>\n",
       "    <tr>\n",
       "      <th>STDs</th>\n",
       "      <td>0.0</td>\n",
       "      <td>0.404061</td>\n",
       "      <td>0.021822</td>\n",
       "      <td>23.136366</td>\n",
       "      <td>0.048969</td>\n",
       "      <td>0.021822</td>\n",
       "      <td>0.001251</td>\n",
       "      <td>0.015584</td>\n",
       "      <td>0.054004</td>\n",
       "    </tr>\n",
       "    <tr>\n",
       "      <th>Means</th>\n",
       "      <td>2.0</td>\n",
       "      <td>2.660000</td>\n",
       "      <td>0.371130</td>\n",
       "      <td>384.120000</td>\n",
       "      <td>0.381000</td>\n",
       "      <td>0.371130</td>\n",
       "      <td>0.014332</td>\n",
       "      <td>0.616886</td>\n",
       "      <td>1.630609</td>\n",
       "    </tr>\n",
       "    <tr>\n",
       "      <th>STDs</th>\n",
       "      <td>0.0</td>\n",
       "      <td>0.478518</td>\n",
       "      <td>0.014027</td>\n",
       "      <td>14.517604</td>\n",
       "      <td>0.018574</td>\n",
       "      <td>0.014027</td>\n",
       "      <td>0.000337</td>\n",
       "      <td>0.005573</td>\n",
       "      <td>0.014809</td>\n",
       "    </tr>\n",
       "    <tr>\n",
       "      <th>Means</th>\n",
       "      <td>2.0</td>\n",
       "      <td>2.980000</td>\n",
       "      <td>0.306473</td>\n",
       "      <td>317.200000</td>\n",
       "      <td>0.382731</td>\n",
       "      <td>0.306473</td>\n",
       "      <td>0.015989</td>\n",
       "      <td>0.592597</td>\n",
       "      <td>1.703536</td>\n",
       "    </tr>\n",
       "    <tr>\n",
       "      <th>STDs</th>\n",
       "      <td>0.0</td>\n",
       "      <td>0.141421</td>\n",
       "      <td>0.029230</td>\n",
       "      <td>30.252677</td>\n",
       "      <td>0.036493</td>\n",
       "      <td>0.029230</td>\n",
       "      <td>0.000860</td>\n",
       "      <td>0.013181</td>\n",
       "      <td>0.037826</td>\n",
       "    </tr>\n",
       "  </tbody>\n",
       "</table>\n",
       "</div>"
      ],
      "text/plain": [
       "       radius  diameter  densities  number_of_edges  average_clustering  \\\n",
       "Means     2.0  3.200000   0.230185       237.880000            0.448069   \n",
       "STDs      0.0  0.404061   0.021822        23.136366            0.048969   \n",
       "Means     2.0  2.660000   0.371130       384.120000            0.381000   \n",
       "STDs      0.0  0.478518   0.014027        14.517604            0.018574   \n",
       "Means     2.0  2.980000   0.306473       317.200000            0.382731   \n",
       "STDs      0.0  0.141421   0.029230        30.252677            0.036493   \n",
       "\n",
       "       avg_degree_centrality  avg_betweenness_centrality  \\\n",
       "Means               0.230185                    0.018895   \n",
       "STDs                0.021822                    0.001251   \n",
       "Means               0.371130                    0.014332   \n",
       "STDs                0.014027                    0.000337   \n",
       "Means               0.306473                    0.015989   \n",
       "STDs                0.029230                    0.000860   \n",
       "\n",
       "       avg_closeness_centrality  average_shortest_path_length  \n",
       "Means                  0.554541                      1.830568  \n",
       "STDs                   0.015584                      0.054004  \n",
       "Means                  0.616886                      1.630609  \n",
       "STDs                   0.005573                      0.014809  \n",
       "Means                  0.592597                      1.703536  \n",
       "STDs                   0.013181                      0.037826  "
      ]
     },
     "execution_count": 213,
     "metadata": {},
     "output_type": "execute_result"
    }
   ],
   "source": [
    "crossed_network_ThreeReg_pn_1_98_averged"
   ]
  },
  {
   "cell_type": "markdown",
   "id": "544ab50a-9275-40d5-b448-40efa049401a",
   "metadata": {},
   "source": [
    "# 49) Tehran 3 pn Regime Crossed (Based on Median Threshold) Period of 90 Far - 00 Far/ 50 windows of 100 Records"
   ]
  },
  {
   "cell_type": "code",
   "execution_count": 43,
   "id": "c0111664-3bd6-4527-9401-4cf32eb80440",
   "metadata": {
    "collapsed": true,
    "jupyter": {
     "outputs_hidden": true
    },
    "tags": []
   },
   "outputs": [
    {
     "name": "stdout",
     "output_type": "stream",
     "text": [
      "Number of columns data in our DataFrame is = 49\n"
     ]
    },
    {
     "name": "stderr",
     "output_type": "stream",
     "text": [
      "/Users/hossein4527/MEGA/MEGAsync/Commit/Neda_PhD/neda_sep2023/Time_Series_Trend_Forcasting/Codes/ned.py:416: FutureWarning: The default value of numeric_only in DataFrame.corr is deprecated. In a future version, it will default to False. Select only valid columns or specify the value of numeric_only to silence this warning.\n",
      "  df_corr = df.corr(method ='pearson')\n",
      "/Users/hossein4527/MEGA/MEGAsync/Commit/Neda_PhD/neda_sep2023/Time_Series_Trend_Forcasting/Codes/ned.py:502: FutureWarning: The default value of numeric_only in DataFrame.corr is deprecated. In a future version, it will default to False. Select only valid columns or specify the value of numeric_only to silence this warning.\n",
      "  df_corr = df.corr(method ='pearson')\n",
      "/Users/hossein4527/MEGA/MEGAsync/Commit/Neda_PhD/neda_sep2023/Time_Series_Trend_Forcasting/Codes/ned.py:502: FutureWarning: The default value of numeric_only in DataFrame.corr is deprecated. In a future version, it will default to False. Select only valid columns or specify the value of numeric_only to silence this warning.\n",
      "  df_corr = df.corr(method ='pearson')\n",
      "/Users/hossein4527/MEGA/MEGAsync/Commit/Neda_PhD/neda_sep2023/Time_Series_Trend_Forcasting/Codes/ned.py:502: FutureWarning: The default value of numeric_only in DataFrame.corr is deprecated. In a future version, it will default to False. Select only valid columns or specify the value of numeric_only to silence this warning.\n",
      "  df_corr = df.corr(method ='pearson')\n",
      "/Users/hossein4527/MEGA/MEGAsync/Commit/Neda_PhD/neda_sep2023/Time_Series_Trend_Forcasting/Codes/ned.py:502: FutureWarning: The default value of numeric_only in DataFrame.corr is deprecated. In a future version, it will default to False. Select only valid columns or specify the value of numeric_only to silence this warning.\n",
      "  df_corr = df.corr(method ='pearson')\n",
      "/Users/hossein4527/MEGA/MEGAsync/Commit/Neda_PhD/neda_sep2023/Time_Series_Trend_Forcasting/Codes/ned.py:502: FutureWarning: The default value of numeric_only in DataFrame.corr is deprecated. In a future version, it will default to False. Select only valid columns or specify the value of numeric_only to silence this warning.\n",
      "  df_corr = df.corr(method ='pearson')\n",
      "/Users/hossein4527/MEGA/MEGAsync/Commit/Neda_PhD/neda_sep2023/Time_Series_Trend_Forcasting/Codes/ned.py:502: FutureWarning: The default value of numeric_only in DataFrame.corr is deprecated. In a future version, it will default to False. Select only valid columns or specify the value of numeric_only to silence this warning.\n",
      "  df_corr = df.corr(method ='pearson')\n",
      "/Users/hossein4527/MEGA/MEGAsync/Commit/Neda_PhD/neda_sep2023/Time_Series_Trend_Forcasting/Codes/ned.py:502: FutureWarning: The default value of numeric_only in DataFrame.corr is deprecated. In a future version, it will default to False. Select only valid columns or specify the value of numeric_only to silence this warning.\n",
      "  df_corr = df.corr(method ='pearson')\n",
      "/Users/hossein4527/MEGA/MEGAsync/Commit/Neda_PhD/neda_sep2023/Time_Series_Trend_Forcasting/Codes/ned.py:502: FutureWarning: The default value of numeric_only in DataFrame.corr is deprecated. In a future version, it will default to False. Select only valid columns or specify the value of numeric_only to silence this warning.\n",
      "  df_corr = df.corr(method ='pearson')\n",
      "/Users/hossein4527/MEGA/MEGAsync/Commit/Neda_PhD/neda_sep2023/Time_Series_Trend_Forcasting/Codes/ned.py:502: FutureWarning: The default value of numeric_only in DataFrame.corr is deprecated. In a future version, it will default to False. Select only valid columns or specify the value of numeric_only to silence this warning.\n",
      "  df_corr = df.corr(method ='pearson')\n",
      "/Users/hossein4527/MEGA/MEGAsync/Commit/Neda_PhD/neda_sep2023/Time_Series_Trend_Forcasting/Codes/ned.py:502: FutureWarning: The default value of numeric_only in DataFrame.corr is deprecated. In a future version, it will default to False. Select only valid columns or specify the value of numeric_only to silence this warning.\n",
      "  df_corr = df.corr(method ='pearson')\n",
      "/Users/hossein4527/MEGA/MEGAsync/Commit/Neda_PhD/neda_sep2023/Time_Series_Trend_Forcasting/Codes/ned.py:502: FutureWarning: The default value of numeric_only in DataFrame.corr is deprecated. In a future version, it will default to False. Select only valid columns or specify the value of numeric_only to silence this warning.\n",
      "  df_corr = df.corr(method ='pearson')\n",
      "/Users/hossein4527/MEGA/MEGAsync/Commit/Neda_PhD/neda_sep2023/Time_Series_Trend_Forcasting/Codes/ned.py:502: FutureWarning: The default value of numeric_only in DataFrame.corr is deprecated. In a future version, it will default to False. Select only valid columns or specify the value of numeric_only to silence this warning.\n",
      "  df_corr = df.corr(method ='pearson')\n",
      "/Users/hossein4527/MEGA/MEGAsync/Commit/Neda_PhD/neda_sep2023/Time_Series_Trend_Forcasting/Codes/ned.py:502: FutureWarning: The default value of numeric_only in DataFrame.corr is deprecated. In a future version, it will default to False. Select only valid columns or specify the value of numeric_only to silence this warning.\n",
      "  df_corr = df.corr(method ='pearson')\n",
      "/Users/hossein4527/MEGA/MEGAsync/Commit/Neda_PhD/neda_sep2023/Time_Series_Trend_Forcasting/Codes/ned.py:502: FutureWarning: The default value of numeric_only in DataFrame.corr is deprecated. In a future version, it will default to False. Select only valid columns or specify the value of numeric_only to silence this warning.\n",
      "  df_corr = df.corr(method ='pearson')\n",
      "/Users/hossein4527/MEGA/MEGAsync/Commit/Neda_PhD/neda_sep2023/Time_Series_Trend_Forcasting/Codes/ned.py:502: FutureWarning: The default value of numeric_only in DataFrame.corr is deprecated. In a future version, it will default to False. Select only valid columns or specify the value of numeric_only to silence this warning.\n",
      "  df_corr = df.corr(method ='pearson')\n",
      "/Users/hossein4527/MEGA/MEGAsync/Commit/Neda_PhD/neda_sep2023/Time_Series_Trend_Forcasting/Codes/ned.py:502: FutureWarning: The default value of numeric_only in DataFrame.corr is deprecated. In a future version, it will default to False. Select only valid columns or specify the value of numeric_only to silence this warning.\n",
      "  df_corr = df.corr(method ='pearson')\n",
      "/Users/hossein4527/MEGA/MEGAsync/Commit/Neda_PhD/neda_sep2023/Time_Series_Trend_Forcasting/Codes/ned.py:502: FutureWarning: The default value of numeric_only in DataFrame.corr is deprecated. In a future version, it will default to False. Select only valid columns or specify the value of numeric_only to silence this warning.\n",
      "  df_corr = df.corr(method ='pearson')\n",
      "/Users/hossein4527/MEGA/MEGAsync/Commit/Neda_PhD/neda_sep2023/Time_Series_Trend_Forcasting/Codes/ned.py:502: FutureWarning: The default value of numeric_only in DataFrame.corr is deprecated. In a future version, it will default to False. Select only valid columns or specify the value of numeric_only to silence this warning.\n",
      "  df_corr = df.corr(method ='pearson')\n",
      "/Users/hossein4527/MEGA/MEGAsync/Commit/Neda_PhD/neda_sep2023/Time_Series_Trend_Forcasting/Codes/ned.py:502: FutureWarning: The default value of numeric_only in DataFrame.corr is deprecated. In a future version, it will default to False. Select only valid columns or specify the value of numeric_only to silence this warning.\n",
      "  df_corr = df.corr(method ='pearson')\n",
      "/Users/hossein4527/MEGA/MEGAsync/Commit/Neda_PhD/neda_sep2023/Time_Series_Trend_Forcasting/Codes/ned.py:502: FutureWarning: The default value of numeric_only in DataFrame.corr is deprecated. In a future version, it will default to False. Select only valid columns or specify the value of numeric_only to silence this warning.\n",
      "  df_corr = df.corr(method ='pearson')\n",
      "/Users/hossein4527/MEGA/MEGAsync/Commit/Neda_PhD/neda_sep2023/Time_Series_Trend_Forcasting/Codes/ned.py:502: FutureWarning: The default value of numeric_only in DataFrame.corr is deprecated. In a future version, it will default to False. Select only valid columns or specify the value of numeric_only to silence this warning.\n",
      "  df_corr = df.corr(method ='pearson')\n",
      "/Users/hossein4527/MEGA/MEGAsync/Commit/Neda_PhD/neda_sep2023/Time_Series_Trend_Forcasting/Codes/ned.py:502: FutureWarning: The default value of numeric_only in DataFrame.corr is deprecated. In a future version, it will default to False. Select only valid columns or specify the value of numeric_only to silence this warning.\n",
      "  df_corr = df.corr(method ='pearson')\n",
      "/Users/hossein4527/MEGA/MEGAsync/Commit/Neda_PhD/neda_sep2023/Time_Series_Trend_Forcasting/Codes/ned.py:502: FutureWarning: The default value of numeric_only in DataFrame.corr is deprecated. In a future version, it will default to False. Select only valid columns or specify the value of numeric_only to silence this warning.\n",
      "  df_corr = df.corr(method ='pearson')\n",
      "/Users/hossein4527/MEGA/MEGAsync/Commit/Neda_PhD/neda_sep2023/Time_Series_Trend_Forcasting/Codes/ned.py:502: FutureWarning: The default value of numeric_only in DataFrame.corr is deprecated. In a future version, it will default to False. Select only valid columns or specify the value of numeric_only to silence this warning.\n",
      "  df_corr = df.corr(method ='pearson')\n",
      "/Users/hossein4527/MEGA/MEGAsync/Commit/Neda_PhD/neda_sep2023/Time_Series_Trend_Forcasting/Codes/ned.py:502: FutureWarning: The default value of numeric_only in DataFrame.corr is deprecated. In a future version, it will default to False. Select only valid columns or specify the value of numeric_only to silence this warning.\n",
      "  df_corr = df.corr(method ='pearson')\n",
      "/Users/hossein4527/MEGA/MEGAsync/Commit/Neda_PhD/neda_sep2023/Time_Series_Trend_Forcasting/Codes/ned.py:502: FutureWarning: The default value of numeric_only in DataFrame.corr is deprecated. In a future version, it will default to False. Select only valid columns or specify the value of numeric_only to silence this warning.\n",
      "  df_corr = df.corr(method ='pearson')\n",
      "/Users/hossein4527/MEGA/MEGAsync/Commit/Neda_PhD/neda_sep2023/Time_Series_Trend_Forcasting/Codes/ned.py:502: FutureWarning: The default value of numeric_only in DataFrame.corr is deprecated. In a future version, it will default to False. Select only valid columns or specify the value of numeric_only to silence this warning.\n",
      "  df_corr = df.corr(method ='pearson')\n",
      "/Users/hossein4527/MEGA/MEGAsync/Commit/Neda_PhD/neda_sep2023/Time_Series_Trend_Forcasting/Codes/ned.py:502: FutureWarning: The default value of numeric_only in DataFrame.corr is deprecated. In a future version, it will default to False. Select only valid columns or specify the value of numeric_only to silence this warning.\n",
      "  df_corr = df.corr(method ='pearson')\n",
      "/Users/hossein4527/MEGA/MEGAsync/Commit/Neda_PhD/neda_sep2023/Time_Series_Trend_Forcasting/Codes/ned.py:502: FutureWarning: The default value of numeric_only in DataFrame.corr is deprecated. In a future version, it will default to False. Select only valid columns or specify the value of numeric_only to silence this warning.\n",
      "  df_corr = df.corr(method ='pearson')\n",
      "/Users/hossein4527/MEGA/MEGAsync/Commit/Neda_PhD/neda_sep2023/Time_Series_Trend_Forcasting/Codes/ned.py:502: FutureWarning: The default value of numeric_only in DataFrame.corr is deprecated. In a future version, it will default to False. Select only valid columns or specify the value of numeric_only to silence this warning.\n",
      "  df_corr = df.corr(method ='pearson')\n",
      "/Users/hossein4527/MEGA/MEGAsync/Commit/Neda_PhD/neda_sep2023/Time_Series_Trend_Forcasting/Codes/ned.py:502: FutureWarning: The default value of numeric_only in DataFrame.corr is deprecated. In a future version, it will default to False. Select only valid columns or specify the value of numeric_only to silence this warning.\n",
      "  df_corr = df.corr(method ='pearson')\n",
      "/Users/hossein4527/MEGA/MEGAsync/Commit/Neda_PhD/neda_sep2023/Time_Series_Trend_Forcasting/Codes/ned.py:502: FutureWarning: The default value of numeric_only in DataFrame.corr is deprecated. In a future version, it will default to False. Select only valid columns or specify the value of numeric_only to silence this warning.\n",
      "  df_corr = df.corr(method ='pearson')\n",
      "/Users/hossein4527/MEGA/MEGAsync/Commit/Neda_PhD/neda_sep2023/Time_Series_Trend_Forcasting/Codes/ned.py:502: FutureWarning: The default value of numeric_only in DataFrame.corr is deprecated. In a future version, it will default to False. Select only valid columns or specify the value of numeric_only to silence this warning.\n",
      "  df_corr = df.corr(method ='pearson')\n",
      "/Users/hossein4527/MEGA/MEGAsync/Commit/Neda_PhD/neda_sep2023/Time_Series_Trend_Forcasting/Codes/ned.py:502: FutureWarning: The default value of numeric_only in DataFrame.corr is deprecated. In a future version, it will default to False. Select only valid columns or specify the value of numeric_only to silence this warning.\n",
      "  df_corr = df.corr(method ='pearson')\n",
      "/Users/hossein4527/MEGA/MEGAsync/Commit/Neda_PhD/neda_sep2023/Time_Series_Trend_Forcasting/Codes/ned.py:502: FutureWarning: The default value of numeric_only in DataFrame.corr is deprecated. In a future version, it will default to False. Select only valid columns or specify the value of numeric_only to silence this warning.\n",
      "  df_corr = df.corr(method ='pearson')\n",
      "/Users/hossein4527/MEGA/MEGAsync/Commit/Neda_PhD/neda_sep2023/Time_Series_Trend_Forcasting/Codes/ned.py:502: FutureWarning: The default value of numeric_only in DataFrame.corr is deprecated. In a future version, it will default to False. Select only valid columns or specify the value of numeric_only to silence this warning.\n",
      "  df_corr = df.corr(method ='pearson')\n",
      "/Users/hossein4527/MEGA/MEGAsync/Commit/Neda_PhD/neda_sep2023/Time_Series_Trend_Forcasting/Codes/ned.py:502: FutureWarning: The default value of numeric_only in DataFrame.corr is deprecated. In a future version, it will default to False. Select only valid columns or specify the value of numeric_only to silence this warning.\n",
      "  df_corr = df.corr(method ='pearson')\n",
      "/Users/hossein4527/MEGA/MEGAsync/Commit/Neda_PhD/neda_sep2023/Time_Series_Trend_Forcasting/Codes/ned.py:502: FutureWarning: The default value of numeric_only in DataFrame.corr is deprecated. In a future version, it will default to False. Select only valid columns or specify the value of numeric_only to silence this warning.\n",
      "  df_corr = df.corr(method ='pearson')\n",
      "/Users/hossein4527/MEGA/MEGAsync/Commit/Neda_PhD/neda_sep2023/Time_Series_Trend_Forcasting/Codes/ned.py:502: FutureWarning: The default value of numeric_only in DataFrame.corr is deprecated. In a future version, it will default to False. Select only valid columns or specify the value of numeric_only to silence this warning.\n",
      "  df_corr = df.corr(method ='pearson')\n",
      "/Users/hossein4527/MEGA/MEGAsync/Commit/Neda_PhD/neda_sep2023/Time_Series_Trend_Forcasting/Codes/ned.py:502: FutureWarning: The default value of numeric_only in DataFrame.corr is deprecated. In a future version, it will default to False. Select only valid columns or specify the value of numeric_only to silence this warning.\n",
      "  df_corr = df.corr(method ='pearson')\n",
      "/Users/hossein4527/MEGA/MEGAsync/Commit/Neda_PhD/neda_sep2023/Time_Series_Trend_Forcasting/Codes/ned.py:502: FutureWarning: The default value of numeric_only in DataFrame.corr is deprecated. In a future version, it will default to False. Select only valid columns or specify the value of numeric_only to silence this warning.\n",
      "  df_corr = df.corr(method ='pearson')\n",
      "/Users/hossein4527/MEGA/MEGAsync/Commit/Neda_PhD/neda_sep2023/Time_Series_Trend_Forcasting/Codes/ned.py:502: FutureWarning: The default value of numeric_only in DataFrame.corr is deprecated. In a future version, it will default to False. Select only valid columns or specify the value of numeric_only to silence this warning.\n",
      "  df_corr = df.corr(method ='pearson')\n",
      "/Users/hossein4527/MEGA/MEGAsync/Commit/Neda_PhD/neda_sep2023/Time_Series_Trend_Forcasting/Codes/ned.py:502: FutureWarning: The default value of numeric_only in DataFrame.corr is deprecated. In a future version, it will default to False. Select only valid columns or specify the value of numeric_only to silence this warning.\n",
      "  df_corr = df.corr(method ='pearson')\n",
      "/Users/hossein4527/MEGA/MEGAsync/Commit/Neda_PhD/neda_sep2023/Time_Series_Trend_Forcasting/Codes/ned.py:502: FutureWarning: The default value of numeric_only in DataFrame.corr is deprecated. In a future version, it will default to False. Select only valid columns or specify the value of numeric_only to silence this warning.\n",
      "  df_corr = df.corr(method ='pearson')\n",
      "/Users/hossein4527/MEGA/MEGAsync/Commit/Neda_PhD/neda_sep2023/Time_Series_Trend_Forcasting/Codes/ned.py:502: FutureWarning: The default value of numeric_only in DataFrame.corr is deprecated. In a future version, it will default to False. Select only valid columns or specify the value of numeric_only to silence this warning.\n",
      "  df_corr = df.corr(method ='pearson')\n",
      "/Users/hossein4527/MEGA/MEGAsync/Commit/Neda_PhD/neda_sep2023/Time_Series_Trend_Forcasting/Codes/ned.py:502: FutureWarning: The default value of numeric_only in DataFrame.corr is deprecated. In a future version, it will default to False. Select only valid columns or specify the value of numeric_only to silence this warning.\n",
      "  df_corr = df.corr(method ='pearson')\n",
      "/Users/hossein4527/MEGA/MEGAsync/Commit/Neda_PhD/neda_sep2023/Time_Series_Trend_Forcasting/Codes/ned.py:502: FutureWarning: The default value of numeric_only in DataFrame.corr is deprecated. In a future version, it will default to False. Select only valid columns or specify the value of numeric_only to silence this warning.\n",
      "  df_corr = df.corr(method ='pearson')\n",
      "/Users/hossein4527/MEGA/MEGAsync/Commit/Neda_PhD/neda_sep2023/Time_Series_Trend_Forcasting/Codes/ned.py:502: FutureWarning: The default value of numeric_only in DataFrame.corr is deprecated. In a future version, it will default to False. Select only valid columns or specify the value of numeric_only to silence this warning.\n",
      "  df_corr = df.corr(method ='pearson')\n",
      "/Users/hossein4527/MEGA/MEGAsync/Commit/Neda_PhD/neda_sep2023/Time_Series_Trend_Forcasting/Codes/ned.py:502: FutureWarning: The default value of numeric_only in DataFrame.corr is deprecated. In a future version, it will default to False. Select only valid columns or specify the value of numeric_only to silence this warning.\n",
      "  df_corr = df.corr(method ='pearson')\n",
      "/Users/hossein4527/MEGA/MEGAsync/Commit/Neda_PhD/neda_sep2023/Time_Series_Trend_Forcasting/Codes/ned.py:502: FutureWarning: The default value of numeric_only in DataFrame.corr is deprecated. In a future version, it will default to False. Select only valid columns or specify the value of numeric_only to silence this warning.\n",
      "  df_corr = df.corr(method ='pearson')\n",
      "/Users/hossein4527/MEGA/MEGAsync/Commit/Neda_PhD/neda_sep2023/Time_Series_Trend_Forcasting/Codes/ned.py:502: FutureWarning: The default value of numeric_only in DataFrame.corr is deprecated. In a future version, it will default to False. Select only valid columns or specify the value of numeric_only to silence this warning.\n",
      "  df_corr = df.corr(method ='pearson')\n",
      "/Users/hossein4527/MEGA/MEGAsync/Commit/Neda_PhD/neda_sep2023/Time_Series_Trend_Forcasting/Codes/ned.py:502: FutureWarning: The default value of numeric_only in DataFrame.corr is deprecated. In a future version, it will default to False. Select only valid columns or specify the value of numeric_only to silence this warning.\n",
      "  df_corr = df.corr(method ='pearson')\n",
      "/Users/hossein4527/MEGA/MEGAsync/Commit/Neda_PhD/neda_sep2023/Time_Series_Trend_Forcasting/Codes/ned.py:502: FutureWarning: The default value of numeric_only in DataFrame.corr is deprecated. In a future version, it will default to False. Select only valid columns or specify the value of numeric_only to silence this warning.\n",
      "  df_corr = df.corr(method ='pearson')\n",
      "/Users/hossein4527/MEGA/MEGAsync/Commit/Neda_PhD/neda_sep2023/Time_Series_Trend_Forcasting/Codes/ned.py:502: FutureWarning: The default value of numeric_only in DataFrame.corr is deprecated. In a future version, it will default to False. Select only valid columns or specify the value of numeric_only to silence this warning.\n",
      "  df_corr = df.corr(method ='pearson')\n",
      "/Users/hossein4527/MEGA/MEGAsync/Commit/Neda_PhD/neda_sep2023/Time_Series_Trend_Forcasting/Codes/ned.py:502: FutureWarning: The default value of numeric_only in DataFrame.corr is deprecated. In a future version, it will default to False. Select only valid columns or specify the value of numeric_only to silence this warning.\n",
      "  df_corr = df.corr(method ='pearson')\n",
      "/Users/hossein4527/MEGA/MEGAsync/Commit/Neda_PhD/neda_sep2023/Time_Series_Trend_Forcasting/Codes/ned.py:502: FutureWarning: The default value of numeric_only in DataFrame.corr is deprecated. In a future version, it will default to False. Select only valid columns or specify the value of numeric_only to silence this warning.\n",
      "  df_corr = df.corr(method ='pearson')\n",
      "/Users/hossein4527/MEGA/MEGAsync/Commit/Neda_PhD/neda_sep2023/Time_Series_Trend_Forcasting/Codes/ned.py:502: FutureWarning: The default value of numeric_only in DataFrame.corr is deprecated. In a future version, it will default to False. Select only valid columns or specify the value of numeric_only to silence this warning.\n",
      "  df_corr = df.corr(method ='pearson')\n",
      "/Users/hossein4527/MEGA/MEGAsync/Commit/Neda_PhD/neda_sep2023/Time_Series_Trend_Forcasting/Codes/ned.py:502: FutureWarning: The default value of numeric_only in DataFrame.corr is deprecated. In a future version, it will default to False. Select only valid columns or specify the value of numeric_only to silence this warning.\n",
      "  df_corr = df.corr(method ='pearson')\n",
      "/Users/hossein4527/MEGA/MEGAsync/Commit/Neda_PhD/neda_sep2023/Time_Series_Trend_Forcasting/Codes/ned.py:502: FutureWarning: The default value of numeric_only in DataFrame.corr is deprecated. In a future version, it will default to False. Select only valid columns or specify the value of numeric_only to silence this warning.\n",
      "  df_corr = df.corr(method ='pearson')\n",
      "/Users/hossein4527/MEGA/MEGAsync/Commit/Neda_PhD/neda_sep2023/Time_Series_Trend_Forcasting/Codes/ned.py:502: FutureWarning: The default value of numeric_only in DataFrame.corr is deprecated. In a future version, it will default to False. Select only valid columns or specify the value of numeric_only to silence this warning.\n",
      "  df_corr = df.corr(method ='pearson')\n",
      "/Users/hossein4527/MEGA/MEGAsync/Commit/Neda_PhD/neda_sep2023/Time_Series_Trend_Forcasting/Codes/ned.py:502: FutureWarning: The default value of numeric_only in DataFrame.corr is deprecated. In a future version, it will default to False. Select only valid columns or specify the value of numeric_only to silence this warning.\n",
      "  df_corr = df.corr(method ='pearson')\n",
      "/Users/hossein4527/MEGA/MEGAsync/Commit/Neda_PhD/neda_sep2023/Time_Series_Trend_Forcasting/Codes/ned.py:502: FutureWarning: The default value of numeric_only in DataFrame.corr is deprecated. In a future version, it will default to False. Select only valid columns or specify the value of numeric_only to silence this warning.\n",
      "  df_corr = df.corr(method ='pearson')\n",
      "/Users/hossein4527/MEGA/MEGAsync/Commit/Neda_PhD/neda_sep2023/Time_Series_Trend_Forcasting/Codes/ned.py:502: FutureWarning: The default value of numeric_only in DataFrame.corr is deprecated. In a future version, it will default to False. Select only valid columns or specify the value of numeric_only to silence this warning.\n",
      "  df_corr = df.corr(method ='pearson')\n",
      "/Users/hossein4527/MEGA/MEGAsync/Commit/Neda_PhD/neda_sep2023/Time_Series_Trend_Forcasting/Codes/ned.py:502: FutureWarning: The default value of numeric_only in DataFrame.corr is deprecated. In a future version, it will default to False. Select only valid columns or specify the value of numeric_only to silence this warning.\n",
      "  df_corr = df.corr(method ='pearson')\n",
      "/Users/hossein4527/MEGA/MEGAsync/Commit/Neda_PhD/neda_sep2023/Time_Series_Trend_Forcasting/Codes/ned.py:502: FutureWarning: The default value of numeric_only in DataFrame.corr is deprecated. In a future version, it will default to False. Select only valid columns or specify the value of numeric_only to silence this warning.\n",
      "  df_corr = df.corr(method ='pearson')\n",
      "/Users/hossein4527/MEGA/MEGAsync/Commit/Neda_PhD/neda_sep2023/Time_Series_Trend_Forcasting/Codes/ned.py:502: FutureWarning: The default value of numeric_only in DataFrame.corr is deprecated. In a future version, it will default to False. Select only valid columns or specify the value of numeric_only to silence this warning.\n",
      "  df_corr = df.corr(method ='pearson')\n",
      "/Users/hossein4527/MEGA/MEGAsync/Commit/Neda_PhD/neda_sep2023/Time_Series_Trend_Forcasting/Codes/ned.py:502: FutureWarning: The default value of numeric_only in DataFrame.corr is deprecated. In a future version, it will default to False. Select only valid columns or specify the value of numeric_only to silence this warning.\n",
      "  df_corr = df.corr(method ='pearson')\n",
      "/Users/hossein4527/MEGA/MEGAsync/Commit/Neda_PhD/neda_sep2023/Time_Series_Trend_Forcasting/Codes/ned.py:502: FutureWarning: The default value of numeric_only in DataFrame.corr is deprecated. In a future version, it will default to False. Select only valid columns or specify the value of numeric_only to silence this warning.\n",
      "  df_corr = df.corr(method ='pearson')\n",
      "/Users/hossein4527/MEGA/MEGAsync/Commit/Neda_PhD/neda_sep2023/Time_Series_Trend_Forcasting/Codes/ned.py:502: FutureWarning: The default value of numeric_only in DataFrame.corr is deprecated. In a future version, it will default to False. Select only valid columns or specify the value of numeric_only to silence this warning.\n",
      "  df_corr = df.corr(method ='pearson')\n",
      "/Users/hossein4527/MEGA/MEGAsync/Commit/Neda_PhD/neda_sep2023/Time_Series_Trend_Forcasting/Codes/ned.py:502: FutureWarning: The default value of numeric_only in DataFrame.corr is deprecated. In a future version, it will default to False. Select only valid columns or specify the value of numeric_only to silence this warning.\n",
      "  df_corr = df.corr(method ='pearson')\n",
      "/Users/hossein4527/MEGA/MEGAsync/Commit/Neda_PhD/neda_sep2023/Time_Series_Trend_Forcasting/Codes/ned.py:502: FutureWarning: The default value of numeric_only in DataFrame.corr is deprecated. In a future version, it will default to False. Select only valid columns or specify the value of numeric_only to silence this warning.\n",
      "  df_corr = df.corr(method ='pearson')\n",
      "/Users/hossein4527/MEGA/MEGAsync/Commit/Neda_PhD/neda_sep2023/Time_Series_Trend_Forcasting/Codes/ned.py:502: FutureWarning: The default value of numeric_only in DataFrame.corr is deprecated. In a future version, it will default to False. Select only valid columns or specify the value of numeric_only to silence this warning.\n",
      "  df_corr = df.corr(method ='pearson')\n",
      "/Users/hossein4527/MEGA/MEGAsync/Commit/Neda_PhD/neda_sep2023/Time_Series_Trend_Forcasting/Codes/ned.py:502: FutureWarning: The default value of numeric_only in DataFrame.corr is deprecated. In a future version, it will default to False. Select only valid columns or specify the value of numeric_only to silence this warning.\n",
      "  df_corr = df.corr(method ='pearson')\n",
      "/Users/hossein4527/MEGA/MEGAsync/Commit/Neda_PhD/neda_sep2023/Time_Series_Trend_Forcasting/Codes/ned.py:502: FutureWarning: The default value of numeric_only in DataFrame.corr is deprecated. In a future version, it will default to False. Select only valid columns or specify the value of numeric_only to silence this warning.\n",
      "  df_corr = df.corr(method ='pearson')\n",
      "/Users/hossein4527/MEGA/MEGAsync/Commit/Neda_PhD/neda_sep2023/Time_Series_Trend_Forcasting/Codes/ned.py:502: FutureWarning: The default value of numeric_only in DataFrame.corr is deprecated. In a future version, it will default to False. Select only valid columns or specify the value of numeric_only to silence this warning.\n",
      "  df_corr = df.corr(method ='pearson')\n",
      "/Users/hossein4527/MEGA/MEGAsync/Commit/Neda_PhD/neda_sep2023/Time_Series_Trend_Forcasting/Codes/ned.py:502: FutureWarning: The default value of numeric_only in DataFrame.corr is deprecated. In a future version, it will default to False. Select only valid columns or specify the value of numeric_only to silence this warning.\n",
      "  df_corr = df.corr(method ='pearson')\n",
      "/Users/hossein4527/MEGA/MEGAsync/Commit/Neda_PhD/neda_sep2023/Time_Series_Trend_Forcasting/Codes/ned.py:502: FutureWarning: The default value of numeric_only in DataFrame.corr is deprecated. In a future version, it will default to False. Select only valid columns or specify the value of numeric_only to silence this warning.\n",
      "  df_corr = df.corr(method ='pearson')\n",
      "/Users/hossein4527/MEGA/MEGAsync/Commit/Neda_PhD/neda_sep2023/Time_Series_Trend_Forcasting/Codes/ned.py:502: FutureWarning: The default value of numeric_only in DataFrame.corr is deprecated. In a future version, it will default to False. Select only valid columns or specify the value of numeric_only to silence this warning.\n",
      "  df_corr = df.corr(method ='pearson')\n",
      "/Users/hossein4527/MEGA/MEGAsync/Commit/Neda_PhD/neda_sep2023/Time_Series_Trend_Forcasting/Codes/ned.py:502: FutureWarning: The default value of numeric_only in DataFrame.corr is deprecated. In a future version, it will default to False. Select only valid columns or specify the value of numeric_only to silence this warning.\n",
      "  df_corr = df.corr(method ='pearson')\n",
      "/Users/hossein4527/MEGA/MEGAsync/Commit/Neda_PhD/neda_sep2023/Time_Series_Trend_Forcasting/Codes/ned.py:502: FutureWarning: The default value of numeric_only in DataFrame.corr is deprecated. In a future version, it will default to False. Select only valid columns or specify the value of numeric_only to silence this warning.\n",
      "  df_corr = df.corr(method ='pearson')\n",
      "/Users/hossein4527/MEGA/MEGAsync/Commit/Neda_PhD/neda_sep2023/Time_Series_Trend_Forcasting/Codes/ned.py:502: FutureWarning: The default value of numeric_only in DataFrame.corr is deprecated. In a future version, it will default to False. Select only valid columns or specify the value of numeric_only to silence this warning.\n",
      "  df_corr = df.corr(method ='pearson')\n",
      "/Users/hossein4527/MEGA/MEGAsync/Commit/Neda_PhD/neda_sep2023/Time_Series_Trend_Forcasting/Codes/ned.py:502: FutureWarning: The default value of numeric_only in DataFrame.corr is deprecated. In a future version, it will default to False. Select only valid columns or specify the value of numeric_only to silence this warning.\n",
      "  df_corr = df.corr(method ='pearson')\n",
      "/Users/hossein4527/MEGA/MEGAsync/Commit/Neda_PhD/neda_sep2023/Time_Series_Trend_Forcasting/Codes/ned.py:502: FutureWarning: The default value of numeric_only in DataFrame.corr is deprecated. In a future version, it will default to False. Select only valid columns or specify the value of numeric_only to silence this warning.\n",
      "  df_corr = df.corr(method ='pearson')\n",
      "/Users/hossein4527/MEGA/MEGAsync/Commit/Neda_PhD/neda_sep2023/Time_Series_Trend_Forcasting/Codes/ned.py:502: FutureWarning: The default value of numeric_only in DataFrame.corr is deprecated. In a future version, it will default to False. Select only valid columns or specify the value of numeric_only to silence this warning.\n",
      "  df_corr = df.corr(method ='pearson')\n",
      "/Users/hossein4527/MEGA/MEGAsync/Commit/Neda_PhD/neda_sep2023/Time_Series_Trend_Forcasting/Codes/ned.py:502: FutureWarning: The default value of numeric_only in DataFrame.corr is deprecated. In a future version, it will default to False. Select only valid columns or specify the value of numeric_only to silence this warning.\n",
      "  df_corr = df.corr(method ='pearson')\n",
      "/Users/hossein4527/MEGA/MEGAsync/Commit/Neda_PhD/neda_sep2023/Time_Series_Trend_Forcasting/Codes/ned.py:502: FutureWarning: The default value of numeric_only in DataFrame.corr is deprecated. In a future version, it will default to False. Select only valid columns or specify the value of numeric_only to silence this warning.\n",
      "  df_corr = df.corr(method ='pearson')\n",
      "/Users/hossein4527/MEGA/MEGAsync/Commit/Neda_PhD/neda_sep2023/Time_Series_Trend_Forcasting/Codes/ned.py:502: FutureWarning: The default value of numeric_only in DataFrame.corr is deprecated. In a future version, it will default to False. Select only valid columns or specify the value of numeric_only to silence this warning.\n",
      "  df_corr = df.corr(method ='pearson')\n",
      "/Users/hossein4527/MEGA/MEGAsync/Commit/Neda_PhD/neda_sep2023/Time_Series_Trend_Forcasting/Codes/ned.py:502: FutureWarning: The default value of numeric_only in DataFrame.corr is deprecated. In a future version, it will default to False. Select only valid columns or specify the value of numeric_only to silence this warning.\n",
      "  df_corr = df.corr(method ='pearson')\n",
      "/Users/hossein4527/MEGA/MEGAsync/Commit/Neda_PhD/neda_sep2023/Time_Series_Trend_Forcasting/Codes/ned.py:502: FutureWarning: The default value of numeric_only in DataFrame.corr is deprecated. In a future version, it will default to False. Select only valid columns or specify the value of numeric_only to silence this warning.\n",
      "  df_corr = df.corr(method ='pearson')\n",
      "/Users/hossein4527/MEGA/MEGAsync/Commit/Neda_PhD/neda_sep2023/Time_Series_Trend_Forcasting/Codes/ned.py:502: FutureWarning: The default value of numeric_only in DataFrame.corr is deprecated. In a future version, it will default to False. Select only valid columns or specify the value of numeric_only to silence this warning.\n",
      "  df_corr = df.corr(method ='pearson')\n",
      "/Users/hossein4527/MEGA/MEGAsync/Commit/Neda_PhD/neda_sep2023/Time_Series_Trend_Forcasting/Codes/ned.py:502: FutureWarning: The default value of numeric_only in DataFrame.corr is deprecated. In a future version, it will default to False. Select only valid columns or specify the value of numeric_only to silence this warning.\n",
      "  df_corr = df.corr(method ='pearson')\n",
      "/Users/hossein4527/MEGA/MEGAsync/Commit/Neda_PhD/neda_sep2023/Time_Series_Trend_Forcasting/Codes/ned.py:502: FutureWarning: The default value of numeric_only in DataFrame.corr is deprecated. In a future version, it will default to False. Select only valid columns or specify the value of numeric_only to silence this warning.\n",
      "  df_corr = df.corr(method ='pearson')\n",
      "/Users/hossein4527/MEGA/MEGAsync/Commit/Neda_PhD/neda_sep2023/Time_Series_Trend_Forcasting/Codes/ned.py:502: FutureWarning: The default value of numeric_only in DataFrame.corr is deprecated. In a future version, it will default to False. Select only valid columns or specify the value of numeric_only to silence this warning.\n",
      "  df_corr = df.corr(method ='pearson')\n",
      "/Users/hossein4527/MEGA/MEGAsync/Commit/Neda_PhD/neda_sep2023/Time_Series_Trend_Forcasting/Codes/ned.py:502: FutureWarning: The default value of numeric_only in DataFrame.corr is deprecated. In a future version, it will default to False. Select only valid columns or specify the value of numeric_only to silence this warning.\n",
      "  df_corr = df.corr(method ='pearson')\n",
      "/Users/hossein4527/MEGA/MEGAsync/Commit/Neda_PhD/neda_sep2023/Time_Series_Trend_Forcasting/Codes/ned.py:502: FutureWarning: The default value of numeric_only in DataFrame.corr is deprecated. In a future version, it will default to False. Select only valid columns or specify the value of numeric_only to silence this warning.\n",
      "  df_corr = df.corr(method ='pearson')\n",
      "/Users/hossein4527/MEGA/MEGAsync/Commit/Neda_PhD/neda_sep2023/Time_Series_Trend_Forcasting/Codes/ned.py:502: FutureWarning: The default value of numeric_only in DataFrame.corr is deprecated. In a future version, it will default to False. Select only valid columns or specify the value of numeric_only to silence this warning.\n",
      "  df_corr = df.corr(method ='pearson')\n",
      "/Users/hossein4527/MEGA/MEGAsync/Commit/Neda_PhD/neda_sep2023/Time_Series_Trend_Forcasting/Codes/ned.py:502: FutureWarning: The default value of numeric_only in DataFrame.corr is deprecated. In a future version, it will default to False. Select only valid columns or specify the value of numeric_only to silence this warning.\n",
      "  df_corr = df.corr(method ='pearson')\n",
      "/Users/hossein4527/MEGA/MEGAsync/Commit/Neda_PhD/neda_sep2023/Time_Series_Trend_Forcasting/Codes/ned.py:502: FutureWarning: The default value of numeric_only in DataFrame.corr is deprecated. In a future version, it will default to False. Select only valid columns or specify the value of numeric_only to silence this warning.\n",
      "  df_corr = df.corr(method ='pearson')\n",
      "/Users/hossein4527/MEGA/MEGAsync/Commit/Neda_PhD/neda_sep2023/Time_Series_Trend_Forcasting/Codes/ned.py:502: FutureWarning: The default value of numeric_only in DataFrame.corr is deprecated. In a future version, it will default to False. Select only valid columns or specify the value of numeric_only to silence this warning.\n",
      "  df_corr = df.corr(method ='pearson')\n",
      "/Users/hossein4527/MEGA/MEGAsync/Commit/Neda_PhD/neda_sep2023/Time_Series_Trend_Forcasting/Codes/ned.py:502: FutureWarning: The default value of numeric_only in DataFrame.corr is deprecated. In a future version, it will default to False. Select only valid columns or specify the value of numeric_only to silence this warning.\n",
      "  df_corr = df.corr(method ='pearson')\n",
      "/Users/hossein4527/MEGA/MEGAsync/Commit/Neda_PhD/neda_sep2023/Time_Series_Trend_Forcasting/Codes/ned.py:502: FutureWarning: The default value of numeric_only in DataFrame.corr is deprecated. In a future version, it will default to False. Select only valid columns or specify the value of numeric_only to silence this warning.\n",
      "  df_corr = df.corr(method ='pearson')\n",
      "/Users/hossein4527/MEGA/MEGAsync/Commit/Neda_PhD/neda_sep2023/Time_Series_Trend_Forcasting/Codes/ned.py:502: FutureWarning: The default value of numeric_only in DataFrame.corr is deprecated. In a future version, it will default to False. Select only valid columns or specify the value of numeric_only to silence this warning.\n",
      "  df_corr = df.corr(method ='pearson')\n",
      "/Users/hossein4527/MEGA/MEGAsync/Commit/Neda_PhD/neda_sep2023/Time_Series_Trend_Forcasting/Codes/ned.py:502: FutureWarning: The default value of numeric_only in DataFrame.corr is deprecated. In a future version, it will default to False. Select only valid columns or specify the value of numeric_only to silence this warning.\n",
      "  df_corr = df.corr(method ='pearson')\n",
      "/Users/hossein4527/MEGA/MEGAsync/Commit/Neda_PhD/neda_sep2023/Time_Series_Trend_Forcasting/Codes/ned.py:502: FutureWarning: The default value of numeric_only in DataFrame.corr is deprecated. In a future version, it will default to False. Select only valid columns or specify the value of numeric_only to silence this warning.\n",
      "  df_corr = df.corr(method ='pearson')\n",
      "/Users/hossein4527/MEGA/MEGAsync/Commit/Neda_PhD/neda_sep2023/Time_Series_Trend_Forcasting/Codes/ned.py:502: FutureWarning: The default value of numeric_only in DataFrame.corr is deprecated. In a future version, it will default to False. Select only valid columns or specify the value of numeric_only to silence this warning.\n",
      "  df_corr = df.corr(method ='pearson')\n",
      "/Users/hossein4527/MEGA/MEGAsync/Commit/Neda_PhD/neda_sep2023/Time_Series_Trend_Forcasting/Codes/ned.py:502: FutureWarning: The default value of numeric_only in DataFrame.corr is deprecated. In a future version, it will default to False. Select only valid columns or specify the value of numeric_only to silence this warning.\n",
      "  df_corr = df.corr(method ='pearson')\n",
      "/Users/hossein4527/MEGA/MEGAsync/Commit/Neda_PhD/neda_sep2023/Time_Series_Trend_Forcasting/Codes/ned.py:502: FutureWarning: The default value of numeric_only in DataFrame.corr is deprecated. In a future version, it will default to False. Select only valid columns or specify the value of numeric_only to silence this warning.\n",
      "  df_corr = df.corr(method ='pearson')\n",
      "/Users/hossein4527/MEGA/MEGAsync/Commit/Neda_PhD/neda_sep2023/Time_Series_Trend_Forcasting/Codes/ned.py:502: FutureWarning: The default value of numeric_only in DataFrame.corr is deprecated. In a future version, it will default to False. Select only valid columns or specify the value of numeric_only to silence this warning.\n",
      "  df_corr = df.corr(method ='pearson')\n",
      "/Users/hossein4527/MEGA/MEGAsync/Commit/Neda_PhD/neda_sep2023/Time_Series_Trend_Forcasting/Codes/ned.py:502: FutureWarning: The default value of numeric_only in DataFrame.corr is deprecated. In a future version, it will default to False. Select only valid columns or specify the value of numeric_only to silence this warning.\n",
      "  df_corr = df.corr(method ='pearson')\n",
      "/Users/hossein4527/MEGA/MEGAsync/Commit/Neda_PhD/neda_sep2023/Time_Series_Trend_Forcasting/Codes/ned.py:502: FutureWarning: The default value of numeric_only in DataFrame.corr is deprecated. In a future version, it will default to False. Select only valid columns or specify the value of numeric_only to silence this warning.\n",
      "  df_corr = df.corr(method ='pearson')\n",
      "/Users/hossein4527/MEGA/MEGAsync/Commit/Neda_PhD/neda_sep2023/Time_Series_Trend_Forcasting/Codes/ned.py:502: FutureWarning: The default value of numeric_only in DataFrame.corr is deprecated. In a future version, it will default to False. Select only valid columns or specify the value of numeric_only to silence this warning.\n",
      "  df_corr = df.corr(method ='pearson')\n",
      "/Users/hossein4527/MEGA/MEGAsync/Commit/Neda_PhD/neda_sep2023/Time_Series_Trend_Forcasting/Codes/ned.py:502: FutureWarning: The default value of numeric_only in DataFrame.corr is deprecated. In a future version, it will default to False. Select only valid columns or specify the value of numeric_only to silence this warning.\n",
      "  df_corr = df.corr(method ='pearson')\n",
      "/Users/hossein4527/MEGA/MEGAsync/Commit/Neda_PhD/neda_sep2023/Time_Series_Trend_Forcasting/Codes/ned.py:502: FutureWarning: The default value of numeric_only in DataFrame.corr is deprecated. In a future version, it will default to False. Select only valid columns or specify the value of numeric_only to silence this warning.\n",
      "  df_corr = df.corr(method ='pearson')\n",
      "/Users/hossein4527/MEGA/MEGAsync/Commit/Neda_PhD/neda_sep2023/Time_Series_Trend_Forcasting/Codes/ned.py:502: FutureWarning: The default value of numeric_only in DataFrame.corr is deprecated. In a future version, it will default to False. Select only valid columns or specify the value of numeric_only to silence this warning.\n",
      "  df_corr = df.corr(method ='pearson')\n",
      "/Users/hossein4527/MEGA/MEGAsync/Commit/Neda_PhD/neda_sep2023/Time_Series_Trend_Forcasting/Codes/ned.py:502: FutureWarning: The default value of numeric_only in DataFrame.corr is deprecated. In a future version, it will default to False. Select only valid columns or specify the value of numeric_only to silence this warning.\n",
      "  df_corr = df.corr(method ='pearson')\n",
      "/Users/hossein4527/MEGA/MEGAsync/Commit/Neda_PhD/neda_sep2023/Time_Series_Trend_Forcasting/Codes/ned.py:502: FutureWarning: The default value of numeric_only in DataFrame.corr is deprecated. In a future version, it will default to False. Select only valid columns or specify the value of numeric_only to silence this warning.\n",
      "  df_corr = df.corr(method ='pearson')\n",
      "/Users/hossein4527/MEGA/MEGAsync/Commit/Neda_PhD/neda_sep2023/Time_Series_Trend_Forcasting/Codes/ned.py:502: FutureWarning: The default value of numeric_only in DataFrame.corr is deprecated. In a future version, it will default to False. Select only valid columns or specify the value of numeric_only to silence this warning.\n",
      "  df_corr = df.corr(method ='pearson')\n",
      "/Users/hossein4527/MEGA/MEGAsync/Commit/Neda_PhD/neda_sep2023/Time_Series_Trend_Forcasting/Codes/ned.py:502: FutureWarning: The default value of numeric_only in DataFrame.corr is deprecated. In a future version, it will default to False. Select only valid columns or specify the value of numeric_only to silence this warning.\n",
      "  df_corr = df.corr(method ='pearson')\n",
      "/Users/hossein4527/MEGA/MEGAsync/Commit/Neda_PhD/neda_sep2023/Time_Series_Trend_Forcasting/Codes/ned.py:502: FutureWarning: The default value of numeric_only in DataFrame.corr is deprecated. In a future version, it will default to False. Select only valid columns or specify the value of numeric_only to silence this warning.\n",
      "  df_corr = df.corr(method ='pearson')\n",
      "/Users/hossein4527/MEGA/MEGAsync/Commit/Neda_PhD/neda_sep2023/Time_Series_Trend_Forcasting/Codes/ned.py:502: FutureWarning: The default value of numeric_only in DataFrame.corr is deprecated. In a future version, it will default to False. Select only valid columns or specify the value of numeric_only to silence this warning.\n",
      "  df_corr = df.corr(method ='pearson')\n",
      "/Users/hossein4527/MEGA/MEGAsync/Commit/Neda_PhD/neda_sep2023/Time_Series_Trend_Forcasting/Codes/ned.py:502: FutureWarning: The default value of numeric_only in DataFrame.corr is deprecated. In a future version, it will default to False. Select only valid columns or specify the value of numeric_only to silence this warning.\n",
      "  df_corr = df.corr(method ='pearson')\n",
      "/Users/hossein4527/MEGA/MEGAsync/Commit/Neda_PhD/neda_sep2023/Time_Series_Trend_Forcasting/Codes/ned.py:502: FutureWarning: The default value of numeric_only in DataFrame.corr is deprecated. In a future version, it will default to False. Select only valid columns or specify the value of numeric_only to silence this warning.\n",
      "  df_corr = df.corr(method ='pearson')\n",
      "/Users/hossein4527/MEGA/MEGAsync/Commit/Neda_PhD/neda_sep2023/Time_Series_Trend_Forcasting/Codes/ned.py:502: FutureWarning: The default value of numeric_only in DataFrame.corr is deprecated. In a future version, it will default to False. Select only valid columns or specify the value of numeric_only to silence this warning.\n",
      "  df_corr = df.corr(method ='pearson')\n",
      "/Users/hossein4527/MEGA/MEGAsync/Commit/Neda_PhD/neda_sep2023/Time_Series_Trend_Forcasting/Codes/ned.py:502: FutureWarning: The default value of numeric_only in DataFrame.corr is deprecated. In a future version, it will default to False. Select only valid columns or specify the value of numeric_only to silence this warning.\n",
      "  df_corr = df.corr(method ='pearson')\n",
      "/Users/hossein4527/MEGA/MEGAsync/Commit/Neda_PhD/neda_sep2023/Time_Series_Trend_Forcasting/Codes/ned.py:502: FutureWarning: The default value of numeric_only in DataFrame.corr is deprecated. In a future version, it will default to False. Select only valid columns or specify the value of numeric_only to silence this warning.\n",
      "  df_corr = df.corr(method ='pearson')\n",
      "/Users/hossein4527/MEGA/MEGAsync/Commit/Neda_PhD/neda_sep2023/Time_Series_Trend_Forcasting/Codes/ned.py:502: FutureWarning: The default value of numeric_only in DataFrame.corr is deprecated. In a future version, it will default to False. Select only valid columns or specify the value of numeric_only to silence this warning.\n",
      "  df_corr = df.corr(method ='pearson')\n",
      "/Users/hossein4527/MEGA/MEGAsync/Commit/Neda_PhD/neda_sep2023/Time_Series_Trend_Forcasting/Codes/ned.py:502: FutureWarning: The default value of numeric_only in DataFrame.corr is deprecated. In a future version, it will default to False. Select only valid columns or specify the value of numeric_only to silence this warning.\n",
      "  df_corr = df.corr(method ='pearson')\n",
      "/Users/hossein4527/MEGA/MEGAsync/Commit/Neda_PhD/neda_sep2023/Time_Series_Trend_Forcasting/Codes/ned.py:502: FutureWarning: The default value of numeric_only in DataFrame.corr is deprecated. In a future version, it will default to False. Select only valid columns or specify the value of numeric_only to silence this warning.\n",
      "  df_corr = df.corr(method ='pearson')\n",
      "/Users/hossein4527/MEGA/MEGAsync/Commit/Neda_PhD/neda_sep2023/Time_Series_Trend_Forcasting/Codes/ned.py:502: FutureWarning: The default value of numeric_only in DataFrame.corr is deprecated. In a future version, it will default to False. Select only valid columns or specify the value of numeric_only to silence this warning.\n",
      "  df_corr = df.corr(method ='pearson')\n",
      "/Users/hossein4527/MEGA/MEGAsync/Commit/Neda_PhD/neda_sep2023/Time_Series_Trend_Forcasting/Codes/ned.py:502: FutureWarning: The default value of numeric_only in DataFrame.corr is deprecated. In a future version, it will default to False. Select only valid columns or specify the value of numeric_only to silence this warning.\n",
      "  df_corr = df.corr(method ='pearson')\n",
      "/Users/hossein4527/MEGA/MEGAsync/Commit/Neda_PhD/neda_sep2023/Time_Series_Trend_Forcasting/Codes/ned.py:502: FutureWarning: The default value of numeric_only in DataFrame.corr is deprecated. In a future version, it will default to False. Select only valid columns or specify the value of numeric_only to silence this warning.\n",
      "  df_corr = df.corr(method ='pearson')\n",
      "/Users/hossein4527/MEGA/MEGAsync/Commit/Neda_PhD/neda_sep2023/Time_Series_Trend_Forcasting/Codes/ned.py:502: FutureWarning: The default value of numeric_only in DataFrame.corr is deprecated. In a future version, it will default to False. Select only valid columns or specify the value of numeric_only to silence this warning.\n",
      "  df_corr = df.corr(method ='pearson')\n",
      "/Users/hossein4527/MEGA/MEGAsync/Commit/Neda_PhD/neda_sep2023/Time_Series_Trend_Forcasting/Codes/ned.py:502: FutureWarning: The default value of numeric_only in DataFrame.corr is deprecated. In a future version, it will default to False. Select only valid columns or specify the value of numeric_only to silence this warning.\n",
      "  df_corr = df.corr(method ='pearson')\n",
      "/Users/hossein4527/MEGA/MEGAsync/Commit/Neda_PhD/neda_sep2023/Time_Series_Trend_Forcasting/Codes/ned.py:502: FutureWarning: The default value of numeric_only in DataFrame.corr is deprecated. In a future version, it will default to False. Select only valid columns or specify the value of numeric_only to silence this warning.\n",
      "  df_corr = df.corr(method ='pearson')\n",
      "/Users/hossein4527/MEGA/MEGAsync/Commit/Neda_PhD/neda_sep2023/Time_Series_Trend_Forcasting/Codes/ned.py:502: FutureWarning: The default value of numeric_only in DataFrame.corr is deprecated. In a future version, it will default to False. Select only valid columns or specify the value of numeric_only to silence this warning.\n",
      "  df_corr = df.corr(method ='pearson')\n",
      "/Users/hossein4527/MEGA/MEGAsync/Commit/Neda_PhD/neda_sep2023/Time_Series_Trend_Forcasting/Codes/ned.py:502: FutureWarning: The default value of numeric_only in DataFrame.corr is deprecated. In a future version, it will default to False. Select only valid columns or specify the value of numeric_only to silence this warning.\n",
      "  df_corr = df.corr(method ='pearson')\n",
      "/Users/hossein4527/MEGA/MEGAsync/Commit/Neda_PhD/neda_sep2023/Time_Series_Trend_Forcasting/Codes/ned.py:502: FutureWarning: The default value of numeric_only in DataFrame.corr is deprecated. In a future version, it will default to False. Select only valid columns or specify the value of numeric_only to silence this warning.\n",
      "  df_corr = df.corr(method ='pearson')\n",
      "/Users/hossein4527/MEGA/MEGAsync/Commit/Neda_PhD/neda_sep2023/Time_Series_Trend_Forcasting/Codes/ned.py:502: FutureWarning: The default value of numeric_only in DataFrame.corr is deprecated. In a future version, it will default to False. Select only valid columns or specify the value of numeric_only to silence this warning.\n",
      "  df_corr = df.corr(method ='pearson')\n",
      "/Users/hossein4527/MEGA/MEGAsync/Commit/Neda_PhD/neda_sep2023/Time_Series_Trend_Forcasting/Codes/ned.py:502: FutureWarning: The default value of numeric_only in DataFrame.corr is deprecated. In a future version, it will default to False. Select only valid columns or specify the value of numeric_only to silence this warning.\n",
      "  df_corr = df.corr(method ='pearson')\n",
      "/Users/hossein4527/MEGA/MEGAsync/Commit/Neda_PhD/neda_sep2023/Time_Series_Trend_Forcasting/Codes/ned.py:502: FutureWarning: The default value of numeric_only in DataFrame.corr is deprecated. In a future version, it will default to False. Select only valid columns or specify the value of numeric_only to silence this warning.\n",
      "  df_corr = df.corr(method ='pearson')\n",
      "/Users/hossein4527/MEGA/MEGAsync/Commit/Neda_PhD/neda_sep2023/Time_Series_Trend_Forcasting/Codes/ned.py:502: FutureWarning: The default value of numeric_only in DataFrame.corr is deprecated. In a future version, it will default to False. Select only valid columns or specify the value of numeric_only to silence this warning.\n",
      "  df_corr = df.corr(method ='pearson')\n",
      "/Users/hossein4527/MEGA/MEGAsync/Commit/Neda_PhD/neda_sep2023/Time_Series_Trend_Forcasting/Codes/ned.py:502: FutureWarning: The default value of numeric_only in DataFrame.corr is deprecated. In a future version, it will default to False. Select only valid columns or specify the value of numeric_only to silence this warning.\n",
      "  df_corr = df.corr(method ='pearson')\n",
      "/Users/hossein4527/MEGA/MEGAsync/Commit/Neda_PhD/neda_sep2023/Time_Series_Trend_Forcasting/Codes/ned.py:502: FutureWarning: The default value of numeric_only in DataFrame.corr is deprecated. In a future version, it will default to False. Select only valid columns or specify the value of numeric_only to silence this warning.\n",
      "  df_corr = df.corr(method ='pearson')\n",
      "/Users/hossein4527/MEGA/MEGAsync/Commit/Neda_PhD/neda_sep2023/Time_Series_Trend_Forcasting/Codes/ned.py:502: FutureWarning: The default value of numeric_only in DataFrame.corr is deprecated. In a future version, it will default to False. Select only valid columns or specify the value of numeric_only to silence this warning.\n",
      "  df_corr = df.corr(method ='pearson')\n"
     ]
    },
    {
     "name": "stdout",
     "output_type": "stream",
     "text": [
      "fixed_thr= 0.12410079927876998\n"
     ]
    },
    {
     "name": "stderr",
     "output_type": "stream",
     "text": [
      "/Users/hossein4527/MEGA/MEGAsync/Commit/Neda_PhD/neda_sep2023/Time_Series_Trend_Forcasting/Codes/ned.py:502: FutureWarning: The default value of numeric_only in DataFrame.corr is deprecated. In a future version, it will default to False. Select only valid columns or specify the value of numeric_only to silence this warning.\n",
      "  df_corr = df.corr(method ='pearson')\n",
      "/Users/hossein4527/MEGA/MEGAsync/Commit/Neda_PhD/neda_sep2023/Time_Series_Trend_Forcasting/Codes/ned.py:502: FutureWarning: The default value of numeric_only in DataFrame.corr is deprecated. In a future version, it will default to False. Select only valid columns or specify the value of numeric_only to silence this warning.\n",
      "  df_corr = df.corr(method ='pearson')\n",
      "/Users/hossein4527/MEGA/MEGAsync/Commit/Neda_PhD/neda_sep2023/Time_Series_Trend_Forcasting/Codes/ned.py:502: FutureWarning: The default value of numeric_only in DataFrame.corr is deprecated. In a future version, it will default to False. Select only valid columns or specify the value of numeric_only to silence this warning.\n",
      "  df_corr = df.corr(method ='pearson')\n"
     ]
    }
   ],
   "source": [
    "nm = Net_moduls()\n",
    "crossed_network_ThreeReg_pn_90_00_averged = nm.get_network_features_averaged_median(tehran_df_completeDates, regimes_column= tehran_df_reg['3_PN'],method='crossed_100',edges_threshold=200, target_window=100, target_length=50)"
   ]
  },
  {
   "cell_type": "code",
   "execution_count": null,
   "id": "a5d17c74-4f6e-4274-abd7-9d663bdbe1d6",
   "metadata": {},
   "outputs": [],
   "source": [
    "crossed_network_ThreeReg_pn_90_00_averged"
   ]
  },
  {
   "cell_type": "code",
   "execution_count": null,
   "id": "bc97ff6a-f025-4949-a0ca-cb974c5dbc50",
   "metadata": {},
   "outputs": [],
   "source": []
  }
 ],
 "metadata": {
  "kernelspec": {
   "display_name": "Python 3 (ipykernel)",
   "language": "python",
   "name": "python3"
  },
  "language_info": {
   "codemirror_mode": {
    "name": "ipython",
    "version": 3
   },
   "file_extension": ".py",
   "mimetype": "text/x-python",
   "name": "python",
   "nbconvert_exporter": "python",
   "pygments_lexer": "ipython3",
   "version": "3.11.0"
  }
 },
 "nbformat": 4,
 "nbformat_minor": 5
}
