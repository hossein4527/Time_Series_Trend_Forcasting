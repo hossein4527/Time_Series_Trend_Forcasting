{
 "cells": [
  {
   "cell_type": "code",
   "execution_count": null,
   "id": "d88b98e9-40c4-40fd-a183-6b899cedede5",
   "metadata": {
    "tags": []
   },
   "outputs": [],
   "source": [
    "if method == 'crossed_':\n",
    "            cross_offsets = []\n",
    "            for i in range(len(df.columns)):\n",
    "                for j in range(len(df.columns)):\n",
    "                    seconds = 5\n",
    "                    fps = 30\n",
    "                    rs = [self.crosscorr(df[df.columns[i]],df[df.columns[j]], lag) for lag in range(-int(seconds*fps),int(seconds*fps+1))]\n",
    "                    offset = np.floor(len(rs)/2)-np.argmax(rs)\n",
    "                    cross_offsets.append(offset)\n",
    "            cross_offsets = np.array(cross_offsets)\n",
    "            cross_offsets = cross_offsets/max(cross_offsets)\n",
    "            crossed_offset_matrix = cross_offsets.reshape((df.shape[1],df.shape[1]))\n",
    "            crossed_df = pd.DataFrame(crossed_offset_matrix , columns=(df.columns)).set_index(df.columns)\n",
    "            df_cc = crossed_df\n",
    "\n",
    "\n",
    "            # apply corr coeff threshold and create new df\n",
    "            list_symbols = df_cc.columns.to_list()\n",
    "            list_from = []\n",
    "            list_to = []\n",
    "            list_corr_coeff = []\n",
    "            for i , sym_from in enumerate(list_symbols):\n",
    "                for sym_to in list_symbols:\n",
    "                    if sym_from != sym_to:\n",
    "                        corr_coef = df_cc.loc[sym_from, sym_to]\n",
    "                        if abs(corr_coef) < threshold:\n",
    "                            list_from.append(sym_from)\n",
    "                            list_to.append(sym_to)\n",
    "                            list_corr_coeff.append(corr_coef)\n",
    "\n",
    "            # create df for constructing graph\n",
    "            df_graph = pd.DataFrame({'from':list_from, 'to':list_to, \n",
    "                                    'corr coeff':list_corr_coeff})\n",
    "\n",
    "            G_crossed = nx.from_pandas_edgelist(df_graph, 'from', 'to')\n",
    "            return G_crossed"
   ]
  },
  {
   "cell_type": "code",
   "execution_count": 1,
   "id": "85764122-746b-4078-96f4-4b04d020ba22",
   "metadata": {},
   "outputs": [],
   "source": [
    "from ned import Net_moduls\n",
    "import networkx as nx\n",
    "import numpy as np"
   ]
  },
  {
   "cell_type": "code",
   "execution_count": 2,
   "id": "a2281d73-e8ef-4479-891c-110a83cf90a2",
   "metadata": {},
   "outputs": [],
   "source": [
    "import pandas as pd\n",
    "import matplotlib.pyplot as plt"
   ]
  },
  {
   "cell_type": "code",
   "execution_count": 3,
   "id": "1a44f467-37ab-4d0a-8484-4614700df7e1",
   "metadata": {},
   "outputs": [],
   "source": [
    "tehran_index = pd.read_excel('../Data/Tehran_Indexes_Price_NoRegime.xlsx').set_index('date')"
   ]
  },
  {
   "cell_type": "code",
   "execution_count": 4,
   "id": "8a82de29-fb9c-407c-88ef-59737df4d215",
   "metadata": {},
   "outputs": [],
   "source": [
    "tehran_df = pd.read_excel('../Data/Tehran_Indexes_NormedReturned_Regimed.xlsx').set_index('date')\n",
    "tehran_df = tehran_df[tehran_df.columns[:-12]]"
   ]
  },
  {
   "cell_type": "code",
   "execution_count": 5,
   "id": "3907fcf0-6479-4eec-b8d7-4faa10783317",
   "metadata": {},
   "outputs": [],
   "source": [
    "def crosscorr(datax, datay, lag=0, wrap=False):\n",
    "    if wrap:\n",
    "        shiftedy = datay.shift(lag)\n",
    "        transfer_entropy_dfshiftedy.iloc[:lag] = datay.iloc[-lag:].values\n",
    "        return datax.corr(shiftedy)\n",
    "    else:\n",
    "        return datax.corr(datay.shift(lag))"
   ]
  },
  {
   "cell_type": "code",
   "execution_count": 6,
   "id": "a378fc01-f880-47cf-9615-0d9cfa70a8bd",
   "metadata": {},
   "outputs": [],
   "source": [
    "df = tehran_df[-300:]\n",
    "cross_offsets = []\n",
    "for i in range(len(df.columns)):\n",
    "    for j in range(len(df.columns)):\n",
    "        seconds = 5\n",
    "        fps = 30\n",
    "        rs = [crosscorr(df[df.columns[i]],df[df.columns[j]], lag) for lag in range(-int(seconds*fps),int(seconds*fps+1))]\n",
    "        offset = np.floor(len(rs)/2)-np.argmax(rs)\n",
    "        cross_offsets.append(offset)"
   ]
  },
  {
   "cell_type": "code",
   "execution_count": 7,
   "id": "39eea1ab-6916-466d-a5fc-313dc32216db",
   "metadata": {
    "collapsed": true,
    "jupyter": {
     "outputs_hidden": true
    },
    "tags": []
   },
   "outputs": [
    {
     "data": {
      "text/plain": [
       "<matplotlib.colorbar.Colorbar at 0x17d214790>"
      ]
     },
     "execution_count": 7,
     "metadata": {},
     "output_type": "execute_result"
    },
    {
     "data": {
      "image/png": "[encoded data removed]",
      "text/plain": [
       "<Figure size 640x480 with 2 Axes>"
      ]
     },
     "metadata": {},
     "output_type": "display_data"
    }
   ],
   "source": [
    "cross_offsets = np.array(cross_offsets)\n",
    "plt.imshow(cross_offsets.reshape((df.shape[1],df.shape[1])), cmap='Greys')\n",
    "plt.colorbar()"
   ]
  },
  {
   "cell_type": "code",
   "execution_count": 8,
   "id": "8f7282d8-a15d-4cd0-ae7d-e58f1e0b86f2",
   "metadata": {
    "collapsed": true,
    "jupyter": {
     "outputs_hidden": true
    },
    "tags": []
   },
   "outputs": [
    {
     "data": {
      "text/plain": [
       "([<matplotlib.axis.XTick at 0x17d2ebb50>,\n",
       "  <matplotlib.axis.XTick at 0x17d2e83d0>,\n",
       "  <matplotlib.axis.XTick at 0x17d21a410>,\n",
       "  <matplotlib.axis.XTick at 0x17d7767d0>,\n",
       "  <matplotlib.axis.XTick at 0x17d778b90>,\n",
       "  <matplotlib.axis.XTick at 0x17d2cff90>,\n",
       "  <matplotlib.axis.XTick at 0x17d784490>,\n",
       "  <matplotlib.axis.XTick at 0x17d786650>,\n",
       "  <matplotlib.axis.XTick at 0x17d788a90>,\n",
       "  <matplotlib.axis.XTick at 0x17d78ac50>,\n",
       "  <matplotlib.axis.XTick at 0x17d732350>,\n",
       "  <matplotlib.axis.XTick at 0x17d791850>],\n",
       " [Text(0, 0, 'index'),\n",
       "  Text(1, 0, 'Brent Oil'),\n",
       "  Text(2, 0, 'Coin'),\n",
       "  Text(3, 0, 'Euro'),\n",
       "  Text(4, 0, 'USD'),\n",
       "  Text(5, 0, 'CPI'),\n",
       "  Text(6, 0, 'HOUSE'),\n",
       "  Text(7, 0, 'M1'),\n",
       "  Text(8, 0, 'M2'),\n",
       "  Text(9, 0, 'GDP'),\n",
       "  Text(10, 0, 'Gold'),\n",
       "  Text(11, 0, 'Agriculture')])"
      ]
     },
     "execution_count": 8,
     "metadata": {},
     "output_type": "execute_result"
    },
    {
     "data": {
      "image/png": "[encoded data removed]",
      "text/plain": [
       "<Figure size 640x480 with 1 Axes>"
      ]
     },
     "metadata": {},
     "output_type": "display_data"
    }
   ],
   "source": [
    "plt.plot(cross_offsets.reshape((df.shape[1],df.shape[1]))[0,:12], 'o-')\n",
    "plt.grid()\n",
    "plt.xticks(range(12),df.columns[:12], rotation=45)"
   ]
  },
  {
   "cell_type": "code",
   "execution_count": 9,
   "id": "71fa3ced-5e48-44eb-8cf2-fc10de2c6e41",
   "metadata": {
    "collapsed": true,
    "jupyter": {
     "outputs_hidden": true
    },
    "tags": []
   },
   "outputs": [
    {
     "data": {
      "text/plain": [
       "([<matplotlib.axis.XTick at 0x17d7bf1d0>,\n",
       "  <matplotlib.axis.XTick at 0x15fbf03d0>,\n",
       "  <matplotlib.axis.XTick at 0x17d798b90>,\n",
       "  <matplotlib.axis.XTick at 0x17d7df8d0>,\n",
       "  <matplotlib.axis.XTick at 0x17d7f1bd0>,\n",
       "  <matplotlib.axis.XTick at 0x17d7f3ed0>,\n",
       "  <matplotlib.axis.XTick at 0x17d7f6150>,\n",
       "  <matplotlib.axis.XTick at 0x17d7f8390>,\n",
       "  <matplotlib.axis.XTick at 0x17d7df1d0>,\n",
       "  <matplotlib.axis.XTick at 0x17d7fb290>,\n",
       "  <matplotlib.axis.XTick at 0x17d6e9590>,\n",
       "  <matplotlib.axis.XTick at 0x17d6eb950>],\n",
       " [Text(0, 0, 'index'),\n",
       "  Text(1, 0, 'Brent Oil'),\n",
       "  Text(2, 0, 'Coin'),\n",
       "  Text(3, 0, 'Euro'),\n",
       "  Text(4, 0, 'USD'),\n",
       "  Text(5, 0, 'CPI'),\n",
       "  Text(6, 0, 'HOUSE'),\n",
       "  Text(7, 0, 'M1'),\n",
       "  Text(8, 0, 'M2'),\n",
       "  Text(9, 0, 'GDP'),\n",
       "  Text(10, 0, 'Gold'),\n",
       "  Text(11, 0, 'Agriculture')])"
      ]
     },
     "execution_count": 9,
     "metadata": {},
     "output_type": "execute_result"
    },
    {
     "data": {
      "image/png": "[encoded data removed]",
      "text/plain": [
       "<Figure size 640x480 with 1 Axes>"
      ]
     },
     "metadata": {},
     "output_type": "display_data"
    }
   ],
   "source": [
    "plt.plot(cross_offsets.reshape((df.shape[1],df.shape[1]))[0,:12], 'o-')\n",
    "plt.grid()\n",
    "plt.xticks(range(12),df.columns[:12], rotation=45)"
   ]
  },
  {
   "cell_type": "code",
   "execution_count": 10,
   "id": "5ef9bfd6-0c8b-4ce3-9ef6-f1302c773898",
   "metadata": {},
   "outputs": [],
   "source": [
    "tehran_df_shifted = tehran_df.copy()"
   ]
  },
  {
   "cell_type": "code",
   "execution_count": 56,
   "id": "5f1f8c02-a58a-4e3a-905c-de67313866ea",
   "metadata": {},
   "outputs": [
    {
     "data": {
      "text/plain": [
       "array([   0., -129.,   44.,   44.,   44.,   81.,   59.,  -44.,  -41.,\n",
       "         14.,  123.])"
      ]
     },
     "execution_count": 56,
     "metadata": {},
     "output_type": "execute_result"
    }
   ],
   "source": [
    "cross_offsets.reshape((df.shape[1],df.shape[1]))[0,:11]"
   ]
  },
  {
   "cell_type": "code",
   "execution_count": 11,
   "id": "193218bf-356b-434f-83a6-94b15774f4aa",
   "metadata": {},
   "outputs": [],
   "source": [
    "for i in range(11):\n",
    "    if i!= 7 and i!=8 :\n",
    "        tehran_df_shifted[tehran_df_shifted.columns[i]] = tehran_df_shifted[tehran_df_shifted.columns[i]].shift(int(cross_offsets.reshape((df.shape[1],df.shape[1]))[0,:11][i]))"
   ]
  },
  {
   "cell_type": "code",
   "execution_count": 13,
   "id": "cc46ae86-295a-46e5-9100-e13b6033e214",
   "metadata": {},
   "outputs": [],
   "source": [
    "resulted_df = tehran_df_shifted[tehran_df_shifted.columns[:12]].iloc[-300:]"
   ]
  },
  {
   "cell_type": "code",
   "execution_count": 14,
   "id": "a6ee4e96-315f-4545-97da-d0594b02fe7e",
   "metadata": {},
   "outputs": [],
   "source": [
    "opec_df = pd.read_excel('../Data/opec.xlsx').set_index('date')"
   ]
  },
  {
   "cell_type": "code",
   "execution_count": 51,
   "id": "55d110b2-4f18-405a-b23f-8993209bcce1",
   "metadata": {},
   "outputs": [
    {
     "data": {
      "text/plain": [
       "DatetimeIndex(['2003-01-02', '2003-01-03', '2003-01-06', '2003-01-07',\n",
       "               '2003-01-08', '2003-01-09', '2003-01-10', '2003-01-13',\n",
       "               '2003-01-14', '2003-01-15',\n",
       "               ...\n",
       "               '2023-11-07', '2023-11-08', '2023-11-09', '2023-11-10',\n",
       "               '2023-11-13', '2023-11-14', '2023-11-15', '2023-11-16',\n",
       "               '2023-11-17', '2023-11-20'],\n",
       "              dtype='datetime64[ns]', name='date', length=5387, freq=None)"
      ]
     },
     "execution_count": 51,
     "metadata": {},
     "output_type": "execute_result"
    }
   ],
   "source": [
    "opec_df.index"
   ]
  },
  {
   "cell_type": "code",
   "execution_count": 57,
   "id": "95f8633e-a4f4-4a53-b995-67a4839499d8",
   "metadata": {},
   "outputs": [],
   "source": [
    "opec_df_period = opec_df.iloc[2130:4693+129]"
   ]
  },
  {
   "cell_type": "code",
   "execution_count": 61,
   "id": "fa791057-30a2-4ed3-b9da-abb10981c29b",
   "metadata": {},
   "outputs": [
    {
     "data": {
      "text/html": [
       "<div>\n",
       "<style scoped>\n",
       "    .dataframe tbody tr th:only-of-type {\n",
       "        vertical-align: middle;\n",
       "    }\n",
       "\n",
       "    .dataframe tbody tr th {\n",
       "        vertical-align: top;\n",
       "    }\n",
       "\n",
       "    .dataframe thead th {\n",
       "        text-align: right;\n",
       "    }\n",
       "</style>\n",
       "<table border=\"1\" class=\"dataframe\">\n",
       "  <thead>\n",
       "    <tr style=\"text-align: right;\">\n",
       "      <th></th>\n",
       "      <th>opec</th>\n",
       "    </tr>\n",
       "    <tr>\n",
       "      <th>date</th>\n",
       "      <th></th>\n",
       "    </tr>\n",
       "  </thead>\n",
       "  <tbody>\n",
       "    <tr>\n",
       "      <th>2012-05-24</th>\n",
       "      <td>103.49</td>\n",
       "    </tr>\n",
       "    <tr>\n",
       "      <th>2012-05-25</th>\n",
       "      <td>104.59</td>\n",
       "    </tr>\n",
       "    <tr>\n",
       "      <th>2012-05-28</th>\n",
       "      <td>105.01</td>\n",
       "    </tr>\n",
       "    <tr>\n",
       "      <th>2012-05-29</th>\n",
       "      <td>105.13</td>\n",
       "    </tr>\n",
       "    <tr>\n",
       "      <th>2012-05-30</th>\n",
       "      <td>102.75</td>\n",
       "    </tr>\n",
       "    <tr>\n",
       "      <th>...</th>\n",
       "      <td>...</td>\n",
       "    </tr>\n",
       "    <tr>\n",
       "      <th>2021-09-08</th>\n",
       "      <td>71.17</td>\n",
       "    </tr>\n",
       "    <tr>\n",
       "      <th>2021-09-09</th>\n",
       "      <td>71.82</td>\n",
       "    </tr>\n",
       "    <tr>\n",
       "      <th>2021-09-10</th>\n",
       "      <td>71.98</td>\n",
       "    </tr>\n",
       "    <tr>\n",
       "      <th>2021-09-13</th>\n",
       "      <td>72.77</td>\n",
       "    </tr>\n",
       "    <tr>\n",
       "      <th>2021-09-14</th>\n",
       "      <td>73.29</td>\n",
       "    </tr>\n",
       "  </tbody>\n",
       "</table>\n",
       "<p>2398 rows × 1 columns</p>\n",
       "</div>"
      ],
      "text/plain": [
       "              opec\n",
       "date              \n",
       "2012-05-24  103.49\n",
       "2012-05-25  104.59\n",
       "2012-05-28  105.01\n",
       "2012-05-29  105.13\n",
       "2012-05-30  102.75\n",
       "...            ...\n",
       "2021-09-08   71.17\n",
       "2021-09-09   71.82\n",
       "2021-09-10   71.98\n",
       "2021-09-13   72.77\n",
       "2021-09-14   73.29\n",
       "\n",
       "[2398 rows x 1 columns]"
      ]
     },
     "execution_count": 61,
     "metadata": {},
     "output_type": "execute_result"
    }
   ],
   "source": [
    "opec_df_period[-len(tehran_df)-1:]"
   ]
  },
  {
   "cell_type": "code",
   "execution_count": 62,
   "id": "45771a72-e50d-4069-a07b-76f83a89a4bb",
   "metadata": {},
   "outputs": [],
   "source": [
    "def price_return(p):\n",
    "        pr = []\n",
    "        for i in range(1, len(p)):\n",
    "            pr.append(np.log(p[i])-np.log(p[i-1]))\n",
    "        return pr"
   ]
  },
  {
   "cell_type": "code",
   "execution_count": 63,
   "id": "5d4ec831-c9d0-4c7b-bcad-762ebb003844",
   "metadata": {},
   "outputs": [],
   "source": [
    "opec_df_2021so_on = np.array(price_return(opec_df_period[-len(tehran_df)-1:]['opec'].values))\n",
    "opec_df_2021so_on -= np.mean(opec_df_2021so_on)\n",
    "opec_df_2021so_on /= np.std(opec_df_2021so_on)"
   ]
  },
  {
   "cell_type": "code",
   "execution_count": 17,
   "id": "bba3b5ce-8bf5-47dd-ad66-20ad1c9d939c",
   "metadata": {},
   "outputs": [],
   "source": [
    "# opec_df_2021so_on = np.array(price_return(opec_df[4693:]['opec'].values))\n",
    "# opec_df_2021so_on -= np.mean(opec_df_2021so_on)\n",
    "# opec_df_2021so_on /= np.std(opec_df_2021so_on)"
   ]
  },
  {
   "cell_type": "code",
   "execution_count": 18,
   "id": "39d00e32-c8bd-4c12-ac53-bba166ba72e0",
   "metadata": {},
   "outputs": [],
   "source": [
    "# half_oil = tehran_df_shifted[-300:]['Brent Oil'].dropna().values"
   ]
  },
  {
   "cell_type": "code",
   "execution_count": 19,
   "id": "039f3113-81dd-4ff2-8cae-b1b987239d11",
   "metadata": {},
   "outputs": [],
   "source": [
    "# first = []\n",
    "# second = []\n",
    "# for i in range(len(half_oil)):\n",
    "#     first.append(half_oil[i])"
   ]
  },
  {
   "cell_type": "code",
   "execution_count": 20,
   "id": "6f7a82d7-f117-4b43-b4dd-70354b608fbe",
   "metadata": {},
   "outputs": [],
   "source": [
    "# for i in range(300-len(half_oil)):\n",
    "#     first.append(opec_df_2021so_on[i])"
   ]
  },
  {
   "cell_type": "code",
   "execution_count": 22,
   "id": "566f3097-3016-4294-9f1e-cd9da3197bb8",
   "metadata": {},
   "outputs": [],
   "source": [
    "last300_tehran_df_shifted = tehran_df_shifted[-300:]"
   ]
  },
  {
   "cell_type": "code",
   "execution_count": 23,
   "id": "91a2fb55-33c6-4d40-b10c-0794f270ff7a",
   "metadata": {},
   "outputs": [
    {
     "name": "stderr",
     "output_type": "stream",
     "text": [
      "/var/folders/mj/xw3m0dws3yq8j2md9n8j3g940000gn/T/ipykernel_1177/6601695.py:1: SettingWithCopyWarning: \n",
      "A value is trying to be set on a copy of a slice from a DataFrame.\n",
      "Try using .loc[row_indexer,col_indexer] = value instead\n",
      "\n",
      "See the caveats in the documentation: https://pandas.pydata.org/pandas-docs/stable/user_guide/indexing.html#returning-a-view-versus-a-copy\n",
      "  last300_tehran_df_shifted['Brent Oil'] = first\n"
     ]
    }
   ],
   "source": [
    "last300_tehran_df_shifted['Brent Oil'] = first"
   ]
  },
  {
   "cell_type": "code",
   "execution_count": 69,
   "id": "d5ba5b8c-32f9-47ff-bebf-34865537437f",
   "metadata": {},
   "outputs": [],
   "source": [
    "tehran_df_shifted['Brent Oil'] = opec_df_2021so_on"
   ]
  },
  {
   "cell_type": "code",
   "execution_count": 72,
   "id": "855ecdf1-3c33-4353-8f60-cb4b9d20069e",
   "metadata": {},
   "outputs": [],
   "source": [
    "tehran_df_shifted.dropna().to_csv('Tehran_df_shifted.csv')"
   ]
  },
  {
   "cell_type": "code",
   "execution_count": null,
   "id": "c75a6777-87d4-4b43-b12b-9b2883b55858",
   "metadata": {},
   "outputs": [],
   "source": []
  }
 ],
 "metadata": {
  "kernelspec": {
   "display_name": "Python 3 (ipykernel)",
   "language": "python",
   "name": "python3"
  },
  "language_info": {
   "codemirror_mode": {
    "name": "ipython",
    "version": 3
   },
   "file_extension": ".py",
   "mimetype": "text/x-python",
   "name": "python",
   "nbconvert_exporter": "python",
   "pygments_lexer": "ipython3",
   "version": "3.11.0"
  }
 },
 "nbformat": 4,
 "nbformat_minor": 5
}
