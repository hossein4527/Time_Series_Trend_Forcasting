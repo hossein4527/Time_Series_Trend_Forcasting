{
 "cells": [
  {
   "cell_type": "code",
   "execution_count": 4,
   "id": "9df9b137-c106-48b0-bec0-f8310cf49fe6",
   "metadata": {},
   "outputs": [],
   "source": [
    "from ned import Net_moduls\n",
    "import networkx as nx\n",
    "import numpy as np"
   ]
  },
  {
   "cell_type": "code",
   "execution_count": 5,
   "id": "dcc17b6b-11f5-4b32-bd9f-32f409077154",
   "metadata": {},
   "outputs": [],
   "source": [
    "from nxviz.plots import CircosPlot"
   ]
  },
  {
   "cell_type": "code",
   "execution_count": 6,
   "id": "ed51ca32-ac02-4621-9b8a-5caa6cb697cd",
   "metadata": {},
   "outputs": [],
   "source": [
    "import pandas as pd\n",
    "import matplotlib.pyplot as plt"
   ]
  },
  {
   "cell_type": "markdown",
   "id": "c102abae-74b4-4a85-946d-b9faecf3cc47",
   "metadata": {},
   "source": [
    "# Data"
   ]
  },
  {
   "cell_type": "markdown",
   "id": "ca7ffdbb-ed51-4350-b647-1044f302e428",
   "metadata": {},
   "source": [
    "## Tehran Index DF and Tehran DF Normed Return 90 Far - 00 Far"
   ]
  },
  {
   "cell_type": "code",
   "execution_count": 7,
   "id": "c8b144ad-a231-44a7-8864-d8743eeb278b",
   "metadata": {},
   "outputs": [],
   "source": [
    "tehran_index = pd.read_excel('../Data/Tehran_Indexes_Price_NoRegime.xlsx').set_index('date')"
   ]
  },
  {
   "cell_type": "code",
   "execution_count": 8,
   "id": "9f426c61-1e01-43d5-99e3-6d5457b71a6e",
   "metadata": {},
   "outputs": [],
   "source": [
    "tehran_df_reg = pd.read_excel('../Data/Tehran_Indexes_NormedReturned_Regimed.xlsx').set_index('date')"
   ]
  },
  {
   "cell_type": "code",
   "execution_count": 9,
   "id": "bad0a593-807b-4c5b-b9c9-ade80cfbffc5",
   "metadata": {},
   "outputs": [],
   "source": [
    "tehran_index_99 = pd.read_excel('../Data/Tehran_Indexes_NormedReturned_Regimed_newox.xlsx').set_index('date')"
   ]
  },
  {
   "cell_type": "markdown",
   "id": "4c78b44b-f17c-4773-9a8a-7540bd95385c",
   "metadata": {},
   "source": [
    "## Tehran DF Normed Return 90 Far - 98 Dey"
   ]
  },
  {
   "cell_type": "code",
   "execution_count": 10,
   "id": "3b865b37-ed9f-4d8f-990d-09f673b7f91e",
   "metadata": {},
   "outputs": [],
   "source": [
    "tehran_df = pd.read_excel('../Data/Tehran_Indexes_NormedReturned_Regimed.xlsx').set_index('date')\n",
    "tehran_df = tehran_df[tehran_df.columns[:-12]].iloc[:-300]"
   ]
  },
  {
   "cell_type": "markdown",
   "id": "da4f9608-498a-4956-8752-7013a814f5a0",
   "metadata": {},
   "source": [
    "## Tehran DF Normed Return 90 Far - 00 Far"
   ]
  },
  {
   "cell_type": "code",
   "execution_count": 11,
   "id": "9a3632e3-6d14-4477-b9da-f8e9a9e924b6",
   "metadata": {},
   "outputs": [],
   "source": [
    "tehran_df_completeDates = pd.read_excel('../Data/Tehran_Indexes_NormedReturned_Regimed.xlsx').set_index('date')\n",
    "tehran_df_completeDates = tehran_df_completeDates[tehran_df_completeDates.columns[:-12]]"
   ]
  },
  {
   "cell_type": "code",
   "execution_count": 130,
   "id": "bb1161c1-19e5-46c9-9359-7e9b3d661fd0",
   "metadata": {},
   "outputs": [
    {
     "data": {
      "text/html": [
       "<div>\n",
       "<style scoped>\n",
       "    .dataframe tbody tr th:only-of-type {\n",
       "        vertical-align: middle;\n",
       "    }\n",
       "\n",
       "    .dataframe tbody tr th {\n",
       "        vertical-align: top;\n",
       "    }\n",
       "\n",
       "    .dataframe thead th {\n",
       "        text-align: right;\n",
       "    }\n",
       "</style>\n",
       "<table border=\"1\" class=\"dataframe\">\n",
       "  <thead>\n",
       "    <tr style=\"text-align: right;\">\n",
       "      <th></th>\n",
       "      <th>index</th>\n",
       "      <th>Brent Oil</th>\n",
       "      <th>Coin</th>\n",
       "      <th>Euro</th>\n",
       "      <th>USD</th>\n",
       "      <th>CPI</th>\n",
       "      <th>HOUSE</th>\n",
       "      <th>M1</th>\n",
       "      <th>M2</th>\n",
       "      <th>GDP</th>\n",
       "      <th>...</th>\n",
       "      <th>KanehayeGeyreFelezi</th>\n",
       "      <th>SarmayeGozari</th>\n",
       "      <th>Bank</th>\n",
       "      <th>SayerMali</th>\n",
       "      <th>HamlVaNaghl</th>\n",
       "      <th>Bimeh</th>\n",
       "      <th>Amlakva</th>\n",
       "      <th>Rayaneh</th>\n",
       "      <th>FaniVaMohandesi</th>\n",
       "      <th>Mali</th>\n",
       "    </tr>\n",
       "    <tr>\n",
       "      <th>date</th>\n",
       "      <th></th>\n",
       "      <th></th>\n",
       "      <th></th>\n",
       "      <th></th>\n",
       "      <th></th>\n",
       "      <th></th>\n",
       "      <th></th>\n",
       "      <th></th>\n",
       "      <th></th>\n",
       "      <th></th>\n",
       "      <th></th>\n",
       "      <th></th>\n",
       "      <th></th>\n",
       "      <th></th>\n",
       "      <th></th>\n",
       "      <th></th>\n",
       "      <th></th>\n",
       "      <th></th>\n",
       "      <th></th>\n",
       "      <th></th>\n",
       "      <th></th>\n",
       "    </tr>\n",
       "  </thead>\n",
       "  <tbody>\n",
       "    <tr>\n",
       "      <th>2011-04-03</th>\n",
       "      <td>1.589201</td>\n",
       "      <td>1.204279</td>\n",
       "      <td>-0.064676</td>\n",
       "      <td>0.003352</td>\n",
       "      <td>0.074196</td>\n",
       "      <td>0.254219</td>\n",
       "      <td>-0.085913</td>\n",
       "      <td>0.576463</td>\n",
       "      <td>0.006246</td>\n",
       "      <td>0.286208</td>\n",
       "      <td>...</td>\n",
       "      <td>0.160567</td>\n",
       "      <td>2.194912</td>\n",
       "      <td>0.133016</td>\n",
       "      <td>0.547947</td>\n",
       "      <td>-0.048002</td>\n",
       "      <td>0.505760</td>\n",
       "      <td>-0.499533</td>\n",
       "      <td>1.954830</td>\n",
       "      <td>1.634039</td>\n",
       "      <td>0.064607</td>\n",
       "    </tr>\n",
       "    <tr>\n",
       "      <th>2011-04-04</th>\n",
       "      <td>1.722932</td>\n",
       "      <td>0.469966</td>\n",
       "      <td>-0.064676</td>\n",
       "      <td>0.036767</td>\n",
       "      <td>0.167701</td>\n",
       "      <td>0.243984</td>\n",
       "      <td>-0.089951</td>\n",
       "      <td>0.541770</td>\n",
       "      <td>-0.009379</td>\n",
       "      <td>0.281797</td>\n",
       "      <td>...</td>\n",
       "      <td>0.469487</td>\n",
       "      <td>1.815934</td>\n",
       "      <td>0.198961</td>\n",
       "      <td>-0.136229</td>\n",
       "      <td>0.043659</td>\n",
       "      <td>-0.455818</td>\n",
       "      <td>0.011190</td>\n",
       "      <td>2.114426</td>\n",
       "      <td>1.645789</td>\n",
       "      <td>0.055551</td>\n",
       "    </tr>\n",
       "    <tr>\n",
       "      <th>2011-04-05</th>\n",
       "      <td>1.019755</td>\n",
       "      <td>0.042574</td>\n",
       "      <td>0.468825</td>\n",
       "      <td>0.601781</td>\n",
       "      <td>0.166654</td>\n",
       "      <td>0.233784</td>\n",
       "      <td>-0.093977</td>\n",
       "      <td>0.507324</td>\n",
       "      <td>-0.024956</td>\n",
       "      <td>0.277420</td>\n",
       "      <td>...</td>\n",
       "      <td>0.540526</td>\n",
       "      <td>0.457592</td>\n",
       "      <td>0.506722</td>\n",
       "      <td>-0.662255</td>\n",
       "      <td>0.141696</td>\n",
       "      <td>-0.570587</td>\n",
       "      <td>0.633858</td>\n",
       "      <td>-0.466934</td>\n",
       "      <td>1.052193</td>\n",
       "      <td>0.063312</td>\n",
       "    </tr>\n",
       "    <tr>\n",
       "      <th>2011-04-06</th>\n",
       "      <td>1.014672</td>\n",
       "      <td>0.230915</td>\n",
       "      <td>0.462820</td>\n",
       "      <td>0.593512</td>\n",
       "      <td>-0.067327</td>\n",
       "      <td>2.006361</td>\n",
       "      <td>0.406780</td>\n",
       "      <td>1.861511</td>\n",
       "      <td>1.285460</td>\n",
       "      <td>1.036407</td>\n",
       "      <td>...</td>\n",
       "      <td>0.025923</td>\n",
       "      <td>0.030873</td>\n",
       "      <td>0.260950</td>\n",
       "      <td>-1.065379</td>\n",
       "      <td>1.847740</td>\n",
       "      <td>-0.425628</td>\n",
       "      <td>0.496701</td>\n",
       "      <td>-1.418311</td>\n",
       "      <td>0.646754</td>\n",
       "      <td>0.023379</td>\n",
       "    </tr>\n",
       "    <tr>\n",
       "      <th>2011-04-09</th>\n",
       "      <td>-0.905728</td>\n",
       "      <td>0.229916</td>\n",
       "      <td>0.167874</td>\n",
       "      <td>0.099263</td>\n",
       "      <td>-0.020656</td>\n",
       "      <td>0.193316</td>\n",
       "      <td>-0.109980</td>\n",
       "      <td>0.371764</td>\n",
       "      <td>-0.086816</td>\n",
       "      <td>0.260230</td>\n",
       "      <td>...</td>\n",
       "      <td>-0.331206</td>\n",
       "      <td>-1.970878</td>\n",
       "      <td>-0.068564</td>\n",
       "      <td>-1.601712</td>\n",
       "      <td>0.582609</td>\n",
       "      <td>-0.154531</td>\n",
       "      <td>-0.217298</td>\n",
       "      <td>-1.027845</td>\n",
       "      <td>0.062933</td>\n",
       "      <td>-0.056198</td>\n",
       "    </tr>\n",
       "    <tr>\n",
       "      <th>...</th>\n",
       "      <td>...</td>\n",
       "      <td>...</td>\n",
       "      <td>...</td>\n",
       "      <td>...</td>\n",
       "      <td>...</td>\n",
       "      <td>...</td>\n",
       "      <td>...</td>\n",
       "      <td>...</td>\n",
       "      <td>...</td>\n",
       "      <td>...</td>\n",
       "      <td>...</td>\n",
       "      <td>...</td>\n",
       "      <td>...</td>\n",
       "      <td>...</td>\n",
       "      <td>...</td>\n",
       "      <td>...</td>\n",
       "      <td>...</td>\n",
       "      <td>...</td>\n",
       "      <td>...</td>\n",
       "      <td>...</td>\n",
       "      <td>...</td>\n",
       "    </tr>\n",
       "    <tr>\n",
       "      <th>2021-03-13</th>\n",
       "      <td>0.998449</td>\n",
       "      <td>-0.089874</td>\n",
       "      <td>-0.626751</td>\n",
       "      <td>0.145095</td>\n",
       "      <td>-0.635281</td>\n",
       "      <td>-0.295096</td>\n",
       "      <td>0.432025</td>\n",
       "      <td>0.371062</td>\n",
       "      <td>0.725272</td>\n",
       "      <td>-0.032133</td>\n",
       "      <td>...</td>\n",
       "      <td>-0.418335</td>\n",
       "      <td>-0.190726</td>\n",
       "      <td>1.355833</td>\n",
       "      <td>-0.285347</td>\n",
       "      <td>-0.094256</td>\n",
       "      <td>-0.116494</td>\n",
       "      <td>-0.102902</td>\n",
       "      <td>-0.021539</td>\n",
       "      <td>0.212478</td>\n",
       "      <td>0.071590</td>\n",
       "    </tr>\n",
       "    <tr>\n",
       "      <th>2021-03-14</th>\n",
       "      <td>0.499740</td>\n",
       "      <td>-0.090086</td>\n",
       "      <td>0.241163</td>\n",
       "      <td>-0.056350</td>\n",
       "      <td>-0.067327</td>\n",
       "      <td>-0.299116</td>\n",
       "      <td>0.438806</td>\n",
       "      <td>0.374310</td>\n",
       "      <td>0.738386</td>\n",
       "      <td>-0.031753</td>\n",
       "      <td>...</td>\n",
       "      <td>-0.463479</td>\n",
       "      <td>-0.278258</td>\n",
       "      <td>0.241875</td>\n",
       "      <td>-0.219607</td>\n",
       "      <td>-0.234502</td>\n",
       "      <td>-0.145709</td>\n",
       "      <td>-0.087534</td>\n",
       "      <td>-0.635660</td>\n",
       "      <td>0.292574</td>\n",
       "      <td>0.003307</td>\n",
       "    </tr>\n",
       "    <tr>\n",
       "      <th>2021-03-15</th>\n",
       "      <td>2.410404</td>\n",
       "      <td>-0.409838</td>\n",
       "      <td>-0.064676</td>\n",
       "      <td>0.508198</td>\n",
       "      <td>0.309083</td>\n",
       "      <td>-0.303131</td>\n",
       "      <td>0.445527</td>\n",
       "      <td>0.377536</td>\n",
       "      <td>0.751411</td>\n",
       "      <td>-0.031373</td>\n",
       "      <td>...</td>\n",
       "      <td>-0.156443</td>\n",
       "      <td>-0.021304</td>\n",
       "      <td>1.787282</td>\n",
       "      <td>-0.318211</td>\n",
       "      <td>0.419687</td>\n",
       "      <td>0.242140</td>\n",
       "      <td>0.439195</td>\n",
       "      <td>0.181020</td>\n",
       "      <td>2.043409</td>\n",
       "      <td>0.127292</td>\n",
       "    </tr>\n",
       "    <tr>\n",
       "      <th>2021-03-16</th>\n",
       "      <td>1.042276</td>\n",
       "      <td>-0.222001</td>\n",
       "      <td>-0.064676</td>\n",
       "      <td>-0.740117</td>\n",
       "      <td>-0.174286</td>\n",
       "      <td>-0.307140</td>\n",
       "      <td>0.452187</td>\n",
       "      <td>0.380742</td>\n",
       "      <td>0.764348</td>\n",
       "      <td>-0.030994</td>\n",
       "      <td>...</td>\n",
       "      <td>-0.403158</td>\n",
       "      <td>-0.028167</td>\n",
       "      <td>1.340616</td>\n",
       "      <td>0.364110</td>\n",
       "      <td>-0.214809</td>\n",
       "      <td>0.555836</td>\n",
       "      <td>0.153715</td>\n",
       "      <td>0.338362</td>\n",
       "      <td>1.168407</td>\n",
       "      <td>0.099935</td>\n",
       "    </tr>\n",
       "    <tr>\n",
       "      <th>2021-03-17</th>\n",
       "      <td>-0.148866</td>\n",
       "      <td>0.011088</td>\n",
       "      <td>-0.064676</td>\n",
       "      <td>-0.063796</td>\n",
       "      <td>-0.067327</td>\n",
       "      <td>-0.682937</td>\n",
       "      <td>-0.356384</td>\n",
       "      <td>-0.271969</td>\n",
       "      <td>-0.726669</td>\n",
       "      <td>-0.115045</td>\n",
       "      <td>...</td>\n",
       "      <td>-0.152642</td>\n",
       "      <td>-0.131239</td>\n",
       "      <td>-0.090467</td>\n",
       "      <td>-0.059021</td>\n",
       "      <td>-0.030641</td>\n",
       "      <td>-0.099446</td>\n",
       "      <td>-0.087853</td>\n",
       "      <td>-0.113302</td>\n",
       "      <td>-0.063297</td>\n",
       "      <td>-0.014755</td>\n",
       "    </tr>\n",
       "  </tbody>\n",
       "</table>\n",
       "<p>1276 rows × 46 columns</p>\n",
       "</div>"
      ],
      "text/plain": [
       "               index  Brent Oil      Coin      Euro       USD       CPI  \\\n",
       "date                                                                      \n",
       "2011-04-03  1.589201   1.204279 -0.064676  0.003352  0.074196  0.254219   \n",
       "2011-04-04  1.722932   0.469966 -0.064676  0.036767  0.167701  0.243984   \n",
       "2011-04-05  1.019755   0.042574  0.468825  0.601781  0.166654  0.233784   \n",
       "2011-04-06  1.014672   0.230915  0.462820  0.593512 -0.067327  2.006361   \n",
       "2011-04-09 -0.905728   0.229916  0.167874  0.099263 -0.020656  0.193316   \n",
       "...              ...        ...       ...       ...       ...       ...   \n",
       "2021-03-13  0.998449  -0.089874 -0.626751  0.145095 -0.635281 -0.295096   \n",
       "2021-03-14  0.499740  -0.090086  0.241163 -0.056350 -0.067327 -0.299116   \n",
       "2021-03-15  2.410404  -0.409838 -0.064676  0.508198  0.309083 -0.303131   \n",
       "2021-03-16  1.042276  -0.222001 -0.064676 -0.740117 -0.174286 -0.307140   \n",
       "2021-03-17 -0.148866   0.011088 -0.064676 -0.063796 -0.067327 -0.682937   \n",
       "\n",
       "               HOUSE        M1        M2       GDP  ...  KanehayeGeyreFelezi  \\\n",
       "date                                                ...                        \n",
       "2011-04-03 -0.085913  0.576463  0.006246  0.286208  ...             0.160567   \n",
       "2011-04-04 -0.089951  0.541770 -0.009379  0.281797  ...             0.469487   \n",
       "2011-04-05 -0.093977  0.507324 -0.024956  0.277420  ...             0.540526   \n",
       "2011-04-06  0.406780  1.861511  1.285460  1.036407  ...             0.025923   \n",
       "2011-04-09 -0.109980  0.371764 -0.086816  0.260230  ...            -0.331206   \n",
       "...              ...       ...       ...       ...  ...                  ...   \n",
       "2021-03-13  0.432025  0.371062  0.725272 -0.032133  ...            -0.418335   \n",
       "2021-03-14  0.438806  0.374310  0.738386 -0.031753  ...            -0.463479   \n",
       "2021-03-15  0.445527  0.377536  0.751411 -0.031373  ...            -0.156443   \n",
       "2021-03-16  0.452187  0.380742  0.764348 -0.030994  ...            -0.403158   \n",
       "2021-03-17 -0.356384 -0.271969 -0.726669 -0.115045  ...            -0.152642   \n",
       "\n",
       "            SarmayeGozari      Bank  SayerMali  HamlVaNaghl     Bimeh  \\\n",
       "date                                                                    \n",
       "2011-04-03       2.194912  0.133016   0.547947    -0.048002  0.505760   \n",
       "2011-04-04       1.815934  0.198961  -0.136229     0.043659 -0.455818   \n",
       "2011-04-05       0.457592  0.506722  -0.662255     0.141696 -0.570587   \n",
       "2011-04-06       0.030873  0.260950  -1.065379     1.847740 -0.425628   \n",
       "2011-04-09      -1.970878 -0.068564  -1.601712     0.582609 -0.154531   \n",
       "...                   ...       ...        ...          ...       ...   \n",
       "2021-03-13      -0.190726  1.355833  -0.285347    -0.094256 -0.116494   \n",
       "2021-03-14      -0.278258  0.241875  -0.219607    -0.234502 -0.145709   \n",
       "2021-03-15      -0.021304  1.787282  -0.318211     0.419687  0.242140   \n",
       "2021-03-16      -0.028167  1.340616   0.364110    -0.214809  0.555836   \n",
       "2021-03-17      -0.131239 -0.090467  -0.059021    -0.030641 -0.099446   \n",
       "\n",
       "             Amlakva   Rayaneh  FaniVaMohandesi      Mali  \n",
       "date                                                       \n",
       "2011-04-03 -0.499533  1.954830         1.634039  0.064607  \n",
       "2011-04-04  0.011190  2.114426         1.645789  0.055551  \n",
       "2011-04-05  0.633858 -0.466934         1.052193  0.063312  \n",
       "2011-04-06  0.496701 -1.418311         0.646754  0.023379  \n",
       "2011-04-09 -0.217298 -1.027845         0.062933 -0.056198  \n",
       "...              ...       ...              ...       ...  \n",
       "2021-03-13 -0.102902 -0.021539         0.212478  0.071590  \n",
       "2021-03-14 -0.087534 -0.635660         0.292574  0.003307  \n",
       "2021-03-15  0.439195  0.181020         2.043409  0.127292  \n",
       "2021-03-16  0.153715  0.338362         1.168407  0.099935  \n",
       "2021-03-17 -0.087853 -0.113302        -0.063297 -0.014755  \n",
       "\n",
       "[1276 rows x 46 columns]"
      ]
     },
     "execution_count": 130,
     "metadata": {},
     "output_type": "execute_result"
    }
   ],
   "source": [
    "tehran_df_TwoReg_Ox_1"
   ]
  },
  {
   "cell_type": "markdown",
   "id": "a4125284-a73a-410c-b20f-0dfc8117b2ca",
   "metadata": {},
   "source": [
    "## Tehran Ox 2 Regimed DF Normed Return 90 Far - 00 Far "
   ]
  },
  {
   "cell_type": "code",
   "execution_count": 12,
   "id": "a93b83b1-4d28-4289-8aa1-5e071f811f5e",
   "metadata": {},
   "outputs": [],
   "source": [
    "tehran_df_TwoReg_Ox_1 = tehran_df_reg[tehran_df_reg['Ox_2']==0]\n",
    "tehran_df_TwoReg_Ox_2 = tehran_df_reg[tehran_df_reg['Ox_2']==1]\n",
    "tehran_df_TwoReg_Ox_1 = tehran_df_TwoReg_Ox_1[tehran_df_TwoReg_Ox_1.columns[:-12]]\n",
    "tehran_df_TwoReg_Ox_2 = tehran_df_TwoReg_Ox_2[tehran_df_TwoReg_Ox_2.columns[:-12]]"
   ]
  },
  {
   "cell_type": "markdown",
   "id": "41e8199a-1ba2-4725-a670-7fec70aaa67b",
   "metadata": {},
   "source": [
    "## Tehran Ox 2 Regimed DF Normed Return 90 Far - 98 Dey "
   ]
  },
  {
   "cell_type": "code",
   "execution_count": 13,
   "id": "4e389eaf-b70b-4589-8fa6-bd3d04eba1bd",
   "metadata": {},
   "outputs": [
    {
     "name": "stderr",
     "output_type": "stream",
     "text": [
      "/var/folders/mj/xw3m0dws3yq8j2md9n8j3g940000gn/T/ipykernel_1608/2195039282.py:1: UserWarning: Boolean Series key will be reindexed to match DataFrame index.\n",
      "  tehran_df_TwoReg_Ox_1_98 = tehran_df[tehran_df_reg['Ox_2']==0]\n",
      "/var/folders/mj/xw3m0dws3yq8j2md9n8j3g940000gn/T/ipykernel_1608/2195039282.py:2: UserWarning: Boolean Series key will be reindexed to match DataFrame index.\n",
      "  tehran_df_TwoReg_Ox_2_98 = tehran_df[tehran_df_reg['Ox_2']==1]\n"
     ]
    }
   ],
   "source": [
    "tehran_df_TwoReg_Ox_1_98 = tehran_df[tehran_df_reg['Ox_2']==0]\n",
    "tehran_df_TwoReg_Ox_2_98 = tehran_df[tehran_df_reg['Ox_2']==1]"
   ]
  },
  {
   "cell_type": "markdown",
   "id": "46905361-c6f4-419a-b2dd-048ec99f9e13",
   "metadata": {},
   "source": [
    "## Tehran Ox 2 Regimed DF Normed Return 90 Far - 00 Far / Same Length"
   ]
  },
  {
   "cell_type": "code",
   "execution_count": 14,
   "id": "b0fa1dd0-9268-40cf-9d30-2d260d2c1c93",
   "metadata": {},
   "outputs": [],
   "source": [
    "max_length_TwoReg_Ox_2 = min(len(tehran_df_TwoReg_Ox_1), len(tehran_df_TwoReg_Ox_2))\n",
    "tehran_df_TwoReg_Ox_1_same_length = tehran_df_TwoReg_Ox_1[-max_length_TwoReg_Ox_2:]\n",
    "tehran_df_TwoReg_Ox_2_same_length = tehran_df_TwoReg_Ox_2[-max_length_TwoReg_Ox_2:]"
   ]
  },
  {
   "cell_type": "markdown",
   "id": "6d4aac30-c4b3-411d-9260-2e9edec1c236",
   "metadata": {},
   "source": [
    "## Tehran Ox 2 Regimed DF Normed Return 90 Far - 98 Dey / Same Length"
   ]
  },
  {
   "cell_type": "code",
   "execution_count": 15,
   "id": "ff44046a-fb23-4b05-9845-fe7d3693e24a",
   "metadata": {},
   "outputs": [],
   "source": [
    "max_length_TwoReg_Ox_2_98 = min(len(tehran_df_TwoReg_Ox_1_98), len(tehran_df_TwoReg_Ox_2_98))\n",
    "tehran_df_TwoReg_Ox_1_same_length_98 = tehran_df_TwoReg_Ox_1_98[-max_length_TwoReg_Ox_2_98:]\n",
    "tehran_df_TwoReg_Ox_2_same_length_98 = tehran_df_TwoReg_Ox_2_98[-max_length_TwoReg_Ox_2_98:]"
   ]
  },
  {
   "cell_type": "markdown",
   "id": "658b3bac-91f1-4cb0-a7bd-e70f2777d851",
   "metadata": {},
   "source": [
    "## Tehran Ox 2 1399 Regimed DF Normed Return 99 - 1400  "
   ]
  },
  {
   "cell_type": "code",
   "execution_count": 16,
   "id": "2ef8189e-3292-47e4-800f-cbb5950c6de1",
   "metadata": {},
   "outputs": [],
   "source": [
    "tehran_df_TwoReg_Ox_99_1 = tehran_df_reg[tehran_index_99['ox-2-1year']==0]\n",
    "tehran_df_TwoReg_Ox_99_2 = tehran_df_reg[tehran_index_99['ox-2-1year']==1]\n",
    "tehran_df_TwoReg_Ox_99_1 = tehran_df_TwoReg_Ox_99_1[tehran_df_TwoReg_Ox_99_1.columns[:-12]]\n",
    "tehran_df_TwoReg_Ox_99_2 = tehran_df_TwoReg_Ox_99_2[tehran_df_TwoReg_Ox_99_2.columns[:-12]]"
   ]
  },
  {
   "cell_type": "code",
   "execution_count": 17,
   "id": "f0e80c2d-16c2-4119-bd5b-b315e1ad46e3",
   "metadata": {},
   "outputs": [],
   "source": [
    "max_length_TwoReg_Ox_99_2 = min(len(tehran_df_TwoReg_Ox_99_1), len(tehran_df_TwoReg_Ox_99_2))\n",
    "tehran_df_TwoReg_Ox_99_1_same_length = tehran_df_TwoReg_Ox_99_1[-max_length_TwoReg_Ox_99_2:]\n",
    "tehran_df_TwoReg_Ox_99_2_same_length = tehran_df_TwoReg_Ox_99_2[-max_length_TwoReg_Ox_99_2:]"
   ]
  },
  {
   "cell_type": "markdown",
   "id": "bbb0403b-0b0b-4e95-98a8-af32b6d85453",
   "metadata": {},
   "source": [
    "## Tehran Ox 3 Regimed DF Normed Return 90 Far - 98 Dey "
   ]
  },
  {
   "cell_type": "code",
   "execution_count": 18,
   "id": "0e7f3322-0d00-4876-846a-f3e749653ccf",
   "metadata": {},
   "outputs": [
    {
     "name": "stderr",
     "output_type": "stream",
     "text": [
      "/var/folders/mj/xw3m0dws3yq8j2md9n8j3g940000gn/T/ipykernel_1608/3966413187.py:1: UserWarning: Boolean Series key will be reindexed to match DataFrame index.\n",
      "  tehran_df_ThreeReg_Ox_1_98 = tehran_df[tehran_df_reg['Ox_3']==0]\n",
      "/var/folders/mj/xw3m0dws3yq8j2md9n8j3g940000gn/T/ipykernel_1608/3966413187.py:2: UserWarning: Boolean Series key will be reindexed to match DataFrame index.\n",
      "  tehran_df_ThreeReg_Ox_2_98 = tehran_df[tehran_df_reg['Ox_3']==1]\n",
      "/var/folders/mj/xw3m0dws3yq8j2md9n8j3g940000gn/T/ipykernel_1608/3966413187.py:3: UserWarning: Boolean Series key will be reindexed to match DataFrame index.\n",
      "  tehran_df_ThreeReg_Ox_3_98 = tehran_df[tehran_df_reg['Ox_3']==2]\n"
     ]
    }
   ],
   "source": [
    "tehran_df_ThreeReg_Ox_1_98 = tehran_df[tehran_df_reg['Ox_3']==0]\n",
    "tehran_df_ThreeReg_Ox_2_98 = tehran_df[tehran_df_reg['Ox_3']==1]\n",
    "tehran_df_ThreeReg_Ox_3_98 = tehran_df[tehran_df_reg['Ox_3']==2]"
   ]
  },
  {
   "cell_type": "markdown",
   "id": "e4b8d394-34b1-41a5-8e6a-d8d3b8b814f2",
   "metadata": {},
   "source": [
    "## Tehran Ox 3 Regimed DF Normed Return 90 Far - 98 Dey / Same Length"
   ]
  },
  {
   "cell_type": "code",
   "execution_count": 19,
   "id": "e81ab10f-0c2b-413f-a267-b785d6b3960b",
   "metadata": {},
   "outputs": [],
   "source": [
    "max_length_ThreeReg_Ox_90_98 = min(len(tehran_df_ThreeReg_Ox_1_98), len(tehran_df_ThreeReg_Ox_2_98),len(tehran_df_ThreeReg_Ox_3_98))\n",
    "tehran_df_ThreeReg_Ox_1_same_length_98 = tehran_df_ThreeReg_Ox_1_98[-max_length_ThreeReg_Ox_90_98:]\n",
    "tehran_df_ThreeReg_Ox_2_same_length_98 = tehran_df_ThreeReg_Ox_2_98[-max_length_ThreeReg_Ox_90_98:]\n",
    "tehran_df_ThreeReg_Ox_3_same_length_98 = tehran_df_ThreeReg_Ox_3_98[-max_length_ThreeReg_Ox_90_98:]"
   ]
  },
  {
   "cell_type": "markdown",
   "id": "98e949cc-0b71-427e-9976-6708b4611365",
   "metadata": {},
   "source": [
    "## Tehran pn 3 Regimed DF Normed Return 90 Far - 98 Dey "
   ]
  },
  {
   "cell_type": "code",
   "execution_count": 20,
   "id": "61502455-13cb-41db-8adf-ce788523bb33",
   "metadata": {},
   "outputs": [
    {
     "name": "stderr",
     "output_type": "stream",
     "text": [
      "/var/folders/mj/xw3m0dws3yq8j2md9n8j3g940000gn/T/ipykernel_1608/1219616497.py:1: UserWarning: Boolean Series key will be reindexed to match DataFrame index.\n",
      "  tehran_df_ThreeReg_pn_1_98 = tehran_df[tehran_df_reg['3_PN']==1]\n",
      "/var/folders/mj/xw3m0dws3yq8j2md9n8j3g940000gn/T/ipykernel_1608/1219616497.py:2: UserWarning: Boolean Series key will be reindexed to match DataFrame index.\n",
      "  tehran_df_ThreeReg_pn_2_98 = tehran_df[tehran_df_reg['3_PN']==2]\n",
      "/var/folders/mj/xw3m0dws3yq8j2md9n8j3g940000gn/T/ipykernel_1608/1219616497.py:3: UserWarning: Boolean Series key will be reindexed to match DataFrame index.\n",
      "  tehran_df_ThreeReg_pn_3_98 = tehran_df[tehran_df_reg['3_PN']==3]\n"
     ]
    }
   ],
   "source": [
    "tehran_df_ThreeReg_pn_1_98 = tehran_df[tehran_df_reg['3_PN']==1]\n",
    "tehran_df_ThreeReg_pn_2_98 = tehran_df[tehran_df_reg['3_PN']==2]\n",
    "tehran_df_ThreeReg_pn_3_98 = tehran_df[tehran_df_reg['3_PN']==3]"
   ]
  },
  {
   "cell_type": "markdown",
   "id": "2b92e63d-e8f5-4b35-a53a-297f910bd295",
   "metadata": {},
   "source": [
    "## Tehran pn 3 Regimed DF Normed Return 90 Far - 98 Dey / Same Length"
   ]
  },
  {
   "cell_type": "code",
   "execution_count": 21,
   "id": "12f13d9e-94fc-4c06-8a59-20f377b295b9",
   "metadata": {},
   "outputs": [],
   "source": [
    "max_length_ThreeReg_pn_90_98 = min(len(tehran_df_ThreeReg_pn_1_98), len(tehran_df_ThreeReg_pn_2_98),len(tehran_df_ThreeReg_pn_3_98))\n",
    "tehran_df_ThreeReg_pn_1_same_length_98 = tehran_df_ThreeReg_pn_1_98[-max_length_ThreeReg_pn_90_98:]\n",
    "tehran_df_ThreeReg_pn_2_same_length_98 = tehran_df_ThreeReg_pn_2_98[-max_length_ThreeReg_pn_90_98:]\n",
    "tehran_df_ThreeReg_pn_3_same_length_98 = tehran_df_ThreeReg_pn_3_98[-max_length_ThreeReg_pn_90_98:]"
   ]
  },
  {
   "cell_type": "markdown",
   "id": "42a8538f-89ab-46f9-a2eb-d6c4721cff87",
   "metadata": {},
   "source": [
    "## Tehran pn 6 Regimed DF Normed Return 90 Far - 98 Dey "
   ]
  },
  {
   "cell_type": "code",
   "execution_count": 22,
   "id": "08979266-c190-4ca1-86b2-e007f8d158b0",
   "metadata": {},
   "outputs": [
    {
     "name": "stderr",
     "output_type": "stream",
     "text": [
      "/var/folders/mj/xw3m0dws3yq8j2md9n8j3g940000gn/T/ipykernel_1608/3479540249.py:1: UserWarning: Boolean Series key will be reindexed to match DataFrame index.\n",
      "  tehran_df_SixReg_pn_1_98 = tehran_df[tehran_df_reg['3_PN']==1]\n",
      "/var/folders/mj/xw3m0dws3yq8j2md9n8j3g940000gn/T/ipykernel_1608/3479540249.py:2: UserWarning: Boolean Series key will be reindexed to match DataFrame index.\n",
      "  tehran_df_SixReg_pn_2_98 = tehran_df[tehran_df_reg['3_PN']==2]\n",
      "/var/folders/mj/xw3m0dws3yq8j2md9n8j3g940000gn/T/ipykernel_1608/3479540249.py:3: UserWarning: Boolean Series key will be reindexed to match DataFrame index.\n",
      "  tehran_df_SixReg_pn_3_98 = tehran_df[tehran_df_reg['3_PN']==3]\n",
      "/var/folders/mj/xw3m0dws3yq8j2md9n8j3g940000gn/T/ipykernel_1608/3479540249.py:4: UserWarning: Boolean Series key will be reindexed to match DataFrame index.\n",
      "  tehran_df_SixReg_pn_4_98 = tehran_df[tehran_df_reg['3_PN']==4]\n",
      "/var/folders/mj/xw3m0dws3yq8j2md9n8j3g940000gn/T/ipykernel_1608/3479540249.py:5: UserWarning: Boolean Series key will be reindexed to match DataFrame index.\n",
      "  tehran_df_SixReg_pn_5_98 = tehran_df[tehran_df_reg['3_PN']==5]\n",
      "/var/folders/mj/xw3m0dws3yq8j2md9n8j3g940000gn/T/ipykernel_1608/3479540249.py:6: UserWarning: Boolean Series key will be reindexed to match DataFrame index.\n",
      "  tehran_df_SixReg_pn_6_98 = tehran_df[tehran_df_reg['3_PN']==6]\n"
     ]
    }
   ],
   "source": [
    "tehran_df_SixReg_pn_1_98 = tehran_df[tehran_df_reg['3_PN']==1]\n",
    "tehran_df_SixReg_pn_2_98 = tehran_df[tehran_df_reg['3_PN']==2]\n",
    "tehran_df_SixReg_pn_3_98 = tehran_df[tehran_df_reg['3_PN']==3]\n",
    "tehran_df_SixReg_pn_4_98 = tehran_df[tehran_df_reg['3_PN']==4]\n",
    "tehran_df_SixReg_pn_5_98 = tehran_df[tehran_df_reg['3_PN']==5]\n",
    "tehran_df_SixReg_pn_6_98 = tehran_df[tehran_df_reg['3_PN']==6]"
   ]
  },
  {
   "cell_type": "markdown",
   "id": "8af4810a-ca8a-4060-942e-8a3b57cfb7d9",
   "metadata": {},
   "source": [
    "## Tehran pn 6 Regimed DF Normed Return 90 Far - 98 Dey / Same Length"
   ]
  },
  {
   "cell_type": "code",
   "execution_count": 23,
   "id": "0f253122-afe8-485d-bf5d-944120b3dec4",
   "metadata": {},
   "outputs": [],
   "source": [
    "max_length_SixReg_pn_90_98 = min(len(tehran_df_SixReg_pn_1_98), len(tehran_df_SixReg_pn_2_98),len(tehran_df_SixReg_pn_3_98),\\\n",
    "                                  len(tehran_df_SixReg_pn_4_98), len(tehran_df_SixReg_pn_5_98),len(tehran_df_SixReg_pn_6_98))\n",
    "tehran_df_SixReg_pn_1_same_length_98 = tehran_df_SixReg_pn_1_98[-max_length_SixReg_pn_90_98:]\n",
    "tehran_df_SixReg_pn_2_same_length_98 = tehran_df_SixReg_pn_2_98[-max_length_SixReg_pn_90_98:]\n",
    "tehran_df_SixReg_pn_3_same_length_98 = tehran_df_SixReg_pn_3_98[-max_length_SixReg_pn_90_98:]\n",
    "tehran_df_SixReg_pn_4_same_length_98 = tehran_df_SixReg_pn_4_98[-max_length_SixReg_pn_90_98:]\n",
    "tehran_df_SixReg_pn_5_same_length_98 = tehran_df_SixReg_pn_5_98[-max_length_SixReg_pn_90_98:]\n",
    "tehran_df_SixReg_pn_6_same_length_98 = tehran_df_SixReg_pn_6_98[-max_length_SixReg_pn_90_98:]"
   ]
  },
  {
   "cell_type": "code",
   "execution_count": 25,
   "id": "96007175-3eff-49bc-b5df-7120b83d400c",
   "metadata": {},
   "outputs": [],
   "source": [
    "nm = Net_moduls()"
   ]
  },
  {
   "cell_type": "markdown",
   "id": "6fd751dd-01f8-4ebd-beeb-52f0462e0ac1",
   "metadata": {},
   "source": [
    "# 7) Tehran 2 Regime Pearson (Based on Median Threshold) Period of 90 Far - 98 Dey"
   ]
  },
  {
   "cell_type": "code",
   "execution_count": 26,
   "id": "3d62eeec-2320-4715-952f-1df83ec380cc",
   "metadata": {},
   "outputs": [],
   "source": [
    "thr7_1 = nm.find_median_pearson_threshold(tehran_df_TwoReg_Ox_1_same_length_98)\n",
    "thr7_2 = nm.find_median_pearson_threshold(tehran_df_TwoReg_Ox_2_same_length_98)\n",
    "thr7 = min(thr7_1, thr7_2)"
   ]
  },
  {
   "cell_type": "code",
   "execution_count": 27,
   "id": "369527cb-1a4a-4f85-987c-1161e567eed7",
   "metadata": {},
   "outputs": [],
   "source": [
    "nm = Net_moduls()\n",
    "pearson_network_TwoReg_Ox_1_98 = nm.construct_network(tehran_df_TwoReg_Ox_1_same_length_98, method='pearson', threshold=thr7)"
   ]
  },
  {
   "cell_type": "code",
   "execution_count": 28,
   "id": "0ce10af3-0704-491e-9505-c142fe4a15cb",
   "metadata": {},
   "outputs": [
    {
     "data": {
      "text/html": [
       "<div>\n",
       "<style scoped>\n",
       "    .dataframe tbody tr th:only-of-type {\n",
       "        vertical-align: middle;\n",
       "    }\n",
       "\n",
       "    .dataframe tbody tr th {\n",
       "        vertical-align: top;\n",
       "    }\n",
       "\n",
       "    .dataframe thead th {\n",
       "        text-align: right;\n",
       "    }\n",
       "</style>\n",
       "<table border=\"1\" class=\"dataframe\">\n",
       "  <thead>\n",
       "    <tr style=\"text-align: right;\">\n",
       "      <th></th>\n",
       "      <th>radius</th>\n",
       "      <th>diameter</th>\n",
       "      <th>densities</th>\n",
       "      <th>number_of_edges</th>\n",
       "      <th>average_clustering</th>\n",
       "      <th>avg_degree_centrality</th>\n",
       "      <th>avg_betweenness_centrality</th>\n",
       "      <th>avg_closeness_centrality</th>\n",
       "      <th>average_shortest_path_length</th>\n",
       "    </tr>\n",
       "  </thead>\n",
       "  <tbody>\n",
       "    <tr>\n",
       "      <th>0</th>\n",
       "      <td>2</td>\n",
       "      <td>3</td>\n",
       "      <td>0.604831</td>\n",
       "      <td>626</td>\n",
       "      <td>0.800629</td>\n",
       "      <td>0.604831</td>\n",
       "      <td>0.009201</td>\n",
       "      <td>0.734194</td>\n",
       "      <td>1.404831</td>\n",
       "    </tr>\n",
       "  </tbody>\n",
       "</table>\n",
       "</div>"
      ],
      "text/plain": [
       "   radius  diameter  densities  number_of_edges  average_clustering  \\\n",
       "0       2         3   0.604831              626            0.800629   \n",
       "\n",
       "   avg_degree_centrality  avg_betweenness_centrality  \\\n",
       "0               0.604831                    0.009201   \n",
       "\n",
       "   avg_closeness_centrality  average_shortest_path_length  \n",
       "0                  0.734194                      1.404831  "
      ]
     },
     "execution_count": 28,
     "metadata": {},
     "output_type": "execute_result"
    }
   ],
   "source": [
    "nm.get_network_features(pearson_network_TwoReg_Ox_1_98)"
   ]
  },
  {
   "cell_type": "code",
   "execution_count": 35,
   "id": "e583b29d-7288-4e38-9d22-4c17c3c89ae9",
   "metadata": {},
   "outputs": [
    {
     "data": {
      "text/plain": [
       "array({'DastgahayeBargi': 4, 'M1': 6, 'M2': 6, 'GDP': 7, 'USD': 8, 'Euro': 9, 'Gold': 9, 'AbzaralatePezeshki': 10, 'FaravardehayeNafti': 11, 'Coin': 11, 'HOUSE': 12, 'HamlVaNaghl': 14, 'Brent Oil': 20, 'Mansojat': 28, 'CPI': 31, 'VasayelErtebati': 31, 'paper': 32, 'Shimiyaee': 32, 'Rayaneh': 32, 'SayerMadan': 33, 'EntesharVaChap': 33, 'Lastic': 33, 'FaniVaMohandesi': 33, 'Mali': 33, 'Wood': 34, 'FelezateAsasi': 34, 'MashinAlat': 34, 'ChandReshteSanati': 34, 'KashiVaSeramik': 34, 'KanehayeGeyreFelezi': 34, 'Bank': 34, 'Agriculture': 35, 'CoalMining': 35, 'EstekrajeNaft': 35, 'khodrosazi': 35, 'GhandVaShekar': 35, 'GazaeeBejozGhand': 35, 'Siman': 35, 'SarmayeGozari': 35, 'Amlakva': 35, 'Daroee': 36, 'Bimeh': 36, 'index': 37, 'MahsolateFelezi': 37, 'MahsolateFelezi.1': 37, 'SayerMali': 38},\n",
       "      dtype=object)"
      ]
     },
     "execution_count": 35,
     "metadata": {},
     "output_type": "execute_result"
    }
   ],
   "source": [
    "b7_1 = dict(nx.degree(pearson_network_TwoReg_Ox_1_98))\n",
    "b7_1 = np.array(dict(sorted(b7_1.items(), key=lambda item: item[1])))\n",
    "b7_1"
   ]
  },
  {
   "cell_type": "code",
   "execution_count": 36,
   "id": "ee6b8f31-eb31-4615-be88-e1961308b143",
   "metadata": {},
   "outputs": [],
   "source": [
    "pearson_network_TwoReg_Ox_2_98 = nm.construct_network(tehran_df_TwoReg_Ox_2_same_length_98, method='pearson', threshold=thr7)"
   ]
  },
  {
   "cell_type": "code",
   "execution_count": 37,
   "id": "e3cc274b-35df-428c-8179-7056f88dd14d",
   "metadata": {},
   "outputs": [
    {
     "data": {
      "text/html": [
       "<div>\n",
       "<style scoped>\n",
       "    .dataframe tbody tr th:only-of-type {\n",
       "        vertical-align: middle;\n",
       "    }\n",
       "\n",
       "    .dataframe tbody tr th {\n",
       "        vertical-align: top;\n",
       "    }\n",
       "\n",
       "    .dataframe thead th {\n",
       "        text-align: right;\n",
       "    }\n",
       "</style>\n",
       "<table border=\"1\" class=\"dataframe\">\n",
       "  <thead>\n",
       "    <tr style=\"text-align: right;\">\n",
       "      <th></th>\n",
       "      <th>radius</th>\n",
       "      <th>diameter</th>\n",
       "      <th>densities</th>\n",
       "      <th>number_of_edges</th>\n",
       "      <th>average_clustering</th>\n",
       "      <th>avg_degree_centrality</th>\n",
       "      <th>avg_betweenness_centrality</th>\n",
       "      <th>avg_closeness_centrality</th>\n",
       "      <th>average_shortest_path_length</th>\n",
       "    </tr>\n",
       "  </thead>\n",
       "  <tbody>\n",
       "    <tr>\n",
       "      <th>0</th>\n",
       "      <td>2</td>\n",
       "      <td>3</td>\n",
       "      <td>0.564251</td>\n",
       "      <td>584</td>\n",
       "      <td>0.754106</td>\n",
       "      <td>0.564251</td>\n",
       "      <td>0.010057</td>\n",
       "      <td>0.709932</td>\n",
       "      <td>1.442512</td>\n",
       "    </tr>\n",
       "  </tbody>\n",
       "</table>\n",
       "</div>"
      ],
      "text/plain": [
       "   radius  diameter  densities  number_of_edges  average_clustering  \\\n",
       "0       2         3   0.564251              584            0.754106   \n",
       "\n",
       "   avg_degree_centrality  avg_betweenness_centrality  \\\n",
       "0               0.564251                    0.010057   \n",
       "\n",
       "   avg_closeness_centrality  average_shortest_path_length  \n",
       "0                  0.709932                      1.442512  "
      ]
     },
     "execution_count": 37,
     "metadata": {},
     "output_type": "execute_result"
    }
   ],
   "source": [
    "nm.get_network_features(pearson_network_TwoReg_Ox_2_98)"
   ]
  },
  {
   "cell_type": "code",
   "execution_count": 38,
   "id": "05b1565f-e8df-4143-9a92-1d1129993b94",
   "metadata": {},
   "outputs": [
    {
     "data": {
      "text/plain": [
       "array({'FaravardehayeNafti': 4, 'HOUSE': 6, 'Brent Oil': 7, 'Mansojat': 8, 'M1': 9, 'M2': 12, 'Gold': 12, 'CoalMining': 13, 'GhandVaShekar': 13, 'GDP': 14, 'Euro': 14, 'CPI': 16, 'USD': 20, 'Coin': 21, 'Wood': 22, 'VasayelErtebati': 22, 'HamlVaNaghl': 22, 'Agriculture': 24, 'FelezateAsasi': 25, 'AbzaralatePezeshki': 25, 'ChandReshteSanati': 25, 'EntesharVaChap': 29, 'SayerMadan': 30, 'Bank': 30, 'KashiVaSeramik': 31, 'Bimeh': 31, 'MahsolateFelezi': 32, 'Lastic': 32, 'MahsolateFelezi.1': 32, 'GazaeeBejozGhand': 32, 'FaniVaMohandesi': 32, 'DastgahayeBargi': 33, 'Daroee': 33, 'paper': 34, 'KanehayeGeyreFelezi': 34, 'SarmayeGozari': 34, 'SayerMali': 34, 'Mali': 34, 'EstekrajeNaft': 35, 'Shimiyaee': 35, 'Siman': 35, 'MashinAlat': 36, 'khodrosazi': 36, 'Amlakva': 36, 'index': 37, 'Rayaneh': 37},\n",
       "      dtype=object)"
      ]
     },
     "execution_count": 38,
     "metadata": {},
     "output_type": "execute_result"
    }
   ],
   "source": [
    "b7_2 = dict(nx.degree(pearson_network_TwoReg_Ox_2_98))\n",
    "b7_2 = np.array(dict(sorted(b7_2.items(), key=lambda item: item[1])))\n",
    "b7_2"
   ]
  },
  {
   "cell_type": "code",
   "execution_count": 39,
   "id": "7e3f032e-d294-443f-b1e7-0cd0d69992f0",
   "metadata": {},
   "outputs": [
    {
     "data": {
      "text/plain": [
       "<Figure size 1600x1200 with 0 Axes>"
      ]
     },
     "metadata": {},
     "output_type": "display_data"
    },
    {
     "data": {
      "image/png": "[encoded data removed]",
      "text/plain": [
       "<Figure size 600x600 with 1 Axes>"
      ]
     },
     "metadata": {},
     "output_type": "display_data"
    }
   ],
   "source": [
    "circos = nm.plot_circos_network(pearson_network_TwoReg_Ox_1_98)\n",
    "circos.draw()"
   ]
  },
  {
   "cell_type": "markdown",
   "id": "c8458133-61cb-44ab-8e38-f1eb0c6d003e",
   "metadata": {},
   "source": [
    "# 7.1) Tehran 2 Regime ox 1399 Pearson (Based on Median Threshold) Period of 90 Far - 98 Dey"
   ]
  },
  {
   "cell_type": "code",
   "execution_count": 40,
   "id": "331a35c8-a0ab-41af-9521-497495d00169",
   "metadata": {},
   "outputs": [],
   "source": [
    "thr7_99_1 = nm.find_median_pearson_threshold(tehran_df_TwoReg_Ox_99_1_same_length)\n",
    "thr7_99_2 = nm.find_median_pearson_threshold(tehran_df_TwoReg_Ox_99_2_same_length)\n",
    "thr7_99 = min(thr7_99_1, thr7_99_2)"
   ]
  },
  {
   "cell_type": "code",
   "execution_count": 64,
   "id": "744e2015-3133-41e6-b079-8674ef50dbf9",
   "metadata": {},
   "outputs": [],
   "source": [
    "thr7_99+=0.2"
   ]
  },
  {
   "cell_type": "code",
   "execution_count": 41,
   "id": "d9d1d64e-42dd-4f06-8e38-976439898001",
   "metadata": {},
   "outputs": [],
   "source": [
    "nm = Net_moduls()\n",
    "pearson_network_TwoReg_Ox_99_1 = nm.construct_network(tehran_df_TwoReg_Ox_99_1_same_length, method='pearson', threshold=thr7_99)"
   ]
  },
  {
   "cell_type": "code",
   "execution_count": 42,
   "id": "1ce02065-e572-4d5a-8575-0dece015cbeb",
   "metadata": {},
   "outputs": [
    {
     "data": {
      "text/html": [
       "<div>\n",
       "<style scoped>\n",
       "    .dataframe tbody tr th:only-of-type {\n",
       "        vertical-align: middle;\n",
       "    }\n",
       "\n",
       "    .dataframe tbody tr th {\n",
       "        vertical-align: top;\n",
       "    }\n",
       "\n",
       "    .dataframe thead th {\n",
       "        text-align: right;\n",
       "    }\n",
       "</style>\n",
       "<table border=\"1\" class=\"dataframe\">\n",
       "  <thead>\n",
       "    <tr style=\"text-align: right;\">\n",
       "      <th></th>\n",
       "      <th>radius</th>\n",
       "      <th>diameter</th>\n",
       "      <th>densities</th>\n",
       "      <th>number_of_edges</th>\n",
       "      <th>average_clustering</th>\n",
       "      <th>avg_degree_centrality</th>\n",
       "      <th>avg_betweenness_centrality</th>\n",
       "      <th>avg_closeness_centrality</th>\n",
       "      <th>average_shortest_path_length</th>\n",
       "    </tr>\n",
       "  </thead>\n",
       "  <tbody>\n",
       "    <tr>\n",
       "      <th>0</th>\n",
       "      <td>2</td>\n",
       "      <td>3</td>\n",
       "      <td>0.614493</td>\n",
       "      <td>636</td>\n",
       "      <td>0.783304</td>\n",
       "      <td>0.614493</td>\n",
       "      <td>0.008937</td>\n",
       "      <td>0.737324</td>\n",
       "      <td>1.393237</td>\n",
       "    </tr>\n",
       "  </tbody>\n",
       "</table>\n",
       "</div>"
      ],
      "text/plain": [
       "   radius  diameter  densities  number_of_edges  average_clustering  \\\n",
       "0       2         3   0.614493              636            0.783304   \n",
       "\n",
       "   avg_degree_centrality  avg_betweenness_centrality  \\\n",
       "0               0.614493                    0.008937   \n",
       "\n",
       "   avg_closeness_centrality  average_shortest_path_length  \n",
       "0                  0.737324                      1.393237  "
      ]
     },
     "execution_count": 42,
     "metadata": {},
     "output_type": "execute_result"
    }
   ],
   "source": [
    "nm.get_network_features(pearson_network_TwoReg_Ox_99_1)"
   ]
  },
  {
   "cell_type": "code",
   "execution_count": 46,
   "id": "646f243f-2106-4a71-b959-540a1dcab285",
   "metadata": {},
   "outputs": [
    {
     "data": {
      "text/plain": [
       "array({'AbzaralatePezeshki': 4, 'Brent Oil': 6, 'Mansojat': 6, 'CoalMining': 6, 'Gold': 8, 'GDP': 10, 'M1': 12, 'USD': 14, 'Coin': 14, 'Euro': 18, 'CPI': 20, 'M2': 22, 'FaravardehayeNafti': 23, 'VasayelErtebati': 24, 'HOUSE': 25, 'paper': 28, 'Wood': 29, 'khodrosazi': 31, 'HamlVaNaghl': 31, 'Bimeh': 31, 'Lastic': 32, 'Bank': 32, 'GhandVaShekar': 33, 'ChandReshteSanati': 33, 'FaniVaMohandesi': 33, 'EstekrajeNaft': 34, 'Mali': 34, 'Agriculture': 35, 'FelezateAsasi': 35, 'MashinAlat': 35, 'KashiVaSeramik': 35, 'Siman': 35, 'KanehayeGeyreFelezi': 35, 'SayerMali': 35, 'Rayaneh': 35, 'index': 36, 'MahsolateFelezi': 36, 'SayerMadan': 36, 'EntesharVaChap': 36, 'MahsolateFelezi.1': 36, 'DastgahayeBargi': 36, 'Shimiyaee': 36, 'SarmayeGozari': 36, 'Amlakva': 36, 'GazaeeBejozGhand': 37, 'Daroee': 38},\n",
       "      dtype=object)"
      ]
     },
     "execution_count": 46,
     "metadata": {},
     "output_type": "execute_result"
    }
   ],
   "source": [
    "b7_1_1 = dict(nx.degree(pearson_network_TwoReg_Ox_99_1))\n",
    "b7_1_1 = np.array(dict(sorted(b7_1_1.items(), key=lambda item: item[1])))\n",
    "b7_1_1"
   ]
  },
  {
   "cell_type": "code",
   "execution_count": 44,
   "id": "ad74ca03-195b-4b03-af3b-2d5f05b1e7b2",
   "metadata": {},
   "outputs": [],
   "source": [
    "pearson_network_TwoReg_Ox_99_2 = nm.construct_network(tehran_df_TwoReg_Ox_99_2_same_length, method='pearson', threshold=thr7_99)"
   ]
  },
  {
   "cell_type": "code",
   "execution_count": 45,
   "id": "6473669c-2b00-48b5-b008-ccf43ed81618",
   "metadata": {},
   "outputs": [
    {
     "data": {
      "text/html": [
       "<div>\n",
       "<style scoped>\n",
       "    .dataframe tbody tr th:only-of-type {\n",
       "        vertical-align: middle;\n",
       "    }\n",
       "\n",
       "    .dataframe tbody tr th {\n",
       "        vertical-align: top;\n",
       "    }\n",
       "\n",
       "    .dataframe thead th {\n",
       "        text-align: right;\n",
       "    }\n",
       "</style>\n",
       "<table border=\"1\" class=\"dataframe\">\n",
       "  <thead>\n",
       "    <tr style=\"text-align: right;\">\n",
       "      <th></th>\n",
       "      <th>radius</th>\n",
       "      <th>diameter</th>\n",
       "      <th>densities</th>\n",
       "      <th>number_of_edges</th>\n",
       "      <th>average_clustering</th>\n",
       "      <th>avg_degree_centrality</th>\n",
       "      <th>avg_betweenness_centrality</th>\n",
       "      <th>avg_closeness_centrality</th>\n",
       "      <th>average_shortest_path_length</th>\n",
       "    </tr>\n",
       "  </thead>\n",
       "  <tbody>\n",
       "    <tr>\n",
       "      <th>0</th>\n",
       "      <td>2</td>\n",
       "      <td>3</td>\n",
       "      <td>0.540404</td>\n",
       "      <td>535</td>\n",
       "      <td>0.721311</td>\n",
       "      <td>0.540404</td>\n",
       "      <td>0.010876</td>\n",
       "      <td>0.695727</td>\n",
       "      <td>1.467677</td>\n",
       "    </tr>\n",
       "  </tbody>\n",
       "</table>\n",
       "</div>"
      ],
      "text/plain": [
       "   radius  diameter  densities  number_of_edges  average_clustering  \\\n",
       "0       2         3   0.540404              535            0.721311   \n",
       "\n",
       "   avg_degree_centrality  avg_betweenness_centrality  \\\n",
       "0               0.540404                    0.010876   \n",
       "\n",
       "   avg_closeness_centrality  average_shortest_path_length  \n",
       "0                  0.695727                      1.467677  "
      ]
     },
     "execution_count": 45,
     "metadata": {},
     "output_type": "execute_result"
    }
   ],
   "source": [
    "nm.get_network_features(pearson_network_TwoReg_Ox_99_2)"
   ]
  },
  {
   "cell_type": "code",
   "execution_count": 47,
   "id": "59f32186-6424-4c32-b759-e1fac582d1ec",
   "metadata": {},
   "outputs": [
    {
     "data": {
      "text/plain": [
       "array({'Mali': 6, 'DastgahayeBargi': 7, 'HOUSE': 7, 'Coin': 8, 'GDP': 9, 'Mansojat': 9, 'Gold': 10, 'M2': 11, 'EntesharVaChap': 12, 'USD': 14, 'CoalMining': 15, 'Brent Oil': 16, 'Euro': 17, 'M1': 18, 'SayerMadan': 18, 'VasayelErtebati': 20, 'CPI': 24, 'Wood': 25, 'ChandReshteSanati': 26, 'EstekrajeNaft': 27, 'Lastic': 27, 'KanehayeGeyreFelezi': 28, 'SayerMali': 28, 'FaravardehayeNafti': 29, 'khodrosazi': 29, 'index': 30, 'MahsolateFelezi': 30, 'paper': 30, 'MahsolateFelezi.1': 30, 'Bimeh': 30, 'Rayaneh': 30, 'FaniVaMohandesi': 30, 'Agriculture': 31, 'GhandVaShekar': 31, 'Shimiyaee': 31, 'KashiVaSeramik': 31, 'SarmayeGozari': 31, 'Amlakva': 31, 'FelezateAsasi': 33, 'Siman': 33, 'Bank': 33, 'HamlVaNaghl': 33, 'MashinAlat': 34, 'GazaeeBejozGhand': 34, 'Daroee': 34},\n",
       "      dtype=object)"
      ]
     },
     "execution_count": 47,
     "metadata": {},
     "output_type": "execute_result"
    }
   ],
   "source": [
    "b7_1_2 = dict(nx.degree(pearson_network_TwoReg_Ox_99_2))\n",
    "b7_1_2 = np.array(dict(sorted(b7_1_2.items(), key=lambda item: item[1])))\n",
    "b7_1_2"
   ]
  },
  {
   "cell_type": "markdown",
   "id": "6b7bcd83-8de4-46a4-bc1e-d04bd1ad8ef3",
   "metadata": {},
   "source": [
    "# 8) Tehran 2 Regime Pearson (Based on Median Threshold) Period of 90 Far - 00 Far"
   ]
  },
  {
   "cell_type": "code",
   "execution_count": 48,
   "id": "e9d4a3f6-67c2-4e80-82de-b85f550c5e7c",
   "metadata": {},
   "outputs": [],
   "source": [
    "thr8_1 = nm.find_median_pearson_threshold(tehran_df_TwoReg_Ox_1_same_length)\n",
    "thr8_2 = nm.find_median_pearson_threshold(tehran_df_TwoReg_Ox_2_same_length)\n",
    "thr8 = min(thr8_1, thr8_2)"
   ]
  },
  {
   "cell_type": "code",
   "execution_count": 49,
   "id": "57714c14-176b-4a0a-8e83-7424efd73883",
   "metadata": {},
   "outputs": [],
   "source": [
    "nm = Net_moduls()\n",
    "pearson_network_TwoReg_Ox_1 = nm.construct_network(tehran_df_TwoReg_Ox_1_same_length, method='pearson', threshold=thr8)"
   ]
  },
  {
   "cell_type": "code",
   "execution_count": 50,
   "id": "bb91be98-178c-4fad-a7b0-24f4f71ef2a5",
   "metadata": {},
   "outputs": [
    {
     "data": {
      "text/html": [
       "<div>\n",
       "<style scoped>\n",
       "    .dataframe tbody tr th:only-of-type {\n",
       "        vertical-align: middle;\n",
       "    }\n",
       "\n",
       "    .dataframe tbody tr th {\n",
       "        vertical-align: top;\n",
       "    }\n",
       "\n",
       "    .dataframe thead th {\n",
       "        text-align: right;\n",
       "    }\n",
       "</style>\n",
       "<table border=\"1\" class=\"dataframe\">\n",
       "  <thead>\n",
       "    <tr style=\"text-align: right;\">\n",
       "      <th></th>\n",
       "      <th>radius</th>\n",
       "      <th>diameter</th>\n",
       "      <th>densities</th>\n",
       "      <th>number_of_edges</th>\n",
       "      <th>average_clustering</th>\n",
       "      <th>avg_degree_centrality</th>\n",
       "      <th>avg_betweenness_centrality</th>\n",
       "      <th>avg_closeness_centrality</th>\n",
       "      <th>average_shortest_path_length</th>\n",
       "    </tr>\n",
       "  </thead>\n",
       "  <tbody>\n",
       "    <tr>\n",
       "      <th>0</th>\n",
       "      <td>2</td>\n",
       "      <td>3</td>\n",
       "      <td>0.678261</td>\n",
       "      <td>702</td>\n",
       "      <td>0.83603</td>\n",
       "      <td>0.678261</td>\n",
       "      <td>0.00751</td>\n",
       "      <td>0.773094</td>\n",
       "      <td>1.330435</td>\n",
       "    </tr>\n",
       "  </tbody>\n",
       "</table>\n",
       "</div>"
      ],
      "text/plain": [
       "   radius  diameter  densities  number_of_edges  average_clustering  \\\n",
       "0       2         3   0.678261              702             0.83603   \n",
       "\n",
       "   avg_degree_centrality  avg_betweenness_centrality  \\\n",
       "0               0.678261                     0.00751   \n",
       "\n",
       "   avg_closeness_centrality  average_shortest_path_length  \n",
       "0                  0.773094                      1.330435  "
      ]
     },
     "execution_count": 50,
     "metadata": {},
     "output_type": "execute_result"
    }
   ],
   "source": [
    "nm.get_network_features(pearson_network_TwoReg_Ox_1)"
   ]
  },
  {
   "cell_type": "code",
   "execution_count": 51,
   "id": "93fcb4ea-88ee-4399-b265-12004892413c",
   "metadata": {},
   "outputs": [
    {
     "data": {
      "text/plain": [
       "array({'DastgahayeBargi': 5, 'AbzaralatePezeshki': 7, 'M1': 8, 'Gold': 10, 'GDP': 10, 'M2': 11, 'Coin': 13, 'FaravardehayeNafti': 23, 'Euro': 24, 'Mali': 24, 'Brent Oil': 25, 'USD': 26, 'HOUSE': 26, 'CPI': 29, 'Mansojat': 29, 'HamlVaNaghl': 30, 'paper': 31, 'Wood': 33, 'CoalMining': 34, 'SayerMadan': 34, 'KashiVaSeramik': 34, 'FaniVaMohandesi': 34, 'EstekrajeNaft': 35, 'VasayelErtebati': 35, 'Agriculture': 36, 'Lastic': 36, 'MashinAlat': 36, 'SayerMali': 36, 'GazaeeBejozGhand': 37, 'Shimiyaee': 37, 'Siman': 37, 'Bank': 37, 'Bimeh': 37, 'MahsolateFelezi': 38, 'EntesharVaChap': 38, 'MahsolateFelezi.1': 38, 'GhandVaShekar': 38, 'ChandReshteSanati': 38, 'KanehayeGeyreFelezi': 38, 'Amlakva': 38, 'SarmayeGozari': 39, 'Rayaneh': 39, 'index': 40, 'khodrosazi': 40, 'Daroee': 40, 'FelezateAsasi': 41},\n",
       "      dtype=object)"
      ]
     },
     "execution_count": 51,
     "metadata": {},
     "output_type": "execute_result"
    }
   ],
   "source": [
    "b8_1 = dict(nx.degree(pearson_network_TwoReg_Ox_1))\n",
    "b8_1 = np.array(dict(sorted(b8_1.items(), key=lambda item: item[1])))\n",
    "b8_1"
   ]
  },
  {
   "cell_type": "code",
   "execution_count": 53,
   "id": "f722adca-5af3-4b0b-9aff-ad12d4402695",
   "metadata": {},
   "outputs": [],
   "source": [
    "pearson_network_TwoReg_Ox_2 = nm.construct_network(tehran_df_TwoReg_Ox_2_same_length, method='pearson', threshold=thr8)"
   ]
  },
  {
   "cell_type": "code",
   "execution_count": 54,
   "id": "82b49a1d-cb12-4745-8b28-0bdb09c52c8f",
   "metadata": {},
   "outputs": [
    {
     "data": {
      "text/html": [
       "<div>\n",
       "<style scoped>\n",
       "    .dataframe tbody tr th:only-of-type {\n",
       "        vertical-align: middle;\n",
       "    }\n",
       "\n",
       "    .dataframe tbody tr th {\n",
       "        vertical-align: top;\n",
       "    }\n",
       "\n",
       "    .dataframe thead th {\n",
       "        text-align: right;\n",
       "    }\n",
       "</style>\n",
       "<table border=\"1\" class=\"dataframe\">\n",
       "  <thead>\n",
       "    <tr style=\"text-align: right;\">\n",
       "      <th></th>\n",
       "      <th>radius</th>\n",
       "      <th>diameter</th>\n",
       "      <th>densities</th>\n",
       "      <th>number_of_edges</th>\n",
       "      <th>average_clustering</th>\n",
       "      <th>avg_degree_centrality</th>\n",
       "      <th>avg_betweenness_centrality</th>\n",
       "      <th>avg_closeness_centrality</th>\n",
       "      <th>average_shortest_path_length</th>\n",
       "    </tr>\n",
       "  </thead>\n",
       "  <tbody>\n",
       "    <tr>\n",
       "      <th>0</th>\n",
       "      <td>2</td>\n",
       "      <td>3</td>\n",
       "      <td>0.557488</td>\n",
       "      <td>577</td>\n",
       "      <td>0.742671</td>\n",
       "      <td>0.557488</td>\n",
       "      <td>0.01043</td>\n",
       "      <td>0.704084</td>\n",
       "      <td>1.458937</td>\n",
       "    </tr>\n",
       "  </tbody>\n",
       "</table>\n",
       "</div>"
      ],
      "text/plain": [
       "   radius  diameter  densities  number_of_edges  average_clustering  \\\n",
       "0       2         3   0.557488              577            0.742671   \n",
       "\n",
       "   avg_degree_centrality  avg_betweenness_centrality  \\\n",
       "0               0.557488                     0.01043   \n",
       "\n",
       "   avg_closeness_centrality  average_shortest_path_length  \n",
       "0                  0.704084                      1.458937  "
      ]
     },
     "execution_count": 54,
     "metadata": {},
     "output_type": "execute_result"
    }
   ],
   "source": [
    "nm.get_network_features(pearson_network_TwoReg_Ox_2)"
   ]
  },
  {
   "cell_type": "code",
   "execution_count": 55,
   "id": "3ec612af-e946-4286-8573-d6f068514795",
   "metadata": {},
   "outputs": [
    {
     "data": {
      "text/plain": [
       "array({'FaravardehayeNafti': 5, 'Gold': 5, 'HOUSE': 6, 'Mansojat': 8, 'M1': 8, 'M2': 8, 'Brent Oil': 9, 'CoalMining': 13, 'GhandVaShekar': 13, 'GDP': 14, 'Coin': 14, 'CPI': 14, 'Euro': 18, 'USD': 19, 'Wood': 21, 'VasayelErtebati': 23, 'HamlVaNaghl': 23, 'Agriculture': 24, 'FelezateAsasi': 26, 'AbzaralatePezeshki': 26, 'ChandReshteSanati': 27, 'EntesharVaChap': 30, 'SayerMadan': 31, 'GazaeeBejozGhand': 31, 'Bank': 31, 'FaniVaMohandesi': 31, 'paper': 32, 'DastgahayeBargi': 32, 'Shimiyaee': 32, 'KashiVaSeramik': 32, 'Bimeh': 32, 'Rayaneh': 32, 'MahsolateFelezi': 33, 'Lastic': 33, 'MahsolateFelezi.1': 33, 'Daroee': 33, 'SarmayeGozari': 33, 'SayerMali': 34, 'MashinAlat': 35, 'Siman': 35, 'Mali': 35, 'index': 36, 'EstekrajeNaft': 36, 'khodrosazi': 36, 'KanehayeGeyreFelezi': 36, 'Amlakva': 36},\n",
       "      dtype=object)"
      ]
     },
     "execution_count": 55,
     "metadata": {},
     "output_type": "execute_result"
    }
   ],
   "source": [
    "b8_2 = dict(nx.degree(pearson_network_TwoReg_Ox_2))\n",
    "b8_2 = np.array(dict(sorted(b8_2.items(), key=lambda item: item[1])))\n",
    "b8_2"
   ]
  },
  {
   "cell_type": "markdown",
   "id": "698877b3-9222-460c-8b9e-ebadd301013b",
   "metadata": {},
   "source": [
    "# 9) Tehran 2 Regime Pearson (Based on Median Threshold) Period of 90 Far - 98 Dey/ Last 100 Records"
   ]
  },
  {
   "cell_type": "code",
   "execution_count": 56,
   "id": "5a7bd99a-5d80-4df2-bc9d-be4c9402e2f3",
   "metadata": {},
   "outputs": [],
   "source": [
    "thr9_1 = nm.find_median_pearson_threshold(tehran_df_TwoReg_Ox_1_same_length_98[-100:])\n",
    "thr9_2 = nm.find_median_pearson_threshold(tehran_df_TwoReg_Ox_2_same_length_98[-100:])\n",
    "thr9 = min(thr7_1, thr7_2)"
   ]
  },
  {
   "cell_type": "code",
   "execution_count": 57,
   "id": "0e4d96af-decd-4db8-971b-b172dfd02326",
   "metadata": {},
   "outputs": [],
   "source": [
    "pearson_network_TwoReg_Ox_1_98_last100 = nm.construct_network(tehran_df_TwoReg_Ox_1_same_length_98[-100:], method='pearson', threshold=thr9)"
   ]
  },
  {
   "cell_type": "code",
   "execution_count": 58,
   "id": "7868d31b-9394-4b86-8fe6-2b4c4b353f99",
   "metadata": {},
   "outputs": [
    {
     "data": {
      "text/html": [
       "<div>\n",
       "<style scoped>\n",
       "    .dataframe tbody tr th:only-of-type {\n",
       "        vertical-align: middle;\n",
       "    }\n",
       "\n",
       "    .dataframe tbody tr th {\n",
       "        vertical-align: top;\n",
       "    }\n",
       "\n",
       "    .dataframe thead th {\n",
       "        text-align: right;\n",
       "    }\n",
       "</style>\n",
       "<table border=\"1\" class=\"dataframe\">\n",
       "  <thead>\n",
       "    <tr style=\"text-align: right;\">\n",
       "      <th></th>\n",
       "      <th>radius</th>\n",
       "      <th>diameter</th>\n",
       "      <th>densities</th>\n",
       "      <th>number_of_edges</th>\n",
       "      <th>average_clustering</th>\n",
       "      <th>avg_degree_centrality</th>\n",
       "      <th>avg_betweenness_centrality</th>\n",
       "      <th>avg_closeness_centrality</th>\n",
       "      <th>average_shortest_path_length</th>\n",
       "    </tr>\n",
       "  </thead>\n",
       "  <tbody>\n",
       "    <tr>\n",
       "      <th>0</th>\n",
       "      <td>2</td>\n",
       "      <td>2</td>\n",
       "      <td>0.847475</td>\n",
       "      <td>839</td>\n",
       "      <td>0.881767</td>\n",
       "      <td>0.847475</td>\n",
       "      <td>0.003547</td>\n",
       "      <td>0.876689</td>\n",
       "      <td>1.152525</td>\n",
       "    </tr>\n",
       "  </tbody>\n",
       "</table>\n",
       "</div>"
      ],
      "text/plain": [
       "   radius  diameter  densities  number_of_edges  average_clustering  \\\n",
       "0       2         2   0.847475              839            0.881767   \n",
       "\n",
       "   avg_degree_centrality  avg_betweenness_centrality  \\\n",
       "0               0.847475                    0.003547   \n",
       "\n",
       "   avg_closeness_centrality  average_shortest_path_length  \n",
       "0                  0.876689                      1.152525  "
      ]
     },
     "execution_count": 58,
     "metadata": {},
     "output_type": "execute_result"
    }
   ],
   "source": [
    "nm.get_network_features(pearson_network_TwoReg_Ox_1_98_last100)"
   ]
  },
  {
   "cell_type": "code",
   "execution_count": 59,
   "id": "c01d0f69-8dd4-46d2-b8a8-083f9c6a9121",
   "metadata": {},
   "outputs": [
    {
     "data": {
      "text/plain": [
       "array({'USD': 21, 'Euro': 23, 'FaravardehayeNafti': 24, 'M2': 27, 'Brent Oil': 28, 'Coin': 28, 'Gold': 31, 'M1': 33, 'CoalMining': 33, 'DastgahayeBargi': 33, 'GDP': 36, 'khodrosazi': 36, 'HOUSE': 37, 'Mansojat': 37, 'Amlakva': 37, 'CPI': 38, 'Wood': 38, 'EntesharVaChap': 38, 'GhandVaShekar': 39, 'Agriculture': 40, 'MahsolateFelezi': 40, 'FelezateAsasi': 40, 'MahsolateFelezi.1': 40, 'ChandReshteSanati': 40, 'GazaeeBejozGhand': 40, 'Daroee': 40, 'Shimiyaee': 40, 'Siman': 40, 'Bank': 40, 'HamlVaNaghl': 40, 'Bimeh': 40, 'Rayaneh': 40, 'Mali': 40, 'EstekrajeNaft': 41, 'Lastic': 41, 'MashinAlat': 41, 'SayerMali': 41, 'index': 42, 'SayerMadan': 42, 'paper': 42, 'KashiVaSeramik': 42, 'KanehayeGeyreFelezi': 42, 'SarmayeGozari': 42, 'FaniVaMohandesi': 42, 'VasayelErtebati': 43},\n",
       "      dtype=object)"
      ]
     },
     "execution_count": 59,
     "metadata": {},
     "output_type": "execute_result"
    }
   ],
   "source": [
    "b9_1 = dict(nx.degree(pearson_network_TwoReg_Ox_1_98_last100))\n",
    "b9_1 = np.array(dict(sorted(b9_1.items(), key=lambda item: item[1])))\n",
    "b9_1"
   ]
  },
  {
   "cell_type": "code",
   "execution_count": 60,
   "id": "4149e0cb-eb7a-44d9-8552-9de1746843c3",
   "metadata": {},
   "outputs": [],
   "source": [
    "pearson_network_TwoReg_Ox_2_98_last100 = nm.construct_network(tehran_df_TwoReg_Ox_2_same_length_98[-100:], method='pearson', threshold=thr9)"
   ]
  },
  {
   "cell_type": "code",
   "execution_count": 61,
   "id": "f52c91a9-ca17-4ffe-ab20-2db6a9e70993",
   "metadata": {},
   "outputs": [
    {
     "data": {
      "text/html": [
       "<div>\n",
       "<style scoped>\n",
       "    .dataframe tbody tr th:only-of-type {\n",
       "        vertical-align: middle;\n",
       "    }\n",
       "\n",
       "    .dataframe tbody tr th {\n",
       "        vertical-align: top;\n",
       "    }\n",
       "\n",
       "    .dataframe thead th {\n",
       "        text-align: right;\n",
       "    }\n",
       "</style>\n",
       "<table border=\"1\" class=\"dataframe\">\n",
       "  <thead>\n",
       "    <tr style=\"text-align: right;\">\n",
       "      <th></th>\n",
       "      <th>radius</th>\n",
       "      <th>diameter</th>\n",
       "      <th>densities</th>\n",
       "      <th>number_of_edges</th>\n",
       "      <th>average_clustering</th>\n",
       "      <th>avg_degree_centrality</th>\n",
       "      <th>avg_betweenness_centrality</th>\n",
       "      <th>avg_closeness_centrality</th>\n",
       "      <th>average_shortest_path_length</th>\n",
       "    </tr>\n",
       "  </thead>\n",
       "  <tbody>\n",
       "    <tr>\n",
       "      <th>0</th>\n",
       "      <td>2</td>\n",
       "      <td>2</td>\n",
       "      <td>0.784848</td>\n",
       "      <td>777</td>\n",
       "      <td>0.823194</td>\n",
       "      <td>0.784848</td>\n",
       "      <td>0.005004</td>\n",
       "      <td>0.831308</td>\n",
       "      <td>1.215152</td>\n",
       "    </tr>\n",
       "  </tbody>\n",
       "</table>\n",
       "</div>"
      ],
      "text/plain": [
       "   radius  diameter  densities  number_of_edges  average_clustering  \\\n",
       "0       2         2   0.784848              777            0.823194   \n",
       "\n",
       "   avg_degree_centrality  avg_betweenness_centrality  \\\n",
       "0               0.784848                    0.005004   \n",
       "\n",
       "   avg_closeness_centrality  average_shortest_path_length  \n",
       "0                  0.831308                      1.215152  "
      ]
     },
     "execution_count": 61,
     "metadata": {},
     "output_type": "execute_result"
    }
   ],
   "source": [
    "nm.get_network_features(pearson_network_TwoReg_Ox_2_98_last100)"
   ]
  },
  {
   "cell_type": "code",
   "execution_count": 62,
   "id": "3c131e65-abac-4f96-bb80-d5eee887e9cf",
   "metadata": {},
   "outputs": [
    {
     "data": {
      "text/plain": [
       "array({'FaravardehayeNafti': 13, 'HOUSE': 22, 'Wood': 25, 'CoalMining': 26, 'Euro': 28, 'ChandReshteSanati': 29, 'Brent Oil': 29, 'Gold': 29, 'Agriculture': 30, 'FelezateAsasi': 30, 'CPI': 31, 'Mansojat': 31, 'VasayelErtebati': 31, 'GhandVaShekar': 33, 'M2': 34, 'paper': 34, 'Coin': 34, 'GDP': 35, 'FaniVaMohandesi': 35, 'USD': 35, 'Daroee': 36, 'Shimiyaee': 36, 'Bank': 36, 'Bimeh': 36, 'Mali': 36, 'M1': 37, 'EstekrajeNaft': 37, 'khodrosazi': 37, 'SayerMali': 37, 'HamlVaNaghl': 37, 'SayerMadan': 38, 'DastgahayeBargi': 38, 'Amlakva': 38, 'Rayaneh': 38, 'index': 39, 'MashinAlat': 39, 'EntesharVaChap': 40, 'Lastic': 40, 'KashiVaSeramik': 40, 'Siman': 40, 'KanehayeGeyreFelezi': 40, 'MahsolateFelezi': 41, 'MahsolateFelezi.1': 41, 'SarmayeGozari': 41, 'GazaeeBejozGhand': 42},\n",
       "      dtype=object)"
      ]
     },
     "execution_count": 62,
     "metadata": {},
     "output_type": "execute_result"
    }
   ],
   "source": [
    "b9_2 = dict(nx.degree(pearson_network_TwoReg_Ox_2_98_last100))\n",
    "b9_2 = np.array(dict(sorted(b9_2.items(), key=lambda item: item[1])))\n",
    "b9_2"
   ]
  },
  {
   "cell_type": "markdown",
   "id": "bf4c1296-920c-49bc-a8cc-e82dff35001a",
   "metadata": {},
   "source": [
    "# 10) Tehran 2 Regime Pearson (Based on Median Threshold) Period of 90 Far - 98 Dey/ 50 windows of 100 Records"
   ]
  },
  {
   "cell_type": "code",
   "execution_count": 63,
   "id": "d9367836-923f-4aa3-a8fa-cc2d59b4cd02",
   "metadata": {},
   "outputs": [
    {
     "name": "stdout",
     "output_type": "stream",
     "text": [
      "Number of columns data in our DataFrame is = 46\n",
      "fixed_thr= 0.20285909264144628\n"
     ]
    }
   ],
   "source": [
    "nm = Net_moduls()\n",
    "pearson_network_TwoReg_Ox_1_98_averged = nm.get_network_features_averaged_median(tehran_df, regimes_column= tehran_df_reg['Ox_2'],method='pearson',edges_threshold=200, target_window=100, target_length=50)"
   ]
  },
  {
   "cell_type": "code",
   "execution_count": 64,
   "id": "9d045f03-eadb-4eeb-bb56-05496cd8f388",
   "metadata": {},
   "outputs": [
    {
     "data": {
      "text/html": [
       "<div>\n",
       "<style scoped>\n",
       "    .dataframe tbody tr th:only-of-type {\n",
       "        vertical-align: middle;\n",
       "    }\n",
       "\n",
       "    .dataframe tbody tr th {\n",
       "        vertical-align: top;\n",
       "    }\n",
       "\n",
       "    .dataframe thead th {\n",
       "        text-align: right;\n",
       "    }\n",
       "</style>\n",
       "<table border=\"1\" class=\"dataframe\">\n",
       "  <thead>\n",
       "    <tr style=\"text-align: right;\">\n",
       "      <th></th>\n",
       "      <th>radius</th>\n",
       "      <th>diameter</th>\n",
       "      <th>densities</th>\n",
       "      <th>number_of_edges</th>\n",
       "      <th>average_clustering</th>\n",
       "      <th>avg_degree_centrality</th>\n",
       "      <th>avg_betweenness_centrality</th>\n",
       "      <th>avg_closeness_centrality</th>\n",
       "      <th>average_shortest_path_length</th>\n",
       "    </tr>\n",
       "  </thead>\n",
       "  <tbody>\n",
       "    <tr>\n",
       "      <th>Means</th>\n",
       "      <td>3.000000</td>\n",
       "      <td>5.000000</td>\n",
       "      <td>0.513350</td>\n",
       "      <td>488.860000</td>\n",
       "      <td>0.799560</td>\n",
       "      <td>0.513350</td>\n",
       "      <td>0.011845</td>\n",
       "      <td>0.582131</td>\n",
       "      <td>1.670707</td>\n",
       "    </tr>\n",
       "    <tr>\n",
       "      <th>STDs</th>\n",
       "      <td>NaN</td>\n",
       "      <td>NaN</td>\n",
       "      <td>0.022554</td>\n",
       "      <td>13.540581</td>\n",
       "      <td>0.019251</td>\n",
       "      <td>0.022554</td>\n",
       "      <td>0.003131</td>\n",
       "      <td>0.036553</td>\n",
       "      <td>NaN</td>\n",
       "    </tr>\n",
       "    <tr>\n",
       "      <th>Means</th>\n",
       "      <td>2.553191</td>\n",
       "      <td>4.361702</td>\n",
       "      <td>0.240943</td>\n",
       "      <td>233.720000</td>\n",
       "      <td>0.510633</td>\n",
       "      <td>0.240943</td>\n",
       "      <td>0.024611</td>\n",
       "      <td>0.501912</td>\n",
       "      <td>2.039427</td>\n",
       "    </tr>\n",
       "    <tr>\n",
       "      <th>STDs</th>\n",
       "      <td>0.502538</td>\n",
       "      <td>0.528556</td>\n",
       "      <td>0.047070</td>\n",
       "      <td>50.018788</td>\n",
       "      <td>0.046928</td>\n",
       "      <td>0.047070</td>\n",
       "      <td>0.003874</td>\n",
       "      <td>0.042394</td>\n",
       "      <td>0.160699</td>\n",
       "    </tr>\n",
       "  </tbody>\n",
       "</table>\n",
       "</div>"
      ],
      "text/plain": [
       "         radius  diameter  densities  number_of_edges  average_clustering  \\\n",
       "Means  3.000000  5.000000   0.513350       488.860000            0.799560   \n",
       "STDs        NaN       NaN   0.022554        13.540581            0.019251   \n",
       "Means  2.553191  4.361702   0.240943       233.720000            0.510633   \n",
       "STDs   0.502538  0.528556   0.047070        50.018788            0.046928   \n",
       "\n",
       "       avg_degree_centrality  avg_betweenness_centrality  \\\n",
       "Means               0.513350                    0.011845   \n",
       "STDs                0.022554                    0.003131   \n",
       "Means               0.240943                    0.024611   \n",
       "STDs                0.047070                    0.003874   \n",
       "\n",
       "       avg_closeness_centrality  average_shortest_path_length  \n",
       "Means                  0.582131                      1.670707  \n",
       "STDs                   0.036553                           NaN  \n",
       "Means                  0.501912                      2.039427  \n",
       "STDs                   0.042394                      0.160699  "
      ]
     },
     "execution_count": 64,
     "metadata": {},
     "output_type": "execute_result"
    }
   ],
   "source": [
    "pearson_network_TwoReg_Ox_1_98_averged"
   ]
  },
  {
   "cell_type": "markdown",
   "id": "d133756f-a7e5-4066-a977-7c822cd94f08",
   "metadata": {},
   "source": [
    "# 10_1) Tehran 2 Regime ox 1399 Pearson (Based on Median Threshold) Period of 90 Far - 98 Dey/ 50 windows of 100 Records"
   ]
  },
  {
   "cell_type": "code",
   "execution_count": 65,
   "id": "8169a502-b7df-4da9-93d6-fbe860715185",
   "metadata": {
    "tags": []
   },
   "outputs": [
    {
     "name": "stdout",
     "output_type": "stream",
     "text": [
      "Number of columns data in our DataFrame is = 46\n",
      "fixed_thr= 0.2156576233721897\n"
     ]
    }
   ],
   "source": [
    "nm = Net_moduls()\n",
    "pearson_network_TwoReg_Ox99_averged = nm.get_network_features_averaged_median(tehran_df[tehran_df.columns[:-1]][-243:], regimes_column= tehran_index_99['ox-2-1year'][-243:].values ,method='pearson',edges_threshold=200, target_window=100, target_length=18)"
   ]
  },
  {
   "cell_type": "code",
   "execution_count": 66,
   "id": "e3cb5802-48a8-4a1f-bcec-f9fa925d113d",
   "metadata": {},
   "outputs": [
    {
     "data": {
      "text/html": [
       "<div>\n",
       "<style scoped>\n",
       "    .dataframe tbody tr th:only-of-type {\n",
       "        vertical-align: middle;\n",
       "    }\n",
       "\n",
       "    .dataframe tbody tr th {\n",
       "        vertical-align: top;\n",
       "    }\n",
       "\n",
       "    .dataframe thead th {\n",
       "        text-align: right;\n",
       "    }\n",
       "</style>\n",
       "<table border=\"1\" class=\"dataframe\">\n",
       "  <thead>\n",
       "    <tr style=\"text-align: right;\">\n",
       "      <th></th>\n",
       "      <th>radius</th>\n",
       "      <th>diameter</th>\n",
       "      <th>densities</th>\n",
       "      <th>number_of_edges</th>\n",
       "      <th>average_clustering</th>\n",
       "      <th>avg_degree_centrality</th>\n",
       "      <th>avg_betweenness_centrality</th>\n",
       "      <th>avg_closeness_centrality</th>\n",
       "      <th>average_shortest_path_length</th>\n",
       "    </tr>\n",
       "  </thead>\n",
       "  <tbody>\n",
       "    <tr>\n",
       "      <th>Means</th>\n",
       "      <td>3.0</td>\n",
       "      <td>5.111111</td>\n",
       "      <td>0.509954</td>\n",
       "      <td>479.500000</td>\n",
       "      <td>0.780155</td>\n",
       "      <td>0.509954</td>\n",
       "      <td>0.016253</td>\n",
       "      <td>0.632666</td>\n",
       "      <td>1.681009</td>\n",
       "    </tr>\n",
       "    <tr>\n",
       "      <th>STDs</th>\n",
       "      <td>0.0</td>\n",
       "      <td>0.323381</td>\n",
       "      <td>0.026027</td>\n",
       "      <td>15.886546</td>\n",
       "      <td>0.020510</td>\n",
       "      <td>0.026027</td>\n",
       "      <td>0.000669</td>\n",
       "      <td>0.012602</td>\n",
       "      <td>0.034457</td>\n",
       "    </tr>\n",
       "    <tr>\n",
       "      <th>Means</th>\n",
       "      <td>NaN</td>\n",
       "      <td>NaN</td>\n",
       "      <td>0.538989</td>\n",
       "      <td>475.111111</td>\n",
       "      <td>0.768570</td>\n",
       "      <td>0.538989</td>\n",
       "      <td>0.012316</td>\n",
       "      <td>0.622415</td>\n",
       "      <td>NaN</td>\n",
       "    </tr>\n",
       "    <tr>\n",
       "      <th>STDs</th>\n",
       "      <td>NaN</td>\n",
       "      <td>NaN</td>\n",
       "      <td>0.014346</td>\n",
       "      <td>4.013051</td>\n",
       "      <td>0.017663</td>\n",
       "      <td>0.014346</td>\n",
       "      <td>0.000992</td>\n",
       "      <td>0.012961</td>\n",
       "      <td>NaN</td>\n",
       "    </tr>\n",
       "  </tbody>\n",
       "</table>\n",
       "</div>"
      ],
      "text/plain": [
       "       radius  diameter  densities  number_of_edges  average_clustering  \\\n",
       "Means     3.0  5.111111   0.509954       479.500000            0.780155   \n",
       "STDs      0.0  0.323381   0.026027        15.886546            0.020510   \n",
       "Means     NaN       NaN   0.538989       475.111111            0.768570   \n",
       "STDs      NaN       NaN   0.014346         4.013051            0.017663   \n",
       "\n",
       "       avg_degree_centrality  avg_betweenness_centrality  \\\n",
       "Means               0.509954                    0.016253   \n",
       "STDs                0.026027                    0.000669   \n",
       "Means               0.538989                    0.012316   \n",
       "STDs                0.014346                    0.000992   \n",
       "\n",
       "       avg_closeness_centrality  average_shortest_path_length  \n",
       "Means                  0.632666                      1.681009  \n",
       "STDs                   0.012602                      0.034457  \n",
       "Means                  0.622415                           NaN  \n",
       "STDs                   0.012961                           NaN  "
      ]
     },
     "execution_count": 66,
     "metadata": {},
     "output_type": "execute_result"
    }
   ],
   "source": [
    "pearson_network_TwoReg_Ox99_averged"
   ]
  },
  {
   "cell_type": "code",
   "execution_count": null,
   "id": "5491d1d6-1538-4a25-ab17-536b40599bda",
   "metadata": {},
   "outputs": [],
   "source": []
  },
  {
   "cell_type": "markdown",
   "id": "e03a9bbb-a307-42ed-b5a5-f298a7ae675e",
   "metadata": {},
   "source": [
    "# 11) Tehran 2 Regime Pearson (Based on Median Threshold) Period of 90 Far - 00 Far/ 50 windows of 100 Records"
   ]
  },
  {
   "cell_type": "code",
   "execution_count": 67,
   "id": "9354ae69-078a-445a-b0fd-2b5ea161e7b6",
   "metadata": {},
   "outputs": [
    {
     "name": "stdout",
     "output_type": "stream",
     "text": [
      "Number of columns data in our DataFrame is = 46\n",
      "fixed_thr= 0.15959918978229293\n"
     ]
    }
   ],
   "source": [
    "nm = Net_moduls()\n",
    "pearson_network_TwoReg_Ox_90_00_averged = nm.get_network_features_averaged_median(tehran_df_completeDates, regimes_column= tehran_df_reg['Ox_2'],method='pearson',edges_threshold=200, target_window=100, target_length=50)"
   ]
  },
  {
   "cell_type": "code",
   "execution_count": 68,
   "id": "78c6e2d7-14b6-45fb-a621-ce877122f168",
   "metadata": {},
   "outputs": [
    {
     "data": {
      "text/html": [
       "<div>\n",
       "<style scoped>\n",
       "    .dataframe tbody tr th:only-of-type {\n",
       "        vertical-align: middle;\n",
       "    }\n",
       "\n",
       "    .dataframe tbody tr th {\n",
       "        vertical-align: top;\n",
       "    }\n",
       "\n",
       "    .dataframe thead th {\n",
       "        text-align: right;\n",
       "    }\n",
       "</style>\n",
       "<table border=\"1\" class=\"dataframe\">\n",
       "  <thead>\n",
       "    <tr style=\"text-align: right;\">\n",
       "      <th></th>\n",
       "      <th>radius</th>\n",
       "      <th>diameter</th>\n",
       "      <th>densities</th>\n",
       "      <th>number_of_edges</th>\n",
       "      <th>average_clustering</th>\n",
       "      <th>avg_degree_centrality</th>\n",
       "      <th>avg_betweenness_centrality</th>\n",
       "      <th>avg_closeness_centrality</th>\n",
       "      <th>average_shortest_path_length</th>\n",
       "    </tr>\n",
       "  </thead>\n",
       "  <tbody>\n",
       "    <tr>\n",
       "      <th>Means</th>\n",
       "      <td>2.0</td>\n",
       "      <td>3.380000</td>\n",
       "      <td>0.519691</td>\n",
       "      <td>537.880000</td>\n",
       "      <td>0.750899</td>\n",
       "      <td>0.519691</td>\n",
       "      <td>0.011832</td>\n",
       "      <td>0.680263</td>\n",
       "      <td>1.520599</td>\n",
       "    </tr>\n",
       "    <tr>\n",
       "      <th>STDs</th>\n",
       "      <td>0.0</td>\n",
       "      <td>0.490314</td>\n",
       "      <td>0.010347</td>\n",
       "      <td>10.708837</td>\n",
       "      <td>0.021172</td>\n",
       "      <td>0.010347</td>\n",
       "      <td>0.000481</td>\n",
       "      <td>0.008319</td>\n",
       "      <td>0.021177</td>\n",
       "    </tr>\n",
       "    <tr>\n",
       "      <th>Means</th>\n",
       "      <td>2.0</td>\n",
       "      <td>3.360000</td>\n",
       "      <td>0.337068</td>\n",
       "      <td>332.660000</td>\n",
       "      <td>0.555947</td>\n",
       "      <td>0.337068</td>\n",
       "      <td>0.017428</td>\n",
       "      <td>0.584544</td>\n",
       "      <td>1.747778</td>\n",
       "    </tr>\n",
       "    <tr>\n",
       "      <th>STDs</th>\n",
       "      <td>0.0</td>\n",
       "      <td>0.484873</td>\n",
       "      <td>0.055681</td>\n",
       "      <td>56.036653</td>\n",
       "      <td>0.059865</td>\n",
       "      <td>0.055681</td>\n",
       "      <td>0.002295</td>\n",
       "      <td>0.032273</td>\n",
       "      <td>0.096756</td>\n",
       "    </tr>\n",
       "  </tbody>\n",
       "</table>\n",
       "</div>"
      ],
      "text/plain": [
       "       radius  diameter  densities  number_of_edges  average_clustering  \\\n",
       "Means     2.0  3.380000   0.519691       537.880000            0.750899   \n",
       "STDs      0.0  0.490314   0.010347        10.708837            0.021172   \n",
       "Means     2.0  3.360000   0.337068       332.660000            0.555947   \n",
       "STDs      0.0  0.484873   0.055681        56.036653            0.059865   \n",
       "\n",
       "       avg_degree_centrality  avg_betweenness_centrality  \\\n",
       "Means               0.519691                    0.011832   \n",
       "STDs                0.010347                    0.000481   \n",
       "Means               0.337068                    0.017428   \n",
       "STDs                0.055681                    0.002295   \n",
       "\n",
       "       avg_closeness_centrality  average_shortest_path_length  \n",
       "Means                  0.680263                      1.520599  \n",
       "STDs                   0.008319                      0.021177  \n",
       "Means                  0.584544                      1.747778  \n",
       "STDs                   0.032273                      0.096756  "
      ]
     },
     "execution_count": 68,
     "metadata": {},
     "output_type": "execute_result"
    }
   ],
   "source": [
    "pearson_network_TwoReg_Ox_90_00_averged"
   ]
  },
  {
   "cell_type": "markdown",
   "id": "7803ea89-d8ab-4898-a4bd-74b7c396022e",
   "metadata": {},
   "source": [
    "# 12) Tehran 2 Regime Entropy (Based on Median Threshold) Period of 90 Far - 00 Far"
   ]
  },
  {
   "cell_type": "code",
   "execution_count": 69,
   "id": "fabcc32f-520c-4eb5-870c-0a39bf32e7c1",
   "metadata": {},
   "outputs": [],
   "source": [
    "thr12_1 = nm.find_median_entropy_threshold(tehran_df_TwoReg_Ox_1_same_length)\n",
    "thr12_2 = nm.find_median_entropy_threshold(tehran_df_TwoReg_Ox_2_same_length)\n",
    "thr12 = min(thr12_1, thr12_2)"
   ]
  },
  {
   "cell_type": "code",
   "execution_count": 70,
   "id": "5a0f68c3-faf6-437e-a6c7-811c30d54f58",
   "metadata": {},
   "outputs": [],
   "source": [
    "nm = Net_moduls()\n",
    "entropy_network_TwoReg_Ox_1 = nm.construct_network(tehran_df_TwoReg_Ox_1_same_length, method='entropy', threshold=thr12)"
   ]
  },
  {
   "cell_type": "code",
   "execution_count": 71,
   "id": "00fee4c3-2d4e-4936-9252-5bf377d24f6c",
   "metadata": {},
   "outputs": [
    {
     "data": {
      "text/html": [
       "<div>\n",
       "<style scoped>\n",
       "    .dataframe tbody tr th:only-of-type {\n",
       "        vertical-align: middle;\n",
       "    }\n",
       "\n",
       "    .dataframe tbody tr th {\n",
       "        vertical-align: top;\n",
       "    }\n",
       "\n",
       "    .dataframe thead th {\n",
       "        text-align: right;\n",
       "    }\n",
       "</style>\n",
       "<table border=\"1\" class=\"dataframe\">\n",
       "  <thead>\n",
       "    <tr style=\"text-align: right;\">\n",
       "      <th></th>\n",
       "      <th>radius</th>\n",
       "      <th>diameter</th>\n",
       "      <th>densities</th>\n",
       "      <th>number_of_edges</th>\n",
       "      <th>average_clustering</th>\n",
       "      <th>avg_degree_centrality</th>\n",
       "      <th>avg_betweenness_centrality</th>\n",
       "      <th>avg_closeness_centrality</th>\n",
       "      <th>average_shortest_path_length</th>\n",
       "    </tr>\n",
       "  </thead>\n",
       "  <tbody>\n",
       "    <tr>\n",
       "      <th>0</th>\n",
       "      <td>2</td>\n",
       "      <td>2</td>\n",
       "      <td>0.814493</td>\n",
       "      <td>843</td>\n",
       "      <td>0.842888</td>\n",
       "      <td>0.814493</td>\n",
       "      <td>0.004216</td>\n",
       "      <td>0.850764</td>\n",
       "      <td>1.185507</td>\n",
       "    </tr>\n",
       "  </tbody>\n",
       "</table>\n",
       "</div>"
      ],
      "text/plain": [
       "   radius  diameter  densities  number_of_edges  average_clustering  \\\n",
       "0       2         2   0.814493              843            0.842888   \n",
       "\n",
       "   avg_degree_centrality  avg_betweenness_centrality  \\\n",
       "0               0.814493                    0.004216   \n",
       "\n",
       "   avg_closeness_centrality  average_shortest_path_length  \n",
       "0                  0.850764                      1.185507  "
      ]
     },
     "execution_count": 71,
     "metadata": {},
     "output_type": "execute_result"
    }
   ],
   "source": [
    "nm.get_network_features(entropy_network_TwoReg_Ox_1)"
   ]
  },
  {
   "cell_type": "code",
   "execution_count": 72,
   "id": "642fab9f-25e8-4399-b2e1-38351af0e521",
   "metadata": {},
   "outputs": [
    {
     "data": {
      "text/plain": [
       "array({'M2': 21, 'HOUSE': 22, 'GDP': 26, 'CPI': 27, 'Gold': 27, 'Mansojat': 28, 'M1': 30, 'Amlakva': 32, 'GazaeeBejozGhand': 34, 'GhandVaShekar': 34, 'SarmayeGozari': 35, 'Bimeh': 35, 'USD': 36, 'SayerMali': 36, 'MashinAlat': 37, 'KanehayeGeyreFelezi': 37, 'paper': 37, 'index': 38, 'Euro': 38, 'Agriculture': 38, 'FelezateAsasi': 38, 'AbzaralatePezeshki': 38, 'ChandReshteSanati': 38, 'Daroee': 38, 'Brent Oil': 39, 'Coin': 39, 'SayerMadan': 39, 'EntesharVaChap': 39, 'DastgahayeBargi': 39, 'Shimiyaee': 39, 'KashiVaSeramik': 39, 'Mali': 39, 'VasayelErtebati': 39, 'khodrosazi': 39, 'EstekrajeNaft': 40, 'HamlVaNaghl': 40, 'CoalMining': 41, 'MahsolateFelezi': 41, 'MahsolateFelezi.1': 41, 'Rayaneh': 41, 'FaniVaMohandesi': 41, 'Wood': 42, 'FaravardehayeNafti': 42, 'Siman': 42, 'Bank': 42, 'Lastic': 43},\n",
       "      dtype=object)"
      ]
     },
     "execution_count": 72,
     "metadata": {},
     "output_type": "execute_result"
    }
   ],
   "source": [
    "b12_1 = dict(nx.degree(entropy_network_TwoReg_Ox_1))\n",
    "b12_1 = np.array(dict(sorted(b12_1.items(), key=lambda item: item[1])))\n",
    "b12_1"
   ]
  },
  {
   "cell_type": "code",
   "execution_count": 74,
   "id": "c362c88e-4d22-4469-ac03-896b73be1120",
   "metadata": {},
   "outputs": [],
   "source": [
    "entropy_network_TwoReg_Ox_2 = nm.construct_network(tehran_df_TwoReg_Ox_2_same_length, method='entropy', threshold=thr12)"
   ]
  },
  {
   "cell_type": "code",
   "execution_count": 75,
   "id": "5e613acc-aea5-4889-929b-581f3d02f8af",
   "metadata": {},
   "outputs": [
    {
     "data": {
      "text/html": [
       "<div>\n",
       "<style scoped>\n",
       "    .dataframe tbody tr th:only-of-type {\n",
       "        vertical-align: middle;\n",
       "    }\n",
       "\n",
       "    .dataframe tbody tr th {\n",
       "        vertical-align: top;\n",
       "    }\n",
       "\n",
       "    .dataframe thead th {\n",
       "        text-align: right;\n",
       "    }\n",
       "</style>\n",
       "<table border=\"1\" class=\"dataframe\">\n",
       "  <thead>\n",
       "    <tr style=\"text-align: right;\">\n",
       "      <th></th>\n",
       "      <th>radius</th>\n",
       "      <th>diameter</th>\n",
       "      <th>densities</th>\n",
       "      <th>number_of_edges</th>\n",
       "      <th>average_clustering</th>\n",
       "      <th>avg_degree_centrality</th>\n",
       "      <th>avg_betweenness_centrality</th>\n",
       "      <th>avg_closeness_centrality</th>\n",
       "      <th>average_shortest_path_length</th>\n",
       "    </tr>\n",
       "  </thead>\n",
       "  <tbody>\n",
       "    <tr>\n",
       "      <th>0</th>\n",
       "      <td>2</td>\n",
       "      <td>2</td>\n",
       "      <td>0.7343</td>\n",
       "      <td>760</td>\n",
       "      <td>0.742784</td>\n",
       "      <td>0.7343</td>\n",
       "      <td>0.006039</td>\n",
       "      <td>0.793597</td>\n",
       "      <td>1.2657</td>\n",
       "    </tr>\n",
       "  </tbody>\n",
       "</table>\n",
       "</div>"
      ],
      "text/plain": [
       "   radius  diameter  densities  number_of_edges  average_clustering  \\\n",
       "0       2         2     0.7343              760            0.742784   \n",
       "\n",
       "   avg_degree_centrality  avg_betweenness_centrality  \\\n",
       "0                 0.7343                    0.006039   \n",
       "\n",
       "   avg_closeness_centrality  average_shortest_path_length  \n",
       "0                  0.793597                        1.2657  "
      ]
     },
     "execution_count": 75,
     "metadata": {},
     "output_type": "execute_result"
    }
   ],
   "source": [
    "nm.get_network_features(entropy_network_TwoReg_Ox_2)"
   ]
  },
  {
   "cell_type": "code",
   "execution_count": 76,
   "id": "7dfbf01d-d4e1-448e-8a18-c4b26dfd3fe3",
   "metadata": {},
   "outputs": [
    {
     "data": {
      "text/plain": [
       "array({'GhandVaShekar': 22, 'GazaeeBejozGhand': 27, 'MahsolateFelezi': 27, 'MahsolateFelezi.1': 27, 'VasayelErtebati': 28, 'Brent Oil': 28, 'Bank': 30, 'M1': 30, 'AbzaralatePezeshki': 30, 'KashiVaSeramik': 30, 'KanehayeGeyreFelezi': 30, 'Euro': 31, 'GDP': 31, 'paper': 31, 'Wood': 31, 'Rayaneh': 31, 'Coin': 32, 'khodrosazi': 32, 'Mali': 32, 'M2': 32, 'EntesharVaChap': 33, 'SarmayeGozari': 33, 'CoalMining': 33, 'EstekrajeNaft': 33, 'CPI': 33, 'Siman': 33, 'SayerMadan': 34, 'Amlakva': 34, 'index': 35, 'USD': 35, 'Mansojat': 35, 'SayerMali': 35, 'HamlVaNaghl': 35, 'HOUSE': 36, 'FaravardehayeNafti': 36, 'DastgahayeBargi': 36, 'Shimiyaee': 36, 'Bimeh': 36, 'Gold': 36, 'FaniVaMohandesi': 37, 'Agriculture': 38, 'Lastic': 38, 'FelezateAsasi': 38, 'MashinAlat': 38, 'ChandReshteSanati': 41, 'Daroee': 41},\n",
       "      dtype=object)"
      ]
     },
     "execution_count": 76,
     "metadata": {},
     "output_type": "execute_result"
    }
   ],
   "source": [
    "b12_2 = dict(nx.degree(entropy_network_TwoReg_Ox_2))\n",
    "b12_2 = np.array(dict(sorted(b12_2.items(), key=lambda item: item[1])))\n",
    "b12_2"
   ]
  },
  {
   "cell_type": "markdown",
   "id": "f845333c-ad4d-4556-8463-5e90c6e650c3",
   "metadata": {},
   "source": [
    "# 12.1) Tehran 2 Regime ox 1399 Entropy (Based on Median Threshold)"
   ]
  },
  {
   "cell_type": "code",
   "execution_count": 80,
   "id": "46a58852-c23c-4bfb-a330-5709d861c465",
   "metadata": {},
   "outputs": [],
   "source": [
    "thr12_99_1 = nm.find_median_entropy_threshold(tehran_df_TwoReg_Ox_99_1_same_length)\n",
    "thr12_99_2 = nm.find_median_entropy_threshold(tehran_df_TwoReg_Ox_99_2_same_length)\n",
    "thr12_99 = min(thr12_99_1, thr12_99_2)"
   ]
  },
  {
   "cell_type": "code",
   "execution_count": 81,
   "id": "adbe54cc-0cc3-4760-b706-698cb9236ef1",
   "metadata": {},
   "outputs": [],
   "source": [
    "nm = Net_moduls()\n",
    "entropy_network_TwoReg_Ox_99_1 = nm.construct_network(tehran_df_TwoReg_Ox_99_1_same_length, method='entropy', threshold=thr12_99)"
   ]
  },
  {
   "cell_type": "code",
   "execution_count": 82,
   "id": "9bee543e-7117-4344-b7e5-ea11437107ae",
   "metadata": {},
   "outputs": [
    {
     "data": {
      "text/html": [
       "<div>\n",
       "<style scoped>\n",
       "    .dataframe tbody tr th:only-of-type {\n",
       "        vertical-align: middle;\n",
       "    }\n",
       "\n",
       "    .dataframe tbody tr th {\n",
       "        vertical-align: top;\n",
       "    }\n",
       "\n",
       "    .dataframe thead th {\n",
       "        text-align: right;\n",
       "    }\n",
       "</style>\n",
       "<table border=\"1\" class=\"dataframe\">\n",
       "  <thead>\n",
       "    <tr style=\"text-align: right;\">\n",
       "      <th></th>\n",
       "      <th>radius</th>\n",
       "      <th>diameter</th>\n",
       "      <th>densities</th>\n",
       "      <th>number_of_edges</th>\n",
       "      <th>average_clustering</th>\n",
       "      <th>avg_degree_centrality</th>\n",
       "      <th>avg_betweenness_centrality</th>\n",
       "      <th>avg_closeness_centrality</th>\n",
       "      <th>average_shortest_path_length</th>\n",
       "    </tr>\n",
       "  </thead>\n",
       "  <tbody>\n",
       "    <tr>\n",
       "      <th>0</th>\n",
       "      <td>2</td>\n",
       "      <td>2</td>\n",
       "      <td>0.690821</td>\n",
       "      <td>715</td>\n",
       "      <td>0.751345</td>\n",
       "      <td>0.690821</td>\n",
       "      <td>0.007027</td>\n",
       "      <td>0.772909</td>\n",
       "      <td>1.309179</td>\n",
       "    </tr>\n",
       "  </tbody>\n",
       "</table>\n",
       "</div>"
      ],
      "text/plain": [
       "   radius  diameter  densities  number_of_edges  average_clustering  \\\n",
       "0       2         2   0.690821              715            0.751345   \n",
       "\n",
       "   avg_degree_centrality  avg_betweenness_centrality  \\\n",
       "0               0.690821                    0.007027   \n",
       "\n",
       "   avg_closeness_centrality  average_shortest_path_length  \n",
       "0                  0.772909                      1.309179  "
      ]
     },
     "execution_count": 82,
     "metadata": {},
     "output_type": "execute_result"
    }
   ],
   "source": [
    "nm.get_network_features(entropy_network_TwoReg_Ox_99_1)"
   ]
  },
  {
   "cell_type": "code",
   "execution_count": 83,
   "id": "cf48bda0-4b26-4222-8ead-5c3b4a5a0aa5",
   "metadata": {},
   "outputs": [
    {
     "data": {
      "text/plain": [
       "array({'AbzaralatePezeshki': 8, 'GhandVaShekar': 19, 'Euro': 19, 'M1': 20, 'GDP': 20, 'Mansojat': 20, 'M2': 21, 'Gold': 24, 'CPI': 24, 'USD': 25, 'SayerMadan': 28, 'EstekrajeNaft': 28, 'HamlVaNaghl': 29, 'Coin': 29, 'khodrosazi': 30, 'Bank': 30, 'HOUSE': 31, 'CoalMining': 32, 'Wood': 32, 'DastgahayeBargi': 32, 'paper': 33, 'Daroee': 33, 'FaniVaMohandesi': 33, 'index': 34, 'Agriculture': 34, 'Siman': 34, 'Bimeh': 34, 'VasayelErtebati': 34, 'FaravardehayeNafti': 35, 'MashinAlat': 35, 'SayerMali': 35, 'ChandReshteSanati': 36, 'KashiVaSeramik': 36, 'KanehayeGeyreFelezi': 36, 'Amlakva': 36, 'Mali': 36, 'Brent Oil': 36, 'MahsolateFelezi': 36, 'MahsolateFelezi.1': 36, 'Lastic': 37, 'GazaeeBejozGhand': 37, 'Rayaneh': 38, 'EntesharVaChap': 38, 'SarmayeGozari': 39, 'FelezateAsasi': 39, 'Shimiyaee': 39},\n",
       "      dtype=object)"
      ]
     },
     "execution_count": 83,
     "metadata": {},
     "output_type": "execute_result"
    }
   ],
   "source": [
    "b12_1_1 = dict(nx.degree(entropy_network_TwoReg_Ox_99_1))\n",
    "b12_1_1 = np.array(dict(sorted(b12_1_1.items(), key=lambda item: item[1])))\n",
    "b12_1_1"
   ]
  },
  {
   "cell_type": "code",
   "execution_count": 84,
   "id": "4abe65d6-d01a-4c9d-9ba0-6dd240ad1c71",
   "metadata": {},
   "outputs": [],
   "source": [
    "nm = Net_moduls()\n",
    "entropy_network_TwoReg_Ox_99_2 = nm.construct_network(tehran_df_TwoReg_Ox_99_2_same_length, method='entropy', threshold=thr12_99)"
   ]
  },
  {
   "cell_type": "code",
   "execution_count": 85,
   "id": "b6b1aeb3-2da1-40d5-b889-0b01eccbf572",
   "metadata": {},
   "outputs": [
    {
     "data": {
      "text/html": [
       "<div>\n",
       "<style scoped>\n",
       "    .dataframe tbody tr th:only-of-type {\n",
       "        vertical-align: middle;\n",
       "    }\n",
       "\n",
       "    .dataframe tbody tr th {\n",
       "        vertical-align: top;\n",
       "    }\n",
       "\n",
       "    .dataframe thead th {\n",
       "        text-align: right;\n",
       "    }\n",
       "</style>\n",
       "<table border=\"1\" class=\"dataframe\">\n",
       "  <thead>\n",
       "    <tr style=\"text-align: right;\">\n",
       "      <th></th>\n",
       "      <th>radius</th>\n",
       "      <th>diameter</th>\n",
       "      <th>densities</th>\n",
       "      <th>number_of_edges</th>\n",
       "      <th>average_clustering</th>\n",
       "      <th>avg_degree_centrality</th>\n",
       "      <th>avg_betweenness_centrality</th>\n",
       "      <th>avg_closeness_centrality</th>\n",
       "      <th>average_shortest_path_length</th>\n",
       "    </tr>\n",
       "  </thead>\n",
       "  <tbody>\n",
       "    <tr>\n",
       "      <th>0</th>\n",
       "      <td>2</td>\n",
       "      <td>2</td>\n",
       "      <td>0.739394</td>\n",
       "      <td>732</td>\n",
       "      <td>0.783059</td>\n",
       "      <td>0.739394</td>\n",
       "      <td>0.006061</td>\n",
       "      <td>0.801149</td>\n",
       "      <td>1.260606</td>\n",
       "    </tr>\n",
       "  </tbody>\n",
       "</table>\n",
       "</div>"
      ],
      "text/plain": [
       "   radius  diameter  densities  number_of_edges  average_clustering  \\\n",
       "0       2         2   0.739394              732            0.783059   \n",
       "\n",
       "   avg_degree_centrality  avg_betweenness_centrality  \\\n",
       "0               0.739394                    0.006061   \n",
       "\n",
       "   avg_closeness_centrality  average_shortest_path_length  \n",
       "0                  0.801149                      1.260606  "
      ]
     },
     "execution_count": 85,
     "metadata": {},
     "output_type": "execute_result"
    }
   ],
   "source": [
    "nm.get_network_features(entropy_network_TwoReg_Ox_99_2)"
   ]
  },
  {
   "cell_type": "code",
   "execution_count": 86,
   "id": "33538b72-2566-4938-8702-9fe792cba1b1",
   "metadata": {},
   "outputs": [
    {
     "data": {
      "text/plain": [
       "array({'Mansojat': 19, 'Brent Oil': 20, 'FaravardehayeNafti': 22, 'Coin': 23, 'Euro': 23, 'FelezateAsasi': 24, 'HOUSE': 25, 'KashiVaSeramik': 26, 'USD': 28, 'Wood': 28, 'Bank': 29, 'M1': 30, 'paper': 30, 'Lastic': 30, 'M2': 30, 'GDP': 31, 'CPI': 32, 'Shimiyaee': 32, 'FaniVaMohandesi': 32, 'SayerMadan': 33, 'VasayelErtebati': 33, 'EntesharVaChap': 33, 'GazaeeBejozGhand': 34, 'Daroee': 34, 'Bimeh': 34, 'Gold': 34, 'GhandVaShekar': 34, 'ChandReshteSanati': 35, 'index': 36, 'Agriculture': 36, 'SarmayeGozari': 36, 'CoalMining': 37, 'EstekrajeNaft': 37, 'khodrosazi': 37, 'MashinAlat': 38, 'DastgahayeBargi': 38, 'SayerMali': 38, 'Mali': 38, 'MahsolateFelezi': 39, 'MahsolateFelezi.1': 39, 'Siman': 39, 'KanehayeGeyreFelezi': 39, 'Amlakva': 39, 'Rayaneh': 39, 'HamlVaNaghl': 41},\n",
       "      dtype=object)"
      ]
     },
     "execution_count": 86,
     "metadata": {},
     "output_type": "execute_result"
    }
   ],
   "source": [
    "b12_1_2 = dict(nx.degree(entropy_network_TwoReg_Ox_99_2))\n",
    "b12_1_2 = np.array(dict(sorted(b12_1_2.items(), key=lambda item: item[1])))\n",
    "b12_1_2"
   ]
  },
  {
   "cell_type": "markdown",
   "id": "58398aa8-5b08-425d-9eaf-3af5bdfb4e1c",
   "metadata": {
    "tags": []
   },
   "source": [
    "# 13) Tehran 2 Regime Entropy (Based on Median Threshold) Period of 90 Far - 98 Dey/ Last 100 Records"
   ]
  },
  {
   "cell_type": "code",
   "execution_count": 90,
   "id": "433b42d9-a3c4-4fe4-af3d-40f40defc125",
   "metadata": {},
   "outputs": [],
   "source": [
    "thr13_1 = nm.find_median_entropy_threshold(tehran_df_TwoReg_Ox_1_same_length_98[-100:])\n",
    "thr13_2 = nm.find_median_entropy_threshold(tehran_df_TwoReg_Ox_2_same_length_98[-100:])\n",
    "thr13 = min(thr13_1, thr13_2)"
   ]
  },
  {
   "cell_type": "code",
   "execution_count": 91,
   "id": "445bf3df-35c6-45d0-bdde-addb1433db2d",
   "metadata": {},
   "outputs": [],
   "source": [
    "entropy_network_TwoReg_Ox_1_98_last100 = nm.construct_network(tehran_df_TwoReg_Ox_1_same_length_98[-100:], method='entropy', threshold=thr13)"
   ]
  },
  {
   "cell_type": "code",
   "execution_count": 92,
   "id": "b3be7225-00be-4a90-a927-34df1c3441af",
   "metadata": {},
   "outputs": [
    {
     "data": {
      "text/html": [
       "<div>\n",
       "<style scoped>\n",
       "    .dataframe tbody tr th:only-of-type {\n",
       "        vertical-align: middle;\n",
       "    }\n",
       "\n",
       "    .dataframe tbody tr th {\n",
       "        vertical-align: top;\n",
       "    }\n",
       "\n",
       "    .dataframe thead th {\n",
       "        text-align: right;\n",
       "    }\n",
       "</style>\n",
       "<table border=\"1\" class=\"dataframe\">\n",
       "  <thead>\n",
       "    <tr style=\"text-align: right;\">\n",
       "      <th></th>\n",
       "      <th>radius</th>\n",
       "      <th>diameter</th>\n",
       "      <th>densities</th>\n",
       "      <th>number_of_edges</th>\n",
       "      <th>average_clustering</th>\n",
       "      <th>avg_degree_centrality</th>\n",
       "      <th>avg_betweenness_centrality</th>\n",
       "      <th>avg_closeness_centrality</th>\n",
       "      <th>average_shortest_path_length</th>\n",
       "    </tr>\n",
       "  </thead>\n",
       "  <tbody>\n",
       "    <tr>\n",
       "      <th>0</th>\n",
       "      <td>2</td>\n",
       "      <td>2</td>\n",
       "      <td>0.789899</td>\n",
       "      <td>782</td>\n",
       "      <td>0.809717</td>\n",
       "      <td>0.789899</td>\n",
       "      <td>0.004886</td>\n",
       "      <td>0.832214</td>\n",
       "      <td>1.210101</td>\n",
       "    </tr>\n",
       "  </tbody>\n",
       "</table>\n",
       "</div>"
      ],
      "text/plain": [
       "   radius  diameter  densities  number_of_edges  average_clustering  \\\n",
       "0       2         2   0.789899              782            0.809717   \n",
       "\n",
       "   avg_degree_centrality  avg_betweenness_centrality  \\\n",
       "0               0.789899                    0.004886   \n",
       "\n",
       "   avg_closeness_centrality  average_shortest_path_length  \n",
       "0                  0.832214                      1.210101  "
      ]
     },
     "execution_count": 92,
     "metadata": {},
     "output_type": "execute_result"
    }
   ],
   "source": [
    "nm.get_network_features(entropy_network_TwoReg_Ox_1_98_last100)"
   ]
  },
  {
   "cell_type": "code",
   "execution_count": 93,
   "id": "93db88d8-b19e-4fb2-ba8f-d2201a744482",
   "metadata": {},
   "outputs": [
    {
     "data": {
      "text/plain": [
       "array({'CPI': 23, 'Coin': 24, 'Gold': 26, 'Brent Oil': 27, 'USD': 27, 'Euro': 30, 'M2': 30, 'HOUSE': 31, 'M1': 31, 'khodrosazi': 31, 'FelezateAsasi': 31, 'GDP': 32, 'CoalMining': 32, 'SarmayeGozari': 32, 'index': 33, 'Mansojat': 34, 'ChandReshteSanati': 34, 'Bank': 34, 'Mali': 34, 'paper': 35, 'SayerMali': 35, 'EntesharVaChap': 35, 'Daroee': 36, 'Agriculture': 36, 'Lastic': 37, 'FaniVaMohandesi': 37, 'Shimiyaee': 37, 'Siman': 37, 'FaravardehayeNafti': 38, 'DastgahayeBargi': 38, 'HamlVaNaghl': 38, 'MahsolateFelezi': 38, 'MahsolateFelezi.1': 38, 'GazaeeBejozGhand': 38, 'KanehayeGeyreFelezi': 38, 'Amlakva': 38, 'EstekrajeNaft': 38, 'Rayaneh': 38, 'Bimeh': 39, 'SayerMadan': 40, 'Wood': 40, 'GhandVaShekar': 40, 'KashiVaSeramik': 40, 'MashinAlat': 42, 'VasayelErtebati': 42},\n",
       "      dtype=object)"
      ]
     },
     "execution_count": 93,
     "metadata": {},
     "output_type": "execute_result"
    }
   ],
   "source": [
    "b13_1 = dict(nx.degree(entropy_network_TwoReg_Ox_1_98_last100))\n",
    "b13_1 = np.array(dict(sorted(b13_1.items(), key=lambda item: item[1])))\n",
    "b13_1"
   ]
  },
  {
   "cell_type": "code",
   "execution_count": 94,
   "id": "22d83b8d-94c6-463a-90c7-bda6e348b673",
   "metadata": {},
   "outputs": [],
   "source": [
    "entropy_network_TwoReg_Ox_2_98_last100 = nm.construct_network(tehran_df_TwoReg_Ox_2_same_length_98[-100:], method='entropy', threshold=thr13)"
   ]
  },
  {
   "cell_type": "code",
   "execution_count": 95,
   "id": "c27937f9-e48f-4a7c-b9f2-ae5032a76c67",
   "metadata": {},
   "outputs": [
    {
     "data": {
      "text/html": [
       "<div>\n",
       "<style scoped>\n",
       "    .dataframe tbody tr th:only-of-type {\n",
       "        vertical-align: middle;\n",
       "    }\n",
       "\n",
       "    .dataframe tbody tr th {\n",
       "        vertical-align: top;\n",
       "    }\n",
       "\n",
       "    .dataframe thead th {\n",
       "        text-align: right;\n",
       "    }\n",
       "</style>\n",
       "<table border=\"1\" class=\"dataframe\">\n",
       "  <thead>\n",
       "    <tr style=\"text-align: right;\">\n",
       "      <th></th>\n",
       "      <th>radius</th>\n",
       "      <th>diameter</th>\n",
       "      <th>densities</th>\n",
       "      <th>number_of_edges</th>\n",
       "      <th>average_clustering</th>\n",
       "      <th>avg_degree_centrality</th>\n",
       "      <th>avg_betweenness_centrality</th>\n",
       "      <th>avg_closeness_centrality</th>\n",
       "      <th>average_shortest_path_length</th>\n",
       "    </tr>\n",
       "  </thead>\n",
       "  <tbody>\n",
       "    <tr>\n",
       "      <th>0</th>\n",
       "      <td>2</td>\n",
       "      <td>2</td>\n",
       "      <td>0.717172</td>\n",
       "      <td>710</td>\n",
       "      <td>0.754899</td>\n",
       "      <td>0.717172</td>\n",
       "      <td>0.006577</td>\n",
       "      <td>0.786319</td>\n",
       "      <td>1.282828</td>\n",
       "    </tr>\n",
       "  </tbody>\n",
       "</table>\n",
       "</div>"
      ],
      "text/plain": [
       "   radius  diameter  densities  number_of_edges  average_clustering  \\\n",
       "0       2         2   0.717172              710            0.754899   \n",
       "\n",
       "   avg_degree_centrality  avg_betweenness_centrality  \\\n",
       "0               0.717172                    0.006577   \n",
       "\n",
       "   avg_closeness_centrality  average_shortest_path_length  \n",
       "0                  0.786319                      1.282828  "
      ]
     },
     "execution_count": 95,
     "metadata": {},
     "output_type": "execute_result"
    }
   ],
   "source": [
    "nm.get_network_features(entropy_network_TwoReg_Ox_2_98_last100)"
   ]
  },
  {
   "cell_type": "code",
   "execution_count": 96,
   "id": "fc81d210-65ce-4e7a-9eba-9e249a22e66a",
   "metadata": {},
   "outputs": [
    {
     "data": {
      "text/plain": [
       "array({'CoalMining': 20, 'index': 22, 'GDP': 24, 'FaravardehayeNafti': 24, 'Coin': 25, 'USD': 25, 'CPI': 27, 'Mali': 27, 'MahsolateFelezi': 27, 'MahsolateFelezi.1': 27, 'VasayelErtebati': 27, 'KanehayeGeyreFelezi': 28, 'Lastic': 28, 'GhandVaShekar': 29, 'Bank': 29, 'Bimeh': 29, 'GazaeeBejozGhand': 29, 'KashiVaSeramik': 29, 'Euro': 30, 'EstekrajeNaft': 30, 'HamlVaNaghl': 30, 'ChandReshteSanati': 31, 'Gold': 32, 'Wood': 32, 'SayerMali': 32, 'Mansojat': 33, 'EntesharVaChap': 33, 'FaniVaMohandesi': 33, 'Brent Oil': 34, 'M1': 34, 'Amlakva': 34, 'Rayaneh': 34, 'Shimiyaee': 35, 'HOUSE': 35, 'khodrosazi': 36, 'DastgahayeBargi': 36, 'M2': 37, 'SarmayeGozari': 37, 'Agriculture': 37, 'SayerMadan': 37, 'paper': 38, 'Daroee': 39, 'Siman': 40, 'FelezateAsasi': 42, 'MashinAlat': 43},\n",
       "      dtype=object)"
      ]
     },
     "execution_count": 96,
     "metadata": {},
     "output_type": "execute_result"
    }
   ],
   "source": [
    "b13_2 = dict(nx.degree(entropy_network_TwoReg_Ox_2_98_last100))\n",
    "b13_2 = np.array(dict(sorted(b13_2.items(), key=lambda item: item[1])))\n",
    "b13_2"
   ]
  },
  {
   "cell_type": "markdown",
   "id": "26bcd8bd-8dd9-41bf-aa24-05a2dec22301",
   "metadata": {},
   "source": [
    "# 14) Tehran 2 Regime Entropy (Based on Median Threshold) Period of 90 Far - 98 Dey/ 50 windows of 100 Records"
   ]
  },
  {
   "cell_type": "code",
   "execution_count": 97,
   "id": "69589227-2399-4583-9bf4-8d0bbfcbd9ff",
   "metadata": {},
   "outputs": [
    {
     "name": "stdout",
     "output_type": "stream",
     "text": [
      "Number of columns data in our DataFrame is = 46\n",
      "fixed_thr= 0.02817851828822495\n"
     ]
    }
   ],
   "source": [
    "nm = Net_moduls()\n",
    "entropy_network_TwoReg_Ox_90_98_averged = nm.get_network_features_averaged_median(tehran_df, \\\n",
    "                                                                                  regimes_column= tehran_df_reg['Ox_2'],\\\n",
    "                                                                                  method='entropy',edges_threshold=200, \\\n",
    "                                                                                  target_window=100, \\\n",
    "                                                                                  target_length=50)"
   ]
  },
  {
   "cell_type": "code",
   "execution_count": 98,
   "id": "d9e53e37-66af-4553-8ed2-6bd6c666b436",
   "metadata": {},
   "outputs": [
    {
     "data": {
      "text/html": [
       "<div>\n",
       "<style scoped>\n",
       "    .dataframe tbody tr th:only-of-type {\n",
       "        vertical-align: middle;\n",
       "    }\n",
       "\n",
       "    .dataframe tbody tr th {\n",
       "        vertical-align: top;\n",
       "    }\n",
       "\n",
       "    .dataframe thead th {\n",
       "        text-align: right;\n",
       "    }\n",
       "</style>\n",
       "<table border=\"1\" class=\"dataframe\">\n",
       "  <thead>\n",
       "    <tr style=\"text-align: right;\">\n",
       "      <th></th>\n",
       "      <th>radius</th>\n",
       "      <th>diameter</th>\n",
       "      <th>densities</th>\n",
       "      <th>number_of_edges</th>\n",
       "      <th>average_clustering</th>\n",
       "      <th>avg_degree_centrality</th>\n",
       "      <th>avg_betweenness_centrality</th>\n",
       "      <th>avg_closeness_centrality</th>\n",
       "      <th>average_shortest_path_length</th>\n",
       "    </tr>\n",
       "  </thead>\n",
       "  <tbody>\n",
       "    <tr>\n",
       "      <th>Means</th>\n",
       "      <td>2.0</td>\n",
       "      <td>2.0</td>\n",
       "      <td>0.635980</td>\n",
       "      <td>629.620000</td>\n",
       "      <td>0.684656</td>\n",
       "      <td>0.635980</td>\n",
       "      <td>0.008466</td>\n",
       "      <td>0.741185</td>\n",
       "      <td>1.364020</td>\n",
       "    </tr>\n",
       "    <tr>\n",
       "      <th>STDs</th>\n",
       "      <td>0.0</td>\n",
       "      <td>0.0</td>\n",
       "      <td>0.045367</td>\n",
       "      <td>44.913472</td>\n",
       "      <td>0.043756</td>\n",
       "      <td>0.045367</td>\n",
       "      <td>0.001055</td>\n",
       "      <td>0.024061</td>\n",
       "      <td>0.045367</td>\n",
       "    </tr>\n",
       "    <tr>\n",
       "      <th>Means</th>\n",
       "      <td>2.0</td>\n",
       "      <td>2.0</td>\n",
       "      <td>0.628061</td>\n",
       "      <td>621.780000</td>\n",
       "      <td>0.672236</td>\n",
       "      <td>0.628061</td>\n",
       "      <td>0.008650</td>\n",
       "      <td>0.734783</td>\n",
       "      <td>1.371939</td>\n",
       "    </tr>\n",
       "    <tr>\n",
       "      <th>STDs</th>\n",
       "      <td>0.0</td>\n",
       "      <td>0.0</td>\n",
       "      <td>0.025591</td>\n",
       "      <td>25.335536</td>\n",
       "      <td>0.024614</td>\n",
       "      <td>0.025591</td>\n",
       "      <td>0.000595</td>\n",
       "      <td>0.014328</td>\n",
       "      <td>0.025591</td>\n",
       "    </tr>\n",
       "  </tbody>\n",
       "</table>\n",
       "</div>"
      ],
      "text/plain": [
       "       radius  diameter  densities  number_of_edges  average_clustering  \\\n",
       "Means     2.0       2.0   0.635980       629.620000            0.684656   \n",
       "STDs      0.0       0.0   0.045367        44.913472            0.043756   \n",
       "Means     2.0       2.0   0.628061       621.780000            0.672236   \n",
       "STDs      0.0       0.0   0.025591        25.335536            0.024614   \n",
       "\n",
       "       avg_degree_centrality  avg_betweenness_centrality  \\\n",
       "Means               0.635980                    0.008466   \n",
       "STDs                0.045367                    0.001055   \n",
       "Means               0.628061                    0.008650   \n",
       "STDs                0.025591                    0.000595   \n",
       "\n",
       "       avg_closeness_centrality  average_shortest_path_length  \n",
       "Means                  0.741185                      1.364020  \n",
       "STDs                   0.024061                      0.045367  \n",
       "Means                  0.734783                      1.371939  \n",
       "STDs                   0.014328                      0.025591  "
      ]
     },
     "execution_count": 98,
     "metadata": {},
     "output_type": "execute_result"
    }
   ],
   "source": [
    "entropy_network_TwoReg_Ox_90_98_averged"
   ]
  },
  {
   "cell_type": "markdown",
   "id": "60fc4ed4-991f-44c9-ac33-e825fc27cf5c",
   "metadata": {},
   "source": [
    "# 15) Tehran 2 Regime Entropy (Based on Median Threshold) Period of 90 Far - 00 Far/ 50 windows of 100 Records"
   ]
  },
  {
   "cell_type": "code",
   "execution_count": 99,
   "id": "91e41abe-8581-41b4-8508-9740e91955f3",
   "metadata": {},
   "outputs": [
    {
     "name": "stdout",
     "output_type": "stream",
     "text": [
      "Number of columns data in our DataFrame is = 46\n",
      "fixed_thr= 0.024496417514484746\n"
     ]
    }
   ],
   "source": [
    "nm = Net_moduls()\n",
    "entropy_network_TwoReg_Ox_90_00_averged = nm.get_network_features_averaged_median(tehran_df_completeDates, \\\n",
    "                                                                                  regimes_column= tehran_df_reg['Ox_2'],\\\n",
    "                                                                                  method='entropy',edges_threshold=200, \\\n",
    "                                                                                  target_window=100, target_length=50)"
   ]
  },
  {
   "cell_type": "code",
   "execution_count": 100,
   "id": "e691c003-b94c-4325-abb3-b6789d3bcb12",
   "metadata": {},
   "outputs": [
    {
     "data": {
      "text/html": [
       "<div>\n",
       "<style scoped>\n",
       "    .dataframe tbody tr th:only-of-type {\n",
       "        vertical-align: middle;\n",
       "    }\n",
       "\n",
       "    .dataframe tbody tr th {\n",
       "        vertical-align: top;\n",
       "    }\n",
       "\n",
       "    .dataframe thead th {\n",
       "        text-align: right;\n",
       "    }\n",
       "</style>\n",
       "<table border=\"1\" class=\"dataframe\">\n",
       "  <thead>\n",
       "    <tr style=\"text-align: right;\">\n",
       "      <th></th>\n",
       "      <th>radius</th>\n",
       "      <th>diameter</th>\n",
       "      <th>densities</th>\n",
       "      <th>number_of_edges</th>\n",
       "      <th>average_clustering</th>\n",
       "      <th>avg_degree_centrality</th>\n",
       "      <th>avg_betweenness_centrality</th>\n",
       "      <th>avg_closeness_centrality</th>\n",
       "      <th>average_shortest_path_length</th>\n",
       "    </tr>\n",
       "  </thead>\n",
       "  <tbody>\n",
       "    <tr>\n",
       "      <th>Means</th>\n",
       "      <td>2.000000</td>\n",
       "      <td>2.020000</td>\n",
       "      <td>0.651014</td>\n",
       "      <td>673.800000</td>\n",
       "      <td>0.701393</td>\n",
       "      <td>0.651014</td>\n",
       "      <td>0.007932</td>\n",
       "      <td>0.747845</td>\n",
       "      <td>1.349005</td>\n",
       "    </tr>\n",
       "    <tr>\n",
       "      <th>STDs</th>\n",
       "      <td>0.000000</td>\n",
       "      <td>0.141421</td>\n",
       "      <td>0.024928</td>\n",
       "      <td>25.800649</td>\n",
       "      <td>0.023097</td>\n",
       "      <td>0.024928</td>\n",
       "      <td>0.000567</td>\n",
       "      <td>0.014259</td>\n",
       "      <td>0.024942</td>\n",
       "    </tr>\n",
       "    <tr>\n",
       "      <th>Means</th>\n",
       "      <td>1.960000</td>\n",
       "      <td>2.000000</td>\n",
       "      <td>0.734303</td>\n",
       "      <td>726.960000</td>\n",
       "      <td>0.761284</td>\n",
       "      <td>0.734303</td>\n",
       "      <td>0.006179</td>\n",
       "      <td>0.796156</td>\n",
       "      <td>1.265697</td>\n",
       "    </tr>\n",
       "    <tr>\n",
       "      <th>STDs</th>\n",
       "      <td>0.197949</td>\n",
       "      <td>0.000000</td>\n",
       "      <td>0.031045</td>\n",
       "      <td>30.734518</td>\n",
       "      <td>0.029001</td>\n",
       "      <td>0.031045</td>\n",
       "      <td>0.000722</td>\n",
       "      <td>0.019616</td>\n",
       "      <td>0.031045</td>\n",
       "    </tr>\n",
       "  </tbody>\n",
       "</table>\n",
       "</div>"
      ],
      "text/plain": [
       "         radius  diameter  densities  number_of_edges  average_clustering  \\\n",
       "Means  2.000000  2.020000   0.651014       673.800000            0.701393   \n",
       "STDs   0.000000  0.141421   0.024928        25.800649            0.023097   \n",
       "Means  1.960000  2.000000   0.734303       726.960000            0.761284   \n",
       "STDs   0.197949  0.000000   0.031045        30.734518            0.029001   \n",
       "\n",
       "       avg_degree_centrality  avg_betweenness_centrality  \\\n",
       "Means               0.651014                    0.007932   \n",
       "STDs                0.024928                    0.000567   \n",
       "Means               0.734303                    0.006179   \n",
       "STDs                0.031045                    0.000722   \n",
       "\n",
       "       avg_closeness_centrality  average_shortest_path_length  \n",
       "Means                  0.747845                      1.349005  \n",
       "STDs                   0.014259                      0.024942  \n",
       "Means                  0.796156                      1.265697  \n",
       "STDs                   0.019616                      0.031045  "
      ]
     },
     "execution_count": 100,
     "metadata": {},
     "output_type": "execute_result"
    }
   ],
   "source": [
    "entropy_network_TwoReg_Ox_90_00_averged"
   ]
  },
  {
   "cell_type": "markdown",
   "id": "857fb752-264b-4524-b067-0105bc281e77",
   "metadata": {},
   "source": [
    "# 16) Tehran 2 Regime Crossed (Based on Median Threshold) Period of 90 Far - 00 Far"
   ]
  },
  {
   "cell_type": "code",
   "execution_count": 101,
   "id": "35cbe124-459f-4793-a55a-b23949f8e46e",
   "metadata": {},
   "outputs": [
    {
     "name": "stderr",
     "output_type": "stream",
     "text": [
      "/Library/Frameworks/Python.framework/Versions/3.11/lib/python3.11/site-packages/numpy/lib/function_base.py:2845: RuntimeWarning: Degrees of freedom <= 0 for slice\n",
      "  c = cov(x, y, rowvar, dtype=dtype)\n",
      "/Library/Frameworks/Python.framework/Versions/3.11/lib/python3.11/site-packages/numpy/lib/function_base.py:2704: RuntimeWarning: divide by zero encountered in divide\n",
      "  c *= np.true_divide(1, fact)\n"
     ]
    }
   ],
   "source": [
    "thr16_1 = nm.find_median_crossed_threshold(tehran_df_TwoReg_Ox_99_1_same_length)\n",
    "thr16_2 = nm.find_median_crossed_threshold(tehran_df_TwoReg_Ox_99_2_same_length)\n",
    "thr16 = min(thr16_1, thr16_2)"
   ]
  },
  {
   "cell_type": "code",
   "execution_count": 102,
   "id": "0c9b7917-88de-4b32-92f7-b98d69ad0849",
   "metadata": {},
   "outputs": [],
   "source": [
    "nm = Net_moduls()\n",
    "crossed_network_TwoReg_Ox_1 = nm.construct_network(tehran_df_TwoReg_Ox_1_same_length, method='crossed', threshold=thr16)"
   ]
  },
  {
   "cell_type": "code",
   "execution_count": 103,
   "id": "f55bdf1c-d6f3-4e5c-9efd-fa3408d7f4fc",
   "metadata": {},
   "outputs": [
    {
     "name": "stderr",
     "output_type": "stream",
     "text": [
      "/Library/Frameworks/Python.framework/Versions/3.11/lib/python3.11/site-packages/numpy/core/fromnumeric.py:3432: RuntimeWarning: Mean of empty slice.\n",
      "  return _methods._mean(a, axis=axis, dtype=dtype,\n",
      "/Library/Frameworks/Python.framework/Versions/3.11/lib/python3.11/site-packages/numpy/core/_methods.py:190: RuntimeWarning: invalid value encountered in double_scalars\n",
      "  ret = ret.dtype.type(ret / rcount)\n"
     ]
    },
    {
     "data": {
      "text/html": [
       "<div>\n",
       "<style scoped>\n",
       "    .dataframe tbody tr th:only-of-type {\n",
       "        vertical-align: middle;\n",
       "    }\n",
       "\n",
       "    .dataframe tbody tr th {\n",
       "        vertical-align: top;\n",
       "    }\n",
       "\n",
       "    .dataframe thead th {\n",
       "        text-align: right;\n",
       "    }\n",
       "</style>\n",
       "<table border=\"1\" class=\"dataframe\">\n",
       "  <thead>\n",
       "    <tr style=\"text-align: right;\">\n",
       "      <th></th>\n",
       "      <th>radius</th>\n",
       "      <th>diameter</th>\n",
       "      <th>densities</th>\n",
       "      <th>number_of_edges</th>\n",
       "      <th>average_clustering</th>\n",
       "      <th>avg_degree_centrality</th>\n",
       "      <th>avg_betweenness_centrality</th>\n",
       "      <th>avg_closeness_centrality</th>\n",
       "      <th>average_shortest_path_length</th>\n",
       "    </tr>\n",
       "  </thead>\n",
       "  <tbody>\n",
       "    <tr>\n",
       "      <th>0</th>\n",
       "      <td>NaN</td>\n",
       "      <td>NaN</td>\n",
       "      <td>0</td>\n",
       "      <td>0</td>\n",
       "      <td>NaN</td>\n",
       "      <td>NaN</td>\n",
       "      <td>NaN</td>\n",
       "      <td>NaN</td>\n",
       "      <td>NaN</td>\n",
       "    </tr>\n",
       "  </tbody>\n",
       "</table>\n",
       "</div>"
      ],
      "text/plain": [
       "   radius  diameter  densities  number_of_edges  average_clustering  \\\n",
       "0     NaN       NaN          0                0                 NaN   \n",
       "\n",
       "   avg_degree_centrality  avg_betweenness_centrality  \\\n",
       "0                    NaN                         NaN   \n",
       "\n",
       "   avg_closeness_centrality  average_shortest_path_length  \n",
       "0                       NaN                           NaN  "
      ]
     },
     "execution_count": 103,
     "metadata": {},
     "output_type": "execute_result"
    }
   ],
   "source": [
    "nm.get_network_features(crossed_network_TwoReg_Ox_1)"
   ]
  },
  {
   "cell_type": "code",
   "execution_count": 104,
   "id": "5a1adc98-6383-41cb-a1f3-e08a5129737e",
   "metadata": {},
   "outputs": [
    {
     "data": {
      "text/plain": [
       "array({}, dtype=object)"
      ]
     },
     "execution_count": 104,
     "metadata": {},
     "output_type": "execute_result"
    }
   ],
   "source": [
    "b16_1 = dict(nx.degree(crossed_network_TwoReg_Ox_1))\n",
    "b16_1 = np.array(dict(sorted(b16_1.items(), key=lambda item: item[1])))\n",
    "b16_1"
   ]
  },
  {
   "cell_type": "code",
   "execution_count": 105,
   "id": "65c08a44-8b9d-45e2-a436-89350a40e7db",
   "metadata": {},
   "outputs": [],
   "source": [
    "crossed_network_TwoReg_Ox_2 = nm.construct_network(tehran_df_TwoReg_Ox_2_same_length, method='crossed', threshold=thr16)"
   ]
  },
  {
   "cell_type": "code",
   "execution_count": 106,
   "id": "593b2696-adab-499b-80d5-9da3cefd111d",
   "metadata": {},
   "outputs": [
    {
     "name": "stderr",
     "output_type": "stream",
     "text": [
      "/Library/Frameworks/Python.framework/Versions/3.11/lib/python3.11/site-packages/numpy/core/fromnumeric.py:3432: RuntimeWarning: Mean of empty slice.\n",
      "  return _methods._mean(a, axis=axis, dtype=dtype,\n",
      "/Library/Frameworks/Python.framework/Versions/3.11/lib/python3.11/site-packages/numpy/core/_methods.py:190: RuntimeWarning: invalid value encountered in double_scalars\n",
      "  ret = ret.dtype.type(ret / rcount)\n"
     ]
    },
    {
     "data": {
      "text/html": [
       "<div>\n",
       "<style scoped>\n",
       "    .dataframe tbody tr th:only-of-type {\n",
       "        vertical-align: middle;\n",
       "    }\n",
       "\n",
       "    .dataframe tbody tr th {\n",
       "        vertical-align: top;\n",
       "    }\n",
       "\n",
       "    .dataframe thead th {\n",
       "        text-align: right;\n",
       "    }\n",
       "</style>\n",
       "<table border=\"1\" class=\"dataframe\">\n",
       "  <thead>\n",
       "    <tr style=\"text-align: right;\">\n",
       "      <th></th>\n",
       "      <th>radius</th>\n",
       "      <th>diameter</th>\n",
       "      <th>densities</th>\n",
       "      <th>number_of_edges</th>\n",
       "      <th>average_clustering</th>\n",
       "      <th>avg_degree_centrality</th>\n",
       "      <th>avg_betweenness_centrality</th>\n",
       "      <th>avg_closeness_centrality</th>\n",
       "      <th>average_shortest_path_length</th>\n",
       "    </tr>\n",
       "  </thead>\n",
       "  <tbody>\n",
       "    <tr>\n",
       "      <th>0</th>\n",
       "      <td>NaN</td>\n",
       "      <td>NaN</td>\n",
       "      <td>0</td>\n",
       "      <td>0</td>\n",
       "      <td>NaN</td>\n",
       "      <td>NaN</td>\n",
       "      <td>NaN</td>\n",
       "      <td>NaN</td>\n",
       "      <td>NaN</td>\n",
       "    </tr>\n",
       "  </tbody>\n",
       "</table>\n",
       "</div>"
      ],
      "text/plain": [
       "   radius  diameter  densities  number_of_edges  average_clustering  \\\n",
       "0     NaN       NaN          0                0                 NaN   \n",
       "\n",
       "   avg_degree_centrality  avg_betweenness_centrality  \\\n",
       "0                    NaN                         NaN   \n",
       "\n",
       "   avg_closeness_centrality  average_shortest_path_length  \n",
       "0                       NaN                           NaN  "
      ]
     },
     "execution_count": 106,
     "metadata": {},
     "output_type": "execute_result"
    }
   ],
   "source": [
    "nm.get_network_features(crossed_network_TwoReg_Ox_2)"
   ]
  },
  {
   "cell_type": "code",
   "execution_count": 107,
   "id": "aa12273e-31bc-4e75-9979-b8f21ec9fbaf",
   "metadata": {},
   "outputs": [
    {
     "data": {
      "text/plain": [
       "array({}, dtype=object)"
      ]
     },
     "execution_count": 107,
     "metadata": {},
     "output_type": "execute_result"
    }
   ],
   "source": [
    "b16_2 = dict(nx.degree(crossed_network_TwoReg_Ox_2))\n",
    "b16_2 = np.array(dict(sorted(b16_2.items(), key=lambda item: item[1])))\n",
    "b16_2"
   ]
  },
  {
   "cell_type": "markdown",
   "id": "ba27b96f-14fc-4905-85bf-35765319e603",
   "metadata": {},
   "source": [
    "# 16.1) Tehran 2 Regime ox 1399 Crossed (Based on Median Threshold)"
   ]
  },
  {
   "cell_type": "code",
   "execution_count": 108,
   "id": "fc265883-3a1f-40cf-9b56-8e205a4be1fc",
   "metadata": {},
   "outputs": [],
   "source": [
    "thr16_99_1 = nm.find_median_crossed_100_threshold(tehran_df_TwoReg_Ox_99_1_same_length)\n",
    "thr16_99_2 = nm.find_median_crossed_100_threshold(tehran_df_TwoReg_Ox_99_2_same_length)\n",
    "thr16_99 = min(thr16_99_1, thr16_99_2)"
   ]
  },
  {
   "cell_type": "code",
   "execution_count": 109,
   "id": "8d978a1d-074d-4f72-8e7d-928d801f1e7b",
   "metadata": {},
   "outputs": [
    {
     "data": {
      "text/plain": [
       "0.44"
      ]
     },
     "execution_count": 109,
     "metadata": {},
     "output_type": "execute_result"
    }
   ],
   "source": [
    "thr16_99 "
   ]
  },
  {
   "cell_type": "markdown",
   "id": "703f523c-d6d0-49d4-8b1c-71a99f055728",
   "metadata": {},
   "source": [
    "Please Be careful about the type of Crossed Network Construction Used in the code!"
   ]
  },
  {
   "cell_type": "code",
   "execution_count": 110,
   "id": "5eacfd94-42cc-4e1a-b253-3897f6e8edda",
   "metadata": {},
   "outputs": [],
   "source": [
    "nm = Net_moduls()\n",
    "crossed_network_TwoReg_Ox_99_1 = nm.construct_network(tehran_df_TwoReg_Ox_99_1_same_length, method='crossed_100', threshold=thr16_99)"
   ]
  },
  {
   "cell_type": "code",
   "execution_count": 111,
   "id": "10917223-8275-4519-b9c7-5a49b7c06cb7",
   "metadata": {},
   "outputs": [
    {
     "data": {
      "text/html": [
       "<div>\n",
       "<style scoped>\n",
       "    .dataframe tbody tr th:only-of-type {\n",
       "        vertical-align: middle;\n",
       "    }\n",
       "\n",
       "    .dataframe tbody tr th {\n",
       "        vertical-align: top;\n",
       "    }\n",
       "\n",
       "    .dataframe thead th {\n",
       "        text-align: right;\n",
       "    }\n",
       "</style>\n",
       "<table border=\"1\" class=\"dataframe\">\n",
       "  <thead>\n",
       "    <tr style=\"text-align: right;\">\n",
       "      <th></th>\n",
       "      <th>radius</th>\n",
       "      <th>diameter</th>\n",
       "      <th>densities</th>\n",
       "      <th>number_of_edges</th>\n",
       "      <th>average_clustering</th>\n",
       "      <th>avg_degree_centrality</th>\n",
       "      <th>avg_betweenness_centrality</th>\n",
       "      <th>avg_closeness_centrality</th>\n",
       "      <th>average_shortest_path_length</th>\n",
       "    </tr>\n",
       "  </thead>\n",
       "  <tbody>\n",
       "    <tr>\n",
       "      <th>0</th>\n",
       "      <td>2</td>\n",
       "      <td>2</td>\n",
       "      <td>0.396135</td>\n",
       "      <td>410</td>\n",
       "      <td>0.479887</td>\n",
       "      <td>0.396135</td>\n",
       "      <td>0.013724</td>\n",
       "      <td>0.632603</td>\n",
       "      <td>1.603865</td>\n",
       "    </tr>\n",
       "  </tbody>\n",
       "</table>\n",
       "</div>"
      ],
      "text/plain": [
       "   radius  diameter  densities  number_of_edges  average_clustering  \\\n",
       "0       2         2   0.396135              410            0.479887   \n",
       "\n",
       "   avg_degree_centrality  avg_betweenness_centrality  \\\n",
       "0               0.396135                    0.013724   \n",
       "\n",
       "   avg_closeness_centrality  average_shortest_path_length  \n",
       "0                  0.632603                      1.603865  "
      ]
     },
     "execution_count": 111,
     "metadata": {},
     "output_type": "execute_result"
    }
   ],
   "source": [
    "nm.get_network_features(crossed_network_TwoReg_Ox_99_1)"
   ]
  },
  {
   "cell_type": "code",
   "execution_count": 113,
   "id": "d5a3b207-649a-4f3e-a3c3-441fdc052e23",
   "metadata": {},
   "outputs": [
    {
     "data": {
      "text/plain": [
       "array({'Rayaneh': 9, 'MahsolateFelezi': 10, 'MahsolateFelezi.1': 10, 'SarmayeGozari': 10, 'SayerMali': 10, 'Bimeh': 10, 'Mali': 10, 'EntesharVaChap': 11, 'Amlakva': 11, 'Daroee': 12, 'KanehayeGeyreFelezi': 12, 'ChandReshteSanati': 12, 'Siman': 12, 'Lastic': 12, 'FelezateAsasi': 12, 'index': 13, 'CoalMining': 13, 'GazaeeBejozGhand': 13, 'MashinAlat': 13, 'KashiVaSeramik': 13, 'Shimiyaee': 13, 'Agriculture': 14, 'FaniVaMohandesi': 14, 'DastgahayeBargi': 14, 'Coin': 15, 'EstekrajeNaft': 15, 'paper': 15, 'Bank': 15, 'HamlVaNaghl': 15, 'GhandVaShekar': 18, 'khodrosazi': 18, 'SayerMadan': 19, 'Wood': 22, 'FaravardehayeNafti': 22, 'Euro': 25, 'VasayelErtebati': 26, 'GDP': 26, 'USD': 27, 'AbzaralatePezeshki': 27, 'CPI': 31, 'HOUSE': 31, 'Mansojat': 31, 'Brent Oil': 32, 'M2': 34, 'Gold': 35, 'M1': 38},\n",
       "      dtype=object)"
      ]
     },
     "execution_count": 113,
     "metadata": {},
     "output_type": "execute_result"
    }
   ],
   "source": [
    "b16_1_1 = dict(nx.degree(crossed_network_TwoReg_Ox_99_1))\n",
    "b16_1_1 = np.array(dict(sorted(b16_1_1.items(), key=lambda item: item[1])))\n",
    "b16_1_1"
   ]
  },
  {
   "cell_type": "code",
   "execution_count": 114,
   "id": "88922364-494a-4d85-ba7e-7b00479b832c",
   "metadata": {},
   "outputs": [],
   "source": [
    "nm = Net_moduls()\n",
    "crossed_network_TwoReg_Ox_99_2 = nm.construct_network(tehran_df_TwoReg_Ox_99_2_same_length, method='crossed_100', threshold=thr16_99)"
   ]
  },
  {
   "cell_type": "code",
   "execution_count": 115,
   "id": "171f6922-8be1-4dc3-af58-6d22a3eeb203",
   "metadata": {},
   "outputs": [
    {
     "data": {
      "text/html": [
       "<div>\n",
       "<style scoped>\n",
       "    .dataframe tbody tr th:only-of-type {\n",
       "        vertical-align: middle;\n",
       "    }\n",
       "\n",
       "    .dataframe tbody tr th {\n",
       "        vertical-align: top;\n",
       "    }\n",
       "\n",
       "    .dataframe thead th {\n",
       "        text-align: right;\n",
       "    }\n",
       "</style>\n",
       "<table border=\"1\" class=\"dataframe\">\n",
       "  <thead>\n",
       "    <tr style=\"text-align: right;\">\n",
       "      <th></th>\n",
       "      <th>radius</th>\n",
       "      <th>diameter</th>\n",
       "      <th>densities</th>\n",
       "      <th>number_of_edges</th>\n",
       "      <th>average_clustering</th>\n",
       "      <th>avg_degree_centrality</th>\n",
       "      <th>avg_betweenness_centrality</th>\n",
       "      <th>avg_closeness_centrality</th>\n",
       "      <th>average_shortest_path_length</th>\n",
       "    </tr>\n",
       "  </thead>\n",
       "  <tbody>\n",
       "    <tr>\n",
       "      <th>0</th>\n",
       "      <td>2</td>\n",
       "      <td>3</td>\n",
       "      <td>0.33913</td>\n",
       "      <td>351</td>\n",
       "      <td>0.458633</td>\n",
       "      <td>0.33913</td>\n",
       "      <td>0.015042</td>\n",
       "      <td>0.609002</td>\n",
       "      <td>1.661836</td>\n",
       "    </tr>\n",
       "  </tbody>\n",
       "</table>\n",
       "</div>"
      ],
      "text/plain": [
       "   radius  diameter  densities  number_of_edges  average_clustering  \\\n",
       "0       2         3    0.33913              351            0.458633   \n",
       "\n",
       "   avg_degree_centrality  avg_betweenness_centrality  \\\n",
       "0                0.33913                    0.015042   \n",
       "\n",
       "   avg_closeness_centrality  average_shortest_path_length  \n",
       "0                  0.609002                      1.661836  "
      ]
     },
     "execution_count": 115,
     "metadata": {},
     "output_type": "execute_result"
    }
   ],
   "source": [
    "nm.get_network_features(crossed_network_TwoReg_Ox_99_2)"
   ]
  },
  {
   "cell_type": "code",
   "execution_count": 116,
   "id": "8c33ea56-e2d5-4dcb-b51c-4b6b5bde8959",
   "metadata": {},
   "outputs": [
    {
     "data": {
      "text/plain": [
       "array({'GazaeeBejozGhand': 6, 'MahsolateFelezi': 6, 'MahsolateFelezi.1': 6, 'index': 7, 'Amlakva': 7, 'SayerMadan': 8, 'FaniVaMohandesi': 8, 'MashinAlat': 8, 'Lastic': 9, 'SarmayeGozari': 9, 'HamlVaNaghl': 9, 'Siman': 10, 'Rayaneh': 10, 'Bimeh': 10, 'Shimiyaee': 11, 'Agriculture': 11, 'khodrosazi': 11, 'Daroee': 11, 'GhandVaShekar': 12, 'ChandReshteSanati': 12, 'SayerMali': 12, 'Bank': 13, 'CoalMining': 14, 'KanehayeGeyreFelezi': 14, 'USD': 14, 'Gold': 15, 'FaravardehayeNafti': 15, 'Euro': 15, 'Brent Oil': 16, 'FelezateAsasi': 16, 'Mansojat': 17, 'DastgahayeBargi': 17, 'Wood': 18, 'KashiVaSeramik': 18, 'EstekrajeNaft': 20, 'EntesharVaChap': 21, 'paper': 21, 'Coin': 21, 'VasayelErtebati': 22, 'Mali': 22, 'M1': 24, 'AbzaralatePezeshki': 25, 'HOUSE': 26, 'M2': 31, 'GDP': 34, 'CPI': 40},\n",
       "      dtype=object)"
      ]
     },
     "execution_count": 116,
     "metadata": {},
     "output_type": "execute_result"
    }
   ],
   "source": [
    "b16_1_2 = dict(nx.degree(crossed_network_TwoReg_Ox_99_2))\n",
    "b16_1_2 = np.array(dict(sorted(b16_1_2.items(), key=lambda item: item[1])))\n",
    "b16_1_2"
   ]
  },
  {
   "cell_type": "markdown",
   "id": "cb4ead4d-835d-4d58-a6e1-0599d755e4fa",
   "metadata": {},
   "source": [
    "# 17) Tehran 2 Regime crossed (Based on Median Threshold) Period of 90 Far - 98 Dey/ Last 100 Records"
   ]
  },
  {
   "cell_type": "code",
   "execution_count": 117,
   "id": "72783d70-1936-4134-9a96-a60642e63bd2",
   "metadata": {},
   "outputs": [],
   "source": [
    "thr17_1 = nm.find_median_crossed_100_threshold(tehran_df_TwoReg_Ox_1_same_length_98[-100:])\n",
    "thr17_2 = nm.find_median_crossed_100_threshold(tehran_df_TwoReg_Ox_2_same_length_98[-100:])\n",
    "thr17 = min(thr17_1, thr17_2)"
   ]
  },
  {
   "cell_type": "code",
   "execution_count": 120,
   "id": "2b425fe4-b1e1-4e0d-a485-b45bd27fc749",
   "metadata": {},
   "outputs": [],
   "source": [
    "crossed_network_TwoReg_Ox_1_98_last100 = nm.construct_network(tehran_df_TwoReg_Ox_1_same_length_98[-100:], method='crossed_100', threshold=thr17)"
   ]
  },
  {
   "cell_type": "code",
   "execution_count": 121,
   "id": "f69027ec-fbe2-4ea4-ad77-99f0bfcde4d3",
   "metadata": {},
   "outputs": [
    {
     "data": {
      "text/html": [
       "<div>\n",
       "<style scoped>\n",
       "    .dataframe tbody tr th:only-of-type {\n",
       "        vertical-align: middle;\n",
       "    }\n",
       "\n",
       "    .dataframe tbody tr th {\n",
       "        vertical-align: top;\n",
       "    }\n",
       "\n",
       "    .dataframe thead th {\n",
       "        text-align: right;\n",
       "    }\n",
       "</style>\n",
       "<table border=\"1\" class=\"dataframe\">\n",
       "  <thead>\n",
       "    <tr style=\"text-align: right;\">\n",
       "      <th></th>\n",
       "      <th>radius</th>\n",
       "      <th>diameter</th>\n",
       "      <th>densities</th>\n",
       "      <th>number_of_edges</th>\n",
       "      <th>average_clustering</th>\n",
       "      <th>avg_degree_centrality</th>\n",
       "      <th>avg_betweenness_centrality</th>\n",
       "      <th>avg_closeness_centrality</th>\n",
       "      <th>average_shortest_path_length</th>\n",
       "    </tr>\n",
       "  </thead>\n",
       "  <tbody>\n",
       "    <tr>\n",
       "      <th>0</th>\n",
       "      <td>2</td>\n",
       "      <td>2</td>\n",
       "      <td>0.289855</td>\n",
       "      <td>300</td>\n",
       "      <td>0.478793</td>\n",
       "      <td>0.289855</td>\n",
       "      <td>0.01614</td>\n",
       "      <td>0.594283</td>\n",
       "      <td>1.710145</td>\n",
       "    </tr>\n",
       "  </tbody>\n",
       "</table>\n",
       "</div>"
      ],
      "text/plain": [
       "   radius  diameter  densities  number_of_edges  average_clustering  \\\n",
       "0       2         2   0.289855              300            0.478793   \n",
       "\n",
       "   avg_degree_centrality  avg_betweenness_centrality  \\\n",
       "0               0.289855                     0.01614   \n",
       "\n",
       "   avg_closeness_centrality  average_shortest_path_length  \n",
       "0                  0.594283                      1.710145  "
      ]
     },
     "execution_count": 121,
     "metadata": {},
     "output_type": "execute_result"
    }
   ],
   "source": [
    "nm.get_network_features(crossed_network_TwoReg_Ox_1_98_last100)"
   ]
  },
  {
   "cell_type": "code",
   "execution_count": 122,
   "id": "e96749fd-3028-4c3d-8aef-0a7c4424d628",
   "metadata": {},
   "outputs": [
    {
     "data": {
      "text/plain": [
       "array({'FaniVaMohandesi': 4, 'index': 5, 'Lastic': 5, 'MashinAlat': 5, 'SayerMali': 5, 'Daroee': 6, 'GazaeeBejozGhand': 6, 'Mali': 6, 'GhandVaShekar': 6, 'Bimeh': 6, 'CoalMining': 7, 'SarmayeGozari': 7, 'HamlVaNaghl': 7, 'FelezateAsasi': 7, 'KashiVaSeramik': 7, 'Shimiyaee': 8, 'MahsolateFelezi': 8, 'MahsolateFelezi.1': 8, 'EntesharVaChap': 9, 'Amlakva': 9, 'Rayaneh': 9, 'Agriculture': 9, 'Siman': 9, 'KanehayeGeyreFelezi': 9, 'Wood': 10, 'khodrosazi': 10, 'Bank': 10, 'ChandReshteSanati': 11, 'SayerMadan': 11, 'HOUSE': 12, 'EstekrajeNaft': 13, 'CPI': 14, 'paper': 14, 'VasayelErtebati': 15, 'Brent Oil': 17, 'Mansojat': 18, 'Gold': 19, 'Coin': 23, 'FaravardehayeNafti': 23, 'DastgahayeBargi': 23, 'Euro': 25, 'AbzaralatePezeshki': 26, 'USD': 29, 'M1': 36, 'GDP': 37, 'M2': 37},\n",
       "      dtype=object)"
      ]
     },
     "execution_count": 122,
     "metadata": {},
     "output_type": "execute_result"
    }
   ],
   "source": [
    "b17_1 = dict(nx.degree(crossed_network_TwoReg_Ox_1_98_last100))\n",
    "b17_1 = np.array(dict(sorted(b17_1.items(), key=lambda item: item[1])))\n",
    "b17_1"
   ]
  },
  {
   "cell_type": "code",
   "execution_count": 123,
   "id": "a63d4d66-1323-461d-8793-64f0745dabf0",
   "metadata": {},
   "outputs": [],
   "source": [
    "crossed_network_TwoReg_Ox_2_98_last100 = nm.construct_network(tehran_df_TwoReg_Ox_2_same_length_98[-100:], method='crossed_100', threshold=thr17)"
   ]
  },
  {
   "cell_type": "code",
   "execution_count": 124,
   "id": "19ed221e-b1ea-4ae2-9e6c-3b2607e7255e",
   "metadata": {},
   "outputs": [
    {
     "data": {
      "text/html": [
       "<div>\n",
       "<style scoped>\n",
       "    .dataframe tbody tr th:only-of-type {\n",
       "        vertical-align: middle;\n",
       "    }\n",
       "\n",
       "    .dataframe tbody tr th {\n",
       "        vertical-align: top;\n",
       "    }\n",
       "\n",
       "    .dataframe thead th {\n",
       "        text-align: right;\n",
       "    }\n",
       "</style>\n",
       "<table border=\"1\" class=\"dataframe\">\n",
       "  <thead>\n",
       "    <tr style=\"text-align: right;\">\n",
       "      <th></th>\n",
       "      <th>radius</th>\n",
       "      <th>diameter</th>\n",
       "      <th>densities</th>\n",
       "      <th>number_of_edges</th>\n",
       "      <th>average_clustering</th>\n",
       "      <th>avg_degree_centrality</th>\n",
       "      <th>avg_betweenness_centrality</th>\n",
       "      <th>avg_closeness_centrality</th>\n",
       "      <th>average_shortest_path_length</th>\n",
       "    </tr>\n",
       "  </thead>\n",
       "  <tbody>\n",
       "    <tr>\n",
       "      <th>0</th>\n",
       "      <td>2</td>\n",
       "      <td>3</td>\n",
       "      <td>0.373913</td>\n",
       "      <td>387</td>\n",
       "      <td>0.428446</td>\n",
       "      <td>0.373913</td>\n",
       "      <td>0.014273</td>\n",
       "      <td>0.619156</td>\n",
       "      <td>1.628019</td>\n",
       "    </tr>\n",
       "  </tbody>\n",
       "</table>\n",
       "</div>"
      ],
      "text/plain": [
       "   radius  diameter  densities  number_of_edges  average_clustering  \\\n",
       "0       2         3   0.373913              387            0.428446   \n",
       "\n",
       "   avg_degree_centrality  avg_betweenness_centrality  \\\n",
       "0               0.373913                    0.014273   \n",
       "\n",
       "   avg_closeness_centrality  average_shortest_path_length  \n",
       "0                  0.619156                      1.628019  "
      ]
     },
     "execution_count": 124,
     "metadata": {},
     "output_type": "execute_result"
    }
   ],
   "source": [
    "nm.get_network_features(crossed_network_TwoReg_Ox_2_98_last100)"
   ]
  },
  {
   "cell_type": "code",
   "execution_count": 125,
   "id": "c0f820e1-e5bb-401e-bbde-dd08d6175c3e",
   "metadata": {},
   "outputs": [
    {
     "data": {
      "text/plain": [
       "array({'index': 6, 'Daroee': 6, 'HamlVaNaghl': 8, 'Lastic': 9, 'GazaeeBejozGhand': 10, 'Amlakva': 10, 'MashinAlat': 11, 'FaniVaMohandesi': 11, 'MahsolateFelezi': 11, 'MahsolateFelezi.1': 11, 'Siman': 11, 'KanehayeGeyreFelezi': 12, 'EntesharVaChap': 14, 'KashiVaSeramik': 14, 'M2': 14, 'Bimeh': 14, 'ChandReshteSanati': 14, 'Shimiyaee': 15, 'SayerMali': 15, 'AbzaralatePezeshki': 15, 'Mali': 15, 'EstekrajeNaft': 16, 'DastgahayeBargi': 16, 'khodrosazi': 16, 'Mansojat': 17, 'M1': 17, 'SayerMadan': 17, 'GhandVaShekar': 17, 'SarmayeGozari': 17, 'CoalMining': 17, 'Rayaneh': 17, 'FelezateAsasi': 18, 'HOUSE': 19, 'Agriculture': 19, 'FaravardehayeNafti': 20, 'Bank': 21, 'CPI': 22, 'paper': 23, 'VasayelErtebati': 23, 'Wood': 24, 'Gold': 25, 'GDP': 27, 'Brent Oil': 28, 'Coin': 30, 'Euro': 30, 'USD': 32},\n",
       "      dtype=object)"
      ]
     },
     "execution_count": 125,
     "metadata": {},
     "output_type": "execute_result"
    }
   ],
   "source": [
    "b17_2 = dict(nx.degree(crossed_network_TwoReg_Ox_2_98_last100))\n",
    "b17_2 = np.array(dict(sorted(b17_2.items(), key=lambda item: item[1])))\n",
    "b17_2"
   ]
  },
  {
   "cell_type": "markdown",
   "id": "1d716da7-a2e6-4ad5-b0e7-415dcf9168a1",
   "metadata": {},
   "source": [
    "# 18) Tehran 2 Regime crossed (Based on Median Threshold) Period of 90 Far - 98 Dey/ 50 windows of 100 Records"
   ]
  },
  {
   "cell_type": "code",
   "execution_count": 126,
   "id": "155b1f84-6a3f-4c4e-a267-6b1a9787f3c5",
   "metadata": {},
   "outputs": [
    {
     "name": "stdout",
     "output_type": "stream",
     "text": [
      "Number of columns data in our DataFrame is = 46\n",
      "fixed_thr= 0.52\n"
     ]
    }
   ],
   "source": [
    "nm = Net_moduls()\n",
    "crossed_network_TwoReg_Ox_90_98_averged = nm.get_network_features_averaged_median(tehran_df, \\\n",
    "                                                                                  regimes_column= tehran_df_reg['Ox_2'],\\\n",
    "                                                                                  method='crossed_100',edges_threshold=200, \\\n",
    "                                                                                  target_window=100, \\\n",
    "                                                                                  target_length=50)"
   ]
  },
  {
   "cell_type": "code",
   "execution_count": 127,
   "id": "eed9f31a-96e1-4fd8-8597-4d28695382a4",
   "metadata": {},
   "outputs": [
    {
     "data": {
      "text/html": [
       "<div>\n",
       "<style scoped>\n",
       "    .dataframe tbody tr th:only-of-type {\n",
       "        vertical-align: middle;\n",
       "    }\n",
       "\n",
       "    .dataframe tbody tr th {\n",
       "        vertical-align: top;\n",
       "    }\n",
       "\n",
       "    .dataframe thead th {\n",
       "        text-align: right;\n",
       "    }\n",
       "</style>\n",
       "<table border=\"1\" class=\"dataframe\">\n",
       "  <thead>\n",
       "    <tr style=\"text-align: right;\">\n",
       "      <th></th>\n",
       "      <th>radius</th>\n",
       "      <th>diameter</th>\n",
       "      <th>densities</th>\n",
       "      <th>number_of_edges</th>\n",
       "      <th>average_clustering</th>\n",
       "      <th>avg_degree_centrality</th>\n",
       "      <th>avg_betweenness_centrality</th>\n",
       "      <th>avg_closeness_centrality</th>\n",
       "      <th>average_shortest_path_length</th>\n",
       "    </tr>\n",
       "  </thead>\n",
       "  <tbody>\n",
       "    <tr>\n",
       "      <th>Means</th>\n",
       "      <td>2.0</td>\n",
       "      <td>2.680000</td>\n",
       "      <td>0.309159</td>\n",
       "      <td>319.980000</td>\n",
       "      <td>0.471515</td>\n",
       "      <td>0.309159</td>\n",
       "      <td>0.015861</td>\n",
       "      <td>0.598473</td>\n",
       "      <td>1.697874</td>\n",
       "    </tr>\n",
       "    <tr>\n",
       "      <th>STDs</th>\n",
       "      <td>0.0</td>\n",
       "      <td>0.471212</td>\n",
       "      <td>0.035287</td>\n",
       "      <td>36.522003</td>\n",
       "      <td>0.037849</td>\n",
       "      <td>0.035287</td>\n",
       "      <td>0.000992</td>\n",
       "      <td>0.015393</td>\n",
       "      <td>0.043654</td>\n",
       "    </tr>\n",
       "    <tr>\n",
       "      <th>Means</th>\n",
       "      <td>2.0</td>\n",
       "      <td>2.060000</td>\n",
       "      <td>0.485662</td>\n",
       "      <td>502.660000</td>\n",
       "      <td>0.501777</td>\n",
       "      <td>0.485662</td>\n",
       "      <td>0.011691</td>\n",
       "      <td>0.664598</td>\n",
       "      <td>1.514396</td>\n",
       "    </tr>\n",
       "    <tr>\n",
       "      <th>STDs</th>\n",
       "      <td>0.0</td>\n",
       "      <td>0.239898</td>\n",
       "      <td>0.028591</td>\n",
       "      <td>29.591511</td>\n",
       "      <td>0.023935</td>\n",
       "      <td>0.028591</td>\n",
       "      <td>0.000653</td>\n",
       "      <td>0.012079</td>\n",
       "      <td>0.028746</td>\n",
       "    </tr>\n",
       "  </tbody>\n",
       "</table>\n",
       "</div>"
      ],
      "text/plain": [
       "       radius  diameter  densities  number_of_edges  average_clustering  \\\n",
       "Means     2.0  2.680000   0.309159       319.980000            0.471515   \n",
       "STDs      0.0  0.471212   0.035287        36.522003            0.037849   \n",
       "Means     2.0  2.060000   0.485662       502.660000            0.501777   \n",
       "STDs      0.0  0.239898   0.028591        29.591511            0.023935   \n",
       "\n",
       "       avg_degree_centrality  avg_betweenness_centrality  \\\n",
       "Means               0.309159                    0.015861   \n",
       "STDs                0.035287                    0.000992   \n",
       "Means               0.485662                    0.011691   \n",
       "STDs                0.028591                    0.000653   \n",
       "\n",
       "       avg_closeness_centrality  average_shortest_path_length  \n",
       "Means                  0.598473                      1.697874  \n",
       "STDs                   0.015393                      0.043654  \n",
       "Means                  0.664598                      1.514396  \n",
       "STDs                   0.012079                      0.028746  "
      ]
     },
     "execution_count": 127,
     "metadata": {},
     "output_type": "execute_result"
    }
   ],
   "source": [
    "crossed_network_TwoReg_Ox_90_98_averged"
   ]
  },
  {
   "cell_type": "markdown",
   "id": "1db1ac32-29e5-4f61-9e3d-f30f5050bc9c",
   "metadata": {},
   "source": [
    "# 19) Tehran 2 Regime crossed (Based on Median Threshold) Period of 90 Far - 00 Far/ 50 windows of 100 Records"
   ]
  },
  {
   "cell_type": "code",
   "execution_count": 128,
   "id": "d962c8f4-3475-42c9-8616-78df2bf11bc4",
   "metadata": {
    "tags": []
   },
   "outputs": [
    {
     "name": "stdout",
     "output_type": "stream",
     "text": [
      "Number of columns data in our DataFrame is = 46\n",
      "fixed_thr= 0.52\n"
     ]
    }
   ],
   "source": [
    "nm = Net_moduls()\n",
    "crossed_network_TwoReg_Ox_90_00_averged = nm.get_network_features_averaged_median(tehran_df_completeDates, \\\n",
    "                                                                                  regimes_column= tehran_df_reg['Ox_2'],\\\n",
    "                                                                                  method='crossed_100',edges_threshold=200, \\\n",
    "                                                                                  target_window=100, target_length=50)"
   ]
  },
  {
   "cell_type": "code",
   "execution_count": 129,
   "id": "9e81a26b-d922-418d-b9d2-8b3c2247339d",
   "metadata": {},
   "outputs": [
    {
     "data": {
      "text/html": [
       "<div>\n",
       "<style scoped>\n",
       "    .dataframe tbody tr th:only-of-type {\n",
       "        vertical-align: middle;\n",
       "    }\n",
       "\n",
       "    .dataframe tbody tr th {\n",
       "        vertical-align: top;\n",
       "    }\n",
       "\n",
       "    .dataframe thead th {\n",
       "        text-align: right;\n",
       "    }\n",
       "</style>\n",
       "<table border=\"1\" class=\"dataframe\">\n",
       "  <thead>\n",
       "    <tr style=\"text-align: right;\">\n",
       "      <th></th>\n",
       "      <th>radius</th>\n",
       "      <th>diameter</th>\n",
       "      <th>densities</th>\n",
       "      <th>number_of_edges</th>\n",
       "      <th>average_clustering</th>\n",
       "      <th>avg_degree_centrality</th>\n",
       "      <th>avg_betweenness_centrality</th>\n",
       "      <th>avg_closeness_centrality</th>\n",
       "      <th>average_shortest_path_length</th>\n",
       "    </tr>\n",
       "  </thead>\n",
       "  <tbody>\n",
       "    <tr>\n",
       "      <th>Means</th>\n",
       "      <td>2.0</td>\n",
       "      <td>2.620000</td>\n",
       "      <td>0.310860</td>\n",
       "      <td>321.740000</td>\n",
       "      <td>0.422901</td>\n",
       "      <td>0.310860</td>\n",
       "      <td>0.015767</td>\n",
       "      <td>0.599073</td>\n",
       "      <td>1.693758</td>\n",
       "    </tr>\n",
       "    <tr>\n",
       "      <th>STDs</th>\n",
       "      <td>0.0</td>\n",
       "      <td>0.490314</td>\n",
       "      <td>0.023116</td>\n",
       "      <td>23.924891</td>\n",
       "      <td>0.039456</td>\n",
       "      <td>0.023116</td>\n",
       "      <td>0.000625</td>\n",
       "      <td>0.010043</td>\n",
       "      <td>0.027521</td>\n",
       "    </tr>\n",
       "    <tr>\n",
       "      <th>Means</th>\n",
       "      <td>2.0</td>\n",
       "      <td>2.060000</td>\n",
       "      <td>0.485662</td>\n",
       "      <td>502.660000</td>\n",
       "      <td>0.501777</td>\n",
       "      <td>0.485662</td>\n",
       "      <td>0.011691</td>\n",
       "      <td>0.664598</td>\n",
       "      <td>1.514396</td>\n",
       "    </tr>\n",
       "    <tr>\n",
       "      <th>STDs</th>\n",
       "      <td>0.0</td>\n",
       "      <td>0.239898</td>\n",
       "      <td>0.028591</td>\n",
       "      <td>29.591511</td>\n",
       "      <td>0.023935</td>\n",
       "      <td>0.028591</td>\n",
       "      <td>0.000653</td>\n",
       "      <td>0.012079</td>\n",
       "      <td>0.028746</td>\n",
       "    </tr>\n",
       "  </tbody>\n",
       "</table>\n",
       "</div>"
      ],
      "text/plain": [
       "       radius  diameter  densities  number_of_edges  average_clustering  \\\n",
       "Means     2.0  2.620000   0.310860       321.740000            0.422901   \n",
       "STDs      0.0  0.490314   0.023116        23.924891            0.039456   \n",
       "Means     2.0  2.060000   0.485662       502.660000            0.501777   \n",
       "STDs      0.0  0.239898   0.028591        29.591511            0.023935   \n",
       "\n",
       "       avg_degree_centrality  avg_betweenness_centrality  \\\n",
       "Means               0.310860                    0.015767   \n",
       "STDs                0.023116                    0.000625   \n",
       "Means               0.485662                    0.011691   \n",
       "STDs                0.028591                    0.000653   \n",
       "\n",
       "       avg_closeness_centrality  average_shortest_path_length  \n",
       "Means                  0.599073                      1.693758  \n",
       "STDs                   0.010043                      0.027521  \n",
       "Means                  0.664598                      1.514396  \n",
       "STDs                   0.012079                      0.028746  "
      ]
     },
     "execution_count": 129,
     "metadata": {},
     "output_type": "execute_result"
    }
   ],
   "source": [
    "crossed_network_TwoReg_Ox_90_00_averged"
   ]
  },
  {
   "cell_type": "code",
   "execution_count": null,
   "id": "0ba71256-9a98-4913-b87e-a1e29e5dc207",
   "metadata": {},
   "outputs": [],
   "source": []
  }
 ],
 "metadata": {
  "kernelspec": {
   "display_name": "Python 3 (ipykernel)",
   "language": "python",
   "name": "python3"
  },
  "language_info": {
   "codemirror_mode": {
    "name": "ipython",
    "version": 3
   },
   "file_extension": ".py",
   "mimetype": "text/x-python",
   "name": "python",
   "nbconvert_exporter": "python",
   "pygments_lexer": "ipython3",
   "version": "3.11.0"
  }
 },
 "nbformat": 4,
 "nbformat_minor": 5
}
