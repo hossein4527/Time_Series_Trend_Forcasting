{
 "cells": [
  {
   "cell_type": "code",
   "execution_count": 1,
   "id": "9df9b137-c106-48b0-bec0-f8310cf49fe6",
   "metadata": {},
   "outputs": [],
   "source": [
    "from ned import Net_moduls\n",
    "import networkx as nx\n",
    "import numpy as np"
   ]
  },
  {
   "cell_type": "code",
   "execution_count": 2,
   "id": "dcc17b6b-11f5-4b32-bd9f-32f409077154",
   "metadata": {},
   "outputs": [],
   "source": [
    "from nxviz.plots import CircosPlot"
   ]
  },
  {
   "cell_type": "code",
   "execution_count": 3,
   "id": "ed51ca32-ac02-4621-9b8a-5caa6cb697cd",
   "metadata": {},
   "outputs": [],
   "source": [
    "import pandas as pd\n",
    "import matplotlib.pyplot as plt"
   ]
  },
  {
   "cell_type": "markdown",
   "id": "c102abae-74b4-4a85-946d-b9faecf3cc47",
   "metadata": {},
   "source": [
    "# Data"
   ]
  },
  {
   "cell_type": "markdown",
   "id": "ca7ffdbb-ed51-4350-b647-1044f302e428",
   "metadata": {},
   "source": [
    "## Tehran Index DF and Tehran DF Normed Return 90 Far - 00 Far"
   ]
  },
  {
   "cell_type": "code",
   "execution_count": 4,
   "id": "c8b144ad-a231-44a7-8864-d8743eeb278b",
   "metadata": {},
   "outputs": [],
   "source": [
    "tehran_index = pd.read_excel('../Data/Tehran_Indexes_Price_NoRegime.xlsx').set_index('date')"
   ]
  },
  {
   "cell_type": "code",
   "execution_count": 5,
   "id": "9f426c61-1e01-43d5-99e3-6d5457b71a6e",
   "metadata": {},
   "outputs": [],
   "source": [
    "tehran_df_reg = pd.read_excel('../Data/Tehran_Indexes_NormedReturned_Regimed.xlsx').set_index('date')"
   ]
  },
  {
   "cell_type": "code",
   "execution_count": 6,
   "id": "42f1bbb2-0810-4f5a-b7b1-4634f92e0da0",
   "metadata": {},
   "outputs": [],
   "source": [
    "tehran_df_reg_98 = tehran_df_reg.iloc[:-300]"
   ]
  },
  {
   "cell_type": "code",
   "execution_count": 7,
   "id": "bad0a593-807b-4c5b-b9c9-ade80cfbffc5",
   "metadata": {},
   "outputs": [],
   "source": [
    "tehran_index_99 = pd.read_excel('../Data/Tehran_Indexes_NormedReturned_Regimed_newox.xlsx').set_index('date')"
   ]
  },
  {
   "cell_type": "markdown",
   "id": "4c78b44b-f17c-4773-9a8a-7540bd95385c",
   "metadata": {},
   "source": [
    "## Tehran DF Normed Return 90 Far - 98 Dey"
   ]
  },
  {
   "cell_type": "code",
   "execution_count": 8,
   "id": "3b865b37-ed9f-4d8f-990d-09f673b7f91e",
   "metadata": {},
   "outputs": [],
   "source": [
    "tehran_df = pd.read_excel('../Data/Tehran_Indexes_NormedReturned_Regimed.xlsx').set_index('date')\n",
    "tehran_df = tehran_df[tehran_df.columns[:-12]].iloc[:-300]"
   ]
  },
  {
   "cell_type": "markdown",
   "id": "da4f9608-498a-4956-8752-7013a814f5a0",
   "metadata": {},
   "source": [
    "## Tehran DF Normed Return 90 Far - 00 Far"
   ]
  },
  {
   "cell_type": "code",
   "execution_count": 9,
   "id": "9a3632e3-6d14-4477-b9da-f8e9a9e924b6",
   "metadata": {},
   "outputs": [],
   "source": [
    "tehran_df_completeDates = pd.read_excel('../Data/Tehran_Indexes_NormedReturned_Regimed.xlsx').set_index('date')\n",
    "tehran_df_completeDates = tehran_df_completeDates[tehran_df_completeDates.columns[:-12]]"
   ]
  },
  {
   "cell_type": "markdown",
   "id": "a4125284-a73a-410c-b20f-0dfc8117b2ca",
   "metadata": {},
   "source": [
    "## Tehran Ox 2 Regimed DF Normed Return 90 Far - 00 Far "
   ]
  },
  {
   "cell_type": "code",
   "execution_count": 10,
   "id": "a93b83b1-4d28-4289-8aa1-5e071f811f5e",
   "metadata": {},
   "outputs": [],
   "source": [
    "tehran_df_TwoReg_Ox_1 = tehran_df_reg[tehran_df_reg['Ox_2']==0]\n",
    "tehran_df_TwoReg_Ox_2 = tehran_df_reg[tehran_df_reg['Ox_2']==1]\n",
    "tehran_df_TwoReg_Ox_1 = tehran_df_TwoReg_Ox_1[tehran_df_TwoReg_Ox_1.columns[:-12]]\n",
    "tehran_df_TwoReg_Ox_2 = tehran_df_TwoReg_Ox_2[tehran_df_TwoReg_Ox_2.columns[:-12]]"
   ]
  },
  {
   "cell_type": "markdown",
   "id": "41e8199a-1ba2-4725-a670-7fec70aaa67b",
   "metadata": {},
   "source": [
    "## Tehran Ox 2 Regimed DF Normed Return 90 Far - 98 Dey "
   ]
  },
  {
   "cell_type": "code",
   "execution_count": 11,
   "id": "4e389eaf-b70b-4589-8fa6-bd3d04eba1bd",
   "metadata": {},
   "outputs": [],
   "source": [
    "tehran_df_TwoReg_Ox_1_98 = tehran_df[tehran_df_reg.iloc[:-300]['Ox_2']==0]\n",
    "tehran_df_TwoReg_Ox_2_98 = tehran_df[tehran_df_reg.iloc[:-300]['Ox_2']==1]"
   ]
  },
  {
   "cell_type": "markdown",
   "id": "46905361-c6f4-419a-b2dd-048ec99f9e13",
   "metadata": {},
   "source": [
    "## Tehran Ox 2 Regimed DF Normed Return 90 Far - 00 Far / Same Length"
   ]
  },
  {
   "cell_type": "code",
   "execution_count": 12,
   "id": "b0fa1dd0-9268-40cf-9d30-2d260d2c1c93",
   "metadata": {},
   "outputs": [],
   "source": [
    "max_length_TwoReg_Ox_2 = min(len(tehran_df_TwoReg_Ox_1), len(tehran_df_TwoReg_Ox_2))\n",
    "tehran_df_TwoReg_Ox_1_same_length = tehran_df_TwoReg_Ox_1[-max_length_TwoReg_Ox_2:]\n",
    "tehran_df_TwoReg_Ox_2_same_length = tehran_df_TwoReg_Ox_2[-max_length_TwoReg_Ox_2:]"
   ]
  },
  {
   "cell_type": "markdown",
   "id": "6d4aac30-c4b3-411d-9260-2e9edec1c236",
   "metadata": {},
   "source": [
    "## Tehran Ox 2 Regimed DF Normed Return 90 Far - 98 Dey / Same Length"
   ]
  },
  {
   "cell_type": "code",
   "execution_count": 13,
   "id": "ff44046a-fb23-4b05-9845-fe7d3693e24a",
   "metadata": {},
   "outputs": [],
   "source": [
    "max_length_TwoReg_Ox_2_98 = min(len(tehran_df_TwoReg_Ox_1_98), len(tehran_df_TwoReg_Ox_2_98))\n",
    "tehran_df_TwoReg_Ox_1_same_length_98 = tehran_df_TwoReg_Ox_1_98[-max_length_TwoReg_Ox_2_98:]\n",
    "tehran_df_TwoReg_Ox_2_same_length_98 = tehran_df_TwoReg_Ox_2_98[-max_length_TwoReg_Ox_2_98:]"
   ]
  },
  {
   "cell_type": "markdown",
   "id": "658b3bac-91f1-4cb0-a7bd-e70f2777d851",
   "metadata": {},
   "source": [
    "## Tehran Ox 2 1399 Regimed DF Normed Return 99 - 1400  "
   ]
  },
  {
   "cell_type": "code",
   "execution_count": 14,
   "id": "2ef8189e-3292-47e4-800f-cbb5950c6de1",
   "metadata": {},
   "outputs": [],
   "source": [
    "tehran_df_TwoReg_Ox_99_1 = tehran_df_reg[tehran_index_99['ox-2-1year']==0]\n",
    "tehran_df_TwoReg_Ox_99_2 = tehran_df_reg[tehran_index_99['ox-2-1year']==1]\n",
    "tehran_df_TwoReg_Ox_99_1 = tehran_df_TwoReg_Ox_99_1[tehran_df_TwoReg_Ox_99_1.columns[:-12]]\n",
    "tehran_df_TwoReg_Ox_99_2 = tehran_df_TwoReg_Ox_99_2[tehran_df_TwoReg_Ox_99_2.columns[:-12]]"
   ]
  },
  {
   "cell_type": "code",
   "execution_count": 15,
   "id": "f0e80c2d-16c2-4119-bd5b-b315e1ad46e3",
   "metadata": {},
   "outputs": [],
   "source": [
    "max_length_TwoReg_Ox_99_2 = min(len(tehran_df_TwoReg_Ox_99_1), len(tehran_df_TwoReg_Ox_99_2))\n",
    "tehran_df_TwoReg_Ox_99_1_same_length = tehran_df_TwoReg_Ox_99_1[-max_length_TwoReg_Ox_99_2:]\n",
    "tehran_df_TwoReg_Ox_99_2_same_length = tehran_df_TwoReg_Ox_99_2[-max_length_TwoReg_Ox_99_2:]"
   ]
  },
  {
   "cell_type": "markdown",
   "id": "bbb0403b-0b0b-4e95-98a8-af32b6d85453",
   "metadata": {},
   "source": [
    "## Tehran Ox 3 Regimed DF Normed Return 90 Far - 98 Dey "
   ]
  },
  {
   "cell_type": "code",
   "execution_count": 16,
   "id": "0e7f3322-0d00-4876-846a-f3e749653ccf",
   "metadata": {},
   "outputs": [],
   "source": [
    "tehran_df_ThreeReg_Ox_1_98 = tehran_df[tehran_df_reg.iloc[:-300]['Ox_3']==0]\n",
    "tehran_df_ThreeReg_Ox_2_98 = tehran_df[tehran_df_reg.iloc[:-300]['Ox_3']==1]\n",
    "tehran_df_ThreeReg_Ox_3_98 = tehran_df[tehran_df_reg.iloc[:-300]['Ox_3']==2]"
   ]
  },
  {
   "cell_type": "markdown",
   "id": "e4b8d394-34b1-41a5-8e6a-d8d3b8b814f2",
   "metadata": {},
   "source": [
    "## Tehran Ox 3 Regimed DF Normed Return 90 Far - 98 Dey / Same Length"
   ]
  },
  {
   "cell_type": "code",
   "execution_count": 17,
   "id": "e81ab10f-0c2b-413f-a267-b785d6b3960b",
   "metadata": {},
   "outputs": [],
   "source": [
    "max_length_ThreeReg_Ox_90_98 = min(len(tehran_df_ThreeReg_Ox_1_98), len(tehran_df_ThreeReg_Ox_2_98),len(tehran_df_ThreeReg_Ox_3_98))\n",
    "tehran_df_ThreeReg_Ox_1_same_length_98 = tehran_df_ThreeReg_Ox_1_98[-max_length_ThreeReg_Ox_90_98:]\n",
    "tehran_df_ThreeReg_Ox_2_same_length_98 = tehran_df_ThreeReg_Ox_2_98[-max_length_ThreeReg_Ox_90_98:]\n",
    "tehran_df_ThreeReg_Ox_3_same_length_98 = tehran_df_ThreeReg_Ox_3_98[-max_length_ThreeReg_Ox_90_98:]"
   ]
  },
  {
   "cell_type": "markdown",
   "id": "98e949cc-0b71-427e-9976-6708b4611365",
   "metadata": {},
   "source": [
    "## Tehran pn 3 Regimed DF Normed Return 90 Far - 98 Dey "
   ]
  },
  {
   "cell_type": "code",
   "execution_count": 18,
   "id": "61502455-13cb-41db-8adf-ce788523bb33",
   "metadata": {},
   "outputs": [],
   "source": [
    "tehran_df_ThreeReg_pn_1_98 = tehran_df[tehran_df_reg.iloc[:-300]['3_PN']==1]\n",
    "tehran_df_ThreeReg_pn_2_98 = tehran_df[tehran_df_reg.iloc[:-300]['3_PN']==2]\n",
    "tehran_df_ThreeReg_pn_3_98 = tehran_df[tehran_df_reg.iloc[:-300]['3_PN']==3]"
   ]
  },
  {
   "cell_type": "markdown",
   "id": "2b92e63d-e8f5-4b35-a53a-297f910bd295",
   "metadata": {},
   "source": [
    "## Tehran pn 3 Regimed DF Normed Return 90 Far - 98 Dey / Same Length"
   ]
  },
  {
   "cell_type": "code",
   "execution_count": 19,
   "id": "12f13d9e-94fc-4c06-8a59-20f377b295b9",
   "metadata": {},
   "outputs": [],
   "source": [
    "max_length_ThreeReg_pn_90_98 = min(len(tehran_df_ThreeReg_pn_1_98), len(tehran_df_ThreeReg_pn_2_98),len(tehran_df_ThreeReg_pn_3_98))\n",
    "tehran_df_ThreeReg_pn_1_same_length_98 = tehran_df_ThreeReg_pn_1_98[-max_length_ThreeReg_pn_90_98:]\n",
    "tehran_df_ThreeReg_pn_2_same_length_98 = tehran_df_ThreeReg_pn_2_98[-max_length_ThreeReg_pn_90_98:]\n",
    "tehran_df_ThreeReg_pn_3_same_length_98 = tehran_df_ThreeReg_pn_3_98[-max_length_ThreeReg_pn_90_98:]"
   ]
  },
  {
   "cell_type": "markdown",
   "id": "42a8538f-89ab-46f9-a2eb-d6c4721cff87",
   "metadata": {},
   "source": [
    "## Tehran pn 6 Regimed DF Normed Return 90 Far - 98 Dey "
   ]
  },
  {
   "cell_type": "code",
   "execution_count": 20,
   "id": "08979266-c190-4ca1-86b2-e007f8d158b0",
   "metadata": {},
   "outputs": [],
   "source": [
    "tehran_df_SixReg_pn_1_98 = tehran_df[tehran_df_reg.iloc[:-300]['3_PN']==1]\n",
    "tehran_df_SixReg_pn_2_98 = tehran_df[tehran_df_reg.iloc[:-300]['3_PN']==2]\n",
    "tehran_df_SixReg_pn_3_98 = tehran_df[tehran_df_reg.iloc[:-300]['3_PN']==3]\n",
    "tehran_df_SixReg_pn_4_98 = tehran_df[tehran_df_reg.iloc[:-300]['3_PN']==4]\n",
    "tehran_df_SixReg_pn_5_98 = tehran_df[tehran_df_reg.iloc[:-300]['3_PN']==5]\n",
    "tehran_df_SixReg_pn_6_98 = tehran_df[tehran_df_reg.iloc[:-300]['3_PN']==6]"
   ]
  },
  {
   "cell_type": "markdown",
   "id": "8af4810a-ca8a-4060-942e-8a3b57cfb7d9",
   "metadata": {},
   "source": [
    "## Tehran pn 6 Regimed DF Normed Return 90 Far - 98 Dey / Same Length"
   ]
  },
  {
   "cell_type": "code",
   "execution_count": 21,
   "id": "0f253122-afe8-485d-bf5d-944120b3dec4",
   "metadata": {},
   "outputs": [],
   "source": [
    "max_length_SixReg_pn_90_98 = min(len(tehran_df_SixReg_pn_1_98), len(tehran_df_SixReg_pn_2_98),len(tehran_df_SixReg_pn_3_98),\\\n",
    "                                  len(tehran_df_SixReg_pn_4_98), len(tehran_df_SixReg_pn_5_98),len(tehran_df_SixReg_pn_6_98))\n",
    "tehran_df_SixReg_pn_1_same_length_98 = tehran_df_SixReg_pn_1_98[-max_length_SixReg_pn_90_98:]\n",
    "tehran_df_SixReg_pn_2_same_length_98 = tehran_df_SixReg_pn_2_98[-max_length_SixReg_pn_90_98:]\n",
    "tehran_df_SixReg_pn_3_same_length_98 = tehran_df_SixReg_pn_3_98[-max_length_SixReg_pn_90_98:]\n",
    "tehran_df_SixReg_pn_4_same_length_98 = tehran_df_SixReg_pn_4_98[-max_length_SixReg_pn_90_98:]\n",
    "tehran_df_SixReg_pn_5_same_length_98 = tehran_df_SixReg_pn_5_98[-max_length_SixReg_pn_90_98:]\n",
    "tehran_df_SixReg_pn_6_same_length_98 = tehran_df_SixReg_pn_6_98[-max_length_SixReg_pn_90_98:]"
   ]
  },
  {
   "cell_type": "code",
   "execution_count": 22,
   "id": "96007175-3eff-49bc-b5df-7120b83d400c",
   "metadata": {},
   "outputs": [],
   "source": [
    "nm = Net_moduls()"
   ]
  },
  {
   "cell_type": "markdown",
   "id": "6fd751dd-01f8-4ebd-beeb-52f0462e0ac1",
   "metadata": {},
   "source": [
    "# 7) Tehran 2 Regime Pearson (Based on Median Threshold) Period of 90 Far - 98 Dey"
   ]
  },
  {
   "cell_type": "code",
   "execution_count": 23,
   "id": "3d62eeec-2320-4715-952f-1df83ec380cc",
   "metadata": {},
   "outputs": [],
   "source": [
    "thr7_1 = nm.find_median_pearson_threshold(tehran_df_TwoReg_Ox_1_same_length_98)\n",
    "thr7_2 = nm.find_median_pearson_threshold(tehran_df_TwoReg_Ox_2_same_length_98)\n",
    "thr7 = min(thr7_1, thr7_2)"
   ]
  },
  {
   "cell_type": "code",
   "execution_count": 23,
   "id": "369527cb-1a4a-4f85-987c-1161e567eed7",
   "metadata": {},
   "outputs": [],
   "source": [
    "nm = Net_moduls()\n",
    "pearson_network_TwoReg_Ox_1_98 = nm.construct_network(tehran_df_TwoReg_Ox_1_same_length_98, method='pearson', threshold=thr7)"
   ]
  },
  {
   "cell_type": "code",
   "execution_count": 24,
   "id": "0ce10af3-0704-491e-9505-c142fe4a15cb",
   "metadata": {},
   "outputs": [
    {
     "data": {
      "text/html": [
       "<div>\n",
       "<style scoped>\n",
       "    .dataframe tbody tr th:only-of-type {\n",
       "        vertical-align: middle;\n",
       "    }\n",
       "\n",
       "    .dataframe tbody tr th {\n",
       "        vertical-align: top;\n",
       "    }\n",
       "\n",
       "    .dataframe thead th {\n",
       "        text-align: right;\n",
       "    }\n",
       "</style>\n",
       "<table border=\"1\" class=\"dataframe\">\n",
       "  <thead>\n",
       "    <tr style=\"text-align: right;\">\n",
       "      <th></th>\n",
       "      <th>radius</th>\n",
       "      <th>diameter</th>\n",
       "      <th>densities</th>\n",
       "      <th>number_of_edges</th>\n",
       "      <th>average_clustering</th>\n",
       "      <th>avg_degree_centrality</th>\n",
       "      <th>avg_betweenness_centrality</th>\n",
       "      <th>avg_closeness_centrality</th>\n",
       "      <th>average_shortest_path_length</th>\n",
       "    </tr>\n",
       "  </thead>\n",
       "  <tbody>\n",
       "    <tr>\n",
       "      <th>0</th>\n",
       "      <td>2</td>\n",
       "      <td>3</td>\n",
       "      <td>0.636715</td>\n",
       "      <td>659</td>\n",
       "      <td>0.804889</td>\n",
       "      <td>0.636715</td>\n",
       "      <td>0.008344</td>\n",
       "      <td>0.751955</td>\n",
       "      <td>1.36715</td>\n",
       "    </tr>\n",
       "  </tbody>\n",
       "</table>\n",
       "</div>"
      ],
      "text/plain": [
       "   radius  diameter  densities  number_of_edges  average_clustering  \\\n",
       "0       2         3   0.636715              659            0.804889   \n",
       "\n",
       "   avg_degree_centrality  avg_betweenness_centrality  \\\n",
       "0               0.636715                    0.008344   \n",
       "\n",
       "   avg_closeness_centrality  average_shortest_path_length  \n",
       "0                  0.751955                       1.36715  "
      ]
     },
     "execution_count": 24,
     "metadata": {},
     "output_type": "execute_result"
    }
   ],
   "source": [
    "nm.get_network_features(pearson_network_TwoReg_Ox_1_98)"
   ]
  },
  {
   "cell_type": "code",
   "execution_count": 25,
   "id": "d336d30a-04f1-4d0a-985c-8cf42c5e3051",
   "metadata": {},
   "outputs": [],
   "source": [
    "nm.get_network_features(pearson_network_TwoReg_Ox_1_98).to_csv('Excels/7_1.csv')"
   ]
  },
  {
   "cell_type": "code",
   "execution_count": 26,
   "id": "e583b29d-7288-4e38-9d22-4c17c3c89ae9",
   "metadata": {},
   "outputs": [
    {
     "data": {
      "text/plain": [
       "array({'DastgahayeBargi': 4, 'M1': 6, 'M2': 7, 'Gold': 8, 'USD': 11, 'GDP': 12, 'Coin': 12, 'Euro': 12, 'AbzaralatePezeshki': 15, 'FaravardehayeNafti': 16, 'HOUSE': 16, 'HamlVaNaghl': 17, 'Brent Oil': 24, 'Mansojat': 28, 'VasayelErtebati': 32, 'paper': 33, 'Rayaneh': 33, 'CPI': 34, 'Wood': 34, 'EntesharVaChap': 34, 'MashinAlat': 34, 'Shimiyaee': 34, 'KashiVaSeramik': 34, 'Bank': 34, 'Agriculture': 35, 'EstekrajeNaft': 35, 'Lastic': 35, 'FelezateAsasi': 35, 'GhandVaShekar': 35, 'KanehayeGeyreFelezi': 35, 'SarmayeGozari': 35, 'CoalMining': 36, 'khodrosazi': 36, 'ChandReshteSanati': 36, 'GazaeeBejozGhand': 36, 'Daroee': 36, 'Amlakva': 36, 'FaniVaMohandesi': 36, 'Mali': 36, 'KanehayeFelezi': 36, 'index': 37, 'SayerMadan': 37, 'Siman': 37, 'MahsolateFelezi': 38, 'SayerMali': 38, 'Bimeh': 38},\n",
       "      dtype=object)"
      ]
     },
     "execution_count": 26,
     "metadata": {},
     "output_type": "execute_result"
    }
   ],
   "source": [
    "b7_1 = dict(nx.degree(pearson_network_TwoReg_Ox_1_98))\n",
    "b7_1 = np.array(dict(sorted(b7_1.items(), key=lambda item: item[1])))\n",
    "b7_1"
   ]
  },
  {
   "cell_type": "code",
   "execution_count": 27,
   "id": "ee6b8f31-eb31-4615-be88-e1961308b143",
   "metadata": {},
   "outputs": [],
   "source": [
    "pearson_network_TwoReg_Ox_2_98 = nm.construct_network(tehran_df_TwoReg_Ox_2_same_length_98, method='pearson', threshold=thr7)"
   ]
  },
  {
   "cell_type": "code",
   "execution_count": 28,
   "id": "e3cc274b-35df-428c-8179-7056f88dd14d",
   "metadata": {},
   "outputs": [
    {
     "data": {
      "text/html": [
       "<div>\n",
       "<style scoped>\n",
       "    .dataframe tbody tr th:only-of-type {\n",
       "        vertical-align: middle;\n",
       "    }\n",
       "\n",
       "    .dataframe tbody tr th {\n",
       "        vertical-align: top;\n",
       "    }\n",
       "\n",
       "    .dataframe thead th {\n",
       "        text-align: right;\n",
       "    }\n",
       "</style>\n",
       "<table border=\"1\" class=\"dataframe\">\n",
       "  <thead>\n",
       "    <tr style=\"text-align: right;\">\n",
       "      <th></th>\n",
       "      <th>radius</th>\n",
       "      <th>diameter</th>\n",
       "      <th>densities</th>\n",
       "      <th>number_of_edges</th>\n",
       "      <th>average_clustering</th>\n",
       "      <th>avg_degree_centrality</th>\n",
       "      <th>avg_betweenness_centrality</th>\n",
       "      <th>avg_closeness_centrality</th>\n",
       "      <th>average_shortest_path_length</th>\n",
       "    </tr>\n",
       "  </thead>\n",
       "  <tbody>\n",
       "    <tr>\n",
       "      <th>0</th>\n",
       "      <td>2</td>\n",
       "      <td>3</td>\n",
       "      <td>0.589372</td>\n",
       "      <td>610</td>\n",
       "      <td>0.721403</td>\n",
       "      <td>0.589372</td>\n",
       "      <td>0.009376</td>\n",
       "      <td>0.720529</td>\n",
       "      <td>1.41256</td>\n",
       "    </tr>\n",
       "  </tbody>\n",
       "</table>\n",
       "</div>"
      ],
      "text/plain": [
       "   radius  diameter  densities  number_of_edges  average_clustering  \\\n",
       "0       2         3   0.589372              610            0.721403   \n",
       "\n",
       "   avg_degree_centrality  avg_betweenness_centrality  \\\n",
       "0               0.589372                    0.009376   \n",
       "\n",
       "   avg_closeness_centrality  average_shortest_path_length  \n",
       "0                  0.720529                       1.41256  "
      ]
     },
     "execution_count": 28,
     "metadata": {},
     "output_type": "execute_result"
    }
   ],
   "source": [
    "nm.get_network_features(pearson_network_TwoReg_Ox_2_98)"
   ]
  },
  {
   "cell_type": "code",
   "execution_count": 29,
   "id": "4184f680-eaa7-427b-87df-b0a09f4f7970",
   "metadata": {},
   "outputs": [],
   "source": [
    "nm.get_network_features(pearson_network_TwoReg_Ox_2_98).to_csv('Excels/7_2.csv')"
   ]
  },
  {
   "cell_type": "code",
   "execution_count": 30,
   "id": "05b1565f-e8df-4143-9a92-1d1129993b94",
   "metadata": {},
   "outputs": [
    {
     "data": {
      "text/plain": [
       "array({'FaravardehayeNafti': 6, 'HOUSE': 8, 'Brent Oil': 9, 'Mansojat': 13, 'M1': 13, 'M2': 14, 'CoalMining': 17, 'GhandVaShekar': 17, 'GDP': 19, 'CPI': 20, 'Gold': 21, 'Coin': 21, 'Euro': 21, 'KanehayeFelezi': 22, 'USD': 22, 'Agriculture': 24, 'FelezateAsasi': 24, 'Wood': 25, 'VasayelErtebati': 25, 'HamlVaNaghl': 25, 'AbzaralatePezeshki': 26, 'ChandReshteSanati': 27, 'Bank': 29, 'SayerMadan': 30, 'EntesharVaChap': 30, 'Daroee': 30, 'KashiVaSeramik': 30, 'Bimeh': 30, 'GazaeeBejozGhand': 31, 'FaniVaMohandesi': 31, 'EstekrajeNaft': 32, 'MahsolateFelezi': 32, 'Lastic': 32, 'Mali': 33, 'paper': 34, 'SarmayeGozari': 34, 'Rayaneh': 34, 'khodrosazi': 35, 'SayerMali': 35, 'DastgahayeBargi': 36, 'Siman': 36, 'Amlakva': 36, 'MashinAlat': 37, 'Shimiyaee': 37, 'index': 38, 'KanehayeGeyreFelezi': 39},\n",
       "      dtype=object)"
      ]
     },
     "execution_count": 30,
     "metadata": {},
     "output_type": "execute_result"
    }
   ],
   "source": [
    "b7_2 = dict(nx.degree(pearson_network_TwoReg_Ox_2_98))\n",
    "b7_2 = np.array(dict(sorted(b7_2.items(), key=lambda item: item[1])))\n",
    "b7_2"
   ]
  },
  {
   "cell_type": "code",
   "execution_count": 31,
   "id": "7e3f032e-d294-443f-b1e7-0cd0d69992f0",
   "metadata": {},
   "outputs": [
    {
     "data": {
      "text/plain": [
       "<Figure size 1600x1200 with 0 Axes>"
      ]
     },
     "metadata": {},
     "output_type": "display_data"
    },
    {
     "data": {
      "image/png": "[encoded data removed]",
      "text/plain": [
       "<Figure size 600x600 with 1 Axes>"
      ]
     },
     "metadata": {},
     "output_type": "display_data"
    }
   ],
   "source": [
    "circos = nm.plot_circos_network(pearson_network_TwoReg_Ox_1_98)\n",
    "circos.draw()"
   ]
  },
  {
   "cell_type": "markdown",
   "id": "c8458133-61cb-44ab-8e38-f1eb0c6d003e",
   "metadata": {},
   "source": [
    "# 7.1) Tehran 2 Regime ox 1399 Pearson (Based on Median Threshold) Period of 90 Far - 98 Dey"
   ]
  },
  {
   "cell_type": "code",
   "execution_count": 32,
   "id": "331a35c8-a0ab-41af-9521-497495d00169",
   "metadata": {},
   "outputs": [],
   "source": [
    "thr7_99_1 = nm.find_median_pearson_threshold(tehran_df_TwoReg_Ox_99_1_same_length)\n",
    "thr7_99_2 = nm.find_median_pearson_threshold(tehran_df_TwoReg_Ox_99_2_same_length)\n",
    "thr7_99 = min(thr7_99_1, thr7_99_2)"
   ]
  },
  {
   "cell_type": "code",
   "execution_count": 33,
   "id": "744e2015-3133-41e6-b079-8674ef50dbf9",
   "metadata": {},
   "outputs": [],
   "source": [
    "thr7_99+=0.2"
   ]
  },
  {
   "cell_type": "code",
   "execution_count": 34,
   "id": "d9d1d64e-42dd-4f06-8e38-976439898001",
   "metadata": {},
   "outputs": [],
   "source": [
    "nm = Net_moduls()\n",
    "pearson_network_TwoReg_Ox_99_1 = nm.construct_network(tehran_df_TwoReg_Ox_99_1_same_length, method='pearson', threshold=thr7_99)"
   ]
  },
  {
   "cell_type": "code",
   "execution_count": 35,
   "id": "1ce02065-e572-4d5a-8575-0dece015cbeb",
   "metadata": {},
   "outputs": [
    {
     "data": {
      "text/html": [
       "<div>\n",
       "<style scoped>\n",
       "    .dataframe tbody tr th:only-of-type {\n",
       "        vertical-align: middle;\n",
       "    }\n",
       "\n",
       "    .dataframe tbody tr th {\n",
       "        vertical-align: top;\n",
       "    }\n",
       "\n",
       "    .dataframe thead th {\n",
       "        text-align: right;\n",
       "    }\n",
       "</style>\n",
       "<table border=\"1\" class=\"dataframe\">\n",
       "  <thead>\n",
       "    <tr style=\"text-align: right;\">\n",
       "      <th></th>\n",
       "      <th>radius</th>\n",
       "      <th>diameter</th>\n",
       "      <th>densities</th>\n",
       "      <th>number_of_edges</th>\n",
       "      <th>average_clustering</th>\n",
       "      <th>avg_degree_centrality</th>\n",
       "      <th>avg_betweenness_centrality</th>\n",
       "      <th>avg_closeness_centrality</th>\n",
       "      <th>average_shortest_path_length</th>\n",
       "    </tr>\n",
       "  </thead>\n",
       "  <tbody>\n",
       "    <tr>\n",
       "      <th>0</th>\n",
       "      <td>NaN</td>\n",
       "      <td>NaN</td>\n",
       "      <td>0.452439</td>\n",
       "      <td>371</td>\n",
       "      <td>0.85033</td>\n",
       "      <td>0.452439</td>\n",
       "      <td>0.017104</td>\n",
       "      <td>0.521262</td>\n",
       "      <td>NaN</td>\n",
       "    </tr>\n",
       "  </tbody>\n",
       "</table>\n",
       "</div>"
      ],
      "text/plain": [
       "   radius  diameter  densities  number_of_edges  average_clustering  \\\n",
       "0     NaN       NaN   0.452439              371             0.85033   \n",
       "\n",
       "   avg_degree_centrality  avg_betweenness_centrality  \\\n",
       "0               0.452439                    0.017104   \n",
       "\n",
       "   avg_closeness_centrality  average_shortest_path_length  \n",
       "0                  0.521262                           NaN  "
      ]
     },
     "execution_count": 35,
     "metadata": {},
     "output_type": "execute_result"
    }
   ],
   "source": [
    "nm.get_network_features(pearson_network_TwoReg_Ox_99_1)"
   ]
  },
  {
   "cell_type": "code",
   "execution_count": 36,
   "id": "55e22956-f1f4-4b29-9ef6-86692150f9ce",
   "metadata": {},
   "outputs": [],
   "source": [
    "# nm.get_network_features(pearson_network_TwoReg_Ox_99_1).to_csv('Excels/7_1.csv')"
   ]
  },
  {
   "cell_type": "code",
   "execution_count": 37,
   "id": "646f243f-2106-4a71-b959-540a1dcab285",
   "metadata": {},
   "outputs": [
    {
     "data": {
      "text/plain": [
       "array({'Coin': 2, 'Euro': 2, 'USD': 2, 'M1': 2, 'M2': 2, 'GDP': 2, 'HOUSE': 3, 'SayerMadan': 3, 'VasayelErtebati': 3, 'CPI': 4, 'Wood': 6, 'paper': 12, 'FaravardehayeNafti': 14, 'EstekrajeNaft': 16, 'khodrosazi': 16, 'EntesharVaChap': 16, 'HamlVaNaghl': 19, 'GhandVaShekar': 20, 'ChandReshteSanati': 21, 'KanehayeFelezi': 21, 'MashinAlat': 22, 'Agriculture': 23, 'KashiVaSeramik': 23, 'Lastic': 24, 'FelezateAsasi': 24, 'Shimiyaee': 25, 'SayerMali': 26, 'FaniVaMohandesi': 26, 'index': 27, 'MahsolateFelezi': 27, 'GazaeeBejozGhand': 27, 'KanehayeGeyreFelezi': 27, 'Bank': 27, 'Bimeh': 27, 'DastgahayeBargi': 28, 'SarmayeGozari': 28, 'Rayaneh': 28, 'Daroee': 29, 'Siman': 29, 'Mali': 29, 'Amlakva': 30},\n",
       "      dtype=object)"
      ]
     },
     "execution_count": 37,
     "metadata": {},
     "output_type": "execute_result"
    }
   ],
   "source": [
    "b7_1_1 = dict(nx.degree(pearson_network_TwoReg_Ox_99_1))\n",
    "b7_1_1 = np.array(dict(sorted(b7_1_1.items(), key=lambda item: item[1])))\n",
    "b7_1_1"
   ]
  },
  {
   "cell_type": "code",
   "execution_count": 38,
   "id": "ad74ca03-195b-4b03-af3b-2d5f05b1e7b2",
   "metadata": {},
   "outputs": [],
   "source": [
    "pearson_network_TwoReg_Ox_99_2 = nm.construct_network(tehran_df_TwoReg_Ox_99_2_same_length, method='pearson', threshold=thr7_99)"
   ]
  },
  {
   "cell_type": "code",
   "execution_count": 39,
   "id": "6473669c-2b00-48b5-b008-ccf43ed81618",
   "metadata": {},
   "outputs": [
    {
     "data": {
      "text/html": [
       "<div>\n",
       "<style scoped>\n",
       "    .dataframe tbody tr th:only-of-type {\n",
       "        vertical-align: middle;\n",
       "    }\n",
       "\n",
       "    .dataframe tbody tr th {\n",
       "        vertical-align: top;\n",
       "    }\n",
       "\n",
       "    .dataframe thead th {\n",
       "        text-align: right;\n",
       "    }\n",
       "</style>\n",
       "<table border=\"1\" class=\"dataframe\">\n",
       "  <thead>\n",
       "    <tr style=\"text-align: right;\">\n",
       "      <th></th>\n",
       "      <th>radius</th>\n",
       "      <th>diameter</th>\n",
       "      <th>densities</th>\n",
       "      <th>number_of_edges</th>\n",
       "      <th>average_clustering</th>\n",
       "      <th>avg_degree_centrality</th>\n",
       "      <th>avg_betweenness_centrality</th>\n",
       "      <th>avg_closeness_centrality</th>\n",
       "      <th>average_shortest_path_length</th>\n",
       "    </tr>\n",
       "  </thead>\n",
       "  <tbody>\n",
       "    <tr>\n",
       "      <th>0</th>\n",
       "      <td>NaN</td>\n",
       "      <td>NaN</td>\n",
       "      <td>0.362821</td>\n",
       "      <td>283</td>\n",
       "      <td>0.744427</td>\n",
       "      <td>0.362821</td>\n",
       "      <td>0.006005</td>\n",
       "      <td>0.427728</td>\n",
       "      <td>NaN</td>\n",
       "    </tr>\n",
       "  </tbody>\n",
       "</table>\n",
       "</div>"
      ],
      "text/plain": [
       "   radius  diameter  densities  number_of_edges  average_clustering  \\\n",
       "0     NaN       NaN   0.362821              283            0.744427   \n",
       "\n",
       "   avg_degree_centrality  avg_betweenness_centrality  \\\n",
       "0               0.362821                    0.006005   \n",
       "\n",
       "   avg_closeness_centrality  average_shortest_path_length  \n",
       "0                  0.427728                           NaN  "
      ]
     },
     "execution_count": 39,
     "metadata": {},
     "output_type": "execute_result"
    }
   ],
   "source": [
    "nm.get_network_features(pearson_network_TwoReg_Ox_99_2)"
   ]
  },
  {
   "cell_type": "code",
   "execution_count": 40,
   "id": "59f32186-6424-4c32-b759-e1fac582d1ec",
   "metadata": {},
   "outputs": [
    {
     "data": {
      "text/plain": [
       "array({'GDP': 1, 'Wood': 1, 'DastgahayeBargi': 1, 'Mali': 1, 'VasayelErtebati': 1, 'Coin': 2, 'Euro': 2, 'USD': 2, 'HOUSE': 2, 'CPI': 3, 'M1': 3, 'M2': 3, 'paper': 4, 'SayerMadan': 6, 'EstekrajeNaft': 7, 'KashiVaSeramik': 12, 'khodrosazi': 15, 'FaravardehayeNafti': 17, 'FelezateAsasi': 18, 'MashinAlat': 18, 'GhandVaShekar': 18, 'Bank': 18, 'HamlVaNaghl': 19, 'KanehayeFelezi': 19, 'Agriculture': 20, 'Lastic': 20, 'ChandReshteSanati': 22, 'KanehayeGeyreFelezi': 22, 'FaniVaMohandesi': 22, 'Daroee': 23, 'Shimiyaee': 23, 'GazaeeBejozGhand': 24, 'Siman': 24, 'SayerMali': 24, 'Bimeh': 24, 'Amlakva': 24, 'MahsolateFelezi': 25, 'SarmayeGozari': 25, 'Rayaneh': 25, 'index': 26},\n",
       "      dtype=object)"
      ]
     },
     "execution_count": 40,
     "metadata": {},
     "output_type": "execute_result"
    }
   ],
   "source": [
    "b7_1_2 = dict(nx.degree(pearson_network_TwoReg_Ox_99_2))\n",
    "b7_1_2 = np.array(dict(sorted(b7_1_2.items(), key=lambda item: item[1])))\n",
    "b7_1_2"
   ]
  },
  {
   "cell_type": "markdown",
   "id": "6b7bcd83-8de4-46a4-bc1e-d04bd1ad8ef3",
   "metadata": {},
   "source": [
    "# 8) Tehran 2 Regime Pearson (Based on Median Threshold) Period of 90 Far - 00 Far"
   ]
  },
  {
   "cell_type": "code",
   "execution_count": 41,
   "id": "e9d4a3f6-67c2-4e80-82de-b85f550c5e7c",
   "metadata": {},
   "outputs": [],
   "source": [
    "thr8_1 = nm.find_median_pearson_threshold(tehran_df_TwoReg_Ox_1_same_length)\n",
    "thr8_2 = nm.find_median_pearson_threshold(tehran_df_TwoReg_Ox_2_same_length)\n",
    "thr8 = min(thr8_1, thr8_2)"
   ]
  },
  {
   "cell_type": "code",
   "execution_count": 42,
   "id": "57714c14-176b-4a0a-8e83-7424efd73883",
   "metadata": {},
   "outputs": [],
   "source": [
    "nm = Net_moduls()\n",
    "pearson_network_TwoReg_Ox_1 = nm.construct_network(tehran_df_TwoReg_Ox_1_same_length, method='pearson', threshold=thr8)"
   ]
  },
  {
   "cell_type": "code",
   "execution_count": 43,
   "id": "bb91be98-178c-4fad-a7b0-24f4f71ef2a5",
   "metadata": {},
   "outputs": [
    {
     "data": {
      "text/html": [
       "<div>\n",
       "<style scoped>\n",
       "    .dataframe tbody tr th:only-of-type {\n",
       "        vertical-align: middle;\n",
       "    }\n",
       "\n",
       "    .dataframe tbody tr th {\n",
       "        vertical-align: top;\n",
       "    }\n",
       "\n",
       "    .dataframe thead th {\n",
       "        text-align: right;\n",
       "    }\n",
       "</style>\n",
       "<table border=\"1\" class=\"dataframe\">\n",
       "  <thead>\n",
       "    <tr style=\"text-align: right;\">\n",
       "      <th></th>\n",
       "      <th>radius</th>\n",
       "      <th>diameter</th>\n",
       "      <th>densities</th>\n",
       "      <th>number_of_edges</th>\n",
       "      <th>average_clustering</th>\n",
       "      <th>avg_degree_centrality</th>\n",
       "      <th>avg_betweenness_centrality</th>\n",
       "      <th>avg_closeness_centrality</th>\n",
       "      <th>average_shortest_path_length</th>\n",
       "    </tr>\n",
       "  </thead>\n",
       "  <tbody>\n",
       "    <tr>\n",
       "      <th>0</th>\n",
       "      <td>2</td>\n",
       "      <td>3</td>\n",
       "      <td>0.719807</td>\n",
       "      <td>745</td>\n",
       "      <td>0.848898</td>\n",
       "      <td>0.719807</td>\n",
       "      <td>0.006478</td>\n",
       "      <td>0.797156</td>\n",
       "      <td>1.285024</td>\n",
       "    </tr>\n",
       "  </tbody>\n",
       "</table>\n",
       "</div>"
      ],
      "text/plain": [
       "   radius  diameter  densities  number_of_edges  average_clustering  \\\n",
       "0       2         3   0.719807              745            0.848898   \n",
       "\n",
       "   avg_degree_centrality  avg_betweenness_centrality  \\\n",
       "0               0.719807                    0.006478   \n",
       "\n",
       "   avg_closeness_centrality  average_shortest_path_length  \n",
       "0                  0.797156                      1.285024  "
      ]
     },
     "execution_count": 43,
     "metadata": {},
     "output_type": "execute_result"
    }
   ],
   "source": [
    "nm.get_network_features(pearson_network_TwoReg_Ox_1)"
   ]
  },
  {
   "cell_type": "code",
   "execution_count": 44,
   "id": "9248d414-64ea-487a-98f3-01b19c098054",
   "metadata": {},
   "outputs": [],
   "source": [
    "nm.get_network_features(pearson_network_TwoReg_Ox_1).to_csv('Excels/8_1.csv')"
   ]
  },
  {
   "cell_type": "code",
   "execution_count": 45,
   "id": "93fcb4ea-88ee-4399-b265-12004892413c",
   "metadata": {},
   "outputs": [
    {
     "data": {
      "text/plain": [
       "array({'DastgahayeBargi': 6, 'M1': 11, 'AbzaralatePezeshki': 12, 'GDP': 13, 'M2': 13, 'Gold': 14, 'Coin': 19, 'FaravardehayeNafti': 24, 'USD': 27, 'Mali': 28, 'Brent Oil': 29, 'Euro': 29, 'Mansojat': 30, 'CPI': 31, 'HOUSE': 33, 'paper': 33, 'HamlVaNaghl': 33, 'Wood': 34, 'FaniVaMohandesi': 34, 'CoalMining': 35, 'VasayelErtebati': 35, 'SayerMadan': 36, 'KashiVaSeramik': 36, 'EstekrajeNaft': 37, 'Lastic': 37, 'MashinAlat': 37, 'Bank': 37, 'Bimeh': 37, 'Agriculture': 38, 'MahsolateFelezi': 38, 'GhandVaShekar': 38, 'GazaeeBejozGhand': 38, 'Siman': 38, 'Shimiyaee': 39, 'KanehayeGeyreFelezi': 39, 'SarmayeGozari': 39, 'SayerMali': 39, 'Rayaneh': 39, 'KanehayeFelezi': 39, 'EntesharVaChap': 40, 'Daroee': 40, 'Amlakva': 40, 'khodrosazi': 41, 'ChandReshteSanati': 41, 'index': 42, 'FelezateAsasi': 42},\n",
       "      dtype=object)"
      ]
     },
     "execution_count": 45,
     "metadata": {},
     "output_type": "execute_result"
    }
   ],
   "source": [
    "b8_1 = dict(nx.degree(pearson_network_TwoReg_Ox_1))\n",
    "b8_1 = np.array(dict(sorted(b8_1.items(), key=lambda item: item[1])))\n",
    "b8_1"
   ]
  },
  {
   "cell_type": "code",
   "execution_count": 46,
   "id": "f722adca-5af3-4b0b-9aff-ad12d4402695",
   "metadata": {},
   "outputs": [],
   "source": [
    "pearson_network_TwoReg_Ox_2 = nm.construct_network(tehran_df_TwoReg_Ox_2_same_length, method='pearson', threshold=thr8)"
   ]
  },
  {
   "cell_type": "code",
   "execution_count": 47,
   "id": "82b49a1d-cb12-4745-8b28-0bdb09c52c8f",
   "metadata": {},
   "outputs": [
    {
     "data": {
      "text/html": [
       "<div>\n",
       "<style scoped>\n",
       "    .dataframe tbody tr th:only-of-type {\n",
       "        vertical-align: middle;\n",
       "    }\n",
       "\n",
       "    .dataframe tbody tr th {\n",
       "        vertical-align: top;\n",
       "    }\n",
       "\n",
       "    .dataframe thead th {\n",
       "        text-align: right;\n",
       "    }\n",
       "</style>\n",
       "<table border=\"1\" class=\"dataframe\">\n",
       "  <thead>\n",
       "    <tr style=\"text-align: right;\">\n",
       "      <th></th>\n",
       "      <th>radius</th>\n",
       "      <th>diameter</th>\n",
       "      <th>densities</th>\n",
       "      <th>number_of_edges</th>\n",
       "      <th>average_clustering</th>\n",
       "      <th>avg_degree_centrality</th>\n",
       "      <th>avg_betweenness_centrality</th>\n",
       "      <th>avg_closeness_centrality</th>\n",
       "      <th>average_shortest_path_length</th>\n",
       "    </tr>\n",
       "  </thead>\n",
       "  <tbody>\n",
       "    <tr>\n",
       "      <th>0</th>\n",
       "      <td>2</td>\n",
       "      <td>3</td>\n",
       "      <td>0.582609</td>\n",
       "      <td>603</td>\n",
       "      <td>0.726178</td>\n",
       "      <td>0.582609</td>\n",
       "      <td>0.00953</td>\n",
       "      <td>0.718787</td>\n",
       "      <td>1.419324</td>\n",
       "    </tr>\n",
       "  </tbody>\n",
       "</table>\n",
       "</div>"
      ],
      "text/plain": [
       "   radius  diameter  densities  number_of_edges  average_clustering  \\\n",
       "0       2         3   0.582609              603            0.726178   \n",
       "\n",
       "   avg_degree_centrality  avg_betweenness_centrality  \\\n",
       "0               0.582609                     0.00953   \n",
       "\n",
       "   avg_closeness_centrality  average_shortest_path_length  \n",
       "0                  0.718787                      1.419324  "
      ]
     },
     "execution_count": 47,
     "metadata": {},
     "output_type": "execute_result"
    }
   ],
   "source": [
    "nm.get_network_features(pearson_network_TwoReg_Ox_2)"
   ]
  },
  {
   "cell_type": "code",
   "execution_count": 48,
   "id": "b43c7200-4ca4-4456-84f0-8ec42177dcb8",
   "metadata": {},
   "outputs": [],
   "source": [
    "nm.get_network_features(pearson_network_TwoReg_Ox_2).to_csv('Excels/8_2.csv')"
   ]
  },
  {
   "cell_type": "code",
   "execution_count": 49,
   "id": "3ec612af-e946-4286-8573-d6f068514795",
   "metadata": {},
   "outputs": [
    {
     "data": {
      "text/plain": [
       "array({'FaravardehayeNafti': 8, 'M1': 8, 'HOUSE': 10, 'Gold': 11, 'Brent Oil': 11, 'Mansojat': 12, 'M2': 12, 'Coin': 14, 'GhandVaShekar': 16, 'CoalMining': 17, 'GDP': 18, 'USD': 19, 'Euro': 20, 'CPI': 21, 'Wood': 24, 'HamlVaNaghl': 24, 'KanehayeFelezi': 24, 'FelezateAsasi': 25, 'VasayelErtebati': 25, 'Agriculture': 26, 'AbzaralatePezeshki': 26, 'ChandReshteSanati': 26, 'EntesharVaChap': 29, 'Daroee': 30, 'KashiVaSeramik': 30, 'SayerMadan': 31, 'paper': 31, 'Bank': 31, 'MahsolateFelezi': 32, 'DastgahayeBargi': 32, 'GazaeeBejozGhand': 32, 'Rayaneh': 32, 'FaniVaMohandesi': 33, 'Lastic': 34, 'Bimeh': 34, 'khodrosazi': 35, 'Shimiyaee': 35, 'SayerMali': 35, 'Mali': 35, 'EstekrajeNaft': 36, 'Siman': 36, 'SarmayeGozari': 36, 'Amlakva': 36, 'MashinAlat': 37, 'index': 38, 'KanehayeGeyreFelezi': 39},\n",
       "      dtype=object)"
      ]
     },
     "execution_count": 49,
     "metadata": {},
     "output_type": "execute_result"
    }
   ],
   "source": [
    "b8_2 = dict(nx.degree(pearson_network_TwoReg_Ox_2))\n",
    "b8_2 = np.array(dict(sorted(b8_2.items(), key=lambda item: item[1])))\n",
    "b8_2"
   ]
  },
  {
   "cell_type": "markdown",
   "id": "698877b3-9222-460c-8b9e-ebadd301013b",
   "metadata": {},
   "source": [
    "# 9) Tehran 2 Regime Pearson (Based on Median Threshold) Period of 90 Far - 98 Dey/ Last 100 Records"
   ]
  },
  {
   "cell_type": "code",
   "execution_count": 50,
   "id": "5a7bd99a-5d80-4df2-bc9d-be4c9402e2f3",
   "metadata": {},
   "outputs": [],
   "source": [
    "thr9_1 = nm.find_median_pearson_threshold(tehran_df_TwoReg_Ox_1_same_length_98[-100:])\n",
    "thr9_2 = nm.find_median_pearson_threshold(tehran_df_TwoReg_Ox_2_same_length_98[-100:])\n",
    "thr9 = min(thr7_1, thr7_2)"
   ]
  },
  {
   "cell_type": "code",
   "execution_count": 51,
   "id": "0e4d96af-decd-4db8-971b-b172dfd02326",
   "metadata": {},
   "outputs": [],
   "source": [
    "pearson_network_TwoReg_Ox_1_98_last100 = nm.construct_network(tehran_df_TwoReg_Ox_1_same_length_98[-100:], method='pearson', threshold=thr9)"
   ]
  },
  {
   "cell_type": "code",
   "execution_count": 52,
   "id": "7868d31b-9394-4b86-8fe6-2b4c4b353f99",
   "metadata": {},
   "outputs": [
    {
     "data": {
      "text/html": [
       "<div>\n",
       "<style scoped>\n",
       "    .dataframe tbody tr th:only-of-type {\n",
       "        vertical-align: middle;\n",
       "    }\n",
       "\n",
       "    .dataframe tbody tr th {\n",
       "        vertical-align: top;\n",
       "    }\n",
       "\n",
       "    .dataframe thead th {\n",
       "        text-align: right;\n",
       "    }\n",
       "</style>\n",
       "<table border=\"1\" class=\"dataframe\">\n",
       "  <thead>\n",
       "    <tr style=\"text-align: right;\">\n",
       "      <th></th>\n",
       "      <th>radius</th>\n",
       "      <th>diameter</th>\n",
       "      <th>densities</th>\n",
       "      <th>number_of_edges</th>\n",
       "      <th>average_clustering</th>\n",
       "      <th>avg_degree_centrality</th>\n",
       "      <th>avg_betweenness_centrality</th>\n",
       "      <th>avg_closeness_centrality</th>\n",
       "      <th>average_shortest_path_length</th>\n",
       "    </tr>\n",
       "  </thead>\n",
       "  <tbody>\n",
       "    <tr>\n",
       "      <th>0</th>\n",
       "      <td>2</td>\n",
       "      <td>2</td>\n",
       "      <td>0.865657</td>\n",
       "      <td>857</td>\n",
       "      <td>0.894977</td>\n",
       "      <td>0.865657</td>\n",
       "      <td>0.003124</td>\n",
       "      <td>0.889804</td>\n",
       "      <td>1.134343</td>\n",
       "    </tr>\n",
       "  </tbody>\n",
       "</table>\n",
       "</div>"
      ],
      "text/plain": [
       "   radius  diameter  densities  number_of_edges  average_clustering  \\\n",
       "0       2         2   0.865657              857            0.894977   \n",
       "\n",
       "   avg_degree_centrality  avg_betweenness_centrality  \\\n",
       "0               0.865657                    0.003124   \n",
       "\n",
       "   avg_closeness_centrality  average_shortest_path_length  \n",
       "0                  0.889804                      1.134343  "
      ]
     },
     "execution_count": 52,
     "metadata": {},
     "output_type": "execute_result"
    }
   ],
   "source": [
    "nm.get_network_features(pearson_network_TwoReg_Ox_1_98_last100)"
   ]
  },
  {
   "cell_type": "code",
   "execution_count": 53,
   "id": "a71c11f1-bc67-432b-b25a-208b6fc6ffd5",
   "metadata": {},
   "outputs": [],
   "source": [
    "nm.get_network_features(pearson_network_TwoReg_Ox_1_98_last100).to_csv('Excels/9_1.csv')"
   ]
  },
  {
   "cell_type": "code",
   "execution_count": 54,
   "id": "c01d0f69-8dd4-46d2-b8a8-083f9c6a9121",
   "metadata": {},
   "outputs": [
    {
     "data": {
      "text/plain": [
       "array({'USD': 22, 'FaravardehayeNafti': 25, 'Euro': 25, 'Brent Oil': 28, 'Coin': 29, 'M2': 30, 'Gold': 33, 'CoalMining': 35, 'DastgahayeBargi': 35, 'GDP': 36, 'EntesharVaChap': 36, 'M1': 38, 'Mansojat': 38, 'Wood': 38, 'khodrosazi': 38, 'KanehayeFelezi': 38, 'HamlVaNaghl': 39, 'Amlakva': 39, 'CPI': 40, 'HOUSE': 40, 'Agriculture': 40, 'EstekrajeNaft': 40, 'FelezateAsasi': 40, 'MashinAlat': 40, 'GhandVaShekar': 40, 'GazaeeBejozGhand': 40, 'Shimiyaee': 40, 'Rayaneh': 40, 'MahsolateFelezi': 41, 'Lastic': 41, 'ChandReshteSanati': 41, 'Siman': 41, 'KanehayeGeyreFelezi': 41, 'SayerMali': 41, 'Mali': 41, 'index': 42, 'Daroee': 42, 'Bank': 42, 'Bimeh': 42, 'FaniVaMohandesi': 42, 'SayerMadan': 43, 'paper': 43, 'VasayelErtebati': 43, 'KashiVaSeramik': 43, 'SarmayeGozari': 43},\n",
       "      dtype=object)"
      ]
     },
     "execution_count": 54,
     "metadata": {},
     "output_type": "execute_result"
    }
   ],
   "source": [
    "b9_1 = dict(nx.degree(pearson_network_TwoReg_Ox_1_98_last100))\n",
    "b9_1 = np.array(dict(sorted(b9_1.items(), key=lambda item: item[1])))\n",
    "b9_1"
   ]
  },
  {
   "cell_type": "code",
   "execution_count": 55,
   "id": "4149e0cb-eb7a-44d9-8552-9de1746843c3",
   "metadata": {},
   "outputs": [],
   "source": [
    "pearson_network_TwoReg_Ox_2_98_last100 = nm.construct_network(tehran_df_TwoReg_Ox_2_same_length_98[-100:], method='pearson', threshold=thr9)"
   ]
  },
  {
   "cell_type": "code",
   "execution_count": 56,
   "id": "f52c91a9-ca17-4ffe-ab20-2db6a9e70993",
   "metadata": {},
   "outputs": [
    {
     "data": {
      "text/html": [
       "<div>\n",
       "<style scoped>\n",
       "    .dataframe tbody tr th:only-of-type {\n",
       "        vertical-align: middle;\n",
       "    }\n",
       "\n",
       "    .dataframe tbody tr th {\n",
       "        vertical-align: top;\n",
       "    }\n",
       "\n",
       "    .dataframe thead th {\n",
       "        text-align: right;\n",
       "    }\n",
       "</style>\n",
       "<table border=\"1\" class=\"dataframe\">\n",
       "  <thead>\n",
       "    <tr style=\"text-align: right;\">\n",
       "      <th></th>\n",
       "      <th>radius</th>\n",
       "      <th>diameter</th>\n",
       "      <th>densities</th>\n",
       "      <th>number_of_edges</th>\n",
       "      <th>average_clustering</th>\n",
       "      <th>avg_degree_centrality</th>\n",
       "      <th>avg_betweenness_centrality</th>\n",
       "      <th>avg_closeness_centrality</th>\n",
       "      <th>average_shortest_path_length</th>\n",
       "    </tr>\n",
       "  </thead>\n",
       "  <tbody>\n",
       "    <tr>\n",
       "      <th>0</th>\n",
       "      <td>2</td>\n",
       "      <td>2</td>\n",
       "      <td>0.775758</td>\n",
       "      <td>768</td>\n",
       "      <td>0.804045</td>\n",
       "      <td>0.775758</td>\n",
       "      <td>0.005215</td>\n",
       "      <td>0.823189</td>\n",
       "      <td>1.224242</td>\n",
       "    </tr>\n",
       "  </tbody>\n",
       "</table>\n",
       "</div>"
      ],
      "text/plain": [
       "   radius  diameter  densities  number_of_edges  average_clustering  \\\n",
       "0       2         2   0.775758              768            0.804045   \n",
       "\n",
       "   avg_degree_centrality  avg_betweenness_centrality  \\\n",
       "0               0.775758                    0.005215   \n",
       "\n",
       "   avg_closeness_centrality  average_shortest_path_length  \n",
       "0                  0.823189                      1.224242  "
      ]
     },
     "execution_count": 56,
     "metadata": {},
     "output_type": "execute_result"
    }
   ],
   "source": [
    "nm.get_network_features(pearson_network_TwoReg_Ox_2_98_last100)"
   ]
  },
  {
   "cell_type": "code",
   "execution_count": 57,
   "id": "6d13502a-5c07-424e-8a94-f809952730bc",
   "metadata": {},
   "outputs": [],
   "source": [
    "nm.get_network_features(pearson_network_TwoReg_Ox_2_98_last100).to_csv('Excels/9_2.csv')"
   ]
  },
  {
   "cell_type": "code",
   "execution_count": 58,
   "id": "3c131e65-abac-4f96-bb80-d5eee887e9cf",
   "metadata": {},
   "outputs": [
    {
     "data": {
      "text/plain": [
       "array({'FaravardehayeNafti': 12, 'Wood': 25, 'CoalMining': 28, 'Agriculture': 29, 'ChandReshteSanati': 29, 'Shimiyaee': 29, 'HOUSE': 30, 'Brent Oil': 31, 'CPI': 31, 'EstekrajeNaft': 31, 'FelezateAsasi': 31, 'VasayelErtebati': 31, 'M1': 31, 'Bank': 33, 'Bimeh': 33, 'FaniVaMohandesi': 33, 'KanehayeFelezi': 33, 'Euro': 34, 'HamlVaNaghl': 34, 'USD': 34, 'Coin': 35, 'GDP': 35, 'Mansojat': 35, 'MashinAlat': 35, 'GhandVaShekar': 35, 'SayerMali': 35, 'Rayaneh': 35, 'Gold': 36, 'paper': 36, 'Amlakva': 36, 'M2': 37, 'MahsolateFelezi': 37, 'Daroee': 37, 'KashiVaSeramik': 37, 'Mali': 37, 'EntesharVaChap': 38, 'DastgahayeBargi': 38, 'SayerMadan': 39, 'Lastic': 39, 'khodrosazi': 39, 'KanehayeGeyreFelezi': 39, 'SarmayeGozari': 40, 'GazaeeBejozGhand': 41, 'Siman': 41, 'index': 42},\n",
       "      dtype=object)"
      ]
     },
     "execution_count": 58,
     "metadata": {},
     "output_type": "execute_result"
    }
   ],
   "source": [
    "b9_2 = dict(nx.degree(pearson_network_TwoReg_Ox_2_98_last100))\n",
    "b9_2 = np.array(dict(sorted(b9_2.items(), key=lambda item: item[1])))\n",
    "b9_2"
   ]
  },
  {
   "cell_type": "markdown",
   "id": "bf4c1296-920c-49bc-a8cc-e82dff35001a",
   "metadata": {},
   "source": [
    "# 10) Tehran 2 Regime Pearson (Based on Median Threshold) Period of 90 Far - 98 Dey/ 50 windows of 100 Records"
   ]
  },
  {
   "cell_type": "code",
   "execution_count": 59,
   "id": "d9367836-923f-4aa3-a8fa-cc2d59b4cd02",
   "metadata": {},
   "outputs": [
    {
     "name": "stdout",
     "output_type": "stream",
     "text": [
      "Number of columns data in our DataFrame is = 46\n",
      "fixed_thr= 0.19810312117851547\n"
     ]
    }
   ],
   "source": [
    "nm = Net_moduls()\n",
    "pearson_network_TwoReg_Ox_1_98_averged = nm.get_network_features_averaged_median(tehran_df, regimes_column= tehran_df_reg.iloc[:-300]['Ox_2'],method='pearson',edges_threshold=200, target_window=100, target_length=50)"
   ]
  },
  {
   "cell_type": "code",
   "execution_count": 60,
   "id": "9d045f03-eadb-4eeb-bb56-05496cd8f388",
   "metadata": {},
   "outputs": [
    {
     "data": {
      "text/html": [
       "<div>\n",
       "<style scoped>\n",
       "    .dataframe tbody tr th:only-of-type {\n",
       "        vertical-align: middle;\n",
       "    }\n",
       "\n",
       "    .dataframe tbody tr th {\n",
       "        vertical-align: top;\n",
       "    }\n",
       "\n",
       "    .dataframe thead th {\n",
       "        text-align: right;\n",
       "    }\n",
       "</style>\n",
       "<table border=\"1\" class=\"dataframe\">\n",
       "  <thead>\n",
       "    <tr style=\"text-align: right;\">\n",
       "      <th></th>\n",
       "      <th>radius</th>\n",
       "      <th>diameter</th>\n",
       "      <th>densities</th>\n",
       "      <th>number_of_edges</th>\n",
       "      <th>average_clustering</th>\n",
       "      <th>avg_degree_centrality</th>\n",
       "      <th>avg_betweenness_centrality</th>\n",
       "      <th>avg_closeness_centrality</th>\n",
       "      <th>average_shortest_path_length</th>\n",
       "    </tr>\n",
       "  </thead>\n",
       "  <tbody>\n",
       "    <tr>\n",
       "      <th>Means</th>\n",
       "      <td>3.000000</td>\n",
       "      <td>5.000000</td>\n",
       "      <td>0.515190</td>\n",
       "      <td>493.720000</td>\n",
       "      <td>0.796834</td>\n",
       "      <td>0.515190</td>\n",
       "      <td>0.011811</td>\n",
       "      <td>0.587828</td>\n",
       "      <td>1.627778</td>\n",
       "    </tr>\n",
       "    <tr>\n",
       "      <th>STDs</th>\n",
       "      <td>0.000000</td>\n",
       "      <td>0.000000</td>\n",
       "      <td>0.024610</td>\n",
       "      <td>15.577378</td>\n",
       "      <td>0.018970</td>\n",
       "      <td>0.024610</td>\n",
       "      <td>0.003055</td>\n",
       "      <td>0.039550</td>\n",
       "      <td>0.000714</td>\n",
       "    </tr>\n",
       "    <tr>\n",
       "      <th>Means</th>\n",
       "      <td>2.880000</td>\n",
       "      <td>4.320000</td>\n",
       "      <td>0.205783</td>\n",
       "      <td>201.240000</td>\n",
       "      <td>0.501942</td>\n",
       "      <td>0.205783</td>\n",
       "      <td>0.026615</td>\n",
       "      <td>0.480622</td>\n",
       "      <td>2.136827</td>\n",
       "    </tr>\n",
       "    <tr>\n",
       "      <th>STDs</th>\n",
       "      <td>0.328261</td>\n",
       "      <td>0.471212</td>\n",
       "      <td>0.015218</td>\n",
       "      <td>16.207280</td>\n",
       "      <td>0.022664</td>\n",
       "      <td>0.015218</td>\n",
       "      <td>0.001755</td>\n",
       "      <td>0.016571</td>\n",
       "      <td>0.073834</td>\n",
       "    </tr>\n",
       "  </tbody>\n",
       "</table>\n",
       "</div>"
      ],
      "text/plain": [
       "         radius  diameter  densities  number_of_edges  average_clustering  \\\n",
       "Means  3.000000  5.000000   0.515190       493.720000            0.796834   \n",
       "STDs   0.000000  0.000000   0.024610        15.577378            0.018970   \n",
       "Means  2.880000  4.320000   0.205783       201.240000            0.501942   \n",
       "STDs   0.328261  0.471212   0.015218        16.207280            0.022664   \n",
       "\n",
       "       avg_degree_centrality  avg_betweenness_centrality  \\\n",
       "Means               0.515190                    0.011811   \n",
       "STDs                0.024610                    0.003055   \n",
       "Means               0.205783                    0.026615   \n",
       "STDs                0.015218                    0.001755   \n",
       "\n",
       "       avg_closeness_centrality  average_shortest_path_length  \n",
       "Means                  0.587828                      1.627778  \n",
       "STDs                   0.039550                      0.000714  \n",
       "Means                  0.480622                      2.136827  \n",
       "STDs                   0.016571                      0.073834  "
      ]
     },
     "execution_count": 60,
     "metadata": {},
     "output_type": "execute_result"
    }
   ],
   "source": [
    "pearson_network_TwoReg_Ox_1_98_averged"
   ]
  },
  {
   "cell_type": "code",
   "execution_count": 61,
   "id": "a26efa78-7c90-4b7f-88df-6a6a01018e7e",
   "metadata": {},
   "outputs": [],
   "source": [
    "pearson_network_TwoReg_Ox_1_98_averged.to_csv('Excels/10.csv')"
   ]
  },
  {
   "cell_type": "markdown",
   "id": "d133756f-a7e5-4066-a977-7c822cd94f08",
   "metadata": {},
   "source": [
    "# 10_1) Tehran 2 Regime ox 1399 Pearson (Based on Median Threshold) Period of 90 Far - 98 Dey/ 50 windows of 100 Records"
   ]
  },
  {
   "cell_type": "code",
   "execution_count": 62,
   "id": "8169a502-b7df-4da9-93d6-fbe860715185",
   "metadata": {
    "tags": []
   },
   "outputs": [
    {
     "name": "stdout",
     "output_type": "stream",
     "text": [
      "Number of columns data in our DataFrame is = 46\n",
      "fixed_thr= 0.19022585750983953\n"
     ]
    },
    {
     "name": "stderr",
     "output_type": "stream",
     "text": [
      "/Library/Frameworks/Python.framework/Versions/3.11/lib/python3.11/site-packages/numpy/core/fromnumeric.py:3432: RuntimeWarning: Mean of empty slice.\n",
      "  return _methods._mean(a, axis=axis, dtype=dtype,\n",
      "/Library/Frameworks/Python.framework/Versions/3.11/lib/python3.11/site-packages/numpy/core/_methods.py:190: RuntimeWarning: invalid value encountered in double_scalars\n",
      "  ret = ret.dtype.type(ret / rcount)\n",
      "/Library/Frameworks/Python.framework/Versions/3.11/lib/python3.11/site-packages/numpy/core/fromnumeric.py:3432: RuntimeWarning: Mean of empty slice.\n",
      "  return _methods._mean(a, axis=axis, dtype=dtype,\n",
      "/Library/Frameworks/Python.framework/Versions/3.11/lib/python3.11/site-packages/numpy/core/_methods.py:190: RuntimeWarning: invalid value encountered in double_scalars\n",
      "  ret = ret.dtype.type(ret / rcount)\n",
      "/Library/Frameworks/Python.framework/Versions/3.11/lib/python3.11/site-packages/numpy/core/fromnumeric.py:3432: RuntimeWarning: Mean of empty slice.\n",
      "  return _methods._mean(a, axis=axis, dtype=dtype,\n",
      "/Library/Frameworks/Python.framework/Versions/3.11/lib/python3.11/site-packages/numpy/core/_methods.py:190: RuntimeWarning: invalid value encountered in double_scalars\n",
      "  ret = ret.dtype.type(ret / rcount)\n",
      "/Library/Frameworks/Python.framework/Versions/3.11/lib/python3.11/site-packages/numpy/core/fromnumeric.py:3432: RuntimeWarning: Mean of empty slice.\n",
      "  return _methods._mean(a, axis=axis, dtype=dtype,\n",
      "/Library/Frameworks/Python.framework/Versions/3.11/lib/python3.11/site-packages/numpy/core/_methods.py:190: RuntimeWarning: invalid value encountered in double_scalars\n",
      "  ret = ret.dtype.type(ret / rcount)\n",
      "/Library/Frameworks/Python.framework/Versions/3.11/lib/python3.11/site-packages/numpy/core/fromnumeric.py:3432: RuntimeWarning: Mean of empty slice.\n",
      "  return _methods._mean(a, axis=axis, dtype=dtype,\n",
      "/Library/Frameworks/Python.framework/Versions/3.11/lib/python3.11/site-packages/numpy/core/_methods.py:190: RuntimeWarning: invalid value encountered in double_scalars\n",
      "  ret = ret.dtype.type(ret / rcount)\n",
      "/Library/Frameworks/Python.framework/Versions/3.11/lib/python3.11/site-packages/numpy/core/fromnumeric.py:3432: RuntimeWarning: Mean of empty slice.\n",
      "  return _methods._mean(a, axis=axis, dtype=dtype,\n",
      "/Library/Frameworks/Python.framework/Versions/3.11/lib/python3.11/site-packages/numpy/core/_methods.py:190: RuntimeWarning: invalid value encountered in double_scalars\n",
      "  ret = ret.dtype.type(ret / rcount)\n",
      "/Library/Frameworks/Python.framework/Versions/3.11/lib/python3.11/site-packages/numpy/core/fromnumeric.py:3432: RuntimeWarning: Mean of empty slice.\n",
      "  return _methods._mean(a, axis=axis, dtype=dtype,\n",
      "/Library/Frameworks/Python.framework/Versions/3.11/lib/python3.11/site-packages/numpy/core/_methods.py:190: RuntimeWarning: invalid value encountered in double_scalars\n",
      "  ret = ret.dtype.type(ret / rcount)\n",
      "/Library/Frameworks/Python.framework/Versions/3.11/lib/python3.11/site-packages/numpy/core/fromnumeric.py:3432: RuntimeWarning: Mean of empty slice.\n",
      "  return _methods._mean(a, axis=axis, dtype=dtype,\n",
      "/Library/Frameworks/Python.framework/Versions/3.11/lib/python3.11/site-packages/numpy/core/_methods.py:190: RuntimeWarning: invalid value encountered in double_scalars\n",
      "  ret = ret.dtype.type(ret / rcount)\n",
      "/Library/Frameworks/Python.framework/Versions/3.11/lib/python3.11/site-packages/numpy/core/fromnumeric.py:3432: RuntimeWarning: Mean of empty slice.\n",
      "  return _methods._mean(a, axis=axis, dtype=dtype,\n",
      "/Library/Frameworks/Python.framework/Versions/3.11/lib/python3.11/site-packages/numpy/core/_methods.py:190: RuntimeWarning: invalid value encountered in double_scalars\n",
      "  ret = ret.dtype.type(ret / rcount)\n",
      "/Library/Frameworks/Python.framework/Versions/3.11/lib/python3.11/site-packages/numpy/core/fromnumeric.py:3432: RuntimeWarning: Mean of empty slice.\n",
      "  return _methods._mean(a, axis=axis, dtype=dtype,\n",
      "/Library/Frameworks/Python.framework/Versions/3.11/lib/python3.11/site-packages/numpy/core/_methods.py:190: RuntimeWarning: invalid value encountered in double_scalars\n",
      "  ret = ret.dtype.type(ret / rcount)\n",
      "/Library/Frameworks/Python.framework/Versions/3.11/lib/python3.11/site-packages/numpy/core/fromnumeric.py:3432: RuntimeWarning: Mean of empty slice.\n",
      "  return _methods._mean(a, axis=axis, dtype=dtype,\n",
      "/Library/Frameworks/Python.framework/Versions/3.11/lib/python3.11/site-packages/numpy/core/_methods.py:190: RuntimeWarning: invalid value encountered in double_scalars\n",
      "  ret = ret.dtype.type(ret / rcount)\n",
      "/Library/Frameworks/Python.framework/Versions/3.11/lib/python3.11/site-packages/numpy/core/fromnumeric.py:3432: RuntimeWarning: Mean of empty slice.\n",
      "  return _methods._mean(a, axis=axis, dtype=dtype,\n",
      "/Library/Frameworks/Python.framework/Versions/3.11/lib/python3.11/site-packages/numpy/core/_methods.py:190: RuntimeWarning: invalid value encountered in double_scalars\n",
      "  ret = ret.dtype.type(ret / rcount)\n",
      "/Library/Frameworks/Python.framework/Versions/3.11/lib/python3.11/site-packages/numpy/core/fromnumeric.py:3432: RuntimeWarning: Mean of empty slice.\n",
      "  return _methods._mean(a, axis=axis, dtype=dtype,\n",
      "/Library/Frameworks/Python.framework/Versions/3.11/lib/python3.11/site-packages/numpy/core/_methods.py:190: RuntimeWarning: invalid value encountered in double_scalars\n",
      "  ret = ret.dtype.type(ret / rcount)\n",
      "/Library/Frameworks/Python.framework/Versions/3.11/lib/python3.11/site-packages/numpy/core/fromnumeric.py:3432: RuntimeWarning: Mean of empty slice.\n",
      "  return _methods._mean(a, axis=axis, dtype=dtype,\n",
      "/Library/Frameworks/Python.framework/Versions/3.11/lib/python3.11/site-packages/numpy/core/_methods.py:190: RuntimeWarning: invalid value encountered in double_scalars\n",
      "  ret = ret.dtype.type(ret / rcount)\n",
      "/Library/Frameworks/Python.framework/Versions/3.11/lib/python3.11/site-packages/numpy/core/fromnumeric.py:3432: RuntimeWarning: Mean of empty slice.\n",
      "  return _methods._mean(a, axis=axis, dtype=dtype,\n",
      "/Library/Frameworks/Python.framework/Versions/3.11/lib/python3.11/site-packages/numpy/core/_methods.py:190: RuntimeWarning: invalid value encountered in double_scalars\n",
      "  ret = ret.dtype.type(ret / rcount)\n",
      "/Library/Frameworks/Python.framework/Versions/3.11/lib/python3.11/site-packages/numpy/core/fromnumeric.py:3432: RuntimeWarning: Mean of empty slice.\n",
      "  return _methods._mean(a, axis=axis, dtype=dtype,\n",
      "/Library/Frameworks/Python.framework/Versions/3.11/lib/python3.11/site-packages/numpy/core/_methods.py:190: RuntimeWarning: invalid value encountered in double_scalars\n",
      "  ret = ret.dtype.type(ret / rcount)\n",
      "/Library/Frameworks/Python.framework/Versions/3.11/lib/python3.11/site-packages/numpy/core/fromnumeric.py:3432: RuntimeWarning: Mean of empty slice.\n",
      "  return _methods._mean(a, axis=axis, dtype=dtype,\n",
      "/Library/Frameworks/Python.framework/Versions/3.11/lib/python3.11/site-packages/numpy/core/_methods.py:190: RuntimeWarning: invalid value encountered in double_scalars\n",
      "  ret = ret.dtype.type(ret / rcount)\n"
     ]
    }
   ],
   "source": [
    "nm = Net_moduls()\n",
    "pearson_network_TwoReg_Ox99_averged = nm.get_network_features_averaged_median(tehran_df[tehran_df.columns[:-1]][-243:], regimes_column= tehran_index_99['ox-2-1year'][-243:].values ,method='pearson',edges_threshold=200, target_window=100, target_length=18)"
   ]
  },
  {
   "cell_type": "code",
   "execution_count": 63,
   "id": "e3cb5802-48a8-4a1f-bcec-f9fa925d113d",
   "metadata": {},
   "outputs": [
    {
     "data": {
      "text/html": [
       "<div>\n",
       "<style scoped>\n",
       "    .dataframe tbody tr th:only-of-type {\n",
       "        vertical-align: middle;\n",
       "    }\n",
       "\n",
       "    .dataframe tbody tr th {\n",
       "        vertical-align: top;\n",
       "    }\n",
       "\n",
       "    .dataframe thead th {\n",
       "        text-align: right;\n",
       "    }\n",
       "</style>\n",
       "<table border=\"1\" class=\"dataframe\">\n",
       "  <thead>\n",
       "    <tr style=\"text-align: right;\">\n",
       "      <th></th>\n",
       "      <th>radius</th>\n",
       "      <th>diameter</th>\n",
       "      <th>densities</th>\n",
       "      <th>number_of_edges</th>\n",
       "      <th>average_clustering</th>\n",
       "      <th>avg_degree_centrality</th>\n",
       "      <th>avg_betweenness_centrality</th>\n",
       "      <th>avg_closeness_centrality</th>\n",
       "      <th>average_shortest_path_length</th>\n",
       "    </tr>\n",
       "  </thead>\n",
       "  <tbody>\n",
       "    <tr>\n",
       "      <th>Means</th>\n",
       "      <td>2.888889</td>\n",
       "      <td>4.888889</td>\n",
       "      <td>0.501383</td>\n",
       "      <td>477.555556</td>\n",
       "      <td>0.748971</td>\n",
       "      <td>0.501383</td>\n",
       "      <td>0.016246</td>\n",
       "      <td>0.628054</td>\n",
       "      <td>1.685064</td>\n",
       "    </tr>\n",
       "    <tr>\n",
       "      <th>STDs</th>\n",
       "      <td>0.323381</td>\n",
       "      <td>0.323381</td>\n",
       "      <td>0.030508</td>\n",
       "      <td>22.871051</td>\n",
       "      <td>0.032175</td>\n",
       "      <td>0.030508</td>\n",
       "      <td>0.000508</td>\n",
       "      <td>0.010167</td>\n",
       "      <td>0.023829</td>\n",
       "    </tr>\n",
       "    <tr>\n",
       "      <th>Means</th>\n",
       "      <td>3.000000</td>\n",
       "      <td>5.000000</td>\n",
       "      <td>0.544280</td>\n",
       "      <td>514.888889</td>\n",
       "      <td>0.813690</td>\n",
       "      <td>0.544280</td>\n",
       "      <td>0.015599</td>\n",
       "      <td>0.643908</td>\n",
       "      <td>1.655156</td>\n",
       "    </tr>\n",
       "    <tr>\n",
       "      <th>STDs</th>\n",
       "      <td>0.000000</td>\n",
       "      <td>0.000000</td>\n",
       "      <td>0.007500</td>\n",
       "      <td>7.095059</td>\n",
       "      <td>0.010705</td>\n",
       "      <td>0.007500</td>\n",
       "      <td>0.000442</td>\n",
       "      <td>0.006177</td>\n",
       "      <td>0.018582</td>\n",
       "    </tr>\n",
       "    <tr>\n",
       "      <th>Means</th>\n",
       "      <td>NaN</td>\n",
       "      <td>NaN</td>\n",
       "      <td>0.000000</td>\n",
       "      <td>0.000000</td>\n",
       "      <td>NaN</td>\n",
       "      <td>NaN</td>\n",
       "      <td>NaN</td>\n",
       "      <td>NaN</td>\n",
       "      <td>NaN</td>\n",
       "    </tr>\n",
       "    <tr>\n",
       "      <th>STDs</th>\n",
       "      <td>NaN</td>\n",
       "      <td>NaN</td>\n",
       "      <td>0.000000</td>\n",
       "      <td>0.000000</td>\n",
       "      <td>NaN</td>\n",
       "      <td>NaN</td>\n",
       "      <td>NaN</td>\n",
       "      <td>NaN</td>\n",
       "      <td>NaN</td>\n",
       "    </tr>\n",
       "  </tbody>\n",
       "</table>\n",
       "</div>"
      ],
      "text/plain": [
       "         radius  diameter  densities  number_of_edges  average_clustering  \\\n",
       "Means  2.888889  4.888889   0.501383       477.555556            0.748971   \n",
       "STDs   0.323381  0.323381   0.030508        22.871051            0.032175   \n",
       "Means  3.000000  5.000000   0.544280       514.888889            0.813690   \n",
       "STDs   0.000000  0.000000   0.007500         7.095059            0.010705   \n",
       "Means       NaN       NaN   0.000000         0.000000                 NaN   \n",
       "STDs        NaN       NaN   0.000000         0.000000                 NaN   \n",
       "\n",
       "       avg_degree_centrality  avg_betweenness_centrality  \\\n",
       "Means               0.501383                    0.016246   \n",
       "STDs                0.030508                    0.000508   \n",
       "Means               0.544280                    0.015599   \n",
       "STDs                0.007500                    0.000442   \n",
       "Means                    NaN                         NaN   \n",
       "STDs                     NaN                         NaN   \n",
       "\n",
       "       avg_closeness_centrality  average_shortest_path_length  \n",
       "Means                  0.628054                      1.685064  \n",
       "STDs                   0.010167                      0.023829  \n",
       "Means                  0.643908                      1.655156  \n",
       "STDs                   0.006177                      0.018582  \n",
       "Means                       NaN                           NaN  \n",
       "STDs                        NaN                           NaN  "
      ]
     },
     "execution_count": 63,
     "metadata": {},
     "output_type": "execute_result"
    }
   ],
   "source": [
    "pearson_network_TwoReg_Ox99_averged"
   ]
  },
  {
   "cell_type": "code",
   "execution_count": null,
   "id": "5491d1d6-1538-4a25-ab17-536b40599bda",
   "metadata": {},
   "outputs": [],
   "source": []
  },
  {
   "cell_type": "markdown",
   "id": "e03a9bbb-a307-42ed-b5a5-f298a7ae675e",
   "metadata": {},
   "source": [
    "# 11) Tehran 2 Regime Pearson (Based on Median Threshold) Period of 90 Far - 00 Far/ 50 windows of 100 Records"
   ]
  },
  {
   "cell_type": "code",
   "execution_count": 64,
   "id": "9354ae69-078a-445a-b0fd-2b5ea161e7b6",
   "metadata": {},
   "outputs": [
    {
     "name": "stdout",
     "output_type": "stream",
     "text": [
      "Number of columns data in our DataFrame is = 46\n",
      "fixed_thr= 0.16113130636813014\n"
     ]
    }
   ],
   "source": [
    "nm = Net_moduls()\n",
    "pearson_network_TwoReg_Ox_90_00_averged = nm.get_network_features_averaged_median(tehran_df_completeDates, regimes_column= tehran_df_reg['Ox_2'],method='pearson',edges_threshold=200, target_window=100, target_length=50)"
   ]
  },
  {
   "cell_type": "code",
   "execution_count": 65,
   "id": "78c6e2d7-14b6-45fb-a621-ce877122f168",
   "metadata": {},
   "outputs": [
    {
     "data": {
      "text/html": [
       "<div>\n",
       "<style scoped>\n",
       "    .dataframe tbody tr th:only-of-type {\n",
       "        vertical-align: middle;\n",
       "    }\n",
       "\n",
       "    .dataframe tbody tr th {\n",
       "        vertical-align: top;\n",
       "    }\n",
       "\n",
       "    .dataframe thead th {\n",
       "        text-align: right;\n",
       "    }\n",
       "</style>\n",
       "<table border=\"1\" class=\"dataframe\">\n",
       "  <thead>\n",
       "    <tr style=\"text-align: right;\">\n",
       "      <th></th>\n",
       "      <th>radius</th>\n",
       "      <th>diameter</th>\n",
       "      <th>densities</th>\n",
       "      <th>number_of_edges</th>\n",
       "      <th>average_clustering</th>\n",
       "      <th>avg_degree_centrality</th>\n",
       "      <th>avg_betweenness_centrality</th>\n",
       "      <th>avg_closeness_centrality</th>\n",
       "      <th>average_shortest_path_length</th>\n",
       "    </tr>\n",
       "  </thead>\n",
       "  <tbody>\n",
       "    <tr>\n",
       "      <th>Means</th>\n",
       "      <td>2.0</td>\n",
       "      <td>3.340000</td>\n",
       "      <td>0.519517</td>\n",
       "      <td>537.700000</td>\n",
       "      <td>0.749068</td>\n",
       "      <td>0.519517</td>\n",
       "      <td>0.011812</td>\n",
       "      <td>0.680515</td>\n",
       "      <td>1.519749</td>\n",
       "    </tr>\n",
       "    <tr>\n",
       "      <th>STDs</th>\n",
       "      <td>0.0</td>\n",
       "      <td>0.478518</td>\n",
       "      <td>0.009666</td>\n",
       "      <td>10.004591</td>\n",
       "      <td>0.025014</td>\n",
       "      <td>0.009666</td>\n",
       "      <td>0.000475</td>\n",
       "      <td>0.007907</td>\n",
       "      <td>0.020895</td>\n",
       "    </tr>\n",
       "    <tr>\n",
       "      <th>Means</th>\n",
       "      <td>2.0</td>\n",
       "      <td>3.580000</td>\n",
       "      <td>0.276727</td>\n",
       "      <td>273.960000</td>\n",
       "      <td>0.507908</td>\n",
       "      <td>0.276727</td>\n",
       "      <td>0.019649</td>\n",
       "      <td>0.551559</td>\n",
       "      <td>1.844909</td>\n",
       "    </tr>\n",
       "    <tr>\n",
       "      <th>STDs</th>\n",
       "      <td>0.0</td>\n",
       "      <td>0.498569</td>\n",
       "      <td>0.019375</td>\n",
       "      <td>19.181156</td>\n",
       "      <td>0.023552</td>\n",
       "      <td>0.019375</td>\n",
       "      <td>0.001125</td>\n",
       "      <td>0.013915</td>\n",
       "      <td>0.048362</td>\n",
       "    </tr>\n",
       "  </tbody>\n",
       "</table>\n",
       "</div>"
      ],
      "text/plain": [
       "       radius  diameter  densities  number_of_edges  average_clustering  \\\n",
       "Means     2.0  3.340000   0.519517       537.700000            0.749068   \n",
       "STDs      0.0  0.478518   0.009666        10.004591            0.025014   \n",
       "Means     2.0  3.580000   0.276727       273.960000            0.507908   \n",
       "STDs      0.0  0.498569   0.019375        19.181156            0.023552   \n",
       "\n",
       "       avg_degree_centrality  avg_betweenness_centrality  \\\n",
       "Means               0.519517                    0.011812   \n",
       "STDs                0.009666                    0.000475   \n",
       "Means               0.276727                    0.019649   \n",
       "STDs                0.019375                    0.001125   \n",
       "\n",
       "       avg_closeness_centrality  average_shortest_path_length  \n",
       "Means                  0.680515                      1.519749  \n",
       "STDs                   0.007907                      0.020895  \n",
       "Means                  0.551559                      1.844909  \n",
       "STDs                   0.013915                      0.048362  "
      ]
     },
     "execution_count": 65,
     "metadata": {},
     "output_type": "execute_result"
    }
   ],
   "source": [
    "pearson_network_TwoReg_Ox_90_00_averged"
   ]
  },
  {
   "cell_type": "code",
   "execution_count": 66,
   "id": "34eaac5a-2cb2-4bfb-b82d-b27c444b736e",
   "metadata": {},
   "outputs": [],
   "source": [
    "pearson_network_TwoReg_Ox_90_00_averged.to_csv('Excels/11.csv')"
   ]
  },
  {
   "cell_type": "markdown",
   "id": "7803ea89-d8ab-4898-a4bd-74b7c396022e",
   "metadata": {},
   "source": [
    "# 12) Tehran 2 Regime Entropy (Based on Median Threshold) Period of 90 Far - 00 Far"
   ]
  },
  {
   "cell_type": "code",
   "execution_count": 67,
   "id": "fabcc32f-520c-4eb5-870c-0a39bf32e7c1",
   "metadata": {},
   "outputs": [],
   "source": [
    "thr12_1 = nm.find_median_entropy_threshold(tehran_df_TwoReg_Ox_1_same_length)\n",
    "thr12_2 = nm.find_median_entropy_threshold(tehran_df_TwoReg_Ox_2_same_length)\n",
    "thr12 = min(thr12_1, thr12_2)"
   ]
  },
  {
   "cell_type": "code",
   "execution_count": 68,
   "id": "e917d130-5da7-44ee-b9b3-696f1b6a3686",
   "metadata": {},
   "outputs": [
    {
     "data": {
      "text/plain": [
       "0.0073855761086624675"
      ]
     },
     "execution_count": 68,
     "metadata": {},
     "output_type": "execute_result"
    }
   ],
   "source": [
    "thr12"
   ]
  },
  {
   "cell_type": "code",
   "execution_count": 69,
   "id": "5a0f68c3-faf6-437e-a6c7-811c30d54f58",
   "metadata": {},
   "outputs": [],
   "source": [
    "nm = Net_moduls()\n",
    "entropy_network_TwoReg_Ox_1 = nm.construct_network(tehran_df_TwoReg_Ox_1_same_length, method='entropy', threshold=thr12)"
   ]
  },
  {
   "cell_type": "code",
   "execution_count": 70,
   "id": "00fee4c3-2d4e-4936-9252-5bf377d24f6c",
   "metadata": {},
   "outputs": [
    {
     "data": {
      "text/html": [
       "<div>\n",
       "<style scoped>\n",
       "    .dataframe tbody tr th:only-of-type {\n",
       "        vertical-align: middle;\n",
       "    }\n",
       "\n",
       "    .dataframe tbody tr th {\n",
       "        vertical-align: top;\n",
       "    }\n",
       "\n",
       "    .dataframe thead th {\n",
       "        text-align: right;\n",
       "    }\n",
       "</style>\n",
       "<table border=\"1\" class=\"dataframe\">\n",
       "  <thead>\n",
       "    <tr style=\"text-align: right;\">\n",
       "      <th></th>\n",
       "      <th>radius</th>\n",
       "      <th>diameter</th>\n",
       "      <th>densities</th>\n",
       "      <th>number_of_edges</th>\n",
       "      <th>average_clustering</th>\n",
       "      <th>avg_degree_centrality</th>\n",
       "      <th>avg_betweenness_centrality</th>\n",
       "      <th>avg_closeness_centrality</th>\n",
       "      <th>average_shortest_path_length</th>\n",
       "    </tr>\n",
       "  </thead>\n",
       "  <tbody>\n",
       "    <tr>\n",
       "      <th>0</th>\n",
       "      <td>2</td>\n",
       "      <td>2</td>\n",
       "      <td>0.825121</td>\n",
       "      <td>854</td>\n",
       "      <td>0.847303</td>\n",
       "      <td>0.825121</td>\n",
       "      <td>0.003975</td>\n",
       "      <td>0.85733</td>\n",
       "      <td>1.174879</td>\n",
       "    </tr>\n",
       "  </tbody>\n",
       "</table>\n",
       "</div>"
      ],
      "text/plain": [
       "   radius  diameter  densities  number_of_edges  average_clustering  \\\n",
       "0       2         2   0.825121              854            0.847303   \n",
       "\n",
       "   avg_degree_centrality  avg_betweenness_centrality  \\\n",
       "0               0.825121                    0.003975   \n",
       "\n",
       "   avg_closeness_centrality  average_shortest_path_length  \n",
       "0                   0.85733                      1.174879  "
      ]
     },
     "execution_count": 70,
     "metadata": {},
     "output_type": "execute_result"
    }
   ],
   "source": [
    "nm.get_network_features(entropy_network_TwoReg_Ox_1)"
   ]
  },
  {
   "cell_type": "code",
   "execution_count": 71,
   "id": "febfa92c-9174-426a-ba14-4776156ec7ba",
   "metadata": {},
   "outputs": [],
   "source": [
    "nm.get_network_features(entropy_network_TwoReg_Ox_1).to_csv('Excels/12_1.csv')"
   ]
  },
  {
   "cell_type": "code",
   "execution_count": 72,
   "id": "642fab9f-25e8-4399-b2e1-38351af0e521",
   "metadata": {},
   "outputs": [
    {
     "data": {
      "text/plain": [
       "array({'M2': 23, 'HOUSE': 24, 'Gold': 25, 'GDP': 26, 'Mansojat': 30, 'CPI': 32, 'GazaeeBejozGhand': 34, 'GhandVaShekar': 34, 'M1': 34, 'Amlakva': 35, 'USD': 36, 'Bimeh': 36, 'KanehayeFelezi': 36, 'Wood': 37, 'SarmayeGozari': 37, 'HamlVaNaghl': 37, 'paper': 37, 'Euro': 38, 'EntesharVaChap': 38, 'FelezateAsasi': 38, 'MashinAlat': 38, 'KanehayeGeyreFelezi': 38, 'SayerMali': 38, 'Daroee': 38, 'Agriculture': 39, 'SayerMadan': 39, 'DastgahayeBargi': 39, 'Shimiyaee': 39, 'KashiVaSeramik': 39, 'Mali': 39, 'ChandReshteSanati': 39, 'khodrosazi': 39, 'Brent Oil': 40, 'Coin': 40, 'EstekrajeNaft': 40, 'AbzaralatePezeshki': 40, 'VasayelErtebati': 40, 'index': 41, 'MahsolateFelezi': 41, 'Bank': 41, 'FaniVaMohandesi': 41, 'FaravardehayeNafti': 42, 'Rayaneh': 42, 'CoalMining': 43, 'Lastic': 43, 'Siman': 43},\n",
       "      dtype=object)"
      ]
     },
     "execution_count": 72,
     "metadata": {},
     "output_type": "execute_result"
    }
   ],
   "source": [
    "b12_1 = dict(nx.degree(entropy_network_TwoReg_Ox_1))\n",
    "b12_1 = np.array(dict(sorted(b12_1.items(), key=lambda item: item[1])))\n",
    "b12_1"
   ]
  },
  {
   "cell_type": "code",
   "execution_count": 73,
   "id": "c362c88e-4d22-4469-ac03-896b73be1120",
   "metadata": {},
   "outputs": [],
   "source": [
    "entropy_network_TwoReg_Ox_2 = nm.construct_network(tehran_df_TwoReg_Ox_2_same_length, method='entropy', threshold=thr12)"
   ]
  },
  {
   "cell_type": "code",
   "execution_count": 74,
   "id": "5e613acc-aea5-4889-929b-581f3d02f8af",
   "metadata": {},
   "outputs": [
    {
     "data": {
      "text/html": [
       "<div>\n",
       "<style scoped>\n",
       "    .dataframe tbody tr th:only-of-type {\n",
       "        vertical-align: middle;\n",
       "    }\n",
       "\n",
       "    .dataframe tbody tr th {\n",
       "        vertical-align: top;\n",
       "    }\n",
       "\n",
       "    .dataframe thead th {\n",
       "        text-align: right;\n",
       "    }\n",
       "</style>\n",
       "<table border=\"1\" class=\"dataframe\">\n",
       "  <thead>\n",
       "    <tr style=\"text-align: right;\">\n",
       "      <th></th>\n",
       "      <th>radius</th>\n",
       "      <th>diameter</th>\n",
       "      <th>densities</th>\n",
       "      <th>number_of_edges</th>\n",
       "      <th>average_clustering</th>\n",
       "      <th>avg_degree_centrality</th>\n",
       "      <th>avg_betweenness_centrality</th>\n",
       "      <th>avg_closeness_centrality</th>\n",
       "      <th>average_shortest_path_length</th>\n",
       "    </tr>\n",
       "  </thead>\n",
       "  <tbody>\n",
       "    <tr>\n",
       "      <th>0</th>\n",
       "      <td>2</td>\n",
       "      <td>2</td>\n",
       "      <td>0.744928</td>\n",
       "      <td>771</td>\n",
       "      <td>0.751852</td>\n",
       "      <td>0.744928</td>\n",
       "      <td>0.005797</td>\n",
       "      <td>0.800143</td>\n",
       "      <td>1.255072</td>\n",
       "    </tr>\n",
       "  </tbody>\n",
       "</table>\n",
       "</div>"
      ],
      "text/plain": [
       "   radius  diameter  densities  number_of_edges  average_clustering  \\\n",
       "0       2         2   0.744928              771            0.751852   \n",
       "\n",
       "   avg_degree_centrality  avg_betweenness_centrality  \\\n",
       "0               0.744928                    0.005797   \n",
       "\n",
       "   avg_closeness_centrality  average_shortest_path_length  \n",
       "0                  0.800143                      1.255072  "
      ]
     },
     "execution_count": 74,
     "metadata": {},
     "output_type": "execute_result"
    }
   ],
   "source": [
    "nm.get_network_features(entropy_network_TwoReg_Ox_2)"
   ]
  },
  {
   "cell_type": "code",
   "execution_count": 75,
   "id": "f5b03906-06b0-42ed-9a21-21f9cbc3ce13",
   "metadata": {},
   "outputs": [],
   "source": [
    "nm.get_network_features(entropy_network_TwoReg_Ox_2).to_csv('Excels/12_2.csv')"
   ]
  },
  {
   "cell_type": "code",
   "execution_count": 76,
   "id": "7dfbf01d-d4e1-448e-8a18-c4b26dfd3fe3",
   "metadata": {},
   "outputs": [
    {
     "data": {
      "text/plain": [
       "array({'GhandVaShekar': 25, 'AbzaralatePezeshki': 28, 'MahsolateFelezi': 28, 'Mali': 28, 'EntesharVaChap': 29, 'index': 30, 'Brent Oil': 30, 'M1': 30, 'CPI': 30, 'Siman': 30, 'khodrosazi': 31, 'GazaeeBejozGhand': 31, 'Bimeh': 31, 'FelezateAsasi': 31, 'KanehayeFelezi': 31, 'M2': 31, 'KashiVaSeramik': 31, 'KanehayeGeyreFelezi': 31, 'VasayelErtebati': 32, 'GDP': 32, 'Bank': 32, 'EstekrajeNaft': 33, 'SarmayeGozari': 33, 'HamlVaNaghl': 33, 'Wood': 34, 'Rayaneh': 34, 'Euro': 35, 'MashinAlat': 35, 'SayerMali': 35, 'Coin': 36, 'Gold': 36, 'SayerMadan': 36, 'Agriculture': 36, 'paper': 36, 'HOUSE': 36, 'USD': 37, 'Amlakva': 37, 'Mansojat': 38, 'Lastic': 38, 'Daroee': 38, 'Shimiyaee': 38, 'FaniVaMohandesi': 38, 'CoalMining': 39, 'DastgahayeBargi': 39, 'FaravardehayeNafti': 40, 'ChandReshteSanati': 40},\n",
       "      dtype=object)"
      ]
     },
     "execution_count": 76,
     "metadata": {},
     "output_type": "execute_result"
    }
   ],
   "source": [
    "b12_2 = dict(nx.degree(entropy_network_TwoReg_Ox_2))\n",
    "b12_2 = np.array(dict(sorted(b12_2.items(), key=lambda item: item[1])))\n",
    "b12_2"
   ]
  },
  {
   "cell_type": "markdown",
   "id": "91ebc55f-ae36-4164-b0a1-e569296a3bf9",
   "metadata": {},
   "source": [
    "# 12.5) Tehran 2 Regime Entropy (Based on Median Threshold) Period of 90 Far - 98 Far"
   ]
  },
  {
   "cell_type": "code",
   "execution_count": 77,
   "id": "a6d404db-1b7d-4cba-89ac-ffc279ef4fb3",
   "metadata": {},
   "outputs": [],
   "source": [
    "thr12_5_1 = nm.find_median_entropy_threshold(tehran_df_TwoReg_Ox_99_1_same_length)\n",
    "thr12_5_2 = nm.find_median_entropy_threshold(tehran_df_TwoReg_Ox_99_2_same_length)\n",
    "thr12_5 = min(thr12_5_1, thr12_5_2)"
   ]
  },
  {
   "cell_type": "code",
   "execution_count": 78,
   "id": "d6ce64f9-3c3f-46ef-9278-7a1cb060f83f",
   "metadata": {},
   "outputs": [
    {
     "data": {
      "text/plain": [
       "0.022007350288035337"
      ]
     },
     "execution_count": 78,
     "metadata": {},
     "output_type": "execute_result"
    }
   ],
   "source": [
    "thr12_5"
   ]
  },
  {
   "cell_type": "code",
   "execution_count": 79,
   "id": "6f974e1e-029a-485d-b977-604b16e85f01",
   "metadata": {},
   "outputs": [],
   "source": [
    "nm = Net_moduls()\n",
    "entropy_network_TwoReg_Ox_98_1 = nm.construct_network(tehran_df_TwoReg_Ox_99_1_same_length, method='entropy', threshold=thr12_5)"
   ]
  },
  {
   "cell_type": "code",
   "execution_count": 80,
   "id": "bc075848-47ff-480e-bbb3-d5e7f65f6a82",
   "metadata": {},
   "outputs": [
    {
     "data": {
      "text/html": [
       "<div>\n",
       "<style scoped>\n",
       "    .dataframe tbody tr th:only-of-type {\n",
       "        vertical-align: middle;\n",
       "    }\n",
       "\n",
       "    .dataframe tbody tr th {\n",
       "        vertical-align: top;\n",
       "    }\n",
       "\n",
       "    .dataframe thead th {\n",
       "        text-align: right;\n",
       "    }\n",
       "</style>\n",
       "<table border=\"1\" class=\"dataframe\">\n",
       "  <thead>\n",
       "    <tr style=\"text-align: right;\">\n",
       "      <th></th>\n",
       "      <th>radius</th>\n",
       "      <th>diameter</th>\n",
       "      <th>densities</th>\n",
       "      <th>number_of_edges</th>\n",
       "      <th>average_clustering</th>\n",
       "      <th>avg_degree_centrality</th>\n",
       "      <th>avg_betweenness_centrality</th>\n",
       "      <th>avg_closeness_centrality</th>\n",
       "      <th>average_shortest_path_length</th>\n",
       "    </tr>\n",
       "  </thead>\n",
       "  <tbody>\n",
       "    <tr>\n",
       "      <th>0</th>\n",
       "      <td>2</td>\n",
       "      <td>2</td>\n",
       "      <td>0.686957</td>\n",
       "      <td>711</td>\n",
       "      <td>0.758536</td>\n",
       "      <td>0.686957</td>\n",
       "      <td>0.007115</td>\n",
       "      <td>0.769778</td>\n",
       "      <td>1.313043</td>\n",
       "    </tr>\n",
       "  </tbody>\n",
       "</table>\n",
       "</div>"
      ],
      "text/plain": [
       "   radius  diameter  densities  number_of_edges  average_clustering  \\\n",
       "0       2         2   0.686957              711            0.758536   \n",
       "\n",
       "   avg_degree_centrality  avg_betweenness_centrality  \\\n",
       "0               0.686957                    0.007115   \n",
       "\n",
       "   avg_closeness_centrality  average_shortest_path_length  \n",
       "0                  0.769778                      1.313043  "
      ]
     },
     "execution_count": 80,
     "metadata": {},
     "output_type": "execute_result"
    }
   ],
   "source": [
    "nm.get_network_features(entropy_network_TwoReg_Ox_98_1)"
   ]
  },
  {
   "cell_type": "code",
   "execution_count": 81,
   "id": "3a87ab53-83c5-461e-b3d4-703ffe55847d",
   "metadata": {},
   "outputs": [],
   "source": [
    "nm.get_network_features(entropy_network_TwoReg_Ox_98_1).to_csv('Excels/12.5_1.csv')"
   ]
  },
  {
   "cell_type": "code",
   "execution_count": 82,
   "id": "b13a4d99-6b11-45d9-bd54-041966fc997e",
   "metadata": {},
   "outputs": [
    {
     "data": {
      "text/plain": [
       "array({'AbzaralatePezeshki': 6, 'GDP': 16, 'Gold': 20, 'USD': 22, 'Euro': 22, 'Mansojat': 23, 'CPI': 23, 'EstekrajeNaft': 26, 'VasayelErtebati': 26, 'GhandVaShekar': 27, 'Siman': 28, 'M1': 28, 'Brent Oil': 29, 'Agriculture': 30, 'ChandReshteSanati': 30, 'Bank': 30, 'EntesharVaChap': 31, 'HamlVaNaghl': 31, 'paper': 31, 'FaravardehayeNafti': 31, 'CoalMining': 32, 'MashinAlat': 32, 'Coin': 32, 'Daroee': 33, 'KanehayeFelezi': 33, 'FelezateAsasi': 33, 'Wood': 33, 'index': 34, 'MahsolateFelezi': 34, 'SayerMadan': 34, 'Lastic': 34, 'Amlakva': 34, 'FaniVaMohandesi': 34, 'khodrosazi': 34, 'GazaeeBejozGhand': 35, 'SarmayeGozari': 35, 'Mali': 35, 'Rayaneh': 36, 'KanehayeGeyreFelezi': 36, 'M2': 36, 'SayerMali': 37, 'Shimiyaee': 38, 'Bimeh': 38, 'DastgahayeBargi': 39, 'HOUSE': 40, 'KashiVaSeramik': 41},\n",
       "      dtype=object)"
      ]
     },
     "execution_count": 82,
     "metadata": {},
     "output_type": "execute_result"
    }
   ],
   "source": [
    "b12_5_1 = dict(nx.degree(entropy_network_TwoReg_Ox_98_1))\n",
    "b12_5_1 = np.array(dict(sorted(b12_5_1.items(), key=lambda item: item[1])))\n",
    "b12_5_1"
   ]
  },
  {
   "cell_type": "code",
   "execution_count": 83,
   "id": "577e0ce2-bd9f-4e6f-9f2d-eda29c478555",
   "metadata": {},
   "outputs": [],
   "source": [
    "entropy_network_TwoReg_Ox_98_2 = nm.construct_network(tehran_df_TwoReg_Ox_99_2_same_length, method='entropy', threshold=thr12_5)"
   ]
  },
  {
   "cell_type": "code",
   "execution_count": 84,
   "id": "915dbabe-8bd5-4a7e-a561-171f9e11a282",
   "metadata": {},
   "outputs": [
    {
     "data": {
      "text/html": [
       "<div>\n",
       "<style scoped>\n",
       "    .dataframe tbody tr th:only-of-type {\n",
       "        vertical-align: middle;\n",
       "    }\n",
       "\n",
       "    .dataframe tbody tr th {\n",
       "        vertical-align: top;\n",
       "    }\n",
       "\n",
       "    .dataframe thead th {\n",
       "        text-align: right;\n",
       "    }\n",
       "</style>\n",
       "<table border=\"1\" class=\"dataframe\">\n",
       "  <thead>\n",
       "    <tr style=\"text-align: right;\">\n",
       "      <th></th>\n",
       "      <th>radius</th>\n",
       "      <th>diameter</th>\n",
       "      <th>densities</th>\n",
       "      <th>number_of_edges</th>\n",
       "      <th>average_clustering</th>\n",
       "      <th>avg_degree_centrality</th>\n",
       "      <th>avg_betweenness_centrality</th>\n",
       "      <th>avg_closeness_centrality</th>\n",
       "      <th>average_shortest_path_length</th>\n",
       "    </tr>\n",
       "  </thead>\n",
       "  <tbody>\n",
       "    <tr>\n",
       "      <th>0</th>\n",
       "      <td>2</td>\n",
       "      <td>2</td>\n",
       "      <td>0.792929</td>\n",
       "      <td>785</td>\n",
       "      <td>0.822576</td>\n",
       "      <td>0.792929</td>\n",
       "      <td>0.004816</td>\n",
       "      <td>0.835203</td>\n",
       "      <td>1.207071</td>\n",
       "    </tr>\n",
       "  </tbody>\n",
       "</table>\n",
       "</div>"
      ],
      "text/plain": [
       "   radius  diameter  densities  number_of_edges  average_clustering  \\\n",
       "0       2         2   0.792929              785            0.822576   \n",
       "\n",
       "   avg_degree_centrality  avg_betweenness_centrality  \\\n",
       "0               0.792929                    0.004816   \n",
       "\n",
       "   avg_closeness_centrality  average_shortest_path_length  \n",
       "0                  0.835203                      1.207071  "
      ]
     },
     "execution_count": 84,
     "metadata": {},
     "output_type": "execute_result"
    }
   ],
   "source": [
    "nm.get_network_features(entropy_network_TwoReg_Ox_98_2)"
   ]
  },
  {
   "cell_type": "code",
   "execution_count": 85,
   "id": "366121e1-e093-4b6f-96c5-dd5d856316b2",
   "metadata": {},
   "outputs": [],
   "source": [
    "nm.get_network_features(entropy_network_TwoReg_Ox_98_2).to_csv('Excels/12.5_2.csv')"
   ]
  },
  {
   "cell_type": "code",
   "execution_count": 86,
   "id": "92027bae-bdf9-4aca-89f6-0e70f4ce7fa7",
   "metadata": {},
   "outputs": [
    {
     "data": {
      "text/plain": [
       "array({'Mansojat': 19, 'FelezateAsasi': 23, 'Brent Oil': 24, 'USD': 28, 'MashinAlat': 28, 'KashiVaSeramik': 28, 'Euro': 29, 'Lastic': 30, 'paper': 31, 'EntesharVaChap': 31, 'Wood': 32, 'index': 34, 'M1': 34, 'Agriculture': 34, 'Coin': 34, 'FaravardehayeNafti': 35, 'Siman': 35, 'Bimeh': 35, 'Bank': 35, 'KanehayeFelezi': 35, 'Gold': 35, 'VasayelErtebati': 35, 'M2': 36, 'MahsolateFelezi': 36, 'DastgahayeBargi': 36, 'FaniVaMohandesi': 36, 'HOUSE': 37, 'Shimiyaee': 37, 'CPI': 38, 'GhandVaShekar': 38, 'ChandReshteSanati': 38, 'GazaeeBejozGhand': 38, 'Mali': 38, 'GDP': 38, 'SayerMadan': 39, 'Amlakva': 39, 'Rayaneh': 39, 'Daroee': 39, 'EstekrajeNaft': 40, 'SarmayeGozari': 40, 'HamlVaNaghl': 40, 'khodrosazi': 40, 'CoalMining': 41, 'SayerMali': 41, 'KanehayeGeyreFelezi': 42},\n",
       "      dtype=object)"
      ]
     },
     "execution_count": 86,
     "metadata": {},
     "output_type": "execute_result"
    }
   ],
   "source": [
    "b12_5_2 = dict(nx.degree(entropy_network_TwoReg_Ox_98_2))\n",
    "b12_5_2 = np.array(dict(sorted(b12_5_2.items(), key=lambda item: item[1])))\n",
    "b12_5_2"
   ]
  },
  {
   "cell_type": "markdown",
   "id": "f845333c-ad4d-4556-8463-5e90c6e650c3",
   "metadata": {},
   "source": [
    "# 12.1) Tehran 2 Regime ox 1399 Entropy (Based on Median Threshold)"
   ]
  },
  {
   "cell_type": "code",
   "execution_count": 80,
   "id": "46a58852-c23c-4bfb-a330-5709d861c465",
   "metadata": {},
   "outputs": [],
   "source": [
    "thr12_99_1 = nm.find_median_entropy_threshold(tehran_df_TwoReg_Ox_99_1_same_length)\n",
    "thr12_99_2 = nm.find_median_entropy_threshold(tehran_df_TwoReg_Ox_99_2_same_length)\n",
    "thr12_99 = min(thr12_99_1, thr12_99_2)"
   ]
  },
  {
   "cell_type": "code",
   "execution_count": 81,
   "id": "adbe54cc-0cc3-4760-b706-698cb9236ef1",
   "metadata": {},
   "outputs": [],
   "source": [
    "nm = Net_moduls()\n",
    "entropy_network_TwoReg_Ox_99_1 = nm.construct_network(tehran_df_TwoReg_Ox_99_1_same_length, method='entropy', threshold=thr12_99)"
   ]
  },
  {
   "cell_type": "code",
   "execution_count": 82,
   "id": "9bee543e-7117-4344-b7e5-ea11437107ae",
   "metadata": {},
   "outputs": [
    {
     "data": {
      "text/html": [
       "<div>\n",
       "<style scoped>\n",
       "    .dataframe tbody tr th:only-of-type {\n",
       "        vertical-align: middle;\n",
       "    }\n",
       "\n",
       "    .dataframe tbody tr th {\n",
       "        vertical-align: top;\n",
       "    }\n",
       "\n",
       "    .dataframe thead th {\n",
       "        text-align: right;\n",
       "    }\n",
       "</style>\n",
       "<table border=\"1\" class=\"dataframe\">\n",
       "  <thead>\n",
       "    <tr style=\"text-align: right;\">\n",
       "      <th></th>\n",
       "      <th>radius</th>\n",
       "      <th>diameter</th>\n",
       "      <th>densities</th>\n",
       "      <th>number_of_edges</th>\n",
       "      <th>average_clustering</th>\n",
       "      <th>avg_degree_centrality</th>\n",
       "      <th>avg_betweenness_centrality</th>\n",
       "      <th>avg_closeness_centrality</th>\n",
       "      <th>average_shortest_path_length</th>\n",
       "    </tr>\n",
       "  </thead>\n",
       "  <tbody>\n",
       "    <tr>\n",
       "      <th>0</th>\n",
       "      <td>2</td>\n",
       "      <td>2</td>\n",
       "      <td>0.690821</td>\n",
       "      <td>715</td>\n",
       "      <td>0.751345</td>\n",
       "      <td>0.690821</td>\n",
       "      <td>0.007027</td>\n",
       "      <td>0.772909</td>\n",
       "      <td>1.309179</td>\n",
       "    </tr>\n",
       "  </tbody>\n",
       "</table>\n",
       "</div>"
      ],
      "text/plain": [
       "   radius  diameter  densities  number_of_edges  average_clustering  \\\n",
       "0       2         2   0.690821              715            0.751345   \n",
       "\n",
       "   avg_degree_centrality  avg_betweenness_centrality  \\\n",
       "0               0.690821                    0.007027   \n",
       "\n",
       "   avg_closeness_centrality  average_shortest_path_length  \n",
       "0                  0.772909                      1.309179  "
      ]
     },
     "execution_count": 82,
     "metadata": {},
     "output_type": "execute_result"
    }
   ],
   "source": [
    "nm.get_network_features(entropy_network_TwoReg_Ox_99_1)"
   ]
  },
  {
   "cell_type": "code",
   "execution_count": 83,
   "id": "cf48bda0-4b26-4222-8ead-5c3b4a5a0aa5",
   "metadata": {},
   "outputs": [
    {
     "data": {
      "text/plain": [
       "array({'AbzaralatePezeshki': 8, 'GhandVaShekar': 19, 'Euro': 19, 'M1': 20, 'GDP': 20, 'Mansojat': 20, 'M2': 21, 'Gold': 24, 'CPI': 24, 'USD': 25, 'SayerMadan': 28, 'EstekrajeNaft': 28, 'HamlVaNaghl': 29, 'Coin': 29, 'khodrosazi': 30, 'Bank': 30, 'HOUSE': 31, 'CoalMining': 32, 'Wood': 32, 'DastgahayeBargi': 32, 'paper': 33, 'Daroee': 33, 'FaniVaMohandesi': 33, 'index': 34, 'Agriculture': 34, 'Siman': 34, 'Bimeh': 34, 'VasayelErtebati': 34, 'FaravardehayeNafti': 35, 'MashinAlat': 35, 'SayerMali': 35, 'ChandReshteSanati': 36, 'KashiVaSeramik': 36, 'KanehayeGeyreFelezi': 36, 'Amlakva': 36, 'Mali': 36, 'Brent Oil': 36, 'MahsolateFelezi': 36, 'MahsolateFelezi.1': 36, 'Lastic': 37, 'GazaeeBejozGhand': 37, 'Rayaneh': 38, 'EntesharVaChap': 38, 'SarmayeGozari': 39, 'FelezateAsasi': 39, 'Shimiyaee': 39},\n",
       "      dtype=object)"
      ]
     },
     "execution_count": 83,
     "metadata": {},
     "output_type": "execute_result"
    }
   ],
   "source": [
    "b12_1_1 = dict(nx.degree(entropy_network_TwoReg_Ox_99_1))\n",
    "b12_1_1 = np.array(dict(sorted(b12_1_1.items(), key=lambda item: item[1])))\n",
    "b12_1_1"
   ]
  },
  {
   "cell_type": "code",
   "execution_count": 84,
   "id": "4abe65d6-d01a-4c9d-9ba0-6dd240ad1c71",
   "metadata": {},
   "outputs": [],
   "source": [
    "nm = Net_moduls()\n",
    "entropy_network_TwoReg_Ox_99_2 = nm.construct_network(tehran_df_TwoReg_Ox_99_2_same_length, method='entropy', threshold=thr12_99)"
   ]
  },
  {
   "cell_type": "code",
   "execution_count": 85,
   "id": "b6b1aeb3-2da1-40d5-b889-0b01eccbf572",
   "metadata": {},
   "outputs": [
    {
     "data": {
      "text/html": [
       "<div>\n",
       "<style scoped>\n",
       "    .dataframe tbody tr th:only-of-type {\n",
       "        vertical-align: middle;\n",
       "    }\n",
       "\n",
       "    .dataframe tbody tr th {\n",
       "        vertical-align: top;\n",
       "    }\n",
       "\n",
       "    .dataframe thead th {\n",
       "        text-align: right;\n",
       "    }\n",
       "</style>\n",
       "<table border=\"1\" class=\"dataframe\">\n",
       "  <thead>\n",
       "    <tr style=\"text-align: right;\">\n",
       "      <th></th>\n",
       "      <th>radius</th>\n",
       "      <th>diameter</th>\n",
       "      <th>densities</th>\n",
       "      <th>number_of_edges</th>\n",
       "      <th>average_clustering</th>\n",
       "      <th>avg_degree_centrality</th>\n",
       "      <th>avg_betweenness_centrality</th>\n",
       "      <th>avg_closeness_centrality</th>\n",
       "      <th>average_shortest_path_length</th>\n",
       "    </tr>\n",
       "  </thead>\n",
       "  <tbody>\n",
       "    <tr>\n",
       "      <th>0</th>\n",
       "      <td>2</td>\n",
       "      <td>2</td>\n",
       "      <td>0.739394</td>\n",
       "      <td>732</td>\n",
       "      <td>0.783059</td>\n",
       "      <td>0.739394</td>\n",
       "      <td>0.006061</td>\n",
       "      <td>0.801149</td>\n",
       "      <td>1.260606</td>\n",
       "    </tr>\n",
       "  </tbody>\n",
       "</table>\n",
       "</div>"
      ],
      "text/plain": [
       "   radius  diameter  densities  number_of_edges  average_clustering  \\\n",
       "0       2         2   0.739394              732            0.783059   \n",
       "\n",
       "   avg_degree_centrality  avg_betweenness_centrality  \\\n",
       "0               0.739394                    0.006061   \n",
       "\n",
       "   avg_closeness_centrality  average_shortest_path_length  \n",
       "0                  0.801149                      1.260606  "
      ]
     },
     "execution_count": 85,
     "metadata": {},
     "output_type": "execute_result"
    }
   ],
   "source": [
    "nm.get_network_features(entropy_network_TwoReg_Ox_99_2)"
   ]
  },
  {
   "cell_type": "code",
   "execution_count": 86,
   "id": "33538b72-2566-4938-8702-9fe792cba1b1",
   "metadata": {},
   "outputs": [
    {
     "data": {
      "text/plain": [
       "array({'Mansojat': 19, 'Brent Oil': 20, 'FaravardehayeNafti': 22, 'Coin': 23, 'Euro': 23, 'FelezateAsasi': 24, 'HOUSE': 25, 'KashiVaSeramik': 26, 'USD': 28, 'Wood': 28, 'Bank': 29, 'M1': 30, 'paper': 30, 'Lastic': 30, 'M2': 30, 'GDP': 31, 'CPI': 32, 'Shimiyaee': 32, 'FaniVaMohandesi': 32, 'SayerMadan': 33, 'VasayelErtebati': 33, 'EntesharVaChap': 33, 'GazaeeBejozGhand': 34, 'Daroee': 34, 'Bimeh': 34, 'Gold': 34, 'GhandVaShekar': 34, 'ChandReshteSanati': 35, 'index': 36, 'Agriculture': 36, 'SarmayeGozari': 36, 'CoalMining': 37, 'EstekrajeNaft': 37, 'khodrosazi': 37, 'MashinAlat': 38, 'DastgahayeBargi': 38, 'SayerMali': 38, 'Mali': 38, 'MahsolateFelezi': 39, 'MahsolateFelezi.1': 39, 'Siman': 39, 'KanehayeGeyreFelezi': 39, 'Amlakva': 39, 'Rayaneh': 39, 'HamlVaNaghl': 41},\n",
       "      dtype=object)"
      ]
     },
     "execution_count": 86,
     "metadata": {},
     "output_type": "execute_result"
    }
   ],
   "source": [
    "b12_1_2 = dict(nx.degree(entropy_network_TwoReg_Ox_99_2))\n",
    "b12_1_2 = np.array(dict(sorted(b12_1_2.items(), key=lambda item: item[1])))\n",
    "b12_1_2"
   ]
  },
  {
   "cell_type": "markdown",
   "id": "58398aa8-5b08-425d-9eaf-3af5bdfb4e1c",
   "metadata": {
    "tags": []
   },
   "source": [
    "# 13) Tehran 2 Regime Entropy (Based on Median Threshold) Period of 90 Far - 98 Dey/ Last 100 Records"
   ]
  },
  {
   "cell_type": "code",
   "execution_count": 87,
   "id": "433b42d9-a3c4-4fe4-af3d-40f40defc125",
   "metadata": {},
   "outputs": [],
   "source": [
    "thr13_1 = nm.find_median_entropy_threshold(tehran_df_TwoReg_Ox_1_same_length_98[-100:])\n",
    "thr13_2 = nm.find_median_entropy_threshold(tehran_df_TwoReg_Ox_2_same_length_98[-100:])\n",
    "thr13 = min(thr13_1, thr13_2)"
   ]
  },
  {
   "cell_type": "code",
   "execution_count": 88,
   "id": "f4024870-f6ee-4f35-ae67-530f2cc13165",
   "metadata": {},
   "outputs": [
    {
     "data": {
      "text/plain": [
       "0.025766084373805787"
      ]
     },
     "execution_count": 88,
     "metadata": {},
     "output_type": "execute_result"
    }
   ],
   "source": [
    "thr13"
   ]
  },
  {
   "cell_type": "code",
   "execution_count": 89,
   "id": "445bf3df-35c6-45d0-bdde-addb1433db2d",
   "metadata": {},
   "outputs": [],
   "source": [
    "entropy_network_TwoReg_Ox_1_98_last100 = nm.construct_network(tehran_df_TwoReg_Ox_1_same_length_98[-100:], method='entropy', threshold=thr13)"
   ]
  },
  {
   "cell_type": "code",
   "execution_count": 90,
   "id": "b3be7225-00be-4a90-a927-34df1c3441af",
   "metadata": {},
   "outputs": [
    {
     "data": {
      "text/html": [
       "<div>\n",
       "<style scoped>\n",
       "    .dataframe tbody tr th:only-of-type {\n",
       "        vertical-align: middle;\n",
       "    }\n",
       "\n",
       "    .dataframe tbody tr th {\n",
       "        vertical-align: top;\n",
       "    }\n",
       "\n",
       "    .dataframe thead th {\n",
       "        text-align: right;\n",
       "    }\n",
       "</style>\n",
       "<table border=\"1\" class=\"dataframe\">\n",
       "  <thead>\n",
       "    <tr style=\"text-align: right;\">\n",
       "      <th></th>\n",
       "      <th>radius</th>\n",
       "      <th>diameter</th>\n",
       "      <th>densities</th>\n",
       "      <th>number_of_edges</th>\n",
       "      <th>average_clustering</th>\n",
       "      <th>avg_degree_centrality</th>\n",
       "      <th>avg_betweenness_centrality</th>\n",
       "      <th>avg_closeness_centrality</th>\n",
       "      <th>average_shortest_path_length</th>\n",
       "    </tr>\n",
       "  </thead>\n",
       "  <tbody>\n",
       "    <tr>\n",
       "      <th>0</th>\n",
       "      <td>2</td>\n",
       "      <td>2</td>\n",
       "      <td>0.785859</td>\n",
       "      <td>778</td>\n",
       "      <td>0.808699</td>\n",
       "      <td>0.785859</td>\n",
       "      <td>0.00498</td>\n",
       "      <td>0.829914</td>\n",
       "      <td>1.214141</td>\n",
       "    </tr>\n",
       "  </tbody>\n",
       "</table>\n",
       "</div>"
      ],
      "text/plain": [
       "   radius  diameter  densities  number_of_edges  average_clustering  \\\n",
       "0       2         2   0.785859              778            0.808699   \n",
       "\n",
       "   avg_degree_centrality  avg_betweenness_centrality  \\\n",
       "0               0.785859                     0.00498   \n",
       "\n",
       "   avg_closeness_centrality  average_shortest_path_length  \n",
       "0                  0.829914                      1.214141  "
      ]
     },
     "execution_count": 90,
     "metadata": {},
     "output_type": "execute_result"
    }
   ],
   "source": [
    "nm.get_network_features(entropy_network_TwoReg_Ox_1_98_last100)"
   ]
  },
  {
   "cell_type": "code",
   "execution_count": 91,
   "id": "67291beb-6800-44b8-97b8-a4d1a6262ff7",
   "metadata": {},
   "outputs": [],
   "source": [
    "nm.get_network_features(entropy_network_TwoReg_Ox_1_98_last100).to_csv('Excels/13_1.csv')"
   ]
  },
  {
   "cell_type": "code",
   "execution_count": 92,
   "id": "93db88d8-b19e-4fb2-ba8f-d2201a744482",
   "metadata": {},
   "outputs": [
    {
     "data": {
      "text/plain": [
       "array({'Brent Oil': 24, 'CPI': 24, 'Gold': 25, 'HOUSE': 27, 'M2': 28, 'Coin': 28, 'USD': 29, 'Euro': 30, 'M1': 30, 'EntesharVaChap': 30, 'khodrosazi': 30, 'SarmayeGozari': 31, 'GDP': 32, 'Bank': 32, 'Mali': 32, 'index': 34, 'Mansojat': 34, 'ChandReshteSanati': 34, 'Daroee': 34, 'KanehayeFelezi': 34, 'SayerMali': 35, 'FelezateAsasi': 35, 'Lastic': 36, 'HamlVaNaghl': 36, 'Siman': 36, 'DastgahayeBargi': 37, 'FaniVaMohandesi': 37, 'Agriculture': 37, 'CoalMining': 38, 'paper': 38, 'FaravardehayeNafti': 38, 'Bimeh': 38, 'GazaeeBejozGhand': 38, 'Shimiyaee': 38, 'KanehayeGeyreFelezi': 38, 'Amlakva': 38, 'MahsolateFelezi': 38, 'Wood': 39, 'EstekrajeNaft': 39, 'SayerMadan': 40, 'GhandVaShekar': 40, 'MashinAlat': 41, 'KashiVaSeramik': 41, 'Rayaneh': 41, 'VasayelErtebati': 42},\n",
       "      dtype=object)"
      ]
     },
     "execution_count": 92,
     "metadata": {},
     "output_type": "execute_result"
    }
   ],
   "source": [
    "b13_1 = dict(nx.degree(entropy_network_TwoReg_Ox_1_98_last100))\n",
    "b13_1 = np.array(dict(sorted(b13_1.items(), key=lambda item: item[1])))\n",
    "b13_1"
   ]
  },
  {
   "cell_type": "code",
   "execution_count": 93,
   "id": "22d83b8d-94c6-463a-90c7-bda6e348b673",
   "metadata": {},
   "outputs": [],
   "source": [
    "entropy_network_TwoReg_Ox_2_98_last100 = nm.construct_network(tehran_df_TwoReg_Ox_2_same_length_98[-100:], method='entropy', threshold=thr13)"
   ]
  },
  {
   "cell_type": "code",
   "execution_count": 94,
   "id": "c27937f9-e48f-4a7c-b9f2-ae5032a76c67",
   "metadata": {},
   "outputs": [
    {
     "data": {
      "text/html": [
       "<div>\n",
       "<style scoped>\n",
       "    .dataframe tbody tr th:only-of-type {\n",
       "        vertical-align: middle;\n",
       "    }\n",
       "\n",
       "    .dataframe tbody tr th {\n",
       "        vertical-align: top;\n",
       "    }\n",
       "\n",
       "    .dataframe thead th {\n",
       "        text-align: right;\n",
       "    }\n",
       "</style>\n",
       "<table border=\"1\" class=\"dataframe\">\n",
       "  <thead>\n",
       "    <tr style=\"text-align: right;\">\n",
       "      <th></th>\n",
       "      <th>radius</th>\n",
       "      <th>diameter</th>\n",
       "      <th>densities</th>\n",
       "      <th>number_of_edges</th>\n",
       "      <th>average_clustering</th>\n",
       "      <th>avg_degree_centrality</th>\n",
       "      <th>avg_betweenness_centrality</th>\n",
       "      <th>avg_closeness_centrality</th>\n",
       "      <th>average_shortest_path_length</th>\n",
       "    </tr>\n",
       "  </thead>\n",
       "  <tbody>\n",
       "    <tr>\n",
       "      <th>0</th>\n",
       "      <td>2</td>\n",
       "      <td>2</td>\n",
       "      <td>0.690909</td>\n",
       "      <td>684</td>\n",
       "      <td>0.730775</td>\n",
       "      <td>0.690909</td>\n",
       "      <td>0.007188</td>\n",
       "      <td>0.769403</td>\n",
       "      <td>1.309091</td>\n",
       "    </tr>\n",
       "  </tbody>\n",
       "</table>\n",
       "</div>"
      ],
      "text/plain": [
       "   radius  diameter  densities  number_of_edges  average_clustering  \\\n",
       "0       2         2   0.690909              684            0.730775   \n",
       "\n",
       "   avg_degree_centrality  avg_betweenness_centrality  \\\n",
       "0               0.690909                    0.007188   \n",
       "\n",
       "   avg_closeness_centrality  average_shortest_path_length  \n",
       "0                  0.769403                      1.309091  "
      ]
     },
     "execution_count": 94,
     "metadata": {},
     "output_type": "execute_result"
    }
   ],
   "source": [
    "nm.get_network_features(entropy_network_TwoReg_Ox_2_98_last100)"
   ]
  },
  {
   "cell_type": "code",
   "execution_count": 95,
   "id": "9b84a277-8bc6-48fc-9daa-6300f9d06a18",
   "metadata": {},
   "outputs": [],
   "source": [
    "nm.get_network_features(entropy_network_TwoReg_Ox_2_98_last100).to_csv('Excels/13_2.csv')"
   ]
  },
  {
   "cell_type": "code",
   "execution_count": 96,
   "id": "fc81d210-65ce-4e7a-9eba-9e249a22e66a",
   "metadata": {},
   "outputs": [
    {
     "data": {
      "text/plain": [
       "array({'CPI': 15, 'EstekrajeNaft': 20, 'GDP': 20, 'FaniVaMohandesi': 24, 'CoalMining': 24, 'Mali': 25, 'Wood': 25, 'Brent Oil': 26, 'HamlVaNaghl': 26, 'Lastic': 26, 'FaravardehayeNafti': 26, 'Coin': 27, 'Bank': 28, 'USD': 28, 'SayerMali': 28, 'GhandVaShekar': 30, 'DastgahayeBargi': 30, 'Amlakva': 30, 'paper': 30, 'index': 31, 'MahsolateFelezi': 31, 'HOUSE': 31, 'Mansojat': 31, 'KanehayeGeyreFelezi': 31, 'Euro': 32, 'M1': 32, 'Bimeh': 32, 'SarmayeGozari': 33, 'KanehayeFelezi': 33, 'EntesharVaChap': 33, 'VasayelErtebati': 33, 'ChandReshteSanati': 34, 'Shimiyaee': 34, 'Daroee': 34, 'MashinAlat': 34, 'GazaeeBejozGhand': 34, 'M2': 35, 'Gold': 35, 'Rayaneh': 35, 'Siman': 36, 'KashiVaSeramik': 36, 'SayerMadan': 37, 'khodrosazi': 37, 'Agriculture': 37, 'FelezateAsasi': 39},\n",
       "      dtype=object)"
      ]
     },
     "execution_count": 96,
     "metadata": {},
     "output_type": "execute_result"
    }
   ],
   "source": [
    "b13_2 = dict(nx.degree(entropy_network_TwoReg_Ox_2_98_last100))\n",
    "b13_2 = np.array(dict(sorted(b13_2.items(), key=lambda item: item[1])))\n",
    "b13_2"
   ]
  },
  {
   "cell_type": "markdown",
   "id": "26bcd8bd-8dd9-41bf-aa24-05a2dec22301",
   "metadata": {},
   "source": [
    "# 14) Tehran 2 Regime Entropy (Based on Median Threshold) Period of 90 Far - 98 Dey/ 50 windows of 100 Records"
   ]
  },
  {
   "cell_type": "code",
   "execution_count": 115,
   "id": "69589227-2399-4583-9bf4-8d0bbfcbd9ff",
   "metadata": {},
   "outputs": [
    {
     "name": "stdout",
     "output_type": "stream",
     "text": [
      "Number of columns data in our DataFrame is = 46\n",
      "fixed_thr= 0.02817851828822495\n"
     ]
    }
   ],
   "source": [
    "nm = Net_moduls()\n",
    "entropy_network_TwoReg_Ox_90_98_averged = nm.get_network_features_averaged_median(tehran_df[tehran_df.columns[:46]], \\\n",
    "                                                                                  regimes_column= tehran_df_reg_98['Ox_2'],\\\n",
    "                                                                                  method='entropy',edges_threshold=200, \\\n",
    "                                                                                  target_window=100, \\\n",
    "                                                                                  target_length=50)"
   ]
  },
  {
   "cell_type": "code",
   "execution_count": 116,
   "id": "d9e53e37-66af-4553-8ed2-6bd6c666b436",
   "metadata": {},
   "outputs": [
    {
     "data": {
      "text/html": [
       "<div>\n",
       "<style scoped>\n",
       "    .dataframe tbody tr th:only-of-type {\n",
       "        vertical-align: middle;\n",
       "    }\n",
       "\n",
       "    .dataframe tbody tr th {\n",
       "        vertical-align: top;\n",
       "    }\n",
       "\n",
       "    .dataframe thead th {\n",
       "        text-align: right;\n",
       "    }\n",
       "</style>\n",
       "<table border=\"1\" class=\"dataframe\">\n",
       "  <thead>\n",
       "    <tr style=\"text-align: right;\">\n",
       "      <th></th>\n",
       "      <th>radius</th>\n",
       "      <th>diameter</th>\n",
       "      <th>densities</th>\n",
       "      <th>number_of_edges</th>\n",
       "      <th>average_clustering</th>\n",
       "      <th>avg_degree_centrality</th>\n",
       "      <th>avg_betweenness_centrality</th>\n",
       "      <th>avg_closeness_centrality</th>\n",
       "      <th>average_shortest_path_length</th>\n",
       "    </tr>\n",
       "  </thead>\n",
       "  <tbody>\n",
       "    <tr>\n",
       "      <th>Means</th>\n",
       "      <td>2.0</td>\n",
       "      <td>2.0</td>\n",
       "      <td>0.632566</td>\n",
       "      <td>626.240000</td>\n",
       "      <td>0.684928</td>\n",
       "      <td>0.632566</td>\n",
       "      <td>0.008545</td>\n",
       "      <td>0.739427</td>\n",
       "      <td>1.367434</td>\n",
       "    </tr>\n",
       "    <tr>\n",
       "      <th>STDs</th>\n",
       "      <td>0.0</td>\n",
       "      <td>0.0</td>\n",
       "      <td>0.041640</td>\n",
       "      <td>41.223413</td>\n",
       "      <td>0.037602</td>\n",
       "      <td>0.041640</td>\n",
       "      <td>0.000968</td>\n",
       "      <td>0.021849</td>\n",
       "      <td>0.041640</td>\n",
       "    </tr>\n",
       "    <tr>\n",
       "      <th>Means</th>\n",
       "      <td>2.0</td>\n",
       "      <td>2.0</td>\n",
       "      <td>0.605232</td>\n",
       "      <td>599.180000</td>\n",
       "      <td>0.651259</td>\n",
       "      <td>0.605232</td>\n",
       "      <td>0.009181</td>\n",
       "      <td>0.721616</td>\n",
       "      <td>1.394768</td>\n",
       "    </tr>\n",
       "    <tr>\n",
       "      <th>STDs</th>\n",
       "      <td>0.0</td>\n",
       "      <td>0.0</td>\n",
       "      <td>0.019326</td>\n",
       "      <td>19.132929</td>\n",
       "      <td>0.022499</td>\n",
       "      <td>0.019326</td>\n",
       "      <td>0.000449</td>\n",
       "      <td>0.010670</td>\n",
       "      <td>0.019326</td>\n",
       "    </tr>\n",
       "  </tbody>\n",
       "</table>\n",
       "</div>"
      ],
      "text/plain": [
       "       radius  diameter  densities  number_of_edges  average_clustering  \\\n",
       "Means     2.0       2.0   0.632566       626.240000            0.684928   \n",
       "STDs      0.0       0.0   0.041640        41.223413            0.037602   \n",
       "Means     2.0       2.0   0.605232       599.180000            0.651259   \n",
       "STDs      0.0       0.0   0.019326        19.132929            0.022499   \n",
       "\n",
       "       avg_degree_centrality  avg_betweenness_centrality  \\\n",
       "Means               0.632566                    0.008545   \n",
       "STDs                0.041640                    0.000968   \n",
       "Means               0.605232                    0.009181   \n",
       "STDs                0.019326                    0.000449   \n",
       "\n",
       "       avg_closeness_centrality  average_shortest_path_length  \n",
       "Means                  0.739427                      1.367434  \n",
       "STDs                   0.021849                      0.041640  \n",
       "Means                  0.721616                      1.394768  \n",
       "STDs                   0.010670                      0.019326  "
      ]
     },
     "execution_count": 116,
     "metadata": {},
     "output_type": "execute_result"
    }
   ],
   "source": [
    "entropy_network_TwoReg_Ox_90_98_averged"
   ]
  },
  {
   "cell_type": "code",
   "execution_count": 117,
   "id": "286c080b-c987-4347-981e-c638aa80e461",
   "metadata": {},
   "outputs": [],
   "source": [
    "entropy_network_TwoReg_Ox_90_98_averged.to_csv('Excels/14.csv')"
   ]
  },
  {
   "cell_type": "markdown",
   "id": "60fc4ed4-991f-44c9-ac33-e825fc27cf5c",
   "metadata": {},
   "source": [
    "# 15) Tehran 2 Regime Entropy (Based on Median Threshold) Period of 90 Far - 00 Far/ 50 windows of 100 Records"
   ]
  },
  {
   "cell_type": "code",
   "execution_count": 124,
   "id": "91e41abe-8581-41b4-8508-9740e91955f3",
   "metadata": {},
   "outputs": [
    {
     "name": "stdout",
     "output_type": "stream",
     "text": [
      "Number of columns data in our DataFrame is = 46\n",
      "fixed_thr= 0.024353547888255778\n"
     ]
    }
   ],
   "source": [
    "nm = Net_moduls()\n",
    "entropy_network_TwoReg_Ox_90_00_averged = nm.get_network_features_averaged_median(tehran_df_completeDates[tehran_df_completeDates.columns[:46]], \\\n",
    "                                                                                  regimes_column= tehran_df_reg['Ox_2'],\\\n",
    "                                                                                  method='entropy',edges_threshold=200, \\\n",
    "                                                                                  target_window=100, target_length=50)"
   ]
  },
  {
   "cell_type": "code",
   "execution_count": 128,
   "id": "f61a347c-29af-442f-93bc-2b495dd5548d",
   "metadata": {},
   "outputs": [
    {
     "data": {
      "text/html": [
       "<div>\n",
       "<style scoped>\n",
       "    .dataframe tbody tr th:only-of-type {\n",
       "        vertical-align: middle;\n",
       "    }\n",
       "\n",
       "    .dataframe tbody tr th {\n",
       "        vertical-align: top;\n",
       "    }\n",
       "\n",
       "    .dataframe thead th {\n",
       "        text-align: right;\n",
       "    }\n",
       "</style>\n",
       "<table border=\"1\" class=\"dataframe\">\n",
       "  <thead>\n",
       "    <tr style=\"text-align: right;\">\n",
       "      <th></th>\n",
       "      <th>radius</th>\n",
       "      <th>diameter</th>\n",
       "      <th>densities</th>\n",
       "      <th>number_of_edges</th>\n",
       "      <th>average_clustering</th>\n",
       "      <th>avg_degree_centrality</th>\n",
       "      <th>avg_betweenness_centrality</th>\n",
       "      <th>avg_closeness_centrality</th>\n",
       "      <th>average_shortest_path_length</th>\n",
       "    </tr>\n",
       "  </thead>\n",
       "  <tbody>\n",
       "    <tr>\n",
       "      <th>Means</th>\n",
       "      <td>2.0</td>\n",
       "      <td>2.0</td>\n",
       "      <td>0.686135</td>\n",
       "      <td>710.150000</td>\n",
       "      <td>0.735814</td>\n",
       "      <td>0.686135</td>\n",
       "      <td>0.007133</td>\n",
       "      <td>0.768522</td>\n",
       "      <td>1.313865</td>\n",
       "    </tr>\n",
       "    <tr>\n",
       "      <th>STDs</th>\n",
       "      <td>0.0</td>\n",
       "      <td>0.0</td>\n",
       "      <td>0.020151</td>\n",
       "      <td>20.856086</td>\n",
       "      <td>0.018259</td>\n",
       "      <td>0.020151</td>\n",
       "      <td>0.000458</td>\n",
       "      <td>0.011837</td>\n",
       "      <td>0.020151</td>\n",
       "    </tr>\n",
       "    <tr>\n",
       "      <th>Means</th>\n",
       "      <td>2.0</td>\n",
       "      <td>2.0</td>\n",
       "      <td>0.708232</td>\n",
       "      <td>701.150000</td>\n",
       "      <td>0.738397</td>\n",
       "      <td>0.708232</td>\n",
       "      <td>0.006785</td>\n",
       "      <td>0.779028</td>\n",
       "      <td>1.291768</td>\n",
       "    </tr>\n",
       "    <tr>\n",
       "      <th>STDs</th>\n",
       "      <td>0.0</td>\n",
       "      <td>0.0</td>\n",
       "      <td>0.021204</td>\n",
       "      <td>20.991916</td>\n",
       "      <td>0.022248</td>\n",
       "      <td>0.021204</td>\n",
       "      <td>0.000493</td>\n",
       "      <td>0.013352</td>\n",
       "      <td>0.021204</td>\n",
       "    </tr>\n",
       "  </tbody>\n",
       "</table>\n",
       "</div>"
      ],
      "text/plain": [
       "       radius  diameter  densities  number_of_edges  average_clustering  \\\n",
       "Means     2.0       2.0   0.686135       710.150000            0.735814   \n",
       "STDs      0.0       0.0   0.020151        20.856086            0.018259   \n",
       "Means     2.0       2.0   0.708232       701.150000            0.738397   \n",
       "STDs      0.0       0.0   0.021204        20.991916            0.022248   \n",
       "\n",
       "       avg_degree_centrality  avg_betweenness_centrality  \\\n",
       "Means               0.686135                    0.007133   \n",
       "STDs                0.020151                    0.000458   \n",
       "Means               0.708232                    0.006785   \n",
       "STDs                0.021204                    0.000493   \n",
       "\n",
       "       avg_closeness_centrality  average_shortest_path_length  \n",
       "Means                  0.768522                      1.313865  \n",
       "STDs                   0.011837                      0.020151  \n",
       "Means                  0.779028                      1.291768  \n",
       "STDs                   0.013352                      0.021204  "
      ]
     },
     "execution_count": 128,
     "metadata": {},
     "output_type": "execute_result"
    }
   ],
   "source": [
    "entropy_network_TwoReg_Ox_90_00_averged"
   ]
  },
  {
   "cell_type": "code",
   "execution_count": 127,
   "id": "e691c003-b94c-4325-abb3-b6789d3bcb12",
   "metadata": {},
   "outputs": [
    {
     "data": {
      "text/plain": [
       "-0.022097057531840103"
      ]
     },
     "execution_count": 127,
     "metadata": {},
     "output_type": "execute_result"
    }
   ],
   "source": [
    "entropy_network_TwoReg_Ox_90_00_averged['densities'].iloc[0] - entropy_network_TwoReg_Ox_90_00_averged['densities'].iloc[2]"
   ]
  },
  {
   "cell_type": "code",
   "execution_count": 129,
   "id": "5807db91-2b5b-4537-ac33-2c6b9a9cab1a",
   "metadata": {},
   "outputs": [
    {
     "data": {
      "text/plain": [
       "0.041354762846960165"
      ]
     },
     "execution_count": 129,
     "metadata": {},
     "output_type": "execute_result"
    }
   ],
   "source": [
    "entropy_network_TwoReg_Ox_90_00_averged['densities'].iloc[1] + entropy_network_TwoReg_Ox_90_00_averged['densities'].iloc[3]"
   ]
  },
  {
   "cell_type": "code",
   "execution_count": 121,
   "id": "b8ad0bbe-4a86-41b7-9f7a-6ead7860313d",
   "metadata": {},
   "outputs": [],
   "source": [
    "entropy_network_TwoReg_Ox_90_00_averged.to_csv('Excels/15.csv')"
   ]
  },
  {
   "cell_type": "code",
   "execution_count": 151,
   "id": "3fc827b6-cd35-4273-9719-bb884ccb4195",
   "metadata": {},
   "outputs": [
    {
     "data": {
      "text/plain": [
       "array([20, 25, 30, 35, 40, 45, 50, 55, 60, 65, 70, 75, 80, 85, 90, 95])"
      ]
     },
     "execution_count": 151,
     "metadata": {},
     "output_type": "execute_result"
    }
   ],
   "source": [
    "np.arange(20,100,5)"
   ]
  },
  {
   "cell_type": "code",
   "execution_count": 152,
   "id": "07f159af-3cb1-46a0-a72e-fa0021d80575",
   "metadata": {
    "collapsed": true,
    "jupyter": {
     "outputs_hidden": true
    },
    "tags": []
   },
   "outputs": [
    {
     "name": "stdout",
     "output_type": "stream",
     "text": [
      "Number of columns data in our DataFrame is = 46\n",
      "fixed_thr= 0.02817851828822495\n",
      "Number of columns data in our DataFrame is = 46\n",
      "fixed_thr= 0.02817851828822495\n",
      "Number of columns data in our DataFrame is = 46\n",
      "fixed_thr= 0.02817851828822495\n",
      "Number of columns data in our DataFrame is = 46\n",
      "fixed_thr= 0.02817851828822495\n",
      "Number of columns data in our DataFrame is = 46\n",
      "fixed_thr= 0.02817851828822495\n",
      "Number of columns data in our DataFrame is = 46\n",
      "fixed_thr= 0.02817851828822495\n",
      "Number of columns data in our DataFrame is = 46\n",
      "fixed_thr= 0.02817851828822495\n",
      "Number of columns data in our DataFrame is = 46\n",
      "fixed_thr= 0.02817851828822495\n",
      "Number of columns data in our DataFrame is = 46\n",
      "fixed_thr= 0.02817851828822495\n",
      "Number of columns data in our DataFrame is = 46\n",
      "fixed_thr= 0.02817851828822495\n",
      "Number of columns data in our DataFrame is = 46\n",
      "fixed_thr= 0.02817851828822495\n",
      "Number of columns data in our DataFrame is = 46\n",
      "fixed_thr= 0.02817851828822495\n",
      "Number of columns data in our DataFrame is = 46\n",
      "fixed_thr= 0.02817851828822495\n",
      "Number of columns data in our DataFrame is = 46\n",
      "fixed_thr= 0.02817851828822495\n",
      "Number of columns data in our DataFrame is = 46\n",
      "fixed_thr= 0.02817851828822495\n",
      "Number of columns data in our DataFrame is = 46\n",
      "fixed_thr= 0.02817851828822495\n"
     ]
    }
   ],
   "source": [
    "densities_diff_98 = []\n",
    "stds_addition_98 = []\n",
    "for tl in np.arange(20,100,5):\n",
    "    entropy_network_TwoReg_Ox_90_98_averged = nm.get_network_features_averaged_median(tehran_df[tehran_df.columns[:46]], \\\n",
    "                                                                                  regimes_column= tehran_df_reg_98['Ox_2'],\\\n",
    "                                                                                  method='entropy',edges_threshold=200, \\\n",
    "                                                                                  target_window=100, \\\n",
    "                                                                                  target_length=tl)\n",
    "    densities_diff_98.append(entropy_network_TwoReg_Ox_90_98_averged['densities'].iloc[0] - entropy_network_TwoReg_Ox_90_98_averged['densities'].iloc[2])\n",
    "    stds_addition_98.append(entropy_network_TwoReg_Ox_90_98_averged['densities'].iloc[1] + entropy_network_TwoReg_Ox_90_98_averged['densities'].iloc[3])"
   ]
  },
  {
   "cell_type": "code",
   "execution_count": 181,
   "id": "2399a893-81a7-4a0f-a436-64414fc55ced",
   "metadata": {},
   "outputs": [
    {
     "name": "stdout",
     "output_type": "stream",
     "text": [
      "Number of columns data in our DataFrame is = 46\n",
      "fixed_thr= 0.024353547888255778\n",
      "Number of columns data in our DataFrame is = 46\n",
      "fixed_thr= 0.024353547888255778\n",
      "Number of columns data in our DataFrame is = 46\n",
      "fixed_thr= 0.024353547888255778\n",
      "Number of columns data in our DataFrame is = 46\n",
      "fixed_thr= 0.024353547888255778\n",
      "Number of columns data in our DataFrame is = 46\n",
      "fixed_thr= 0.024353547888255778\n",
      "Number of columns data in our DataFrame is = 46\n",
      "fixed_thr= 0.024353547888255778\n",
      "Number of columns data in our DataFrame is = 46\n",
      "fixed_thr= 0.024353547888255778\n",
      "Number of columns data in our DataFrame is = 46\n",
      "fixed_thr= 0.024353547888255778\n",
      "Number of columns data in our DataFrame is = 46\n",
      "fixed_thr= 0.024353547888255778\n",
      "Number of columns data in our DataFrame is = 46\n",
      "fixed_thr= 0.024353547888255778\n",
      "Number of columns data in our DataFrame is = 46\n",
      "fixed_thr= 0.024353547888255778\n",
      "Number of columns data in our DataFrame is = 46\n",
      "fixed_thr= 0.024353547888255778\n",
      "Number of columns data in our DataFrame is = 46\n",
      "fixed_thr= 0.024353547888255778\n",
      "Number of columns data in our DataFrame is = 46\n",
      "fixed_thr= 0.024353547888255778\n",
      "Number of columns data in our DataFrame is = 46\n",
      "fixed_thr= 0.024353547888255778\n",
      "Number of columns data in our DataFrame is = 46\n",
      "fixed_thr= 0.024353547888255778\n"
     ]
    }
   ],
   "source": [
    "densities_diff = []\n",
    "stds_addition = []\n",
    "for tl in np.arange(20,100,5):\n",
    "    entropy_network_TwoReg_Ox_90_00_averged = nm.get_network_features_averaged_median(tehran_df_completeDates[tehran_df_completeDates.columns[:46]], \\\n",
    "                                                                                  regimes_column= tehran_df_reg['Ox_2'],\\\n",
    "                                                                                  method='entropy',edges_threshold=200, \\\n",
    "                                                                                  target_window=100, target_length=tl)\n",
    "    densities_diff.append(entropy_network_TwoReg_Ox_90_00_averged['densities'].iloc[0] - entropy_network_TwoReg_Ox_90_00_averged['densities'].iloc[2])\n",
    "    stds_addition.append(entropy_network_TwoReg_Ox_90_00_averged['densities'].iloc[1] + entropy_network_TwoReg_Ox_90_00_averged['densities'].iloc[3])"
   ]
  },
  {
   "cell_type": "code",
   "execution_count": 180,
   "id": "9b912614-b551-486f-9708-11dbb3f60fa6",
   "metadata": {},
   "outputs": [
    {
     "data": {
      "image/png": "[encoded data removed]",
      "text/plain": [
       "<Figure size 1200x600 with 1 Axes>"
      ]
     },
     "metadata": {},
     "output_type": "display_data"
    }
   ],
   "source": [
    "fig, ax = plt.subplots(figsize=(12,6))\n",
    "ax.plot(np.arange(20,100,5), np.array(densities_diff_98)-np.array(stds_addition_98), 'x', markersize=10)\n",
    "# ax.margins(0)\n",
    "ax.axhspan(0, 0.035, facecolor='green', alpha=0.2)\n",
    "ax.axhspan(-0.055, 0, facecolor='red', alpha=0.2)\n",
    "ax.grid()\n",
    "ax.set_ylabel('Separability of Regimes by 1 STD', weight='semibold')\n",
    "ax.set_xlabel('Number of chosen windows of length 100 records', weight='semibold')\n",
    "plt.savefig('Plots/regimes_seperabilities_98.png', dpi=400)"
   ]
  },
  {
   "cell_type": "code",
   "execution_count": 188,
   "id": "abd87291-59d4-4bee-89e4-f6f620169fad",
   "metadata": {},
   "outputs": [
    {
     "data": {
      "image/png": "[encoded data removed]",
      "text/plain": [
       "<Figure size 1200x600 with 1 Axes>"
      ]
     },
     "metadata": {},
     "output_type": "display_data"
    }
   ],
   "source": [
    "fig, ax = plt.subplots(figsize=(12,6))\n",
    "ax.plot(np.arange(20,100,5), np.array(densities_diff)*-1-np.array(stds_addition), 'x', markersize=10)\n",
    "# ax.margins(0)\n",
    "ax.axhspan(0, 0.035, facecolor='green', alpha=0.2)\n",
    "ax.axhspan(-0.09, 0, facecolor='red', alpha=0.2)\n",
    "ax.grid()\n",
    "ax.set_ylabel('Separability of Regimes by 1 STD', weight='semibold')\n",
    "ax.set_xlabel('Number of chosen windows of length 100 records', weight='semibold')\n",
    "plt.savefig('Plots/regimes_seperabilities_99.png', dpi=400)"
   ]
  },
  {
   "cell_type": "markdown",
   "id": "857fb752-264b-4524-b067-0105bc281e77",
   "metadata": {},
   "source": [
    "# 16) Tehran 2 Regime Crossed (Based on Median Threshold) Period of 90 Far - 00 Far"
   ]
  },
  {
   "cell_type": "code",
   "execution_count": 23,
   "id": "35cbe124-459f-4793-a55a-b23949f8e46e",
   "metadata": {},
   "outputs": [],
   "source": [
    "thr16_1 = nm.find_median_crossed_threshold(tehran_df_TwoReg_Ox_1_same_length)\n",
    "thr16_2 = nm.find_median_crossed_threshold(tehran_df_TwoReg_Ox_2_same_length)\n",
    "thr16 = min(thr16_1, thr16_2)"
   ]
  },
  {
   "cell_type": "code",
   "execution_count": 24,
   "id": "bb93bc0c-80f1-4851-ac28-f95cfd82d098",
   "metadata": {},
   "outputs": [
    {
     "data": {
      "text/plain": [
       "0.48"
      ]
     },
     "execution_count": 24,
     "metadata": {},
     "output_type": "execute_result"
    }
   ],
   "source": [
    "thr16"
   ]
  },
  {
   "cell_type": "code",
   "execution_count": 25,
   "id": "0c9b7917-88de-4b32-92f7-b98d69ad0849",
   "metadata": {},
   "outputs": [],
   "source": [
    "nm = Net_moduls()\n",
    "crossed_network_TwoReg_Ox_1 = nm.construct_network(tehran_df_TwoReg_Ox_1_same_length, method='crossed_', threshold=thr16)"
   ]
  },
  {
   "cell_type": "code",
   "execution_count": 26,
   "id": "f55bdf1c-d6f3-4e5c-9efd-fa3408d7f4fc",
   "metadata": {},
   "outputs": [
    {
     "data": {
      "text/html": [
       "<div>\n",
       "<style scoped>\n",
       "    .dataframe tbody tr th:only-of-type {\n",
       "        vertical-align: middle;\n",
       "    }\n",
       "\n",
       "    .dataframe tbody tr th {\n",
       "        vertical-align: top;\n",
       "    }\n",
       "\n",
       "    .dataframe thead th {\n",
       "        text-align: right;\n",
       "    }\n",
       "</style>\n",
       "<table border=\"1\" class=\"dataframe\">\n",
       "  <thead>\n",
       "    <tr style=\"text-align: right;\">\n",
       "      <th></th>\n",
       "      <th>radius</th>\n",
       "      <th>diameter</th>\n",
       "      <th>densities</th>\n",
       "      <th>number_of_edges</th>\n",
       "      <th>average_clustering</th>\n",
       "      <th>avg_degree_centrality</th>\n",
       "      <th>avg_betweenness_centrality</th>\n",
       "      <th>avg_closeness_centrality</th>\n",
       "      <th>average_shortest_path_length</th>\n",
       "    </tr>\n",
       "  </thead>\n",
       "  <tbody>\n",
       "    <tr>\n",
       "      <th>0</th>\n",
       "      <td>2</td>\n",
       "      <td>2</td>\n",
       "      <td>0.717874</td>\n",
       "      <td>743</td>\n",
       "      <td>0.812299</td>\n",
       "      <td>0.717874</td>\n",
       "      <td>0.006412</td>\n",
       "      <td>0.79482</td>\n",
       "      <td>1.282126</td>\n",
       "    </tr>\n",
       "  </tbody>\n",
       "</table>\n",
       "</div>"
      ],
      "text/plain": [
       "   radius  diameter  densities  number_of_edges  average_clustering  \\\n",
       "0       2         2   0.717874              743            0.812299   \n",
       "\n",
       "   avg_degree_centrality  avg_betweenness_centrality  \\\n",
       "0               0.717874                    0.006412   \n",
       "\n",
       "   avg_closeness_centrality  average_shortest_path_length  \n",
       "0                   0.79482                      1.282126  "
      ]
     },
     "execution_count": 26,
     "metadata": {},
     "output_type": "execute_result"
    }
   ],
   "source": [
    "nm.get_network_features(crossed_network_TwoReg_Ox_1)"
   ]
  },
  {
   "cell_type": "code",
   "execution_count": 222,
   "id": "842298d3-732e-4dfa-b164-829a18158319",
   "metadata": {},
   "outputs": [],
   "source": [
    "nm.get_network_features(crossed_network_TwoReg_Ox_1).to_csv('Excels/16_1.csv')"
   ]
  },
  {
   "cell_type": "code",
   "execution_count": 223,
   "id": "5a1adc98-6383-41cb-a1f3-e08a5129737e",
   "metadata": {},
   "outputs": [
    {
     "data": {
      "text/plain": [
       "array({'CPI': 9, 'M1': 14, 'AbzaralatePezeshki': 14, 'M2': 17, 'Brent Oil': 18, 'Coin': 18, 'FaravardehayeNafti': 20, 'Euro': 24, 'HOUSE': 25, 'DastgahayeBargi': 25, 'USD': 26, 'Gold': 27, 'GDP': 28, 'Mali': 30, 'Mansojat': 31, 'MahsolateFelezi': 32, 'HamlVaNaghl': 32, 'VasayelErtebati': 33, 'EstekrajeNaft': 35, 'KanehayeGeyreFelezi': 35, 'MashinAlat': 36, 'GazaeeBejozGhand': 36, 'KashiVaSeramik': 36, 'Bimeh': 36, 'FaniVaMohandesi': 36, 'SayerMadan': 37, 'paper': 37, 'EntesharVaChap': 37, 'Lastic': 37, 'Daroee': 37, 'Siman': 37, 'KanehayeFelezi': 37, 'FelezateAsasi': 38, 'ChandReshteSanati': 38, 'Bank': 38, 'SayerMali': 38, 'Agriculture': 39, 'Wood': 39, 'GhandVaShekar': 39, 'Rayaneh': 39, 'khodrosazi': 40, 'Amlakva': 40, 'CoalMining': 41, 'SarmayeGozari': 41, 'index': 42, 'Shimiyaee': 42},\n",
       "      dtype=object)"
      ]
     },
     "execution_count": 223,
     "metadata": {},
     "output_type": "execute_result"
    }
   ],
   "source": [
    "b16_1 = dict(nx.degree(crossed_network_TwoReg_Ox_1))\n",
    "b16_1 = np.array(dict(sorted(b16_1.items(), key=lambda item: item[1])))\n",
    "b16_1"
   ]
  },
  {
   "cell_type": "code",
   "execution_count": 224,
   "id": "65c08a44-8b9d-45e2-a436-89350a40e7db",
   "metadata": {},
   "outputs": [],
   "source": [
    "crossed_network_TwoReg_Ox_2 = nm.construct_network(tehran_df_TwoReg_Ox_2_same_length, method='crossed_', threshold=thr16)"
   ]
  },
  {
   "cell_type": "code",
   "execution_count": 225,
   "id": "593b2696-adab-499b-80d5-9da3cefd111d",
   "metadata": {},
   "outputs": [
    {
     "data": {
      "text/html": [
       "<div>\n",
       "<style scoped>\n",
       "    .dataframe tbody tr th:only-of-type {\n",
       "        vertical-align: middle;\n",
       "    }\n",
       "\n",
       "    .dataframe tbody tr th {\n",
       "        vertical-align: top;\n",
       "    }\n",
       "\n",
       "    .dataframe thead th {\n",
       "        text-align: right;\n",
       "    }\n",
       "</style>\n",
       "<table border=\"1\" class=\"dataframe\">\n",
       "  <thead>\n",
       "    <tr style=\"text-align: right;\">\n",
       "      <th></th>\n",
       "      <th>radius</th>\n",
       "      <th>diameter</th>\n",
       "      <th>densities</th>\n",
       "      <th>number_of_edges</th>\n",
       "      <th>average_clustering</th>\n",
       "      <th>avg_degree_centrality</th>\n",
       "      <th>avg_betweenness_centrality</th>\n",
       "      <th>avg_closeness_centrality</th>\n",
       "      <th>average_shortest_path_length</th>\n",
       "    </tr>\n",
       "  </thead>\n",
       "  <tbody>\n",
       "    <tr>\n",
       "      <th>0</th>\n",
       "      <td>2</td>\n",
       "      <td>2</td>\n",
       "      <td>0.621256</td>\n",
       "      <td>643</td>\n",
       "      <td>0.673333</td>\n",
       "      <td>0.621256</td>\n",
       "      <td>0.008608</td>\n",
       "      <td>0.731719</td>\n",
       "      <td>1.378744</td>\n",
       "    </tr>\n",
       "  </tbody>\n",
       "</table>\n",
       "</div>"
      ],
      "text/plain": [
       "   radius  diameter  densities  number_of_edges  average_clustering  \\\n",
       "0       2         2   0.621256              643            0.673333   \n",
       "\n",
       "   avg_degree_centrality  avg_betweenness_centrality  \\\n",
       "0               0.621256                    0.008608   \n",
       "\n",
       "   avg_closeness_centrality  average_shortest_path_length  \n",
       "0                  0.731719                      1.378744  "
      ]
     },
     "execution_count": 225,
     "metadata": {},
     "output_type": "execute_result"
    }
   ],
   "source": [
    "nm.get_network_features(crossed_network_TwoReg_Ox_2)"
   ]
  },
  {
   "cell_type": "code",
   "execution_count": 226,
   "id": "7c1ca56e-dff0-4ad8-8bc1-31da75155189",
   "metadata": {},
   "outputs": [],
   "source": [
    "nm.get_network_features(crossed_network_TwoReg_Ox_2).to_csv('Excels/16_2.csv')"
   ]
  },
  {
   "cell_type": "code",
   "execution_count": 227,
   "id": "aa12273e-31bc-4e75-9979-b8f21ec9fbaf",
   "metadata": {},
   "outputs": [
    {
     "data": {
      "text/plain": [
       "array({'Mansojat': 16, 'Euro': 17, 'M2': 19, 'Brent Oil': 20, 'HOUSE': 20, 'GDP': 20, 'Gold': 21, 'FaravardehayeNafti': 21, 'GhandVaShekar': 21, 'AbzaralatePezeshki': 22, 'M1': 23, 'Coin': 23, 'USD': 24, 'ChandReshteSanati': 24, 'Shimiyaee': 24, 'KanehayeFelezi': 24, 'FelezateAsasi': 25, 'Agriculture': 26, 'EntesharVaChap': 26, 'VasayelErtebati': 27, 'SayerMadan': 28, 'Wood': 28, 'Lastic': 28, 'CPI': 28, 'EstekrajeNaft': 30, 'khodrosazi': 30, 'GazaeeBejozGhand': 30, 'Rayaneh': 30, 'Bank': 31, 'HamlVaNaghl': 31, 'CoalMining': 32, 'KashiVaSeramik': 32, 'MashinAlat': 33, 'DastgahayeBargi': 33, 'Siman': 33, 'Bimeh': 33, 'Mali': 33, 'MahsolateFelezi': 34, 'paper': 34, 'Daroee': 34, 'FaniVaMohandesi': 35, 'SarmayeGozari': 36, 'Amlakva': 36, 'index': 37, 'KanehayeGeyreFelezi': 37, 'SayerMali': 37},\n",
       "      dtype=object)"
      ]
     },
     "execution_count": 227,
     "metadata": {},
     "output_type": "execute_result"
    }
   ],
   "source": [
    "b16_2 = dict(nx.degree(crossed_network_TwoReg_Ox_2))\n",
    "b16_2 = np.array(dict(sorted(b16_2.items(), key=lambda item: item[1])))\n",
    "b16_2"
   ]
  },
  {
   "cell_type": "markdown",
   "id": "ba27b96f-14fc-4905-85bf-35765319e603",
   "metadata": {},
   "source": [
    "# 16.1) Tehran 2 Regime ox 1399 Crossed (Based on Median Threshold)"
   ]
  },
  {
   "cell_type": "code",
   "execution_count": 108,
   "id": "fc265883-3a1f-40cf-9b56-8e205a4be1fc",
   "metadata": {},
   "outputs": [],
   "source": [
    "thr16_99_1 = nm.find_median_crossed_100_threshold(tehran_df_TwoReg_Ox_99_1_same_length)\n",
    "thr16_99_2 = nm.find_median_crossed_100_threshold(tehran_df_TwoReg_Ox_99_2_same_length)\n",
    "thr16_99 = min(thr16_99_1, thr16_99_2)"
   ]
  },
  {
   "cell_type": "code",
   "execution_count": 109,
   "id": "8d978a1d-074d-4f72-8e7d-928d801f1e7b",
   "metadata": {},
   "outputs": [
    {
     "data": {
      "text/plain": [
       "0.44"
      ]
     },
     "execution_count": 109,
     "metadata": {},
     "output_type": "execute_result"
    }
   ],
   "source": [
    "thr16_99 "
   ]
  },
  {
   "cell_type": "markdown",
   "id": "703f523c-d6d0-49d4-8b1c-71a99f055728",
   "metadata": {},
   "source": [
    "Please Be careful about the type of Crossed Network Construction Used in the code!"
   ]
  },
  {
   "cell_type": "code",
   "execution_count": 110,
   "id": "5eacfd94-42cc-4e1a-b253-3897f6e8edda",
   "metadata": {},
   "outputs": [],
   "source": [
    "nm = Net_moduls()\n",
    "crossed_network_TwoReg_Ox_99_1 = nm.construct_network(tehran_df_TwoReg_Ox_99_1_same_length, method='crossed_100', threshold=thr16_99)"
   ]
  },
  {
   "cell_type": "code",
   "execution_count": 111,
   "id": "10917223-8275-4519-b9c7-5a49b7c06cb7",
   "metadata": {},
   "outputs": [
    {
     "data": {
      "text/html": [
       "<div>\n",
       "<style scoped>\n",
       "    .dataframe tbody tr th:only-of-type {\n",
       "        vertical-align: middle;\n",
       "    }\n",
       "\n",
       "    .dataframe tbody tr th {\n",
       "        vertical-align: top;\n",
       "    }\n",
       "\n",
       "    .dataframe thead th {\n",
       "        text-align: right;\n",
       "    }\n",
       "</style>\n",
       "<table border=\"1\" class=\"dataframe\">\n",
       "  <thead>\n",
       "    <tr style=\"text-align: right;\">\n",
       "      <th></th>\n",
       "      <th>radius</th>\n",
       "      <th>diameter</th>\n",
       "      <th>densities</th>\n",
       "      <th>number_of_edges</th>\n",
       "      <th>average_clustering</th>\n",
       "      <th>avg_degree_centrality</th>\n",
       "      <th>avg_betweenness_centrality</th>\n",
       "      <th>avg_closeness_centrality</th>\n",
       "      <th>average_shortest_path_length</th>\n",
       "    </tr>\n",
       "  </thead>\n",
       "  <tbody>\n",
       "    <tr>\n",
       "      <th>0</th>\n",
       "      <td>2</td>\n",
       "      <td>2</td>\n",
       "      <td>0.396135</td>\n",
       "      <td>410</td>\n",
       "      <td>0.479887</td>\n",
       "      <td>0.396135</td>\n",
       "      <td>0.013724</td>\n",
       "      <td>0.632603</td>\n",
       "      <td>1.603865</td>\n",
       "    </tr>\n",
       "  </tbody>\n",
       "</table>\n",
       "</div>"
      ],
      "text/plain": [
       "   radius  diameter  densities  number_of_edges  average_clustering  \\\n",
       "0       2         2   0.396135              410            0.479887   \n",
       "\n",
       "   avg_degree_centrality  avg_betweenness_centrality  \\\n",
       "0               0.396135                    0.013724   \n",
       "\n",
       "   avg_closeness_centrality  average_shortest_path_length  \n",
       "0                  0.632603                      1.603865  "
      ]
     },
     "execution_count": 111,
     "metadata": {},
     "output_type": "execute_result"
    }
   ],
   "source": [
    "nm.get_network_features(crossed_network_TwoReg_Ox_99_1)"
   ]
  },
  {
   "cell_type": "code",
   "execution_count": 113,
   "id": "d5a3b207-649a-4f3e-a3c3-441fdc052e23",
   "metadata": {},
   "outputs": [
    {
     "data": {
      "text/plain": [
       "array({'Rayaneh': 9, 'MahsolateFelezi': 10, 'MahsolateFelezi.1': 10, 'SarmayeGozari': 10, 'SayerMali': 10, 'Bimeh': 10, 'Mali': 10, 'EntesharVaChap': 11, 'Amlakva': 11, 'Daroee': 12, 'KanehayeGeyreFelezi': 12, 'ChandReshteSanati': 12, 'Siman': 12, 'Lastic': 12, 'FelezateAsasi': 12, 'index': 13, 'CoalMining': 13, 'GazaeeBejozGhand': 13, 'MashinAlat': 13, 'KashiVaSeramik': 13, 'Shimiyaee': 13, 'Agriculture': 14, 'FaniVaMohandesi': 14, 'DastgahayeBargi': 14, 'Coin': 15, 'EstekrajeNaft': 15, 'paper': 15, 'Bank': 15, 'HamlVaNaghl': 15, 'GhandVaShekar': 18, 'khodrosazi': 18, 'SayerMadan': 19, 'Wood': 22, 'FaravardehayeNafti': 22, 'Euro': 25, 'VasayelErtebati': 26, 'GDP': 26, 'USD': 27, 'AbzaralatePezeshki': 27, 'CPI': 31, 'HOUSE': 31, 'Mansojat': 31, 'Brent Oil': 32, 'M2': 34, 'Gold': 35, 'M1': 38},\n",
       "      dtype=object)"
      ]
     },
     "execution_count": 113,
     "metadata": {},
     "output_type": "execute_result"
    }
   ],
   "source": [
    "b16_1_1 = dict(nx.degree(crossed_network_TwoReg_Ox_99_1))\n",
    "b16_1_1 = np.array(dict(sorted(b16_1_1.items(), key=lambda item: item[1])))\n",
    "b16_1_1"
   ]
  },
  {
   "cell_type": "code",
   "execution_count": 114,
   "id": "88922364-494a-4d85-ba7e-7b00479b832c",
   "metadata": {},
   "outputs": [],
   "source": [
    "nm = Net_moduls()\n",
    "crossed_network_TwoReg_Ox_99_2 = nm.construct_network(tehran_df_TwoReg_Ox_99_2_same_length, method='crossed_100', threshold=thr16_99)"
   ]
  },
  {
   "cell_type": "code",
   "execution_count": 115,
   "id": "171f6922-8be1-4dc3-af58-6d22a3eeb203",
   "metadata": {},
   "outputs": [
    {
     "data": {
      "text/html": [
       "<div>\n",
       "<style scoped>\n",
       "    .dataframe tbody tr th:only-of-type {\n",
       "        vertical-align: middle;\n",
       "    }\n",
       "\n",
       "    .dataframe tbody tr th {\n",
       "        vertical-align: top;\n",
       "    }\n",
       "\n",
       "    .dataframe thead th {\n",
       "        text-align: right;\n",
       "    }\n",
       "</style>\n",
       "<table border=\"1\" class=\"dataframe\">\n",
       "  <thead>\n",
       "    <tr style=\"text-align: right;\">\n",
       "      <th></th>\n",
       "      <th>radius</th>\n",
       "      <th>diameter</th>\n",
       "      <th>densities</th>\n",
       "      <th>number_of_edges</th>\n",
       "      <th>average_clustering</th>\n",
       "      <th>avg_degree_centrality</th>\n",
       "      <th>avg_betweenness_centrality</th>\n",
       "      <th>avg_closeness_centrality</th>\n",
       "      <th>average_shortest_path_length</th>\n",
       "    </tr>\n",
       "  </thead>\n",
       "  <tbody>\n",
       "    <tr>\n",
       "      <th>0</th>\n",
       "      <td>2</td>\n",
       "      <td>3</td>\n",
       "      <td>0.33913</td>\n",
       "      <td>351</td>\n",
       "      <td>0.458633</td>\n",
       "      <td>0.33913</td>\n",
       "      <td>0.015042</td>\n",
       "      <td>0.609002</td>\n",
       "      <td>1.661836</td>\n",
       "    </tr>\n",
       "  </tbody>\n",
       "</table>\n",
       "</div>"
      ],
      "text/plain": [
       "   radius  diameter  densities  number_of_edges  average_clustering  \\\n",
       "0       2         3    0.33913              351            0.458633   \n",
       "\n",
       "   avg_degree_centrality  avg_betweenness_centrality  \\\n",
       "0                0.33913                    0.015042   \n",
       "\n",
       "   avg_closeness_centrality  average_shortest_path_length  \n",
       "0                  0.609002                      1.661836  "
      ]
     },
     "execution_count": 115,
     "metadata": {},
     "output_type": "execute_result"
    }
   ],
   "source": [
    "nm.get_network_features(crossed_network_TwoReg_Ox_99_2)"
   ]
  },
  {
   "cell_type": "code",
   "execution_count": 116,
   "id": "8c33ea56-e2d5-4dcb-b51c-4b6b5bde8959",
   "metadata": {},
   "outputs": [
    {
     "data": {
      "text/plain": [
       "array({'GazaeeBejozGhand': 6, 'MahsolateFelezi': 6, 'MahsolateFelezi.1': 6, 'index': 7, 'Amlakva': 7, 'SayerMadan': 8, 'FaniVaMohandesi': 8, 'MashinAlat': 8, 'Lastic': 9, 'SarmayeGozari': 9, 'HamlVaNaghl': 9, 'Siman': 10, 'Rayaneh': 10, 'Bimeh': 10, 'Shimiyaee': 11, 'Agriculture': 11, 'khodrosazi': 11, 'Daroee': 11, 'GhandVaShekar': 12, 'ChandReshteSanati': 12, 'SayerMali': 12, 'Bank': 13, 'CoalMining': 14, 'KanehayeGeyreFelezi': 14, 'USD': 14, 'Gold': 15, 'FaravardehayeNafti': 15, 'Euro': 15, 'Brent Oil': 16, 'FelezateAsasi': 16, 'Mansojat': 17, 'DastgahayeBargi': 17, 'Wood': 18, 'KashiVaSeramik': 18, 'EstekrajeNaft': 20, 'EntesharVaChap': 21, 'paper': 21, 'Coin': 21, 'VasayelErtebati': 22, 'Mali': 22, 'M1': 24, 'AbzaralatePezeshki': 25, 'HOUSE': 26, 'M2': 31, 'GDP': 34, 'CPI': 40},\n",
       "      dtype=object)"
      ]
     },
     "execution_count": 116,
     "metadata": {},
     "output_type": "execute_result"
    }
   ],
   "source": [
    "b16_1_2 = dict(nx.degree(crossed_network_TwoReg_Ox_99_2))\n",
    "b16_1_2 = np.array(dict(sorted(b16_1_2.items(), key=lambda item: item[1])))\n",
    "b16_1_2"
   ]
  },
  {
   "cell_type": "markdown",
   "id": "cb4ead4d-835d-4d58-a6e1-0599d755e4fa",
   "metadata": {},
   "source": [
    "# 17) Tehran 2 Regime crossed (Based on Median Threshold) Period of 90 Far - 98 Dey/ Last 100 Records"
   ]
  },
  {
   "cell_type": "code",
   "execution_count": 32,
   "id": "1db63d17-5b13-444a-a2d3-75da1778e2a3",
   "metadata": {},
   "outputs": [],
   "source": [
    "def crosscorr(datax, datay, lag=0, wrap=False):\n",
    "    if wrap:\n",
    "        shiftedy = datay.shift(lag)\n",
    "        transfer_entropy_dfshiftedy.iloc[:lag] = datay.iloc[-lag:].values\n",
    "        return datax.corr(shiftedy)\n",
    "    else:\n",
    "        return datax.corr(datay.shift(lag))"
   ]
  },
  {
   "cell_type": "code",
   "execution_count": 45,
   "id": "7ea1b6b7-6641-4ac6-81b0-1477789ea9fa",
   "metadata": {},
   "outputs": [],
   "source": [
    "def find_median_crossed_100_threshold(df):\n",
    "    cross_offsets = []\n",
    "    for i in range(len(df.columns)):\n",
    "        for j in range(len(df.columns)):\n",
    "            seconds = 5\n",
    "            fps = 5\n",
    "            rs = [crosscorr(df[df.columns[i]],df[df.columns[j]], lag) for lag in range(-int(seconds*fps),int(seconds*fps+1))]\n",
    "            offset = np.floor(len(rs)/2)-np.argmax(rs)\n",
    "            cross_offsets.append(offset)\n",
    "    cross_offsets = np.array(cross_offsets)\n",
    "    cross_offsets = cross_offsets[cross_offsets>0]\n",
    "    df_corr_flatten_nonNan = cross_offsets[~np.isnan(cross_offsets)]\n",
    "    df_corr_flatten_nonNan.sort()\n",
    "    df_corr_flatten_nonNan = df_corr_flatten_nonNan/max(df_corr_flatten_nonNan)\n",
    "    median_corr_coef = np.median(df_corr_flatten_nonNan)\n",
    "    return median_corr_coef, cross_offsets"
   ]
  },
  {
   "cell_type": "code",
   "execution_count": 66,
   "id": "778a3b27-6045-41af-a874-7f88422cdb3b",
   "metadata": {},
   "outputs": [],
   "source": [
    "def construct_network( df, method, threshold):   \n",
    "    if method == 'crossed_100_':\n",
    "        cross_offsets = []\n",
    "        for i in range(len(df.columns)):\n",
    "            for j in range(len(df.columns)):\n",
    "                seconds = 5\n",
    "                fps = 5\n",
    "                rs = [crosscorr(df[df.columns[i]],df[df.columns[j]], lag) for lag in range(-int(seconds*fps),int(seconds*fps+1))]\n",
    "                offset = np.floor(len(rs)/2)-np.argmax(rs)\n",
    "                cross_offsets.append(offset)\n",
    "\n",
    "        cross_offsets = np.array(cross_offsets)\n",
    "        cross_offsets = cross_offsets[~np.isnan(cross_offsets)]\n",
    "        cross_offsets = cross_offsets/max(cross_offsets)\n",
    "        crossed_offset_matrix = cross_offsets.reshape((df.shape[1],df.shape[1]))\n",
    "        crossed_df = pd.DataFrame(crossed_offset_matrix , columns=(df.columns)).set_index(df.columns)\n",
    "        df_cc = crossed_df\n",
    "\n",
    "\n",
    "        # apply corr coeff threshold and create new df\n",
    "        list_symbols = df_cc.columns.to_list()\n",
    "        list_from = []\n",
    "        list_to = []\n",
    "        list_corr_coeff = []\n",
    "        for i , sym_from in enumerate(list_symbols):\n",
    "            for sym_to in list_symbols:\n",
    "                if sym_from != sym_to:\n",
    "                    corr_coef = df_cc.loc[sym_from, sym_to]\n",
    "                    if abs(corr_coef) < threshold:\n",
    "                        list_from.append(sym_from)\n",
    "                        list_to.append(sym_to) \n",
    "                        list_corr_coeff.append(corr_coef)\n",
    "\n",
    "        # create df for constructing graph\n",
    "        df_graph = pd.DataFrame({'from':list_from, 'to':list_to, \n",
    "                                'corr coeff':list_corr_coeff})\n",
    "\n",
    "        G_crossed = nx.from_pandas_edgelist(df_graph, 'from', 'to')\n",
    "        return cross_offsets"
   ]
  },
  {
   "cell_type": "code",
   "execution_count": 67,
   "id": "ac796891-b205-4631-8440-a9e683a0ec45",
   "metadata": {},
   "outputs": [],
   "source": [
    "thr17_1 = construct_network(tehran_df_TwoReg_Ox_1_same_length_98[-100:], method='crossed_100_', threshold=thr17)\n"
   ]
  },
  {
   "cell_type": "code",
   "execution_count": 68,
   "id": "341fb889-8cb5-4637-9705-cb6841dfd309",
   "metadata": {},
   "outputs": [
    {
     "data": {
      "text/plain": [
       "2116"
      ]
     },
     "execution_count": 68,
     "metadata": {},
     "output_type": "execute_result"
    }
   ],
   "source": [
    "len(thr17_1)"
   ]
  },
  {
   "cell_type": "code",
   "execution_count": 23,
   "id": "72783d70-1936-4134-9a96-a60642e63bd2",
   "metadata": {},
   "outputs": [],
   "source": [
    "thr17_1 = nm.find_median_crossed_100_threshold(tehran_df_TwoReg_Ox_1_same_length_98[-100:])\n",
    "thr17_2 = nm.find_median_crossed_100_threshold(tehran_df_TwoReg_Ox_2_same_length_98[-100:])\n",
    "thr17 = min(thr17_1, thr17_2)"
   ]
  },
  {
   "cell_type": "code",
   "execution_count": 24,
   "id": "6d638942-a302-448d-b764-fd39a95b986b",
   "metadata": {},
   "outputs": [
    {
     "data": {
      "text/plain": [
       "0.6"
      ]
     },
     "execution_count": 24,
     "metadata": {},
     "output_type": "execute_result"
    }
   ],
   "source": [
    "thr17"
   ]
  },
  {
   "cell_type": "code",
   "execution_count": 25,
   "id": "2b425fe4-b1e1-4e0d-a485-b45bd27fc749",
   "metadata": {},
   "outputs": [],
   "source": [
    "crossed_network_TwoReg_Ox_1_98_last100 = nm.construct_network(tehran_df_TwoReg_Ox_1_same_length_98[-100:], method='crossed_100_', threshold=thr17)"
   ]
  },
  {
   "cell_type": "code",
   "execution_count": 26,
   "id": "f69027ec-fbe2-4ea4-ad77-99f0bfcde4d3",
   "metadata": {},
   "outputs": [
    {
     "data": {
      "text/html": [
       "<div>\n",
       "<style scoped>\n",
       "    .dataframe tbody tr th:only-of-type {\n",
       "        vertical-align: middle;\n",
       "    }\n",
       "\n",
       "    .dataframe tbody tr th {\n",
       "        vertical-align: top;\n",
       "    }\n",
       "\n",
       "    .dataframe thead th {\n",
       "        text-align: right;\n",
       "    }\n",
       "</style>\n",
       "<table border=\"1\" class=\"dataframe\">\n",
       "  <thead>\n",
       "    <tr style=\"text-align: right;\">\n",
       "      <th></th>\n",
       "      <th>radius</th>\n",
       "      <th>diameter</th>\n",
       "      <th>densities</th>\n",
       "      <th>number_of_edges</th>\n",
       "      <th>average_clustering</th>\n",
       "      <th>avg_degree_centrality</th>\n",
       "      <th>avg_betweenness_centrality</th>\n",
       "      <th>avg_closeness_centrality</th>\n",
       "      <th>average_shortest_path_length</th>\n",
       "    </tr>\n",
       "  </thead>\n",
       "  <tbody>\n",
       "    <tr>\n",
       "      <th>0</th>\n",
       "      <td>2</td>\n",
       "      <td>3</td>\n",
       "      <td>0.759596</td>\n",
       "      <td>752</td>\n",
       "      <td>0.847207</td>\n",
       "      <td>0.759596</td>\n",
       "      <td>0.005614</td>\n",
       "      <td>0.820832</td>\n",
       "      <td>1.241414</td>\n",
       "    </tr>\n",
       "  </tbody>\n",
       "</table>\n",
       "</div>"
      ],
      "text/plain": [
       "   radius  diameter  densities  number_of_edges  average_clustering  \\\n",
       "0       2         3   0.759596              752            0.847207   \n",
       "\n",
       "   avg_degree_centrality  avg_betweenness_centrality  \\\n",
       "0               0.759596                    0.005614   \n",
       "\n",
       "   avg_closeness_centrality  average_shortest_path_length  \n",
       "0                  0.820832                      1.241414  "
      ]
     },
     "execution_count": 26,
     "metadata": {},
     "output_type": "execute_result"
    }
   ],
   "source": [
    "nm.get_network_features(crossed_network_TwoReg_Ox_1_98_last100)"
   ]
  },
  {
   "cell_type": "code",
   "execution_count": 27,
   "id": "1750b54d-5d67-4889-8021-ca0e8b43ce33",
   "metadata": {},
   "outputs": [],
   "source": [
    "nm.get_network_features(crossed_network_TwoReg_Ox_1_98_last100).to_csv('Excels/17_1.csv')"
   ]
  },
  {
   "cell_type": "code",
   "execution_count": 28,
   "id": "e96749fd-3028-4c3d-8aef-0a7c4424d628",
   "metadata": {},
   "outputs": [
    {
     "data": {
      "text/plain": [
       "array({'GDP': 7, 'M1': 10, 'M2': 12, 'USD': 18, 'Coin': 20, 'Euro': 25, 'Gold': 26, 'FaravardehayeNafti': 27, 'DastgahayeBargi': 27, 'Brent Oil': 28, 'Mansojat': 30, 'EstekrajeNaft': 34, 'paper': 34, 'VasayelErtebati': 34, 'ChandReshteSanati': 34, 'CPI': 35, 'SayerMadan': 35, 'EntesharVaChap': 35, 'HOUSE': 36, 'CoalMining': 36, 'KanehayeGeyreFelezi': 36, 'Wood': 37, 'khodrosazi': 37, 'GhandVaShekar': 37, 'SarmayeGozari': 37, 'index': 38, 'MahsolateFelezi': 38, 'GazaeeBejozGhand': 38, 'Daroee': 38, 'SayerMali': 38, 'Rayaneh': 38, 'Mali': 38, 'Agriculture': 39, 'Lastic': 39, 'Shimiyaee': 39, 'KashiVaSeramik': 39, 'Siman': 39, 'Bank': 39, 'HamlVaNaghl': 39, 'Amlakva': 39, 'FaniVaMohandesi': 39, 'KanehayeFelezi': 39, 'FelezateAsasi': 40, 'Bimeh': 40, 'MashinAlat': 41},\n",
       "      dtype=object)"
      ]
     },
     "execution_count": 28,
     "metadata": {},
     "output_type": "execute_result"
    }
   ],
   "source": [
    "b17_1 = dict(nx.degree(crossed_network_TwoReg_Ox_1_98_last100))\n",
    "b17_1 = np.array(dict(sorted(b17_1.items(), key=lambda item: item[1])))\n",
    "b17_1"
   ]
  },
  {
   "cell_type": "code",
   "execution_count": 29,
   "id": "a63d4d66-1323-461d-8793-64f0745dabf0",
   "metadata": {},
   "outputs": [],
   "source": [
    "crossed_network_TwoReg_Ox_2_98_last100 = nm.construct_network(tehran_df_TwoReg_Ox_2_same_length_98[-100:], method='crossed_100_', threshold=thr17)"
   ]
  },
  {
   "cell_type": "code",
   "execution_count": 30,
   "id": "19ed221e-b1ea-4ae2-9e6c-3b2607e7255e",
   "metadata": {},
   "outputs": [
    {
     "data": {
      "text/html": [
       "<div>\n",
       "<style scoped>\n",
       "    .dataframe tbody tr th:only-of-type {\n",
       "        vertical-align: middle;\n",
       "    }\n",
       "\n",
       "    .dataframe tbody tr th {\n",
       "        vertical-align: top;\n",
       "    }\n",
       "\n",
       "    .dataframe thead th {\n",
       "        text-align: right;\n",
       "    }\n",
       "</style>\n",
       "<table border=\"1\" class=\"dataframe\">\n",
       "  <thead>\n",
       "    <tr style=\"text-align: right;\">\n",
       "      <th></th>\n",
       "      <th>radius</th>\n",
       "      <th>diameter</th>\n",
       "      <th>densities</th>\n",
       "      <th>number_of_edges</th>\n",
       "      <th>average_clustering</th>\n",
       "      <th>avg_degree_centrality</th>\n",
       "      <th>avg_betweenness_centrality</th>\n",
       "      <th>avg_closeness_centrality</th>\n",
       "      <th>average_shortest_path_length</th>\n",
       "    </tr>\n",
       "  </thead>\n",
       "  <tbody>\n",
       "    <tr>\n",
       "      <th>0</th>\n",
       "      <td>2</td>\n",
       "      <td>2</td>\n",
       "      <td>0.574747</td>\n",
       "      <td>569</td>\n",
       "      <td>0.613882</td>\n",
       "      <td>0.574747</td>\n",
       "      <td>0.00989</td>\n",
       "      <td>0.706287</td>\n",
       "      <td>1.425253</td>\n",
       "    </tr>\n",
       "  </tbody>\n",
       "</table>\n",
       "</div>"
      ],
      "text/plain": [
       "   radius  diameter  densities  number_of_edges  average_clustering  \\\n",
       "0       2         2   0.574747              569            0.613882   \n",
       "\n",
       "   avg_degree_centrality  avg_betweenness_centrality  \\\n",
       "0               0.574747                     0.00989   \n",
       "\n",
       "   avg_closeness_centrality  average_shortest_path_length  \n",
       "0                  0.706287                      1.425253  "
      ]
     },
     "execution_count": 30,
     "metadata": {},
     "output_type": "execute_result"
    }
   ],
   "source": [
    "nm.get_network_features(crossed_network_TwoReg_Ox_2_98_last100)"
   ]
  },
  {
   "cell_type": "code",
   "execution_count": 31,
   "id": "3f48918d-4d50-41b2-8ab8-f875dc53753c",
   "metadata": {},
   "outputs": [],
   "source": [
    "nm.get_network_features(crossed_network_TwoReg_Ox_2_98_last100).to_csv('Excels/17_2.csv')"
   ]
  },
  {
   "cell_type": "code",
   "execution_count": 32,
   "id": "c0f820e1-e5bb-401e-bbde-dd08d6175c3e",
   "metadata": {},
   "outputs": [
    {
     "data": {
      "text/plain": [
       "array({'USD': 11, 'FaravardehayeNafti': 15, 'Gold': 16, 'Brent Oil': 18, 'Coin': 18, 'KanehayeFelezi': 19, 'EstekrajeNaft': 20, 'Bimeh': 21, 'Euro': 21, 'GDP': 21, 'Wood': 22, 'Bank': 22, 'Siman': 23, 'VasayelErtebati': 23, 'CPI': 23, 'Mali': 24, 'SayerMadan': 24, 'HOUSE': 25, 'Agriculture': 25, 'MahsolateFelezi': 25, 'FelezateAsasi': 25, 'Mansojat': 25, 'ChandReshteSanati': 26, 'SarmayeGozari': 26, 'M1': 26, 'GazaeeBejozGhand': 26, 'CoalMining': 27, 'GhandVaShekar': 27, 'KashiVaSeramik': 27, 'Rayaneh': 27, 'index': 28, 'paper': 28, 'Shimiyaee': 28, 'khodrosazi': 28, 'DastgahayeBargi': 29, 'EntesharVaChap': 29, 'M2': 30, 'HamlVaNaghl': 30, 'SayerMali': 31, 'Amlakva': 32, 'Daroee': 32, 'MashinAlat': 33, 'KanehayeGeyreFelezi': 33, 'FaniVaMohandesi': 34, 'Lastic': 35},\n",
       "      dtype=object)"
      ]
     },
     "execution_count": 32,
     "metadata": {},
     "output_type": "execute_result"
    }
   ],
   "source": [
    "b17_2 = dict(nx.degree(crossed_network_TwoReg_Ox_2_98_last100))\n",
    "b17_2 = np.array(dict(sorted(b17_2.items(), key=lambda item: item[1])))\n",
    "b17_2"
   ]
  },
  {
   "cell_type": "markdown",
   "id": "1d716da7-a2e6-4ad5-b0e7-415dcf9168a1",
   "metadata": {},
   "source": [
    "# 18) Tehran 2 Regime crossed (Based on Median Threshold) Period of 90 Far - 98 Dey/ 50 windows of 100 Records"
   ]
  },
  {
   "cell_type": "code",
   "execution_count": 23,
   "id": "155b1f84-6a3f-4c4e-a267-6b1a9787f3c5",
   "metadata": {},
   "outputs": [
    {
     "name": "stdout",
     "output_type": "stream",
     "text": [
      "Number of columns data in our DataFrame is = 46\n"
     ]
    },
    {
     "name": "stderr",
     "output_type": "stream",
     "text": [
      "/Library/Frameworks/Python.framework/Versions/3.11/lib/python3.11/site-packages/numpy/core/fromnumeric.py:3432: RuntimeWarning: Mean of empty slice.\n",
      "  return _methods._mean(a, axis=axis, dtype=dtype,\n",
      "/Library/Frameworks/Python.framework/Versions/3.11/lib/python3.11/site-packages/numpy/core/_methods.py:190: RuntimeWarning: invalid value encountered in double_scalars\n",
      "  ret = ret.dtype.type(ret / rcount)\n",
      "/Library/Frameworks/Python.framework/Versions/3.11/lib/python3.11/site-packages/numpy/core/fromnumeric.py:3432: RuntimeWarning: Mean of empty slice.\n",
      "  return _methods._mean(a, axis=axis, dtype=dtype,\n",
      "/Library/Frameworks/Python.framework/Versions/3.11/lib/python3.11/site-packages/numpy/core/_methods.py:190: RuntimeWarning: invalid value encountered in double_scalars\n",
      "  ret = ret.dtype.type(ret / rcount)\n",
      "/Library/Frameworks/Python.framework/Versions/3.11/lib/python3.11/site-packages/numpy/core/fromnumeric.py:3432: RuntimeWarning: Mean of empty slice.\n",
      "  return _methods._mean(a, axis=axis, dtype=dtype,\n",
      "/Library/Frameworks/Python.framework/Versions/3.11/lib/python3.11/site-packages/numpy/core/_methods.py:190: RuntimeWarning: invalid value encountered in double_scalars\n",
      "  ret = ret.dtype.type(ret / rcount)\n",
      "/Library/Frameworks/Python.framework/Versions/3.11/lib/python3.11/site-packages/numpy/core/fromnumeric.py:3432: RuntimeWarning: Mean of empty slice.\n",
      "  return _methods._mean(a, axis=axis, dtype=dtype,\n",
      "/Library/Frameworks/Python.framework/Versions/3.11/lib/python3.11/site-packages/numpy/core/_methods.py:190: RuntimeWarning: invalid value encountered in double_scalars\n",
      "  ret = ret.dtype.type(ret / rcount)\n",
      "/Library/Frameworks/Python.framework/Versions/3.11/lib/python3.11/site-packages/numpy/core/fromnumeric.py:3432: RuntimeWarning: Mean of empty slice.\n",
      "  return _methods._mean(a, axis=axis, dtype=dtype,\n",
      "/Library/Frameworks/Python.framework/Versions/3.11/lib/python3.11/site-packages/numpy/core/_methods.py:190: RuntimeWarning: invalid value encountered in double_scalars\n",
      "  ret = ret.dtype.type(ret / rcount)\n",
      "/Library/Frameworks/Python.framework/Versions/3.11/lib/python3.11/site-packages/numpy/core/fromnumeric.py:3432: RuntimeWarning: Mean of empty slice.\n",
      "  return _methods._mean(a, axis=axis, dtype=dtype,\n",
      "/Library/Frameworks/Python.framework/Versions/3.11/lib/python3.11/site-packages/numpy/core/_methods.py:190: RuntimeWarning: invalid value encountered in double_scalars\n",
      "  ret = ret.dtype.type(ret / rcount)\n",
      "/Library/Frameworks/Python.framework/Versions/3.11/lib/python3.11/site-packages/numpy/core/fromnumeric.py:3432: RuntimeWarning: Mean of empty slice.\n",
      "  return _methods._mean(a, axis=axis, dtype=dtype,\n",
      "/Library/Frameworks/Python.framework/Versions/3.11/lib/python3.11/site-packages/numpy/core/_methods.py:190: RuntimeWarning: invalid value encountered in double_scalars\n",
      "  ret = ret.dtype.type(ret / rcount)\n",
      "/Library/Frameworks/Python.framework/Versions/3.11/lib/python3.11/site-packages/numpy/core/fromnumeric.py:3432: RuntimeWarning: Mean of empty slice.\n",
      "  return _methods._mean(a, axis=axis, dtype=dtype,\n",
      "/Library/Frameworks/Python.framework/Versions/3.11/lib/python3.11/site-packages/numpy/core/_methods.py:190: RuntimeWarning: invalid value encountered in double_scalars\n",
      "  ret = ret.dtype.type(ret / rcount)\n",
      "/Library/Frameworks/Python.framework/Versions/3.11/lib/python3.11/site-packages/numpy/core/fromnumeric.py:3432: RuntimeWarning: Mean of empty slice.\n",
      "  return _methods._mean(a, axis=axis, dtype=dtype,\n",
      "/Library/Frameworks/Python.framework/Versions/3.11/lib/python3.11/site-packages/numpy/core/_methods.py:190: RuntimeWarning: invalid value encountered in double_scalars\n",
      "  ret = ret.dtype.type(ret / rcount)\n",
      "/Library/Frameworks/Python.framework/Versions/3.11/lib/python3.11/site-packages/numpy/core/fromnumeric.py:3432: RuntimeWarning: Mean of empty slice.\n",
      "  return _methods._mean(a, axis=axis, dtype=dtype,\n",
      "/Library/Frameworks/Python.framework/Versions/3.11/lib/python3.11/site-packages/numpy/core/_methods.py:190: RuntimeWarning: invalid value encountered in double_scalars\n",
      "  ret = ret.dtype.type(ret / rcount)\n",
      "/Library/Frameworks/Python.framework/Versions/3.11/lib/python3.11/site-packages/numpy/core/fromnumeric.py:3432: RuntimeWarning: Mean of empty slice.\n",
      "  return _methods._mean(a, axis=axis, dtype=dtype,\n",
      "/Library/Frameworks/Python.framework/Versions/3.11/lib/python3.11/site-packages/numpy/core/_methods.py:190: RuntimeWarning: invalid value encountered in double_scalars\n",
      "  ret = ret.dtype.type(ret / rcount)\n",
      "/Library/Frameworks/Python.framework/Versions/3.11/lib/python3.11/site-packages/numpy/core/fromnumeric.py:3432: RuntimeWarning: Mean of empty slice.\n",
      "  return _methods._mean(a, axis=axis, dtype=dtype,\n",
      "/Library/Frameworks/Python.framework/Versions/3.11/lib/python3.11/site-packages/numpy/core/_methods.py:190: RuntimeWarning: invalid value encountered in double_scalars\n",
      "  ret = ret.dtype.type(ret / rcount)\n",
      "/Library/Frameworks/Python.framework/Versions/3.11/lib/python3.11/site-packages/numpy/core/fromnumeric.py:3432: RuntimeWarning: Mean of empty slice.\n",
      "  return _methods._mean(a, axis=axis, dtype=dtype,\n",
      "/Library/Frameworks/Python.framework/Versions/3.11/lib/python3.11/site-packages/numpy/core/_methods.py:190: RuntimeWarning: invalid value encountered in double_scalars\n",
      "  ret = ret.dtype.type(ret / rcount)\n",
      "/Library/Frameworks/Python.framework/Versions/3.11/lib/python3.11/site-packages/numpy/core/fromnumeric.py:3432: RuntimeWarning: Mean of empty slice.\n",
      "  return _methods._mean(a, axis=axis, dtype=dtype,\n",
      "/Library/Frameworks/Python.framework/Versions/3.11/lib/python3.11/site-packages/numpy/core/_methods.py:190: RuntimeWarning: invalid value encountered in double_scalars\n",
      "  ret = ret.dtype.type(ret / rcount)\n",
      "/Library/Frameworks/Python.framework/Versions/3.11/lib/python3.11/site-packages/numpy/core/fromnumeric.py:3432: RuntimeWarning: Mean of empty slice.\n",
      "  return _methods._mean(a, axis=axis, dtype=dtype,\n",
      "/Library/Frameworks/Python.framework/Versions/3.11/lib/python3.11/site-packages/numpy/core/_methods.py:190: RuntimeWarning: invalid value encountered in double_scalars\n",
      "  ret = ret.dtype.type(ret / rcount)\n",
      "/Library/Frameworks/Python.framework/Versions/3.11/lib/python3.11/site-packages/numpy/core/fromnumeric.py:3432: RuntimeWarning: Mean of empty slice.\n",
      "  return _methods._mean(a, axis=axis, dtype=dtype,\n",
      "/Library/Frameworks/Python.framework/Versions/3.11/lib/python3.11/site-packages/numpy/core/_methods.py:190: RuntimeWarning: invalid value encountered in double_scalars\n",
      "  ret = ret.dtype.type(ret / rcount)\n",
      "/Library/Frameworks/Python.framework/Versions/3.11/lib/python3.11/site-packages/numpy/core/fromnumeric.py:3432: RuntimeWarning: Mean of empty slice.\n",
      "  return _methods._mean(a, axis=axis, dtype=dtype,\n",
      "/Library/Frameworks/Python.framework/Versions/3.11/lib/python3.11/site-packages/numpy/core/_methods.py:190: RuntimeWarning: invalid value encountered in double_scalars\n",
      "  ret = ret.dtype.type(ret / rcount)\n",
      "/Library/Frameworks/Python.framework/Versions/3.11/lib/python3.11/site-packages/numpy/core/fromnumeric.py:3432: RuntimeWarning: Mean of empty slice.\n",
      "  return _methods._mean(a, axis=axis, dtype=dtype,\n",
      "/Library/Frameworks/Python.framework/Versions/3.11/lib/python3.11/site-packages/numpy/core/_methods.py:190: RuntimeWarning: invalid value encountered in double_scalars\n",
      "  ret = ret.dtype.type(ret / rcount)\n",
      "/Library/Frameworks/Python.framework/Versions/3.11/lib/python3.11/site-packages/numpy/core/fromnumeric.py:3432: RuntimeWarning: Mean of empty slice.\n",
      "  return _methods._mean(a, axis=axis, dtype=dtype,\n",
      "/Library/Frameworks/Python.framework/Versions/3.11/lib/python3.11/site-packages/numpy/core/_methods.py:190: RuntimeWarning: invalid value encountered in double_scalars\n",
      "  ret = ret.dtype.type(ret / rcount)\n",
      "/Library/Frameworks/Python.framework/Versions/3.11/lib/python3.11/site-packages/numpy/core/fromnumeric.py:3432: RuntimeWarning: Mean of empty slice.\n",
      "  return _methods._mean(a, axis=axis, dtype=dtype,\n",
      "/Library/Frameworks/Python.framework/Versions/3.11/lib/python3.11/site-packages/numpy/core/_methods.py:190: RuntimeWarning: invalid value encountered in double_scalars\n",
      "  ret = ret.dtype.type(ret / rcount)\n",
      "/Library/Frameworks/Python.framework/Versions/3.11/lib/python3.11/site-packages/numpy/core/fromnumeric.py:3432: RuntimeWarning: Mean of empty slice.\n",
      "  return _methods._mean(a, axis=axis, dtype=dtype,\n",
      "/Library/Frameworks/Python.framework/Versions/3.11/lib/python3.11/site-packages/numpy/core/_methods.py:190: RuntimeWarning: invalid value encountered in double_scalars\n",
      "  ret = ret.dtype.type(ret / rcount)\n",
      "/Library/Frameworks/Python.framework/Versions/3.11/lib/python3.11/site-packages/numpy/core/fromnumeric.py:3432: RuntimeWarning: Mean of empty slice.\n",
      "  return _methods._mean(a, axis=axis, dtype=dtype,\n",
      "/Library/Frameworks/Python.framework/Versions/3.11/lib/python3.11/site-packages/numpy/core/_methods.py:190: RuntimeWarning: invalid value encountered in double_scalars\n",
      "  ret = ret.dtype.type(ret / rcount)\n",
      "/Library/Frameworks/Python.framework/Versions/3.11/lib/python3.11/site-packages/numpy/core/fromnumeric.py:3432: RuntimeWarning: Mean of empty slice.\n",
      "  return _methods._mean(a, axis=axis, dtype=dtype,\n",
      "/Library/Frameworks/Python.framework/Versions/3.11/lib/python3.11/site-packages/numpy/core/_methods.py:190: RuntimeWarning: invalid value encountered in double_scalars\n",
      "  ret = ret.dtype.type(ret / rcount)\n",
      "/Library/Frameworks/Python.framework/Versions/3.11/lib/python3.11/site-packages/numpy/core/fromnumeric.py:3432: RuntimeWarning: Mean of empty slice.\n",
      "  return _methods._mean(a, axis=axis, dtype=dtype,\n",
      "/Library/Frameworks/Python.framework/Versions/3.11/lib/python3.11/site-packages/numpy/core/_methods.py:190: RuntimeWarning: invalid value encountered in double_scalars\n",
      "  ret = ret.dtype.type(ret / rcount)\n",
      "/Library/Frameworks/Python.framework/Versions/3.11/lib/python3.11/site-packages/numpy/core/fromnumeric.py:3432: RuntimeWarning: Mean of empty slice.\n",
      "  return _methods._mean(a, axis=axis, dtype=dtype,\n",
      "/Library/Frameworks/Python.framework/Versions/3.11/lib/python3.11/site-packages/numpy/core/_methods.py:190: RuntimeWarning: invalid value encountered in double_scalars\n",
      "  ret = ret.dtype.type(ret / rcount)\n",
      "/Library/Frameworks/Python.framework/Versions/3.11/lib/python3.11/site-packages/numpy/core/fromnumeric.py:3432: RuntimeWarning: Mean of empty slice.\n",
      "  return _methods._mean(a, axis=axis, dtype=dtype,\n",
      "/Library/Frameworks/Python.framework/Versions/3.11/lib/python3.11/site-packages/numpy/core/_methods.py:190: RuntimeWarning: invalid value encountered in double_scalars\n",
      "  ret = ret.dtype.type(ret / rcount)\n",
      "/Library/Frameworks/Python.framework/Versions/3.11/lib/python3.11/site-packages/numpy/core/fromnumeric.py:3432: RuntimeWarning: Mean of empty slice.\n",
      "  return _methods._mean(a, axis=axis, dtype=dtype,\n",
      "/Library/Frameworks/Python.framework/Versions/3.11/lib/python3.11/site-packages/numpy/core/_methods.py:190: RuntimeWarning: invalid value encountered in double_scalars\n",
      "  ret = ret.dtype.type(ret / rcount)\n",
      "/Library/Frameworks/Python.framework/Versions/3.11/lib/python3.11/site-packages/numpy/core/fromnumeric.py:3432: RuntimeWarning: Mean of empty slice.\n",
      "  return _methods._mean(a, axis=axis, dtype=dtype,\n",
      "/Library/Frameworks/Python.framework/Versions/3.11/lib/python3.11/site-packages/numpy/core/_methods.py:190: RuntimeWarning: invalid value encountered in double_scalars\n",
      "  ret = ret.dtype.type(ret / rcount)\n",
      "/Library/Frameworks/Python.framework/Versions/3.11/lib/python3.11/site-packages/numpy/core/fromnumeric.py:3432: RuntimeWarning: Mean of empty slice.\n",
      "  return _methods._mean(a, axis=axis, dtype=dtype,\n",
      "/Library/Frameworks/Python.framework/Versions/3.11/lib/python3.11/site-packages/numpy/core/_methods.py:190: RuntimeWarning: invalid value encountered in double_scalars\n",
      "  ret = ret.dtype.type(ret / rcount)\n",
      "/Library/Frameworks/Python.framework/Versions/3.11/lib/python3.11/site-packages/numpy/core/fromnumeric.py:3432: RuntimeWarning: Mean of empty slice.\n",
      "  return _methods._mean(a, axis=axis, dtype=dtype,\n",
      "/Library/Frameworks/Python.framework/Versions/3.11/lib/python3.11/site-packages/numpy/core/_methods.py:190: RuntimeWarning: invalid value encountered in double_scalars\n",
      "  ret = ret.dtype.type(ret / rcount)\n",
      "/Library/Frameworks/Python.framework/Versions/3.11/lib/python3.11/site-packages/numpy/core/fromnumeric.py:3432: RuntimeWarning: Mean of empty slice.\n",
      "  return _methods._mean(a, axis=axis, dtype=dtype,\n",
      "/Library/Frameworks/Python.framework/Versions/3.11/lib/python3.11/site-packages/numpy/core/_methods.py:190: RuntimeWarning: invalid value encountered in double_scalars\n",
      "  ret = ret.dtype.type(ret / rcount)\n",
      "/Library/Frameworks/Python.framework/Versions/3.11/lib/python3.11/site-packages/numpy/core/fromnumeric.py:3432: RuntimeWarning: Mean of empty slice.\n",
      "  return _methods._mean(a, axis=axis, dtype=dtype,\n",
      "/Library/Frameworks/Python.framework/Versions/3.11/lib/python3.11/site-packages/numpy/core/_methods.py:190: RuntimeWarning: invalid value encountered in double_scalars\n",
      "  ret = ret.dtype.type(ret / rcount)\n",
      "/Library/Frameworks/Python.framework/Versions/3.11/lib/python3.11/site-packages/numpy/core/fromnumeric.py:3432: RuntimeWarning: Mean of empty slice.\n",
      "  return _methods._mean(a, axis=axis, dtype=dtype,\n",
      "/Library/Frameworks/Python.framework/Versions/3.11/lib/python3.11/site-packages/numpy/core/_methods.py:190: RuntimeWarning: invalid value encountered in double_scalars\n",
      "  ret = ret.dtype.type(ret / rcount)\n",
      "/Library/Frameworks/Python.framework/Versions/3.11/lib/python3.11/site-packages/numpy/core/fromnumeric.py:3432: RuntimeWarning: Mean of empty slice.\n",
      "  return _methods._mean(a, axis=axis, dtype=dtype,\n",
      "/Library/Frameworks/Python.framework/Versions/3.11/lib/python3.11/site-packages/numpy/core/_methods.py:190: RuntimeWarning: invalid value encountered in double_scalars\n",
      "  ret = ret.dtype.type(ret / rcount)\n",
      "/Library/Frameworks/Python.framework/Versions/3.11/lib/python3.11/site-packages/numpy/core/fromnumeric.py:3432: RuntimeWarning: Mean of empty slice.\n",
      "  return _methods._mean(a, axis=axis, dtype=dtype,\n",
      "/Library/Frameworks/Python.framework/Versions/3.11/lib/python3.11/site-packages/numpy/core/_methods.py:190: RuntimeWarning: invalid value encountered in double_scalars\n",
      "  ret = ret.dtype.type(ret / rcount)\n",
      "/Library/Frameworks/Python.framework/Versions/3.11/lib/python3.11/site-packages/numpy/core/fromnumeric.py:3432: RuntimeWarning: Mean of empty slice.\n",
      "  return _methods._mean(a, axis=axis, dtype=dtype,\n",
      "/Library/Frameworks/Python.framework/Versions/3.11/lib/python3.11/site-packages/numpy/core/_methods.py:190: RuntimeWarning: invalid value encountered in double_scalars\n",
      "  ret = ret.dtype.type(ret / rcount)\n",
      "/Library/Frameworks/Python.framework/Versions/3.11/lib/python3.11/site-packages/numpy/core/fromnumeric.py:3432: RuntimeWarning: Mean of empty slice.\n",
      "  return _methods._mean(a, axis=axis, dtype=dtype,\n",
      "/Library/Frameworks/Python.framework/Versions/3.11/lib/python3.11/site-packages/numpy/core/_methods.py:190: RuntimeWarning: invalid value encountered in double_scalars\n",
      "  ret = ret.dtype.type(ret / rcount)\n",
      "/Library/Frameworks/Python.framework/Versions/3.11/lib/python3.11/site-packages/numpy/core/fromnumeric.py:3432: RuntimeWarning: Mean of empty slice.\n",
      "  return _methods._mean(a, axis=axis, dtype=dtype,\n",
      "/Library/Frameworks/Python.framework/Versions/3.11/lib/python3.11/site-packages/numpy/core/_methods.py:190: RuntimeWarning: invalid value encountered in double_scalars\n",
      "  ret = ret.dtype.type(ret / rcount)\n",
      "/Library/Frameworks/Python.framework/Versions/3.11/lib/python3.11/site-packages/numpy/core/fromnumeric.py:3432: RuntimeWarning: Mean of empty slice.\n",
      "  return _methods._mean(a, axis=axis, dtype=dtype,\n",
      "/Library/Frameworks/Python.framework/Versions/3.11/lib/python3.11/site-packages/numpy/core/_methods.py:190: RuntimeWarning: invalid value encountered in double_scalars\n",
      "  ret = ret.dtype.type(ret / rcount)\n",
      "/Library/Frameworks/Python.framework/Versions/3.11/lib/python3.11/site-packages/numpy/core/fromnumeric.py:3432: RuntimeWarning: Mean of empty slice.\n",
      "  return _methods._mean(a, axis=axis, dtype=dtype,\n",
      "/Library/Frameworks/Python.framework/Versions/3.11/lib/python3.11/site-packages/numpy/core/_methods.py:190: RuntimeWarning: invalid value encountered in double_scalars\n",
      "  ret = ret.dtype.type(ret / rcount)\n",
      "/Library/Frameworks/Python.framework/Versions/3.11/lib/python3.11/site-packages/numpy/core/fromnumeric.py:3432: RuntimeWarning: Mean of empty slice.\n",
      "  return _methods._mean(a, axis=axis, dtype=dtype,\n",
      "/Library/Frameworks/Python.framework/Versions/3.11/lib/python3.11/site-packages/numpy/core/_methods.py:190: RuntimeWarning: invalid value encountered in double_scalars\n",
      "  ret = ret.dtype.type(ret / rcount)\n",
      "/Library/Frameworks/Python.framework/Versions/3.11/lib/python3.11/site-packages/numpy/core/fromnumeric.py:3432: RuntimeWarning: Mean of empty slice.\n",
      "  return _methods._mean(a, axis=axis, dtype=dtype,\n",
      "/Library/Frameworks/Python.framework/Versions/3.11/lib/python3.11/site-packages/numpy/core/_methods.py:190: RuntimeWarning: invalid value encountered in double_scalars\n",
      "  ret = ret.dtype.type(ret / rcount)\n",
      "/Library/Frameworks/Python.framework/Versions/3.11/lib/python3.11/site-packages/numpy/core/fromnumeric.py:3432: RuntimeWarning: Mean of empty slice.\n",
      "  return _methods._mean(a, axis=axis, dtype=dtype,\n",
      "/Library/Frameworks/Python.framework/Versions/3.11/lib/python3.11/site-packages/numpy/core/_methods.py:190: RuntimeWarning: invalid value encountered in double_scalars\n",
      "  ret = ret.dtype.type(ret / rcount)\n",
      "/Library/Frameworks/Python.framework/Versions/3.11/lib/python3.11/site-packages/numpy/core/fromnumeric.py:3432: RuntimeWarning: Mean of empty slice.\n",
      "  return _methods._mean(a, axis=axis, dtype=dtype,\n",
      "/Library/Frameworks/Python.framework/Versions/3.11/lib/python3.11/site-packages/numpy/core/_methods.py:190: RuntimeWarning: invalid value encountered in double_scalars\n",
      "  ret = ret.dtype.type(ret / rcount)\n",
      "/Library/Frameworks/Python.framework/Versions/3.11/lib/python3.11/site-packages/numpy/core/fromnumeric.py:3432: RuntimeWarning: Mean of empty slice.\n",
      "  return _methods._mean(a, axis=axis, dtype=dtype,\n",
      "/Library/Frameworks/Python.framework/Versions/3.11/lib/python3.11/site-packages/numpy/core/_methods.py:190: RuntimeWarning: invalid value encountered in double_scalars\n",
      "  ret = ret.dtype.type(ret / rcount)\n"
     ]
    },
    {
     "name": "stdout",
     "output_type": "stream",
     "text": [
      "fixed_thr= 1.0\n"
     ]
    },
    {
     "name": "stderr",
     "output_type": "stream",
     "text": [
      "/Library/Frameworks/Python.framework/Versions/3.11/lib/python3.11/site-packages/numpy/core/fromnumeric.py:3432: RuntimeWarning: Mean of empty slice.\n",
      "  return _methods._mean(a, axis=axis, dtype=dtype,\n",
      "/Library/Frameworks/Python.framework/Versions/3.11/lib/python3.11/site-packages/numpy/core/_methods.py:190: RuntimeWarning: invalid value encountered in double_scalars\n",
      "  ret = ret.dtype.type(ret / rcount)\n",
      "/Library/Frameworks/Python.framework/Versions/3.11/lib/python3.11/site-packages/numpy/core/fromnumeric.py:3432: RuntimeWarning: Mean of empty slice.\n",
      "  return _methods._mean(a, axis=axis, dtype=dtype,\n",
      "/Library/Frameworks/Python.framework/Versions/3.11/lib/python3.11/site-packages/numpy/core/_methods.py:190: RuntimeWarning: invalid value encountered in double_scalars\n",
      "  ret = ret.dtype.type(ret / rcount)\n",
      "/Library/Frameworks/Python.framework/Versions/3.11/lib/python3.11/site-packages/numpy/core/fromnumeric.py:3432: RuntimeWarning: Mean of empty slice.\n",
      "  return _methods._mean(a, axis=axis, dtype=dtype,\n",
      "/Library/Frameworks/Python.framework/Versions/3.11/lib/python3.11/site-packages/numpy/core/_methods.py:190: RuntimeWarning: invalid value encountered in double_scalars\n",
      "  ret = ret.dtype.type(ret / rcount)\n",
      "/Library/Frameworks/Python.framework/Versions/3.11/lib/python3.11/site-packages/numpy/core/fromnumeric.py:3432: RuntimeWarning: Mean of empty slice.\n",
      "  return _methods._mean(a, axis=axis, dtype=dtype,\n",
      "/Library/Frameworks/Python.framework/Versions/3.11/lib/python3.11/site-packages/numpy/core/_methods.py:190: RuntimeWarning: invalid value encountered in double_scalars\n",
      "  ret = ret.dtype.type(ret / rcount)\n"
     ]
    }
   ],
   "source": [
    "nm = Net_moduls()\n",
    "crossed_network_TwoReg_Ox_90_98_averged = nm.get_network_features_averaged_median(tehran_df, \\\n",
    "                                                                                  regimes_column= tehran_df_reg['Ox_2'].iloc[-300:],\\\n",
    "                                                                                  method='crossed_100_',edges_threshold=200, \\\n",
    "                                                                                  target_window=100, \\\n",
    "                                                                                  target_length=50)"
   ]
  },
  {
   "cell_type": "code",
   "execution_count": 24,
   "id": "eed9f31a-96e1-4fd8-8597-4d28695382a4",
   "metadata": {},
   "outputs": [
    {
     "data": {
      "text/html": [
       "<div>\n",
       "<style scoped>\n",
       "    .dataframe tbody tr th:only-of-type {\n",
       "        vertical-align: middle;\n",
       "    }\n",
       "\n",
       "    .dataframe tbody tr th {\n",
       "        vertical-align: top;\n",
       "    }\n",
       "\n",
       "    .dataframe thead th {\n",
       "        text-align: right;\n",
       "    }\n",
       "</style>\n",
       "<table border=\"1\" class=\"dataframe\">\n",
       "  <thead>\n",
       "    <tr style=\"text-align: right;\">\n",
       "      <th></th>\n",
       "      <th>radius</th>\n",
       "      <th>diameter</th>\n",
       "      <th>densities</th>\n",
       "      <th>number_of_edges</th>\n",
       "      <th>average_clustering</th>\n",
       "      <th>avg_degree_centrality</th>\n",
       "      <th>avg_betweenness_centrality</th>\n",
       "      <th>avg_closeness_centrality</th>\n",
       "      <th>average_shortest_path_length</th>\n",
       "    </tr>\n",
       "  </thead>\n",
       "  <tbody>\n",
       "    <tr>\n",
       "      <th>Means</th>\n",
       "      <td>NaN</td>\n",
       "      <td>NaN</td>\n",
       "      <td>0.0</td>\n",
       "      <td>0.0</td>\n",
       "      <td>NaN</td>\n",
       "      <td>NaN</td>\n",
       "      <td>NaN</td>\n",
       "      <td>NaN</td>\n",
       "      <td>NaN</td>\n",
       "    </tr>\n",
       "    <tr>\n",
       "      <th>STDs</th>\n",
       "      <td>NaN</td>\n",
       "      <td>NaN</td>\n",
       "      <td>0.0</td>\n",
       "      <td>0.0</td>\n",
       "      <td>NaN</td>\n",
       "      <td>NaN</td>\n",
       "      <td>NaN</td>\n",
       "      <td>NaN</td>\n",
       "      <td>NaN</td>\n",
       "    </tr>\n",
       "  </tbody>\n",
       "</table>\n",
       "</div>"
      ],
      "text/plain": [
       "       radius  diameter  densities  number_of_edges  average_clustering  \\\n",
       "Means     NaN       NaN        0.0              0.0                 NaN   \n",
       "STDs      NaN       NaN        0.0              0.0                 NaN   \n",
       "\n",
       "       avg_degree_centrality  avg_betweenness_centrality  \\\n",
       "Means                    NaN                         NaN   \n",
       "STDs                     NaN                         NaN   \n",
       "\n",
       "       avg_closeness_centrality  average_shortest_path_length  \n",
       "Means                       NaN                           NaN  \n",
       "STDs                        NaN                           NaN  "
      ]
     },
     "execution_count": 24,
     "metadata": {},
     "output_type": "execute_result"
    }
   ],
   "source": [
    "crossed_network_TwoReg_Ox_90_98_averged"
   ]
  },
  {
   "cell_type": "markdown",
   "id": "1db1ac32-29e5-4f61-9e3d-f30f5050bc9c",
   "metadata": {},
   "source": [
    "# 19) Tehran 2 Regime crossed (Based on Median Threshold) Period of 90 Far - 00 Far/ 50 windows of 100 Records"
   ]
  },
  {
   "cell_type": "code",
   "execution_count": 128,
   "id": "d962c8f4-3475-42c9-8616-78df2bf11bc4",
   "metadata": {
    "tags": []
   },
   "outputs": [
    {
     "name": "stdout",
     "output_type": "stream",
     "text": [
      "Number of columns data in our DataFrame is = 46\n",
      "fixed_thr= 0.52\n"
     ]
    }
   ],
   "source": [
    "nm = Net_moduls()\n",
    "crossed_network_TwoReg_Ox_90_00_averged = nm.get_network_features_averaged_median(tehran_df_completeDates, \\\n",
    "                                                                                  regimes_column= tehran_df_reg['Ox_2'],\\\n",
    "                                                                                  method='crossed_100',edges_threshold=200, \\\n",
    "                                                                                  target_window=100, target_length=50)"
   ]
  },
  {
   "cell_type": "code",
   "execution_count": 129,
   "id": "9e81a26b-d922-418d-b9d2-8b3c2247339d",
   "metadata": {},
   "outputs": [
    {
     "data": {
      "text/html": [
       "<div>\n",
       "<style scoped>\n",
       "    .dataframe tbody tr th:only-of-type {\n",
       "        vertical-align: middle;\n",
       "    }\n",
       "\n",
       "    .dataframe tbody tr th {\n",
       "        vertical-align: top;\n",
       "    }\n",
       "\n",
       "    .dataframe thead th {\n",
       "        text-align: right;\n",
       "    }\n",
       "</style>\n",
       "<table border=\"1\" class=\"dataframe\">\n",
       "  <thead>\n",
       "    <tr style=\"text-align: right;\">\n",
       "      <th></th>\n",
       "      <th>radius</th>\n",
       "      <th>diameter</th>\n",
       "      <th>densities</th>\n",
       "      <th>number_of_edges</th>\n",
       "      <th>average_clustering</th>\n",
       "      <th>avg_degree_centrality</th>\n",
       "      <th>avg_betweenness_centrality</th>\n",
       "      <th>avg_closeness_centrality</th>\n",
       "      <th>average_shortest_path_length</th>\n",
       "    </tr>\n",
       "  </thead>\n",
       "  <tbody>\n",
       "    <tr>\n",
       "      <th>Means</th>\n",
       "      <td>2.0</td>\n",
       "      <td>2.620000</td>\n",
       "      <td>0.310860</td>\n",
       "      <td>321.740000</td>\n",
       "      <td>0.422901</td>\n",
       "      <td>0.310860</td>\n",
       "      <td>0.015767</td>\n",
       "      <td>0.599073</td>\n",
       "      <td>1.693758</td>\n",
       "    </tr>\n",
       "    <tr>\n",
       "      <th>STDs</th>\n",
       "      <td>0.0</td>\n",
       "      <td>0.490314</td>\n",
       "      <td>0.023116</td>\n",
       "      <td>23.924891</td>\n",
       "      <td>0.039456</td>\n",
       "      <td>0.023116</td>\n",
       "      <td>0.000625</td>\n",
       "      <td>0.010043</td>\n",
       "      <td>0.027521</td>\n",
       "    </tr>\n",
       "    <tr>\n",
       "      <th>Means</th>\n",
       "      <td>2.0</td>\n",
       "      <td>2.060000</td>\n",
       "      <td>0.485662</td>\n",
       "      <td>502.660000</td>\n",
       "      <td>0.501777</td>\n",
       "      <td>0.485662</td>\n",
       "      <td>0.011691</td>\n",
       "      <td>0.664598</td>\n",
       "      <td>1.514396</td>\n",
       "    </tr>\n",
       "    <tr>\n",
       "      <th>STDs</th>\n",
       "      <td>0.0</td>\n",
       "      <td>0.239898</td>\n",
       "      <td>0.028591</td>\n",
       "      <td>29.591511</td>\n",
       "      <td>0.023935</td>\n",
       "      <td>0.028591</td>\n",
       "      <td>0.000653</td>\n",
       "      <td>0.012079</td>\n",
       "      <td>0.028746</td>\n",
       "    </tr>\n",
       "  </tbody>\n",
       "</table>\n",
       "</div>"
      ],
      "text/plain": [
       "       radius  diameter  densities  number_of_edges  average_clustering  \\\n",
       "Means     2.0  2.620000   0.310860       321.740000            0.422901   \n",
       "STDs      0.0  0.490314   0.023116        23.924891            0.039456   \n",
       "Means     2.0  2.060000   0.485662       502.660000            0.501777   \n",
       "STDs      0.0  0.239898   0.028591        29.591511            0.023935   \n",
       "\n",
       "       avg_degree_centrality  avg_betweenness_centrality  \\\n",
       "Means               0.310860                    0.015767   \n",
       "STDs                0.023116                    0.000625   \n",
       "Means               0.485662                    0.011691   \n",
       "STDs                0.028591                    0.000653   \n",
       "\n",
       "       avg_closeness_centrality  average_shortest_path_length  \n",
       "Means                  0.599073                      1.693758  \n",
       "STDs                   0.010043                      0.027521  \n",
       "Means                  0.664598                      1.514396  \n",
       "STDs                   0.012079                      0.028746  "
      ]
     },
     "execution_count": 129,
     "metadata": {},
     "output_type": "execute_result"
    }
   ],
   "source": [
    "crossed_network_TwoReg_Ox_90_00_averged"
   ]
  },
  {
   "cell_type": "code",
   "execution_count": null,
   "id": "0ba71256-9a98-4913-b87e-a1e29e5dc207",
   "metadata": {},
   "outputs": [],
   "source": []
  }
 ],
 "metadata": {
  "kernelspec": {
   "display_name": "Python 3 (ipykernel)",
   "language": "python",
   "name": "python3"
  },
  "language_info": {
   "codemirror_mode": {
    "name": "ipython",
    "version": 3
   },
   "file_extension": ".py",
   "mimetype": "text/x-python",
   "name": "python",
   "nbconvert_exporter": "python",
   "pygments_lexer": "ipython3",
   "version": "3.11.0"
  }
 },
 "nbformat": 4,
 "nbformat_minor": 5
}
