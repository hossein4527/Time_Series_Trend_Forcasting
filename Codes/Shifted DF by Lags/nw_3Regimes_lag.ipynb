{
 "cells": [
  {
   "cell_type": "code",
   "execution_count": 1,
   "id": "9df9b137-c106-48b0-bec0-f8310cf49fe6",
   "metadata": {},
   "outputs": [],
   "source": [
    "from ned import Net_moduls\n",
    "import networkx as nx\n",
    "import numpy as np\n",
    "import pandas as pd\n",
    "import matplotlib.pyplot as plt"
   ]
  },
  {
   "cell_type": "markdown",
   "id": "c102abae-74b4-4a85-946d-b9faecf3cc47",
   "metadata": {},
   "source": [
    "# Data"
   ]
  },
  {
   "cell_type": "markdown",
   "id": "53b53ef5-cbe2-45c2-80f1-fe60cc95b3ab",
   "metadata": {},
   "source": [
    "## Tehran Index DF and Tehran DF Normed Return 90 Far - 00 Far"
   ]
  },
  {
   "cell_type": "code",
   "execution_count": 2,
   "id": "e3105597-c530-4ba1-a9ee-971c7af0ba17",
   "metadata": {},
   "outputs": [],
   "source": [
    "tehran_df_completeDates = pd.read_csv('../../Data/Tehran_df_shifted.csv').set_index('date')"
   ]
  },
  {
   "cell_type": "code",
   "execution_count": 3,
   "id": "a5806b04-376b-4b60-8585-646414b674e9",
   "metadata": {},
   "outputs": [],
   "source": [
    "tehran_df_reg = pd.read_excel('../../Data/Tehran_Indexes_NormedReturned_Regimed.xlsx').set_index('date')"
   ]
  },
  {
   "cell_type": "code",
   "execution_count": 4,
   "id": "3b0e22c9-6078-4156-ba50-87bcb921a57d",
   "metadata": {},
   "outputs": [],
   "source": [
    "tehran_df_reg = tehran_df_reg.loc[tehran_df_completeDates.index]"
   ]
  },
  {
   "cell_type": "code",
   "execution_count": 5,
   "id": "3a79a168-b668-46c0-896a-2df39c1a8a6c",
   "metadata": {},
   "outputs": [],
   "source": [
    "tehran_df = tehran_df_completeDates.iloc[:-300]"
   ]
  },
  {
   "cell_type": "markdown",
   "id": "7df0709c-3e78-44cd-a38d-722220eee805",
   "metadata": {},
   "source": [
    "## Tehran Ox 3 Regimed DF Normed Return 90 Far - 00 Dey "
   ]
  },
  {
   "cell_type": "code",
   "execution_count": 6,
   "id": "82f572c4-540b-4430-afb5-6454984c2ea3",
   "metadata": {},
   "outputs": [],
   "source": [
    "tehran_df_ThreeReg_Ox_1 = tehran_df_reg[tehran_df_reg['Ox_3']==0]\n",
    "tehran_df_ThreeReg_Ox_2 = tehran_df_reg[tehran_df_reg['Ox_3']==1]\n",
    "tehran_df_ThreeReg_Ox_3 = tehran_df_reg[tehran_df_reg['Ox_3']==2]\n",
    "\n",
    "max_length_ThreeReg_Ox_90_00 = min(len(tehran_df_ThreeReg_Ox_1), len(tehran_df_ThreeReg_Ox_2),len(tehran_df_ThreeReg_Ox_3))\n",
    "tehran_df_ThreeReg_Ox_1_same_length = tehran_df_ThreeReg_Ox_1[-max_length_ThreeReg_Ox_90_00:]\n",
    "tehran_df_ThreeReg_Ox_2_same_length = tehran_df_ThreeReg_Ox_2[-max_length_ThreeReg_Ox_90_00:]\n",
    "tehran_df_ThreeReg_Ox_3_same_length = tehran_df_ThreeReg_Ox_3[-max_length_ThreeReg_Ox_90_00:]\n",
    "\n",
    "tehran_df_ThreeReg_Ox_1_same_length = tehran_df_ThreeReg_Ox_1_same_length[tehran_df_ThreeReg_Ox_1_same_length.columns[:-12]]\n",
    "tehran_df_ThreeReg_Ox_2_same_length = tehran_df_ThreeReg_Ox_2_same_length[tehran_df_ThreeReg_Ox_2_same_length.columns[:-12]]\n",
    "tehran_df_ThreeReg_Ox_3_same_length = tehran_df_ThreeReg_Ox_3_same_length[tehran_df_ThreeReg_Ox_3_same_length.columns[:-12]]"
   ]
  },
  {
   "cell_type": "markdown",
   "id": "bbb0403b-0b0b-4e95-98a8-af32b6d85453",
   "metadata": {},
   "source": [
    "## Tehran Ox 3 Regimed DF Normed Return 90 Far - 98 Dey "
   ]
  },
  {
   "cell_type": "code",
   "execution_count": 7,
   "id": "0e7f3322-0d00-4876-846a-f3e749653ccf",
   "metadata": {},
   "outputs": [
    {
     "name": "stderr",
     "output_type": "stream",
     "text": [
      "/var/folders/mj/xw3m0dws3yq8j2md9n8j3g940000gn/T/ipykernel_970/4006158190.py:1: UserWarning: Boolean Series key will be reindexed to match DataFrame index.\n",
      "  tehran_df_ThreeReg_Ox_1_98 = tehran_df[tehran_df_reg.iloc[:-300]['Ox_3']==0]\n",
      "/var/folders/mj/xw3m0dws3yq8j2md9n8j3g940000gn/T/ipykernel_970/4006158190.py:2: UserWarning: Boolean Series key will be reindexed to match DataFrame index.\n",
      "  tehran_df_ThreeReg_Ox_2_98 = tehran_df[tehran_df_reg.iloc[:-300]['Ox_3']==1]\n",
      "/var/folders/mj/xw3m0dws3yq8j2md9n8j3g940000gn/T/ipykernel_970/4006158190.py:3: UserWarning: Boolean Series key will be reindexed to match DataFrame index.\n",
      "  tehran_df_ThreeReg_Ox_3_98 = tehran_df[tehran_df_reg.iloc[:-300]['Ox_3']==2]\n"
     ]
    }
   ],
   "source": [
    "tehran_df_ThreeReg_Ox_1_98 = tehran_df[tehran_df_reg.iloc[:-300]['Ox_3']==0]\n",
    "tehran_df_ThreeReg_Ox_2_98 = tehran_df[tehran_df_reg.iloc[:-300]['Ox_3']==1]\n",
    "tehran_df_ThreeReg_Ox_3_98 = tehran_df[tehran_df_reg.iloc[:-300]['Ox_3']==2]"
   ]
  },
  {
   "cell_type": "markdown",
   "id": "e4b8d394-34b1-41a5-8e6a-d8d3b8b814f2",
   "metadata": {},
   "source": [
    "## Tehran Ox 3 Regimed DF Normed Return 90 Far - 98 Dey / Same Length"
   ]
  },
  {
   "cell_type": "code",
   "execution_count": 8,
   "id": "e81ab10f-0c2b-413f-a267-b785d6b3960b",
   "metadata": {},
   "outputs": [],
   "source": [
    "max_length_ThreeReg_Ox_90_98 = min(len(tehran_df_ThreeReg_Ox_1_98), len(tehran_df_ThreeReg_Ox_2_98),len(tehran_df_ThreeReg_Ox_3_98))\n",
    "tehran_df_ThreeReg_Ox_1_same_length_98 = tehran_df_ThreeReg_Ox_1_98[-max_length_ThreeReg_Ox_90_98:]\n",
    "tehran_df_ThreeReg_Ox_2_same_length_98 = tehran_df_ThreeReg_Ox_2_98[-max_length_ThreeReg_Ox_90_98:]\n",
    "tehran_df_ThreeReg_Ox_3_same_length_98 = tehran_df_ThreeReg_Ox_3_98[-max_length_ThreeReg_Ox_90_98:]"
   ]
  },
  {
   "cell_type": "markdown",
   "id": "1f09a6ba-4d78-423c-afa4-4ab6c0f428c1",
   "metadata": {},
   "source": [
    "# 20) Tehran 3 Regime Pearson (Based on Median Threshold) Period of 90 Far - 98 Dey"
   ]
  },
  {
   "cell_type": "code",
   "execution_count": 16,
   "id": "305bef0a-d187-498e-8b02-f0827018e31c",
   "metadata": {},
   "outputs": [],
   "source": [
    "nm = Net_moduls()"
   ]
  },
  {
   "cell_type": "code",
   "execution_count": 17,
   "id": "46689707-3c50-4490-9bd2-c376b2812e43",
   "metadata": {},
   "outputs": [],
   "source": [
    "thr20_1 = nm.find_median_pearson_threshold(tehran_df_ThreeReg_Ox_1_same_length_98)\n",
    "thr20_2 = nm.find_median_pearson_threshold(tehran_df_ThreeReg_Ox_2_same_length_98)\n",
    "thr20_3 = nm.find_median_pearson_threshold(tehran_df_ThreeReg_Ox_3_same_length_98)\n",
    "\n",
    "thr20 = min(thr20_1, thr20_2, thr20_3)"
   ]
  },
  {
   "cell_type": "code",
   "execution_count": 18,
   "id": "96076c45-aba5-47c4-8f13-f3c9b3217f48",
   "metadata": {},
   "outputs": [],
   "source": [
    "nm = Net_moduls()\n",
    "pearson_network_ThreeReg_Ox_1_98 = nm.construct_network(tehran_df_ThreeReg_Ox_1_same_length_98, method='pearson', threshold=thr20)"
   ]
  },
  {
   "cell_type": "code",
   "execution_count": 19,
   "id": "2f9e15df-e593-4a2a-84ee-919172274b93",
   "metadata": {},
   "outputs": [
    {
     "data": {
      "text/html": [
       "<div>\n",
       "<style scoped>\n",
       "    .dataframe tbody tr th:only-of-type {\n",
       "        vertical-align: middle;\n",
       "    }\n",
       "\n",
       "    .dataframe tbody tr th {\n",
       "        vertical-align: top;\n",
       "    }\n",
       "\n",
       "    .dataframe thead th {\n",
       "        text-align: right;\n",
       "    }\n",
       "</style>\n",
       "<table border=\"1\" class=\"dataframe\">\n",
       "  <thead>\n",
       "    <tr style=\"text-align: right;\">\n",
       "      <th></th>\n",
       "      <th>radius</th>\n",
       "      <th>diameter</th>\n",
       "      <th>densities</th>\n",
       "      <th>number_of_edges</th>\n",
       "      <th>average_clustering</th>\n",
       "      <th>avg_degree_centrality</th>\n",
       "      <th>avg_betweenness_centrality</th>\n",
       "      <th>avg_closeness_centrality</th>\n",
       "      <th>average_shortest_path_length</th>\n",
       "    </tr>\n",
       "  </thead>\n",
       "  <tbody>\n",
       "    <tr>\n",
       "      <th>0</th>\n",
       "      <td>2</td>\n",
       "      <td>3</td>\n",
       "      <td>0.570707</td>\n",
       "      <td>565</td>\n",
       "      <td>0.771285</td>\n",
       "      <td>0.570707</td>\n",
       "      <td>0.010618</td>\n",
       "      <td>0.710746</td>\n",
       "      <td>1.456566</td>\n",
       "    </tr>\n",
       "  </tbody>\n",
       "</table>\n",
       "</div>"
      ],
      "text/plain": [
       "   radius  diameter  densities  number_of_edges  average_clustering  \\\n",
       "0       2         3   0.570707              565            0.771285   \n",
       "\n",
       "   avg_degree_centrality  avg_betweenness_centrality  \\\n",
       "0               0.570707                    0.010618   \n",
       "\n",
       "   avg_closeness_centrality  average_shortest_path_length  \n",
       "0                  0.710746                      1.456566  "
      ]
     },
     "execution_count": 19,
     "metadata": {},
     "output_type": "execute_result"
    }
   ],
   "source": [
    "nm.get_network_features(pearson_network_ThreeReg_Ox_1_98)"
   ]
  },
  {
   "cell_type": "code",
   "execution_count": 20,
   "id": "b5cd96f1-c113-4321-9e21-a2507dfc8055",
   "metadata": {},
   "outputs": [
    {
     "data": {
      "text/plain": [
       "array({'HOUSE': 1, 'FaravardehayeNafti': 1, 'CoalMining': 5, 'Coin': 6, 'M2': 7, 'GDP': 7, 'Brent Oil': 8, 'CPI': 10, 'Gold': 12, 'DastgahayeBargi': 14, 'M1': 15, 'Euro': 16, 'USD': 18, 'Shimiyaee': 21, 'KanehayeFelezi': 25, 'Agriculture': 26, 'EntesharVaChap': 26, 'Mansojat': 28, 'SayerMadan': 29, 'Wood': 29, 'VasayelErtebati': 29, 'GhandVaShekar': 30, 'Amlakva': 30, 'Rayaneh': 30, 'FaniVaMohandesi': 30, 'Siman': 31, 'EstekrajeNaft': 32, 'FelezateAsasi': 32, 'GazaeeBejozGhand': 32, 'KashiVaSeramik': 32, 'Bank': 32, 'Mali': 32, 'MahsolateFelezi': 33, 'SayerMali': 33, 'Lastic': 34, 'khodrosazi': 34, 'SarmayeGozari': 34, 'Bimeh': 34, 'paper': 35, 'MashinAlat': 35, 'ChandReshteSanati': 35, 'KanehayeGeyreFelezi': 35, 'Daroee': 37, 'HamlVaNaghl': 37, 'index': 38},\n",
       "      dtype=object)"
      ]
     },
     "execution_count": 20,
     "metadata": {},
     "output_type": "execute_result"
    }
   ],
   "source": [
    "b20_1 = dict(nx.degree(pearson_network_ThreeReg_Ox_1_98))\n",
    "b20_1 = np.array(dict(sorted(b20_1.items(), key=lambda item: item[1])))\n",
    "b20_1"
   ]
  },
  {
   "cell_type": "code",
   "execution_count": 21,
   "id": "51eb8886-ba59-4c47-a3ab-12e103cbe504",
   "metadata": {},
   "outputs": [],
   "source": [
    "nm.get_network_features(pearson_network_ThreeReg_Ox_1_98).to_csv('Excels/20_1.csv')"
   ]
  },
  {
   "cell_type": "code",
   "execution_count": 22,
   "id": "98283666-0d12-4c9e-84cf-25e7c671ef26",
   "metadata": {},
   "outputs": [],
   "source": [
    "pearson_network_ThreeReg_Ox_2_98 = nm.construct_network(tehran_df_ThreeReg_Ox_2_same_length_98, method='pearson', threshold=thr20)"
   ]
  },
  {
   "cell_type": "code",
   "execution_count": 23,
   "id": "729310dc-2559-4b76-a21d-7c3a17341275",
   "metadata": {},
   "outputs": [
    {
     "data": {
      "text/html": [
       "<div>\n",
       "<style scoped>\n",
       "    .dataframe tbody tr th:only-of-type {\n",
       "        vertical-align: middle;\n",
       "    }\n",
       "\n",
       "    .dataframe tbody tr th {\n",
       "        vertical-align: top;\n",
       "    }\n",
       "\n",
       "    .dataframe thead th {\n",
       "        text-align: right;\n",
       "    }\n",
       "</style>\n",
       "<table border=\"1\" class=\"dataframe\">\n",
       "  <thead>\n",
       "    <tr style=\"text-align: right;\">\n",
       "      <th></th>\n",
       "      <th>radius</th>\n",
       "      <th>diameter</th>\n",
       "      <th>densities</th>\n",
       "      <th>number_of_edges</th>\n",
       "      <th>average_clustering</th>\n",
       "      <th>avg_degree_centrality</th>\n",
       "      <th>avg_betweenness_centrality</th>\n",
       "      <th>avg_closeness_centrality</th>\n",
       "      <th>average_shortest_path_length</th>\n",
       "    </tr>\n",
       "  </thead>\n",
       "  <tbody>\n",
       "    <tr>\n",
       "      <th>0</th>\n",
       "      <td>2</td>\n",
       "      <td>3</td>\n",
       "      <td>0.573913</td>\n",
       "      <td>594</td>\n",
       "      <td>0.740683</td>\n",
       "      <td>0.573913</td>\n",
       "      <td>0.009794</td>\n",
       "      <td>0.716162</td>\n",
       "      <td>1.430918</td>\n",
       "    </tr>\n",
       "  </tbody>\n",
       "</table>\n",
       "</div>"
      ],
      "text/plain": [
       "   radius  diameter  densities  number_of_edges  average_clustering  \\\n",
       "0       2         3   0.573913              594            0.740683   \n",
       "\n",
       "   avg_degree_centrality  avg_betweenness_centrality  \\\n",
       "0               0.573913                    0.009794   \n",
       "\n",
       "   avg_closeness_centrality  average_shortest_path_length  \n",
       "0                  0.716162                      1.430918  "
      ]
     },
     "execution_count": 23,
     "metadata": {},
     "output_type": "execute_result"
    }
   ],
   "source": [
    "nm.get_network_features(pearson_network_ThreeReg_Ox_2_98)"
   ]
  },
  {
   "cell_type": "code",
   "execution_count": 24,
   "id": "f555a113-fe73-4bfc-9377-85527d5475a9",
   "metadata": {},
   "outputs": [
    {
     "data": {
      "text/plain": [
       "array({'Coin': 6, 'Euro': 7, 'Brent Oil': 8, 'USD': 8, 'Mansojat': 8, 'M1': 8, 'M2': 8, 'Gold': 9, 'CPI': 11, 'GDP': 13, 'HOUSE': 13, 'CoalMining': 14, 'HamlVaNaghl': 14, 'EntesharVaChap': 27, 'VasayelErtebati': 27, 'AbzaralatePezeshki': 27, 'Agriculture': 30, 'paper': 30, 'FaravardehayeNafti': 30, 'Bank': 30, 'EstekrajeNaft': 31, 'FaniVaMohandesi': 31, 'KanehayeFelezi': 31, 'Wood': 32, 'FelezateAsasi': 32, 'DastgahayeBargi': 32, 'ChandReshteSanati': 32, 'Daroee': 32, 'Siman': 32, 'SayerMali': 32, 'MahsolateFelezi': 33, 'SayerMadan': 33, 'SarmayeGozari': 33, 'Bimeh': 33, 'Amlakva': 33, 'Mali': 33, 'index': 34, 'MashinAlat': 34, 'GhandVaShekar': 34, 'GazaeeBejozGhand': 34, 'Shimiyaee': 34, 'KashiVaSeramik': 34, 'Lastic': 35, 'khodrosazi': 35, 'Rayaneh': 35, 'KanehayeGeyreFelezi': 36},\n",
       "      dtype=object)"
      ]
     },
     "execution_count": 24,
     "metadata": {},
     "output_type": "execute_result"
    }
   ],
   "source": [
    "b20_2 = dict(nx.degree(pearson_network_ThreeReg_Ox_2_98))\n",
    "b20_2 = np.array(dict(sorted(b20_2.items(), key=lambda item: item[1])))\n",
    "b20_2"
   ]
  },
  {
   "cell_type": "code",
   "execution_count": 25,
   "id": "411fd554-09c5-445f-ae30-725102467690",
   "metadata": {},
   "outputs": [],
   "source": [
    "nm.get_network_features(pearson_network_ThreeReg_Ox_2_98).to_csv('Excels/20_2.csv')"
   ]
  },
  {
   "cell_type": "code",
   "execution_count": 26,
   "id": "43b24981-ed8c-464e-8ce8-5145bb97c5db",
   "metadata": {},
   "outputs": [],
   "source": [
    "pearson_network_ThreeReg_Ox_3_98 = nm.construct_network(tehran_df_ThreeReg_Ox_3_same_length_98, method='pearson', threshold=thr20)"
   ]
  },
  {
   "cell_type": "code",
   "execution_count": 27,
   "id": "29bc0dd4-6f5f-457f-ab5d-2b6c8a37c344",
   "metadata": {},
   "outputs": [
    {
     "data": {
      "text/html": [
       "<div>\n",
       "<style scoped>\n",
       "    .dataframe tbody tr th:only-of-type {\n",
       "        vertical-align: middle;\n",
       "    }\n",
       "\n",
       "    .dataframe tbody tr th {\n",
       "        vertical-align: top;\n",
       "    }\n",
       "\n",
       "    .dataframe thead th {\n",
       "        text-align: right;\n",
       "    }\n",
       "</style>\n",
       "<table border=\"1\" class=\"dataframe\">\n",
       "  <thead>\n",
       "    <tr style=\"text-align: right;\">\n",
       "      <th></th>\n",
       "      <th>radius</th>\n",
       "      <th>diameter</th>\n",
       "      <th>densities</th>\n",
       "      <th>number_of_edges</th>\n",
       "      <th>average_clustering</th>\n",
       "      <th>avg_degree_centrality</th>\n",
       "      <th>avg_betweenness_centrality</th>\n",
       "      <th>avg_closeness_centrality</th>\n",
       "      <th>average_shortest_path_length</th>\n",
       "    </tr>\n",
       "  </thead>\n",
       "  <tbody>\n",
       "    <tr>\n",
       "      <th>0</th>\n",
       "      <td>2</td>\n",
       "      <td>3</td>\n",
       "      <td>0.611111</td>\n",
       "      <td>605</td>\n",
       "      <td>0.815541</td>\n",
       "      <td>0.611111</td>\n",
       "      <td>0.009373</td>\n",
       "      <td>0.735132</td>\n",
       "      <td>1.40303</td>\n",
       "    </tr>\n",
       "  </tbody>\n",
       "</table>\n",
       "</div>"
      ],
      "text/plain": [
       "   radius  diameter  densities  number_of_edges  average_clustering  \\\n",
       "0       2         3   0.611111              605            0.815541   \n",
       "\n",
       "   avg_degree_centrality  avg_betweenness_centrality  \\\n",
       "0               0.611111                    0.009373   \n",
       "\n",
       "   avg_closeness_centrality  average_shortest_path_length  \n",
       "0                  0.735132                       1.40303  "
      ]
     },
     "execution_count": 27,
     "metadata": {},
     "output_type": "execute_result"
    }
   ],
   "source": [
    "nm.get_network_features(pearson_network_ThreeReg_Ox_3_98)"
   ]
  },
  {
   "cell_type": "code",
   "execution_count": 28,
   "id": "38e892b7-058a-418a-adf3-c7e0a7ca9a57",
   "metadata": {},
   "outputs": [
    {
     "data": {
      "text/plain": [
       "array({'M2': 3, 'FaravardehayeNafti': 5, 'DastgahayeBargi': 5, 'M1': 5, 'AbzaralatePezeshki': 9, 'Euro': 11, 'Gold': 11, 'CPI': 11, 'HOUSE': 12, 'USD': 14, 'Coin': 18, 'GDP': 22, 'CoalMining': 22, 'Mansojat': 24, 'KanehayeFelezi': 26, 'Wood': 27, 'Agriculture': 31, 'EntesharVaChap': 32, 'VasayelErtebati': 32, 'Bank': 32, 'Rayaneh': 32, 'EstekrajeNaft': 33, 'paper': 33, 'FelezateAsasi': 33, 'khodrosazi': 33, 'GhandVaShekar': 33, 'KashiVaSeramik': 33, 'HamlVaNaghl': 33, 'Bimeh': 33, 'Mali': 33, 'SayerMadan': 34, 'Lastic': 34, 'Daroee': 34, 'Siman': 34, 'SarmayeGozari': 34, 'Amlakva': 34, 'ChandReshteSanati': 35, 'MahsolateFelezi': 36, 'GazaeeBejozGhand': 36, 'Shimiyaee': 36, 'KanehayeGeyreFelezi': 36, 'SayerMali': 36, 'FaniVaMohandesi': 36, 'index': 37, 'MashinAlat': 37},\n",
       "      dtype=object)"
      ]
     },
     "execution_count": 28,
     "metadata": {},
     "output_type": "execute_result"
    }
   ],
   "source": [
    "b20_3 = dict(nx.degree(pearson_network_ThreeReg_Ox_3_98))\n",
    "b20_3 = np.array(dict(sorted(b20_3.items(), key=lambda item: item[1])))\n",
    "b20_3"
   ]
  },
  {
   "cell_type": "code",
   "execution_count": 29,
   "id": "df5959fa-b148-4a40-bb73-a638790b81ac",
   "metadata": {},
   "outputs": [],
   "source": [
    "nm.get_network_features(pearson_network_ThreeReg_Ox_3_98).to_csv('Excels/20_3.csv')"
   ]
  },
  {
   "cell_type": "markdown",
   "id": "11d99955-dd43-4c4e-8249-7e3afccbfbad",
   "metadata": {},
   "source": [
    "# 21) Tehran 3 Regime Pearson (Based on Median Threshold) Period of 90 Far - 00 Far"
   ]
  },
  {
   "cell_type": "code",
   "execution_count": 30,
   "id": "ca181ae3-76f1-4287-ba2e-fc82284f554e",
   "metadata": {},
   "outputs": [],
   "source": [
    "nm = Net_moduls()"
   ]
  },
  {
   "cell_type": "code",
   "execution_count": 31,
   "id": "0c6c98c3-7f8f-4827-b09a-475b36fd5cb2",
   "metadata": {},
   "outputs": [],
   "source": [
    "thr21_1 = nm.find_median_pearson_threshold(tehran_df_ThreeReg_Ox_1_same_length)\n",
    "thr21_2 = nm.find_median_pearson_threshold(tehran_df_ThreeReg_Ox_2_same_length)\n",
    "thr21_3 = nm.find_median_pearson_threshold(tehran_df_ThreeReg_Ox_3_same_length)\n",
    "\n",
    "thr21 = min(thr21_1, thr21_2, thr21_3)"
   ]
  },
  {
   "cell_type": "code",
   "execution_count": 32,
   "id": "929718e8-ac96-4d8b-81ff-03b8e7b289c8",
   "metadata": {},
   "outputs": [],
   "source": [
    "nm = Net_moduls()\n",
    "pearson_network_ThreeReg_Ox_1 = nm.construct_network(tehran_df_ThreeReg_Ox_1_same_length, method='pearson', threshold=thr21)"
   ]
  },
  {
   "cell_type": "code",
   "execution_count": 33,
   "id": "fe6454c3-032b-43c5-9c95-2ea054c8277c",
   "metadata": {},
   "outputs": [
    {
     "data": {
      "text/html": [
       "<div>\n",
       "<style scoped>\n",
       "    .dataframe tbody tr th:only-of-type {\n",
       "        vertical-align: middle;\n",
       "    }\n",
       "\n",
       "    .dataframe tbody tr th {\n",
       "        vertical-align: top;\n",
       "    }\n",
       "\n",
       "    .dataframe thead th {\n",
       "        text-align: right;\n",
       "    }\n",
       "</style>\n",
       "<table border=\"1\" class=\"dataframe\">\n",
       "  <thead>\n",
       "    <tr style=\"text-align: right;\">\n",
       "      <th></th>\n",
       "      <th>radius</th>\n",
       "      <th>diameter</th>\n",
       "      <th>densities</th>\n",
       "      <th>number_of_edges</th>\n",
       "      <th>average_clustering</th>\n",
       "      <th>avg_degree_centrality</th>\n",
       "      <th>avg_betweenness_centrality</th>\n",
       "      <th>avg_closeness_centrality</th>\n",
       "      <th>average_shortest_path_length</th>\n",
       "    </tr>\n",
       "  </thead>\n",
       "  <tbody>\n",
       "    <tr>\n",
       "      <th>0</th>\n",
       "      <td>2</td>\n",
       "      <td>3</td>\n",
       "      <td>0.567653</td>\n",
       "      <td>537</td>\n",
       "      <td>0.741103</td>\n",
       "      <td>0.567653</td>\n",
       "      <td>0.010395</td>\n",
       "      <td>0.71205</td>\n",
       "      <td>1.436575</td>\n",
       "    </tr>\n",
       "  </tbody>\n",
       "</table>\n",
       "</div>"
      ],
      "text/plain": [
       "   radius  diameter  densities  number_of_edges  average_clustering  \\\n",
       "0       2         3   0.567653              537            0.741103   \n",
       "\n",
       "   avg_degree_centrality  avg_betweenness_centrality  \\\n",
       "0               0.567653                    0.010395   \n",
       "\n",
       "   avg_closeness_centrality  average_shortest_path_length  \n",
       "0                   0.71205                      1.436575  "
      ]
     },
     "execution_count": 33,
     "metadata": {},
     "output_type": "execute_result"
    }
   ],
   "source": [
    "nm.get_network_features(pearson_network_ThreeReg_Ox_1)"
   ]
  },
  {
   "cell_type": "code",
   "execution_count": 34,
   "id": "d6db6d61-1df3-4c66-8cb5-e55abbc45bbd",
   "metadata": {},
   "outputs": [
    {
     "data": {
      "text/plain": [
       "array({'GDP': 6, 'Brent Oil': 8, 'Euro': 8, 'HOUSE': 9, 'DastgahayeBargi': 9, 'CPI': 9, 'USD': 10, 'Coin': 10, 'CoalMining': 10, 'M2': 11, 'Gold': 13, 'M1': 17, 'Shimiyaee': 19, 'FelezateAsasi': 20, 'KanehayeFelezi': 22, 'VasayelErtebati': 22, 'EntesharVaChap': 27, 'Wood': 29, 'KashiVaSeramik': 29, 'FaniVaMohandesi': 29, 'Agriculture': 30, 'khodrosazi': 30, 'GhandVaShekar': 30, 'SayerMali': 30, 'Rayaneh': 30, 'Mali': 30, 'Mansojat': 30, 'index': 31, 'EstekrajeNaft': 31, 'Lastic': 31, 'ChandReshteSanati': 31, 'KanehayeGeyreFelezi': 31, 'SarmayeGozari': 31, 'Bank': 31, 'MashinAlat': 32, 'GazaeeBejozGhand': 32, 'Daroee': 32, 'Siman': 32, 'Bimeh': 32, 'SayerMadan': 33, 'paper': 34, 'HamlVaNaghl': 34, 'Amlakva': 34, 'MahsolateFelezi': 35},\n",
       "      dtype=object)"
      ]
     },
     "execution_count": 34,
     "metadata": {},
     "output_type": "execute_result"
    }
   ],
   "source": [
    "b21_1 = dict(nx.degree(pearson_network_ThreeReg_Ox_1))\n",
    "b21_1 = np.array(dict(sorted(b21_1.items(), key=lambda item: item[1])))\n",
    "b21_1"
   ]
  },
  {
   "cell_type": "code",
   "execution_count": 35,
   "id": "76974c48-25e3-4f49-bb1a-de7ce29eb3b0",
   "metadata": {},
   "outputs": [],
   "source": [
    "nm.get_network_features(pearson_network_ThreeReg_Ox_1).to_csv('Excels/21_1.csv')"
   ]
  },
  {
   "cell_type": "code",
   "execution_count": 36,
   "id": "fcccae1c-6e2c-42cd-b6a7-853a87ed2ca6",
   "metadata": {},
   "outputs": [],
   "source": [
    "pearson_network_ThreeReg_Ox_2 = nm.construct_network(tehran_df_ThreeReg_Ox_2_same_length, method='pearson', threshold=thr21)"
   ]
  },
  {
   "cell_type": "code",
   "execution_count": 37,
   "id": "86effaea-3825-476c-9c80-3d96b3455582",
   "metadata": {},
   "outputs": [
    {
     "data": {
      "text/html": [
       "<div>\n",
       "<style scoped>\n",
       "    .dataframe tbody tr th:only-of-type {\n",
       "        vertical-align: middle;\n",
       "    }\n",
       "\n",
       "    .dataframe tbody tr th {\n",
       "        vertical-align: top;\n",
       "    }\n",
       "\n",
       "    .dataframe thead th {\n",
       "        text-align: right;\n",
       "    }\n",
       "</style>\n",
       "<table border=\"1\" class=\"dataframe\">\n",
       "  <thead>\n",
       "    <tr style=\"text-align: right;\">\n",
       "      <th></th>\n",
       "      <th>radius</th>\n",
       "      <th>diameter</th>\n",
       "      <th>densities</th>\n",
       "      <th>number_of_edges</th>\n",
       "      <th>average_clustering</th>\n",
       "      <th>avg_degree_centrality</th>\n",
       "      <th>avg_betweenness_centrality</th>\n",
       "      <th>avg_closeness_centrality</th>\n",
       "      <th>average_shortest_path_length</th>\n",
       "    </tr>\n",
       "  </thead>\n",
       "  <tbody>\n",
       "    <tr>\n",
       "      <th>0</th>\n",
       "      <td>2</td>\n",
       "      <td>3</td>\n",
       "      <td>0.62029</td>\n",
       "      <td>642</td>\n",
       "      <td>0.778382</td>\n",
       "      <td>0.62029</td>\n",
       "      <td>0.008718</td>\n",
       "      <td>0.740929</td>\n",
       "      <td>1.383575</td>\n",
       "    </tr>\n",
       "  </tbody>\n",
       "</table>\n",
       "</div>"
      ],
      "text/plain": [
       "   radius  diameter  densities  number_of_edges  average_clustering  \\\n",
       "0       2         3    0.62029              642            0.778382   \n",
       "\n",
       "   avg_degree_centrality  avg_betweenness_centrality  \\\n",
       "0                0.62029                    0.008718   \n",
       "\n",
       "   avg_closeness_centrality  average_shortest_path_length  \n",
       "0                  0.740929                      1.383575  "
      ]
     },
     "execution_count": 37,
     "metadata": {},
     "output_type": "execute_result"
    }
   ],
   "source": [
    "nm.get_network_features(pearson_network_ThreeReg_Ox_2)"
   ]
  },
  {
   "cell_type": "code",
   "execution_count": 38,
   "id": "85462b02-3acc-44c2-9403-643d254a9698",
   "metadata": {},
   "outputs": [
    {
     "data": {
      "text/plain": [
       "array({'Brent Oil': 6, 'Euro': 9, 'Gold': 9, 'Mansojat': 9, 'GDP': 10, 'M1': 10, 'Coin': 11, 'CoalMining': 11, 'HOUSE': 12, 'CPI': 17, 'M2': 19, 'AbzaralatePezeshki': 19, 'HamlVaNaghl': 21, 'EntesharVaChap': 24, 'USD': 25, 'Agriculture': 32, 'EstekrajeNaft': 32, 'MahsolateFelezi': 32, 'VasayelErtebati': 32, 'paper': 33, 'KashiVaSeramik': 33, 'FaniVaMohandesi': 33, 'SayerMadan': 34, 'FaravardehayeNafti': 34, 'Lastic': 34, 'khodrosazi': 34, 'ChandReshteSanati': 34, 'KanehayeGeyreFelezi': 34, 'Bimeh': 34, 'index': 35, 'MashinAlat': 35, 'GhandVaShekar': 35, 'Daroee': 35, 'SarmayeGozari': 35, 'Amlakva': 35, 'Wood': 36, 'DastgahayeBargi': 36, 'GazaeeBejozGhand': 36, 'Shimiyaee': 36, 'Siman': 36, 'Bank': 36, 'SayerMali': 36, 'Rayaneh': 36, 'Mali': 36, 'KanehayeFelezi': 36, 'FelezateAsasi': 37},\n",
       "      dtype=object)"
      ]
     },
     "execution_count": 38,
     "metadata": {},
     "output_type": "execute_result"
    }
   ],
   "source": [
    "b21_2 = dict(nx.degree(pearson_network_ThreeReg_Ox_2))\n",
    "b21_2 = np.array(dict(sorted(b21_2.items(), key=lambda item: item[1])))\n",
    "b21_2"
   ]
  },
  {
   "cell_type": "code",
   "execution_count": 39,
   "id": "7699dbfc-a0ec-4589-9a51-50588a39eebd",
   "metadata": {},
   "outputs": [],
   "source": [
    "nm.get_network_features(pearson_network_ThreeReg_Ox_2).to_csv('Excels/21_2.csv')"
   ]
  },
  {
   "cell_type": "code",
   "execution_count": 40,
   "id": "4d13b684-95df-4dd0-96df-21d544ae84d0",
   "metadata": {},
   "outputs": [],
   "source": [
    "pearson_network_ThreeReg_Ox_3 = nm.construct_network(tehran_df_ThreeReg_Ox_3_same_length, method='pearson', threshold=thr21)"
   ]
  },
  {
   "cell_type": "code",
   "execution_count": 41,
   "id": "a1fc2ea4-51bd-4834-b3d0-83787f58fed0",
   "metadata": {},
   "outputs": [
    {
     "data": {
      "text/html": [
       "<div>\n",
       "<style scoped>\n",
       "    .dataframe tbody tr th:only-of-type {\n",
       "        vertical-align: middle;\n",
       "    }\n",
       "\n",
       "    .dataframe tbody tr th {\n",
       "        vertical-align: top;\n",
       "    }\n",
       "\n",
       "    .dataframe thead th {\n",
       "        text-align: right;\n",
       "    }\n",
       "</style>\n",
       "<table border=\"1\" class=\"dataframe\">\n",
       "  <thead>\n",
       "    <tr style=\"text-align: right;\">\n",
       "      <th></th>\n",
       "      <th>radius</th>\n",
       "      <th>diameter</th>\n",
       "      <th>densities</th>\n",
       "      <th>number_of_edges</th>\n",
       "      <th>average_clustering</th>\n",
       "      <th>avg_degree_centrality</th>\n",
       "      <th>avg_betweenness_centrality</th>\n",
       "      <th>avg_closeness_centrality</th>\n",
       "      <th>average_shortest_path_length</th>\n",
       "    </tr>\n",
       "  </thead>\n",
       "  <tbody>\n",
       "    <tr>\n",
       "      <th>0</th>\n",
       "      <td>2</td>\n",
       "      <td>3</td>\n",
       "      <td>0.621256</td>\n",
       "      <td>643</td>\n",
       "      <td>0.814126</td>\n",
       "      <td>0.621256</td>\n",
       "      <td>0.008915</td>\n",
       "      <td>0.740841</td>\n",
       "      <td>1.392271</td>\n",
       "    </tr>\n",
       "  </tbody>\n",
       "</table>\n",
       "</div>"
      ],
      "text/plain": [
       "   radius  diameter  densities  number_of_edges  average_clustering  \\\n",
       "0       2         3   0.621256              643            0.814126   \n",
       "\n",
       "   avg_degree_centrality  avg_betweenness_centrality  \\\n",
       "0               0.621256                    0.008915   \n",
       "\n",
       "   avg_closeness_centrality  average_shortest_path_length  \n",
       "0                  0.740841                      1.392271  "
      ]
     },
     "execution_count": 41,
     "metadata": {},
     "output_type": "execute_result"
    }
   ],
   "source": [
    "nm.get_network_features(pearson_network_ThreeReg_Ox_3)"
   ]
  },
  {
   "cell_type": "code",
   "execution_count": 42,
   "id": "f18f31f3-df4c-4287-b441-b807ec51f1fa",
   "metadata": {},
   "outputs": [
    {
     "data": {
      "text/plain": [
       "array({'AbzaralatePezeshki': 3, 'FaravardehayeNafti': 4, 'DastgahayeBargi': 5, 'Mali': 5, 'Brent Oil': 8, 'Coin': 9, 'M1': 11, 'GDP': 14, 'CPI': 17, 'CoalMining': 19, 'Gold': 20, 'Euro': 23, 'HOUSE': 24, 'Mansojat': 24, 'USD': 26, 'M2': 26, 'Wood': 30, 'EstekrajeNaft': 31, 'VasayelErtebati': 31, 'Bank': 31, 'SayerMadan': 32, 'paper': 33, 'EntesharVaChap': 33, 'HamlVaNaghl': 33, 'FaniVaMohandesi': 33, 'Lastic': 34, 'MashinAlat': 34, 'KashiVaSeramik': 34, 'MahsolateFelezi': 35, 'SayerMali': 35, 'Amlakva': 35, 'KanehayeFelezi': 35, 'Agriculture': 36, 'khodrosazi': 36, 'GhandVaShekar': 36, 'Siman': 36, 'SarmayeGozari': 36, 'Bimeh': 36, 'Rayaneh': 36, 'FelezateAsasi': 37, 'GazaeeBejozGhand': 37, 'index': 38, 'Shimiyaee': 38, 'KanehayeGeyreFelezi': 38, 'Daroee': 39, 'ChandReshteSanati': 40},\n",
       "      dtype=object)"
      ]
     },
     "execution_count": 42,
     "metadata": {},
     "output_type": "execute_result"
    }
   ],
   "source": [
    "b21_3 = dict(nx.degree(pearson_network_ThreeReg_Ox_3))\n",
    "b21_3 = np.array(dict(sorted(b21_3.items(), key=lambda item: item[1])))\n",
    "b21_3"
   ]
  },
  {
   "cell_type": "code",
   "execution_count": 43,
   "id": "fa798467-da33-4095-b22a-c28d243511ee",
   "metadata": {},
   "outputs": [],
   "source": [
    "nm.get_network_features(pearson_network_ThreeReg_Ox_3).to_csv('Excels/21_3.csv')"
   ]
  },
  {
   "cell_type": "markdown",
   "id": "b05030f8-b42d-4d1f-8645-47d5b0edb233",
   "metadata": {},
   "source": [
    "# 22) Tehran 3 Regime Pearson (Based on Median Threshold) Period of 90 Far - 98 Dey/ Last 100 Records"
   ]
  },
  {
   "cell_type": "code",
   "execution_count": 44,
   "id": "e790947c-68a2-46c8-a8db-1fc217d7f8d5",
   "metadata": {},
   "outputs": [],
   "source": [
    "thr22_1 = nm.find_median_pearson_threshold(tehran_df_ThreeReg_Ox_1_same_length_98[-100:])\n",
    "thr22_2 = nm.find_median_pearson_threshold(tehran_df_ThreeReg_Ox_2_same_length_98[-100:])\n",
    "thr22_3 = nm.find_median_pearson_threshold(tehran_df_ThreeReg_Ox_3_same_length_98[-100:])\n",
    "\n",
    "thr22 = min(thr22_1, thr22_2, thr22_3)"
   ]
  },
  {
   "cell_type": "code",
   "execution_count": 45,
   "id": "c69fadc7-1297-4639-a8a5-16099a655ec5",
   "metadata": {},
   "outputs": [],
   "source": [
    "pearson_network_ThreeReg_Ox_1_98_last100 = nm.construct_network(tehran_df_ThreeReg_Ox_1_same_length_98[-100:], method='pearson', threshold=thr22)"
   ]
  },
  {
   "cell_type": "code",
   "execution_count": 46,
   "id": "633f0858-7676-498c-8693-ef777c524487",
   "metadata": {},
   "outputs": [
    {
     "data": {
      "text/html": [
       "<div>\n",
       "<style scoped>\n",
       "    .dataframe tbody tr th:only-of-type {\n",
       "        vertical-align: middle;\n",
       "    }\n",
       "\n",
       "    .dataframe tbody tr th {\n",
       "        vertical-align: top;\n",
       "    }\n",
       "\n",
       "    .dataframe thead th {\n",
       "        text-align: right;\n",
       "    }\n",
       "</style>\n",
       "<table border=\"1\" class=\"dataframe\">\n",
       "  <thead>\n",
       "    <tr style=\"text-align: right;\">\n",
       "      <th></th>\n",
       "      <th>radius</th>\n",
       "      <th>diameter</th>\n",
       "      <th>densities</th>\n",
       "      <th>number_of_edges</th>\n",
       "      <th>average_clustering</th>\n",
       "      <th>avg_degree_centrality</th>\n",
       "      <th>avg_betweenness_centrality</th>\n",
       "      <th>avg_closeness_centrality</th>\n",
       "      <th>average_shortest_path_length</th>\n",
       "    </tr>\n",
       "  </thead>\n",
       "  <tbody>\n",
       "    <tr>\n",
       "      <th>0</th>\n",
       "      <td>2</td>\n",
       "      <td>3</td>\n",
       "      <td>0.577778</td>\n",
       "      <td>572</td>\n",
       "      <td>0.754686</td>\n",
       "      <td>0.577778</td>\n",
       "      <td>0.010125</td>\n",
       "      <td>0.715872</td>\n",
       "      <td>1.435354</td>\n",
       "    </tr>\n",
       "  </tbody>\n",
       "</table>\n",
       "</div>"
      ],
      "text/plain": [
       "   radius  diameter  densities  number_of_edges  average_clustering  \\\n",
       "0       2         3   0.577778              572            0.754686   \n",
       "\n",
       "   avg_degree_centrality  avg_betweenness_centrality  \\\n",
       "0               0.577778                    0.010125   \n",
       "\n",
       "   avg_closeness_centrality  average_shortest_path_length  \n",
       "0                  0.715872                      1.435354  "
      ]
     },
     "execution_count": 46,
     "metadata": {},
     "output_type": "execute_result"
    }
   ],
   "source": [
    "nm.get_network_features(pearson_network_ThreeReg_Ox_1_98_last100)"
   ]
  },
  {
   "cell_type": "code",
   "execution_count": 47,
   "id": "9a254550-f065-48ca-acb4-812dd613d994",
   "metadata": {},
   "outputs": [
    {
     "data": {
      "text/plain": [
       "array({'FaravardehayeNafti': 2, 'HOUSE': 5, 'Coin': 6, 'USD': 7, 'CPI': 7, 'Euro': 9, 'Brent Oil': 10, 'Gold': 10, 'GDP': 13, 'M2': 16, 'CoalMining': 17, 'DastgahayeBargi': 17, 'M1': 19, 'Shimiyaee': 24, 'EntesharVaChap': 25, 'FelezateAsasi': 26, 'Agriculture': 27, 'VasayelErtebati': 28, 'SayerMadan': 30, 'Mansojat': 30, 'Wood': 30, 'GhandVaShekar': 30, 'EstekrajeNaft': 31, 'Lastic': 31, 'ChandReshteSanati': 31, 'Siman': 31, 'Bank': 31, 'Bimeh': 31, 'Rayaneh': 31, 'MahsolateFelezi': 32, 'KanehayeGeyreFelezi': 32, 'SayerMali': 32, 'Amlakva': 32, 'khodrosazi': 33, 'Daroee': 33, 'KanehayeFelezi': 33, 'paper': 34, 'GazaeeBejozGhand': 34, 'FaniVaMohandesi': 34, 'Mali': 34, 'index': 35, 'KashiVaSeramik': 35, 'SarmayeGozari': 35, 'HamlVaNaghl': 35, 'MashinAlat': 36},\n",
       "      dtype=object)"
      ]
     },
     "execution_count": 47,
     "metadata": {},
     "output_type": "execute_result"
    }
   ],
   "source": [
    "b22_1 = dict(nx.degree(pearson_network_ThreeReg_Ox_1_98_last100))\n",
    "b22_1 = np.array(dict(sorted(b22_1.items(), key=lambda item: item[1])))\n",
    "b22_1"
   ]
  },
  {
   "cell_type": "code",
   "execution_count": 48,
   "id": "b96b95ab-ac53-4ae7-8a46-fa7a41c0b6e9",
   "metadata": {},
   "outputs": [],
   "source": [
    "nm.get_network_features(pearson_network_ThreeReg_Ox_1_98_last100).to_csv('Excels/22_1.csv')"
   ]
  },
  {
   "cell_type": "code",
   "execution_count": 49,
   "id": "31263623-f303-499c-9c38-b03c620f0ccb",
   "metadata": {},
   "outputs": [],
   "source": [
    "pearson_network_ThreeReg_Ox_2_98_last100 = nm.construct_network(tehran_df_ThreeReg_Ox_2_same_length_98[-100:], method='pearson', threshold=thr22)"
   ]
  },
  {
   "cell_type": "code",
   "execution_count": 50,
   "id": "01f032cb-b351-4d35-b7bc-e61cab22d80c",
   "metadata": {},
   "outputs": [
    {
     "data": {
      "text/html": [
       "<div>\n",
       "<style scoped>\n",
       "    .dataframe tbody tr th:only-of-type {\n",
       "        vertical-align: middle;\n",
       "    }\n",
       "\n",
       "    .dataframe tbody tr th {\n",
       "        vertical-align: top;\n",
       "    }\n",
       "\n",
       "    .dataframe thead th {\n",
       "        text-align: right;\n",
       "    }\n",
       "</style>\n",
       "<table border=\"1\" class=\"dataframe\">\n",
       "  <thead>\n",
       "    <tr style=\"text-align: right;\">\n",
       "      <th></th>\n",
       "      <th>radius</th>\n",
       "      <th>diameter</th>\n",
       "      <th>densities</th>\n",
       "      <th>number_of_edges</th>\n",
       "      <th>average_clustering</th>\n",
       "      <th>avg_degree_centrality</th>\n",
       "      <th>avg_betweenness_centrality</th>\n",
       "      <th>avg_closeness_centrality</th>\n",
       "      <th>average_shortest_path_length</th>\n",
       "    </tr>\n",
       "  </thead>\n",
       "  <tbody>\n",
       "    <tr>\n",
       "      <th>0</th>\n",
       "      <td>2</td>\n",
       "      <td>3</td>\n",
       "      <td>0.600966</td>\n",
       "      <td>622</td>\n",
       "      <td>0.757221</td>\n",
       "      <td>0.600966</td>\n",
       "      <td>0.009179</td>\n",
       "      <td>0.730114</td>\n",
       "      <td>1.403865</td>\n",
       "    </tr>\n",
       "  </tbody>\n",
       "</table>\n",
       "</div>"
      ],
      "text/plain": [
       "   radius  diameter  densities  number_of_edges  average_clustering  \\\n",
       "0       2         3   0.600966              622            0.757221   \n",
       "\n",
       "   avg_degree_centrality  avg_betweenness_centrality  \\\n",
       "0               0.600966                    0.009179   \n",
       "\n",
       "   avg_closeness_centrality  average_shortest_path_length  \n",
       "0                  0.730114                      1.403865  "
      ]
     },
     "execution_count": 50,
     "metadata": {},
     "output_type": "execute_result"
    }
   ],
   "source": [
    "nm.get_network_features(pearson_network_ThreeReg_Ox_2_98_last100)"
   ]
  },
  {
   "cell_type": "code",
   "execution_count": 51,
   "id": "50beb2ba-340b-4d14-b388-f8aa9b8894ec",
   "metadata": {},
   "outputs": [
    {
     "data": {
      "text/plain": [
       "array({'Euro': 7, 'USD': 8, 'Gold': 10, 'M2': 10, 'Mansojat': 10, 'CoalMining': 10, 'HOUSE': 11, 'Brent Oil': 12, 'M1': 12, 'AbzaralatePezeshki': 12, 'CPI': 13, 'GDP': 15, 'Coin': 20, 'paper': 24, 'EntesharVaChap': 25, 'Bank': 29, 'Agriculture': 31, 'Shimiyaee': 31, 'Wood': 32, 'ChandReshteSanati': 32, 'SayerMali': 32, 'FaniVaMohandesi': 32, 'Mali': 32, 'index': 33, 'FaravardehayeNafti': 33, 'FelezateAsasi': 33, 'SarmayeGozari': 33, 'EstekrajeNaft': 34, 'Lastic': 34, 'MashinAlat': 34, 'DastgahayeBargi': 34, 'GazaeeBejozGhand': 34, 'Daroee': 34, 'Siman': 34, 'HamlVaNaghl': 34, 'Bimeh': 34, 'Amlakva': 34, 'KanehayeFelezi': 34, 'SayerMadan': 35, 'VasayelErtebati': 35, 'GhandVaShekar': 35, 'KashiVaSeramik': 35, 'Rayaneh': 36, 'MahsolateFelezi': 37, 'KanehayeGeyreFelezi': 37, 'khodrosazi': 38},\n",
       "      dtype=object)"
      ]
     },
     "execution_count": 51,
     "metadata": {},
     "output_type": "execute_result"
    }
   ],
   "source": [
    "b22_2 = dict(nx.degree(pearson_network_ThreeReg_Ox_2_98_last100))\n",
    "b22_2 = np.array(dict(sorted(b22_2.items(), key=lambda item: item[1])))\n",
    "b22_2"
   ]
  },
  {
   "cell_type": "code",
   "execution_count": 52,
   "id": "ac89c94b-5b24-4304-a8cf-bc3da1091b51",
   "metadata": {},
   "outputs": [],
   "source": [
    "nm.get_network_features(pearson_network_ThreeReg_Ox_2_98_last100).to_csv('Excels/22_2.csv')"
   ]
  },
  {
   "cell_type": "code",
   "execution_count": 53,
   "id": "1b45b4bb-a4ee-43b3-afa5-1ec5e9bc8264",
   "metadata": {},
   "outputs": [],
   "source": [
    "pearson_network_ThreeReg_Ox_3_98_last100 = nm.construct_network(tehran_df_ThreeReg_Ox_3_same_length_98[-100:], method='pearson', threshold=thr22)"
   ]
  },
  {
   "cell_type": "code",
   "execution_count": 54,
   "id": "7a942557-b077-41b7-a075-b2b255270b76",
   "metadata": {},
   "outputs": [
    {
     "data": {
      "text/html": [
       "<div>\n",
       "<style scoped>\n",
       "    .dataframe tbody tr th:only-of-type {\n",
       "        vertical-align: middle;\n",
       "    }\n",
       "\n",
       "    .dataframe tbody tr th {\n",
       "        vertical-align: top;\n",
       "    }\n",
       "\n",
       "    .dataframe thead th {\n",
       "        text-align: right;\n",
       "    }\n",
       "</style>\n",
       "<table border=\"1\" class=\"dataframe\">\n",
       "  <thead>\n",
       "    <tr style=\"text-align: right;\">\n",
       "      <th></th>\n",
       "      <th>radius</th>\n",
       "      <th>diameter</th>\n",
       "      <th>densities</th>\n",
       "      <th>number_of_edges</th>\n",
       "      <th>average_clustering</th>\n",
       "      <th>avg_degree_centrality</th>\n",
       "      <th>avg_betweenness_centrality</th>\n",
       "      <th>avg_closeness_centrality</th>\n",
       "      <th>average_shortest_path_length</th>\n",
       "    </tr>\n",
       "  </thead>\n",
       "  <tbody>\n",
       "    <tr>\n",
       "      <th>0</th>\n",
       "      <td>2</td>\n",
       "      <td>3</td>\n",
       "      <td>0.631078</td>\n",
       "      <td>597</td>\n",
       "      <td>0.798661</td>\n",
       "      <td>0.631078</td>\n",
       "      <td>0.008834</td>\n",
       "      <td>0.747501</td>\n",
       "      <td>1.371036</td>\n",
       "    </tr>\n",
       "  </tbody>\n",
       "</table>\n",
       "</div>"
      ],
      "text/plain": [
       "   radius  diameter  densities  number_of_edges  average_clustering  \\\n",
       "0       2         3   0.631078              597            0.798661   \n",
       "\n",
       "   avg_degree_centrality  avg_betweenness_centrality  \\\n",
       "0               0.631078                    0.008834   \n",
       "\n",
       "   avg_closeness_centrality  average_shortest_path_length  \n",
       "0                  0.747501                      1.371036  "
      ]
     },
     "execution_count": 54,
     "metadata": {},
     "output_type": "execute_result"
    }
   ],
   "source": [
    "nm.get_network_features(pearson_network_ThreeReg_Ox_3_98_last100)"
   ]
  },
  {
   "cell_type": "code",
   "execution_count": 55,
   "id": "85550757-0f41-4d4b-b488-ff1f84cb3213",
   "metadata": {},
   "outputs": [
    {
     "data": {
      "text/plain": [
       "array({'M2': 5, 'DastgahayeBargi': 7, 'HOUSE': 8, 'M1': 8, 'FaravardehayeNafti': 11, 'Gold': 11, 'USD': 12, 'GDP': 14, 'Coin': 15, 'Euro': 18, 'CPI': 21, 'CoalMining': 22, 'SayerMadan': 25, 'Mansojat': 26, 'EntesharVaChap': 28, 'Wood': 29, 'paper': 29, 'Bank': 29, 'EstekrajeNaft': 30, 'GhandVaShekar': 31, 'Siman': 31, 'KanehayeGeyreFelezi': 31, 'HamlVaNaghl': 31, 'MahsolateFelezi': 32, 'MashinAlat': 32, 'VasayelErtebati': 32, 'khodrosazi': 32, 'Amlakva': 32, 'Agriculture': 33, 'Lastic': 33, 'Shimiyaee': 33, 'SarmayeGozari': 33, 'ChandReshteSanati': 34, 'Daroee': 34, 'Rayaneh': 34, 'FaniVaMohandesi': 34, 'GazaeeBejozGhand': 35, 'Mali': 36, 'KanehayeFelezi': 36, 'index': 37, 'SayerMali': 37, 'Bimeh': 37, 'FelezateAsasi': 38, 'KashiVaSeramik': 38},\n",
       "      dtype=object)"
      ]
     },
     "execution_count": 55,
     "metadata": {},
     "output_type": "execute_result"
    }
   ],
   "source": [
    "b22_3 = dict(nx.degree(pearson_network_ThreeReg_Ox_3_98_last100))\n",
    "b22_3 = np.array(dict(sorted(b22_3.items(), key=lambda item: item[1])))\n",
    "b22_3"
   ]
  },
  {
   "cell_type": "code",
   "execution_count": 56,
   "id": "3d27a4ad-1e0a-47ae-b893-3a6dc4807f4c",
   "metadata": {},
   "outputs": [],
   "source": [
    "nm.get_network_features(pearson_network_ThreeReg_Ox_3_98_last100).to_csv('Excels/22_3.csv')"
   ]
  },
  {
   "cell_type": "markdown",
   "id": "a02ecf54-48bc-4b00-9fb1-eb60a04acc06",
   "metadata": {},
   "source": [
    "# 23) Tehran 3 Regime Pearson (Based on Median Threshold) Period of 90 Far - 98 Dey/ 50 windows of 100 Records"
   ]
  },
  {
   "cell_type": "code",
   "execution_count": 57,
   "id": "cbd2e661-21a1-45b8-a52b-019cbe23826c",
   "metadata": {
    "tags": []
   },
   "outputs": [
    {
     "name": "stderr",
     "output_type": "stream",
     "text": [
      "/Users/hossein4527/MEGA/MEGAsync/Commit/Neda_PhD/neda_sep2023/Time_Series_Trend_Forcasting/Codes/Shifted DF by Lags/ned.py:1106: SettingWithCopyWarning: \n",
      "A value is trying to be set on a copy of a slice from a DataFrame.\n",
      "Try using .loc[row_indexer,col_indexer] = value instead\n",
      "\n",
      "See the caveats in the documentation: https://pandas.pydata.org/pandas-docs/stable/user_guide/indexing.html#returning-a-view-versus-a-copy\n",
      "  df['selected_regimes'] = regimes_column\n"
     ]
    },
    {
     "name": "stdout",
     "output_type": "stream",
     "text": [
      "Number of columns data in our DataFrame is = 46\n",
      "fixed_thr= 0.10698058529275908\n"
     ]
    }
   ],
   "source": [
    "nm = Net_moduls()\n",
    "pearson_network_ThreeReg_Ox_1_98_averged = nm.get_network_features_averaged_median(tehran_df, regimes_column = tehran_df_reg.iloc[:-300]['Ox_3'],method='pearson',edges_threshold=200, target_window=100, target_length=50)"
   ]
  },
  {
   "cell_type": "code",
   "execution_count": 58,
   "id": "96a1b19a-0d2e-4962-afc3-9fca7c40adb8",
   "metadata": {},
   "outputs": [
    {
     "data": {
      "text/html": [
       "<div>\n",
       "<style scoped>\n",
       "    .dataframe tbody tr th:only-of-type {\n",
       "        vertical-align: middle;\n",
       "    }\n",
       "\n",
       "    .dataframe tbody tr th {\n",
       "        vertical-align: top;\n",
       "    }\n",
       "\n",
       "    .dataframe thead th {\n",
       "        text-align: right;\n",
       "    }\n",
       "</style>\n",
       "<table border=\"1\" class=\"dataframe\">\n",
       "  <thead>\n",
       "    <tr style=\"text-align: right;\">\n",
       "      <th></th>\n",
       "      <th>radius</th>\n",
       "      <th>diameter</th>\n",
       "      <th>densities</th>\n",
       "      <th>number_of_edges</th>\n",
       "      <th>average_clustering</th>\n",
       "      <th>avg_degree_centrality</th>\n",
       "      <th>avg_betweenness_centrality</th>\n",
       "      <th>avg_closeness_centrality</th>\n",
       "      <th>average_shortest_path_length</th>\n",
       "    </tr>\n",
       "  </thead>\n",
       "  <tbody>\n",
       "    <tr>\n",
       "      <th>Means</th>\n",
       "      <td>2.0</td>\n",
       "      <td>2.920000</td>\n",
       "      <td>0.585697</td>\n",
       "      <td>579.840000</td>\n",
       "      <td>0.754204</td>\n",
       "      <td>0.585697</td>\n",
       "      <td>0.009868</td>\n",
       "      <td>0.719599</td>\n",
       "      <td>1.424323</td>\n",
       "    </tr>\n",
       "    <tr>\n",
       "      <th>STDs</th>\n",
       "      <td>0.0</td>\n",
       "      <td>0.274048</td>\n",
       "      <td>0.032121</td>\n",
       "      <td>31.799987</td>\n",
       "      <td>0.015570</td>\n",
       "      <td>0.032121</td>\n",
       "      <td>0.000885</td>\n",
       "      <td>0.018054</td>\n",
       "      <td>0.038058</td>\n",
       "    </tr>\n",
       "    <tr>\n",
       "      <th>Means</th>\n",
       "      <td>2.0</td>\n",
       "      <td>2.460000</td>\n",
       "      <td>0.616831</td>\n",
       "      <td>638.420000</td>\n",
       "      <td>0.738570</td>\n",
       "      <td>0.616831</td>\n",
       "      <td>0.008728</td>\n",
       "      <td>0.736515</td>\n",
       "      <td>1.384019</td>\n",
       "    </tr>\n",
       "    <tr>\n",
       "      <th>STDs</th>\n",
       "      <td>0.0</td>\n",
       "      <td>0.503457</td>\n",
       "      <td>0.020376</td>\n",
       "      <td>21.088821</td>\n",
       "      <td>0.020988</td>\n",
       "      <td>0.020376</td>\n",
       "      <td>0.000467</td>\n",
       "      <td>0.011308</td>\n",
       "      <td>0.020527</td>\n",
       "    </tr>\n",
       "    <tr>\n",
       "      <th>Means</th>\n",
       "      <td>2.0</td>\n",
       "      <td>3.000000</td>\n",
       "      <td>0.668708</td>\n",
       "      <td>653.600000</td>\n",
       "      <td>0.833356</td>\n",
       "      <td>0.668708</td>\n",
       "      <td>0.007933</td>\n",
       "      <td>0.768615</td>\n",
       "      <td>1.338502</td>\n",
       "    </tr>\n",
       "    <tr>\n",
       "      <th>STDs</th>\n",
       "      <td>0.0</td>\n",
       "      <td>0.000000</td>\n",
       "      <td>0.034994</td>\n",
       "      <td>43.270389</td>\n",
       "      <td>0.030969</td>\n",
       "      <td>0.034994</td>\n",
       "      <td>0.000905</td>\n",
       "      <td>0.021050</td>\n",
       "      <td>0.036683</td>\n",
       "    </tr>\n",
       "  </tbody>\n",
       "</table>\n",
       "</div>"
      ],
      "text/plain": [
       "       radius  diameter  densities  number_of_edges  average_clustering  \\\n",
       "Means     2.0  2.920000   0.585697       579.840000            0.754204   \n",
       "STDs      0.0  0.274048   0.032121        31.799987            0.015570   \n",
       "Means     2.0  2.460000   0.616831       638.420000            0.738570   \n",
       "STDs      0.0  0.503457   0.020376        21.088821            0.020988   \n",
       "Means     2.0  3.000000   0.668708       653.600000            0.833356   \n",
       "STDs      0.0  0.000000   0.034994        43.270389            0.030969   \n",
       "\n",
       "       avg_degree_centrality  avg_betweenness_centrality  \\\n",
       "Means               0.585697                    0.009868   \n",
       "STDs                0.032121                    0.000885   \n",
       "Means               0.616831                    0.008728   \n",
       "STDs                0.020376                    0.000467   \n",
       "Means               0.668708                    0.007933   \n",
       "STDs                0.034994                    0.000905   \n",
       "\n",
       "       avg_closeness_centrality  average_shortest_path_length  \n",
       "Means                  0.719599                      1.424323  \n",
       "STDs                   0.018054                      0.038058  \n",
       "Means                  0.736515                      1.384019  \n",
       "STDs                   0.011308                      0.020527  \n",
       "Means                  0.768615                      1.338502  \n",
       "STDs                   0.021050                      0.036683  "
      ]
     },
     "execution_count": 58,
     "metadata": {},
     "output_type": "execute_result"
    }
   ],
   "source": [
    "pearson_network_ThreeReg_Ox_1_98_averged"
   ]
  },
  {
   "cell_type": "code",
   "execution_count": 59,
   "id": "ae8e7a39-726c-4b08-aa96-8fdec60452a7",
   "metadata": {},
   "outputs": [],
   "source": [
    "pearson_network_ThreeReg_Ox_1_98_averged.to_csv('Excels/23.csv')"
   ]
  },
  {
   "cell_type": "markdown",
   "id": "ca4044a7-b65c-4b82-961d-2df80629ea44",
   "metadata": {},
   "source": [
    "# 24) Tehran 3 Regime Pearson (Based on Median Threshold) Period of 90 Far - 00 Far/ 50 windows of 100 Records"
   ]
  },
  {
   "cell_type": "code",
   "execution_count": 60,
   "id": "5b27b703-df04-45b5-87ff-bd2bbbd9dd80",
   "metadata": {
    "tags": []
   },
   "outputs": [
    {
     "name": "stdout",
     "output_type": "stream",
     "text": [
      "Number of columns data in our DataFrame is = 46\n",
      "fixed_thr= 0.10061361958843831\n"
     ]
    }
   ],
   "source": [
    "nm = Net_moduls()\n",
    "pearson_network_ThreeReg_Ox_90_00_averged = nm.get_network_features_averaged_median(tehran_df_completeDates, regimes_column= tehran_df_reg['Ox_3'],method='pearson',edges_threshold=200, target_window=100, target_length=50)"
   ]
  },
  {
   "cell_type": "code",
   "execution_count": 61,
   "id": "c23bef64-f35c-43f7-a4a8-938b953eeb3f",
   "metadata": {},
   "outputs": [
    {
     "data": {
      "text/html": [
       "<div>\n",
       "<style scoped>\n",
       "    .dataframe tbody tr th:only-of-type {\n",
       "        vertical-align: middle;\n",
       "    }\n",
       "\n",
       "    .dataframe tbody tr th {\n",
       "        vertical-align: top;\n",
       "    }\n",
       "\n",
       "    .dataframe thead th {\n",
       "        text-align: right;\n",
       "    }\n",
       "</style>\n",
       "<table border=\"1\" class=\"dataframe\">\n",
       "  <thead>\n",
       "    <tr style=\"text-align: right;\">\n",
       "      <th></th>\n",
       "      <th>radius</th>\n",
       "      <th>diameter</th>\n",
       "      <th>densities</th>\n",
       "      <th>number_of_edges</th>\n",
       "      <th>average_clustering</th>\n",
       "      <th>avg_degree_centrality</th>\n",
       "      <th>avg_betweenness_centrality</th>\n",
       "      <th>avg_closeness_centrality</th>\n",
       "      <th>average_shortest_path_length</th>\n",
       "    </tr>\n",
       "  </thead>\n",
       "  <tbody>\n",
       "    <tr>\n",
       "      <th>Means</th>\n",
       "      <td>2.0</td>\n",
       "      <td>3.000000</td>\n",
       "      <td>0.581455</td>\n",
       "      <td>575.640000</td>\n",
       "      <td>0.762650</td>\n",
       "      <td>0.581455</td>\n",
       "      <td>0.009929</td>\n",
       "      <td>0.718974</td>\n",
       "      <td>1.426929</td>\n",
       "    </tr>\n",
       "    <tr>\n",
       "      <th>STDs</th>\n",
       "      <td>0.0</td>\n",
       "      <td>0.000000</td>\n",
       "      <td>0.013860</td>\n",
       "      <td>13.721367</td>\n",
       "      <td>0.010617</td>\n",
       "      <td>0.013860</td>\n",
       "      <td>0.000341</td>\n",
       "      <td>0.007168</td>\n",
       "      <td>0.014683</td>\n",
       "    </tr>\n",
       "    <tr>\n",
       "      <th>Means</th>\n",
       "      <td>2.0</td>\n",
       "      <td>2.700000</td>\n",
       "      <td>0.641886</td>\n",
       "      <td>662.540000</td>\n",
       "      <td>0.773126</td>\n",
       "      <td>0.641886</td>\n",
       "      <td>0.008220</td>\n",
       "      <td>0.751426</td>\n",
       "      <td>1.361211</td>\n",
       "    </tr>\n",
       "    <tr>\n",
       "      <th>STDs</th>\n",
       "      <td>0.0</td>\n",
       "      <td>0.505076</td>\n",
       "      <td>0.017948</td>\n",
       "      <td>16.910581</td>\n",
       "      <td>0.014651</td>\n",
       "      <td>0.017948</td>\n",
       "      <td>0.000435</td>\n",
       "      <td>0.009351</td>\n",
       "      <td>0.019770</td>\n",
       "    </tr>\n",
       "    <tr>\n",
       "      <th>Means</th>\n",
       "      <td>2.0</td>\n",
       "      <td>3.000000</td>\n",
       "      <td>0.663387</td>\n",
       "      <td>680.500000</td>\n",
       "      <td>0.797972</td>\n",
       "      <td>0.663387</td>\n",
       "      <td>0.007806</td>\n",
       "      <td>0.763736</td>\n",
       "      <td>1.341968</td>\n",
       "    </tr>\n",
       "    <tr>\n",
       "      <th>STDs</th>\n",
       "      <td>0.0</td>\n",
       "      <td>0.000000</td>\n",
       "      <td>0.024810</td>\n",
       "      <td>24.723161</td>\n",
       "      <td>0.028512</td>\n",
       "      <td>0.024810</td>\n",
       "      <td>0.000565</td>\n",
       "      <td>0.015172</td>\n",
       "      <td>0.025569</td>\n",
       "    </tr>\n",
       "  </tbody>\n",
       "</table>\n",
       "</div>"
      ],
      "text/plain": [
       "       radius  diameter  densities  number_of_edges  average_clustering  \\\n",
       "Means     2.0  3.000000   0.581455       575.640000            0.762650   \n",
       "STDs      0.0  0.000000   0.013860        13.721367            0.010617   \n",
       "Means     2.0  2.700000   0.641886       662.540000            0.773126   \n",
       "STDs      0.0  0.505076   0.017948        16.910581            0.014651   \n",
       "Means     2.0  3.000000   0.663387       680.500000            0.797972   \n",
       "STDs      0.0  0.000000   0.024810        24.723161            0.028512   \n",
       "\n",
       "       avg_degree_centrality  avg_betweenness_centrality  \\\n",
       "Means               0.581455                    0.009929   \n",
       "STDs                0.013860                    0.000341   \n",
       "Means               0.641886                    0.008220   \n",
       "STDs                0.017948                    0.000435   \n",
       "Means               0.663387                    0.007806   \n",
       "STDs                0.024810                    0.000565   \n",
       "\n",
       "       avg_closeness_centrality  average_shortest_path_length  \n",
       "Means                  0.718974                      1.426929  \n",
       "STDs                   0.007168                      0.014683  \n",
       "Means                  0.751426                      1.361211  \n",
       "STDs                   0.009351                      0.019770  \n",
       "Means                  0.763736                      1.341968  \n",
       "STDs                   0.015172                      0.025569  "
      ]
     },
     "execution_count": 61,
     "metadata": {},
     "output_type": "execute_result"
    }
   ],
   "source": [
    "pearson_network_ThreeReg_Ox_90_00_averged"
   ]
  },
  {
   "cell_type": "code",
   "execution_count": 62,
   "id": "a6f0184a-bfbb-4ab0-8e71-ecda8c763189",
   "metadata": {},
   "outputs": [],
   "source": [
    "pearson_network_ThreeReg_Ox_90_00_averged.to_csv('Excels/24.csv')"
   ]
  },
  {
   "cell_type": "markdown",
   "id": "e60ea73a-74e9-4f7a-bae2-cca2c8d23a6d",
   "metadata": {},
   "source": [
    "# 25) Tehran 3 Regime Entropy (Based on Median Threshold) Period of 90 Far - 98 Dey"
   ]
  },
  {
   "cell_type": "code",
   "execution_count": 63,
   "id": "e492877e-54cb-48b4-b950-881c4b41f9e6",
   "metadata": {},
   "outputs": [],
   "source": [
    "nm = Net_moduls()"
   ]
  },
  {
   "cell_type": "code",
   "execution_count": 64,
   "id": "9d275cb4-7e72-4ca5-8c0a-d597346c0630",
   "metadata": {},
   "outputs": [],
   "source": [
    "thr25_1 = nm.find_median_entropy_threshold(tehran_df_ThreeReg_Ox_1_same_length_98)\n",
    "thr25_2 = nm.find_median_entropy_threshold(tehran_df_ThreeReg_Ox_2_same_length_98)\n",
    "thr25_3 = nm.find_median_entropy_threshold(tehran_df_ThreeReg_Ox_3_same_length_98)\n",
    "\n",
    "thr25 = min(thr25_1, thr25_2, thr25_3)"
   ]
  },
  {
   "cell_type": "code",
   "execution_count": 65,
   "id": "46ceab3a-58a0-425a-9bf6-95b4d5fcff9b",
   "metadata": {},
   "outputs": [],
   "source": [
    "entropy_network_ThreeReg_Ox_1_98 = nm.construct_network(tehran_df_ThreeReg_Ox_1_same_length_98, method='entropy', threshold=thr25)"
   ]
  },
  {
   "cell_type": "code",
   "execution_count": 66,
   "id": "941fa491-904f-4764-b2ba-8e3d356fbf06",
   "metadata": {},
   "outputs": [
    {
     "data": {
      "text/html": [
       "<div>\n",
       "<style scoped>\n",
       "    .dataframe tbody tr th:only-of-type {\n",
       "        vertical-align: middle;\n",
       "    }\n",
       "\n",
       "    .dataframe tbody tr th {\n",
       "        vertical-align: top;\n",
       "    }\n",
       "\n",
       "    .dataframe thead th {\n",
       "        text-align: right;\n",
       "    }\n",
       "</style>\n",
       "<table border=\"1\" class=\"dataframe\">\n",
       "  <thead>\n",
       "    <tr style=\"text-align: right;\">\n",
       "      <th></th>\n",
       "      <th>radius</th>\n",
       "      <th>diameter</th>\n",
       "      <th>densities</th>\n",
       "      <th>number_of_edges</th>\n",
       "      <th>average_clustering</th>\n",
       "      <th>avg_degree_centrality</th>\n",
       "      <th>avg_betweenness_centrality</th>\n",
       "      <th>avg_closeness_centrality</th>\n",
       "      <th>average_shortest_path_length</th>\n",
       "    </tr>\n",
       "  </thead>\n",
       "  <tbody>\n",
       "    <tr>\n",
       "      <th>0</th>\n",
       "      <td>2</td>\n",
       "      <td>2</td>\n",
       "      <td>0.707071</td>\n",
       "      <td>700</td>\n",
       "      <td>0.779921</td>\n",
       "      <td>0.707071</td>\n",
       "      <td>0.006812</td>\n",
       "      <td>0.784352</td>\n",
       "      <td>1.292929</td>\n",
       "    </tr>\n",
       "  </tbody>\n",
       "</table>\n",
       "</div>"
      ],
      "text/plain": [
       "   radius  diameter  densities  number_of_edges  average_clustering  \\\n",
       "0       2         2   0.707071              700            0.779921   \n",
       "\n",
       "   avg_degree_centrality  avg_betweenness_centrality  \\\n",
       "0               0.707071                    0.006812   \n",
       "\n",
       "   avg_closeness_centrality  average_shortest_path_length  \n",
       "0                  0.784352                      1.292929  "
      ]
     },
     "execution_count": 66,
     "metadata": {},
     "output_type": "execute_result"
    }
   ],
   "source": [
    "nm.get_network_features(entropy_network_ThreeReg_Ox_1_98)"
   ]
  },
  {
   "cell_type": "code",
   "execution_count": 67,
   "id": "d51a3266-6eb5-4059-b7dc-4d70bab35277",
   "metadata": {},
   "outputs": [
    {
     "data": {
      "text/plain": [
       "array({'Gold': 10, 'M2': 14, 'CPI': 16, 'Euro': 18, 'Coin': 20, 'USD': 21, 'M1': 22, 'Brent Oil': 26, 'EntesharVaChap': 26, 'KanehayeFelezi': 26, 'GDP': 27, 'Wood': 29, 'FaravardehayeNafti': 29, 'Agriculture': 29, 'SayerMadan': 29, 'HOUSE': 30, 'paper': 31, 'index': 32, 'CoalMining': 32, 'MahsolateFelezi': 32, 'KashiVaSeramik': 32, 'Mali': 32, 'Lastic': 33, 'Shimiyaee': 34, 'SarmayeGozari': 34, 'FaniVaMohandesi': 34, 'Bank': 34, 'SayerMali': 34, 'GhandVaShekar': 35, 'EstekrajeNaft': 36, 'GazaeeBejozGhand': 36, 'Bimeh': 36, 'Rayaneh': 36, 'FelezateAsasi': 37, 'ChandReshteSanati': 37, 'Siman': 37, 'KanehayeGeyreFelezi': 37, 'MashinAlat': 38, 'DastgahayeBargi': 38, 'khodrosazi': 38, 'Daroee': 38, 'Amlakva': 38, 'VasayelErtebati': 38, 'HamlVaNaghl': 39, 'Mansojat': 40},\n",
       "      dtype=object)"
      ]
     },
     "execution_count": 67,
     "metadata": {},
     "output_type": "execute_result"
    }
   ],
   "source": [
    "b25_1 = dict(nx.degree(entropy_network_ThreeReg_Ox_1_98))\n",
    "b25_1 = np.array(dict(sorted(b25_1.items(), key=lambda item: item[1])))\n",
    "b25_1"
   ]
  },
  {
   "cell_type": "code",
   "execution_count": 68,
   "id": "8bf8112c-8b10-44a9-9471-50ea50ee59f7",
   "metadata": {},
   "outputs": [],
   "source": [
    "nm.get_network_features(entropy_network_ThreeReg_Ox_1_98).to_csv('Excels/25_1.csv')"
   ]
  },
  {
   "cell_type": "code",
   "execution_count": 69,
   "id": "cbf0e964-26c0-4d37-bb65-911c0aae14bf",
   "metadata": {},
   "outputs": [],
   "source": [
    "entropy_network_ThreeReg_Ox_2_98 = nm.construct_network(tehran_df_ThreeReg_Ox_2_same_length_98, method='entropy', threshold=thr25)"
   ]
  },
  {
   "cell_type": "code",
   "execution_count": 70,
   "id": "70f7a9c6-46e1-40f6-8422-77df708e7fe9",
   "metadata": {},
   "outputs": [
    {
     "data": {
      "text/html": [
       "<div>\n",
       "<style scoped>\n",
       "    .dataframe tbody tr th:only-of-type {\n",
       "        vertical-align: middle;\n",
       "    }\n",
       "\n",
       "    .dataframe tbody tr th {\n",
       "        vertical-align: top;\n",
       "    }\n",
       "\n",
       "    .dataframe thead th {\n",
       "        text-align: right;\n",
       "    }\n",
       "</style>\n",
       "<table border=\"1\" class=\"dataframe\">\n",
       "  <thead>\n",
       "    <tr style=\"text-align: right;\">\n",
       "      <th></th>\n",
       "      <th>radius</th>\n",
       "      <th>diameter</th>\n",
       "      <th>densities</th>\n",
       "      <th>number_of_edges</th>\n",
       "      <th>average_clustering</th>\n",
       "      <th>avg_degree_centrality</th>\n",
       "      <th>avg_betweenness_centrality</th>\n",
       "      <th>avg_closeness_centrality</th>\n",
       "      <th>average_shortest_path_length</th>\n",
       "    </tr>\n",
       "  </thead>\n",
       "  <tbody>\n",
       "    <tr>\n",
       "      <th>0</th>\n",
       "      <td>2</td>\n",
       "      <td>2</td>\n",
       "      <td>0.773913</td>\n",
       "      <td>801</td>\n",
       "      <td>0.819771</td>\n",
       "      <td>0.773913</td>\n",
       "      <td>0.005138</td>\n",
       "      <td>0.824658</td>\n",
       "      <td>1.226087</td>\n",
       "    </tr>\n",
       "  </tbody>\n",
       "</table>\n",
       "</div>"
      ],
      "text/plain": [
       "   radius  diameter  densities  number_of_edges  average_clustering  \\\n",
       "0       2         2   0.773913              801            0.819771   \n",
       "\n",
       "   avg_degree_centrality  avg_betweenness_centrality  \\\n",
       "0               0.773913                    0.005138   \n",
       "\n",
       "   avg_closeness_centrality  average_shortest_path_length  \n",
       "0                  0.824658                      1.226087  "
      ]
     },
     "execution_count": 70,
     "metadata": {},
     "output_type": "execute_result"
    }
   ],
   "source": [
    "nm.get_network_features(entropy_network_ThreeReg_Ox_2_98)"
   ]
  },
  {
   "cell_type": "code",
   "execution_count": 71,
   "id": "2682eb07-d17f-4ce9-afa3-870666fae433",
   "metadata": {},
   "outputs": [
    {
     "data": {
      "text/plain": [
       "array({'AbzaralatePezeshki': 18, 'Coin': 21, 'CPI': 21, 'GDP': 23, 'M2': 25, 'Gold': 25, 'Rayaneh': 27, 'M1': 27, 'DastgahayeBargi': 29, 'GazaeeBejozGhand': 31, 'Euro': 33, 'USD': 33, 'KanehayeGeyreFelezi': 33, 'FaniVaMohandesi': 33, 'Brent Oil': 35, 'HOUSE': 35, 'EstekrajeNaft': 35, 'SayerMadan': 35, 'Agriculture': 35, 'Wood': 36, 'Daroee': 36, 'SarmayeGozari': 36, 'MashinAlat': 37, 'khodrosazi': 37, 'Shimiyaee': 37, 'MahsolateFelezi': 37, 'index': 38, 'EntesharVaChap': 38, 'SayerMali': 38, 'HamlVaNaghl': 38, 'Amlakva': 38, 'KashiVaSeramik': 38, 'Bank': 38, 'FelezateAsasi': 39, 'ChandReshteSanati': 39, 'Mali': 39, 'GhandVaShekar': 39, 'Mansojat': 40, 'Lastic': 40, 'Siman': 40, 'FaravardehayeNafti': 41, 'Bimeh': 41, 'KanehayeFelezi': 41, 'paper': 42, 'VasayelErtebati': 42, 'CoalMining': 43},\n",
       "      dtype=object)"
      ]
     },
     "execution_count": 71,
     "metadata": {},
     "output_type": "execute_result"
    }
   ],
   "source": [
    "b25_2 = dict(nx.degree(entropy_network_ThreeReg_Ox_2_98))\n",
    "b25_2 = np.array(dict(sorted(b25_2.items(), key=lambda item: item[1])))\n",
    "b25_2"
   ]
  },
  {
   "cell_type": "code",
   "execution_count": 72,
   "id": "a41160df-0ea6-4e28-9061-13e69443b192",
   "metadata": {},
   "outputs": [],
   "source": [
    "nm.get_network_features(entropy_network_ThreeReg_Ox_2_98).to_csv('Excels/25_2.csv')"
   ]
  },
  {
   "cell_type": "code",
   "execution_count": 73,
   "id": "079f5fcb-d714-44b4-ae69-688ddb80f166",
   "metadata": {},
   "outputs": [],
   "source": [
    "entropy_network_ThreeReg_Ox_3_98 = nm.construct_network(tehran_df_ThreeReg_Ox_3_same_length_98, method='entropy', threshold=thr25)"
   ]
  },
  {
   "cell_type": "code",
   "execution_count": 74,
   "id": "7581ee17-516f-42cc-bb03-3fd155d46f39",
   "metadata": {},
   "outputs": [
    {
     "data": {
      "text/html": [
       "<div>\n",
       "<style scoped>\n",
       "    .dataframe tbody tr th:only-of-type {\n",
       "        vertical-align: middle;\n",
       "    }\n",
       "\n",
       "    .dataframe tbody tr th {\n",
       "        vertical-align: top;\n",
       "    }\n",
       "\n",
       "    .dataframe thead th {\n",
       "        text-align: right;\n",
       "    }\n",
       "</style>\n",
       "<table border=\"1\" class=\"dataframe\">\n",
       "  <thead>\n",
       "    <tr style=\"text-align: right;\">\n",
       "      <th></th>\n",
       "      <th>radius</th>\n",
       "      <th>diameter</th>\n",
       "      <th>densities</th>\n",
       "      <th>number_of_edges</th>\n",
       "      <th>average_clustering</th>\n",
       "      <th>avg_degree_centrality</th>\n",
       "      <th>avg_betweenness_centrality</th>\n",
       "      <th>avg_closeness_centrality</th>\n",
       "      <th>average_shortest_path_length</th>\n",
       "    </tr>\n",
       "  </thead>\n",
       "  <tbody>\n",
       "    <tr>\n",
       "      <th>0</th>\n",
       "      <td>2</td>\n",
       "      <td>3</td>\n",
       "      <td>0.707246</td>\n",
       "      <td>732</td>\n",
       "      <td>0.759116</td>\n",
       "      <td>0.707246</td>\n",
       "      <td>0.007071</td>\n",
       "      <td>0.776251</td>\n",
       "      <td>1.311111</td>\n",
       "    </tr>\n",
       "  </tbody>\n",
       "</table>\n",
       "</div>"
      ],
      "text/plain": [
       "   radius  diameter  densities  number_of_edges  average_clustering  \\\n",
       "0       2         3   0.707246              732            0.759116   \n",
       "\n",
       "   avg_degree_centrality  avg_betweenness_centrality  \\\n",
       "0               0.707246                    0.007071   \n",
       "\n",
       "   avg_closeness_centrality  average_shortest_path_length  \n",
       "0                  0.776251                      1.311111  "
      ]
     },
     "execution_count": 74,
     "metadata": {},
     "output_type": "execute_result"
    }
   ],
   "source": [
    "nm.get_network_features(entropy_network_ThreeReg_Ox_3_98)"
   ]
  },
  {
   "cell_type": "code",
   "execution_count": 75,
   "id": "0b8b0014-381f-4200-8a17-989e14462395",
   "metadata": {},
   "outputs": [
    {
     "data": {
      "text/plain": [
       "array({'AbzaralatePezeshki': 1, 'Brent Oil': 16, 'Mansojat': 17, 'M1': 22, 'Amlakva': 23, 'GhandVaShekar': 24, 'KanehayeFelezi': 24, 'Wood': 25, 'M2': 26, 'HOUSE': 28, 'Bank': 29, 'Gold': 31, 'Bimeh': 31, 'FelezateAsasi': 31, 'MashinAlat': 31, 'CPI': 32, 'EstekrajeNaft': 32, 'GDP': 32, 'GazaeeBejozGhand': 32, 'Shimiyaee': 32, 'KashiVaSeramik': 33, 'HamlVaNaghl': 33, 'Siman': 33, 'index': 34, 'SayerMadan': 34, 'EntesharVaChap': 34, 'Lastic': 35, 'KanehayeGeyreFelezi': 35, 'FaniVaMohandesi': 35, 'paper': 35, 'khodrosazi': 35, 'SarmayeGozari': 35, 'ChandReshteSanati': 36, 'MahsolateFelezi': 36, 'CoalMining': 37, 'DastgahayeBargi': 37, 'Mali': 37, 'USD': 38, 'Agriculture': 38, 'Daroee': 38, 'VasayelErtebati': 38, 'FaravardehayeNafti': 39, 'SayerMali': 39, 'Euro': 40, 'Rayaneh': 40, 'Coin': 41},\n",
       "      dtype=object)"
      ]
     },
     "execution_count": 75,
     "metadata": {},
     "output_type": "execute_result"
    }
   ],
   "source": [
    "b25_3 = dict(nx.degree(entropy_network_ThreeReg_Ox_3_98))\n",
    "b25_3 = np.array(dict(sorted(b25_3.items(), key=lambda item: item[1])))\n",
    "b25_3"
   ]
  },
  {
   "cell_type": "code",
   "execution_count": 76,
   "id": "3270b5e3-4764-4499-a7a3-4141d10f2228",
   "metadata": {},
   "outputs": [],
   "source": [
    "nm.get_network_features(entropy_network_ThreeReg_Ox_3_98).to_csv('Excels/25_3.csv')"
   ]
  },
  {
   "cell_type": "markdown",
   "id": "c8933bda-597e-44bb-9353-04859c9aca1a",
   "metadata": {},
   "source": [
    "# 26) Tehran 3 Regime Entropy (Based on Median Threshold) Period of 90 Far - 00 Far"
   ]
  },
  {
   "cell_type": "code",
   "execution_count": 77,
   "id": "b61d3fbb-cda6-4b07-a427-6ec62654651c",
   "metadata": {},
   "outputs": [],
   "source": [
    "nm = Net_moduls()"
   ]
  },
  {
   "cell_type": "code",
   "execution_count": 78,
   "id": "b557e6d7-94a2-4f3d-a5eb-de2a3d426459",
   "metadata": {},
   "outputs": [],
   "source": [
    "thr26_1 = nm.find_median_entropy_threshold(tehran_df_ThreeReg_Ox_1_same_length)\n",
    "thr26_2 = nm.find_median_entropy_threshold(tehran_df_ThreeReg_Ox_2_same_length)\n",
    "thr26_3 = nm.find_median_entropy_threshold(tehran_df_ThreeReg_Ox_3_same_length)\n",
    "\n",
    "thr26 = min(thr26_1, thr26_2, thr26_3)"
   ]
  },
  {
   "cell_type": "code",
   "execution_count": 79,
   "id": "54b2e782-05b8-414c-b675-21f0c8d2f877",
   "metadata": {},
   "outputs": [],
   "source": [
    "entropy_network_ThreeReg_Ox_1 = nm.construct_network(tehran_df_ThreeReg_Ox_1_same_length, method='entropy', threshold=thr26)"
   ]
  },
  {
   "cell_type": "code",
   "execution_count": 80,
   "id": "371bfeb2-89bc-4418-84be-fa965dda1846",
   "metadata": {},
   "outputs": [
    {
     "data": {
      "text/html": [
       "<div>\n",
       "<style scoped>\n",
       "    .dataframe tbody tr th:only-of-type {\n",
       "        vertical-align: middle;\n",
       "    }\n",
       "\n",
       "    .dataframe tbody tr th {\n",
       "        vertical-align: top;\n",
       "    }\n",
       "\n",
       "    .dataframe thead th {\n",
       "        text-align: right;\n",
       "    }\n",
       "</style>\n",
       "<table border=\"1\" class=\"dataframe\">\n",
       "  <thead>\n",
       "    <tr style=\"text-align: right;\">\n",
       "      <th></th>\n",
       "      <th>radius</th>\n",
       "      <th>diameter</th>\n",
       "      <th>densities</th>\n",
       "      <th>number_of_edges</th>\n",
       "      <th>average_clustering</th>\n",
       "      <th>avg_degree_centrality</th>\n",
       "      <th>avg_betweenness_centrality</th>\n",
       "      <th>avg_closeness_centrality</th>\n",
       "      <th>average_shortest_path_length</th>\n",
       "    </tr>\n",
       "  </thead>\n",
       "  <tbody>\n",
       "    <tr>\n",
       "      <th>0</th>\n",
       "      <td>2</td>\n",
       "      <td>2</td>\n",
       "      <td>0.776768</td>\n",
       "      <td>769</td>\n",
       "      <td>0.827279</td>\n",
       "      <td>0.776768</td>\n",
       "      <td>0.005191</td>\n",
       "      <td>0.827716</td>\n",
       "      <td>1.223232</td>\n",
       "    </tr>\n",
       "  </tbody>\n",
       "</table>\n",
       "</div>"
      ],
      "text/plain": [
       "   radius  diameter  densities  number_of_edges  average_clustering  \\\n",
       "0       2         2   0.776768              769            0.827279   \n",
       "\n",
       "   avg_degree_centrality  avg_betweenness_centrality  \\\n",
       "0               0.776768                    0.005191   \n",
       "\n",
       "   avg_closeness_centrality  average_shortest_path_length  \n",
       "0                  0.827716                      1.223232  "
      ]
     },
     "execution_count": 80,
     "metadata": {},
     "output_type": "execute_result"
    }
   ],
   "source": [
    "nm.get_network_features(entropy_network_ThreeReg_Ox_1)"
   ]
  },
  {
   "cell_type": "code",
   "execution_count": 81,
   "id": "d0c4abcb-d6e3-44c1-aed5-418b202c65be",
   "metadata": {},
   "outputs": [
    {
     "data": {
      "text/plain": [
       "array({'Euro': 16, 'USD': 18, 'M2': 18, 'Coin': 24, 'Brent Oil': 25, 'GDP': 26, 'CPI': 27, 'Gold': 28, 'M1': 28, 'HOUSE': 29, 'EntesharVaChap': 29, 'Wood': 31, 'SayerMadan': 33, 'Lastic': 34, 'SayerMali': 34, 'ChandReshteSanati': 35, 'FaniVaMohandesi': 35, 'paper': 35, 'EstekrajeNaft': 36, 'FaravardehayeNafti': 36, 'GazaeeBejozGhand': 36, 'Siman': 36, 'Bank': 36, 'Agriculture': 36, 'Amlakva': 37, 'khodrosazi': 37, 'index': 38, 'MahsolateFelezi': 38, 'Mansojat': 38, 'MashinAlat': 38, 'DastgahayeBargi': 38, 'KanehayeFelezi': 38, 'Rayaneh': 38, 'Bimeh': 38, 'Mali': 38, 'CoalMining': 39, 'VasayelErtebati': 39, 'KanehayeGeyreFelezi': 39, 'SarmayeGozari': 39, 'Shimiyaee': 40, 'FelezateAsasi': 41, 'GhandVaShekar': 41, 'Daroee': 41, 'KashiVaSeramik': 41, 'HamlVaNaghl': 41},\n",
       "      dtype=object)"
      ]
     },
     "execution_count": 81,
     "metadata": {},
     "output_type": "execute_result"
    }
   ],
   "source": [
    "b26_1 = dict(nx.degree(entropy_network_ThreeReg_Ox_1))\n",
    "b26_1 = np.array(dict(sorted(b26_1.items(), key=lambda item: item[1])))\n",
    "b26_1"
   ]
  },
  {
   "cell_type": "code",
   "execution_count": 82,
   "id": "1971525c-dcff-46df-92c5-ec44ce420965",
   "metadata": {},
   "outputs": [],
   "source": [
    "nm.get_network_features(entropy_network_ThreeReg_Ox_1).to_csv('Excels/26_1.csv')"
   ]
  },
  {
   "cell_type": "code",
   "execution_count": 83,
   "id": "338c4530-e237-4d03-afa0-d084e487763d",
   "metadata": {},
   "outputs": [],
   "source": [
    "entropy_network_ThreeReg_Ox_2 = nm.construct_network(tehran_df_ThreeReg_Ox_2_same_length, method='entropy', threshold=thr26)"
   ]
  },
  {
   "cell_type": "code",
   "execution_count": 84,
   "id": "141f60fd-ff37-4ef5-b09b-359861b657a8",
   "metadata": {},
   "outputs": [
    {
     "data": {
      "text/html": [
       "<div>\n",
       "<style scoped>\n",
       "    .dataframe tbody tr th:only-of-type {\n",
       "        vertical-align: middle;\n",
       "    }\n",
       "\n",
       "    .dataframe tbody tr th {\n",
       "        vertical-align: top;\n",
       "    }\n",
       "\n",
       "    .dataframe thead th {\n",
       "        text-align: right;\n",
       "    }\n",
       "</style>\n",
       "<table border=\"1\" class=\"dataframe\">\n",
       "  <thead>\n",
       "    <tr style=\"text-align: right;\">\n",
       "      <th></th>\n",
       "      <th>radius</th>\n",
       "      <th>diameter</th>\n",
       "      <th>densities</th>\n",
       "      <th>number_of_edges</th>\n",
       "      <th>average_clustering</th>\n",
       "      <th>avg_degree_centrality</th>\n",
       "      <th>avg_betweenness_centrality</th>\n",
       "      <th>avg_closeness_centrality</th>\n",
       "      <th>average_shortest_path_length</th>\n",
       "    </tr>\n",
       "  </thead>\n",
       "  <tbody>\n",
       "    <tr>\n",
       "      <th>0</th>\n",
       "      <td>1</td>\n",
       "      <td>2</td>\n",
       "      <td>0.828986</td>\n",
       "      <td>858</td>\n",
       "      <td>0.856537</td>\n",
       "      <td>0.828986</td>\n",
       "      <td>0.003887</td>\n",
       "      <td>0.86116</td>\n",
       "      <td>1.171014</td>\n",
       "    </tr>\n",
       "  </tbody>\n",
       "</table>\n",
       "</div>"
      ],
      "text/plain": [
       "   radius  diameter  densities  number_of_edges  average_clustering  \\\n",
       "0       1         2   0.828986              858            0.856537   \n",
       "\n",
       "   avg_degree_centrality  avg_betweenness_centrality  \\\n",
       "0               0.828986                    0.003887   \n",
       "\n",
       "   avg_closeness_centrality  average_shortest_path_length  \n",
       "0                   0.86116                      1.171014  "
      ]
     },
     "execution_count": 84,
     "metadata": {},
     "output_type": "execute_result"
    }
   ],
   "source": [
    "nm.get_network_features(entropy_network_ThreeReg_Ox_2)"
   ]
  },
  {
   "cell_type": "code",
   "execution_count": 85,
   "id": "0832b2dc-e0d3-4962-a8f9-eb9cdd680a18",
   "metadata": {},
   "outputs": [
    {
     "data": {
      "text/plain": [
       "array({'Gold': 19, 'AbzaralatePezeshki': 22, 'Euro': 28, 'GDP': 31, 'CPI': 33, 'M1': 33, 'Daroee': 34, 'FaniVaMohandesi': 34, 'Brent Oil': 34, 'M2': 34, 'Coin': 35, 'Siman': 35, 'Bank': 35, 'USD': 36, 'GhandVaShekar': 36, 'GazaeeBejozGhand': 36, 'SarmayeGozari': 36, 'Rayaneh': 36, 'VasayelErtebati': 37, 'KanehayeGeyreFelezi': 37, 'EstekrajeNaft': 37, 'Mali': 37, 'Agriculture': 38, 'Bimeh': 38, 'HOUSE': 38, 'SayerMali': 38, 'MashinAlat': 39, 'DastgahayeBargi': 39, 'khodrosazi': 39, 'MahsolateFelezi': 40, 'EntesharVaChap': 40, 'index': 41, 'SayerMadan': 41, 'paper': 41, 'HamlVaNaghl': 41, 'Amlakva': 41, 'Mansojat': 42, 'Wood': 42, 'Lastic': 42, 'FelezateAsasi': 42, 'Shimiyaee': 42, 'KashiVaSeramik': 42, 'FaravardehayeNafti': 43, 'ChandReshteSanati': 43, 'KanehayeFelezi': 44, 'CoalMining': 45},\n",
       "      dtype=object)"
      ]
     },
     "execution_count": 85,
     "metadata": {},
     "output_type": "execute_result"
    }
   ],
   "source": [
    "b26_2 = dict(nx.degree(entropy_network_ThreeReg_Ox_2))\n",
    "b26_2 = np.array(dict(sorted(b26_2.items(), key=lambda item: item[1])))\n",
    "b26_2"
   ]
  },
  {
   "cell_type": "code",
   "execution_count": 86,
   "id": "d9526094-2dbe-4432-9be5-76d4d697975d",
   "metadata": {},
   "outputs": [],
   "source": [
    "nm.get_network_features(entropy_network_ThreeReg_Ox_2).to_csv('Excels/26_2.csv')"
   ]
  },
  {
   "cell_type": "code",
   "execution_count": 87,
   "id": "e040b93b-60e7-463d-b14d-2ad4516e59a0",
   "metadata": {},
   "outputs": [],
   "source": [
    "entropy_network_ThreeReg_Ox_3 = nm.construct_network(tehran_df_ThreeReg_Ox_3_same_length, method='entropy', threshold=thr26)"
   ]
  },
  {
   "cell_type": "code",
   "execution_count": 88,
   "id": "7a3fb4e0-52af-4eb9-87c4-6515384cd1e7",
   "metadata": {},
   "outputs": [
    {
     "data": {
      "text/html": [
       "<div>\n",
       "<style scoped>\n",
       "    .dataframe tbody tr th:only-of-type {\n",
       "        vertical-align: middle;\n",
       "    }\n",
       "\n",
       "    .dataframe tbody tr th {\n",
       "        vertical-align: top;\n",
       "    }\n",
       "\n",
       "    .dataframe thead th {\n",
       "        text-align: right;\n",
       "    }\n",
       "</style>\n",
       "<table border=\"1\" class=\"dataframe\">\n",
       "  <thead>\n",
       "    <tr style=\"text-align: right;\">\n",
       "      <th></th>\n",
       "      <th>radius</th>\n",
       "      <th>diameter</th>\n",
       "      <th>densities</th>\n",
       "      <th>number_of_edges</th>\n",
       "      <th>average_clustering</th>\n",
       "      <th>avg_degree_centrality</th>\n",
       "      <th>avg_betweenness_centrality</th>\n",
       "      <th>avg_closeness_centrality</th>\n",
       "      <th>average_shortest_path_length</th>\n",
       "    </tr>\n",
       "  </thead>\n",
       "  <tbody>\n",
       "    <tr>\n",
       "      <th>0</th>\n",
       "      <td>2</td>\n",
       "      <td>3</td>\n",
       "      <td>0.711111</td>\n",
       "      <td>736</td>\n",
       "      <td>0.756138</td>\n",
       "      <td>0.711111</td>\n",
       "      <td>0.006961</td>\n",
       "      <td>0.778546</td>\n",
       "      <td>1.30628</td>\n",
       "    </tr>\n",
       "  </tbody>\n",
       "</table>\n",
       "</div>"
      ],
      "text/plain": [
       "   radius  diameter  densities  number_of_edges  average_clustering  \\\n",
       "0       2         3   0.711111              736            0.756138   \n",
       "\n",
       "   avg_degree_centrality  avg_betweenness_centrality  \\\n",
       "0               0.711111                    0.006961   \n",
       "\n",
       "   avg_closeness_centrality  average_shortest_path_length  \n",
       "0                  0.778546                       1.30628  "
      ]
     },
     "execution_count": 88,
     "metadata": {},
     "output_type": "execute_result"
    }
   ],
   "source": [
    "nm.get_network_features(entropy_network_ThreeReg_Ox_3)"
   ]
  },
  {
   "cell_type": "code",
   "execution_count": 89,
   "id": "5e9d0abe-d4a2-4b92-a25e-ea9d3dee75f3",
   "metadata": {},
   "outputs": [
    {
     "data": {
      "text/plain": [
       "array({'AbzaralatePezeshki': 1, 'Mansojat': 17, 'CPI': 23, 'Wood': 25, 'SayerMadan': 26, 'Euro': 26, 'HOUSE': 26, 'GDP': 27, 'USD': 27, 'GhandVaShekar': 27, 'VasayelErtebati': 27, 'Amlakva': 28, 'paper': 30, 'Bank': 30, 'Daroee': 30, 'M1': 31, 'CoalMining': 31, 'Bimeh': 31, 'M2': 32, 'ChandReshteSanati': 32, 'FaravardehayeNafti': 33, 'KashiVaSeramik': 33, 'KanehayeGeyreFelezi': 33, 'Agriculture': 33, 'index': 34, 'EstekrajeNaft': 34, 'Siman': 34, 'SayerMali': 34, 'Brent Oil': 34, 'Shimiyaee': 34, 'MashinAlat': 35, 'khodrosazi': 35, 'DastgahayeBargi': 35, 'Coin': 36, 'Gold': 36, 'HamlVaNaghl': 37, 'MahsolateFelezi': 38, 'SarmayeGozari': 38, 'KanehayeFelezi': 38, 'FelezateAsasi': 39, 'GazaeeBejozGhand': 39, 'Mali': 39, 'EntesharVaChap': 41, 'Lastic': 41, 'Rayaneh': 41, 'FaniVaMohandesi': 41},\n",
       "      dtype=object)"
      ]
     },
     "execution_count": 89,
     "metadata": {},
     "output_type": "execute_result"
    }
   ],
   "source": [
    "b26_3 = dict(nx.degree(entropy_network_ThreeReg_Ox_3))\n",
    "b26_3 = np.array(dict(sorted(b26_3.items(), key=lambda item: item[1])))\n",
    "b26_3"
   ]
  },
  {
   "cell_type": "code",
   "execution_count": 90,
   "id": "64bdc3f7-8182-4f0c-9911-6d8ab2ac97f3",
   "metadata": {},
   "outputs": [],
   "source": [
    "nm.get_network_features(entropy_network_ThreeReg_Ox_3).to_csv('Excels/26_3.csv')"
   ]
  },
  {
   "cell_type": "markdown",
   "id": "e1debb80-e348-473a-8932-feebb8b233d1",
   "metadata": {},
   "source": [
    "# 27) Tehran 3 Regime Entropy (Based on Median Threshold) Period of 90 Far - 98 Dey/ Last 100 Records"
   ]
  },
  {
   "cell_type": "code",
   "execution_count": 91,
   "id": "4a84cda5-ba4c-43de-8c7f-6386348bb559",
   "metadata": {},
   "outputs": [],
   "source": [
    "thr27_1 = nm.find_median_entropy_threshold(tehran_df_ThreeReg_Ox_1_same_length_98[-100:])\n",
    "thr27_2 = nm.find_median_entropy_threshold(tehran_df_ThreeReg_Ox_2_same_length_98[-100:])\n",
    "thr27_3 = nm.find_median_entropy_threshold(tehran_df_ThreeReg_Ox_3_same_length_98[-100:])\n",
    "\n",
    "thr27 = min(thr27_1, thr27_2, thr27_3)"
   ]
  },
  {
   "cell_type": "code",
   "execution_count": 92,
   "id": "901dec30-b704-41ff-a602-632492ca39ae",
   "metadata": {},
   "outputs": [],
   "source": [
    "entropy_network_ThreeReg_Ox_1_98_last100 = nm.construct_network(tehran_df_ThreeReg_Ox_1_same_length_98[-100:], method='entropy', threshold=thr27)"
   ]
  },
  {
   "cell_type": "code",
   "execution_count": 93,
   "id": "04908956-a3c3-4c2c-915d-7a0d35342283",
   "metadata": {},
   "outputs": [
    {
     "data": {
      "text/html": [
       "<div>\n",
       "<style scoped>\n",
       "    .dataframe tbody tr th:only-of-type {\n",
       "        vertical-align: middle;\n",
       "    }\n",
       "\n",
       "    .dataframe tbody tr th {\n",
       "        vertical-align: top;\n",
       "    }\n",
       "\n",
       "    .dataframe thead th {\n",
       "        text-align: right;\n",
       "    }\n",
       "</style>\n",
       "<table border=\"1\" class=\"dataframe\">\n",
       "  <thead>\n",
       "    <tr style=\"text-align: right;\">\n",
       "      <th></th>\n",
       "      <th>radius</th>\n",
       "      <th>diameter</th>\n",
       "      <th>densities</th>\n",
       "      <th>number_of_edges</th>\n",
       "      <th>average_clustering</th>\n",
       "      <th>avg_degree_centrality</th>\n",
       "      <th>avg_betweenness_centrality</th>\n",
       "      <th>avg_closeness_centrality</th>\n",
       "      <th>average_shortest_path_length</th>\n",
       "    </tr>\n",
       "  </thead>\n",
       "  <tbody>\n",
       "    <tr>\n",
       "      <th>0</th>\n",
       "      <td>2</td>\n",
       "      <td>2</td>\n",
       "      <td>0.694949</td>\n",
       "      <td>688</td>\n",
       "      <td>0.763664</td>\n",
       "      <td>0.694949</td>\n",
       "      <td>0.007094</td>\n",
       "      <td>0.77667</td>\n",
       "      <td>1.305051</td>\n",
       "    </tr>\n",
       "  </tbody>\n",
       "</table>\n",
       "</div>"
      ],
      "text/plain": [
       "   radius  diameter  densities  number_of_edges  average_clustering  \\\n",
       "0       2         2   0.694949              688            0.763664   \n",
       "\n",
       "   avg_degree_centrality  avg_betweenness_centrality  \\\n",
       "0               0.694949                    0.007094   \n",
       "\n",
       "   avg_closeness_centrality  average_shortest_path_length  \n",
       "0                   0.77667                      1.305051  "
      ]
     },
     "execution_count": 93,
     "metadata": {},
     "output_type": "execute_result"
    }
   ],
   "source": [
    "nm.get_network_features(entropy_network_ThreeReg_Ox_1_98_last100)"
   ]
  },
  {
   "cell_type": "code",
   "execution_count": 94,
   "id": "383ef64d-fd11-4a65-bb47-3c525f5ed662",
   "metadata": {},
   "outputs": [
    {
     "data": {
      "text/plain": [
       "array({'Euro': 10, 'USD': 11, 'CPI': 18, 'Coin': 19, 'paper': 19, 'SayerMadan': 23, 'FaravardehayeNafti': 23, 'Siman': 23, 'Gold': 24, 'M2': 25, 'FaniVaMohandesi': 26, 'Brent Oil': 28, 'CoalMining': 28, 'GhandVaShekar': 29, 'SarmayeGozari': 29, 'Mali': 30, 'MahsolateFelezi': 31, 'Wood': 31, 'HamlVaNaghl': 31, 'HOUSE': 31, 'M1': 32, 'Amlakva': 32, 'EstekrajeNaft': 33, 'ChandReshteSanati': 33, 'GazaeeBejozGhand': 33, 'FelezateAsasi': 34, 'Bank': 34, 'Bimeh': 34, 'Rayaneh': 34, 'Mansojat': 35, 'Shimiyaee': 35, 'KashiVaSeramik': 35, 'KanehayeFelezi': 35, 'khodrosazi': 36, 'SayerMali': 36, 'GDP': 36, 'Agriculture': 37, 'MashinAlat': 37, 'DastgahayeBargi': 37, 'KanehayeGeyreFelezi': 37, 'Daroee': 37, 'EntesharVaChap': 38, 'Lastic': 38, 'VasayelErtebati': 38, 'index': 41},\n",
       "      dtype=object)"
      ]
     },
     "execution_count": 94,
     "metadata": {},
     "output_type": "execute_result"
    }
   ],
   "source": [
    "b27_1 = dict(nx.degree(entropy_network_ThreeReg_Ox_1_98_last100))\n",
    "b27_1 = np.array(dict(sorted(b27_1.items(), key=lambda item: item[1])))\n",
    "b27_1"
   ]
  },
  {
   "cell_type": "code",
   "execution_count": 95,
   "id": "bda2c008-2f98-4e56-bdf0-9e8f1ac99951",
   "metadata": {},
   "outputs": [],
   "source": [
    "nm.get_network_features(entropy_network_ThreeReg_Ox_1_98_last100).to_csv('Excels/27_1.csv')"
   ]
  },
  {
   "cell_type": "code",
   "execution_count": 96,
   "id": "00ba66db-792c-4354-8a1c-755d135c5b48",
   "metadata": {},
   "outputs": [],
   "source": [
    "entropy_network_ThreeReg_Ox_2_98_last100 = nm.construct_network(tehran_df_ThreeReg_Ox_2_same_length_98[-100:], method='entropy', threshold=thr27)"
   ]
  },
  {
   "cell_type": "code",
   "execution_count": 97,
   "id": "cd03b3f7-02b7-43be-8bd9-51e08a3b0105",
   "metadata": {},
   "outputs": [
    {
     "data": {
      "text/html": [
       "<div>\n",
       "<style scoped>\n",
       "    .dataframe tbody tr th:only-of-type {\n",
       "        vertical-align: middle;\n",
       "    }\n",
       "\n",
       "    .dataframe tbody tr th {\n",
       "        vertical-align: top;\n",
       "    }\n",
       "\n",
       "    .dataframe thead th {\n",
       "        text-align: right;\n",
       "    }\n",
       "</style>\n",
       "<table border=\"1\" class=\"dataframe\">\n",
       "  <thead>\n",
       "    <tr style=\"text-align: right;\">\n",
       "      <th></th>\n",
       "      <th>radius</th>\n",
       "      <th>diameter</th>\n",
       "      <th>densities</th>\n",
       "      <th>number_of_edges</th>\n",
       "      <th>average_clustering</th>\n",
       "      <th>avg_degree_centrality</th>\n",
       "      <th>avg_betweenness_centrality</th>\n",
       "      <th>avg_closeness_centrality</th>\n",
       "      <th>average_shortest_path_length</th>\n",
       "    </tr>\n",
       "  </thead>\n",
       "  <tbody>\n",
       "    <tr>\n",
       "      <th>0</th>\n",
       "      <td>1</td>\n",
       "      <td>2</td>\n",
       "      <td>0.784541</td>\n",
       "      <td>812</td>\n",
       "      <td>0.822044</td>\n",
       "      <td>0.784541</td>\n",
       "      <td>0.004897</td>\n",
       "      <td>0.831047</td>\n",
       "      <td>1.215459</td>\n",
       "    </tr>\n",
       "  </tbody>\n",
       "</table>\n",
       "</div>"
      ],
      "text/plain": [
       "   radius  diameter  densities  number_of_edges  average_clustering  \\\n",
       "0       1         2   0.784541              812            0.822044   \n",
       "\n",
       "   avg_degree_centrality  avg_betweenness_centrality  \\\n",
       "0               0.784541                    0.004897   \n",
       "\n",
       "   avg_closeness_centrality  average_shortest_path_length  \n",
       "0                  0.831047                      1.215459  "
      ]
     },
     "execution_count": 97,
     "metadata": {},
     "output_type": "execute_result"
    }
   ],
   "source": [
    "nm.get_network_features(entropy_network_ThreeReg_Ox_2_98_last100)"
   ]
  },
  {
   "cell_type": "code",
   "execution_count": 98,
   "id": "60ef51c8-44b8-4c41-b934-c781d1eaf0fe",
   "metadata": {},
   "outputs": [
    {
     "data": {
      "text/plain": [
       "array({'AbzaralatePezeshki': 15, 'EntesharVaChap': 23, 'CPI': 24, 'Euro': 27, 'EstekrajeNaft': 28, 'Agriculture': 29, 'SayerMadan': 29, 'Gold': 31, 'Siman': 31, 'FaniVaMohandesi': 31, 'FelezateAsasi': 31, 'Coin': 32, 'Mali': 32, 'khodrosazi': 33, 'USD': 34, 'GhandVaShekar': 34, 'Daroee': 34, 'Wood': 34, 'M1': 35, 'Bank': 36, 'index': 37, 'GDP': 37, 'MahsolateFelezi': 37, 'DastgahayeBargi': 37, 'Shimiyaee': 37, 'SarmayeGozari': 37, 'Bimeh': 37, 'Brent Oil': 38, 'KanehayeFelezi': 38, 'M2': 38, 'CoalMining': 39, 'Lastic': 39, 'VasayelErtebati': 39, 'Amlakva': 39, 'paper': 39, 'MashinAlat': 40, 'GazaeeBejozGhand': 40, 'KashiVaSeramik': 40, 'Rayaneh': 40, 'FaravardehayeNafti': 40, 'Mansojat': 41, 'ChandReshteSanati': 41, 'KanehayeGeyreFelezi': 41, 'HOUSE': 42, 'HamlVaNaghl': 43, 'SayerMali': 45},\n",
       "      dtype=object)"
      ]
     },
     "execution_count": 98,
     "metadata": {},
     "output_type": "execute_result"
    }
   ],
   "source": [
    "b27_2 = dict(nx.degree(entropy_network_ThreeReg_Ox_2_98_last100))\n",
    "b27_2 = np.array(dict(sorted(b27_2.items(), key=lambda item: item[1])))\n",
    "b27_2"
   ]
  },
  {
   "cell_type": "code",
   "execution_count": 99,
   "id": "0b393735-b84c-49e9-8410-7daeb7dea906",
   "metadata": {},
   "outputs": [],
   "source": [
    "nm.get_network_features(entropy_network_ThreeReg_Ox_2_98_last100).to_csv('Excels/27_2.csv')"
   ]
  },
  {
   "cell_type": "code",
   "execution_count": 100,
   "id": "30ed373f-4e33-4b8e-8d09-5f23129430ce",
   "metadata": {},
   "outputs": [],
   "source": [
    "entropy_network_ThreeReg_Ox_3_98_last100 = nm.construct_network(tehran_df_ThreeReg_Ox_3_same_length_98[-100:], method='entropy', threshold=thr27)"
   ]
  },
  {
   "cell_type": "code",
   "execution_count": 101,
   "id": "aaa320ad-e67c-4fc8-91da-e2c56f2fde15",
   "metadata": {},
   "outputs": [
    {
     "data": {
      "text/html": [
       "<div>\n",
       "<style scoped>\n",
       "    .dataframe tbody tr th:only-of-type {\n",
       "        vertical-align: middle;\n",
       "    }\n",
       "\n",
       "    .dataframe tbody tr th {\n",
       "        vertical-align: top;\n",
       "    }\n",
       "\n",
       "    .dataframe thead th {\n",
       "        text-align: right;\n",
       "    }\n",
       "</style>\n",
       "<table border=\"1\" class=\"dataframe\">\n",
       "  <thead>\n",
       "    <tr style=\"text-align: right;\">\n",
       "      <th></th>\n",
       "      <th>radius</th>\n",
       "      <th>diameter</th>\n",
       "      <th>densities</th>\n",
       "      <th>number_of_edges</th>\n",
       "      <th>average_clustering</th>\n",
       "      <th>avg_degree_centrality</th>\n",
       "      <th>avg_betweenness_centrality</th>\n",
       "      <th>avg_closeness_centrality</th>\n",
       "      <th>average_shortest_path_length</th>\n",
       "    </tr>\n",
       "  </thead>\n",
       "  <tbody>\n",
       "    <tr>\n",
       "      <th>0</th>\n",
       "      <td>2</td>\n",
       "      <td>2</td>\n",
       "      <td>0.737374</td>\n",
       "      <td>730</td>\n",
       "      <td>0.769198</td>\n",
       "      <td>0.737374</td>\n",
       "      <td>0.006108</td>\n",
       "      <td>0.798316</td>\n",
       "      <td>1.262626</td>\n",
       "    </tr>\n",
       "  </tbody>\n",
       "</table>\n",
       "</div>"
      ],
      "text/plain": [
       "   radius  diameter  densities  number_of_edges  average_clustering  \\\n",
       "0       2         2   0.737374              730            0.769198   \n",
       "\n",
       "   avg_degree_centrality  avg_betweenness_centrality  \\\n",
       "0               0.737374                    0.006108   \n",
       "\n",
       "   avg_closeness_centrality  average_shortest_path_length  \n",
       "0                  0.798316                      1.262626  "
      ]
     },
     "execution_count": 101,
     "metadata": {},
     "output_type": "execute_result"
    }
   ],
   "source": [
    "nm.get_network_features(entropy_network_ThreeReg_Ox_3_98_last100)"
   ]
  },
  {
   "cell_type": "code",
   "execution_count": 102,
   "id": "c3284f8c-23c0-44d3-9cc3-addefba19ed6",
   "metadata": {},
   "outputs": [
    {
     "data": {
      "text/plain": [
       "array({'SayerMadan': 16, 'VasayelErtebati': 17, 'GDP': 25, 'FaniVaMohandesi': 25, 'HOUSE': 26, 'FelezateAsasi': 28, 'M2': 29, 'Siman': 29, 'EstekrajeNaft': 30, 'Mansojat': 30, 'Lastic': 30, 'khodrosazi': 30, 'KanehayeFelezi': 30, 'Wood': 31, 'GhandVaShekar': 31, 'KanehayeGeyreFelezi': 31, 'MahsolateFelezi': 31, 'Bank': 31, 'CoalMining': 32, 'Amlakva': 32, 'MashinAlat': 33, 'GazaeeBejozGhand': 33, 'SarmayeGozari': 33, 'SayerMali': 33, 'Mali': 33, 'EntesharVaChap': 33, 'ChandReshteSanati': 33, 'KashiVaSeramik': 33, 'Gold': 34, 'HamlVaNaghl': 34, 'Agriculture': 35, 'Bimeh': 35, 'M1': 36, 'Rayaneh': 36, 'Brent Oil': 37, 'CPI': 37, 'Coin': 38, 'USD': 38, 'paper': 38, 'FaravardehayeNafti': 38, 'Shimiyaee': 38, 'Euro': 39, 'DastgahayeBargi': 39, 'Daroee': 39, 'index': 41},\n",
       "      dtype=object)"
      ]
     },
     "execution_count": 102,
     "metadata": {},
     "output_type": "execute_result"
    }
   ],
   "source": [
    "b27_3 = dict(nx.degree(entropy_network_ThreeReg_Ox_3_98_last100))\n",
    "b27_3 = np.array(dict(sorted(b27_3.items(), key=lambda item: item[1])))\n",
    "b27_3"
   ]
  },
  {
   "cell_type": "code",
   "execution_count": 103,
   "id": "8fe05f12-284a-4d91-b4a1-ee6b627a4375",
   "metadata": {},
   "outputs": [],
   "source": [
    "nm.get_network_features(entropy_network_ThreeReg_Ox_3_98_last100).to_csv('Excels/27_3.csv')"
   ]
  },
  {
   "cell_type": "markdown",
   "id": "d4eef866-bb4f-4442-b3c8-43419cddfeb6",
   "metadata": {},
   "source": [
    "# 28) Tehran 3 Regime Entropy (Based on Median Threshold) Period of 90 Far - 98 Dey/ 50 windows of 100 Records"
   ]
  },
  {
   "cell_type": "code",
   "execution_count": 104,
   "id": "19e12954-7e9f-4c1a-9530-81f5acd6c2f2",
   "metadata": {
    "tags": []
   },
   "outputs": [
    {
     "name": "stderr",
     "output_type": "stream",
     "text": [
      "/Users/hossein4527/MEGA/MEGAsync/Commit/Neda_PhD/neda_sep2023/Time_Series_Trend_Forcasting/Codes/Shifted DF by Lags/ned.py:1106: SettingWithCopyWarning: \n",
      "A value is trying to be set on a copy of a slice from a DataFrame.\n",
      "Try using .loc[row_indexer,col_indexer] = value instead\n",
      "\n",
      "See the caveats in the documentation: https://pandas.pydata.org/pandas-docs/stable/user_guide/indexing.html#returning-a-view-versus-a-copy\n",
      "  df['selected_regimes'] = regimes_column\n"
     ]
    },
    {
     "name": "stdout",
     "output_type": "stream",
     "text": [
      "Number of columns data in our DataFrame is = 46\n",
      "fixed_thr= 0.02667288306875827\n"
     ]
    }
   ],
   "source": [
    "nm = Net_moduls()\n",
    "entropy_network_ThreeReg_Ox_1_98_averged = nm.get_network_features_averaged_median(tehran_df, regimes_column = tehran_df_reg.iloc[:-300]['Ox_3'],method='entropy',edges_threshold=200, target_window=100, target_length=50)"
   ]
  },
  {
   "cell_type": "code",
   "execution_count": 105,
   "id": "a0025483-596a-4157-9ad2-fa660abc7863",
   "metadata": {},
   "outputs": [
    {
     "data": {
      "text/html": [
       "<div>\n",
       "<style scoped>\n",
       "    .dataframe tbody tr th:only-of-type {\n",
       "        vertical-align: middle;\n",
       "    }\n",
       "\n",
       "    .dataframe tbody tr th {\n",
       "        vertical-align: top;\n",
       "    }\n",
       "\n",
       "    .dataframe thead th {\n",
       "        text-align: right;\n",
       "    }\n",
       "</style>\n",
       "<table border=\"1\" class=\"dataframe\">\n",
       "  <thead>\n",
       "    <tr style=\"text-align: right;\">\n",
       "      <th></th>\n",
       "      <th>radius</th>\n",
       "      <th>diameter</th>\n",
       "      <th>densities</th>\n",
       "      <th>number_of_edges</th>\n",
       "      <th>average_clustering</th>\n",
       "      <th>avg_degree_centrality</th>\n",
       "      <th>avg_betweenness_centrality</th>\n",
       "      <th>avg_closeness_centrality</th>\n",
       "      <th>average_shortest_path_length</th>\n",
       "    </tr>\n",
       "  </thead>\n",
       "  <tbody>\n",
       "    <tr>\n",
       "      <th>Means</th>\n",
       "      <td>2.000000</td>\n",
       "      <td>2.0</td>\n",
       "      <td>0.741455</td>\n",
       "      <td>734.040000</td>\n",
       "      <td>0.799548</td>\n",
       "      <td>0.741455</td>\n",
       "      <td>0.006013</td>\n",
       "      <td>0.805194</td>\n",
       "      <td>1.258545</td>\n",
       "    </tr>\n",
       "    <tr>\n",
       "      <th>STDs</th>\n",
       "      <td>0.000000</td>\n",
       "      <td>0.0</td>\n",
       "      <td>0.024773</td>\n",
       "      <td>24.524840</td>\n",
       "      <td>0.023853</td>\n",
       "      <td>0.024773</td>\n",
       "      <td>0.000576</td>\n",
       "      <td>0.015564</td>\n",
       "      <td>0.024773</td>\n",
       "    </tr>\n",
       "    <tr>\n",
       "      <th>Means</th>\n",
       "      <td>2.000000</td>\n",
       "      <td>2.0</td>\n",
       "      <td>0.758454</td>\n",
       "      <td>785.000000</td>\n",
       "      <td>0.798752</td>\n",
       "      <td>0.758454</td>\n",
       "      <td>0.005490</td>\n",
       "      <td>0.813484</td>\n",
       "      <td>1.241546</td>\n",
       "    </tr>\n",
       "    <tr>\n",
       "      <th>STDs</th>\n",
       "      <td>0.000000</td>\n",
       "      <td>0.0</td>\n",
       "      <td>0.020450</td>\n",
       "      <td>21.166010</td>\n",
       "      <td>0.017411</td>\n",
       "      <td>0.020450</td>\n",
       "      <td>0.000465</td>\n",
       "      <td>0.013287</td>\n",
       "      <td>0.020450</td>\n",
       "    </tr>\n",
       "    <tr>\n",
       "      <th>Means</th>\n",
       "      <td>1.980000</td>\n",
       "      <td>2.0</td>\n",
       "      <td>0.785091</td>\n",
       "      <td>777.240000</td>\n",
       "      <td>0.819016</td>\n",
       "      <td>0.785091</td>\n",
       "      <td>0.004998</td>\n",
       "      <td>0.832082</td>\n",
       "      <td>1.214909</td>\n",
       "    </tr>\n",
       "    <tr>\n",
       "      <th>STDs</th>\n",
       "      <td>0.141421</td>\n",
       "      <td>0.0</td>\n",
       "      <td>0.046762</td>\n",
       "      <td>46.294779</td>\n",
       "      <td>0.052701</td>\n",
       "      <td>0.046762</td>\n",
       "      <td>0.001087</td>\n",
       "      <td>0.032940</td>\n",
       "      <td>0.046762</td>\n",
       "    </tr>\n",
       "  </tbody>\n",
       "</table>\n",
       "</div>"
      ],
      "text/plain": [
       "         radius  diameter  densities  number_of_edges  average_clustering  \\\n",
       "Means  2.000000       2.0   0.741455       734.040000            0.799548   \n",
       "STDs   0.000000       0.0   0.024773        24.524840            0.023853   \n",
       "Means  2.000000       2.0   0.758454       785.000000            0.798752   \n",
       "STDs   0.000000       0.0   0.020450        21.166010            0.017411   \n",
       "Means  1.980000       2.0   0.785091       777.240000            0.819016   \n",
       "STDs   0.141421       0.0   0.046762        46.294779            0.052701   \n",
       "\n",
       "       avg_degree_centrality  avg_betweenness_centrality  \\\n",
       "Means               0.741455                    0.006013   \n",
       "STDs                0.024773                    0.000576   \n",
       "Means               0.758454                    0.005490   \n",
       "STDs                0.020450                    0.000465   \n",
       "Means               0.785091                    0.004998   \n",
       "STDs                0.046762                    0.001087   \n",
       "\n",
       "       avg_closeness_centrality  average_shortest_path_length  \n",
       "Means                  0.805194                      1.258545  \n",
       "STDs                   0.015564                      0.024773  \n",
       "Means                  0.813484                      1.241546  \n",
       "STDs                   0.013287                      0.020450  \n",
       "Means                  0.832082                      1.214909  \n",
       "STDs                   0.032940                      0.046762  "
      ]
     },
     "execution_count": 105,
     "metadata": {},
     "output_type": "execute_result"
    }
   ],
   "source": [
    "entropy_network_ThreeReg_Ox_1_98_averged"
   ]
  },
  {
   "cell_type": "code",
   "execution_count": 106,
   "id": "e8b2a61c-1f31-4a09-9627-553e3b3abc04",
   "metadata": {},
   "outputs": [],
   "source": [
    "entropy_network_ThreeReg_Ox_1_98_averged.to_csv('Excels/28.csv')"
   ]
  },
  {
   "cell_type": "markdown",
   "id": "19a19299-225e-407c-91ef-84bd9943f675",
   "metadata": {},
   "source": [
    "# 29) Tehran 3 Regime Entropy (Based on Median Threshold) Period of 90 Far - 00 Far/ 50 windows of 100 Records"
   ]
  },
  {
   "cell_type": "code",
   "execution_count": 107,
   "id": "bd9b9f2e-a0f4-44aa-bac5-ce2e6e30e63c",
   "metadata": {
    "tags": []
   },
   "outputs": [
    {
     "name": "stdout",
     "output_type": "stream",
     "text": [
      "Number of columns data in our DataFrame is = 46\n",
      "fixed_thr= 0.027756715573018106\n"
     ]
    }
   ],
   "source": [
    "nm = Net_moduls()\n",
    "entropy_network_ThreeReg_Ox_90_00_averged = nm.get_network_features_averaged_median(tehran_df_completeDates, regimes_column= tehran_df_reg['Ox_3'],method='entropy',edges_threshold=200, target_window=100, target_length=50)"
   ]
  },
  {
   "cell_type": "code",
   "execution_count": 108,
   "id": "6de8e197-5150-46db-ae20-27d4c510c147",
   "metadata": {},
   "outputs": [
    {
     "data": {
      "text/html": [
       "<div>\n",
       "<style scoped>\n",
       "    .dataframe tbody tr th:only-of-type {\n",
       "        vertical-align: middle;\n",
       "    }\n",
       "\n",
       "    .dataframe tbody tr th {\n",
       "        vertical-align: top;\n",
       "    }\n",
       "\n",
       "    .dataframe thead th {\n",
       "        text-align: right;\n",
       "    }\n",
       "</style>\n",
       "<table border=\"1\" class=\"dataframe\">\n",
       "  <thead>\n",
       "    <tr style=\"text-align: right;\">\n",
       "      <th></th>\n",
       "      <th>radius</th>\n",
       "      <th>diameter</th>\n",
       "      <th>densities</th>\n",
       "      <th>number_of_edges</th>\n",
       "      <th>average_clustering</th>\n",
       "      <th>avg_degree_centrality</th>\n",
       "      <th>avg_betweenness_centrality</th>\n",
       "      <th>avg_closeness_centrality</th>\n",
       "      <th>average_shortest_path_length</th>\n",
       "    </tr>\n",
       "  </thead>\n",
       "  <tbody>\n",
       "    <tr>\n",
       "      <th>Means</th>\n",
       "      <td>1.900000</td>\n",
       "      <td>2.020000</td>\n",
       "      <td>0.700646</td>\n",
       "      <td>693.640000</td>\n",
       "      <td>0.771063</td>\n",
       "      <td>0.700646</td>\n",
       "      <td>0.006962</td>\n",
       "      <td>0.780308</td>\n",
       "      <td>1.299374</td>\n",
       "    </tr>\n",
       "    <tr>\n",
       "      <th>STDs</th>\n",
       "      <td>0.303046</td>\n",
       "      <td>0.141421</td>\n",
       "      <td>0.026307</td>\n",
       "      <td>26.043731</td>\n",
       "      <td>0.024178</td>\n",
       "      <td>0.026307</td>\n",
       "      <td>0.000613</td>\n",
       "      <td>0.015997</td>\n",
       "      <td>0.026344</td>\n",
       "    </tr>\n",
       "    <tr>\n",
       "      <th>Means</th>\n",
       "      <td>2.000000</td>\n",
       "      <td>2.140000</td>\n",
       "      <td>0.721103</td>\n",
       "      <td>744.520000</td>\n",
       "      <td>0.779376</td>\n",
       "      <td>0.721103</td>\n",
       "      <td>0.006369</td>\n",
       "      <td>0.790970</td>\n",
       "      <td>1.279786</td>\n",
       "    </tr>\n",
       "    <tr>\n",
       "      <th>STDs</th>\n",
       "      <td>0.000000</td>\n",
       "      <td>0.350510</td>\n",
       "      <td>0.036194</td>\n",
       "      <td>40.430964</td>\n",
       "      <td>0.023124</td>\n",
       "      <td>0.036194</td>\n",
       "      <td>0.000872</td>\n",
       "      <td>0.022274</td>\n",
       "      <td>0.037791</td>\n",
       "    </tr>\n",
       "    <tr>\n",
       "      <th>Means</th>\n",
       "      <td>2.000000</td>\n",
       "      <td>2.140000</td>\n",
       "      <td>0.595106</td>\n",
       "      <td>610.000000</td>\n",
       "      <td>0.664885</td>\n",
       "      <td>0.595106</td>\n",
       "      <td>0.009265</td>\n",
       "      <td>0.717920</td>\n",
       "      <td>1.405590</td>\n",
       "    </tr>\n",
       "    <tr>\n",
       "      <th>STDs</th>\n",
       "      <td>0.000000</td>\n",
       "      <td>0.350510</td>\n",
       "      <td>0.015171</td>\n",
       "      <td>17.854285</td>\n",
       "      <td>0.020870</td>\n",
       "      <td>0.015171</td>\n",
       "      <td>0.000374</td>\n",
       "      <td>0.008717</td>\n",
       "      <td>0.016602</td>\n",
       "    </tr>\n",
       "  </tbody>\n",
       "</table>\n",
       "</div>"
      ],
      "text/plain": [
       "         radius  diameter  densities  number_of_edges  average_clustering  \\\n",
       "Means  1.900000  2.020000   0.700646       693.640000            0.771063   \n",
       "STDs   0.303046  0.141421   0.026307        26.043731            0.024178   \n",
       "Means  2.000000  2.140000   0.721103       744.520000            0.779376   \n",
       "STDs   0.000000  0.350510   0.036194        40.430964            0.023124   \n",
       "Means  2.000000  2.140000   0.595106       610.000000            0.664885   \n",
       "STDs   0.000000  0.350510   0.015171        17.854285            0.020870   \n",
       "\n",
       "       avg_degree_centrality  avg_betweenness_centrality  \\\n",
       "Means               0.700646                    0.006962   \n",
       "STDs                0.026307                    0.000613   \n",
       "Means               0.721103                    0.006369   \n",
       "STDs                0.036194                    0.000872   \n",
       "Means               0.595106                    0.009265   \n",
       "STDs                0.015171                    0.000374   \n",
       "\n",
       "       avg_closeness_centrality  average_shortest_path_length  \n",
       "Means                  0.780308                      1.299374  \n",
       "STDs                   0.015997                      0.026344  \n",
       "Means                  0.790970                      1.279786  \n",
       "STDs                   0.022274                      0.037791  \n",
       "Means                  0.717920                      1.405590  \n",
       "STDs                   0.008717                      0.016602  "
      ]
     },
     "execution_count": 108,
     "metadata": {},
     "output_type": "execute_result"
    }
   ],
   "source": [
    "entropy_network_ThreeReg_Ox_90_00_averged"
   ]
  },
  {
   "cell_type": "code",
   "execution_count": 109,
   "id": "f4fdb84a-cfbc-439e-a071-46a5ebcb82bc",
   "metadata": {},
   "outputs": [],
   "source": [
    "entropy_network_ThreeReg_Ox_90_00_averged.to_csv('Excels/29.csv')"
   ]
  },
  {
   "cell_type": "markdown",
   "id": "26e2e9f6-861b-402e-909e-687f95e72c69",
   "metadata": {},
   "source": [
    "# 30) Tehran 3 Regime Crossed (Based on Median Threshold) Period of 90 Far - 98 Dey"
   ]
  },
  {
   "cell_type": "code",
   "execution_count": 110,
   "id": "66fb171c-6e59-43f0-9c8a-7ee1b75f12a5",
   "metadata": {},
   "outputs": [],
   "source": [
    "nm = Net_moduls()"
   ]
  },
  {
   "cell_type": "code",
   "execution_count": 111,
   "id": "739b037b-3ab8-4d3d-a028-98e743c9cda6",
   "metadata": {},
   "outputs": [],
   "source": [
    "thr30_1 = nm.find_median_crossed_threshold(tehran_df_ThreeReg_Ox_1_same_length_98)\n",
    "thr30_2 = nm.find_median_crossed_threshold(tehran_df_ThreeReg_Ox_2_same_length_98)\n",
    "thr30_3 = nm.find_median_crossed_threshold(tehran_df_ThreeReg_Ox_3_same_length_98)\n",
    "\n",
    "thr30 = min(thr30_1, thr30_2, thr30_3)"
   ]
  },
  {
   "cell_type": "code",
   "execution_count": 112,
   "id": "0fd97e33-67f8-4677-89eb-42ad00f4bd72",
   "metadata": {},
   "outputs": [],
   "source": [
    "crossed_network_ThreeReg_Ox_1_98 = nm.construct_network(tehran_df_ThreeReg_Ox_1_same_length_98, method='crossed', threshold=thr30)"
   ]
  },
  {
   "cell_type": "code",
   "execution_count": 113,
   "id": "35bbc927-ea32-4016-8c7a-ff99b324ca31",
   "metadata": {},
   "outputs": [
    {
     "data": {
      "text/html": [
       "<div>\n",
       "<style scoped>\n",
       "    .dataframe tbody tr th:only-of-type {\n",
       "        vertical-align: middle;\n",
       "    }\n",
       "\n",
       "    .dataframe tbody tr th {\n",
       "        vertical-align: top;\n",
       "    }\n",
       "\n",
       "    .dataframe thead th {\n",
       "        text-align: right;\n",
       "    }\n",
       "</style>\n",
       "<table border=\"1\" class=\"dataframe\">\n",
       "  <thead>\n",
       "    <tr style=\"text-align: right;\">\n",
       "      <th></th>\n",
       "      <th>radius</th>\n",
       "      <th>diameter</th>\n",
       "      <th>densities</th>\n",
       "      <th>number_of_edges</th>\n",
       "      <th>average_clustering</th>\n",
       "      <th>avg_degree_centrality</th>\n",
       "      <th>avg_betweenness_centrality</th>\n",
       "      <th>avg_closeness_centrality</th>\n",
       "      <th>average_shortest_path_length</th>\n",
       "    </tr>\n",
       "  </thead>\n",
       "  <tbody>\n",
       "    <tr>\n",
       "      <th>0</th>\n",
       "      <td>1</td>\n",
       "      <td>2</td>\n",
       "      <td>0.416425</td>\n",
       "      <td>431</td>\n",
       "      <td>0.485295</td>\n",
       "      <td>0.416425</td>\n",
       "      <td>0.013263</td>\n",
       "      <td>0.638618</td>\n",
       "      <td>1.583575</td>\n",
       "    </tr>\n",
       "  </tbody>\n",
       "</table>\n",
       "</div>"
      ],
      "text/plain": [
       "   radius  diameter  densities  number_of_edges  average_clustering  \\\n",
       "0       1         2   0.416425              431            0.485295   \n",
       "\n",
       "   avg_degree_centrality  avg_betweenness_centrality  \\\n",
       "0               0.416425                    0.013263   \n",
       "\n",
       "   avg_closeness_centrality  average_shortest_path_length  \n",
       "0                  0.638618                      1.583575  "
      ]
     },
     "execution_count": 113,
     "metadata": {},
     "output_type": "execute_result"
    }
   ],
   "source": [
    "nm.get_network_features(crossed_network_ThreeReg_Ox_1_98)"
   ]
  },
  {
   "cell_type": "code",
   "execution_count": 114,
   "id": "95ae40af-fe01-4976-9538-8e16c739b77f",
   "metadata": {},
   "outputs": [
    {
     "data": {
      "text/plain": [
       "array({'index': 11, 'Lastic': 11, 'SarmayeGozari': 11, 'Bimeh': 11, 'FaravardehayeNafti': 11, 'Daroee': 12, 'Bank': 12, 'Rayaneh': 12, 'Mali': 12, 'KanehayeGeyreFelezi': 12, 'khodrosazi': 13, 'MashinAlat': 14, 'HamlVaNaghl': 14, 'Agriculture': 15, 'paper': 15, 'SayerMali': 15, 'FaniVaMohandesi': 15, 'GhandVaShekar': 15, 'Brent Oil': 16, 'Wood': 16, 'Siman': 16, 'ChandReshteSanati': 16, 'CPI': 17, 'GazaeeBejozGhand': 17, 'KashiVaSeramik': 17, 'Amlakva': 18, 'DastgahayeBargi': 18, 'Mansojat': 18, 'MahsolateFelezi': 19, 'USD': 20, 'M2': 21, 'KanehayeFelezi': 22, 'EstekrajeNaft': 22, 'CoalMining': 22, 'SayerMadan': 23, 'FelezateAsasi': 23, 'Shimiyaee': 24, 'HOUSE': 25, 'VasayelErtebati': 25, 'Euro': 26, 'M1': 27, 'GDP': 28, 'Coin': 29, 'EntesharVaChap': 29, 'Gold': 32, 'AbzaralatePezeshki': 45},\n",
       "      dtype=object)"
      ]
     },
     "execution_count": 114,
     "metadata": {},
     "output_type": "execute_result"
    }
   ],
   "source": [
    "b30_1 = dict(nx.degree(crossed_network_ThreeReg_Ox_1_98))\n",
    "b30_1 = np.array(dict(sorted(b30_1.items(), key=lambda item: item[1])))\n",
    "b30_1"
   ]
  },
  {
   "cell_type": "code",
   "execution_count": 115,
   "id": "ba1b69f7-b73d-46ac-8bc5-a82990ad49d4",
   "metadata": {},
   "outputs": [],
   "source": [
    "nm.get_network_features(crossed_network_ThreeReg_Ox_1_98).to_csv('Excels/30_1.csv')"
   ]
  },
  {
   "cell_type": "code",
   "execution_count": 116,
   "id": "9ce9281e-d7f0-42b0-8be2-5b44e902eeae",
   "metadata": {},
   "outputs": [],
   "source": [
    "crossed_network_ThreeReg_Ox_2_98 = nm.construct_network(tehran_df_ThreeReg_Ox_2_same_length_98, method='crossed', threshold=thr30)"
   ]
  },
  {
   "cell_type": "code",
   "execution_count": 117,
   "id": "55d1021d-9519-4d79-b774-21ec0c0a22da",
   "metadata": {},
   "outputs": [
    {
     "data": {
      "text/html": [
       "<div>\n",
       "<style scoped>\n",
       "    .dataframe tbody tr th:only-of-type {\n",
       "        vertical-align: middle;\n",
       "    }\n",
       "\n",
       "    .dataframe tbody tr th {\n",
       "        vertical-align: top;\n",
       "    }\n",
       "\n",
       "    .dataframe thead th {\n",
       "        text-align: right;\n",
       "    }\n",
       "</style>\n",
       "<table border=\"1\" class=\"dataframe\">\n",
       "  <thead>\n",
       "    <tr style=\"text-align: right;\">\n",
       "      <th></th>\n",
       "      <th>radius</th>\n",
       "      <th>diameter</th>\n",
       "      <th>densities</th>\n",
       "      <th>number_of_edges</th>\n",
       "      <th>average_clustering</th>\n",
       "      <th>avg_degree_centrality</th>\n",
       "      <th>avg_betweenness_centrality</th>\n",
       "      <th>avg_closeness_centrality</th>\n",
       "      <th>average_shortest_path_length</th>\n",
       "    </tr>\n",
       "  </thead>\n",
       "  <tbody>\n",
       "    <tr>\n",
       "      <th>0</th>\n",
       "      <td>2</td>\n",
       "      <td>3</td>\n",
       "      <td>0.340097</td>\n",
       "      <td>352</td>\n",
       "      <td>0.410506</td>\n",
       "      <td>0.340097</td>\n",
       "      <td>0.015064</td>\n",
       "      <td>0.606446</td>\n",
       "      <td>1.662802</td>\n",
       "    </tr>\n",
       "  </tbody>\n",
       "</table>\n",
       "</div>"
      ],
      "text/plain": [
       "   radius  diameter  densities  number_of_edges  average_clustering  \\\n",
       "0       2         3   0.340097              352            0.410506   \n",
       "\n",
       "   avg_degree_centrality  avg_betweenness_centrality  \\\n",
       "0               0.340097                    0.015064   \n",
       "\n",
       "   avg_closeness_centrality  average_shortest_path_length  \n",
       "0                  0.606446                      1.662802  "
      ]
     },
     "execution_count": 117,
     "metadata": {},
     "output_type": "execute_result"
    }
   ],
   "source": [
    "nm.get_network_features(crossed_network_ThreeReg_Ox_2_98)"
   ]
  },
  {
   "cell_type": "code",
   "execution_count": 118,
   "id": "477273f1-8012-439f-8c8b-0032e76e76ea",
   "metadata": {},
   "outputs": [
    {
     "data": {
      "text/plain": [
       "array({'index': 4, 'Lastic': 7, 'KanehayeGeyreFelezi': 8, 'Bimeh': 9, 'Amlakva': 9, 'DastgahayeBargi': 10, 'ChandReshteSanati': 10, 'KashiVaSeramik': 10, 'FaniVaMohandesi': 10, 'SayerMali': 10, 'Mali': 10, 'Euro': 11, 'EntesharVaChap': 11, 'FelezateAsasi': 11, 'GazaeeBejozGhand': 11, 'Daroee': 11, 'Shimiyaee': 11, 'Siman': 11, 'KanehayeFelezi': 11, 'Rayaneh': 12, 'FaravardehayeNafti': 13, 'GhandVaShekar': 13, 'USD': 13, 'MahsolateFelezi': 14, 'Coin': 14, 'Bank': 14, 'khodrosazi': 14, 'Agriculture': 16, 'MashinAlat': 16, 'SarmayeGozari': 16, 'VasayelErtebati': 18, 'EstekrajeNaft': 18, 'M2': 18, 'AbzaralatePezeshki': 18, 'CPI': 20, 'HOUSE': 20, 'Gold': 21, 'Mansojat': 21, 'GDP': 22, 'paper': 23, 'HamlVaNaghl': 23, 'M1': 24, 'SayerMadan': 26, 'Wood': 28, 'Brent Oil': 32, 'CoalMining': 32},\n",
       "      dtype=object)"
      ]
     },
     "execution_count": 118,
     "metadata": {},
     "output_type": "execute_result"
    }
   ],
   "source": [
    "b30_2 = dict(nx.degree(crossed_network_ThreeReg_Ox_2_98))\n",
    "b30_2 = np.array(dict(sorted(b30_2.items(), key=lambda item: item[1])))\n",
    "b30_2"
   ]
  },
  {
   "cell_type": "code",
   "execution_count": 119,
   "id": "fb8d2137-c239-4bab-bb1a-ef0cd813b2c5",
   "metadata": {},
   "outputs": [],
   "source": [
    "nm.get_network_features(crossed_network_ThreeReg_Ox_2_98).to_csv('Excels/30_2.csv')"
   ]
  },
  {
   "cell_type": "code",
   "execution_count": 120,
   "id": "b8103132-6a47-41c6-b281-2316bdf81f40",
   "metadata": {},
   "outputs": [],
   "source": [
    "crossed_network_ThreeReg_Ox_3_98 = nm.construct_network(tehran_df_ThreeReg_Ox_3_same_length_98, method='crossed', threshold=thr30)"
   ]
  },
  {
   "cell_type": "code",
   "execution_count": 121,
   "id": "7ed0b827-3de2-4fb8-93fa-903adacd4371",
   "metadata": {},
   "outputs": [
    {
     "data": {
      "text/html": [
       "<div>\n",
       "<style scoped>\n",
       "    .dataframe tbody tr th:only-of-type {\n",
       "        vertical-align: middle;\n",
       "    }\n",
       "\n",
       "    .dataframe tbody tr th {\n",
       "        vertical-align: top;\n",
       "    }\n",
       "\n",
       "    .dataframe thead th {\n",
       "        text-align: right;\n",
       "    }\n",
       "</style>\n",
       "<table border=\"1\" class=\"dataframe\">\n",
       "  <thead>\n",
       "    <tr style=\"text-align: right;\">\n",
       "      <th></th>\n",
       "      <th>radius</th>\n",
       "      <th>diameter</th>\n",
       "      <th>densities</th>\n",
       "      <th>number_of_edges</th>\n",
       "      <th>average_clustering</th>\n",
       "      <th>avg_degree_centrality</th>\n",
       "      <th>avg_betweenness_centrality</th>\n",
       "      <th>avg_closeness_centrality</th>\n",
       "      <th>average_shortest_path_length</th>\n",
       "    </tr>\n",
       "  </thead>\n",
       "  <tbody>\n",
       "    <tr>\n",
       "      <th>0</th>\n",
       "      <td>1</td>\n",
       "      <td>2</td>\n",
       "      <td>0.355556</td>\n",
       "      <td>368</td>\n",
       "      <td>0.472379</td>\n",
       "      <td>0.355556</td>\n",
       "      <td>0.014646</td>\n",
       "      <td>0.615135</td>\n",
       "      <td>1.644444</td>\n",
       "    </tr>\n",
       "  </tbody>\n",
       "</table>\n",
       "</div>"
      ],
      "text/plain": [
       "   radius  diameter  densities  number_of_edges  average_clustering  \\\n",
       "0       1         2   0.355556              368            0.472379   \n",
       "\n",
       "   avg_degree_centrality  avg_betweenness_centrality  \\\n",
       "0               0.355556                    0.014646   \n",
       "\n",
       "   avg_closeness_centrality  average_shortest_path_length  \n",
       "0                  0.615135                      1.644444  "
      ]
     },
     "execution_count": 121,
     "metadata": {},
     "output_type": "execute_result"
    }
   ],
   "source": [
    "nm.get_network_features(crossed_network_ThreeReg_Ox_3_98)"
   ]
  },
  {
   "cell_type": "code",
   "execution_count": 122,
   "id": "b9c52f92-891d-4c48-b3a8-4a8bc9ab4666",
   "metadata": {},
   "outputs": [
    {
     "data": {
      "text/plain": [
       "array({'GazaeeBejozGhand': 5, 'MashinAlat': 5, 'SarmayeGozari': 7, 'Siman': 8, 'index': 9, 'GDP': 9, 'KanehayeGeyreFelezi': 10, 'SayerMali': 10, 'HamlVaNaghl': 10, 'Rayaneh': 11, 'Mali': 11, 'Amlakva': 11, 'MahsolateFelezi': 12, 'VasayelErtebati': 12, 'KashiVaSeramik': 12, 'Lastic': 13, 'Wood': 14, 'Daroee': 14, 'khodrosazi': 14, 'Agriculture': 14, 'EntesharVaChap': 15, 'paper': 15, 'M2': 15, 'Bimeh': 15, 'CoalMining': 15, 'EstekrajeNaft': 16, 'ChandReshteSanati': 16, 'M1': 16, 'USD': 16, 'CPI': 17, 'Mansojat': 17, 'Coin': 17, 'SayerMadan': 17, 'Bank': 18, 'FaravardehayeNafti': 20, 'DastgahayeBargi': 20, 'GhandVaShekar': 20, 'Shimiyaee': 20, 'HOUSE': 21, 'Brent Oil': 22, 'FelezateAsasi': 22, 'Euro': 25, 'FaniVaMohandesi': 25, 'KanehayeFelezi': 29, 'Gold': 31, 'AbzaralatePezeshki': 45},\n",
       "      dtype=object)"
      ]
     },
     "execution_count": 122,
     "metadata": {},
     "output_type": "execute_result"
    }
   ],
   "source": [
    "b30_3 = dict(nx.degree(crossed_network_ThreeReg_Ox_3_98))\n",
    "b30_3 = np.array(dict(sorted(b30_3.items(), key=lambda item: item[1])))\n",
    "b30_3"
   ]
  },
  {
   "cell_type": "code",
   "execution_count": 123,
   "id": "b3fef0c6-7574-4bdc-8ba8-d3fcc781a3d7",
   "metadata": {},
   "outputs": [],
   "source": [
    "nm.get_network_features(crossed_network_ThreeReg_Ox_3_98).to_csv('Excels/30_3.csv')"
   ]
  },
  {
   "cell_type": "markdown",
   "id": "7f3b8520-3c23-4ba1-919d-87d7955b8286",
   "metadata": {},
   "source": [
    "# 31) Tehran 3 Regime Crossed (Based on Median Threshold) Period of 90 Far - 00 Far"
   ]
  },
  {
   "cell_type": "code",
   "execution_count": 124,
   "id": "e95cfae7-83fa-42da-8a01-018b0427ffc3",
   "metadata": {},
   "outputs": [],
   "source": [
    "nm = Net_moduls()"
   ]
  },
  {
   "cell_type": "code",
   "execution_count": 125,
   "id": "085d1886-09fd-448b-a28a-2d46cef5b325",
   "metadata": {},
   "outputs": [],
   "source": [
    "thr31_1 = nm.find_median_crossed_threshold(tehran_df_ThreeReg_Ox_1_same_length)\n",
    "thr31_2 = nm.find_median_crossed_threshold(tehran_df_ThreeReg_Ox_2_same_length)\n",
    "thr31_3 = nm.find_median_crossed_threshold(tehran_df_ThreeReg_Ox_3_same_length)\n",
    "\n",
    "thr31 = min(thr31_1, thr31_2, thr31_3)"
   ]
  },
  {
   "cell_type": "code",
   "execution_count": 126,
   "id": "4ac9f5cf-d894-4866-a45c-1f574f955e6d",
   "metadata": {},
   "outputs": [],
   "source": [
    "crossed_network_ThreeReg_Ox_1 = nm.construct_network(tehran_df_ThreeReg_Ox_1_same_length, method='crossed', threshold=thr31)"
   ]
  },
  {
   "cell_type": "code",
   "execution_count": 127,
   "id": "ba2f5af6-afe2-4bab-bd1d-2f507c4edb6a",
   "metadata": {},
   "outputs": [
    {
     "data": {
      "text/html": [
       "<div>\n",
       "<style scoped>\n",
       "    .dataframe tbody tr th:only-of-type {\n",
       "        vertical-align: middle;\n",
       "    }\n",
       "\n",
       "    .dataframe tbody tr th {\n",
       "        vertical-align: top;\n",
       "    }\n",
       "\n",
       "    .dataframe thead th {\n",
       "        text-align: right;\n",
       "    }\n",
       "</style>\n",
       "<table border=\"1\" class=\"dataframe\">\n",
       "  <thead>\n",
       "    <tr style=\"text-align: right;\">\n",
       "      <th></th>\n",
       "      <th>radius</th>\n",
       "      <th>diameter</th>\n",
       "      <th>densities</th>\n",
       "      <th>number_of_edges</th>\n",
       "      <th>average_clustering</th>\n",
       "      <th>avg_degree_centrality</th>\n",
       "      <th>avg_betweenness_centrality</th>\n",
       "      <th>avg_closeness_centrality</th>\n",
       "      <th>average_shortest_path_length</th>\n",
       "    </tr>\n",
       "  </thead>\n",
       "  <tbody>\n",
       "    <tr>\n",
       "      <th>0</th>\n",
       "      <td>1</td>\n",
       "      <td>2</td>\n",
       "      <td>0.428986</td>\n",
       "      <td>444</td>\n",
       "      <td>0.517827</td>\n",
       "      <td>0.428986</td>\n",
       "      <td>0.012978</td>\n",
       "      <td>0.64525</td>\n",
       "      <td>1.571014</td>\n",
       "    </tr>\n",
       "  </tbody>\n",
       "</table>\n",
       "</div>"
      ],
      "text/plain": [
       "   radius  diameter  densities  number_of_edges  average_clustering  \\\n",
       "0       1         2   0.428986              444            0.517827   \n",
       "\n",
       "   avg_degree_centrality  avg_betweenness_centrality  \\\n",
       "0               0.428986                    0.012978   \n",
       "\n",
       "   avg_closeness_centrality  average_shortest_path_length  \n",
       "0                   0.64525                      1.571014  "
      ]
     },
     "execution_count": 127,
     "metadata": {},
     "output_type": "execute_result"
    }
   ],
   "source": [
    "nm.get_network_features(crossed_network_ThreeReg_Ox_1)"
   ]
  },
  {
   "cell_type": "code",
   "execution_count": 128,
   "id": "d09d0bf8-ff32-4479-8a6d-6b4c80f731d6",
   "metadata": {},
   "outputs": [
    {
     "data": {
      "text/plain": [
       "array({'MashinAlat': 8, 'Daroee': 8, 'index': 11, 'Bank': 11, 'MahsolateFelezi': 12, 'Lastic': 12, 'khodrosazi': 12, 'Siman': 12, 'SarmayeGozari': 12, 'Mali': 12, 'Bimeh': 13, 'GhandVaShekar': 13, 'Agriculture': 14, 'GazaeeBejozGhand': 14, 'paper': 15, 'KanehayeGeyreFelezi': 15, 'Rayaneh': 16, 'KashiVaSeramik': 16, 'Shimiyaee': 17, 'SayerMali': 17, 'Amlakva': 17, 'FaniVaMohandesi': 17, 'EstekrajeNaft': 18, 'Wood': 18, 'ChandReshteSanati': 18, 'HamlVaNaghl': 18, 'Mansojat': 19, 'SayerMadan': 20, 'M1': 20, 'DastgahayeBargi': 20, 'CPI': 21, 'HOUSE': 21, 'FaravardehayeNafti': 21, 'M2': 22, 'Gold': 22, 'EntesharVaChap': 26, 'CoalMining': 26, 'FelezateAsasi': 26, 'Coin': 28, 'VasayelErtebati': 28, 'KanehayeFelezi': 28, 'Euro': 30, 'GDP': 32, 'USD': 33, 'Brent Oil': 34, 'AbzaralatePezeshki': 45},\n",
       "      dtype=object)"
      ]
     },
     "execution_count": 128,
     "metadata": {},
     "output_type": "execute_result"
    }
   ],
   "source": [
    "b31_1 = dict(nx.degree(crossed_network_ThreeReg_Ox_1))\n",
    "b31_1 = np.array(dict(sorted(b31_1.items(), key=lambda item: item[1])))\n",
    "b31_1"
   ]
  },
  {
   "cell_type": "code",
   "execution_count": 129,
   "id": "f36b2f0e-2a30-41c9-bd0f-338797a602b9",
   "metadata": {},
   "outputs": [],
   "source": [
    "nm.get_network_features(crossed_network_ThreeReg_Ox_1).to_csv('Excels/31_1.csv')"
   ]
  },
  {
   "cell_type": "code",
   "execution_count": 130,
   "id": "6a86d8df-7ed3-4377-8c27-7184db40a6ee",
   "metadata": {},
   "outputs": [],
   "source": [
    "crossed_network_ThreeReg_Ox_2 = nm.construct_network(tehran_df_ThreeReg_Ox_2_same_length, method='crossed', threshold=thr31)"
   ]
  },
  {
   "cell_type": "code",
   "execution_count": 131,
   "id": "7bfbd5a7-1132-4ca4-9eae-11be227314b4",
   "metadata": {},
   "outputs": [
    {
     "data": {
      "text/html": [
       "<div>\n",
       "<style scoped>\n",
       "    .dataframe tbody tr th:only-of-type {\n",
       "        vertical-align: middle;\n",
       "    }\n",
       "\n",
       "    .dataframe tbody tr th {\n",
       "        vertical-align: top;\n",
       "    }\n",
       "\n",
       "    .dataframe thead th {\n",
       "        text-align: right;\n",
       "    }\n",
       "</style>\n",
       "<table border=\"1\" class=\"dataframe\">\n",
       "  <thead>\n",
       "    <tr style=\"text-align: right;\">\n",
       "      <th></th>\n",
       "      <th>radius</th>\n",
       "      <th>diameter</th>\n",
       "      <th>densities</th>\n",
       "      <th>number_of_edges</th>\n",
       "      <th>average_clustering</th>\n",
       "      <th>avg_degree_centrality</th>\n",
       "      <th>avg_betweenness_centrality</th>\n",
       "      <th>avg_closeness_centrality</th>\n",
       "      <th>average_shortest_path_length</th>\n",
       "    </tr>\n",
       "  </thead>\n",
       "  <tbody>\n",
       "    <tr>\n",
       "      <th>0</th>\n",
       "      <td>2</td>\n",
       "      <td>3</td>\n",
       "      <td>0.371981</td>\n",
       "      <td>385</td>\n",
       "      <td>0.421737</td>\n",
       "      <td>0.371981</td>\n",
       "      <td>0.014295</td>\n",
       "      <td>0.620772</td>\n",
       "      <td>1.628986</td>\n",
       "    </tr>\n",
       "  </tbody>\n",
       "</table>\n",
       "</div>"
      ],
      "text/plain": [
       "   radius  diameter  densities  number_of_edges  average_clustering  \\\n",
       "0       2         3   0.371981              385            0.421737   \n",
       "\n",
       "   avg_degree_centrality  avg_betweenness_centrality  \\\n",
       "0               0.371981                    0.014295   \n",
       "\n",
       "   avg_closeness_centrality  average_shortest_path_length  \n",
       "0                  0.620772                      1.628986  "
      ]
     },
     "execution_count": 131,
     "metadata": {},
     "output_type": "execute_result"
    }
   ],
   "source": [
    "nm.get_network_features(crossed_network_ThreeReg_Ox_2)"
   ]
  },
  {
   "cell_type": "code",
   "execution_count": 132,
   "id": "2071d248-6d1d-442b-be0e-f6a6052bf787",
   "metadata": {},
   "outputs": [
    {
     "data": {
      "text/plain": [
       "array({'KanehayeGeyreFelezi': 8, 'Lastic': 9, 'KashiVaSeramik': 9, 'SayerMali': 9, 'KanehayeFelezi': 9, 'index': 10, 'ChandReshteSanati': 10, 'EntesharVaChap': 11, 'MashinAlat': 11, 'GazaeeBejozGhand': 11, 'Siman': 11, 'Rayaneh': 11, 'VasayelErtebati': 11, 'Daroee': 12, 'Shimiyaee': 12, 'SarmayeGozari': 12, 'Bimeh': 12, 'Amlakva': 12, 'Mali': 12, 'EstekrajeNaft': 12, 'FelezateAsasi': 13, 'DastgahayeBargi': 13, 'khodrosazi': 13, 'Bank': 13, 'MahsolateFelezi': 15, 'FaravardehayeNafti': 15, 'FaniVaMohandesi': 16, 'Euro': 16, 'Coin': 17, 'Agriculture': 17, 'GhandVaShekar': 17, 'GDP': 19, 'CPI': 21, 'Mansojat': 22, 'USD': 23, 'HamlVaNaghl': 23, 'M1': 25, 'Wood': 25, 'Gold': 25, 'CoalMining': 25, 'M2': 26, 'AbzaralatePezeshki': 27, 'HOUSE': 30, 'paper': 30, 'SayerMadan': 34, 'Brent Oil': 36},\n",
       "      dtype=object)"
      ]
     },
     "execution_count": 132,
     "metadata": {},
     "output_type": "execute_result"
    }
   ],
   "source": [
    "b31_2 = dict(nx.degree(crossed_network_ThreeReg_Ox_2))\n",
    "b31_2 = np.array(dict(sorted(b31_2.items(), key=lambda item: item[1])))\n",
    "b31_2"
   ]
  },
  {
   "cell_type": "code",
   "execution_count": 133,
   "id": "d69e38a8-d744-403c-ae9e-d5c501ed8abc",
   "metadata": {},
   "outputs": [],
   "source": [
    "nm.get_network_features(crossed_network_ThreeReg_Ox_2).to_csv('Excels/31_2.csv')"
   ]
  },
  {
   "cell_type": "code",
   "execution_count": 134,
   "id": "3d21f30f-221d-480e-806c-e258b43a10bf",
   "metadata": {},
   "outputs": [],
   "source": [
    "crossed_network_ThreeReg_Ox_3 = nm.construct_network(tehran_df_ThreeReg_Ox_3_same_length, method='crossed', threshold=thr31)"
   ]
  },
  {
   "cell_type": "code",
   "execution_count": 135,
   "id": "e3f2af4e-a216-4e73-a505-3863a7e5d92a",
   "metadata": {},
   "outputs": [
    {
     "data": {
      "text/html": [
       "<div>\n",
       "<style scoped>\n",
       "    .dataframe tbody tr th:only-of-type {\n",
       "        vertical-align: middle;\n",
       "    }\n",
       "\n",
       "    .dataframe tbody tr th {\n",
       "        vertical-align: top;\n",
       "    }\n",
       "\n",
       "    .dataframe thead th {\n",
       "        text-align: right;\n",
       "    }\n",
       "</style>\n",
       "<table border=\"1\" class=\"dataframe\">\n",
       "  <thead>\n",
       "    <tr style=\"text-align: right;\">\n",
       "      <th></th>\n",
       "      <th>radius</th>\n",
       "      <th>diameter</th>\n",
       "      <th>densities</th>\n",
       "      <th>number_of_edges</th>\n",
       "      <th>average_clustering</th>\n",
       "      <th>avg_degree_centrality</th>\n",
       "      <th>avg_betweenness_centrality</th>\n",
       "      <th>avg_closeness_centrality</th>\n",
       "      <th>average_shortest_path_length</th>\n",
       "    </tr>\n",
       "  </thead>\n",
       "  <tbody>\n",
       "    <tr>\n",
       "      <th>0</th>\n",
       "      <td>1</td>\n",
       "      <td>2</td>\n",
       "      <td>0.31401</td>\n",
       "      <td>325</td>\n",
       "      <td>0.499896</td>\n",
       "      <td>0.31401</td>\n",
       "      <td>0.015591</td>\n",
       "      <td>0.602368</td>\n",
       "      <td>1.68599</td>\n",
       "    </tr>\n",
       "  </tbody>\n",
       "</table>\n",
       "</div>"
      ],
      "text/plain": [
       "   radius  diameter  densities  number_of_edges  average_clustering  \\\n",
       "0       1         2    0.31401              325            0.499896   \n",
       "\n",
       "   avg_degree_centrality  avg_betweenness_centrality  \\\n",
       "0                0.31401                    0.015591   \n",
       "\n",
       "   avg_closeness_centrality  average_shortest_path_length  \n",
       "0                  0.602368                       1.68599  "
      ]
     },
     "execution_count": 135,
     "metadata": {},
     "output_type": "execute_result"
    }
   ],
   "source": [
    "nm.get_network_features(crossed_network_ThreeReg_Ox_3)"
   ]
  },
  {
   "cell_type": "code",
   "execution_count": 136,
   "id": "460b19a8-3c93-49e4-8fa9-8cb6c8abd51c",
   "metadata": {},
   "outputs": [
    {
     "data": {
      "text/plain": [
       "array({'Rayaneh': 3, 'MahsolateFelezi': 6, 'KanehayeGeyreFelezi': 7, 'SayerMali': 7, 'Amlakva': 7, 'SarmayeGozari': 7, 'Lastic': 7, 'index': 8, 'paper': 8, 'Agriculture': 8, 'Daroee': 8, 'GhandVaShekar': 9, 'ChandReshteSanati': 9, 'Shimiyaee': 9, 'KashiVaSeramik': 9, 'Siman': 9, 'MashinAlat': 10, 'VasayelErtebati': 10, 'HamlVaNaghl': 10, 'Bimeh': 10, 'FaniVaMohandesi': 10, 'Wood': 11, 'khodrosazi': 11, 'Bank': 11, 'GazaeeBejozGhand': 11, 'FelezateAsasi': 11, 'KanehayeFelezi': 11, 'EstekrajeNaft': 13, 'Mali': 13, 'M1': 14, 'CoalMining': 15, 'GDP': 15, 'SayerMadan': 18, 'Gold': 19, 'EntesharVaChap': 19, 'HOUSE': 19, 'Euro': 21, 'DastgahayeBargi': 21, 'Coin': 22, 'CPI': 22, 'USD': 22, 'FaravardehayeNafti': 23, 'Brent Oil': 23, 'Mansojat': 34, 'M2': 35, 'AbzaralatePezeshki': 45},\n",
       "      dtype=object)"
      ]
     },
     "execution_count": 136,
     "metadata": {},
     "output_type": "execute_result"
    }
   ],
   "source": [
    "b31_3 = dict(nx.degree(crossed_network_ThreeReg_Ox_3))\n",
    "b31_3 = np.array(dict(sorted(b31_3.items(), key=lambda item: item[1])))\n",
    "b31_3"
   ]
  },
  {
   "cell_type": "code",
   "execution_count": 137,
   "id": "dfec9e7b-2ccc-4c7a-9135-2243c6c1aa68",
   "metadata": {},
   "outputs": [],
   "source": [
    "nm.get_network_features(crossed_network_ThreeReg_Ox_3).to_csv('Excels/31_3.csv')"
   ]
  },
  {
   "cell_type": "markdown",
   "id": "fb6ad1f8-c1df-45d7-9829-49e9f884c931",
   "metadata": {},
   "source": [
    "# 32) Tehran 3 Regime Crossed (Based on Median Threshold) Period of 90 Far - 98 Dey/ Last 100 Records"
   ]
  },
  {
   "cell_type": "code",
   "execution_count": 138,
   "id": "f5ec8c4a-ed47-4869-9656-613c09349e9c",
   "metadata": {},
   "outputs": [],
   "source": [
    "thr32_1 = nm.find_median_crossed_100_threshold(tehran_df_ThreeReg_Ox_1_same_length_98[-100:])\n",
    "thr32_2 = nm.find_median_crossed_100_threshold(tehran_df_ThreeReg_Ox_2_same_length_98[-100:])\n",
    "thr32_3 = nm.find_median_crossed_100_threshold(tehran_df_ThreeReg_Ox_3_same_length_98[-100:])\n",
    "\n",
    "thr32 = min(thr32_1, thr32_2, thr32_3)"
   ]
  },
  {
   "cell_type": "code",
   "execution_count": 139,
   "id": "b5bd0fc9-4827-446e-b77b-be929d070d91",
   "metadata": {},
   "outputs": [],
   "source": [
    "crossed_network_ThreeReg_Ox_1_98_last100 = nm.construct_network(tehran_df_ThreeReg_Ox_1_same_length_98[-100:], method='crossed_100', threshold=thr32)"
   ]
  },
  {
   "cell_type": "code",
   "execution_count": 140,
   "id": "f12aa232-72a6-43b8-b85d-776f4afd3b07",
   "metadata": {},
   "outputs": [
    {
     "data": {
      "text/html": [
       "<div>\n",
       "<style scoped>\n",
       "    .dataframe tbody tr th:only-of-type {\n",
       "        vertical-align: middle;\n",
       "    }\n",
       "\n",
       "    .dataframe tbody tr th {\n",
       "        vertical-align: top;\n",
       "    }\n",
       "\n",
       "    .dataframe thead th {\n",
       "        text-align: right;\n",
       "    }\n",
       "</style>\n",
       "<table border=\"1\" class=\"dataframe\">\n",
       "  <thead>\n",
       "    <tr style=\"text-align: right;\">\n",
       "      <th></th>\n",
       "      <th>radius</th>\n",
       "      <th>diameter</th>\n",
       "      <th>densities</th>\n",
       "      <th>number_of_edges</th>\n",
       "      <th>average_clustering</th>\n",
       "      <th>avg_degree_centrality</th>\n",
       "      <th>avg_betweenness_centrality</th>\n",
       "      <th>avg_closeness_centrality</th>\n",
       "      <th>average_shortest_path_length</th>\n",
       "    </tr>\n",
       "  </thead>\n",
       "  <tbody>\n",
       "    <tr>\n",
       "      <th>0</th>\n",
       "      <td>1</td>\n",
       "      <td>2</td>\n",
       "      <td>0.421256</td>\n",
       "      <td>436</td>\n",
       "      <td>0.496309</td>\n",
       "      <td>0.421256</td>\n",
       "      <td>0.013153</td>\n",
       "      <td>0.640622</td>\n",
       "      <td>1.578744</td>\n",
       "    </tr>\n",
       "  </tbody>\n",
       "</table>\n",
       "</div>"
      ],
      "text/plain": [
       "   radius  diameter  densities  number_of_edges  average_clustering  \\\n",
       "0       1         2   0.421256              436            0.496309   \n",
       "\n",
       "   avg_degree_centrality  avg_betweenness_centrality  \\\n",
       "0               0.421256                    0.013153   \n",
       "\n",
       "   avg_closeness_centrality  average_shortest_path_length  \n",
       "0                  0.640622                      1.578744  "
      ]
     },
     "execution_count": 140,
     "metadata": {},
     "output_type": "execute_result"
    }
   ],
   "source": [
    "nm.get_network_features(crossed_network_ThreeReg_Ox_1_98_last100)"
   ]
  },
  {
   "cell_type": "code",
   "execution_count": 141,
   "id": "ab4c9f72-d81d-4bfc-98a6-ab665fd62ae3",
   "metadata": {},
   "outputs": [
    {
     "data": {
      "text/plain": [
       "array({'KanehayeGeyreFelezi': 9, 'Daroee': 9, 'SayerMali': 11, 'GazaeeBejozGhand': 11, 'KashiVaSeramik': 13, 'HamlVaNaghl': 13, 'MashinAlat': 13, 'Bank': 13, 'Mali': 13, 'Amlakva': 13, 'Rayaneh': 14, 'index': 15, 'MahsolateFelezi': 15, 'Lastic': 15, 'Siman': 15, 'SarmayeGozari': 15, 'Agriculture': 15, 'khodrosazi': 15, 'KanehayeFelezi': 16, 'FaniVaMohandesi': 16, 'ChandReshteSanati': 16, 'paper': 16, 'EntesharVaChap': 17, 'Shimiyaee': 17, 'Bimeh': 17, 'FaravardehayeNafti': 18, 'Brent Oil': 18, 'VasayelErtebati': 19, 'DastgahayeBargi': 19, 'Wood': 19, 'EstekrajeNaft': 20, 'FelezateAsasi': 20, 'GhandVaShekar': 21, 'M1': 23, 'M2': 24, 'Euro': 25, 'CoalMining': 25, 'Mansojat': 25, 'SayerMadan': 26, 'GDP': 27, 'Coin': 29, 'CPI': 29, 'Gold': 29, 'HOUSE': 29, 'USD': 30, 'AbzaralatePezeshki': 45},\n",
       "      dtype=object)"
      ]
     },
     "execution_count": 141,
     "metadata": {},
     "output_type": "execute_result"
    }
   ],
   "source": [
    "b32_1 = dict(nx.degree(crossed_network_ThreeReg_Ox_1_98_last100))\n",
    "b32_1 = np.array(dict(sorted(b32_1.items(), key=lambda item: item[1])))\n",
    "b32_1"
   ]
  },
  {
   "cell_type": "code",
   "execution_count": 142,
   "id": "e245eff4-6f69-4884-a721-6241a78a6857",
   "metadata": {},
   "outputs": [],
   "source": [
    "nm.get_network_features(crossed_network_ThreeReg_Ox_1_98_last100).to_csv('Excels/32_1.csv')"
   ]
  },
  {
   "cell_type": "code",
   "execution_count": 143,
   "id": "0a96cad2-3dd7-40d3-aa3b-13e2b63e54b2",
   "metadata": {},
   "outputs": [],
   "source": [
    "crossed_network_ThreeReg_Ox_2_98_last100 = nm.construct_network(tehran_df_ThreeReg_Ox_2_same_length_98[-100:], method='crossed_100', threshold=thr32)"
   ]
  },
  {
   "cell_type": "code",
   "execution_count": 144,
   "id": "9b7baa8b-d1bd-4d7f-a198-da6c46fe5fd8",
   "metadata": {},
   "outputs": [
    {
     "data": {
      "text/html": [
       "<div>\n",
       "<style scoped>\n",
       "    .dataframe tbody tr th:only-of-type {\n",
       "        vertical-align: middle;\n",
       "    }\n",
       "\n",
       "    .dataframe tbody tr th {\n",
       "        vertical-align: top;\n",
       "    }\n",
       "\n",
       "    .dataframe thead th {\n",
       "        text-align: right;\n",
       "    }\n",
       "</style>\n",
       "<table border=\"1\" class=\"dataframe\">\n",
       "  <thead>\n",
       "    <tr style=\"text-align: right;\">\n",
       "      <th></th>\n",
       "      <th>radius</th>\n",
       "      <th>diameter</th>\n",
       "      <th>densities</th>\n",
       "      <th>number_of_edges</th>\n",
       "      <th>average_clustering</th>\n",
       "      <th>avg_degree_centrality</th>\n",
       "      <th>avg_betweenness_centrality</th>\n",
       "      <th>avg_closeness_centrality</th>\n",
       "      <th>average_shortest_path_length</th>\n",
       "    </tr>\n",
       "  </thead>\n",
       "  <tbody>\n",
       "    <tr>\n",
       "      <th>0</th>\n",
       "      <td>2</td>\n",
       "      <td>3</td>\n",
       "      <td>0.301449</td>\n",
       "      <td>312</td>\n",
       "      <td>0.424353</td>\n",
       "      <td>0.301449</td>\n",
       "      <td>0.016096</td>\n",
       "      <td>0.591877</td>\n",
       "      <td>1.708213</td>\n",
       "    </tr>\n",
       "  </tbody>\n",
       "</table>\n",
       "</div>"
      ],
      "text/plain": [
       "   radius  diameter  densities  number_of_edges  average_clustering  \\\n",
       "0       2         3   0.301449              312            0.424353   \n",
       "\n",
       "   avg_degree_centrality  avg_betweenness_centrality  \\\n",
       "0               0.301449                    0.016096   \n",
       "\n",
       "   avg_closeness_centrality  average_shortest_path_length  \n",
       "0                  0.591877                      1.708213  "
      ]
     },
     "execution_count": 144,
     "metadata": {},
     "output_type": "execute_result"
    }
   ],
   "source": [
    "nm.get_network_features(crossed_network_ThreeReg_Ox_2_98_last100)"
   ]
  },
  {
   "cell_type": "code",
   "execution_count": 145,
   "id": "387af827-01c3-4a9c-ad12-48f5ea214b41",
   "metadata": {},
   "outputs": [
    {
     "data": {
      "text/plain": [
       "array({'Lastic': 3, 'SarmayeGozari': 3, 'SayerMadan': 3, 'MashinAlat': 4, 'SayerMali': 6, 'KanehayeGeyreFelezi': 7, 'Amlakva': 7, 'Mali': 7, 'DastgahayeBargi': 8, 'khodrosazi': 8, 'FaniVaMohandesi': 8, 'HOUSE': 9, 'MahsolateFelezi': 9, 'Bimeh': 9, 'EstekrajeNaft': 9, 'GhandVaShekar': 10, 'GazaeeBejozGhand': 10, 'KashiVaSeramik': 10, 'Rayaneh': 10, 'VasayelErtebati': 11, 'index': 12, 'Agriculture': 12, 'EntesharVaChap': 13, 'Bank': 13, 'HamlVaNaghl': 13, 'paper': 13, 'Wood': 14, 'Daroee': 14, 'GDP': 14, 'Gold': 15, 'Siman': 15, 'KanehayeFelezi': 16, 'AbzaralatePezeshki': 17, 'Coin': 18, 'USD': 18, 'CPI': 18, 'Shimiyaee': 18, 'FelezateAsasi': 18, 'CoalMining': 19, 'M1': 20, 'Euro': 21, 'FaravardehayeNafti': 22, 'ChandReshteSanati': 22, 'Mansojat': 28, 'M2': 34, 'Brent Oil': 36},\n",
       "      dtype=object)"
      ]
     },
     "execution_count": 145,
     "metadata": {},
     "output_type": "execute_result"
    }
   ],
   "source": [
    "b32_2 = dict(nx.degree(crossed_network_ThreeReg_Ox_2_98_last100))\n",
    "b32_2 = np.array(dict(sorted(b32_2.items(), key=lambda item: item[1])))\n",
    "b32_2"
   ]
  },
  {
   "cell_type": "code",
   "execution_count": 146,
   "id": "7f0c3936-e958-4404-ad37-4ca76dc02928",
   "metadata": {},
   "outputs": [],
   "source": [
    "nm.get_network_features(crossed_network_ThreeReg_Ox_2_98_last100).to_csv('Excels/32_2.csv')"
   ]
  },
  {
   "cell_type": "code",
   "execution_count": 147,
   "id": "4d69fdb2-2378-44d9-b37a-08aeecc7127b",
   "metadata": {},
   "outputs": [],
   "source": [
    "crossed_network_ThreeReg_Ox_3_98_last100 = nm.construct_network(tehran_df_ThreeReg_Ox_3_same_length_98[-100:], method='crossed_100', threshold=thr32)"
   ]
  },
  {
   "cell_type": "code",
   "execution_count": 148,
   "id": "a4bc1fa9-4b25-408e-9b56-cf4f1652f166",
   "metadata": {},
   "outputs": [
    {
     "data": {
      "text/html": [
       "<div>\n",
       "<style scoped>\n",
       "    .dataframe tbody tr th:only-of-type {\n",
       "        vertical-align: middle;\n",
       "    }\n",
       "\n",
       "    .dataframe tbody tr th {\n",
       "        vertical-align: top;\n",
       "    }\n",
       "\n",
       "    .dataframe thead th {\n",
       "        text-align: right;\n",
       "    }\n",
       "</style>\n",
       "<table border=\"1\" class=\"dataframe\">\n",
       "  <thead>\n",
       "    <tr style=\"text-align: right;\">\n",
       "      <th></th>\n",
       "      <th>radius</th>\n",
       "      <th>diameter</th>\n",
       "      <th>densities</th>\n",
       "      <th>number_of_edges</th>\n",
       "      <th>average_clustering</th>\n",
       "      <th>avg_degree_centrality</th>\n",
       "      <th>avg_betweenness_centrality</th>\n",
       "      <th>avg_closeness_centrality</th>\n",
       "      <th>average_shortest_path_length</th>\n",
       "    </tr>\n",
       "  </thead>\n",
       "  <tbody>\n",
       "    <tr>\n",
       "      <th>0</th>\n",
       "      <td>1</td>\n",
       "      <td>2</td>\n",
       "      <td>0.331401</td>\n",
       "      <td>343</td>\n",
       "      <td>0.469397</td>\n",
       "      <td>0.331401</td>\n",
       "      <td>0.015195</td>\n",
       "      <td>0.607449</td>\n",
       "      <td>1.668599</td>\n",
       "    </tr>\n",
       "  </tbody>\n",
       "</table>\n",
       "</div>"
      ],
      "text/plain": [
       "   radius  diameter  densities  number_of_edges  average_clustering  \\\n",
       "0       1         2   0.331401              343            0.469397   \n",
       "\n",
       "   avg_degree_centrality  avg_betweenness_centrality  \\\n",
       "0               0.331401                    0.015195   \n",
       "\n",
       "   avg_closeness_centrality  average_shortest_path_length  \n",
       "0                  0.607449                      1.668599  "
      ]
     },
     "execution_count": 148,
     "metadata": {},
     "output_type": "execute_result"
    }
   ],
   "source": [
    "nm.get_network_features(crossed_network_ThreeReg_Ox_3_98_last100)"
   ]
  },
  {
   "cell_type": "code",
   "execution_count": 149,
   "id": "ce7854f6-fb7f-405a-b0dc-271373f51afe",
   "metadata": {},
   "outputs": [
    {
     "data": {
      "text/plain": [
       "array({'Coin': 5, 'SayerMali': 7, 'Bimeh': 7, 'KashiVaSeramik': 8, 'KanehayeGeyreFelezi': 8, 'paper': 8, 'HamlVaNaghl': 8, 'index': 9, 'MashinAlat': 9, 'SarmayeGozari': 9, 'Lastic': 9, 'ChandReshteSanati': 10, 'MahsolateFelezi': 10, 'GazaeeBejozGhand': 10, 'Amlakva': 10, 'Rayaneh': 10, 'M1': 11, 'Daroee': 11, 'FaniVaMohandesi': 11, 'Mali': 11, 'GhandVaShekar': 11, 'USD': 12, 'Shimiyaee': 12, 'Siman': 12, 'FaravardehayeNafti': 13, 'FelezateAsasi': 13, 'khodrosazi': 14, 'DastgahayeBargi': 15, 'HOUSE': 16, 'CoalMining': 16, 'Mansojat': 17, 'KanehayeFelezi': 17, 'Bank': 17, 'Agriculture': 18, 'VasayelErtebati': 18, 'EstekrajeNaft': 18, 'Euro': 19, 'SayerMadan': 21, 'Wood': 22, 'Brent Oil': 23, 'Gold': 23, 'M2': 24, 'CPI': 25, 'EntesharVaChap': 30, 'GDP': 34, 'AbzaralatePezeshki': 45},\n",
       "      dtype=object)"
      ]
     },
     "execution_count": 149,
     "metadata": {},
     "output_type": "execute_result"
    }
   ],
   "source": [
    "b32_3 = dict(nx.degree(crossed_network_ThreeReg_Ox_3_98_last100))\n",
    "b32_3 = np.array(dict(sorted(b32_3.items(), key=lambda item: item[1])))\n",
    "b32_3"
   ]
  },
  {
   "cell_type": "code",
   "execution_count": 150,
   "id": "26136234-7122-40bd-8a11-c1d5d0df40b7",
   "metadata": {},
   "outputs": [],
   "source": [
    "nm.get_network_features(crossed_network_ThreeReg_Ox_3_98_last100).to_csv('Excels/32_3.csv')"
   ]
  },
  {
   "cell_type": "markdown",
   "id": "3d731243-2b73-472b-bf1a-50fe7d1725a6",
   "metadata": {},
   "source": [
    "# 33) Tehran 3 Regime Crossed (Based on Median Threshold) Period of 90 Far - 98 Dey/ 50 windows of 100 Records"
   ]
  },
  {
   "cell_type": "code",
   "execution_count": 151,
   "id": "f154b2bb-e99f-4ede-a1dc-b4ffe662fd60",
   "metadata": {
    "tags": []
   },
   "outputs": [
    {
     "name": "stderr",
     "output_type": "stream",
     "text": [
      "/Users/hossein4527/MEGA/MEGAsync/Commit/Neda_PhD/neda_sep2023/Time_Series_Trend_Forcasting/Codes/Shifted DF by Lags/ned.py:1106: SettingWithCopyWarning: \n",
      "A value is trying to be set on a copy of a slice from a DataFrame.\n",
      "Try using .loc[row_indexer,col_indexer] = value instead\n",
      "\n",
      "See the caveats in the documentation: https://pandas.pydata.org/pandas-docs/stable/user_guide/indexing.html#returning-a-view-versus-a-copy\n",
      "  df['selected_regimes'] = regimes_column\n"
     ]
    },
    {
     "name": "stdout",
     "output_type": "stream",
     "text": [
      "Number of columns data in our DataFrame is = 46\n",
      "fixed_thr= 0.72\n"
     ]
    }
   ],
   "source": [
    "nm = Net_moduls()\n",
    "crossed_network_ThreeReg_Ox_1_98_averged = nm.get_network_features_averaged_median(tehran_df, regimes_column = tehran_df_reg.iloc[:-300]['Ox_3'],method='crossed_100',edges_threshold=200, target_window=100, target_length=50)"
   ]
  },
  {
   "cell_type": "code",
   "execution_count": 152,
   "id": "c2e0e335-f476-4893-ac8e-390357b287cf",
   "metadata": {},
   "outputs": [
    {
     "data": {
      "text/html": [
       "<div>\n",
       "<style scoped>\n",
       "    .dataframe tbody tr th:only-of-type {\n",
       "        vertical-align: middle;\n",
       "    }\n",
       "\n",
       "    .dataframe tbody tr th {\n",
       "        vertical-align: top;\n",
       "    }\n",
       "\n",
       "    .dataframe thead th {\n",
       "        text-align: right;\n",
       "    }\n",
       "</style>\n",
       "<table border=\"1\" class=\"dataframe\">\n",
       "  <thead>\n",
       "    <tr style=\"text-align: right;\">\n",
       "      <th></th>\n",
       "      <th>radius</th>\n",
       "      <th>diameter</th>\n",
       "      <th>densities</th>\n",
       "      <th>number_of_edges</th>\n",
       "      <th>average_clustering</th>\n",
       "      <th>avg_degree_centrality</th>\n",
       "      <th>avg_betweenness_centrality</th>\n",
       "      <th>avg_closeness_centrality</th>\n",
       "      <th>average_shortest_path_length</th>\n",
       "    </tr>\n",
       "  </thead>\n",
       "  <tbody>\n",
       "    <tr>\n",
       "      <th>Means</th>\n",
       "      <td>1.000000</td>\n",
       "      <td>2.000000</td>\n",
       "      <td>0.290126</td>\n",
       "      <td>300.280000</td>\n",
       "      <td>0.421531</td>\n",
       "      <td>0.290126</td>\n",
       "      <td>0.016134</td>\n",
       "      <td>0.591148</td>\n",
       "      <td>1.709874</td>\n",
       "    </tr>\n",
       "    <tr>\n",
       "      <th>STDs</th>\n",
       "      <td>0.000000</td>\n",
       "      <td>0.000000</td>\n",
       "      <td>0.028360</td>\n",
       "      <td>29.352912</td>\n",
       "      <td>0.014050</td>\n",
       "      <td>0.028360</td>\n",
       "      <td>0.000645</td>\n",
       "      <td>0.009571</td>\n",
       "      <td>0.028360</td>\n",
       "    </tr>\n",
       "    <tr>\n",
       "      <th>Means</th>\n",
       "      <td>2.160000</td>\n",
       "      <td>3.580000</td>\n",
       "      <td>0.204504</td>\n",
       "      <td>210.760000</td>\n",
       "      <td>0.223995</td>\n",
       "      <td>0.204504</td>\n",
       "      <td>0.021237</td>\n",
       "      <td>0.523624</td>\n",
       "      <td>1.932216</td>\n",
       "    </tr>\n",
       "    <tr>\n",
       "      <th>STDs</th>\n",
       "      <td>0.370328</td>\n",
       "      <td>0.498569</td>\n",
       "      <td>0.012485</td>\n",
       "      <td>13.490072</td>\n",
       "      <td>0.026493</td>\n",
       "      <td>0.012485</td>\n",
       "      <td>0.001139</td>\n",
       "      <td>0.012341</td>\n",
       "      <td>0.048756</td>\n",
       "    </tr>\n",
       "    <tr>\n",
       "      <th>Means</th>\n",
       "      <td>1.000000</td>\n",
       "      <td>2.000000</td>\n",
       "      <td>0.198667</td>\n",
       "      <td>205.620000</td>\n",
       "      <td>0.501570</td>\n",
       "      <td>0.198667</td>\n",
       "      <td>0.018212</td>\n",
       "      <td>0.562578</td>\n",
       "      <td>1.801333</td>\n",
       "    </tr>\n",
       "    <tr>\n",
       "      <th>STDs</th>\n",
       "      <td>0.000000</td>\n",
       "      <td>0.000000</td>\n",
       "      <td>0.053510</td>\n",
       "      <td>55.382857</td>\n",
       "      <td>0.050380</td>\n",
       "      <td>0.053510</td>\n",
       "      <td>0.001216</td>\n",
       "      <td>0.016852</td>\n",
       "      <td>0.053510</td>\n",
       "    </tr>\n",
       "  </tbody>\n",
       "</table>\n",
       "</div>"
      ],
      "text/plain": [
       "         radius  diameter  densities  number_of_edges  average_clustering  \\\n",
       "Means  1.000000  2.000000   0.290126       300.280000            0.421531   \n",
       "STDs   0.000000  0.000000   0.028360        29.352912            0.014050   \n",
       "Means  2.160000  3.580000   0.204504       210.760000            0.223995   \n",
       "STDs   0.370328  0.498569   0.012485        13.490072            0.026493   \n",
       "Means  1.000000  2.000000   0.198667       205.620000            0.501570   \n",
       "STDs   0.000000  0.000000   0.053510        55.382857            0.050380   \n",
       "\n",
       "       avg_degree_centrality  avg_betweenness_centrality  \\\n",
       "Means               0.290126                    0.016134   \n",
       "STDs                0.028360                    0.000645   \n",
       "Means               0.204504                    0.021237   \n",
       "STDs                0.012485                    0.001139   \n",
       "Means               0.198667                    0.018212   \n",
       "STDs                0.053510                    0.001216   \n",
       "\n",
       "       avg_closeness_centrality  average_shortest_path_length  \n",
       "Means                  0.591148                      1.709874  \n",
       "STDs                   0.009571                      0.028360  \n",
       "Means                  0.523624                      1.932216  \n",
       "STDs                   0.012341                      0.048756  \n",
       "Means                  0.562578                      1.801333  \n",
       "STDs                   0.016852                      0.053510  "
      ]
     },
     "execution_count": 152,
     "metadata": {},
     "output_type": "execute_result"
    }
   ],
   "source": [
    "crossed_network_ThreeReg_Ox_1_98_averged"
   ]
  },
  {
   "cell_type": "code",
   "execution_count": 153,
   "id": "d0cc4853-1b1a-45f1-a7e0-3cafe8bbdaf8",
   "metadata": {},
   "outputs": [],
   "source": [
    "crossed_network_ThreeReg_Ox_1_98_averged.to_csv('Excels/33.csv')"
   ]
  },
  {
   "cell_type": "markdown",
   "id": "470c7509-087d-4524-b151-450c957adca4",
   "metadata": {},
   "source": [
    "# 34) Tehran 3 Regime Crossed (Based on Median Threshold) Period of 90 Far - 00 Far/ 50 windows of 100 Records"
   ]
  },
  {
   "cell_type": "code",
   "execution_count": 154,
   "id": "937dc553-b0d9-4ba9-b4ba-8c67c4a4d3bd",
   "metadata": {
    "tags": []
   },
   "outputs": [
    {
     "name": "stdout",
     "output_type": "stream",
     "text": [
      "Number of columns data in our DataFrame is = 46\n",
      "fixed_thr= 0.64\n"
     ]
    }
   ],
   "source": [
    "nm = Net_moduls()\n",
    "crossed_network_ThreeReg_Ox_90_00_averged = nm.get_network_features_averaged_median(tehran_df_completeDates, regimes_column= tehran_df_reg['Ox_3'],method='crossed_100',edges_threshold=200, target_window=100, target_length=50)"
   ]
  },
  {
   "cell_type": "code",
   "execution_count": 155,
   "id": "eb6888e2-1bc8-438e-82fa-1311e3dba92f",
   "metadata": {},
   "outputs": [
    {
     "data": {
      "text/html": [
       "<div>\n",
       "<style scoped>\n",
       "    .dataframe tbody tr th:only-of-type {\n",
       "        vertical-align: middle;\n",
       "    }\n",
       "\n",
       "    .dataframe tbody tr th {\n",
       "        vertical-align: top;\n",
       "    }\n",
       "\n",
       "    .dataframe thead th {\n",
       "        text-align: right;\n",
       "    }\n",
       "</style>\n",
       "<table border=\"1\" class=\"dataframe\">\n",
       "  <thead>\n",
       "    <tr style=\"text-align: right;\">\n",
       "      <th></th>\n",
       "      <th>radius</th>\n",
       "      <th>diameter</th>\n",
       "      <th>densities</th>\n",
       "      <th>number_of_edges</th>\n",
       "      <th>average_clustering</th>\n",
       "      <th>avg_degree_centrality</th>\n",
       "      <th>avg_betweenness_centrality</th>\n",
       "      <th>avg_closeness_centrality</th>\n",
       "      <th>average_shortest_path_length</th>\n",
       "    </tr>\n",
       "  </thead>\n",
       "  <tbody>\n",
       "    <tr>\n",
       "      <th>Means</th>\n",
       "      <td>1.000000</td>\n",
       "      <td>2.000000</td>\n",
       "      <td>0.335807</td>\n",
       "      <td>347.560000</td>\n",
       "      <td>0.447134</td>\n",
       "      <td>0.335807</td>\n",
       "      <td>0.015095</td>\n",
       "      <td>0.608442</td>\n",
       "      <td>1.664193</td>\n",
       "    </tr>\n",
       "    <tr>\n",
       "      <th>STDs</th>\n",
       "      <td>0.000000</td>\n",
       "      <td>0.000000</td>\n",
       "      <td>0.022018</td>\n",
       "      <td>22.788432</td>\n",
       "      <td>0.020712</td>\n",
       "      <td>0.022018</td>\n",
       "      <td>0.000500</td>\n",
       "      <td>0.007915</td>\n",
       "      <td>0.022018</td>\n",
       "    </tr>\n",
       "    <tr>\n",
       "      <th>Means</th>\n",
       "      <td>1.540000</td>\n",
       "      <td>2.540000</td>\n",
       "      <td>0.276773</td>\n",
       "      <td>286.460000</td>\n",
       "      <td>0.399367</td>\n",
       "      <td>0.276773</td>\n",
       "      <td>0.016815</td>\n",
       "      <td>0.582236</td>\n",
       "      <td>1.739865</td>\n",
       "    </tr>\n",
       "    <tr>\n",
       "      <th>STDs</th>\n",
       "      <td>0.503457</td>\n",
       "      <td>0.503457</td>\n",
       "      <td>0.016482</td>\n",
       "      <td>17.058375</td>\n",
       "      <td>0.065288</td>\n",
       "      <td>0.016482</td>\n",
       "      <td>0.000611</td>\n",
       "      <td>0.010152</td>\n",
       "      <td>0.026880</td>\n",
       "    </tr>\n",
       "    <tr>\n",
       "      <th>Means</th>\n",
       "      <td>1.400000</td>\n",
       "      <td>2.300000</td>\n",
       "      <td>0.330783</td>\n",
       "      <td>342.360000</td>\n",
       "      <td>0.443743</td>\n",
       "      <td>0.330783</td>\n",
       "      <td>0.015241</td>\n",
       "      <td>0.607586</td>\n",
       "      <td>1.670609</td>\n",
       "    </tr>\n",
       "    <tr>\n",
       "      <th>STDs</th>\n",
       "      <td>0.494872</td>\n",
       "      <td>0.462910</td>\n",
       "      <td>0.020237</td>\n",
       "      <td>20.945761</td>\n",
       "      <td>0.057962</td>\n",
       "      <td>0.020237</td>\n",
       "      <td>0.000505</td>\n",
       "      <td>0.009815</td>\n",
       "      <td>0.022222</td>\n",
       "    </tr>\n",
       "  </tbody>\n",
       "</table>\n",
       "</div>"
      ],
      "text/plain": [
       "         radius  diameter  densities  number_of_edges  average_clustering  \\\n",
       "Means  1.000000  2.000000   0.335807       347.560000            0.447134   \n",
       "STDs   0.000000  0.000000   0.022018        22.788432            0.020712   \n",
       "Means  1.540000  2.540000   0.276773       286.460000            0.399367   \n",
       "STDs   0.503457  0.503457   0.016482        17.058375            0.065288   \n",
       "Means  1.400000  2.300000   0.330783       342.360000            0.443743   \n",
       "STDs   0.494872  0.462910   0.020237        20.945761            0.057962   \n",
       "\n",
       "       avg_degree_centrality  avg_betweenness_centrality  \\\n",
       "Means               0.335807                    0.015095   \n",
       "STDs                0.022018                    0.000500   \n",
       "Means               0.276773                    0.016815   \n",
       "STDs                0.016482                    0.000611   \n",
       "Means               0.330783                    0.015241   \n",
       "STDs                0.020237                    0.000505   \n",
       "\n",
       "       avg_closeness_centrality  average_shortest_path_length  \n",
       "Means                  0.608442                      1.664193  \n",
       "STDs                   0.007915                      0.022018  \n",
       "Means                  0.582236                      1.739865  \n",
       "STDs                   0.010152                      0.026880  \n",
       "Means                  0.607586                      1.670609  \n",
       "STDs                   0.009815                      0.022222  "
      ]
     },
     "execution_count": 155,
     "metadata": {},
     "output_type": "execute_result"
    }
   ],
   "source": [
    "crossed_network_ThreeReg_Ox_90_00_averged"
   ]
  },
  {
   "cell_type": "code",
   "execution_count": 156,
   "id": "ea22a342-696c-43b2-a37f-439eb6b491f9",
   "metadata": {},
   "outputs": [],
   "source": [
    "crossed_network_ThreeReg_Ox_90_00_averged.to_csv('Excels/34.csv')"
   ]
  },
  {
   "cell_type": "code",
   "execution_count": 159,
   "id": "45c8e108-2009-4dff-be8a-7367cacffd45",
   "metadata": {},
   "outputs": [
    {
     "data": {
      "text/html": [
       "<div>\n",
       "<style scoped>\n",
       "    .dataframe tbody tr th:only-of-type {\n",
       "        vertical-align: middle;\n",
       "    }\n",
       "\n",
       "    .dataframe tbody tr th {\n",
       "        vertical-align: top;\n",
       "    }\n",
       "\n",
       "    .dataframe thead th {\n",
       "        text-align: right;\n",
       "    }\n",
       "</style>\n",
       "<table border=\"1\" class=\"dataframe\">\n",
       "  <thead>\n",
       "    <tr style=\"text-align: right;\">\n",
       "      <th></th>\n",
       "      <th>index</th>\n",
       "      <th>Brent Oil</th>\n",
       "      <th>Coin</th>\n",
       "      <th>Euro</th>\n",
       "      <th>USD</th>\n",
       "      <th>CPI</th>\n",
       "      <th>HOUSE</th>\n",
       "      <th>M1</th>\n",
       "      <th>M2</th>\n",
       "      <th>GDP</th>\n",
       "      <th>Gold</th>\n",
       "    </tr>\n",
       "    <tr>\n",
       "      <th>date</th>\n",
       "      <th></th>\n",
       "      <th></th>\n",
       "      <th></th>\n",
       "      <th></th>\n",
       "      <th></th>\n",
       "      <th></th>\n",
       "      <th></th>\n",
       "      <th></th>\n",
       "      <th></th>\n",
       "      <th></th>\n",
       "      <th></th>\n",
       "    </tr>\n",
       "  </thead>\n",
       "  <tbody>\n",
       "    <tr>\n",
       "      <th>2011-10-02</th>\n",
       "      <td>-0.179492</td>\n",
       "      <td>-0.319013</td>\n",
       "      <td>-3.354332</td>\n",
       "      <td>-1.483339</td>\n",
       "      <td>-1.571298</td>\n",
       "      <td>-0.293929</td>\n",
       "      <td>-0.273998</td>\n",
       "      <td>-0.388475</td>\n",
       "      <td>-0.537026</td>\n",
       "      <td>-0.235183</td>\n",
       "      <td>-2.754571</td>\n",
       "    </tr>\n",
       "    <tr>\n",
       "      <th>2011-10-03</th>\n",
       "      <td>0.162760</td>\n",
       "      <td>-0.906134</td>\n",
       "      <td>0.359385</td>\n",
       "      <td>0.143615</td>\n",
       "      <td>1.224411</td>\n",
       "      <td>-0.299029</td>\n",
       "      <td>-0.270530</td>\n",
       "      <td>-0.382324</td>\n",
       "      <td>-0.530953</td>\n",
       "      <td>-0.233062</td>\n",
       "      <td>1.701620</td>\n",
       "    </tr>\n",
       "    <tr>\n",
       "      <th>2011-10-04</th>\n",
       "      <td>0.210159</td>\n",
       "      <td>1.408571</td>\n",
       "      <td>1.594201</td>\n",
       "      <td>0.142806</td>\n",
       "      <td>0.356289</td>\n",
       "      <td>-0.304123</td>\n",
       "      <td>-0.267065</td>\n",
       "      <td>-0.376166</td>\n",
       "      <td>-0.524886</td>\n",
       "      <td>-0.230935</td>\n",
       "      <td>0.757562</td>\n",
       "    </tr>\n",
       "    <tr>\n",
       "      <th>2011-10-05</th>\n",
       "      <td>0.015771</td>\n",
       "      <td>0.972773</td>\n",
       "      <td>0.016747</td>\n",
       "      <td>0.315517</td>\n",
       "      <td>-0.194052</td>\n",
       "      <td>0.422829</td>\n",
       "      <td>-0.067669</td>\n",
       "      <td>-0.547604</td>\n",
       "      <td>-0.085101</td>\n",
       "      <td>-0.449915</td>\n",
       "      <td>0.572314</td>\n",
       "    </tr>\n",
       "    <tr>\n",
       "      <th>2011-10-08</th>\n",
       "      <td>-0.295767</td>\n",
       "      <td>0.953933</td>\n",
       "      <td>-0.555343</td>\n",
       "      <td>-0.379704</td>\n",
       "      <td>-0.151980</td>\n",
       "      <td>-0.324425</td>\n",
       "      <td>-0.253238</td>\n",
       "      <td>-0.351482</td>\n",
       "      <td>-0.500673</td>\n",
       "      <td>-0.222377</td>\n",
       "      <td>0.569226</td>\n",
       "    </tr>\n",
       "    <tr>\n",
       "      <th>...</th>\n",
       "      <td>...</td>\n",
       "      <td>...</td>\n",
       "      <td>...</td>\n",
       "      <td>...</td>\n",
       "      <td>...</td>\n",
       "      <td>...</td>\n",
       "      <td>...</td>\n",
       "      <td>...</td>\n",
       "      <td>...</td>\n",
       "      <td>...</td>\n",
       "      <td>...</td>\n",
       "    </tr>\n",
       "    <tr>\n",
       "      <th>2021-03-10</th>\n",
       "      <td>1.509570</td>\n",
       "      <td>0.768379</td>\n",
       "      <td>1.266381</td>\n",
       "      <td>-0.363828</td>\n",
       "      <td>-0.208358</td>\n",
       "      <td>0.504698</td>\n",
       "      <td>1.967544</td>\n",
       "      <td>1.637298</td>\n",
       "      <td>3.549281</td>\n",
       "      <td>0.131392</td>\n",
       "      <td>0.224808</td>\n",
       "    </tr>\n",
       "    <tr>\n",
       "      <th>2021-03-13</th>\n",
       "      <td>0.998368</td>\n",
       "      <td>-0.089893</td>\n",
       "      <td>-0.626747</td>\n",
       "      <td>0.145099</td>\n",
       "      <td>-0.635273</td>\n",
       "      <td>-0.295055</td>\n",
       "      <td>0.432025</td>\n",
       "      <td>0.371033</td>\n",
       "      <td>0.725208</td>\n",
       "      <td>-0.032132</td>\n",
       "      <td>0.224308</td>\n",
       "    </tr>\n",
       "    <tr>\n",
       "      <th>2021-03-14</th>\n",
       "      <td>0.499699</td>\n",
       "      <td>-0.090105</td>\n",
       "      <td>0.241161</td>\n",
       "      <td>-0.056352</td>\n",
       "      <td>-0.067326</td>\n",
       "      <td>-0.299074</td>\n",
       "      <td>0.438807</td>\n",
       "      <td>0.374280</td>\n",
       "      <td>0.738321</td>\n",
       "      <td>-0.031751</td>\n",
       "      <td>0.098232</td>\n",
       "    </tr>\n",
       "    <tr>\n",
       "      <th>2021-03-15</th>\n",
       "      <td>2.410208</td>\n",
       "      <td>-0.409926</td>\n",
       "      <td>-0.064675</td>\n",
       "      <td>0.508213</td>\n",
       "      <td>0.309079</td>\n",
       "      <td>-0.303089</td>\n",
       "      <td>0.445527</td>\n",
       "      <td>0.377506</td>\n",
       "      <td>0.751345</td>\n",
       "      <td>-0.031371</td>\n",
       "      <td>-0.247621</td>\n",
       "    </tr>\n",
       "    <tr>\n",
       "      <th>2021-03-16</th>\n",
       "      <td>1.042191</td>\n",
       "      <td>-0.222048</td>\n",
       "      <td>-0.064675</td>\n",
       "      <td>-0.740139</td>\n",
       "      <td>-0.174283</td>\n",
       "      <td>-0.307097</td>\n",
       "      <td>0.452187</td>\n",
       "      <td>0.380711</td>\n",
       "      <td>0.764280</td>\n",
       "      <td>-0.030992</td>\n",
       "      <td>0.330849</td>\n",
       "    </tr>\n",
       "  </tbody>\n",
       "</table>\n",
       "<p>2273 rows × 11 columns</p>\n",
       "</div>"
      ],
      "text/plain": [
       "               index  Brent Oil      Coin      Euro       USD       CPI  \\\n",
       "date                                                                      \n",
       "2011-10-02 -0.179492  -0.319013 -3.354332 -1.483339 -1.571298 -0.293929   \n",
       "2011-10-03  0.162760  -0.906134  0.359385  0.143615  1.224411 -0.299029   \n",
       "2011-10-04  0.210159   1.408571  1.594201  0.142806  0.356289 -0.304123   \n",
       "2011-10-05  0.015771   0.972773  0.016747  0.315517 -0.194052  0.422829   \n",
       "2011-10-08 -0.295767   0.953933 -0.555343 -0.379704 -0.151980 -0.324425   \n",
       "...              ...        ...       ...       ...       ...       ...   \n",
       "2021-03-10  1.509570   0.768379  1.266381 -0.363828 -0.208358  0.504698   \n",
       "2021-03-13  0.998368  -0.089893 -0.626747  0.145099 -0.635273 -0.295055   \n",
       "2021-03-14  0.499699  -0.090105  0.241161 -0.056352 -0.067326 -0.299074   \n",
       "2021-03-15  2.410208  -0.409926 -0.064675  0.508213  0.309079 -0.303089   \n",
       "2021-03-16  1.042191  -0.222048 -0.064675 -0.740139 -0.174283 -0.307097   \n",
       "\n",
       "               HOUSE        M1        M2       GDP      Gold  \n",
       "date                                                          \n",
       "2011-10-02 -0.273998 -0.388475 -0.537026 -0.235183 -2.754571  \n",
       "2011-10-03 -0.270530 -0.382324 -0.530953 -0.233062  1.701620  \n",
       "2011-10-04 -0.267065 -0.376166 -0.524886 -0.230935  0.757562  \n",
       "2011-10-05 -0.067669 -0.547604 -0.085101 -0.449915  0.572314  \n",
       "2011-10-08 -0.253238 -0.351482 -0.500673 -0.222377  0.569226  \n",
       "...              ...       ...       ...       ...       ...  \n",
       "2021-03-10  1.967544  1.637298  3.549281  0.131392  0.224808  \n",
       "2021-03-13  0.432025  0.371033  0.725208 -0.032132  0.224308  \n",
       "2021-03-14  0.438807  0.374280  0.738321 -0.031751  0.098232  \n",
       "2021-03-15  0.445527  0.377506  0.751345 -0.031371 -0.247621  \n",
       "2021-03-16  0.452187  0.380711  0.764280 -0.030992  0.330849  \n",
       "\n",
       "[2273 rows x 11 columns]"
      ]
     },
     "execution_count": 159,
     "metadata": {},
     "output_type": "execute_result"
    }
   ],
   "source": [
    "tehran_df_reg[tehran_df_reg.columns[:11]]"
   ]
  },
  {
   "cell_type": "code",
   "execution_count": null,
   "id": "41661ba3-8048-4049-a8d4-9d9c85ec334d",
   "metadata": {},
   "outputs": [],
   "source": []
  },
  {
   "cell_type": "code",
   "execution_count": null,
   "id": "09f4565e-0aed-4a04-b390-1c533d018def",
   "metadata": {},
   "outputs": [],
   "source": []
  }
 ],
 "metadata": {
  "kernelspec": {
   "display_name": "Python 3 (ipykernel)",
   "language": "python",
   "name": "python3"
  },
  "language_info": {
   "codemirror_mode": {
    "name": "ipython",
    "version": 3
   },
   "file_extension": ".py",
   "mimetype": "text/x-python",
   "name": "python",
   "nbconvert_exporter": "python",
   "pygments_lexer": "ipython3",
   "version": "3.11.0"
  }
 },
 "nbformat": 4,
 "nbformat_minor": 5
}
