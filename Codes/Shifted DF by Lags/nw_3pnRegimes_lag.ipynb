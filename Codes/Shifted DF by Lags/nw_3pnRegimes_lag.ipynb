{
 "cells": [
  {
   "cell_type": "code",
   "execution_count": 1,
   "id": "9df9b137-c106-48b0-bec0-f8310cf49fe6",
   "metadata": {},
   "outputs": [],
   "source": [
    "from ned import Net_moduls\n",
    "import networkx as nx\n",
    "import numpy as np\n",
    "import pandas as pd\n",
    "import matplotlib.pyplot as plt"
   ]
  },
  {
   "cell_type": "markdown",
   "id": "c102abae-74b4-4a85-946d-b9faecf3cc47",
   "metadata": {},
   "source": [
    "# Data"
   ]
  },
  {
   "cell_type": "markdown",
   "id": "ca7ffdbb-ed51-4350-b647-1044f302e428",
   "metadata": {},
   "source": [
    "## Tehran Index DF and Tehran DF Normed Return 90 Far - 00 Far"
   ]
  },
  {
   "cell_type": "code",
   "execution_count": 2,
   "id": "41e7e57c-8e01-47e5-9ed6-fc957d7fbf46",
   "metadata": {},
   "outputs": [],
   "source": [
    "tehran_df_completeDates = pd.read_csv('../../Data/Tehran_df_shifted.csv').set_index('date')"
   ]
  },
  {
   "cell_type": "code",
   "execution_count": 3,
   "id": "16c1cef7-0a83-4ec1-a607-45ce62690590",
   "metadata": {},
   "outputs": [],
   "source": [
    "tehran_df_reg = pd.read_excel('../../Data/Tehran_Indexes_NormedReturned_Regimed.xlsx').set_index('date')"
   ]
  },
  {
   "cell_type": "code",
   "execution_count": 4,
   "id": "295454a8-2778-4d1c-86ef-5ceb7e475fd5",
   "metadata": {},
   "outputs": [],
   "source": [
    "tehran_df_reg = tehran_df_reg.loc[tehran_df_completeDates.index]"
   ]
  },
  {
   "cell_type": "code",
   "execution_count": 5,
   "id": "b63c8d57-a359-4529-8dd2-729ad347c60a",
   "metadata": {},
   "outputs": [],
   "source": [
    "tehran_df = tehran_df_completeDates.iloc[:-300]"
   ]
  },
  {
   "cell_type": "markdown",
   "id": "98e949cc-0b71-427e-9976-6708b4611365",
   "metadata": {},
   "source": [
    "## Tehran pn 3 Regimed DF Normed Return 90 Far - 98 Dey "
   ]
  },
  {
   "cell_type": "code",
   "execution_count": 6,
   "id": "61502455-13cb-41db-8adf-ce788523bb33",
   "metadata": {
    "tags": []
   },
   "outputs": [
    {
     "name": "stderr",
     "output_type": "stream",
     "text": [
      "/var/folders/mj/xw3m0dws3yq8j2md9n8j3g940000gn/T/ipykernel_2259/2437416516.py:1: UserWarning: Boolean Series key will be reindexed to match DataFrame index.\n",
      "  tehran_df_ThreeReg_pn_1_98 = tehran_df[tehran_df_reg.iloc[:-300]['3_PN']==1]\n",
      "/var/folders/mj/xw3m0dws3yq8j2md9n8j3g940000gn/T/ipykernel_2259/2437416516.py:2: UserWarning: Boolean Series key will be reindexed to match DataFrame index.\n",
      "  tehran_df_ThreeReg_pn_2_98 = tehran_df[tehran_df_reg.iloc[:-300]['3_PN']==2]\n",
      "/var/folders/mj/xw3m0dws3yq8j2md9n8j3g940000gn/T/ipykernel_2259/2437416516.py:3: UserWarning: Boolean Series key will be reindexed to match DataFrame index.\n",
      "  tehran_df_ThreeReg_pn_3_98 = tehran_df[tehran_df_reg.iloc[:-300]['3_PN']==3]\n"
     ]
    }
   ],
   "source": [
    "tehran_df_ThreeReg_pn_1_98 = tehran_df[tehran_df_reg.iloc[:-300]['3_PN']==1]\n",
    "tehran_df_ThreeReg_pn_2_98 = tehran_df[tehran_df_reg.iloc[:-300]['3_PN']==2]\n",
    "tehran_df_ThreeReg_pn_3_98 = tehran_df[tehran_df_reg.iloc[:-300]['3_PN']==3]"
   ]
  },
  {
   "cell_type": "markdown",
   "id": "2b92e63d-e8f5-4b35-a53a-297f910bd295",
   "metadata": {},
   "source": [
    "## Tehran pn 3 Regimed DF Normed Return 90 Far - 98 Dey / Same Length"
   ]
  },
  {
   "cell_type": "code",
   "execution_count": 7,
   "id": "12f13d9e-94fc-4c06-8a59-20f377b295b9",
   "metadata": {},
   "outputs": [],
   "source": [
    "max_length_ThreeReg_pn_90_98 = min(len(tehran_df_ThreeReg_pn_1_98), len(tehran_df_ThreeReg_pn_2_98),len(tehran_df_ThreeReg_pn_3_98))\n",
    "tehran_df_ThreeReg_pn_1_same_length_98 = tehran_df_ThreeReg_pn_1_98[-max_length_ThreeReg_pn_90_98:]\n",
    "tehran_df_ThreeReg_pn_2_same_length_98 = tehran_df_ThreeReg_pn_2_98[-max_length_ThreeReg_pn_90_98:]\n",
    "tehran_df_ThreeReg_pn_3_same_length_98 = tehran_df_ThreeReg_pn_3_98[-max_length_ThreeReg_pn_90_98:]"
   ]
  },
  {
   "cell_type": "markdown",
   "id": "4fc062f2-51aa-4281-a43c-6d8816dda5f4",
   "metadata": {},
   "source": [
    "## Tehran pn 3 Regimed DF Normed Return 90 Far - 1400 Dey "
   ]
  },
  {
   "cell_type": "code",
   "execution_count": 8,
   "id": "6c8a793a-0e6e-4cf3-98db-8f98542a668b",
   "metadata": {
    "tags": []
   },
   "outputs": [
    {
     "name": "stderr",
     "output_type": "stream",
     "text": [
      "/var/folders/mj/xw3m0dws3yq8j2md9n8j3g940000gn/T/ipykernel_2259/154603600.py:1: UserWarning: Boolean Series key will be reindexed to match DataFrame index.\n",
      "  tehran_df_ThreeReg_pn_1 = tehran_df_completeDates[tehran_df_reg['3_PN']==1]\n",
      "/var/folders/mj/xw3m0dws3yq8j2md9n8j3g940000gn/T/ipykernel_2259/154603600.py:2: UserWarning: Boolean Series key will be reindexed to match DataFrame index.\n",
      "  tehran_df_ThreeReg_pn_2 = tehran_df_completeDates[tehran_df_reg['3_PN']==2]\n",
      "/var/folders/mj/xw3m0dws3yq8j2md9n8j3g940000gn/T/ipykernel_2259/154603600.py:3: UserWarning: Boolean Series key will be reindexed to match DataFrame index.\n",
      "  tehran_df_ThreeReg_pn_3 = tehran_df_completeDates[tehran_df_reg['3_PN']==3]\n"
     ]
    }
   ],
   "source": [
    "tehran_df_ThreeReg_pn_1 = tehran_df_completeDates[tehran_df_reg['3_PN']==1]\n",
    "tehran_df_ThreeReg_pn_2 = tehran_df_completeDates[tehran_df_reg['3_PN']==2]\n",
    "tehran_df_ThreeReg_pn_3 = tehran_df_completeDates[tehran_df_reg['3_PN']==3]"
   ]
  },
  {
   "cell_type": "code",
   "execution_count": 9,
   "id": "5b12da39-b04d-423c-a549-3fbff21f6923",
   "metadata": {},
   "outputs": [],
   "source": [
    "max_length_ThreeReg_pn_90_00 = min(len(tehran_df_ThreeReg_pn_1), len(tehran_df_ThreeReg_pn_2),len(tehran_df_ThreeReg_pn_3))\n",
    "tehran_df_ThreeReg_pn_1_same_length = tehran_df_ThreeReg_pn_1[-max_length_ThreeReg_pn_90_00:]\n",
    "tehran_df_ThreeReg_pn_2_same_length = tehran_df_ThreeReg_pn_2[-max_length_ThreeReg_pn_90_00:]\n",
    "tehran_df_ThreeReg_pn_3_same_length = tehran_df_ThreeReg_pn_3[-max_length_ThreeReg_pn_90_00:]"
   ]
  },
  {
   "cell_type": "code",
   "execution_count": 10,
   "id": "ac63b974-0872-4844-b795-a54f18a87b0d",
   "metadata": {},
   "outputs": [
    {
     "data": {
      "text/html": [
       "<div>\n",
       "<style scoped>\n",
       "    .dataframe tbody tr th:only-of-type {\n",
       "        vertical-align: middle;\n",
       "    }\n",
       "\n",
       "    .dataframe tbody tr th {\n",
       "        vertical-align: top;\n",
       "    }\n",
       "\n",
       "    .dataframe thead th {\n",
       "        text-align: right;\n",
       "    }\n",
       "</style>\n",
       "<table border=\"1\" class=\"dataframe\">\n",
       "  <thead>\n",
       "    <tr style=\"text-align: right;\">\n",
       "      <th></th>\n",
       "      <th>index</th>\n",
       "      <th>Brent Oil</th>\n",
       "      <th>Coin</th>\n",
       "      <th>Euro</th>\n",
       "      <th>USD</th>\n",
       "      <th>CPI</th>\n",
       "      <th>HOUSE</th>\n",
       "      <th>M1</th>\n",
       "      <th>M2</th>\n",
       "      <th>GDP</th>\n",
       "      <th>...</th>\n",
       "      <th>SarmayeGozari</th>\n",
       "      <th>Bank</th>\n",
       "      <th>SayerMali</th>\n",
       "      <th>HamlVaNaghl</th>\n",
       "      <th>Bimeh</th>\n",
       "      <th>Amlakva</th>\n",
       "      <th>Rayaneh</th>\n",
       "      <th>FaniVaMohandesi</th>\n",
       "      <th>Mali</th>\n",
       "      <th>KanehayeFelezi</th>\n",
       "    </tr>\n",
       "    <tr>\n",
       "      <th>date</th>\n",
       "      <th></th>\n",
       "      <th></th>\n",
       "      <th></th>\n",
       "      <th></th>\n",
       "      <th></th>\n",
       "      <th></th>\n",
       "      <th></th>\n",
       "      <th></th>\n",
       "      <th></th>\n",
       "      <th></th>\n",
       "      <th></th>\n",
       "      <th></th>\n",
       "      <th></th>\n",
       "      <th></th>\n",
       "      <th></th>\n",
       "      <th></th>\n",
       "      <th></th>\n",
       "      <th></th>\n",
       "      <th></th>\n",
       "      <th></th>\n",
       "      <th></th>\n",
       "    </tr>\n",
       "  </thead>\n",
       "  <tbody>\n",
       "    <tr>\n",
       "      <th>10/15/2011</th>\n",
       "      <td>-1.427528</td>\n",
       "      <td>-0.154769</td>\n",
       "      <td>1.929599</td>\n",
       "      <td>1.283808</td>\n",
       "      <td>0.823000</td>\n",
       "      <td>-0.146875</td>\n",
       "      <td>-0.152730</td>\n",
       "      <td>-0.308129</td>\n",
       "      <td>-0.458530</td>\n",
       "      <td>-0.249878</td>\n",
       "      <td>...</td>\n",
       "      <td>-0.824620</td>\n",
       "      <td>-0.995873</td>\n",
       "      <td>-1.610357</td>\n",
       "      <td>-0.100456</td>\n",
       "      <td>-3.182340</td>\n",
       "      <td>-0.992774</td>\n",
       "      <td>-0.852081</td>\n",
       "      <td>-1.744509</td>\n",
       "      <td>-0.163060</td>\n",
       "      <td>-0.164473</td>\n",
       "    </tr>\n",
       "    <tr>\n",
       "      <th>10/18/2011</th>\n",
       "      <td>0.018831</td>\n",
       "      <td>0.450561</td>\n",
       "      <td>-0.555343</td>\n",
       "      <td>-0.095360</td>\n",
       "      <td>-0.292286</td>\n",
       "      <td>-0.380932</td>\n",
       "      <td>-0.157924</td>\n",
       "      <td>-0.289513</td>\n",
       "      <td>-0.440570</td>\n",
       "      <td>-0.494461</td>\n",
       "      <td>...</td>\n",
       "      <td>-0.222582</td>\n",
       "      <td>0.197165</td>\n",
       "      <td>0.197381</td>\n",
       "      <td>-0.141376</td>\n",
       "      <td>0.492029</td>\n",
       "      <td>-0.018167</td>\n",
       "      <td>1.761046</td>\n",
       "      <td>0.009189</td>\n",
       "      <td>0.024524</td>\n",
       "      <td>-0.159386</td>\n",
       "    </tr>\n",
       "    <tr>\n",
       "      <th>11/5/2011</th>\n",
       "      <td>-1.142269</td>\n",
       "      <td>0.130108</td>\n",
       "      <td>1.026079</td>\n",
       "      <td>-0.379435</td>\n",
       "      <td>0.451047</td>\n",
       "      <td>-0.089581</td>\n",
       "      <td>-0.161998</td>\n",
       "      <td>-0.174442</td>\n",
       "      <td>-0.518229</td>\n",
       "      <td>-0.205033</td>\n",
       "      <td>...</td>\n",
       "      <td>-0.688460</td>\n",
       "      <td>-1.136489</td>\n",
       "      <td>-0.883530</td>\n",
       "      <td>-0.051618</td>\n",
       "      <td>-0.342691</td>\n",
       "      <td>-0.622018</td>\n",
       "      <td>-2.362462</td>\n",
       "      <td>-0.998214</td>\n",
       "      <td>-0.164681</td>\n",
       "      <td>-0.184313</td>\n",
       "    </tr>\n",
       "    <tr>\n",
       "      <th>11/12/2011</th>\n",
       "      <td>-0.467127</td>\n",
       "      <td>-0.281745</td>\n",
       "      <td>-0.064675</td>\n",
       "      <td>-1.690201</td>\n",
       "      <td>-0.701475</td>\n",
       "      <td>1.139421</td>\n",
       "      <td>-0.163498</td>\n",
       "      <td>-0.132754</td>\n",
       "      <td>-0.570924</td>\n",
       "      <td>-0.266450</td>\n",
       "      <td>...</td>\n",
       "      <td>-0.478636</td>\n",
       "      <td>-0.228370</td>\n",
       "      <td>-0.326848</td>\n",
       "      <td>-0.089671</td>\n",
       "      <td>-0.247693</td>\n",
       "      <td>0.109238</td>\n",
       "      <td>-0.205781</td>\n",
       "      <td>-1.297671</td>\n",
       "      <td>-0.039422</td>\n",
       "      <td>-0.160613</td>\n",
       "    </tr>\n",
       "    <tr>\n",
       "      <th>11/21/2011</th>\n",
       "      <td>-1.318338</td>\n",
       "      <td>0.080139</td>\n",
       "      <td>0.320993</td>\n",
       "      <td>-0.514134</td>\n",
       "      <td>-0.480934</td>\n",
       "      <td>-0.067485</td>\n",
       "      <td>0.168680</td>\n",
       "      <td>1.286886</td>\n",
       "      <td>-1.988736</td>\n",
       "      <td>-0.171841</td>\n",
       "      <td>...</td>\n",
       "      <td>-1.550905</td>\n",
       "      <td>-0.907006</td>\n",
       "      <td>-1.400647</td>\n",
       "      <td>0.027331</td>\n",
       "      <td>-0.311883</td>\n",
       "      <td>-0.511977</td>\n",
       "      <td>-2.725152</td>\n",
       "      <td>-1.745972</td>\n",
       "      <td>-0.147686</td>\n",
       "      <td>-0.130539</td>\n",
       "    </tr>\n",
       "    <tr>\n",
       "      <th>...</th>\n",
       "      <td>...</td>\n",
       "      <td>...</td>\n",
       "      <td>...</td>\n",
       "      <td>...</td>\n",
       "      <td>...</td>\n",
       "      <td>...</td>\n",
       "      <td>...</td>\n",
       "      <td>...</td>\n",
       "      <td>...</td>\n",
       "      <td>...</td>\n",
       "      <td>...</td>\n",
       "      <td>...</td>\n",
       "      <td>...</td>\n",
       "      <td>...</td>\n",
       "      <td>...</td>\n",
       "      <td>...</td>\n",
       "      <td>...</td>\n",
       "      <td>...</td>\n",
       "      <td>...</td>\n",
       "      <td>...</td>\n",
       "      <td>...</td>\n",
       "    </tr>\n",
       "    <tr>\n",
       "      <th>10/23/2019</th>\n",
       "      <td>-0.843856</td>\n",
       "      <td>6.360542</td>\n",
       "      <td>-0.289956</td>\n",
       "      <td>-0.039733</td>\n",
       "      <td>-0.273512</td>\n",
       "      <td>0.011572</td>\n",
       "      <td>-0.597160</td>\n",
       "      <td>1.271181</td>\n",
       "      <td>0.956002</td>\n",
       "      <td>-0.584691</td>\n",
       "      <td>...</td>\n",
       "      <td>-0.885771</td>\n",
       "      <td>-1.051479</td>\n",
       "      <td>-1.023580</td>\n",
       "      <td>-0.552477</td>\n",
       "      <td>-0.044085</td>\n",
       "      <td>-1.832273</td>\n",
       "      <td>-0.854914</td>\n",
       "      <td>-0.232041</td>\n",
       "      <td>-0.139384</td>\n",
       "      <td>-0.188080</td>\n",
       "    </tr>\n",
       "    <tr>\n",
       "      <th>12/28/2019</th>\n",
       "      <td>0.361838</td>\n",
       "      <td>-0.582768</td>\n",
       "      <td>-0.245108</td>\n",
       "      <td>-0.270107</td>\n",
       "      <td>-0.090656</td>\n",
       "      <td>-0.464985</td>\n",
       "      <td>-0.375916</td>\n",
       "      <td>-0.134989</td>\n",
       "      <td>-0.189611</td>\n",
       "      <td>-0.166132</td>\n",
       "      <td>...</td>\n",
       "      <td>0.295963</td>\n",
       "      <td>0.192903</td>\n",
       "      <td>-0.477227</td>\n",
       "      <td>0.585298</td>\n",
       "      <td>-0.459029</td>\n",
       "      <td>-0.115032</td>\n",
       "      <td>1.589545</td>\n",
       "      <td>-0.212507</td>\n",
       "      <td>0.052458</td>\n",
       "      <td>-0.167227</td>\n",
       "    </tr>\n",
       "    <tr>\n",
       "      <th>2/14/2021</th>\n",
       "      <td>-0.653216</td>\n",
       "      <td>-0.244829</td>\n",
       "      <td>-0.574388</td>\n",
       "      <td>-0.454645</td>\n",
       "      <td>-0.474907</td>\n",
       "      <td>0.575987</td>\n",
       "      <td>-0.446868</td>\n",
       "      <td>0.275496</td>\n",
       "      <td>0.339433</td>\n",
       "      <td>-0.051162</td>\n",
       "      <td>...</td>\n",
       "      <td>-0.227302</td>\n",
       "      <td>-0.739972</td>\n",
       "      <td>-0.223896</td>\n",
       "      <td>-0.223870</td>\n",
       "      <td>-0.227192</td>\n",
       "      <td>-0.543626</td>\n",
       "      <td>-0.129704</td>\n",
       "      <td>-0.775746</td>\n",
       "      <td>-0.067114</td>\n",
       "      <td>-0.785917</td>\n",
       "    </tr>\n",
       "    <tr>\n",
       "      <th>3/8/2021</th>\n",
       "      <td>0.615497</td>\n",
       "      <td>-0.744114</td>\n",
       "      <td>0.626279</td>\n",
       "      <td>0.353793</td>\n",
       "      <td>0.335864</td>\n",
       "      <td>1.363293</td>\n",
       "      <td>-0.250790</td>\n",
       "      <td>0.354482</td>\n",
       "      <td>0.658333</td>\n",
       "      <td>-0.041864</td>\n",
       "      <td>...</td>\n",
       "      <td>-0.212191</td>\n",
       "      <td>0.451454</td>\n",
       "      <td>-0.152194</td>\n",
       "      <td>-0.285987</td>\n",
       "      <td>-0.546989</td>\n",
       "      <td>-0.300889</td>\n",
       "      <td>-0.304742</td>\n",
       "      <td>-0.089658</td>\n",
       "      <td>0.012090</td>\n",
       "      <td>0.456089</td>\n",
       "    </tr>\n",
       "    <tr>\n",
       "      <th>3/16/2021</th>\n",
       "      <td>1.042191</td>\n",
       "      <td>0.308643</td>\n",
       "      <td>0.825562</td>\n",
       "      <td>-0.198655</td>\n",
       "      <td>-0.077897</td>\n",
       "      <td>-0.188279</td>\n",
       "      <td>-0.182292</td>\n",
       "      <td>0.380711</td>\n",
       "      <td>0.764280</td>\n",
       "      <td>0.115138</td>\n",
       "      <td>...</td>\n",
       "      <td>-0.028163</td>\n",
       "      <td>1.340599</td>\n",
       "      <td>0.364056</td>\n",
       "      <td>-0.214809</td>\n",
       "      <td>0.555757</td>\n",
       "      <td>0.153641</td>\n",
       "      <td>0.338363</td>\n",
       "      <td>1.168402</td>\n",
       "      <td>0.099935</td>\n",
       "      <td>-0.155078</td>\n",
       "    </tr>\n",
       "  </tbody>\n",
       "</table>\n",
       "<p>121 rows × 46 columns</p>\n",
       "</div>"
      ],
      "text/plain": [
       "               index  Brent Oil      Coin      Euro       USD       CPI  \\\n",
       "date                                                                      \n",
       "10/15/2011 -1.427528  -0.154769  1.929599  1.283808  0.823000 -0.146875   \n",
       "10/18/2011  0.018831   0.450561 -0.555343 -0.095360 -0.292286 -0.380932   \n",
       "11/5/2011  -1.142269   0.130108  1.026079 -0.379435  0.451047 -0.089581   \n",
       "11/12/2011 -0.467127  -0.281745 -0.064675 -1.690201 -0.701475  1.139421   \n",
       "11/21/2011 -1.318338   0.080139  0.320993 -0.514134 -0.480934 -0.067485   \n",
       "...              ...        ...       ...       ...       ...       ...   \n",
       "10/23/2019 -0.843856   6.360542 -0.289956 -0.039733 -0.273512  0.011572   \n",
       "12/28/2019  0.361838  -0.582768 -0.245108 -0.270107 -0.090656 -0.464985   \n",
       "2/14/2021  -0.653216  -0.244829 -0.574388 -0.454645 -0.474907  0.575987   \n",
       "3/8/2021    0.615497  -0.744114  0.626279  0.353793  0.335864  1.363293   \n",
       "3/16/2021   1.042191   0.308643  0.825562 -0.198655 -0.077897 -0.188279   \n",
       "\n",
       "               HOUSE        M1        M2       GDP  ...  SarmayeGozari  \\\n",
       "date                                                ...                  \n",
       "10/15/2011 -0.152730 -0.308129 -0.458530 -0.249878  ...      -0.824620   \n",
       "10/18/2011 -0.157924 -0.289513 -0.440570 -0.494461  ...      -0.222582   \n",
       "11/5/2011  -0.161998 -0.174442 -0.518229 -0.205033  ...      -0.688460   \n",
       "11/12/2011 -0.163498 -0.132754 -0.570924 -0.266450  ...      -0.478636   \n",
       "11/21/2011  0.168680  1.286886 -1.988736 -0.171841  ...      -1.550905   \n",
       "...              ...       ...       ...       ...  ...            ...   \n",
       "10/23/2019 -0.597160  1.271181  0.956002 -0.584691  ...      -0.885771   \n",
       "12/28/2019 -0.375916 -0.134989 -0.189611 -0.166132  ...       0.295963   \n",
       "2/14/2021  -0.446868  0.275496  0.339433 -0.051162  ...      -0.227302   \n",
       "3/8/2021   -0.250790  0.354482  0.658333 -0.041864  ...      -0.212191   \n",
       "3/16/2021  -0.182292  0.380711  0.764280  0.115138  ...      -0.028163   \n",
       "\n",
       "                Bank  SayerMali  HamlVaNaghl     Bimeh   Amlakva   Rayaneh  \\\n",
       "date                                                                         \n",
       "10/15/2011 -0.995873  -1.610357    -0.100456 -3.182340 -0.992774 -0.852081   \n",
       "10/18/2011  0.197165   0.197381    -0.141376  0.492029 -0.018167  1.761046   \n",
       "11/5/2011  -1.136489  -0.883530    -0.051618 -0.342691 -0.622018 -2.362462   \n",
       "11/12/2011 -0.228370  -0.326848    -0.089671 -0.247693  0.109238 -0.205781   \n",
       "11/21/2011 -0.907006  -1.400647     0.027331 -0.311883 -0.511977 -2.725152   \n",
       "...              ...        ...          ...       ...       ...       ...   \n",
       "10/23/2019 -1.051479  -1.023580    -0.552477 -0.044085 -1.832273 -0.854914   \n",
       "12/28/2019  0.192903  -0.477227     0.585298 -0.459029 -0.115032  1.589545   \n",
       "2/14/2021  -0.739972  -0.223896    -0.223870 -0.227192 -0.543626 -0.129704   \n",
       "3/8/2021    0.451454  -0.152194    -0.285987 -0.546989 -0.300889 -0.304742   \n",
       "3/16/2021   1.340599   0.364056    -0.214809  0.555757  0.153641  0.338363   \n",
       "\n",
       "            FaniVaMohandesi      Mali  KanehayeFelezi  \n",
       "date                                                   \n",
       "10/15/2011        -1.744509 -0.163060       -0.164473  \n",
       "10/18/2011         0.009189  0.024524       -0.159386  \n",
       "11/5/2011         -0.998214 -0.164681       -0.184313  \n",
       "11/12/2011        -1.297671 -0.039422       -0.160613  \n",
       "11/21/2011        -1.745972 -0.147686       -0.130539  \n",
       "...                     ...       ...             ...  \n",
       "10/23/2019        -0.232041 -0.139384       -0.188080  \n",
       "12/28/2019        -0.212507  0.052458       -0.167227  \n",
       "2/14/2021         -0.775746 -0.067114       -0.785917  \n",
       "3/8/2021          -0.089658  0.012090        0.456089  \n",
       "3/16/2021          1.168402  0.099935       -0.155078  \n",
       "\n",
       "[121 rows x 46 columns]"
      ]
     },
     "execution_count": 10,
     "metadata": {},
     "output_type": "execute_result"
    }
   ],
   "source": [
    "tehran_df_ThreeReg_pn_2"
   ]
  },
  {
   "cell_type": "markdown",
   "id": "f7c51cc5-f605-4102-94ab-b6898693374e",
   "metadata": {},
   "source": [
    "# 35) Tehran 3 pn Regime Pearson (Based on Median Threshold) Period of 90 Far - 98 Dey"
   ]
  },
  {
   "cell_type": "code",
   "execution_count": 11,
   "id": "a560614e-f96e-4269-a910-d0af76efdf8c",
   "metadata": {},
   "outputs": [],
   "source": [
    "nm = Net_moduls()"
   ]
  },
  {
   "cell_type": "code",
   "execution_count": 27,
   "id": "8ebc87dc-9c3b-486d-9da3-e03c1a5cc87d",
   "metadata": {},
   "outputs": [
    {
     "data": {
      "text/plain": [
       "0.14466499519013434"
      ]
     },
     "execution_count": 27,
     "metadata": {},
     "output_type": "execute_result"
    }
   ],
   "source": [
    "thr35_1 = nm.find_median_pearson_threshold(tehran_df_ThreeReg_pn_1_same_length_98)\n",
    "thr35_2 = nm.find_median_pearson_threshold(tehran_df_ThreeReg_pn_2_same_length_98)\n",
    "thr35_3 = nm.find_median_pearson_threshold(tehran_df_ThreeReg_pn_3_same_length_98)\n",
    "\n",
    "thr35 = min(thr35_1, thr35_2, thr35_3)\n",
    "thr35"
   ]
  },
  {
   "cell_type": "code",
   "execution_count": 13,
   "id": "8da96d94-6f4a-4eb3-b5e8-5f08b80b9eef",
   "metadata": {},
   "outputs": [],
   "source": [
    "nm = Net_moduls()\n",
    "pearson_network_ThreeReg_pn_1_98 = nm.construct_network(tehran_df_ThreeReg_pn_1_same_length_98, method='pearson', threshold=thr35)"
   ]
  },
  {
   "cell_type": "code",
   "execution_count": 14,
   "id": "62e2eaec-d34c-412b-8ed5-fa3fe75636a4",
   "metadata": {},
   "outputs": [
    {
     "data": {
      "text/html": [
       "<div>\n",
       "<style scoped>\n",
       "    .dataframe tbody tr th:only-of-type {\n",
       "        vertical-align: middle;\n",
       "    }\n",
       "\n",
       "    .dataframe tbody tr th {\n",
       "        vertical-align: top;\n",
       "    }\n",
       "\n",
       "    .dataframe thead th {\n",
       "        text-align: right;\n",
       "    }\n",
       "</style>\n",
       "<table border=\"1\" class=\"dataframe\">\n",
       "  <thead>\n",
       "    <tr style=\"text-align: right;\">\n",
       "      <th></th>\n",
       "      <th>radius</th>\n",
       "      <th>diameter</th>\n",
       "      <th>densities</th>\n",
       "      <th>number_of_edges</th>\n",
       "      <th>average_clustering</th>\n",
       "      <th>avg_degree_centrality</th>\n",
       "      <th>avg_betweenness_centrality</th>\n",
       "      <th>avg_closeness_centrality</th>\n",
       "      <th>average_shortest_path_length</th>\n",
       "    </tr>\n",
       "  </thead>\n",
       "  <tbody>\n",
       "    <tr>\n",
       "      <th>0</th>\n",
       "      <td>2</td>\n",
       "      <td>3</td>\n",
       "      <td>0.581395</td>\n",
       "      <td>550</td>\n",
       "      <td>0.817635</td>\n",
       "      <td>0.581395</td>\n",
       "      <td>0.01052</td>\n",
       "      <td>0.720053</td>\n",
       "      <td>1.44186</td>\n",
       "    </tr>\n",
       "  </tbody>\n",
       "</table>\n",
       "</div>"
      ],
      "text/plain": [
       "   radius  diameter  densities  number_of_edges  average_clustering  \\\n",
       "0       2         3   0.581395              550            0.817635   \n",
       "\n",
       "   avg_degree_centrality  avg_betweenness_centrality  \\\n",
       "0               0.581395                     0.01052   \n",
       "\n",
       "   avg_closeness_centrality  average_shortest_path_length  \n",
       "0                  0.720053                       1.44186  "
      ]
     },
     "execution_count": 14,
     "metadata": {},
     "output_type": "execute_result"
    }
   ],
   "source": [
    "nm.get_network_features(pearson_network_ThreeReg_pn_1_98)"
   ]
  },
  {
   "cell_type": "code",
   "execution_count": 15,
   "id": "589813c3-6d66-4953-8160-2b975c88fb7d",
   "metadata": {},
   "outputs": [
    {
     "data": {
      "text/plain": [
       "array({'HOUSE': 2, 'FaravardehayeNafti': 3, 'M2': 3, 'DastgahayeBargi': 4, 'CPI': 5, 'Gold': 5, 'Coin': 6, 'GDP': 8, 'Mansojat': 9, 'M1': 9, 'USD': 14, 'Euro': 16, 'CoalMining': 24, 'EntesharVaChap': 26, 'Wood': 28, 'paper': 30, 'Rayaneh': 30, 'EstekrajeNaft': 31, 'Lastic': 31, 'FelezateAsasi': 31, 'khodrosazi': 31, 'GhandVaShekar': 31, 'Siman': 31, 'HamlVaNaghl': 31, 'KanehayeFelezi': 31, 'Agriculture': 32, 'MashinAlat': 32, 'ChandReshteSanati': 32, 'SarmayeGozari': 32, 'Bimeh': 32, 'FaniVaMohandesi': 32, 'index': 33, 'VasayelErtebati': 33, 'GazaeeBejozGhand': 33, 'Daroee': 33, 'Bank': 33, 'SayerMali': 33, 'Mali': 33, 'MahsolateFelezi': 34, 'Shimiyaee': 34, 'KanehayeGeyreFelezi': 34, 'Amlakva': 34, 'SayerMadan': 35, 'KashiVaSeramik': 36},\n",
       "      dtype=object)"
      ]
     },
     "execution_count": 15,
     "metadata": {},
     "output_type": "execute_result"
    }
   ],
   "source": [
    "b35_1 = dict(nx.degree(pearson_network_ThreeReg_pn_1_98))\n",
    "b35_1 = np.array(dict(sorted(b35_1.items(), key=lambda item: item[1])))\n",
    "b35_1"
   ]
  },
  {
   "cell_type": "code",
   "execution_count": 16,
   "id": "7768c6cc-6238-4a32-98da-f92fe4dc4948",
   "metadata": {},
   "outputs": [],
   "source": [
    "nm.get_network_features(pearson_network_ThreeReg_pn_1_98).to_csv('Excels/35_1.csv')"
   ]
  },
  {
   "cell_type": "code",
   "execution_count": 17,
   "id": "17283fb0-c810-4497-a633-68a5507e7207",
   "metadata": {},
   "outputs": [],
   "source": [
    "pearson_network_ThreeReg_pn_2_98 = nm.construct_network(tehran_df_ThreeReg_pn_2_same_length_98, method='pearson', threshold=thr35)"
   ]
  },
  {
   "cell_type": "code",
   "execution_count": 18,
   "id": "4626a5fa-09d7-43b9-8229-35607528d4a7",
   "metadata": {},
   "outputs": [
    {
     "data": {
      "text/html": [
       "<div>\n",
       "<style scoped>\n",
       "    .dataframe tbody tr th:only-of-type {\n",
       "        vertical-align: middle;\n",
       "    }\n",
       "\n",
       "    .dataframe tbody tr th {\n",
       "        vertical-align: top;\n",
       "    }\n",
       "\n",
       "    .dataframe thead th {\n",
       "        text-align: right;\n",
       "    }\n",
       "</style>\n",
       "<table border=\"1\" class=\"dataframe\">\n",
       "  <thead>\n",
       "    <tr style=\"text-align: right;\">\n",
       "      <th></th>\n",
       "      <th>radius</th>\n",
       "      <th>diameter</th>\n",
       "      <th>densities</th>\n",
       "      <th>number_of_edges</th>\n",
       "      <th>average_clustering</th>\n",
       "      <th>avg_degree_centrality</th>\n",
       "      <th>avg_betweenness_centrality</th>\n",
       "      <th>avg_closeness_centrality</th>\n",
       "      <th>average_shortest_path_length</th>\n",
       "    </tr>\n",
       "  </thead>\n",
       "  <tbody>\n",
       "    <tr>\n",
       "      <th>0</th>\n",
       "      <td>2</td>\n",
       "      <td>3</td>\n",
       "      <td>0.508213</td>\n",
       "      <td>526</td>\n",
       "      <td>0.727267</td>\n",
       "      <td>0.508213</td>\n",
       "      <td>0.01256</td>\n",
       "      <td>0.666094</td>\n",
       "      <td>1.552657</td>\n",
       "    </tr>\n",
       "  </tbody>\n",
       "</table>\n",
       "</div>"
      ],
      "text/plain": [
       "   radius  diameter  densities  number_of_edges  average_clustering  \\\n",
       "0       2         3   0.508213              526            0.727267   \n",
       "\n",
       "   avg_degree_centrality  avg_betweenness_centrality  \\\n",
       "0               0.508213                     0.01256   \n",
       "\n",
       "   avg_closeness_centrality  average_shortest_path_length  \n",
       "0                  0.666094                      1.552657  "
      ]
     },
     "execution_count": 18,
     "metadata": {},
     "output_type": "execute_result"
    }
   ],
   "source": [
    "nm.get_network_features(pearson_network_ThreeReg_pn_2_98)"
   ]
  },
  {
   "cell_type": "code",
   "execution_count": 19,
   "id": "11475fe4-0287-4d15-9acf-3f1578381359",
   "metadata": {},
   "outputs": [
    {
     "data": {
      "text/plain": [
       "array({'Gold': 3, 'USD': 4, 'CPI': 4, 'M2': 4, 'GDP': 6, 'Euro': 8, 'Mansojat': 9, 'Brent Oil': 10, 'Coin': 10, 'HOUSE': 11, 'Agriculture': 12, 'M1': 14, 'KashiVaSeramik': 17, 'CoalMining': 19, 'Lastic': 19, 'GhandVaShekar': 19, 'AbzaralatePezeshki': 20, 'SayerMadan': 22, 'paper': 22, 'EntesharVaChap': 22, 'HamlVaNaghl': 22, 'VasayelErtebati': 24, 'Rayaneh': 25, 'KanehayeFelezi': 26, 'FelezateAsasi': 27, 'Shimiyaee': 27, 'MahsolateFelezi': 29, 'Wood': 29, 'ChandReshteSanati': 29, 'FaniVaMohandesi': 29, 'FaravardehayeNafti': 30, 'Siman': 30, 'MashinAlat': 31, 'Bank': 31, 'Daroee': 32, 'SayerMali': 32, 'Mali': 32, 'EstekrajeNaft': 34, 'DastgahayeBargi': 34, 'khodrosazi': 34, 'SarmayeGozari': 34, 'index': 35, 'GazaeeBejozGhand': 35, 'Bimeh': 35, 'Amlakva': 35, 'KanehayeGeyreFelezi': 36},\n",
       "      dtype=object)"
      ]
     },
     "execution_count": 19,
     "metadata": {},
     "output_type": "execute_result"
    }
   ],
   "source": [
    "b35_2 = dict(nx.degree(pearson_network_ThreeReg_pn_2_98))\n",
    "b35_2 = np.array(dict(sorted(b35_2.items(), key=lambda item: item[1])))\n",
    "b35_2"
   ]
  },
  {
   "cell_type": "code",
   "execution_count": 20,
   "id": "916b19fd-75a2-4534-90bd-01c6ff878c4c",
   "metadata": {},
   "outputs": [],
   "source": [
    "nm.get_network_features(pearson_network_ThreeReg_pn_2_98).to_csv('Excels/35_2.csv')"
   ]
  },
  {
   "cell_type": "code",
   "execution_count": 21,
   "id": "d0be9990-3123-4454-b6af-a2837ac25168",
   "metadata": {},
   "outputs": [],
   "source": [
    "pearson_network_ThreeReg_pn_3_98 = nm.construct_network(tehran_df_ThreeReg_pn_3_same_length_98, method='pearson', threshold=thr35)"
   ]
  },
  {
   "cell_type": "code",
   "execution_count": 22,
   "id": "4ae84df5-ada7-4faa-8bce-1cc0fa863c4e",
   "metadata": {},
   "outputs": [
    {
     "data": {
      "text/html": [
       "<div>\n",
       "<style scoped>\n",
       "    .dataframe tbody tr th:only-of-type {\n",
       "        vertical-align: middle;\n",
       "    }\n",
       "\n",
       "    .dataframe tbody tr th {\n",
       "        vertical-align: top;\n",
       "    }\n",
       "\n",
       "    .dataframe thead th {\n",
       "        text-align: right;\n",
       "    }\n",
       "</style>\n",
       "<table border=\"1\" class=\"dataframe\">\n",
       "  <thead>\n",
       "    <tr style=\"text-align: right;\">\n",
       "      <th></th>\n",
       "      <th>radius</th>\n",
       "      <th>diameter</th>\n",
       "      <th>densities</th>\n",
       "      <th>number_of_edges</th>\n",
       "      <th>average_clustering</th>\n",
       "      <th>avg_degree_centrality</th>\n",
       "      <th>avg_betweenness_centrality</th>\n",
       "      <th>avg_closeness_centrality</th>\n",
       "      <th>average_shortest_path_length</th>\n",
       "    </tr>\n",
       "  </thead>\n",
       "  <tbody>\n",
       "    <tr>\n",
       "      <th>0</th>\n",
       "      <td>2</td>\n",
       "      <td>4</td>\n",
       "      <td>0.521212</td>\n",
       "      <td>516</td>\n",
       "      <td>0.797639</td>\n",
       "      <td>0.521212</td>\n",
       "      <td>0.013695</td>\n",
       "      <td>0.660473</td>\n",
       "      <td>1.588889</td>\n",
       "    </tr>\n",
       "  </tbody>\n",
       "</table>\n",
       "</div>"
      ],
      "text/plain": [
       "   radius  diameter  densities  number_of_edges  average_clustering  \\\n",
       "0       2         4   0.521212              516            0.797639   \n",
       "\n",
       "   avg_degree_centrality  avg_betweenness_centrality  \\\n",
       "0               0.521212                    0.013695   \n",
       "\n",
       "   avg_closeness_centrality  average_shortest_path_length  \n",
       "0                  0.660473                      1.588889  "
      ]
     },
     "execution_count": 22,
     "metadata": {},
     "output_type": "execute_result"
    }
   ],
   "source": [
    "nm.get_network_features(pearson_network_ThreeReg_pn_3_98)"
   ]
  },
  {
   "cell_type": "code",
   "execution_count": 23,
   "id": "7a757d22-3d3f-47b0-b957-0c2370487438",
   "metadata": {},
   "outputs": [
    {
     "data": {
      "text/plain": [
       "array({'Brent Oil': 2, 'Coin': 2, 'USD': 3, 'M2': 3, 'M1': 4, 'DastgahayeBargi': 4, 'CoalMining': 5, 'GDP': 5, 'CPI': 6, 'Gold': 6, 'HOUSE': 10, 'Euro': 11, 'Mansojat': 17, 'FaravardehayeNafti': 22, 'SayerMadan': 25, 'EntesharVaChap': 25, 'FelezateAsasi': 25, 'Shimiyaee': 26, 'VasayelErtebati': 27, 'GhandVaShekar': 27, 'ChandReshteSanati': 28, 'KashiVaSeramik': 28, 'KanehayeFelezi': 28, 'Agriculture': 29, 'EstekrajeNaft': 29, 'Wood': 29, 'paper': 29, 'Rayaneh': 29, 'Bank': 30, 'FaniVaMohandesi': 30, 'SayerMali': 31, 'Lastic': 32, 'khodrosazi': 32, 'Daroee': 32, 'KanehayeGeyreFelezi': 32, 'HamlVaNaghl': 32, 'Amlakva': 32, 'Mali': 32, 'index': 33, 'MahsolateFelezi': 33, 'MashinAlat': 33, 'GazaeeBejozGhand': 33, 'Siman': 33, 'SarmayeGozari': 33, 'Bimeh': 35},\n",
       "      dtype=object)"
      ]
     },
     "execution_count": 23,
     "metadata": {},
     "output_type": "execute_result"
    }
   ],
   "source": [
    "b35_3 = dict(nx.degree(pearson_network_ThreeReg_pn_3_98))\n",
    "b35_3 = np.array(dict(sorted(b35_3.items(), key=lambda item: item[1])))\n",
    "b35_3"
   ]
  },
  {
   "cell_type": "code",
   "execution_count": 24,
   "id": "cb67beb3-2471-4973-acf6-7c18f2064426",
   "metadata": {},
   "outputs": [],
   "source": [
    "nm.get_network_features(pearson_network_ThreeReg_pn_3_98).to_csv('Excels/35_3.csv')"
   ]
  },
  {
   "cell_type": "markdown",
   "id": "ecdfea81-3e98-4b35-8468-ece797418b63",
   "metadata": {},
   "source": [
    "# 36) Tehran 3 pn Regime Pearson (Based on Median Threshold) Period of 90 Far - 00 Far"
   ]
  },
  {
   "cell_type": "code",
   "execution_count": 28,
   "id": "be345d68-fea5-4bd0-8d0f-fa5a0b3c2a75",
   "metadata": {},
   "outputs": [
    {
     "data": {
      "text/plain": [
       "0.12734925950032575"
      ]
     },
     "execution_count": 28,
     "metadata": {},
     "output_type": "execute_result"
    }
   ],
   "source": [
    "thr36_1 = nm.find_median_pearson_threshold(tehran_df_ThreeReg_pn_1_same_length)\n",
    "thr36_2 = nm.find_median_pearson_threshold(tehran_df_ThreeReg_pn_2_same_length)\n",
    "thr36_3 = nm.find_median_pearson_threshold(tehran_df_ThreeReg_pn_3_same_length)\n",
    "\n",
    "thr36 = min(thr36_1, thr36_2, thr36_3)\n",
    "thr36"
   ]
  },
  {
   "cell_type": "code",
   "execution_count": 26,
   "id": "a4fe7d74-f005-4898-8d14-8916f00a8f7c",
   "metadata": {},
   "outputs": [],
   "source": [
    "nm = Net_moduls()\n",
    "pearson_network_ThreeReg_pn_1 = nm.construct_network(tehran_df_ThreeReg_pn_1_same_length, method='pearson', threshold=thr36)"
   ]
  },
  {
   "cell_type": "code",
   "execution_count": 27,
   "id": "93c2a244-b7af-4bb6-9702-e28148ded281",
   "metadata": {},
   "outputs": [
    {
     "data": {
      "text/html": [
       "<div>\n",
       "<style scoped>\n",
       "    .dataframe tbody tr th:only-of-type {\n",
       "        vertical-align: middle;\n",
       "    }\n",
       "\n",
       "    .dataframe tbody tr th {\n",
       "        vertical-align: top;\n",
       "    }\n",
       "\n",
       "    .dataframe thead th {\n",
       "        text-align: right;\n",
       "    }\n",
       "</style>\n",
       "<table border=\"1\" class=\"dataframe\">\n",
       "  <thead>\n",
       "    <tr style=\"text-align: right;\">\n",
       "      <th></th>\n",
       "      <th>radius</th>\n",
       "      <th>diameter</th>\n",
       "      <th>densities</th>\n",
       "      <th>number_of_edges</th>\n",
       "      <th>average_clustering</th>\n",
       "      <th>avg_degree_centrality</th>\n",
       "      <th>avg_betweenness_centrality</th>\n",
       "      <th>avg_closeness_centrality</th>\n",
       "      <th>average_shortest_path_length</th>\n",
       "    </tr>\n",
       "  </thead>\n",
       "  <tbody>\n",
       "    <tr>\n",
       "      <th>0</th>\n",
       "      <td>2</td>\n",
       "      <td>3</td>\n",
       "      <td>0.568116</td>\n",
       "      <td>588</td>\n",
       "      <td>0.768334</td>\n",
       "      <td>0.568116</td>\n",
       "      <td>0.010123</td>\n",
       "      <td>0.712608</td>\n",
       "      <td>1.445411</td>\n",
       "    </tr>\n",
       "  </tbody>\n",
       "</table>\n",
       "</div>"
      ],
      "text/plain": [
       "   radius  diameter  densities  number_of_edges  average_clustering  \\\n",
       "0       2         3   0.568116              588            0.768334   \n",
       "\n",
       "   avg_degree_centrality  avg_betweenness_centrality  \\\n",
       "0               0.568116                    0.010123   \n",
       "\n",
       "   avg_closeness_centrality  average_shortest_path_length  \n",
       "0                  0.712608                      1.445411  "
      ]
     },
     "execution_count": 27,
     "metadata": {},
     "output_type": "execute_result"
    }
   ],
   "source": [
    "nm.get_network_features(pearson_network_ThreeReg_pn_1)"
   ]
  },
  {
   "cell_type": "code",
   "execution_count": 28,
   "id": "f7b9c93a-6ad4-46ef-9ff3-874848e5bb2b",
   "metadata": {},
   "outputs": [
    {
     "data": {
      "text/plain": [
       "array({'Gold': 3, 'AbzaralatePezeshki': 4, 'Brent Oil': 5, 'GDP': 6, 'M1': 9, 'Mansojat': 9, 'VasayelErtebati': 10, 'Euro': 11, 'Coin': 13, 'CPI': 14, 'M2': 14, 'Wood': 15, 'USD': 16, 'EntesharVaChap': 18, 'CoalMining': 22, 'SayerMadan': 22, 'HOUSE': 23, 'EstekrajeNaft': 29, 'paper': 30, 'khodrosazi': 30, 'KashiVaSeramik': 30, 'Bank': 30, 'Rayaneh': 30, 'SarmayeGozari': 31, 'Mali': 31, 'FaravardehayeNafti': 32, 'Daroee': 32, 'SayerMali': 32, 'Bimeh': 32, 'FaniVaMohandesi': 32, 'MahsolateFelezi': 33, 'FelezateAsasi': 33, 'Siman': 33, 'Amlakva': 33, 'ChandReshteSanati': 34, 'Shimiyaee': 34, 'KanehayeFelezi': 34, 'index': 35, 'Agriculture': 35, 'Lastic': 35, 'GazaeeBejozGhand': 36, 'KanehayeGeyreFelezi': 36, 'MashinAlat': 37, 'DastgahayeBargi': 37, 'HamlVaNaghl': 37, 'GhandVaShekar': 39},\n",
       "      dtype=object)"
      ]
     },
     "execution_count": 28,
     "metadata": {},
     "output_type": "execute_result"
    }
   ],
   "source": [
    "b36_1 = dict(nx.degree(pearson_network_ThreeReg_pn_1))\n",
    "b36_1 = np.array(dict(sorted(b36_1.items(), key=lambda item: item[1])))\n",
    "b36_1"
   ]
  },
  {
   "cell_type": "code",
   "execution_count": 29,
   "id": "46895847-59ea-4556-9d06-04a97d3a4120",
   "metadata": {},
   "outputs": [],
   "source": [
    "nm.get_network_features(pearson_network_ThreeReg_pn_1).to_csv('Excels/36_1.csv')"
   ]
  },
  {
   "cell_type": "code",
   "execution_count": 30,
   "id": "f661abb6-6e7a-466d-b1a9-fa28eae00c58",
   "metadata": {},
   "outputs": [],
   "source": [
    "pearson_network_ThreeReg_pn_2 = nm.construct_network(tehran_df_ThreeReg_pn_2_same_length, method='pearson', threshold=thr36)"
   ]
  },
  {
   "cell_type": "code",
   "execution_count": 31,
   "id": "686e0f1a-1eb1-44a6-a625-08f22c02869d",
   "metadata": {},
   "outputs": [
    {
     "data": {
      "text/html": [
       "<div>\n",
       "<style scoped>\n",
       "    .dataframe tbody tr th:only-of-type {\n",
       "        vertical-align: middle;\n",
       "    }\n",
       "\n",
       "    .dataframe tbody tr th {\n",
       "        vertical-align: top;\n",
       "    }\n",
       "\n",
       "    .dataframe thead th {\n",
       "        text-align: right;\n",
       "    }\n",
       "</style>\n",
       "<table border=\"1\" class=\"dataframe\">\n",
       "  <thead>\n",
       "    <tr style=\"text-align: right;\">\n",
       "      <th></th>\n",
       "      <th>radius</th>\n",
       "      <th>diameter</th>\n",
       "      <th>densities</th>\n",
       "      <th>number_of_edges</th>\n",
       "      <th>average_clustering</th>\n",
       "      <th>avg_degree_centrality</th>\n",
       "      <th>avg_betweenness_centrality</th>\n",
       "      <th>avg_closeness_centrality</th>\n",
       "      <th>average_shortest_path_length</th>\n",
       "    </tr>\n",
       "  </thead>\n",
       "  <tbody>\n",
       "    <tr>\n",
       "      <th>0</th>\n",
       "      <td>2</td>\n",
       "      <td>3</td>\n",
       "      <td>0.551691</td>\n",
       "      <td>571</td>\n",
       "      <td>0.72689</td>\n",
       "      <td>0.551691</td>\n",
       "      <td>0.010738</td>\n",
       "      <td>0.697516</td>\n",
       "      <td>1.472464</td>\n",
       "    </tr>\n",
       "  </tbody>\n",
       "</table>\n",
       "</div>"
      ],
      "text/plain": [
       "   radius  diameter  densities  number_of_edges  average_clustering  \\\n",
       "0       2         3   0.551691              571             0.72689   \n",
       "\n",
       "   avg_degree_centrality  avg_betweenness_centrality  \\\n",
       "0               0.551691                    0.010738   \n",
       "\n",
       "   avg_closeness_centrality  average_shortest_path_length  \n",
       "0                  0.697516                      1.472464  "
      ]
     },
     "execution_count": 31,
     "metadata": {},
     "output_type": "execute_result"
    }
   ],
   "source": [
    "nm.get_network_features(pearson_network_ThreeReg_pn_2)"
   ]
  },
  {
   "cell_type": "code",
   "execution_count": 32,
   "id": "d1bf67e6-c15b-44a2-a981-46c317d82b5f",
   "metadata": {},
   "outputs": [
    {
     "data": {
      "text/plain": [
       "array({'Gold': 4, 'USD': 6, 'GDP': 6, 'CPI': 7, 'M2': 7, 'Brent Oil': 11, 'Coin': 11, 'Euro': 12, 'Agriculture': 13, 'HOUSE': 13, 'Mansojat': 15, 'M1': 16, 'KashiVaSeramik': 20, 'GhandVaShekar': 21, 'EntesharVaChap': 22, 'AbzaralatePezeshki': 22, 'Lastic': 23, 'CoalMining': 24, 'SayerMadan': 24, 'Rayaneh': 25, 'paper': 26, 'KanehayeFelezi': 26, 'FelezateAsasi': 28, 'VasayelErtebati': 28, 'Shimiyaee': 28, 'HamlVaNaghl': 29, 'MahsolateFelezi': 31, 'ChandReshteSanati': 31, 'Wood': 32, 'FaravardehayeNafti': 32, 'Bank': 32, 'FaniVaMohandesi': 32, 'Mali': 32, 'EstekrajeNaft': 33, 'MashinAlat': 33, 'Siman': 33, 'SayerMali': 33, 'DastgahayeBargi': 35, 'khodrosazi': 35, 'GazaeeBejozGhand': 35, 'SarmayeGozari': 35, 'index': 36, 'Daroee': 36, 'Bimeh': 36, 'Amlakva': 36, 'KanehayeGeyreFelezi': 37},\n",
       "      dtype=object)"
      ]
     },
     "execution_count": 32,
     "metadata": {},
     "output_type": "execute_result"
    }
   ],
   "source": [
    "b36_2 = dict(nx.degree(pearson_network_ThreeReg_pn_2))\n",
    "b36_2 = np.array(dict(sorted(b36_2.items(), key=lambda item: item[1])))\n",
    "b36_2"
   ]
  },
  {
   "cell_type": "code",
   "execution_count": 33,
   "id": "704f8f35-9835-4d5e-b7d0-4320787ae620",
   "metadata": {},
   "outputs": [],
   "source": [
    "nm.get_network_features(pearson_network_ThreeReg_pn_2).to_csv('Excels/36_2.csv')"
   ]
  },
  {
   "cell_type": "code",
   "execution_count": 34,
   "id": "e2365d69-59b6-46c1-8ed9-d3da1b6f0272",
   "metadata": {},
   "outputs": [],
   "source": [
    "pearson_network_ThreeReg_pn_3 = nm.construct_network(tehran_df_ThreeReg_pn_3_same_length, method='pearson', threshold=thr36)"
   ]
  },
  {
   "cell_type": "code",
   "execution_count": 35,
   "id": "e554e2af-74c4-4a3c-a12f-45743eba2660",
   "metadata": {},
   "outputs": [
    {
     "data": {
      "text/html": [
       "<div>\n",
       "<style scoped>\n",
       "    .dataframe tbody tr th:only-of-type {\n",
       "        vertical-align: middle;\n",
       "    }\n",
       "\n",
       "    .dataframe tbody tr th {\n",
       "        vertical-align: top;\n",
       "    }\n",
       "\n",
       "    .dataframe thead th {\n",
       "        text-align: right;\n",
       "    }\n",
       "</style>\n",
       "<table border=\"1\" class=\"dataframe\">\n",
       "  <thead>\n",
       "    <tr style=\"text-align: right;\">\n",
       "      <th></th>\n",
       "      <th>radius</th>\n",
       "      <th>diameter</th>\n",
       "      <th>densities</th>\n",
       "      <th>number_of_edges</th>\n",
       "      <th>average_clustering</th>\n",
       "      <th>avg_degree_centrality</th>\n",
       "      <th>avg_betweenness_centrality</th>\n",
       "      <th>avg_closeness_centrality</th>\n",
       "      <th>average_shortest_path_length</th>\n",
       "    </tr>\n",
       "  </thead>\n",
       "  <tbody>\n",
       "    <tr>\n",
       "      <th>0</th>\n",
       "      <td>2</td>\n",
       "      <td>3</td>\n",
       "      <td>0.545455</td>\n",
       "      <td>540</td>\n",
       "      <td>0.770398</td>\n",
       "      <td>0.545455</td>\n",
       "      <td>0.011299</td>\n",
       "      <td>0.69715</td>\n",
       "      <td>1.485859</td>\n",
       "    </tr>\n",
       "  </tbody>\n",
       "</table>\n",
       "</div>"
      ],
      "text/plain": [
       "   radius  diameter  densities  number_of_edges  average_clustering  \\\n",
       "0       2         3   0.545455              540            0.770398   \n",
       "\n",
       "   avg_degree_centrality  avg_betweenness_centrality  \\\n",
       "0               0.545455                    0.011299   \n",
       "\n",
       "   avg_closeness_centrality  average_shortest_path_length  \n",
       "0                   0.69715                      1.485859  "
      ]
     },
     "execution_count": 35,
     "metadata": {},
     "output_type": "execute_result"
    }
   ],
   "source": [
    "nm.get_network_features(pearson_network_ThreeReg_pn_3)"
   ]
  },
  {
   "cell_type": "code",
   "execution_count": 36,
   "id": "fcc8dc76-7fde-4776-a5ec-844e1be29c2f",
   "metadata": {},
   "outputs": [
    {
     "data": {
      "text/plain": [
       "array({'Brent Oil': 2, 'Coin': 3, 'Euro': 4, 'USD': 4, 'CoalMining': 5, 'DastgahayeBargi': 6, 'M2': 9, 'HOUSE': 9, 'GDP': 9, 'CPI': 10, 'Gold': 10, 'M1': 15, 'Mansojat': 17, 'FaravardehayeNafti': 21, 'FelezateAsasi': 23, 'KanehayeFelezi': 26, 'GhandVaShekar': 27, 'Agriculture': 28, 'EstekrajeNaft': 28, 'SayerMadan': 28, 'VasayelErtebati': 28, 'Wood': 29, 'paper': 29, 'EntesharVaChap': 29, 'KashiVaSeramik': 29, 'Rayaneh': 29, 'FaniVaMohandesi': 29, 'Daroee': 30, 'Shimiyaee': 30, 'SayerMali': 30, 'Lastic': 31, 'Amlakva': 31, 'KanehayeGeyreFelezi': 32, 'ChandReshteSanati': 33, 'HamlVaNaghl': 33, 'Bimeh': 33, 'Mali': 33, 'index': 34, 'GazaeeBejozGhand': 34, 'Siman': 34, 'MahsolateFelezi': 35, 'khodrosazi': 35, 'SarmayeGozari': 35, 'Bank': 35, 'MashinAlat': 36},\n",
       "      dtype=object)"
      ]
     },
     "execution_count": 36,
     "metadata": {},
     "output_type": "execute_result"
    }
   ],
   "source": [
    "b36_3 = dict(nx.degree(pearson_network_ThreeReg_pn_3))\n",
    "b36_3 = np.array(dict(sorted(b36_3.items(), key=lambda item: item[1])))\n",
    "b36_3"
   ]
  },
  {
   "cell_type": "code",
   "execution_count": 37,
   "id": "3cbdcf69-8bb3-41f6-8565-52e97eddf2c7",
   "metadata": {},
   "outputs": [],
   "source": [
    "nm.get_network_features(pearson_network_ThreeReg_pn_3).to_csv('Excels/36_3.csv')"
   ]
  },
  {
   "cell_type": "markdown",
   "id": "90549e4c-ce3a-45ba-bcf7-e4433265e32e",
   "metadata": {},
   "source": [
    "# 37) Tehran 3 pn Regime Pearson (Based on Median Threshold) Period of 90 Far - 00 Dey/ Last 100 Records"
   ]
  },
  {
   "cell_type": "code",
   "execution_count": 29,
   "id": "f2ad43ba-2403-4652-911c-eaac51d75239",
   "metadata": {},
   "outputs": [
    {
     "data": {
      "text/plain": [
       "0.14393434824820944"
      ]
     },
     "execution_count": 29,
     "metadata": {},
     "output_type": "execute_result"
    }
   ],
   "source": [
    "thr37_1 = nm.find_median_pearson_threshold(tehran_df_ThreeReg_pn_1_same_length[-100:])\n",
    "thr37_2 = nm.find_median_pearson_threshold(tehran_df_ThreeReg_pn_2_same_length[-100:])\n",
    "thr37_3 = nm.find_median_pearson_threshold(tehran_df_ThreeReg_pn_3_same_length[-100:])\n",
    "\n",
    "thr37 = min(thr37_1, thr37_2, thr37_3)\n",
    "thr37"
   ]
  },
  {
   "cell_type": "code",
   "execution_count": 39,
   "id": "f7d6c509-8734-4ccb-9fc9-de9c87614def",
   "metadata": {},
   "outputs": [],
   "source": [
    "pearson_network_ThreeReg_pn_1_last100 = nm.construct_network(tehran_df_ThreeReg_pn_1_same_length[-100:], method='pearson', threshold=thr37)"
   ]
  },
  {
   "cell_type": "code",
   "execution_count": 40,
   "id": "bc9d91fa-9f50-4b92-a18a-b8e28194d89d",
   "metadata": {},
   "outputs": [
    {
     "data": {
      "text/html": [
       "<div>\n",
       "<style scoped>\n",
       "    .dataframe tbody tr th:only-of-type {\n",
       "        vertical-align: middle;\n",
       "    }\n",
       "\n",
       "    .dataframe tbody tr th {\n",
       "        vertical-align: top;\n",
       "    }\n",
       "\n",
       "    .dataframe thead th {\n",
       "        text-align: right;\n",
       "    }\n",
       "</style>\n",
       "<table border=\"1\" class=\"dataframe\">\n",
       "  <thead>\n",
       "    <tr style=\"text-align: right;\">\n",
       "      <th></th>\n",
       "      <th>radius</th>\n",
       "      <th>diameter</th>\n",
       "      <th>densities</th>\n",
       "      <th>number_of_edges</th>\n",
       "      <th>average_clustering</th>\n",
       "      <th>avg_degree_centrality</th>\n",
       "      <th>avg_betweenness_centrality</th>\n",
       "      <th>avg_closeness_centrality</th>\n",
       "      <th>average_shortest_path_length</th>\n",
       "    </tr>\n",
       "  </thead>\n",
       "  <tbody>\n",
       "    <tr>\n",
       "      <th>0</th>\n",
       "      <td>2</td>\n",
       "      <td>3</td>\n",
       "      <td>0.56715</td>\n",
       "      <td>587</td>\n",
       "      <td>0.798987</td>\n",
       "      <td>0.56715</td>\n",
       "      <td>0.010277</td>\n",
       "      <td>0.711135</td>\n",
       "      <td>1.452174</td>\n",
       "    </tr>\n",
       "  </tbody>\n",
       "</table>\n",
       "</div>"
      ],
      "text/plain": [
       "   radius  diameter  densities  number_of_edges  average_clustering  \\\n",
       "0       2         3    0.56715              587            0.798987   \n",
       "\n",
       "   avg_degree_centrality  avg_betweenness_centrality  \\\n",
       "0                0.56715                    0.010277   \n",
       "\n",
       "   avg_closeness_centrality  average_shortest_path_length  \n",
       "0                  0.711135                      1.452174  "
      ]
     },
     "execution_count": 40,
     "metadata": {},
     "output_type": "execute_result"
    }
   ],
   "source": [
    "nm.get_network_features(pearson_network_ThreeReg_pn_1_last100)"
   ]
  },
  {
   "cell_type": "code",
   "execution_count": 41,
   "id": "76b450ad-5201-463c-8e3f-f58e51ddaf5d",
   "metadata": {},
   "outputs": [
    {
     "data": {
      "text/plain": [
       "array({'GDP': 3, 'Mansojat': 4, 'AbzaralatePezeshki': 4, 'Gold': 4, 'M2': 7, 'VasayelErtebati': 9, 'Wood': 11, 'EntesharVaChap': 12, 'SayerMadan': 12, 'M1': 14, 'Brent Oil': 15, 'HOUSE': 15, 'Euro': 16, 'CoalMining': 19, 'Coin': 19, 'CPI': 21, 'USD': 22, 'Rayaneh': 28, 'EstekrajeNaft': 29, 'paper': 30, 'khodrosazi': 30, 'KashiVaSeramik': 30, 'FelezateAsasi': 31, 'FaravardehayeNafti': 32, 'Lastic': 32, 'Daroee': 32, 'MahsolateFelezi': 33, 'Shimiyaee': 33, 'Siman': 33, 'SarmayeGozari': 33, 'SayerMali': 33, 'Amlakva': 33, 'FaniVaMohandesi': 33, 'KanehayeFelezi': 33, 'Bimeh': 34, 'index': 35, 'DastgahayeBargi': 35, 'KanehayeGeyreFelezi': 35, 'Bank': 35, 'Agriculture': 36, 'MashinAlat': 36, 'GazaeeBejozGhand': 36, 'HamlVaNaghl': 36, 'Mali': 36, 'ChandReshteSanati': 37, 'GhandVaShekar': 38},\n",
       "      dtype=object)"
      ]
     },
     "execution_count": 41,
     "metadata": {},
     "output_type": "execute_result"
    }
   ],
   "source": [
    "b37_1 = dict(nx.degree(pearson_network_ThreeReg_pn_1_last100))\n",
    "b37_1 = np.array(dict(sorted(b37_1.items(), key=lambda item: item[1])))\n",
    "b37_1"
   ]
  },
  {
   "cell_type": "code",
   "execution_count": 42,
   "id": "10c6e3fe-605d-43e4-ae22-b0add41f149e",
   "metadata": {},
   "outputs": [],
   "source": [
    "nm.get_network_features(pearson_network_ThreeReg_pn_1_last100).to_csv('Excels/37_1.csv')"
   ]
  },
  {
   "cell_type": "code",
   "execution_count": 43,
   "id": "ada00b89-dbc1-4e7b-8018-9011088070bb",
   "metadata": {},
   "outputs": [],
   "source": [
    "pearson_network_ThreeReg_pn_2_last100 = nm.construct_network(tehran_df_ThreeReg_pn_2_same_length[-100:], method='pearson', threshold=thr37)"
   ]
  },
  {
   "cell_type": "code",
   "execution_count": 44,
   "id": "0246a011-ba11-49b5-b0ff-bc8a8eda07d8",
   "metadata": {},
   "outputs": [
    {
     "data": {
      "text/html": [
       "<div>\n",
       "<style scoped>\n",
       "    .dataframe tbody tr th:only-of-type {\n",
       "        vertical-align: middle;\n",
       "    }\n",
       "\n",
       "    .dataframe tbody tr th {\n",
       "        vertical-align: top;\n",
       "    }\n",
       "\n",
       "    .dataframe thead th {\n",
       "        text-align: right;\n",
       "    }\n",
       "</style>\n",
       "<table border=\"1\" class=\"dataframe\">\n",
       "  <thead>\n",
       "    <tr style=\"text-align: right;\">\n",
       "      <th></th>\n",
       "      <th>radius</th>\n",
       "      <th>diameter</th>\n",
       "      <th>densities</th>\n",
       "      <th>number_of_edges</th>\n",
       "      <th>average_clustering</th>\n",
       "      <th>avg_degree_centrality</th>\n",
       "      <th>avg_betweenness_centrality</th>\n",
       "      <th>avg_closeness_centrality</th>\n",
       "      <th>average_shortest_path_length</th>\n",
       "    </tr>\n",
       "  </thead>\n",
       "  <tbody>\n",
       "    <tr>\n",
       "      <th>0</th>\n",
       "      <td>2</td>\n",
       "      <td>3</td>\n",
       "      <td>0.530435</td>\n",
       "      <td>549</td>\n",
       "      <td>0.70626</td>\n",
       "      <td>0.530435</td>\n",
       "      <td>0.010979</td>\n",
       "      <td>0.690245</td>\n",
       "      <td>1.483092</td>\n",
       "    </tr>\n",
       "  </tbody>\n",
       "</table>\n",
       "</div>"
      ],
      "text/plain": [
       "   radius  diameter  densities  number_of_edges  average_clustering  \\\n",
       "0       2         3   0.530435              549             0.70626   \n",
       "\n",
       "   avg_degree_centrality  avg_betweenness_centrality  \\\n",
       "0               0.530435                    0.010979   \n",
       "\n",
       "   avg_closeness_centrality  average_shortest_path_length  \n",
       "0                  0.690245                      1.483092  "
      ]
     },
     "execution_count": 44,
     "metadata": {},
     "output_type": "execute_result"
    }
   ],
   "source": [
    "nm.get_network_features(pearson_network_ThreeReg_pn_2_last100)"
   ]
  },
  {
   "cell_type": "code",
   "execution_count": 45,
   "id": "dda4d642-8bb1-4341-ae7f-66758bb87a21",
   "metadata": {},
   "outputs": [
    {
     "data": {
      "text/plain": [
       "array({'USD': 5, 'Gold': 5, 'GDP': 6, 'CPI': 7, 'M2': 7, 'Coin': 8, 'Euro': 9, 'HOUSE': 11, 'M1': 12, 'Brent Oil': 12, 'GhandVaShekar': 16, 'Mansojat': 18, 'Lastic': 18, 'CoalMining': 19, 'KashiVaSeramik': 20, 'Agriculture': 21, 'EntesharVaChap': 21, 'paper': 22, 'SayerMadan': 24, 'KanehayeFelezi': 24, 'VasayelErtebati': 25, 'FelezateAsasi': 26, 'HamlVaNaghl': 27, 'AbzaralatePezeshki': 28, 'Shimiyaee': 28, 'MahsolateFelezi': 29, 'ChandReshteSanati': 29, 'Rayaneh': 29, 'FaniVaMohandesi': 29, 'FaravardehayeNafti': 30, 'GazaeeBejozGhand': 31, 'Siman': 31, 'Bank': 31, 'Wood': 32, 'khodrosazi': 32, 'Mali': 32, 'MashinAlat': 33, 'Daroee': 33, 'SayerMali': 33, 'SarmayeGozari': 34, 'EstekrajeNaft': 35, 'DastgahayeBargi': 35, 'KanehayeGeyreFelezi': 35, 'Bimeh': 35, 'Amlakva': 35, 'index': 36},\n",
       "      dtype=object)"
      ]
     },
     "execution_count": 45,
     "metadata": {},
     "output_type": "execute_result"
    }
   ],
   "source": [
    "b37_2 = dict(nx.degree(pearson_network_ThreeReg_pn_2_last100))\n",
    "b37_2 = np.array(dict(sorted(b37_2.items(), key=lambda item: item[1])))\n",
    "b37_2"
   ]
  },
  {
   "cell_type": "code",
   "execution_count": 46,
   "id": "a3760791-b8fa-4530-b203-35513e859f99",
   "metadata": {},
   "outputs": [],
   "source": [
    "nm.get_network_features(pearson_network_ThreeReg_pn_2_last100).to_csv('Excels/37_2.csv')"
   ]
  },
  {
   "cell_type": "code",
   "execution_count": 47,
   "id": "26ffa1f9-982e-4983-8667-4e8e300b4809",
   "metadata": {},
   "outputs": [],
   "source": [
    "pearson_network_ThreeReg_pn_3_last100 = nm.construct_network(tehran_df_ThreeReg_pn_3_same_length[-100:], method='pearson', threshold=thr37)"
   ]
  },
  {
   "cell_type": "code",
   "execution_count": 48,
   "id": "2e5f6a0c-3226-42a4-8547-f2313a9e499c",
   "metadata": {},
   "outputs": [
    {
     "data": {
      "text/html": [
       "<div>\n",
       "<style scoped>\n",
       "    .dataframe tbody tr th:only-of-type {\n",
       "        vertical-align: middle;\n",
       "    }\n",
       "\n",
       "    .dataframe tbody tr th {\n",
       "        vertical-align: top;\n",
       "    }\n",
       "\n",
       "    .dataframe thead th {\n",
       "        text-align: right;\n",
       "    }\n",
       "</style>\n",
       "<table border=\"1\" class=\"dataframe\">\n",
       "  <thead>\n",
       "    <tr style=\"text-align: right;\">\n",
       "      <th></th>\n",
       "      <th>radius</th>\n",
       "      <th>diameter</th>\n",
       "      <th>densities</th>\n",
       "      <th>number_of_edges</th>\n",
       "      <th>average_clustering</th>\n",
       "      <th>avg_degree_centrality</th>\n",
       "      <th>avg_betweenness_centrality</th>\n",
       "      <th>avg_closeness_centrality</th>\n",
       "      <th>average_shortest_path_length</th>\n",
       "    </tr>\n",
       "  </thead>\n",
       "  <tbody>\n",
       "    <tr>\n",
       "      <th>0</th>\n",
       "      <td>2</td>\n",
       "      <td>3</td>\n",
       "      <td>0.543434</td>\n",
       "      <td>538</td>\n",
       "      <td>0.762569</td>\n",
       "      <td>0.543434</td>\n",
       "      <td>0.011182</td>\n",
       "      <td>0.696632</td>\n",
       "      <td>1.480808</td>\n",
       "    </tr>\n",
       "  </tbody>\n",
       "</table>\n",
       "</div>"
      ],
      "text/plain": [
       "   radius  diameter  densities  number_of_edges  average_clustering  \\\n",
       "0       2         3   0.543434              538            0.762569   \n",
       "\n",
       "   avg_degree_centrality  avg_betweenness_centrality  \\\n",
       "0               0.543434                    0.011182   \n",
       "\n",
       "   avg_closeness_centrality  average_shortest_path_length  \n",
       "0                  0.696632                      1.480808  "
      ]
     },
     "execution_count": 48,
     "metadata": {},
     "output_type": "execute_result"
    }
   ],
   "source": [
    "nm.get_network_features(pearson_network_ThreeReg_pn_3_last100)"
   ]
  },
  {
   "cell_type": "code",
   "execution_count": 49,
   "id": "2958c5af-48ce-4453-a789-ae1da014c4be",
   "metadata": {},
   "outputs": [
    {
     "data": {
      "text/plain": [
       "array({'Brent Oil': 2, 'Coin': 4, 'CoalMining': 6, 'HOUSE': 7, 'Euro': 8, 'GDP': 8, 'Gold': 8, 'DastgahayeBargi': 8, 'USD': 9, 'M2': 10, 'CPI': 11, 'Mansojat': 12, 'M1': 14, 'FaravardehayeNafti': 19, 'KanehayeFelezi': 25, 'EstekrajeNaft': 27, 'SayerMadan': 27, 'FelezateAsasi': 27, 'VasayelErtebati': 27, 'Agriculture': 28, 'Wood': 28, 'GhandVaShekar': 28, 'Daroee': 28, 'Shimiyaee': 28, 'EntesharVaChap': 29, 'SayerMali': 29, 'Rayaneh': 29, 'FaniVaMohandesi': 29, 'paper': 30, 'KashiVaSeramik': 30, 'Amlakva': 30, 'KanehayeGeyreFelezi': 31, 'Bimeh': 32, 'Lastic': 33, 'MashinAlat': 33, 'khodrosazi': 33, 'index': 34, 'ChandReshteSanati': 34, 'GazaeeBejozGhand': 34, 'Bank': 34, 'HamlVaNaghl': 34, 'Mali': 34, 'MahsolateFelezi': 35, 'Siman': 35, 'SarmayeGozari': 35},\n",
       "      dtype=object)"
      ]
     },
     "execution_count": 49,
     "metadata": {},
     "output_type": "execute_result"
    }
   ],
   "source": [
    "b37_3 = dict(nx.degree(pearson_network_ThreeReg_pn_3_last100))\n",
    "b37_3 = np.array(dict(sorted(b37_3.items(), key=lambda item: item[1])))\n",
    "b37_3"
   ]
  },
  {
   "cell_type": "code",
   "execution_count": 50,
   "id": "1c94d6cf-6849-4f3f-b36d-6db357bd73e5",
   "metadata": {},
   "outputs": [],
   "source": [
    "nm.get_network_features(pearson_network_ThreeReg_pn_3_last100).to_csv('Excels/37_3.csv')"
   ]
  },
  {
   "cell_type": "markdown",
   "id": "7c0f101d-1921-4801-9488-c7a8928c2782",
   "metadata": {},
   "source": [
    "# 38) Tehran 3 pn Regime Pearson (Based on Median Threshold) Period of 90 Far - 98 Dey/ 50 windows of 100 Records"
   ]
  },
  {
   "cell_type": "code",
   "execution_count": 51,
   "id": "4cbe01d1-34a8-4738-a5bc-7b6c26b9eb35",
   "metadata": {
    "collapsed": true,
    "jupyter": {
     "outputs_hidden": true
    },
    "tags": []
   },
   "outputs": [
    {
     "name": "stderr",
     "output_type": "stream",
     "text": [
      "/Users/hossein4527/MEGA/MEGAsync/Commit/Neda_PhD/neda_sep2023/Time_Series_Trend_Forcasting/Codes/Shifted DF by Lags/ned.py:1106: SettingWithCopyWarning: \n",
      "A value is trying to be set on a copy of a slice from a DataFrame.\n",
      "Try using .loc[row_indexer,col_indexer] = value instead\n",
      "\n",
      "See the caveats in the documentation: https://pandas.pydata.org/pandas-docs/stable/user_guide/indexing.html#returning-a-view-versus-a-copy\n",
      "  df['selected_regimes'] = regimes_column\n"
     ]
    },
    {
     "name": "stdout",
     "output_type": "stream",
     "text": [
      "Number of columns data in our DataFrame is = 46\n",
      "fixed_thr= 0.18653449940696296\n"
     ]
    },
    {
     "name": "stderr",
     "output_type": "stream",
     "text": [
      "/Library/Frameworks/Python.framework/Versions/3.11/lib/python3.11/site-packages/numpy/core/fromnumeric.py:3432: RuntimeWarning: Mean of empty slice.\n",
      "  return _methods._mean(a, axis=axis, dtype=dtype,\n",
      "/Library/Frameworks/Python.framework/Versions/3.11/lib/python3.11/site-packages/numpy/core/_methods.py:190: RuntimeWarning: invalid value encountered in double_scalars\n",
      "  ret = ret.dtype.type(ret / rcount)\n",
      "/Library/Frameworks/Python.framework/Versions/3.11/lib/python3.11/site-packages/numpy/core/fromnumeric.py:3432: RuntimeWarning: Mean of empty slice.\n",
      "  return _methods._mean(a, axis=axis, dtype=dtype,\n",
      "/Library/Frameworks/Python.framework/Versions/3.11/lib/python3.11/site-packages/numpy/core/_methods.py:190: RuntimeWarning: invalid value encountered in double_scalars\n",
      "  ret = ret.dtype.type(ret / rcount)\n",
      "/Library/Frameworks/Python.framework/Versions/3.11/lib/python3.11/site-packages/numpy/core/fromnumeric.py:3432: RuntimeWarning: Mean of empty slice.\n",
      "  return _methods._mean(a, axis=axis, dtype=dtype,\n",
      "/Library/Frameworks/Python.framework/Versions/3.11/lib/python3.11/site-packages/numpy/core/_methods.py:190: RuntimeWarning: invalid value encountered in double_scalars\n",
      "  ret = ret.dtype.type(ret / rcount)\n",
      "/Library/Frameworks/Python.framework/Versions/3.11/lib/python3.11/site-packages/numpy/core/fromnumeric.py:3432: RuntimeWarning: Mean of empty slice.\n",
      "  return _methods._mean(a, axis=axis, dtype=dtype,\n",
      "/Library/Frameworks/Python.framework/Versions/3.11/lib/python3.11/site-packages/numpy/core/_methods.py:190: RuntimeWarning: invalid value encountered in double_scalars\n",
      "  ret = ret.dtype.type(ret / rcount)\n",
      "/Library/Frameworks/Python.framework/Versions/3.11/lib/python3.11/site-packages/numpy/core/fromnumeric.py:3432: RuntimeWarning: Mean of empty slice.\n",
      "  return _methods._mean(a, axis=axis, dtype=dtype,\n",
      "/Library/Frameworks/Python.framework/Versions/3.11/lib/python3.11/site-packages/numpy/core/_methods.py:190: RuntimeWarning: invalid value encountered in double_scalars\n",
      "  ret = ret.dtype.type(ret / rcount)\n",
      "/Library/Frameworks/Python.framework/Versions/3.11/lib/python3.11/site-packages/numpy/core/fromnumeric.py:3432: RuntimeWarning: Mean of empty slice.\n",
      "  return _methods._mean(a, axis=axis, dtype=dtype,\n",
      "/Library/Frameworks/Python.framework/Versions/3.11/lib/python3.11/site-packages/numpy/core/_methods.py:190: RuntimeWarning: invalid value encountered in double_scalars\n",
      "  ret = ret.dtype.type(ret / rcount)\n",
      "/Library/Frameworks/Python.framework/Versions/3.11/lib/python3.11/site-packages/numpy/core/fromnumeric.py:3432: RuntimeWarning: Mean of empty slice.\n",
      "  return _methods._mean(a, axis=axis, dtype=dtype,\n",
      "/Library/Frameworks/Python.framework/Versions/3.11/lib/python3.11/site-packages/numpy/core/_methods.py:190: RuntimeWarning: invalid value encountered in double_scalars\n",
      "  ret = ret.dtype.type(ret / rcount)\n",
      "/Library/Frameworks/Python.framework/Versions/3.11/lib/python3.11/site-packages/numpy/core/fromnumeric.py:3432: RuntimeWarning: Mean of empty slice.\n",
      "  return _methods._mean(a, axis=axis, dtype=dtype,\n",
      "/Library/Frameworks/Python.framework/Versions/3.11/lib/python3.11/site-packages/numpy/core/_methods.py:190: RuntimeWarning: invalid value encountered in double_scalars\n",
      "  ret = ret.dtype.type(ret / rcount)\n",
      "/Library/Frameworks/Python.framework/Versions/3.11/lib/python3.11/site-packages/numpy/core/fromnumeric.py:3432: RuntimeWarning: Mean of empty slice.\n",
      "  return _methods._mean(a, axis=axis, dtype=dtype,\n",
      "/Library/Frameworks/Python.framework/Versions/3.11/lib/python3.11/site-packages/numpy/core/_methods.py:190: RuntimeWarning: invalid value encountered in double_scalars\n",
      "  ret = ret.dtype.type(ret / rcount)\n",
      "/Library/Frameworks/Python.framework/Versions/3.11/lib/python3.11/site-packages/numpy/core/fromnumeric.py:3432: RuntimeWarning: Mean of empty slice.\n",
      "  return _methods._mean(a, axis=axis, dtype=dtype,\n",
      "/Library/Frameworks/Python.framework/Versions/3.11/lib/python3.11/site-packages/numpy/core/_methods.py:190: RuntimeWarning: invalid value encountered in double_scalars\n",
      "  ret = ret.dtype.type(ret / rcount)\n",
      "/Library/Frameworks/Python.framework/Versions/3.11/lib/python3.11/site-packages/numpy/core/fromnumeric.py:3432: RuntimeWarning: Mean of empty slice.\n",
      "  return _methods._mean(a, axis=axis, dtype=dtype,\n",
      "/Library/Frameworks/Python.framework/Versions/3.11/lib/python3.11/site-packages/numpy/core/_methods.py:190: RuntimeWarning: invalid value encountered in double_scalars\n",
      "  ret = ret.dtype.type(ret / rcount)\n",
      "/Library/Frameworks/Python.framework/Versions/3.11/lib/python3.11/site-packages/numpy/core/fromnumeric.py:3432: RuntimeWarning: Mean of empty slice.\n",
      "  return _methods._mean(a, axis=axis, dtype=dtype,\n",
      "/Library/Frameworks/Python.framework/Versions/3.11/lib/python3.11/site-packages/numpy/core/_methods.py:190: RuntimeWarning: invalid value encountered in double_scalars\n",
      "  ret = ret.dtype.type(ret / rcount)\n",
      "/Library/Frameworks/Python.framework/Versions/3.11/lib/python3.11/site-packages/numpy/core/fromnumeric.py:3432: RuntimeWarning: Mean of empty slice.\n",
      "  return _methods._mean(a, axis=axis, dtype=dtype,\n",
      "/Library/Frameworks/Python.framework/Versions/3.11/lib/python3.11/site-packages/numpy/core/_methods.py:190: RuntimeWarning: invalid value encountered in double_scalars\n",
      "  ret = ret.dtype.type(ret / rcount)\n",
      "/Library/Frameworks/Python.framework/Versions/3.11/lib/python3.11/site-packages/numpy/core/fromnumeric.py:3432: RuntimeWarning: Mean of empty slice.\n",
      "  return _methods._mean(a, axis=axis, dtype=dtype,\n",
      "/Library/Frameworks/Python.framework/Versions/3.11/lib/python3.11/site-packages/numpy/core/_methods.py:190: RuntimeWarning: invalid value encountered in double_scalars\n",
      "  ret = ret.dtype.type(ret / rcount)\n",
      "/Library/Frameworks/Python.framework/Versions/3.11/lib/python3.11/site-packages/numpy/core/fromnumeric.py:3432: RuntimeWarning: Mean of empty slice.\n",
      "  return _methods._mean(a, axis=axis, dtype=dtype,\n",
      "/Library/Frameworks/Python.framework/Versions/3.11/lib/python3.11/site-packages/numpy/core/_methods.py:190: RuntimeWarning: invalid value encountered in double_scalars\n",
      "  ret = ret.dtype.type(ret / rcount)\n",
      "/Library/Frameworks/Python.framework/Versions/3.11/lib/python3.11/site-packages/numpy/core/fromnumeric.py:3432: RuntimeWarning: Mean of empty slice.\n",
      "  return _methods._mean(a, axis=axis, dtype=dtype,\n",
      "/Library/Frameworks/Python.framework/Versions/3.11/lib/python3.11/site-packages/numpy/core/_methods.py:190: RuntimeWarning: invalid value encountered in double_scalars\n",
      "  ret = ret.dtype.type(ret / rcount)\n",
      "/Library/Frameworks/Python.framework/Versions/3.11/lib/python3.11/site-packages/numpy/core/fromnumeric.py:3432: RuntimeWarning: Mean of empty slice.\n",
      "  return _methods._mean(a, axis=axis, dtype=dtype,\n",
      "/Library/Frameworks/Python.framework/Versions/3.11/lib/python3.11/site-packages/numpy/core/_methods.py:190: RuntimeWarning: invalid value encountered in double_scalars\n",
      "  ret = ret.dtype.type(ret / rcount)\n",
      "/Library/Frameworks/Python.framework/Versions/3.11/lib/python3.11/site-packages/numpy/core/fromnumeric.py:3432: RuntimeWarning: Mean of empty slice.\n",
      "  return _methods._mean(a, axis=axis, dtype=dtype,\n",
      "/Library/Frameworks/Python.framework/Versions/3.11/lib/python3.11/site-packages/numpy/core/_methods.py:190: RuntimeWarning: invalid value encountered in double_scalars\n",
      "  ret = ret.dtype.type(ret / rcount)\n",
      "/Library/Frameworks/Python.framework/Versions/3.11/lib/python3.11/site-packages/numpy/core/fromnumeric.py:3432: RuntimeWarning: Mean of empty slice.\n",
      "  return _methods._mean(a, axis=axis, dtype=dtype,\n",
      "/Library/Frameworks/Python.framework/Versions/3.11/lib/python3.11/site-packages/numpy/core/_methods.py:190: RuntimeWarning: invalid value encountered in double_scalars\n",
      "  ret = ret.dtype.type(ret / rcount)\n"
     ]
    }
   ],
   "source": [
    "nm = Net_moduls()\n",
    "pearson_network_ThreeReg_pn_1_98_averged = nm.get_network_features_averaged_median(tehran_df, regimes_column = tehran_df_reg.iloc[:-300]['3_PN'],method='pearson',edges_threshold=200, target_window=100, target_length=20)"
   ]
  },
  {
   "cell_type": "code",
   "execution_count": 52,
   "id": "f9e49bd4-7ddb-4687-ad44-25d1d10a6c8f",
   "metadata": {},
   "outputs": [
    {
     "data": {
      "text/html": [
       "<div>\n",
       "<style scoped>\n",
       "    .dataframe tbody tr th:only-of-type {\n",
       "        vertical-align: middle;\n",
       "    }\n",
       "\n",
       "    .dataframe tbody tr th {\n",
       "        vertical-align: top;\n",
       "    }\n",
       "\n",
       "    .dataframe thead th {\n",
       "        text-align: right;\n",
       "    }\n",
       "</style>\n",
       "<table border=\"1\" class=\"dataframe\">\n",
       "  <thead>\n",
       "    <tr style=\"text-align: right;\">\n",
       "      <th></th>\n",
       "      <th>radius</th>\n",
       "      <th>diameter</th>\n",
       "      <th>densities</th>\n",
       "      <th>number_of_edges</th>\n",
       "      <th>average_clustering</th>\n",
       "      <th>avg_degree_centrality</th>\n",
       "      <th>avg_betweenness_centrality</th>\n",
       "      <th>avg_closeness_centrality</th>\n",
       "      <th>average_shortest_path_length</th>\n",
       "    </tr>\n",
       "  </thead>\n",
       "  <tbody>\n",
       "    <tr>\n",
       "      <th>Means</th>\n",
       "      <td>2.750000</td>\n",
       "      <td>4.850000</td>\n",
       "      <td>0.530275</td>\n",
       "      <td>493.350000</td>\n",
       "      <td>0.764702</td>\n",
       "      <td>0.530275</td>\n",
       "      <td>0.015540</td>\n",
       "      <td>0.649068</td>\n",
       "      <td>1.647954</td>\n",
       "    </tr>\n",
       "    <tr>\n",
       "      <th>STDs</th>\n",
       "      <td>0.444262</td>\n",
       "      <td>0.745160</td>\n",
       "      <td>0.019884</td>\n",
       "      <td>11.735125</td>\n",
       "      <td>0.030919</td>\n",
       "      <td>0.019884</td>\n",
       "      <td>0.002138</td>\n",
       "      <td>0.030612</td>\n",
       "      <td>0.094284</td>\n",
       "    </tr>\n",
       "    <tr>\n",
       "      <th>Means</th>\n",
       "      <td>2.150000</td>\n",
       "      <td>4.100000</td>\n",
       "      <td>0.389161</td>\n",
       "      <td>399.000000</td>\n",
       "      <td>0.662365</td>\n",
       "      <td>0.389161</td>\n",
       "      <td>0.017193</td>\n",
       "      <td>0.594210</td>\n",
       "      <td>1.753320</td>\n",
       "    </tr>\n",
       "    <tr>\n",
       "      <th>STDs</th>\n",
       "      <td>0.366348</td>\n",
       "      <td>0.307794</td>\n",
       "      <td>0.019178</td>\n",
       "      <td>13.875385</td>\n",
       "      <td>0.019646</td>\n",
       "      <td>0.019178</td>\n",
       "      <td>0.001155</td>\n",
       "      <td>0.016832</td>\n",
       "      <td>0.054750</td>\n",
       "    </tr>\n",
       "    <tr>\n",
       "      <th>Means</th>\n",
       "      <td>2.941176</td>\n",
       "      <td>4.588235</td>\n",
       "      <td>0.475287</td>\n",
       "      <td>454.350000</td>\n",
       "      <td>0.760012</td>\n",
       "      <td>0.475287</td>\n",
       "      <td>0.017302</td>\n",
       "      <td>0.599411</td>\n",
       "      <td>1.767964</td>\n",
       "    </tr>\n",
       "    <tr>\n",
       "      <th>STDs</th>\n",
       "      <td>0.242536</td>\n",
       "      <td>0.507300</td>\n",
       "      <td>0.021470</td>\n",
       "      <td>9.696852</td>\n",
       "      <td>0.020502</td>\n",
       "      <td>0.021470</td>\n",
       "      <td>0.002374</td>\n",
       "      <td>0.019856</td>\n",
       "      <td>0.057824</td>\n",
       "    </tr>\n",
       "    <tr>\n",
       "      <th>Means</th>\n",
       "      <td>NaN</td>\n",
       "      <td>NaN</td>\n",
       "      <td>0.000000</td>\n",
       "      <td>0.000000</td>\n",
       "      <td>NaN</td>\n",
       "      <td>NaN</td>\n",
       "      <td>NaN</td>\n",
       "      <td>NaN</td>\n",
       "      <td>NaN</td>\n",
       "    </tr>\n",
       "    <tr>\n",
       "      <th>STDs</th>\n",
       "      <td>NaN</td>\n",
       "      <td>NaN</td>\n",
       "      <td>0.000000</td>\n",
       "      <td>0.000000</td>\n",
       "      <td>NaN</td>\n",
       "      <td>NaN</td>\n",
       "      <td>NaN</td>\n",
       "      <td>NaN</td>\n",
       "      <td>NaN</td>\n",
       "    </tr>\n",
       "  </tbody>\n",
       "</table>\n",
       "</div>"
      ],
      "text/plain": [
       "         radius  diameter  densities  number_of_edges  average_clustering  \\\n",
       "Means  2.750000  4.850000   0.530275       493.350000            0.764702   \n",
       "STDs   0.444262  0.745160   0.019884        11.735125            0.030919   \n",
       "Means  2.150000  4.100000   0.389161       399.000000            0.662365   \n",
       "STDs   0.366348  0.307794   0.019178        13.875385            0.019646   \n",
       "Means  2.941176  4.588235   0.475287       454.350000            0.760012   \n",
       "STDs   0.242536  0.507300   0.021470         9.696852            0.020502   \n",
       "Means       NaN       NaN   0.000000         0.000000                 NaN   \n",
       "STDs        NaN       NaN   0.000000         0.000000                 NaN   \n",
       "\n",
       "       avg_degree_centrality  avg_betweenness_centrality  \\\n",
       "Means               0.530275                    0.015540   \n",
       "STDs                0.019884                    0.002138   \n",
       "Means               0.389161                    0.017193   \n",
       "STDs                0.019178                    0.001155   \n",
       "Means               0.475287                    0.017302   \n",
       "STDs                0.021470                    0.002374   \n",
       "Means                    NaN                         NaN   \n",
       "STDs                     NaN                         NaN   \n",
       "\n",
       "       avg_closeness_centrality  average_shortest_path_length  \n",
       "Means                  0.649068                      1.647954  \n",
       "STDs                   0.030612                      0.094284  \n",
       "Means                  0.594210                      1.753320  \n",
       "STDs                   0.016832                      0.054750  \n",
       "Means                  0.599411                      1.767964  \n",
       "STDs                   0.019856                      0.057824  \n",
       "Means                       NaN                           NaN  \n",
       "STDs                        NaN                           NaN  "
      ]
     },
     "execution_count": 52,
     "metadata": {},
     "output_type": "execute_result"
    }
   ],
   "source": [
    "pearson_network_ThreeReg_pn_1_98_averged"
   ]
  },
  {
   "cell_type": "code",
   "execution_count": 53,
   "id": "500d9f99-dac9-4a0b-8ca1-31b10ea46ffd",
   "metadata": {},
   "outputs": [],
   "source": [
    "pearson_network_ThreeReg_pn_1_98_averged.to_csv('Excels/38.csv')"
   ]
  },
  {
   "cell_type": "markdown",
   "id": "ae1a2070-3cb7-4a8b-967c-a31428d58c7f",
   "metadata": {},
   "source": [
    "# 39) Tehran 3 pn Regime Pearson (Based on Median Threshold) Period of 90 Far - 00 Far/ 50 windows of 100 Records"
   ]
  },
  {
   "cell_type": "code",
   "execution_count": 54,
   "id": "03e25898-3343-4e11-acb1-4cf77d97c582",
   "metadata": {
    "collapsed": true,
    "jupyter": {
     "outputs_hidden": true
    },
    "tags": []
   },
   "outputs": [
    {
     "name": "stdout",
     "output_type": "stream",
     "text": [
      "Number of columns data in our DataFrame is = 46\n"
     ]
    },
    {
     "name": "stderr",
     "output_type": "stream",
     "text": [
      "/Library/Frameworks/Python.framework/Versions/3.11/lib/python3.11/site-packages/numpy/core/fromnumeric.py:3432: RuntimeWarning: Mean of empty slice.\n",
      "  return _methods._mean(a, axis=axis, dtype=dtype,\n",
      "/Library/Frameworks/Python.framework/Versions/3.11/lib/python3.11/site-packages/numpy/core/_methods.py:190: RuntimeWarning: invalid value encountered in double_scalars\n",
      "  ret = ret.dtype.type(ret / rcount)\n",
      "/Library/Frameworks/Python.framework/Versions/3.11/lib/python3.11/site-packages/numpy/core/fromnumeric.py:3432: RuntimeWarning: Mean of empty slice.\n",
      "  return _methods._mean(a, axis=axis, dtype=dtype,\n",
      "/Library/Frameworks/Python.framework/Versions/3.11/lib/python3.11/site-packages/numpy/core/_methods.py:190: RuntimeWarning: invalid value encountered in double_scalars\n",
      "  ret = ret.dtype.type(ret / rcount)\n",
      "/Library/Frameworks/Python.framework/Versions/3.11/lib/python3.11/site-packages/numpy/core/fromnumeric.py:3432: RuntimeWarning: Mean of empty slice.\n",
      "  return _methods._mean(a, axis=axis, dtype=dtype,\n",
      "/Library/Frameworks/Python.framework/Versions/3.11/lib/python3.11/site-packages/numpy/core/_methods.py:190: RuntimeWarning: invalid value encountered in double_scalars\n",
      "  ret = ret.dtype.type(ret / rcount)\n",
      "/Library/Frameworks/Python.framework/Versions/3.11/lib/python3.11/site-packages/numpy/core/fromnumeric.py:3432: RuntimeWarning: Mean of empty slice.\n",
      "  return _methods._mean(a, axis=axis, dtype=dtype,\n",
      "/Library/Frameworks/Python.framework/Versions/3.11/lib/python3.11/site-packages/numpy/core/_methods.py:190: RuntimeWarning: invalid value encountered in double_scalars\n",
      "  ret = ret.dtype.type(ret / rcount)\n",
      "/Library/Frameworks/Python.framework/Versions/3.11/lib/python3.11/site-packages/numpy/core/fromnumeric.py:3432: RuntimeWarning: Mean of empty slice.\n",
      "  return _methods._mean(a, axis=axis, dtype=dtype,\n",
      "/Library/Frameworks/Python.framework/Versions/3.11/lib/python3.11/site-packages/numpy/core/_methods.py:190: RuntimeWarning: invalid value encountered in double_scalars\n",
      "  ret = ret.dtype.type(ret / rcount)\n",
      "/Library/Frameworks/Python.framework/Versions/3.11/lib/python3.11/site-packages/numpy/core/fromnumeric.py:3432: RuntimeWarning: Mean of empty slice.\n",
      "  return _methods._mean(a, axis=axis, dtype=dtype,\n",
      "/Library/Frameworks/Python.framework/Versions/3.11/lib/python3.11/site-packages/numpy/core/_methods.py:190: RuntimeWarning: invalid value encountered in double_scalars\n",
      "  ret = ret.dtype.type(ret / rcount)\n",
      "/Library/Frameworks/Python.framework/Versions/3.11/lib/python3.11/site-packages/numpy/core/fromnumeric.py:3432: RuntimeWarning: Mean of empty slice.\n",
      "  return _methods._mean(a, axis=axis, dtype=dtype,\n",
      "/Library/Frameworks/Python.framework/Versions/3.11/lib/python3.11/site-packages/numpy/core/_methods.py:190: RuntimeWarning: invalid value encountered in double_scalars\n",
      "  ret = ret.dtype.type(ret / rcount)\n",
      "/Library/Frameworks/Python.framework/Versions/3.11/lib/python3.11/site-packages/numpy/core/fromnumeric.py:3432: RuntimeWarning: Mean of empty slice.\n",
      "  return _methods._mean(a, axis=axis, dtype=dtype,\n",
      "/Library/Frameworks/Python.framework/Versions/3.11/lib/python3.11/site-packages/numpy/core/_methods.py:190: RuntimeWarning: invalid value encountered in double_scalars\n",
      "  ret = ret.dtype.type(ret / rcount)\n",
      "/Library/Frameworks/Python.framework/Versions/3.11/lib/python3.11/site-packages/numpy/core/fromnumeric.py:3432: RuntimeWarning: Mean of empty slice.\n",
      "  return _methods._mean(a, axis=axis, dtype=dtype,\n",
      "/Library/Frameworks/Python.framework/Versions/3.11/lib/python3.11/site-packages/numpy/core/_methods.py:190: RuntimeWarning: invalid value encountered in double_scalars\n",
      "  ret = ret.dtype.type(ret / rcount)\n",
      "/Library/Frameworks/Python.framework/Versions/3.11/lib/python3.11/site-packages/numpy/core/fromnumeric.py:3432: RuntimeWarning: Mean of empty slice.\n",
      "  return _methods._mean(a, axis=axis, dtype=dtype,\n",
      "/Library/Frameworks/Python.framework/Versions/3.11/lib/python3.11/site-packages/numpy/core/_methods.py:190: RuntimeWarning: invalid value encountered in double_scalars\n",
      "  ret = ret.dtype.type(ret / rcount)\n",
      "/Library/Frameworks/Python.framework/Versions/3.11/lib/python3.11/site-packages/numpy/core/fromnumeric.py:3432: RuntimeWarning: Mean of empty slice.\n",
      "  return _methods._mean(a, axis=axis, dtype=dtype,\n",
      "/Library/Frameworks/Python.framework/Versions/3.11/lib/python3.11/site-packages/numpy/core/_methods.py:190: RuntimeWarning: invalid value encountered in double_scalars\n",
      "  ret = ret.dtype.type(ret / rcount)\n",
      "/Library/Frameworks/Python.framework/Versions/3.11/lib/python3.11/site-packages/numpy/core/fromnumeric.py:3432: RuntimeWarning: Mean of empty slice.\n",
      "  return _methods._mean(a, axis=axis, dtype=dtype,\n",
      "/Library/Frameworks/Python.framework/Versions/3.11/lib/python3.11/site-packages/numpy/core/_methods.py:190: RuntimeWarning: invalid value encountered in double_scalars\n",
      "  ret = ret.dtype.type(ret / rcount)\n",
      "/Library/Frameworks/Python.framework/Versions/3.11/lib/python3.11/site-packages/numpy/core/fromnumeric.py:3432: RuntimeWarning: Mean of empty slice.\n",
      "  return _methods._mean(a, axis=axis, dtype=dtype,\n",
      "/Library/Frameworks/Python.framework/Versions/3.11/lib/python3.11/site-packages/numpy/core/_methods.py:190: RuntimeWarning: invalid value encountered in double_scalars\n",
      "  ret = ret.dtype.type(ret / rcount)\n",
      "/Library/Frameworks/Python.framework/Versions/3.11/lib/python3.11/site-packages/numpy/core/fromnumeric.py:3432: RuntimeWarning: Mean of empty slice.\n",
      "  return _methods._mean(a, axis=axis, dtype=dtype,\n",
      "/Library/Frameworks/Python.framework/Versions/3.11/lib/python3.11/site-packages/numpy/core/_methods.py:190: RuntimeWarning: invalid value encountered in double_scalars\n",
      "  ret = ret.dtype.type(ret / rcount)\n",
      "/Library/Frameworks/Python.framework/Versions/3.11/lib/python3.11/site-packages/numpy/core/fromnumeric.py:3432: RuntimeWarning: Mean of empty slice.\n",
      "  return _methods._mean(a, axis=axis, dtype=dtype,\n",
      "/Library/Frameworks/Python.framework/Versions/3.11/lib/python3.11/site-packages/numpy/core/_methods.py:190: RuntimeWarning: invalid value encountered in double_scalars\n",
      "  ret = ret.dtype.type(ret / rcount)\n",
      "/Library/Frameworks/Python.framework/Versions/3.11/lib/python3.11/site-packages/numpy/core/fromnumeric.py:3432: RuntimeWarning: Mean of empty slice.\n",
      "  return _methods._mean(a, axis=axis, dtype=dtype,\n",
      "/Library/Frameworks/Python.framework/Versions/3.11/lib/python3.11/site-packages/numpy/core/_methods.py:190: RuntimeWarning: invalid value encountered in double_scalars\n",
      "  ret = ret.dtype.type(ret / rcount)\n",
      "/Library/Frameworks/Python.framework/Versions/3.11/lib/python3.11/site-packages/numpy/core/fromnumeric.py:3432: RuntimeWarning: Mean of empty slice.\n",
      "  return _methods._mean(a, axis=axis, dtype=dtype,\n",
      "/Library/Frameworks/Python.framework/Versions/3.11/lib/python3.11/site-packages/numpy/core/_methods.py:190: RuntimeWarning: invalid value encountered in double_scalars\n",
      "  ret = ret.dtype.type(ret / rcount)\n",
      "/Library/Frameworks/Python.framework/Versions/3.11/lib/python3.11/site-packages/numpy/core/fromnumeric.py:3432: RuntimeWarning: Mean of empty slice.\n",
      "  return _methods._mean(a, axis=axis, dtype=dtype,\n",
      "/Library/Frameworks/Python.framework/Versions/3.11/lib/python3.11/site-packages/numpy/core/_methods.py:190: RuntimeWarning: invalid value encountered in double_scalars\n",
      "  ret = ret.dtype.type(ret / rcount)\n",
      "/Library/Frameworks/Python.framework/Versions/3.11/lib/python3.11/site-packages/numpy/core/fromnumeric.py:3432: RuntimeWarning: Mean of empty slice.\n",
      "  return _methods._mean(a, axis=axis, dtype=dtype,\n",
      "/Library/Frameworks/Python.framework/Versions/3.11/lib/python3.11/site-packages/numpy/core/_methods.py:190: RuntimeWarning: invalid value encountered in double_scalars\n",
      "  ret = ret.dtype.type(ret / rcount)\n",
      "/Library/Frameworks/Python.framework/Versions/3.11/lib/python3.11/site-packages/numpy/core/fromnumeric.py:3432: RuntimeWarning: Mean of empty slice.\n",
      "  return _methods._mean(a, axis=axis, dtype=dtype,\n",
      "/Library/Frameworks/Python.framework/Versions/3.11/lib/python3.11/site-packages/numpy/core/_methods.py:190: RuntimeWarning: invalid value encountered in double_scalars\n",
      "  ret = ret.dtype.type(ret / rcount)\n",
      "/Library/Frameworks/Python.framework/Versions/3.11/lib/python3.11/site-packages/numpy/core/fromnumeric.py:3432: RuntimeWarning: Mean of empty slice.\n",
      "  return _methods._mean(a, axis=axis, dtype=dtype,\n",
      "/Library/Frameworks/Python.framework/Versions/3.11/lib/python3.11/site-packages/numpy/core/_methods.py:190: RuntimeWarning: invalid value encountered in double_scalars\n",
      "  ret = ret.dtype.type(ret / rcount)\n",
      "/Library/Frameworks/Python.framework/Versions/3.11/lib/python3.11/site-packages/numpy/core/fromnumeric.py:3432: RuntimeWarning: Mean of empty slice.\n",
      "  return _methods._mean(a, axis=axis, dtype=dtype,\n",
      "/Library/Frameworks/Python.framework/Versions/3.11/lib/python3.11/site-packages/numpy/core/_methods.py:190: RuntimeWarning: invalid value encountered in double_scalars\n",
      "  ret = ret.dtype.type(ret / rcount)\n",
      "/Library/Frameworks/Python.framework/Versions/3.11/lib/python3.11/site-packages/numpy/core/fromnumeric.py:3432: RuntimeWarning: Mean of empty slice.\n",
      "  return _methods._mean(a, axis=axis, dtype=dtype,\n",
      "/Library/Frameworks/Python.framework/Versions/3.11/lib/python3.11/site-packages/numpy/core/_methods.py:190: RuntimeWarning: invalid value encountered in double_scalars\n",
      "  ret = ret.dtype.type(ret / rcount)\n",
      "/Library/Frameworks/Python.framework/Versions/3.11/lib/python3.11/site-packages/numpy/core/fromnumeric.py:3432: RuntimeWarning: Mean of empty slice.\n",
      "  return _methods._mean(a, axis=axis, dtype=dtype,\n",
      "/Library/Frameworks/Python.framework/Versions/3.11/lib/python3.11/site-packages/numpy/core/_methods.py:190: RuntimeWarning: invalid value encountered in double_scalars\n",
      "  ret = ret.dtype.type(ret / rcount)\n",
      "/Library/Frameworks/Python.framework/Versions/3.11/lib/python3.11/site-packages/numpy/core/fromnumeric.py:3432: RuntimeWarning: Mean of empty slice.\n",
      "  return _methods._mean(a, axis=axis, dtype=dtype,\n",
      "/Library/Frameworks/Python.framework/Versions/3.11/lib/python3.11/site-packages/numpy/core/_methods.py:190: RuntimeWarning: invalid value encountered in double_scalars\n",
      "  ret = ret.dtype.type(ret / rcount)\n",
      "/Library/Frameworks/Python.framework/Versions/3.11/lib/python3.11/site-packages/numpy/core/fromnumeric.py:3432: RuntimeWarning: Mean of empty slice.\n",
      "  return _methods._mean(a, axis=axis, dtype=dtype,\n",
      "/Library/Frameworks/Python.framework/Versions/3.11/lib/python3.11/site-packages/numpy/core/_methods.py:190: RuntimeWarning: invalid value encountered in double_scalars\n",
      "  ret = ret.dtype.type(ret / rcount)\n",
      "/Library/Frameworks/Python.framework/Versions/3.11/lib/python3.11/site-packages/numpy/core/fromnumeric.py:3432: RuntimeWarning: Mean of empty slice.\n",
      "  return _methods._mean(a, axis=axis, dtype=dtype,\n",
      "/Library/Frameworks/Python.framework/Versions/3.11/lib/python3.11/site-packages/numpy/core/_methods.py:190: RuntimeWarning: invalid value encountered in double_scalars\n",
      "  ret = ret.dtype.type(ret / rcount)\n",
      "/Library/Frameworks/Python.framework/Versions/3.11/lib/python3.11/site-packages/numpy/core/fromnumeric.py:3432: RuntimeWarning: Mean of empty slice.\n",
      "  return _methods._mean(a, axis=axis, dtype=dtype,\n",
      "/Library/Frameworks/Python.framework/Versions/3.11/lib/python3.11/site-packages/numpy/core/_methods.py:190: RuntimeWarning: invalid value encountered in double_scalars\n",
      "  ret = ret.dtype.type(ret / rcount)\n",
      "/Library/Frameworks/Python.framework/Versions/3.11/lib/python3.11/site-packages/numpy/core/fromnumeric.py:3432: RuntimeWarning: Mean of empty slice.\n",
      "  return _methods._mean(a, axis=axis, dtype=dtype,\n",
      "/Library/Frameworks/Python.framework/Versions/3.11/lib/python3.11/site-packages/numpy/core/_methods.py:190: RuntimeWarning: invalid value encountered in double_scalars\n",
      "  ret = ret.dtype.type(ret / rcount)\n",
      "/Library/Frameworks/Python.framework/Versions/3.11/lib/python3.11/site-packages/numpy/core/fromnumeric.py:3432: RuntimeWarning: Mean of empty slice.\n",
      "  return _methods._mean(a, axis=axis, dtype=dtype,\n",
      "/Library/Frameworks/Python.framework/Versions/3.11/lib/python3.11/site-packages/numpy/core/_methods.py:190: RuntimeWarning: invalid value encountered in double_scalars\n",
      "  ret = ret.dtype.type(ret / rcount)\n",
      "/Library/Frameworks/Python.framework/Versions/3.11/lib/python3.11/site-packages/numpy/core/fromnumeric.py:3432: RuntimeWarning: Mean of empty slice.\n",
      "  return _methods._mean(a, axis=axis, dtype=dtype,\n",
      "/Library/Frameworks/Python.framework/Versions/3.11/lib/python3.11/site-packages/numpy/core/_methods.py:190: RuntimeWarning: invalid value encountered in double_scalars\n",
      "  ret = ret.dtype.type(ret / rcount)\n",
      "/Library/Frameworks/Python.framework/Versions/3.11/lib/python3.11/site-packages/numpy/core/fromnumeric.py:3432: RuntimeWarning: Mean of empty slice.\n",
      "  return _methods._mean(a, axis=axis, dtype=dtype,\n",
      "/Library/Frameworks/Python.framework/Versions/3.11/lib/python3.11/site-packages/numpy/core/_methods.py:190: RuntimeWarning: invalid value encountered in double_scalars\n",
      "  ret = ret.dtype.type(ret / rcount)\n",
      "/Library/Frameworks/Python.framework/Versions/3.11/lib/python3.11/site-packages/numpy/core/fromnumeric.py:3432: RuntimeWarning: Mean of empty slice.\n",
      "  return _methods._mean(a, axis=axis, dtype=dtype,\n",
      "/Library/Frameworks/Python.framework/Versions/3.11/lib/python3.11/site-packages/numpy/core/_methods.py:190: RuntimeWarning: invalid value encountered in double_scalars\n",
      "  ret = ret.dtype.type(ret / rcount)\n",
      "/Library/Frameworks/Python.framework/Versions/3.11/lib/python3.11/site-packages/numpy/core/fromnumeric.py:3432: RuntimeWarning: Mean of empty slice.\n",
      "  return _methods._mean(a, axis=axis, dtype=dtype,\n",
      "/Library/Frameworks/Python.framework/Versions/3.11/lib/python3.11/site-packages/numpy/core/_methods.py:190: RuntimeWarning: invalid value encountered in double_scalars\n",
      "  ret = ret.dtype.type(ret / rcount)\n"
     ]
    },
    {
     "name": "stdout",
     "output_type": "stream",
     "text": [
      "fixed_thr= 0.16126842835224325\n"
     ]
    },
    {
     "name": "stderr",
     "output_type": "stream",
     "text": [
      "/Library/Frameworks/Python.framework/Versions/3.11/lib/python3.11/site-packages/numpy/core/fromnumeric.py:3432: RuntimeWarning: Mean of empty slice.\n",
      "  return _methods._mean(a, axis=axis, dtype=dtype,\n",
      "/Library/Frameworks/Python.framework/Versions/3.11/lib/python3.11/site-packages/numpy/core/_methods.py:190: RuntimeWarning: invalid value encountered in double_scalars\n",
      "  ret = ret.dtype.type(ret / rcount)\n",
      "/Library/Frameworks/Python.framework/Versions/3.11/lib/python3.11/site-packages/numpy/core/fromnumeric.py:3432: RuntimeWarning: Mean of empty slice.\n",
      "  return _methods._mean(a, axis=axis, dtype=dtype,\n",
      "/Library/Frameworks/Python.framework/Versions/3.11/lib/python3.11/site-packages/numpy/core/_methods.py:190: RuntimeWarning: invalid value encountered in double_scalars\n",
      "  ret = ret.dtype.type(ret / rcount)\n",
      "/Library/Frameworks/Python.framework/Versions/3.11/lib/python3.11/site-packages/numpy/core/fromnumeric.py:3432: RuntimeWarning: Mean of empty slice.\n",
      "  return _methods._mean(a, axis=axis, dtype=dtype,\n",
      "/Library/Frameworks/Python.framework/Versions/3.11/lib/python3.11/site-packages/numpy/core/_methods.py:190: RuntimeWarning: invalid value encountered in double_scalars\n",
      "  ret = ret.dtype.type(ret / rcount)\n",
      "/Library/Frameworks/Python.framework/Versions/3.11/lib/python3.11/site-packages/numpy/core/fromnumeric.py:3432: RuntimeWarning: Mean of empty slice.\n",
      "  return _methods._mean(a, axis=axis, dtype=dtype,\n",
      "/Library/Frameworks/Python.framework/Versions/3.11/lib/python3.11/site-packages/numpy/core/_methods.py:190: RuntimeWarning: invalid value encountered in double_scalars\n",
      "  ret = ret.dtype.type(ret / rcount)\n",
      "/Library/Frameworks/Python.framework/Versions/3.11/lib/python3.11/site-packages/numpy/core/fromnumeric.py:3432: RuntimeWarning: Mean of empty slice.\n",
      "  return _methods._mean(a, axis=axis, dtype=dtype,\n",
      "/Library/Frameworks/Python.framework/Versions/3.11/lib/python3.11/site-packages/numpy/core/_methods.py:190: RuntimeWarning: invalid value encountered in double_scalars\n",
      "  ret = ret.dtype.type(ret / rcount)\n",
      "/Library/Frameworks/Python.framework/Versions/3.11/lib/python3.11/site-packages/numpy/core/fromnumeric.py:3432: RuntimeWarning: Mean of empty slice.\n",
      "  return _methods._mean(a, axis=axis, dtype=dtype,\n",
      "/Library/Frameworks/Python.framework/Versions/3.11/lib/python3.11/site-packages/numpy/core/_methods.py:190: RuntimeWarning: invalid value encountered in double_scalars\n",
      "  ret = ret.dtype.type(ret / rcount)\n",
      "/Library/Frameworks/Python.framework/Versions/3.11/lib/python3.11/site-packages/numpy/core/fromnumeric.py:3432: RuntimeWarning: Mean of empty slice.\n",
      "  return _methods._mean(a, axis=axis, dtype=dtype,\n",
      "/Library/Frameworks/Python.framework/Versions/3.11/lib/python3.11/site-packages/numpy/core/_methods.py:190: RuntimeWarning: invalid value encountered in double_scalars\n",
      "  ret = ret.dtype.type(ret / rcount)\n",
      "/Library/Frameworks/Python.framework/Versions/3.11/lib/python3.11/site-packages/numpy/core/fromnumeric.py:3432: RuntimeWarning: Mean of empty slice.\n",
      "  return _methods._mean(a, axis=axis, dtype=dtype,\n",
      "/Library/Frameworks/Python.framework/Versions/3.11/lib/python3.11/site-packages/numpy/core/_methods.py:190: RuntimeWarning: invalid value encountered in double_scalars\n",
      "  ret = ret.dtype.type(ret / rcount)\n",
      "/Library/Frameworks/Python.framework/Versions/3.11/lib/python3.11/site-packages/numpy/core/fromnumeric.py:3432: RuntimeWarning: Mean of empty slice.\n",
      "  return _methods._mean(a, axis=axis, dtype=dtype,\n",
      "/Library/Frameworks/Python.framework/Versions/3.11/lib/python3.11/site-packages/numpy/core/_methods.py:190: RuntimeWarning: invalid value encountered in double_scalars\n",
      "  ret = ret.dtype.type(ret / rcount)\n",
      "/Library/Frameworks/Python.framework/Versions/3.11/lib/python3.11/site-packages/numpy/core/fromnumeric.py:3432: RuntimeWarning: Mean of empty slice.\n",
      "  return _methods._mean(a, axis=axis, dtype=dtype,\n",
      "/Library/Frameworks/Python.framework/Versions/3.11/lib/python3.11/site-packages/numpy/core/_methods.py:190: RuntimeWarning: invalid value encountered in double_scalars\n",
      "  ret = ret.dtype.type(ret / rcount)\n",
      "/Library/Frameworks/Python.framework/Versions/3.11/lib/python3.11/site-packages/numpy/core/fromnumeric.py:3432: RuntimeWarning: Mean of empty slice.\n",
      "  return _methods._mean(a, axis=axis, dtype=dtype,\n",
      "/Library/Frameworks/Python.framework/Versions/3.11/lib/python3.11/site-packages/numpy/core/_methods.py:190: RuntimeWarning: invalid value encountered in double_scalars\n",
      "  ret = ret.dtype.type(ret / rcount)\n",
      "/Library/Frameworks/Python.framework/Versions/3.11/lib/python3.11/site-packages/numpy/core/fromnumeric.py:3432: RuntimeWarning: Mean of empty slice.\n",
      "  return _methods._mean(a, axis=axis, dtype=dtype,\n",
      "/Library/Frameworks/Python.framework/Versions/3.11/lib/python3.11/site-packages/numpy/core/_methods.py:190: RuntimeWarning: invalid value encountered in double_scalars\n",
      "  ret = ret.dtype.type(ret / rcount)\n",
      "/Library/Frameworks/Python.framework/Versions/3.11/lib/python3.11/site-packages/numpy/core/fromnumeric.py:3432: RuntimeWarning: Mean of empty slice.\n",
      "  return _methods._mean(a, axis=axis, dtype=dtype,\n",
      "/Library/Frameworks/Python.framework/Versions/3.11/lib/python3.11/site-packages/numpy/core/_methods.py:190: RuntimeWarning: invalid value encountered in double_scalars\n",
      "  ret = ret.dtype.type(ret / rcount)\n",
      "/Library/Frameworks/Python.framework/Versions/3.11/lib/python3.11/site-packages/numpy/core/fromnumeric.py:3432: RuntimeWarning: Mean of empty slice.\n",
      "  return _methods._mean(a, axis=axis, dtype=dtype,\n",
      "/Library/Frameworks/Python.framework/Versions/3.11/lib/python3.11/site-packages/numpy/core/_methods.py:190: RuntimeWarning: invalid value encountered in double_scalars\n",
      "  ret = ret.dtype.type(ret / rcount)\n",
      "/Library/Frameworks/Python.framework/Versions/3.11/lib/python3.11/site-packages/numpy/core/fromnumeric.py:3432: RuntimeWarning: Mean of empty slice.\n",
      "  return _methods._mean(a, axis=axis, dtype=dtype,\n",
      "/Library/Frameworks/Python.framework/Versions/3.11/lib/python3.11/site-packages/numpy/core/_methods.py:190: RuntimeWarning: invalid value encountered in double_scalars\n",
      "  ret = ret.dtype.type(ret / rcount)\n"
     ]
    }
   ],
   "source": [
    "nm = Net_moduls()\n",
    "pearson_network_ThreeReg_pn_90_00_averged = nm.get_network_features_averaged_median(tehran_df_completeDates, regimes_column= tehran_df_reg['3_PN'],method='pearson',edges_threshold=200, target_window=100, target_length=50)"
   ]
  },
  {
   "cell_type": "code",
   "execution_count": 55,
   "id": "c3b829e3-a3ab-4caf-a098-5baab244e8f4",
   "metadata": {},
   "outputs": [
    {
     "data": {
      "text/html": [
       "<div>\n",
       "<style scoped>\n",
       "    .dataframe tbody tr th:only-of-type {\n",
       "        vertical-align: middle;\n",
       "    }\n",
       "\n",
       "    .dataframe tbody tr th {\n",
       "        vertical-align: top;\n",
       "    }\n",
       "\n",
       "    .dataframe thead th {\n",
       "        text-align: right;\n",
       "    }\n",
       "</style>\n",
       "<table border=\"1\" class=\"dataframe\">\n",
       "  <thead>\n",
       "    <tr style=\"text-align: right;\">\n",
       "      <th></th>\n",
       "      <th>radius</th>\n",
       "      <th>diameter</th>\n",
       "      <th>densities</th>\n",
       "      <th>number_of_edges</th>\n",
       "      <th>average_clustering</th>\n",
       "      <th>avg_degree_centrality</th>\n",
       "      <th>avg_betweenness_centrality</th>\n",
       "      <th>avg_closeness_centrality</th>\n",
       "      <th>average_shortest_path_length</th>\n",
       "    </tr>\n",
       "  </thead>\n",
       "  <tbody>\n",
       "    <tr>\n",
       "      <th>Means</th>\n",
       "      <td>2.000000</td>\n",
       "      <td>3.540000</td>\n",
       "      <td>0.496754</td>\n",
       "      <td>514.140000</td>\n",
       "      <td>0.764851</td>\n",
       "      <td>0.496754</td>\n",
       "      <td>0.013024</td>\n",
       "      <td>0.662523</td>\n",
       "      <td>1.573043</td>\n",
       "    </tr>\n",
       "    <tr>\n",
       "      <th>STDs</th>\n",
       "      <td>0.000000</td>\n",
       "      <td>0.503457</td>\n",
       "      <td>0.014913</td>\n",
       "      <td>15.435197</td>\n",
       "      <td>0.014340</td>\n",
       "      <td>0.014913</td>\n",
       "      <td>0.001024</td>\n",
       "      <td>0.016408</td>\n",
       "      <td>0.045047</td>\n",
       "    </tr>\n",
       "    <tr>\n",
       "      <th>Means</th>\n",
       "      <td>2.000000</td>\n",
       "      <td>3.660000</td>\n",
       "      <td>0.440543</td>\n",
       "      <td>455.060000</td>\n",
       "      <td>0.679963</td>\n",
       "      <td>0.440543</td>\n",
       "      <td>0.014286</td>\n",
       "      <td>0.634614</td>\n",
       "      <td>1.628093</td>\n",
       "    </tr>\n",
       "    <tr>\n",
       "      <th>STDs</th>\n",
       "      <td>0.000000</td>\n",
       "      <td>0.478518</td>\n",
       "      <td>0.023700</td>\n",
       "      <td>22.503886</td>\n",
       "      <td>0.015267</td>\n",
       "      <td>0.023700</td>\n",
       "      <td>0.000987</td>\n",
       "      <td>0.015852</td>\n",
       "      <td>0.044488</td>\n",
       "    </tr>\n",
       "    <tr>\n",
       "      <th>Means</th>\n",
       "      <td>2.400000</td>\n",
       "      <td>3.980000</td>\n",
       "      <td>0.493333</td>\n",
       "      <td>488.400000</td>\n",
       "      <td>0.740431</td>\n",
       "      <td>0.493333</td>\n",
       "      <td>0.014388</td>\n",
       "      <td>0.647948</td>\n",
       "      <td>1.618687</td>\n",
       "    </tr>\n",
       "    <tr>\n",
       "      <th>STDs</th>\n",
       "      <td>0.494872</td>\n",
       "      <td>0.684821</td>\n",
       "      <td>0.014760</td>\n",
       "      <td>14.611988</td>\n",
       "      <td>0.022811</td>\n",
       "      <td>0.014760</td>\n",
       "      <td>0.001252</td>\n",
       "      <td>0.017459</td>\n",
       "      <td>0.053832</td>\n",
       "    </tr>\n",
       "    <tr>\n",
       "      <th>Means</th>\n",
       "      <td>NaN</td>\n",
       "      <td>NaN</td>\n",
       "      <td>0.000000</td>\n",
       "      <td>0.000000</td>\n",
       "      <td>NaN</td>\n",
       "      <td>NaN</td>\n",
       "      <td>NaN</td>\n",
       "      <td>NaN</td>\n",
       "      <td>NaN</td>\n",
       "    </tr>\n",
       "    <tr>\n",
       "      <th>STDs</th>\n",
       "      <td>NaN</td>\n",
       "      <td>NaN</td>\n",
       "      <td>0.000000</td>\n",
       "      <td>0.000000</td>\n",
       "      <td>NaN</td>\n",
       "      <td>NaN</td>\n",
       "      <td>NaN</td>\n",
       "      <td>NaN</td>\n",
       "      <td>NaN</td>\n",
       "    </tr>\n",
       "  </tbody>\n",
       "</table>\n",
       "</div>"
      ],
      "text/plain": [
       "         radius  diameter  densities  number_of_edges  average_clustering  \\\n",
       "Means  2.000000  3.540000   0.496754       514.140000            0.764851   \n",
       "STDs   0.000000  0.503457   0.014913        15.435197            0.014340   \n",
       "Means  2.000000  3.660000   0.440543       455.060000            0.679963   \n",
       "STDs   0.000000  0.478518   0.023700        22.503886            0.015267   \n",
       "Means  2.400000  3.980000   0.493333       488.400000            0.740431   \n",
       "STDs   0.494872  0.684821   0.014760        14.611988            0.022811   \n",
       "Means       NaN       NaN   0.000000         0.000000                 NaN   \n",
       "STDs        NaN       NaN   0.000000         0.000000                 NaN   \n",
       "\n",
       "       avg_degree_centrality  avg_betweenness_centrality  \\\n",
       "Means               0.496754                    0.013024   \n",
       "STDs                0.014913                    0.001024   \n",
       "Means               0.440543                    0.014286   \n",
       "STDs                0.023700                    0.000987   \n",
       "Means               0.493333                    0.014388   \n",
       "STDs                0.014760                    0.001252   \n",
       "Means                    NaN                         NaN   \n",
       "STDs                     NaN                         NaN   \n",
       "\n",
       "       avg_closeness_centrality  average_shortest_path_length  \n",
       "Means                  0.662523                      1.573043  \n",
       "STDs                   0.016408                      0.045047  \n",
       "Means                  0.634614                      1.628093  \n",
       "STDs                   0.015852                      0.044488  \n",
       "Means                  0.647948                      1.618687  \n",
       "STDs                   0.017459                      0.053832  \n",
       "Means                       NaN                           NaN  \n",
       "STDs                        NaN                           NaN  "
      ]
     },
     "execution_count": 55,
     "metadata": {},
     "output_type": "execute_result"
    }
   ],
   "source": [
    "pearson_network_ThreeReg_pn_90_00_averged"
   ]
  },
  {
   "cell_type": "code",
   "execution_count": 56,
   "id": "466ea72b-0acd-4343-a0fc-57ab9862cbb0",
   "metadata": {},
   "outputs": [],
   "source": [
    "pearson_network_ThreeReg_pn_90_00_averged.to_csv('Excels/39.csv')"
   ]
  },
  {
   "cell_type": "markdown",
   "id": "380e7825-54c8-4ba6-8328-fec788f3a367",
   "metadata": {},
   "source": [
    "# 40) Tehran 3 pn Regime Entropy (Based on Median Threshold) Period of 90 Far - 98 Dey"
   ]
  },
  {
   "cell_type": "code",
   "execution_count": 57,
   "id": "b02bca46-8b82-402b-ac32-a0933161e55c",
   "metadata": {},
   "outputs": [],
   "source": [
    "nm = Net_moduls()"
   ]
  },
  {
   "cell_type": "code",
   "execution_count": 30,
   "id": "9b2bc65f-f836-4a38-a9a2-102a978b8ef6",
   "metadata": {},
   "outputs": [
    {
     "data": {
      "text/plain": [
       "0.02164788846222339"
      ]
     },
     "execution_count": 30,
     "metadata": {},
     "output_type": "execute_result"
    }
   ],
   "source": [
    "thr40_1 = nm.find_median_entropy_threshold(tehran_df_ThreeReg_pn_1_same_length_98)\n",
    "thr40_2 = nm.find_median_entropy_threshold(tehran_df_ThreeReg_pn_2_same_length_98)\n",
    "thr40_3 = nm.find_median_entropy_threshold(tehran_df_ThreeReg_pn_3_same_length_98)\n",
    "\n",
    "thr40 = min(thr40_1, thr40_2, thr40_3)\n",
    "thr40"
   ]
  },
  {
   "cell_type": "code",
   "execution_count": 59,
   "id": "7ec8f83a-1960-431b-9f8e-52e3c44a7c26",
   "metadata": {},
   "outputs": [],
   "source": [
    "entropy_network_ThreeReg_pn_1_98 = nm.construct_network(tehran_df_ThreeReg_pn_1_same_length_98, method='entropy', threshold=thr40)"
   ]
  },
  {
   "cell_type": "code",
   "execution_count": 60,
   "id": "3242a1d2-b106-4f70-8d3f-754dfa1cdb37",
   "metadata": {},
   "outputs": [
    {
     "data": {
      "text/html": [
       "<div>\n",
       "<style scoped>\n",
       "    .dataframe tbody tr th:only-of-type {\n",
       "        vertical-align: middle;\n",
       "    }\n",
       "\n",
       "    .dataframe tbody tr th {\n",
       "        vertical-align: top;\n",
       "    }\n",
       "\n",
       "    .dataframe thead th {\n",
       "        text-align: right;\n",
       "    }\n",
       "</style>\n",
       "<table border=\"1\" class=\"dataframe\">\n",
       "  <thead>\n",
       "    <tr style=\"text-align: right;\">\n",
       "      <th></th>\n",
       "      <th>radius</th>\n",
       "      <th>diameter</th>\n",
       "      <th>densities</th>\n",
       "      <th>number_of_edges</th>\n",
       "      <th>average_clustering</th>\n",
       "      <th>avg_degree_centrality</th>\n",
       "      <th>avg_betweenness_centrality</th>\n",
       "      <th>avg_closeness_centrality</th>\n",
       "      <th>average_shortest_path_length</th>\n",
       "    </tr>\n",
       "  </thead>\n",
       "  <tbody>\n",
       "    <tr>\n",
       "      <th>0</th>\n",
       "      <td>1</td>\n",
       "      <td>2</td>\n",
       "      <td>0.882828</td>\n",
       "      <td>874</td>\n",
       "      <td>0.896989</td>\n",
       "      <td>0.882828</td>\n",
       "      <td>0.002725</td>\n",
       "      <td>0.900228</td>\n",
       "      <td>1.117172</td>\n",
       "    </tr>\n",
       "  </tbody>\n",
       "</table>\n",
       "</div>"
      ],
      "text/plain": [
       "   radius  diameter  densities  number_of_edges  average_clustering  \\\n",
       "0       1         2   0.882828              874            0.896989   \n",
       "\n",
       "   avg_degree_centrality  avg_betweenness_centrality  \\\n",
       "0               0.882828                    0.002725   \n",
       "\n",
       "   avg_closeness_centrality  average_shortest_path_length  \n",
       "0                  0.900228                      1.117172  "
      ]
     },
     "execution_count": 60,
     "metadata": {},
     "output_type": "execute_result"
    }
   ],
   "source": [
    "nm.get_network_features(entropy_network_ThreeReg_pn_1_98)"
   ]
  },
  {
   "cell_type": "code",
   "execution_count": 61,
   "id": "e71cc75b-a55e-40a7-ba1c-e6a66b6d079f",
   "metadata": {},
   "outputs": [
    {
     "data": {
      "text/plain": [
       "array({'Coin': 26, 'Brent Oil': 27, 'CPI': 28, 'M2': 33, 'HOUSE': 36, 'M1': 36, 'Wood': 36, 'FaniVaMohandesi': 36, 'EntesharVaChap': 37, 'SarmayeGozari': 37, 'Amlakva': 37, 'Euro': 38, 'khodrosazi': 38, 'GhandVaShekar': 38, 'GDP': 39, 'Gold': 39, 'EstekrajeNaft': 39, 'Mansojat': 39, 'FaravardehayeNafti': 39, 'Bank': 39, 'SayerMali': 39, 'USD': 39, 'FelezateAsasi': 39, 'ChandReshteSanati': 40, 'Shimiyaee': 40, 'HamlVaNaghl': 40, 'Mali': 40, 'KashiVaSeramik': 40, 'VasayelErtebati': 40, 'Agriculture': 41, 'MahsolateFelezi': 41, 'Daroee': 41, 'GazaeeBejozGhand': 41, 'SayerMadan': 42, 'Lastic': 42, 'MashinAlat': 42, 'DastgahayeBargi': 42, 'KanehayeGeyreFelezi': 42, 'Rayaneh': 42, 'KanehayeFelezi': 42, 'index': 43, 'Siman': 43, 'Bimeh': 43, 'paper': 43, 'CoalMining': 44},\n",
       "      dtype=object)"
      ]
     },
     "execution_count": 61,
     "metadata": {},
     "output_type": "execute_result"
    }
   ],
   "source": [
    "b40_1 = dict(nx.degree(entropy_network_ThreeReg_pn_1_98))\n",
    "b40_1 = np.array(dict(sorted(b40_1.items(), key=lambda item: item[1])))\n",
    "b40_1"
   ]
  },
  {
   "cell_type": "code",
   "execution_count": 62,
   "id": "cea3a959-9d04-4da7-b362-48018d3a8ba9",
   "metadata": {},
   "outputs": [],
   "source": [
    "nm.get_network_features(entropy_network_ThreeReg_pn_1_98).to_csv('Excels/40_1.csv')"
   ]
  },
  {
   "cell_type": "code",
   "execution_count": 63,
   "id": "83fb02f0-c929-4df7-8859-dbd1a875bc15",
   "metadata": {},
   "outputs": [],
   "source": [
    "entropy_network_ThreeReg_pn_2_98 = nm.construct_network(tehran_df_ThreeReg_pn_2_same_length_98, method='entropy', threshold=thr40)"
   ]
  },
  {
   "cell_type": "code",
   "execution_count": 64,
   "id": "c97f6e19-5ea1-4a5c-b9d3-a6af6bfc8cb0",
   "metadata": {},
   "outputs": [
    {
     "data": {
      "text/html": [
       "<div>\n",
       "<style scoped>\n",
       "    .dataframe tbody tr th:only-of-type {\n",
       "        vertical-align: middle;\n",
       "    }\n",
       "\n",
       "    .dataframe tbody tr th {\n",
       "        vertical-align: top;\n",
       "    }\n",
       "\n",
       "    .dataframe thead th {\n",
       "        text-align: right;\n",
       "    }\n",
       "</style>\n",
       "<table border=\"1\" class=\"dataframe\">\n",
       "  <thead>\n",
       "    <tr style=\"text-align: right;\">\n",
       "      <th></th>\n",
       "      <th>radius</th>\n",
       "      <th>diameter</th>\n",
       "      <th>densities</th>\n",
       "      <th>number_of_edges</th>\n",
       "      <th>average_clustering</th>\n",
       "      <th>avg_degree_centrality</th>\n",
       "      <th>avg_betweenness_centrality</th>\n",
       "      <th>avg_closeness_centrality</th>\n",
       "      <th>average_shortest_path_length</th>\n",
       "    </tr>\n",
       "  </thead>\n",
       "  <tbody>\n",
       "    <tr>\n",
       "      <th>0</th>\n",
       "      <td>2</td>\n",
       "      <td>2</td>\n",
       "      <td>0.823188</td>\n",
       "      <td>852</td>\n",
       "      <td>0.833497</td>\n",
       "      <td>0.823188</td>\n",
       "      <td>0.004018</td>\n",
       "      <td>0.853454</td>\n",
       "      <td>1.176812</td>\n",
       "    </tr>\n",
       "  </tbody>\n",
       "</table>\n",
       "</div>"
      ],
      "text/plain": [
       "   radius  diameter  densities  number_of_edges  average_clustering  \\\n",
       "0       2         2   0.823188              852            0.833497   \n",
       "\n",
       "   avg_degree_centrality  avg_betweenness_centrality  \\\n",
       "0               0.823188                    0.004018   \n",
       "\n",
       "   avg_closeness_centrality  average_shortest_path_length  \n",
       "0                  0.853454                      1.176812  "
      ]
     },
     "execution_count": 64,
     "metadata": {},
     "output_type": "execute_result"
    }
   ],
   "source": [
    "nm.get_network_features(entropy_network_ThreeReg_pn_2_98)"
   ]
  },
  {
   "cell_type": "code",
   "execution_count": 65,
   "id": "1aed2145-c754-47ab-8f4c-933aa27b4e1a",
   "metadata": {},
   "outputs": [
    {
     "data": {
      "text/plain": [
       "array({'Gold': 28, 'M1': 31, 'GhandVaShekar': 32, 'Mali': 32, 'KashiVaSeramik': 33, 'CPI': 33, 'HOUSE': 33, 'MahsolateFelezi': 33, 'SayerMadan': 33, 'FaniVaMohandesi': 34, 'GDP': 34, 'KanehayeFelezi': 34, 'GazaeeBejozGhand': 35, 'Shimiyaee': 35, 'HamlVaNaghl': 35, 'index': 36, 'Euro': 36, 'paper': 36, 'AbzaralatePezeshki': 36, 'CoalMining': 36, 'Coin': 37, 'Bimeh': 37, 'ChandReshteSanati': 37, 'USD': 38, 'Bank': 38, 'Rayaneh': 38, 'Brent Oil': 38, 'FelezateAsasi': 38, 'DastgahayeBargi': 38, 'M2': 39, 'EstekrajeNaft': 39, 'Wood': 39, 'MashinAlat': 39, 'VasayelErtebati': 39, 'SarmayeGozari': 39, 'FaravardehayeNafti': 40, 'Daroee': 40, 'Agriculture': 40, 'Amlakva': 40, 'EntesharVaChap': 41, 'khodrosazi': 41, 'Mansojat': 42, 'Lastic': 42, 'KanehayeGeyreFelezi': 42, 'Siman': 44, 'SayerMali': 44},\n",
       "      dtype=object)"
      ]
     },
     "execution_count": 65,
     "metadata": {},
     "output_type": "execute_result"
    }
   ],
   "source": [
    "b40_2 = dict(nx.degree(entropy_network_ThreeReg_pn_2_98))\n",
    "b40_2 = np.array(dict(sorted(b40_2.items(), key=lambda item: item[1])))\n",
    "b40_2"
   ]
  },
  {
   "cell_type": "code",
   "execution_count": 66,
   "id": "b7600bb5-920f-434e-a5aa-39d209d10070",
   "metadata": {},
   "outputs": [],
   "source": [
    "nm.get_network_features(entropy_network_ThreeReg_pn_2_98).to_csv('Excels/40_2.csv')"
   ]
  },
  {
   "cell_type": "code",
   "execution_count": 67,
   "id": "244cecc9-4770-433b-9276-63ad178a041c",
   "metadata": {},
   "outputs": [],
   "source": [
    "entropy_network_ThreeReg_pn_3_98 = nm.construct_network(tehran_df_ThreeReg_pn_3_same_length_98, method='entropy', threshold=thr40)"
   ]
  },
  {
   "cell_type": "code",
   "execution_count": 68,
   "id": "35cb8c64-2a2e-4ee5-89da-f847c562841b",
   "metadata": {},
   "outputs": [
    {
     "data": {
      "text/html": [
       "<div>\n",
       "<style scoped>\n",
       "    .dataframe tbody tr th:only-of-type {\n",
       "        vertical-align: middle;\n",
       "    }\n",
       "\n",
       "    .dataframe tbody tr th {\n",
       "        vertical-align: top;\n",
       "    }\n",
       "\n",
       "    .dataframe thead th {\n",
       "        text-align: right;\n",
       "    }\n",
       "</style>\n",
       "<table border=\"1\" class=\"dataframe\">\n",
       "  <thead>\n",
       "    <tr style=\"text-align: right;\">\n",
       "      <th></th>\n",
       "      <th>radius</th>\n",
       "      <th>diameter</th>\n",
       "      <th>densities</th>\n",
       "      <th>number_of_edges</th>\n",
       "      <th>average_clustering</th>\n",
       "      <th>avg_degree_centrality</th>\n",
       "      <th>avg_betweenness_centrality</th>\n",
       "      <th>avg_closeness_centrality</th>\n",
       "      <th>average_shortest_path_length</th>\n",
       "    </tr>\n",
       "  </thead>\n",
       "  <tbody>\n",
       "    <tr>\n",
       "      <th>0</th>\n",
       "      <td>2</td>\n",
       "      <td>2</td>\n",
       "      <td>0.714141</td>\n",
       "      <td>707</td>\n",
       "      <td>0.75787</td>\n",
       "      <td>0.714141</td>\n",
       "      <td>0.006648</td>\n",
       "      <td>0.785393</td>\n",
       "      <td>1.285859</td>\n",
       "    </tr>\n",
       "  </tbody>\n",
       "</table>\n",
       "</div>"
      ],
      "text/plain": [
       "   radius  diameter  densities  number_of_edges  average_clustering  \\\n",
       "0       2         2   0.714141              707             0.75787   \n",
       "\n",
       "   avg_degree_centrality  avg_betweenness_centrality  \\\n",
       "0               0.714141                    0.006648   \n",
       "\n",
       "   avg_closeness_centrality  average_shortest_path_length  \n",
       "0                  0.785393                      1.285859  "
      ]
     },
     "execution_count": 68,
     "metadata": {},
     "output_type": "execute_result"
    }
   ],
   "source": [
    "nm.get_network_features(entropy_network_ThreeReg_pn_3_98)"
   ]
  },
  {
   "cell_type": "code",
   "execution_count": 69,
   "id": "1217138c-ecb1-4a98-8800-eb04d0d3df9a",
   "metadata": {},
   "outputs": [
    {
     "data": {
      "text/plain": [
       "array({'KanehayeFelezi': 16, 'CPI': 22, 'Siman': 22, 'Euro': 23, 'GhandVaShekar': 25, 'Mali': 25, 'Coin': 26, 'FelezateAsasi': 26, 'ChandReshteSanati': 26, 'Bank': 26, 'FaravardehayeNafti': 26, 'MashinAlat': 27, 'index': 28, 'FaniVaMohandesi': 29, 'MahsolateFelezi': 29, 'Rayaneh': 30, 'GDP': 31, 'Gold': 31, 'paper': 31, 'Lastic': 31, 'Daroee': 31, 'SayerMali': 31, 'KashiVaSeramik': 32, 'HamlVaNaghl': 32, 'DastgahayeBargi': 32, 'M1': 33, 'Shimiyaee': 33, 'GazaeeBejozGhand': 33, 'CoalMining': 33, 'SayerMadan': 33, 'USD': 34, 'Wood': 34, 'HOUSE': 34, 'M2': 35, 'Agriculture': 35, 'Mansojat': 35, 'EstekrajeNaft': 36, 'Bimeh': 38, 'Amlakva': 38, 'EntesharVaChap': 39, 'khodrosazi': 39, 'KanehayeGeyreFelezi': 40, 'Brent Oil': 41, 'SarmayeGozari': 41, 'VasayelErtebati': 42},\n",
       "      dtype=object)"
      ]
     },
     "execution_count": 69,
     "metadata": {},
     "output_type": "execute_result"
    }
   ],
   "source": [
    "b40_3 = dict(nx.degree(entropy_network_ThreeReg_pn_3_98))\n",
    "b40_3 = np.array(dict(sorted(b40_3.items(), key=lambda item: item[1])))\n",
    "b40_3"
   ]
  },
  {
   "cell_type": "code",
   "execution_count": 70,
   "id": "3c094932-a901-44e4-9ff7-26b8c95ca577",
   "metadata": {},
   "outputs": [],
   "source": [
    "nm.get_network_features(entropy_network_ThreeReg_pn_3_98).to_csv('Excels/40_3.csv')"
   ]
  },
  {
   "cell_type": "markdown",
   "id": "b54ea26c-a906-48e4-967d-5e7e4376d1c7",
   "metadata": {},
   "source": [
    "# 41) Tehran 3 pn Regime Entropy (Based on Median Threshold) Period of 90 Far - 00 Far"
   ]
  },
  {
   "cell_type": "code",
   "execution_count": 71,
   "id": "2af4a49c-1347-4e4d-a0be-545e0abf4ecb",
   "metadata": {},
   "outputs": [],
   "source": [
    "nm = Net_moduls()"
   ]
  },
  {
   "cell_type": "code",
   "execution_count": 31,
   "id": "67bebae6-742a-4537-87d6-2aeb7c030e00",
   "metadata": {},
   "outputs": [
    {
     "data": {
      "text/plain": [
       "0.02114491301146592"
      ]
     },
     "execution_count": 31,
     "metadata": {},
     "output_type": "execute_result"
    }
   ],
   "source": [
    "thr41_1 = nm.find_median_entropy_threshold(tehran_df_ThreeReg_pn_1_same_length)\n",
    "thr41_2 = nm.find_median_entropy_threshold(tehran_df_ThreeReg_pn_2_same_length)\n",
    "thr41_3 = nm.find_median_entropy_threshold(tehran_df_ThreeReg_pn_3_same_length)\n",
    "\n",
    "thr41 = min(thr41_1, thr41_2, thr41_3)\n",
    "thr41"
   ]
  },
  {
   "cell_type": "code",
   "execution_count": 73,
   "id": "9372cc1b-5a07-4a19-89c6-9238f6d5d943",
   "metadata": {},
   "outputs": [],
   "source": [
    "entropy_network_ThreeReg_pn_1 = nm.construct_network(tehran_df_ThreeReg_pn_1_same_length, method='entropy', threshold=thr41)"
   ]
  },
  {
   "cell_type": "code",
   "execution_count": 74,
   "id": "170bbf08-c837-4628-b50f-926aee23925e",
   "metadata": {},
   "outputs": [
    {
     "data": {
      "text/html": [
       "<div>\n",
       "<style scoped>\n",
       "    .dataframe tbody tr th:only-of-type {\n",
       "        vertical-align: middle;\n",
       "    }\n",
       "\n",
       "    .dataframe tbody tr th {\n",
       "        vertical-align: top;\n",
       "    }\n",
       "\n",
       "    .dataframe thead th {\n",
       "        text-align: right;\n",
       "    }\n",
       "</style>\n",
       "<table border=\"1\" class=\"dataframe\">\n",
       "  <thead>\n",
       "    <tr style=\"text-align: right;\">\n",
       "      <th></th>\n",
       "      <th>radius</th>\n",
       "      <th>diameter</th>\n",
       "      <th>densities</th>\n",
       "      <th>number_of_edges</th>\n",
       "      <th>average_clustering</th>\n",
       "      <th>avg_degree_centrality</th>\n",
       "      <th>avg_betweenness_centrality</th>\n",
       "      <th>avg_closeness_centrality</th>\n",
       "      <th>average_shortest_path_length</th>\n",
       "    </tr>\n",
       "  </thead>\n",
       "  <tbody>\n",
       "    <tr>\n",
       "      <th>0</th>\n",
       "      <td>2</td>\n",
       "      <td>2</td>\n",
       "      <td>0.704348</td>\n",
       "      <td>729</td>\n",
       "      <td>0.750841</td>\n",
       "      <td>0.704348</td>\n",
       "      <td>0.006719</td>\n",
       "      <td>0.779681</td>\n",
       "      <td>1.295652</td>\n",
       "    </tr>\n",
       "  </tbody>\n",
       "</table>\n",
       "</div>"
      ],
      "text/plain": [
       "   radius  diameter  densities  number_of_edges  average_clustering  \\\n",
       "0       2         2   0.704348              729            0.750841   \n",
       "\n",
       "   avg_degree_centrality  avg_betweenness_centrality  \\\n",
       "0               0.704348                    0.006719   \n",
       "\n",
       "   avg_closeness_centrality  average_shortest_path_length  \n",
       "0                  0.779681                      1.295652  "
      ]
     },
     "execution_count": 74,
     "metadata": {},
     "output_type": "execute_result"
    }
   ],
   "source": [
    "nm.get_network_features(entropy_network_ThreeReg_pn_1)"
   ]
  },
  {
   "cell_type": "code",
   "execution_count": 75,
   "id": "3aeaf4b3-a872-4419-a5b7-50fb522a7d62",
   "metadata": {},
   "outputs": [
    {
     "data": {
      "text/plain": [
       "array({'AbzaralatePezeshki': 14, 'Coin': 20, 'Gold': 21, 'Mali': 21, 'MashinAlat': 25, 'SarmayeGozari': 25, 'Bimeh': 25, 'Daroee': 27, 'Shimiyaee': 27, 'Mansojat': 27, 'M1': 28, 'FaravardehayeNafti': 29, 'MahsolateFelezi': 29, 'EntesharVaChap': 29, 'GazaeeBejozGhand': 29, 'index': 30, 'Euro': 30, 'khodrosazi': 30, 'KanehayeGeyreFelezi': 30, 'Rayaneh': 30, 'FelezateAsasi': 31, 'Agriculture': 31, 'GDP': 32, 'Amlakva': 32, 'HamlVaNaghl': 32, 'KashiVaSeramik': 33, 'Lastic': 34, 'DastgahayeBargi': 34, 'SayerMali': 34, 'USD': 35, 'M2': 35, 'EstekrajeNaft': 35, 'GhandVaShekar': 35, 'Bank': 35, 'Wood': 35, 'paper': 36, 'KanehayeFelezi': 36, 'VasayelErtebati': 38, 'CPI': 39, 'CoalMining': 39, 'SayerMadan': 39, 'FaniVaMohandesi': 39, 'Brent Oil': 40, 'ChandReshteSanati': 40, 'HOUSE': 41, 'Siman': 42},\n",
       "      dtype=object)"
      ]
     },
     "execution_count": 75,
     "metadata": {},
     "output_type": "execute_result"
    }
   ],
   "source": [
    "b41_1 = dict(nx.degree(entropy_network_ThreeReg_pn_1))\n",
    "b41_1 = np.array(dict(sorted(b41_1.items(), key=lambda item: item[1])))\n",
    "b41_1"
   ]
  },
  {
   "cell_type": "code",
   "execution_count": 76,
   "id": "84cd08b1-08a7-4c9c-aa67-12bb849d1e15",
   "metadata": {},
   "outputs": [],
   "source": [
    "nm.get_network_features(entropy_network_ThreeReg_pn_1).to_csv('Excels/41_1.csv')"
   ]
  },
  {
   "cell_type": "code",
   "execution_count": 77,
   "id": "c759386a-ae12-4fa6-8102-59faaef871eb",
   "metadata": {},
   "outputs": [],
   "source": [
    "entropy_network_ThreeReg_pn_2 = nm.construct_network(tehran_df_ThreeReg_pn_2_same_length, method='entropy', threshold=thr41)"
   ]
  },
  {
   "cell_type": "code",
   "execution_count": 78,
   "id": "e8722cf2-74ba-4cd9-a6ab-5d72b3c6ece1",
   "metadata": {},
   "outputs": [
    {
     "data": {
      "text/html": [
       "<div>\n",
       "<style scoped>\n",
       "    .dataframe tbody tr th:only-of-type {\n",
       "        vertical-align: middle;\n",
       "    }\n",
       "\n",
       "    .dataframe tbody tr th {\n",
       "        vertical-align: top;\n",
       "    }\n",
       "\n",
       "    .dataframe thead th {\n",
       "        text-align: right;\n",
       "    }\n",
       "</style>\n",
       "<table border=\"1\" class=\"dataframe\">\n",
       "  <thead>\n",
       "    <tr style=\"text-align: right;\">\n",
       "      <th></th>\n",
       "      <th>radius</th>\n",
       "      <th>diameter</th>\n",
       "      <th>densities</th>\n",
       "      <th>number_of_edges</th>\n",
       "      <th>average_clustering</th>\n",
       "      <th>avg_degree_centrality</th>\n",
       "      <th>avg_betweenness_centrality</th>\n",
       "      <th>avg_closeness_centrality</th>\n",
       "      <th>average_shortest_path_length</th>\n",
       "    </tr>\n",
       "  </thead>\n",
       "  <tbody>\n",
       "    <tr>\n",
       "      <th>0</th>\n",
       "      <td>2</td>\n",
       "      <td>2</td>\n",
       "      <td>0.816425</td>\n",
       "      <td>845</td>\n",
       "      <td>0.830591</td>\n",
       "      <td>0.816425</td>\n",
       "      <td>0.004172</td>\n",
       "      <td>0.849207</td>\n",
       "      <td>1.183575</td>\n",
       "    </tr>\n",
       "  </tbody>\n",
       "</table>\n",
       "</div>"
      ],
      "text/plain": [
       "   radius  diameter  densities  number_of_edges  average_clustering  \\\n",
       "0       2         2   0.816425              845            0.830591   \n",
       "\n",
       "   avg_degree_centrality  avg_betweenness_centrality  \\\n",
       "0               0.816425                    0.004172   \n",
       "\n",
       "   avg_closeness_centrality  average_shortest_path_length  \n",
       "0                  0.849207                      1.183575  "
      ]
     },
     "execution_count": 78,
     "metadata": {},
     "output_type": "execute_result"
    }
   ],
   "source": [
    "nm.get_network_features(entropy_network_ThreeReg_pn_2)"
   ]
  },
  {
   "cell_type": "code",
   "execution_count": 79,
   "id": "982a1a6e-f843-4499-a721-ca921a80815a",
   "metadata": {},
   "outputs": [
    {
     "data": {
      "text/plain": [
       "array({'Gold': 24, 'CoalMining': 32, 'Mali': 32, 'ChandReshteSanati': 32, 'SayerMadan': 32, 'index': 33, 'M1': 33, 'Shimiyaee': 33, 'KashiVaSeramik': 33, 'CPI': 33, 'HOUSE': 33, 'GDP': 34, 'AbzaralatePezeshki': 35, 'FaniVaMohandesi': 35, 'GhandVaShekar': 35, 'KanehayeFelezi': 35, 'HamlVaNaghl': 35, 'Coin': 36, 'Euro': 36, 'EstekrajeNaft': 36, 'paper': 36, 'GazaeeBejozGhand': 36, 'MahsolateFelezi': 36, 'Bank': 37, 'DastgahayeBargi': 37, 'USD': 38, 'Brent Oil': 38, 'Lastic': 38, 'SarmayeGozari': 38, 'Bimeh': 38, 'Amlakva': 38, 'FelezateAsasi': 38, 'M2': 39, 'MashinAlat': 39, 'Rayaneh': 39, 'Wood': 40, 'FaravardehayeNafti': 40, 'Daroee': 40, 'Mansojat': 41, 'khodrosazi': 41, 'Agriculture': 41, 'VasayelErtebati': 42, 'KanehayeGeyreFelezi': 42, 'SayerMali': 43, 'EntesharVaChap': 44, 'Siman': 44},\n",
       "      dtype=object)"
      ]
     },
     "execution_count": 79,
     "metadata": {},
     "output_type": "execute_result"
    }
   ],
   "source": [
    "b41_2 = dict(nx.degree(entropy_network_ThreeReg_pn_2))\n",
    "b41_2 = np.array(dict(sorted(b41_2.items(), key=lambda item: item[1])))\n",
    "b41_2"
   ]
  },
  {
   "cell_type": "code",
   "execution_count": 80,
   "id": "dbd36500-d527-4c3e-a0dd-0843d0e22e23",
   "metadata": {},
   "outputs": [],
   "source": [
    "nm.get_network_features(entropy_network_ThreeReg_pn_2).to_csv('Excels/41_2.csv')"
   ]
  },
  {
   "cell_type": "code",
   "execution_count": 81,
   "id": "55b9d003-2da8-4efc-9163-38ec02817c5c",
   "metadata": {},
   "outputs": [],
   "source": [
    "entropy_network_ThreeReg_pn_3 = nm.construct_network(tehran_df_ThreeReg_pn_3_same_length, method='entropy', threshold=thr41)"
   ]
  },
  {
   "cell_type": "code",
   "execution_count": 82,
   "id": "ce43c30c-fc82-4991-845c-8eee982f3700",
   "metadata": {},
   "outputs": [
    {
     "data": {
      "text/html": [
       "<div>\n",
       "<style scoped>\n",
       "    .dataframe tbody tr th:only-of-type {\n",
       "        vertical-align: middle;\n",
       "    }\n",
       "\n",
       "    .dataframe tbody tr th {\n",
       "        vertical-align: top;\n",
       "    }\n",
       "\n",
       "    .dataframe thead th {\n",
       "        text-align: right;\n",
       "    }\n",
       "</style>\n",
       "<table border=\"1\" class=\"dataframe\">\n",
       "  <thead>\n",
       "    <tr style=\"text-align: right;\">\n",
       "      <th></th>\n",
       "      <th>radius</th>\n",
       "      <th>diameter</th>\n",
       "      <th>densities</th>\n",
       "      <th>number_of_edges</th>\n",
       "      <th>average_clustering</th>\n",
       "      <th>avg_degree_centrality</th>\n",
       "      <th>avg_betweenness_centrality</th>\n",
       "      <th>avg_closeness_centrality</th>\n",
       "      <th>average_shortest_path_length</th>\n",
       "    </tr>\n",
       "  </thead>\n",
       "  <tbody>\n",
       "    <tr>\n",
       "      <th>0</th>\n",
       "      <td>2</td>\n",
       "      <td>2</td>\n",
       "      <td>0.716162</td>\n",
       "      <td>709</td>\n",
       "      <td>0.75232</td>\n",
       "      <td>0.716162</td>\n",
       "      <td>0.006601</td>\n",
       "      <td>0.785775</td>\n",
       "      <td>1.283838</td>\n",
       "    </tr>\n",
       "  </tbody>\n",
       "</table>\n",
       "</div>"
      ],
      "text/plain": [
       "   radius  diameter  densities  number_of_edges  average_clustering  \\\n",
       "0       2         2   0.716162              709             0.75232   \n",
       "\n",
       "   avg_degree_centrality  avg_betweenness_centrality  \\\n",
       "0               0.716162                    0.006601   \n",
       "\n",
       "   avg_closeness_centrality  average_shortest_path_length  \n",
       "0                  0.785775                      1.283838  "
      ]
     },
     "execution_count": 82,
     "metadata": {},
     "output_type": "execute_result"
    }
   ],
   "source": [
    "nm.get_network_features(entropy_network_ThreeReg_pn_3)"
   ]
  },
  {
   "cell_type": "code",
   "execution_count": 83,
   "id": "db303e50-62ac-40e7-9ab4-51f29b699a1b",
   "metadata": {},
   "outputs": [
    {
     "data": {
      "text/plain": [
       "array({'Mansojat': 21, 'M2': 22, 'Siman': 23, 'MashinAlat': 24, 'Gold': 26, 'KanehayeFelezi': 26, 'Shimiyaee': 26, 'index': 27, 'GhandVaShekar': 27, 'Lastic': 27, 'USD': 28, 'SayerMadan': 28, 'Euro': 28, 'CPI': 28, 'Coin': 28, 'DastgahayeBargi': 28, 'M1': 29, 'FaravardehayeNafti': 29, 'FelezateAsasi': 30, 'SayerMali': 30, 'Rayaneh': 30, 'GazaeeBejozGhand': 31, 'paper': 32, 'ChandReshteSanati': 32, 'HamlVaNaghl': 32, 'FaniVaMohandesi': 32, 'EstekrajeNaft': 33, 'Mali': 33, 'EntesharVaChap': 33, 'HOUSE': 34, 'GDP': 34, 'CoalMining': 34, 'Brent Oil': 35, 'Wood': 35, 'Amlakva': 35, 'KashiVaSeramik': 36, 'Agriculture': 36, 'Bimeh': 37, 'Daroee': 38, 'MahsolateFelezi': 38, 'VasayelErtebati': 39, 'khodrosazi': 39, 'KanehayeGeyreFelezi': 40, 'Bank': 42, 'SarmayeGozari': 43},\n",
       "      dtype=object)"
      ]
     },
     "execution_count": 83,
     "metadata": {},
     "output_type": "execute_result"
    }
   ],
   "source": [
    "b41_3 = dict(nx.degree(entropy_network_ThreeReg_pn_3))\n",
    "b41_3 = np.array(dict(sorted(b41_3.items(), key=lambda item: item[1])))\n",
    "b41_3"
   ]
  },
  {
   "cell_type": "code",
   "execution_count": 84,
   "id": "4fb1cd08-a6c7-4991-aba2-ef17b9d93911",
   "metadata": {},
   "outputs": [],
   "source": [
    "nm.get_network_features(entropy_network_ThreeReg_pn_3).to_csv('Excels/41_3.csv')"
   ]
  },
  {
   "cell_type": "markdown",
   "id": "7ef29857-a616-4f0b-a1c4-bf40725d13cd",
   "metadata": {},
   "source": [
    "# 42) Tehran 3 pn Regime Entropy (Based on Median Threshold) Period of 90 Far - 98 Dey/ Last 100 Records"
   ]
  },
  {
   "cell_type": "code",
   "execution_count": 88,
   "id": "be499f85-72c1-418a-ab78-1865beb0b3a0",
   "metadata": {},
   "outputs": [],
   "source": [
    "thr42_1 = nm.find_median_entropy_threshold(tehran_df_ThreeReg_pn_1_same_length_98[-200:])\n",
    "thr42_2 = nm.find_median_entropy_threshold(tehran_df_ThreeReg_pn_2_same_length_98[-200:])\n",
    "thr42_3 = nm.find_median_entropy_threshold(tehran_df_ThreeReg_pn_3_same_length_98[-200:])\n",
    "\n",
    "thr42 = min(thr42_1, thr42_2, thr42_3)\n",
    "thr42 = 0.033"
   ]
  },
  {
   "cell_type": "code",
   "execution_count": 89,
   "id": "d1423b9b-eff9-4285-ae57-6d99523af709",
   "metadata": {},
   "outputs": [],
   "source": [
    "entropy_network_ThreeReg_pn_1_98_last100 = nm.construct_network(tehran_df_ThreeReg_pn_1_same_length_98[-200:], method='entropy', threshold=thr42)"
   ]
  },
  {
   "cell_type": "code",
   "execution_count": 90,
   "id": "9ce83d8a-2e3e-40da-9542-512e7526bf55",
   "metadata": {},
   "outputs": [
    {
     "data": {
      "text/html": [
       "<div>\n",
       "<style scoped>\n",
       "    .dataframe tbody tr th:only-of-type {\n",
       "        vertical-align: middle;\n",
       "    }\n",
       "\n",
       "    .dataframe tbody tr th {\n",
       "        vertical-align: top;\n",
       "    }\n",
       "\n",
       "    .dataframe thead th {\n",
       "        text-align: right;\n",
       "    }\n",
       "</style>\n",
       "<table border=\"1\" class=\"dataframe\">\n",
       "  <thead>\n",
       "    <tr style=\"text-align: right;\">\n",
       "      <th></th>\n",
       "      <th>radius</th>\n",
       "      <th>diameter</th>\n",
       "      <th>densities</th>\n",
       "      <th>number_of_edges</th>\n",
       "      <th>average_clustering</th>\n",
       "      <th>avg_degree_centrality</th>\n",
       "      <th>avg_betweenness_centrality</th>\n",
       "      <th>avg_closeness_centrality</th>\n",
       "      <th>average_shortest_path_length</th>\n",
       "    </tr>\n",
       "  </thead>\n",
       "  <tbody>\n",
       "    <tr>\n",
       "      <th>0</th>\n",
       "      <td>2</td>\n",
       "      <td>2</td>\n",
       "      <td>0.646465</td>\n",
       "      <td>640</td>\n",
       "      <td>0.715862</td>\n",
       "      <td>0.646465</td>\n",
       "      <td>0.008222</td>\n",
       "      <td>0.747677</td>\n",
       "      <td>1.353535</td>\n",
       "    </tr>\n",
       "  </tbody>\n",
       "</table>\n",
       "</div>"
      ],
      "text/plain": [
       "   radius  diameter  densities  number_of_edges  average_clustering  \\\n",
       "0       2         2   0.646465              640            0.715862   \n",
       "\n",
       "   avg_degree_centrality  avg_betweenness_centrality  \\\n",
       "0               0.646465                    0.008222   \n",
       "\n",
       "   avg_closeness_centrality  average_shortest_path_length  \n",
       "0                  0.747677                      1.353535  "
      ]
     },
     "execution_count": 90,
     "metadata": {},
     "output_type": "execute_result"
    }
   ],
   "source": [
    "nm.get_network_features(entropy_network_ThreeReg_pn_1_98_last100)"
   ]
  },
  {
   "cell_type": "code",
   "execution_count": 79,
   "id": "0e2da0c2-5473-446f-8230-3f7874350656",
   "metadata": {},
   "outputs": [
    {
     "data": {
      "text/plain": [
       "array({'Coin': 26, 'Brent Oil': 27, 'CPI': 28, 'M2': 33, 'HOUSE': 36, 'M1': 36, 'Wood': 36, 'FaniVaMohandesi': 36, 'EntesharVaChap': 37, 'SarmayeGozari': 37, 'Amlakva': 37, 'Euro': 38, 'khodrosazi': 38, 'GhandVaShekar': 38, 'GDP': 39, 'Gold': 39, 'EstekrajeNaft': 39, 'Mansojat': 39, 'FaravardehayeNafti': 39, 'Bank': 39, 'SayerMali': 39, 'USD': 39, 'FelezateAsasi': 39, 'ChandReshteSanati': 40, 'Shimiyaee': 40, 'HamlVaNaghl': 40, 'Mali': 40, 'KashiVaSeramik': 40, 'VasayelErtebati': 40, 'Agriculture': 41, 'MahsolateFelezi': 41, 'Daroee': 41, 'GazaeeBejozGhand': 41, 'SayerMadan': 42, 'Lastic': 42, 'MashinAlat': 42, 'DastgahayeBargi': 42, 'KanehayeGeyreFelezi': 42, 'Rayaneh': 42, 'KanehayeFelezi': 42, 'index': 43, 'Siman': 43, 'Bimeh': 43, 'paper': 43, 'CoalMining': 44},\n",
       "      dtype=object)"
      ]
     },
     "execution_count": 79,
     "metadata": {},
     "output_type": "execute_result"
    }
   ],
   "source": [
    "b42_1 = dict(nx.degree(entropy_network_ThreeReg_pn_1_98_last100))\n",
    "b42_1 = np.array(dict(sorted(b42_1.items(), key=lambda item: item[1])))\n",
    "b42_1"
   ]
  },
  {
   "cell_type": "code",
   "execution_count": 89,
   "id": "2fb97329-1775-4d5b-b1c0-631bb3f91da5",
   "metadata": {},
   "outputs": [],
   "source": [
    "nm.get_network_features(entropy_network_ThreeReg_pn_1_98_last100).to_csv('Excels/42_1.csv')"
   ]
  },
  {
   "cell_type": "code",
   "execution_count": 91,
   "id": "0cde9a37-208d-455e-9835-6ec0e74bacd1",
   "metadata": {},
   "outputs": [],
   "source": [
    "entropy_network_ThreeReg_pn_2_98_last100 = nm.construct_network(tehran_df_ThreeReg_pn_2_same_length_98[-200:], method='entropy', threshold=thr42)"
   ]
  },
  {
   "cell_type": "code",
   "execution_count": 92,
   "id": "c24cef2a-944f-4500-a7e4-fd02667235ab",
   "metadata": {},
   "outputs": [
    {
     "data": {
      "text/html": [
       "<div>\n",
       "<style scoped>\n",
       "    .dataframe tbody tr th:only-of-type {\n",
       "        vertical-align: middle;\n",
       "    }\n",
       "\n",
       "    .dataframe tbody tr th {\n",
       "        vertical-align: top;\n",
       "    }\n",
       "\n",
       "    .dataframe thead th {\n",
       "        text-align: right;\n",
       "    }\n",
       "</style>\n",
       "<table border=\"1\" class=\"dataframe\">\n",
       "  <thead>\n",
       "    <tr style=\"text-align: right;\">\n",
       "      <th></th>\n",
       "      <th>radius</th>\n",
       "      <th>diameter</th>\n",
       "      <th>densities</th>\n",
       "      <th>number_of_edges</th>\n",
       "      <th>average_clustering</th>\n",
       "      <th>avg_degree_centrality</th>\n",
       "      <th>avg_betweenness_centrality</th>\n",
       "      <th>avg_closeness_centrality</th>\n",
       "      <th>average_shortest_path_length</th>\n",
       "    </tr>\n",
       "  </thead>\n",
       "  <tbody>\n",
       "    <tr>\n",
       "      <th>0</th>\n",
       "      <td>2</td>\n",
       "      <td>2</td>\n",
       "      <td>0.57971</td>\n",
       "      <td>600</td>\n",
       "      <td>0.650412</td>\n",
       "      <td>0.57971</td>\n",
       "      <td>0.009552</td>\n",
       "      <td>0.710322</td>\n",
       "      <td>1.42029</td>\n",
       "    </tr>\n",
       "  </tbody>\n",
       "</table>\n",
       "</div>"
      ],
      "text/plain": [
       "   radius  diameter  densities  number_of_edges  average_clustering  \\\n",
       "0       2         2    0.57971              600            0.650412   \n",
       "\n",
       "   avg_degree_centrality  avg_betweenness_centrality  \\\n",
       "0                0.57971                    0.009552   \n",
       "\n",
       "   avg_closeness_centrality  average_shortest_path_length  \n",
       "0                  0.710322                       1.42029  "
      ]
     },
     "execution_count": 92,
     "metadata": {},
     "output_type": "execute_result"
    }
   ],
   "source": [
    "nm.get_network_features(entropy_network_ThreeReg_pn_2_98_last100)"
   ]
  },
  {
   "cell_type": "code",
   "execution_count": 93,
   "id": "71f8fc9e-254c-4e13-bc1d-e02c13475224",
   "metadata": {},
   "outputs": [
    {
     "data": {
      "text/plain": [
       "array({'Gold': 12, 'KashiVaSeramik': 16, 'HOUSE': 17, 'GhandVaShekar': 18, 'Mali': 19, 'GDP': 19, 'FaniVaMohandesi': 20, 'CPI': 20, 'SayerMadan': 21, 'M1': 22, 'MahsolateFelezi': 22, 'Bank': 22, 'CoalMining': 22, 'HamlVaNaghl': 22, 'GazaeeBejozGhand': 23, 'Shimiyaee': 23, 'ChandReshteSanati': 23, 'paper': 23, 'index': 24, 'KanehayeFelezi': 24, 'Agriculture': 24, 'Rayaneh': 25, 'Coin': 26, 'FelezateAsasi': 26, 'EntesharVaChap': 27, 'MashinAlat': 27, 'Euro': 27, 'USD': 28, 'SarmayeGozari': 28, 'M2': 29, 'Bimeh': 29, 'Brent Oil': 30, 'EstekrajeNaft': 30, 'Lastic': 30, 'DastgahayeBargi': 30, 'AbzaralatePezeshki': 31, 'SayerMali': 31, 'Amlakva': 31, 'Mansojat': 33, 'Wood': 33, 'VasayelErtebati': 33, 'khodrosazi': 34, 'Daroee': 34, 'FaravardehayeNafti': 35, 'KanehayeGeyreFelezi': 36, 'Siman': 41},\n",
       "      dtype=object)"
      ]
     },
     "execution_count": 93,
     "metadata": {},
     "output_type": "execute_result"
    }
   ],
   "source": [
    "b42_2 = dict(nx.degree(entropy_network_ThreeReg_pn_2_98_last100))\n",
    "b42_2 = np.array(dict(sorted(b42_2.items(), key=lambda item: item[1])))\n",
    "b42_2"
   ]
  },
  {
   "cell_type": "code",
   "execution_count": 93,
   "id": "b8bd01ae-ce5f-4880-b5bc-d792d7b66df2",
   "metadata": {},
   "outputs": [],
   "source": [
    "nm.get_network_features(entropy_network_ThreeReg_pn_2_98_last100).to_csv('Excels/42_2.csv')"
   ]
  },
  {
   "cell_type": "code",
   "execution_count": 94,
   "id": "fd2e6684-6988-4baa-8d66-26d94227f28a",
   "metadata": {},
   "outputs": [],
   "source": [
    "entropy_network_ThreeReg_pn_3_98_last100 = nm.construct_network(tehran_df_ThreeReg_pn_3_same_length_98[-200:], method='entropy', threshold=thr42)"
   ]
  },
  {
   "cell_type": "code",
   "execution_count": 95,
   "id": "0dc12e22-3c02-46cd-8ac6-26964b2b1150",
   "metadata": {},
   "outputs": [
    {
     "data": {
      "text/html": [
       "<div>\n",
       "<style scoped>\n",
       "    .dataframe tbody tr th:only-of-type {\n",
       "        vertical-align: middle;\n",
       "    }\n",
       "\n",
       "    .dataframe tbody tr th {\n",
       "        vertical-align: top;\n",
       "    }\n",
       "\n",
       "    .dataframe thead th {\n",
       "        text-align: right;\n",
       "    }\n",
       "</style>\n",
       "<table border=\"1\" class=\"dataframe\">\n",
       "  <thead>\n",
       "    <tr style=\"text-align: right;\">\n",
       "      <th></th>\n",
       "      <th>radius</th>\n",
       "      <th>diameter</th>\n",
       "      <th>densities</th>\n",
       "      <th>number_of_edges</th>\n",
       "      <th>average_clustering</th>\n",
       "      <th>avg_degree_centrality</th>\n",
       "      <th>avg_betweenness_centrality</th>\n",
       "      <th>avg_closeness_centrality</th>\n",
       "      <th>average_shortest_path_length</th>\n",
       "    </tr>\n",
       "  </thead>\n",
       "  <tbody>\n",
       "    <tr>\n",
       "      <th>0</th>\n",
       "      <td>2</td>\n",
       "      <td>3</td>\n",
       "      <td>0.39899</td>\n",
       "      <td>395</td>\n",
       "      <td>0.510056</td>\n",
       "      <td>0.39899</td>\n",
       "      <td>0.014071</td>\n",
       "      <td>0.628559</td>\n",
       "      <td>1.605051</td>\n",
       "    </tr>\n",
       "  </tbody>\n",
       "</table>\n",
       "</div>"
      ],
      "text/plain": [
       "   radius  diameter  densities  number_of_edges  average_clustering  \\\n",
       "0       2         3    0.39899              395            0.510056   \n",
       "\n",
       "   avg_degree_centrality  avg_betweenness_centrality  \\\n",
       "0                0.39899                    0.014071   \n",
       "\n",
       "   avg_closeness_centrality  average_shortest_path_length  \n",
       "0                  0.628559                      1.605051  "
      ]
     },
     "execution_count": 95,
     "metadata": {},
     "output_type": "execute_result"
    }
   ],
   "source": [
    "nm.get_network_features(entropy_network_ThreeReg_pn_3_98_last100)"
   ]
  },
  {
   "cell_type": "code",
   "execution_count": 96,
   "id": "38eae3e2-2e9b-47cc-aa78-f0a040a11d2e",
   "metadata": {},
   "outputs": [
    {
     "data": {
      "text/plain": [
       "array({'SayerMadan': 7, 'CPI': 8, 'ChandReshteSanati': 8, 'KanehayeFelezi': 9, 'FaniVaMohandesi': 9, 'FaravardehayeNafti': 10, 'Mali': 11, 'Siman': 11, 'M2': 12, 'Lastic': 12, 'Coin': 13, 'paper': 13, 'GDP': 13, 'FelezateAsasi': 14, 'GhandVaShekar': 14, 'Rayaneh': 14, 'Bank': 15, 'Euro': 16, 'CoalMining': 16, 'MashinAlat': 16, 'M1': 17, 'Shimiyaee': 17, 'Mansojat': 18, 'GazaeeBejozGhand': 18, 'Daroee': 18, 'MahsolateFelezi': 18, 'index': 19, 'HamlVaNaghl': 19, 'DastgahayeBargi': 19, 'Amlakva': 19, 'USD': 20, 'Wood': 20, 'SayerMali': 20, 'HOUSE': 21, 'khodrosazi': 22, 'EntesharVaChap': 22, 'EstekrajeNaft': 23, 'KashiVaSeramik': 23, 'Gold': 23, 'Bimeh': 24, 'Agriculture': 26, 'SarmayeGozari': 29, 'KanehayeGeyreFelezi': 30, 'Brent Oil': 32, 'VasayelErtebati': 32},\n",
       "      dtype=object)"
      ]
     },
     "execution_count": 96,
     "metadata": {},
     "output_type": "execute_result"
    }
   ],
   "source": [
    "b42_3 = dict(nx.degree(entropy_network_ThreeReg_pn_3_98_last100))\n",
    "b42_3 = np.array(dict(sorted(b42_3.items(), key=lambda item: item[1])))\n",
    "b42_3"
   ]
  },
  {
   "cell_type": "code",
   "execution_count": 97,
   "id": "0d34d206-8380-4e61-abfa-f773c9228356",
   "metadata": {},
   "outputs": [],
   "source": [
    "nm.get_network_features(entropy_network_ThreeReg_pn_3_98_last100).to_csv('Excels/42_3.csv')"
   ]
  },
  {
   "cell_type": "markdown",
   "id": "c16fab71-5c6f-4989-84d2-d2cceccd01a2",
   "metadata": {},
   "source": [
    "# 43) Tehran 3 pn Regime Entropy (Based on Median Threshold) Period of 90 Far - 98 Dey/ 50 windows of 100 Records"
   ]
  },
  {
   "cell_type": "code",
   "execution_count": 73,
   "id": "af9a8b04-a3e5-4dee-90f7-9001742b1918",
   "metadata": {
    "tags": []
   },
   "outputs": [
    {
     "name": "stderr",
     "output_type": "stream",
     "text": [
      "/Users/hossein4527/MEGA/MEGAsync/Commit/Neda_PhD/neda_sep2023/Time_Series_Trend_Forcasting/Codes/Shifted DF by Lags/ned.py:1106: SettingWithCopyWarning: \n",
      "A value is trying to be set on a copy of a slice from a DataFrame.\n",
      "Try using .loc[row_indexer,col_indexer] = value instead\n",
      "\n",
      "See the caveats in the documentation: https://pandas.pydata.org/pandas-docs/stable/user_guide/indexing.html#returning-a-view-versus-a-copy\n",
      "  df['selected_regimes'] = regimes_column\n"
     ]
    },
    {
     "name": "stdout",
     "output_type": "stream",
     "text": [
      "Number of columns data in our DataFrame is = 46\n",
      "fixed_thr= 0.033\n"
     ]
    }
   ],
   "source": [
    "nm = Net_moduls()\n",
    "entropy_network_ThreeReg_pn_1_98_averged = \\\n",
    "nm.get_network_features_averaged_median(\\\n",
    "                                        tehran_df, \\\n",
    "                                        regimes_column = tehran_df_reg.iloc[:-300]['3_PN'],\\\n",
    "                                        method = 'entropy',\\\n",
    "                                        target_window = 200, \\\n",
    "                                        edges_threshold = 200,\\\n",
    "                                        target_length = 50,\\\n",
    "                                        p_threshold = 0.033\n",
    "                                       )"
   ]
  },
  {
   "cell_type": "code",
   "execution_count": 72,
   "id": "26308667-3f2d-4a90-acf6-437b0cf7b153",
   "metadata": {},
   "outputs": [
    {
     "data": {
      "text/html": [
       "<div>\n",
       "<style scoped>\n",
       "    .dataframe tbody tr th:only-of-type {\n",
       "        vertical-align: middle;\n",
       "    }\n",
       "\n",
       "    .dataframe tbody tr th {\n",
       "        vertical-align: top;\n",
       "    }\n",
       "\n",
       "    .dataframe thead th {\n",
       "        text-align: right;\n",
       "    }\n",
       "</style>\n",
       "<table border=\"1\" class=\"dataframe\">\n",
       "  <thead>\n",
       "    <tr style=\"text-align: right;\">\n",
       "      <th></th>\n",
       "      <th>radius</th>\n",
       "      <th>diameter</th>\n",
       "      <th>densities</th>\n",
       "      <th>number_of_edges</th>\n",
       "      <th>average_clustering</th>\n",
       "      <th>avg_degree_centrality</th>\n",
       "      <th>avg_betweenness_centrality</th>\n",
       "      <th>avg_closeness_centrality</th>\n",
       "      <th>average_shortest_path_length</th>\n",
       "    </tr>\n",
       "  </thead>\n",
       "  <tbody>\n",
       "    <tr>\n",
       "      <th>Means</th>\n",
       "      <td>2.0</td>\n",
       "      <td>3.000000</td>\n",
       "      <td>0.400202</td>\n",
       "      <td>396.200000</td>\n",
       "      <td>0.495498</td>\n",
       "      <td>0.400202</td>\n",
       "      <td>0.014851</td>\n",
       "      <td>0.618930</td>\n",
       "      <td>1.638586</td>\n",
       "    </tr>\n",
       "    <tr>\n",
       "      <th>STDs</th>\n",
       "      <td>0.0</td>\n",
       "      <td>0.000000</td>\n",
       "      <td>0.010009</td>\n",
       "      <td>9.908470</td>\n",
       "      <td>0.016733</td>\n",
       "      <td>0.010009</td>\n",
       "      <td>0.000221</td>\n",
       "      <td>0.003472</td>\n",
       "      <td>0.009497</td>\n",
       "    </tr>\n",
       "    <tr>\n",
       "      <th>Means</th>\n",
       "      <td>2.0</td>\n",
       "      <td>2.300000</td>\n",
       "      <td>0.546667</td>\n",
       "      <td>565.800000</td>\n",
       "      <td>0.616780</td>\n",
       "      <td>0.546667</td>\n",
       "      <td>0.010312</td>\n",
       "      <td>0.694535</td>\n",
       "      <td>1.453720</td>\n",
       "    </tr>\n",
       "    <tr>\n",
       "      <th>STDs</th>\n",
       "      <td>0.0</td>\n",
       "      <td>0.483046</td>\n",
       "      <td>0.035782</td>\n",
       "      <td>37.033918</td>\n",
       "      <td>0.039408</td>\n",
       "      <td>0.035782</td>\n",
       "      <td>0.000820</td>\n",
       "      <td>0.018058</td>\n",
       "      <td>0.036100</td>\n",
       "    </tr>\n",
       "    <tr>\n",
       "      <th>Means</th>\n",
       "      <td>2.0</td>\n",
       "      <td>3.300000</td>\n",
       "      <td>0.287606</td>\n",
       "      <td>288.600000</td>\n",
       "      <td>0.397658</td>\n",
       "      <td>0.287606</td>\n",
       "      <td>0.017466</td>\n",
       "      <td>0.575431</td>\n",
       "      <td>1.756315</td>\n",
       "    </tr>\n",
       "    <tr>\n",
       "      <th>STDs</th>\n",
       "      <td>0.0</td>\n",
       "      <td>0.483046</td>\n",
       "      <td>0.009829</td>\n",
       "      <td>11.266469</td>\n",
       "      <td>0.014786</td>\n",
       "      <td>0.009829</td>\n",
       "      <td>0.000269</td>\n",
       "      <td>0.004629</td>\n",
       "      <td>0.016403</td>\n",
       "    </tr>\n",
       "  </tbody>\n",
       "</table>\n",
       "</div>"
      ],
      "text/plain": [
       "       radius  diameter  densities  number_of_edges  average_clustering  \\\n",
       "Means     2.0  3.000000   0.400202       396.200000            0.495498   \n",
       "STDs      0.0  0.000000   0.010009         9.908470            0.016733   \n",
       "Means     2.0  2.300000   0.546667       565.800000            0.616780   \n",
       "STDs      0.0  0.483046   0.035782        37.033918            0.039408   \n",
       "Means     2.0  3.300000   0.287606       288.600000            0.397658   \n",
       "STDs      0.0  0.483046   0.009829        11.266469            0.014786   \n",
       "\n",
       "       avg_degree_centrality  avg_betweenness_centrality  \\\n",
       "Means               0.400202                    0.014851   \n",
       "STDs                0.010009                    0.000221   \n",
       "Means               0.546667                    0.010312   \n",
       "STDs                0.035782                    0.000820   \n",
       "Means               0.287606                    0.017466   \n",
       "STDs                0.009829                    0.000269   \n",
       "\n",
       "       avg_closeness_centrality  average_shortest_path_length  \n",
       "Means                  0.618930                      1.638586  \n",
       "STDs                   0.003472                      0.009497  \n",
       "Means                  0.694535                      1.453720  \n",
       "STDs                   0.018058                      0.036100  \n",
       "Means                  0.575431                      1.756315  \n",
       "STDs                   0.004629                      0.016403  "
      ]
     },
     "execution_count": 72,
     "metadata": {},
     "output_type": "execute_result"
    }
   ],
   "source": [
    "entropy_network_ThreeReg_pn_1_98_averged"
   ]
  },
  {
   "cell_type": "code",
   "execution_count": 14,
   "id": "707a7595-935f-4760-95c1-531e9e9f0cdd",
   "metadata": {},
   "outputs": [],
   "source": [
    "entropy_network_ThreeReg_pn_1_98_averged.to_csv('Excels/43.csv')"
   ]
  },
  {
   "cell_type": "markdown",
   "id": "4d1e48d3-494d-41e4-866f-913ad40cf5a4",
   "metadata": {},
   "source": [
    "# 44) Tehran 3 pn Regime Entropy (Based on Median Threshold) Period of 90 Far - 00 Far/ 50 windows of 100 Records"
   ]
  },
  {
   "cell_type": "code",
   "execution_count": 86,
   "id": "e0ffedbd-3d15-4f87-aa07-e962a38db2c3",
   "metadata": {
    "tags": []
   },
   "outputs": [
    {
     "name": "stdout",
     "output_type": "stream",
     "text": [
      "Number of columns data in our DataFrame is = 46\n",
      "fixed_thr= 0.033\n"
     ]
    }
   ],
   "source": [
    "nm = Net_moduls()\n",
    "entropy_network_ThreeReg_pn_90_00_averged = \\\n",
    "nm.get_network_features_averaged_median(\\\n",
    "                                            tehran_df_completeDates,\\\n",
    "                                            regimes_column= tehran_df_reg['3_PN'],\\\n",
    "                                            method='entropy',edges_threshold=200, \\\n",
    "                                            target_window=200, target_length=50, \\\n",
    "                                            p_threshold=0.033)"
   ]
  },
  {
   "cell_type": "code",
   "execution_count": 87,
   "id": "c75c384d-a0c9-4446-9da9-032f0c547e91",
   "metadata": {},
   "outputs": [
    {
     "data": {
      "text/html": [
       "<div>\n",
       "<style scoped>\n",
       "    .dataframe tbody tr th:only-of-type {\n",
       "        vertical-align: middle;\n",
       "    }\n",
       "\n",
       "    .dataframe tbody tr th {\n",
       "        vertical-align: top;\n",
       "    }\n",
       "\n",
       "    .dataframe thead th {\n",
       "        text-align: right;\n",
       "    }\n",
       "</style>\n",
       "<table border=\"1\" class=\"dataframe\">\n",
       "  <thead>\n",
       "    <tr style=\"text-align: right;\">\n",
       "      <th></th>\n",
       "      <th>radius</th>\n",
       "      <th>diameter</th>\n",
       "      <th>densities</th>\n",
       "      <th>number_of_edges</th>\n",
       "      <th>average_clustering</th>\n",
       "      <th>avg_degree_centrality</th>\n",
       "      <th>avg_betweenness_centrality</th>\n",
       "      <th>avg_closeness_centrality</th>\n",
       "      <th>average_shortest_path_length</th>\n",
       "    </tr>\n",
       "  </thead>\n",
       "  <tbody>\n",
       "    <tr>\n",
       "      <th>Means</th>\n",
       "      <td>2.0</td>\n",
       "      <td>3.060000</td>\n",
       "      <td>0.360316</td>\n",
       "      <td>357.640000</td>\n",
       "      <td>0.418740</td>\n",
       "      <td>0.360316</td>\n",
       "      <td>0.015284</td>\n",
       "      <td>0.607656</td>\n",
       "      <td>1.658195</td>\n",
       "    </tr>\n",
       "    <tr>\n",
       "      <th>STDs</th>\n",
       "      <td>0.0</td>\n",
       "      <td>0.239898</td>\n",
       "      <td>0.013756</td>\n",
       "      <td>12.939041</td>\n",
       "      <td>0.020178</td>\n",
       "      <td>0.013756</td>\n",
       "      <td>0.000546</td>\n",
       "      <td>0.008486</td>\n",
       "      <td>0.025120</td>\n",
       "    </tr>\n",
       "    <tr>\n",
       "      <th>Means</th>\n",
       "      <td>2.0</td>\n",
       "      <td>2.220000</td>\n",
       "      <td>0.575614</td>\n",
       "      <td>595.760000</td>\n",
       "      <td>0.646700</td>\n",
       "      <td>0.575614</td>\n",
       "      <td>0.009651</td>\n",
       "      <td>0.708296</td>\n",
       "      <td>1.424657</td>\n",
       "    </tr>\n",
       "    <tr>\n",
       "      <th>STDs</th>\n",
       "      <td>0.0</td>\n",
       "      <td>0.418452</td>\n",
       "      <td>0.042085</td>\n",
       "      <td>43.557871</td>\n",
       "      <td>0.037142</td>\n",
       "      <td>0.042085</td>\n",
       "      <td>0.000961</td>\n",
       "      <td>0.021354</td>\n",
       "      <td>0.042272</td>\n",
       "    </tr>\n",
       "    <tr>\n",
       "      <th>Means</th>\n",
       "      <td>2.0</td>\n",
       "      <td>3.100000</td>\n",
       "      <td>0.278629</td>\n",
       "      <td>280.520000</td>\n",
       "      <td>0.366460</td>\n",
       "      <td>0.278629</td>\n",
       "      <td>0.017767</td>\n",
       "      <td>0.570456</td>\n",
       "      <td>1.769698</td>\n",
       "    </tr>\n",
       "    <tr>\n",
       "      <th>STDs</th>\n",
       "      <td>0.0</td>\n",
       "      <td>0.303046</td>\n",
       "      <td>0.027931</td>\n",
       "      <td>32.807565</td>\n",
       "      <td>0.039104</td>\n",
       "      <td>0.027931</td>\n",
       "      <td>0.001018</td>\n",
       "      <td>0.012823</td>\n",
       "      <td>0.039064</td>\n",
       "    </tr>\n",
       "  </tbody>\n",
       "</table>\n",
       "</div>"
      ],
      "text/plain": [
       "       radius  diameter  densities  number_of_edges  average_clustering  \\\n",
       "Means     2.0  3.060000   0.360316       357.640000            0.418740   \n",
       "STDs      0.0  0.239898   0.013756        12.939041            0.020178   \n",
       "Means     2.0  2.220000   0.575614       595.760000            0.646700   \n",
       "STDs      0.0  0.418452   0.042085        43.557871            0.037142   \n",
       "Means     2.0  3.100000   0.278629       280.520000            0.366460   \n",
       "STDs      0.0  0.303046   0.027931        32.807565            0.039104   \n",
       "\n",
       "       avg_degree_centrality  avg_betweenness_centrality  \\\n",
       "Means               0.360316                    0.015284   \n",
       "STDs                0.013756                    0.000546   \n",
       "Means               0.575614                    0.009651   \n",
       "STDs                0.042085                    0.000961   \n",
       "Means               0.278629                    0.017767   \n",
       "STDs                0.027931                    0.001018   \n",
       "\n",
       "       avg_closeness_centrality  average_shortest_path_length  \n",
       "Means                  0.607656                      1.658195  \n",
       "STDs                   0.008486                      0.025120  \n",
       "Means                  0.708296                      1.424657  \n",
       "STDs                   0.021354                      0.042272  \n",
       "Means                  0.570456                      1.769698  \n",
       "STDs                   0.012823                      0.039064  "
      ]
     },
     "execution_count": 87,
     "metadata": {},
     "output_type": "execute_result"
    }
   ],
   "source": [
    "entropy_network_ThreeReg_pn_90_00_averged"
   ]
  },
  {
   "cell_type": "code",
   "execution_count": 17,
   "id": "9076ade2-15e2-4f77-a9af-6b94ff383189",
   "metadata": {},
   "outputs": [],
   "source": [
    "entropy_network_ThreeReg_pn_90_00_averged.to_csv('Excels/44.csv')"
   ]
  },
  {
   "cell_type": "code",
   "execution_count": 48,
   "id": "73c2054c-4a6a-4a27-aa12-e967b3dbe0bc",
   "metadata": {},
   "outputs": [
    {
     "data": {
      "text/plain": [
       "763.533333"
      ]
     },
     "execution_count": 48,
     "metadata": {},
     "output_type": "execute_result"
    }
   ],
   "source": [
    "721.533333 + 3*14"
   ]
  },
  {
   "cell_type": "markdown",
   "id": "3e65970a-bd63-4a5d-a02c-09500d2b1f6f",
   "metadata": {},
   "source": [
    "# 45) Tehran 3 pn Regime Crossed (Based on Median Threshold) Period of 90 Far - 98 Dey"
   ]
  },
  {
   "cell_type": "code",
   "execution_count": 16,
   "id": "474e6562-58cf-4455-85ab-d75284de699f",
   "metadata": {},
   "outputs": [],
   "source": [
    "nm = Net_moduls()"
   ]
  },
  {
   "cell_type": "code",
   "execution_count": 33,
   "id": "80b2fbe3-1971-4d58-9a99-099acb373037",
   "metadata": {},
   "outputs": [
    {
     "data": {
      "text/plain": [
       "0.6"
      ]
     },
     "execution_count": 33,
     "metadata": {},
     "output_type": "execute_result"
    }
   ],
   "source": [
    "thr45_1 = nm.find_median_crossed_100_threshold(tehran_df_ThreeReg_pn_1_same_length_98)\n",
    "thr45_2 = nm.find_median_crossed_100_threshold(tehran_df_ThreeReg_pn_2_same_length_98)\n",
    "thr45_3 = nm.find_median_crossed_100_threshold(tehran_df_ThreeReg_pn_3_same_length_98)\n",
    "\n",
    "thr45 = min(thr45_1, thr45_2, thr45_3)\n",
    "thr45"
   ]
  },
  {
   "cell_type": "code",
   "execution_count": 18,
   "id": "a8bec3a0-70f1-4290-a09c-754f194edac4",
   "metadata": {},
   "outputs": [],
   "source": [
    "crossed_network_ThreeReg_pn_1_98 = nm.construct_network(tehran_df_ThreeReg_pn_1_same_length_98, method='crossed_100', threshold=thr45)"
   ]
  },
  {
   "cell_type": "code",
   "execution_count": 19,
   "id": "4c45c774-d084-480f-b2c6-e16d7fb45d76",
   "metadata": {},
   "outputs": [
    {
     "data": {
      "text/html": [
       "<div>\n",
       "<style scoped>\n",
       "    .dataframe tbody tr th:only-of-type {\n",
       "        vertical-align: middle;\n",
       "    }\n",
       "\n",
       "    .dataframe tbody tr th {\n",
       "        vertical-align: top;\n",
       "    }\n",
       "\n",
       "    .dataframe thead th {\n",
       "        text-align: right;\n",
       "    }\n",
       "</style>\n",
       "<table border=\"1\" class=\"dataframe\">\n",
       "  <thead>\n",
       "    <tr style=\"text-align: right;\">\n",
       "      <th></th>\n",
       "      <th>radius</th>\n",
       "      <th>diameter</th>\n",
       "      <th>densities</th>\n",
       "      <th>number_of_edges</th>\n",
       "      <th>average_clustering</th>\n",
       "      <th>avg_degree_centrality</th>\n",
       "      <th>avg_betweenness_centrality</th>\n",
       "      <th>avg_closeness_centrality</th>\n",
       "      <th>average_shortest_path_length</th>\n",
       "    </tr>\n",
       "  </thead>\n",
       "  <tbody>\n",
       "    <tr>\n",
       "      <th>0</th>\n",
       "      <td>1</td>\n",
       "      <td>2</td>\n",
       "      <td>0.278261</td>\n",
       "      <td>288</td>\n",
       "      <td>0.450682</td>\n",
       "      <td>0.278261</td>\n",
       "      <td>0.016403</td>\n",
       "      <td>0.590672</td>\n",
       "      <td>1.721739</td>\n",
       "    </tr>\n",
       "  </tbody>\n",
       "</table>\n",
       "</div>"
      ],
      "text/plain": [
       "   radius  diameter  densities  number_of_edges  average_clustering  \\\n",
       "0       1         2   0.278261              288            0.450682   \n",
       "\n",
       "   avg_degree_centrality  avg_betweenness_centrality  \\\n",
       "0               0.278261                    0.016403   \n",
       "\n",
       "   avg_closeness_centrality  average_shortest_path_length  \n",
       "0                  0.590672                      1.721739  "
      ]
     },
     "execution_count": 19,
     "metadata": {},
     "output_type": "execute_result"
    }
   ],
   "source": [
    "nm.get_network_features(crossed_network_ThreeReg_pn_1_98)"
   ]
  },
  {
   "cell_type": "code",
   "execution_count": 20,
   "id": "c078b297-eccd-4c30-a1c3-85a826118f93",
   "metadata": {},
   "outputs": [
    {
     "data": {
      "text/plain": [
       "array({'GDP': 3, 'Lastic': 5, 'Rayaneh': 5, 'Wood': 6, 'SayerMadan': 6, 'EstekrajeNaft': 6, 'MahsolateFelezi': 6, 'HamlVaNaghl': 6, 'index': 7, 'KanehayeGeyreFelezi': 7, 'FaniVaMohandesi': 7, 'Daroee': 7, 'Siman': 7, 'Bimeh': 7, 'CoalMining': 7, 'ChandReshteSanati': 7, 'Shimiyaee': 8, 'KashiVaSeramik': 8, 'KanehayeFelezi': 8, 'MashinAlat': 8, 'khodrosazi': 8, 'FelezateAsasi': 9, 'Bank': 9, 'Mali': 9, 'Amlakva': 9, 'Agriculture': 10, 'GhandVaShekar': 10, 'SarmayeGozari': 10, 'SayerMali': 10, 'VasayelErtebati': 11, 'GazaeeBejozGhand': 11, 'EntesharVaChap': 12, 'DastgahayeBargi': 14, 'USD': 14, 'paper': 15, 'FaravardehayeNafti': 15, 'Mansojat': 16, 'Euro': 19, 'Coin': 22, 'Gold': 23, 'Brent Oil': 24, 'M2': 26, 'M1': 30, 'CPI': 31, 'HOUSE': 33, 'AbzaralatePezeshki': 45},\n",
       "      dtype=object)"
      ]
     },
     "execution_count": 20,
     "metadata": {},
     "output_type": "execute_result"
    }
   ],
   "source": [
    "b45_1 = dict(nx.degree(crossed_network_ThreeReg_pn_1_98))\n",
    "b45_1 = np.array(dict(sorted(b45_1.items(), key=lambda item: item[1])))\n",
    "b45_1"
   ]
  },
  {
   "cell_type": "code",
   "execution_count": 21,
   "id": "17980945-a3a4-4587-9987-def87d480392",
   "metadata": {},
   "outputs": [],
   "source": [
    "nm.get_network_features(crossed_network_ThreeReg_pn_1_98).to_csv('Excels/45_1.csv')"
   ]
  },
  {
   "cell_type": "code",
   "execution_count": 22,
   "id": "258ed4b1-c03f-44f0-9196-5f49fb788db9",
   "metadata": {},
   "outputs": [],
   "source": [
    "crossed_network_ThreeReg_pn_2_98 = nm.construct_network(tehran_df_ThreeReg_pn_2_same_length_98, method='crossed_100', threshold=thr45)"
   ]
  },
  {
   "cell_type": "code",
   "execution_count": 23,
   "id": "302009cd-e9db-4ce2-ac99-2bcc06d2d36c",
   "metadata": {},
   "outputs": [
    {
     "data": {
      "text/html": [
       "<div>\n",
       "<style scoped>\n",
       "    .dataframe tbody tr th:only-of-type {\n",
       "        vertical-align: middle;\n",
       "    }\n",
       "\n",
       "    .dataframe tbody tr th {\n",
       "        vertical-align: top;\n",
       "    }\n",
       "\n",
       "    .dataframe thead th {\n",
       "        text-align: right;\n",
       "    }\n",
       "</style>\n",
       "<table border=\"1\" class=\"dataframe\">\n",
       "  <thead>\n",
       "    <tr style=\"text-align: right;\">\n",
       "      <th></th>\n",
       "      <th>radius</th>\n",
       "      <th>diameter</th>\n",
       "      <th>densities</th>\n",
       "      <th>number_of_edges</th>\n",
       "      <th>average_clustering</th>\n",
       "      <th>avg_degree_centrality</th>\n",
       "      <th>avg_betweenness_centrality</th>\n",
       "      <th>avg_closeness_centrality</th>\n",
       "      <th>average_shortest_path_length</th>\n",
       "    </tr>\n",
       "  </thead>\n",
       "  <tbody>\n",
       "    <tr>\n",
       "      <th>0</th>\n",
       "      <td>2</td>\n",
       "      <td>3</td>\n",
       "      <td>0.32657</td>\n",
       "      <td>338</td>\n",
       "      <td>0.346683</td>\n",
       "      <td>0.32657</td>\n",
       "      <td>0.015525</td>\n",
       "      <td>0.59801</td>\n",
       "      <td>1.683092</td>\n",
       "    </tr>\n",
       "  </tbody>\n",
       "</table>\n",
       "</div>"
      ],
      "text/plain": [
       "   radius  diameter  densities  number_of_edges  average_clustering  \\\n",
       "0       2         3    0.32657              338            0.346683   \n",
       "\n",
       "   avg_degree_centrality  avg_betweenness_centrality  \\\n",
       "0                0.32657                    0.015525   \n",
       "\n",
       "   avg_closeness_centrality  average_shortest_path_length  \n",
       "0                   0.59801                      1.683092  "
      ]
     },
     "execution_count": 23,
     "metadata": {},
     "output_type": "execute_result"
    }
   ],
   "source": [
    "nm.get_network_features(crossed_network_ThreeReg_pn_2_98)"
   ]
  },
  {
   "cell_type": "code",
   "execution_count": 24,
   "id": "8fcff59d-1ffc-4baa-9247-07480b8cee4d",
   "metadata": {},
   "outputs": [
    {
     "data": {
      "text/plain": [
       "array({'MashinAlat': 8, 'Daroee': 8, 'KashiVaSeramik': 8, 'index': 9, 'Euro': 9, 'Bank': 9, 'FelezateAsasi': 10, 'khodrosazi': 10, 'Mali': 10, 'EstekrajeNaft': 10, 'DastgahayeBargi': 10, 'Bimeh': 10, 'Siman': 11, 'SayerMali': 11, 'FaniVaMohandesi': 11, 'Mansojat': 11, 'Wood': 11, 'Agriculture': 12, 'Shimiyaee': 12, 'SarmayeGozari': 12, 'FaravardehayeNafti': 13, 'GazaeeBejozGhand': 13, 'Amlakva': 13, 'MahsolateFelezi': 13, 'KanehayeGeyreFelezi': 14, 'KanehayeFelezi': 14, 'GhandVaShekar': 14, 'USD': 15, 'HamlVaNaghl': 15, 'EntesharVaChap': 15, 'ChandReshteSanati': 16, 'VasayelErtebati': 16, 'Rayaneh': 16, 'paper': 17, 'CoalMining': 18, 'CPI': 19, 'M2': 19, 'SayerMadan': 20, 'Coin': 21, 'AbzaralatePezeshki': 21, 'Brent Oil': 23, 'Gold': 23, 'HOUSE': 25, 'GDP': 25, 'M1': 26, 'Lastic': 30},\n",
       "      dtype=object)"
      ]
     },
     "execution_count": 24,
     "metadata": {},
     "output_type": "execute_result"
    }
   ],
   "source": [
    "b45_2 = dict(nx.degree(crossed_network_ThreeReg_pn_2_98))\n",
    "b45_2 = np.array(dict(sorted(b45_2.items(), key=lambda item: item[1])))\n",
    "b45_2"
   ]
  },
  {
   "cell_type": "code",
   "execution_count": 25,
   "id": "1b7166fe-d9d7-44dd-b6c2-14ac4b63b64d",
   "metadata": {},
   "outputs": [],
   "source": [
    "nm.get_network_features(crossed_network_ThreeReg_pn_2_98).to_csv('Excels/45_2.csv')"
   ]
  },
  {
   "cell_type": "code",
   "execution_count": 26,
   "id": "6dc783ff-903c-4c6a-9c62-4aecca6111e6",
   "metadata": {},
   "outputs": [],
   "source": [
    "crossed_network_ThreeReg_pn_3_98 = nm.construct_network(tehran_df_ThreeReg_pn_3_same_length_98, method='crossed_100', threshold=thr45)"
   ]
  },
  {
   "cell_type": "code",
   "execution_count": 27,
   "id": "0c20c629-094f-4461-bd2f-6343e961125e",
   "metadata": {},
   "outputs": [
    {
     "data": {
      "text/html": [
       "<div>\n",
       "<style scoped>\n",
       "    .dataframe tbody tr th:only-of-type {\n",
       "        vertical-align: middle;\n",
       "    }\n",
       "\n",
       "    .dataframe tbody tr th {\n",
       "        vertical-align: top;\n",
       "    }\n",
       "\n",
       "    .dataframe thead th {\n",
       "        text-align: right;\n",
       "    }\n",
       "</style>\n",
       "<table border=\"1\" class=\"dataframe\">\n",
       "  <thead>\n",
       "    <tr style=\"text-align: right;\">\n",
       "      <th></th>\n",
       "      <th>radius</th>\n",
       "      <th>diameter</th>\n",
       "      <th>densities</th>\n",
       "      <th>number_of_edges</th>\n",
       "      <th>average_clustering</th>\n",
       "      <th>avg_degree_centrality</th>\n",
       "      <th>avg_betweenness_centrality</th>\n",
       "      <th>avg_closeness_centrality</th>\n",
       "      <th>average_shortest_path_length</th>\n",
       "    </tr>\n",
       "  </thead>\n",
       "  <tbody>\n",
       "    <tr>\n",
       "      <th>0</th>\n",
       "      <td>1</td>\n",
       "      <td>2</td>\n",
       "      <td>0.329469</td>\n",
       "      <td>341</td>\n",
       "      <td>0.456948</td>\n",
       "      <td>0.329469</td>\n",
       "      <td>0.015239</td>\n",
       "      <td>0.606747</td>\n",
       "      <td>1.670531</td>\n",
       "    </tr>\n",
       "  </tbody>\n",
       "</table>\n",
       "</div>"
      ],
      "text/plain": [
       "   radius  diameter  densities  number_of_edges  average_clustering  \\\n",
       "0       1         2   0.329469              341            0.456948   \n",
       "\n",
       "   avg_degree_centrality  avg_betweenness_centrality  \\\n",
       "0               0.329469                    0.015239   \n",
       "\n",
       "   avg_closeness_centrality  average_shortest_path_length  \n",
       "0                  0.606747                      1.670531  "
      ]
     },
     "execution_count": 27,
     "metadata": {},
     "output_type": "execute_result"
    }
   ],
   "source": [
    "nm.get_network_features(crossed_network_ThreeReg_pn_3_98)"
   ]
  },
  {
   "cell_type": "code",
   "execution_count": 28,
   "id": "da0ea5ae-943e-47f4-a8bd-bc9eecb116f6",
   "metadata": {},
   "outputs": [
    {
     "data": {
      "text/plain": [
       "array({'index': 4, 'SarmayeGozari': 6, 'GazaeeBejozGhand': 6, 'Shimiyaee': 6, 'Siman': 8, 'MahsolateFelezi': 9, 'KanehayeGeyreFelezi': 9, 'Bimeh': 9, 'Amlakva': 9, 'SayerMali': 9, 'ChandReshteSanati': 9, 'MashinAlat': 10, 'HamlVaNaghl': 10, 'KanehayeFelezi': 10, 'DastgahayeBargi': 10, 'Agriculture': 11, 'EntesharVaChap': 11, 'khodrosazi': 11, 'Daroee': 11, 'GhandVaShekar': 12, 'KashiVaSeramik': 12, 'Wood': 12, 'Gold': 13, 'CoalMining': 13, 'Mansojat': 13, 'Mali': 13, 'Lastic': 14, 'FelezateAsasi': 14, 'Bank': 14, 'paper': 15, 'FaniVaMohandesi': 15, 'Euro': 15, 'Rayaneh': 16, 'FaravardehayeNafti': 16, 'EstekrajeNaft': 17, 'USD': 19, 'VasayelErtebati': 21, 'HOUSE': 22, 'Brent Oil': 22, 'Coin': 23, 'CPI': 25, 'SayerMadan': 25, 'M1': 28, 'GDP': 29, 'M2': 31, 'AbzaralatePezeshki': 45},\n",
       "      dtype=object)"
      ]
     },
     "execution_count": 28,
     "metadata": {},
     "output_type": "execute_result"
    }
   ],
   "source": [
    "b45_3 = dict(nx.degree(crossed_network_ThreeReg_pn_3_98))\n",
    "b45_3 = np.array(dict(sorted(b45_3.items(), key=lambda item: item[1])))\n",
    "b45_3"
   ]
  },
  {
   "cell_type": "code",
   "execution_count": 29,
   "id": "bf173027-2b3d-4f21-9cbf-d59f65320555",
   "metadata": {},
   "outputs": [],
   "source": [
    "nm.get_network_features(crossed_network_ThreeReg_pn_3_98).to_csv('Excels/45_3.csv')"
   ]
  },
  {
   "cell_type": "markdown",
   "id": "338ea4d4-e438-434b-aa14-35226670453a",
   "metadata": {},
   "source": [
    "# 46) Tehran 3 pn Regime Crossed (Based on Median Threshold) Period of 90 Far - 00 Far"
   ]
  },
  {
   "cell_type": "code",
   "execution_count": 44,
   "id": "7d607077-4b09-47ac-a95c-f6bab37dd96f",
   "metadata": {},
   "outputs": [],
   "source": [
    "nm = Net_moduls()"
   ]
  },
  {
   "cell_type": "code",
   "execution_count": 34,
   "id": "1fd8fa4f-f656-4015-bf74-66ff5387da68",
   "metadata": {},
   "outputs": [
    {
     "data": {
      "text/plain": [
       "0.52"
      ]
     },
     "execution_count": 34,
     "metadata": {},
     "output_type": "execute_result"
    }
   ],
   "source": [
    "thr46_1 = nm.find_median_crossed_100_threshold(tehran_df_ThreeReg_pn_1_same_length)\n",
    "thr46_2 = nm.find_median_crossed_100_threshold(tehran_df_ThreeReg_pn_2_same_length)\n",
    "thr46_3 = nm.find_median_crossed_100_threshold(tehran_df_ThreeReg_pn_3_same_length)\n",
    "\n",
    "thr46 = min(thr46_1, thr46_2, thr46_3)\n",
    "thr46"
   ]
  },
  {
   "cell_type": "code",
   "execution_count": 46,
   "id": "baddcc8a-a3ac-42bb-87ba-31a5907d735f",
   "metadata": {},
   "outputs": [],
   "source": [
    "crossed_network_ThreeReg_pn_1 = nm.construct_network(tehran_df_ThreeReg_pn_1_same_length, method='crossed_100', threshold=thr46)"
   ]
  },
  {
   "cell_type": "code",
   "execution_count": 47,
   "id": "117da2a1-38ea-4250-b886-acd3c05f70ec",
   "metadata": {},
   "outputs": [
    {
     "data": {
      "text/html": [
       "<div>\n",
       "<style scoped>\n",
       "    .dataframe tbody tr th:only-of-type {\n",
       "        vertical-align: middle;\n",
       "    }\n",
       "\n",
       "    .dataframe tbody tr th {\n",
       "        vertical-align: top;\n",
       "    }\n",
       "\n",
       "    .dataframe thead th {\n",
       "        text-align: right;\n",
       "    }\n",
       "</style>\n",
       "<table border=\"1\" class=\"dataframe\">\n",
       "  <thead>\n",
       "    <tr style=\"text-align: right;\">\n",
       "      <th></th>\n",
       "      <th>radius</th>\n",
       "      <th>diameter</th>\n",
       "      <th>densities</th>\n",
       "      <th>number_of_edges</th>\n",
       "      <th>average_clustering</th>\n",
       "      <th>avg_degree_centrality</th>\n",
       "      <th>avg_betweenness_centrality</th>\n",
       "      <th>avg_closeness_centrality</th>\n",
       "      <th>average_shortest_path_length</th>\n",
       "    </tr>\n",
       "  </thead>\n",
       "  <tbody>\n",
       "    <tr>\n",
       "      <th>0</th>\n",
       "      <td>2</td>\n",
       "      <td>3</td>\n",
       "      <td>0.308213</td>\n",
       "      <td>319</td>\n",
       "      <td>0.555451</td>\n",
       "      <td>0.308213</td>\n",
       "      <td>0.015744</td>\n",
       "      <td>0.600579</td>\n",
       "      <td>1.692754</td>\n",
       "    </tr>\n",
       "  </tbody>\n",
       "</table>\n",
       "</div>"
      ],
      "text/plain": [
       "   radius  diameter  densities  number_of_edges  average_clustering  \\\n",
       "0       2         3   0.308213              319            0.555451   \n",
       "\n",
       "   avg_degree_centrality  avg_betweenness_centrality  \\\n",
       "0               0.308213                    0.015744   \n",
       "\n",
       "   avg_closeness_centrality  average_shortest_path_length  \n",
       "0                  0.600579                      1.692754  "
      ]
     },
     "execution_count": 47,
     "metadata": {},
     "output_type": "execute_result"
    }
   ],
   "source": [
    "nm.get_network_features(crossed_network_ThreeReg_pn_1)"
   ]
  },
  {
   "cell_type": "code",
   "execution_count": 48,
   "id": "a5b69257-0532-47b1-b01e-07db236608c1",
   "metadata": {},
   "outputs": [
    {
     "data": {
      "text/plain": [
       "array({'Shimiyaee': 5, 'Amlakva': 5, 'FaravardehayeNafti': 6, 'khodrosazi': 7, 'KanehayeGeyreFelezi': 7, 'Agriculture': 7, 'VasayelErtebati': 7, 'Daroee': 7, 'Rayaneh': 7, 'Mali': 7, 'index': 8, 'Bank': 8, 'HamlVaNaghl': 8, 'MahsolateFelezi': 8, 'ChandReshteSanati': 8, 'GazaeeBejozGhand': 8, 'SayerMali': 8, 'paper': 9, 'FelezateAsasi': 9, 'MashinAlat': 9, 'Siman': 9, 'Bimeh': 9, 'SarmayeGozari': 9, 'CoalMining': 10, 'DastgahayeBargi': 10, 'KashiVaSeramik': 10, 'FaniVaMohandesi': 10, 'GhandVaShekar': 11, 'KanehayeFelezi': 12, 'Mansojat': 13, 'USD': 13, 'EstekrajeNaft': 14, 'Lastic': 16, 'Euro': 16, 'Coin': 19, 'M1': 21, 'Brent Oil': 22, 'M2': 23, 'SayerMadan': 24, 'Wood': 26, 'HOUSE': 27, 'AbzaralatePezeshki': 28, 'GDP': 30, 'EntesharVaChap': 33, 'Gold': 35, 'CPI': 40},\n",
       "      dtype=object)"
      ]
     },
     "execution_count": 48,
     "metadata": {},
     "output_type": "execute_result"
    }
   ],
   "source": [
    "b46_1 = dict(nx.degree(crossed_network_ThreeReg_pn_1))\n",
    "b46_1 = np.array(dict(sorted(b46_1.items(), key=lambda item: item[1])))\n",
    "b46_1"
   ]
  },
  {
   "cell_type": "code",
   "execution_count": 49,
   "id": "12f2eafb-910e-4ee4-b22b-a444ca4ca590",
   "metadata": {},
   "outputs": [],
   "source": [
    "nm.get_network_features(crossed_network_ThreeReg_pn_1).to_csv('Excels/46_1.csv')"
   ]
  },
  {
   "cell_type": "code",
   "execution_count": 50,
   "id": "5c17149a-6115-49a6-94af-f7e8e57861d6",
   "metadata": {},
   "outputs": [],
   "source": [
    "crossed_network_ThreeReg_pn_2 = nm.construct_network(tehran_df_ThreeReg_pn_2_same_length, method='crossed_100', threshold=thr46)"
   ]
  },
  {
   "cell_type": "code",
   "execution_count": 51,
   "id": "2ed21690-797a-49c0-ae73-2703dd0ce21c",
   "metadata": {},
   "outputs": [
    {
     "data": {
      "text/html": [
       "<div>\n",
       "<style scoped>\n",
       "    .dataframe tbody tr th:only-of-type {\n",
       "        vertical-align: middle;\n",
       "    }\n",
       "\n",
       "    .dataframe tbody tr th {\n",
       "        vertical-align: top;\n",
       "    }\n",
       "\n",
       "    .dataframe thead th {\n",
       "        text-align: right;\n",
       "    }\n",
       "</style>\n",
       "<table border=\"1\" class=\"dataframe\">\n",
       "  <thead>\n",
       "    <tr style=\"text-align: right;\">\n",
       "      <th></th>\n",
       "      <th>radius</th>\n",
       "      <th>diameter</th>\n",
       "      <th>densities</th>\n",
       "      <th>number_of_edges</th>\n",
       "      <th>average_clustering</th>\n",
       "      <th>avg_degree_centrality</th>\n",
       "      <th>avg_betweenness_centrality</th>\n",
       "      <th>avg_closeness_centrality</th>\n",
       "      <th>average_shortest_path_length</th>\n",
       "    </tr>\n",
       "  </thead>\n",
       "  <tbody>\n",
       "    <tr>\n",
       "      <th>0</th>\n",
       "      <td>2</td>\n",
       "      <td>2</td>\n",
       "      <td>0.382609</td>\n",
       "      <td>396</td>\n",
       "      <td>0.434412</td>\n",
       "      <td>0.382609</td>\n",
       "      <td>0.014032</td>\n",
       "      <td>0.623263</td>\n",
       "      <td>1.617391</td>\n",
       "    </tr>\n",
       "  </tbody>\n",
       "</table>\n",
       "</div>"
      ],
      "text/plain": [
       "   radius  diameter  densities  number_of_edges  average_clustering  \\\n",
       "0       2         2   0.382609              396            0.434412   \n",
       "\n",
       "   avg_degree_centrality  avg_betweenness_centrality  \\\n",
       "0               0.382609                    0.014032   \n",
       "\n",
       "   avg_closeness_centrality  average_shortest_path_length  \n",
       "0                  0.623263                      1.617391  "
      ]
     },
     "execution_count": 51,
     "metadata": {},
     "output_type": "execute_result"
    }
   ],
   "source": [
    "nm.get_network_features(crossed_network_ThreeReg_pn_2)"
   ]
  },
  {
   "cell_type": "code",
   "execution_count": 52,
   "id": "8ebb6ee3-3b70-4fdd-ae71-daa8dc440b6b",
   "metadata": {},
   "outputs": [
    {
     "data": {
      "text/plain": [
       "array({'khodrosazi': 8, 'Bank': 9, 'index': 10, 'Mali': 10, 'Bimeh': 10, 'SarmayeGozari': 11, 'FaniVaMohandesi': 11, 'MahsolateFelezi': 11, 'DastgahayeBargi': 11, 'Wood': 11, 'GazaeeBejozGhand': 12, 'SayerMali': 12, 'Amlakva': 12, 'FelezateAsasi': 13, 'Shimiyaee': 13, 'USD': 14, 'KanehayeGeyreFelezi': 14, 'MashinAlat': 14, 'Euro': 15, 'ChandReshteSanati': 15, 'Siman': 15, 'EntesharVaChap': 15, 'KashiVaSeramik': 15, 'Agriculture': 16, 'Daroee': 16, 'KanehayeFelezi': 16, 'paper': 16, 'HamlVaNaghl': 17, 'GhandVaShekar': 17, 'FaravardehayeNafti': 18, 'EstekrajeNaft': 19, 'M2': 20, 'Rayaneh': 21, 'CPI': 22, 'Mansojat': 22, 'VasayelErtebati': 22, 'M1': 23, 'SayerMadan': 24, 'AbzaralatePezeshki': 24, 'CoalMining': 24, 'Brent Oil': 26, 'GDP': 27, 'Coin': 28, 'HOUSE': 30, 'Gold': 30, 'Lastic': 33},\n",
       "      dtype=object)"
      ]
     },
     "execution_count": 52,
     "metadata": {},
     "output_type": "execute_result"
    }
   ],
   "source": [
    "b46_2 = dict(nx.degree(crossed_network_ThreeReg_pn_2))\n",
    "b46_2 = np.array(dict(sorted(b46_2.items(), key=lambda item: item[1])))\n",
    "b46_2"
   ]
  },
  {
   "cell_type": "code",
   "execution_count": 53,
   "id": "d5cbf2f1-f4da-40a6-a175-803b059adf1c",
   "metadata": {},
   "outputs": [],
   "source": [
    "nm.get_network_features(crossed_network_ThreeReg_pn_2).to_csv('Excels/46_2.csv')"
   ]
  },
  {
   "cell_type": "code",
   "execution_count": 54,
   "id": "ee8edfd8-2db7-4dc6-8592-308f391c676a",
   "metadata": {},
   "outputs": [],
   "source": [
    "crossed_network_ThreeReg_pn_3 = nm.construct_network(tehran_df_ThreeReg_pn_3_same_length, method='crossed_100', threshold=thr46)"
   ]
  },
  {
   "cell_type": "code",
   "execution_count": 55,
   "id": "f19051ca-4f3d-467f-b19d-c1d15068c2a6",
   "metadata": {},
   "outputs": [
    {
     "data": {
      "text/html": [
       "<div>\n",
       "<style scoped>\n",
       "    .dataframe tbody tr th:only-of-type {\n",
       "        vertical-align: middle;\n",
       "    }\n",
       "\n",
       "    .dataframe tbody tr th {\n",
       "        vertical-align: top;\n",
       "    }\n",
       "\n",
       "    .dataframe thead th {\n",
       "        text-align: right;\n",
       "    }\n",
       "</style>\n",
       "<table border=\"1\" class=\"dataframe\">\n",
       "  <thead>\n",
       "    <tr style=\"text-align: right;\">\n",
       "      <th></th>\n",
       "      <th>radius</th>\n",
       "      <th>diameter</th>\n",
       "      <th>densities</th>\n",
       "      <th>number_of_edges</th>\n",
       "      <th>average_clustering</th>\n",
       "      <th>avg_degree_centrality</th>\n",
       "      <th>avg_betweenness_centrality</th>\n",
       "      <th>avg_closeness_centrality</th>\n",
       "      <th>average_shortest_path_length</th>\n",
       "    </tr>\n",
       "  </thead>\n",
       "  <tbody>\n",
       "    <tr>\n",
       "      <th>0</th>\n",
       "      <td>1</td>\n",
       "      <td>2</td>\n",
       "      <td>0.355556</td>\n",
       "      <td>368</td>\n",
       "      <td>0.505865</td>\n",
       "      <td>0.355556</td>\n",
       "      <td>0.014646</td>\n",
       "      <td>0.620245</td>\n",
       "      <td>1.644444</td>\n",
       "    </tr>\n",
       "  </tbody>\n",
       "</table>\n",
       "</div>"
      ],
      "text/plain": [
       "   radius  diameter  densities  number_of_edges  average_clustering  \\\n",
       "0       1         2   0.355556              368            0.505865   \n",
       "\n",
       "   avg_degree_centrality  avg_betweenness_centrality  \\\n",
       "0               0.355556                    0.014646   \n",
       "\n",
       "   avg_closeness_centrality  average_shortest_path_length  \n",
       "0                  0.620245                      1.644444  "
      ]
     },
     "execution_count": 55,
     "metadata": {},
     "output_type": "execute_result"
    }
   ],
   "source": [
    "nm.get_network_features(crossed_network_ThreeReg_pn_3)"
   ]
  },
  {
   "cell_type": "code",
   "execution_count": 56,
   "id": "88dc7f04-4703-4494-a161-9c4ab681f105",
   "metadata": {},
   "outputs": [
    {
     "data": {
      "text/plain": [
       "array({'index': 7, 'KanehayeFelezi': 7, 'HamlVaNaghl': 7, 'Bank': 7, 'Mali': 7, 'Siman': 8, 'Shimiyaee': 8, 'ChandReshteSanati': 9, 'MashinAlat': 10, 'SarmayeGozari': 10, 'Bimeh': 10, 'GazaeeBejozGhand': 10, 'Agriculture': 11, 'MahsolateFelezi': 11, 'KanehayeGeyreFelezi': 11, 'CoalMining': 11, 'Daroee': 11, 'Amlakva': 11, 'Lastic': 12, 'khodrosazi': 12, 'SayerMali': 12, 'DastgahayeBargi': 12, 'Gold': 13, 'EstekrajeNaft': 13, 'KashiVaSeramik': 13, 'FaravardehayeNafti': 13, 'Wood': 14, 'paper': 14, 'EntesharVaChap': 14, 'GhandVaShekar': 14, 'Rayaneh': 14, 'FelezateAsasi': 14, 'VasayelErtebati': 15, 'FaniVaMohandesi': 16, 'Mansojat': 19, 'SayerMadan': 20, 'USD': 22, 'Coin': 25, 'Brent Oil': 26, 'Euro': 27, 'HOUSE': 30, 'GDP': 31, 'M1': 35, 'M2': 37, 'CPI': 38, 'AbzaralatePezeshki': 45},\n",
       "      dtype=object)"
      ]
     },
     "execution_count": 56,
     "metadata": {},
     "output_type": "execute_result"
    }
   ],
   "source": [
    "b46_3 = dict(nx.degree(crossed_network_ThreeReg_pn_3))\n",
    "b46_3 = np.array(dict(sorted(b46_3.items(), key=lambda item: item[1])))\n",
    "b46_3"
   ]
  },
  {
   "cell_type": "code",
   "execution_count": 57,
   "id": "69bab4fa-db87-4e91-b8da-2bb455121aae",
   "metadata": {},
   "outputs": [],
   "source": [
    "nm.get_network_features(crossed_network_ThreeReg_pn_3).to_csv('Excels/46_3.csv')"
   ]
  },
  {
   "cell_type": "markdown",
   "id": "3e773341-75d2-4d32-a0a2-1528de96a2d1",
   "metadata": {},
   "source": [
    "# 47) Tehran 3 pn Regime Crossed (Based on Median Threshold) Period of 90 Far - 98 Dey/ Last 100 Records"
   ]
  },
  {
   "cell_type": "code",
   "execution_count": 35,
   "id": "0d9574b8-df91-4f45-837e-1a9e213c5340",
   "metadata": {},
   "outputs": [
    {
     "data": {
      "text/plain": [
       "0.6"
      ]
     },
     "execution_count": 35,
     "metadata": {},
     "output_type": "execute_result"
    }
   ],
   "source": [
    "thr47_1 = nm.find_median_crossed_100_threshold(tehran_df_ThreeReg_pn_1_same_length_98[-100:])\n",
    "thr47_2 = nm.find_median_crossed_100_threshold(tehran_df_ThreeReg_pn_2_same_length_98[-100:])\n",
    "thr47_3 = nm.find_median_crossed_100_threshold(tehran_df_ThreeReg_pn_3_same_length_98[-100:])\n",
    "\n",
    "thr47 = min(thr47_1, thr47_2, thr47_3)\n",
    "thr47"
   ]
  },
  {
   "cell_type": "code",
   "execution_count": 59,
   "id": "8ab5ec55-0ef5-48f0-b55a-c2b4f89c497f",
   "metadata": {},
   "outputs": [],
   "source": [
    "crossed_network_ThreeReg_pn_1_98_last100 = nm.construct_network(tehran_df_ThreeReg_pn_1_same_length_98[-100:], method='crossed_100', threshold=thr47)"
   ]
  },
  {
   "cell_type": "code",
   "execution_count": 60,
   "id": "726a2015-b5f4-4084-8d1f-02c62b153911",
   "metadata": {},
   "outputs": [
    {
     "data": {
      "text/html": [
       "<div>\n",
       "<style scoped>\n",
       "    .dataframe tbody tr th:only-of-type {\n",
       "        vertical-align: middle;\n",
       "    }\n",
       "\n",
       "    .dataframe tbody tr th {\n",
       "        vertical-align: top;\n",
       "    }\n",
       "\n",
       "    .dataframe thead th {\n",
       "        text-align: right;\n",
       "    }\n",
       "</style>\n",
       "<table border=\"1\" class=\"dataframe\">\n",
       "  <thead>\n",
       "    <tr style=\"text-align: right;\">\n",
       "      <th></th>\n",
       "      <th>radius</th>\n",
       "      <th>diameter</th>\n",
       "      <th>densities</th>\n",
       "      <th>number_of_edges</th>\n",
       "      <th>average_clustering</th>\n",
       "      <th>avg_degree_centrality</th>\n",
       "      <th>avg_betweenness_centrality</th>\n",
       "      <th>avg_closeness_centrality</th>\n",
       "      <th>average_shortest_path_length</th>\n",
       "    </tr>\n",
       "  </thead>\n",
       "  <tbody>\n",
       "    <tr>\n",
       "      <th>0</th>\n",
       "      <td>1</td>\n",
       "      <td>2</td>\n",
       "      <td>0.258937</td>\n",
       "      <td>268</td>\n",
       "      <td>0.455059</td>\n",
       "      <td>0.258937</td>\n",
       "      <td>0.016842</td>\n",
       "      <td>0.582202</td>\n",
       "      <td>1.741063</td>\n",
       "    </tr>\n",
       "  </tbody>\n",
       "</table>\n",
       "</div>"
      ],
      "text/plain": [
       "   radius  diameter  densities  number_of_edges  average_clustering  \\\n",
       "0       1         2   0.258937              268            0.455059   \n",
       "\n",
       "   avg_degree_centrality  avg_betweenness_centrality  \\\n",
       "0               0.258937                    0.016842   \n",
       "\n",
       "   avg_closeness_centrality  average_shortest_path_length  \n",
       "0                  0.582202                      1.741063  "
      ]
     },
     "execution_count": 60,
     "metadata": {},
     "output_type": "execute_result"
    }
   ],
   "source": [
    "nm.get_network_features(crossed_network_ThreeReg_pn_1_98_last100)"
   ]
  },
  {
   "cell_type": "code",
   "execution_count": 61,
   "id": "f18970bc-e408-4203-8f89-e7f90b88eaba",
   "metadata": {},
   "outputs": [],
   "source": [
    "nm.get_network_features(crossed_network_ThreeReg_pn_1_98_last100).to_csv('Excels/47_1.csv')"
   ]
  },
  {
   "cell_type": "code",
   "execution_count": 62,
   "id": "381a4dc0-1436-4608-9dda-000b2a8af917",
   "metadata": {},
   "outputs": [],
   "source": [
    "crossed_network_ThreeReg_pn_2_98_last100 = nm.construct_network(tehran_df_ThreeReg_pn_2_same_length_98[-100:], method='crossed_100', threshold=thr47)"
   ]
  },
  {
   "cell_type": "code",
   "execution_count": 63,
   "id": "9e7694b7-4ec8-4c12-ab7c-81d586b55729",
   "metadata": {},
   "outputs": [
    {
     "data": {
      "text/html": [
       "<div>\n",
       "<style scoped>\n",
       "    .dataframe tbody tr th:only-of-type {\n",
       "        vertical-align: middle;\n",
       "    }\n",
       "\n",
       "    .dataframe tbody tr th {\n",
       "        vertical-align: top;\n",
       "    }\n",
       "\n",
       "    .dataframe thead th {\n",
       "        text-align: right;\n",
       "    }\n",
       "</style>\n",
       "<table border=\"1\" class=\"dataframe\">\n",
       "  <thead>\n",
       "    <tr style=\"text-align: right;\">\n",
       "      <th></th>\n",
       "      <th>radius</th>\n",
       "      <th>diameter</th>\n",
       "      <th>densities</th>\n",
       "      <th>number_of_edges</th>\n",
       "      <th>average_clustering</th>\n",
       "      <th>avg_degree_centrality</th>\n",
       "      <th>avg_betweenness_centrality</th>\n",
       "      <th>avg_closeness_centrality</th>\n",
       "      <th>average_shortest_path_length</th>\n",
       "    </tr>\n",
       "  </thead>\n",
       "  <tbody>\n",
       "    <tr>\n",
       "      <th>0</th>\n",
       "      <td>2</td>\n",
       "      <td>3</td>\n",
       "      <td>0.382609</td>\n",
       "      <td>396</td>\n",
       "      <td>0.408268</td>\n",
       "      <td>0.382609</td>\n",
       "      <td>0.014076</td>\n",
       "      <td>0.62153</td>\n",
       "      <td>1.619324</td>\n",
       "    </tr>\n",
       "  </tbody>\n",
       "</table>\n",
       "</div>"
      ],
      "text/plain": [
       "   radius  diameter  densities  number_of_edges  average_clustering  \\\n",
       "0       2         3   0.382609              396            0.408268   \n",
       "\n",
       "   avg_degree_centrality  avg_betweenness_centrality  \\\n",
       "0               0.382609                    0.014076   \n",
       "\n",
       "   avg_closeness_centrality  average_shortest_path_length  \n",
       "0                   0.62153                      1.619324  "
      ]
     },
     "execution_count": 63,
     "metadata": {},
     "output_type": "execute_result"
    }
   ],
   "source": [
    "nm.get_network_features(crossed_network_ThreeReg_pn_2_98_last100)"
   ]
  },
  {
   "cell_type": "code",
   "execution_count": 64,
   "id": "2aae1559-bcfa-4f8e-90c8-48bb5ec53cfb",
   "metadata": {},
   "outputs": [],
   "source": [
    "nm.get_network_features(crossed_network_ThreeReg_pn_2_98_last100).to_csv('Excels/47_2.csv')"
   ]
  },
  {
   "cell_type": "code",
   "execution_count": 65,
   "id": "409e0dc3-ad1e-43b8-afa6-5989e1d3f499",
   "metadata": {},
   "outputs": [],
   "source": [
    "crossed_network_ThreeReg_pn_3_98_last100 = nm.construct_network(tehran_df_ThreeReg_pn_3_same_length_98[-100:], method='crossed_100', threshold=thr47)"
   ]
  },
  {
   "cell_type": "code",
   "execution_count": 66,
   "id": "f46d1dc2-a1b7-4fa1-b88d-fc0975317837",
   "metadata": {},
   "outputs": [
    {
     "data": {
      "text/html": [
       "<div>\n",
       "<style scoped>\n",
       "    .dataframe tbody tr th:only-of-type {\n",
       "        vertical-align: middle;\n",
       "    }\n",
       "\n",
       "    .dataframe tbody tr th {\n",
       "        vertical-align: top;\n",
       "    }\n",
       "\n",
       "    .dataframe thead th {\n",
       "        text-align: right;\n",
       "    }\n",
       "</style>\n",
       "<table border=\"1\" class=\"dataframe\">\n",
       "  <thead>\n",
       "    <tr style=\"text-align: right;\">\n",
       "      <th></th>\n",
       "      <th>radius</th>\n",
       "      <th>diameter</th>\n",
       "      <th>densities</th>\n",
       "      <th>number_of_edges</th>\n",
       "      <th>average_clustering</th>\n",
       "      <th>avg_degree_centrality</th>\n",
       "      <th>avg_betweenness_centrality</th>\n",
       "      <th>avg_closeness_centrality</th>\n",
       "      <th>average_shortest_path_length</th>\n",
       "    </tr>\n",
       "  </thead>\n",
       "  <tbody>\n",
       "    <tr>\n",
       "      <th>0</th>\n",
       "      <td>1</td>\n",
       "      <td>2</td>\n",
       "      <td>0.361353</td>\n",
       "      <td>374</td>\n",
       "      <td>0.476778</td>\n",
       "      <td>0.361353</td>\n",
       "      <td>0.014515</td>\n",
       "      <td>0.619308</td>\n",
       "      <td>1.638647</td>\n",
       "    </tr>\n",
       "  </tbody>\n",
       "</table>\n",
       "</div>"
      ],
      "text/plain": [
       "   radius  diameter  densities  number_of_edges  average_clustering  \\\n",
       "0       1         2   0.361353              374            0.476778   \n",
       "\n",
       "   avg_degree_centrality  avg_betweenness_centrality  \\\n",
       "0               0.361353                    0.014515   \n",
       "\n",
       "   avg_closeness_centrality  average_shortest_path_length  \n",
       "0                  0.619308                      1.638647  "
      ]
     },
     "execution_count": 66,
     "metadata": {},
     "output_type": "execute_result"
    }
   ],
   "source": [
    "nm.get_network_features(crossed_network_ThreeReg_pn_3_98_last100)"
   ]
  },
  {
   "cell_type": "code",
   "execution_count": 67,
   "id": "97e1e92a-2429-4aca-a579-ca8cd33ba691",
   "metadata": {},
   "outputs": [],
   "source": [
    "nm.get_network_features(crossed_network_ThreeReg_pn_3_98_last100).to_csv('Excels/47_3.csv')"
   ]
  },
  {
   "cell_type": "markdown",
   "id": "2299759c-4c5f-4906-aba0-4760d366a142",
   "metadata": {},
   "source": [
    "# 48) Tehran 3 pn Regime Crossed (Based on Median Threshold) Period of 90 Far - 98 Dey/ 50 windows of 100 Records"
   ]
  },
  {
   "cell_type": "code",
   "execution_count": 68,
   "id": "a6756a26-601f-4dc9-a8fa-f32eeb34ee6c",
   "metadata": {
    "tags": []
   },
   "outputs": [
    {
     "name": "stderr",
     "output_type": "stream",
     "text": [
      "/Users/hossein4527/MEGA/MEGAsync/Commit/Neda_PhD/neda_sep2023/Time_Series_Trend_Forcasting/Codes/Shifted DF by Lags/ned.py:1106: SettingWithCopyWarning: \n",
      "A value is trying to be set on a copy of a slice from a DataFrame.\n",
      "Try using .loc[row_indexer,col_indexer] = value instead\n",
      "\n",
      "See the caveats in the documentation: https://pandas.pydata.org/pandas-docs/stable/user_guide/indexing.html#returning-a-view-versus-a-copy\n",
      "  df['selected_regimes'] = regimes_column\n"
     ]
    },
    {
     "name": "stdout",
     "output_type": "stream",
     "text": [
      "Number of columns data in our DataFrame is = 46\n",
      "fixed_thr= 0.56\n"
     ]
    }
   ],
   "source": [
    "nm = Net_moduls()\n",
    "crossed_network_ThreeReg_pn_1_98_averged = nm.get_network_features_averaged_median(tehran_df, regimes_column = tehran_df_reg['3_PN'],method='crossed_100',edges_threshold=200, target_window=100, target_length=50)"
   ]
  },
  {
   "cell_type": "code",
   "execution_count": 69,
   "id": "cf8228ac-629d-46e2-ae08-937beb416ef6",
   "metadata": {},
   "outputs": [
    {
     "data": {
      "text/html": [
       "<div>\n",
       "<style scoped>\n",
       "    .dataframe tbody tr th:only-of-type {\n",
       "        vertical-align: middle;\n",
       "    }\n",
       "\n",
       "    .dataframe tbody tr th {\n",
       "        vertical-align: top;\n",
       "    }\n",
       "\n",
       "    .dataframe thead th {\n",
       "        text-align: right;\n",
       "    }\n",
       "</style>\n",
       "<table border=\"1\" class=\"dataframe\">\n",
       "  <thead>\n",
       "    <tr style=\"text-align: right;\">\n",
       "      <th></th>\n",
       "      <th>radius</th>\n",
       "      <th>diameter</th>\n",
       "      <th>densities</th>\n",
       "      <th>number_of_edges</th>\n",
       "      <th>average_clustering</th>\n",
       "      <th>avg_degree_centrality</th>\n",
       "      <th>avg_betweenness_centrality</th>\n",
       "      <th>avg_closeness_centrality</th>\n",
       "      <th>average_shortest_path_length</th>\n",
       "    </tr>\n",
       "  </thead>\n",
       "  <tbody>\n",
       "    <tr>\n",
       "      <th>Means</th>\n",
       "      <td>1.0</td>\n",
       "      <td>2.000000</td>\n",
       "      <td>0.278242</td>\n",
       "      <td>287.980000</td>\n",
       "      <td>0.507773</td>\n",
       "      <td>0.278242</td>\n",
       "      <td>0.016404</td>\n",
       "      <td>0.590482</td>\n",
       "      <td>1.721758</td>\n",
       "    </tr>\n",
       "    <tr>\n",
       "      <th>STDs</th>\n",
       "      <td>0.0</td>\n",
       "      <td>0.000000</td>\n",
       "      <td>0.019343</td>\n",
       "      <td>20.019878</td>\n",
       "      <td>0.024659</td>\n",
       "      <td>0.019343</td>\n",
       "      <td>0.000440</td>\n",
       "      <td>0.006832</td>\n",
       "      <td>0.019343</td>\n",
       "    </tr>\n",
       "    <tr>\n",
       "      <th>Means</th>\n",
       "      <td>2.0</td>\n",
       "      <td>2.160000</td>\n",
       "      <td>0.406454</td>\n",
       "      <td>420.680000</td>\n",
       "      <td>0.456469</td>\n",
       "      <td>0.406454</td>\n",
       "      <td>0.013494</td>\n",
       "      <td>0.632764</td>\n",
       "      <td>1.593739</td>\n",
       "    </tr>\n",
       "    <tr>\n",
       "      <th>STDs</th>\n",
       "      <td>0.0</td>\n",
       "      <td>0.370328</td>\n",
       "      <td>0.020972</td>\n",
       "      <td>21.706239</td>\n",
       "      <td>0.018319</td>\n",
       "      <td>0.020972</td>\n",
       "      <td>0.000481</td>\n",
       "      <td>0.008516</td>\n",
       "      <td>0.021173</td>\n",
       "    </tr>\n",
       "    <tr>\n",
       "      <th>Means</th>\n",
       "      <td>1.0</td>\n",
       "      <td>2.000000</td>\n",
       "      <td>0.373314</td>\n",
       "      <td>386.380000</td>\n",
       "      <td>0.508217</td>\n",
       "      <td>0.373314</td>\n",
       "      <td>0.014243</td>\n",
       "      <td>0.624543</td>\n",
       "      <td>1.626686</td>\n",
       "    </tr>\n",
       "    <tr>\n",
       "      <th>STDs</th>\n",
       "      <td>0.0</td>\n",
       "      <td>0.000000</td>\n",
       "      <td>0.010493</td>\n",
       "      <td>10.860695</td>\n",
       "      <td>0.021167</td>\n",
       "      <td>0.010493</td>\n",
       "      <td>0.000238</td>\n",
       "      <td>0.004158</td>\n",
       "      <td>0.010493</td>\n",
       "    </tr>\n",
       "  </tbody>\n",
       "</table>\n",
       "</div>"
      ],
      "text/plain": [
       "       radius  diameter  densities  number_of_edges  average_clustering  \\\n",
       "Means     1.0  2.000000   0.278242       287.980000            0.507773   \n",
       "STDs      0.0  0.000000   0.019343        20.019878            0.024659   \n",
       "Means     2.0  2.160000   0.406454       420.680000            0.456469   \n",
       "STDs      0.0  0.370328   0.020972        21.706239            0.018319   \n",
       "Means     1.0  2.000000   0.373314       386.380000            0.508217   \n",
       "STDs      0.0  0.000000   0.010493        10.860695            0.021167   \n",
       "\n",
       "       avg_degree_centrality  avg_betweenness_centrality  \\\n",
       "Means               0.278242                    0.016404   \n",
       "STDs                0.019343                    0.000440   \n",
       "Means               0.406454                    0.013494   \n",
       "STDs                0.020972                    0.000481   \n",
       "Means               0.373314                    0.014243   \n",
       "STDs                0.010493                    0.000238   \n",
       "\n",
       "       avg_closeness_centrality  average_shortest_path_length  \n",
       "Means                  0.590482                      1.721758  \n",
       "STDs                   0.006832                      0.019343  \n",
       "Means                  0.632764                      1.593739  \n",
       "STDs                   0.008516                      0.021173  \n",
       "Means                  0.624543                      1.626686  \n",
       "STDs                   0.004158                      0.010493  "
      ]
     },
     "execution_count": 69,
     "metadata": {},
     "output_type": "execute_result"
    }
   ],
   "source": [
    "crossed_network_ThreeReg_pn_1_98_averged"
   ]
  },
  {
   "cell_type": "code",
   "execution_count": 72,
   "id": "25e980af-2a87-4b6c-86ec-a60096dcb1a4",
   "metadata": {},
   "outputs": [],
   "source": [
    "crossed_network_ThreeReg_pn_1_98_averged.to_csv('Excels/48.csv')"
   ]
  },
  {
   "cell_type": "markdown",
   "id": "544ab50a-9275-40d5-b448-40efa049401a",
   "metadata": {},
   "source": [
    "# 49) Tehran 3 pn Regime Crossed (Based on Median Threshold) Period of 90 Far - 00 Far/ 50 windows of 100 Records"
   ]
  },
  {
   "cell_type": "code",
   "execution_count": 70,
   "id": "c0111664-3bd6-4527-9401-4cf32eb80440",
   "metadata": {
    "tags": []
   },
   "outputs": [
    {
     "name": "stdout",
     "output_type": "stream",
     "text": [
      "Number of columns data in our DataFrame is = 46\n",
      "fixed_thr= 0.52\n"
     ]
    }
   ],
   "source": [
    "nm = Net_moduls()\n",
    "crossed_network_ThreeReg_pn_90_00_averged = nm.get_network_features_averaged_median(tehran_df_completeDates, regimes_column= tehran_df_reg['3_PN'],method='crossed_100',edges_threshold=200, target_window=100, target_length=50)"
   ]
  },
  {
   "cell_type": "code",
   "execution_count": 71,
   "id": "a5d17c74-4f6e-4274-abd7-9d663bdbe1d6",
   "metadata": {},
   "outputs": [
    {
     "data": {
      "text/html": [
       "<div>\n",
       "<style scoped>\n",
       "    .dataframe tbody tr th:only-of-type {\n",
       "        vertical-align: middle;\n",
       "    }\n",
       "\n",
       "    .dataframe tbody tr th {\n",
       "        vertical-align: top;\n",
       "    }\n",
       "\n",
       "    .dataframe thead th {\n",
       "        text-align: right;\n",
       "    }\n",
       "</style>\n",
       "<table border=\"1\" class=\"dataframe\">\n",
       "  <thead>\n",
       "    <tr style=\"text-align: right;\">\n",
       "      <th></th>\n",
       "      <th>radius</th>\n",
       "      <th>diameter</th>\n",
       "      <th>densities</th>\n",
       "      <th>number_of_edges</th>\n",
       "      <th>average_clustering</th>\n",
       "      <th>avg_degree_centrality</th>\n",
       "      <th>avg_betweenness_centrality</th>\n",
       "      <th>avg_closeness_centrality</th>\n",
       "      <th>average_shortest_path_length</th>\n",
       "    </tr>\n",
       "  </thead>\n",
       "  <tbody>\n",
       "    <tr>\n",
       "      <th>Means</th>\n",
       "      <td>1.980000</td>\n",
       "      <td>2.040000</td>\n",
       "      <td>0.344754</td>\n",
       "      <td>356.820000</td>\n",
       "      <td>0.546106</td>\n",
       "      <td>0.344754</td>\n",
       "      <td>0.014893</td>\n",
       "      <td>0.615168</td>\n",
       "      <td>1.655304</td>\n",
       "    </tr>\n",
       "    <tr>\n",
       "      <th>STDs</th>\n",
       "      <td>0.141421</td>\n",
       "      <td>0.197949</td>\n",
       "      <td>0.025272</td>\n",
       "      <td>26.156273</td>\n",
       "      <td>0.024382</td>\n",
       "      <td>0.025272</td>\n",
       "      <td>0.000575</td>\n",
       "      <td>0.010074</td>\n",
       "      <td>0.025303</td>\n",
       "    </tr>\n",
       "    <tr>\n",
       "      <th>Means</th>\n",
       "      <td>2.000000</td>\n",
       "      <td>2.140000</td>\n",
       "      <td>0.428251</td>\n",
       "      <td>443.240000</td>\n",
       "      <td>0.475164</td>\n",
       "      <td>0.428251</td>\n",
       "      <td>0.012998</td>\n",
       "      <td>0.641801</td>\n",
       "      <td>1.571923</td>\n",
       "    </tr>\n",
       "    <tr>\n",
       "      <th>STDs</th>\n",
       "      <td>0.000000</td>\n",
       "      <td>0.350510</td>\n",
       "      <td>0.020612</td>\n",
       "      <td>21.333656</td>\n",
       "      <td>0.020866</td>\n",
       "      <td>0.020612</td>\n",
       "      <td>0.000473</td>\n",
       "      <td>0.008674</td>\n",
       "      <td>0.020802</td>\n",
       "    </tr>\n",
       "    <tr>\n",
       "      <th>Means</th>\n",
       "      <td>1.000000</td>\n",
       "      <td>2.000000</td>\n",
       "      <td>0.393275</td>\n",
       "      <td>407.040000</td>\n",
       "      <td>0.541707</td>\n",
       "      <td>0.393275</td>\n",
       "      <td>0.013789</td>\n",
       "      <td>0.633969</td>\n",
       "      <td>1.606725</td>\n",
       "    </tr>\n",
       "    <tr>\n",
       "      <th>STDs</th>\n",
       "      <td>0.000000</td>\n",
       "      <td>0.000000</td>\n",
       "      <td>0.011301</td>\n",
       "      <td>11.696781</td>\n",
       "      <td>0.016979</td>\n",
       "      <td>0.011301</td>\n",
       "      <td>0.000257</td>\n",
       "      <td>0.004510</td>\n",
       "      <td>0.011301</td>\n",
       "    </tr>\n",
       "  </tbody>\n",
       "</table>\n",
       "</div>"
      ],
      "text/plain": [
       "         radius  diameter  densities  number_of_edges  average_clustering  \\\n",
       "Means  1.980000  2.040000   0.344754       356.820000            0.546106   \n",
       "STDs   0.141421  0.197949   0.025272        26.156273            0.024382   \n",
       "Means  2.000000  2.140000   0.428251       443.240000            0.475164   \n",
       "STDs   0.000000  0.350510   0.020612        21.333656            0.020866   \n",
       "Means  1.000000  2.000000   0.393275       407.040000            0.541707   \n",
       "STDs   0.000000  0.000000   0.011301        11.696781            0.016979   \n",
       "\n",
       "       avg_degree_centrality  avg_betweenness_centrality  \\\n",
       "Means               0.344754                    0.014893   \n",
       "STDs                0.025272                    0.000575   \n",
       "Means               0.428251                    0.012998   \n",
       "STDs                0.020612                    0.000473   \n",
       "Means               0.393275                    0.013789   \n",
       "STDs                0.011301                    0.000257   \n",
       "\n",
       "       avg_closeness_centrality  average_shortest_path_length  \n",
       "Means                  0.615168                      1.655304  \n",
       "STDs                   0.010074                      0.025303  \n",
       "Means                  0.641801                      1.571923  \n",
       "STDs                   0.008674                      0.020802  \n",
       "Means                  0.633969                      1.606725  \n",
       "STDs                   0.004510                      0.011301  "
      ]
     },
     "execution_count": 71,
     "metadata": {},
     "output_type": "execute_result"
    }
   ],
   "source": [
    "crossed_network_ThreeReg_pn_90_00_averged"
   ]
  },
  {
   "cell_type": "code",
   "execution_count": 73,
   "id": "bc97ff6a-f025-4949-a0ca-cb974c5dbc50",
   "metadata": {},
   "outputs": [],
   "source": [
    "crossed_network_ThreeReg_pn_90_00_averged.to_csv('Excels/49.csv')"
   ]
  },
  {
   "cell_type": "code",
   "execution_count": null,
   "id": "2aaf9c5c-117c-439c-baf5-8e1a733b6825",
   "metadata": {},
   "outputs": [],
   "source": []
  }
 ],
 "metadata": {
  "kernelspec": {
   "display_name": "Python 3 (ipykernel)",
   "language": "python",
   "name": "python3"
  },
  "language_info": {
   "codemirror_mode": {
    "name": "ipython",
    "version": 3
   },
   "file_extension": ".py",
   "mimetype": "text/x-python",
   "name": "python",
   "nbconvert_exporter": "python",
   "pygments_lexer": "ipython3",
   "version": "3.11.0"
  }
 },
 "nbformat": 4,
 "nbformat_minor": 5
}
