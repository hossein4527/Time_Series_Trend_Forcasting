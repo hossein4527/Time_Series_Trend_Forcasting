{
 "cells": [
  {
   "cell_type": "code",
   "execution_count": 1,
   "id": "9df9b137-c106-48b0-bec0-f8310cf49fe6",
   "metadata": {},
   "outputs": [],
   "source": [
    "from ned import Net_moduls\n",
    "import networkx as nx\n",
    "import numpy as np\n",
    "import pandas as pd\n",
    "import matplotlib.pyplot as plt"
   ]
  },
  {
   "cell_type": "markdown",
   "id": "c102abae-74b4-4a85-946d-b9faecf3cc47",
   "metadata": {},
   "source": [
    "# Data"
   ]
  },
  {
   "cell_type": "markdown",
   "id": "ca7ffdbb-ed51-4350-b647-1044f302e428",
   "metadata": {},
   "source": [
    "## Tehran Index DF and Tehran DF Normed Return 90 Far - 00 Far"
   ]
  },
  {
   "cell_type": "code",
   "execution_count": 2,
   "id": "41e7e57c-8e01-47e5-9ed6-fc957d7fbf46",
   "metadata": {},
   "outputs": [],
   "source": [
    "tehran_df_completeDates = pd.read_csv('../../Data/Tehran_df_shifted.csv').set_index('date')"
   ]
  },
  {
   "cell_type": "code",
   "execution_count": 3,
   "id": "16c1cef7-0a83-4ec1-a607-45ce62690590",
   "metadata": {},
   "outputs": [],
   "source": [
    "tehran_df_reg = pd.read_excel('../../Data/Tehran_Indexes_NormedReturned_Regimed.xlsx').set_index('date')"
   ]
  },
  {
   "cell_type": "code",
   "execution_count": 4,
   "id": "295454a8-2778-4d1c-86ef-5ceb7e475fd5",
   "metadata": {},
   "outputs": [],
   "source": [
    "tehran_df_reg = tehran_df_reg.loc[tehran_df_completeDates.index]"
   ]
  },
  {
   "cell_type": "code",
   "execution_count": 5,
   "id": "b63c8d57-a359-4529-8dd2-729ad347c60a",
   "metadata": {},
   "outputs": [],
   "source": [
    "tehran_df = tehran_df_completeDates.iloc[:-300]"
   ]
  },
  {
   "cell_type": "markdown",
   "id": "98e949cc-0b71-427e-9976-6708b4611365",
   "metadata": {},
   "source": [
    "## Tehran pn 3 Regimed DF Normed Return 90 Far - 98 Dey "
   ]
  },
  {
   "cell_type": "code",
   "execution_count": 6,
   "id": "61502455-13cb-41db-8adf-ce788523bb33",
   "metadata": {
    "tags": []
   },
   "outputs": [
    {
     "name": "stderr",
     "output_type": "stream",
     "text": [
      "/var/folders/mj/xw3m0dws3yq8j2md9n8j3g940000gn/T/ipykernel_1849/2437416516.py:1: UserWarning: Boolean Series key will be reindexed to match DataFrame index.\n",
      "  tehran_df_ThreeReg_pn_1_98 = tehran_df[tehran_df_reg.iloc[:-300]['3_PN']==1]\n",
      "/var/folders/mj/xw3m0dws3yq8j2md9n8j3g940000gn/T/ipykernel_1849/2437416516.py:2: UserWarning: Boolean Series key will be reindexed to match DataFrame index.\n",
      "  tehran_df_ThreeReg_pn_2_98 = tehran_df[tehran_df_reg.iloc[:-300]['3_PN']==2]\n",
      "/var/folders/mj/xw3m0dws3yq8j2md9n8j3g940000gn/T/ipykernel_1849/2437416516.py:3: UserWarning: Boolean Series key will be reindexed to match DataFrame index.\n",
      "  tehran_df_ThreeReg_pn_3_98 = tehran_df[tehran_df_reg.iloc[:-300]['3_PN']==3]\n"
     ]
    }
   ],
   "source": [
    "tehran_df_ThreeReg_pn_1_98 = tehran_df[tehran_df_reg.iloc[:-300]['3_PN']==1]\n",
    "tehran_df_ThreeReg_pn_2_98 = tehran_df[tehran_df_reg.iloc[:-300]['3_PN']==2]\n",
    "tehran_df_ThreeReg_pn_3_98 = tehran_df[tehran_df_reg.iloc[:-300]['3_PN']==3]"
   ]
  },
  {
   "cell_type": "markdown",
   "id": "2b92e63d-e8f5-4b35-a53a-297f910bd295",
   "metadata": {},
   "source": [
    "## Tehran pn 3 Regimed DF Normed Return 90 Far - 98 Dey / Same Length"
   ]
  },
  {
   "cell_type": "code",
   "execution_count": 7,
   "id": "12f13d9e-94fc-4c06-8a59-20f377b295b9",
   "metadata": {},
   "outputs": [],
   "source": [
    "max_length_ThreeReg_pn_90_98 = min(len(tehran_df_ThreeReg_pn_1_98), len(tehran_df_ThreeReg_pn_2_98),len(tehran_df_ThreeReg_pn_3_98))\n",
    "tehran_df_ThreeReg_pn_1_same_length_98 = tehran_df_ThreeReg_pn_1_98[-max_length_ThreeReg_pn_90_98:]\n",
    "tehran_df_ThreeReg_pn_2_same_length_98 = tehran_df_ThreeReg_pn_2_98[-max_length_ThreeReg_pn_90_98:]\n",
    "tehran_df_ThreeReg_pn_3_same_length_98 = tehran_df_ThreeReg_pn_3_98[-max_length_ThreeReg_pn_90_98:]"
   ]
  },
  {
   "cell_type": "markdown",
   "id": "4fc062f2-51aa-4281-a43c-6d8816dda5f4",
   "metadata": {},
   "source": [
    "## Tehran pn 3 Regimed DF Normed Return 90 Far - 1400 Dey "
   ]
  },
  {
   "cell_type": "code",
   "execution_count": 8,
   "id": "6c8a793a-0e6e-4cf3-98db-8f98542a668b",
   "metadata": {
    "tags": []
   },
   "outputs": [
    {
     "name": "stderr",
     "output_type": "stream",
     "text": [
      "/var/folders/mj/xw3m0dws3yq8j2md9n8j3g940000gn/T/ipykernel_1849/154603600.py:1: UserWarning: Boolean Series key will be reindexed to match DataFrame index.\n",
      "  tehran_df_ThreeReg_pn_1 = tehran_df_completeDates[tehran_df_reg['3_PN']==1]\n",
      "/var/folders/mj/xw3m0dws3yq8j2md9n8j3g940000gn/T/ipykernel_1849/154603600.py:2: UserWarning: Boolean Series key will be reindexed to match DataFrame index.\n",
      "  tehran_df_ThreeReg_pn_2 = tehran_df_completeDates[tehran_df_reg['3_PN']==2]\n",
      "/var/folders/mj/xw3m0dws3yq8j2md9n8j3g940000gn/T/ipykernel_1849/154603600.py:3: UserWarning: Boolean Series key will be reindexed to match DataFrame index.\n",
      "  tehran_df_ThreeReg_pn_3 = tehran_df_completeDates[tehran_df_reg['3_PN']==3]\n"
     ]
    }
   ],
   "source": [
    "tehran_df_ThreeReg_pn_1 = tehran_df_completeDates[tehran_df_reg['3_PN']==1]\n",
    "tehran_df_ThreeReg_pn_2 = tehran_df_completeDates[tehran_df_reg['3_PN']==2]\n",
    "tehran_df_ThreeReg_pn_3 = tehran_df_completeDates[tehran_df_reg['3_PN']==3]"
   ]
  },
  {
   "cell_type": "code",
   "execution_count": 9,
   "id": "5b12da39-b04d-423c-a549-3fbff21f6923",
   "metadata": {},
   "outputs": [],
   "source": [
    "max_length_ThreeReg_pn_90_00 = min(len(tehran_df_ThreeReg_pn_1), len(tehran_df_ThreeReg_pn_2),len(tehran_df_ThreeReg_pn_3))\n",
    "tehran_df_ThreeReg_pn_1_same_length = tehran_df_ThreeReg_pn_1[-max_length_ThreeReg_pn_90_00:]\n",
    "tehran_df_ThreeReg_pn_2_same_length = tehran_df_ThreeReg_pn_2[-max_length_ThreeReg_pn_90_00:]\n",
    "tehran_df_ThreeReg_pn_3_same_length = tehran_df_ThreeReg_pn_3[-max_length_ThreeReg_pn_90_00:]"
   ]
  },
  {
   "cell_type": "markdown",
   "id": "f7c51cc5-f605-4102-94ab-b6898693374e",
   "metadata": {},
   "source": [
    "# 35) Tehran 3 pn Regime Pearson (Based on Median Threshold) Period of 90 Far - 98 Dey"
   ]
  },
  {
   "cell_type": "code",
   "execution_count": 11,
   "id": "a560614e-f96e-4269-a910-d0af76efdf8c",
   "metadata": {},
   "outputs": [],
   "source": [
    "nm = Net_moduls()"
   ]
  },
  {
   "cell_type": "code",
   "execution_count": 12,
   "id": "8ebc87dc-9c3b-486d-9da3-e03c1a5cc87d",
   "metadata": {},
   "outputs": [],
   "source": [
    "thr35_1 = nm.find_median_pearson_threshold(tehran_df_ThreeReg_pn_1_same_length_98)\n",
    "thr35_2 = nm.find_median_pearson_threshold(tehran_df_ThreeReg_pn_2_same_length_98)\n",
    "thr35_3 = nm.find_median_pearson_threshold(tehran_df_ThreeReg_pn_3_same_length_98)\n",
    "\n",
    "thr35 = min(thr35_1, thr35_2, thr35_3)"
   ]
  },
  {
   "cell_type": "code",
   "execution_count": 13,
   "id": "8da96d94-6f4a-4eb3-b5e8-5f08b80b9eef",
   "metadata": {},
   "outputs": [],
   "source": [
    "nm = Net_moduls()\n",
    "pearson_network_ThreeReg_pn_1_98 = nm.construct_network(tehran_df_ThreeReg_pn_1_same_length_98, method='pearson', threshold=thr35)"
   ]
  },
  {
   "cell_type": "code",
   "execution_count": 14,
   "id": "62e2eaec-d34c-412b-8ed5-fa3fe75636a4",
   "metadata": {},
   "outputs": [
    {
     "data": {
      "text/html": [
       "<div>\n",
       "<style scoped>\n",
       "    .dataframe tbody tr th:only-of-type {\n",
       "        vertical-align: middle;\n",
       "    }\n",
       "\n",
       "    .dataframe tbody tr th {\n",
       "        vertical-align: top;\n",
       "    }\n",
       "\n",
       "    .dataframe thead th {\n",
       "        text-align: right;\n",
       "    }\n",
       "</style>\n",
       "<table border=\"1\" class=\"dataframe\">\n",
       "  <thead>\n",
       "    <tr style=\"text-align: right;\">\n",
       "      <th></th>\n",
       "      <th>radius</th>\n",
       "      <th>diameter</th>\n",
       "      <th>densities</th>\n",
       "      <th>number_of_edges</th>\n",
       "      <th>average_clustering</th>\n",
       "      <th>avg_degree_centrality</th>\n",
       "      <th>avg_betweenness_centrality</th>\n",
       "      <th>avg_closeness_centrality</th>\n",
       "      <th>average_shortest_path_length</th>\n",
       "    </tr>\n",
       "  </thead>\n",
       "  <tbody>\n",
       "    <tr>\n",
       "      <th>0</th>\n",
       "      <td>2</td>\n",
       "      <td>3</td>\n",
       "      <td>0.581395</td>\n",
       "      <td>550</td>\n",
       "      <td>0.817635</td>\n",
       "      <td>0.581395</td>\n",
       "      <td>0.01052</td>\n",
       "      <td>0.720053</td>\n",
       "      <td>1.44186</td>\n",
       "    </tr>\n",
       "  </tbody>\n",
       "</table>\n",
       "</div>"
      ],
      "text/plain": [
       "   radius  diameter  densities  number_of_edges  average_clustering  \\\n",
       "0       2         3   0.581395              550            0.817635   \n",
       "\n",
       "   avg_degree_centrality  avg_betweenness_centrality  \\\n",
       "0               0.581395                     0.01052   \n",
       "\n",
       "   avg_closeness_centrality  average_shortest_path_length  \n",
       "0                  0.720053                       1.44186  "
      ]
     },
     "execution_count": 14,
     "metadata": {},
     "output_type": "execute_result"
    }
   ],
   "source": [
    "nm.get_network_features(pearson_network_ThreeReg_pn_1_98)"
   ]
  },
  {
   "cell_type": "code",
   "execution_count": 15,
   "id": "589813c3-6d66-4953-8160-2b975c88fb7d",
   "metadata": {},
   "outputs": [
    {
     "data": {
      "text/plain": [
       "array({'HOUSE': 2, 'FaravardehayeNafti': 3, 'M2': 3, 'DastgahayeBargi': 4, 'CPI': 5, 'Gold': 5, 'Coin': 6, 'GDP': 8, 'Mansojat': 9, 'M1': 9, 'USD': 14, 'Euro': 16, 'CoalMining': 24, 'EntesharVaChap': 26, 'Wood': 28, 'paper': 30, 'Rayaneh': 30, 'EstekrajeNaft': 31, 'Lastic': 31, 'FelezateAsasi': 31, 'khodrosazi': 31, 'GhandVaShekar': 31, 'Siman': 31, 'HamlVaNaghl': 31, 'KanehayeFelezi': 31, 'Agriculture': 32, 'MashinAlat': 32, 'ChandReshteSanati': 32, 'SarmayeGozari': 32, 'Bimeh': 32, 'FaniVaMohandesi': 32, 'index': 33, 'VasayelErtebati': 33, 'GazaeeBejozGhand': 33, 'Daroee': 33, 'Bank': 33, 'SayerMali': 33, 'Mali': 33, 'MahsolateFelezi': 34, 'Shimiyaee': 34, 'KanehayeGeyreFelezi': 34, 'Amlakva': 34, 'SayerMadan': 35, 'KashiVaSeramik': 36},\n",
       "      dtype=object)"
      ]
     },
     "execution_count": 15,
     "metadata": {},
     "output_type": "execute_result"
    }
   ],
   "source": [
    "b35_1 = dict(nx.degree(pearson_network_ThreeReg_pn_1_98))\n",
    "b35_1 = np.array(dict(sorted(b35_1.items(), key=lambda item: item[1])))\n",
    "b35_1"
   ]
  },
  {
   "cell_type": "code",
   "execution_count": 16,
   "id": "7768c6cc-6238-4a32-98da-f92fe4dc4948",
   "metadata": {},
   "outputs": [],
   "source": [
    "nm.get_network_features(pearson_network_ThreeReg_pn_1_98).to_csv('Excels/35_1.csv')"
   ]
  },
  {
   "cell_type": "code",
   "execution_count": 17,
   "id": "17283fb0-c810-4497-a633-68a5507e7207",
   "metadata": {},
   "outputs": [],
   "source": [
    "pearson_network_ThreeReg_pn_2_98 = nm.construct_network(tehran_df_ThreeReg_pn_2_same_length_98, method='pearson', threshold=thr35)"
   ]
  },
  {
   "cell_type": "code",
   "execution_count": 18,
   "id": "4626a5fa-09d7-43b9-8229-35607528d4a7",
   "metadata": {},
   "outputs": [
    {
     "data": {
      "text/html": [
       "<div>\n",
       "<style scoped>\n",
       "    .dataframe tbody tr th:only-of-type {\n",
       "        vertical-align: middle;\n",
       "    }\n",
       "\n",
       "    .dataframe tbody tr th {\n",
       "        vertical-align: top;\n",
       "    }\n",
       "\n",
       "    .dataframe thead th {\n",
       "        text-align: right;\n",
       "    }\n",
       "</style>\n",
       "<table border=\"1\" class=\"dataframe\">\n",
       "  <thead>\n",
       "    <tr style=\"text-align: right;\">\n",
       "      <th></th>\n",
       "      <th>radius</th>\n",
       "      <th>diameter</th>\n",
       "      <th>densities</th>\n",
       "      <th>number_of_edges</th>\n",
       "      <th>average_clustering</th>\n",
       "      <th>avg_degree_centrality</th>\n",
       "      <th>avg_betweenness_centrality</th>\n",
       "      <th>avg_closeness_centrality</th>\n",
       "      <th>average_shortest_path_length</th>\n",
       "    </tr>\n",
       "  </thead>\n",
       "  <tbody>\n",
       "    <tr>\n",
       "      <th>0</th>\n",
       "      <td>2</td>\n",
       "      <td>3</td>\n",
       "      <td>0.508213</td>\n",
       "      <td>526</td>\n",
       "      <td>0.727267</td>\n",
       "      <td>0.508213</td>\n",
       "      <td>0.01256</td>\n",
       "      <td>0.666094</td>\n",
       "      <td>1.552657</td>\n",
       "    </tr>\n",
       "  </tbody>\n",
       "</table>\n",
       "</div>"
      ],
      "text/plain": [
       "   radius  diameter  densities  number_of_edges  average_clustering  \\\n",
       "0       2         3   0.508213              526            0.727267   \n",
       "\n",
       "   avg_degree_centrality  avg_betweenness_centrality  \\\n",
       "0               0.508213                     0.01256   \n",
       "\n",
       "   avg_closeness_centrality  average_shortest_path_length  \n",
       "0                  0.666094                      1.552657  "
      ]
     },
     "execution_count": 18,
     "metadata": {},
     "output_type": "execute_result"
    }
   ],
   "source": [
    "nm.get_network_features(pearson_network_ThreeReg_pn_2_98)"
   ]
  },
  {
   "cell_type": "code",
   "execution_count": 19,
   "id": "11475fe4-0287-4d15-9acf-3f1578381359",
   "metadata": {},
   "outputs": [
    {
     "data": {
      "text/plain": [
       "array({'Gold': 3, 'USD': 4, 'CPI': 4, 'M2': 4, 'GDP': 6, 'Euro': 8, 'Mansojat': 9, 'Brent Oil': 10, 'Coin': 10, 'HOUSE': 11, 'Agriculture': 12, 'M1': 14, 'KashiVaSeramik': 17, 'CoalMining': 19, 'Lastic': 19, 'GhandVaShekar': 19, 'AbzaralatePezeshki': 20, 'SayerMadan': 22, 'paper': 22, 'EntesharVaChap': 22, 'HamlVaNaghl': 22, 'VasayelErtebati': 24, 'Rayaneh': 25, 'KanehayeFelezi': 26, 'FelezateAsasi': 27, 'Shimiyaee': 27, 'MahsolateFelezi': 29, 'Wood': 29, 'ChandReshteSanati': 29, 'FaniVaMohandesi': 29, 'FaravardehayeNafti': 30, 'Siman': 30, 'MashinAlat': 31, 'Bank': 31, 'Daroee': 32, 'SayerMali': 32, 'Mali': 32, 'EstekrajeNaft': 34, 'DastgahayeBargi': 34, 'khodrosazi': 34, 'SarmayeGozari': 34, 'index': 35, 'GazaeeBejozGhand': 35, 'Bimeh': 35, 'Amlakva': 35, 'KanehayeGeyreFelezi': 36},\n",
       "      dtype=object)"
      ]
     },
     "execution_count": 19,
     "metadata": {},
     "output_type": "execute_result"
    }
   ],
   "source": [
    "b35_2 = dict(nx.degree(pearson_network_ThreeReg_pn_2_98))\n",
    "b35_2 = np.array(dict(sorted(b35_2.items(), key=lambda item: item[1])))\n",
    "b35_2"
   ]
  },
  {
   "cell_type": "code",
   "execution_count": 20,
   "id": "916b19fd-75a2-4534-90bd-01c6ff878c4c",
   "metadata": {},
   "outputs": [],
   "source": [
    "nm.get_network_features(pearson_network_ThreeReg_pn_2_98).to_csv('Excels/35_2.csv')"
   ]
  },
  {
   "cell_type": "code",
   "execution_count": 21,
   "id": "d0be9990-3123-4454-b6af-a2837ac25168",
   "metadata": {},
   "outputs": [],
   "source": [
    "pearson_network_ThreeReg_pn_3_98 = nm.construct_network(tehran_df_ThreeReg_pn_3_same_length_98, method='pearson', threshold=thr35)"
   ]
  },
  {
   "cell_type": "code",
   "execution_count": 22,
   "id": "4ae84df5-ada7-4faa-8bce-1cc0fa863c4e",
   "metadata": {},
   "outputs": [
    {
     "data": {
      "text/html": [
       "<div>\n",
       "<style scoped>\n",
       "    .dataframe tbody tr th:only-of-type {\n",
       "        vertical-align: middle;\n",
       "    }\n",
       "\n",
       "    .dataframe tbody tr th {\n",
       "        vertical-align: top;\n",
       "    }\n",
       "\n",
       "    .dataframe thead th {\n",
       "        text-align: right;\n",
       "    }\n",
       "</style>\n",
       "<table border=\"1\" class=\"dataframe\">\n",
       "  <thead>\n",
       "    <tr style=\"text-align: right;\">\n",
       "      <th></th>\n",
       "      <th>radius</th>\n",
       "      <th>diameter</th>\n",
       "      <th>densities</th>\n",
       "      <th>number_of_edges</th>\n",
       "      <th>average_clustering</th>\n",
       "      <th>avg_degree_centrality</th>\n",
       "      <th>avg_betweenness_centrality</th>\n",
       "      <th>avg_closeness_centrality</th>\n",
       "      <th>average_shortest_path_length</th>\n",
       "    </tr>\n",
       "  </thead>\n",
       "  <tbody>\n",
       "    <tr>\n",
       "      <th>0</th>\n",
       "      <td>2</td>\n",
       "      <td>4</td>\n",
       "      <td>0.521212</td>\n",
       "      <td>516</td>\n",
       "      <td>0.797639</td>\n",
       "      <td>0.521212</td>\n",
       "      <td>0.013695</td>\n",
       "      <td>0.660473</td>\n",
       "      <td>1.588889</td>\n",
       "    </tr>\n",
       "  </tbody>\n",
       "</table>\n",
       "</div>"
      ],
      "text/plain": [
       "   radius  diameter  densities  number_of_edges  average_clustering  \\\n",
       "0       2         4   0.521212              516            0.797639   \n",
       "\n",
       "   avg_degree_centrality  avg_betweenness_centrality  \\\n",
       "0               0.521212                    0.013695   \n",
       "\n",
       "   avg_closeness_centrality  average_shortest_path_length  \n",
       "0                  0.660473                      1.588889  "
      ]
     },
     "execution_count": 22,
     "metadata": {},
     "output_type": "execute_result"
    }
   ],
   "source": [
    "nm.get_network_features(pearson_network_ThreeReg_pn_3_98)"
   ]
  },
  {
   "cell_type": "code",
   "execution_count": 23,
   "id": "7a757d22-3d3f-47b0-b957-0c2370487438",
   "metadata": {},
   "outputs": [
    {
     "data": {
      "text/plain": [
       "array({'Brent Oil': 2, 'Coin': 2, 'USD': 3, 'M2': 3, 'M1': 4, 'DastgahayeBargi': 4, 'CoalMining': 5, 'GDP': 5, 'CPI': 6, 'Gold': 6, 'HOUSE': 10, 'Euro': 11, 'Mansojat': 17, 'FaravardehayeNafti': 22, 'SayerMadan': 25, 'EntesharVaChap': 25, 'FelezateAsasi': 25, 'Shimiyaee': 26, 'VasayelErtebati': 27, 'GhandVaShekar': 27, 'ChandReshteSanati': 28, 'KashiVaSeramik': 28, 'KanehayeFelezi': 28, 'Agriculture': 29, 'EstekrajeNaft': 29, 'Wood': 29, 'paper': 29, 'Rayaneh': 29, 'Bank': 30, 'FaniVaMohandesi': 30, 'SayerMali': 31, 'Lastic': 32, 'khodrosazi': 32, 'Daroee': 32, 'KanehayeGeyreFelezi': 32, 'HamlVaNaghl': 32, 'Amlakva': 32, 'Mali': 32, 'index': 33, 'MahsolateFelezi': 33, 'MashinAlat': 33, 'GazaeeBejozGhand': 33, 'Siman': 33, 'SarmayeGozari': 33, 'Bimeh': 35},\n",
       "      dtype=object)"
      ]
     },
     "execution_count": 23,
     "metadata": {},
     "output_type": "execute_result"
    }
   ],
   "source": [
    "b35_3 = dict(nx.degree(pearson_network_ThreeReg_pn_3_98))\n",
    "b35_3 = np.array(dict(sorted(b35_3.items(), key=lambda item: item[1])))\n",
    "b35_3"
   ]
  },
  {
   "cell_type": "code",
   "execution_count": 24,
   "id": "cb67beb3-2471-4973-acf6-7c18f2064426",
   "metadata": {},
   "outputs": [],
   "source": [
    "nm.get_network_features(pearson_network_ThreeReg_pn_3_98).to_csv('Excels/35_3.csv')"
   ]
  },
  {
   "cell_type": "markdown",
   "id": "ecdfea81-3e98-4b35-8468-ece797418b63",
   "metadata": {},
   "source": [
    "# 36) Tehran 3 pn Regime Pearson (Based on Median Threshold) Period of 90 Far - 00 Far"
   ]
  },
  {
   "cell_type": "code",
   "execution_count": 25,
   "id": "be345d68-fea5-4bd0-8d0f-fa5a0b3c2a75",
   "metadata": {},
   "outputs": [],
   "source": [
    "thr36_1 = nm.find_median_pearson_threshold(tehran_df_ThreeReg_pn_1_same_length)\n",
    "thr36_2 = nm.find_median_pearson_threshold(tehran_df_ThreeReg_pn_2_same_length)\n",
    "thr36_3 = nm.find_median_pearson_threshold(tehran_df_ThreeReg_pn_3_same_length)\n",
    "\n",
    "thr36 = min(thr36_1, thr36_2, thr36_3)"
   ]
  },
  {
   "cell_type": "code",
   "execution_count": 26,
   "id": "a4fe7d74-f005-4898-8d14-8916f00a8f7c",
   "metadata": {},
   "outputs": [],
   "source": [
    "nm = Net_moduls()\n",
    "pearson_network_ThreeReg_pn_1 = nm.construct_network(tehran_df_ThreeReg_pn_1_same_length, method='pearson', threshold=thr36)"
   ]
  },
  {
   "cell_type": "code",
   "execution_count": 27,
   "id": "93c2a244-b7af-4bb6-9702-e28148ded281",
   "metadata": {},
   "outputs": [
    {
     "data": {
      "text/html": [
       "<div>\n",
       "<style scoped>\n",
       "    .dataframe tbody tr th:only-of-type {\n",
       "        vertical-align: middle;\n",
       "    }\n",
       "\n",
       "    .dataframe tbody tr th {\n",
       "        vertical-align: top;\n",
       "    }\n",
       "\n",
       "    .dataframe thead th {\n",
       "        text-align: right;\n",
       "    }\n",
       "</style>\n",
       "<table border=\"1\" class=\"dataframe\">\n",
       "  <thead>\n",
       "    <tr style=\"text-align: right;\">\n",
       "      <th></th>\n",
       "      <th>radius</th>\n",
       "      <th>diameter</th>\n",
       "      <th>densities</th>\n",
       "      <th>number_of_edges</th>\n",
       "      <th>average_clustering</th>\n",
       "      <th>avg_degree_centrality</th>\n",
       "      <th>avg_betweenness_centrality</th>\n",
       "      <th>avg_closeness_centrality</th>\n",
       "      <th>average_shortest_path_length</th>\n",
       "    </tr>\n",
       "  </thead>\n",
       "  <tbody>\n",
       "    <tr>\n",
       "      <th>0</th>\n",
       "      <td>2</td>\n",
       "      <td>3</td>\n",
       "      <td>0.568116</td>\n",
       "      <td>588</td>\n",
       "      <td>0.768334</td>\n",
       "      <td>0.568116</td>\n",
       "      <td>0.010123</td>\n",
       "      <td>0.712608</td>\n",
       "      <td>1.445411</td>\n",
       "    </tr>\n",
       "  </tbody>\n",
       "</table>\n",
       "</div>"
      ],
      "text/plain": [
       "   radius  diameter  densities  number_of_edges  average_clustering  \\\n",
       "0       2         3   0.568116              588            0.768334   \n",
       "\n",
       "   avg_degree_centrality  avg_betweenness_centrality  \\\n",
       "0               0.568116                    0.010123   \n",
       "\n",
       "   avg_closeness_centrality  average_shortest_path_length  \n",
       "0                  0.712608                      1.445411  "
      ]
     },
     "execution_count": 27,
     "metadata": {},
     "output_type": "execute_result"
    }
   ],
   "source": [
    "nm.get_network_features(pearson_network_ThreeReg_pn_1)"
   ]
  },
  {
   "cell_type": "code",
   "execution_count": 28,
   "id": "f7b9c93a-6ad4-46ef-9ff3-874848e5bb2b",
   "metadata": {},
   "outputs": [
    {
     "data": {
      "text/plain": [
       "array({'Gold': 3, 'AbzaralatePezeshki': 4, 'Brent Oil': 5, 'GDP': 6, 'M1': 9, 'Mansojat': 9, 'VasayelErtebati': 10, 'Euro': 11, 'Coin': 13, 'CPI': 14, 'M2': 14, 'Wood': 15, 'USD': 16, 'EntesharVaChap': 18, 'CoalMining': 22, 'SayerMadan': 22, 'HOUSE': 23, 'EstekrajeNaft': 29, 'paper': 30, 'khodrosazi': 30, 'KashiVaSeramik': 30, 'Bank': 30, 'Rayaneh': 30, 'SarmayeGozari': 31, 'Mali': 31, 'FaravardehayeNafti': 32, 'Daroee': 32, 'SayerMali': 32, 'Bimeh': 32, 'FaniVaMohandesi': 32, 'MahsolateFelezi': 33, 'FelezateAsasi': 33, 'Siman': 33, 'Amlakva': 33, 'ChandReshteSanati': 34, 'Shimiyaee': 34, 'KanehayeFelezi': 34, 'index': 35, 'Agriculture': 35, 'Lastic': 35, 'GazaeeBejozGhand': 36, 'KanehayeGeyreFelezi': 36, 'MashinAlat': 37, 'DastgahayeBargi': 37, 'HamlVaNaghl': 37, 'GhandVaShekar': 39},\n",
       "      dtype=object)"
      ]
     },
     "execution_count": 28,
     "metadata": {},
     "output_type": "execute_result"
    }
   ],
   "source": [
    "b36_1 = dict(nx.degree(pearson_network_ThreeReg_pn_1))\n",
    "b36_1 = np.array(dict(sorted(b36_1.items(), key=lambda item: item[1])))\n",
    "b36_1"
   ]
  },
  {
   "cell_type": "code",
   "execution_count": 29,
   "id": "46895847-59ea-4556-9d06-04a97d3a4120",
   "metadata": {},
   "outputs": [],
   "source": [
    "nm.get_network_features(pearson_network_ThreeReg_pn_1).to_csv('Excels/36_1.csv')"
   ]
  },
  {
   "cell_type": "code",
   "execution_count": 30,
   "id": "f661abb6-6e7a-466d-b1a9-fa28eae00c58",
   "metadata": {},
   "outputs": [],
   "source": [
    "pearson_network_ThreeReg_pn_2 = nm.construct_network(tehran_df_ThreeReg_pn_2_same_length, method='pearson', threshold=thr36)"
   ]
  },
  {
   "cell_type": "code",
   "execution_count": 31,
   "id": "686e0f1a-1eb1-44a6-a625-08f22c02869d",
   "metadata": {},
   "outputs": [
    {
     "data": {
      "text/html": [
       "<div>\n",
       "<style scoped>\n",
       "    .dataframe tbody tr th:only-of-type {\n",
       "        vertical-align: middle;\n",
       "    }\n",
       "\n",
       "    .dataframe tbody tr th {\n",
       "        vertical-align: top;\n",
       "    }\n",
       "\n",
       "    .dataframe thead th {\n",
       "        text-align: right;\n",
       "    }\n",
       "</style>\n",
       "<table border=\"1\" class=\"dataframe\">\n",
       "  <thead>\n",
       "    <tr style=\"text-align: right;\">\n",
       "      <th></th>\n",
       "      <th>radius</th>\n",
       "      <th>diameter</th>\n",
       "      <th>densities</th>\n",
       "      <th>number_of_edges</th>\n",
       "      <th>average_clustering</th>\n",
       "      <th>avg_degree_centrality</th>\n",
       "      <th>avg_betweenness_centrality</th>\n",
       "      <th>avg_closeness_centrality</th>\n",
       "      <th>average_shortest_path_length</th>\n",
       "    </tr>\n",
       "  </thead>\n",
       "  <tbody>\n",
       "    <tr>\n",
       "      <th>0</th>\n",
       "      <td>2</td>\n",
       "      <td>3</td>\n",
       "      <td>0.551691</td>\n",
       "      <td>571</td>\n",
       "      <td>0.72689</td>\n",
       "      <td>0.551691</td>\n",
       "      <td>0.010738</td>\n",
       "      <td>0.697516</td>\n",
       "      <td>1.472464</td>\n",
       "    </tr>\n",
       "  </tbody>\n",
       "</table>\n",
       "</div>"
      ],
      "text/plain": [
       "   radius  diameter  densities  number_of_edges  average_clustering  \\\n",
       "0       2         3   0.551691              571             0.72689   \n",
       "\n",
       "   avg_degree_centrality  avg_betweenness_centrality  \\\n",
       "0               0.551691                    0.010738   \n",
       "\n",
       "   avg_closeness_centrality  average_shortest_path_length  \n",
       "0                  0.697516                      1.472464  "
      ]
     },
     "execution_count": 31,
     "metadata": {},
     "output_type": "execute_result"
    }
   ],
   "source": [
    "nm.get_network_features(pearson_network_ThreeReg_pn_2)"
   ]
  },
  {
   "cell_type": "code",
   "execution_count": 32,
   "id": "d1bf67e6-c15b-44a2-a981-46c317d82b5f",
   "metadata": {},
   "outputs": [
    {
     "data": {
      "text/plain": [
       "array({'Gold': 4, 'USD': 6, 'GDP': 6, 'CPI': 7, 'M2': 7, 'Brent Oil': 11, 'Coin': 11, 'Euro': 12, 'Agriculture': 13, 'HOUSE': 13, 'Mansojat': 15, 'M1': 16, 'KashiVaSeramik': 20, 'GhandVaShekar': 21, 'EntesharVaChap': 22, 'AbzaralatePezeshki': 22, 'Lastic': 23, 'CoalMining': 24, 'SayerMadan': 24, 'Rayaneh': 25, 'paper': 26, 'KanehayeFelezi': 26, 'FelezateAsasi': 28, 'VasayelErtebati': 28, 'Shimiyaee': 28, 'HamlVaNaghl': 29, 'MahsolateFelezi': 31, 'ChandReshteSanati': 31, 'Wood': 32, 'FaravardehayeNafti': 32, 'Bank': 32, 'FaniVaMohandesi': 32, 'Mali': 32, 'EstekrajeNaft': 33, 'MashinAlat': 33, 'Siman': 33, 'SayerMali': 33, 'DastgahayeBargi': 35, 'khodrosazi': 35, 'GazaeeBejozGhand': 35, 'SarmayeGozari': 35, 'index': 36, 'Daroee': 36, 'Bimeh': 36, 'Amlakva': 36, 'KanehayeGeyreFelezi': 37},\n",
       "      dtype=object)"
      ]
     },
     "execution_count": 32,
     "metadata": {},
     "output_type": "execute_result"
    }
   ],
   "source": [
    "b36_2 = dict(nx.degree(pearson_network_ThreeReg_pn_2))\n",
    "b36_2 = np.array(dict(sorted(b36_2.items(), key=lambda item: item[1])))\n",
    "b36_2"
   ]
  },
  {
   "cell_type": "code",
   "execution_count": 33,
   "id": "704f8f35-9835-4d5e-b7d0-4320787ae620",
   "metadata": {},
   "outputs": [],
   "source": [
    "nm.get_network_features(pearson_network_ThreeReg_pn_2).to_csv('Excels/36_2.csv')"
   ]
  },
  {
   "cell_type": "code",
   "execution_count": 34,
   "id": "e2365d69-59b6-46c1-8ed9-d3da1b6f0272",
   "metadata": {},
   "outputs": [],
   "source": [
    "pearson_network_ThreeReg_pn_3 = nm.construct_network(tehran_df_ThreeReg_pn_3_same_length, method='pearson', threshold=thr36)"
   ]
  },
  {
   "cell_type": "code",
   "execution_count": 35,
   "id": "e554e2af-74c4-4a3c-a12f-45743eba2660",
   "metadata": {},
   "outputs": [
    {
     "data": {
      "text/html": [
       "<div>\n",
       "<style scoped>\n",
       "    .dataframe tbody tr th:only-of-type {\n",
       "        vertical-align: middle;\n",
       "    }\n",
       "\n",
       "    .dataframe tbody tr th {\n",
       "        vertical-align: top;\n",
       "    }\n",
       "\n",
       "    .dataframe thead th {\n",
       "        text-align: right;\n",
       "    }\n",
       "</style>\n",
       "<table border=\"1\" class=\"dataframe\">\n",
       "  <thead>\n",
       "    <tr style=\"text-align: right;\">\n",
       "      <th></th>\n",
       "      <th>radius</th>\n",
       "      <th>diameter</th>\n",
       "      <th>densities</th>\n",
       "      <th>number_of_edges</th>\n",
       "      <th>average_clustering</th>\n",
       "      <th>avg_degree_centrality</th>\n",
       "      <th>avg_betweenness_centrality</th>\n",
       "      <th>avg_closeness_centrality</th>\n",
       "      <th>average_shortest_path_length</th>\n",
       "    </tr>\n",
       "  </thead>\n",
       "  <tbody>\n",
       "    <tr>\n",
       "      <th>0</th>\n",
       "      <td>2</td>\n",
       "      <td>3</td>\n",
       "      <td>0.545455</td>\n",
       "      <td>540</td>\n",
       "      <td>0.770398</td>\n",
       "      <td>0.545455</td>\n",
       "      <td>0.011299</td>\n",
       "      <td>0.69715</td>\n",
       "      <td>1.485859</td>\n",
       "    </tr>\n",
       "  </tbody>\n",
       "</table>\n",
       "</div>"
      ],
      "text/plain": [
       "   radius  diameter  densities  number_of_edges  average_clustering  \\\n",
       "0       2         3   0.545455              540            0.770398   \n",
       "\n",
       "   avg_degree_centrality  avg_betweenness_centrality  \\\n",
       "0               0.545455                    0.011299   \n",
       "\n",
       "   avg_closeness_centrality  average_shortest_path_length  \n",
       "0                   0.69715                      1.485859  "
      ]
     },
     "execution_count": 35,
     "metadata": {},
     "output_type": "execute_result"
    }
   ],
   "source": [
    "nm.get_network_features(pearson_network_ThreeReg_pn_3)"
   ]
  },
  {
   "cell_type": "code",
   "execution_count": 36,
   "id": "fcc8dc76-7fde-4776-a5ec-844e1be29c2f",
   "metadata": {},
   "outputs": [
    {
     "data": {
      "text/plain": [
       "array({'Brent Oil': 2, 'Coin': 3, 'Euro': 4, 'USD': 4, 'CoalMining': 5, 'DastgahayeBargi': 6, 'M2': 9, 'HOUSE': 9, 'GDP': 9, 'CPI': 10, 'Gold': 10, 'M1': 15, 'Mansojat': 17, 'FaravardehayeNafti': 21, 'FelezateAsasi': 23, 'KanehayeFelezi': 26, 'GhandVaShekar': 27, 'Agriculture': 28, 'EstekrajeNaft': 28, 'SayerMadan': 28, 'VasayelErtebati': 28, 'Wood': 29, 'paper': 29, 'EntesharVaChap': 29, 'KashiVaSeramik': 29, 'Rayaneh': 29, 'FaniVaMohandesi': 29, 'Daroee': 30, 'Shimiyaee': 30, 'SayerMali': 30, 'Lastic': 31, 'Amlakva': 31, 'KanehayeGeyreFelezi': 32, 'ChandReshteSanati': 33, 'HamlVaNaghl': 33, 'Bimeh': 33, 'Mali': 33, 'index': 34, 'GazaeeBejozGhand': 34, 'Siman': 34, 'MahsolateFelezi': 35, 'khodrosazi': 35, 'SarmayeGozari': 35, 'Bank': 35, 'MashinAlat': 36},\n",
       "      dtype=object)"
      ]
     },
     "execution_count": 36,
     "metadata": {},
     "output_type": "execute_result"
    }
   ],
   "source": [
    "b36_3 = dict(nx.degree(pearson_network_ThreeReg_pn_3))\n",
    "b36_3 = np.array(dict(sorted(b36_3.items(), key=lambda item: item[1])))\n",
    "b36_3"
   ]
  },
  {
   "cell_type": "code",
   "execution_count": 37,
   "id": "3cbdcf69-8bb3-41f6-8565-52e97eddf2c7",
   "metadata": {},
   "outputs": [],
   "source": [
    "nm.get_network_features(pearson_network_ThreeReg_pn_3).to_csv('Excels/36_3.csv')"
   ]
  },
  {
   "cell_type": "markdown",
   "id": "90549e4c-ce3a-45ba-bcf7-e4433265e32e",
   "metadata": {},
   "source": [
    "# 37) Tehran 3 pn Regime Pearson (Based on Median Threshold) Period of 90 Far - 00 Dey/ Last 100 Records"
   ]
  },
  {
   "cell_type": "code",
   "execution_count": 38,
   "id": "f2ad43ba-2403-4652-911c-eaac51d75239",
   "metadata": {},
   "outputs": [],
   "source": [
    "thr37_1 = nm.find_median_pearson_threshold(tehran_df_ThreeReg_pn_1_same_length[-100:])\n",
    "thr37_2 = nm.find_median_pearson_threshold(tehran_df_ThreeReg_pn_2_same_length[-100:])\n",
    "thr37_3 = nm.find_median_pearson_threshold(tehran_df_ThreeReg_pn_3_same_length[-100:])\n",
    "\n",
    "thr37 = min(thr37_1, thr37_2, thr37_3)"
   ]
  },
  {
   "cell_type": "code",
   "execution_count": 39,
   "id": "f7d6c509-8734-4ccb-9fc9-de9c87614def",
   "metadata": {},
   "outputs": [],
   "source": [
    "pearson_network_ThreeReg_pn_1_last100 = nm.construct_network(tehran_df_ThreeReg_pn_1_same_length[-100:], method='pearson', threshold=thr37)"
   ]
  },
  {
   "cell_type": "code",
   "execution_count": 40,
   "id": "bc9d91fa-9f50-4b92-a18a-b8e28194d89d",
   "metadata": {},
   "outputs": [
    {
     "data": {
      "text/html": [
       "<div>\n",
       "<style scoped>\n",
       "    .dataframe tbody tr th:only-of-type {\n",
       "        vertical-align: middle;\n",
       "    }\n",
       "\n",
       "    .dataframe tbody tr th {\n",
       "        vertical-align: top;\n",
       "    }\n",
       "\n",
       "    .dataframe thead th {\n",
       "        text-align: right;\n",
       "    }\n",
       "</style>\n",
       "<table border=\"1\" class=\"dataframe\">\n",
       "  <thead>\n",
       "    <tr style=\"text-align: right;\">\n",
       "      <th></th>\n",
       "      <th>radius</th>\n",
       "      <th>diameter</th>\n",
       "      <th>densities</th>\n",
       "      <th>number_of_edges</th>\n",
       "      <th>average_clustering</th>\n",
       "      <th>avg_degree_centrality</th>\n",
       "      <th>avg_betweenness_centrality</th>\n",
       "      <th>avg_closeness_centrality</th>\n",
       "      <th>average_shortest_path_length</th>\n",
       "    </tr>\n",
       "  </thead>\n",
       "  <tbody>\n",
       "    <tr>\n",
       "      <th>0</th>\n",
       "      <td>2</td>\n",
       "      <td>3</td>\n",
       "      <td>0.56715</td>\n",
       "      <td>587</td>\n",
       "      <td>0.798987</td>\n",
       "      <td>0.56715</td>\n",
       "      <td>0.010277</td>\n",
       "      <td>0.711135</td>\n",
       "      <td>1.452174</td>\n",
       "    </tr>\n",
       "  </tbody>\n",
       "</table>\n",
       "</div>"
      ],
      "text/plain": [
       "   radius  diameter  densities  number_of_edges  average_clustering  \\\n",
       "0       2         3    0.56715              587            0.798987   \n",
       "\n",
       "   avg_degree_centrality  avg_betweenness_centrality  \\\n",
       "0                0.56715                    0.010277   \n",
       "\n",
       "   avg_closeness_centrality  average_shortest_path_length  \n",
       "0                  0.711135                      1.452174  "
      ]
     },
     "execution_count": 40,
     "metadata": {},
     "output_type": "execute_result"
    }
   ],
   "source": [
    "nm.get_network_features(pearson_network_ThreeReg_pn_1_last100)"
   ]
  },
  {
   "cell_type": "code",
   "execution_count": 41,
   "id": "76b450ad-5201-463c-8e3f-f58e51ddaf5d",
   "metadata": {},
   "outputs": [
    {
     "data": {
      "text/plain": [
       "array({'GDP': 3, 'Mansojat': 4, 'AbzaralatePezeshki': 4, 'Gold': 4, 'M2': 7, 'VasayelErtebati': 9, 'Wood': 11, 'EntesharVaChap': 12, 'SayerMadan': 12, 'M1': 14, 'Brent Oil': 15, 'HOUSE': 15, 'Euro': 16, 'CoalMining': 19, 'Coin': 19, 'CPI': 21, 'USD': 22, 'Rayaneh': 28, 'EstekrajeNaft': 29, 'paper': 30, 'khodrosazi': 30, 'KashiVaSeramik': 30, 'FelezateAsasi': 31, 'FaravardehayeNafti': 32, 'Lastic': 32, 'Daroee': 32, 'MahsolateFelezi': 33, 'Shimiyaee': 33, 'Siman': 33, 'SarmayeGozari': 33, 'SayerMali': 33, 'Amlakva': 33, 'FaniVaMohandesi': 33, 'KanehayeFelezi': 33, 'Bimeh': 34, 'index': 35, 'DastgahayeBargi': 35, 'KanehayeGeyreFelezi': 35, 'Bank': 35, 'Agriculture': 36, 'MashinAlat': 36, 'GazaeeBejozGhand': 36, 'HamlVaNaghl': 36, 'Mali': 36, 'ChandReshteSanati': 37, 'GhandVaShekar': 38},\n",
       "      dtype=object)"
      ]
     },
     "execution_count": 41,
     "metadata": {},
     "output_type": "execute_result"
    }
   ],
   "source": [
    "b37_1 = dict(nx.degree(pearson_network_ThreeReg_pn_1_last100))\n",
    "b37_1 = np.array(dict(sorted(b37_1.items(), key=lambda item: item[1])))\n",
    "b37_1"
   ]
  },
  {
   "cell_type": "code",
   "execution_count": 42,
   "id": "10c6e3fe-605d-43e4-ae22-b0add41f149e",
   "metadata": {},
   "outputs": [],
   "source": [
    "nm.get_network_features(pearson_network_ThreeReg_pn_1_last100).to_csv('Excels/37_1.csv')"
   ]
  },
  {
   "cell_type": "code",
   "execution_count": 43,
   "id": "ada00b89-dbc1-4e7b-8018-9011088070bb",
   "metadata": {},
   "outputs": [],
   "source": [
    "pearson_network_ThreeReg_pn_2_last100 = nm.construct_network(tehran_df_ThreeReg_pn_2_same_length[-100:], method='pearson', threshold=thr37)"
   ]
  },
  {
   "cell_type": "code",
   "execution_count": 44,
   "id": "0246a011-ba11-49b5-b0ff-bc8a8eda07d8",
   "metadata": {},
   "outputs": [
    {
     "data": {
      "text/html": [
       "<div>\n",
       "<style scoped>\n",
       "    .dataframe tbody tr th:only-of-type {\n",
       "        vertical-align: middle;\n",
       "    }\n",
       "\n",
       "    .dataframe tbody tr th {\n",
       "        vertical-align: top;\n",
       "    }\n",
       "\n",
       "    .dataframe thead th {\n",
       "        text-align: right;\n",
       "    }\n",
       "</style>\n",
       "<table border=\"1\" class=\"dataframe\">\n",
       "  <thead>\n",
       "    <tr style=\"text-align: right;\">\n",
       "      <th></th>\n",
       "      <th>radius</th>\n",
       "      <th>diameter</th>\n",
       "      <th>densities</th>\n",
       "      <th>number_of_edges</th>\n",
       "      <th>average_clustering</th>\n",
       "      <th>avg_degree_centrality</th>\n",
       "      <th>avg_betweenness_centrality</th>\n",
       "      <th>avg_closeness_centrality</th>\n",
       "      <th>average_shortest_path_length</th>\n",
       "    </tr>\n",
       "  </thead>\n",
       "  <tbody>\n",
       "    <tr>\n",
       "      <th>0</th>\n",
       "      <td>2</td>\n",
       "      <td>3</td>\n",
       "      <td>0.530435</td>\n",
       "      <td>549</td>\n",
       "      <td>0.70626</td>\n",
       "      <td>0.530435</td>\n",
       "      <td>0.010979</td>\n",
       "      <td>0.690245</td>\n",
       "      <td>1.483092</td>\n",
       "    </tr>\n",
       "  </tbody>\n",
       "</table>\n",
       "</div>"
      ],
      "text/plain": [
       "   radius  diameter  densities  number_of_edges  average_clustering  \\\n",
       "0       2         3   0.530435              549             0.70626   \n",
       "\n",
       "   avg_degree_centrality  avg_betweenness_centrality  \\\n",
       "0               0.530435                    0.010979   \n",
       "\n",
       "   avg_closeness_centrality  average_shortest_path_length  \n",
       "0                  0.690245                      1.483092  "
      ]
     },
     "execution_count": 44,
     "metadata": {},
     "output_type": "execute_result"
    }
   ],
   "source": [
    "nm.get_network_features(pearson_network_ThreeReg_pn_2_last100)"
   ]
  },
  {
   "cell_type": "code",
   "execution_count": 45,
   "id": "dda4d642-8bb1-4341-ae7f-66758bb87a21",
   "metadata": {},
   "outputs": [
    {
     "data": {
      "text/plain": [
       "array({'USD': 5, 'Gold': 5, 'GDP': 6, 'CPI': 7, 'M2': 7, 'Coin': 8, 'Euro': 9, 'HOUSE': 11, 'M1': 12, 'Brent Oil': 12, 'GhandVaShekar': 16, 'Mansojat': 18, 'Lastic': 18, 'CoalMining': 19, 'KashiVaSeramik': 20, 'Agriculture': 21, 'EntesharVaChap': 21, 'paper': 22, 'SayerMadan': 24, 'KanehayeFelezi': 24, 'VasayelErtebati': 25, 'FelezateAsasi': 26, 'HamlVaNaghl': 27, 'AbzaralatePezeshki': 28, 'Shimiyaee': 28, 'MahsolateFelezi': 29, 'ChandReshteSanati': 29, 'Rayaneh': 29, 'FaniVaMohandesi': 29, 'FaravardehayeNafti': 30, 'GazaeeBejozGhand': 31, 'Siman': 31, 'Bank': 31, 'Wood': 32, 'khodrosazi': 32, 'Mali': 32, 'MashinAlat': 33, 'Daroee': 33, 'SayerMali': 33, 'SarmayeGozari': 34, 'EstekrajeNaft': 35, 'DastgahayeBargi': 35, 'KanehayeGeyreFelezi': 35, 'Bimeh': 35, 'Amlakva': 35, 'index': 36},\n",
       "      dtype=object)"
      ]
     },
     "execution_count": 45,
     "metadata": {},
     "output_type": "execute_result"
    }
   ],
   "source": [
    "b37_2 = dict(nx.degree(pearson_network_ThreeReg_pn_2_last100))\n",
    "b37_2 = np.array(dict(sorted(b37_2.items(), key=lambda item: item[1])))\n",
    "b37_2"
   ]
  },
  {
   "cell_type": "code",
   "execution_count": 46,
   "id": "a3760791-b8fa-4530-b203-35513e859f99",
   "metadata": {},
   "outputs": [],
   "source": [
    "nm.get_network_features(pearson_network_ThreeReg_pn_2_last100).to_csv('Excels/37_2.csv')"
   ]
  },
  {
   "cell_type": "code",
   "execution_count": 47,
   "id": "26ffa1f9-982e-4983-8667-4e8e300b4809",
   "metadata": {},
   "outputs": [],
   "source": [
    "pearson_network_ThreeReg_pn_3_last100 = nm.construct_network(tehran_df_ThreeReg_pn_3_same_length[-100:], method='pearson', threshold=thr37)"
   ]
  },
  {
   "cell_type": "code",
   "execution_count": 48,
   "id": "2e5f6a0c-3226-42a4-8547-f2313a9e499c",
   "metadata": {},
   "outputs": [
    {
     "data": {
      "text/html": [
       "<div>\n",
       "<style scoped>\n",
       "    .dataframe tbody tr th:only-of-type {\n",
       "        vertical-align: middle;\n",
       "    }\n",
       "\n",
       "    .dataframe tbody tr th {\n",
       "        vertical-align: top;\n",
       "    }\n",
       "\n",
       "    .dataframe thead th {\n",
       "        text-align: right;\n",
       "    }\n",
       "</style>\n",
       "<table border=\"1\" class=\"dataframe\">\n",
       "  <thead>\n",
       "    <tr style=\"text-align: right;\">\n",
       "      <th></th>\n",
       "      <th>radius</th>\n",
       "      <th>diameter</th>\n",
       "      <th>densities</th>\n",
       "      <th>number_of_edges</th>\n",
       "      <th>average_clustering</th>\n",
       "      <th>avg_degree_centrality</th>\n",
       "      <th>avg_betweenness_centrality</th>\n",
       "      <th>avg_closeness_centrality</th>\n",
       "      <th>average_shortest_path_length</th>\n",
       "    </tr>\n",
       "  </thead>\n",
       "  <tbody>\n",
       "    <tr>\n",
       "      <th>0</th>\n",
       "      <td>2</td>\n",
       "      <td>3</td>\n",
       "      <td>0.543434</td>\n",
       "      <td>538</td>\n",
       "      <td>0.762569</td>\n",
       "      <td>0.543434</td>\n",
       "      <td>0.011182</td>\n",
       "      <td>0.696632</td>\n",
       "      <td>1.480808</td>\n",
       "    </tr>\n",
       "  </tbody>\n",
       "</table>\n",
       "</div>"
      ],
      "text/plain": [
       "   radius  diameter  densities  number_of_edges  average_clustering  \\\n",
       "0       2         3   0.543434              538            0.762569   \n",
       "\n",
       "   avg_degree_centrality  avg_betweenness_centrality  \\\n",
       "0               0.543434                    0.011182   \n",
       "\n",
       "   avg_closeness_centrality  average_shortest_path_length  \n",
       "0                  0.696632                      1.480808  "
      ]
     },
     "execution_count": 48,
     "metadata": {},
     "output_type": "execute_result"
    }
   ],
   "source": [
    "nm.get_network_features(pearson_network_ThreeReg_pn_3_last100)"
   ]
  },
  {
   "cell_type": "code",
   "execution_count": 49,
   "id": "2958c5af-48ce-4453-a789-ae1da014c4be",
   "metadata": {},
   "outputs": [
    {
     "data": {
      "text/plain": [
       "array({'Brent Oil': 2, 'Coin': 4, 'CoalMining': 6, 'HOUSE': 7, 'Euro': 8, 'GDP': 8, 'Gold': 8, 'DastgahayeBargi': 8, 'USD': 9, 'M2': 10, 'CPI': 11, 'Mansojat': 12, 'M1': 14, 'FaravardehayeNafti': 19, 'KanehayeFelezi': 25, 'EstekrajeNaft': 27, 'SayerMadan': 27, 'FelezateAsasi': 27, 'VasayelErtebati': 27, 'Agriculture': 28, 'Wood': 28, 'GhandVaShekar': 28, 'Daroee': 28, 'Shimiyaee': 28, 'EntesharVaChap': 29, 'SayerMali': 29, 'Rayaneh': 29, 'FaniVaMohandesi': 29, 'paper': 30, 'KashiVaSeramik': 30, 'Amlakva': 30, 'KanehayeGeyreFelezi': 31, 'Bimeh': 32, 'Lastic': 33, 'MashinAlat': 33, 'khodrosazi': 33, 'index': 34, 'ChandReshteSanati': 34, 'GazaeeBejozGhand': 34, 'Bank': 34, 'HamlVaNaghl': 34, 'Mali': 34, 'MahsolateFelezi': 35, 'Siman': 35, 'SarmayeGozari': 35},\n",
       "      dtype=object)"
      ]
     },
     "execution_count": 49,
     "metadata": {},
     "output_type": "execute_result"
    }
   ],
   "source": [
    "b37_3 = dict(nx.degree(pearson_network_ThreeReg_pn_3_last100))\n",
    "b37_3 = np.array(dict(sorted(b37_3.items(), key=lambda item: item[1])))\n",
    "b37_3"
   ]
  },
  {
   "cell_type": "code",
   "execution_count": 50,
   "id": "1c94d6cf-6849-4f3f-b36d-6db357bd73e5",
   "metadata": {},
   "outputs": [],
   "source": [
    "nm.get_network_features(pearson_network_ThreeReg_pn_3_last100).to_csv('Excels/37_3.csv')"
   ]
  },
  {
   "cell_type": "markdown",
   "id": "7c0f101d-1921-4801-9488-c7a8928c2782",
   "metadata": {},
   "source": [
    "# 38) Tehran 3 pn Regime Pearson (Based on Median Threshold) Period of 90 Far - 98 Dey/ 50 windows of 100 Records"
   ]
  },
  {
   "cell_type": "code",
   "execution_count": 51,
   "id": "4cbe01d1-34a8-4738-a5bc-7b6c26b9eb35",
   "metadata": {
    "collapsed": true,
    "jupyter": {
     "outputs_hidden": true
    },
    "tags": []
   },
   "outputs": [
    {
     "name": "stderr",
     "output_type": "stream",
     "text": [
      "/Users/hossein4527/MEGA/MEGAsync/Commit/Neda_PhD/neda_sep2023/Time_Series_Trend_Forcasting/Codes/Shifted DF by Lags/ned.py:1106: SettingWithCopyWarning: \n",
      "A value is trying to be set on a copy of a slice from a DataFrame.\n",
      "Try using .loc[row_indexer,col_indexer] = value instead\n",
      "\n",
      "See the caveats in the documentation: https://pandas.pydata.org/pandas-docs/stable/user_guide/indexing.html#returning-a-view-versus-a-copy\n",
      "  df['selected_regimes'] = regimes_column\n"
     ]
    },
    {
     "name": "stdout",
     "output_type": "stream",
     "text": [
      "Number of columns data in our DataFrame is = 46\n",
      "fixed_thr= 0.18653449940696296\n"
     ]
    },
    {
     "name": "stderr",
     "output_type": "stream",
     "text": [
      "/Library/Frameworks/Python.framework/Versions/3.11/lib/python3.11/site-packages/numpy/core/fromnumeric.py:3432: RuntimeWarning: Mean of empty slice.\n",
      "  return _methods._mean(a, axis=axis, dtype=dtype,\n",
      "/Library/Frameworks/Python.framework/Versions/3.11/lib/python3.11/site-packages/numpy/core/_methods.py:190: RuntimeWarning: invalid value encountered in double_scalars\n",
      "  ret = ret.dtype.type(ret / rcount)\n",
      "/Library/Frameworks/Python.framework/Versions/3.11/lib/python3.11/site-packages/numpy/core/fromnumeric.py:3432: RuntimeWarning: Mean of empty slice.\n",
      "  return _methods._mean(a, axis=axis, dtype=dtype,\n",
      "/Library/Frameworks/Python.framework/Versions/3.11/lib/python3.11/site-packages/numpy/core/_methods.py:190: RuntimeWarning: invalid value encountered in double_scalars\n",
      "  ret = ret.dtype.type(ret / rcount)\n",
      "/Library/Frameworks/Python.framework/Versions/3.11/lib/python3.11/site-packages/numpy/core/fromnumeric.py:3432: RuntimeWarning: Mean of empty slice.\n",
      "  return _methods._mean(a, axis=axis, dtype=dtype,\n",
      "/Library/Frameworks/Python.framework/Versions/3.11/lib/python3.11/site-packages/numpy/core/_methods.py:190: RuntimeWarning: invalid value encountered in double_scalars\n",
      "  ret = ret.dtype.type(ret / rcount)\n",
      "/Library/Frameworks/Python.framework/Versions/3.11/lib/python3.11/site-packages/numpy/core/fromnumeric.py:3432: RuntimeWarning: Mean of empty slice.\n",
      "  return _methods._mean(a, axis=axis, dtype=dtype,\n",
      "/Library/Frameworks/Python.framework/Versions/3.11/lib/python3.11/site-packages/numpy/core/_methods.py:190: RuntimeWarning: invalid value encountered in double_scalars\n",
      "  ret = ret.dtype.type(ret / rcount)\n",
      "/Library/Frameworks/Python.framework/Versions/3.11/lib/python3.11/site-packages/numpy/core/fromnumeric.py:3432: RuntimeWarning: Mean of empty slice.\n",
      "  return _methods._mean(a, axis=axis, dtype=dtype,\n",
      "/Library/Frameworks/Python.framework/Versions/3.11/lib/python3.11/site-packages/numpy/core/_methods.py:190: RuntimeWarning: invalid value encountered in double_scalars\n",
      "  ret = ret.dtype.type(ret / rcount)\n",
      "/Library/Frameworks/Python.framework/Versions/3.11/lib/python3.11/site-packages/numpy/core/fromnumeric.py:3432: RuntimeWarning: Mean of empty slice.\n",
      "  return _methods._mean(a, axis=axis, dtype=dtype,\n",
      "/Library/Frameworks/Python.framework/Versions/3.11/lib/python3.11/site-packages/numpy/core/_methods.py:190: RuntimeWarning: invalid value encountered in double_scalars\n",
      "  ret = ret.dtype.type(ret / rcount)\n",
      "/Library/Frameworks/Python.framework/Versions/3.11/lib/python3.11/site-packages/numpy/core/fromnumeric.py:3432: RuntimeWarning: Mean of empty slice.\n",
      "  return _methods._mean(a, axis=axis, dtype=dtype,\n",
      "/Library/Frameworks/Python.framework/Versions/3.11/lib/python3.11/site-packages/numpy/core/_methods.py:190: RuntimeWarning: invalid value encountered in double_scalars\n",
      "  ret = ret.dtype.type(ret / rcount)\n",
      "/Library/Frameworks/Python.framework/Versions/3.11/lib/python3.11/site-packages/numpy/core/fromnumeric.py:3432: RuntimeWarning: Mean of empty slice.\n",
      "  return _methods._mean(a, axis=axis, dtype=dtype,\n",
      "/Library/Frameworks/Python.framework/Versions/3.11/lib/python3.11/site-packages/numpy/core/_methods.py:190: RuntimeWarning: invalid value encountered in double_scalars\n",
      "  ret = ret.dtype.type(ret / rcount)\n",
      "/Library/Frameworks/Python.framework/Versions/3.11/lib/python3.11/site-packages/numpy/core/fromnumeric.py:3432: RuntimeWarning: Mean of empty slice.\n",
      "  return _methods._mean(a, axis=axis, dtype=dtype,\n",
      "/Library/Frameworks/Python.framework/Versions/3.11/lib/python3.11/site-packages/numpy/core/_methods.py:190: RuntimeWarning: invalid value encountered in double_scalars\n",
      "  ret = ret.dtype.type(ret / rcount)\n",
      "/Library/Frameworks/Python.framework/Versions/3.11/lib/python3.11/site-packages/numpy/core/fromnumeric.py:3432: RuntimeWarning: Mean of empty slice.\n",
      "  return _methods._mean(a, axis=axis, dtype=dtype,\n",
      "/Library/Frameworks/Python.framework/Versions/3.11/lib/python3.11/site-packages/numpy/core/_methods.py:190: RuntimeWarning: invalid value encountered in double_scalars\n",
      "  ret = ret.dtype.type(ret / rcount)\n",
      "/Library/Frameworks/Python.framework/Versions/3.11/lib/python3.11/site-packages/numpy/core/fromnumeric.py:3432: RuntimeWarning: Mean of empty slice.\n",
      "  return _methods._mean(a, axis=axis, dtype=dtype,\n",
      "/Library/Frameworks/Python.framework/Versions/3.11/lib/python3.11/site-packages/numpy/core/_methods.py:190: RuntimeWarning: invalid value encountered in double_scalars\n",
      "  ret = ret.dtype.type(ret / rcount)\n",
      "/Library/Frameworks/Python.framework/Versions/3.11/lib/python3.11/site-packages/numpy/core/fromnumeric.py:3432: RuntimeWarning: Mean of empty slice.\n",
      "  return _methods._mean(a, axis=axis, dtype=dtype,\n",
      "/Library/Frameworks/Python.framework/Versions/3.11/lib/python3.11/site-packages/numpy/core/_methods.py:190: RuntimeWarning: invalid value encountered in double_scalars\n",
      "  ret = ret.dtype.type(ret / rcount)\n",
      "/Library/Frameworks/Python.framework/Versions/3.11/lib/python3.11/site-packages/numpy/core/fromnumeric.py:3432: RuntimeWarning: Mean of empty slice.\n",
      "  return _methods._mean(a, axis=axis, dtype=dtype,\n",
      "/Library/Frameworks/Python.framework/Versions/3.11/lib/python3.11/site-packages/numpy/core/_methods.py:190: RuntimeWarning: invalid value encountered in double_scalars\n",
      "  ret = ret.dtype.type(ret / rcount)\n",
      "/Library/Frameworks/Python.framework/Versions/3.11/lib/python3.11/site-packages/numpy/core/fromnumeric.py:3432: RuntimeWarning: Mean of empty slice.\n",
      "  return _methods._mean(a, axis=axis, dtype=dtype,\n",
      "/Library/Frameworks/Python.framework/Versions/3.11/lib/python3.11/site-packages/numpy/core/_methods.py:190: RuntimeWarning: invalid value encountered in double_scalars\n",
      "  ret = ret.dtype.type(ret / rcount)\n",
      "/Library/Frameworks/Python.framework/Versions/3.11/lib/python3.11/site-packages/numpy/core/fromnumeric.py:3432: RuntimeWarning: Mean of empty slice.\n",
      "  return _methods._mean(a, axis=axis, dtype=dtype,\n",
      "/Library/Frameworks/Python.framework/Versions/3.11/lib/python3.11/site-packages/numpy/core/_methods.py:190: RuntimeWarning: invalid value encountered in double_scalars\n",
      "  ret = ret.dtype.type(ret / rcount)\n",
      "/Library/Frameworks/Python.framework/Versions/3.11/lib/python3.11/site-packages/numpy/core/fromnumeric.py:3432: RuntimeWarning: Mean of empty slice.\n",
      "  return _methods._mean(a, axis=axis, dtype=dtype,\n",
      "/Library/Frameworks/Python.framework/Versions/3.11/lib/python3.11/site-packages/numpy/core/_methods.py:190: RuntimeWarning: invalid value encountered in double_scalars\n",
      "  ret = ret.dtype.type(ret / rcount)\n",
      "/Library/Frameworks/Python.framework/Versions/3.11/lib/python3.11/site-packages/numpy/core/fromnumeric.py:3432: RuntimeWarning: Mean of empty slice.\n",
      "  return _methods._mean(a, axis=axis, dtype=dtype,\n",
      "/Library/Frameworks/Python.framework/Versions/3.11/lib/python3.11/site-packages/numpy/core/_methods.py:190: RuntimeWarning: invalid value encountered in double_scalars\n",
      "  ret = ret.dtype.type(ret / rcount)\n",
      "/Library/Frameworks/Python.framework/Versions/3.11/lib/python3.11/site-packages/numpy/core/fromnumeric.py:3432: RuntimeWarning: Mean of empty slice.\n",
      "  return _methods._mean(a, axis=axis, dtype=dtype,\n",
      "/Library/Frameworks/Python.framework/Versions/3.11/lib/python3.11/site-packages/numpy/core/_methods.py:190: RuntimeWarning: invalid value encountered in double_scalars\n",
      "  ret = ret.dtype.type(ret / rcount)\n",
      "/Library/Frameworks/Python.framework/Versions/3.11/lib/python3.11/site-packages/numpy/core/fromnumeric.py:3432: RuntimeWarning: Mean of empty slice.\n",
      "  return _methods._mean(a, axis=axis, dtype=dtype,\n",
      "/Library/Frameworks/Python.framework/Versions/3.11/lib/python3.11/site-packages/numpy/core/_methods.py:190: RuntimeWarning: invalid value encountered in double_scalars\n",
      "  ret = ret.dtype.type(ret / rcount)\n"
     ]
    }
   ],
   "source": [
    "nm = Net_moduls()\n",
    "pearson_network_ThreeReg_pn_1_98_averged = nm.get_network_features_averaged_median(tehran_df, regimes_column = tehran_df_reg.iloc[:-300]['3_PN'],method='pearson',edges_threshold=200, target_window=100, target_length=20)"
   ]
  },
  {
   "cell_type": "code",
   "execution_count": 52,
   "id": "f9e49bd4-7ddb-4687-ad44-25d1d10a6c8f",
   "metadata": {},
   "outputs": [
    {
     "data": {
      "text/html": [
       "<div>\n",
       "<style scoped>\n",
       "    .dataframe tbody tr th:only-of-type {\n",
       "        vertical-align: middle;\n",
       "    }\n",
       "\n",
       "    .dataframe tbody tr th {\n",
       "        vertical-align: top;\n",
       "    }\n",
       "\n",
       "    .dataframe thead th {\n",
       "        text-align: right;\n",
       "    }\n",
       "</style>\n",
       "<table border=\"1\" class=\"dataframe\">\n",
       "  <thead>\n",
       "    <tr style=\"text-align: right;\">\n",
       "      <th></th>\n",
       "      <th>radius</th>\n",
       "      <th>diameter</th>\n",
       "      <th>densities</th>\n",
       "      <th>number_of_edges</th>\n",
       "      <th>average_clustering</th>\n",
       "      <th>avg_degree_centrality</th>\n",
       "      <th>avg_betweenness_centrality</th>\n",
       "      <th>avg_closeness_centrality</th>\n",
       "      <th>average_shortest_path_length</th>\n",
       "    </tr>\n",
       "  </thead>\n",
       "  <tbody>\n",
       "    <tr>\n",
       "      <th>Means</th>\n",
       "      <td>2.750000</td>\n",
       "      <td>4.850000</td>\n",
       "      <td>0.530275</td>\n",
       "      <td>493.350000</td>\n",
       "      <td>0.764702</td>\n",
       "      <td>0.530275</td>\n",
       "      <td>0.015540</td>\n",
       "      <td>0.649068</td>\n",
       "      <td>1.647954</td>\n",
       "    </tr>\n",
       "    <tr>\n",
       "      <th>STDs</th>\n",
       "      <td>0.444262</td>\n",
       "      <td>0.745160</td>\n",
       "      <td>0.019884</td>\n",
       "      <td>11.735125</td>\n",
       "      <td>0.030919</td>\n",
       "      <td>0.019884</td>\n",
       "      <td>0.002138</td>\n",
       "      <td>0.030612</td>\n",
       "      <td>0.094284</td>\n",
       "    </tr>\n",
       "    <tr>\n",
       "      <th>Means</th>\n",
       "      <td>2.150000</td>\n",
       "      <td>4.100000</td>\n",
       "      <td>0.389161</td>\n",
       "      <td>399.000000</td>\n",
       "      <td>0.662365</td>\n",
       "      <td>0.389161</td>\n",
       "      <td>0.017193</td>\n",
       "      <td>0.594210</td>\n",
       "      <td>1.753320</td>\n",
       "    </tr>\n",
       "    <tr>\n",
       "      <th>STDs</th>\n",
       "      <td>0.366348</td>\n",
       "      <td>0.307794</td>\n",
       "      <td>0.019178</td>\n",
       "      <td>13.875385</td>\n",
       "      <td>0.019646</td>\n",
       "      <td>0.019178</td>\n",
       "      <td>0.001155</td>\n",
       "      <td>0.016832</td>\n",
       "      <td>0.054750</td>\n",
       "    </tr>\n",
       "    <tr>\n",
       "      <th>Means</th>\n",
       "      <td>2.941176</td>\n",
       "      <td>4.588235</td>\n",
       "      <td>0.475287</td>\n",
       "      <td>454.350000</td>\n",
       "      <td>0.760012</td>\n",
       "      <td>0.475287</td>\n",
       "      <td>0.017302</td>\n",
       "      <td>0.599411</td>\n",
       "      <td>1.767964</td>\n",
       "    </tr>\n",
       "    <tr>\n",
       "      <th>STDs</th>\n",
       "      <td>0.242536</td>\n",
       "      <td>0.507300</td>\n",
       "      <td>0.021470</td>\n",
       "      <td>9.696852</td>\n",
       "      <td>0.020502</td>\n",
       "      <td>0.021470</td>\n",
       "      <td>0.002374</td>\n",
       "      <td>0.019856</td>\n",
       "      <td>0.057824</td>\n",
       "    </tr>\n",
       "    <tr>\n",
       "      <th>Means</th>\n",
       "      <td>NaN</td>\n",
       "      <td>NaN</td>\n",
       "      <td>0.000000</td>\n",
       "      <td>0.000000</td>\n",
       "      <td>NaN</td>\n",
       "      <td>NaN</td>\n",
       "      <td>NaN</td>\n",
       "      <td>NaN</td>\n",
       "      <td>NaN</td>\n",
       "    </tr>\n",
       "    <tr>\n",
       "      <th>STDs</th>\n",
       "      <td>NaN</td>\n",
       "      <td>NaN</td>\n",
       "      <td>0.000000</td>\n",
       "      <td>0.000000</td>\n",
       "      <td>NaN</td>\n",
       "      <td>NaN</td>\n",
       "      <td>NaN</td>\n",
       "      <td>NaN</td>\n",
       "      <td>NaN</td>\n",
       "    </tr>\n",
       "  </tbody>\n",
       "</table>\n",
       "</div>"
      ],
      "text/plain": [
       "         radius  diameter  densities  number_of_edges  average_clustering  \\\n",
       "Means  2.750000  4.850000   0.530275       493.350000            0.764702   \n",
       "STDs   0.444262  0.745160   0.019884        11.735125            0.030919   \n",
       "Means  2.150000  4.100000   0.389161       399.000000            0.662365   \n",
       "STDs   0.366348  0.307794   0.019178        13.875385            0.019646   \n",
       "Means  2.941176  4.588235   0.475287       454.350000            0.760012   \n",
       "STDs   0.242536  0.507300   0.021470         9.696852            0.020502   \n",
       "Means       NaN       NaN   0.000000         0.000000                 NaN   \n",
       "STDs        NaN       NaN   0.000000         0.000000                 NaN   \n",
       "\n",
       "       avg_degree_centrality  avg_betweenness_centrality  \\\n",
       "Means               0.530275                    0.015540   \n",
       "STDs                0.019884                    0.002138   \n",
       "Means               0.389161                    0.017193   \n",
       "STDs                0.019178                    0.001155   \n",
       "Means               0.475287                    0.017302   \n",
       "STDs                0.021470                    0.002374   \n",
       "Means                    NaN                         NaN   \n",
       "STDs                     NaN                         NaN   \n",
       "\n",
       "       avg_closeness_centrality  average_shortest_path_length  \n",
       "Means                  0.649068                      1.647954  \n",
       "STDs                   0.030612                      0.094284  \n",
       "Means                  0.594210                      1.753320  \n",
       "STDs                   0.016832                      0.054750  \n",
       "Means                  0.599411                      1.767964  \n",
       "STDs                   0.019856                      0.057824  \n",
       "Means                       NaN                           NaN  \n",
       "STDs                        NaN                           NaN  "
      ]
     },
     "execution_count": 52,
     "metadata": {},
     "output_type": "execute_result"
    }
   ],
   "source": [
    "pearson_network_ThreeReg_pn_1_98_averged"
   ]
  },
  {
   "cell_type": "code",
   "execution_count": 53,
   "id": "500d9f99-dac9-4a0b-8ca1-31b10ea46ffd",
   "metadata": {},
   "outputs": [],
   "source": [
    "pearson_network_ThreeReg_pn_1_98_averged.to_csv('Excels/38.csv')"
   ]
  },
  {
   "cell_type": "markdown",
   "id": "ae1a2070-3cb7-4a8b-967c-a31428d58c7f",
   "metadata": {},
   "source": [
    "# 39) Tehran 3 pn Regime Pearson (Based on Median Threshold) Period of 90 Far - 00 Far/ 50 windows of 100 Records"
   ]
  },
  {
   "cell_type": "code",
   "execution_count": 54,
   "id": "03e25898-3343-4e11-acb1-4cf77d97c582",
   "metadata": {
    "collapsed": true,
    "jupyter": {
     "outputs_hidden": true
    },
    "tags": []
   },
   "outputs": [
    {
     "name": "stdout",
     "output_type": "stream",
     "text": [
      "Number of columns data in our DataFrame is = 46\n"
     ]
    },
    {
     "name": "stderr",
     "output_type": "stream",
     "text": [
      "/Library/Frameworks/Python.framework/Versions/3.11/lib/python3.11/site-packages/numpy/core/fromnumeric.py:3432: RuntimeWarning: Mean of empty slice.\n",
      "  return _methods._mean(a, axis=axis, dtype=dtype,\n",
      "/Library/Frameworks/Python.framework/Versions/3.11/lib/python3.11/site-packages/numpy/core/_methods.py:190: RuntimeWarning: invalid value encountered in double_scalars\n",
      "  ret = ret.dtype.type(ret / rcount)\n",
      "/Library/Frameworks/Python.framework/Versions/3.11/lib/python3.11/site-packages/numpy/core/fromnumeric.py:3432: RuntimeWarning: Mean of empty slice.\n",
      "  return _methods._mean(a, axis=axis, dtype=dtype,\n",
      "/Library/Frameworks/Python.framework/Versions/3.11/lib/python3.11/site-packages/numpy/core/_methods.py:190: RuntimeWarning: invalid value encountered in double_scalars\n",
      "  ret = ret.dtype.type(ret / rcount)\n",
      "/Library/Frameworks/Python.framework/Versions/3.11/lib/python3.11/site-packages/numpy/core/fromnumeric.py:3432: RuntimeWarning: Mean of empty slice.\n",
      "  return _methods._mean(a, axis=axis, dtype=dtype,\n",
      "/Library/Frameworks/Python.framework/Versions/3.11/lib/python3.11/site-packages/numpy/core/_methods.py:190: RuntimeWarning: invalid value encountered in double_scalars\n",
      "  ret = ret.dtype.type(ret / rcount)\n",
      "/Library/Frameworks/Python.framework/Versions/3.11/lib/python3.11/site-packages/numpy/core/fromnumeric.py:3432: RuntimeWarning: Mean of empty slice.\n",
      "  return _methods._mean(a, axis=axis, dtype=dtype,\n",
      "/Library/Frameworks/Python.framework/Versions/3.11/lib/python3.11/site-packages/numpy/core/_methods.py:190: RuntimeWarning: invalid value encountered in double_scalars\n",
      "  ret = ret.dtype.type(ret / rcount)\n",
      "/Library/Frameworks/Python.framework/Versions/3.11/lib/python3.11/site-packages/numpy/core/fromnumeric.py:3432: RuntimeWarning: Mean of empty slice.\n",
      "  return _methods._mean(a, axis=axis, dtype=dtype,\n",
      "/Library/Frameworks/Python.framework/Versions/3.11/lib/python3.11/site-packages/numpy/core/_methods.py:190: RuntimeWarning: invalid value encountered in double_scalars\n",
      "  ret = ret.dtype.type(ret / rcount)\n",
      "/Library/Frameworks/Python.framework/Versions/3.11/lib/python3.11/site-packages/numpy/core/fromnumeric.py:3432: RuntimeWarning: Mean of empty slice.\n",
      "  return _methods._mean(a, axis=axis, dtype=dtype,\n",
      "/Library/Frameworks/Python.framework/Versions/3.11/lib/python3.11/site-packages/numpy/core/_methods.py:190: RuntimeWarning: invalid value encountered in double_scalars\n",
      "  ret = ret.dtype.type(ret / rcount)\n",
      "/Library/Frameworks/Python.framework/Versions/3.11/lib/python3.11/site-packages/numpy/core/fromnumeric.py:3432: RuntimeWarning: Mean of empty slice.\n",
      "  return _methods._mean(a, axis=axis, dtype=dtype,\n",
      "/Library/Frameworks/Python.framework/Versions/3.11/lib/python3.11/site-packages/numpy/core/_methods.py:190: RuntimeWarning: invalid value encountered in double_scalars\n",
      "  ret = ret.dtype.type(ret / rcount)\n",
      "/Library/Frameworks/Python.framework/Versions/3.11/lib/python3.11/site-packages/numpy/core/fromnumeric.py:3432: RuntimeWarning: Mean of empty slice.\n",
      "  return _methods._mean(a, axis=axis, dtype=dtype,\n",
      "/Library/Frameworks/Python.framework/Versions/3.11/lib/python3.11/site-packages/numpy/core/_methods.py:190: RuntimeWarning: invalid value encountered in double_scalars\n",
      "  ret = ret.dtype.type(ret / rcount)\n",
      "/Library/Frameworks/Python.framework/Versions/3.11/lib/python3.11/site-packages/numpy/core/fromnumeric.py:3432: RuntimeWarning: Mean of empty slice.\n",
      "  return _methods._mean(a, axis=axis, dtype=dtype,\n",
      "/Library/Frameworks/Python.framework/Versions/3.11/lib/python3.11/site-packages/numpy/core/_methods.py:190: RuntimeWarning: invalid value encountered in double_scalars\n",
      "  ret = ret.dtype.type(ret / rcount)\n",
      "/Library/Frameworks/Python.framework/Versions/3.11/lib/python3.11/site-packages/numpy/core/fromnumeric.py:3432: RuntimeWarning: Mean of empty slice.\n",
      "  return _methods._mean(a, axis=axis, dtype=dtype,\n",
      "/Library/Frameworks/Python.framework/Versions/3.11/lib/python3.11/site-packages/numpy/core/_methods.py:190: RuntimeWarning: invalid value encountered in double_scalars\n",
      "  ret = ret.dtype.type(ret / rcount)\n",
      "/Library/Frameworks/Python.framework/Versions/3.11/lib/python3.11/site-packages/numpy/core/fromnumeric.py:3432: RuntimeWarning: Mean of empty slice.\n",
      "  return _methods._mean(a, axis=axis, dtype=dtype,\n",
      "/Library/Frameworks/Python.framework/Versions/3.11/lib/python3.11/site-packages/numpy/core/_methods.py:190: RuntimeWarning: invalid value encountered in double_scalars\n",
      "  ret = ret.dtype.type(ret / rcount)\n",
      "/Library/Frameworks/Python.framework/Versions/3.11/lib/python3.11/site-packages/numpy/core/fromnumeric.py:3432: RuntimeWarning: Mean of empty slice.\n",
      "  return _methods._mean(a, axis=axis, dtype=dtype,\n",
      "/Library/Frameworks/Python.framework/Versions/3.11/lib/python3.11/site-packages/numpy/core/_methods.py:190: RuntimeWarning: invalid value encountered in double_scalars\n",
      "  ret = ret.dtype.type(ret / rcount)\n",
      "/Library/Frameworks/Python.framework/Versions/3.11/lib/python3.11/site-packages/numpy/core/fromnumeric.py:3432: RuntimeWarning: Mean of empty slice.\n",
      "  return _methods._mean(a, axis=axis, dtype=dtype,\n",
      "/Library/Frameworks/Python.framework/Versions/3.11/lib/python3.11/site-packages/numpy/core/_methods.py:190: RuntimeWarning: invalid value encountered in double_scalars\n",
      "  ret = ret.dtype.type(ret / rcount)\n",
      "/Library/Frameworks/Python.framework/Versions/3.11/lib/python3.11/site-packages/numpy/core/fromnumeric.py:3432: RuntimeWarning: Mean of empty slice.\n",
      "  return _methods._mean(a, axis=axis, dtype=dtype,\n",
      "/Library/Frameworks/Python.framework/Versions/3.11/lib/python3.11/site-packages/numpy/core/_methods.py:190: RuntimeWarning: invalid value encountered in double_scalars\n",
      "  ret = ret.dtype.type(ret / rcount)\n",
      "/Library/Frameworks/Python.framework/Versions/3.11/lib/python3.11/site-packages/numpy/core/fromnumeric.py:3432: RuntimeWarning: Mean of empty slice.\n",
      "  return _methods._mean(a, axis=axis, dtype=dtype,\n",
      "/Library/Frameworks/Python.framework/Versions/3.11/lib/python3.11/site-packages/numpy/core/_methods.py:190: RuntimeWarning: invalid value encountered in double_scalars\n",
      "  ret = ret.dtype.type(ret / rcount)\n",
      "/Library/Frameworks/Python.framework/Versions/3.11/lib/python3.11/site-packages/numpy/core/fromnumeric.py:3432: RuntimeWarning: Mean of empty slice.\n",
      "  return _methods._mean(a, axis=axis, dtype=dtype,\n",
      "/Library/Frameworks/Python.framework/Versions/3.11/lib/python3.11/site-packages/numpy/core/_methods.py:190: RuntimeWarning: invalid value encountered in double_scalars\n",
      "  ret = ret.dtype.type(ret / rcount)\n",
      "/Library/Frameworks/Python.framework/Versions/3.11/lib/python3.11/site-packages/numpy/core/fromnumeric.py:3432: RuntimeWarning: Mean of empty slice.\n",
      "  return _methods._mean(a, axis=axis, dtype=dtype,\n",
      "/Library/Frameworks/Python.framework/Versions/3.11/lib/python3.11/site-packages/numpy/core/_methods.py:190: RuntimeWarning: invalid value encountered in double_scalars\n",
      "  ret = ret.dtype.type(ret / rcount)\n",
      "/Library/Frameworks/Python.framework/Versions/3.11/lib/python3.11/site-packages/numpy/core/fromnumeric.py:3432: RuntimeWarning: Mean of empty slice.\n",
      "  return _methods._mean(a, axis=axis, dtype=dtype,\n",
      "/Library/Frameworks/Python.framework/Versions/3.11/lib/python3.11/site-packages/numpy/core/_methods.py:190: RuntimeWarning: invalid value encountered in double_scalars\n",
      "  ret = ret.dtype.type(ret / rcount)\n",
      "/Library/Frameworks/Python.framework/Versions/3.11/lib/python3.11/site-packages/numpy/core/fromnumeric.py:3432: RuntimeWarning: Mean of empty slice.\n",
      "  return _methods._mean(a, axis=axis, dtype=dtype,\n",
      "/Library/Frameworks/Python.framework/Versions/3.11/lib/python3.11/site-packages/numpy/core/_methods.py:190: RuntimeWarning: invalid value encountered in double_scalars\n",
      "  ret = ret.dtype.type(ret / rcount)\n",
      "/Library/Frameworks/Python.framework/Versions/3.11/lib/python3.11/site-packages/numpy/core/fromnumeric.py:3432: RuntimeWarning: Mean of empty slice.\n",
      "  return _methods._mean(a, axis=axis, dtype=dtype,\n",
      "/Library/Frameworks/Python.framework/Versions/3.11/lib/python3.11/site-packages/numpy/core/_methods.py:190: RuntimeWarning: invalid value encountered in double_scalars\n",
      "  ret = ret.dtype.type(ret / rcount)\n",
      "/Library/Frameworks/Python.framework/Versions/3.11/lib/python3.11/site-packages/numpy/core/fromnumeric.py:3432: RuntimeWarning: Mean of empty slice.\n",
      "  return _methods._mean(a, axis=axis, dtype=dtype,\n",
      "/Library/Frameworks/Python.framework/Versions/3.11/lib/python3.11/site-packages/numpy/core/_methods.py:190: RuntimeWarning: invalid value encountered in double_scalars\n",
      "  ret = ret.dtype.type(ret / rcount)\n",
      "/Library/Frameworks/Python.framework/Versions/3.11/lib/python3.11/site-packages/numpy/core/fromnumeric.py:3432: RuntimeWarning: Mean of empty slice.\n",
      "  return _methods._mean(a, axis=axis, dtype=dtype,\n",
      "/Library/Frameworks/Python.framework/Versions/3.11/lib/python3.11/site-packages/numpy/core/_methods.py:190: RuntimeWarning: invalid value encountered in double_scalars\n",
      "  ret = ret.dtype.type(ret / rcount)\n",
      "/Library/Frameworks/Python.framework/Versions/3.11/lib/python3.11/site-packages/numpy/core/fromnumeric.py:3432: RuntimeWarning: Mean of empty slice.\n",
      "  return _methods._mean(a, axis=axis, dtype=dtype,\n",
      "/Library/Frameworks/Python.framework/Versions/3.11/lib/python3.11/site-packages/numpy/core/_methods.py:190: RuntimeWarning: invalid value encountered in double_scalars\n",
      "  ret = ret.dtype.type(ret / rcount)\n",
      "/Library/Frameworks/Python.framework/Versions/3.11/lib/python3.11/site-packages/numpy/core/fromnumeric.py:3432: RuntimeWarning: Mean of empty slice.\n",
      "  return _methods._mean(a, axis=axis, dtype=dtype,\n",
      "/Library/Frameworks/Python.framework/Versions/3.11/lib/python3.11/site-packages/numpy/core/_methods.py:190: RuntimeWarning: invalid value encountered in double_scalars\n",
      "  ret = ret.dtype.type(ret / rcount)\n",
      "/Library/Frameworks/Python.framework/Versions/3.11/lib/python3.11/site-packages/numpy/core/fromnumeric.py:3432: RuntimeWarning: Mean of empty slice.\n",
      "  return _methods._mean(a, axis=axis, dtype=dtype,\n",
      "/Library/Frameworks/Python.framework/Versions/3.11/lib/python3.11/site-packages/numpy/core/_methods.py:190: RuntimeWarning: invalid value encountered in double_scalars\n",
      "  ret = ret.dtype.type(ret / rcount)\n",
      "/Library/Frameworks/Python.framework/Versions/3.11/lib/python3.11/site-packages/numpy/core/fromnumeric.py:3432: RuntimeWarning: Mean of empty slice.\n",
      "  return _methods._mean(a, axis=axis, dtype=dtype,\n",
      "/Library/Frameworks/Python.framework/Versions/3.11/lib/python3.11/site-packages/numpy/core/_methods.py:190: RuntimeWarning: invalid value encountered in double_scalars\n",
      "  ret = ret.dtype.type(ret / rcount)\n",
      "/Library/Frameworks/Python.framework/Versions/3.11/lib/python3.11/site-packages/numpy/core/fromnumeric.py:3432: RuntimeWarning: Mean of empty slice.\n",
      "  return _methods._mean(a, axis=axis, dtype=dtype,\n",
      "/Library/Frameworks/Python.framework/Versions/3.11/lib/python3.11/site-packages/numpy/core/_methods.py:190: RuntimeWarning: invalid value encountered in double_scalars\n",
      "  ret = ret.dtype.type(ret / rcount)\n",
      "/Library/Frameworks/Python.framework/Versions/3.11/lib/python3.11/site-packages/numpy/core/fromnumeric.py:3432: RuntimeWarning: Mean of empty slice.\n",
      "  return _methods._mean(a, axis=axis, dtype=dtype,\n",
      "/Library/Frameworks/Python.framework/Versions/3.11/lib/python3.11/site-packages/numpy/core/_methods.py:190: RuntimeWarning: invalid value encountered in double_scalars\n",
      "  ret = ret.dtype.type(ret / rcount)\n",
      "/Library/Frameworks/Python.framework/Versions/3.11/lib/python3.11/site-packages/numpy/core/fromnumeric.py:3432: RuntimeWarning: Mean of empty slice.\n",
      "  return _methods._mean(a, axis=axis, dtype=dtype,\n",
      "/Library/Frameworks/Python.framework/Versions/3.11/lib/python3.11/site-packages/numpy/core/_methods.py:190: RuntimeWarning: invalid value encountered in double_scalars\n",
      "  ret = ret.dtype.type(ret / rcount)\n",
      "/Library/Frameworks/Python.framework/Versions/3.11/lib/python3.11/site-packages/numpy/core/fromnumeric.py:3432: RuntimeWarning: Mean of empty slice.\n",
      "  return _methods._mean(a, axis=axis, dtype=dtype,\n",
      "/Library/Frameworks/Python.framework/Versions/3.11/lib/python3.11/site-packages/numpy/core/_methods.py:190: RuntimeWarning: invalid value encountered in double_scalars\n",
      "  ret = ret.dtype.type(ret / rcount)\n",
      "/Library/Frameworks/Python.framework/Versions/3.11/lib/python3.11/site-packages/numpy/core/fromnumeric.py:3432: RuntimeWarning: Mean of empty slice.\n",
      "  return _methods._mean(a, axis=axis, dtype=dtype,\n",
      "/Library/Frameworks/Python.framework/Versions/3.11/lib/python3.11/site-packages/numpy/core/_methods.py:190: RuntimeWarning: invalid value encountered in double_scalars\n",
      "  ret = ret.dtype.type(ret / rcount)\n",
      "/Library/Frameworks/Python.framework/Versions/3.11/lib/python3.11/site-packages/numpy/core/fromnumeric.py:3432: RuntimeWarning: Mean of empty slice.\n",
      "  return _methods._mean(a, axis=axis, dtype=dtype,\n",
      "/Library/Frameworks/Python.framework/Versions/3.11/lib/python3.11/site-packages/numpy/core/_methods.py:190: RuntimeWarning: invalid value encountered in double_scalars\n",
      "  ret = ret.dtype.type(ret / rcount)\n",
      "/Library/Frameworks/Python.framework/Versions/3.11/lib/python3.11/site-packages/numpy/core/fromnumeric.py:3432: RuntimeWarning: Mean of empty slice.\n",
      "  return _methods._mean(a, axis=axis, dtype=dtype,\n",
      "/Library/Frameworks/Python.framework/Versions/3.11/lib/python3.11/site-packages/numpy/core/_methods.py:190: RuntimeWarning: invalid value encountered in double_scalars\n",
      "  ret = ret.dtype.type(ret / rcount)\n",
      "/Library/Frameworks/Python.framework/Versions/3.11/lib/python3.11/site-packages/numpy/core/fromnumeric.py:3432: RuntimeWarning: Mean of empty slice.\n",
      "  return _methods._mean(a, axis=axis, dtype=dtype,\n",
      "/Library/Frameworks/Python.framework/Versions/3.11/lib/python3.11/site-packages/numpy/core/_methods.py:190: RuntimeWarning: invalid value encountered in double_scalars\n",
      "  ret = ret.dtype.type(ret / rcount)\n"
     ]
    },
    {
     "name": "stdout",
     "output_type": "stream",
     "text": [
      "fixed_thr= 0.16126842835224325\n"
     ]
    },
    {
     "name": "stderr",
     "output_type": "stream",
     "text": [
      "/Library/Frameworks/Python.framework/Versions/3.11/lib/python3.11/site-packages/numpy/core/fromnumeric.py:3432: RuntimeWarning: Mean of empty slice.\n",
      "  return _methods._mean(a, axis=axis, dtype=dtype,\n",
      "/Library/Frameworks/Python.framework/Versions/3.11/lib/python3.11/site-packages/numpy/core/_methods.py:190: RuntimeWarning: invalid value encountered in double_scalars\n",
      "  ret = ret.dtype.type(ret / rcount)\n",
      "/Library/Frameworks/Python.framework/Versions/3.11/lib/python3.11/site-packages/numpy/core/fromnumeric.py:3432: RuntimeWarning: Mean of empty slice.\n",
      "  return _methods._mean(a, axis=axis, dtype=dtype,\n",
      "/Library/Frameworks/Python.framework/Versions/3.11/lib/python3.11/site-packages/numpy/core/_methods.py:190: RuntimeWarning: invalid value encountered in double_scalars\n",
      "  ret = ret.dtype.type(ret / rcount)\n",
      "/Library/Frameworks/Python.framework/Versions/3.11/lib/python3.11/site-packages/numpy/core/fromnumeric.py:3432: RuntimeWarning: Mean of empty slice.\n",
      "  return _methods._mean(a, axis=axis, dtype=dtype,\n",
      "/Library/Frameworks/Python.framework/Versions/3.11/lib/python3.11/site-packages/numpy/core/_methods.py:190: RuntimeWarning: invalid value encountered in double_scalars\n",
      "  ret = ret.dtype.type(ret / rcount)\n",
      "/Library/Frameworks/Python.framework/Versions/3.11/lib/python3.11/site-packages/numpy/core/fromnumeric.py:3432: RuntimeWarning: Mean of empty slice.\n",
      "  return _methods._mean(a, axis=axis, dtype=dtype,\n",
      "/Library/Frameworks/Python.framework/Versions/3.11/lib/python3.11/site-packages/numpy/core/_methods.py:190: RuntimeWarning: invalid value encountered in double_scalars\n",
      "  ret = ret.dtype.type(ret / rcount)\n",
      "/Library/Frameworks/Python.framework/Versions/3.11/lib/python3.11/site-packages/numpy/core/fromnumeric.py:3432: RuntimeWarning: Mean of empty slice.\n",
      "  return _methods._mean(a, axis=axis, dtype=dtype,\n",
      "/Library/Frameworks/Python.framework/Versions/3.11/lib/python3.11/site-packages/numpy/core/_methods.py:190: RuntimeWarning: invalid value encountered in double_scalars\n",
      "  ret = ret.dtype.type(ret / rcount)\n",
      "/Library/Frameworks/Python.framework/Versions/3.11/lib/python3.11/site-packages/numpy/core/fromnumeric.py:3432: RuntimeWarning: Mean of empty slice.\n",
      "  return _methods._mean(a, axis=axis, dtype=dtype,\n",
      "/Library/Frameworks/Python.framework/Versions/3.11/lib/python3.11/site-packages/numpy/core/_methods.py:190: RuntimeWarning: invalid value encountered in double_scalars\n",
      "  ret = ret.dtype.type(ret / rcount)\n",
      "/Library/Frameworks/Python.framework/Versions/3.11/lib/python3.11/site-packages/numpy/core/fromnumeric.py:3432: RuntimeWarning: Mean of empty slice.\n",
      "  return _methods._mean(a, axis=axis, dtype=dtype,\n",
      "/Library/Frameworks/Python.framework/Versions/3.11/lib/python3.11/site-packages/numpy/core/_methods.py:190: RuntimeWarning: invalid value encountered in double_scalars\n",
      "  ret = ret.dtype.type(ret / rcount)\n",
      "/Library/Frameworks/Python.framework/Versions/3.11/lib/python3.11/site-packages/numpy/core/fromnumeric.py:3432: RuntimeWarning: Mean of empty slice.\n",
      "  return _methods._mean(a, axis=axis, dtype=dtype,\n",
      "/Library/Frameworks/Python.framework/Versions/3.11/lib/python3.11/site-packages/numpy/core/_methods.py:190: RuntimeWarning: invalid value encountered in double_scalars\n",
      "  ret = ret.dtype.type(ret / rcount)\n",
      "/Library/Frameworks/Python.framework/Versions/3.11/lib/python3.11/site-packages/numpy/core/fromnumeric.py:3432: RuntimeWarning: Mean of empty slice.\n",
      "  return _methods._mean(a, axis=axis, dtype=dtype,\n",
      "/Library/Frameworks/Python.framework/Versions/3.11/lib/python3.11/site-packages/numpy/core/_methods.py:190: RuntimeWarning: invalid value encountered in double_scalars\n",
      "  ret = ret.dtype.type(ret / rcount)\n",
      "/Library/Frameworks/Python.framework/Versions/3.11/lib/python3.11/site-packages/numpy/core/fromnumeric.py:3432: RuntimeWarning: Mean of empty slice.\n",
      "  return _methods._mean(a, axis=axis, dtype=dtype,\n",
      "/Library/Frameworks/Python.framework/Versions/3.11/lib/python3.11/site-packages/numpy/core/_methods.py:190: RuntimeWarning: invalid value encountered in double_scalars\n",
      "  ret = ret.dtype.type(ret / rcount)\n",
      "/Library/Frameworks/Python.framework/Versions/3.11/lib/python3.11/site-packages/numpy/core/fromnumeric.py:3432: RuntimeWarning: Mean of empty slice.\n",
      "  return _methods._mean(a, axis=axis, dtype=dtype,\n",
      "/Library/Frameworks/Python.framework/Versions/3.11/lib/python3.11/site-packages/numpy/core/_methods.py:190: RuntimeWarning: invalid value encountered in double_scalars\n",
      "  ret = ret.dtype.type(ret / rcount)\n",
      "/Library/Frameworks/Python.framework/Versions/3.11/lib/python3.11/site-packages/numpy/core/fromnumeric.py:3432: RuntimeWarning: Mean of empty slice.\n",
      "  return _methods._mean(a, axis=axis, dtype=dtype,\n",
      "/Library/Frameworks/Python.framework/Versions/3.11/lib/python3.11/site-packages/numpy/core/_methods.py:190: RuntimeWarning: invalid value encountered in double_scalars\n",
      "  ret = ret.dtype.type(ret / rcount)\n",
      "/Library/Frameworks/Python.framework/Versions/3.11/lib/python3.11/site-packages/numpy/core/fromnumeric.py:3432: RuntimeWarning: Mean of empty slice.\n",
      "  return _methods._mean(a, axis=axis, dtype=dtype,\n",
      "/Library/Frameworks/Python.framework/Versions/3.11/lib/python3.11/site-packages/numpy/core/_methods.py:190: RuntimeWarning: invalid value encountered in double_scalars\n",
      "  ret = ret.dtype.type(ret / rcount)\n",
      "/Library/Frameworks/Python.framework/Versions/3.11/lib/python3.11/site-packages/numpy/core/fromnumeric.py:3432: RuntimeWarning: Mean of empty slice.\n",
      "  return _methods._mean(a, axis=axis, dtype=dtype,\n",
      "/Library/Frameworks/Python.framework/Versions/3.11/lib/python3.11/site-packages/numpy/core/_methods.py:190: RuntimeWarning: invalid value encountered in double_scalars\n",
      "  ret = ret.dtype.type(ret / rcount)\n",
      "/Library/Frameworks/Python.framework/Versions/3.11/lib/python3.11/site-packages/numpy/core/fromnumeric.py:3432: RuntimeWarning: Mean of empty slice.\n",
      "  return _methods._mean(a, axis=axis, dtype=dtype,\n",
      "/Library/Frameworks/Python.framework/Versions/3.11/lib/python3.11/site-packages/numpy/core/_methods.py:190: RuntimeWarning: invalid value encountered in double_scalars\n",
      "  ret = ret.dtype.type(ret / rcount)\n"
     ]
    }
   ],
   "source": [
    "nm = Net_moduls()\n",
    "pearson_network_ThreeReg_pn_90_00_averged = nm.get_network_features_averaged_median(tehran_df_completeDates, regimes_column= tehran_df_reg['3_PN'],method='pearson',edges_threshold=200, target_window=100, target_length=50)"
   ]
  },
  {
   "cell_type": "code",
   "execution_count": 55,
   "id": "c3b829e3-a3ab-4caf-a098-5baab244e8f4",
   "metadata": {},
   "outputs": [
    {
     "data": {
      "text/html": [
       "<div>\n",
       "<style scoped>\n",
       "    .dataframe tbody tr th:only-of-type {\n",
       "        vertical-align: middle;\n",
       "    }\n",
       "\n",
       "    .dataframe tbody tr th {\n",
       "        vertical-align: top;\n",
       "    }\n",
       "\n",
       "    .dataframe thead th {\n",
       "        text-align: right;\n",
       "    }\n",
       "</style>\n",
       "<table border=\"1\" class=\"dataframe\">\n",
       "  <thead>\n",
       "    <tr style=\"text-align: right;\">\n",
       "      <th></th>\n",
       "      <th>radius</th>\n",
       "      <th>diameter</th>\n",
       "      <th>densities</th>\n",
       "      <th>number_of_edges</th>\n",
       "      <th>average_clustering</th>\n",
       "      <th>avg_degree_centrality</th>\n",
       "      <th>avg_betweenness_centrality</th>\n",
       "      <th>avg_closeness_centrality</th>\n",
       "      <th>average_shortest_path_length</th>\n",
       "    </tr>\n",
       "  </thead>\n",
       "  <tbody>\n",
       "    <tr>\n",
       "      <th>Means</th>\n",
       "      <td>2.000000</td>\n",
       "      <td>3.540000</td>\n",
       "      <td>0.496754</td>\n",
       "      <td>514.140000</td>\n",
       "      <td>0.764851</td>\n",
       "      <td>0.496754</td>\n",
       "      <td>0.013024</td>\n",
       "      <td>0.662523</td>\n",
       "      <td>1.573043</td>\n",
       "    </tr>\n",
       "    <tr>\n",
       "      <th>STDs</th>\n",
       "      <td>0.000000</td>\n",
       "      <td>0.503457</td>\n",
       "      <td>0.014913</td>\n",
       "      <td>15.435197</td>\n",
       "      <td>0.014340</td>\n",
       "      <td>0.014913</td>\n",
       "      <td>0.001024</td>\n",
       "      <td>0.016408</td>\n",
       "      <td>0.045047</td>\n",
       "    </tr>\n",
       "    <tr>\n",
       "      <th>Means</th>\n",
       "      <td>2.000000</td>\n",
       "      <td>3.660000</td>\n",
       "      <td>0.440543</td>\n",
       "      <td>455.060000</td>\n",
       "      <td>0.679963</td>\n",
       "      <td>0.440543</td>\n",
       "      <td>0.014286</td>\n",
       "      <td>0.634614</td>\n",
       "      <td>1.628093</td>\n",
       "    </tr>\n",
       "    <tr>\n",
       "      <th>STDs</th>\n",
       "      <td>0.000000</td>\n",
       "      <td>0.478518</td>\n",
       "      <td>0.023700</td>\n",
       "      <td>22.503886</td>\n",
       "      <td>0.015267</td>\n",
       "      <td>0.023700</td>\n",
       "      <td>0.000987</td>\n",
       "      <td>0.015852</td>\n",
       "      <td>0.044488</td>\n",
       "    </tr>\n",
       "    <tr>\n",
       "      <th>Means</th>\n",
       "      <td>2.400000</td>\n",
       "      <td>3.980000</td>\n",
       "      <td>0.493333</td>\n",
       "      <td>488.400000</td>\n",
       "      <td>0.740431</td>\n",
       "      <td>0.493333</td>\n",
       "      <td>0.014388</td>\n",
       "      <td>0.647948</td>\n",
       "      <td>1.618687</td>\n",
       "    </tr>\n",
       "    <tr>\n",
       "      <th>STDs</th>\n",
       "      <td>0.494872</td>\n",
       "      <td>0.684821</td>\n",
       "      <td>0.014760</td>\n",
       "      <td>14.611988</td>\n",
       "      <td>0.022811</td>\n",
       "      <td>0.014760</td>\n",
       "      <td>0.001252</td>\n",
       "      <td>0.017459</td>\n",
       "      <td>0.053832</td>\n",
       "    </tr>\n",
       "    <tr>\n",
       "      <th>Means</th>\n",
       "      <td>NaN</td>\n",
       "      <td>NaN</td>\n",
       "      <td>0.000000</td>\n",
       "      <td>0.000000</td>\n",
       "      <td>NaN</td>\n",
       "      <td>NaN</td>\n",
       "      <td>NaN</td>\n",
       "      <td>NaN</td>\n",
       "      <td>NaN</td>\n",
       "    </tr>\n",
       "    <tr>\n",
       "      <th>STDs</th>\n",
       "      <td>NaN</td>\n",
       "      <td>NaN</td>\n",
       "      <td>0.000000</td>\n",
       "      <td>0.000000</td>\n",
       "      <td>NaN</td>\n",
       "      <td>NaN</td>\n",
       "      <td>NaN</td>\n",
       "      <td>NaN</td>\n",
       "      <td>NaN</td>\n",
       "    </tr>\n",
       "  </tbody>\n",
       "</table>\n",
       "</div>"
      ],
      "text/plain": [
       "         radius  diameter  densities  number_of_edges  average_clustering  \\\n",
       "Means  2.000000  3.540000   0.496754       514.140000            0.764851   \n",
       "STDs   0.000000  0.503457   0.014913        15.435197            0.014340   \n",
       "Means  2.000000  3.660000   0.440543       455.060000            0.679963   \n",
       "STDs   0.000000  0.478518   0.023700        22.503886            0.015267   \n",
       "Means  2.400000  3.980000   0.493333       488.400000            0.740431   \n",
       "STDs   0.494872  0.684821   0.014760        14.611988            0.022811   \n",
       "Means       NaN       NaN   0.000000         0.000000                 NaN   \n",
       "STDs        NaN       NaN   0.000000         0.000000                 NaN   \n",
       "\n",
       "       avg_degree_centrality  avg_betweenness_centrality  \\\n",
       "Means               0.496754                    0.013024   \n",
       "STDs                0.014913                    0.001024   \n",
       "Means               0.440543                    0.014286   \n",
       "STDs                0.023700                    0.000987   \n",
       "Means               0.493333                    0.014388   \n",
       "STDs                0.014760                    0.001252   \n",
       "Means                    NaN                         NaN   \n",
       "STDs                     NaN                         NaN   \n",
       "\n",
       "       avg_closeness_centrality  average_shortest_path_length  \n",
       "Means                  0.662523                      1.573043  \n",
       "STDs                   0.016408                      0.045047  \n",
       "Means                  0.634614                      1.628093  \n",
       "STDs                   0.015852                      0.044488  \n",
       "Means                  0.647948                      1.618687  \n",
       "STDs                   0.017459                      0.053832  \n",
       "Means                       NaN                           NaN  \n",
       "STDs                        NaN                           NaN  "
      ]
     },
     "execution_count": 55,
     "metadata": {},
     "output_type": "execute_result"
    }
   ],
   "source": [
    "pearson_network_ThreeReg_pn_90_00_averged"
   ]
  },
  {
   "cell_type": "code",
   "execution_count": 56,
   "id": "466ea72b-0acd-4343-a0fc-57ab9862cbb0",
   "metadata": {},
   "outputs": [],
   "source": [
    "pearson_network_ThreeReg_pn_90_00_averged.to_csv('Excels/39.csv')"
   ]
  },
  {
   "cell_type": "markdown",
   "id": "380e7825-54c8-4ba6-8328-fec788f3a367",
   "metadata": {},
   "source": [
    "# 40) Tehran 3 pn Regime Entropy (Based on Median Threshold) Period of 90 Far - 98 Dey"
   ]
  },
  {
   "cell_type": "code",
   "execution_count": 57,
   "id": "b02bca46-8b82-402b-ac32-a0933161e55c",
   "metadata": {},
   "outputs": [],
   "source": [
    "nm = Net_moduls()"
   ]
  },
  {
   "cell_type": "code",
   "execution_count": 58,
   "id": "9b2bc65f-f836-4a38-a9a2-102a978b8ef6",
   "metadata": {},
   "outputs": [],
   "source": [
    "thr40_1 = nm.find_median_entropy_threshold(tehran_df_ThreeReg_pn_1_same_length_98)\n",
    "thr40_2 = nm.find_median_entropy_threshold(tehran_df_ThreeReg_pn_2_same_length_98)\n",
    "thr40_3 = nm.find_median_entropy_threshold(tehran_df_ThreeReg_pn_3_same_length_98)\n",
    "\n",
    "thr40 = min(thr40_1, thr40_2, thr40_3)"
   ]
  },
  {
   "cell_type": "code",
   "execution_count": 59,
   "id": "7ec8f83a-1960-431b-9f8e-52e3c44a7c26",
   "metadata": {},
   "outputs": [],
   "source": [
    "entropy_network_ThreeReg_pn_1_98 = nm.construct_network(tehran_df_ThreeReg_pn_1_same_length_98, method='entropy', threshold=thr40)"
   ]
  },
  {
   "cell_type": "code",
   "execution_count": 60,
   "id": "3242a1d2-b106-4f70-8d3f-754dfa1cdb37",
   "metadata": {},
   "outputs": [
    {
     "data": {
      "text/html": [
       "<div>\n",
       "<style scoped>\n",
       "    .dataframe tbody tr th:only-of-type {\n",
       "        vertical-align: middle;\n",
       "    }\n",
       "\n",
       "    .dataframe tbody tr th {\n",
       "        vertical-align: top;\n",
       "    }\n",
       "\n",
       "    .dataframe thead th {\n",
       "        text-align: right;\n",
       "    }\n",
       "</style>\n",
       "<table border=\"1\" class=\"dataframe\">\n",
       "  <thead>\n",
       "    <tr style=\"text-align: right;\">\n",
       "      <th></th>\n",
       "      <th>radius</th>\n",
       "      <th>diameter</th>\n",
       "      <th>densities</th>\n",
       "      <th>number_of_edges</th>\n",
       "      <th>average_clustering</th>\n",
       "      <th>avg_degree_centrality</th>\n",
       "      <th>avg_betweenness_centrality</th>\n",
       "      <th>avg_closeness_centrality</th>\n",
       "      <th>average_shortest_path_length</th>\n",
       "    </tr>\n",
       "  </thead>\n",
       "  <tbody>\n",
       "    <tr>\n",
       "      <th>0</th>\n",
       "      <td>1</td>\n",
       "      <td>2</td>\n",
       "      <td>0.882828</td>\n",
       "      <td>874</td>\n",
       "      <td>0.896989</td>\n",
       "      <td>0.882828</td>\n",
       "      <td>0.002725</td>\n",
       "      <td>0.900228</td>\n",
       "      <td>1.117172</td>\n",
       "    </tr>\n",
       "  </tbody>\n",
       "</table>\n",
       "</div>"
      ],
      "text/plain": [
       "   radius  diameter  densities  number_of_edges  average_clustering  \\\n",
       "0       1         2   0.882828              874            0.896989   \n",
       "\n",
       "   avg_degree_centrality  avg_betweenness_centrality  \\\n",
       "0               0.882828                    0.002725   \n",
       "\n",
       "   avg_closeness_centrality  average_shortest_path_length  \n",
       "0                  0.900228                      1.117172  "
      ]
     },
     "execution_count": 60,
     "metadata": {},
     "output_type": "execute_result"
    }
   ],
   "source": [
    "nm.get_network_features(entropy_network_ThreeReg_pn_1_98)"
   ]
  },
  {
   "cell_type": "code",
   "execution_count": 61,
   "id": "e71cc75b-a55e-40a7-ba1c-e6a66b6d079f",
   "metadata": {},
   "outputs": [
    {
     "data": {
      "text/plain": [
       "array({'Coin': 26, 'Brent Oil': 27, 'CPI': 28, 'M2': 33, 'HOUSE': 36, 'M1': 36, 'Wood': 36, 'FaniVaMohandesi': 36, 'EntesharVaChap': 37, 'SarmayeGozari': 37, 'Amlakva': 37, 'Euro': 38, 'khodrosazi': 38, 'GhandVaShekar': 38, 'GDP': 39, 'Gold': 39, 'EstekrajeNaft': 39, 'Mansojat': 39, 'FaravardehayeNafti': 39, 'Bank': 39, 'SayerMali': 39, 'USD': 39, 'FelezateAsasi': 39, 'ChandReshteSanati': 40, 'Shimiyaee': 40, 'HamlVaNaghl': 40, 'Mali': 40, 'KashiVaSeramik': 40, 'VasayelErtebati': 40, 'Agriculture': 41, 'MahsolateFelezi': 41, 'Daroee': 41, 'GazaeeBejozGhand': 41, 'SayerMadan': 42, 'Lastic': 42, 'MashinAlat': 42, 'DastgahayeBargi': 42, 'KanehayeGeyreFelezi': 42, 'Rayaneh': 42, 'KanehayeFelezi': 42, 'index': 43, 'Siman': 43, 'Bimeh': 43, 'paper': 43, 'CoalMining': 44},\n",
       "      dtype=object)"
      ]
     },
     "execution_count": 61,
     "metadata": {},
     "output_type": "execute_result"
    }
   ],
   "source": [
    "b40_1 = dict(nx.degree(entropy_network_ThreeReg_pn_1_98))\n",
    "b40_1 = np.array(dict(sorted(b40_1.items(), key=lambda item: item[1])))\n",
    "b40_1"
   ]
  },
  {
   "cell_type": "code",
   "execution_count": 62,
   "id": "cea3a959-9d04-4da7-b362-48018d3a8ba9",
   "metadata": {},
   "outputs": [],
   "source": [
    "nm.get_network_features(entropy_network_ThreeReg_pn_1_98).to_csv('Excels/40_1.csv')"
   ]
  },
  {
   "cell_type": "code",
   "execution_count": 63,
   "id": "83fb02f0-c929-4df7-8859-dbd1a875bc15",
   "metadata": {},
   "outputs": [],
   "source": [
    "entropy_network_ThreeReg_pn_2_98 = nm.construct_network(tehran_df_ThreeReg_pn_2_same_length_98, method='entropy', threshold=thr40)"
   ]
  },
  {
   "cell_type": "code",
   "execution_count": 64,
   "id": "c97f6e19-5ea1-4a5c-b9d3-a6af6bfc8cb0",
   "metadata": {},
   "outputs": [
    {
     "data": {
      "text/html": [
       "<div>\n",
       "<style scoped>\n",
       "    .dataframe tbody tr th:only-of-type {\n",
       "        vertical-align: middle;\n",
       "    }\n",
       "\n",
       "    .dataframe tbody tr th {\n",
       "        vertical-align: top;\n",
       "    }\n",
       "\n",
       "    .dataframe thead th {\n",
       "        text-align: right;\n",
       "    }\n",
       "</style>\n",
       "<table border=\"1\" class=\"dataframe\">\n",
       "  <thead>\n",
       "    <tr style=\"text-align: right;\">\n",
       "      <th></th>\n",
       "      <th>radius</th>\n",
       "      <th>diameter</th>\n",
       "      <th>densities</th>\n",
       "      <th>number_of_edges</th>\n",
       "      <th>average_clustering</th>\n",
       "      <th>avg_degree_centrality</th>\n",
       "      <th>avg_betweenness_centrality</th>\n",
       "      <th>avg_closeness_centrality</th>\n",
       "      <th>average_shortest_path_length</th>\n",
       "    </tr>\n",
       "  </thead>\n",
       "  <tbody>\n",
       "    <tr>\n",
       "      <th>0</th>\n",
       "      <td>2</td>\n",
       "      <td>2</td>\n",
       "      <td>0.823188</td>\n",
       "      <td>852</td>\n",
       "      <td>0.833497</td>\n",
       "      <td>0.823188</td>\n",
       "      <td>0.004018</td>\n",
       "      <td>0.853454</td>\n",
       "      <td>1.176812</td>\n",
       "    </tr>\n",
       "  </tbody>\n",
       "</table>\n",
       "</div>"
      ],
      "text/plain": [
       "   radius  diameter  densities  number_of_edges  average_clustering  \\\n",
       "0       2         2   0.823188              852            0.833497   \n",
       "\n",
       "   avg_degree_centrality  avg_betweenness_centrality  \\\n",
       "0               0.823188                    0.004018   \n",
       "\n",
       "   avg_closeness_centrality  average_shortest_path_length  \n",
       "0                  0.853454                      1.176812  "
      ]
     },
     "execution_count": 64,
     "metadata": {},
     "output_type": "execute_result"
    }
   ],
   "source": [
    "nm.get_network_features(entropy_network_ThreeReg_pn_2_98)"
   ]
  },
  {
   "cell_type": "code",
   "execution_count": 65,
   "id": "1aed2145-c754-47ab-8f4c-933aa27b4e1a",
   "metadata": {},
   "outputs": [
    {
     "data": {
      "text/plain": [
       "array({'Gold': 28, 'M1': 31, 'GhandVaShekar': 32, 'Mali': 32, 'KashiVaSeramik': 33, 'CPI': 33, 'HOUSE': 33, 'MahsolateFelezi': 33, 'SayerMadan': 33, 'FaniVaMohandesi': 34, 'GDP': 34, 'KanehayeFelezi': 34, 'GazaeeBejozGhand': 35, 'Shimiyaee': 35, 'HamlVaNaghl': 35, 'index': 36, 'Euro': 36, 'paper': 36, 'AbzaralatePezeshki': 36, 'CoalMining': 36, 'Coin': 37, 'Bimeh': 37, 'ChandReshteSanati': 37, 'USD': 38, 'Bank': 38, 'Rayaneh': 38, 'Brent Oil': 38, 'FelezateAsasi': 38, 'DastgahayeBargi': 38, 'M2': 39, 'EstekrajeNaft': 39, 'Wood': 39, 'MashinAlat': 39, 'VasayelErtebati': 39, 'SarmayeGozari': 39, 'FaravardehayeNafti': 40, 'Daroee': 40, 'Agriculture': 40, 'Amlakva': 40, 'EntesharVaChap': 41, 'khodrosazi': 41, 'Mansojat': 42, 'Lastic': 42, 'KanehayeGeyreFelezi': 42, 'Siman': 44, 'SayerMali': 44},\n",
       "      dtype=object)"
      ]
     },
     "execution_count": 65,
     "metadata": {},
     "output_type": "execute_result"
    }
   ],
   "source": [
    "b40_2 = dict(nx.degree(entropy_network_ThreeReg_pn_2_98))\n",
    "b40_2 = np.array(dict(sorted(b40_2.items(), key=lambda item: item[1])))\n",
    "b40_2"
   ]
  },
  {
   "cell_type": "code",
   "execution_count": 66,
   "id": "b7600bb5-920f-434e-a5aa-39d209d10070",
   "metadata": {},
   "outputs": [],
   "source": [
    "nm.get_network_features(entropy_network_ThreeReg_pn_2_98).to_csv('Excels/40_2.csv')"
   ]
  },
  {
   "cell_type": "code",
   "execution_count": 67,
   "id": "244cecc9-4770-433b-9276-63ad178a041c",
   "metadata": {},
   "outputs": [],
   "source": [
    "entropy_network_ThreeReg_pn_3_98 = nm.construct_network(tehran_df_ThreeReg_pn_3_same_length_98, method='entropy', threshold=thr40)"
   ]
  },
  {
   "cell_type": "code",
   "execution_count": 68,
   "id": "35cb8c64-2a2e-4ee5-89da-f847c562841b",
   "metadata": {},
   "outputs": [
    {
     "data": {
      "text/html": [
       "<div>\n",
       "<style scoped>\n",
       "    .dataframe tbody tr th:only-of-type {\n",
       "        vertical-align: middle;\n",
       "    }\n",
       "\n",
       "    .dataframe tbody tr th {\n",
       "        vertical-align: top;\n",
       "    }\n",
       "\n",
       "    .dataframe thead th {\n",
       "        text-align: right;\n",
       "    }\n",
       "</style>\n",
       "<table border=\"1\" class=\"dataframe\">\n",
       "  <thead>\n",
       "    <tr style=\"text-align: right;\">\n",
       "      <th></th>\n",
       "      <th>radius</th>\n",
       "      <th>diameter</th>\n",
       "      <th>densities</th>\n",
       "      <th>number_of_edges</th>\n",
       "      <th>average_clustering</th>\n",
       "      <th>avg_degree_centrality</th>\n",
       "      <th>avg_betweenness_centrality</th>\n",
       "      <th>avg_closeness_centrality</th>\n",
       "      <th>average_shortest_path_length</th>\n",
       "    </tr>\n",
       "  </thead>\n",
       "  <tbody>\n",
       "    <tr>\n",
       "      <th>0</th>\n",
       "      <td>2</td>\n",
       "      <td>2</td>\n",
       "      <td>0.714141</td>\n",
       "      <td>707</td>\n",
       "      <td>0.75787</td>\n",
       "      <td>0.714141</td>\n",
       "      <td>0.006648</td>\n",
       "      <td>0.785393</td>\n",
       "      <td>1.285859</td>\n",
       "    </tr>\n",
       "  </tbody>\n",
       "</table>\n",
       "</div>"
      ],
      "text/plain": [
       "   radius  diameter  densities  number_of_edges  average_clustering  \\\n",
       "0       2         2   0.714141              707             0.75787   \n",
       "\n",
       "   avg_degree_centrality  avg_betweenness_centrality  \\\n",
       "0               0.714141                    0.006648   \n",
       "\n",
       "   avg_closeness_centrality  average_shortest_path_length  \n",
       "0                  0.785393                      1.285859  "
      ]
     },
     "execution_count": 68,
     "metadata": {},
     "output_type": "execute_result"
    }
   ],
   "source": [
    "nm.get_network_features(entropy_network_ThreeReg_pn_3_98)"
   ]
  },
  {
   "cell_type": "code",
   "execution_count": 69,
   "id": "1217138c-ecb1-4a98-8800-eb04d0d3df9a",
   "metadata": {},
   "outputs": [
    {
     "data": {
      "text/plain": [
       "array({'KanehayeFelezi': 16, 'CPI': 22, 'Siman': 22, 'Euro': 23, 'GhandVaShekar': 25, 'Mali': 25, 'Coin': 26, 'FelezateAsasi': 26, 'ChandReshteSanati': 26, 'Bank': 26, 'FaravardehayeNafti': 26, 'MashinAlat': 27, 'index': 28, 'FaniVaMohandesi': 29, 'MahsolateFelezi': 29, 'Rayaneh': 30, 'GDP': 31, 'Gold': 31, 'paper': 31, 'Lastic': 31, 'Daroee': 31, 'SayerMali': 31, 'KashiVaSeramik': 32, 'HamlVaNaghl': 32, 'DastgahayeBargi': 32, 'M1': 33, 'Shimiyaee': 33, 'GazaeeBejozGhand': 33, 'CoalMining': 33, 'SayerMadan': 33, 'USD': 34, 'Wood': 34, 'HOUSE': 34, 'M2': 35, 'Agriculture': 35, 'Mansojat': 35, 'EstekrajeNaft': 36, 'Bimeh': 38, 'Amlakva': 38, 'EntesharVaChap': 39, 'khodrosazi': 39, 'KanehayeGeyreFelezi': 40, 'Brent Oil': 41, 'SarmayeGozari': 41, 'VasayelErtebati': 42},\n",
       "      dtype=object)"
      ]
     },
     "execution_count": 69,
     "metadata": {},
     "output_type": "execute_result"
    }
   ],
   "source": [
    "b40_3 = dict(nx.degree(entropy_network_ThreeReg_pn_3_98))\n",
    "b40_3 = np.array(dict(sorted(b40_3.items(), key=lambda item: item[1])))\n",
    "b40_3"
   ]
  },
  {
   "cell_type": "code",
   "execution_count": 70,
   "id": "3c094932-a901-44e4-9ff7-26b8c95ca577",
   "metadata": {},
   "outputs": [],
   "source": [
    "nm.get_network_features(entropy_network_ThreeReg_pn_3_98).to_csv('Excels/40_3.csv')"
   ]
  },
  {
   "cell_type": "markdown",
   "id": "b54ea26c-a906-48e4-967d-5e7e4376d1c7",
   "metadata": {},
   "source": [
    "# 41) Tehran 3 pn Regime Entropy (Based on Median Threshold) Period of 90 Far - 00 Far"
   ]
  },
  {
   "cell_type": "code",
   "execution_count": 71,
   "id": "2af4a49c-1347-4e4d-a0be-545e0abf4ecb",
   "metadata": {},
   "outputs": [],
   "source": [
    "nm = Net_moduls()"
   ]
  },
  {
   "cell_type": "code",
   "execution_count": 72,
   "id": "67bebae6-742a-4537-87d6-2aeb7c030e00",
   "metadata": {},
   "outputs": [],
   "source": [
    "thr41_1 = nm.find_median_entropy_threshold(tehran_df_ThreeReg_pn_1_same_length)\n",
    "thr41_2 = nm.find_median_entropy_threshold(tehran_df_ThreeReg_pn_2_same_length)\n",
    "thr41_3 = nm.find_median_entropy_threshold(tehran_df_ThreeReg_pn_3_same_length)\n",
    "\n",
    "thr41 = min(thr41_1, thr41_2, thr41_3)"
   ]
  },
  {
   "cell_type": "code",
   "execution_count": 73,
   "id": "9372cc1b-5a07-4a19-89c6-9238f6d5d943",
   "metadata": {},
   "outputs": [],
   "source": [
    "entropy_network_ThreeReg_pn_1 = nm.construct_network(tehran_df_ThreeReg_pn_1_same_length, method='entropy', threshold=thr41)"
   ]
  },
  {
   "cell_type": "code",
   "execution_count": 74,
   "id": "170bbf08-c837-4628-b50f-926aee23925e",
   "metadata": {},
   "outputs": [
    {
     "data": {
      "text/html": [
       "<div>\n",
       "<style scoped>\n",
       "    .dataframe tbody tr th:only-of-type {\n",
       "        vertical-align: middle;\n",
       "    }\n",
       "\n",
       "    .dataframe tbody tr th {\n",
       "        vertical-align: top;\n",
       "    }\n",
       "\n",
       "    .dataframe thead th {\n",
       "        text-align: right;\n",
       "    }\n",
       "</style>\n",
       "<table border=\"1\" class=\"dataframe\">\n",
       "  <thead>\n",
       "    <tr style=\"text-align: right;\">\n",
       "      <th></th>\n",
       "      <th>radius</th>\n",
       "      <th>diameter</th>\n",
       "      <th>densities</th>\n",
       "      <th>number_of_edges</th>\n",
       "      <th>average_clustering</th>\n",
       "      <th>avg_degree_centrality</th>\n",
       "      <th>avg_betweenness_centrality</th>\n",
       "      <th>avg_closeness_centrality</th>\n",
       "      <th>average_shortest_path_length</th>\n",
       "    </tr>\n",
       "  </thead>\n",
       "  <tbody>\n",
       "    <tr>\n",
       "      <th>0</th>\n",
       "      <td>2</td>\n",
       "      <td>2</td>\n",
       "      <td>0.704348</td>\n",
       "      <td>729</td>\n",
       "      <td>0.750841</td>\n",
       "      <td>0.704348</td>\n",
       "      <td>0.006719</td>\n",
       "      <td>0.779681</td>\n",
       "      <td>1.295652</td>\n",
       "    </tr>\n",
       "  </tbody>\n",
       "</table>\n",
       "</div>"
      ],
      "text/plain": [
       "   radius  diameter  densities  number_of_edges  average_clustering  \\\n",
       "0       2         2   0.704348              729            0.750841   \n",
       "\n",
       "   avg_degree_centrality  avg_betweenness_centrality  \\\n",
       "0               0.704348                    0.006719   \n",
       "\n",
       "   avg_closeness_centrality  average_shortest_path_length  \n",
       "0                  0.779681                      1.295652  "
      ]
     },
     "execution_count": 74,
     "metadata": {},
     "output_type": "execute_result"
    }
   ],
   "source": [
    "nm.get_network_features(entropy_network_ThreeReg_pn_1)"
   ]
  },
  {
   "cell_type": "code",
   "execution_count": 75,
   "id": "3aeaf4b3-a872-4419-a5b7-50fb522a7d62",
   "metadata": {},
   "outputs": [
    {
     "data": {
      "text/plain": [
       "array({'AbzaralatePezeshki': 14, 'Coin': 20, 'Gold': 21, 'Mali': 21, 'MashinAlat': 25, 'SarmayeGozari': 25, 'Bimeh': 25, 'Daroee': 27, 'Shimiyaee': 27, 'Mansojat': 27, 'M1': 28, 'FaravardehayeNafti': 29, 'MahsolateFelezi': 29, 'EntesharVaChap': 29, 'GazaeeBejozGhand': 29, 'index': 30, 'Euro': 30, 'khodrosazi': 30, 'KanehayeGeyreFelezi': 30, 'Rayaneh': 30, 'FelezateAsasi': 31, 'Agriculture': 31, 'GDP': 32, 'Amlakva': 32, 'HamlVaNaghl': 32, 'KashiVaSeramik': 33, 'Lastic': 34, 'DastgahayeBargi': 34, 'SayerMali': 34, 'USD': 35, 'M2': 35, 'EstekrajeNaft': 35, 'GhandVaShekar': 35, 'Bank': 35, 'Wood': 35, 'paper': 36, 'KanehayeFelezi': 36, 'VasayelErtebati': 38, 'CPI': 39, 'CoalMining': 39, 'SayerMadan': 39, 'FaniVaMohandesi': 39, 'Brent Oil': 40, 'ChandReshteSanati': 40, 'HOUSE': 41, 'Siman': 42},\n",
       "      dtype=object)"
      ]
     },
     "execution_count": 75,
     "metadata": {},
     "output_type": "execute_result"
    }
   ],
   "source": [
    "b41_1 = dict(nx.degree(entropy_network_ThreeReg_pn_1))\n",
    "b41_1 = np.array(dict(sorted(b41_1.items(), key=lambda item: item[1])))\n",
    "b41_1"
   ]
  },
  {
   "cell_type": "code",
   "execution_count": 76,
   "id": "84cd08b1-08a7-4c9c-aa67-12bb849d1e15",
   "metadata": {},
   "outputs": [],
   "source": [
    "nm.get_network_features(entropy_network_ThreeReg_pn_1).to_csv('Excels/41_1.csv')"
   ]
  },
  {
   "cell_type": "code",
   "execution_count": 77,
   "id": "c759386a-ae12-4fa6-8102-59faaef871eb",
   "metadata": {},
   "outputs": [],
   "source": [
    "entropy_network_ThreeReg_pn_2 = nm.construct_network(tehran_df_ThreeReg_pn_2_same_length, method='entropy', threshold=thr41)"
   ]
  },
  {
   "cell_type": "code",
   "execution_count": 78,
   "id": "e8722cf2-74ba-4cd9-a6ab-5d72b3c6ece1",
   "metadata": {},
   "outputs": [
    {
     "data": {
      "text/html": [
       "<div>\n",
       "<style scoped>\n",
       "    .dataframe tbody tr th:only-of-type {\n",
       "        vertical-align: middle;\n",
       "    }\n",
       "\n",
       "    .dataframe tbody tr th {\n",
       "        vertical-align: top;\n",
       "    }\n",
       "\n",
       "    .dataframe thead th {\n",
       "        text-align: right;\n",
       "    }\n",
       "</style>\n",
       "<table border=\"1\" class=\"dataframe\">\n",
       "  <thead>\n",
       "    <tr style=\"text-align: right;\">\n",
       "      <th></th>\n",
       "      <th>radius</th>\n",
       "      <th>diameter</th>\n",
       "      <th>densities</th>\n",
       "      <th>number_of_edges</th>\n",
       "      <th>average_clustering</th>\n",
       "      <th>avg_degree_centrality</th>\n",
       "      <th>avg_betweenness_centrality</th>\n",
       "      <th>avg_closeness_centrality</th>\n",
       "      <th>average_shortest_path_length</th>\n",
       "    </tr>\n",
       "  </thead>\n",
       "  <tbody>\n",
       "    <tr>\n",
       "      <th>0</th>\n",
       "      <td>2</td>\n",
       "      <td>2</td>\n",
       "      <td>0.816425</td>\n",
       "      <td>845</td>\n",
       "      <td>0.830591</td>\n",
       "      <td>0.816425</td>\n",
       "      <td>0.004172</td>\n",
       "      <td>0.849207</td>\n",
       "      <td>1.183575</td>\n",
       "    </tr>\n",
       "  </tbody>\n",
       "</table>\n",
       "</div>"
      ],
      "text/plain": [
       "   radius  diameter  densities  number_of_edges  average_clustering  \\\n",
       "0       2         2   0.816425              845            0.830591   \n",
       "\n",
       "   avg_degree_centrality  avg_betweenness_centrality  \\\n",
       "0               0.816425                    0.004172   \n",
       "\n",
       "   avg_closeness_centrality  average_shortest_path_length  \n",
       "0                  0.849207                      1.183575  "
      ]
     },
     "execution_count": 78,
     "metadata": {},
     "output_type": "execute_result"
    }
   ],
   "source": [
    "nm.get_network_features(entropy_network_ThreeReg_pn_2)"
   ]
  },
  {
   "cell_type": "code",
   "execution_count": 79,
   "id": "982a1a6e-f843-4499-a721-ca921a80815a",
   "metadata": {},
   "outputs": [
    {
     "data": {
      "text/plain": [
       "array({'Gold': 24, 'CoalMining': 32, 'Mali': 32, 'ChandReshteSanati': 32, 'SayerMadan': 32, 'index': 33, 'M1': 33, 'Shimiyaee': 33, 'KashiVaSeramik': 33, 'CPI': 33, 'HOUSE': 33, 'GDP': 34, 'AbzaralatePezeshki': 35, 'FaniVaMohandesi': 35, 'GhandVaShekar': 35, 'KanehayeFelezi': 35, 'HamlVaNaghl': 35, 'Coin': 36, 'Euro': 36, 'EstekrajeNaft': 36, 'paper': 36, 'GazaeeBejozGhand': 36, 'MahsolateFelezi': 36, 'Bank': 37, 'DastgahayeBargi': 37, 'USD': 38, 'Brent Oil': 38, 'Lastic': 38, 'SarmayeGozari': 38, 'Bimeh': 38, 'Amlakva': 38, 'FelezateAsasi': 38, 'M2': 39, 'MashinAlat': 39, 'Rayaneh': 39, 'Wood': 40, 'FaravardehayeNafti': 40, 'Daroee': 40, 'Mansojat': 41, 'khodrosazi': 41, 'Agriculture': 41, 'VasayelErtebati': 42, 'KanehayeGeyreFelezi': 42, 'SayerMali': 43, 'EntesharVaChap': 44, 'Siman': 44},\n",
       "      dtype=object)"
      ]
     },
     "execution_count": 79,
     "metadata": {},
     "output_type": "execute_result"
    }
   ],
   "source": [
    "b41_2 = dict(nx.degree(entropy_network_ThreeReg_pn_2))\n",
    "b41_2 = np.array(dict(sorted(b41_2.items(), key=lambda item: item[1])))\n",
    "b41_2"
   ]
  },
  {
   "cell_type": "code",
   "execution_count": 80,
   "id": "dbd36500-d527-4c3e-a0dd-0843d0e22e23",
   "metadata": {},
   "outputs": [],
   "source": [
    "nm.get_network_features(entropy_network_ThreeReg_pn_2).to_csv('Excels/41_2.csv')"
   ]
  },
  {
   "cell_type": "code",
   "execution_count": 81,
   "id": "55b9d003-2da8-4efc-9163-38ec02817c5c",
   "metadata": {},
   "outputs": [],
   "source": [
    "entropy_network_ThreeReg_pn_3 = nm.construct_network(tehran_df_ThreeReg_pn_3_same_length, method='entropy', threshold=thr41)"
   ]
  },
  {
   "cell_type": "code",
   "execution_count": 82,
   "id": "ce43c30c-fc82-4991-845c-8eee982f3700",
   "metadata": {},
   "outputs": [
    {
     "data": {
      "text/html": [
       "<div>\n",
       "<style scoped>\n",
       "    .dataframe tbody tr th:only-of-type {\n",
       "        vertical-align: middle;\n",
       "    }\n",
       "\n",
       "    .dataframe tbody tr th {\n",
       "        vertical-align: top;\n",
       "    }\n",
       "\n",
       "    .dataframe thead th {\n",
       "        text-align: right;\n",
       "    }\n",
       "</style>\n",
       "<table border=\"1\" class=\"dataframe\">\n",
       "  <thead>\n",
       "    <tr style=\"text-align: right;\">\n",
       "      <th></th>\n",
       "      <th>radius</th>\n",
       "      <th>diameter</th>\n",
       "      <th>densities</th>\n",
       "      <th>number_of_edges</th>\n",
       "      <th>average_clustering</th>\n",
       "      <th>avg_degree_centrality</th>\n",
       "      <th>avg_betweenness_centrality</th>\n",
       "      <th>avg_closeness_centrality</th>\n",
       "      <th>average_shortest_path_length</th>\n",
       "    </tr>\n",
       "  </thead>\n",
       "  <tbody>\n",
       "    <tr>\n",
       "      <th>0</th>\n",
       "      <td>2</td>\n",
       "      <td>2</td>\n",
       "      <td>0.716162</td>\n",
       "      <td>709</td>\n",
       "      <td>0.75232</td>\n",
       "      <td>0.716162</td>\n",
       "      <td>0.006601</td>\n",
       "      <td>0.785775</td>\n",
       "      <td>1.283838</td>\n",
       "    </tr>\n",
       "  </tbody>\n",
       "</table>\n",
       "</div>"
      ],
      "text/plain": [
       "   radius  diameter  densities  number_of_edges  average_clustering  \\\n",
       "0       2         2   0.716162              709             0.75232   \n",
       "\n",
       "   avg_degree_centrality  avg_betweenness_centrality  \\\n",
       "0               0.716162                    0.006601   \n",
       "\n",
       "   avg_closeness_centrality  average_shortest_path_length  \n",
       "0                  0.785775                      1.283838  "
      ]
     },
     "execution_count": 82,
     "metadata": {},
     "output_type": "execute_result"
    }
   ],
   "source": [
    "nm.get_network_features(entropy_network_ThreeReg_pn_3)"
   ]
  },
  {
   "cell_type": "code",
   "execution_count": 83,
   "id": "db303e50-62ac-40e7-9ab4-51f29b699a1b",
   "metadata": {},
   "outputs": [
    {
     "data": {
      "text/plain": [
       "array({'Mansojat': 21, 'M2': 22, 'Siman': 23, 'MashinAlat': 24, 'Gold': 26, 'KanehayeFelezi': 26, 'Shimiyaee': 26, 'index': 27, 'GhandVaShekar': 27, 'Lastic': 27, 'USD': 28, 'SayerMadan': 28, 'Euro': 28, 'CPI': 28, 'Coin': 28, 'DastgahayeBargi': 28, 'M1': 29, 'FaravardehayeNafti': 29, 'FelezateAsasi': 30, 'SayerMali': 30, 'Rayaneh': 30, 'GazaeeBejozGhand': 31, 'paper': 32, 'ChandReshteSanati': 32, 'HamlVaNaghl': 32, 'FaniVaMohandesi': 32, 'EstekrajeNaft': 33, 'Mali': 33, 'EntesharVaChap': 33, 'HOUSE': 34, 'GDP': 34, 'CoalMining': 34, 'Brent Oil': 35, 'Wood': 35, 'Amlakva': 35, 'KashiVaSeramik': 36, 'Agriculture': 36, 'Bimeh': 37, 'Daroee': 38, 'MahsolateFelezi': 38, 'VasayelErtebati': 39, 'khodrosazi': 39, 'KanehayeGeyreFelezi': 40, 'Bank': 42, 'SarmayeGozari': 43},\n",
       "      dtype=object)"
      ]
     },
     "execution_count": 83,
     "metadata": {},
     "output_type": "execute_result"
    }
   ],
   "source": [
    "b41_3 = dict(nx.degree(entropy_network_ThreeReg_pn_3))\n",
    "b41_3 = np.array(dict(sorted(b41_3.items(), key=lambda item: item[1])))\n",
    "b41_3"
   ]
  },
  {
   "cell_type": "code",
   "execution_count": 84,
   "id": "4fb1cd08-a6c7-4991-aba2-ef17b9d93911",
   "metadata": {},
   "outputs": [],
   "source": [
    "nm.get_network_features(entropy_network_ThreeReg_pn_3).to_csv('Excels/41_3.csv')"
   ]
  },
  {
   "cell_type": "markdown",
   "id": "7ef29857-a616-4f0b-a1c4-bf40725d13cd",
   "metadata": {},
   "source": [
    "# 42) Tehran 3 pn Regime Entropy (Based on Median Threshold) Period of 90 Far - 98 Dey/ Last 100 Records"
   ]
  },
  {
   "cell_type": "code",
   "execution_count": 85,
   "id": "be499f85-72c1-418a-ab78-1865beb0b3a0",
   "metadata": {},
   "outputs": [],
   "source": [
    "thr42_1 = nm.find_median_entropy_threshold(tehran_df_ThreeReg_pn_1_same_length_98[-100:])\n",
    "thr42_2 = nm.find_median_entropy_threshold(tehran_df_ThreeReg_pn_2_same_length_98[-100:])\n",
    "thr42_3 = nm.find_median_entropy_threshold(tehran_df_ThreeReg_pn_3_same_length_98[-100:])\n",
    "\n",
    "thr42 = min(thr42_1, thr42_2, thr42_3)"
   ]
  },
  {
   "cell_type": "code",
   "execution_count": 86,
   "id": "d1423b9b-eff9-4285-ae57-6d99523af709",
   "metadata": {},
   "outputs": [],
   "source": [
    "entropy_network_ThreeReg_pn_1_98_last100 = nm.construct_network(tehran_df_ThreeReg_pn_1_same_length_98[-100:], method='entropy', threshold=thr42)"
   ]
  },
  {
   "cell_type": "code",
   "execution_count": 87,
   "id": "9ce83d8a-2e3e-40da-9542-512e7526bf55",
   "metadata": {},
   "outputs": [
    {
     "data": {
      "text/html": [
       "<div>\n",
       "<style scoped>\n",
       "    .dataframe tbody tr th:only-of-type {\n",
       "        vertical-align: middle;\n",
       "    }\n",
       "\n",
       "    .dataframe tbody tr th {\n",
       "        vertical-align: top;\n",
       "    }\n",
       "\n",
       "    .dataframe thead th {\n",
       "        text-align: right;\n",
       "    }\n",
       "</style>\n",
       "<table border=\"1\" class=\"dataframe\">\n",
       "  <thead>\n",
       "    <tr style=\"text-align: right;\">\n",
       "      <th></th>\n",
       "      <th>radius</th>\n",
       "      <th>diameter</th>\n",
       "      <th>densities</th>\n",
       "      <th>number_of_edges</th>\n",
       "      <th>average_clustering</th>\n",
       "      <th>avg_degree_centrality</th>\n",
       "      <th>avg_betweenness_centrality</th>\n",
       "      <th>avg_closeness_centrality</th>\n",
       "      <th>average_shortest_path_length</th>\n",
       "    </tr>\n",
       "  </thead>\n",
       "  <tbody>\n",
       "    <tr>\n",
       "      <th>0</th>\n",
       "      <td>1</td>\n",
       "      <td>2</td>\n",
       "      <td>0.883838</td>\n",
       "      <td>875</td>\n",
       "      <td>0.896669</td>\n",
       "      <td>0.883838</td>\n",
       "      <td>0.002701</td>\n",
       "      <td>0.900459</td>\n",
       "      <td>1.116162</td>\n",
       "    </tr>\n",
       "  </tbody>\n",
       "</table>\n",
       "</div>"
      ],
      "text/plain": [
       "   radius  diameter  densities  number_of_edges  average_clustering  \\\n",
       "0       1         2   0.883838              875            0.896669   \n",
       "\n",
       "   avg_degree_centrality  avg_betweenness_centrality  \\\n",
       "0               0.883838                    0.002701   \n",
       "\n",
       "   avg_closeness_centrality  average_shortest_path_length  \n",
       "0                  0.900459                      1.116162  "
      ]
     },
     "execution_count": 87,
     "metadata": {},
     "output_type": "execute_result"
    }
   ],
   "source": [
    "nm.get_network_features(entropy_network_ThreeReg_pn_1_98_last100)"
   ]
  },
  {
   "cell_type": "code",
   "execution_count": 88,
   "id": "0e2da0c2-5473-446f-8230-3f7874350656",
   "metadata": {},
   "outputs": [
    {
     "data": {
      "text/plain": [
       "array({'CPI': 28, 'Brent Oil': 30, 'Coin': 30, 'M1': 32, 'M2': 34, 'USD': 35, 'HOUSE': 35, 'Euro': 36, 'khodrosazi': 36, 'VasayelErtebati': 36, 'Wood': 37, 'EntesharVaChap': 38, 'GhandVaShekar': 38, 'SarmayeGozari': 38, 'KanehayeGeyreFelezi': 38, 'GDP': 39, 'Rayaneh': 39, 'FelezateAsasi': 39, 'Agriculture': 40, 'EstekrajeNaft': 40, 'Lastic': 40, 'MashinAlat': 40, 'Daroee': 40, 'Siman': 40, 'SayerMali': 40, 'HamlVaNaghl': 40, 'Mali': 40, 'GazaeeBejozGhand': 40, 'FaniVaMohandesi': 40, 'Mansojat': 41, 'FaravardehayeNafti': 41, 'ChandReshteSanati': 41, 'KashiVaSeramik': 41, 'Bank': 41, 'Amlakva': 41, 'index': 42, 'MahsolateFelezi': 42, 'SayerMadan': 42, 'DastgahayeBargi': 42, 'Bimeh': 42, 'Gold': 43, 'paper': 43, 'Shimiyaee': 43, 'KanehayeFelezi': 43, 'CoalMining': 44},\n",
       "      dtype=object)"
      ]
     },
     "execution_count": 88,
     "metadata": {},
     "output_type": "execute_result"
    }
   ],
   "source": [
    "b42_1 = dict(nx.degree(entropy_network_ThreeReg_pn_1_98_last100))\n",
    "b42_1 = np.array(dict(sorted(b42_1.items(), key=lambda item: item[1])))\n",
    "b42_1"
   ]
  },
  {
   "cell_type": "code",
   "execution_count": 89,
   "id": "2fb97329-1775-4d5b-b1c0-631bb3f91da5",
   "metadata": {},
   "outputs": [],
   "source": [
    "nm.get_network_features(entropy_network_ThreeReg_pn_1_98_last100).to_csv('Excels/42_1.csv')"
   ]
  },
  {
   "cell_type": "code",
   "execution_count": 90,
   "id": "0cde9a37-208d-455e-9835-6ec0e74bacd1",
   "metadata": {},
   "outputs": [],
   "source": [
    "entropy_network_ThreeReg_pn_2_98_last100 = nm.construct_network(tehran_df_ThreeReg_pn_2_same_length_98[-100:], method='entropy', threshold=thr42)"
   ]
  },
  {
   "cell_type": "code",
   "execution_count": 91,
   "id": "c24cef2a-944f-4500-a7e4-fd02667235ab",
   "metadata": {},
   "outputs": [
    {
     "data": {
      "text/html": [
       "<div>\n",
       "<style scoped>\n",
       "    .dataframe tbody tr th:only-of-type {\n",
       "        vertical-align: middle;\n",
       "    }\n",
       "\n",
       "    .dataframe tbody tr th {\n",
       "        vertical-align: top;\n",
       "    }\n",
       "\n",
       "    .dataframe thead th {\n",
       "        text-align: right;\n",
       "    }\n",
       "</style>\n",
       "<table border=\"1\" class=\"dataframe\">\n",
       "  <thead>\n",
       "    <tr style=\"text-align: right;\">\n",
       "      <th></th>\n",
       "      <th>radius</th>\n",
       "      <th>diameter</th>\n",
       "      <th>densities</th>\n",
       "      <th>number_of_edges</th>\n",
       "      <th>average_clustering</th>\n",
       "      <th>avg_degree_centrality</th>\n",
       "      <th>avg_betweenness_centrality</th>\n",
       "      <th>avg_closeness_centrality</th>\n",
       "      <th>average_shortest_path_length</th>\n",
       "    </tr>\n",
       "  </thead>\n",
       "  <tbody>\n",
       "    <tr>\n",
       "      <th>0</th>\n",
       "      <td>2</td>\n",
       "      <td>2</td>\n",
       "      <td>0.85314</td>\n",
       "      <td>883</td>\n",
       "      <td>0.864222</td>\n",
       "      <td>0.85314</td>\n",
       "      <td>0.003338</td>\n",
       "      <td>0.87592</td>\n",
       "      <td>1.14686</td>\n",
       "    </tr>\n",
       "  </tbody>\n",
       "</table>\n",
       "</div>"
      ],
      "text/plain": [
       "   radius  diameter  densities  number_of_edges  average_clustering  \\\n",
       "0       2         2    0.85314              883            0.864222   \n",
       "\n",
       "   avg_degree_centrality  avg_betweenness_centrality  \\\n",
       "0                0.85314                    0.003338   \n",
       "\n",
       "   avg_closeness_centrality  average_shortest_path_length  \n",
       "0                   0.87592                       1.14686  "
      ]
     },
     "execution_count": 91,
     "metadata": {},
     "output_type": "execute_result"
    }
   ],
   "source": [
    "nm.get_network_features(entropy_network_ThreeReg_pn_2_98_last100)"
   ]
  },
  {
   "cell_type": "code",
   "execution_count": 92,
   "id": "71f8fc9e-254c-4e13-bc1d-e02c13475224",
   "metadata": {},
   "outputs": [
    {
     "data": {
      "text/plain": [
       "array({'KashiVaSeramik': 27, 'CPI': 31, 'Gold': 32, 'HOUSE': 33, 'SayerMadan': 33, 'GazaeeBejozGhand': 34, 'AbzaralatePezeshki': 35, 'USD': 35, 'Bank': 36, 'Mali': 36, 'GDP': 36, 'CoalMining': 37, 'Wood': 37, 'EntesharVaChap': 37, 'VasayelErtebati': 37, 'FaniVaMohandesi': 37, 'MahsolateFelezi': 37, 'index': 38, 'paper': 38, 'Rayaneh': 38, 'M2': 38, 'FelezateAsasi': 38, 'ChandReshteSanati': 39, 'SarmayeGozari': 39, 'SayerMali': 39, 'GhandVaShekar': 39, 'Brent Oil': 40, 'Coin': 40, 'Euro': 40, 'FaravardehayeNafti': 40, 'HamlVaNaghl': 40, 'Amlakva': 40, 'DastgahayeBargi': 41, 'khodrosazi': 41, 'KanehayeFelezi': 41, 'Lastic': 41, 'EstekrajeNaft': 42, 'Mansojat': 42, 'MashinAlat': 42, 'Daroee': 42, 'Shimiyaee': 42, 'Bimeh': 42, 'KanehayeGeyreFelezi': 43, 'Agriculture': 43, 'M1': 44, 'Siman': 44},\n",
       "      dtype=object)"
      ]
     },
     "execution_count": 92,
     "metadata": {},
     "output_type": "execute_result"
    }
   ],
   "source": [
    "b42_2 = dict(nx.degree(entropy_network_ThreeReg_pn_2_98_last100))\n",
    "b42_2 = np.array(dict(sorted(b42_2.items(), key=lambda item: item[1])))\n",
    "b42_2"
   ]
  },
  {
   "cell_type": "code",
   "execution_count": 93,
   "id": "b8bd01ae-ce5f-4880-b5bc-d792d7b66df2",
   "metadata": {},
   "outputs": [],
   "source": [
    "nm.get_network_features(entropy_network_ThreeReg_pn_2_98_last100).to_csv('Excels/42_2.csv')"
   ]
  },
  {
   "cell_type": "code",
   "execution_count": 94,
   "id": "fd2e6684-6988-4baa-8d66-26d94227f28a",
   "metadata": {},
   "outputs": [],
   "source": [
    "entropy_network_ThreeReg_pn_3_98_last100 = nm.construct_network(tehran_df_ThreeReg_pn_3_same_length_98[-100:], method='entropy', threshold=thr42)"
   ]
  },
  {
   "cell_type": "code",
   "execution_count": 95,
   "id": "0dc12e22-3c02-46cd-8ac6-26964b2b1150",
   "metadata": {},
   "outputs": [
    {
     "data": {
      "text/html": [
       "<div>\n",
       "<style scoped>\n",
       "    .dataframe tbody tr th:only-of-type {\n",
       "        vertical-align: middle;\n",
       "    }\n",
       "\n",
       "    .dataframe tbody tr th {\n",
       "        vertical-align: top;\n",
       "    }\n",
       "\n",
       "    .dataframe thead th {\n",
       "        text-align: right;\n",
       "    }\n",
       "</style>\n",
       "<table border=\"1\" class=\"dataframe\">\n",
       "  <thead>\n",
       "    <tr style=\"text-align: right;\">\n",
       "      <th></th>\n",
       "      <th>radius</th>\n",
       "      <th>diameter</th>\n",
       "      <th>densities</th>\n",
       "      <th>number_of_edges</th>\n",
       "      <th>average_clustering</th>\n",
       "      <th>avg_degree_centrality</th>\n",
       "      <th>avg_betweenness_centrality</th>\n",
       "      <th>avg_closeness_centrality</th>\n",
       "      <th>average_shortest_path_length</th>\n",
       "    </tr>\n",
       "  </thead>\n",
       "  <tbody>\n",
       "    <tr>\n",
       "      <th>0</th>\n",
       "      <td>2</td>\n",
       "      <td>2</td>\n",
       "      <td>0.711111</td>\n",
       "      <td>704</td>\n",
       "      <td>0.746464</td>\n",
       "      <td>0.711111</td>\n",
       "      <td>0.006718</td>\n",
       "      <td>0.781958</td>\n",
       "      <td>1.288889</td>\n",
       "    </tr>\n",
       "  </tbody>\n",
       "</table>\n",
       "</div>"
      ],
      "text/plain": [
       "   radius  diameter  densities  number_of_edges  average_clustering  \\\n",
       "0       2         2   0.711111              704            0.746464   \n",
       "\n",
       "   avg_degree_centrality  avg_betweenness_centrality  \\\n",
       "0               0.711111                    0.006718   \n",
       "\n",
       "   avg_closeness_centrality  average_shortest_path_length  \n",
       "0                  0.781958                      1.288889  "
      ]
     },
     "execution_count": 95,
     "metadata": {},
     "output_type": "execute_result"
    }
   ],
   "source": [
    "nm.get_network_features(entropy_network_ThreeReg_pn_3_98_last100)"
   ]
  },
  {
   "cell_type": "code",
   "execution_count": 96,
   "id": "38eae3e2-2e9b-47cc-aa78-f0a040a11d2e",
   "metadata": {},
   "outputs": [
    {
     "data": {
      "text/plain": [
       "array({'KanehayeFelezi': 16, 'FelezateAsasi': 19, 'M2': 21, 'USD': 23, 'Coin': 26, 'ChandReshteSanati': 27, 'Siman': 27, 'Shimiyaee': 28, 'M1': 28, 'GhandVaShekar': 28, 'index': 29, 'CPI': 29, 'Daroee': 29, 'Euro': 29, 'MashinAlat': 29, 'paper': 29, 'GDP': 30, 'Gold': 30, 'Rayaneh': 30, 'MahsolateFelezi': 30, 'Wood': 30, 'DastgahayeBargi': 31, 'Lastic': 31, 'EntesharVaChap': 32, 'GazaeeBejozGhand': 32, 'SayerMadan': 33, 'Mansojat': 33, 'SayerMali': 33, 'CoalMining': 33, 'FaravardehayeNafti': 34, 'HamlVaNaghl': 34, 'KashiVaSeramik': 35, 'Agriculture': 35, 'FaniVaMohandesi': 35, 'Brent Oil': 36, 'VasayelErtebati': 36, 'KanehayeGeyreFelezi': 36, 'Bank': 36, 'Mali': 36, 'EstekrajeNaft': 36, 'khodrosazi': 37, 'HOUSE': 39, 'SarmayeGozari': 39, 'Amlakva': 39, 'Bimeh': 40},\n",
       "      dtype=object)"
      ]
     },
     "execution_count": 96,
     "metadata": {},
     "output_type": "execute_result"
    }
   ],
   "source": [
    "b42_3 = dict(nx.degree(entropy_network_ThreeReg_pn_3_98_last100))\n",
    "b42_3 = np.array(dict(sorted(b42_3.items(), key=lambda item: item[1])))\n",
    "b42_3"
   ]
  },
  {
   "cell_type": "code",
   "execution_count": 97,
   "id": "0d34d206-8380-4e61-abfa-f773c9228356",
   "metadata": {},
   "outputs": [],
   "source": [
    "nm.get_network_features(entropy_network_ThreeReg_pn_3_98_last100).to_csv('Excels/42_3.csv')"
   ]
  },
  {
   "cell_type": "markdown",
   "id": "c16fab71-5c6f-4989-84d2-d2cceccd01a2",
   "metadata": {},
   "source": [
    "# 43) Tehran 3 pn Regime Entropy (Based on Median Threshold) Period of 90 Far - 98 Dey/ 50 windows of 100 Records"
   ]
  },
  {
   "cell_type": "code",
   "execution_count": 12,
   "id": "af9a8b04-a3e5-4dee-90f7-9001742b1918",
   "metadata": {
    "tags": []
   },
   "outputs": [
    {
     "name": "stderr",
     "output_type": "stream",
     "text": [
      "/Users/hossein4527/MEGA/MEGAsync/Commit/Neda_PhD/neda_sep2023/Time_Series_Trend_Forcasting/Codes/Shifted DF by Lags/ned.py:1106: SettingWithCopyWarning: \n",
      "A value is trying to be set on a copy of a slice from a DataFrame.\n",
      "Try using .loc[row_indexer,col_indexer] = value instead\n",
      "\n",
      "See the caveats in the documentation: https://pandas.pydata.org/pandas-docs/stable/user_guide/indexing.html#returning-a-view-versus-a-copy\n",
      "  df['selected_regimes'] = regimes_column\n"
     ]
    },
    {
     "name": "stdout",
     "output_type": "stream",
     "text": [
      "Number of columns data in our DataFrame is = 46\n",
      "fixed_thr= 0.033595564107661756\n"
     ]
    }
   ],
   "source": [
    "nm = Net_moduls()\n",
    "entropy_network_ThreeReg_pn_1_98_averged = \\\n",
    "nm.get_network_features_averaged_median(\\\n",
    "                                        tehran_df, \\\n",
    "                                        regimes_column = tehran_df_reg.iloc[:-300]['3_PN'],\\\n",
    "                                        method='entropy',\\\n",
    "                                        edges_threshold=200, \\\n",
    "                                        target_window=100, \\\n",
    "                                        target_length=50\\\n",
    "                                       )\n",
    "\n",
    "\n",
    "\n"
   ]
  },
  {
   "cell_type": "code",
   "execution_count": 13,
   "id": "26308667-3f2d-4a90-acf6-437b0cf7b153",
   "metadata": {},
   "outputs": [
    {
     "data": {
      "text/html": [
       "<div>\n",
       "<style scoped>\n",
       "    .dataframe tbody tr th:only-of-type {\n",
       "        vertical-align: middle;\n",
       "    }\n",
       "\n",
       "    .dataframe tbody tr th {\n",
       "        vertical-align: top;\n",
       "    }\n",
       "\n",
       "    .dataframe thead th {\n",
       "        text-align: right;\n",
       "    }\n",
       "</style>\n",
       "<table border=\"1\" class=\"dataframe\">\n",
       "  <thead>\n",
       "    <tr style=\"text-align: right;\">\n",
       "      <th></th>\n",
       "      <th>radius</th>\n",
       "      <th>diameter</th>\n",
       "      <th>densities</th>\n",
       "      <th>number_of_edges</th>\n",
       "      <th>average_clustering</th>\n",
       "      <th>avg_degree_centrality</th>\n",
       "      <th>avg_betweenness_centrality</th>\n",
       "      <th>avg_closeness_centrality</th>\n",
       "      <th>average_shortest_path_length</th>\n",
       "    </tr>\n",
       "  </thead>\n",
       "  <tbody>\n",
       "    <tr>\n",
       "      <th>Means</th>\n",
       "      <td>2.0</td>\n",
       "      <td>2.100000</td>\n",
       "      <td>0.611859</td>\n",
       "      <td>605.740000</td>\n",
       "      <td>0.679930</td>\n",
       "      <td>0.611859</td>\n",
       "      <td>0.009030</td>\n",
       "      <td>0.729035</td>\n",
       "      <td>1.388303</td>\n",
       "    </tr>\n",
       "    <tr>\n",
       "      <th>STDs</th>\n",
       "      <td>0.0</td>\n",
       "      <td>0.303046</td>\n",
       "      <td>0.042273</td>\n",
       "      <td>41.849980</td>\n",
       "      <td>0.039241</td>\n",
       "      <td>0.042273</td>\n",
       "      <td>0.000985</td>\n",
       "      <td>0.023388</td>\n",
       "      <td>0.042371</td>\n",
       "    </tr>\n",
       "    <tr>\n",
       "      <th>Means</th>\n",
       "      <td>2.0</td>\n",
       "      <td>2.200000</td>\n",
       "      <td>0.585005</td>\n",
       "      <td>605.480000</td>\n",
       "      <td>0.655782</td>\n",
       "      <td>0.585005</td>\n",
       "      <td>0.009437</td>\n",
       "      <td>0.712997</td>\n",
       "      <td>1.415208</td>\n",
       "    </tr>\n",
       "    <tr>\n",
       "      <th>STDs</th>\n",
       "      <td>0.0</td>\n",
       "      <td>0.404061</td>\n",
       "      <td>0.040843</td>\n",
       "      <td>42.272314</td>\n",
       "      <td>0.032560</td>\n",
       "      <td>0.040843</td>\n",
       "      <td>0.000932</td>\n",
       "      <td>0.020887</td>\n",
       "      <td>0.040996</td>\n",
       "    </tr>\n",
       "    <tr>\n",
       "      <th>Means</th>\n",
       "      <td>2.0</td>\n",
       "      <td>2.580000</td>\n",
       "      <td>0.443111</td>\n",
       "      <td>438.680000</td>\n",
       "      <td>0.542574</td>\n",
       "      <td>0.443111</td>\n",
       "      <td>0.013021</td>\n",
       "      <td>0.646976</td>\n",
       "      <td>1.559919</td>\n",
       "    </tr>\n",
       "    <tr>\n",
       "      <th>STDs</th>\n",
       "      <td>0.0</td>\n",
       "      <td>0.498569</td>\n",
       "      <td>0.037595</td>\n",
       "      <td>37.218845</td>\n",
       "      <td>0.019827</td>\n",
       "      <td>0.037595</td>\n",
       "      <td>0.000943</td>\n",
       "      <td>0.016108</td>\n",
       "      <td>0.040559</td>\n",
       "    </tr>\n",
       "  </tbody>\n",
       "</table>\n",
       "</div>"
      ],
      "text/plain": [
       "       radius  diameter  densities  number_of_edges  average_clustering  \\\n",
       "Means     2.0  2.100000   0.611859       605.740000            0.679930   \n",
       "STDs      0.0  0.303046   0.042273        41.849980            0.039241   \n",
       "Means     2.0  2.200000   0.585005       605.480000            0.655782   \n",
       "STDs      0.0  0.404061   0.040843        42.272314            0.032560   \n",
       "Means     2.0  2.580000   0.443111       438.680000            0.542574   \n",
       "STDs      0.0  0.498569   0.037595        37.218845            0.019827   \n",
       "\n",
       "       avg_degree_centrality  avg_betweenness_centrality  \\\n",
       "Means               0.611859                    0.009030   \n",
       "STDs                0.042273                    0.000985   \n",
       "Means               0.585005                    0.009437   \n",
       "STDs                0.040843                    0.000932   \n",
       "Means               0.443111                    0.013021   \n",
       "STDs                0.037595                    0.000943   \n",
       "\n",
       "       avg_closeness_centrality  average_shortest_path_length  \n",
       "Means                  0.729035                      1.388303  \n",
       "STDs                   0.023388                      0.042371  \n",
       "Means                  0.712997                      1.415208  \n",
       "STDs                   0.020887                      0.040996  \n",
       "Means                  0.646976                      1.559919  \n",
       "STDs                   0.016108                      0.040559  "
      ]
     },
     "execution_count": 13,
     "metadata": {},
     "output_type": "execute_result"
    }
   ],
   "source": [
    "entropy_network_ThreeReg_pn_1_98_averged"
   ]
  },
  {
   "cell_type": "code",
   "execution_count": 14,
   "id": "707a7595-935f-4760-95c1-531e9e9f0cdd",
   "metadata": {},
   "outputs": [],
   "source": [
    "entropy_network_ThreeReg_pn_1_98_averged.to_csv('Excels/43.csv')"
   ]
  },
  {
   "cell_type": "markdown",
   "id": "4d1e48d3-494d-41e4-866f-913ad40cf5a4",
   "metadata": {},
   "source": [
    "# 44) Tehran 3 pn Regime Entropy (Based on Median Threshold) Period of 90 Far - 00 Far/ 50 windows of 100 Records"
   ]
  },
  {
   "cell_type": "code",
   "execution_count": 15,
   "id": "e0ffedbd-3d15-4f87-aa07-e962a38db2c3",
   "metadata": {
    "tags": []
   },
   "outputs": [
    {
     "name": "stdout",
     "output_type": "stream",
     "text": [
      "Number of columns data in our DataFrame is = 46\n",
      "fixed_thr= 0.02388526435947844\n"
     ]
    }
   ],
   "source": [
    "nm = Net_moduls()\n",
    "entropy_network_ThreeReg_pn_90_00_averged = nm.get_network_features_averaged_median(tehran_df_completeDates, regimes_column= tehran_df_reg['3_PN'],method='entropy',edges_threshold=200, target_window=100, target_length=50)"
   ]
  },
  {
   "cell_type": "code",
   "execution_count": 16,
   "id": "c75c384d-a0c9-4446-9da9-032f0c547e91",
   "metadata": {},
   "outputs": [
    {
     "data": {
      "text/html": [
       "<div>\n",
       "<style scoped>\n",
       "    .dataframe tbody tr th:only-of-type {\n",
       "        vertical-align: middle;\n",
       "    }\n",
       "\n",
       "    .dataframe tbody tr th {\n",
       "        vertical-align: top;\n",
       "    }\n",
       "\n",
       "    .dataframe thead th {\n",
       "        text-align: right;\n",
       "    }\n",
       "</style>\n",
       "<table border=\"1\" class=\"dataframe\">\n",
       "  <thead>\n",
       "    <tr style=\"text-align: right;\">\n",
       "      <th></th>\n",
       "      <th>radius</th>\n",
       "      <th>diameter</th>\n",
       "      <th>densities</th>\n",
       "      <th>number_of_edges</th>\n",
       "      <th>average_clustering</th>\n",
       "      <th>avg_degree_centrality</th>\n",
       "      <th>avg_betweenness_centrality</th>\n",
       "      <th>avg_closeness_centrality</th>\n",
       "      <th>average_shortest_path_length</th>\n",
       "    </tr>\n",
       "  </thead>\n",
       "  <tbody>\n",
       "    <tr>\n",
       "      <th>Means</th>\n",
       "      <td>2.000000</td>\n",
       "      <td>2.0</td>\n",
       "      <td>0.716560</td>\n",
       "      <td>741.640000</td>\n",
       "      <td>0.759327</td>\n",
       "      <td>0.716560</td>\n",
       "      <td>0.006442</td>\n",
       "      <td>0.786134</td>\n",
       "      <td>1.283440</td>\n",
       "    </tr>\n",
       "    <tr>\n",
       "      <th>STDs</th>\n",
       "      <td>0.000000</td>\n",
       "      <td>0.0</td>\n",
       "      <td>0.026276</td>\n",
       "      <td>27.196008</td>\n",
       "      <td>0.025798</td>\n",
       "      <td>0.026276</td>\n",
       "      <td>0.000597</td>\n",
       "      <td>0.016396</td>\n",
       "      <td>0.026276</td>\n",
       "    </tr>\n",
       "    <tr>\n",
       "      <th>Means</th>\n",
       "      <td>1.980000</td>\n",
       "      <td>2.0</td>\n",
       "      <td>0.792541</td>\n",
       "      <td>820.280000</td>\n",
       "      <td>0.816797</td>\n",
       "      <td>0.792541</td>\n",
       "      <td>0.004715</td>\n",
       "      <td>0.834394</td>\n",
       "      <td>1.207459</td>\n",
       "    </tr>\n",
       "    <tr>\n",
       "      <th>STDs</th>\n",
       "      <td>0.141421</td>\n",
       "      <td>0.0</td>\n",
       "      <td>0.039423</td>\n",
       "      <td>40.802681</td>\n",
       "      <td>0.032412</td>\n",
       "      <td>0.039423</td>\n",
       "      <td>0.000896</td>\n",
       "      <td>0.026226</td>\n",
       "      <td>0.039423</td>\n",
       "    </tr>\n",
       "    <tr>\n",
       "      <th>Means</th>\n",
       "      <td>2.000000</td>\n",
       "      <td>2.0</td>\n",
       "      <td>0.686242</td>\n",
       "      <td>679.380000</td>\n",
       "      <td>0.724671</td>\n",
       "      <td>0.686242</td>\n",
       "      <td>0.007297</td>\n",
       "      <td>0.767982</td>\n",
       "      <td>1.313758</td>\n",
       "    </tr>\n",
       "    <tr>\n",
       "      <th>STDs</th>\n",
       "      <td>0.000000</td>\n",
       "      <td>0.0</td>\n",
       "      <td>0.029404</td>\n",
       "      <td>29.109848</td>\n",
       "      <td>0.016484</td>\n",
       "      <td>0.029404</td>\n",
       "      <td>0.000684</td>\n",
       "      <td>0.015902</td>\n",
       "      <td>0.029404</td>\n",
       "    </tr>\n",
       "  </tbody>\n",
       "</table>\n",
       "</div>"
      ],
      "text/plain": [
       "         radius  diameter  densities  number_of_edges  average_clustering  \\\n",
       "Means  2.000000       2.0   0.716560       741.640000            0.759327   \n",
       "STDs   0.000000       0.0   0.026276        27.196008            0.025798   \n",
       "Means  1.980000       2.0   0.792541       820.280000            0.816797   \n",
       "STDs   0.141421       0.0   0.039423        40.802681            0.032412   \n",
       "Means  2.000000       2.0   0.686242       679.380000            0.724671   \n",
       "STDs   0.000000       0.0   0.029404        29.109848            0.016484   \n",
       "\n",
       "       avg_degree_centrality  avg_betweenness_centrality  \\\n",
       "Means               0.716560                    0.006442   \n",
       "STDs                0.026276                    0.000597   \n",
       "Means               0.792541                    0.004715   \n",
       "STDs                0.039423                    0.000896   \n",
       "Means               0.686242                    0.007297   \n",
       "STDs                0.029404                    0.000684   \n",
       "\n",
       "       avg_closeness_centrality  average_shortest_path_length  \n",
       "Means                  0.786134                      1.283440  \n",
       "STDs                   0.016396                      0.026276  \n",
       "Means                  0.834394                      1.207459  \n",
       "STDs                   0.026226                      0.039423  \n",
       "Means                  0.767982                      1.313758  \n",
       "STDs                   0.015902                      0.029404  "
      ]
     },
     "execution_count": 16,
     "metadata": {},
     "output_type": "execute_result"
    }
   ],
   "source": [
    "entropy_network_ThreeReg_pn_90_00_averged"
   ]
  },
  {
   "cell_type": "code",
   "execution_count": 17,
   "id": "9076ade2-15e2-4f77-a9af-6b94ff383189",
   "metadata": {},
   "outputs": [],
   "source": [
    "entropy_network_ThreeReg_pn_90_00_averged.to_csv('Excels/44.csv')"
   ]
  },
  {
   "cell_type": "markdown",
   "id": "3e65970a-bd63-4a5d-a02c-09500d2b1f6f",
   "metadata": {},
   "source": [
    "# 45) Tehran 3 pn Regime Crossed (Based on Median Threshold) Period of 90 Far - 98 Dey"
   ]
  },
  {
   "cell_type": "code",
   "execution_count": 16,
   "id": "474e6562-58cf-4455-85ab-d75284de699f",
   "metadata": {},
   "outputs": [],
   "source": [
    "nm = Net_moduls()"
   ]
  },
  {
   "cell_type": "code",
   "execution_count": 17,
   "id": "80b2fbe3-1971-4d58-9a99-099acb373037",
   "metadata": {},
   "outputs": [],
   "source": [
    "thr45_1 = nm.find_median_crossed_100_threshold(tehran_df_ThreeReg_pn_1_same_length_98)\n",
    "thr45_2 = nm.find_median_crossed_100_threshold(tehran_df_ThreeReg_pn_2_same_length_98)\n",
    "thr45_3 = nm.find_median_crossed_100_threshold(tehran_df_ThreeReg_pn_3_same_length_98)\n",
    "\n",
    "thr45 = min(thr45_1, thr45_2, thr45_3)"
   ]
  },
  {
   "cell_type": "code",
   "execution_count": 18,
   "id": "a8bec3a0-70f1-4290-a09c-754f194edac4",
   "metadata": {},
   "outputs": [],
   "source": [
    "crossed_network_ThreeReg_pn_1_98 = nm.construct_network(tehran_df_ThreeReg_pn_1_same_length_98, method='crossed_100', threshold=thr45)"
   ]
  },
  {
   "cell_type": "code",
   "execution_count": 19,
   "id": "4c45c774-d084-480f-b2c6-e16d7fb45d76",
   "metadata": {},
   "outputs": [
    {
     "data": {
      "text/html": [
       "<div>\n",
       "<style scoped>\n",
       "    .dataframe tbody tr th:only-of-type {\n",
       "        vertical-align: middle;\n",
       "    }\n",
       "\n",
       "    .dataframe tbody tr th {\n",
       "        vertical-align: top;\n",
       "    }\n",
       "\n",
       "    .dataframe thead th {\n",
       "        text-align: right;\n",
       "    }\n",
       "</style>\n",
       "<table border=\"1\" class=\"dataframe\">\n",
       "  <thead>\n",
       "    <tr style=\"text-align: right;\">\n",
       "      <th></th>\n",
       "      <th>radius</th>\n",
       "      <th>diameter</th>\n",
       "      <th>densities</th>\n",
       "      <th>number_of_edges</th>\n",
       "      <th>average_clustering</th>\n",
       "      <th>avg_degree_centrality</th>\n",
       "      <th>avg_betweenness_centrality</th>\n",
       "      <th>avg_closeness_centrality</th>\n",
       "      <th>average_shortest_path_length</th>\n",
       "    </tr>\n",
       "  </thead>\n",
       "  <tbody>\n",
       "    <tr>\n",
       "      <th>0</th>\n",
       "      <td>1</td>\n",
       "      <td>2</td>\n",
       "      <td>0.278261</td>\n",
       "      <td>288</td>\n",
       "      <td>0.450682</td>\n",
       "      <td>0.278261</td>\n",
       "      <td>0.016403</td>\n",
       "      <td>0.590672</td>\n",
       "      <td>1.721739</td>\n",
       "    </tr>\n",
       "  </tbody>\n",
       "</table>\n",
       "</div>"
      ],
      "text/plain": [
       "   radius  diameter  densities  number_of_edges  average_clustering  \\\n",
       "0       1         2   0.278261              288            0.450682   \n",
       "\n",
       "   avg_degree_centrality  avg_betweenness_centrality  \\\n",
       "0               0.278261                    0.016403   \n",
       "\n",
       "   avg_closeness_centrality  average_shortest_path_length  \n",
       "0                  0.590672                      1.721739  "
      ]
     },
     "execution_count": 19,
     "metadata": {},
     "output_type": "execute_result"
    }
   ],
   "source": [
    "nm.get_network_features(crossed_network_ThreeReg_pn_1_98)"
   ]
  },
  {
   "cell_type": "code",
   "execution_count": 20,
   "id": "c078b297-eccd-4c30-a1c3-85a826118f93",
   "metadata": {},
   "outputs": [
    {
     "data": {
      "text/plain": [
       "array({'GDP': 3, 'Lastic': 5, 'Rayaneh': 5, 'Wood': 6, 'SayerMadan': 6, 'EstekrajeNaft': 6, 'MahsolateFelezi': 6, 'HamlVaNaghl': 6, 'index': 7, 'KanehayeGeyreFelezi': 7, 'FaniVaMohandesi': 7, 'Daroee': 7, 'Siman': 7, 'Bimeh': 7, 'CoalMining': 7, 'ChandReshteSanati': 7, 'Shimiyaee': 8, 'KashiVaSeramik': 8, 'KanehayeFelezi': 8, 'MashinAlat': 8, 'khodrosazi': 8, 'FelezateAsasi': 9, 'Bank': 9, 'Mali': 9, 'Amlakva': 9, 'Agriculture': 10, 'GhandVaShekar': 10, 'SarmayeGozari': 10, 'SayerMali': 10, 'VasayelErtebati': 11, 'GazaeeBejozGhand': 11, 'EntesharVaChap': 12, 'DastgahayeBargi': 14, 'USD': 14, 'paper': 15, 'FaravardehayeNafti': 15, 'Mansojat': 16, 'Euro': 19, 'Coin': 22, 'Gold': 23, 'Brent Oil': 24, 'M2': 26, 'M1': 30, 'CPI': 31, 'HOUSE': 33, 'AbzaralatePezeshki': 45},\n",
       "      dtype=object)"
      ]
     },
     "execution_count": 20,
     "metadata": {},
     "output_type": "execute_result"
    }
   ],
   "source": [
    "b45_1 = dict(nx.degree(crossed_network_ThreeReg_pn_1_98))\n",
    "b45_1 = np.array(dict(sorted(b45_1.items(), key=lambda item: item[1])))\n",
    "b45_1"
   ]
  },
  {
   "cell_type": "code",
   "execution_count": 21,
   "id": "17980945-a3a4-4587-9987-def87d480392",
   "metadata": {},
   "outputs": [],
   "source": [
    "nm.get_network_features(crossed_network_ThreeReg_pn_1_98).to_csv('Excels/45_1.csv')"
   ]
  },
  {
   "cell_type": "code",
   "execution_count": 22,
   "id": "258ed4b1-c03f-44f0-9196-5f49fb788db9",
   "metadata": {},
   "outputs": [],
   "source": [
    "crossed_network_ThreeReg_pn_2_98 = nm.construct_network(tehran_df_ThreeReg_pn_2_same_length_98, method='crossed_100', threshold=thr45)"
   ]
  },
  {
   "cell_type": "code",
   "execution_count": 23,
   "id": "302009cd-e9db-4ce2-ac99-2bcc06d2d36c",
   "metadata": {},
   "outputs": [
    {
     "data": {
      "text/html": [
       "<div>\n",
       "<style scoped>\n",
       "    .dataframe tbody tr th:only-of-type {\n",
       "        vertical-align: middle;\n",
       "    }\n",
       "\n",
       "    .dataframe tbody tr th {\n",
       "        vertical-align: top;\n",
       "    }\n",
       "\n",
       "    .dataframe thead th {\n",
       "        text-align: right;\n",
       "    }\n",
       "</style>\n",
       "<table border=\"1\" class=\"dataframe\">\n",
       "  <thead>\n",
       "    <tr style=\"text-align: right;\">\n",
       "      <th></th>\n",
       "      <th>radius</th>\n",
       "      <th>diameter</th>\n",
       "      <th>densities</th>\n",
       "      <th>number_of_edges</th>\n",
       "      <th>average_clustering</th>\n",
       "      <th>avg_degree_centrality</th>\n",
       "      <th>avg_betweenness_centrality</th>\n",
       "      <th>avg_closeness_centrality</th>\n",
       "      <th>average_shortest_path_length</th>\n",
       "    </tr>\n",
       "  </thead>\n",
       "  <tbody>\n",
       "    <tr>\n",
       "      <th>0</th>\n",
       "      <td>2</td>\n",
       "      <td>3</td>\n",
       "      <td>0.32657</td>\n",
       "      <td>338</td>\n",
       "      <td>0.346683</td>\n",
       "      <td>0.32657</td>\n",
       "      <td>0.015525</td>\n",
       "      <td>0.59801</td>\n",
       "      <td>1.683092</td>\n",
       "    </tr>\n",
       "  </tbody>\n",
       "</table>\n",
       "</div>"
      ],
      "text/plain": [
       "   radius  diameter  densities  number_of_edges  average_clustering  \\\n",
       "0       2         3    0.32657              338            0.346683   \n",
       "\n",
       "   avg_degree_centrality  avg_betweenness_centrality  \\\n",
       "0                0.32657                    0.015525   \n",
       "\n",
       "   avg_closeness_centrality  average_shortest_path_length  \n",
       "0                   0.59801                      1.683092  "
      ]
     },
     "execution_count": 23,
     "metadata": {},
     "output_type": "execute_result"
    }
   ],
   "source": [
    "nm.get_network_features(crossed_network_ThreeReg_pn_2_98)"
   ]
  },
  {
   "cell_type": "code",
   "execution_count": 24,
   "id": "8fcff59d-1ffc-4baa-9247-07480b8cee4d",
   "metadata": {},
   "outputs": [
    {
     "data": {
      "text/plain": [
       "array({'MashinAlat': 8, 'Daroee': 8, 'KashiVaSeramik': 8, 'index': 9, 'Euro': 9, 'Bank': 9, 'FelezateAsasi': 10, 'khodrosazi': 10, 'Mali': 10, 'EstekrajeNaft': 10, 'DastgahayeBargi': 10, 'Bimeh': 10, 'Siman': 11, 'SayerMali': 11, 'FaniVaMohandesi': 11, 'Mansojat': 11, 'Wood': 11, 'Agriculture': 12, 'Shimiyaee': 12, 'SarmayeGozari': 12, 'FaravardehayeNafti': 13, 'GazaeeBejozGhand': 13, 'Amlakva': 13, 'MahsolateFelezi': 13, 'KanehayeGeyreFelezi': 14, 'KanehayeFelezi': 14, 'GhandVaShekar': 14, 'USD': 15, 'HamlVaNaghl': 15, 'EntesharVaChap': 15, 'ChandReshteSanati': 16, 'VasayelErtebati': 16, 'Rayaneh': 16, 'paper': 17, 'CoalMining': 18, 'CPI': 19, 'M2': 19, 'SayerMadan': 20, 'Coin': 21, 'AbzaralatePezeshki': 21, 'Brent Oil': 23, 'Gold': 23, 'HOUSE': 25, 'GDP': 25, 'M1': 26, 'Lastic': 30},\n",
       "      dtype=object)"
      ]
     },
     "execution_count": 24,
     "metadata": {},
     "output_type": "execute_result"
    }
   ],
   "source": [
    "b45_2 = dict(nx.degree(crossed_network_ThreeReg_pn_2_98))\n",
    "b45_2 = np.array(dict(sorted(b45_2.items(), key=lambda item: item[1])))\n",
    "b45_2"
   ]
  },
  {
   "cell_type": "code",
   "execution_count": 25,
   "id": "1b7166fe-d9d7-44dd-b6c2-14ac4b63b64d",
   "metadata": {},
   "outputs": [],
   "source": [
    "nm.get_network_features(crossed_network_ThreeReg_pn_2_98).to_csv('Excels/45_2.csv')"
   ]
  },
  {
   "cell_type": "code",
   "execution_count": 26,
   "id": "6dc783ff-903c-4c6a-9c62-4aecca6111e6",
   "metadata": {},
   "outputs": [],
   "source": [
    "crossed_network_ThreeReg_pn_3_98 = nm.construct_network(tehran_df_ThreeReg_pn_3_same_length_98, method='crossed_100', threshold=thr45)"
   ]
  },
  {
   "cell_type": "code",
   "execution_count": 27,
   "id": "0c20c629-094f-4461-bd2f-6343e961125e",
   "metadata": {},
   "outputs": [
    {
     "data": {
      "text/html": [
       "<div>\n",
       "<style scoped>\n",
       "    .dataframe tbody tr th:only-of-type {\n",
       "        vertical-align: middle;\n",
       "    }\n",
       "\n",
       "    .dataframe tbody tr th {\n",
       "        vertical-align: top;\n",
       "    }\n",
       "\n",
       "    .dataframe thead th {\n",
       "        text-align: right;\n",
       "    }\n",
       "</style>\n",
       "<table border=\"1\" class=\"dataframe\">\n",
       "  <thead>\n",
       "    <tr style=\"text-align: right;\">\n",
       "      <th></th>\n",
       "      <th>radius</th>\n",
       "      <th>diameter</th>\n",
       "      <th>densities</th>\n",
       "      <th>number_of_edges</th>\n",
       "      <th>average_clustering</th>\n",
       "      <th>avg_degree_centrality</th>\n",
       "      <th>avg_betweenness_centrality</th>\n",
       "      <th>avg_closeness_centrality</th>\n",
       "      <th>average_shortest_path_length</th>\n",
       "    </tr>\n",
       "  </thead>\n",
       "  <tbody>\n",
       "    <tr>\n",
       "      <th>0</th>\n",
       "      <td>1</td>\n",
       "      <td>2</td>\n",
       "      <td>0.329469</td>\n",
       "      <td>341</td>\n",
       "      <td>0.456948</td>\n",
       "      <td>0.329469</td>\n",
       "      <td>0.015239</td>\n",
       "      <td>0.606747</td>\n",
       "      <td>1.670531</td>\n",
       "    </tr>\n",
       "  </tbody>\n",
       "</table>\n",
       "</div>"
      ],
      "text/plain": [
       "   radius  diameter  densities  number_of_edges  average_clustering  \\\n",
       "0       1         2   0.329469              341            0.456948   \n",
       "\n",
       "   avg_degree_centrality  avg_betweenness_centrality  \\\n",
       "0               0.329469                    0.015239   \n",
       "\n",
       "   avg_closeness_centrality  average_shortest_path_length  \n",
       "0                  0.606747                      1.670531  "
      ]
     },
     "execution_count": 27,
     "metadata": {},
     "output_type": "execute_result"
    }
   ],
   "source": [
    "nm.get_network_features(crossed_network_ThreeReg_pn_3_98)"
   ]
  },
  {
   "cell_type": "code",
   "execution_count": 28,
   "id": "da0ea5ae-943e-47f4-a8bd-bc9eecb116f6",
   "metadata": {},
   "outputs": [
    {
     "data": {
      "text/plain": [
       "array({'index': 4, 'SarmayeGozari': 6, 'GazaeeBejozGhand': 6, 'Shimiyaee': 6, 'Siman': 8, 'MahsolateFelezi': 9, 'KanehayeGeyreFelezi': 9, 'Bimeh': 9, 'Amlakva': 9, 'SayerMali': 9, 'ChandReshteSanati': 9, 'MashinAlat': 10, 'HamlVaNaghl': 10, 'KanehayeFelezi': 10, 'DastgahayeBargi': 10, 'Agriculture': 11, 'EntesharVaChap': 11, 'khodrosazi': 11, 'Daroee': 11, 'GhandVaShekar': 12, 'KashiVaSeramik': 12, 'Wood': 12, 'Gold': 13, 'CoalMining': 13, 'Mansojat': 13, 'Mali': 13, 'Lastic': 14, 'FelezateAsasi': 14, 'Bank': 14, 'paper': 15, 'FaniVaMohandesi': 15, 'Euro': 15, 'Rayaneh': 16, 'FaravardehayeNafti': 16, 'EstekrajeNaft': 17, 'USD': 19, 'VasayelErtebati': 21, 'HOUSE': 22, 'Brent Oil': 22, 'Coin': 23, 'CPI': 25, 'SayerMadan': 25, 'M1': 28, 'GDP': 29, 'M2': 31, 'AbzaralatePezeshki': 45},\n",
       "      dtype=object)"
      ]
     },
     "execution_count": 28,
     "metadata": {},
     "output_type": "execute_result"
    }
   ],
   "source": [
    "b45_3 = dict(nx.degree(crossed_network_ThreeReg_pn_3_98))\n",
    "b45_3 = np.array(dict(sorted(b45_3.items(), key=lambda item: item[1])))\n",
    "b45_3"
   ]
  },
  {
   "cell_type": "code",
   "execution_count": 29,
   "id": "bf173027-2b3d-4f21-9cbf-d59f65320555",
   "metadata": {},
   "outputs": [],
   "source": [
    "nm.get_network_features(crossed_network_ThreeReg_pn_3_98).to_csv('Excels/45_3.csv')"
   ]
  },
  {
   "cell_type": "markdown",
   "id": "338ea4d4-e438-434b-aa14-35226670453a",
   "metadata": {},
   "source": [
    "# 46) Tehran 3 pn Regime Crossed (Based on Median Threshold) Period of 90 Far - 00 Far"
   ]
  },
  {
   "cell_type": "code",
   "execution_count": 44,
   "id": "7d607077-4b09-47ac-a95c-f6bab37dd96f",
   "metadata": {},
   "outputs": [],
   "source": [
    "nm = Net_moduls()"
   ]
  },
  {
   "cell_type": "code",
   "execution_count": 45,
   "id": "1fd8fa4f-f656-4015-bf74-66ff5387da68",
   "metadata": {},
   "outputs": [],
   "source": [
    "thr46_1 = nm.find_median_crossed_100_threshold(tehran_df_ThreeReg_pn_1_same_length)\n",
    "thr46_2 = nm.find_median_crossed_100_threshold(tehran_df_ThreeReg_pn_2_same_length)\n",
    "thr46_3 = nm.find_median_crossed_100_threshold(tehran_df_ThreeReg_pn_3_same_length)\n",
    "\n",
    "thr46 = min(thr46_1, thr46_2, thr46_3)"
   ]
  },
  {
   "cell_type": "code",
   "execution_count": 46,
   "id": "baddcc8a-a3ac-42bb-87ba-31a5907d735f",
   "metadata": {},
   "outputs": [],
   "source": [
    "crossed_network_ThreeReg_pn_1 = nm.construct_network(tehran_df_ThreeReg_pn_1_same_length, method='crossed_100', threshold=thr46)"
   ]
  },
  {
   "cell_type": "code",
   "execution_count": 47,
   "id": "117da2a1-38ea-4250-b886-acd3c05f70ec",
   "metadata": {},
   "outputs": [
    {
     "data": {
      "text/html": [
       "<div>\n",
       "<style scoped>\n",
       "    .dataframe tbody tr th:only-of-type {\n",
       "        vertical-align: middle;\n",
       "    }\n",
       "\n",
       "    .dataframe tbody tr th {\n",
       "        vertical-align: top;\n",
       "    }\n",
       "\n",
       "    .dataframe thead th {\n",
       "        text-align: right;\n",
       "    }\n",
       "</style>\n",
       "<table border=\"1\" class=\"dataframe\">\n",
       "  <thead>\n",
       "    <tr style=\"text-align: right;\">\n",
       "      <th></th>\n",
       "      <th>radius</th>\n",
       "      <th>diameter</th>\n",
       "      <th>densities</th>\n",
       "      <th>number_of_edges</th>\n",
       "      <th>average_clustering</th>\n",
       "      <th>avg_degree_centrality</th>\n",
       "      <th>avg_betweenness_centrality</th>\n",
       "      <th>avg_closeness_centrality</th>\n",
       "      <th>average_shortest_path_length</th>\n",
       "    </tr>\n",
       "  </thead>\n",
       "  <tbody>\n",
       "    <tr>\n",
       "      <th>0</th>\n",
       "      <td>2</td>\n",
       "      <td>3</td>\n",
       "      <td>0.308213</td>\n",
       "      <td>319</td>\n",
       "      <td>0.555451</td>\n",
       "      <td>0.308213</td>\n",
       "      <td>0.015744</td>\n",
       "      <td>0.600579</td>\n",
       "      <td>1.692754</td>\n",
       "    </tr>\n",
       "  </tbody>\n",
       "</table>\n",
       "</div>"
      ],
      "text/plain": [
       "   radius  diameter  densities  number_of_edges  average_clustering  \\\n",
       "0       2         3   0.308213              319            0.555451   \n",
       "\n",
       "   avg_degree_centrality  avg_betweenness_centrality  \\\n",
       "0               0.308213                    0.015744   \n",
       "\n",
       "   avg_closeness_centrality  average_shortest_path_length  \n",
       "0                  0.600579                      1.692754  "
      ]
     },
     "execution_count": 47,
     "metadata": {},
     "output_type": "execute_result"
    }
   ],
   "source": [
    "nm.get_network_features(crossed_network_ThreeReg_pn_1)"
   ]
  },
  {
   "cell_type": "code",
   "execution_count": 48,
   "id": "a5b69257-0532-47b1-b01e-07db236608c1",
   "metadata": {},
   "outputs": [
    {
     "data": {
      "text/plain": [
       "array({'Shimiyaee': 5, 'Amlakva': 5, 'FaravardehayeNafti': 6, 'khodrosazi': 7, 'KanehayeGeyreFelezi': 7, 'Agriculture': 7, 'VasayelErtebati': 7, 'Daroee': 7, 'Rayaneh': 7, 'Mali': 7, 'index': 8, 'Bank': 8, 'HamlVaNaghl': 8, 'MahsolateFelezi': 8, 'ChandReshteSanati': 8, 'GazaeeBejozGhand': 8, 'SayerMali': 8, 'paper': 9, 'FelezateAsasi': 9, 'MashinAlat': 9, 'Siman': 9, 'Bimeh': 9, 'SarmayeGozari': 9, 'CoalMining': 10, 'DastgahayeBargi': 10, 'KashiVaSeramik': 10, 'FaniVaMohandesi': 10, 'GhandVaShekar': 11, 'KanehayeFelezi': 12, 'Mansojat': 13, 'USD': 13, 'EstekrajeNaft': 14, 'Lastic': 16, 'Euro': 16, 'Coin': 19, 'M1': 21, 'Brent Oil': 22, 'M2': 23, 'SayerMadan': 24, 'Wood': 26, 'HOUSE': 27, 'AbzaralatePezeshki': 28, 'GDP': 30, 'EntesharVaChap': 33, 'Gold': 35, 'CPI': 40},\n",
       "      dtype=object)"
      ]
     },
     "execution_count": 48,
     "metadata": {},
     "output_type": "execute_result"
    }
   ],
   "source": [
    "b46_1 = dict(nx.degree(crossed_network_ThreeReg_pn_1))\n",
    "b46_1 = np.array(dict(sorted(b46_1.items(), key=lambda item: item[1])))\n",
    "b46_1"
   ]
  },
  {
   "cell_type": "code",
   "execution_count": 49,
   "id": "12f2eafb-910e-4ee4-b22b-a444ca4ca590",
   "metadata": {},
   "outputs": [],
   "source": [
    "nm.get_network_features(crossed_network_ThreeReg_pn_1).to_csv('Excels/46_1.csv')"
   ]
  },
  {
   "cell_type": "code",
   "execution_count": 50,
   "id": "5c17149a-6115-49a6-94af-f7e8e57861d6",
   "metadata": {},
   "outputs": [],
   "source": [
    "crossed_network_ThreeReg_pn_2 = nm.construct_network(tehran_df_ThreeReg_pn_2_same_length, method='crossed_100', threshold=thr46)"
   ]
  },
  {
   "cell_type": "code",
   "execution_count": 51,
   "id": "2ed21690-797a-49c0-ae73-2703dd0ce21c",
   "metadata": {},
   "outputs": [
    {
     "data": {
      "text/html": [
       "<div>\n",
       "<style scoped>\n",
       "    .dataframe tbody tr th:only-of-type {\n",
       "        vertical-align: middle;\n",
       "    }\n",
       "\n",
       "    .dataframe tbody tr th {\n",
       "        vertical-align: top;\n",
       "    }\n",
       "\n",
       "    .dataframe thead th {\n",
       "        text-align: right;\n",
       "    }\n",
       "</style>\n",
       "<table border=\"1\" class=\"dataframe\">\n",
       "  <thead>\n",
       "    <tr style=\"text-align: right;\">\n",
       "      <th></th>\n",
       "      <th>radius</th>\n",
       "      <th>diameter</th>\n",
       "      <th>densities</th>\n",
       "      <th>number_of_edges</th>\n",
       "      <th>average_clustering</th>\n",
       "      <th>avg_degree_centrality</th>\n",
       "      <th>avg_betweenness_centrality</th>\n",
       "      <th>avg_closeness_centrality</th>\n",
       "      <th>average_shortest_path_length</th>\n",
       "    </tr>\n",
       "  </thead>\n",
       "  <tbody>\n",
       "    <tr>\n",
       "      <th>0</th>\n",
       "      <td>2</td>\n",
       "      <td>2</td>\n",
       "      <td>0.382609</td>\n",
       "      <td>396</td>\n",
       "      <td>0.434412</td>\n",
       "      <td>0.382609</td>\n",
       "      <td>0.014032</td>\n",
       "      <td>0.623263</td>\n",
       "      <td>1.617391</td>\n",
       "    </tr>\n",
       "  </tbody>\n",
       "</table>\n",
       "</div>"
      ],
      "text/plain": [
       "   radius  diameter  densities  number_of_edges  average_clustering  \\\n",
       "0       2         2   0.382609              396            0.434412   \n",
       "\n",
       "   avg_degree_centrality  avg_betweenness_centrality  \\\n",
       "0               0.382609                    0.014032   \n",
       "\n",
       "   avg_closeness_centrality  average_shortest_path_length  \n",
       "0                  0.623263                      1.617391  "
      ]
     },
     "execution_count": 51,
     "metadata": {},
     "output_type": "execute_result"
    }
   ],
   "source": [
    "nm.get_network_features(crossed_network_ThreeReg_pn_2)"
   ]
  },
  {
   "cell_type": "code",
   "execution_count": 52,
   "id": "8ebb6ee3-3b70-4fdd-ae71-daa8dc440b6b",
   "metadata": {},
   "outputs": [
    {
     "data": {
      "text/plain": [
       "array({'khodrosazi': 8, 'Bank': 9, 'index': 10, 'Mali': 10, 'Bimeh': 10, 'SarmayeGozari': 11, 'FaniVaMohandesi': 11, 'MahsolateFelezi': 11, 'DastgahayeBargi': 11, 'Wood': 11, 'GazaeeBejozGhand': 12, 'SayerMali': 12, 'Amlakva': 12, 'FelezateAsasi': 13, 'Shimiyaee': 13, 'USD': 14, 'KanehayeGeyreFelezi': 14, 'MashinAlat': 14, 'Euro': 15, 'ChandReshteSanati': 15, 'Siman': 15, 'EntesharVaChap': 15, 'KashiVaSeramik': 15, 'Agriculture': 16, 'Daroee': 16, 'KanehayeFelezi': 16, 'paper': 16, 'HamlVaNaghl': 17, 'GhandVaShekar': 17, 'FaravardehayeNafti': 18, 'EstekrajeNaft': 19, 'M2': 20, 'Rayaneh': 21, 'CPI': 22, 'Mansojat': 22, 'VasayelErtebati': 22, 'M1': 23, 'SayerMadan': 24, 'AbzaralatePezeshki': 24, 'CoalMining': 24, 'Brent Oil': 26, 'GDP': 27, 'Coin': 28, 'HOUSE': 30, 'Gold': 30, 'Lastic': 33},\n",
       "      dtype=object)"
      ]
     },
     "execution_count": 52,
     "metadata": {},
     "output_type": "execute_result"
    }
   ],
   "source": [
    "b46_2 = dict(nx.degree(crossed_network_ThreeReg_pn_2))\n",
    "b46_2 = np.array(dict(sorted(b46_2.items(), key=lambda item: item[1])))\n",
    "b46_2"
   ]
  },
  {
   "cell_type": "code",
   "execution_count": 53,
   "id": "d5cbf2f1-f4da-40a6-a175-803b059adf1c",
   "metadata": {},
   "outputs": [],
   "source": [
    "nm.get_network_features(crossed_network_ThreeReg_pn_2).to_csv('Excels/46_2.csv')"
   ]
  },
  {
   "cell_type": "code",
   "execution_count": 54,
   "id": "ee8edfd8-2db7-4dc6-8592-308f391c676a",
   "metadata": {},
   "outputs": [],
   "source": [
    "crossed_network_ThreeReg_pn_3 = nm.construct_network(tehran_df_ThreeReg_pn_3_same_length, method='crossed_100', threshold=thr46)"
   ]
  },
  {
   "cell_type": "code",
   "execution_count": 55,
   "id": "f19051ca-4f3d-467f-b19d-c1d15068c2a6",
   "metadata": {},
   "outputs": [
    {
     "data": {
      "text/html": [
       "<div>\n",
       "<style scoped>\n",
       "    .dataframe tbody tr th:only-of-type {\n",
       "        vertical-align: middle;\n",
       "    }\n",
       "\n",
       "    .dataframe tbody tr th {\n",
       "        vertical-align: top;\n",
       "    }\n",
       "\n",
       "    .dataframe thead th {\n",
       "        text-align: right;\n",
       "    }\n",
       "</style>\n",
       "<table border=\"1\" class=\"dataframe\">\n",
       "  <thead>\n",
       "    <tr style=\"text-align: right;\">\n",
       "      <th></th>\n",
       "      <th>radius</th>\n",
       "      <th>diameter</th>\n",
       "      <th>densities</th>\n",
       "      <th>number_of_edges</th>\n",
       "      <th>average_clustering</th>\n",
       "      <th>avg_degree_centrality</th>\n",
       "      <th>avg_betweenness_centrality</th>\n",
       "      <th>avg_closeness_centrality</th>\n",
       "      <th>average_shortest_path_length</th>\n",
       "    </tr>\n",
       "  </thead>\n",
       "  <tbody>\n",
       "    <tr>\n",
       "      <th>0</th>\n",
       "      <td>1</td>\n",
       "      <td>2</td>\n",
       "      <td>0.355556</td>\n",
       "      <td>368</td>\n",
       "      <td>0.505865</td>\n",
       "      <td>0.355556</td>\n",
       "      <td>0.014646</td>\n",
       "      <td>0.620245</td>\n",
       "      <td>1.644444</td>\n",
       "    </tr>\n",
       "  </tbody>\n",
       "</table>\n",
       "</div>"
      ],
      "text/plain": [
       "   radius  diameter  densities  number_of_edges  average_clustering  \\\n",
       "0       1         2   0.355556              368            0.505865   \n",
       "\n",
       "   avg_degree_centrality  avg_betweenness_centrality  \\\n",
       "0               0.355556                    0.014646   \n",
       "\n",
       "   avg_closeness_centrality  average_shortest_path_length  \n",
       "0                  0.620245                      1.644444  "
      ]
     },
     "execution_count": 55,
     "metadata": {},
     "output_type": "execute_result"
    }
   ],
   "source": [
    "nm.get_network_features(crossed_network_ThreeReg_pn_3)"
   ]
  },
  {
   "cell_type": "code",
   "execution_count": 56,
   "id": "88dc7f04-4703-4494-a161-9c4ab681f105",
   "metadata": {},
   "outputs": [
    {
     "data": {
      "text/plain": [
       "array({'index': 7, 'KanehayeFelezi': 7, 'HamlVaNaghl': 7, 'Bank': 7, 'Mali': 7, 'Siman': 8, 'Shimiyaee': 8, 'ChandReshteSanati': 9, 'MashinAlat': 10, 'SarmayeGozari': 10, 'Bimeh': 10, 'GazaeeBejozGhand': 10, 'Agriculture': 11, 'MahsolateFelezi': 11, 'KanehayeGeyreFelezi': 11, 'CoalMining': 11, 'Daroee': 11, 'Amlakva': 11, 'Lastic': 12, 'khodrosazi': 12, 'SayerMali': 12, 'DastgahayeBargi': 12, 'Gold': 13, 'EstekrajeNaft': 13, 'KashiVaSeramik': 13, 'FaravardehayeNafti': 13, 'Wood': 14, 'paper': 14, 'EntesharVaChap': 14, 'GhandVaShekar': 14, 'Rayaneh': 14, 'FelezateAsasi': 14, 'VasayelErtebati': 15, 'FaniVaMohandesi': 16, 'Mansojat': 19, 'SayerMadan': 20, 'USD': 22, 'Coin': 25, 'Brent Oil': 26, 'Euro': 27, 'HOUSE': 30, 'GDP': 31, 'M1': 35, 'M2': 37, 'CPI': 38, 'AbzaralatePezeshki': 45},\n",
       "      dtype=object)"
      ]
     },
     "execution_count": 56,
     "metadata": {},
     "output_type": "execute_result"
    }
   ],
   "source": [
    "b46_3 = dict(nx.degree(crossed_network_ThreeReg_pn_3))\n",
    "b46_3 = np.array(dict(sorted(b46_3.items(), key=lambda item: item[1])))\n",
    "b46_3"
   ]
  },
  {
   "cell_type": "code",
   "execution_count": 57,
   "id": "69bab4fa-db87-4e91-b8da-2bb455121aae",
   "metadata": {},
   "outputs": [],
   "source": [
    "nm.get_network_features(crossed_network_ThreeReg_pn_3).to_csv('Excels/46_3.csv')"
   ]
  },
  {
   "cell_type": "markdown",
   "id": "3e773341-75d2-4d32-a0a2-1528de96a2d1",
   "metadata": {},
   "source": [
    "# 47) Tehran 3 pn Regime Crossed (Based on Median Threshold) Period of 90 Far - 98 Dey/ Last 100 Records"
   ]
  },
  {
   "cell_type": "code",
   "execution_count": 58,
   "id": "0d9574b8-df91-4f45-837e-1a9e213c5340",
   "metadata": {},
   "outputs": [],
   "source": [
    "thr47_1 = nm.find_median_crossed_100_threshold(tehran_df_ThreeReg_pn_1_same_length_98[-100:])\n",
    "thr47_2 = nm.find_median_crossed_100_threshold(tehran_df_ThreeReg_pn_2_same_length_98[-100:])\n",
    "thr47_3 = nm.find_median_crossed_100_threshold(tehran_df_ThreeReg_pn_3_same_length_98[-100:])\n",
    "\n",
    "thr47 = min(thr47_1, thr47_2, thr47_3)"
   ]
  },
  {
   "cell_type": "code",
   "execution_count": 59,
   "id": "8ab5ec55-0ef5-48f0-b55a-c2b4f89c497f",
   "metadata": {},
   "outputs": [],
   "source": [
    "crossed_network_ThreeReg_pn_1_98_last100 = nm.construct_network(tehran_df_ThreeReg_pn_1_same_length_98[-100:], method='crossed_100', threshold=thr47)"
   ]
  },
  {
   "cell_type": "code",
   "execution_count": 60,
   "id": "726a2015-b5f4-4084-8d1f-02c62b153911",
   "metadata": {},
   "outputs": [
    {
     "data": {
      "text/html": [
       "<div>\n",
       "<style scoped>\n",
       "    .dataframe tbody tr th:only-of-type {\n",
       "        vertical-align: middle;\n",
       "    }\n",
       "\n",
       "    .dataframe tbody tr th {\n",
       "        vertical-align: top;\n",
       "    }\n",
       "\n",
       "    .dataframe thead th {\n",
       "        text-align: right;\n",
       "    }\n",
       "</style>\n",
       "<table border=\"1\" class=\"dataframe\">\n",
       "  <thead>\n",
       "    <tr style=\"text-align: right;\">\n",
       "      <th></th>\n",
       "      <th>radius</th>\n",
       "      <th>diameter</th>\n",
       "      <th>densities</th>\n",
       "      <th>number_of_edges</th>\n",
       "      <th>average_clustering</th>\n",
       "      <th>avg_degree_centrality</th>\n",
       "      <th>avg_betweenness_centrality</th>\n",
       "      <th>avg_closeness_centrality</th>\n",
       "      <th>average_shortest_path_length</th>\n",
       "    </tr>\n",
       "  </thead>\n",
       "  <tbody>\n",
       "    <tr>\n",
       "      <th>0</th>\n",
       "      <td>1</td>\n",
       "      <td>2</td>\n",
       "      <td>0.258937</td>\n",
       "      <td>268</td>\n",
       "      <td>0.455059</td>\n",
       "      <td>0.258937</td>\n",
       "      <td>0.016842</td>\n",
       "      <td>0.582202</td>\n",
       "      <td>1.741063</td>\n",
       "    </tr>\n",
       "  </tbody>\n",
       "</table>\n",
       "</div>"
      ],
      "text/plain": [
       "   radius  diameter  densities  number_of_edges  average_clustering  \\\n",
       "0       1         2   0.258937              268            0.455059   \n",
       "\n",
       "   avg_degree_centrality  avg_betweenness_centrality  \\\n",
       "0               0.258937                    0.016842   \n",
       "\n",
       "   avg_closeness_centrality  average_shortest_path_length  \n",
       "0                  0.582202                      1.741063  "
      ]
     },
     "execution_count": 60,
     "metadata": {},
     "output_type": "execute_result"
    }
   ],
   "source": [
    "nm.get_network_features(crossed_network_ThreeReg_pn_1_98_last100)"
   ]
  },
  {
   "cell_type": "code",
   "execution_count": 61,
   "id": "f18970bc-e408-4203-8f89-e7f90b88eaba",
   "metadata": {},
   "outputs": [],
   "source": [
    "nm.get_network_features(crossed_network_ThreeReg_pn_1_98_last100).to_csv('Excels/47_1.csv')"
   ]
  },
  {
   "cell_type": "code",
   "execution_count": 62,
   "id": "381a4dc0-1436-4608-9dda-000b2a8af917",
   "metadata": {},
   "outputs": [],
   "source": [
    "crossed_network_ThreeReg_pn_2_98_last100 = nm.construct_network(tehran_df_ThreeReg_pn_2_same_length_98[-100:], method='crossed_100', threshold=thr47)"
   ]
  },
  {
   "cell_type": "code",
   "execution_count": 63,
   "id": "9e7694b7-4ec8-4c12-ab7c-81d586b55729",
   "metadata": {},
   "outputs": [
    {
     "data": {
      "text/html": [
       "<div>\n",
       "<style scoped>\n",
       "    .dataframe tbody tr th:only-of-type {\n",
       "        vertical-align: middle;\n",
       "    }\n",
       "\n",
       "    .dataframe tbody tr th {\n",
       "        vertical-align: top;\n",
       "    }\n",
       "\n",
       "    .dataframe thead th {\n",
       "        text-align: right;\n",
       "    }\n",
       "</style>\n",
       "<table border=\"1\" class=\"dataframe\">\n",
       "  <thead>\n",
       "    <tr style=\"text-align: right;\">\n",
       "      <th></th>\n",
       "      <th>radius</th>\n",
       "      <th>diameter</th>\n",
       "      <th>densities</th>\n",
       "      <th>number_of_edges</th>\n",
       "      <th>average_clustering</th>\n",
       "      <th>avg_degree_centrality</th>\n",
       "      <th>avg_betweenness_centrality</th>\n",
       "      <th>avg_closeness_centrality</th>\n",
       "      <th>average_shortest_path_length</th>\n",
       "    </tr>\n",
       "  </thead>\n",
       "  <tbody>\n",
       "    <tr>\n",
       "      <th>0</th>\n",
       "      <td>2</td>\n",
       "      <td>3</td>\n",
       "      <td>0.382609</td>\n",
       "      <td>396</td>\n",
       "      <td>0.408268</td>\n",
       "      <td>0.382609</td>\n",
       "      <td>0.014076</td>\n",
       "      <td>0.62153</td>\n",
       "      <td>1.619324</td>\n",
       "    </tr>\n",
       "  </tbody>\n",
       "</table>\n",
       "</div>"
      ],
      "text/plain": [
       "   radius  diameter  densities  number_of_edges  average_clustering  \\\n",
       "0       2         3   0.382609              396            0.408268   \n",
       "\n",
       "   avg_degree_centrality  avg_betweenness_centrality  \\\n",
       "0               0.382609                    0.014076   \n",
       "\n",
       "   avg_closeness_centrality  average_shortest_path_length  \n",
       "0                   0.62153                      1.619324  "
      ]
     },
     "execution_count": 63,
     "metadata": {},
     "output_type": "execute_result"
    }
   ],
   "source": [
    "nm.get_network_features(crossed_network_ThreeReg_pn_2_98_last100)"
   ]
  },
  {
   "cell_type": "code",
   "execution_count": 64,
   "id": "2aae1559-bcfa-4f8e-90c8-48bb5ec53cfb",
   "metadata": {},
   "outputs": [],
   "source": [
    "nm.get_network_features(crossed_network_ThreeReg_pn_2_98_last100).to_csv('Excels/47_2.csv')"
   ]
  },
  {
   "cell_type": "code",
   "execution_count": 65,
   "id": "409e0dc3-ad1e-43b8-afa6-5989e1d3f499",
   "metadata": {},
   "outputs": [],
   "source": [
    "crossed_network_ThreeReg_pn_3_98_last100 = nm.construct_network(tehran_df_ThreeReg_pn_3_same_length_98[-100:], method='crossed_100', threshold=thr47)"
   ]
  },
  {
   "cell_type": "code",
   "execution_count": 66,
   "id": "f46d1dc2-a1b7-4fa1-b88d-fc0975317837",
   "metadata": {},
   "outputs": [
    {
     "data": {
      "text/html": [
       "<div>\n",
       "<style scoped>\n",
       "    .dataframe tbody tr th:only-of-type {\n",
       "        vertical-align: middle;\n",
       "    }\n",
       "\n",
       "    .dataframe tbody tr th {\n",
       "        vertical-align: top;\n",
       "    }\n",
       "\n",
       "    .dataframe thead th {\n",
       "        text-align: right;\n",
       "    }\n",
       "</style>\n",
       "<table border=\"1\" class=\"dataframe\">\n",
       "  <thead>\n",
       "    <tr style=\"text-align: right;\">\n",
       "      <th></th>\n",
       "      <th>radius</th>\n",
       "      <th>diameter</th>\n",
       "      <th>densities</th>\n",
       "      <th>number_of_edges</th>\n",
       "      <th>average_clustering</th>\n",
       "      <th>avg_degree_centrality</th>\n",
       "      <th>avg_betweenness_centrality</th>\n",
       "      <th>avg_closeness_centrality</th>\n",
       "      <th>average_shortest_path_length</th>\n",
       "    </tr>\n",
       "  </thead>\n",
       "  <tbody>\n",
       "    <tr>\n",
       "      <th>0</th>\n",
       "      <td>1</td>\n",
       "      <td>2</td>\n",
       "      <td>0.361353</td>\n",
       "      <td>374</td>\n",
       "      <td>0.476778</td>\n",
       "      <td>0.361353</td>\n",
       "      <td>0.014515</td>\n",
       "      <td>0.619308</td>\n",
       "      <td>1.638647</td>\n",
       "    </tr>\n",
       "  </tbody>\n",
       "</table>\n",
       "</div>"
      ],
      "text/plain": [
       "   radius  diameter  densities  number_of_edges  average_clustering  \\\n",
       "0       1         2   0.361353              374            0.476778   \n",
       "\n",
       "   avg_degree_centrality  avg_betweenness_centrality  \\\n",
       "0               0.361353                    0.014515   \n",
       "\n",
       "   avg_closeness_centrality  average_shortest_path_length  \n",
       "0                  0.619308                      1.638647  "
      ]
     },
     "execution_count": 66,
     "metadata": {},
     "output_type": "execute_result"
    }
   ],
   "source": [
    "nm.get_network_features(crossed_network_ThreeReg_pn_3_98_last100)"
   ]
  },
  {
   "cell_type": "code",
   "execution_count": 67,
   "id": "97e1e92a-2429-4aca-a579-ca8cd33ba691",
   "metadata": {},
   "outputs": [],
   "source": [
    "nm.get_network_features(crossed_network_ThreeReg_pn_3_98_last100).to_csv('Excels/47_3.csv')"
   ]
  },
  {
   "cell_type": "markdown",
   "id": "2299759c-4c5f-4906-aba0-4760d366a142",
   "metadata": {},
   "source": [
    "# 48) Tehran 3 pn Regime Crossed (Based on Median Threshold) Period of 90 Far - 98 Dey/ 50 windows of 100 Records"
   ]
  },
  {
   "cell_type": "code",
   "execution_count": 68,
   "id": "a6756a26-601f-4dc9-a8fa-f32eeb34ee6c",
   "metadata": {
    "tags": []
   },
   "outputs": [
    {
     "name": "stderr",
     "output_type": "stream",
     "text": [
      "/Users/hossein4527/MEGA/MEGAsync/Commit/Neda_PhD/neda_sep2023/Time_Series_Trend_Forcasting/Codes/Shifted DF by Lags/ned.py:1106: SettingWithCopyWarning: \n",
      "A value is trying to be set on a copy of a slice from a DataFrame.\n",
      "Try using .loc[row_indexer,col_indexer] = value instead\n",
      "\n",
      "See the caveats in the documentation: https://pandas.pydata.org/pandas-docs/stable/user_guide/indexing.html#returning-a-view-versus-a-copy\n",
      "  df['selected_regimes'] = regimes_column\n"
     ]
    },
    {
     "name": "stdout",
     "output_type": "stream",
     "text": [
      "Number of columns data in our DataFrame is = 46\n",
      "fixed_thr= 0.56\n"
     ]
    }
   ],
   "source": [
    "nm = Net_moduls()\n",
    "crossed_network_ThreeReg_pn_1_98_averged = nm.get_network_features_averaged_median(tehran_df, regimes_column = tehran_df_reg['3_PN'],method='crossed_100',edges_threshold=200, target_window=100, target_length=50)"
   ]
  },
  {
   "cell_type": "code",
   "execution_count": 69,
   "id": "cf8228ac-629d-46e2-ae08-937beb416ef6",
   "metadata": {},
   "outputs": [
    {
     "data": {
      "text/html": [
       "<div>\n",
       "<style scoped>\n",
       "    .dataframe tbody tr th:only-of-type {\n",
       "        vertical-align: middle;\n",
       "    }\n",
       "\n",
       "    .dataframe tbody tr th {\n",
       "        vertical-align: top;\n",
       "    }\n",
       "\n",
       "    .dataframe thead th {\n",
       "        text-align: right;\n",
       "    }\n",
       "</style>\n",
       "<table border=\"1\" class=\"dataframe\">\n",
       "  <thead>\n",
       "    <tr style=\"text-align: right;\">\n",
       "      <th></th>\n",
       "      <th>radius</th>\n",
       "      <th>diameter</th>\n",
       "      <th>densities</th>\n",
       "      <th>number_of_edges</th>\n",
       "      <th>average_clustering</th>\n",
       "      <th>avg_degree_centrality</th>\n",
       "      <th>avg_betweenness_centrality</th>\n",
       "      <th>avg_closeness_centrality</th>\n",
       "      <th>average_shortest_path_length</th>\n",
       "    </tr>\n",
       "  </thead>\n",
       "  <tbody>\n",
       "    <tr>\n",
       "      <th>Means</th>\n",
       "      <td>1.0</td>\n",
       "      <td>2.000000</td>\n",
       "      <td>0.278242</td>\n",
       "      <td>287.980000</td>\n",
       "      <td>0.507773</td>\n",
       "      <td>0.278242</td>\n",
       "      <td>0.016404</td>\n",
       "      <td>0.590482</td>\n",
       "      <td>1.721758</td>\n",
       "    </tr>\n",
       "    <tr>\n",
       "      <th>STDs</th>\n",
       "      <td>0.0</td>\n",
       "      <td>0.000000</td>\n",
       "      <td>0.019343</td>\n",
       "      <td>20.019878</td>\n",
       "      <td>0.024659</td>\n",
       "      <td>0.019343</td>\n",
       "      <td>0.000440</td>\n",
       "      <td>0.006832</td>\n",
       "      <td>0.019343</td>\n",
       "    </tr>\n",
       "    <tr>\n",
       "      <th>Means</th>\n",
       "      <td>2.0</td>\n",
       "      <td>2.160000</td>\n",
       "      <td>0.406454</td>\n",
       "      <td>420.680000</td>\n",
       "      <td>0.456469</td>\n",
       "      <td>0.406454</td>\n",
       "      <td>0.013494</td>\n",
       "      <td>0.632764</td>\n",
       "      <td>1.593739</td>\n",
       "    </tr>\n",
       "    <tr>\n",
       "      <th>STDs</th>\n",
       "      <td>0.0</td>\n",
       "      <td>0.370328</td>\n",
       "      <td>0.020972</td>\n",
       "      <td>21.706239</td>\n",
       "      <td>0.018319</td>\n",
       "      <td>0.020972</td>\n",
       "      <td>0.000481</td>\n",
       "      <td>0.008516</td>\n",
       "      <td>0.021173</td>\n",
       "    </tr>\n",
       "    <tr>\n",
       "      <th>Means</th>\n",
       "      <td>1.0</td>\n",
       "      <td>2.000000</td>\n",
       "      <td>0.373314</td>\n",
       "      <td>386.380000</td>\n",
       "      <td>0.508217</td>\n",
       "      <td>0.373314</td>\n",
       "      <td>0.014243</td>\n",
       "      <td>0.624543</td>\n",
       "      <td>1.626686</td>\n",
       "    </tr>\n",
       "    <tr>\n",
       "      <th>STDs</th>\n",
       "      <td>0.0</td>\n",
       "      <td>0.000000</td>\n",
       "      <td>0.010493</td>\n",
       "      <td>10.860695</td>\n",
       "      <td>0.021167</td>\n",
       "      <td>0.010493</td>\n",
       "      <td>0.000238</td>\n",
       "      <td>0.004158</td>\n",
       "      <td>0.010493</td>\n",
       "    </tr>\n",
       "  </tbody>\n",
       "</table>\n",
       "</div>"
      ],
      "text/plain": [
       "       radius  diameter  densities  number_of_edges  average_clustering  \\\n",
       "Means     1.0  2.000000   0.278242       287.980000            0.507773   \n",
       "STDs      0.0  0.000000   0.019343        20.019878            0.024659   \n",
       "Means     2.0  2.160000   0.406454       420.680000            0.456469   \n",
       "STDs      0.0  0.370328   0.020972        21.706239            0.018319   \n",
       "Means     1.0  2.000000   0.373314       386.380000            0.508217   \n",
       "STDs      0.0  0.000000   0.010493        10.860695            0.021167   \n",
       "\n",
       "       avg_degree_centrality  avg_betweenness_centrality  \\\n",
       "Means               0.278242                    0.016404   \n",
       "STDs                0.019343                    0.000440   \n",
       "Means               0.406454                    0.013494   \n",
       "STDs                0.020972                    0.000481   \n",
       "Means               0.373314                    0.014243   \n",
       "STDs                0.010493                    0.000238   \n",
       "\n",
       "       avg_closeness_centrality  average_shortest_path_length  \n",
       "Means                  0.590482                      1.721758  \n",
       "STDs                   0.006832                      0.019343  \n",
       "Means                  0.632764                      1.593739  \n",
       "STDs                   0.008516                      0.021173  \n",
       "Means                  0.624543                      1.626686  \n",
       "STDs                   0.004158                      0.010493  "
      ]
     },
     "execution_count": 69,
     "metadata": {},
     "output_type": "execute_result"
    }
   ],
   "source": [
    "crossed_network_ThreeReg_pn_1_98_averged"
   ]
  },
  {
   "cell_type": "code",
   "execution_count": 72,
   "id": "25e980af-2a87-4b6c-86ec-a60096dcb1a4",
   "metadata": {},
   "outputs": [],
   "source": [
    "crossed_network_ThreeReg_pn_1_98_averged.to_csv('Excels/48.csv')"
   ]
  },
  {
   "cell_type": "markdown",
   "id": "544ab50a-9275-40d5-b448-40efa049401a",
   "metadata": {},
   "source": [
    "# 49) Tehran 3 pn Regime Crossed (Based on Median Threshold) Period of 90 Far - 00 Far/ 50 windows of 100 Records"
   ]
  },
  {
   "cell_type": "code",
   "execution_count": 70,
   "id": "c0111664-3bd6-4527-9401-4cf32eb80440",
   "metadata": {
    "tags": []
   },
   "outputs": [
    {
     "name": "stdout",
     "output_type": "stream",
     "text": [
      "Number of columns data in our DataFrame is = 46\n",
      "fixed_thr= 0.52\n"
     ]
    }
   ],
   "source": [
    "nm = Net_moduls()\n",
    "crossed_network_ThreeReg_pn_90_00_averged = nm.get_network_features_averaged_median(tehran_df_completeDates, regimes_column= tehran_df_reg['3_PN'],method='crossed_100',edges_threshold=200, target_window=100, target_length=50)"
   ]
  },
  {
   "cell_type": "code",
   "execution_count": 71,
   "id": "a5d17c74-4f6e-4274-abd7-9d663bdbe1d6",
   "metadata": {},
   "outputs": [
    {
     "data": {
      "text/html": [
       "<div>\n",
       "<style scoped>\n",
       "    .dataframe tbody tr th:only-of-type {\n",
       "        vertical-align: middle;\n",
       "    }\n",
       "\n",
       "    .dataframe tbody tr th {\n",
       "        vertical-align: top;\n",
       "    }\n",
       "\n",
       "    .dataframe thead th {\n",
       "        text-align: right;\n",
       "    }\n",
       "</style>\n",
       "<table border=\"1\" class=\"dataframe\">\n",
       "  <thead>\n",
       "    <tr style=\"text-align: right;\">\n",
       "      <th></th>\n",
       "      <th>radius</th>\n",
       "      <th>diameter</th>\n",
       "      <th>densities</th>\n",
       "      <th>number_of_edges</th>\n",
       "      <th>average_clustering</th>\n",
       "      <th>avg_degree_centrality</th>\n",
       "      <th>avg_betweenness_centrality</th>\n",
       "      <th>avg_closeness_centrality</th>\n",
       "      <th>average_shortest_path_length</th>\n",
       "    </tr>\n",
       "  </thead>\n",
       "  <tbody>\n",
       "    <tr>\n",
       "      <th>Means</th>\n",
       "      <td>1.980000</td>\n",
       "      <td>2.040000</td>\n",
       "      <td>0.344754</td>\n",
       "      <td>356.820000</td>\n",
       "      <td>0.546106</td>\n",
       "      <td>0.344754</td>\n",
       "      <td>0.014893</td>\n",
       "      <td>0.615168</td>\n",
       "      <td>1.655304</td>\n",
       "    </tr>\n",
       "    <tr>\n",
       "      <th>STDs</th>\n",
       "      <td>0.141421</td>\n",
       "      <td>0.197949</td>\n",
       "      <td>0.025272</td>\n",
       "      <td>26.156273</td>\n",
       "      <td>0.024382</td>\n",
       "      <td>0.025272</td>\n",
       "      <td>0.000575</td>\n",
       "      <td>0.010074</td>\n",
       "      <td>0.025303</td>\n",
       "    </tr>\n",
       "    <tr>\n",
       "      <th>Means</th>\n",
       "      <td>2.000000</td>\n",
       "      <td>2.140000</td>\n",
       "      <td>0.428251</td>\n",
       "      <td>443.240000</td>\n",
       "      <td>0.475164</td>\n",
       "      <td>0.428251</td>\n",
       "      <td>0.012998</td>\n",
       "      <td>0.641801</td>\n",
       "      <td>1.571923</td>\n",
       "    </tr>\n",
       "    <tr>\n",
       "      <th>STDs</th>\n",
       "      <td>0.000000</td>\n",
       "      <td>0.350510</td>\n",
       "      <td>0.020612</td>\n",
       "      <td>21.333656</td>\n",
       "      <td>0.020866</td>\n",
       "      <td>0.020612</td>\n",
       "      <td>0.000473</td>\n",
       "      <td>0.008674</td>\n",
       "      <td>0.020802</td>\n",
       "    </tr>\n",
       "    <tr>\n",
       "      <th>Means</th>\n",
       "      <td>1.000000</td>\n",
       "      <td>2.000000</td>\n",
       "      <td>0.393275</td>\n",
       "      <td>407.040000</td>\n",
       "      <td>0.541707</td>\n",
       "      <td>0.393275</td>\n",
       "      <td>0.013789</td>\n",
       "      <td>0.633969</td>\n",
       "      <td>1.606725</td>\n",
       "    </tr>\n",
       "    <tr>\n",
       "      <th>STDs</th>\n",
       "      <td>0.000000</td>\n",
       "      <td>0.000000</td>\n",
       "      <td>0.011301</td>\n",
       "      <td>11.696781</td>\n",
       "      <td>0.016979</td>\n",
       "      <td>0.011301</td>\n",
       "      <td>0.000257</td>\n",
       "      <td>0.004510</td>\n",
       "      <td>0.011301</td>\n",
       "    </tr>\n",
       "  </tbody>\n",
       "</table>\n",
       "</div>"
      ],
      "text/plain": [
       "         radius  diameter  densities  number_of_edges  average_clustering  \\\n",
       "Means  1.980000  2.040000   0.344754       356.820000            0.546106   \n",
       "STDs   0.141421  0.197949   0.025272        26.156273            0.024382   \n",
       "Means  2.000000  2.140000   0.428251       443.240000            0.475164   \n",
       "STDs   0.000000  0.350510   0.020612        21.333656            0.020866   \n",
       "Means  1.000000  2.000000   0.393275       407.040000            0.541707   \n",
       "STDs   0.000000  0.000000   0.011301        11.696781            0.016979   \n",
       "\n",
       "       avg_degree_centrality  avg_betweenness_centrality  \\\n",
       "Means               0.344754                    0.014893   \n",
       "STDs                0.025272                    0.000575   \n",
       "Means               0.428251                    0.012998   \n",
       "STDs                0.020612                    0.000473   \n",
       "Means               0.393275                    0.013789   \n",
       "STDs                0.011301                    0.000257   \n",
       "\n",
       "       avg_closeness_centrality  average_shortest_path_length  \n",
       "Means                  0.615168                      1.655304  \n",
       "STDs                   0.010074                      0.025303  \n",
       "Means                  0.641801                      1.571923  \n",
       "STDs                   0.008674                      0.020802  \n",
       "Means                  0.633969                      1.606725  \n",
       "STDs                   0.004510                      0.011301  "
      ]
     },
     "execution_count": 71,
     "metadata": {},
     "output_type": "execute_result"
    }
   ],
   "source": [
    "crossed_network_ThreeReg_pn_90_00_averged"
   ]
  },
  {
   "cell_type": "code",
   "execution_count": 73,
   "id": "bc97ff6a-f025-4949-a0ca-cb974c5dbc50",
   "metadata": {},
   "outputs": [],
   "source": [
    "crossed_network_ThreeReg_pn_90_00_averged.to_csv('Excels/49.csv')"
   ]
  },
  {
   "cell_type": "code",
   "execution_count": null,
   "id": "2aaf9c5c-117c-439c-baf5-8e1a733b6825",
   "metadata": {},
   "outputs": [],
   "source": []
  }
 ],
 "metadata": {
  "kernelspec": {
   "display_name": "Python 3 (ipykernel)",
   "language": "python",
   "name": "python3"
  },
  "language_info": {
   "codemirror_mode": {
    "name": "ipython",
    "version": 3
   },
   "file_extension": ".py",
   "mimetype": "text/x-python",
   "name": "python",
   "nbconvert_exporter": "python",
   "pygments_lexer": "ipython3",
   "version": "3.11.0"
  }
 },
 "nbformat": 4,
 "nbformat_minor": 5
}
