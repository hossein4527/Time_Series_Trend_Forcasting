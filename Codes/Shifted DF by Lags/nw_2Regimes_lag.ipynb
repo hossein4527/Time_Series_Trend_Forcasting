{
 "cells": [
  {
   "cell_type": "code",
   "execution_count": 1,
   "id": "9df9b137-c106-48b0-bec0-f8310cf49fe6",
   "metadata": {},
   "outputs": [],
   "source": [
    "from ned import Net_moduls\n",
    "import networkx as nx\n",
    "import numpy as np\n",
    "import pandas as pd\n",
    "import matplotlib.pyplot as plt"
   ]
  },
  {
   "cell_type": "markdown",
   "id": "c102abae-74b4-4a85-946d-b9faecf3cc47",
   "metadata": {},
   "source": [
    "# Data"
   ]
  },
  {
   "cell_type": "markdown",
   "id": "ca7ffdbb-ed51-4350-b647-1044f302e428",
   "metadata": {},
   "source": [
    "## Tehran Index DF and Tehran DF Normed Return 90 Far - 00 Far"
   ]
  },
  {
   "cell_type": "code",
   "execution_count": 2,
   "id": "c8b144ad-a231-44a7-8864-d8743eeb278b",
   "metadata": {},
   "outputs": [],
   "source": [
    "tehran_df_completeDates = pd.read_csv('../../Data/Tehran_df_shifted.csv').set_index('date')"
   ]
  },
  {
   "cell_type": "code",
   "execution_count": 3,
   "id": "9f426c61-1e01-43d5-99e3-6d5457b71a6e",
   "metadata": {},
   "outputs": [],
   "source": [
    "tehran_df_reg = pd.read_excel('../../Data/Tehran_Indexes_NormedReturned_Regimed.xlsx').set_index('date')"
   ]
  },
  {
   "cell_type": "code",
   "execution_count": 4,
   "id": "5fb84e0d-0b08-4287-a8a7-a681eec95067",
   "metadata": {},
   "outputs": [],
   "source": [
    "tehran_df_reg = tehran_df_reg.loc[tehran_df_completeDates.index]"
   ]
  },
  {
   "cell_type": "code",
   "execution_count": 5,
   "id": "3b865b37-ed9f-4d8f-990d-09f673b7f91e",
   "metadata": {},
   "outputs": [],
   "source": [
    "tehran_df = tehran_df_completeDates.iloc[:-300]"
   ]
  },
  {
   "cell_type": "markdown",
   "id": "a4125284-a73a-410c-b20f-0dfc8117b2ca",
   "metadata": {},
   "source": [
    "## Tehran Ox 2 Regimed DF Normed Return 90 Far - 00 Far "
   ]
  },
  {
   "cell_type": "code",
   "execution_count": 6,
   "id": "a93b83b1-4d28-4289-8aa1-5e071f811f5e",
   "metadata": {},
   "outputs": [],
   "source": [
    "tehran_df_TwoReg_Ox_1 = tehran_df_reg[tehran_df_reg['Ox_2']==0]\n",
    "tehran_df_TwoReg_Ox_2 = tehran_df_reg[tehran_df_reg['Ox_2']==1]\n",
    "tehran_df_TwoReg_Ox_1 = tehran_df_TwoReg_Ox_1[tehran_df_TwoReg_Ox_1.columns[:-12]]\n",
    "tehran_df_TwoReg_Ox_2 = tehran_df_TwoReg_Ox_2[tehran_df_TwoReg_Ox_2.columns[:-12]]"
   ]
  },
  {
   "cell_type": "markdown",
   "id": "41e8199a-1ba2-4725-a670-7fec70aaa67b",
   "metadata": {},
   "source": [
    "## Tehran Ox 2 Regimed DF Normed Return 90 Far - 98 Dey "
   ]
  },
  {
   "cell_type": "code",
   "execution_count": 7,
   "id": "4e389eaf-b70b-4589-8fa6-bd3d04eba1bd",
   "metadata": {},
   "outputs": [
    {
     "name": "stderr",
     "output_type": "stream",
     "text": [
      "/var/folders/mj/xw3m0dws3yq8j2md9n8j3g940000gn/T/ipykernel_2187/1326700440.py:1: UserWarning: Boolean Series key will be reindexed to match DataFrame index.\n",
      "  tehran_df_TwoReg_Ox_1_98 = tehran_df[tehran_df_reg.iloc[:-300]['Ox_2']==0]\n",
      "/var/folders/mj/xw3m0dws3yq8j2md9n8j3g940000gn/T/ipykernel_2187/1326700440.py:2: UserWarning: Boolean Series key will be reindexed to match DataFrame index.\n",
      "  tehran_df_TwoReg_Ox_2_98 = tehran_df[tehran_df_reg.iloc[:-300]['Ox_2']==1]\n"
     ]
    }
   ],
   "source": [
    "tehran_df_TwoReg_Ox_1_98 = tehran_df[tehran_df_reg.iloc[:-300]['Ox_2']==0]\n",
    "tehran_df_TwoReg_Ox_2_98 = tehran_df[tehran_df_reg.iloc[:-300]['Ox_2']==1]"
   ]
  },
  {
   "cell_type": "markdown",
   "id": "46905361-c6f4-419a-b2dd-048ec99f9e13",
   "metadata": {},
   "source": [
    "## Tehran Ox 2 Regimed DF Normed Return 90 Far - 00 Far / Same Length"
   ]
  },
  {
   "cell_type": "code",
   "execution_count": 8,
   "id": "b0fa1dd0-9268-40cf-9d30-2d260d2c1c93",
   "metadata": {},
   "outputs": [],
   "source": [
    "max_length_TwoReg_Ox_2 = min(len(tehran_df_TwoReg_Ox_1), len(tehran_df_TwoReg_Ox_2))\n",
    "tehran_df_TwoReg_Ox_1_same_length = tehran_df_TwoReg_Ox_1[-max_length_TwoReg_Ox_2:]\n",
    "tehran_df_TwoReg_Ox_2_same_length = tehran_df_TwoReg_Ox_2[-max_length_TwoReg_Ox_2:]"
   ]
  },
  {
   "cell_type": "markdown",
   "id": "6d4aac30-c4b3-411d-9260-2e9edec1c236",
   "metadata": {},
   "source": [
    "## Tehran Ox 2 Regimed DF Normed Return 90 Far - 98 Dey / Same Length"
   ]
  },
  {
   "cell_type": "code",
   "execution_count": 9,
   "id": "ff44046a-fb23-4b05-9845-fe7d3693e24a",
   "metadata": {},
   "outputs": [],
   "source": [
    "max_length_TwoReg_Ox_2_98 = min(len(tehran_df_TwoReg_Ox_1_98), len(tehran_df_TwoReg_Ox_2_98))\n",
    "tehran_df_TwoReg_Ox_1_same_length_98 = tehran_df_TwoReg_Ox_1_98[-max_length_TwoReg_Ox_2_98:]\n",
    "tehran_df_TwoReg_Ox_2_same_length_98 = tehran_df_TwoReg_Ox_2_98[-max_length_TwoReg_Ox_2_98:]"
   ]
  },
  {
   "cell_type": "code",
   "execution_count": 10,
   "id": "96007175-3eff-49bc-b5df-7120b83d400c",
   "metadata": {},
   "outputs": [],
   "source": [
    "nm = Net_moduls()"
   ]
  },
  {
   "cell_type": "markdown",
   "id": "6fd751dd-01f8-4ebd-beeb-52f0462e0ac1",
   "metadata": {},
   "source": [
    "# 7) Tehran 2 Regime Pearson (Based on Median Threshold) Period of 90 Far - 98 Dey"
   ]
  },
  {
   "cell_type": "code",
   "execution_count": 11,
   "id": "3d62eeec-2320-4715-952f-1df83ec380cc",
   "metadata": {},
   "outputs": [
    {
     "data": {
      "text/plain": [
       "0.042706147472332756"
      ]
     },
     "execution_count": 11,
     "metadata": {},
     "output_type": "execute_result"
    }
   ],
   "source": [
    "thr7_1 = nm.find_median_pearson_threshold(tehran_df_TwoReg_Ox_1_same_length_98)\n",
    "thr7_2 = nm.find_median_pearson_threshold(tehran_df_TwoReg_Ox_2_same_length_98)\n",
    "thr7 = min(thr7_1, thr7_2)\n",
    "thr7"
   ]
  },
  {
   "cell_type": "code",
   "execution_count": 16,
   "id": "369527cb-1a4a-4f85-987c-1161e567eed7",
   "metadata": {},
   "outputs": [],
   "source": [
    "nm = Net_moduls()\n",
    "pearson_network_TwoReg_Ox_1_98 = nm.construct_network(tehran_df_TwoReg_Ox_1_same_length_98, method='pearson', threshold=thr7)"
   ]
  },
  {
   "cell_type": "code",
   "execution_count": 17,
   "id": "0ce10af3-0704-491e-9505-c142fe4a15cb",
   "metadata": {},
   "outputs": [
    {
     "data": {
      "text/html": [
       "<div>\n",
       "<style scoped>\n",
       "    .dataframe tbody tr th:only-of-type {\n",
       "        vertical-align: middle;\n",
       "    }\n",
       "\n",
       "    .dataframe tbody tr th {\n",
       "        vertical-align: top;\n",
       "    }\n",
       "\n",
       "    .dataframe thead th {\n",
       "        text-align: right;\n",
       "    }\n",
       "</style>\n",
       "<table border=\"1\" class=\"dataframe\">\n",
       "  <thead>\n",
       "    <tr style=\"text-align: right;\">\n",
       "      <th></th>\n",
       "      <th>radius</th>\n",
       "      <th>diameter</th>\n",
       "      <th>densities</th>\n",
       "      <th>number_of_edges</th>\n",
       "      <th>average_clustering</th>\n",
       "      <th>avg_degree_centrality</th>\n",
       "      <th>avg_betweenness_centrality</th>\n",
       "      <th>avg_closeness_centrality</th>\n",
       "      <th>average_shortest_path_length</th>\n",
       "    </tr>\n",
       "  </thead>\n",
       "  <tbody>\n",
       "    <tr>\n",
       "      <th>0</th>\n",
       "      <td>2</td>\n",
       "      <td>3</td>\n",
       "      <td>0.611111</td>\n",
       "      <td>605</td>\n",
       "      <td>0.812819</td>\n",
       "      <td>0.611111</td>\n",
       "      <td>0.009232</td>\n",
       "      <td>0.738245</td>\n",
       "      <td>1.39697</td>\n",
       "    </tr>\n",
       "  </tbody>\n",
       "</table>\n",
       "</div>"
      ],
      "text/plain": [
       "   radius  diameter  densities  number_of_edges  average_clustering  \\\n",
       "0       2         3   0.611111              605            0.812819   \n",
       "\n",
       "   avg_degree_centrality  avg_betweenness_centrality  \\\n",
       "0               0.611111                    0.009232   \n",
       "\n",
       "   avg_closeness_centrality  average_shortest_path_length  \n",
       "0                  0.738245                       1.39697  "
      ]
     },
     "execution_count": 17,
     "metadata": {},
     "output_type": "execute_result"
    }
   ],
   "source": [
    "nm.get_network_features(pearson_network_TwoReg_Ox_1_98)"
   ]
  },
  {
   "cell_type": "code",
   "execution_count": 18,
   "id": "d336d30a-04f1-4d0a-985c-8cf42c5e3051",
   "metadata": {},
   "outputs": [],
   "source": [
    "nm.get_network_features(pearson_network_TwoReg_Ox_1_98).to_csv('Excels/7_1.csv')"
   ]
  },
  {
   "cell_type": "code",
   "execution_count": 19,
   "id": "e583b29d-7288-4e38-9d22-4c17c3c89ae9",
   "metadata": {},
   "outputs": [
    {
     "data": {
      "text/plain": [
       "array({'DastgahayeBargi': 3, 'M2': 6, 'HOUSE': 7, 'M1': 7, 'GDP': 8, 'USD': 9, 'CPI': 9, 'AbzaralatePezeshki': 11, 'Euro': 12, 'Coin': 12, 'FaravardehayeNafti': 15, 'Gold': 16, 'HamlVaNaghl': 16, 'Mansojat': 29, 'FaniVaMohandesi': 31, 'paper': 32, 'EntesharVaChap': 32, 'VasayelErtebati': 32, 'Bank': 32, 'Rayaneh': 32, 'Mali': 32, 'Agriculture': 33, 'SayerMadan': 33, 'Wood': 33, 'Lastic': 33, 'MashinAlat': 33, 'GazaeeBejozGhand': 33, 'Siman': 33, 'SarmayeGozari': 33, 'EstekrajeNaft': 34, 'khodrosazi': 34, 'GhandVaShekar': 34, 'Shimiyaee': 34, 'Bimeh': 34, 'KanehayeFelezi': 34, 'MahsolateFelezi': 35, 'Daroee': 35, 'KashiVaSeramik': 35, 'SayerMali': 35, 'FelezateAsasi': 36, 'ChandReshteSanati': 36, 'Amlakva': 36, 'index': 37, 'CoalMining': 37, 'KanehayeGeyreFelezi': 37},\n",
       "      dtype=object)"
      ]
     },
     "execution_count": 19,
     "metadata": {},
     "output_type": "execute_result"
    }
   ],
   "source": [
    "b7_1 = dict(nx.degree(pearson_network_TwoReg_Ox_1_98))\n",
    "b7_1 = np.array(dict(sorted(b7_1.items(), key=lambda item: item[1])))\n",
    "b7_1"
   ]
  },
  {
   "cell_type": "code",
   "execution_count": 20,
   "id": "ee6b8f31-eb31-4615-be88-e1961308b143",
   "metadata": {},
   "outputs": [],
   "source": [
    "pearson_network_TwoReg_Ox_2_98 = nm.construct_network(tehran_df_TwoReg_Ox_2_same_length_98, method='pearson', threshold=thr7)"
   ]
  },
  {
   "cell_type": "code",
   "execution_count": 21,
   "id": "e3cc274b-35df-428c-8179-7056f88dd14d",
   "metadata": {},
   "outputs": [
    {
     "data": {
      "text/html": [
       "<div>\n",
       "<style scoped>\n",
       "    .dataframe tbody tr th:only-of-type {\n",
       "        vertical-align: middle;\n",
       "    }\n",
       "\n",
       "    .dataframe tbody tr th {\n",
       "        vertical-align: top;\n",
       "    }\n",
       "\n",
       "    .dataframe thead th {\n",
       "        text-align: right;\n",
       "    }\n",
       "</style>\n",
       "<table border=\"1\" class=\"dataframe\">\n",
       "  <thead>\n",
       "    <tr style=\"text-align: right;\">\n",
       "      <th></th>\n",
       "      <th>radius</th>\n",
       "      <th>diameter</th>\n",
       "      <th>densities</th>\n",
       "      <th>number_of_edges</th>\n",
       "      <th>average_clustering</th>\n",
       "      <th>avg_degree_centrality</th>\n",
       "      <th>avg_betweenness_centrality</th>\n",
       "      <th>avg_closeness_centrality</th>\n",
       "      <th>average_shortest_path_length</th>\n",
       "    </tr>\n",
       "  </thead>\n",
       "  <tbody>\n",
       "    <tr>\n",
       "      <th>0</th>\n",
       "      <td>2</td>\n",
       "      <td>3</td>\n",
       "      <td>0.558454</td>\n",
       "      <td>578</td>\n",
       "      <td>0.698283</td>\n",
       "      <td>0.558454</td>\n",
       "      <td>0.010101</td>\n",
       "      <td>0.706188</td>\n",
       "      <td>1.444444</td>\n",
       "    </tr>\n",
       "  </tbody>\n",
       "</table>\n",
       "</div>"
      ],
      "text/plain": [
       "   radius  diameter  densities  number_of_edges  average_clustering  \\\n",
       "0       2         3   0.558454              578            0.698283   \n",
       "\n",
       "   avg_degree_centrality  avg_betweenness_centrality  \\\n",
       "0               0.558454                    0.010101   \n",
       "\n",
       "   avg_closeness_centrality  average_shortest_path_length  \n",
       "0                  0.706188                      1.444444  "
      ]
     },
     "execution_count": 21,
     "metadata": {},
     "output_type": "execute_result"
    }
   ],
   "source": [
    "nm.get_network_features(pearson_network_TwoReg_Ox_2_98)"
   ]
  },
  {
   "cell_type": "code",
   "execution_count": 22,
   "id": "4184f680-eaa7-427b-87df-b0a09f4f7970",
   "metadata": {},
   "outputs": [],
   "source": [
    "nm.get_network_features(pearson_network_TwoReg_Ox_2_98).to_csv('Excels/7_2.csv')"
   ]
  },
  {
   "cell_type": "code",
   "execution_count": 23,
   "id": "05b1565f-e8df-4143-9a92-1d1129993b94",
   "metadata": {},
   "outputs": [
    {
     "data": {
      "text/plain": [
       "array({'GDP': 6, 'FaravardehayeNafti': 7, 'Gold': 7, 'M2': 10, 'M1': 10, 'Brent Oil': 12, 'Coin': 14, 'Mansojat': 15, 'HOUSE': 15, 'GhandVaShekar': 16, 'Euro': 16, 'CoalMining': 17, 'USD': 17, 'FelezateAsasi': 19, 'VasayelErtebati': 22, 'ChandReshteSanati': 23, 'KanehayeFelezi': 23, 'CPI': 24, 'AbzaralatePezeshki': 24, 'Wood': 25, 'Agriculture': 27, 'Bank': 27, 'Rayaneh': 28, 'khodrosazi': 29, 'Shimiyaee': 29, 'KashiVaSeramik': 29, 'HamlVaNaghl': 29, 'EstekrajeNaft': 30, 'MahsolateFelezi': 30, 'EntesharVaChap': 30, 'DastgahayeBargi': 30, 'Bimeh': 30, 'Mali': 30, 'SayerMadan': 32, 'SayerMali': 33, 'FaniVaMohandesi': 33, 'Lastic': 34, 'paper': 35, 'Daroee': 35, 'SarmayeGozari': 35, 'index': 36, 'MashinAlat': 36, 'GazaeeBejozGhand': 36, 'Siman': 36, 'Amlakva': 36, 'KanehayeGeyreFelezi': 39},\n",
       "      dtype=object)"
      ]
     },
     "execution_count": 23,
     "metadata": {},
     "output_type": "execute_result"
    }
   ],
   "source": [
    "b7_2 = dict(nx.degree(pearson_network_TwoReg_Ox_2_98))\n",
    "b7_2 = np.array(dict(sorted(b7_2.items(), key=lambda item: item[1])))\n",
    "b7_2"
   ]
  },
  {
   "cell_type": "code",
   "execution_count": 24,
   "id": "7e3f032e-d294-443f-b1e7-0cd0d69992f0",
   "metadata": {},
   "outputs": [
    {
     "data": {
      "text/plain": [
       "<Figure size 1600x1200 with 0 Axes>"
      ]
     },
     "metadata": {},
     "output_type": "display_data"
    },
    {
     "data": {
      "image/png": "[encoded data removed]",
      "text/plain": [
       "<Figure size 600x600 with 1 Axes>"
      ]
     },
     "metadata": {},
     "output_type": "display_data"
    }
   ],
   "source": [
    "circos = nm.plot_circos_network(pearson_network_TwoReg_Ox_1_98)\n",
    "circos.draw()"
   ]
  },
  {
   "cell_type": "markdown",
   "id": "6b7bcd83-8de4-46a4-bc1e-d04bd1ad8ef3",
   "metadata": {},
   "source": [
    "# 8) Tehran 2 Regime Pearson (Based on Median Threshold) Period of 90 Far - 00 Far"
   ]
  },
  {
   "cell_type": "code",
   "execution_count": 12,
   "id": "e9d4a3f6-67c2-4e80-82de-b85f550c5e7c",
   "metadata": {},
   "outputs": [
    {
     "data": {
      "text/plain": [
       "0.03794854693443965"
      ]
     },
     "execution_count": 12,
     "metadata": {},
     "output_type": "execute_result"
    }
   ],
   "source": [
    "thr8_1 = nm.find_median_pearson_threshold(tehran_df_TwoReg_Ox_1_same_length)\n",
    "thr8_2 = nm.find_median_pearson_threshold(tehran_df_TwoReg_Ox_2_same_length)\n",
    "thr8 = min(thr8_1, thr8_2)\n",
    "thr8"
   ]
  },
  {
   "cell_type": "code",
   "execution_count": 31,
   "id": "57714c14-176b-4a0a-8e83-7424efd73883",
   "metadata": {},
   "outputs": [],
   "source": [
    "nm = Net_moduls()\n",
    "pearson_network_TwoReg_Ox_1 = nm.construct_network(tehran_df_TwoReg_Ox_1_same_length, method='pearson', threshold=thr8)"
   ]
  },
  {
   "cell_type": "code",
   "execution_count": 32,
   "id": "bb91be98-178c-4fad-a7b0-24f4f71ef2a5",
   "metadata": {},
   "outputs": [
    {
     "data": {
      "text/html": [
       "<div>\n",
       "<style scoped>\n",
       "    .dataframe tbody tr th:only-of-type {\n",
       "        vertical-align: middle;\n",
       "    }\n",
       "\n",
       "    .dataframe tbody tr th {\n",
       "        vertical-align: top;\n",
       "    }\n",
       "\n",
       "    .dataframe thead th {\n",
       "        text-align: right;\n",
       "    }\n",
       "</style>\n",
       "<table border=\"1\" class=\"dataframe\">\n",
       "  <thead>\n",
       "    <tr style=\"text-align: right;\">\n",
       "      <th></th>\n",
       "      <th>radius</th>\n",
       "      <th>diameter</th>\n",
       "      <th>densities</th>\n",
       "      <th>number_of_edges</th>\n",
       "      <th>average_clustering</th>\n",
       "      <th>avg_degree_centrality</th>\n",
       "      <th>avg_betweenness_centrality</th>\n",
       "      <th>avg_closeness_centrality</th>\n",
       "      <th>average_shortest_path_length</th>\n",
       "    </tr>\n",
       "  </thead>\n",
       "  <tbody>\n",
       "    <tr>\n",
       "      <th>0</th>\n",
       "      <td>2</td>\n",
       "      <td>3</td>\n",
       "      <td>0.711111</td>\n",
       "      <td>736</td>\n",
       "      <td>0.849764</td>\n",
       "      <td>0.711111</td>\n",
       "      <td>0.006741</td>\n",
       "      <td>0.791651</td>\n",
       "      <td>1.296618</td>\n",
       "    </tr>\n",
       "  </tbody>\n",
       "</table>\n",
       "</div>"
      ],
      "text/plain": [
       "   radius  diameter  densities  number_of_edges  average_clustering  \\\n",
       "0       2         3   0.711111              736            0.849764   \n",
       "\n",
       "   avg_degree_centrality  avg_betweenness_centrality  \\\n",
       "0               0.711111                    0.006741   \n",
       "\n",
       "   avg_closeness_centrality  average_shortest_path_length  \n",
       "0                  0.791651                      1.296618  "
      ]
     },
     "execution_count": 32,
     "metadata": {},
     "output_type": "execute_result"
    }
   ],
   "source": [
    "nm.get_network_features(pearson_network_TwoReg_Ox_1)"
   ]
  },
  {
   "cell_type": "code",
   "execution_count": 33,
   "id": "9248d414-64ea-487a-98f3-01b19c098054",
   "metadata": {},
   "outputs": [],
   "source": [
    "nm.get_network_features(pearson_network_TwoReg_Ox_1).to_csv('Excels/8_1.csv')"
   ]
  },
  {
   "cell_type": "code",
   "execution_count": 34,
   "id": "93fcb4ea-88ee-4399-b265-12004892413c",
   "metadata": {},
   "outputs": [
    {
     "data": {
      "text/plain": [
       "array({'DastgahayeBargi': 6, 'AbzaralatePezeshki': 11, 'M1': 11, 'GDP': 12, 'M2': 12, 'Gold': 13, 'Coin': 16, 'FaravardehayeNafti': 24, 'USD': 26, 'Mali': 26, 'Brent Oil': 27, 'Euro': 28, 'Mansojat': 30, 'paper': 32, 'CPI': 33, 'HOUSE': 33, 'HamlVaNaghl': 33, 'Wood': 34, 'KashiVaSeramik': 34, 'VasayelErtebati': 35, 'FaniVaMohandesi': 35, 'CoalMining': 36, 'EstekrajeNaft': 36, 'SayerMadan': 36, 'Lastic': 37, 'MashinAlat': 37, 'Bank': 37, 'SayerMali': 37, 'Bimeh': 37, 'Agriculture': 38, 'MahsolateFelezi': 38, 'GhandVaShekar': 38, 'GazaeeBejozGhand': 38, 'Siman': 38, 'Amlakva': 38, 'EntesharVaChap': 39, 'Shimiyaee': 39, 'KanehayeGeyreFelezi': 39, 'SarmayeGozari': 39, 'Rayaneh': 39, 'KanehayeFelezi': 39, 'Daroee': 40, 'khodrosazi': 41, 'ChandReshteSanati': 41, 'index': 42, 'FelezateAsasi': 42},\n",
       "      dtype=object)"
      ]
     },
     "execution_count": 34,
     "metadata": {},
     "output_type": "execute_result"
    }
   ],
   "source": [
    "b8_1 = dict(nx.degree(pearson_network_TwoReg_Ox_1))\n",
    "b8_1 = np.array(dict(sorted(b8_1.items(), key=lambda item: item[1])))\n",
    "b8_1"
   ]
  },
  {
   "cell_type": "code",
   "execution_count": 35,
   "id": "f722adca-5af3-4b0b-9aff-ad12d4402695",
   "metadata": {},
   "outputs": [],
   "source": [
    "pearson_network_TwoReg_Ox_2 = nm.construct_network(tehran_df_TwoReg_Ox_2_same_length, method='pearson', threshold=thr8)"
   ]
  },
  {
   "cell_type": "code",
   "execution_count": 36,
   "id": "82b49a1d-cb12-4745-8b28-0bdb09c52c8f",
   "metadata": {},
   "outputs": [
    {
     "data": {
      "text/html": [
       "<div>\n",
       "<style scoped>\n",
       "    .dataframe tbody tr th:only-of-type {\n",
       "        vertical-align: middle;\n",
       "    }\n",
       "\n",
       "    .dataframe tbody tr th {\n",
       "        vertical-align: top;\n",
       "    }\n",
       "\n",
       "    .dataframe thead th {\n",
       "        text-align: right;\n",
       "    }\n",
       "</style>\n",
       "<table border=\"1\" class=\"dataframe\">\n",
       "  <thead>\n",
       "    <tr style=\"text-align: right;\">\n",
       "      <th></th>\n",
       "      <th>radius</th>\n",
       "      <th>diameter</th>\n",
       "      <th>densities</th>\n",
       "      <th>number_of_edges</th>\n",
       "      <th>average_clustering</th>\n",
       "      <th>avg_degree_centrality</th>\n",
       "      <th>avg_betweenness_centrality</th>\n",
       "      <th>avg_closeness_centrality</th>\n",
       "      <th>average_shortest_path_length</th>\n",
       "    </tr>\n",
       "  </thead>\n",
       "  <tbody>\n",
       "    <tr>\n",
       "      <th>0</th>\n",
       "      <td>2</td>\n",
       "      <td>3</td>\n",
       "      <td>0.589372</td>\n",
       "      <td>610</td>\n",
       "      <td>0.730564</td>\n",
       "      <td>0.589372</td>\n",
       "      <td>0.009398</td>\n",
       "      <td>0.72142</td>\n",
       "      <td>1.413527</td>\n",
       "    </tr>\n",
       "  </tbody>\n",
       "</table>\n",
       "</div>"
      ],
      "text/plain": [
       "   radius  diameter  densities  number_of_edges  average_clustering  \\\n",
       "0       2         3   0.589372              610            0.730564   \n",
       "\n",
       "   avg_degree_centrality  avg_betweenness_centrality  \\\n",
       "0               0.589372                    0.009398   \n",
       "\n",
       "   avg_closeness_centrality  average_shortest_path_length  \n",
       "0                   0.72142                      1.413527  "
      ]
     },
     "execution_count": 36,
     "metadata": {},
     "output_type": "execute_result"
    }
   ],
   "source": [
    "nm.get_network_features(pearson_network_TwoReg_Ox_2)"
   ]
  },
  {
   "cell_type": "code",
   "execution_count": 37,
   "id": "b43c7200-4ca4-4456-84f0-8ec42177dcb8",
   "metadata": {},
   "outputs": [],
   "source": [
    "nm.get_network_features(pearson_network_TwoReg_Ox_2).to_csv('Excels/8_2.csv')"
   ]
  },
  {
   "cell_type": "code",
   "execution_count": 38,
   "id": "3ec612af-e946-4286-8573-d6f068514795",
   "metadata": {},
   "outputs": [
    {
     "data": {
      "text/plain": [
       "array({'FaravardehayeNafti': 8, 'Brent Oil': 9, 'HOUSE': 9, 'M1': 10, 'Mansojat': 13, 'Coin': 14, 'M2': 15, 'GhandVaShekar': 15, 'CoalMining': 16, 'Gold': 18, 'GDP': 19, 'Euro': 20, 'USD': 21, 'CPI': 23, 'KanehayeFelezi': 23, 'Wood': 24, 'HamlVaNaghl': 24, 'FelezateAsasi': 25, 'VasayelErtebati': 25, 'Agriculture': 26, 'ChandReshteSanati': 26, 'AbzaralatePezeshki': 27, 'EntesharVaChap': 29, 'Daroee': 29, 'paper': 30, 'SayerMadan': 31, 'KashiVaSeramik': 31, 'Bank': 31, 'GazaeeBejozGhand': 32, 'Bimeh': 32, 'Rayaneh': 32, 'FaniVaMohandesi': 32, 'MahsolateFelezi': 33, 'Shimiyaee': 33, 'Lastic': 34, 'DastgahayeBargi': 34, 'Mali': 34, 'khodrosazi': 35, 'Amlakva': 35, 'Siman': 36, 'EstekrajeNaft': 37, 'MashinAlat': 37, 'SayerMali': 37, 'SarmayeGozari': 38, 'index': 39, 'KanehayeGeyreFelezi': 39},\n",
       "      dtype=object)"
      ]
     },
     "execution_count": 38,
     "metadata": {},
     "output_type": "execute_result"
    }
   ],
   "source": [
    "b8_2 = dict(nx.degree(pearson_network_TwoReg_Ox_2))\n",
    "b8_2 = np.array(dict(sorted(b8_2.items(), key=lambda item: item[1])))\n",
    "b8_2"
   ]
  },
  {
   "cell_type": "markdown",
   "id": "698877b3-9222-460c-8b9e-ebadd301013b",
   "metadata": {},
   "source": [
    "# 9) Tehran 2 Regime Pearson (Based on Median Threshold) Period of 90 Far - 98 Dey/ Last 100 Records"
   ]
  },
  {
   "cell_type": "code",
   "execution_count": 13,
   "id": "5a7bd99a-5d80-4df2-bc9d-be4c9402e2f3",
   "metadata": {},
   "outputs": [
    {
     "data": {
      "text/plain": [
       "0.042706147472332756"
      ]
     },
     "execution_count": 13,
     "metadata": {},
     "output_type": "execute_result"
    }
   ],
   "source": [
    "thr9_1 = nm.find_median_pearson_threshold(tehran_df_TwoReg_Ox_1_same_length_98[-100:])\n",
    "thr9_2 = nm.find_median_pearson_threshold(tehran_df_TwoReg_Ox_2_same_length_98[-100:])\n",
    "thr9 = min(thr7_1, thr7_2)\n",
    "thr9"
   ]
  },
  {
   "cell_type": "code",
   "execution_count": 40,
   "id": "0e4d96af-decd-4db8-971b-b172dfd02326",
   "metadata": {},
   "outputs": [],
   "source": [
    "pearson_network_TwoReg_Ox_1_98_last100 = nm.construct_network(tehran_df_TwoReg_Ox_1_same_length_98[-100:], method='pearson', threshold=thr9)"
   ]
  },
  {
   "cell_type": "code",
   "execution_count": 41,
   "id": "7868d31b-9394-4b86-8fe6-2b4c4b353f99",
   "metadata": {},
   "outputs": [
    {
     "data": {
      "text/html": [
       "<div>\n",
       "<style scoped>\n",
       "    .dataframe tbody tr th:only-of-type {\n",
       "        vertical-align: middle;\n",
       "    }\n",
       "\n",
       "    .dataframe tbody tr th {\n",
       "        vertical-align: top;\n",
       "    }\n",
       "\n",
       "    .dataframe thead th {\n",
       "        text-align: right;\n",
       "    }\n",
       "</style>\n",
       "<table border=\"1\" class=\"dataframe\">\n",
       "  <thead>\n",
       "    <tr style=\"text-align: right;\">\n",
       "      <th></th>\n",
       "      <th>radius</th>\n",
       "      <th>diameter</th>\n",
       "      <th>densities</th>\n",
       "      <th>number_of_edges</th>\n",
       "      <th>average_clustering</th>\n",
       "      <th>avg_degree_centrality</th>\n",
       "      <th>avg_betweenness_centrality</th>\n",
       "      <th>avg_closeness_centrality</th>\n",
       "      <th>average_shortest_path_length</th>\n",
       "    </tr>\n",
       "  </thead>\n",
       "  <tbody>\n",
       "    <tr>\n",
       "      <th>0</th>\n",
       "      <td>2</td>\n",
       "      <td>2</td>\n",
       "      <td>0.844444</td>\n",
       "      <td>836</td>\n",
       "      <td>0.877332</td>\n",
       "      <td>0.844444</td>\n",
       "      <td>0.003618</td>\n",
       "      <td>0.874355</td>\n",
       "      <td>1.155556</td>\n",
       "    </tr>\n",
       "  </tbody>\n",
       "</table>\n",
       "</div>"
      ],
      "text/plain": [
       "   radius  diameter  densities  number_of_edges  average_clustering  \\\n",
       "0       2         2   0.844444              836            0.877332   \n",
       "\n",
       "   avg_degree_centrality  avg_betweenness_centrality  \\\n",
       "0               0.844444                    0.003618   \n",
       "\n",
       "   avg_closeness_centrality  average_shortest_path_length  \n",
       "0                  0.874355                      1.155556  "
      ]
     },
     "execution_count": 41,
     "metadata": {},
     "output_type": "execute_result"
    }
   ],
   "source": [
    "nm.get_network_features(pearson_network_TwoReg_Ox_1_98_last100)"
   ]
  },
  {
   "cell_type": "code",
   "execution_count": 42,
   "id": "a71c11f1-bc67-432b-b25a-208b6fc6ffd5",
   "metadata": {},
   "outputs": [],
   "source": [
    "nm.get_network_features(pearson_network_TwoReg_Ox_1_98_last100).to_csv('Excels/9_1.csv')"
   ]
  },
  {
   "cell_type": "code",
   "execution_count": 43,
   "id": "c01d0f69-8dd4-46d2-b8a8-083f9c6a9121",
   "metadata": {},
   "outputs": [
    {
     "data": {
      "text/plain": [
       "array({'Brent Oil': 21, 'FaravardehayeNafti': 25, 'HOUSE': 26, 'Euro': 27, 'Coin': 28, 'USD': 29, 'M2': 29, 'GDP': 29, 'Gold': 33, 'Wood': 34, 'DastgahayeBargi': 34, 'M1': 36, 'Mansojat': 36, 'CoalMining': 37, 'EntesharVaChap': 37, 'Amlakva': 37, 'KanehayeFelezi': 37, 'EstekrajeNaft': 38, 'Bimeh': 38, 'MashinAlat': 39, 'ChandReshteSanati': 39, 'Daroee': 39, 'Mali': 39, 'CPI': 40, 'paper': 40, 'Lastic': 40, 'khodrosazi': 40, 'GhandVaShekar': 40, 'GazaeeBejozGhand': 40, 'Bank': 40, 'SayerMali': 40, 'SayerMadan': 41, 'KanehayeGeyreFelezi': 41, 'SarmayeGozari': 41, 'HamlVaNaghl': 41, 'index': 42, 'Agriculture': 42, 'MahsolateFelezi': 42, 'FelezateAsasi': 42, 'Shimiyaee': 42, 'KashiVaSeramik': 42, 'Siman': 42, 'Rayaneh': 42, 'FaniVaMohandesi': 42, 'VasayelErtebati': 43},\n",
       "      dtype=object)"
      ]
     },
     "execution_count": 43,
     "metadata": {},
     "output_type": "execute_result"
    }
   ],
   "source": [
    "b9_1 = dict(nx.degree(pearson_network_TwoReg_Ox_1_98_last100))\n",
    "b9_1 = np.array(dict(sorted(b9_1.items(), key=lambda item: item[1])))\n",
    "b9_1"
   ]
  },
  {
   "cell_type": "code",
   "execution_count": 44,
   "id": "4149e0cb-eb7a-44d9-8552-9de1746843c3",
   "metadata": {},
   "outputs": [],
   "source": [
    "pearson_network_TwoReg_Ox_2_98_last100 = nm.construct_network(tehran_df_TwoReg_Ox_2_same_length_98[-100:], method='pearson', threshold=thr9)"
   ]
  },
  {
   "cell_type": "code",
   "execution_count": 45,
   "id": "f52c91a9-ca17-4ffe-ab20-2db6a9e70993",
   "metadata": {},
   "outputs": [
    {
     "data": {
      "text/html": [
       "<div>\n",
       "<style scoped>\n",
       "    .dataframe tbody tr th:only-of-type {\n",
       "        vertical-align: middle;\n",
       "    }\n",
       "\n",
       "    .dataframe tbody tr th {\n",
       "        vertical-align: top;\n",
       "    }\n",
       "\n",
       "    .dataframe thead th {\n",
       "        text-align: right;\n",
       "    }\n",
       "</style>\n",
       "<table border=\"1\" class=\"dataframe\">\n",
       "  <thead>\n",
       "    <tr style=\"text-align: right;\">\n",
       "      <th></th>\n",
       "      <th>radius</th>\n",
       "      <th>diameter</th>\n",
       "      <th>densities</th>\n",
       "      <th>number_of_edges</th>\n",
       "      <th>average_clustering</th>\n",
       "      <th>avg_degree_centrality</th>\n",
       "      <th>avg_betweenness_centrality</th>\n",
       "      <th>avg_closeness_centrality</th>\n",
       "      <th>average_shortest_path_length</th>\n",
       "    </tr>\n",
       "  </thead>\n",
       "  <tbody>\n",
       "    <tr>\n",
       "      <th>0</th>\n",
       "      <td>2</td>\n",
       "      <td>2</td>\n",
       "      <td>0.748485</td>\n",
       "      <td>741</td>\n",
       "      <td>0.778801</td>\n",
       "      <td>0.748485</td>\n",
       "      <td>0.005849</td>\n",
       "      <td>0.80532</td>\n",
       "      <td>1.251515</td>\n",
       "    </tr>\n",
       "  </tbody>\n",
       "</table>\n",
       "</div>"
      ],
      "text/plain": [
       "   radius  diameter  densities  number_of_edges  average_clustering  \\\n",
       "0       2         2   0.748485              741            0.778801   \n",
       "\n",
       "   avg_degree_centrality  avg_betweenness_centrality  \\\n",
       "0               0.748485                    0.005849   \n",
       "\n",
       "   avg_closeness_centrality  average_shortest_path_length  \n",
       "0                   0.80532                      1.251515  "
      ]
     },
     "execution_count": 45,
     "metadata": {},
     "output_type": "execute_result"
    }
   ],
   "source": [
    "nm.get_network_features(pearson_network_TwoReg_Ox_2_98_last100)"
   ]
  },
  {
   "cell_type": "code",
   "execution_count": 46,
   "id": "6d13502a-5c07-424e-8a94-f809952730bc",
   "metadata": {},
   "outputs": [],
   "source": [
    "nm.get_network_features(pearson_network_TwoReg_Ox_2_98_last100).to_csv('Excels/9_2.csv')"
   ]
  },
  {
   "cell_type": "code",
   "execution_count": 47,
   "id": "3c131e65-abac-4f96-bb80-d5eee887e9cf",
   "metadata": {},
   "outputs": [
    {
     "data": {
      "text/plain": [
       "array({'FaravardehayeNafti': 16, 'GDP': 19, 'Gold': 24, 'Wood': 27, 'ChandReshteSanati': 28, 'Shimiyaee': 28, 'Brent Oil': 29, 'USD': 29, 'CoalMining': 29, 'FelezateAsasi': 29, 'HOUSE': 30, 'VasayelErtebati': 30, 'Euro': 30, 'Agriculture': 31, 'EstekrajeNaft': 31, 'Bank': 31, 'Bimeh': 31, 'Rayaneh': 32, 'M1': 32, 'MashinAlat': 34, 'KashiVaSeramik': 34, 'Amlakva': 34, 'Coin': 35, 'MahsolateFelezi': 35, 'SayerMadan': 35, 'GhandVaShekar': 35, 'SayerMali': 35, 'Mali': 35, 'KanehayeFelezi': 35, 'CPI': 36, 'M2': 36, 'EntesharVaChap': 36, 'Siman': 36, 'HamlVaNaghl': 36, 'FaniVaMohandesi': 36, 'paper': 37, 'DastgahayeBargi': 37, 'khodrosazi': 37, 'Daroee': 37, 'KanehayeGeyreFelezi': 37, 'Lastic': 38, 'GazaeeBejozGhand': 38, 'Mansojat': 39, 'index': 41, 'SarmayeGozari': 42},\n",
       "      dtype=object)"
      ]
     },
     "execution_count": 47,
     "metadata": {},
     "output_type": "execute_result"
    }
   ],
   "source": [
    "b9_2 = dict(nx.degree(pearson_network_TwoReg_Ox_2_98_last100))\n",
    "b9_2 = np.array(dict(sorted(b9_2.items(), key=lambda item: item[1])))\n",
    "b9_2"
   ]
  },
  {
   "cell_type": "markdown",
   "id": "bf4c1296-920c-49bc-a8cc-e82dff35001a",
   "metadata": {},
   "source": [
    "# 10) Tehran 2 Regime Pearson (Based on Median Threshold) Period of 90 Far - 98 Dey/ 50 windows of 100 Records"
   ]
  },
  {
   "cell_type": "code",
   "execution_count": 48,
   "id": "d9367836-923f-4aa3-a8fa-cc2d59b4cd02",
   "metadata": {},
   "outputs": [
    {
     "name": "stderr",
     "output_type": "stream",
     "text": [
      "/Users/hossein4527/MEGA/MEGAsync/Commit/Neda_PhD/neda_sep2023/Time_Series_Trend_Forcasting/Codes/Shifted DF by Lags/ned.py:1106: SettingWithCopyWarning: \n",
      "A value is trying to be set on a copy of a slice from a DataFrame.\n",
      "Try using .loc[row_indexer,col_indexer] = value instead\n",
      "\n",
      "See the caveats in the documentation: https://pandas.pydata.org/pandas-docs/stable/user_guide/indexing.html#returning-a-view-versus-a-copy\n",
      "  df['selected_regimes'] = regimes_column\n"
     ]
    },
    {
     "name": "stdout",
     "output_type": "stream",
     "text": [
      "Number of columns data in our DataFrame is = 46\n",
      "fixed_thr= 0.1921261517164633\n"
     ]
    }
   ],
   "source": [
    "nm = Net_moduls()\n",
    "pearson_network_TwoReg_Ox_1_98_averged = nm.get_network_features_averaged_median(tehran_df, regimes_column= tehran_df_reg.iloc[:-300]['Ox_2'],method='pearson',edges_threshold=200, target_window=100, target_length=50)"
   ]
  },
  {
   "cell_type": "code",
   "execution_count": 49,
   "id": "9d045f03-eadb-4eeb-bb56-05496cd8f388",
   "metadata": {},
   "outputs": [
    {
     "data": {
      "text/html": [
       "<div>\n",
       "<style scoped>\n",
       "    .dataframe tbody tr th:only-of-type {\n",
       "        vertical-align: middle;\n",
       "    }\n",
       "\n",
       "    .dataframe tbody tr th {\n",
       "        vertical-align: top;\n",
       "    }\n",
       "\n",
       "    .dataframe thead th {\n",
       "        text-align: right;\n",
       "    }\n",
       "</style>\n",
       "<table border=\"1\" class=\"dataframe\">\n",
       "  <thead>\n",
       "    <tr style=\"text-align: right;\">\n",
       "      <th></th>\n",
       "      <th>radius</th>\n",
       "      <th>diameter</th>\n",
       "      <th>densities</th>\n",
       "      <th>number_of_edges</th>\n",
       "      <th>average_clustering</th>\n",
       "      <th>avg_degree_centrality</th>\n",
       "      <th>avg_betweenness_centrality</th>\n",
       "      <th>avg_closeness_centrality</th>\n",
       "      <th>average_shortest_path_length</th>\n",
       "    </tr>\n",
       "  </thead>\n",
       "  <tbody>\n",
       "    <tr>\n",
       "      <th>Means</th>\n",
       "      <td>2.960000</td>\n",
       "      <td>4.740000</td>\n",
       "      <td>0.546716</td>\n",
       "      <td>498.120000</td>\n",
       "      <td>0.792270</td>\n",
       "      <td>0.546716</td>\n",
       "      <td>0.015984</td>\n",
       "      <td>0.644395</td>\n",
       "      <td>1.658651</td>\n",
       "    </tr>\n",
       "    <tr>\n",
       "      <th>STDs</th>\n",
       "      <td>0.197949</td>\n",
       "      <td>0.664247</td>\n",
       "      <td>0.021704</td>\n",
       "      <td>14.962047</td>\n",
       "      <td>0.019091</td>\n",
       "      <td>0.021704</td>\n",
       "      <td>0.001982</td>\n",
       "      <td>0.025734</td>\n",
       "      <td>0.083118</td>\n",
       "    </tr>\n",
       "    <tr>\n",
       "      <th>Means</th>\n",
       "      <td>2.680000</td>\n",
       "      <td>4.380000</td>\n",
       "      <td>0.205899</td>\n",
       "      <td>198.340000</td>\n",
       "      <td>0.448329</td>\n",
       "      <td>0.205899</td>\n",
       "      <td>0.026101</td>\n",
       "      <td>0.488545</td>\n",
       "      <td>2.107548</td>\n",
       "    </tr>\n",
       "    <tr>\n",
       "      <th>STDs</th>\n",
       "      <td>0.471212</td>\n",
       "      <td>0.490314</td>\n",
       "      <td>0.020593</td>\n",
       "      <td>17.681548</td>\n",
       "      <td>0.040249</td>\n",
       "      <td>0.020593</td>\n",
       "      <td>0.001684</td>\n",
       "      <td>0.018029</td>\n",
       "      <td>0.078218</td>\n",
       "    </tr>\n",
       "  </tbody>\n",
       "</table>\n",
       "</div>"
      ],
      "text/plain": [
       "         radius  diameter  densities  number_of_edges  average_clustering  \\\n",
       "Means  2.960000  4.740000   0.546716       498.120000            0.792270   \n",
       "STDs   0.197949  0.664247   0.021704        14.962047            0.019091   \n",
       "Means  2.680000  4.380000   0.205899       198.340000            0.448329   \n",
       "STDs   0.471212  0.490314   0.020593        17.681548            0.040249   \n",
       "\n",
       "       avg_degree_centrality  avg_betweenness_centrality  \\\n",
       "Means               0.546716                    0.015984   \n",
       "STDs                0.021704                    0.001982   \n",
       "Means               0.205899                    0.026101   \n",
       "STDs                0.020593                    0.001684   \n",
       "\n",
       "       avg_closeness_centrality  average_shortest_path_length  \n",
       "Means                  0.644395                      1.658651  \n",
       "STDs                   0.025734                      0.083118  \n",
       "Means                  0.488545                      2.107548  \n",
       "STDs                   0.018029                      0.078218  "
      ]
     },
     "execution_count": 49,
     "metadata": {},
     "output_type": "execute_result"
    }
   ],
   "source": [
    "pearson_network_TwoReg_Ox_1_98_averged"
   ]
  },
  {
   "cell_type": "code",
   "execution_count": 50,
   "id": "a26efa78-7c90-4b7f-88df-6a6a01018e7e",
   "metadata": {},
   "outputs": [],
   "source": [
    "pearson_network_TwoReg_Ox_1_98_averged.to_csv('Excels/10.csv')"
   ]
  },
  {
   "cell_type": "code",
   "execution_count": null,
   "id": "5491d1d6-1538-4a25-ab17-536b40599bda",
   "metadata": {},
   "outputs": [],
   "source": []
  },
  {
   "cell_type": "markdown",
   "id": "e03a9bbb-a307-42ed-b5a5-f298a7ae675e",
   "metadata": {},
   "source": [
    "# 11) Tehran 2 Regime Pearson (Based on Median Threshold) Period of 90 Far - 00 Far/ 50 windows of 100 Records"
   ]
  },
  {
   "cell_type": "code",
   "execution_count": 53,
   "id": "9354ae69-078a-445a-b0fd-2b5ea161e7b6",
   "metadata": {},
   "outputs": [
    {
     "name": "stdout",
     "output_type": "stream",
     "text": [
      "Number of columns data in our DataFrame is = 46\n",
      "fixed_thr= 0.16617228203412682\n"
     ]
    }
   ],
   "source": [
    "nm = Net_moduls()\n",
    "pearson_network_TwoReg_Ox_90_00_averged = nm.get_network_features_averaged_median(tehran_df_completeDates, regimes_column= tehran_df_reg['Ox_2'],method='pearson',edges_threshold=200, target_window=100, target_length=50)"
   ]
  },
  {
   "cell_type": "code",
   "execution_count": 54,
   "id": "78c6e2d7-14b6-45fb-a621-ce877122f168",
   "metadata": {},
   "outputs": [
    {
     "data": {
      "text/html": [
       "<div>\n",
       "<style scoped>\n",
       "    .dataframe tbody tr th:only-of-type {\n",
       "        vertical-align: middle;\n",
       "    }\n",
       "\n",
       "    .dataframe tbody tr th {\n",
       "        vertical-align: top;\n",
       "    }\n",
       "\n",
       "    .dataframe thead th {\n",
       "        text-align: right;\n",
       "    }\n",
       "</style>\n",
       "<table border=\"1\" class=\"dataframe\">\n",
       "  <thead>\n",
       "    <tr style=\"text-align: right;\">\n",
       "      <th></th>\n",
       "      <th>radius</th>\n",
       "      <th>diameter</th>\n",
       "      <th>densities</th>\n",
       "      <th>number_of_edges</th>\n",
       "      <th>average_clustering</th>\n",
       "      <th>avg_degree_centrality</th>\n",
       "      <th>avg_betweenness_centrality</th>\n",
       "      <th>avg_closeness_centrality</th>\n",
       "      <th>average_shortest_path_length</th>\n",
       "    </tr>\n",
       "  </thead>\n",
       "  <tbody>\n",
       "    <tr>\n",
       "      <th>Means</th>\n",
       "      <td>2.000000</td>\n",
       "      <td>3.480000</td>\n",
       "      <td>0.509014</td>\n",
       "      <td>521.420000</td>\n",
       "      <td>0.769993</td>\n",
       "      <td>0.509014</td>\n",
       "      <td>0.012651</td>\n",
       "      <td>0.670329</td>\n",
       "      <td>1.554076</td>\n",
       "    </tr>\n",
       "    <tr>\n",
       "      <th>STDs</th>\n",
       "      <td>0.000000</td>\n",
       "      <td>0.504672</td>\n",
       "      <td>0.025539</td>\n",
       "      <td>19.397128</td>\n",
       "      <td>0.015423</td>\n",
       "      <td>0.025539</td>\n",
       "      <td>0.001091</td>\n",
       "      <td>0.018930</td>\n",
       "      <td>0.050316</td>\n",
       "    </tr>\n",
       "    <tr>\n",
       "      <th>Means</th>\n",
       "      <td>2.180000</td>\n",
       "      <td>3.860000</td>\n",
       "      <td>0.255478</td>\n",
       "      <td>249.740000</td>\n",
       "      <td>0.472647</td>\n",
       "      <td>0.255478</td>\n",
       "      <td>0.021175</td>\n",
       "      <td>0.536306</td>\n",
       "      <td>1.905228</td>\n",
       "    </tr>\n",
       "    <tr>\n",
       "      <th>STDs</th>\n",
       "      <td>0.388088</td>\n",
       "      <td>0.350510</td>\n",
       "      <td>0.021173</td>\n",
       "      <td>17.778467</td>\n",
       "      <td>0.036595</td>\n",
       "      <td>0.021173</td>\n",
       "      <td>0.000962</td>\n",
       "      <td>0.013008</td>\n",
       "      <td>0.046112</td>\n",
       "    </tr>\n",
       "  </tbody>\n",
       "</table>\n",
       "</div>"
      ],
      "text/plain": [
       "         radius  diameter  densities  number_of_edges  average_clustering  \\\n",
       "Means  2.000000  3.480000   0.509014       521.420000            0.769993   \n",
       "STDs   0.000000  0.504672   0.025539        19.397128            0.015423   \n",
       "Means  2.180000  3.860000   0.255478       249.740000            0.472647   \n",
       "STDs   0.388088  0.350510   0.021173        17.778467            0.036595   \n",
       "\n",
       "       avg_degree_centrality  avg_betweenness_centrality  \\\n",
       "Means               0.509014                    0.012651   \n",
       "STDs                0.025539                    0.001091   \n",
       "Means               0.255478                    0.021175   \n",
       "STDs                0.021173                    0.000962   \n",
       "\n",
       "       avg_closeness_centrality  average_shortest_path_length  \n",
       "Means                  0.670329                      1.554076  \n",
       "STDs                   0.018930                      0.050316  \n",
       "Means                  0.536306                      1.905228  \n",
       "STDs                   0.013008                      0.046112  "
      ]
     },
     "execution_count": 54,
     "metadata": {},
     "output_type": "execute_result"
    }
   ],
   "source": [
    "pearson_network_TwoReg_Ox_90_00_averged"
   ]
  },
  {
   "cell_type": "code",
   "execution_count": 55,
   "id": "34eaac5a-2cb2-4bfb-b82d-b27c444b736e",
   "metadata": {},
   "outputs": [],
   "source": [
    "pearson_network_TwoReg_Ox_90_00_averged.to_csv('Excels/11.csv')"
   ]
  },
  {
   "cell_type": "markdown",
   "id": "7803ea89-d8ab-4898-a4bd-74b7c396022e",
   "metadata": {},
   "source": [
    "# 12) Tehran 2 Regime Entropy (Based on Median Threshold) Period of 90 Far - 00 Far"
   ]
  },
  {
   "cell_type": "code",
   "execution_count": 56,
   "id": "fabcc32f-520c-4eb5-870c-0a39bf32e7c1",
   "metadata": {},
   "outputs": [],
   "source": [
    "thr12_1 = nm.find_median_entropy_threshold(tehran_df_TwoReg_Ox_1_same_length)\n",
    "thr12_2 = nm.find_median_entropy_threshold(tehran_df_TwoReg_Ox_2_same_length)\n",
    "thr12 = min(thr12_1, thr12_2)"
   ]
  },
  {
   "cell_type": "code",
   "execution_count": 57,
   "id": "e917d130-5da7-44ee-b9b3-696f1b6a3686",
   "metadata": {},
   "outputs": [
    {
     "data": {
      "text/plain": [
       "0.007553689098620789"
      ]
     },
     "execution_count": 57,
     "metadata": {},
     "output_type": "execute_result"
    }
   ],
   "source": [
    "thr12"
   ]
  },
  {
   "cell_type": "code",
   "execution_count": 58,
   "id": "5a0f68c3-faf6-437e-a6c7-811c30d54f58",
   "metadata": {},
   "outputs": [],
   "source": [
    "nm = Net_moduls()\n",
    "entropy_network_TwoReg_Ox_1 = nm.construct_network(tehran_df_TwoReg_Ox_1_same_length, method='entropy', threshold=thr12)"
   ]
  },
  {
   "cell_type": "code",
   "execution_count": 59,
   "id": "00fee4c3-2d4e-4936-9252-5bf377d24f6c",
   "metadata": {},
   "outputs": [
    {
     "data": {
      "text/html": [
       "<div>\n",
       "<style scoped>\n",
       "    .dataframe tbody tr th:only-of-type {\n",
       "        vertical-align: middle;\n",
       "    }\n",
       "\n",
       "    .dataframe tbody tr th {\n",
       "        vertical-align: top;\n",
       "    }\n",
       "\n",
       "    .dataframe thead th {\n",
       "        text-align: right;\n",
       "    }\n",
       "</style>\n",
       "<table border=\"1\" class=\"dataframe\">\n",
       "  <thead>\n",
       "    <tr style=\"text-align: right;\">\n",
       "      <th></th>\n",
       "      <th>radius</th>\n",
       "      <th>diameter</th>\n",
       "      <th>densities</th>\n",
       "      <th>number_of_edges</th>\n",
       "      <th>average_clustering</th>\n",
       "      <th>avg_degree_centrality</th>\n",
       "      <th>avg_betweenness_centrality</th>\n",
       "      <th>avg_closeness_centrality</th>\n",
       "      <th>average_shortest_path_length</th>\n",
       "    </tr>\n",
       "  </thead>\n",
       "  <tbody>\n",
       "    <tr>\n",
       "      <th>0</th>\n",
       "      <td>2</td>\n",
       "      <td>2</td>\n",
       "      <td>0.800966</td>\n",
       "      <td>829</td>\n",
       "      <td>0.834113</td>\n",
       "      <td>0.800966</td>\n",
       "      <td>0.004523</td>\n",
       "      <td>0.841627</td>\n",
       "      <td>1.199034</td>\n",
       "    </tr>\n",
       "  </tbody>\n",
       "</table>\n",
       "</div>"
      ],
      "text/plain": [
       "   radius  diameter  densities  number_of_edges  average_clustering  \\\n",
       "0       2         2   0.800966              829            0.834113   \n",
       "\n",
       "   avg_degree_centrality  avg_betweenness_centrality  \\\n",
       "0               0.800966                    0.004523   \n",
       "\n",
       "   avg_closeness_centrality  average_shortest_path_length  \n",
       "0                  0.841627                      1.199034  "
      ]
     },
     "execution_count": 59,
     "metadata": {},
     "output_type": "execute_result"
    }
   ],
   "source": [
    "nm.get_network_features(entropy_network_TwoReg_Ox_1)"
   ]
  },
  {
   "cell_type": "code",
   "execution_count": 60,
   "id": "febfa92c-9174-426a-ba14-4776156ec7ba",
   "metadata": {},
   "outputs": [],
   "source": [
    "nm.get_network_features(entropy_network_TwoReg_Ox_1).to_csv('Excels/12_1.csv')"
   ]
  },
  {
   "cell_type": "code",
   "execution_count": 61,
   "id": "642fab9f-25e8-4399-b2e1-38351af0e521",
   "metadata": {},
   "outputs": [
    {
     "data": {
      "text/plain": [
       "array({'M2': 22, 'HOUSE': 22, 'GDP': 22, 'Gold': 25, 'Mansojat': 26, 'M1': 30, 'CPI': 30, 'Amlakva': 31, 'Bimeh': 33, 'USD': 34, 'GazaeeBejozGhand': 34, 'paper': 34, 'index': 35, 'Euro': 35, 'GhandVaShekar': 35, 'Daroee': 35, 'SayerMali': 36, 'KanehayeFelezi': 36, 'Wood': 37, 'KanehayeGeyreFelezi': 37, 'SarmayeGozari': 37, 'Mali': 37, 'Coin': 38, 'Agriculture': 38, 'FelezateAsasi': 38, 'VasayelErtebati': 38, 'AbzaralatePezeshki': 38, 'EstekrajeNaft': 39, 'EntesharVaChap': 39, 'FaravardehayeNafti': 39, 'MashinAlat': 39, 'DastgahayeBargi': 39, 'Shimiyaee': 39, 'KashiVaSeramik': 39, 'HamlVaNaghl': 39, 'khodrosazi': 39, 'CoalMining': 40, 'Bank': 40, 'FaniVaMohandesi': 40, 'Brent Oil': 41, 'MahsolateFelezi': 41, 'SayerMadan': 41, 'ChandReshteSanati': 41, 'Rayaneh': 42, 'Lastic': 44, 'Siman': 44},\n",
       "      dtype=object)"
      ]
     },
     "execution_count": 61,
     "metadata": {},
     "output_type": "execute_result"
    }
   ],
   "source": [
    "b12_1 = dict(nx.degree(entropy_network_TwoReg_Ox_1))\n",
    "b12_1 = np.array(dict(sorted(b12_1.items(), key=lambda item: item[1])))\n",
    "b12_1"
   ]
  },
  {
   "cell_type": "code",
   "execution_count": null,
   "id": "c362c88e-4d22-4469-ac03-896b73be1120",
   "metadata": {},
   "outputs": [],
   "source": [
    "entropy_network_TwoReg_Ox_2 = nm.construct_network(tehran_df_TwoReg_Ox_2_same_length, method='entropy', threshold=thr12)"
   ]
  },
  {
   "cell_type": "code",
   "execution_count": null,
   "id": "5e613acc-aea5-4889-929b-581f3d02f8af",
   "metadata": {},
   "outputs": [
    {
     "data": {
      "text/html": [
       "<div>\n",
       "<style scoped>\n",
       "    .dataframe tbody tr th:only-of-type {\n",
       "        vertical-align: middle;\n",
       "    }\n",
       "\n",
       "    .dataframe tbody tr th {\n",
       "        vertical-align: top;\n",
       "    }\n",
       "\n",
       "    .dataframe thead th {\n",
       "        text-align: right;\n",
       "    }\n",
       "</style>\n",
       "<table border=\"1\" class=\"dataframe\">\n",
       "  <thead>\n",
       "    <tr style=\"text-align: right;\">\n",
       "      <th></th>\n",
       "      <th>radius</th>\n",
       "      <th>diameter</th>\n",
       "      <th>densities</th>\n",
       "      <th>number_of_edges</th>\n",
       "      <th>average_clustering</th>\n",
       "      <th>avg_degree_centrality</th>\n",
       "      <th>avg_betweenness_centrality</th>\n",
       "      <th>avg_closeness_centrality</th>\n",
       "      <th>average_shortest_path_length</th>\n",
       "    </tr>\n",
       "  </thead>\n",
       "  <tbody>\n",
       "    <tr>\n",
       "      <th>0</th>\n",
       "      <td>2</td>\n",
       "      <td>2</td>\n",
       "      <td>0.737198</td>\n",
       "      <td>763</td>\n",
       "      <td>0.743586</td>\n",
       "      <td>0.737198</td>\n",
       "      <td>0.005973</td>\n",
       "      <td>0.794813</td>\n",
       "      <td>1.262802</td>\n",
       "    </tr>\n",
       "  </tbody>\n",
       "</table>\n",
       "</div>"
      ],
      "text/plain": [
       "   radius  diameter  densities  number_of_edges  average_clustering  \\\n",
       "0       2         2   0.737198              763            0.743586   \n",
       "\n",
       "   avg_degree_centrality  avg_betweenness_centrality  \\\n",
       "0               0.737198                    0.005973   \n",
       "\n",
       "   avg_closeness_centrality  average_shortest_path_length  \n",
       "0                  0.794813                      1.262802  "
      ]
     },
     "execution_count": 63,
     "metadata": {},
     "output_type": "execute_result"
    }
   ],
   "source": [
    "nm.get_network_features(entropy_network_TwoReg_Ox_2)"
   ]
  },
  {
   "cell_type": "code",
   "execution_count": null,
   "id": "f5b03906-06b0-42ed-9a21-21f9cbc3ce13",
   "metadata": {},
   "outputs": [],
   "source": [
    "nm.get_network_features(entropy_network_TwoReg_Ox_2).to_csv('Excels/12_2.csv')"
   ]
  },
  {
   "cell_type": "code",
   "execution_count": null,
   "id": "7dfbf01d-d4e1-448e-8a18-c4b26dfd3fe3",
   "metadata": {},
   "outputs": [
    {
     "data": {
      "text/plain": [
       "array({'Brent Oil': 25, 'GhandVaShekar': 27, 'MahsolateFelezi': 28, 'M2': 29, 'EntesharVaChap': 29, 'KashiVaSeramik': 29, 'index': 30, 'SayerMadan': 30, 'GDP': 30, 'khodrosazi': 30, 'VasayelErtebati': 31, 'Siman': 31, 'KanehayeFelezi': 31, 'AbzaralatePezeshki': 31, 'Bank': 31, 'GazaeeBejozGhand': 31, 'Rayaneh': 31, 'M1': 32, 'EstekrajeNaft': 32, 'FelezateAsasi': 32, 'paper': 32, 'Mali': 32, 'SarmayeGozari': 33, 'HOUSE': 33, 'Amlakva': 33, 'KanehayeGeyreFelezi': 33, 'Wood': 34, 'MashinAlat': 34, 'Bimeh': 34, 'HamlVaNaghl': 34, 'Gold': 35, 'SayerMali': 35, 'FaniVaMohandesi': 35, 'Lastic': 36, 'CPI': 36, 'Euro': 37, 'USD': 37, 'CoalMining': 37, 'Coin': 38, 'Mansojat': 38, 'FaravardehayeNafti': 38, 'DastgahayeBargi': 38, 'ChandReshteSanati': 38, 'Agriculture': 38, 'Daroee': 39, 'Shimiyaee': 39},\n",
       "      dtype=object)"
      ]
     },
     "execution_count": 65,
     "metadata": {},
     "output_type": "execute_result"
    }
   ],
   "source": [
    "b12_2 = dict(nx.degree(entropy_network_TwoReg_Ox_2))\n",
    "b12_2 = np.array(dict(sorted(b12_2.items(), key=lambda item: item[1])))\n",
    "b12_2"
   ]
  },
  {
   "cell_type": "markdown",
   "id": "91ebc55f-ae36-4164-b0a1-e569296a3bf9",
   "metadata": {},
   "source": [
    "# 12.5) Tehran 2 Regime Entropy (Based on Median Threshold) Period of 90 Far - 98 Far"
   ]
  },
  {
   "cell_type": "code",
   "execution_count": 69,
   "id": "a6d404db-1b7d-4cba-89ac-ffc279ef4fb3",
   "metadata": {},
   "outputs": [],
   "source": [
    "thr12_5_1 = nm.find_median_entropy_threshold(tehran_df_TwoReg_Ox_1_same_length_98)\n",
    "thr12_5_2 = nm.find_median_entropy_threshold(tehran_df_TwoReg_Ox_2_same_length_98)\n",
    "thr12_5 = min(thr12_5_1, thr12_5_2)"
   ]
  },
  {
   "cell_type": "code",
   "execution_count": 70,
   "id": "d6ce64f9-3c3f-46ef-9278-7a1cb060f83f",
   "metadata": {},
   "outputs": [
    {
     "data": {
      "text/plain": [
       "0.008698537969941413"
      ]
     },
     "execution_count": 70,
     "metadata": {},
     "output_type": "execute_result"
    }
   ],
   "source": [
    "thr12_5"
   ]
  },
  {
   "cell_type": "code",
   "execution_count": 71,
   "id": "6f974e1e-029a-485d-b977-604b16e85f01",
   "metadata": {},
   "outputs": [],
   "source": [
    "nm = Net_moduls()\n",
    "entropy_network_TwoReg_Ox_98_1 = nm.construct_network(tehran_df_TwoReg_Ox_1_same_length_98, method='entropy', threshold=thr12_5)"
   ]
  },
  {
   "cell_type": "code",
   "execution_count": 72,
   "id": "bc075848-47ff-480e-bbb3-d5e7f65f6a82",
   "metadata": {},
   "outputs": [
    {
     "data": {
      "text/html": [
       "<div>\n",
       "<style scoped>\n",
       "    .dataframe tbody tr th:only-of-type {\n",
       "        vertical-align: middle;\n",
       "    }\n",
       "\n",
       "    .dataframe tbody tr th {\n",
       "        vertical-align: top;\n",
       "    }\n",
       "\n",
       "    .dataframe thead th {\n",
       "        text-align: right;\n",
       "    }\n",
       "</style>\n",
       "<table border=\"1\" class=\"dataframe\">\n",
       "  <thead>\n",
       "    <tr style=\"text-align: right;\">\n",
       "      <th></th>\n",
       "      <th>radius</th>\n",
       "      <th>diameter</th>\n",
       "      <th>densities</th>\n",
       "      <th>number_of_edges</th>\n",
       "      <th>average_clustering</th>\n",
       "      <th>avg_degree_centrality</th>\n",
       "      <th>avg_betweenness_centrality</th>\n",
       "      <th>avg_closeness_centrality</th>\n",
       "      <th>average_shortest_path_length</th>\n",
       "    </tr>\n",
       "  </thead>\n",
       "  <tbody>\n",
       "    <tr>\n",
       "      <th>0</th>\n",
       "      <td>2</td>\n",
       "      <td>2</td>\n",
       "      <td>0.823188</td>\n",
       "      <td>852</td>\n",
       "      <td>0.846342</td>\n",
       "      <td>0.823188</td>\n",
       "      <td>0.004018</td>\n",
       "      <td>0.85632</td>\n",
       "      <td>1.176812</td>\n",
       "    </tr>\n",
       "  </tbody>\n",
       "</table>\n",
       "</div>"
      ],
      "text/plain": [
       "   radius  diameter  densities  number_of_edges  average_clustering  \\\n",
       "0       2         2   0.823188              852            0.846342   \n",
       "\n",
       "   avg_degree_centrality  avg_betweenness_centrality  \\\n",
       "0               0.823188                    0.004018   \n",
       "\n",
       "   avg_closeness_centrality  average_shortest_path_length  \n",
       "0                   0.85632                      1.176812  "
      ]
     },
     "execution_count": 72,
     "metadata": {},
     "output_type": "execute_result"
    }
   ],
   "source": [
    "nm.get_network_features(entropy_network_TwoReg_Ox_98_1)"
   ]
  },
  {
   "cell_type": "code",
   "execution_count": 73,
   "id": "3a87ab53-83c5-461e-b3d4-703ffe55847d",
   "metadata": {},
   "outputs": [],
   "source": [
    "nm.get_network_features(entropy_network_TwoReg_Ox_98_1).to_csv('Excels/12.5_1.csv')"
   ]
  },
  {
   "cell_type": "code",
   "execution_count": 74,
   "id": "b13a4d99-6b11-45d9-bd54-041966fc997e",
   "metadata": {},
   "outputs": [
    {
     "data": {
      "text/plain": [
       "array({'M1': 25, 'M2': 26, 'CPI': 28, 'HOUSE': 29, 'GDP': 29, 'Gold': 30, 'GazaeeBejozGhand': 31, 'index': 33, 'GhandVaShekar': 34, 'Rayaneh': 34, 'Bank': 34, 'ChandReshteSanati': 34, 'MahsolateFelezi': 35, 'AbzaralatePezeshki': 35, 'DastgahayeBargi': 35, 'Bimeh': 35, 'FaravardehayeNafti': 36, 'SarmayeGozari': 36, 'Mali': 36, 'USD': 37, 'FaniVaMohandesi': 37, 'FelezateAsasi': 38, 'Shimiyaee': 38, 'KashiVaSeramik': 38, 'HamlVaNaghl': 38, 'Amlakva': 38, 'Brent Oil': 38, 'paper': 38, 'Wood': 40, 'khodrosazi': 40, 'SayerMadan': 40, 'Siman': 40, 'Euro': 41, 'EstekrajeNaft': 41, 'Mansojat': 41, 'Coin': 41, 'Agriculture': 42, 'Daroee': 42, 'KanehayeGeyreFelezi': 42, 'EntesharVaChap': 42, 'VasayelErtebati': 42, 'KanehayeFelezi': 42, 'CoalMining': 43, 'MashinAlat': 43, 'SayerMali': 43, 'Lastic': 44},\n",
       "      dtype=object)"
      ]
     },
     "execution_count": 74,
     "metadata": {},
     "output_type": "execute_result"
    }
   ],
   "source": [
    "b12_5_1 = dict(nx.degree(entropy_network_TwoReg_Ox_98_1))\n",
    "b12_5_1 = np.array(dict(sorted(b12_5_1.items(), key=lambda item: item[1])))\n",
    "b12_5_1"
   ]
  },
  {
   "cell_type": "code",
   "execution_count": 75,
   "id": "577e0ce2-bd9f-4e6f-9f2d-eda29c478555",
   "metadata": {},
   "outputs": [],
   "source": [
    "entropy_network_TwoReg_Ox_98_2 = nm.construct_network(tehran_df_TwoReg_Ox_2_same_length_98, method='entropy', threshold=thr12_5)"
   ]
  },
  {
   "cell_type": "code",
   "execution_count": 76,
   "id": "915dbabe-8bd5-4a7e-a561-171f9e11a282",
   "metadata": {},
   "outputs": [
    {
     "data": {
      "text/html": [
       "<div>\n",
       "<style scoped>\n",
       "    .dataframe tbody tr th:only-of-type {\n",
       "        vertical-align: middle;\n",
       "    }\n",
       "\n",
       "    .dataframe tbody tr th {\n",
       "        vertical-align: top;\n",
       "    }\n",
       "\n",
       "    .dataframe thead th {\n",
       "        text-align: right;\n",
       "    }\n",
       "</style>\n",
       "<table border=\"1\" class=\"dataframe\">\n",
       "  <thead>\n",
       "    <tr style=\"text-align: right;\">\n",
       "      <th></th>\n",
       "      <th>radius</th>\n",
       "      <th>diameter</th>\n",
       "      <th>densities</th>\n",
       "      <th>number_of_edges</th>\n",
       "      <th>average_clustering</th>\n",
       "      <th>avg_degree_centrality</th>\n",
       "      <th>avg_betweenness_centrality</th>\n",
       "      <th>avg_closeness_centrality</th>\n",
       "      <th>average_shortest_path_length</th>\n",
       "    </tr>\n",
       "  </thead>\n",
       "  <tbody>\n",
       "    <tr>\n",
       "      <th>0</th>\n",
       "      <td>2</td>\n",
       "      <td>2</td>\n",
       "      <td>0.740097</td>\n",
       "      <td>766</td>\n",
       "      <td>0.74834</td>\n",
       "      <td>0.740097</td>\n",
       "      <td>0.005907</td>\n",
       "      <td>0.797069</td>\n",
       "      <td>1.259903</td>\n",
       "    </tr>\n",
       "  </tbody>\n",
       "</table>\n",
       "</div>"
      ],
      "text/plain": [
       "   radius  diameter  densities  number_of_edges  average_clustering  \\\n",
       "0       2         2   0.740097              766             0.74834   \n",
       "\n",
       "   avg_degree_centrality  avg_betweenness_centrality  \\\n",
       "0               0.740097                    0.005907   \n",
       "\n",
       "   avg_closeness_centrality  average_shortest_path_length  \n",
       "0                  0.797069                      1.259903  "
      ]
     },
     "execution_count": 76,
     "metadata": {},
     "output_type": "execute_result"
    }
   ],
   "source": [
    "nm.get_network_features(entropy_network_TwoReg_Ox_98_2)"
   ]
  },
  {
   "cell_type": "code",
   "execution_count": 77,
   "id": "366121e1-e093-4b6f-96c5-dd5d856316b2",
   "metadata": {},
   "outputs": [],
   "source": [
    "nm.get_network_features(entropy_network_TwoReg_Ox_98_2).to_csv('Excels/12.5_2.csv')"
   ]
  },
  {
   "cell_type": "code",
   "execution_count": 78,
   "id": "92027bae-bdf9-4aca-89f6-0e70f4ce7fa7",
   "metadata": {},
   "outputs": [
    {
     "data": {
      "text/plain": [
       "array({'EntesharVaChap': 23, 'GDP': 24, 'index': 26, 'SayerMadan': 26, 'M1': 28, 'M2': 30, 'EstekrajeNaft': 30, 'Amlakva': 30, 'khodrosazi': 31, 'Siman': 31, 'MahsolateFelezi': 31, 'Coin': 31, 'AbzaralatePezeshki': 31, 'Gold': 32, 'Euro': 32, 'Lastic': 33, 'GhandVaShekar': 33, 'GazaeeBejozGhand': 33, 'HamlVaNaghl': 33, 'Agriculture': 33, 'HOUSE': 34, 'Wood': 34, 'VasayelErtebati': 34, 'FaravardehayeNafti': 34, 'ChandReshteSanati': 34, 'SarmayeGozari': 34, 'SayerMali': 34, 'CoalMining': 35, 'Daroee': 35, 'Bimeh': 35, 'Brent Oil': 35, 'paper': 35, 'Bank': 35, 'Rayaneh': 35, 'Mali': 35, 'KanehayeGeyreFelezi': 35, 'KashiVaSeramik': 36, 'KanehayeFelezi': 36, 'MashinAlat': 37, 'CPI': 37, 'FelezateAsasi': 37, 'USD': 38, 'FaniVaMohandesi': 38, 'DastgahayeBargi': 38, 'Shimiyaee': 40, 'Mansojat': 41},\n",
       "      dtype=object)"
      ]
     },
     "execution_count": 78,
     "metadata": {},
     "output_type": "execute_result"
    }
   ],
   "source": [
    "b12_5_2 = dict(nx.degree(entropy_network_TwoReg_Ox_98_2))\n",
    "b12_5_2 = np.array(dict(sorted(b12_5_2.items(), key=lambda item: item[1])))\n",
    "b12_5_2"
   ]
  },
  {
   "cell_type": "markdown",
   "id": "58398aa8-5b08-425d-9eaf-3af5bdfb4e1c",
   "metadata": {
    "tags": []
   },
   "source": [
    "# 13) Tehran 2 Regime Entropy (Based on Median Threshold) Period of 90 Far - 98 Dey/ Last 100 Records"
   ]
  },
  {
   "cell_type": "code",
   "execution_count": 79,
   "id": "433b42d9-a3c4-4fe4-af3d-40f40defc125",
   "metadata": {},
   "outputs": [],
   "source": [
    "thr13_1 = nm.find_median_entropy_threshold(tehran_df_TwoReg_Ox_1_same_length_98[-100:])\n",
    "thr13_2 = nm.find_median_entropy_threshold(tehran_df_TwoReg_Ox_2_same_length_98[-100:])\n",
    "thr13 = min(thr13_1, thr13_2)"
   ]
  },
  {
   "cell_type": "code",
   "execution_count": 80,
   "id": "f4024870-f6ee-4f35-ae67-530f2cc13165",
   "metadata": {},
   "outputs": [
    {
     "data": {
      "text/plain": [
       "0.024630480428955537"
      ]
     },
     "execution_count": 80,
     "metadata": {},
     "output_type": "execute_result"
    }
   ],
   "source": [
    "thr13"
   ]
  },
  {
   "cell_type": "code",
   "execution_count": 81,
   "id": "445bf3df-35c6-45d0-bdde-addb1433db2d",
   "metadata": {},
   "outputs": [],
   "source": [
    "entropy_network_TwoReg_Ox_1_98_last100 = nm.construct_network(tehran_df_TwoReg_Ox_1_same_length_98[-100:], method='entropy', threshold=thr13)"
   ]
  },
  {
   "cell_type": "code",
   "execution_count": 82,
   "id": "b3be7225-00be-4a90-a927-34df1c3441af",
   "metadata": {},
   "outputs": [
    {
     "data": {
      "text/html": [
       "<div>\n",
       "<style scoped>\n",
       "    .dataframe tbody tr th:only-of-type {\n",
       "        vertical-align: middle;\n",
       "    }\n",
       "\n",
       "    .dataframe tbody tr th {\n",
       "        vertical-align: top;\n",
       "    }\n",
       "\n",
       "    .dataframe thead th {\n",
       "        text-align: right;\n",
       "    }\n",
       "</style>\n",
       "<table border=\"1\" class=\"dataframe\">\n",
       "  <thead>\n",
       "    <tr style=\"text-align: right;\">\n",
       "      <th></th>\n",
       "      <th>radius</th>\n",
       "      <th>diameter</th>\n",
       "      <th>densities</th>\n",
       "      <th>number_of_edges</th>\n",
       "      <th>average_clustering</th>\n",
       "      <th>avg_degree_centrality</th>\n",
       "      <th>avg_betweenness_centrality</th>\n",
       "      <th>avg_closeness_centrality</th>\n",
       "      <th>average_shortest_path_length</th>\n",
       "    </tr>\n",
       "  </thead>\n",
       "  <tbody>\n",
       "    <tr>\n",
       "      <th>0</th>\n",
       "      <td>1</td>\n",
       "      <td>2</td>\n",
       "      <td>0.824242</td>\n",
       "      <td>816</td>\n",
       "      <td>0.841163</td>\n",
       "      <td>0.824242</td>\n",
       "      <td>0.004087</td>\n",
       "      <td>0.855469</td>\n",
       "      <td>1.175758</td>\n",
       "    </tr>\n",
       "  </tbody>\n",
       "</table>\n",
       "</div>"
      ],
      "text/plain": [
       "   radius  diameter  densities  number_of_edges  average_clustering  \\\n",
       "0       1         2   0.824242              816            0.841163   \n",
       "\n",
       "   avg_degree_centrality  avg_betweenness_centrality  \\\n",
       "0               0.824242                    0.004087   \n",
       "\n",
       "   avg_closeness_centrality  average_shortest_path_length  \n",
       "0                  0.855469                      1.175758  "
      ]
     },
     "execution_count": 82,
     "metadata": {},
     "output_type": "execute_result"
    }
   ],
   "source": [
    "nm.get_network_features(entropy_network_TwoReg_Ox_1_98_last100)"
   ]
  },
  {
   "cell_type": "code",
   "execution_count": 83,
   "id": "67291beb-6800-44b8-97b8-a4d1a6262ff7",
   "metadata": {},
   "outputs": [],
   "source": [
    "nm.get_network_features(entropy_network_TwoReg_Ox_1_98_last100).to_csv('Excels/13_1.csv')"
   ]
  },
  {
   "cell_type": "code",
   "execution_count": 84,
   "id": "93db88d8-b19e-4fb2-ba8f-d2201a744482",
   "metadata": {},
   "outputs": [
    {
     "data": {
      "text/plain": [
       "array({'Coin': 23, 'Brent Oil': 27, 'EntesharVaChap': 29, 'Euro': 31, 'khodrosazi': 31, 'M2': 32, 'Siman': 32, 'KanehayeFelezi': 33, 'USD': 34, 'CPI': 34, 'HOUSE': 34, 'Bank': 34, 'M1': 35, 'GDP': 35, 'SarmayeGozari': 35, 'Mali': 35, 'Mansojat': 36, 'KashiVaSeramik': 36, 'FaniVaMohandesi': 36, 'Daroee': 36, 'EstekrajeNaft': 36, 'paper': 37, 'Lastic': 37, 'DastgahayeBargi': 37, 'SayerMali': 37, 'HamlVaNaghl': 37, 'FelezateAsasi': 37, 'index': 38, 'Gold': 38, 'FaravardehayeNafti': 38, 'Agriculture': 38, 'ChandReshteSanati': 38, 'KanehayeGeyreFelezi': 38, 'Amlakva': 38, 'Bimeh': 39, 'Shimiyaee': 39, 'CoalMining': 40, 'SayerMadan': 40, 'Wood': 40, 'GazaeeBejozGhand': 40, 'MahsolateFelezi': 41, 'VasayelErtebati': 42, 'GhandVaShekar': 42, 'MashinAlat': 43, 'Rayaneh': 44},\n",
       "      dtype=object)"
      ]
     },
     "execution_count": 84,
     "metadata": {},
     "output_type": "execute_result"
    }
   ],
   "source": [
    "b13_1 = dict(nx.degree(entropy_network_TwoReg_Ox_1_98_last100))\n",
    "b13_1 = np.array(dict(sorted(b13_1.items(), key=lambda item: item[1])))\n",
    "b13_1"
   ]
  },
  {
   "cell_type": "code",
   "execution_count": 85,
   "id": "22d83b8d-94c6-463a-90c7-bda6e348b673",
   "metadata": {},
   "outputs": [],
   "source": [
    "entropy_network_TwoReg_Ox_2_98_last100 = nm.construct_network(tehran_df_TwoReg_Ox_2_same_length_98[-100:], method='entropy', threshold=thr13)"
   ]
  },
  {
   "cell_type": "code",
   "execution_count": 86,
   "id": "c27937f9-e48f-4a7c-b9f2-ae5032a76c67",
   "metadata": {},
   "outputs": [
    {
     "data": {
      "text/html": [
       "<div>\n",
       "<style scoped>\n",
       "    .dataframe tbody tr th:only-of-type {\n",
       "        vertical-align: middle;\n",
       "    }\n",
       "\n",
       "    .dataframe tbody tr th {\n",
       "        vertical-align: top;\n",
       "    }\n",
       "\n",
       "    .dataframe thead th {\n",
       "        text-align: right;\n",
       "    }\n",
       "</style>\n",
       "<table border=\"1\" class=\"dataframe\">\n",
       "  <thead>\n",
       "    <tr style=\"text-align: right;\">\n",
       "      <th></th>\n",
       "      <th>radius</th>\n",
       "      <th>diameter</th>\n",
       "      <th>densities</th>\n",
       "      <th>number_of_edges</th>\n",
       "      <th>average_clustering</th>\n",
       "      <th>avg_degree_centrality</th>\n",
       "      <th>avg_betweenness_centrality</th>\n",
       "      <th>avg_closeness_centrality</th>\n",
       "      <th>average_shortest_path_length</th>\n",
       "    </tr>\n",
       "  </thead>\n",
       "  <tbody>\n",
       "    <tr>\n",
       "      <th>0</th>\n",
       "      <td>2</td>\n",
       "      <td>2</td>\n",
       "      <td>0.694949</td>\n",
       "      <td>688</td>\n",
       "      <td>0.720123</td>\n",
       "      <td>0.694949</td>\n",
       "      <td>0.007094</td>\n",
       "      <td>0.77031</td>\n",
       "      <td>1.305051</td>\n",
       "    </tr>\n",
       "  </tbody>\n",
       "</table>\n",
       "</div>"
      ],
      "text/plain": [
       "   radius  diameter  densities  number_of_edges  average_clustering  \\\n",
       "0       2         2   0.694949              688            0.720123   \n",
       "\n",
       "   avg_degree_centrality  avg_betweenness_centrality  \\\n",
       "0               0.694949                    0.007094   \n",
       "\n",
       "   avg_closeness_centrality  average_shortest_path_length  \n",
       "0                   0.77031                      1.305051  "
      ]
     },
     "execution_count": 86,
     "metadata": {},
     "output_type": "execute_result"
    }
   ],
   "source": [
    "nm.get_network_features(entropy_network_TwoReg_Ox_2_98_last100)"
   ]
  },
  {
   "cell_type": "code",
   "execution_count": 87,
   "id": "9b84a277-8bc6-48fc-9daa-6300f9d06a18",
   "metadata": {},
   "outputs": [],
   "source": [
    "nm.get_network_features(entropy_network_TwoReg_Ox_2_98_last100).to_csv('Excels/13_2.csv')"
   ]
  },
  {
   "cell_type": "code",
   "execution_count": 88,
   "id": "fc81d210-65ce-4e7a-9eba-9e249a22e66a",
   "metadata": {},
   "outputs": [
    {
     "data": {
      "text/plain": [
       "array({'Gold': 20, 'GDP': 20, 'EstekrajeNaft': 22, 'CoalMining': 26, 'CPI': 26, 'Lastic': 26, 'Mali': 27, 'Wood': 27, 'HamlVaNaghl': 28, 'Brent Oil': 28, 'HOUSE': 28, 'FaniVaMohandesi': 28, 'Coin': 28, 'Euro': 28, 'M1': 28, 'index': 29, 'MahsolateFelezi': 29, 'Bank': 29, 'GhandVaShekar': 30, 'Shimiyaee': 30, 'DastgahayeBargi': 30, 'Amlakva': 30, 'SayerMali': 30, 'SarmayeGozari': 31, 'KanehayeFelezi': 31, 'paper': 31, 'M2': 32, 'USD': 32, 'MashinAlat': 32, 'KanehayeGeyreFelezi': 32, 'Mansojat': 33, 'FaravardehayeNafti': 33, 'ChandReshteSanati': 34, 'Bimeh': 34, 'KashiVaSeramik': 34, 'Siman': 35, 'EntesharVaChap': 35, 'GazaeeBejozGhand': 35, 'VasayelErtebati': 35, 'FelezateAsasi': 36, 'Daroee': 36, 'Rayaneh': 36, 'khodrosazi': 37, 'Agriculture': 37, 'SayerMadan': 38},\n",
       "      dtype=object)"
      ]
     },
     "execution_count": 88,
     "metadata": {},
     "output_type": "execute_result"
    }
   ],
   "source": [
    "b13_2 = dict(nx.degree(entropy_network_TwoReg_Ox_2_98_last100))\n",
    "b13_2 = np.array(dict(sorted(b13_2.items(), key=lambda item: item[1])))\n",
    "b13_2"
   ]
  },
  {
   "cell_type": "markdown",
   "id": "26bcd8bd-8dd9-41bf-aa24-05a2dec22301",
   "metadata": {},
   "source": [
    "# 14) Tehran 2 Regime Entropy (Based on Median Threshold) Period of 90 Far - 98 Dey/ 50 windows of 100 Records"
   ]
  },
  {
   "cell_type": "code",
   "execution_count": 90,
   "id": "69589227-2399-4583-9bf4-8d0bbfcbd9ff",
   "metadata": {},
   "outputs": [
    {
     "name": "stdout",
     "output_type": "stream",
     "text": [
      "Number of columns data in our DataFrame is = 46\n",
      "fixed_thr= 0.029448185147545984\n"
     ]
    }
   ],
   "source": [
    "nm = Net_moduls()\n",
    "entropy_network_TwoReg_Ox_90_98_averged = nm.get_network_features_averaged_median(tehran_df[tehran_df.columns[:46]], \\\n",
    "                                                                                  regimes_column= tehran_df_reg.iloc[:-300]['Ox_2'],\\\n",
    "                                                                                  method='entropy',edges_threshold=200, \\\n",
    "                                                                                  target_window=100, \\\n",
    "                                                                                  target_length=50)"
   ]
  },
  {
   "cell_type": "code",
   "execution_count": 91,
   "id": "d9e53e37-66af-4553-8ed2-6bd6c666b436",
   "metadata": {},
   "outputs": [
    {
     "data": {
      "text/html": [
       "<div>\n",
       "<style scoped>\n",
       "    .dataframe tbody tr th:only-of-type {\n",
       "        vertical-align: middle;\n",
       "    }\n",
       "\n",
       "    .dataframe tbody tr th {\n",
       "        vertical-align: top;\n",
       "    }\n",
       "\n",
       "    .dataframe thead th {\n",
       "        text-align: right;\n",
       "    }\n",
       "</style>\n",
       "<table border=\"1\" class=\"dataframe\">\n",
       "  <thead>\n",
       "    <tr style=\"text-align: right;\">\n",
       "      <th></th>\n",
       "      <th>radius</th>\n",
       "      <th>diameter</th>\n",
       "      <th>densities</th>\n",
       "      <th>number_of_edges</th>\n",
       "      <th>average_clustering</th>\n",
       "      <th>avg_degree_centrality</th>\n",
       "      <th>avg_betweenness_centrality</th>\n",
       "      <th>avg_closeness_centrality</th>\n",
       "      <th>average_shortest_path_length</th>\n",
       "    </tr>\n",
       "  </thead>\n",
       "  <tbody>\n",
       "    <tr>\n",
       "      <th>Means</th>\n",
       "      <td>2.0</td>\n",
       "      <td>2.0</td>\n",
       "      <td>0.672020</td>\n",
       "      <td>665.300000</td>\n",
       "      <td>0.719698</td>\n",
       "      <td>0.672020</td>\n",
       "      <td>0.007627</td>\n",
       "      <td>0.761145</td>\n",
       "      <td>1.327980</td>\n",
       "    </tr>\n",
       "    <tr>\n",
       "      <th>STDs</th>\n",
       "      <td>0.0</td>\n",
       "      <td>0.0</td>\n",
       "      <td>0.036773</td>\n",
       "      <td>36.405455</td>\n",
       "      <td>0.026773</td>\n",
       "      <td>0.036773</td>\n",
       "      <td>0.000855</td>\n",
       "      <td>0.019394</td>\n",
       "      <td>0.036773</td>\n",
       "    </tr>\n",
       "    <tr>\n",
       "      <th>Means</th>\n",
       "      <td>2.0</td>\n",
       "      <td>2.0</td>\n",
       "      <td>0.600384</td>\n",
       "      <td>594.380000</td>\n",
       "      <td>0.644677</td>\n",
       "      <td>0.600384</td>\n",
       "      <td>0.009293</td>\n",
       "      <td>0.719110</td>\n",
       "      <td>1.399616</td>\n",
       "    </tr>\n",
       "    <tr>\n",
       "      <th>STDs</th>\n",
       "      <td>0.0</td>\n",
       "      <td>0.0</td>\n",
       "      <td>0.021253</td>\n",
       "      <td>21.040185</td>\n",
       "      <td>0.023678</td>\n",
       "      <td>0.021253</td>\n",
       "      <td>0.000494</td>\n",
       "      <td>0.011690</td>\n",
       "      <td>0.021253</td>\n",
       "    </tr>\n",
       "  </tbody>\n",
       "</table>\n",
       "</div>"
      ],
      "text/plain": [
       "       radius  diameter  densities  number_of_edges  average_clustering  \\\n",
       "Means     2.0       2.0   0.672020       665.300000            0.719698   \n",
       "STDs      0.0       0.0   0.036773        36.405455            0.026773   \n",
       "Means     2.0       2.0   0.600384       594.380000            0.644677   \n",
       "STDs      0.0       0.0   0.021253        21.040185            0.023678   \n",
       "\n",
       "       avg_degree_centrality  avg_betweenness_centrality  \\\n",
       "Means               0.672020                    0.007627   \n",
       "STDs                0.036773                    0.000855   \n",
       "Means               0.600384                    0.009293   \n",
       "STDs                0.021253                    0.000494   \n",
       "\n",
       "       avg_closeness_centrality  average_shortest_path_length  \n",
       "Means                  0.761145                      1.327980  \n",
       "STDs                   0.019394                      0.036773  \n",
       "Means                  0.719110                      1.399616  \n",
       "STDs                   0.011690                      0.021253  "
      ]
     },
     "execution_count": 91,
     "metadata": {},
     "output_type": "execute_result"
    }
   ],
   "source": [
    "entropy_network_TwoReg_Ox_90_98_averged"
   ]
  },
  {
   "cell_type": "code",
   "execution_count": 92,
   "id": "286c080b-c987-4347-981e-c638aa80e461",
   "metadata": {},
   "outputs": [],
   "source": [
    "entropy_network_TwoReg_Ox_90_98_averged.to_csv('Excels/14.csv')"
   ]
  },
  {
   "cell_type": "markdown",
   "id": "60fc4ed4-991f-44c9-ac33-e825fc27cf5c",
   "metadata": {},
   "source": [
    "# 15) Tehran 2 Regime Entropy (Based on Median Threshold) Period of 90 Far - 00 Far/ 50 windows of 100 Records"
   ]
  },
  {
   "cell_type": "code",
   "execution_count": 93,
   "id": "91e41abe-8581-41b4-8508-9740e91955f3",
   "metadata": {},
   "outputs": [
    {
     "name": "stdout",
     "output_type": "stream",
     "text": [
      "Number of columns data in our DataFrame is = 46\n",
      "fixed_thr= 0.02453523351719661\n"
     ]
    }
   ],
   "source": [
    "nm = Net_moduls()\n",
    "entropy_network_TwoReg_Ox_90_00_averged = nm.get_network_features_averaged_median(tehran_df_completeDates[tehran_df_completeDates.columns[:46]], \\\n",
    "                                                                                  regimes_column= tehran_df_reg['Ox_2'],\\\n",
    "                                                                                  method='entropy',edges_threshold=200, \\\n",
    "                                                                                  target_window=100, target_length=50)"
   ]
  },
  {
   "cell_type": "code",
   "execution_count": 94,
   "id": "f61a347c-29af-442f-93bc-2b495dd5548d",
   "metadata": {},
   "outputs": [
    {
     "data": {
      "text/html": [
       "<div>\n",
       "<style scoped>\n",
       "    .dataframe tbody tr th:only-of-type {\n",
       "        vertical-align: middle;\n",
       "    }\n",
       "\n",
       "    .dataframe tbody tr th {\n",
       "        vertical-align: top;\n",
       "    }\n",
       "\n",
       "    .dataframe thead th {\n",
       "        text-align: right;\n",
       "    }\n",
       "</style>\n",
       "<table border=\"1\" class=\"dataframe\">\n",
       "  <thead>\n",
       "    <tr style=\"text-align: right;\">\n",
       "      <th></th>\n",
       "      <th>radius</th>\n",
       "      <th>diameter</th>\n",
       "      <th>densities</th>\n",
       "      <th>number_of_edges</th>\n",
       "      <th>average_clustering</th>\n",
       "      <th>avg_degree_centrality</th>\n",
       "      <th>avg_betweenness_centrality</th>\n",
       "      <th>avg_closeness_centrality</th>\n",
       "      <th>average_shortest_path_length</th>\n",
       "    </tr>\n",
       "  </thead>\n",
       "  <tbody>\n",
       "    <tr>\n",
       "      <th>Means</th>\n",
       "      <td>2.0</td>\n",
       "      <td>2.0</td>\n",
       "      <td>0.690010</td>\n",
       "      <td>714.160000</td>\n",
       "      <td>0.738252</td>\n",
       "      <td>0.690010</td>\n",
       "      <td>0.007045</td>\n",
       "      <td>0.770551</td>\n",
       "      <td>1.309990</td>\n",
       "    </tr>\n",
       "    <tr>\n",
       "      <th>STDs</th>\n",
       "      <td>0.0</td>\n",
       "      <td>0.0</td>\n",
       "      <td>0.019697</td>\n",
       "      <td>20.386430</td>\n",
       "      <td>0.020286</td>\n",
       "      <td>0.019697</td>\n",
       "      <td>0.000448</td>\n",
       "      <td>0.012121</td>\n",
       "      <td>0.019697</td>\n",
       "    </tr>\n",
       "    <tr>\n",
       "      <th>Means</th>\n",
       "      <td>2.0</td>\n",
       "      <td>2.0</td>\n",
       "      <td>0.713131</td>\n",
       "      <td>706.000000</td>\n",
       "      <td>0.740673</td>\n",
       "      <td>0.713131</td>\n",
       "      <td>0.006671</td>\n",
       "      <td>0.782041</td>\n",
       "      <td>1.286869</td>\n",
       "    </tr>\n",
       "    <tr>\n",
       "      <th>STDs</th>\n",
       "      <td>0.0</td>\n",
       "      <td>0.0</td>\n",
       "      <td>0.021369</td>\n",
       "      <td>21.155402</td>\n",
       "      <td>0.023045</td>\n",
       "      <td>0.021369</td>\n",
       "      <td>0.000497</td>\n",
       "      <td>0.013736</td>\n",
       "      <td>0.021369</td>\n",
       "    </tr>\n",
       "  </tbody>\n",
       "</table>\n",
       "</div>"
      ],
      "text/plain": [
       "       radius  diameter  densities  number_of_edges  average_clustering  \\\n",
       "Means     2.0       2.0   0.690010       714.160000            0.738252   \n",
       "STDs      0.0       0.0   0.019697        20.386430            0.020286   \n",
       "Means     2.0       2.0   0.713131       706.000000            0.740673   \n",
       "STDs      0.0       0.0   0.021369        21.155402            0.023045   \n",
       "\n",
       "       avg_degree_centrality  avg_betweenness_centrality  \\\n",
       "Means               0.690010                    0.007045   \n",
       "STDs                0.019697                    0.000448   \n",
       "Means               0.713131                    0.006671   \n",
       "STDs                0.021369                    0.000497   \n",
       "\n",
       "       avg_closeness_centrality  average_shortest_path_length  \n",
       "Means                  0.770551                      1.309990  \n",
       "STDs                   0.012121                      0.019697  \n",
       "Means                  0.782041                      1.286869  \n",
       "STDs                   0.013736                      0.021369  "
      ]
     },
     "execution_count": 94,
     "metadata": {},
     "output_type": "execute_result"
    }
   ],
   "source": [
    "entropy_network_TwoReg_Ox_90_00_averged"
   ]
  },
  {
   "cell_type": "code",
   "execution_count": 97,
   "id": "b8ad0bbe-4a86-41b7-9f7a-6ead7860313d",
   "metadata": {},
   "outputs": [],
   "source": [
    "entropy_network_TwoReg_Ox_90_00_averged.to_csv('Excels/15.csv')"
   ]
  },
  {
   "cell_type": "code",
   "execution_count": 99,
   "id": "07f159af-3cb1-46a0-a72e-fa0021d80575",
   "metadata": {
    "tags": []
   },
   "outputs": [
    {
     "name": "stdout",
     "output_type": "stream",
     "text": [
      "Number of columns data in our DataFrame is = 46\n",
      "fixed_thr= 0.029448185147545984\n",
      "Number of columns data in our DataFrame is = 46\n",
      "fixed_thr= 0.029448185147545984\n",
      "Number of columns data in our DataFrame is = 46\n",
      "fixed_thr= 0.029448185147545984\n",
      "Number of columns data in our DataFrame is = 46\n",
      "fixed_thr= 0.029448185147545984\n",
      "Number of columns data in our DataFrame is = 46\n",
      "fixed_thr= 0.029448185147545984\n",
      "Number of columns data in our DataFrame is = 46\n",
      "fixed_thr= 0.029448185147545984\n",
      "Number of columns data in our DataFrame is = 46\n",
      "fixed_thr= 0.029448185147545984\n",
      "Number of columns data in our DataFrame is = 46\n",
      "fixed_thr= 0.029448185147545984\n",
      "Number of columns data in our DataFrame is = 46\n",
      "fixed_thr= 0.029448185147545984\n",
      "Number of columns data in our DataFrame is = 46\n",
      "fixed_thr= 0.029448185147545984\n",
      "Number of columns data in our DataFrame is = 46\n",
      "fixed_thr= 0.029448185147545984\n",
      "Number of columns data in our DataFrame is = 46\n",
      "fixed_thr= 0.029448185147545984\n",
      "Number of columns data in our DataFrame is = 46\n",
      "fixed_thr= 0.029448185147545984\n",
      "Number of columns data in our DataFrame is = 46\n",
      "fixed_thr= 0.029448185147545984\n",
      "Number of columns data in our DataFrame is = 46\n",
      "fixed_thr= 0.029448185147545984\n",
      "Number of columns data in our DataFrame is = 46\n",
      "fixed_thr= 0.029448185147545984\n"
     ]
    }
   ],
   "source": [
    "densities_diff_98 = []\n",
    "stds_addition_98 = []\n",
    "for tl in np.arange(20,100,5):\n",
    "    entropy_network_TwoReg_Ox_90_98_averged = nm.get_network_features_averaged_median(tehran_df[tehran_df.columns[:46]], \\\n",
    "                                                                                  regimes_column= tehran_df_reg.iloc[:-300]['Ox_2'],\\\n",
    "                                                                                  method='entropy',edges_threshold=200, \\\n",
    "                                                                                  target_window=100, \\\n",
    "                                                                                  target_length=tl)\n",
    "    densities_diff_98.append(entropy_network_TwoReg_Ox_90_98_averged['densities'].iloc[0] - entropy_network_TwoReg_Ox_90_98_averged['densities'].iloc[2])\n",
    "    stds_addition_98.append(entropy_network_TwoReg_Ox_90_98_averged['densities'].iloc[1] + entropy_network_TwoReg_Ox_90_98_averged['densities'].iloc[3])"
   ]
  },
  {
   "cell_type": "code",
   "execution_count": 100,
   "id": "2399a893-81a7-4a0f-a436-64414fc55ced",
   "metadata": {},
   "outputs": [
    {
     "name": "stdout",
     "output_type": "stream",
     "text": [
      "Number of columns data in our DataFrame is = 46\n",
      "fixed_thr= 0.02453523351719661\n",
      "Number of columns data in our DataFrame is = 46\n",
      "fixed_thr= 0.02453523351719661\n",
      "Number of columns data in our DataFrame is = 46\n",
      "fixed_thr= 0.02453523351719661\n",
      "Number of columns data in our DataFrame is = 46\n",
      "fixed_thr= 0.02453523351719661\n",
      "Number of columns data in our DataFrame is = 46\n",
      "fixed_thr= 0.02453523351719661\n",
      "Number of columns data in our DataFrame is = 46\n",
      "fixed_thr= 0.02453523351719661\n",
      "Number of columns data in our DataFrame is = 46\n",
      "fixed_thr= 0.02453523351719661\n",
      "Number of columns data in our DataFrame is = 46\n",
      "fixed_thr= 0.02453523351719661\n",
      "Number of columns data in our DataFrame is = 46\n",
      "fixed_thr= 0.02453523351719661\n",
      "Number of columns data in our DataFrame is = 46\n",
      "fixed_thr= 0.02453523351719661\n",
      "Number of columns data in our DataFrame is = 46\n",
      "fixed_thr= 0.02453523351719661\n",
      "Number of columns data in our DataFrame is = 46\n",
      "fixed_thr= 0.02453523351719661\n",
      "Number of columns data in our DataFrame is = 46\n",
      "fixed_thr= 0.02453523351719661\n",
      "Number of columns data in our DataFrame is = 46\n",
      "fixed_thr= 0.02453523351719661\n",
      "Number of columns data in our DataFrame is = 46\n",
      "fixed_thr= 0.02453523351719661\n",
      "Number of columns data in our DataFrame is = 46\n",
      "fixed_thr= 0.02453523351719661\n"
     ]
    }
   ],
   "source": [
    "densities_diff = []\n",
    "stds_addition = []\n",
    "for tl in np.arange(20,100,5):\n",
    "    entropy_network_TwoReg_Ox_90_00_averged = nm.get_network_features_averaged_median(tehran_df_completeDates[tehran_df_completeDates.columns[:46]], \\\n",
    "                                                                                  regimes_column= tehran_df_reg['Ox_2'],\\\n",
    "                                                                                  method='entropy',edges_threshold=200, \\\n",
    "                                                                                  target_window=100, target_length=tl)\n",
    "    densities_diff.append(entropy_network_TwoReg_Ox_90_00_averged['densities'].iloc[0] - entropy_network_TwoReg_Ox_90_00_averged['densities'].iloc[2])\n",
    "    stds_addition.append(entropy_network_TwoReg_Ox_90_00_averged['densities'].iloc[1] + entropy_network_TwoReg_Ox_90_00_averged['densities'].iloc[3])"
   ]
  },
  {
   "cell_type": "code",
   "execution_count": 101,
   "id": "9b912614-b551-486f-9708-11dbb3f60fa6",
   "metadata": {},
   "outputs": [
    {
     "data": {
      "image/png": "[encoded data removed]",
      "text/plain": [
       "<Figure size 1200x600 with 1 Axes>"
      ]
     },
     "metadata": {},
     "output_type": "display_data"
    }
   ],
   "source": [
    "fig, ax = plt.subplots(figsize=(12,6))\n",
    "ax.plot(np.arange(20,100,5), np.array(densities_diff_98)-np.array(stds_addition_98), 'x', markersize=10)\n",
    "# ax.margins(0)\n",
    "ax.axhspan(0, 0.035, facecolor='green', alpha=0.2)\n",
    "ax.axhspan(-0.055, 0, facecolor='red', alpha=0.2)\n",
    "ax.grid()\n",
    "ax.set_ylabel('Separability of Regimes by 1 STD', weight='semibold')\n",
    "ax.set_xlabel('Number of chosen windows of length 100 records', weight='semibold')\n",
    "plt.savefig('Plots/regimes_seperabilities_98.png', dpi=400)"
   ]
  },
  {
   "cell_type": "code",
   "execution_count": 102,
   "id": "abd87291-59d4-4bee-89e4-f6f620169fad",
   "metadata": {},
   "outputs": [
    {
     "data": {
      "image/png": "[encoded data removed]",
      "text/plain": [
       "<Figure size 1200x600 with 1 Axes>"
      ]
     },
     "metadata": {},
     "output_type": "display_data"
    }
   ],
   "source": [
    "fig, ax = plt.subplots(figsize=(12,6))\n",
    "ax.plot(np.arange(20,100,5), np.array(densities_diff)*-1-np.array(stds_addition), 'x', markersize=10)\n",
    "# ax.margins(0)\n",
    "ax.axhspan(0, 0.035, facecolor='green', alpha=0.2)\n",
    "ax.axhspan(-0.09, 0, facecolor='red', alpha=0.2)\n",
    "ax.grid()\n",
    "ax.set_ylabel('Separability of Regimes by 1 STD', weight='semibold')\n",
    "ax.set_xlabel('Number of chosen windows of length 100 records', weight='semibold')\n",
    "plt.savefig('Plots/regimes_seperabilities_99.png', dpi=400)"
   ]
  },
  {
   "cell_type": "markdown",
   "id": "857fb752-264b-4524-b067-0105bc281e77",
   "metadata": {},
   "source": [
    "# 16) Tehran 2 Regime Crossed (Based on Median Threshold) Period of 90 Far - 00 Far"
   ]
  },
  {
   "cell_type": "code",
   "execution_count": 103,
   "id": "35cbe124-459f-4793-a55a-b23949f8e46e",
   "metadata": {},
   "outputs": [],
   "source": [
    "thr16_1 = nm.find_median_crossed_threshold(tehran_df_TwoReg_Ox_1_same_length)\n",
    "thr16_2 = nm.find_median_crossed_threshold(tehran_df_TwoReg_Ox_2_same_length)\n",
    "thr16 = min(thr16_1, thr16_2)"
   ]
  },
  {
   "cell_type": "code",
   "execution_count": 104,
   "id": "bb93bc0c-80f1-4851-ac28-f95cfd82d098",
   "metadata": {},
   "outputs": [
    {
     "data": {
      "text/plain": [
       "0.44333333333333336"
      ]
     },
     "execution_count": 104,
     "metadata": {},
     "output_type": "execute_result"
    }
   ],
   "source": [
    "thr16"
   ]
  },
  {
   "cell_type": "code",
   "execution_count": 105,
   "id": "0c9b7917-88de-4b32-92f7-b98d69ad0849",
   "metadata": {},
   "outputs": [],
   "source": [
    "nm = Net_moduls()\n",
    "crossed_network_TwoReg_Ox_1 = nm.construct_network(tehran_df_TwoReg_Ox_1_same_length, method='crossed_', threshold=thr16)"
   ]
  },
  {
   "cell_type": "code",
   "execution_count": 106,
   "id": "f55bdf1c-d6f3-4e5c-9efd-fa3408d7f4fc",
   "metadata": {},
   "outputs": [
    {
     "data": {
      "text/html": [
       "<div>\n",
       "<style scoped>\n",
       "    .dataframe tbody tr th:only-of-type {\n",
       "        vertical-align: middle;\n",
       "    }\n",
       "\n",
       "    .dataframe tbody tr th {\n",
       "        vertical-align: top;\n",
       "    }\n",
       "\n",
       "    .dataframe thead th {\n",
       "        text-align: right;\n",
       "    }\n",
       "</style>\n",
       "<table border=\"1\" class=\"dataframe\">\n",
       "  <thead>\n",
       "    <tr style=\"text-align: right;\">\n",
       "      <th></th>\n",
       "      <th>radius</th>\n",
       "      <th>diameter</th>\n",
       "      <th>densities</th>\n",
       "      <th>number_of_edges</th>\n",
       "      <th>average_clustering</th>\n",
       "      <th>avg_degree_centrality</th>\n",
       "      <th>avg_betweenness_centrality</th>\n",
       "      <th>avg_closeness_centrality</th>\n",
       "      <th>average_shortest_path_length</th>\n",
       "    </tr>\n",
       "  </thead>\n",
       "  <tbody>\n",
       "    <tr>\n",
       "      <th>0</th>\n",
       "      <td>2</td>\n",
       "      <td>2</td>\n",
       "      <td>0.717874</td>\n",
       "      <td>743</td>\n",
       "      <td>0.814036</td>\n",
       "      <td>0.717874</td>\n",
       "      <td>0.006412</td>\n",
       "      <td>0.794786</td>\n",
       "      <td>1.282126</td>\n",
       "    </tr>\n",
       "  </tbody>\n",
       "</table>\n",
       "</div>"
      ],
      "text/plain": [
       "   radius  diameter  densities  number_of_edges  average_clustering  \\\n",
       "0       2         2   0.717874              743            0.814036   \n",
       "\n",
       "   avg_degree_centrality  avg_betweenness_centrality  \\\n",
       "0               0.717874                    0.006412   \n",
       "\n",
       "   avg_closeness_centrality  average_shortest_path_length  \n",
       "0                  0.794786                      1.282126  "
      ]
     },
     "execution_count": 106,
     "metadata": {},
     "output_type": "execute_result"
    }
   ],
   "source": [
    "nm.get_network_features(crossed_network_TwoReg_Ox_1)"
   ]
  },
  {
   "cell_type": "code",
   "execution_count": 107,
   "id": "842298d3-732e-4dfa-b164-829a18158319",
   "metadata": {},
   "outputs": [],
   "source": [
    "nm.get_network_features(crossed_network_TwoReg_Ox_1).to_csv('Excels/16_1.csv')"
   ]
  },
  {
   "cell_type": "code",
   "execution_count": 108,
   "id": "5a1adc98-6383-41cb-a1f3-e08a5129737e",
   "metadata": {},
   "outputs": [
    {
     "data": {
      "text/plain": [
       "array({'CPI': 12, 'M1': 12, 'AbzaralatePezeshki': 13, 'Coin': 14, 'Brent Oil': 19, 'M2': 20, 'FaravardehayeNafti': 21, 'Euro': 23, 'HOUSE': 23, 'DastgahayeBargi': 24, 'USD': 27, 'Gold': 28, 'Mansojat': 28, 'GDP': 30, 'MahsolateFelezi': 32, 'HamlVaNaghl': 32, 'Mali': 32, 'KanehayeGeyreFelezi': 33, 'VasayelErtebati': 34, 'EstekrajeNaft': 36, 'paper': 36, 'Lastic': 36, 'Bimeh': 36, 'SayerMadan': 37, 'EntesharVaChap': 37, 'MashinAlat': 37, 'GazaeeBejozGhand': 37, 'Daroee': 37, 'KashiVaSeramik': 37, 'SayerMali': 37, 'Rayaneh': 37, 'KanehayeFelezi': 37, 'Agriculture': 38, 'Wood': 38, 'FelezateAsasi': 38, 'GhandVaShekar': 38, 'ChandReshteSanati': 39, 'Siman': 39, 'Bank': 39, 'index': 40, 'Shimiyaee': 40, 'SarmayeGozari': 40, 'Amlakva': 40, 'FaniVaMohandesi': 40, 'CoalMining': 41, 'khodrosazi': 42},\n",
       "      dtype=object)"
      ]
     },
     "execution_count": 108,
     "metadata": {},
     "output_type": "execute_result"
    }
   ],
   "source": [
    "b16_1 = dict(nx.degree(crossed_network_TwoReg_Ox_1))\n",
    "b16_1 = np.array(dict(sorted(b16_1.items(), key=lambda item: item[1])))\n",
    "b16_1"
   ]
  },
  {
   "cell_type": "code",
   "execution_count": 109,
   "id": "65c08a44-8b9d-45e2-a436-89350a40e7db",
   "metadata": {},
   "outputs": [],
   "source": [
    "crossed_network_TwoReg_Ox_2 = nm.construct_network(tehran_df_TwoReg_Ox_2_same_length, method='crossed_', threshold=thr16)"
   ]
  },
  {
   "cell_type": "code",
   "execution_count": 110,
   "id": "593b2696-adab-499b-80d5-9da3cefd111d",
   "metadata": {},
   "outputs": [
    {
     "data": {
      "text/html": [
       "<div>\n",
       "<style scoped>\n",
       "    .dataframe tbody tr th:only-of-type {\n",
       "        vertical-align: middle;\n",
       "    }\n",
       "\n",
       "    .dataframe tbody tr th {\n",
       "        vertical-align: top;\n",
       "    }\n",
       "\n",
       "    .dataframe thead th {\n",
       "        text-align: right;\n",
       "    }\n",
       "</style>\n",
       "<table border=\"1\" class=\"dataframe\">\n",
       "  <thead>\n",
       "    <tr style=\"text-align: right;\">\n",
       "      <th></th>\n",
       "      <th>radius</th>\n",
       "      <th>diameter</th>\n",
       "      <th>densities</th>\n",
       "      <th>number_of_edges</th>\n",
       "      <th>average_clustering</th>\n",
       "      <th>avg_degree_centrality</th>\n",
       "      <th>avg_betweenness_centrality</th>\n",
       "      <th>avg_closeness_centrality</th>\n",
       "      <th>average_shortest_path_length</th>\n",
       "    </tr>\n",
       "  </thead>\n",
       "  <tbody>\n",
       "    <tr>\n",
       "      <th>0</th>\n",
       "      <td>2</td>\n",
       "      <td>2</td>\n",
       "      <td>0.564251</td>\n",
       "      <td>584</td>\n",
       "      <td>0.638292</td>\n",
       "      <td>0.564251</td>\n",
       "      <td>0.009903</td>\n",
       "      <td>0.703362</td>\n",
       "      <td>1.435749</td>\n",
       "    </tr>\n",
       "  </tbody>\n",
       "</table>\n",
       "</div>"
      ],
      "text/plain": [
       "   radius  diameter  densities  number_of_edges  average_clustering  \\\n",
       "0       2         2   0.564251              584            0.638292   \n",
       "\n",
       "   avg_degree_centrality  avg_betweenness_centrality  \\\n",
       "0               0.564251                    0.009903   \n",
       "\n",
       "   avg_closeness_centrality  average_shortest_path_length  \n",
       "0                  0.703362                      1.435749  "
      ]
     },
     "execution_count": 110,
     "metadata": {},
     "output_type": "execute_result"
    }
   ],
   "source": [
    "nm.get_network_features(crossed_network_TwoReg_Ox_2)"
   ]
  },
  {
   "cell_type": "code",
   "execution_count": 111,
   "id": "7c1ca56e-dff0-4ad8-8bc1-31da75155189",
   "metadata": {},
   "outputs": [],
   "source": [
    "nm.get_network_features(crossed_network_TwoReg_Ox_2).to_csv('Excels/16_2.csv')"
   ]
  },
  {
   "cell_type": "code",
   "execution_count": 112,
   "id": "aa12273e-31bc-4e75-9979-b8f21ec9fbaf",
   "metadata": {},
   "outputs": [
    {
     "data": {
      "text/plain": [
       "array({'Euro': 12, 'Mansojat': 13, 'Gold': 14, 'FaravardehayeNafti': 16, 'USD': 17, 'Coin': 17, 'KanehayeFelezi': 18, 'Brent Oil': 19, 'M2': 19, 'GDP': 19, 'AbzaralatePezeshki': 20, 'HOUSE': 20, 'Agriculture': 21, 'ChandReshteSanati': 21, 'VasayelErtebati': 21, 'M1': 22, 'GhandVaShekar': 22, 'Shimiyaee': 23, 'EntesharVaChap': 24, 'FelezateAsasi': 24, 'CPI': 24, 'Lastic': 25, 'Wood': 26, 'HamlVaNaghl': 26, 'Bimeh': 26, 'Rayaneh': 26, 'SayerMadan': 27, 'CoalMining': 29, 'Bank': 29, 'EstekrajeNaft': 30, 'MahsolateFelezi': 30, 'khodrosazi': 30, 'GazaeeBejozGhand': 30, 'KashiVaSeramik': 31, 'FaniVaMohandesi': 31, 'paper': 32, 'MashinAlat': 32, 'DastgahayeBargi': 32, 'Daroee': 32, 'SarmayeGozari': 32, 'Mali': 33, 'index': 34, 'Siman': 34, 'KanehayeGeyreFelezi': 34, 'Amlakva': 35, 'SayerMali': 36},\n",
       "      dtype=object)"
      ]
     },
     "execution_count": 112,
     "metadata": {},
     "output_type": "execute_result"
    }
   ],
   "source": [
    "b16_2 = dict(nx.degree(crossed_network_TwoReg_Ox_2))\n",
    "b16_2 = np.array(dict(sorted(b16_2.items(), key=lambda item: item[1])))\n",
    "b16_2"
   ]
  },
  {
   "cell_type": "markdown",
   "id": "cb4ead4d-835d-4d58-a6e1-0599d755e4fa",
   "metadata": {},
   "source": [
    "# 17) Tehran 2 Regime crossed (Based on Median Threshold) Period of 90 Far - 98 Dey/ Last 100 Records"
   ]
  },
  {
   "cell_type": "code",
   "execution_count": 114,
   "id": "1db63d17-5b13-444a-a2d3-75da1778e2a3",
   "metadata": {},
   "outputs": [],
   "source": [
    "def crosscorr(datax, datay, lag=0, wrap=False):\n",
    "    if wrap:\n",
    "        shiftedy = datay.shift(lag)\n",
    "        transfer_entropy_dfshiftedy.iloc[:lag] = datay.iloc[-lag:].values\n",
    "        return datax.corr(shiftedy)\n",
    "    else:\n",
    "        return datax.corr(datay.shift(lag))"
   ]
  },
  {
   "cell_type": "code",
   "execution_count": 115,
   "id": "7ea1b6b7-6641-4ac6-81b0-1477789ea9fa",
   "metadata": {},
   "outputs": [],
   "source": [
    "def find_median_crossed_100_threshold(df):\n",
    "    cross_offsets = []\n",
    "    for i in range(len(df.columns)):\n",
    "        for j in range(len(df.columns)):\n",
    "            seconds = 5\n",
    "            fps = 5\n",
    "            rs = [crosscorr(df[df.columns[i]],df[df.columns[j]], lag) for lag in range(-int(seconds*fps),int(seconds*fps+1))]\n",
    "            offset = np.floor(len(rs)/2)-np.argmax(rs)\n",
    "            cross_offsets.append(offset)\n",
    "    cross_offsets = np.array(cross_offsets)\n",
    "    cross_offsets = cross_offsets[cross_offsets>0]\n",
    "    df_corr_flatten_nonNan = cross_offsets[~np.isnan(cross_offsets)]\n",
    "    df_corr_flatten_nonNan.sort()\n",
    "    df_corr_flatten_nonNan = df_corr_flatten_nonNan/max(df_corr_flatten_nonNan)\n",
    "    median_corr_coef = np.median(df_corr_flatten_nonNan)\n",
    "    return median_corr_coef, cross_offsets"
   ]
  },
  {
   "cell_type": "code",
   "execution_count": 116,
   "id": "778a3b27-6045-41af-a874-7f88422cdb3b",
   "metadata": {},
   "outputs": [],
   "source": [
    "def construct_network( df, method, threshold):   \n",
    "    if method == 'crossed_100_':\n",
    "        cross_offsets = []\n",
    "        for i in range(len(df.columns)):\n",
    "            for j in range(len(df.columns)):\n",
    "                seconds = 5\n",
    "                fps = 5\n",
    "                rs = [crosscorr(df[df.columns[i]],df[df.columns[j]], lag) for lag in range(-int(seconds*fps),int(seconds*fps+1))]\n",
    "                offset = np.floor(len(rs)/2)-np.argmax(rs)\n",
    "                cross_offsets.append(offset)\n",
    "\n",
    "        cross_offsets = np.array(cross_offsets)\n",
    "        cross_offsets = cross_offsets[~np.isnan(cross_offsets)]\n",
    "        cross_offsets = cross_offsets/max(cross_offsets)\n",
    "        crossed_offset_matrix = cross_offsets.reshape((df.shape[1],df.shape[1]))\n",
    "        crossed_df = pd.DataFrame(crossed_offset_matrix , columns=(df.columns)).set_index(df.columns)\n",
    "        df_cc = crossed_df\n",
    "\n",
    "\n",
    "        # apply corr coeff threshold and create new df\n",
    "        list_symbols = df_cc.columns.to_list()\n",
    "        list_from = []\n",
    "        list_to = []\n",
    "        list_corr_coeff = []\n",
    "        for i , sym_from in enumerate(list_symbols):\n",
    "            for sym_to in list_symbols:\n",
    "                if sym_from != sym_to:\n",
    "                    corr_coef = df_cc.loc[sym_from, sym_to]\n",
    "                    if abs(corr_coef) < threshold:\n",
    "                        list_from.append(sym_from)\n",
    "                        list_to.append(sym_to) \n",
    "                        list_corr_coeff.append(corr_coef)\n",
    "\n",
    "        # create df for constructing graph\n",
    "        df_graph = pd.DataFrame({'from':list_from, 'to':list_to, \n",
    "                                'corr coeff':list_corr_coeff})\n",
    "\n",
    "        G_crossed = nx.from_pandas_edgelist(df_graph, 'from', 'to')\n",
    "        return cross_offsets"
   ]
  },
  {
   "cell_type": "code",
   "execution_count": 117,
   "id": "ac796891-b205-4631-8440-a9e683a0ec45",
   "metadata": {},
   "outputs": [
    {
     "ename": "NameError",
     "evalue": "name 'thr17' is not defined",
     "output_type": "error",
     "traceback": [
      "\u001b[0;31m---------------------------------------------------------------------------\u001b[0m",
      "\u001b[0;31mNameError\u001b[0m                                 Traceback (most recent call last)",
      "Cell \u001b[0;32mIn [117], line 1\u001b[0m\n\u001b[0;32m----> 1\u001b[0m thr17_1 \u001b[38;5;241m=\u001b[39m construct_network(tehran_df_TwoReg_Ox_1_same_length_98[\u001b[38;5;241m-\u001b[39m\u001b[38;5;241m100\u001b[39m:], method\u001b[38;5;241m=\u001b[39m\u001b[38;5;124m'\u001b[39m\u001b[38;5;124mcrossed_100_\u001b[39m\u001b[38;5;124m'\u001b[39m, threshold\u001b[38;5;241m=\u001b[39m\u001b[43mthr17\u001b[49m)\n",
      "\u001b[0;31mNameError\u001b[0m: name 'thr17' is not defined"
     ]
    }
   ],
   "source": [
    "thr17_1 = construct_network(tehran_df_TwoReg_Ox_1_same_length_98[-100:], method='crossed_100_', threshold=thr17)\n"
   ]
  },
  {
   "cell_type": "code",
   "execution_count": 118,
   "id": "341fb889-8cb5-4637-9705-cb6841dfd309",
   "metadata": {},
   "outputs": [
    {
     "ename": "NameError",
     "evalue": "name 'thr17_1' is not defined",
     "output_type": "error",
     "traceback": [
      "\u001b[0;31m---------------------------------------------------------------------------\u001b[0m",
      "\u001b[0;31mNameError\u001b[0m                                 Traceback (most recent call last)",
      "Cell \u001b[0;32mIn [118], line 1\u001b[0m\n\u001b[0;32m----> 1\u001b[0m \u001b[38;5;28mlen\u001b[39m(\u001b[43mthr17_1\u001b[49m)\n",
      "\u001b[0;31mNameError\u001b[0m: name 'thr17_1' is not defined"
     ]
    }
   ],
   "source": [
    "len(thr17_1)"
   ]
  },
  {
   "cell_type": "code",
   "execution_count": 119,
   "id": "72783d70-1936-4134-9a96-a60642e63bd2",
   "metadata": {},
   "outputs": [],
   "source": [
    "thr17_1 = nm.find_median_crossed_100_threshold(tehran_df_TwoReg_Ox_1_same_length_98[-100:])\n",
    "thr17_2 = nm.find_median_crossed_100_threshold(tehran_df_TwoReg_Ox_2_same_length_98[-100:])\n",
    "thr17 = min(thr17_1, thr17_2)"
   ]
  },
  {
   "cell_type": "code",
   "execution_count": 120,
   "id": "6d638942-a302-448d-b764-fd39a95b986b",
   "metadata": {},
   "outputs": [
    {
     "data": {
      "text/plain": [
       "0.56"
      ]
     },
     "execution_count": 120,
     "metadata": {},
     "output_type": "execute_result"
    }
   ],
   "source": [
    "thr17"
   ]
  },
  {
   "cell_type": "code",
   "execution_count": 121,
   "id": "2b425fe4-b1e1-4e0d-a485-b45bd27fc749",
   "metadata": {},
   "outputs": [],
   "source": [
    "crossed_network_TwoReg_Ox_1_98_last100 = nm.construct_network(tehran_df_TwoReg_Ox_1_same_length_98[-100:], method='crossed_100_', threshold=thr17)"
   ]
  },
  {
   "cell_type": "code",
   "execution_count": 122,
   "id": "f69027ec-fbe2-4ea4-ad77-99f0bfcde4d3",
   "metadata": {},
   "outputs": [
    {
     "data": {
      "text/html": [
       "<div>\n",
       "<style scoped>\n",
       "    .dataframe tbody tr th:only-of-type {\n",
       "        vertical-align: middle;\n",
       "    }\n",
       "\n",
       "    .dataframe tbody tr th {\n",
       "        vertical-align: top;\n",
       "    }\n",
       "\n",
       "    .dataframe thead th {\n",
       "        text-align: right;\n",
       "    }\n",
       "</style>\n",
       "<table border=\"1\" class=\"dataframe\">\n",
       "  <thead>\n",
       "    <tr style=\"text-align: right;\">\n",
       "      <th></th>\n",
       "      <th>radius</th>\n",
       "      <th>diameter</th>\n",
       "      <th>densities</th>\n",
       "      <th>number_of_edges</th>\n",
       "      <th>average_clustering</th>\n",
       "      <th>avg_degree_centrality</th>\n",
       "      <th>avg_betweenness_centrality</th>\n",
       "      <th>avg_closeness_centrality</th>\n",
       "      <th>average_shortest_path_length</th>\n",
       "    </tr>\n",
       "  </thead>\n",
       "  <tbody>\n",
       "    <tr>\n",
       "      <th>0</th>\n",
       "      <td>2</td>\n",
       "      <td>2</td>\n",
       "      <td>0.672727</td>\n",
       "      <td>666</td>\n",
       "      <td>0.787336</td>\n",
       "      <td>0.672727</td>\n",
       "      <td>0.007611</td>\n",
       "      <td>0.769276</td>\n",
       "      <td>1.327273</td>\n",
       "    </tr>\n",
       "  </tbody>\n",
       "</table>\n",
       "</div>"
      ],
      "text/plain": [
       "   radius  diameter  densities  number_of_edges  average_clustering  \\\n",
       "0       2         2   0.672727              666            0.787336   \n",
       "\n",
       "   avg_degree_centrality  avg_betweenness_centrality  \\\n",
       "0               0.672727                    0.007611   \n",
       "\n",
       "   avg_closeness_centrality  average_shortest_path_length  \n",
       "0                  0.769276                      1.327273  "
      ]
     },
     "execution_count": 122,
     "metadata": {},
     "output_type": "execute_result"
    }
   ],
   "source": [
    "nm.get_network_features(crossed_network_TwoReg_Ox_1_98_last100)"
   ]
  },
  {
   "cell_type": "code",
   "execution_count": 123,
   "id": "1750b54d-5d67-4889-8021-ca0e8b43ce33",
   "metadata": {},
   "outputs": [],
   "source": [
    "nm.get_network_features(crossed_network_TwoReg_Ox_1_98_last100).to_csv('Excels/17_1.csv')"
   ]
  },
  {
   "cell_type": "code",
   "execution_count": 124,
   "id": "e96749fd-3028-4c3d-8aef-0a7c4424d628",
   "metadata": {},
   "outputs": [
    {
     "data": {
      "text/plain": [
       "array({'Brent Oil': 6, 'M1': 9, 'HOUSE': 11, 'M2': 11, 'CPI': 12, 'Gold': 15, 'USD': 17, 'Coin': 17, 'Euro': 19, 'GDP': 21, 'FaravardehayeNafti': 25, 'DastgahayeBargi': 25, 'VasayelErtebati': 30, 'EstekrajeNaft': 31, 'CoalMining': 32, 'Mansojat': 32, 'Wood': 33, 'paper': 33, 'KashiVaSeramik': 33, 'Siman': 33, 'Bank': 33, 'EntesharVaChap': 34, 'khodrosazi': 34, 'Daroee': 34, 'KanehayeGeyreFelezi': 34, 'HamlVaNaghl': 34, 'Rayaneh': 34, 'MahsolateFelezi': 35, 'SayerMadan': 35, 'MashinAlat': 35, 'GazaeeBejozGhand': 35, 'SarmayeGozari': 35, 'SayerMali': 35, 'Bimeh': 35, 'Amlakva': 35, 'Mali': 35, 'index': 36, 'Agriculture': 36, 'GhandVaShekar': 36, 'ChandReshteSanati': 36, 'FaniVaMohandesi': 36, 'Lastic': 37, 'FelezateAsasi': 39, 'Shimiyaee': 39, 'KanehayeFelezi': 40},\n",
       "      dtype=object)"
      ]
     },
     "execution_count": 124,
     "metadata": {},
     "output_type": "execute_result"
    }
   ],
   "source": [
    "b17_1 = dict(nx.degree(crossed_network_TwoReg_Ox_1_98_last100))\n",
    "b17_1 = np.array(dict(sorted(b17_1.items(), key=lambda item: item[1])))\n",
    "b17_1"
   ]
  },
  {
   "cell_type": "code",
   "execution_count": 125,
   "id": "a63d4d66-1323-461d-8793-64f0745dabf0",
   "metadata": {},
   "outputs": [],
   "source": [
    "crossed_network_TwoReg_Ox_2_98_last100 = nm.construct_network(tehran_df_TwoReg_Ox_2_same_length_98[-100:], method='crossed_100_', threshold=thr17)"
   ]
  },
  {
   "cell_type": "code",
   "execution_count": 126,
   "id": "19ed221e-b1ea-4ae2-9e6c-3b2607e7255e",
   "metadata": {},
   "outputs": [
    {
     "data": {
      "text/html": [
       "<div>\n",
       "<style scoped>\n",
       "    .dataframe tbody tr th:only-of-type {\n",
       "        vertical-align: middle;\n",
       "    }\n",
       "\n",
       "    .dataframe tbody tr th {\n",
       "        vertical-align: top;\n",
       "    }\n",
       "\n",
       "    .dataframe thead th {\n",
       "        text-align: right;\n",
       "    }\n",
       "</style>\n",
       "<table border=\"1\" class=\"dataframe\">\n",
       "  <thead>\n",
       "    <tr style=\"text-align: right;\">\n",
       "      <th></th>\n",
       "      <th>radius</th>\n",
       "      <th>diameter</th>\n",
       "      <th>densities</th>\n",
       "      <th>number_of_edges</th>\n",
       "      <th>average_clustering</th>\n",
       "      <th>avg_degree_centrality</th>\n",
       "      <th>avg_betweenness_centrality</th>\n",
       "      <th>avg_closeness_centrality</th>\n",
       "      <th>average_shortest_path_length</th>\n",
       "    </tr>\n",
       "  </thead>\n",
       "  <tbody>\n",
       "    <tr>\n",
       "      <th>0</th>\n",
       "      <td>2</td>\n",
       "      <td>2</td>\n",
       "      <td>0.568687</td>\n",
       "      <td>563</td>\n",
       "      <td>0.618596</td>\n",
       "      <td>0.568687</td>\n",
       "      <td>0.010031</td>\n",
       "      <td>0.703575</td>\n",
       "      <td>1.431313</td>\n",
       "    </tr>\n",
       "  </tbody>\n",
       "</table>\n",
       "</div>"
      ],
      "text/plain": [
       "   radius  diameter  densities  number_of_edges  average_clustering  \\\n",
       "0       2         2   0.568687              563            0.618596   \n",
       "\n",
       "   avg_degree_centrality  avg_betweenness_centrality  \\\n",
       "0               0.568687                    0.010031   \n",
       "\n",
       "   avg_closeness_centrality  average_shortest_path_length  \n",
       "0                  0.703575                      1.431313  "
      ]
     },
     "execution_count": 126,
     "metadata": {},
     "output_type": "execute_result"
    }
   ],
   "source": [
    "nm.get_network_features(crossed_network_TwoReg_Ox_2_98_last100)"
   ]
  },
  {
   "cell_type": "code",
   "execution_count": 127,
   "id": "3f48918d-4d50-41b2-8ab8-f875dc53753c",
   "metadata": {},
   "outputs": [],
   "source": [
    "nm.get_network_features(crossed_network_TwoReg_Ox_2_98_last100).to_csv('Excels/17_2.csv')"
   ]
  },
  {
   "cell_type": "code",
   "execution_count": 128,
   "id": "c0f820e1-e5bb-401e-bbde-dd08d6175c3e",
   "metadata": {},
   "outputs": [
    {
     "data": {
      "text/plain": [
       "array({'CPI': 13, 'FaravardehayeNafti': 13, 'Gold': 15, 'Coin': 16, 'Brent Oil': 20, 'Euro': 20, 'Bimeh': 20, 'KanehayeFelezi': 20, 'VasayelErtebati': 20, 'HOUSE': 21, 'EstekrajeNaft': 22, 'Siman': 22, 'Wood': 23, 'Bank': 23, 'M2': 24, 'GDP': 24, 'ChandReshteSanati': 24, 'M1': 24, 'Mansojat': 24, 'DastgahayeBargi': 24, 'MahsolateFelezi': 25, 'FelezateAsasi': 25, 'GhandVaShekar': 25, 'SayerMadan': 25, 'GazaeeBejozGhand': 25, 'Agriculture': 26, 'CoalMining': 26, 'paper': 26, 'Mali': 26, 'USD': 27, 'KashiVaSeramik': 27, 'Rayaneh': 27, 'Daroee': 27, 'SarmayeGozari': 28, 'Shimiyaee': 29, 'HamlVaNaghl': 29, 'EntesharVaChap': 29, 'khodrosazi': 29, 'FaniVaMohandesi': 30, 'index': 31, 'Lastic': 33, 'Amlakva': 33, 'KanehayeGeyreFelezi': 35, 'SayerMali': 35, 'MashinAlat': 36},\n",
       "      dtype=object)"
      ]
     },
     "execution_count": 128,
     "metadata": {},
     "output_type": "execute_result"
    }
   ],
   "source": [
    "b17_2 = dict(nx.degree(crossed_network_TwoReg_Ox_2_98_last100))\n",
    "b17_2 = np.array(dict(sorted(b17_2.items(), key=lambda item: item[1])))\n",
    "b17_2"
   ]
  },
  {
   "cell_type": "markdown",
   "id": "1d716da7-a2e6-4ad5-b0e7-415dcf9168a1",
   "metadata": {},
   "source": [
    "# 18) Tehran 2 Regime crossed (Based on Median Threshold) Period of 90 Far - 98 Dey/ 50 windows of 100 Records"
   ]
  },
  {
   "cell_type": "code",
   "execution_count": 129,
   "id": "155b1f84-6a3f-4c4e-a267-6b1a9787f3c5",
   "metadata": {
    "tags": []
   },
   "outputs": [
    {
     "name": "stderr",
     "output_type": "stream",
     "text": [
      "/Users/hossein4527/MEGA/MEGAsync/Commit/Neda_PhD/neda_sep2023/Time_Series_Trend_Forcasting/Codes/Shifted DF by Lags/ned.py:1106: SettingWithCopyWarning: \n",
      "A value is trying to be set on a copy of a slice from a DataFrame.\n",
      "Try using .loc[row_indexer,col_indexer] = value instead\n",
      "\n",
      "See the caveats in the documentation: https://pandas.pydata.org/pandas-docs/stable/user_guide/indexing.html#returning-a-view-versus-a-copy\n",
      "  df['selected_regimes'] = regimes_column\n"
     ]
    },
    {
     "name": "stdout",
     "output_type": "stream",
     "text": [
      "Number of columns data in our DataFrame is = 46\n",
      "fixed_thr= 0.68\n"
     ]
    }
   ],
   "source": [
    "nm = Net_moduls()\n",
    "crossed_network_TwoReg_Ox_90_98_averged = nm.get_network_features_averaged_median(tehran_df, \\\n",
    "                                                                                  regimes_column= tehran_df_reg['Ox_2'].iloc[:-300],\\\n",
    "                                                                                  method='crossed_100_',edges_threshold=200, \\\n",
    "                                                                                  target_window=100, \\\n",
    "                                                                                  target_length=50)"
   ]
  },
  {
   "cell_type": "code",
   "execution_count": 130,
   "id": "eed9f31a-96e1-4fd8-8597-4d28695382a4",
   "metadata": {},
   "outputs": [
    {
     "data": {
      "text/html": [
       "<div>\n",
       "<style scoped>\n",
       "    .dataframe tbody tr th:only-of-type {\n",
       "        vertical-align: middle;\n",
       "    }\n",
       "\n",
       "    .dataframe tbody tr th {\n",
       "        vertical-align: top;\n",
       "    }\n",
       "\n",
       "    .dataframe thead th {\n",
       "        text-align: right;\n",
       "    }\n",
       "</style>\n",
       "<table border=\"1\" class=\"dataframe\">\n",
       "  <thead>\n",
       "    <tr style=\"text-align: right;\">\n",
       "      <th></th>\n",
       "      <th>radius</th>\n",
       "      <th>diameter</th>\n",
       "      <th>densities</th>\n",
       "      <th>number_of_edges</th>\n",
       "      <th>average_clustering</th>\n",
       "      <th>avg_degree_centrality</th>\n",
       "      <th>avg_betweenness_centrality</th>\n",
       "      <th>avg_closeness_centrality</th>\n",
       "      <th>average_shortest_path_length</th>\n",
       "    </tr>\n",
       "  </thead>\n",
       "  <tbody>\n",
       "    <tr>\n",
       "      <th>Means</th>\n",
       "      <td>2.0</td>\n",
       "      <td>2.0</td>\n",
       "      <td>0.723010</td>\n",
       "      <td>715.780000</td>\n",
       "      <td>0.798684</td>\n",
       "      <td>0.723010</td>\n",
       "      <td>0.006442</td>\n",
       "      <td>0.795382</td>\n",
       "      <td>1.276990</td>\n",
       "    </tr>\n",
       "    <tr>\n",
       "      <th>STDs</th>\n",
       "      <td>0.0</td>\n",
       "      <td>0.0</td>\n",
       "      <td>0.016616</td>\n",
       "      <td>16.449415</td>\n",
       "      <td>0.015419</td>\n",
       "      <td>0.016616</td>\n",
       "      <td>0.000386</td>\n",
       "      <td>0.010426</td>\n",
       "      <td>0.016616</td>\n",
       "    </tr>\n",
       "    <tr>\n",
       "      <th>Means</th>\n",
       "      <td>2.0</td>\n",
       "      <td>2.0</td>\n",
       "      <td>0.661253</td>\n",
       "      <td>654.640000</td>\n",
       "      <td>0.686978</td>\n",
       "      <td>0.661253</td>\n",
       "      <td>0.007878</td>\n",
       "      <td>0.751487</td>\n",
       "      <td>1.338747</td>\n",
       "    </tr>\n",
       "    <tr>\n",
       "      <th>STDs</th>\n",
       "      <td>0.0</td>\n",
       "      <td>0.0</td>\n",
       "      <td>0.016362</td>\n",
       "      <td>16.198715</td>\n",
       "      <td>0.014159</td>\n",
       "      <td>0.016362</td>\n",
       "      <td>0.000381</td>\n",
       "      <td>0.008752</td>\n",
       "      <td>0.016362</td>\n",
       "    </tr>\n",
       "  </tbody>\n",
       "</table>\n",
       "</div>"
      ],
      "text/plain": [
       "       radius  diameter  densities  number_of_edges  average_clustering  \\\n",
       "Means     2.0       2.0   0.723010       715.780000            0.798684   \n",
       "STDs      0.0       0.0   0.016616        16.449415            0.015419   \n",
       "Means     2.0       2.0   0.661253       654.640000            0.686978   \n",
       "STDs      0.0       0.0   0.016362        16.198715            0.014159   \n",
       "\n",
       "       avg_degree_centrality  avg_betweenness_centrality  \\\n",
       "Means               0.723010                    0.006442   \n",
       "STDs                0.016616                    0.000386   \n",
       "Means               0.661253                    0.007878   \n",
       "STDs                0.016362                    0.000381   \n",
       "\n",
       "       avg_closeness_centrality  average_shortest_path_length  \n",
       "Means                  0.795382                      1.276990  \n",
       "STDs                   0.010426                      0.016616  \n",
       "Means                  0.751487                      1.338747  \n",
       "STDs                   0.008752                      0.016362  "
      ]
     },
     "execution_count": 130,
     "metadata": {},
     "output_type": "execute_result"
    }
   ],
   "source": [
    "crossed_network_TwoReg_Ox_90_98_averged"
   ]
  },
  {
   "cell_type": "code",
   "execution_count": 131,
   "id": "e08a04c4-d305-4e65-a3eb-fdf8ee8bb9ce",
   "metadata": {},
   "outputs": [],
   "source": [
    "crossed_network_TwoReg_Ox_90_98_averged.to_csv('Excels/18.csv')"
   ]
  },
  {
   "cell_type": "markdown",
   "id": "1db1ac32-29e5-4f61-9e3d-f30f5050bc9c",
   "metadata": {},
   "source": [
    "# 19) Tehran 2 Regime crossed (Based on Median Threshold) Period of 90 Far - 00 Far/ 50 windows of 100 Records"
   ]
  },
  {
   "cell_type": "code",
   "execution_count": 132,
   "id": "d962c8f4-3475-42c9-8616-78df2bf11bc4",
   "metadata": {
    "tags": []
   },
   "outputs": [
    {
     "name": "stdout",
     "output_type": "stream",
     "text": [
      "Number of columns data in our DataFrame is = 46\n",
      "fixed_thr= 0.56\n"
     ]
    }
   ],
   "source": [
    "nm = Net_moduls()\n",
    "crossed_network_TwoReg_Ox_90_00_averged = nm.get_network_features_averaged_median(tehran_df_completeDates, \\\n",
    "                                                                                  regimes_column = tehran_df_reg['Ox_2'],\\\n",
    "                                                                                  method='crossed_100_',edges_threshold=200, \\\n",
    "                                                                                  target_window=100, target_length=50)"
   ]
  },
  {
   "cell_type": "code",
   "execution_count": 133,
   "id": "9e81a26b-d922-418d-b9d2-8b3c2247339d",
   "metadata": {},
   "outputs": [
    {
     "data": {
      "text/html": [
       "<div>\n",
       "<style scoped>\n",
       "    .dataframe tbody tr th:only-of-type {\n",
       "        vertical-align: middle;\n",
       "    }\n",
       "\n",
       "    .dataframe tbody tr th {\n",
       "        vertical-align: top;\n",
       "    }\n",
       "\n",
       "    .dataframe thead th {\n",
       "        text-align: right;\n",
       "    }\n",
       "</style>\n",
       "<table border=\"1\" class=\"dataframe\">\n",
       "  <thead>\n",
       "    <tr style=\"text-align: right;\">\n",
       "      <th></th>\n",
       "      <th>radius</th>\n",
       "      <th>diameter</th>\n",
       "      <th>densities</th>\n",
       "      <th>number_of_edges</th>\n",
       "      <th>average_clustering</th>\n",
       "      <th>avg_degree_centrality</th>\n",
       "      <th>avg_betweenness_centrality</th>\n",
       "      <th>avg_closeness_centrality</th>\n",
       "      <th>average_shortest_path_length</th>\n",
       "    </tr>\n",
       "  </thead>\n",
       "  <tbody>\n",
       "    <tr>\n",
       "      <th>Means</th>\n",
       "      <td>2.0</td>\n",
       "      <td>2.860000</td>\n",
       "      <td>0.680372</td>\n",
       "      <td>701.620000</td>\n",
       "      <td>0.794754</td>\n",
       "      <td>0.680372</td>\n",
       "      <td>0.007313</td>\n",
       "      <td>0.773283</td>\n",
       "      <td>1.321234</td>\n",
       "    </tr>\n",
       "    <tr>\n",
       "      <th>STDs</th>\n",
       "      <td>0.0</td>\n",
       "      <td>0.350510</td>\n",
       "      <td>0.027759</td>\n",
       "      <td>27.002562</td>\n",
       "      <td>0.020967</td>\n",
       "      <td>0.027759</td>\n",
       "      <td>0.000619</td>\n",
       "      <td>0.016557</td>\n",
       "      <td>0.027822</td>\n",
       "    </tr>\n",
       "    <tr>\n",
       "      <th>Means</th>\n",
       "      <td>2.0</td>\n",
       "      <td>2.080000</td>\n",
       "      <td>0.538687</td>\n",
       "      <td>533.300000</td>\n",
       "      <td>0.584296</td>\n",
       "      <td>0.538687</td>\n",
       "      <td>0.010731</td>\n",
       "      <td>0.688688</td>\n",
       "      <td>1.461434</td>\n",
       "    </tr>\n",
       "    <tr>\n",
       "      <th>STDs</th>\n",
       "      <td>0.0</td>\n",
       "      <td>0.274048</td>\n",
       "      <td>0.016047</td>\n",
       "      <td>15.886395</td>\n",
       "      <td>0.018784</td>\n",
       "      <td>0.016047</td>\n",
       "      <td>0.000377</td>\n",
       "      <td>0.007869</td>\n",
       "      <td>0.016193</td>\n",
       "    </tr>\n",
       "  </tbody>\n",
       "</table>\n",
       "</div>"
      ],
      "text/plain": [
       "       radius  diameter  densities  number_of_edges  average_clustering  \\\n",
       "Means     2.0  2.860000   0.680372       701.620000            0.794754   \n",
       "STDs      0.0  0.350510   0.027759        27.002562            0.020967   \n",
       "Means     2.0  2.080000   0.538687       533.300000            0.584296   \n",
       "STDs      0.0  0.274048   0.016047        15.886395            0.018784   \n",
       "\n",
       "       avg_degree_centrality  avg_betweenness_centrality  \\\n",
       "Means               0.680372                    0.007313   \n",
       "STDs                0.027759                    0.000619   \n",
       "Means               0.538687                    0.010731   \n",
       "STDs                0.016047                    0.000377   \n",
       "\n",
       "       avg_closeness_centrality  average_shortest_path_length  \n",
       "Means                  0.773283                      1.321234  \n",
       "STDs                   0.016557                      0.027822  \n",
       "Means                  0.688688                      1.461434  \n",
       "STDs                   0.007869                      0.016193  "
      ]
     },
     "execution_count": 133,
     "metadata": {},
     "output_type": "execute_result"
    }
   ],
   "source": [
    "crossed_network_TwoReg_Ox_90_00_averged"
   ]
  },
  {
   "cell_type": "code",
   "execution_count": 134,
   "id": "0ba71256-9a98-4913-b87e-a1e29e5dc207",
   "metadata": {},
   "outputs": [],
   "source": [
    "crossed_network_TwoReg_Ox_90_00_averged.to_csv('Excels/19.csv')"
   ]
  },
  {
   "cell_type": "code",
   "execution_count": null,
   "id": "6bc24fc1-e3bd-450f-b507-f2f0528e8ba5",
   "metadata": {},
   "outputs": [],
   "source": []
  }
 ],
 "metadata": {
  "kernelspec": {
   "display_name": "Python 3 (ipykernel)",
   "language": "python",
   "name": "python3"
  },
  "language_info": {
   "codemirror_mode": {
    "name": "ipython",
    "version": 3
   },
   "file_extension": ".py",
   "mimetype": "text/x-python",
   "name": "python",
   "nbconvert_exporter": "python",
   "pygments_lexer": "ipython3",
   "version": "3.11.0"
  }
 },
 "nbformat": 4,
 "nbformat_minor": 5
}
